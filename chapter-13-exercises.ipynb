{
 "cells": [
  {
   "cell_type": "markdown",
   "id": "d331f4dc",
   "metadata": {
    "papermill": {
     "duration": 0.00484,
     "end_time": "2024-07-24T20:23:37.141717",
     "exception": false,
     "start_time": "2024-07-24T20:23:37.136877",
     "status": "completed"
    },
    "tags": []
   },
   "source": [
    "**Question - 9**\n",
    "--"
   ]
  },
  {
   "cell_type": "markdown",
   "id": "dff57a35",
   "metadata": {
    "papermill": {
     "duration": 0.004126,
     "end_time": "2024-07-24T20:23:37.150826",
     "exception": false,
     "start_time": "2024-07-24T20:23:37.146700",
     "status": "completed"
    },
    "tags": []
   },
   "source": [
    "Load the Fashion MNIST dataset; split it into a training set, a validation set, and a test set; shuffle the training set; and save each dataset to multiple TFRecord files. Each record should be a serialized Example protobuf with two features: the serialized image (use tf.io.serialize_tensor() to serialize each image), and the label. Note: for large images, you could use tf.io.encode_jpeg() instead. This would save a lot of space, but it would lose a bit of image quality."
   ]
  },
  {
   "cell_type": "code",
   "execution_count": 1,
   "id": "81404b3c",
   "metadata": {
    "execution": {
     "iopub.execute_input": "2024-07-24T20:23:37.161179Z",
     "iopub.status.busy": "2024-07-24T20:23:37.160777Z",
     "iopub.status.idle": "2024-07-24T20:23:51.731773Z",
     "shell.execute_reply": "2024-07-24T20:23:51.730466Z"
    },
    "papermill": {
     "duration": 14.579232,
     "end_time": "2024-07-24T20:23:51.734383",
     "exception": false,
     "start_time": "2024-07-24T20:23:37.155151",
     "status": "completed"
    },
    "tags": []
   },
   "outputs": [
    {
     "name": "stderr",
     "output_type": "stream",
     "text": [
      "2024-07-24 20:23:39.348568: E external/local_xla/xla/stream_executor/cuda/cuda_dnn.cc:9261] Unable to register cuDNN factory: Attempting to register factory for plugin cuDNN when one has already been registered\n",
      "2024-07-24 20:23:39.348752: E external/local_xla/xla/stream_executor/cuda/cuda_fft.cc:607] Unable to register cuFFT factory: Attempting to register factory for plugin cuFFT when one has already been registered\n",
      "2024-07-24 20:23:39.499432: E external/local_xla/xla/stream_executor/cuda/cuda_blas.cc:1515] Unable to register cuBLAS factory: Attempting to register factory for plugin cuBLAS when one has already been registered\n"
     ]
    }
   ],
   "source": [
    "from tensorflow.train import Int64List, BytesList, Feature, Features, Example\n",
    "import tensorflow as tf\n",
    "import matplotlib.pyplot as plt\n",
    "from pathlib import Path\n",
    "import numpy as np"
   ]
  },
  {
   "cell_type": "markdown",
   "id": "9552969c",
   "metadata": {
    "papermill": {
     "duration": 0.004314,
     "end_time": "2024-07-24T20:23:51.743383",
     "exception": false,
     "start_time": "2024-07-24T20:23:51.739069",
     "status": "completed"
    },
    "tags": []
   },
   "source": [
    "**Loading the MNIST Dataset**"
   ]
  },
  {
   "cell_type": "code",
   "execution_count": 2,
   "id": "844d5a8a",
   "metadata": {
    "execution": {
     "iopub.execute_input": "2024-07-24T20:23:51.755571Z",
     "iopub.status.busy": "2024-07-24T20:23:51.754257Z",
     "iopub.status.idle": "2024-07-24T20:23:52.842768Z",
     "shell.execute_reply": "2024-07-24T20:23:52.841455Z"
    },
    "papermill": {
     "duration": 1.099592,
     "end_time": "2024-07-24T20:23:52.847880",
     "exception": false,
     "start_time": "2024-07-24T20:23:51.748288",
     "status": "completed"
    },
    "tags": []
   },
   "outputs": [
    {
     "name": "stdout",
     "output_type": "stream",
     "text": [
      "Downloading data from https://storage.googleapis.com/tensorflow/tf-keras-datasets/train-labels-idx1-ubyte.gz\n",
      "\u001b[1m29515/29515\u001b[0m \u001b[32m━━━━━━━━━━━━━━━━━━━━\u001b[0m\u001b[37m\u001b[0m \u001b[1m0s\u001b[0m 0us/step\n",
      "Downloading data from https://storage.googleapis.com/tensorflow/tf-keras-datasets/train-images-idx3-ubyte.gz\n",
      "\u001b[1m26421880/26421880\u001b[0m \u001b[32m━━━━━━━━━━━━━━━━━━━━\u001b[0m\u001b[37m\u001b[0m \u001b[1m0s\u001b[0m 0us/step\n",
      "Downloading data from https://storage.googleapis.com/tensorflow/tf-keras-datasets/t10k-labels-idx1-ubyte.gz\n",
      "\u001b[1m5148/5148\u001b[0m \u001b[32m━━━━━━━━━━━━━━━━━━━━\u001b[0m\u001b[37m\u001b[0m \u001b[1m0s\u001b[0m 1us/step\n",
      "Downloading data from https://storage.googleapis.com/tensorflow/tf-keras-datasets/t10k-images-idx3-ubyte.gz\n",
      "\u001b[1m4422102/4422102\u001b[0m \u001b[32m━━━━━━━━━━━━━━━━━━━━\u001b[0m\u001b[37m\u001b[0m \u001b[1m0s\u001b[0m 0us/step\n",
      "<class 'tuple'>\n"
     ]
    }
   ],
   "source": [
    "fashion_mnist = tf.keras.datasets.fashion_mnist.load_data()\n",
    "print(type(fashion_mnist))"
   ]
  },
  {
   "cell_type": "code",
   "execution_count": 3,
   "id": "77b21cc2",
   "metadata": {
    "execution": {
     "iopub.execute_input": "2024-07-24T20:23:52.867450Z",
     "iopub.status.busy": "2024-07-24T20:23:52.866822Z",
     "iopub.status.idle": "2024-07-24T20:23:52.875749Z",
     "shell.execute_reply": "2024-07-24T20:23:52.874134Z"
    },
    "papermill": {
     "duration": 0.022306,
     "end_time": "2024-07-24T20:23:52.878850",
     "exception": false,
     "start_time": "2024-07-24T20:23:52.856544",
     "status": "completed"
    },
    "tags": []
   },
   "outputs": [
    {
     "name": "stdout",
     "output_type": "stream",
     "text": [
      "(60000, 28, 28)\n",
      "(10000, 28, 28)\n"
     ]
    }
   ],
   "source": [
    "(X_train, y_train), (X_test, y_test) = fashion_mnist\n",
    "print(X_train.shape)\n",
    "print(X_test.shape)"
   ]
  },
  {
   "cell_type": "markdown",
   "id": "b234c5ab",
   "metadata": {
    "papermill": {
     "duration": 0.005668,
     "end_time": "2024-07-24T20:23:52.890889",
     "exception": false,
     "start_time": "2024-07-24T20:23:52.885221",
     "status": "completed"
    },
    "tags": []
   },
   "source": [
    "**Creating the Validation Split**"
   ]
  },
  {
   "cell_type": "code",
   "execution_count": 4,
   "id": "313d8a81",
   "metadata": {
    "execution": {
     "iopub.execute_input": "2024-07-24T20:23:52.904194Z",
     "iopub.status.busy": "2024-07-24T20:23:52.903744Z",
     "iopub.status.idle": "2024-07-24T20:23:52.911162Z",
     "shell.execute_reply": "2024-07-24T20:23:52.910043Z"
    },
    "papermill": {
     "duration": 0.016836,
     "end_time": "2024-07-24T20:23:52.913498",
     "exception": false,
     "start_time": "2024-07-24T20:23:52.896662",
     "status": "completed"
    },
    "tags": []
   },
   "outputs": [
    {
     "name": "stdout",
     "output_type": "stream",
     "text": [
      "X_train (52000, 28, 28)\n",
      "y_train (52000,)\n",
      "X_valid (8000, 28, 28)\n",
      "y_valid (8000,)\n",
      "X_test (10000, 28, 28)\n",
      "y_test (10000,)\n"
     ]
    }
   ],
   "source": [
    "X_valid, y_valid = X_train[:8000], y_train[:8000]\n",
    "X_train, y_train = X_train[8000:], y_train[8000:]\n",
    "\n",
    "for name, _ in [[\"X_train\", X_train], [\"y_train\", y_train], \n",
    "                [\"X_valid\", X_valid], [\"y_valid\", y_valid], \n",
    "                [\"X_test\", X_test], [\"y_test\", y_test]]:\n",
    "    print(name, _.shape)"
   ]
  },
  {
   "cell_type": "code",
   "execution_count": 5,
   "id": "85f5f0cc",
   "metadata": {
    "execution": {
     "iopub.execute_input": "2024-07-24T20:23:52.928490Z",
     "iopub.status.busy": "2024-07-24T20:23:52.928091Z",
     "iopub.status.idle": "2024-07-24T20:23:53.227084Z",
     "shell.execute_reply": "2024-07-24T20:23:53.226019Z"
    },
    "papermill": {
     "duration": 0.309516,
     "end_time": "2024-07-24T20:23:53.230333",
     "exception": false,
     "start_time": "2024-07-24T20:23:52.920817",
     "status": "completed"
    },
    "tags": []
   },
   "outputs": [
    {
     "data": {
      "image/png": "[encoded data removed]",
      "text/plain": [
       "<Figure size 640x480 with 1 Axes>"
      ]
     },
     "metadata": {},
     "output_type": "display_data"
    }
   ],
   "source": [
    "plt.imshow(X_train[0])\n",
    "plt.title(f\"Image of {y_train[0]} before Encoding and Serialization\")\n",
    "plt.show()"
   ]
  },
  {
   "cell_type": "code",
   "execution_count": 6,
   "id": "df823bc8",
   "metadata": {
    "execution": {
     "iopub.execute_input": "2024-07-24T20:23:53.252018Z",
     "iopub.status.busy": "2024-07-24T20:23:53.251015Z",
     "iopub.status.idle": "2024-07-24T20:23:53.389676Z",
     "shell.execute_reply": "2024-07-24T20:23:53.388151Z"
    },
    "papermill": {
     "duration": 0.151218,
     "end_time": "2024-07-24T20:23:53.392473",
     "exception": false,
     "start_time": "2024-07-24T20:23:53.241255",
     "status": "completed"
    },
    "tags": []
   },
   "outputs": [],
   "source": [
    "# Creating and Shuffling the TensorSlice Dataset used for training\n",
    "train_set = tf.data.Dataset.from_tensor_slices((X_train, y_train), name=\"TrainingSet\")\n",
    "train_set = train_set.shuffle(10_000, seed=17)\n",
    "\n",
    "valid_set = tf.data.Dataset.from_tensor_slices((X_valid, y_valid), name=\"ValidationSet\")\n",
    "test_set = tf.data.Dataset.from_tensor_slices((X_test, y_test), name=\"TestingSet\")"
   ]
  },
  {
   "cell_type": "markdown",
   "id": "ee683761",
   "metadata": {
    "papermill": {
     "duration": 0.005894,
     "end_time": "2024-07-24T20:23:53.404701",
     "exception": false,
     "start_time": "2024-07-24T20:23:53.398807",
     "status": "completed"
    },
    "tags": []
   },
   "source": [
    "**Saving the Dataset into multiple serialized TFRecord Files**"
   ]
  },
  {
   "cell_type": "code",
   "execution_count": 7,
   "id": "cf5499a7",
   "metadata": {
    "execution": {
     "iopub.execute_input": "2024-07-24T20:23:53.418958Z",
     "iopub.status.busy": "2024-07-24T20:23:53.418544Z",
     "iopub.status.idle": "2024-07-24T20:23:53.528161Z",
     "shell.execute_reply": "2024-07-24T20:23:53.526955Z"
    },
    "papermill": {
     "duration": 0.119888,
     "end_time": "2024-07-24T20:23:53.530913",
     "exception": false,
     "start_time": "2024-07-24T20:23:53.411025",
     "status": "completed"
    },
    "tags": []
   },
   "outputs": [
    {
     "name": "stdout",
     "output_type": "stream",
     "text": [
      "features {\n",
      "  feature {\n",
      "    key: \"image\"\n",
      "    value {\n",
      "      bytes_list {\n",
      "        value: \"\\010\\004\\022\\010\\022\\002\\010\\034\\022\\002\\010\\034\\\"\\220\\006\\000\\000\\000\\000\\000\\000\\000\\000\\000\\000\\000\\002+:TX0\\000\\000\\000\\000\\001\\000\\000\\000\\000\\000\\000\\000\\000\\000\\000\\000\\000\\001\\000\\000\\035\\306\\367\\337\\336\\336\\343\\344\\351\\255\\027\\000\\000\\001\\000\\000\\000\\000\\000\\000\\000\\000\\000\\000\\000\\004\\0007\\353\\353\\271\\260\\312\\314\\320\\332\\317\\357\\3666\\000\\005\\000\\000\\000\\000\\000\\000\\000\\000\\000\\000\\000\\002\\000\\216\\376\\341\\317\\377\\377\\376\\372\\375\\251\\343\\354H\\000\\002\\001\\000\\000\\000\\000\\000\\000\\000\\000\\000\\001\\000\\000\\251\\334\\342\\210\\306\\304\\307\\344\\377\\233\\342\\244m\\000\\000\\000\\000\\000\\000\\000\\000\\000\\000\\000\\002\\000\\000~\\311\\344\\353\\345\\273\\343\\335\\374\\371\\254\\260\\244\\265\\236\\027\\000\\002\\000\\000\\000\\000\\000\\000\\000\\000\\000\\236\\307\\255\\265\\336\\365\\364\\347\\356\\375\\253\\301\\251\\225\\200\\235\\202\\000\\001\\000\\000\\000\\000\\000\\000\\000\\000\\014\\307\\265\\267\\262\\255\\303\\350\\351\\335\\277\\265\\254\\234\\211\\204\\205\\236\\010\\000\\000\\000\\000\\000\\000\\000\\000\\000P\\316\\261\\262\\245\\264\\265\\265\\325\\253\\214\\252\\234\\213\\205\\211~\\224,\\000\\000\\000\\000\\000\\000\\000\\000\\000\\207\\342\\301\\301\\272\\251\\256\\250\\256\\230\\210\\226\\215\\210\\207\\203\\211\\237Z\\000\\000\\000\\000\\000\\000\\000\\000\\000\\257\\335\\335\\300\\306\\270\\254\\230\\242\\332\\217\\222\\220\\207\\207\\207\\236\\235o\\000\\000\\000\\000\\000\\000\\000\\000\\000\\320\\310\\340\\324\\306\\274\\252\\231\\235\\272\\240\\222\\220\\206\\213\\216\\233\\234\\235\\000\\000\\000\\000\\000\\000\\000\\000\\000\\342\\310\\335\\326\\307\\306\\255\\243\\244\\264\\240\\237\\222\\214\\212\\240\\302\\205\\251\\000\\000\\000\\000\\000\\000\\000\\000\\000\\346\\302\\337\\332\\312\\310\\254\\247\\245\\264\\231\\231\\221\\216{\\215\\304\\212\\263\\030\\000\\000\\000\\000\\000\\000\\000\\014\\347\\275\\343\\340\\323\\305\\271\\261\\242\\303\\236\\234\\233\\217\\206\\244\\303\\210\\3030\\000\\000\\000\\000\\000\\000\\000(\\357\\305\\362\\340\\322\\303\\277\\267\\242\\320\\237\\242\\233\\243\\217\\306\\277\\211\\261@\\000\\000\\000\\000\\000\\000\\000<\\364\\300\\364\\357\\327\\310\\273\\264\\247\\310\\234\\243\\236\\214\\200\\345\\275\\220\\260H\\000\\000\\000\\000\\000\\000\\000B\\370\\267\\360\\365\\325\\322\\313\\260\\250\\314\\242\\236\\222\\220{\\334\\264\\201\\256T\\000\\000\\000\\000\\000\\000\\000M\\366\\300\\360\\360\\315\\326\\316\\256\\252\\321\\236\\256\\236\\220\\222\\303\\313\\216\\251_\\000\\000\\000\\000\\000\\000\\000V\\361\\274\\363\\353\\314\\331\\313\\263\\247\\324\\226\\234\\240\\222\\251\\236\\332\\232\\243`\\000\\000\\000\\000\\000\\000\\000Y\\362\\276\\370\\342\\322\\321\\306\\271\\262\\325\\251\\240\\241\\224\\231\\221\\334\\251\\255Z\\000\\000\\000\\000\\000\\000\\000Z\\362\\303\\372\\330\\331\\316\\311\\263\\270\\326\\244\\255\\241\\215\\245\\216\\333\\255\\266V\\000\\000\\000\\000\\000\\000\\000]\\357\\312\\371\\324\\330\\325\\300\\276\\300\\323\\247\\262\\243\\221\\247\\220\\314\\256\\272V\\000\\000\\000\\000\\000\\000\\000c\\355\\332\\364\\326\\335\\326\\301\\311\\276\\332\\243\\264\\251\\225\\244\\236\\304\\275\\255S\\000\\000\\000\\000\\000\\000\\000e\\341\\334\\346\\336\\337\\316\\302\\313\\272\\333\\247\\256\\250\\231\\236\\245\\307\\300\\250W\\000\\000\\000\\000\\000\\000\\000\\205\\345\\342\\370\\342\\327\\321\\305\\306\\271\\334\\254\\253\\263\\231\\231\\260\\335\\326\\270P\\000\\000\\000\\000\\000\\000\\0003\\362\\313\\250\\345\\377\\364\\341\\325\\310\\343\\277\\260\\271\\276\\314\\210X\\273\\220\\r\\000\\000\\000\\000\\000\\000\\000\\000\\000\\000\\000\\000W\\214\\251\\300\\275\\316\\270\\254\\226v1\\000\\000\\000\\000\\000\\000\\000\\000\"\n",
      "      }\n",
      "    }\n",
      "  }\n",
      "  feature {\n",
      "    key: \"label\"\n",
      "    value {\n",
      "      int64_list {\n",
      "        value: 4\n",
      "      }\n",
      "    }\n",
      "  }\n",
      "}\n",
      "\n"
     ]
    }
   ],
   "source": [
    "def serialize_instance(img, label):\n",
    "    \n",
    "    # Encoding the Image\n",
    "    serialized_img = tf.io.serialize_tensor(img)\n",
    "    \n",
    "    # Returning as an Example Protocol Buffer\n",
    "    return Example(\n",
    "        features=Features(\n",
    "            feature={\n",
    "                \"image\": Feature(bytes_list=BytesList(value=[serialized_img.numpy()])),\n",
    "                \"label\": Feature(int64_list=Int64List(value=[label]))\n",
    "            }\n",
    "        )\n",
    "    )\n",
    "\n",
    "# Verification\n",
    "for img, label in train_set.take(1):\n",
    "    print(serialize_instance(img, label))"
   ]
  },
  {
   "cell_type": "markdown",
   "id": "8ce89458",
   "metadata": {
    "papermill": {
     "duration": 0.005978,
     "end_time": "2024-07-24T20:23:53.543344",
     "exception": false,
     "start_time": "2024-07-24T20:23:53.537366",
     "status": "completed"
    },
    "tags": []
   },
   "source": [
    "**Naive Approach**"
   ]
  },
  {
   "cell_type": "code",
   "execution_count": 8,
   "id": "2a718dbc",
   "metadata": {
    "execution": {
     "iopub.execute_input": "2024-07-24T20:23:53.557706Z",
     "iopub.status.busy": "2024-07-24T20:23:53.557308Z",
     "iopub.status.idle": "2024-07-24T20:24:01.875752Z",
     "shell.execute_reply": "2024-07-24T20:24:01.874634Z"
    },
    "papermill": {
     "duration": 8.328927,
     "end_time": "2024-07-24T20:24:01.878505",
     "exception": false,
     "start_time": "2024-07-24T20:23:53.549578",
     "status": "completed"
    },
    "tags": []
   },
   "outputs": [],
   "source": [
    "def set_to_record(name, set_, n_parts=10):\n",
    "    \n",
    "    # Splitting the Indices into Chucks for storage as TFRecords\n",
    "    indices = np.arange(len(set_))\n",
    "    chunks = np.array_split(indices, n_parts) \n",
    "    \n",
    "    # Creating the Storage Path\n",
    "    storage_path = Path() / \"naive\"\n",
    "    storage_path.mkdir(parents=True, exist_ok=True)\n",
    "    \n",
    "    # File name format for all the files\n",
    "    file_format = \"{}-set-{:02d}.tfrecord\"\n",
    "    \n",
    "    compression_op = tf.io.TFRecordOptions(compression_type=\"GZIP\")\n",
    "    file_paths = []\n",
    "    for idx, chunk in enumerate(chunks):\n",
    "        file_path = str(storage_path / file_format.format(name, idx))\n",
    "        file_paths.append(file_path)\n",
    "        \n",
    "        with tf.io.TFRecordWriter(file_path, compression_op) as tfrecord:\n",
    "            for instance in chunk:\n",
    "                serialized = serialize_instance(X_train[instance], y_train[instance])\n",
    "                tfrecord.write(serialized.SerializeToString())\n",
    "                tfrecord.write(\"\\n\")\n",
    "    \n",
    "    return file_paths\n",
    "\n",
    "# Verification\n",
    "ex_file_paths = set_to_record(\"Training\", X_train)\n",
    "\n",
    "# Used for testing the Indices from the np.array_split()\n",
    "# for instance in chunk:\n",
    "#     print(\"Instance: \", instance)\n",
    "#     print(\"Len: \", len(chunk))\n",
    "#     break "
   ]
  },
  {
   "cell_type": "markdown",
   "id": "b91e4942",
   "metadata": {
    "execution": {
     "iopub.execute_input": "2024-07-24T18:43:22.941303Z",
     "iopub.status.busy": "2024-07-24T18:43:22.940899Z",
     "iopub.status.idle": "2024-07-24T18:43:22.947082Z",
     "shell.execute_reply": "2024-07-24T18:43:22.945827Z",
     "shell.execute_reply.started": "2024-07-24T18:43:22.941276Z"
    },
    "papermill": {
     "duration": 0.006138,
     "end_time": "2024-07-24T20:24:01.891250",
     "exception": false,
     "start_time": "2024-07-24T20:24:01.885112",
     "status": "completed"
    },
    "tags": []
   },
   "source": [
    "**Loading and Parsing the TFRecords in Parallel**"
   ]
  },
  {
   "cell_type": "code",
   "execution_count": 9,
   "id": "7fbf0f7d",
   "metadata": {
    "execution": {
     "iopub.execute_input": "2024-07-24T20:24:01.905628Z",
     "iopub.status.busy": "2024-07-24T20:24:01.905244Z",
     "iopub.status.idle": "2024-07-24T20:24:02.298355Z",
     "shell.execute_reply": "2024-07-24T20:24:02.297270Z"
    },
    "papermill": {
     "duration": 0.403122,
     "end_time": "2024-07-24T20:24:02.300759",
     "exception": false,
     "start_time": "2024-07-24T20:24:01.897637",
     "status": "completed"
    },
    "tags": []
   },
   "outputs": [
    {
     "name": "stdout",
     "output_type": "stream",
     "text": [
      "Serialized Information before Parsing\n",
      "tf.Tensor(b'\\n\\xc2\\x06\\n\\xaf\\x06\\n\\x05image\\x12\\xa5\\x06\\n\\xa2\\x06\\n\\x9f\\x06\\x08\\x04\\x12\\x08\\x12\\x02\\x08\\x1c\\x12\\x02\\x08\\x1c\"\\x90\\x06\\x00\\x00\\x00\\x00\\x00\\x00\\x00\\x00\\x00\\x00\\x00\\x00\\x00\\x00\\x00\\x00\\x00\\x00\\x00\\x00\\x00\\x00\\x00\\x00\\x00\\x00\\x00\\x00\\x00\\x00\\x00\\x00\\x00\\x00\\x00\\x00\\x00\\x00\\x00\\x00\\x00\\x00\\x00\\x00\\x00\\x00\\x00\\x00\\x00\\x00\\x00\\x00\\x00\\x00\\x00\\x00\\x00\\x00\\x00\\x00\\x00\\x00\\x00\\x00\\x00\\x00\\x00\\x00\\x00\\x00\\x00\\x00\\x00\\x00\\x00\\x00\\x00\\x00\\x00\\x00\\x00\\x00\\x00\\x00\\x00\\x00\\x00\\x00\\x00\\x00\\x00\\x00\\x00\\x00\\x00\\x00\\x00\\x00\\x00\\x00\\x00\\x00\\x00\\x00\\x00\\x00\\x00\\x00\\x00\\x00\\x00\\x00\\x00\\x00\\x00\\x00\\x00\\x00\\x00\\x00\\x00\\x00\\x00\\x00\\x00\\x00\\x00\\x00\\x00\\x00\\x00\\x00\\x00\\x00\\x00\\x85\\'\\x00\\x00\\x00\\x00\\x00\\x00\\x00\\x00\\x00\\x00\\x00\\x00\\x00\\x00\\x00\\x00\\x00\\x00\\x02\\x02\\x00\\x00\\x11\\x181[o\\x8a\\x04\\x00\\x00\\x00\\x00\\x00\\x00\\x00\\x00\\x00\\x00\\x00\\x00\\x00\\x00\\x00\\x02\\x02\\x00\\x00\\x04j\\xb9\\xc3``q\\x9e\\x8d\\x00\\x00\\x00\\x00\\x00\\x00\\x00\\x00\\x00\\x00\\x02\\x04\\x00\\x00\\x02\\x00\\x00\\x07Y\\x88qg\\x11\\x00\\x00Y\\x9e\\x9ec\\x00\\x00\\x00\\x00\\x00\\x00\\x00\\x00\\x00\\x00\\x00\\x00\\x00\\x00\\x00c\\x8fB\\x02\\x00\\x00\\x00\\x00\\x00t\\xa5\\x99\\xa3\\x00\\x00\\x00\\x00\\x00\\x00\\x00\\x00\\x00\\x00\\x00\\x00\\x00Q\\x99G\\x00\\x00\\x00\\x02\\x04\\x02\\x00\\x00\\xc3\\xad\\x8d\\xa5\\x16\\x00\\x00\\x00\\x00\\x00\\x00\\x00\\x00\\x00\\x00\\x00e\\x99\\x00\\x00\\x00\\x07\\t\\x02\\x00\\x00\\x00`\\xc1\\xad\\x8f\\x9e@\\x00\\x00\\x00\\x00\\x00\\x00\\x00\\x00\\x04\\x00,\\xb4\\x00\\x00\\x07\\x02\\x00\\x02\\x00\\x02\\x00\\x00\\xc6\\xb7\\xa5\\x8a\\xa0[\\x00\\x00\\x00\\x00\\x00\\x00\\x00\\x00\\x02\\x00g\\t\\x00\\x04\\x00\\x02\\x00\\x00\\x02\\x00\\x00,\\xbe\\xa0\\x8d\\x80\\xa8\\x18\\x00\\x00\\x00\\x00\\x00\\x00\\x00\\x00\\x00\\x00l\\x00\\x00\\x00\\x00\\x02\\x00\\x02\\x00\\x00\\x00y\\x9eto\\x99O\\x00\\x00\\x00\\x00\\x00\\x00\\x00\\x00\\x00\\x07\\x00\\xa0J\\x00\\x02\\x00\\x00\\x00\\x00\\x00@\\xb4\\xafojy\\x8a\\x00\\x00\\x00\\x00\\x00\\x00\\x00\\x00\\x00\\x00\\x00\\x00[\\xaf\\x00\\x02\\x00\\x00\\x00\\x00j\\x9b\\xaa\\x8a\\x8d\\x88\\x99B\\x00\\x00\\x00\\x00\\x00\\x00\\x00\\x00\\x02\\x00\\x13yL{c\\x00\\t\\x00\\x00V\\xad\\x9e\\x04\\x00q\\xa3\\x97\\x00\\x00\\x00\\x00\\x00\\x00\\x00\\x00\\x00\\x00\\x00\\x02\\x94\\xaaB\\xc3\\x07\\x00\\x001\\xb2\\xaa\\x00\\x00\\x00l\\xb2`\\x00\\x00\\x00\\x00\\x00\\x00\\x00\\x00\\x00\\x00\\x16O/\\x8d\\x80c~\\x00\\x13\\x97\\xb9\\x02\\x00\\x07\\x00c\\xb7\\'\\x00\\x04\\x00\\x00\\x00\\x02\\x02\\x00L\\x9e/\\x80\\x88G\\xcd\\x8a\\x97\\x02T\\xcb3\\x00\\x00\\x00\\x00c\\xb9\\x0e\\x00\\x02\\x00\\x02\\x00\\x00\\x00\\x00\\x97\\tc\\x04\\xfa\\x00~\\xe8\\xafJ\\xaa\\xaf\\x00\\x00\\x00\\x02\\x00e\\xb7\\x00\\x00\\x00\\x00\\x00\\x00\\x02\\x02\\x07`\\x00\\tQ`\\x8d\\x00O\\x92\\x99\\xc6\\x04\\x00\\x02\\x00\\x02\\x00g\\xaf\\x00\\x00\\x00\\x00QyVj[q\\xad\"{lo\\x00;\\x85\\xcdo\\x00\\x00\\x00\\x00\\x07\\x00Y\\x94\\x00\\x00\\x00\\x006\\x8f\\x88\\x8d\\x99\\x99\\xcby\\xb4\\x8dVt\\xc6\\xdc\\x9b\\x00\\x00\\x00\\x00\\x00\\t\\x00\\x83\\xfe\\x00\\x00\\x02\\x00\\x00\\x00\\x00\\x00\\'B^t\\xaf\\xb7\\xaf\\xd9y\\x0c\\x00\\x00\\x00\\x04\\x00\\x00\\x04\\x001\\x83\\x00\\x00\\x00\\x00\\x00\\x00\\x00\\x00\\x00\\x00\\x00\\x00\\x00\\x00\\x00\\x00\\x00\\x00\\x00\\x00\\x00\\x00\\x00\\x00\\x00\\x00\\x00\\x00\\x00\\x00\\x00\\x00\\x00\\x00\\x00\\x00\\x00\\x00\\x00\\x00\\x00\\x00\\x00\\x00\\x00\\x00\\x00\\x00\\x00\\x00\\x00\\x00\\x00\\x00\\x00\\x00\\x00\\x00\\x00\\x00\\x00\\x00\\x00\\x00\\x00\\x00\\x00\\x00\\x00\\x00\\x00\\x00\\x00\\x00\\x00\\x00\\x00\\x00\\x00\\x00\\x00\\x00\\x00\\x00\\x00\\x00\\x00\\x00\\n\\x0e\\n\\x05label\\x12\\x05\\x1a\\x03\\n\\x01\\x05', shape=(), dtype=string)\n",
      "\n",
      "\n",
      "Serialized Information after Parsing\n"
     ]
    },
    {
     "data": {
      "image/png": "[encoded data removed]",
      "text/plain": [
       "<Figure size 640x480 with 1 Axes>"
      ]
     },
     "metadata": {},
     "output_type": "display_data"
    }
   ],
   "source": [
    "# Feature Description to Parse against the Serialized data in the protobuff\n",
    "feature_description = {\n",
    "    \"image\": tf.io.FixedLenFeature([], tf.string, default_value=\"\"),\n",
    "    \"label\": tf.io.FixedLenFeature([], tf.int64, default_value=-1)\n",
    "}\n",
    "\n",
    "def parse_serialized_data(serialized_instance):\n",
    "    # Step - 1: Remove the Serialization by Parsing the Feature Description\n",
    "    encoded_image_data = tf.io.parse_single_example(serialized_instance, feature_description)\n",
    "    \n",
    "    # Step - 2: Decode the Encoded Image\n",
    "    image_data = tf.io.parse_tensor(encoded_image_data[\"image\"], out_type=tf.uint8)\n",
    "    \n",
    "    # Reshape and Return\n",
    "    image = tf.reshape(image_data, shape=[28, 28])\n",
    "    return image, encoded_image_data[\"label\"]\n",
    "\n",
    "# Verification\n",
    "example_dataset = tf.data.TFRecordDataset(ex_file_paths[0], compression_type=\"GZIP\")\n",
    "instance = example_dataset.take(1)\n",
    "\n",
    "print(\"Serialized Information before Parsing\")\n",
    "for i in instance:\n",
    "    print(i)\n",
    "\n",
    "print(\"\\n\\nSerialized Information after Parsing\")\n",
    "parsed_image = list(instance.map(parse_serialized_data))[0]\n",
    "plt.imshow(parsed_image[0].numpy())\n",
    "plt.title(f\"Image of {parsed_image[1].numpy()} after Parsing and Serialization\")\n",
    "plt.show()"
   ]
  },
  {
   "cell_type": "code",
   "execution_count": 10,
   "id": "dc339205",
   "metadata": {
    "execution": {
     "iopub.execute_input": "2024-07-24T20:24:02.317244Z",
     "iopub.status.busy": "2024-07-24T20:24:02.316449Z",
     "iopub.status.idle": "2024-07-24T20:24:02.353165Z",
     "shell.execute_reply": "2024-07-24T20:24:02.351971Z"
    },
    "papermill": {
     "duration": 0.047404,
     "end_time": "2024-07-24T20:24:02.355864",
     "exception": false,
     "start_time": "2024-07-24T20:24:02.308460",
     "status": "completed"
    },
    "tags": []
   },
   "outputs": [],
   "source": [
    "def create_interleaved_dataset(filepaths, n_read_threads=5, shuffle_buffer_size=None, \n",
    "                               n_parse_threads=5, batch_size=32, cache=False):\n",
    "    \n",
    "    # Creating the TFRecord Dataset containing Serialized Information\n",
    "    serialized_dataset = tf.data.TFRecordDataset(\n",
    "        filepaths, num_parallel_reads=n_read_threads, compression_type=\"GZIP\"\n",
    "    )\n",
    "    \n",
    "    # Caching the Data for better Efficiency\n",
    "    if cache:\n",
    "        serialized_dataset = serialized_dataset.cache()\n",
    "        \n",
    "    # Shuffling the Data\n",
    "    if shuffle_buffer_size:\n",
    "        serialized_dataset = serialized_dataset.shuffle(shuffle_buffer_size)\n",
    "        \n",
    "    # Parsing all the Serialzed Instances of the Dataset in Parallel\n",
    "    dataset = serialized_dataset.map(parse_serialized_data, num_parallel_calls=n_parse_threads)\n",
    "        \n",
    "    '''# Batching and Prefetching\n",
    "    dataset = dataset.batch(batch_size)\n",
    "    for i in dataset.take(2):\n",
    "        print(i)\n",
    "        \n",
    "    return dataset.prefetch(1)'''\n",
    "\n",
    "create_interleaved_dataset(ex_file_paths)\n",
    "# Verification\n",
    "# dataset = create_interleaved_dataset(filepaths=ex_file_paths, shuffle_buffer_size=10_000)\n",
    "# for i in dataset.take(2):\n",
    "#     print(i)"
   ]
  },
  {
   "cell_type": "code",
   "execution_count": 11,
   "id": "01f80758",
   "metadata": {
    "execution": {
     "iopub.execute_input": "2024-07-24T20:24:02.371277Z",
     "iopub.status.busy": "2024-07-24T20:24:02.370860Z",
     "iopub.status.idle": "2024-07-24T20:24:02.468666Z",
     "shell.execute_reply": "2024-07-24T20:24:02.467679Z"
    },
    "papermill": {
     "duration": 0.108567,
     "end_time": "2024-07-24T20:24:02.471263",
     "exception": false,
     "start_time": "2024-07-24T20:24:02.362696",
     "status": "completed"
    },
    "tags": []
   },
   "outputs": [],
   "source": [
    "# Creating and Shuffling the TensorSlice Dataset used for training\n",
    "train_set = tf.data.Dataset.from_tensor_slices((X_train, y_train), name=\"TrainingSet\")\n",
    "train_set = train_set.shuffle(10_000, seed=17)\n",
    "\n",
    "valid_set = tf.data.Dataset.from_tensor_slices((X_valid, y_valid), name=\"ValidationSet\")\n",
    "test_set = tf.data.Dataset.from_tensor_slices((X_test, y_test), name=\"TestingSet\")"
   ]
  }
 ],
 "metadata": {
  "kaggle": {
   "accelerator": "none",
   "dataSources": [],
   "dockerImageVersionId": 30746,
   "isGpuEnabled": false,
   "isInternetEnabled": true,
   "language": "python",
   "sourceType": "notebook"
  },
  "kernelspec": {
   "display_name": "Python 3",
   "language": "python",
   "name": "python3"
  },
  "language_info": {
   "codemirror_mode": {
    "name": "ipython",
    "version": 3
   },
   "file_extension": ".py",
   "mimetype": "text/x-python",
   "name": "python",
   "nbconvert_exporter": "python",
   "pygments_lexer": "ipython3",
   "version": "3.10.13"
  },
  "papermill": {
   "default_parameters": {},
   "duration": 29.631485,
   "end_time": "2024-07-24T20:24:04.002753",
   "environment_variables": {},
   "exception": null,
   "input_path": "__notebook__.ipynb",
   "output_path": "__notebook__.ipynb",
   "parameters": {},
   "start_time": "2024-07-24T20:23:34.371268",
   "version": "2.5.0"
  }
 },
 "nbformat": 4,
 "nbformat_minor": 5
}
