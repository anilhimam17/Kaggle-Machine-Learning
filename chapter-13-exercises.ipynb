{
 "cells": [
  {
   "cell_type": "markdown",
   "id": "0c00f17f",
   "metadata": {
    "papermill": {
     "duration": 0.01238,
     "end_time": "2024-07-27T07:31:48.444446",
     "exception": false,
     "start_time": "2024-07-27T07:31:48.432066",
     "status": "completed"
    },
    "tags": []
   },
   "source": [
    "**Question - 9**\n",
    "--"
   ]
  },
  {
   "cell_type": "markdown",
   "id": "a7f88de1",
   "metadata": {
    "papermill": {
     "duration": 0.011381,
     "end_time": "2024-07-27T07:31:48.467999",
     "exception": false,
     "start_time": "2024-07-27T07:31:48.456618",
     "status": "completed"
    },
    "tags": []
   },
   "source": [
    "**Part - 1**\n",
    "- Load the Fashion MNIST dataset; split it into a training set, a validation set, and a test set; shuffle the training set; and save each dataset to multiple TFRecord files. Each record should be a serialized Example protobuf with two features: the serialized image (use tf.io.serialize_tensor() to serialize each image), and the label. Note: for large images, you could use tf.io.encode_jpeg() instead. This would save a lot of space, but it would lose a bit of image quality. \n",
    "\n",
    "**Part - 2**\n",
    "- Then use tf.data to create an efficient dataset for each set. Finally, use a Keras model to train these datasets, including a preprocessing layer to standardize each input feature. Try to make the input pipeline as efficient as possible, using TensorBoard to visualize profiling data."
   ]
  },
  {
   "cell_type": "code",
   "execution_count": 1,
   "id": "e1f15973",
   "metadata": {
    "execution": {
     "iopub.execute_input": "2024-07-27T07:31:48.494331Z",
     "iopub.status.busy": "2024-07-27T07:31:48.493287Z",
     "iopub.status.idle": "2024-07-27T07:32:03.389931Z",
     "shell.execute_reply": "2024-07-27T07:32:03.388714Z"
    },
    "papermill": {
     "duration": 14.912993,
     "end_time": "2024-07-27T07:32:03.392937",
     "exception": false,
     "start_time": "2024-07-27T07:31:48.479944",
     "status": "completed"
    },
    "tags": []
   },
   "outputs": [
    {
     "name": "stderr",
     "output_type": "stream",
     "text": [
      "2024-07-27 07:31:50.439311: E external/local_xla/xla/stream_executor/cuda/cuda_dnn.cc:9261] Unable to register cuDNN factory: Attempting to register factory for plugin cuDNN when one has already been registered\n",
      "2024-07-27 07:31:50.439462: E external/local_xla/xla/stream_executor/cuda/cuda_fft.cc:607] Unable to register cuFFT factory: Attempting to register factory for plugin cuFFT when one has already been registered\n",
      "2024-07-27 07:31:50.574055: E external/local_xla/xla/stream_executor/cuda/cuda_blas.cc:1515] Unable to register cuBLAS factory: Attempting to register factory for plugin cuBLAS when one has already been registered\n"
     ]
    }
   ],
   "source": [
    "from tensorflow.train import Int64List, BytesList, Feature, Features, Example\n",
    "import tensorflow as tf\n",
    "import matplotlib.pyplot as plt\n",
    "from functools import partial\n",
    "from contextlib import ExitStack\n",
    "from pathlib import Path\n",
    "import numpy as np"
   ]
  },
  {
   "cell_type": "markdown",
   "id": "41ae2bd9",
   "metadata": {
    "papermill": {
     "duration": 0.011576,
     "end_time": "2024-07-27T07:32:03.416793",
     "exception": false,
     "start_time": "2024-07-27T07:32:03.405217",
     "status": "completed"
    },
    "tags": []
   },
   "source": [
    "**Loading the MNIST Dataset**\n",
    "--"
   ]
  },
  {
   "cell_type": "code",
   "execution_count": 2,
   "id": "4787d11a",
   "metadata": {
    "execution": {
     "iopub.execute_input": "2024-07-27T07:32:03.442996Z",
     "iopub.status.busy": "2024-07-27T07:32:03.442249Z",
     "iopub.status.idle": "2024-07-27T07:32:04.497249Z",
     "shell.execute_reply": "2024-07-27T07:32:04.496100Z"
    },
    "papermill": {
     "duration": 1.071224,
     "end_time": "2024-07-27T07:32:04.499978",
     "exception": false,
     "start_time": "2024-07-27T07:32:03.428754",
     "status": "completed"
    },
    "tags": []
   },
   "outputs": [
    {
     "name": "stdout",
     "output_type": "stream",
     "text": [
      "Downloading data from https://storage.googleapis.com/tensorflow/tf-keras-datasets/train-labels-idx1-ubyte.gz\n",
      "\u001b[1m29515/29515\u001b[0m \u001b[32m━━━━━━━━━━━━━━━━━━━━\u001b[0m\u001b[37m\u001b[0m \u001b[1m0s\u001b[0m 0us/step\n",
      "Downloading data from https://storage.googleapis.com/tensorflow/tf-keras-datasets/train-images-idx3-ubyte.gz\n",
      "\u001b[1m26421880/26421880\u001b[0m \u001b[32m━━━━━━━━━━━━━━━━━━━━\u001b[0m\u001b[37m\u001b[0m \u001b[1m0s\u001b[0m 0us/step\n",
      "Downloading data from https://storage.googleapis.com/tensorflow/tf-keras-datasets/t10k-labels-idx1-ubyte.gz\n",
      "\u001b[1m5148/5148\u001b[0m \u001b[32m━━━━━━━━━━━━━━━━━━━━\u001b[0m\u001b[37m\u001b[0m \u001b[1m0s\u001b[0m 1us/step\n",
      "Downloading data from https://storage.googleapis.com/tensorflow/tf-keras-datasets/t10k-images-idx3-ubyte.gz\n",
      "\u001b[1m4422102/4422102\u001b[0m \u001b[32m━━━━━━━━━━━━━━━━━━━━\u001b[0m\u001b[37m\u001b[0m \u001b[1m0s\u001b[0m 0us/step\n",
      "<class 'tuple'>\n"
     ]
    }
   ],
   "source": [
    "fashion_mnist = tf.keras.datasets.fashion_mnist.load_data()\n",
    "print(type(fashion_mnist))"
   ]
  },
  {
   "cell_type": "code",
   "execution_count": 3,
   "id": "e7e2ef8c",
   "metadata": {
    "execution": {
     "iopub.execute_input": "2024-07-27T07:32:04.529905Z",
     "iopub.status.busy": "2024-07-27T07:32:04.529550Z",
     "iopub.status.idle": "2024-07-27T07:32:04.535846Z",
     "shell.execute_reply": "2024-07-27T07:32:04.534614Z"
    },
    "papermill": {
     "duration": 0.023989,
     "end_time": "2024-07-27T07:32:04.538742",
     "exception": false,
     "start_time": "2024-07-27T07:32:04.514753",
     "status": "completed"
    },
    "tags": []
   },
   "outputs": [
    {
     "name": "stdout",
     "output_type": "stream",
     "text": [
      "(60000, 28, 28)\n",
      "(10000, 28, 28)\n"
     ]
    }
   ],
   "source": [
    "(X_train, y_train), (X_test, y_test) = fashion_mnist\n",
    "print(X_train.shape)\n",
    "print(X_test.shape)"
   ]
  },
  {
   "cell_type": "markdown",
   "id": "81ae8b05",
   "metadata": {
    "papermill": {
     "duration": 0.01324,
     "end_time": "2024-07-27T07:32:04.566329",
     "exception": false,
     "start_time": "2024-07-27T07:32:04.553089",
     "status": "completed"
    },
    "tags": []
   },
   "source": [
    "**Creating the Validation Split**\n",
    "--"
   ]
  },
  {
   "cell_type": "code",
   "execution_count": 4,
   "id": "a13b4ac1",
   "metadata": {
    "execution": {
     "iopub.execute_input": "2024-07-27T07:32:04.596186Z",
     "iopub.status.busy": "2024-07-27T07:32:04.595330Z",
     "iopub.status.idle": "2024-07-27T07:32:04.603220Z",
     "shell.execute_reply": "2024-07-27T07:32:04.601973Z"
    },
    "papermill": {
     "duration": 0.02598,
     "end_time": "2024-07-27T07:32:04.606087",
     "exception": false,
     "start_time": "2024-07-27T07:32:04.580107",
     "status": "completed"
    },
    "tags": []
   },
   "outputs": [
    {
     "name": "stdout",
     "output_type": "stream",
     "text": [
      "X_train (52000, 28, 28)\n",
      "y_train (52000,)\n",
      "X_valid (8000, 28, 28)\n",
      "y_valid (8000,)\n",
      "X_test (10000, 28, 28)\n",
      "y_test (10000,)\n"
     ]
    }
   ],
   "source": [
    "X_valid, y_valid = X_train[:8000], y_train[:8000]\n",
    "X_train, y_train = X_train[8000:], y_train[8000:]\n",
    "\n",
    "for name, _ in [[\"X_train\", X_train], [\"y_train\", y_train], \n",
    "                [\"X_valid\", X_valid], [\"y_valid\", y_valid], \n",
    "                [\"X_test\", X_test], [\"y_test\", y_test]]:\n",
    "    print(name, _.shape)"
   ]
  },
  {
   "cell_type": "code",
   "execution_count": 5,
   "id": "7323a96b",
   "metadata": {
    "execution": {
     "iopub.execute_input": "2024-07-27T07:32:04.635892Z",
     "iopub.status.busy": "2024-07-27T07:32:04.635028Z",
     "iopub.status.idle": "2024-07-27T07:32:04.920171Z",
     "shell.execute_reply": "2024-07-27T07:32:04.918915Z"
    },
    "papermill": {
     "duration": 0.303003,
     "end_time": "2024-07-27T07:32:04.922919",
     "exception": false,
     "start_time": "2024-07-27T07:32:04.619916",
     "status": "completed"
    },
    "tags": []
   },
   "outputs": [
    {
     "data": {
      "image/png": "[encoded data removed]",
      "text/plain": [
       "<Figure size 640x480 with 1 Axes>"
      ]
     },
     "metadata": {},
     "output_type": "display_data"
    }
   ],
   "source": [
    "plt.imshow(X_train[0])\n",
    "plt.title(f\"Image of {y_train[0]} before Encoding and Serialization\")\n",
    "plt.show()"
   ]
  },
  {
   "cell_type": "markdown",
   "id": "de41ffcd",
   "metadata": {
    "papermill": {
     "duration": 0.013823,
     "end_time": "2024-07-27T07:32:04.951046",
     "exception": false,
     "start_time": "2024-07-27T07:32:04.937223",
     "status": "completed"
    },
    "tags": []
   },
   "source": [
    "**Creating datasets from TensorSlices**\n",
    "--"
   ]
  },
  {
   "cell_type": "code",
   "execution_count": 6,
   "id": "6c155e3e",
   "metadata": {
    "execution": {
     "iopub.execute_input": "2024-07-27T07:32:04.981337Z",
     "iopub.status.busy": "2024-07-27T07:32:04.980588Z",
     "iopub.status.idle": "2024-07-27T07:32:07.826317Z",
     "shell.execute_reply": "2024-07-27T07:32:07.825331Z"
    },
    "papermill": {
     "duration": 2.863911,
     "end_time": "2024-07-27T07:32:07.829197",
     "exception": false,
     "start_time": "2024-07-27T07:32:04.965286",
     "status": "completed"
    },
    "tags": []
   },
   "outputs": [],
   "source": [
    "# Creating and Shuffling the TensorSlice Dataset used for training\n",
    "train_set = tf.data.Dataset.from_tensor_slices((X_train, y_train), name=\"TrainingSet\")\n",
    "train_set = train_set.shuffle(10_000, seed=17)\n",
    "\n",
    "valid_set = tf.data.Dataset.from_tensor_slices((X_valid, y_valid), name=\"ValidationSet\")\n",
    "test_set = tf.data.Dataset.from_tensor_slices((X_test, y_test), name=\"TestingSet\")"
   ]
  },
  {
   "cell_type": "markdown",
   "id": "11a286c7",
   "metadata": {
    "papermill": {
     "duration": 0.013789,
     "end_time": "2024-07-27T07:32:07.857300",
     "exception": false,
     "start_time": "2024-07-27T07:32:07.843511",
     "status": "completed"
    },
    "tags": []
   },
   "source": [
    "**Saving the Dataset into multiple serialized Example Protocol Buffers**\n",
    "--"
   ]
  },
  {
   "cell_type": "code",
   "execution_count": 7,
   "id": "59312437",
   "metadata": {
    "execution": {
     "iopub.execute_input": "2024-07-27T07:32:07.887588Z",
     "iopub.status.busy": "2024-07-27T07:32:07.886675Z",
     "iopub.status.idle": "2024-07-27T07:32:07.987229Z",
     "shell.execute_reply": "2024-07-27T07:32:07.985989Z"
    },
    "papermill": {
     "duration": 0.118662,
     "end_time": "2024-07-27T07:32:07.990085",
     "exception": false,
     "start_time": "2024-07-27T07:32:07.871423",
     "status": "completed"
    },
    "tags": []
   },
   "outputs": [
    {
     "name": "stdout",
     "output_type": "stream",
     "text": [
      "features {\n",
      "  feature {\n",
      "    key: \"image\"\n",
      "    value {\n",
      "      bytes_list {\n",
      "        value: \"\\010\\004\\022\\010\\022\\002\\010\\034\\022\\002\\010\\034\\\"\\220\\006\\000\\000\\000\\000\\000\\000\\000\\000\\000\\000\\000\\002+:TX0\\000\\000\\000\\000\\001\\000\\000\\000\\000\\000\\000\\000\\000\\000\\000\\000\\000\\001\\000\\000\\035\\306\\367\\337\\336\\336\\343\\344\\351\\255\\027\\000\\000\\001\\000\\000\\000\\000\\000\\000\\000\\000\\000\\000\\000\\004\\0007\\353\\353\\271\\260\\312\\314\\320\\332\\317\\357\\3666\\000\\005\\000\\000\\000\\000\\000\\000\\000\\000\\000\\000\\000\\002\\000\\216\\376\\341\\317\\377\\377\\376\\372\\375\\251\\343\\354H\\000\\002\\001\\000\\000\\000\\000\\000\\000\\000\\000\\000\\001\\000\\000\\251\\334\\342\\210\\306\\304\\307\\344\\377\\233\\342\\244m\\000\\000\\000\\000\\000\\000\\000\\000\\000\\000\\000\\002\\000\\000~\\311\\344\\353\\345\\273\\343\\335\\374\\371\\254\\260\\244\\265\\236\\027\\000\\002\\000\\000\\000\\000\\000\\000\\000\\000\\000\\236\\307\\255\\265\\336\\365\\364\\347\\356\\375\\253\\301\\251\\225\\200\\235\\202\\000\\001\\000\\000\\000\\000\\000\\000\\000\\000\\014\\307\\265\\267\\262\\255\\303\\350\\351\\335\\277\\265\\254\\234\\211\\204\\205\\236\\010\\000\\000\\000\\000\\000\\000\\000\\000\\000P\\316\\261\\262\\245\\264\\265\\265\\325\\253\\214\\252\\234\\213\\205\\211~\\224,\\000\\000\\000\\000\\000\\000\\000\\000\\000\\207\\342\\301\\301\\272\\251\\256\\250\\256\\230\\210\\226\\215\\210\\207\\203\\211\\237Z\\000\\000\\000\\000\\000\\000\\000\\000\\000\\257\\335\\335\\300\\306\\270\\254\\230\\242\\332\\217\\222\\220\\207\\207\\207\\236\\235o\\000\\000\\000\\000\\000\\000\\000\\000\\000\\320\\310\\340\\324\\306\\274\\252\\231\\235\\272\\240\\222\\220\\206\\213\\216\\233\\234\\235\\000\\000\\000\\000\\000\\000\\000\\000\\000\\342\\310\\335\\326\\307\\306\\255\\243\\244\\264\\240\\237\\222\\214\\212\\240\\302\\205\\251\\000\\000\\000\\000\\000\\000\\000\\000\\000\\346\\302\\337\\332\\312\\310\\254\\247\\245\\264\\231\\231\\221\\216{\\215\\304\\212\\263\\030\\000\\000\\000\\000\\000\\000\\000\\014\\347\\275\\343\\340\\323\\305\\271\\261\\242\\303\\236\\234\\233\\217\\206\\244\\303\\210\\3030\\000\\000\\000\\000\\000\\000\\000(\\357\\305\\362\\340\\322\\303\\277\\267\\242\\320\\237\\242\\233\\243\\217\\306\\277\\211\\261@\\000\\000\\000\\000\\000\\000\\000<\\364\\300\\364\\357\\327\\310\\273\\264\\247\\310\\234\\243\\236\\214\\200\\345\\275\\220\\260H\\000\\000\\000\\000\\000\\000\\000B\\370\\267\\360\\365\\325\\322\\313\\260\\250\\314\\242\\236\\222\\220{\\334\\264\\201\\256T\\000\\000\\000\\000\\000\\000\\000M\\366\\300\\360\\360\\315\\326\\316\\256\\252\\321\\236\\256\\236\\220\\222\\303\\313\\216\\251_\\000\\000\\000\\000\\000\\000\\000V\\361\\274\\363\\353\\314\\331\\313\\263\\247\\324\\226\\234\\240\\222\\251\\236\\332\\232\\243`\\000\\000\\000\\000\\000\\000\\000Y\\362\\276\\370\\342\\322\\321\\306\\271\\262\\325\\251\\240\\241\\224\\231\\221\\334\\251\\255Z\\000\\000\\000\\000\\000\\000\\000Z\\362\\303\\372\\330\\331\\316\\311\\263\\270\\326\\244\\255\\241\\215\\245\\216\\333\\255\\266V\\000\\000\\000\\000\\000\\000\\000]\\357\\312\\371\\324\\330\\325\\300\\276\\300\\323\\247\\262\\243\\221\\247\\220\\314\\256\\272V\\000\\000\\000\\000\\000\\000\\000c\\355\\332\\364\\326\\335\\326\\301\\311\\276\\332\\243\\264\\251\\225\\244\\236\\304\\275\\255S\\000\\000\\000\\000\\000\\000\\000e\\341\\334\\346\\336\\337\\316\\302\\313\\272\\333\\247\\256\\250\\231\\236\\245\\307\\300\\250W\\000\\000\\000\\000\\000\\000\\000\\205\\345\\342\\370\\342\\327\\321\\305\\306\\271\\334\\254\\253\\263\\231\\231\\260\\335\\326\\270P\\000\\000\\000\\000\\000\\000\\0003\\362\\313\\250\\345\\377\\364\\341\\325\\310\\343\\277\\260\\271\\276\\314\\210X\\273\\220\\r\\000\\000\\000\\000\\000\\000\\000\\000\\000\\000\\000\\000W\\214\\251\\300\\275\\316\\270\\254\\226v1\\000\\000\\000\\000\\000\\000\\000\\000\"\n",
      "      }\n",
      "    }\n",
      "  }\n",
      "  feature {\n",
      "    key: \"label\"\n",
      "    value {\n",
      "      int64_list {\n",
      "        value: 4\n",
      "      }\n",
      "    }\n",
      "  }\n",
      "}\n",
      "\n"
     ]
    }
   ],
   "source": [
    "def serialize_instance(img, label):\n",
    "    \n",
    "    # Encoding the Image\n",
    "    serialized_img = tf.io.serialize_tensor(img)\n",
    "    \n",
    "    # Returning as an Example Protocol Buffer\n",
    "    return Example(\n",
    "        features=Features(\n",
    "            feature={\n",
    "                \"image\": Feature(bytes_list=BytesList(value=[serialized_img.numpy()])),\n",
    "                \"label\": Feature(int64_list=Int64List(value=[label]))\n",
    "            }\n",
    "        )\n",
    "    )\n",
    "\n",
    "# Verification\n",
    "for img, label in train_set.take(1):\n",
    "    print(serialize_instance(img, label))"
   ]
  },
  {
   "cell_type": "markdown",
   "id": "46c78379",
   "metadata": {
    "papermill": {
     "duration": 0.014521,
     "end_time": "2024-07-27T07:32:08.019298",
     "exception": false,
     "start_time": "2024-07-27T07:32:08.004777",
     "status": "completed"
    },
    "tags": []
   },
   "source": [
    "**Utilizing the Naive Approach**\n",
    "--\n",
    "\n",
    "- Saving the Dataset Splits into Multiple Serialized TFRecords without any additional shuffling.\n",
    "- Creating a New Dataset by interleaving all the TFRecords corresponding to each split."
   ]
  },
  {
   "cell_type": "code",
   "execution_count": 8,
   "id": "20857418",
   "metadata": {
    "execution": {
     "iopub.execute_input": "2024-07-27T07:32:08.050155Z",
     "iopub.status.busy": "2024-07-27T07:32:08.049735Z",
     "iopub.status.idle": "2024-07-27T07:32:28.519729Z",
     "shell.execute_reply": "2024-07-27T07:32:28.518585Z"
    },
    "papermill": {
     "duration": 20.488596,
     "end_time": "2024-07-27T07:32:28.522445",
     "exception": false,
     "start_time": "2024-07-27T07:32:08.033849",
     "status": "completed"
    },
    "tags": []
   },
   "outputs": [
    {
     "data": {
      "text/plain": [
       "['naive/Training-set-00.tfrecord',\n",
       " 'naive/Training-set-01.tfrecord',\n",
       " 'naive/Training-set-02.tfrecord',\n",
       " 'naive/Training-set-03.tfrecord',\n",
       " 'naive/Training-set-04.tfrecord',\n",
       " 'naive/Training-set-05.tfrecord',\n",
       " 'naive/Training-set-06.tfrecord',\n",
       " 'naive/Training-set-07.tfrecord',\n",
       " 'naive/Training-set-08.tfrecord',\n",
       " 'naive/Training-set-09.tfrecord']"
      ]
     },
     "execution_count": 8,
     "metadata": {},
     "output_type": "execute_result"
    }
   ],
   "source": [
    "def set_to_record(name, set_, n_parts=10):\n",
    "    \n",
    "    # Splitting the Indices into Chucks for storage as TFRecords\n",
    "    indices = np.arange(len(set_[0]))\n",
    "    chunks = np.array_split(indices, n_parts) \n",
    "    \n",
    "    # Creating the Storage Path\n",
    "    storage_path = Path() / \"naive\"\n",
    "    storage_path.mkdir(parents=True, exist_ok=True)\n",
    "    \n",
    "    # File name format for all the files\n",
    "    file_format = \"{}-set-{:02d}.tfrecord\"\n",
    "    \n",
    "    compression_op = tf.io.TFRecordOptions(compression_type=\"GZIP\")\n",
    "    file_paths = []\n",
    "    for idx, chunk in enumerate(chunks):\n",
    "        file_path = str(storage_path / file_format.format(name, idx))\n",
    "        file_paths.append(file_path)\n",
    "        \n",
    "        with tf.io.TFRecordWriter(file_path, compression_op) as tfrecord:\n",
    "            for instance in chunk:\n",
    "                serialized = serialize_instance(set_[0][instance], set_[1][instance])\n",
    "                tfrecord.write(serialized.SerializeToString())\n",
    "    \n",
    "    return file_paths\n",
    "\n",
    "# Verification\n",
    "ex_file_paths = set_to_record(\"Training\", (X_train, y_train))\n",
    "ex_file_paths\n",
    "\n",
    "# Used for testing the Indices from the np.array_split()\n",
    "# for instance in chunk:\n",
    "#     print(\"Instance: \", instance)\n",
    "#     print(\"Len: \", len(chunk))\n",
    "#     break "
   ]
  },
  {
   "cell_type": "markdown",
   "id": "dcc5265c",
   "metadata": {
    "execution": {
     "iopub.execute_input": "2024-07-24T18:43:22.941303Z",
     "iopub.status.busy": "2024-07-24T18:43:22.940899Z",
     "iopub.status.idle": "2024-07-24T18:43:22.947082Z",
     "shell.execute_reply": "2024-07-24T18:43:22.945827Z",
     "shell.execute_reply.started": "2024-07-24T18:43:22.941276Z"
    },
    "papermill": {
     "duration": 0.014682,
     "end_time": "2024-07-27T07:32:28.552206",
     "exception": false,
     "start_time": "2024-07-27T07:32:28.537524",
     "status": "completed"
    },
    "tags": []
   },
   "source": [
    "**Loading and Parsing the TFRecords**\n",
    "--"
   ]
  },
  {
   "cell_type": "code",
   "execution_count": 9,
   "id": "6139a358",
   "metadata": {
    "execution": {
     "iopub.execute_input": "2024-07-27T07:32:28.584627Z",
     "iopub.status.busy": "2024-07-27T07:32:28.584104Z",
     "iopub.status.idle": "2024-07-27T07:32:29.063580Z",
     "shell.execute_reply": "2024-07-27T07:32:29.062447Z"
    },
    "papermill": {
     "duration": 0.499389,
     "end_time": "2024-07-27T07:32:29.067042",
     "exception": false,
     "start_time": "2024-07-27T07:32:28.567653",
     "status": "completed"
    },
    "tags": []
   },
   "outputs": [
    {
     "name": "stdout",
     "output_type": "stream",
     "text": [
      "Serialized Information before Parsing\n",
      "tf.Tensor(b'\\n\\xc2\\x06\\n\\xaf\\x06\\n\\x05image\\x12\\xa5\\x06\\n\\xa2\\x06\\n\\x9f\\x06\\x08\\x04\\x12\\x08\\x12\\x02\\x08\\x1c\\x12\\x02\\x08\\x1c\"\\x90\\x06\\x00\\x00\\x00\\x00\\x00\\x00\\x00\\x00\\x00\\x00\\x00\\x00\\x00\\x00\\x00\\x00\\x00\\x00\\x00\\x00\\x00\\x00\\x00\\x00\\x00\\x00\\x00\\x00\\x00\\x00\\x00\\x00\\x00\\x00\\x00\\x00\\x00\\x00\\x00\\x00\\x00\\x00\\x00\\x00\\x00\\x00\\x00\\x00\\x00\\x00\\x00\\x00\\x00\\x00\\x00\\x00\\x00\\x00\\x00\\x00\\x00\\x00\\x00\\x00\\x00\\x00\\x00\\x00\\x00\\x00\\x00\\x00\\x00\\x00\\x00\\x00\\x00\\x00\\x00\\x00\\x00\\x00\\x00\\x00\\x00\\x00\\x00\\x00\\x00\\x00\\x00\\x00\\x00\\x00\\x00\\x00\\x00\\x00\\x00\\x00\\x00\\x00\\x00\\x00\\x00\\x00\\x00\\x00\\x00\\x00\\x00\\x00\\x00\\x00\\x00\\x00\\x00\\x00\\x00\\x00\\x00\\x00\\x00\\x00\\x00\\x00\\x00\\x00\\x00\\x00\\x00\\x00\\x00\\x00\\x00\\x85\\'\\x00\\x00\\x00\\x00\\x00\\x00\\x00\\x00\\x00\\x00\\x00\\x00\\x00\\x00\\x00\\x00\\x00\\x00\\x02\\x02\\x00\\x00\\x11\\x181[o\\x8a\\x04\\x00\\x00\\x00\\x00\\x00\\x00\\x00\\x00\\x00\\x00\\x00\\x00\\x00\\x00\\x00\\x02\\x02\\x00\\x00\\x04j\\xb9\\xc3``q\\x9e\\x8d\\x00\\x00\\x00\\x00\\x00\\x00\\x00\\x00\\x00\\x00\\x02\\x04\\x00\\x00\\x02\\x00\\x00\\x07Y\\x88qg\\x11\\x00\\x00Y\\x9e\\x9ec\\x00\\x00\\x00\\x00\\x00\\x00\\x00\\x00\\x00\\x00\\x00\\x00\\x00\\x00\\x00c\\x8fB\\x02\\x00\\x00\\x00\\x00\\x00t\\xa5\\x99\\xa3\\x00\\x00\\x00\\x00\\x00\\x00\\x00\\x00\\x00\\x00\\x00\\x00\\x00Q\\x99G\\x00\\x00\\x00\\x02\\x04\\x02\\x00\\x00\\xc3\\xad\\x8d\\xa5\\x16\\x00\\x00\\x00\\x00\\x00\\x00\\x00\\x00\\x00\\x00\\x00e\\x99\\x00\\x00\\x00\\x07\\t\\x02\\x00\\x00\\x00`\\xc1\\xad\\x8f\\x9e@\\x00\\x00\\x00\\x00\\x00\\x00\\x00\\x00\\x04\\x00,\\xb4\\x00\\x00\\x07\\x02\\x00\\x02\\x00\\x02\\x00\\x00\\xc6\\xb7\\xa5\\x8a\\xa0[\\x00\\x00\\x00\\x00\\x00\\x00\\x00\\x00\\x02\\x00g\\t\\x00\\x04\\x00\\x02\\x00\\x00\\x02\\x00\\x00,\\xbe\\xa0\\x8d\\x80\\xa8\\x18\\x00\\x00\\x00\\x00\\x00\\x00\\x00\\x00\\x00\\x00l\\x00\\x00\\x00\\x00\\x02\\x00\\x02\\x00\\x00\\x00y\\x9eto\\x99O\\x00\\x00\\x00\\x00\\x00\\x00\\x00\\x00\\x00\\x07\\x00\\xa0J\\x00\\x02\\x00\\x00\\x00\\x00\\x00@\\xb4\\xafojy\\x8a\\x00\\x00\\x00\\x00\\x00\\x00\\x00\\x00\\x00\\x00\\x00\\x00[\\xaf\\x00\\x02\\x00\\x00\\x00\\x00j\\x9b\\xaa\\x8a\\x8d\\x88\\x99B\\x00\\x00\\x00\\x00\\x00\\x00\\x00\\x00\\x02\\x00\\x13yL{c\\x00\\t\\x00\\x00V\\xad\\x9e\\x04\\x00q\\xa3\\x97\\x00\\x00\\x00\\x00\\x00\\x00\\x00\\x00\\x00\\x00\\x00\\x02\\x94\\xaaB\\xc3\\x07\\x00\\x001\\xb2\\xaa\\x00\\x00\\x00l\\xb2`\\x00\\x00\\x00\\x00\\x00\\x00\\x00\\x00\\x00\\x00\\x16O/\\x8d\\x80c~\\x00\\x13\\x97\\xb9\\x02\\x00\\x07\\x00c\\xb7\\'\\x00\\x04\\x00\\x00\\x00\\x02\\x02\\x00L\\x9e/\\x80\\x88G\\xcd\\x8a\\x97\\x02T\\xcb3\\x00\\x00\\x00\\x00c\\xb9\\x0e\\x00\\x02\\x00\\x02\\x00\\x00\\x00\\x00\\x97\\tc\\x04\\xfa\\x00~\\xe8\\xafJ\\xaa\\xaf\\x00\\x00\\x00\\x02\\x00e\\xb7\\x00\\x00\\x00\\x00\\x00\\x00\\x02\\x02\\x07`\\x00\\tQ`\\x8d\\x00O\\x92\\x99\\xc6\\x04\\x00\\x02\\x00\\x02\\x00g\\xaf\\x00\\x00\\x00\\x00QyVj[q\\xad\"{lo\\x00;\\x85\\xcdo\\x00\\x00\\x00\\x00\\x07\\x00Y\\x94\\x00\\x00\\x00\\x006\\x8f\\x88\\x8d\\x99\\x99\\xcby\\xb4\\x8dVt\\xc6\\xdc\\x9b\\x00\\x00\\x00\\x00\\x00\\t\\x00\\x83\\xfe\\x00\\x00\\x02\\x00\\x00\\x00\\x00\\x00\\'B^t\\xaf\\xb7\\xaf\\xd9y\\x0c\\x00\\x00\\x00\\x04\\x00\\x00\\x04\\x001\\x83\\x00\\x00\\x00\\x00\\x00\\x00\\x00\\x00\\x00\\x00\\x00\\x00\\x00\\x00\\x00\\x00\\x00\\x00\\x00\\x00\\x00\\x00\\x00\\x00\\x00\\x00\\x00\\x00\\x00\\x00\\x00\\x00\\x00\\x00\\x00\\x00\\x00\\x00\\x00\\x00\\x00\\x00\\x00\\x00\\x00\\x00\\x00\\x00\\x00\\x00\\x00\\x00\\x00\\x00\\x00\\x00\\x00\\x00\\x00\\x00\\x00\\x00\\x00\\x00\\x00\\x00\\x00\\x00\\x00\\x00\\x00\\x00\\x00\\x00\\x00\\x00\\x00\\x00\\x00\\x00\\x00\\x00\\x00\\x00\\x00\\x00\\x00\\x00\\n\\x0e\\n\\x05label\\x12\\x05\\x1a\\x03\\n\\x01\\x05', shape=(), dtype=string)\n",
      "\n",
      "\n",
      "Serialized Information after Parsing\n"
     ]
    },
    {
     "data": {
      "image/png": "[encoded data removed]",
      "text/plain": [
       "<Figure size 640x480 with 1 Axes>"
      ]
     },
     "metadata": {},
     "output_type": "display_data"
    }
   ],
   "source": [
    "# Feature Description to Parse against the Serialized data in the protobuff\n",
    "feature_description = {\n",
    "    \"image\": tf.io.FixedLenFeature([], tf.string, default_value=\"\"),\n",
    "    \"label\": tf.io.FixedLenFeature([], tf.int64, default_value=-1)\n",
    "}\n",
    "\n",
    "def parse_serialized_data(serialized_instance):\n",
    "    # Step - 1: Remove the Serialization by Parsing the Feature Description\n",
    "    encoded_image_data = tf.io.parse_single_example(serialized_instance, feature_description)\n",
    "    \n",
    "    # Step - 2: Decode the Encoded Image\n",
    "    image_data = tf.io.parse_tensor(encoded_image_data[\"image\"], out_type=tf.uint8)\n",
    "    \n",
    "    # Reshape and Return\n",
    "    image = tf.reshape(image_data, shape=[28, 28])\n",
    "    return image, encoded_image_data[\"label\"]\n",
    "\n",
    "# Verification\n",
    "example_dataset = tf.data.TFRecordDataset(ex_file_paths[0], compression_type=\"GZIP\")\n",
    "instance = example_dataset.take(1)\n",
    "\n",
    "print(\"Serialized Information before Parsing\")\n",
    "for i in instance:\n",
    "    print(i)\n",
    "\n",
    "print(\"\\n\\nSerialized Information after Parsing\")\n",
    "parsed_image = list(instance.map(parse_serialized_data))[0]\n",
    "plt.imshow(parsed_image[0].numpy())\n",
    "plt.title(f\"Image of {parsed_image[1].numpy()} after Parsing and Serialization\")\n",
    "plt.show()"
   ]
  },
  {
   "cell_type": "markdown",
   "id": "73d70049",
   "metadata": {
    "papermill": {
     "duration": 0.015264,
     "end_time": "2024-07-27T07:32:29.102999",
     "exception": false,
     "start_time": "2024-07-27T07:32:29.087735",
     "status": "completed"
    },
    "tags": []
   },
   "source": [
    "**Creating a well shuffled dataset loaded in Parallel**\n",
    "--"
   ]
  },
  {
   "cell_type": "code",
   "execution_count": 10,
   "id": "5c01f71f",
   "metadata": {
    "execution": {
     "iopub.execute_input": "2024-07-27T07:32:29.135050Z",
     "iopub.status.busy": "2024-07-27T07:32:29.134631Z",
     "iopub.status.idle": "2024-07-27T07:32:29.374516Z",
     "shell.execute_reply": "2024-07-27T07:32:29.373348Z"
    },
    "papermill": {
     "duration": 0.259358,
     "end_time": "2024-07-27T07:32:29.377639",
     "exception": false,
     "start_time": "2024-07-27T07:32:29.118281",
     "status": "completed"
    },
    "tags": []
   },
   "outputs": [
    {
     "name": "stdout",
     "output_type": "stream",
     "text": [
      "(<tf.Tensor: shape=(32, 28, 28), dtype=uint8, numpy=\n",
      "array([[[0, 0, 0, ..., 0, 0, 0],\n",
      "        [0, 0, 0, ..., 0, 0, 0],\n",
      "        [0, 0, 0, ..., 0, 0, 0],\n",
      "        ...,\n",
      "        [0, 0, 0, ..., 0, 0, 0],\n",
      "        [0, 0, 0, ..., 0, 0, 0],\n",
      "        [0, 0, 0, ..., 0, 0, 0]],\n",
      "\n",
      "       [[0, 0, 0, ..., 0, 0, 0],\n",
      "        [0, 0, 0, ..., 0, 0, 0],\n",
      "        [0, 0, 0, ..., 0, 0, 0],\n",
      "        ...,\n",
      "        [0, 0, 0, ..., 0, 0, 0],\n",
      "        [0, 0, 0, ..., 0, 0, 0],\n",
      "        [0, 0, 0, ..., 0, 0, 0]],\n",
      "\n",
      "       [[0, 0, 0, ..., 0, 0, 0],\n",
      "        [0, 0, 0, ..., 0, 0, 0],\n",
      "        [0, 0, 0, ..., 0, 0, 0],\n",
      "        ...,\n",
      "        [0, 0, 0, ..., 0, 0, 0],\n",
      "        [0, 0, 0, ..., 0, 0, 0],\n",
      "        [0, 0, 0, ..., 0, 0, 0]],\n",
      "\n",
      "       ...,\n",
      "\n",
      "       [[0, 0, 0, ..., 0, 0, 0],\n",
      "        [0, 0, 0, ..., 0, 0, 0],\n",
      "        [0, 0, 0, ..., 0, 0, 0],\n",
      "        ...,\n",
      "        [0, 0, 0, ..., 0, 0, 0],\n",
      "        [0, 0, 0, ..., 0, 0, 0],\n",
      "        [0, 0, 0, ..., 0, 0, 0]],\n",
      "\n",
      "       [[0, 0, 0, ..., 0, 0, 0],\n",
      "        [0, 0, 0, ..., 0, 0, 0],\n",
      "        [0, 0, 0, ..., 0, 0, 0],\n",
      "        ...,\n",
      "        [0, 0, 0, ..., 0, 0, 0],\n",
      "        [0, 0, 0, ..., 0, 0, 0],\n",
      "        [0, 0, 0, ..., 0, 0, 0]],\n",
      "\n",
      "       [[0, 0, 0, ..., 0, 0, 0],\n",
      "        [0, 0, 0, ..., 0, 0, 0],\n",
      "        [0, 0, 0, ..., 0, 0, 0],\n",
      "        ...,\n",
      "        [0, 0, 0, ..., 0, 0, 0],\n",
      "        [0, 0, 0, ..., 0, 0, 0],\n",
      "        [0, 0, 0, ..., 0, 0, 0]]], dtype=uint8)>, <tf.Tensor: shape=(32,), dtype=int64, numpy=\n",
      "array([9, 8, 8, 9, 2, 6, 9, 2, 9, 4, 0, 4, 8, 7, 7, 3, 4, 8, 9, 4, 2, 6,\n",
      "       2, 7, 6, 7, 4, 1, 2, 9, 0, 1])>)\n",
      "(<tf.Tensor: shape=(32, 28, 28), dtype=uint8, numpy=\n",
      "array([[[  0,   0,   0, ...,  31,   0,   3],\n",
      "        [  0,   0,   0, ...,  74,   0,   3],\n",
      "        [  0,   0,   0, ..., 115,   0,   1],\n",
      "        ...,\n",
      "        [  0,   0, 111, ..., 215, 248,  20],\n",
      "        [  0,   0,   0, ..., 129, 106,   0],\n",
      "        [  0,   1,   1, ...,   0,   0,   0]],\n",
      "\n",
      "       [[  0,   0,   0, ...,   0,   0,   0],\n",
      "        [  0,   0,   0, ...,   0,   0,   0],\n",
      "        [  0,   0,   0, ...,   0,   0,   0],\n",
      "        ...,\n",
      "        [  0,   0,   0, ...,   0,   0,   0],\n",
      "        [  0,   0,   0, ...,   0,   0,   0],\n",
      "        [  0,   0,   0, ...,   0,   0,   0]],\n",
      "\n",
      "       [[  0,   0,   0, ...,   0,   0,   0],\n",
      "        [  0,   0,   0, ...,   0,   0,   0],\n",
      "        [  0,   0,   0, ...,   0,   0,   0],\n",
      "        ...,\n",
      "        [  0,   0,   0, ...,   0,   0,   0],\n",
      "        [  0,   0,   0, ...,   0,   0,   0],\n",
      "        [  0,   0,   0, ...,   0,   0,   0]],\n",
      "\n",
      "       ...,\n",
      "\n",
      "       [[  0,   0,   0, ...,   0,   0,   0],\n",
      "        [  0,   0,   0, ...,   0,   0,   0],\n",
      "        [  0,   0,   0, ...,   0,   0,   0],\n",
      "        ...,\n",
      "        [  0,   0,   0, ...,   0,   0,   0],\n",
      "        [  0,   0,   0, ...,   0,   0,   0],\n",
      "        [  0,   0,   0, ...,   0,   0,   0]],\n",
      "\n",
      "       [[  0,   0,   0, ...,   0,   0,   0],\n",
      "        [  0,   0,   0, ...,   0,   0,   0],\n",
      "        [  0,   0,   0, ...,   0,   0,   0],\n",
      "        ...,\n",
      "        [  0,   0,   0, ...,   0,   0,   0],\n",
      "        [  0,   0,   0, ...,   0,   0,   0],\n",
      "        [  0,   0,   0, ...,   0,   0,   0]],\n",
      "\n",
      "       [[  0,   0,   0, ...,   0,   0,   0],\n",
      "        [  0,   0,   0, ...,   0,   0,   0],\n",
      "        [  0,   0,   0, ...,   0,   0,   0],\n",
      "        ...,\n",
      "        [  0,   0,   0, ...,   0,   0,   0],\n",
      "        [  0,   0,   0, ...,   0,   0,   0],\n",
      "        [  0,   0,   0, ...,   0,   0,   0]]], dtype=uint8)>, <tf.Tensor: shape=(32,), dtype=int64, numpy=\n",
      "array([9, 8, 4, 5, 0, 7, 4, 7, 0, 7, 4, 4, 9, 2, 6, 4, 0, 7, 4, 1, 6, 6,\n",
      "       8, 9, 8, 4, 6, 6, 5, 4, 5, 6])>)\n"
     ]
    }
   ],
   "source": [
    "def create_interleaved_dataset(filepaths, n_read_threads=5, shuffle_buffer_size=None, \n",
    "                               n_parse_threads=5, batch_size=32, cache=False):\n",
    "    \n",
    "    # Creating the TFRecord Dataset containing Serialized Information\n",
    "    serialized_dataset = tf.data.TFRecordDataset(\n",
    "        filepaths, num_parallel_reads=n_read_threads, compression_type=\"GZIP\"\n",
    "    )\n",
    "    \n",
    "    # Caching the Data for better Efficiency\n",
    "    if cache:\n",
    "        serialized_dataset = serialized_dataset.cache()\n",
    "        \n",
    "    # Shuffling the Data\n",
    "    if shuffle_buffer_size:\n",
    "        serialized_dataset = serialized_dataset.shuffle(shuffle_buffer_size)\n",
    "        \n",
    "    # Parsing all the Serialzed Instances of the Dataset in Parallel\n",
    "    dataset = serialized_dataset.map(parse_serialized_data, num_parallel_calls=n_parse_threads)\n",
    "    \n",
    "    # Batching and Prefetching the Dataset\n",
    "    dataset = dataset.batch(batch_size)\n",
    "    return dataset.prefetch(tf.data.experimental.AUTOTUNE)\n",
    "    \n",
    "    '''# Batching and Prefetching\n",
    "    dataset = dataset.batch(batch_size)\n",
    "    for i in dataset.take(2):\n",
    "        print(i)\n",
    "        \n",
    "    return dataset.prefetch(1)'''\n",
    "\n",
    "# Verification\n",
    "dataset = create_interleaved_dataset(filepaths=ex_file_paths, shuffle_buffer_size=10_000)\n",
    "for i in dataset.take(2):\n",
    "    print(i)"
   ]
  },
  {
   "cell_type": "markdown",
   "id": "678a091c",
   "metadata": {
    "papermill": {
     "duration": 0.01513,
     "end_time": "2024-07-27T07:32:29.407899",
     "exception": false,
     "start_time": "2024-07-27T07:32:29.392769",
     "status": "completed"
    },
    "tags": []
   },
   "source": [
    "**Applying the Naive Approach Completely**\n",
    "--"
   ]
  },
  {
   "cell_type": "code",
   "execution_count": 11,
   "id": "4543501d",
   "metadata": {
    "execution": {
     "iopub.execute_input": "2024-07-27T07:32:29.441473Z",
     "iopub.status.busy": "2024-07-27T07:32:29.440610Z",
     "iopub.status.idle": "2024-07-27T07:32:56.666052Z",
     "shell.execute_reply": "2024-07-27T07:32:56.665000Z"
    },
    "papermill": {
     "duration": 27.245396,
     "end_time": "2024-07-27T07:32:56.668991",
     "exception": false,
     "start_time": "2024-07-27T07:32:29.423595",
     "status": "completed"
    },
    "tags": []
   },
   "outputs": [
    {
     "name": "stdout",
     "output_type": "stream",
     "text": [
      "Training Set Splits: \n",
      " ['naive/Training-set-00.tfrecord', 'naive/Training-set-01.tfrecord', 'naive/Training-set-02.tfrecord', 'naive/Training-set-03.tfrecord', 'naive/Training-set-04.tfrecord', 'naive/Training-set-05.tfrecord', 'naive/Training-set-06.tfrecord', 'naive/Training-set-07.tfrecord', 'naive/Training-set-08.tfrecord', 'naive/Training-set-09.tfrecord', 'naive/Training-set-10.tfrecord', 'naive/Training-set-11.tfrecord', 'naive/Training-set-12.tfrecord', 'naive/Training-set-13.tfrecord', 'naive/Training-set-14.tfrecord', 'naive/Training-set-15.tfrecord', 'naive/Training-set-16.tfrecord', 'naive/Training-set-17.tfrecord', 'naive/Training-set-18.tfrecord', 'naive/Training-set-19.tfrecord']\n",
      "\n",
      "Validation Set Splits: \n",
      " ['naive/Validation-set-00.tfrecord', 'naive/Validation-set-01.tfrecord', 'naive/Validation-set-02.tfrecord', 'naive/Validation-set-03.tfrecord', 'naive/Validation-set-04.tfrecord', 'naive/Validation-set-05.tfrecord', 'naive/Validation-set-06.tfrecord', 'naive/Validation-set-07.tfrecord', 'naive/Validation-set-08.tfrecord', 'naive/Validation-set-09.tfrecord']\n",
      "\n",
      "Testing Set Splits: \n",
      " ['naive/Testing-set-00.tfrecord', 'naive/Testing-set-01.tfrecord', 'naive/Testing-set-02.tfrecord', 'naive/Testing-set-03.tfrecord', 'naive/Testing-set-04.tfrecord', 'naive/Testing-set-05.tfrecord', 'naive/Testing-set-06.tfrecord', 'naive/Testing-set-07.tfrecord', 'naive/Testing-set-08.tfrecord', 'naive/Testing-set-09.tfrecord']\n"
     ]
    }
   ],
   "source": [
    "# Training File Splits\n",
    "train_filepaths = set_to_record(\"Training\", (X_train, y_train), n_parts=20)\n",
    "valid_filepaths = set_to_record(\"Validation\", (X_valid, y_valid), n_parts=10)\n",
    "test_filepaths = set_to_record(\"Testing\", (X_test, y_test), n_parts=10)\n",
    "\n",
    "print(\"Training Set Splits: \\n\", train_filepaths, end=\"\\n\\n\")\n",
    "print(\"Validation Set Splits: \\n\", valid_filepaths, end=\"\\n\\n\")\n",
    "print(\"Testing Set Splits: \\n\", test_filepaths)"
   ]
  },
  {
   "cell_type": "code",
   "execution_count": 12,
   "id": "2b2dd5d0",
   "metadata": {
    "execution": {
     "iopub.execute_input": "2024-07-27T07:32:56.701396Z",
     "iopub.status.busy": "2024-07-27T07:32:56.700975Z",
     "iopub.status.idle": "2024-07-27T07:32:56.825973Z",
     "shell.execute_reply": "2024-07-27T07:32:56.824506Z"
    },
    "papermill": {
     "duration": 0.144071,
     "end_time": "2024-07-27T07:32:56.828438",
     "exception": false,
     "start_time": "2024-07-27T07:32:56.684367",
     "status": "completed"
    },
    "tags": []
   },
   "outputs": [
    {
     "name": "stdout",
     "output_type": "stream",
     "text": [
      "Prepared Training Set Object:  <_PrefetchDataset element_spec=(TensorSpec(shape=(None, 28, 28), dtype=tf.uint8, name=None), TensorSpec(shape=(None,), dtype=tf.int64, name=None))>\n",
      "Prepared Validation Set Object:  <_PrefetchDataset element_spec=(TensorSpec(shape=(None, 28, 28), dtype=tf.uint8, name=None), TensorSpec(shape=(None,), dtype=tf.int64, name=None))>\n",
      "Prepared Testing Set Object:  <_PrefetchDataset element_spec=(TensorSpec(shape=(None, 28, 28), dtype=tf.uint8, name=None), TensorSpec(shape=(None,), dtype=tf.int64, name=None))>\n"
     ]
    }
   ],
   "source": [
    "# Prepared Sets\n",
    "train_set = create_interleaved_dataset(\n",
    "    filepaths=train_filepaths, shuffle_buffer_size=10_000, batch_size=64\n",
    ")\n",
    "print(\"Prepared Training Set Object: \", repr(train_set))\n",
    "\n",
    "valid_set = create_interleaved_dataset(\n",
    "    filepaths=valid_filepaths, shuffle_buffer_size=3000, cache=True, batch_size=64\n",
    ")\n",
    "print(\"Prepared Validation Set Object: \", repr(valid_set))\n",
    "\n",
    "test_set = create_interleaved_dataset(\n",
    "    filepaths=test_filepaths, shuffle_buffer_size=3000, cache=True, batch_size=64\n",
    ")\n",
    "print(\"Prepared Testing Set Object: \", repr(test_set))"
   ]
  },
  {
   "cell_type": "code",
   "execution_count": 13,
   "id": "901c2704",
   "metadata": {
    "execution": {
     "iopub.execute_input": "2024-07-27T07:32:56.861674Z",
     "iopub.status.busy": "2024-07-27T07:32:56.860724Z",
     "iopub.status.idle": "2024-07-27T07:32:56.866971Z",
     "shell.execute_reply": "2024-07-27T07:32:56.865815Z"
    },
    "papermill": {
     "duration": 0.025655,
     "end_time": "2024-07-27T07:32:56.869676",
     "exception": false,
     "start_time": "2024-07-27T07:32:56.844021",
     "status": "completed"
    },
    "tags": []
   },
   "outputs": [],
   "source": [
    "# Wrappers to avoid repetition\n",
    "ConvLayer = partial(\n",
    "    tf.keras.layers.Conv2D,\n",
    "    kernel_size=(3, 3),\n",
    "    activation=\"elu\",\n",
    "    kernel_initializer=\"he_normal\"\n",
    ")\n",
    "\n",
    "DenseLayer = partial(\n",
    "    tf.keras.layers.Dense,\n",
    "    activation=\"elu\",\n",
    "    kernel_initializer=\"he_normal\"\n",
    ")"
   ]
  },
  {
   "cell_type": "code",
   "execution_count": 14,
   "id": "58820a6f",
   "metadata": {
    "execution": {
     "iopub.execute_input": "2024-07-27T07:32:56.904319Z",
     "iopub.status.busy": "2024-07-27T07:32:56.903612Z",
     "iopub.status.idle": "2024-07-27T07:32:57.271654Z",
     "shell.execute_reply": "2024-07-27T07:32:57.270480Z"
    },
    "papermill": {
     "duration": 0.389048,
     "end_time": "2024-07-27T07:32:57.274307",
     "exception": false,
     "start_time": "2024-07-27T07:32:56.885259",
     "status": "completed"
    },
    "tags": []
   },
   "outputs": [
    {
     "data": {
      "text/html": [
       "<pre style=\"white-space:pre;overflow-x:auto;line-height:normal;font-family:Menlo,'DejaVu Sans Mono',consolas,'Courier New',monospace\"><span style=\"font-weight: bold\">Model: \"sequential\"</span>\n",
       "</pre>\n"
      ],
      "text/plain": [
       "\u001b[1mModel: \"sequential\"\u001b[0m\n"
      ]
     },
     "metadata": {},
     "output_type": "display_data"
    },
    {
     "data": {
      "text/html": [
       "<pre style=\"white-space:pre;overflow-x:auto;line-height:normal;font-family:Menlo,'DejaVu Sans Mono',consolas,'Courier New',monospace\">┏━━━━━━━━━━━━━━━━━━━━━━━━━━━━━━━━━┳━━━━━━━━━━━━━━━━━━━━━━━━┳━━━━━━━━━━━━━━━┓\n",
       "┃<span style=\"font-weight: bold\"> Layer (type)                    </span>┃<span style=\"font-weight: bold\"> Output Shape           </span>┃<span style=\"font-weight: bold\">       Param # </span>┃\n",
       "┡━━━━━━━━━━━━━━━━━━━━━━━━━━━━━━━━━╇━━━━━━━━━━━━━━━━━━━━━━━━╇━━━━━━━━━━━━━━━┩\n",
       "│ conv2d (<span style=\"color: #0087ff; text-decoration-color: #0087ff\">Conv2D</span>)                 │ (<span style=\"color: #00d7ff; text-decoration-color: #00d7ff\">None</span>, <span style=\"color: #00af00; text-decoration-color: #00af00\">26</span>, <span style=\"color: #00af00; text-decoration-color: #00af00\">26</span>, <span style=\"color: #00af00; text-decoration-color: #00af00\">32</span>)     │           <span style=\"color: #00af00; text-decoration-color: #00af00\">320</span> │\n",
       "├─────────────────────────────────┼────────────────────────┼───────────────┤\n",
       "│ conv2d_1 (<span style=\"color: #0087ff; text-decoration-color: #0087ff\">Conv2D</span>)               │ (<span style=\"color: #00d7ff; text-decoration-color: #00d7ff\">None</span>, <span style=\"color: #00af00; text-decoration-color: #00af00\">24</span>, <span style=\"color: #00af00; text-decoration-color: #00af00\">24</span>, <span style=\"color: #00af00; text-decoration-color: #00af00\">64</span>)     │        <span style=\"color: #00af00; text-decoration-color: #00af00\">18,496</span> │\n",
       "├─────────────────────────────────┼────────────────────────┼───────────────┤\n",
       "│ max_pooling2d (<span style=\"color: #0087ff; text-decoration-color: #0087ff\">MaxPooling2D</span>)    │ (<span style=\"color: #00d7ff; text-decoration-color: #00d7ff\">None</span>, <span style=\"color: #00af00; text-decoration-color: #00af00\">12</span>, <span style=\"color: #00af00; text-decoration-color: #00af00\">12</span>, <span style=\"color: #00af00; text-decoration-color: #00af00\">64</span>)     │             <span style=\"color: #00af00; text-decoration-color: #00af00\">0</span> │\n",
       "├─────────────────────────────────┼────────────────────────┼───────────────┤\n",
       "│ conv2d_2 (<span style=\"color: #0087ff; text-decoration-color: #0087ff\">Conv2D</span>)               │ (<span style=\"color: #00d7ff; text-decoration-color: #00d7ff\">None</span>, <span style=\"color: #00af00; text-decoration-color: #00af00\">10</span>, <span style=\"color: #00af00; text-decoration-color: #00af00\">10</span>, <span style=\"color: #00af00; text-decoration-color: #00af00\">128</span>)    │        <span style=\"color: #00af00; text-decoration-color: #00af00\">73,856</span> │\n",
       "├─────────────────────────────────┼────────────────────────┼───────────────┤\n",
       "│ flatten (<span style=\"color: #0087ff; text-decoration-color: #0087ff\">Flatten</span>)               │ (<span style=\"color: #00d7ff; text-decoration-color: #00d7ff\">None</span>, <span style=\"color: #00af00; text-decoration-color: #00af00\">12800</span>)          │             <span style=\"color: #00af00; text-decoration-color: #00af00\">0</span> │\n",
       "├─────────────────────────────────┼────────────────────────┼───────────────┤\n",
       "│ dense (<span style=\"color: #0087ff; text-decoration-color: #0087ff\">Dense</span>)                   │ (<span style=\"color: #00d7ff; text-decoration-color: #00d7ff\">None</span>, <span style=\"color: #00af00; text-decoration-color: #00af00\">1024</span>)           │    <span style=\"color: #00af00; text-decoration-color: #00af00\">13,108,224</span> │\n",
       "├─────────────────────────────────┼────────────────────────┼───────────────┤\n",
       "│ dense_1 (<span style=\"color: #0087ff; text-decoration-color: #0087ff\">Dense</span>)                 │ (<span style=\"color: #00d7ff; text-decoration-color: #00d7ff\">None</span>, <span style=\"color: #00af00; text-decoration-color: #00af00\">512</span>)            │       <span style=\"color: #00af00; text-decoration-color: #00af00\">524,800</span> │\n",
       "├─────────────────────────────────┼────────────────────────┼───────────────┤\n",
       "│ dense_2 (<span style=\"color: #0087ff; text-decoration-color: #0087ff\">Dense</span>)                 │ (<span style=\"color: #00d7ff; text-decoration-color: #00d7ff\">None</span>, <span style=\"color: #00af00; text-decoration-color: #00af00\">512</span>)            │       <span style=\"color: #00af00; text-decoration-color: #00af00\">262,656</span> │\n",
       "├─────────────────────────────────┼────────────────────────┼───────────────┤\n",
       "│ dense_3 (<span style=\"color: #0087ff; text-decoration-color: #0087ff\">Dense</span>)                 │ (<span style=\"color: #00d7ff; text-decoration-color: #00d7ff\">None</span>, <span style=\"color: #00af00; text-decoration-color: #00af00\">10</span>)             │         <span style=\"color: #00af00; text-decoration-color: #00af00\">5,130</span> │\n",
       "└─────────────────────────────────┴────────────────────────┴───────────────┘\n",
       "</pre>\n"
      ],
      "text/plain": [
       "┏━━━━━━━━━━━━━━━━━━━━━━━━━━━━━━━━━┳━━━━━━━━━━━━━━━━━━━━━━━━┳━━━━━━━━━━━━━━━┓\n",
       "┃\u001b[1m \u001b[0m\u001b[1mLayer (type)                   \u001b[0m\u001b[1m \u001b[0m┃\u001b[1m \u001b[0m\u001b[1mOutput Shape          \u001b[0m\u001b[1m \u001b[0m┃\u001b[1m \u001b[0m\u001b[1m      Param #\u001b[0m\u001b[1m \u001b[0m┃\n",
       "┡━━━━━━━━━━━━━━━━━━━━━━━━━━━━━━━━━╇━━━━━━━━━━━━━━━━━━━━━━━━╇━━━━━━━━━━━━━━━┩\n",
       "│ conv2d (\u001b[38;5;33mConv2D\u001b[0m)                 │ (\u001b[38;5;45mNone\u001b[0m, \u001b[38;5;34m26\u001b[0m, \u001b[38;5;34m26\u001b[0m, \u001b[38;5;34m32\u001b[0m)     │           \u001b[38;5;34m320\u001b[0m │\n",
       "├─────────────────────────────────┼────────────────────────┼───────────────┤\n",
       "│ conv2d_1 (\u001b[38;5;33mConv2D\u001b[0m)               │ (\u001b[38;5;45mNone\u001b[0m, \u001b[38;5;34m24\u001b[0m, \u001b[38;5;34m24\u001b[0m, \u001b[38;5;34m64\u001b[0m)     │        \u001b[38;5;34m18,496\u001b[0m │\n",
       "├─────────────────────────────────┼────────────────────────┼───────────────┤\n",
       "│ max_pooling2d (\u001b[38;5;33mMaxPooling2D\u001b[0m)    │ (\u001b[38;5;45mNone\u001b[0m, \u001b[38;5;34m12\u001b[0m, \u001b[38;5;34m12\u001b[0m, \u001b[38;5;34m64\u001b[0m)     │             \u001b[38;5;34m0\u001b[0m │\n",
       "├─────────────────────────────────┼────────────────────────┼───────────────┤\n",
       "│ conv2d_2 (\u001b[38;5;33mConv2D\u001b[0m)               │ (\u001b[38;5;45mNone\u001b[0m, \u001b[38;5;34m10\u001b[0m, \u001b[38;5;34m10\u001b[0m, \u001b[38;5;34m128\u001b[0m)    │        \u001b[38;5;34m73,856\u001b[0m │\n",
       "├─────────────────────────────────┼────────────────────────┼───────────────┤\n",
       "│ flatten (\u001b[38;5;33mFlatten\u001b[0m)               │ (\u001b[38;5;45mNone\u001b[0m, \u001b[38;5;34m12800\u001b[0m)          │             \u001b[38;5;34m0\u001b[0m │\n",
       "├─────────────────────────────────┼────────────────────────┼───────────────┤\n",
       "│ dense (\u001b[38;5;33mDense\u001b[0m)                   │ (\u001b[38;5;45mNone\u001b[0m, \u001b[38;5;34m1024\u001b[0m)           │    \u001b[38;5;34m13,108,224\u001b[0m │\n",
       "├─────────────────────────────────┼────────────────────────┼───────────────┤\n",
       "│ dense_1 (\u001b[38;5;33mDense\u001b[0m)                 │ (\u001b[38;5;45mNone\u001b[0m, \u001b[38;5;34m512\u001b[0m)            │       \u001b[38;5;34m524,800\u001b[0m │\n",
       "├─────────────────────────────────┼────────────────────────┼───────────────┤\n",
       "│ dense_2 (\u001b[38;5;33mDense\u001b[0m)                 │ (\u001b[38;5;45mNone\u001b[0m, \u001b[38;5;34m512\u001b[0m)            │       \u001b[38;5;34m262,656\u001b[0m │\n",
       "├─────────────────────────────────┼────────────────────────┼───────────────┤\n",
       "│ dense_3 (\u001b[38;5;33mDense\u001b[0m)                 │ (\u001b[38;5;45mNone\u001b[0m, \u001b[38;5;34m10\u001b[0m)             │         \u001b[38;5;34m5,130\u001b[0m │\n",
       "└─────────────────────────────────┴────────────────────────┴───────────────┘\n"
      ]
     },
     "metadata": {},
     "output_type": "display_data"
    },
    {
     "data": {
      "text/html": [
       "<pre style=\"white-space:pre;overflow-x:auto;line-height:normal;font-family:Menlo,'DejaVu Sans Mono',consolas,'Courier New',monospace\"><span style=\"font-weight: bold\"> Total params: </span><span style=\"color: #00af00; text-decoration-color: #00af00\">13,993,482</span> (53.38 MB)\n",
       "</pre>\n"
      ],
      "text/plain": [
       "\u001b[1m Total params: \u001b[0m\u001b[38;5;34m13,993,482\u001b[0m (53.38 MB)\n"
      ]
     },
     "metadata": {},
     "output_type": "display_data"
    },
    {
     "data": {
      "text/html": [
       "<pre style=\"white-space:pre;overflow-x:auto;line-height:normal;font-family:Menlo,'DejaVu Sans Mono',consolas,'Courier New',monospace\"><span style=\"font-weight: bold\"> Trainable params: </span><span style=\"color: #00af00; text-decoration-color: #00af00\">13,993,482</span> (53.38 MB)\n",
       "</pre>\n"
      ],
      "text/plain": [
       "\u001b[1m Trainable params: \u001b[0m\u001b[38;5;34m13,993,482\u001b[0m (53.38 MB)\n"
      ]
     },
     "metadata": {},
     "output_type": "display_data"
    },
    {
     "data": {
      "text/html": [
       "<pre style=\"white-space:pre;overflow-x:auto;line-height:normal;font-family:Menlo,'DejaVu Sans Mono',consolas,'Courier New',monospace\"><span style=\"font-weight: bold\"> Non-trainable params: </span><span style=\"color: #00af00; text-decoration-color: #00af00\">0</span> (0.00 B)\n",
       "</pre>\n"
      ],
      "text/plain": [
       "\u001b[1m Non-trainable params: \u001b[0m\u001b[38;5;34m0\u001b[0m (0.00 B)\n"
      ]
     },
     "metadata": {},
     "output_type": "display_data"
    }
   ],
   "source": [
    "tf.keras.backend.clear_session()\n",
    "\n",
    "simple_model = tf.keras.models.Sequential([\n",
    "    tf.keras.layers.Input(shape=[28, 28, 1]),\n",
    "    ConvLayer(filters=32),\n",
    "    ConvLayer(filters=64),\n",
    "    tf.keras.layers.MaxPool2D(2, 2),\n",
    "    ConvLayer(filters=128),\n",
    "    tf.keras.layers.Flatten(),\n",
    "    DenseLayer(1024),\n",
    "    DenseLayer(512),\n",
    "    DenseLayer(512),\n",
    "    DenseLayer(10, activation=\"softmax\")\n",
    "])\n",
    "\n",
    "simple_model.summary()"
   ]
  },
  {
   "cell_type": "code",
   "execution_count": 15,
   "id": "5a545c71",
   "metadata": {
    "execution": {
     "iopub.execute_input": "2024-07-27T07:32:57.309748Z",
     "iopub.status.busy": "2024-07-27T07:32:57.308626Z",
     "iopub.status.idle": "2024-07-27T07:34:07.359721Z",
     "shell.execute_reply": "2024-07-27T07:34:07.358552Z"
    },
    "papermill": {
     "duration": 70.071447,
     "end_time": "2024-07-27T07:34:07.362248",
     "exception": false,
     "start_time": "2024-07-27T07:32:57.290801",
     "status": "completed"
    },
    "tags": []
   },
   "outputs": [
    {
     "name": "stdout",
     "output_type": "stream",
     "text": [
      "Epoch 1/30\n"
     ]
    },
    {
     "name": "stderr",
     "output_type": "stream",
     "text": [
      "2024-07-27 07:33:01.483145: E external/local_xla/xla/service/gpu/buffer_comparator.cc:1137] Difference at 676: 2.01985, expected 1.26858\n",
      "2024-07-27 07:33:01.483234: E external/local_xla/xla/service/gpu/buffer_comparator.cc:1137] Difference at 677: 2.17255, expected 1.42128\n",
      "2024-07-27 07:33:01.483245: E external/local_xla/xla/service/gpu/buffer_comparator.cc:1137] Difference at 678: 2.62646, expected 1.87519\n",
      "2024-07-27 07:33:01.483254: E external/local_xla/xla/service/gpu/buffer_comparator.cc:1137] Difference at 679: 2.17504, expected 1.42377\n",
      "2024-07-27 07:33:01.483263: E external/local_xla/xla/service/gpu/buffer_comparator.cc:1137] Difference at 680: 2.46212, expected 1.71085\n",
      "2024-07-27 07:33:01.483272: E external/local_xla/xla/service/gpu/buffer_comparator.cc:1137] Difference at 681: 2.56704, expected 1.81578\n",
      "2024-07-27 07:33:01.483281: E external/local_xla/xla/service/gpu/buffer_comparator.cc:1137] Difference at 682: 2.12676, expected 1.3755\n",
      "2024-07-27 07:33:01.483290: E external/local_xla/xla/service/gpu/buffer_comparator.cc:1137] Difference at 683: 2.64863, expected 1.89736\n",
      "2024-07-27 07:33:01.483299: E external/local_xla/xla/service/gpu/buffer_comparator.cc:1137] Difference at 684: 2.03886, expected 1.28759\n",
      "2024-07-27 07:33:01.483308: E external/local_xla/xla/service/gpu/buffer_comparator.cc:1137] Difference at 685: 1.85403, expected 1.10276\n",
      "2024-07-27 07:33:01.483333: E external/local_xla/xla/service/gpu/conv_algorithm_picker.cc:705] Results mismatch between different convolution algorithms. This is likely a bug/unexpected loss of precision in cudnn.\n",
      "(f32[64,32,26,26]{3,2,1,0}, u8[0]{0}) custom-call(f32[64,1,28,28]{3,2,1,0}, f32[32,1,3,3]{3,2,1,0}, f32[32]{0}), window={size=3x3}, dim_labels=bf01_oi01->bf01, custom_call_target=\"__cudnn$convBiasActivationForward\", backend_config={\"conv_result_scale\":1,\"activation_mode\":\"kNone\",\"side_input_scale\":0,\"leakyrelu_alpha\":0} for eng20{k2=2,k4=1,k5=1,k6=0,k7=0} vs eng15{k5=1,k6=0,k7=1,k10=1}\n",
      "2024-07-27 07:33:01.483344: E external/local_xla/xla/service/gpu/conv_algorithm_picker.cc:270] Device: Tesla P100-PCIE-16GB\n",
      "2024-07-27 07:33:01.483352: E external/local_xla/xla/service/gpu/conv_algorithm_picker.cc:271] Platform: Compute Capability 6.0\n",
      "2024-07-27 07:33:01.483360: E external/local_xla/xla/service/gpu/conv_algorithm_picker.cc:272] Driver: 12040 (550.90.7)\n",
      "2024-07-27 07:33:01.483368: E external/local_xla/xla/service/gpu/conv_algorithm_picker.cc:273] Runtime: <undefined>\n",
      "2024-07-27 07:33:01.483385: E external/local_xla/xla/service/gpu/conv_algorithm_picker.cc:280] cudnn version: 8.9.0\n",
      "2024-07-27 07:33:01.563261: E external/local_xla/xla/service/gpu/buffer_comparator.cc:1137] Difference at 676: 2.01985, expected 1.26858\n",
      "2024-07-27 07:33:01.563333: E external/local_xla/xla/service/gpu/buffer_comparator.cc:1137] Difference at 677: 2.17255, expected 1.42128\n",
      "2024-07-27 07:33:01.563344: E external/local_xla/xla/service/gpu/buffer_comparator.cc:1137] Difference at 678: 2.62646, expected 1.87519\n",
      "2024-07-27 07:33:01.563353: E external/local_xla/xla/service/gpu/buffer_comparator.cc:1137] Difference at 679: 2.17504, expected 1.42377\n",
      "2024-07-27 07:33:01.563362: E external/local_xla/xla/service/gpu/buffer_comparator.cc:1137] Difference at 680: 2.46212, expected 1.71085\n",
      "2024-07-27 07:33:01.563371: E external/local_xla/xla/service/gpu/buffer_comparator.cc:1137] Difference at 681: 2.56704, expected 1.81578\n",
      "2024-07-27 07:33:01.563380: E external/local_xla/xla/service/gpu/buffer_comparator.cc:1137] Difference at 682: 2.12676, expected 1.3755\n",
      "2024-07-27 07:33:01.563389: E external/local_xla/xla/service/gpu/buffer_comparator.cc:1137] Difference at 683: 2.64863, expected 1.89736\n",
      "2024-07-27 07:33:01.563398: E external/local_xla/xla/service/gpu/buffer_comparator.cc:1137] Difference at 684: 2.03886, expected 1.28759\n",
      "2024-07-27 07:33:01.563407: E external/local_xla/xla/service/gpu/buffer_comparator.cc:1137] Difference at 685: 1.85403, expected 1.10276\n",
      "2024-07-27 07:33:01.563436: E external/local_xla/xla/service/gpu/conv_algorithm_picker.cc:705] Results mismatch between different convolution algorithms. This is likely a bug/unexpected loss of precision in cudnn.\n",
      "(f32[64,32,26,26]{3,2,1,0}, u8[0]{0}) custom-call(f32[64,1,28,28]{3,2,1,0}, f32[32,1,3,3]{3,2,1,0}, f32[32]{0}), window={size=3x3}, dim_labels=bf01_oi01->bf01, custom_call_target=\"__cudnn$convBiasActivationForward\", backend_config={\"conv_result_scale\":1,\"activation_mode\":\"kNone\",\"side_input_scale\":0,\"leakyrelu_alpha\":0} for eng20{k2=2,k4=1,k5=1,k6=0,k7=0} vs eng15{k5=1,k6=0,k7=1,k10=1}\n",
      "2024-07-27 07:33:01.563453: E external/local_xla/xla/service/gpu/conv_algorithm_picker.cc:270] Device: Tesla P100-PCIE-16GB\n",
      "2024-07-27 07:33:01.563462: E external/local_xla/xla/service/gpu/conv_algorithm_picker.cc:271] Platform: Compute Capability 6.0\n",
      "2024-07-27 07:33:01.563470: E external/local_xla/xla/service/gpu/conv_algorithm_picker.cc:272] Driver: 12040 (550.90.7)\n",
      "2024-07-27 07:33:01.563478: E external/local_xla/xla/service/gpu/conv_algorithm_picker.cc:273] Runtime: <undefined>\n",
      "2024-07-27 07:33:01.563493: E external/local_xla/xla/service/gpu/conv_algorithm_picker.cc:280] cudnn version: 8.9.0\n"
     ]
    },
    {
     "name": "stdout",
     "output_type": "stream",
     "text": [
      "     24/Unknown \u001b[1m7s\u001b[0m 7ms/step - accuracy: 0.1839 - loss: 28159.6973"
     ]
    },
    {
     "name": "stderr",
     "output_type": "stream",
     "text": [
      "WARNING: All log messages before absl::InitializeLog() is called are written to STDERR\n",
      "I0000 00:00:1722065584.286274      69 device_compiler.h:186] Compiled cluster using XLA!  This line is logged at most once for the lifetime of the process.\n",
      "W0000 00:00:1722065584.310972      69 graph_launch.cc:671] Fallback to op-by-op mode because memset node breaks graph update\n"
     ]
    },
    {
     "name": "stdout",
     "output_type": "stream",
     "text": [
      "    812/Unknown \u001b[1m13s\u001b[0m 7ms/step - accuracy: 0.6932 - loss: 2012.1075"
     ]
    },
    {
     "name": "stderr",
     "output_type": "stream",
     "text": [
      "2024-07-27 07:33:10.451206: E external/local_xla/xla/service/gpu/buffer_comparator.cc:1137] Difference at 0: 2.35363, expected 1.53764\n",
      "2024-07-27 07:33:10.451293: E external/local_xla/xla/service/gpu/buffer_comparator.cc:1137] Difference at 1: 1.82107, expected 1.00508\n",
      "2024-07-27 07:33:10.451304: E external/local_xla/xla/service/gpu/buffer_comparator.cc:1137] Difference at 2: 1.81936, expected 1.00338\n",
      "2024-07-27 07:33:10.451314: E external/local_xla/xla/service/gpu/buffer_comparator.cc:1137] Difference at 3: 2.23827, expected 1.42229\n",
      "2024-07-27 07:33:10.451323: E external/local_xla/xla/service/gpu/buffer_comparator.cc:1137] Difference at 4: 3.05481, expected 2.23883\n",
      "2024-07-27 07:33:10.451332: E external/local_xla/xla/service/gpu/buffer_comparator.cc:1137] Difference at 5: 2.58554, expected 1.76955\n",
      "2024-07-27 07:33:10.451341: E external/local_xla/xla/service/gpu/buffer_comparator.cc:1137] Difference at 6: 3.00002, expected 2.18403\n",
      "2024-07-27 07:33:10.451350: E external/local_xla/xla/service/gpu/buffer_comparator.cc:1137] Difference at 7: 2.82235, expected 2.00636\n",
      "2024-07-27 07:33:10.451359: E external/local_xla/xla/service/gpu/buffer_comparator.cc:1137] Difference at 8: 3.10502, expected 2.28904\n",
      "2024-07-27 07:33:10.451367: E external/local_xla/xla/service/gpu/buffer_comparator.cc:1137] Difference at 9: 2.73743, expected 1.92145\n",
      "2024-07-27 07:33:10.451391: E external/local_xla/xla/service/gpu/conv_algorithm_picker.cc:705] Results mismatch between different convolution algorithms. This is likely a bug/unexpected loss of precision in cudnn.\n",
      "(f32[32,32,26,26]{3,2,1,0}, u8[0]{0}) custom-call(f32[32,1,28,28]{3,2,1,0}, f32[32,1,3,3]{3,2,1,0}, f32[32]{0}), window={size=3x3}, dim_labels=bf01_oi01->bf01, custom_call_target=\"__cudnn$convBiasActivationForward\", backend_config={\"conv_result_scale\":1,\"activation_mode\":\"kNone\",\"side_input_scale\":0,\"leakyrelu_alpha\":0} for eng20{k2=2,k4=1,k5=1,k6=0,k7=0} vs eng15{k5=1,k6=0,k7=1,k10=1}\n",
      "2024-07-27 07:33:10.451401: E external/local_xla/xla/service/gpu/conv_algorithm_picker.cc:270] Device: Tesla P100-PCIE-16GB\n",
      "2024-07-27 07:33:10.451409: E external/local_xla/xla/service/gpu/conv_algorithm_picker.cc:271] Platform: Compute Capability 6.0\n",
      "2024-07-27 07:33:10.451416: E external/local_xla/xla/service/gpu/conv_algorithm_picker.cc:272] Driver: 12040 (550.90.7)\n",
      "2024-07-27 07:33:10.451424: E external/local_xla/xla/service/gpu/conv_algorithm_picker.cc:273] Runtime: <undefined>\n",
      "2024-07-27 07:33:10.451439: E external/local_xla/xla/service/gpu/conv_algorithm_picker.cc:280] cudnn version: 8.9.0\n",
      "2024-07-27 07:33:10.481066: E external/local_xla/xla/service/gpu/buffer_comparator.cc:1137] Difference at 0: 2.35363, expected 1.53764\n",
      "2024-07-27 07:33:10.481157: E external/local_xla/xla/service/gpu/buffer_comparator.cc:1137] Difference at 1: 1.82107, expected 1.00508\n",
      "2024-07-27 07:33:10.481169: E external/local_xla/xla/service/gpu/buffer_comparator.cc:1137] Difference at 2: 1.81936, expected 1.00338\n",
      "2024-07-27 07:33:10.481178: E external/local_xla/xla/service/gpu/buffer_comparator.cc:1137] Difference at 3: 2.23827, expected 1.42229\n",
      "2024-07-27 07:33:10.481187: E external/local_xla/xla/service/gpu/buffer_comparator.cc:1137] Difference at 4: 3.05481, expected 2.23883\n",
      "2024-07-27 07:33:10.481196: E external/local_xla/xla/service/gpu/buffer_comparator.cc:1137] Difference at 5: 2.58554, expected 1.76955\n",
      "2024-07-27 07:33:10.481205: E external/local_xla/xla/service/gpu/buffer_comparator.cc:1137] Difference at 6: 3.00002, expected 2.18403\n",
      "2024-07-27 07:33:10.481214: E external/local_xla/xla/service/gpu/buffer_comparator.cc:1137] Difference at 7: 2.82235, expected 2.00636\n",
      "2024-07-27 07:33:10.481230: E external/local_xla/xla/service/gpu/buffer_comparator.cc:1137] Difference at 8: 3.10502, expected 2.28904\n",
      "2024-07-27 07:33:10.481239: E external/local_xla/xla/service/gpu/buffer_comparator.cc:1137] Difference at 9: 2.73743, expected 1.92145\n",
      "2024-07-27 07:33:10.481259: E external/local_xla/xla/service/gpu/conv_algorithm_picker.cc:705] Results mismatch between different convolution algorithms. This is likely a bug/unexpected loss of precision in cudnn.\n",
      "(f32[32,32,26,26]{3,2,1,0}, u8[0]{0}) custom-call(f32[32,1,28,28]{3,2,1,0}, f32[32,1,3,3]{3,2,1,0}, f32[32]{0}), window={size=3x3}, dim_labels=bf01_oi01->bf01, custom_call_target=\"__cudnn$convBiasActivationForward\", backend_config={\"conv_result_scale\":1,\"activation_mode\":\"kNone\",\"side_input_scale\":0,\"leakyrelu_alpha\":0} for eng20{k2=2,k4=1,k5=1,k6=0,k7=0} vs eng15{k5=1,k6=0,k7=1,k10=1}\n",
      "2024-07-27 07:33:10.481269: E external/local_xla/xla/service/gpu/conv_algorithm_picker.cc:270] Device: Tesla P100-PCIE-16GB\n",
      "2024-07-27 07:33:10.481277: E external/local_xla/xla/service/gpu/conv_algorithm_picker.cc:271] Platform: Compute Capability 6.0\n",
      "2024-07-27 07:33:10.481285: E external/local_xla/xla/service/gpu/conv_algorithm_picker.cc:272] Driver: 12040 (550.90.7)\n",
      "2024-07-27 07:33:10.481293: E external/local_xla/xla/service/gpu/conv_algorithm_picker.cc:273] Runtime: <undefined>\n",
      "2024-07-27 07:33:10.481311: E external/local_xla/xla/service/gpu/conv_algorithm_picker.cc:280] cudnn version: 8.9.0\n"
     ]
    },
    {
     "name": "stdout",
     "output_type": "stream",
     "text": [
      "    813/Unknown \u001b[1m15s\u001b[0m 10ms/step - accuracy: 0.6933 - loss: 2010.0474"
     ]
    },
    {
     "name": "stderr",
     "output_type": "stream",
     "text": [
      "W0000 00:00:1722065592.806464      67 graph_launch.cc:671] Fallback to op-by-op mode because memset node breaks graph update\n",
      "/opt/conda/lib/python3.10/contextlib.py:153: UserWarning: Your input ran out of data; interrupting training. Make sure that your dataset or generator can generate at least `steps_per_epoch * epochs` batches. You may need to use the `.repeat()` function when building your dataset.\n",
      "  self.gen.throw(typ, value, traceback)\n",
      "W0000 00:00:1722065593.605987      68 graph_launch.cc:671] Fallback to op-by-op mode because memset node breaks graph update\n"
     ]
    },
    {
     "name": "stdout",
     "output_type": "stream",
     "text": [
      "\u001b[1m813/813\u001b[0m \u001b[32m━━━━━━━━━━━━━━━━━━━━\u001b[0m\u001b[37m\u001b[0m \u001b[1m17s\u001b[0m 12ms/step - accuracy: 0.6934 - loss: 2007.9922 - val_accuracy: 0.8174 - val_loss: 0.4994\n",
      "Epoch 2/30\n",
      "\u001b[1m813/813\u001b[0m \u001b[32m━━━━━━━━━━━━━━━━━━━━\u001b[0m\u001b[37m\u001b[0m \u001b[1m7s\u001b[0m 8ms/step - accuracy: 0.8427 - loss: 0.4386 - val_accuracy: 0.8590 - val_loss: 0.4009\n",
      "Epoch 3/30\n",
      "\u001b[1m813/813\u001b[0m \u001b[32m━━━━━━━━━━━━━━━━━━━━\u001b[0m\u001b[37m\u001b[0m \u001b[1m7s\u001b[0m 8ms/step - accuracy: 0.8665 - loss: 0.3621 - val_accuracy: 0.8270 - val_loss: 0.5167\n",
      "Epoch 4/30\n",
      "\u001b[1m813/813\u001b[0m \u001b[32m━━━━━━━━━━━━━━━━━━━━\u001b[0m\u001b[37m\u001b[0m \u001b[1m7s\u001b[0m 8ms/step - accuracy: 0.8668 - loss: 0.3732 - val_accuracy: 0.8711 - val_loss: 0.3608\n",
      "Epoch 5/30\n",
      "\u001b[1m813/813\u001b[0m \u001b[32m━━━━━━━━━━━━━━━━━━━━\u001b[0m\u001b[37m\u001b[0m \u001b[1m7s\u001b[0m 8ms/step - accuracy: 0.8923 - loss: 0.2950 - val_accuracy: 0.8558 - val_loss: 0.4436\n",
      "Epoch 6/30\n",
      "\u001b[1m813/813\u001b[0m \u001b[32m━━━━━━━━━━━━━━━━━━━━\u001b[0m\u001b[37m\u001b[0m \u001b[1m7s\u001b[0m 8ms/step - accuracy: 0.5661 - loss: 660.2900 - val_accuracy: 0.1075 - val_loss: 2.3050\n",
      "Epoch 7/30\n",
      "\u001b[1m813/813\u001b[0m \u001b[32m━━━━━━━━━━━━━━━━━━━━\u001b[0m\u001b[37m\u001b[0m \u001b[1m7s\u001b[0m 8ms/step - accuracy: 0.0981 - loss: 2.3068 - val_accuracy: 0.0934 - val_loss: 2.3064\n",
      "Epoch 8/30\n",
      "\u001b[1m813/813\u001b[0m \u001b[32m━━━━━━━━━━━━━━━━━━━━\u001b[0m\u001b[37m\u001b[0m \u001b[1m6s\u001b[0m 8ms/step - accuracy: 0.0984 - loss: 2.3071 - val_accuracy: 0.0990 - val_loss: 2.3064\n",
      "Epoch 9/30\n",
      "\u001b[1m813/813\u001b[0m \u001b[32m━━━━━━━━━━━━━━━━━━━━\u001b[0m\u001b[37m\u001b[0m \u001b[1m7s\u001b[0m 8ms/step - accuracy: 0.0985 - loss: 2.3074 - val_accuracy: 0.1011 - val_loss: 2.3044\n"
     ]
    },
    {
     "data": {
      "text/plain": [
       "<keras.src.callbacks.history.History at 0x7aad25801270>"
      ]
     },
     "execution_count": 15,
     "metadata": {},
     "output_type": "execute_result"
    }
   ],
   "source": [
    "exp_lr_schedule = tf.keras.optimizers.schedules.ExponentialDecay(\n",
    "    initial_learning_rate=1e-2, decay_rate=0.1, decay_steps=10e3, staircase=False\n",
    ")\n",
    "\n",
    "early_stopping = tf.keras.callbacks.EarlyStopping(\n",
    "    patience=5, min_delta=1e-3, restore_best_weights=True\n",
    ")\n",
    "\n",
    "simple_model.compile(\n",
    "    loss=\"sparse_categorical_crossentropy\",\n",
    "    metrics=[\"accuracy\"],\n",
    "    optimizer=tf.keras.optimizers.Nadam(learning_rate=exp_lr_schedule)\n",
    ")\n",
    "\n",
    "simple_model.fit(\n",
    "    train_set, validation_data=valid_set, epochs=30, callbacks=[early_stopping]\n",
    ")"
   ]
  },
  {
   "cell_type": "code",
   "execution_count": 16,
   "id": "e885f1f4",
   "metadata": {
    "execution": {
     "iopub.execute_input": "2024-07-27T07:34:07.658319Z",
     "iopub.status.busy": "2024-07-27T07:34:07.657889Z",
     "iopub.status.idle": "2024-07-27T07:34:09.050979Z",
     "shell.execute_reply": "2024-07-27T07:34:09.049931Z"
    },
    "papermill": {
     "duration": 1.510599,
     "end_time": "2024-07-27T07:34:09.053359",
     "exception": false,
     "start_time": "2024-07-27T07:34:07.542760",
     "status": "completed"
    },
    "tags": []
   },
   "outputs": [
    {
     "name": "stdout",
     "output_type": "stream",
     "text": [
      "    141/Unknown \u001b[1m0s\u001b[0m 3ms/step - accuracy: 0.8636 - loss: 0.3883"
     ]
    },
    {
     "name": "stderr",
     "output_type": "stream",
     "text": [
      "2024-07-27 07:34:08.246806: E external/local_xla/xla/service/gpu/buffer_comparator.cc:1137] Difference at 0: 1.34972, expected 1.00161\n",
      "2024-07-27 07:34:08.246886: E external/local_xla/xla/service/gpu/buffer_comparator.cc:1137] Difference at 1: 1.6774, expected 1.32929\n",
      "2024-07-27 07:34:08.246903: E external/local_xla/xla/service/gpu/buffer_comparator.cc:1137] Difference at 2: 1.95868, expected 1.61057\n",
      "2024-07-27 07:34:08.246919: E external/local_xla/xla/service/gpu/buffer_comparator.cc:1137] Difference at 3: 1.69333, expected 1.34521\n",
      "2024-07-27 07:34:08.246934: E external/local_xla/xla/service/gpu/buffer_comparator.cc:1137] Difference at 4: 2.08558, expected 1.73747\n",
      "2024-07-27 07:34:08.246946: E external/local_xla/xla/service/gpu/buffer_comparator.cc:1137] Difference at 6: 1.59326, expected 1.24515\n",
      "2024-07-27 07:34:08.246959: E external/local_xla/xla/service/gpu/buffer_comparator.cc:1137] Difference at 8: 1.72639, expected 1.37827\n",
      "2024-07-27 07:34:08.246970: E external/local_xla/xla/service/gpu/buffer_comparator.cc:1137] Difference at 9: 1.78453, expected 1.43641\n",
      "2024-07-27 07:34:08.246983: E external/local_xla/xla/service/gpu/buffer_comparator.cc:1137] Difference at 10: 1.51148, expected 1.16336\n",
      "2024-07-27 07:34:08.246995: E external/local_xla/xla/service/gpu/buffer_comparator.cc:1137] Difference at 11: 2.12228, expected 1.77416\n",
      "2024-07-27 07:34:08.247021: E external/local_xla/xla/service/gpu/conv_algorithm_picker.cc:705] Results mismatch between different convolution algorithms. This is likely a bug/unexpected loss of precision in cudnn.\n",
      "(f32[16,32,26,26]{3,2,1,0}, u8[0]{0}) custom-call(f32[16,1,28,28]{3,2,1,0}, f32[32,1,3,3]{3,2,1,0}, f32[32]{0}), window={size=3x3}, dim_labels=bf01_oi01->bf01, custom_call_target=\"__cudnn$convBiasActivationForward\", backend_config={\"conv_result_scale\":1,\"activation_mode\":\"kNone\",\"side_input_scale\":0,\"leakyrelu_alpha\":0} for eng20{k2=2,k4=1,k5=1,k6=0,k7=0} vs eng15{k5=1,k6=0,k7=1,k10=1}\n",
      "2024-07-27 07:34:08.247034: E external/local_xla/xla/service/gpu/conv_algorithm_picker.cc:270] Device: Tesla P100-PCIE-16GB\n",
      "2024-07-27 07:34:08.247044: E external/local_xla/xla/service/gpu/conv_algorithm_picker.cc:271] Platform: Compute Capability 6.0\n",
      "2024-07-27 07:34:08.247055: E external/local_xla/xla/service/gpu/conv_algorithm_picker.cc:272] Driver: 12040 (550.90.7)\n",
      "2024-07-27 07:34:08.247067: E external/local_xla/xla/service/gpu/conv_algorithm_picker.cc:273] Runtime: <undefined>\n",
      "2024-07-27 07:34:08.247087: E external/local_xla/xla/service/gpu/conv_algorithm_picker.cc:280] cudnn version: 8.9.0\n",
      "2024-07-27 07:34:08.276173: E external/local_xla/xla/service/gpu/buffer_comparator.cc:1137] Difference at 0: 1.34972, expected 1.00161\n",
      "2024-07-27 07:34:08.276234: E external/local_xla/xla/service/gpu/buffer_comparator.cc:1137] Difference at 1: 1.6774, expected 1.32929\n",
      "2024-07-27 07:34:08.276249: E external/local_xla/xla/service/gpu/buffer_comparator.cc:1137] Difference at 2: 1.95868, expected 1.61057\n",
      "2024-07-27 07:34:08.276261: E external/local_xla/xla/service/gpu/buffer_comparator.cc:1137] Difference at 3: 1.69333, expected 1.34521\n",
      "2024-07-27 07:34:08.276277: E external/local_xla/xla/service/gpu/buffer_comparator.cc:1137] Difference at 4: 2.08558, expected 1.73747\n",
      "2024-07-27 07:34:08.276296: E external/local_xla/xla/service/gpu/buffer_comparator.cc:1137] Difference at 6: 1.59326, expected 1.24515\n",
      "2024-07-27 07:34:08.276312: E external/local_xla/xla/service/gpu/buffer_comparator.cc:1137] Difference at 8: 1.72639, expected 1.37827\n",
      "2024-07-27 07:34:08.276325: E external/local_xla/xla/service/gpu/buffer_comparator.cc:1137] Difference at 9: 1.78453, expected 1.43641\n",
      "2024-07-27 07:34:08.276338: E external/local_xla/xla/service/gpu/buffer_comparator.cc:1137] Difference at 10: 1.51148, expected 1.16336\n",
      "2024-07-27 07:34:08.276350: E external/local_xla/xla/service/gpu/buffer_comparator.cc:1137] Difference at 11: 2.12228, expected 1.77416\n",
      "2024-07-27 07:34:08.276376: E external/local_xla/xla/service/gpu/conv_algorithm_picker.cc:705] Results mismatch between different convolution algorithms. This is likely a bug/unexpected loss of precision in cudnn.\n",
      "(f32[16,32,26,26]{3,2,1,0}, u8[0]{0}) custom-call(f32[16,1,28,28]{3,2,1,0}, f32[32,1,3,3]{3,2,1,0}, f32[32]{0}), window={size=3x3}, dim_labels=bf01_oi01->bf01, custom_call_target=\"__cudnn$convBiasActivationForward\", backend_config={\"conv_result_scale\":1,\"activation_mode\":\"kNone\",\"side_input_scale\":0,\"leakyrelu_alpha\":0} for eng20{k2=2,k4=1,k5=1,k6=0,k7=0} vs eng15{k5=1,k6=0,k7=1,k10=1}\n",
      "2024-07-27 07:34:08.276391: E external/local_xla/xla/service/gpu/conv_algorithm_picker.cc:270] Device: Tesla P100-PCIE-16GB\n",
      "2024-07-27 07:34:08.276406: E external/local_xla/xla/service/gpu/conv_algorithm_picker.cc:271] Platform: Compute Capability 6.0\n",
      "2024-07-27 07:34:08.276419: E external/local_xla/xla/service/gpu/conv_algorithm_picker.cc:272] Driver: 12040 (550.90.7)\n",
      "2024-07-27 07:34:08.276443: E external/local_xla/xla/service/gpu/conv_algorithm_picker.cc:273] Runtime: <undefined>\n",
      "2024-07-27 07:34:08.276465: E external/local_xla/xla/service/gpu/conv_algorithm_picker.cc:280] cudnn version: 8.9.0\n"
     ]
    },
    {
     "name": "stdout",
     "output_type": "stream",
     "text": [
      "\u001b[1m157/157\u001b[0m \u001b[32m━━━━━━━━━━━━━━━━━━━━\u001b[0m\u001b[37m\u001b[0m \u001b[1m1s\u001b[0m 8ms/step - accuracy: 0.8640 - loss: 0.3879\n"
     ]
    },
    {
     "name": "stderr",
     "output_type": "stream",
     "text": [
      "W0000 00:00:1722065649.031820      66 graph_launch.cc:671] Fallback to op-by-op mode because memset node breaks graph update\n"
     ]
    },
    {
     "data": {
      "text/plain": [
       "[0.38512590527534485, 0.8671000003814697]"
      ]
     },
     "execution_count": 16,
     "metadata": {},
     "output_type": "execute_result"
    }
   ],
   "source": [
    "simple_model.evaluate(test_set)"
   ]
  },
  {
   "cell_type": "markdown",
   "id": "f95f8744",
   "metadata": {
    "papermill": {
     "duration": 0.117223,
     "end_time": "2024-07-27T07:34:09.287449",
     "exception": false,
     "start_time": "2024-07-27T07:34:09.170226",
     "status": "completed"
    },
    "tags": []
   },
   "source": [
    "**Utilizing the Alternate Approach**\n",
    "--\n",
    "\n",
    "- Saving all the splits into multiple TFRecord files by utilizing a Round-Robin approach to interleave each split while being saved as TFRecords.\n",
    "- Rest of process remains the same."
   ]
  },
  {
   "cell_type": "code",
   "execution_count": 17,
   "id": "03e85eff",
   "metadata": {
    "execution": {
     "iopub.execute_input": "2024-07-27T07:34:09.520677Z",
     "iopub.status.busy": "2024-07-27T07:34:09.519798Z",
     "iopub.status.idle": "2024-07-27T07:34:09.677202Z",
     "shell.execute_reply": "2024-07-27T07:34:09.676037Z"
    },
    "papermill": {
     "duration": 0.276605,
     "end_time": "2024-07-27T07:34:09.679896",
     "exception": false,
     "start_time": "2024-07-27T07:34:09.403291",
     "status": "completed"
    },
    "tags": []
   },
   "outputs": [],
   "source": [
    "# Creating and Shuffling the TensorSlice Dataset used for training\n",
    "train_set = tf.data.Dataset.from_tensor_slices((X_train, y_train), name=\"TrainingSet\")\n",
    "train_set = train_set.shuffle(10_000, seed=17)\n",
    "\n",
    "valid_set = tf.data.Dataset.from_tensor_slices((X_valid, y_valid), name=\"ValidationSet\")\n",
    "test_set = tf.data.Dataset.from_tensor_slices((X_test, y_test), name=\"TestingSet\")"
   ]
  },
  {
   "cell_type": "code",
   "execution_count": 18,
   "id": "e64742cc",
   "metadata": {
    "execution": {
     "iopub.execute_input": "2024-07-27T07:34:09.912725Z",
     "iopub.status.busy": "2024-07-27T07:34:09.911766Z",
     "iopub.status.idle": "2024-07-27T07:34:09.930350Z",
     "shell.execute_reply": "2024-07-27T07:34:09.929227Z"
    },
    "papermill": {
     "duration": 0.137628,
     "end_time": "2024-07-27T07:34:09.932956",
     "exception": false,
     "start_time": "2024-07-27T07:34:09.795328",
     "status": "completed"
    },
    "tags": []
   },
   "outputs": [
    {
     "name": "stdout",
     "output_type": "stream",
     "text": [
      "features {\n",
      "  feature {\n",
      "    key: \"image\"\n",
      "    value {\n",
      "      bytes_list {\n",
      "        value: \"\\010\\004\\022\\010\\022\\002\\010\\034\\022\\002\\010\\034\\\"\\220\\006\\000\\000\\000\\000\\000\\000\\000\\000\\000\\000\\000\\000\\000\\000\\000\\000\\000\\000\\000\\000\\000\\000\\000\\000\\000\\000\\000\\000\\000\\000\\000\\000\\000\\000\\000\\000\\000\\000\\000\\000\\000\\000\\000\\000\\000\\000\\000\\000\\000\\000\\000\\000\\000\\000\\000\\000\\000\\000\\000\\000\\000\\000\\000\\000\\000\\000\\000\\000\\000\\000\\000\\000\\000\\000\\000\\000\\000\\000\\000\\000\\000\\000\\000\\000\\000\\000\\000\\000\\000\\000\\000\\000\\000\\000\\000\\000\\001\\000\\000\\rI\\000\\000\\001\\004\\000\\000\\000\\000\\001\\001\\000\\000\\000\\000\\000\\000\\000\\000\\000\\000\\000\\000\\000\\003\\000$\\210\\177>6\\000\\000\\000\\001\\003\\004\\000\\000\\003\\000\\000\\000\\000\\000\\000\\000\\000\\000\\000\\000\\000\\006\\000f\\314\\260\\206\\220{\\027\\000\\000\\000\\000\\014\\n\\000\\000\\000\\000\\000\\000\\000\\000\\000\\000\\000\\000\\000\\000\\000\\233\\354\\317\\262k\\234\\241m@\\027M\\202H\\017\\000\\000\\000\\000\\000\\000\\000\\000\\000\\000\\000\\001\\000E\\317\\337\\332\\330\\330\\243\\177yz\\222\\215X\\254B\\000\\000\\000\\000\\000\\000\\000\\000\\000\\001\\001\\001\\000\\310\\350\\350\\351\\345\\337\\337\\327\\325\\244\\177{\\304\\345\\000\\000\\000\\000\\000\\000\\000\\000\\000\\000\\000\\000\\000\\000\\267\\341\\330\\337\\344\\353\\343\\340\\336\\340\\335\\337\\365\\255\\000\\000\\000\\000\\000\\000\\000\\000\\000\\000\\000\\000\\000\\000\\301\\344\\332\\325\\306\\264\\324\\322\\323\\325\\337\\334\\363\\312\\000\\000\\000\\000\\000\\000\\000\\000\\000\\000\\001\\003\\000\\014\\333\\334\\324\\332\\300\\251\\343\\320\\332\\340\\324\\342\\305\\3214\\000\\000\\000\\000\\000\\000\\000\\000\\000\\000\\006\\000c\\364\\336\\334\\332\\313\\306\\335\\327\\325\\336\\334\\365w\\2478\\000\\000\\000\\000\\000\\000\\000\\000\\000\\004\\000\\0007\\354\\344\\346\\344\\360\\350\\325\\332\\337\\352\\331\\331\\321\\\\\\000\\000\\000\\001\\004\\006\\007\\002\\000\\000\\000\\000\\000\\355\\342\\331\\337\\336\\333\\336\\335\\330\\337\\345\\327\\332\\377M\\000\\000\\003\\000\\000\\000\\000\\000\\000\\000>\\221\\314\\344\\317\\325\\335\\332\\320\\323\\332\\340\\337\\333\\327\\340\\364\\237\\000\\000\\000\\000\\000\\022,Rk\\275\\344\\334\\336\\331\\342\\310\\315\\323\\346\\340\\352\\260\\274\\372\\370\\351\\356\\327\\000\\0009\\273\\320\\340\\335\\340\\320\\314\\326\\320\\321\\310\\237\\365\\301\\316\\337\\377\\377\\335\\352\\335\\323\\334\\350\\366\\000\\003\\312\\344\\340\\335\\323\\323\\326\\315\\315\\315\\334\\360P\\226\\377\\345\\335\\274\\232\\277\\322\\314\\321\\336\\344\\341\\000b\\351\\306\\322\\336\\345\\345\\352\\371\\334\\302\\327\\331\\361AIju\\250\\333\\335\\327\\331\\337\\337\\340\\345\\035K\\314\\324\\314\\301\\315\\323\\341\\330\\271\\305\\316\\306\\325\\360\\303\\343\\365\\357\\337\\332\\324\\321\\336\\334\\335\\346C0\\313\\267\\302\\325\\305\\271\\276\\302\\300\\312\\326\\333\\335\\334\\354\\341\\330\\307\\316\\272\\265\\261\\254\\265\\315\\316s\\000z\\333\\301\\263\\253\\267\\304\\314\\322\\325\\317\\323\\322\\310\\304\\302\\277\\303\\277\\306\\300\\260\\234\\247\\261\\322\\\\\\000\\000J\\275\\324\\277\\257\\254\\257\\265\\271\\274\\275\\274\\301\\306\\314\\321\\322\\322\\323\\274\\274\\302\\300\\330\\252\\000\\002\\000\\000\\000B\\310\\336\\355\\357\\362\\366\\363\\364\\335\\334\\301\\277\\263\\266\\266\\265\\260\\246\\250c:\\000\\000\\000\\000\\000\\000\\000\\000\\000(=,H)#\\000\\000\\000\\000\\000\\000\\000\\000\\000\\000\\000\\000\\000\\000\\000\\000\\000\\000\\000\\000\\000\\000\\000\\000\\000\\000\\000\\000\\000\\000\\000\\000\\000\\000\\000\\000\\000\\000\\000\\000\\000\\000\\000\\000\\000\\000\\000\\000\\000\\000\\000\\000\\000\\000\\000\\000\\000\\000\\000\\000\\000\\000\\000\\000\\000\\000\\000\\000\\000\\000\\000\"\n",
      "      }\n",
      "    }\n",
      "  }\n",
      "  feature {\n",
      "    key: \"label\"\n",
      "    value {\n",
      "      int64_list {\n",
      "        value: 9\n",
      "      }\n",
      "    }\n",
      "  }\n",
      "}\n",
      "\n",
      "features {\n",
      "  feature {\n",
      "    key: \"image\"\n",
      "    value {\n",
      "      bytes_list {\n",
      "        value: \"\\010\\004\\022\\010\\022\\002\\010\\034\\022\\002\\010\\034\\\"\\220\\006\\000\\000\\000\\000\\000\\001\\000\\000\\000\\000)\\274g60+W\\250\\205\\020\\000\\000\\000\\000\\000\\000\\000\\000\\000\\000\\000\\001\\000\\000\\0001\\210\\333\\330\\344\\354\\377\\377\\377\\377\\331\\327\\376\\347\\240-\\000\\000\\000\\000\\000\\000\\000\\000\\000\\000\\016\\260\\336\\340\\324\\313\\306\\304\\310\\327\\314\\312\\311\\311\\311\\321\\332\\340\\244\\000\\000\\000\\000\\000\\000\\000\\000\\000\\274\\333\\310\\306\\312\\306\\307\\307\\311\\304\\306\\306\\310\\310\\310\\310\\311\\310\\341)\\000\\000\\000\\000\\000\\000\\0003\\333\\307\\313\\313\\324\\356\\370\\372\\365\\371\\366\\367\\374\\370\\353\\317\\313\\313\\336\\214\\000\\000\\000\\000\\000\\000\\000t\\342\\316\\314\\317\\314eK/I02-3?q\\336\\312\\316\\334\\340\\000\\000\\000\\000\\000\\000\\000\\310\\336\\321\\313\\327\\310\\000Fb\\000g;DG1\\000\\333\\316\\326\\322\\372&\\000\\000\\000\\000\\000\\000\\367\\332\\324\\322\\327\\326\\000\\376\\363\\213\\377\\256\\373\\377\\315\\000\\327\\331\\326\\320\\334_\\000\\000\\000\\000\\000-\\342\\326\\326\\327\\340\\315\\000*#<\\020\\021\\014\\rF\\000\\275\\330\\324\\316\\324\\234\\000\\000\\000\\000\\000\\244\\353\\326\\323\\334\\330\\3114GY^SNFL\\\\W\\316\\317\\336\\325\\333\\320\\000\\000\\000\\000\\000j\\273\\337\\355\\370\\323\\306\\374\\372\\370\\365\\370\\374\\375\\372\\374\\357\\311\\324\\341\\327\\301q\\000\\000\\000\\000\\000\\000\\000\\0216\\237\\336\\301\\320\\300\\305\\310\\310\\310\\310\\311\\313\\303\\322\\245\\000\\000\\000\\000\\000\\000\\000\\000\\000\\000\\000\\000\\000/\\341\\300\\326\\313\\316\\314\\314\\315\\316\\314\\324\\305\\332k\\000\\000\\000\\000\\000\\000\\000\\000\\000\\000\\001\\006\\000.\\324\\303\\324\\312\\316\\315\\314\\315\\316\\314\\324\\310\\332[\\000\\003\\001\\000\\000\\000\\000\\000\\000\\000\\000\\001\\000\\013\\305\\307\\315\\312\\315\\316\\314\\315\\317\\314\\315\\315\\332M\\000\\005\\000\\000\\000\\000\\000\\000\\000\\000\\000\\003\\000\\002\\277\\306\\311\\315\\316\\315\\315\\316\\321\\316\\307\\321\\333J\\000\\005\\000\\000\\000\\000\\000\\000\\000\\000\\000\\002\\000\\000\\274\\305\\310\\317\\317\\314\\317\\317\\322\\320\\306\\317\\335H\\000\\004\\000\\000\\000\\000\\000\\000\\000\\000\\000\\002\\000\\000\\327\\306\\313\\316\\320\\315\\317\\317\\322\\320\\310\\312\\336K\\000\\004\\000\\000\\000\\000\\000\\000\\000\\000\\000\\001\\000\\000\\324\\306\\321\\316\\321\\316\\320\\317\\323\\316\\315\\306\\335P\\000\\003\\000\\000\\000\\000\\000\\000\\000\\000\\000\\001\\000\\000\\314\\311\\315\\320\\317\\315\\323\\315\\322\\322\\321\\303\\335`\\000\\003\\000\\000\\000\\000\\000\\000\\000\\000\\000\\001\\000\\000\\312\\311\\315\\321\\317\\315\\325\\316\\322\\321\\322\\302\\331i\\000\\002\\000\\000\\000\\000\\000\\000\\000\\000\\000\\001\\000\\000\\314\\314\\315\\320\\317\\315\\327\\317\\322\\320\\323\\301\\325s\\000\\002\\000\\000\\000\\000\\000\\000\\000\\000\\000\\000\\000\\000\\314\\317\\317\\320\\316\\316\\327\\322\\322\\317\\324\\303\\322v\\000\\002\\000\\000\\000\\000\\000\\000\\000\\000\\000\\001\\000\\000\\306\\320\\320\\320\\314\\317\\324\\324\\322\\317\\323\\304\\317y\\000\\001\\000\\000\\000\\000\\000\\000\\000\\000\\000\\001\\000\\000\\306\\322\\317\\320\\316\\321\\325\\324\\323\\317\\322\\305\\317|\\000\\001\\000\\000\\000\\000\\000\\000\\000\\000\\000\\000\\000\\000\\254\\322\\313\\311\\307\\314\\317\\315\\314\\311\\315\\305\\316\\177\\000\\000\\000\\000\\000\\000\\000\\000\\000\\000\\000\\000\\000\\000\\274\\335\\326\\352\\354\\356\\364\\364\\364\\360\\363\\326\\340\\242\\000\\002\\000\\000\\000\\000\\000\\000\\000\\000\\000\\001\\000\\000\\213\\222\\202\\207\\207\\211}|}ywr\\202L\\000\\000\\000\\000\\000\\000\"\n",
      "      }\n",
      "    }\n",
      "  }\n",
      "  feature {\n",
      "    key: \"label\"\n",
      "    value {\n",
      "      int64_list {\n",
      "        value: 0\n",
      "      }\n",
      "    }\n",
      "  }\n",
      "}\n",
      "\n"
     ]
    }
   ],
   "source": [
    "for img, label in valid_set.take(2):\n",
    "    print(serialize_instance(img, label))"
   ]
  },
  {
   "cell_type": "code",
   "execution_count": 19,
   "id": "79ebac89",
   "metadata": {
    "execution": {
     "iopub.execute_input": "2024-07-27T07:34:10.167342Z",
     "iopub.status.busy": "2024-07-27T07:34:10.166307Z",
     "iopub.status.idle": "2024-07-27T07:34:10.175635Z",
     "shell.execute_reply": "2024-07-27T07:34:10.174533Z"
    },
    "papermill": {
     "duration": 0.129918,
     "end_time": "2024-07-27T07:34:10.177924",
     "exception": false,
     "start_time": "2024-07-27T07:34:10.048006",
     "status": "completed"
    },
    "tags": []
   },
   "outputs": [],
   "source": [
    "def write_tfrecords_in_round_robin(name, dataset, n_shards=10):\n",
    "    \n",
    "    # New Storage path for TFRecords created using the Round Robin Approach\n",
    "    storage_path = Path() / \"alternate\"\n",
    "    storage_path.mkdir(parents=True, exist_ok=True)\n",
    "    \n",
    "    # List of all the filepaths\n",
    "    paths = [str(storage_path / \"{}.tfrecord-{:02d}-of-{:02d}\".format(name, index, n_shards)) for index in range(n_shards)]\n",
    "    \n",
    "    # Maintaining multiple context writers\n",
    "    with ExitStack() as stack:\n",
    "        \n",
    "        # Storing all the Writers to be used\n",
    "        writers = [stack.enter_context(tf.io.TFRecordWriter(path)) for path in paths]\n",
    "        \n",
    "        for index, (img, label) in dataset.enumerate():\n",
    "            \n",
    "            # Finding the Shard to write the instance into\n",
    "            shard = index % n_shards\n",
    "            serialized = serialize_instance(img, label)\n",
    "            writers[shard].write(serialized.SerializeToString())\n",
    "            \n",
    "    return paths"
   ]
  },
  {
   "cell_type": "code",
   "execution_count": 20,
   "id": "a7fee8ac",
   "metadata": {
    "execution": {
     "iopub.execute_input": "2024-07-27T07:34:10.412442Z",
     "iopub.status.busy": "2024-07-27T07:34:10.411193Z",
     "iopub.status.idle": "2024-07-27T07:35:15.266452Z",
     "shell.execute_reply": "2024-07-27T07:35:15.265005Z"
    },
    "papermill": {
     "duration": 64.974307,
     "end_time": "2024-07-27T07:35:15.269074",
     "exception": false,
     "start_time": "2024-07-27T07:34:10.294767",
     "status": "completed"
    },
    "tags": []
   },
   "outputs": [
    {
     "name": "stdout",
     "output_type": "stream",
     "text": [
      "Training Paths:\n",
      " ['alternate/TrainingSet.tfrecord-00-of-10', 'alternate/TrainingSet.tfrecord-01-of-10', 'alternate/TrainingSet.tfrecord-02-of-10', 'alternate/TrainingSet.tfrecord-03-of-10', 'alternate/TrainingSet.tfrecord-04-of-10', 'alternate/TrainingSet.tfrecord-05-of-10', 'alternate/TrainingSet.tfrecord-06-of-10', 'alternate/TrainingSet.tfrecord-07-of-10', 'alternate/TrainingSet.tfrecord-08-of-10', 'alternate/TrainingSet.tfrecord-09-of-10']\n",
      "Validation Paths:\n",
      " ['alternate/TrainingSet.tfrecord-00-of-10', 'alternate/TrainingSet.tfrecord-01-of-10', 'alternate/TrainingSet.tfrecord-02-of-10', 'alternate/TrainingSet.tfrecord-03-of-10', 'alternate/TrainingSet.tfrecord-04-of-10', 'alternate/TrainingSet.tfrecord-05-of-10', 'alternate/TrainingSet.tfrecord-06-of-10', 'alternate/TrainingSet.tfrecord-07-of-10', 'alternate/TrainingSet.tfrecord-08-of-10', 'alternate/TrainingSet.tfrecord-09-of-10']\n",
      "Testing Paths:\n",
      " ['alternate/TrainingSet.tfrecord-00-of-10', 'alternate/TrainingSet.tfrecord-01-of-10', 'alternate/TrainingSet.tfrecord-02-of-10', 'alternate/TrainingSet.tfrecord-03-of-10', 'alternate/TrainingSet.tfrecord-04-of-10', 'alternate/TrainingSet.tfrecord-05-of-10', 'alternate/TrainingSet.tfrecord-06-of-10', 'alternate/TrainingSet.tfrecord-07-of-10', 'alternate/TrainingSet.tfrecord-08-of-10', 'alternate/TrainingSet.tfrecord-09-of-10']\n"
     ]
    }
   ],
   "source": [
    "# Splitting all the datasets\n",
    "train_paths = write_tfrecords_in_round_robin(\n",
    "    name=\"TrainingSet\", dataset=train_set\n",
    ")\n",
    "print(\"Training Paths:\\n\", train_paths)\n",
    "\n",
    "valid_paths = write_tfrecords_in_round_robin(\n",
    "    name=\"ValidationSet\", dataset=valid_set\n",
    ")\n",
    "print(\"Validation Paths:\\n\", train_paths)\n",
    "\n",
    "test_paths = write_tfrecords_in_round_robin(\n",
    "    name=\"TestingSet\", dataset=test_set\n",
    ")\n",
    "print(\"Testing Paths:\\n\", train_paths)"
   ]
  },
  {
   "cell_type": "markdown",
   "id": "a6a14837",
   "metadata": {
    "papermill": {
     "duration": 0.116215,
     "end_time": "2024-07-27T07:35:15.501255",
     "exception": false,
     "start_time": "2024-07-27T07:35:15.385040",
     "status": "completed"
    },
    "tags": []
   },
   "source": [
    "**Preprocessing all the Sets**\n",
    "--"
   ]
  },
  {
   "cell_type": "code",
   "execution_count": 21,
   "id": "828b0248",
   "metadata": {
    "execution": {
     "iopub.execute_input": "2024-07-27T07:35:15.736312Z",
     "iopub.status.busy": "2024-07-27T07:35:15.735881Z",
     "iopub.status.idle": "2024-07-27T07:35:15.743640Z",
     "shell.execute_reply": "2024-07-27T07:35:15.742516Z"
    },
    "papermill": {
     "duration": 0.1287,
     "end_time": "2024-07-27T07:35:15.745779",
     "exception": false,
     "start_time": "2024-07-27T07:35:15.617079",
     "status": "completed"
    },
    "tags": []
   },
   "outputs": [],
   "source": [
    "feature_description = {\n",
    "    \"image\": tf.io.FixedLenFeature([], tf.string, default_value=\"\"),\n",
    "    \"label\": tf.io.FixedLenFeature([], tf.int64, default_value=0)\n",
    "}\n",
    "\n",
    "def preprocess(tfrecord):\n",
    "    \n",
    "    # Step - 1: Parse the Serialized Information\n",
    "    encoded_instance = tf.io.parse_single_example(tfrecord, feature_description)\n",
    "    \n",
    "    # Step - 2: Decoding the Tensor\n",
    "    image_data = tf.io.parse_tensor(encoded_instance[\"image\"], out_type=tf.uint8)\n",
    "    \n",
    "    # Step - 3: Reshaping the Tensor to an Image\n",
    "    image = tf.reshape(image_data, shape=[28, 28])\n",
    "    \n",
    "    return image, encoded_instance[\"label\"]"
   ]
  },
  {
   "cell_type": "markdown",
   "id": "b1e69a06",
   "metadata": {
    "papermill": {
     "duration": 0.115576,
     "end_time": "2024-07-27T07:35:15.977965",
     "exception": false,
     "start_time": "2024-07-27T07:35:15.862389",
     "status": "completed"
    },
    "tags": []
   },
   "source": [
    "**Loading all the TFRecords in Parallel to create the datasets**\n",
    "--"
   ]
  },
  {
   "cell_type": "code",
   "execution_count": 22,
   "id": "82cd5795",
   "metadata": {
    "execution": {
     "iopub.execute_input": "2024-07-27T07:35:16.212268Z",
     "iopub.status.busy": "2024-07-27T07:35:16.211841Z",
     "iopub.status.idle": "2024-07-27T07:35:16.219359Z",
     "shell.execute_reply": "2024-07-27T07:35:16.218238Z"
    },
    "papermill": {
     "duration": 0.127502,
     "end_time": "2024-07-27T07:35:16.221843",
     "exception": false,
     "start_time": "2024-07-27T07:35:16.094341",
     "status": "completed"
    },
    "tags": []
   },
   "outputs": [],
   "source": [
    "def create_dataset_from_filepaths(filepaths, n_read_threads=5, n_parse_threads=5, shuffle_buffer_size=None, batch_size=32, cache=None):\n",
    "    \n",
    "    # Creating a TFRecord Dataset from all the filepaths\n",
    "    dataset = tf.data.TFRecordDataset(\n",
    "        filenames=filepaths, num_parallel_reads=n_read_threads\n",
    "    )\n",
    "    \n",
    "    # Caching if necessary\n",
    "    if cache:\n",
    "        dataset = dataset.cache()\n",
    "        \n",
    "    # Shuffling if necessary\n",
    "    if shuffle_buffer_size:\n",
    "        dataset = dataset.shuffle(shuffle_buffer_size)\n",
    "        \n",
    "    # Preprocessing\n",
    "    dataset = dataset.map(preprocess, num_parallel_calls=n_parse_threads)\n",
    "    \n",
    "    # Batching and Prefecting\n",
    "    dataset = dataset.batch(batch_size)\n",
    "    return dataset.prefetch(5)"
   ]
  },
  {
   "cell_type": "markdown",
   "id": "0b7097a1",
   "metadata": {
    "execution": {
     "iopub.execute_input": "2024-07-26T13:58:57.646364Z",
     "iopub.status.busy": "2024-07-26T13:58:57.645678Z",
     "iopub.status.idle": "2024-07-26T13:58:57.652428Z",
     "shell.execute_reply": "2024-07-26T13:58:57.651467Z",
     "shell.execute_reply.started": "2024-07-26T13:58:57.646328Z"
    },
    "papermill": {
     "duration": 0.11474,
     "end_time": "2024-07-27T07:35:16.452566",
     "exception": false,
     "start_time": "2024-07-27T07:35:16.337826",
     "status": "completed"
    },
    "tags": []
   },
   "source": [
    "**Applying the Alternate Approach completely**\n",
    "--"
   ]
  },
  {
   "cell_type": "code",
   "execution_count": 23,
   "id": "509733b9",
   "metadata": {
    "execution": {
     "iopub.execute_input": "2024-07-27T07:35:16.688246Z",
     "iopub.status.busy": "2024-07-27T07:35:16.687260Z",
     "iopub.status.idle": "2024-07-27T07:35:16.879459Z",
     "shell.execute_reply": "2024-07-27T07:35:16.877957Z"
    },
    "papermill": {
     "duration": 0.312431,
     "end_time": "2024-07-27T07:35:16.882118",
     "exception": false,
     "start_time": "2024-07-27T07:35:16.569687",
     "status": "completed"
    },
    "tags": []
   },
   "outputs": [
    {
     "name": "stdout",
     "output_type": "stream",
     "text": [
      "Prepared Training Set:  <_PrefetchDataset element_spec=(TensorSpec(shape=(None, 28, 28), dtype=tf.uint8, name=None), TensorSpec(shape=(None,), dtype=tf.int64, name=None))>\n",
      "Prepared Validation Set:  <_PrefetchDataset element_spec=(TensorSpec(shape=(None, 28, 28), dtype=tf.uint8, name=None), TensorSpec(shape=(None,), dtype=tf.int64, name=None))>\n",
      "Prepared Testing Set:  <_PrefetchDataset element_spec=(TensorSpec(shape=(None, 28, 28), dtype=tf.uint8, name=None), TensorSpec(shape=(None,), dtype=tf.int64, name=None))>\n"
     ]
    }
   ],
   "source": [
    "prepared_train_set = create_dataset_from_filepaths(\n",
    "    filepaths=train_paths, \n",
    "    n_read_threads=tf.data.experimental.AUTOTUNE,\n",
    "    n_parse_threads=tf.data.experimental.AUTOTUNE,\n",
    "    shuffle_buffer_size=25000,\n",
    ")\n",
    "print(\"Prepared Training Set: \", prepared_train_set)\n",
    "\n",
    "prepared_valid_set = create_dataset_from_filepaths(\n",
    "    filepaths=valid_paths, \n",
    "    n_read_threads=tf.data.experimental.AUTOTUNE,\n",
    "    n_parse_threads=tf.data.experimental.AUTOTUNE,\n",
    "    shuffle_buffer_size=2000,\n",
    "    cache=True\n",
    ")\n",
    "print(\"Prepared Validation Set: \", prepared_valid_set)\n",
    "\n",
    "prepared_test_set = create_dataset_from_filepaths(\n",
    "    filepaths=test_paths, \n",
    "    n_read_threads=tf.data.experimental.AUTOTUNE,\n",
    "    n_parse_threads=tf.data.experimental.AUTOTUNE,\n",
    "    shuffle_buffer_size=2000,\n",
    "    cache=True\n",
    ")\n",
    "print(\"Prepared Testing Set: \", prepared_test_set)"
   ]
  },
  {
   "cell_type": "code",
   "execution_count": 24,
   "id": "e4da7a45",
   "metadata": {
    "execution": {
     "iopub.execute_input": "2024-07-27T07:35:17.116889Z",
     "iopub.status.busy": "2024-07-27T07:35:17.116475Z",
     "iopub.status.idle": "2024-07-27T07:35:17.541311Z",
     "shell.execute_reply": "2024-07-27T07:35:17.540208Z"
    },
    "papermill": {
     "duration": 0.544479,
     "end_time": "2024-07-27T07:35:17.543569",
     "exception": false,
     "start_time": "2024-07-27T07:35:16.999090",
     "status": "completed"
    },
    "tags": []
   },
   "outputs": [
    {
     "data": {
      "text/html": [
       "<pre style=\"white-space:pre;overflow-x:auto;line-height:normal;font-family:Menlo,'DejaVu Sans Mono',consolas,'Courier New',monospace\"><span style=\"font-weight: bold\">Model: \"sequential\"</span>\n",
       "</pre>\n"
      ],
      "text/plain": [
       "\u001b[1mModel: \"sequential\"\u001b[0m\n"
      ]
     },
     "metadata": {},
     "output_type": "display_data"
    },
    {
     "data": {
      "text/html": [
       "<pre style=\"white-space:pre;overflow-x:auto;line-height:normal;font-family:Menlo,'DejaVu Sans Mono',consolas,'Courier New',monospace\">┏━━━━━━━━━━━━━━━━━━━━━━━━━━━━━━━━━┳━━━━━━━━━━━━━━━━━━━━━━━━┳━━━━━━━━━━━━━━━┓\n",
       "┃<span style=\"font-weight: bold\"> Layer (type)                    </span>┃<span style=\"font-weight: bold\"> Output Shape           </span>┃<span style=\"font-weight: bold\">       Param # </span>┃\n",
       "┡━━━━━━━━━━━━━━━━━━━━━━━━━━━━━━━━━╇━━━━━━━━━━━━━━━━━━━━━━━━╇━━━━━━━━━━━━━━━┩\n",
       "│ normalization (<span style=\"color: #0087ff; text-decoration-color: #0087ff\">Normalization</span>)   │ (<span style=\"color: #00d7ff; text-decoration-color: #00d7ff\">None</span>, <span style=\"color: #00af00; text-decoration-color: #00af00\">28</span>, <span style=\"color: #00af00; text-decoration-color: #00af00\">28</span>, <span style=\"color: #00af00; text-decoration-color: #00af00\">1</span>)      │             <span style=\"color: #00af00; text-decoration-color: #00af00\">3</span> │\n",
       "├─────────────────────────────────┼────────────────────────┼───────────────┤\n",
       "│ conv2d (<span style=\"color: #0087ff; text-decoration-color: #0087ff\">Conv2D</span>)                 │ (<span style=\"color: #00d7ff; text-decoration-color: #00d7ff\">None</span>, <span style=\"color: #00af00; text-decoration-color: #00af00\">26</span>, <span style=\"color: #00af00; text-decoration-color: #00af00\">26</span>, <span style=\"color: #00af00; text-decoration-color: #00af00\">128</span>)    │         <span style=\"color: #00af00; text-decoration-color: #00af00\">1,280</span> │\n",
       "├─────────────────────────────────┼────────────────────────┼───────────────┤\n",
       "│ conv2d_1 (<span style=\"color: #0087ff; text-decoration-color: #0087ff\">Conv2D</span>)               │ (<span style=\"color: #00d7ff; text-decoration-color: #00d7ff\">None</span>, <span style=\"color: #00af00; text-decoration-color: #00af00\">24</span>, <span style=\"color: #00af00; text-decoration-color: #00af00\">24</span>, <span style=\"color: #00af00; text-decoration-color: #00af00\">128</span>)    │       <span style=\"color: #00af00; text-decoration-color: #00af00\">147,584</span> │\n",
       "├─────────────────────────────────┼────────────────────────┼───────────────┤\n",
       "│ max_pooling2d (<span style=\"color: #0087ff; text-decoration-color: #0087ff\">MaxPooling2D</span>)    │ (<span style=\"color: #00d7ff; text-decoration-color: #00d7ff\">None</span>, <span style=\"color: #00af00; text-decoration-color: #00af00\">12</span>, <span style=\"color: #00af00; text-decoration-color: #00af00\">12</span>, <span style=\"color: #00af00; text-decoration-color: #00af00\">128</span>)    │             <span style=\"color: #00af00; text-decoration-color: #00af00\">0</span> │\n",
       "├─────────────────────────────────┼────────────────────────┼───────────────┤\n",
       "│ conv2d_2 (<span style=\"color: #0087ff; text-decoration-color: #0087ff\">Conv2D</span>)               │ (<span style=\"color: #00d7ff; text-decoration-color: #00d7ff\">None</span>, <span style=\"color: #00af00; text-decoration-color: #00af00\">10</span>, <span style=\"color: #00af00; text-decoration-color: #00af00\">10</span>, <span style=\"color: #00af00; text-decoration-color: #00af00\">256</span>)    │       <span style=\"color: #00af00; text-decoration-color: #00af00\">295,168</span> │\n",
       "├─────────────────────────────────┼────────────────────────┼───────────────┤\n",
       "│ conv2d_3 (<span style=\"color: #0087ff; text-decoration-color: #0087ff\">Conv2D</span>)               │ (<span style=\"color: #00d7ff; text-decoration-color: #00d7ff\">None</span>, <span style=\"color: #00af00; text-decoration-color: #00af00\">8</span>, <span style=\"color: #00af00; text-decoration-color: #00af00\">8</span>, <span style=\"color: #00af00; text-decoration-color: #00af00\">256</span>)      │       <span style=\"color: #00af00; text-decoration-color: #00af00\">590,080</span> │\n",
       "├─────────────────────────────────┼────────────────────────┼───────────────┤\n",
       "│ flatten (<span style=\"color: #0087ff; text-decoration-color: #0087ff\">Flatten</span>)               │ (<span style=\"color: #00d7ff; text-decoration-color: #00d7ff\">None</span>, <span style=\"color: #00af00; text-decoration-color: #00af00\">16384</span>)          │             <span style=\"color: #00af00; text-decoration-color: #00af00\">0</span> │\n",
       "├─────────────────────────────────┼────────────────────────┼───────────────┤\n",
       "│ dense (<span style=\"color: #0087ff; text-decoration-color: #0087ff\">Dense</span>)                   │ (<span style=\"color: #00d7ff; text-decoration-color: #00d7ff\">None</span>, <span style=\"color: #00af00; text-decoration-color: #00af00\">1024</span>)           │    <span style=\"color: #00af00; text-decoration-color: #00af00\">16,778,240</span> │\n",
       "├─────────────────────────────────┼────────────────────────┼───────────────┤\n",
       "│ dense_1 (<span style=\"color: #0087ff; text-decoration-color: #0087ff\">Dense</span>)                 │ (<span style=\"color: #00d7ff; text-decoration-color: #00d7ff\">None</span>, <span style=\"color: #00af00; text-decoration-color: #00af00\">1024</span>)           │     <span style=\"color: #00af00; text-decoration-color: #00af00\">1,049,600</span> │\n",
       "├─────────────────────────────────┼────────────────────────┼───────────────┤\n",
       "│ dense_2 (<span style=\"color: #0087ff; text-decoration-color: #0087ff\">Dense</span>)                 │ (<span style=\"color: #00d7ff; text-decoration-color: #00d7ff\">None</span>, <span style=\"color: #00af00; text-decoration-color: #00af00\">1024</span>)           │     <span style=\"color: #00af00; text-decoration-color: #00af00\">1,049,600</span> │\n",
       "├─────────────────────────────────┼────────────────────────┼───────────────┤\n",
       "│ dense_3 (<span style=\"color: #0087ff; text-decoration-color: #0087ff\">Dense</span>)                 │ (<span style=\"color: #00d7ff; text-decoration-color: #00d7ff\">None</span>, <span style=\"color: #00af00; text-decoration-color: #00af00\">512</span>)            │       <span style=\"color: #00af00; text-decoration-color: #00af00\">524,800</span> │\n",
       "├─────────────────────────────────┼────────────────────────┼───────────────┤\n",
       "│ dense_4 (<span style=\"color: #0087ff; text-decoration-color: #0087ff\">Dense</span>)                 │ (<span style=\"color: #00d7ff; text-decoration-color: #00d7ff\">None</span>, <span style=\"color: #00af00; text-decoration-color: #00af00\">10</span>)             │         <span style=\"color: #00af00; text-decoration-color: #00af00\">5,130</span> │\n",
       "└─────────────────────────────────┴────────────────────────┴───────────────┘\n",
       "</pre>\n"
      ],
      "text/plain": [
       "┏━━━━━━━━━━━━━━━━━━━━━━━━━━━━━━━━━┳━━━━━━━━━━━━━━━━━━━━━━━━┳━━━━━━━━━━━━━━━┓\n",
       "┃\u001b[1m \u001b[0m\u001b[1mLayer (type)                   \u001b[0m\u001b[1m \u001b[0m┃\u001b[1m \u001b[0m\u001b[1mOutput Shape          \u001b[0m\u001b[1m \u001b[0m┃\u001b[1m \u001b[0m\u001b[1m      Param #\u001b[0m\u001b[1m \u001b[0m┃\n",
       "┡━━━━━━━━━━━━━━━━━━━━━━━━━━━━━━━━━╇━━━━━━━━━━━━━━━━━━━━━━━━╇━━━━━━━━━━━━━━━┩\n",
       "│ normalization (\u001b[38;5;33mNormalization\u001b[0m)   │ (\u001b[38;5;45mNone\u001b[0m, \u001b[38;5;34m28\u001b[0m, \u001b[38;5;34m28\u001b[0m, \u001b[38;5;34m1\u001b[0m)      │             \u001b[38;5;34m3\u001b[0m │\n",
       "├─────────────────────────────────┼────────────────────────┼───────────────┤\n",
       "│ conv2d (\u001b[38;5;33mConv2D\u001b[0m)                 │ (\u001b[38;5;45mNone\u001b[0m, \u001b[38;5;34m26\u001b[0m, \u001b[38;5;34m26\u001b[0m, \u001b[38;5;34m128\u001b[0m)    │         \u001b[38;5;34m1,280\u001b[0m │\n",
       "├─────────────────────────────────┼────────────────────────┼───────────────┤\n",
       "│ conv2d_1 (\u001b[38;5;33mConv2D\u001b[0m)               │ (\u001b[38;5;45mNone\u001b[0m, \u001b[38;5;34m24\u001b[0m, \u001b[38;5;34m24\u001b[0m, \u001b[38;5;34m128\u001b[0m)    │       \u001b[38;5;34m147,584\u001b[0m │\n",
       "├─────────────────────────────────┼────────────────────────┼───────────────┤\n",
       "│ max_pooling2d (\u001b[38;5;33mMaxPooling2D\u001b[0m)    │ (\u001b[38;5;45mNone\u001b[0m, \u001b[38;5;34m12\u001b[0m, \u001b[38;5;34m12\u001b[0m, \u001b[38;5;34m128\u001b[0m)    │             \u001b[38;5;34m0\u001b[0m │\n",
       "├─────────────────────────────────┼────────────────────────┼───────────────┤\n",
       "│ conv2d_2 (\u001b[38;5;33mConv2D\u001b[0m)               │ (\u001b[38;5;45mNone\u001b[0m, \u001b[38;5;34m10\u001b[0m, \u001b[38;5;34m10\u001b[0m, \u001b[38;5;34m256\u001b[0m)    │       \u001b[38;5;34m295,168\u001b[0m │\n",
       "├─────────────────────────────────┼────────────────────────┼───────────────┤\n",
       "│ conv2d_3 (\u001b[38;5;33mConv2D\u001b[0m)               │ (\u001b[38;5;45mNone\u001b[0m, \u001b[38;5;34m8\u001b[0m, \u001b[38;5;34m8\u001b[0m, \u001b[38;5;34m256\u001b[0m)      │       \u001b[38;5;34m590,080\u001b[0m │\n",
       "├─────────────────────────────────┼────────────────────────┼───────────────┤\n",
       "│ flatten (\u001b[38;5;33mFlatten\u001b[0m)               │ (\u001b[38;5;45mNone\u001b[0m, \u001b[38;5;34m16384\u001b[0m)          │             \u001b[38;5;34m0\u001b[0m │\n",
       "├─────────────────────────────────┼────────────────────────┼───────────────┤\n",
       "│ dense (\u001b[38;5;33mDense\u001b[0m)                   │ (\u001b[38;5;45mNone\u001b[0m, \u001b[38;5;34m1024\u001b[0m)           │    \u001b[38;5;34m16,778,240\u001b[0m │\n",
       "├─────────────────────────────────┼────────────────────────┼───────────────┤\n",
       "│ dense_1 (\u001b[38;5;33mDense\u001b[0m)                 │ (\u001b[38;5;45mNone\u001b[0m, \u001b[38;5;34m1024\u001b[0m)           │     \u001b[38;5;34m1,049,600\u001b[0m │\n",
       "├─────────────────────────────────┼────────────────────────┼───────────────┤\n",
       "│ dense_2 (\u001b[38;5;33mDense\u001b[0m)                 │ (\u001b[38;5;45mNone\u001b[0m, \u001b[38;5;34m1024\u001b[0m)           │     \u001b[38;5;34m1,049,600\u001b[0m │\n",
       "├─────────────────────────────────┼────────────────────────┼───────────────┤\n",
       "│ dense_3 (\u001b[38;5;33mDense\u001b[0m)                 │ (\u001b[38;5;45mNone\u001b[0m, \u001b[38;5;34m512\u001b[0m)            │       \u001b[38;5;34m524,800\u001b[0m │\n",
       "├─────────────────────────────────┼────────────────────────┼───────────────┤\n",
       "│ dense_4 (\u001b[38;5;33mDense\u001b[0m)                 │ (\u001b[38;5;45mNone\u001b[0m, \u001b[38;5;34m10\u001b[0m)             │         \u001b[38;5;34m5,130\u001b[0m │\n",
       "└─────────────────────────────────┴────────────────────────┴───────────────┘\n"
      ]
     },
     "metadata": {},
     "output_type": "display_data"
    },
    {
     "data": {
      "text/html": [
       "<pre style=\"white-space:pre;overflow-x:auto;line-height:normal;font-family:Menlo,'DejaVu Sans Mono',consolas,'Courier New',monospace\"><span style=\"font-weight: bold\"> Total params: </span><span style=\"color: #00af00; text-decoration-color: #00af00\">20,441,485</span> (77.98 MB)\n",
       "</pre>\n"
      ],
      "text/plain": [
       "\u001b[1m Total params: \u001b[0m\u001b[38;5;34m20,441,485\u001b[0m (77.98 MB)\n"
      ]
     },
     "metadata": {},
     "output_type": "display_data"
    },
    {
     "data": {
      "text/html": [
       "<pre style=\"white-space:pre;overflow-x:auto;line-height:normal;font-family:Menlo,'DejaVu Sans Mono',consolas,'Courier New',monospace\"><span style=\"font-weight: bold\"> Trainable params: </span><span style=\"color: #00af00; text-decoration-color: #00af00\">20,441,482</span> (77.98 MB)\n",
       "</pre>\n"
      ],
      "text/plain": [
       "\u001b[1m Trainable params: \u001b[0m\u001b[38;5;34m20,441,482\u001b[0m (77.98 MB)\n"
      ]
     },
     "metadata": {},
     "output_type": "display_data"
    },
    {
     "data": {
      "text/html": [
       "<pre style=\"white-space:pre;overflow-x:auto;line-height:normal;font-family:Menlo,'DejaVu Sans Mono',consolas,'Courier New',monospace\"><span style=\"font-weight: bold\"> Non-trainable params: </span><span style=\"color: #00af00; text-decoration-color: #00af00\">3</span> (16.00 B)\n",
       "</pre>\n"
      ],
      "text/plain": [
       "\u001b[1m Non-trainable params: \u001b[0m\u001b[38;5;34m3\u001b[0m (16.00 B)\n"
      ]
     },
     "metadata": {},
     "output_type": "display_data"
    }
   ],
   "source": [
    "tf.keras.backend.clear_session()\n",
    "\n",
    "# Standardization Layer\n",
    "std_layer = tf.keras.layers.Normalization()\n",
    "\n",
    "# Standardized Model\n",
    "simple_std_model = tf.keras.Sequential([\n",
    "    tf.keras.layers.Input(shape=[28, 28, 1]),\n",
    "    std_layer,\n",
    "    ConvLayer(128),\n",
    "    ConvLayer(128),\n",
    "    tf.keras.layers.MaxPooling2D(2, 2),\n",
    "    ConvLayer(256),\n",
    "    ConvLayer(256),\n",
    "    tf.keras.layers.Flatten(),\n",
    "    DenseLayer(1024),\n",
    "    DenseLayer(1024),\n",
    "    DenseLayer(1024),\n",
    "    DenseLayer(512),\n",
    "    DenseLayer(10, activation=\"softmax\")\n",
    "])\n",
    "\n",
    "simple_std_model.summary()"
   ]
  },
  {
   "cell_type": "code",
   "execution_count": 25,
   "id": "e35131e0",
   "metadata": {
    "execution": {
     "iopub.execute_input": "2024-07-27T07:35:17.782012Z",
     "iopub.status.busy": "2024-07-27T07:35:17.781604Z",
     "iopub.status.idle": "2024-07-27T07:38:03.698029Z",
     "shell.execute_reply": "2024-07-27T07:38:03.696890Z"
    },
    "papermill": {
     "duration": 166.039313,
     "end_time": "2024-07-27T07:38:03.700539",
     "exception": false,
     "start_time": "2024-07-27T07:35:17.661226",
     "status": "completed"
    },
    "tags": []
   },
   "outputs": [
    {
     "name": "stdout",
     "output_type": "stream",
     "text": [
      "Epoch 1/30\n",
      "\u001b[1m1625/1625\u001b[0m \u001b[32m━━━━━━━━━━━━━━━━━━━━\u001b[0m\u001b[37m\u001b[0m \u001b[1m26s\u001b[0m 11ms/step - accuracy: 0.4926 - loss: 6762.5298 - val_accuracy: 0.7195 - val_loss: 0.7455\n",
      "Epoch 2/30\n",
      "\u001b[1m1625/1625\u001b[0m \u001b[32m━━━━━━━━━━━━━━━━━━━━\u001b[0m\u001b[37m\u001b[0m \u001b[1m18s\u001b[0m 11ms/step - accuracy: 0.7477 - loss: 0.6525 - val_accuracy: 0.7972 - val_loss: 0.5263\n",
      "Epoch 3/30\n",
      "\u001b[1m1625/1625\u001b[0m \u001b[32m━━━━━━━━━━━━━━━━━━━━\u001b[0m\u001b[37m\u001b[0m \u001b[1m18s\u001b[0m 11ms/step - accuracy: 0.7700 - loss: 0.7263 - val_accuracy: 0.1009 - val_loss: 2.3153\n",
      "Epoch 4/30\n",
      "\u001b[1m1625/1625\u001b[0m \u001b[32m━━━━━━━━━━━━━━━━━━━━\u001b[0m\u001b[37m\u001b[0m \u001b[1m18s\u001b[0m 11ms/step - accuracy: 0.0962 - loss: 2.3192 - val_accuracy: 0.0994 - val_loss: 2.3150\n",
      "Epoch 5/30\n",
      "\u001b[1m1625/1625\u001b[0m \u001b[32m━━━━━━━━━━━━━━━━━━━━\u001b[0m\u001b[37m\u001b[0m \u001b[1m17s\u001b[0m 11ms/step - accuracy: 0.1013 - loss: 2.3181 - val_accuracy: 0.1023 - val_loss: 2.3140\n",
      "Epoch 6/30\n",
      "\u001b[1m1625/1625\u001b[0m \u001b[32m━━━━━━━━━━━━━━━━━━━━\u001b[0m\u001b[37m\u001b[0m \u001b[1m17s\u001b[0m 11ms/step - accuracy: 0.1004 - loss: 2.3164 - val_accuracy: 0.0934 - val_loss: 2.3101\n",
      "Epoch 7/30\n",
      "\u001b[1m1625/1625\u001b[0m \u001b[32m━━━━━━━━━━━━━━━━━━━━\u001b[0m\u001b[37m\u001b[0m \u001b[1m18s\u001b[0m 11ms/step - accuracy: 0.0965 - loss: 2.3158 - val_accuracy: 0.1011 - val_loss: 2.3135\n",
      "Epoch 8/30\n",
      "\u001b[1m1625/1625\u001b[0m \u001b[32m━━━━━━━━━━━━━━━━━━━━\u001b[0m\u001b[37m\u001b[0m \u001b[1m17s\u001b[0m 11ms/step - accuracy: 0.1001 - loss: 2.3135 - val_accuracy: 0.0934 - val_loss: 2.3103\n",
      "Epoch 9/30\n",
      "\u001b[1m1625/1625\u001b[0m \u001b[32m━━━━━━━━━━━━━━━━━━━━\u001b[0m\u001b[37m\u001b[0m \u001b[1m17s\u001b[0m 11ms/step - accuracy: 0.1010 - loss: 2.3108 - val_accuracy: 0.0994 - val_loss: 2.3134\n"
     ]
    },
    {
     "data": {
      "text/plain": [
       "<keras.src.callbacks.history.History at 0x7aad27722f50>"
      ]
     },
     "execution_count": 25,
     "metadata": {},
     "output_type": "execute_result"
    }
   ],
   "source": [
    "exp_lr_schedule = tf.keras.optimizers.schedules.ExponentialDecay(\n",
    "    initial_learning_rate=6e-3, decay_rate=0.1, decay_steps=10e3, staircase=False\n",
    ")\n",
    "\n",
    "earlystop_cb = tf.keras.callbacks.EarlyStopping(\n",
    "    restore_best_weights=True, min_delta=1e-4, patience=7\n",
    ")\n",
    "\n",
    "simple_std_model.compile(\n",
    "    loss=\"sparse_categorical_crossentropy\",\n",
    "    metrics=[\"accuracy\"],\n",
    "    optimizer=tf.keras.optimizers.Nadam(learning_rate=exp_lr_schedule)\n",
    ")\n",
    "\n",
    "simple_std_model.fit(\n",
    "    prepared_train_set, validation_data=prepared_valid_set, epochs=30, callbacks=[earlystop_cb]\n",
    ")"
   ]
  },
  {
   "cell_type": "code",
   "execution_count": 26,
   "id": "552a1a8e",
   "metadata": {
    "execution": {
     "iopub.execute_input": "2024-07-27T07:38:04.463869Z",
     "iopub.status.busy": "2024-07-27T07:38:04.463452Z",
     "iopub.status.idle": "2024-07-27T07:38:06.698657Z",
     "shell.execute_reply": "2024-07-27T07:38:06.697551Z"
    },
    "papermill": {
     "duration": 2.621376,
     "end_time": "2024-07-27T07:38:06.701170",
     "exception": false,
     "start_time": "2024-07-27T07:38:04.079794",
     "status": "completed"
    },
    "tags": []
   },
   "outputs": [
    {
     "name": "stdout",
     "output_type": "stream",
     "text": [
      "\u001b[1m313/313\u001b[0m \u001b[32m━━━━━━━━━━━━━━━━━━━━\u001b[0m\u001b[37m\u001b[0m \u001b[1m2s\u001b[0m 7ms/step - accuracy: 0.7935 - loss: 0.5337\n"
     ]
    },
    {
     "data": {
      "text/plain": [
       "[0.5589256286621094, 0.7864999771118164]"
      ]
     },
     "execution_count": 26,
     "metadata": {},
     "output_type": "execute_result"
    }
   ],
   "source": [
    "simple_std_model.evaluate(prepared_test_set)"
   ]
  },
  {
   "cell_type": "code",
   "execution_count": null,
   "id": "1e895d88",
   "metadata": {
    "papermill": {
     "duration": 0.378848,
     "end_time": "2024-07-27T07:38:07.460083",
     "exception": false,
     "start_time": "2024-07-27T07:38:07.081235",
     "status": "completed"
    },
    "tags": []
   },
   "outputs": [],
   "source": []
  }
 ],
 "metadata": {
  "kaggle": {
   "accelerator": "gpu",
   "dataSources": [],
   "dockerImageVersionId": 30746,
   "isGpuEnabled": true,
   "isInternetEnabled": true,
   "language": "python",
   "sourceType": "notebook"
  },
  "kernelspec": {
   "display_name": "Python 3",
   "language": "python",
   "name": "python3"
  },
  "language_info": {
   "codemirror_mode": {
    "name": "ipython",
    "version": 3
   },
   "file_extension": ".py",
   "mimetype": "text/x-python",
   "name": "python",
   "nbconvert_exporter": "python",
   "pygments_lexer": "ipython3",
   "version": "3.10.13"
  },
  "papermill": {
   "default_parameters": {},
   "duration": 385.788236,
   "end_time": "2024-07-27T07:38:10.842453",
   "environment_variables": {},
   "exception": null,
   "input_path": "__notebook__.ipynb",
   "output_path": "__notebook__.ipynb",
   "parameters": {},
   "start_time": "2024-07-27T07:31:45.054217",
   "version": "2.5.0"
  }
 },
 "nbformat": 4,
 "nbformat_minor": 5
}
