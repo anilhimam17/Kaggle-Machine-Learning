{
 "cells": [
  {
   "cell_type": "markdown",
   "id": "32524322",
   "metadata": {
    "papermill": {
     "duration": 0.020041,
     "end_time": "2024-02-01T16:58:37.874273",
     "exception": false,
     "start_time": "2024-02-01T16:58:37.854232",
     "status": "completed"
    },
    "tags": []
   },
   "source": [
    "## Encoding Language to Numbers\n",
    "\n",
    "- The essence of NLP lies in the process used to efficiently convert letter / words to number such that each letter / word is uniquely identified.\n",
    "- This process is called **`Tokenization`**\n",
    "- **Tokenization** can convert `letter / words to numbers` and `words / sentences to sequences`"
   ]
  },
  {
   "cell_type": "markdown",
   "id": "733fac5d",
   "metadata": {
    "papermill": {
     "duration": 0.018167,
     "end_time": "2024-02-01T16:58:37.911349",
     "exception": false,
     "start_time": "2024-02-01T16:58:37.893182",
     "status": "completed"
    },
    "tags": []
   },
   "source": [
    "## Tokenization"
   ]
  },
  {
   "cell_type": "code",
   "execution_count": 1,
   "id": "9977aa44",
   "metadata": {
    "execution": {
     "iopub.execute_input": "2024-02-01T16:58:37.951850Z",
     "iopub.status.busy": "2024-02-01T16:58:37.951041Z",
     "iopub.status.idle": "2024-02-01T16:58:56.129885Z",
     "shell.execute_reply": "2024-02-01T16:58:56.128546Z"
    },
    "papermill": {
     "duration": 18.202504,
     "end_time": "2024-02-01T16:58:56.133194",
     "exception": false,
     "start_time": "2024-02-01T16:58:37.930690",
     "status": "completed"
    },
    "tags": []
   },
   "outputs": [],
   "source": [
    "import tensorflow as tf\n",
    "from tensorflow.keras.preprocessing.text import Tokenizer\n",
    "\n",
    "# Initialising the Tokenizer\n",
    "tokenizer = Tokenizer(num_words=100)"
   ]
  },
  {
   "cell_type": "code",
   "execution_count": 2,
   "id": "ca729108",
   "metadata": {
    "execution": {
     "iopub.execute_input": "2024-02-01T16:58:56.176675Z",
     "iopub.status.busy": "2024-02-01T16:58:56.175357Z",
     "iopub.status.idle": "2024-02-01T16:58:56.181881Z",
     "shell.execute_reply": "2024-02-01T16:58:56.180696Z"
    },
    "papermill": {
     "duration": 0.03189,
     "end_time": "2024-02-01T16:58:56.184468",
     "exception": false,
     "start_time": "2024-02-01T16:58:56.152578",
     "status": "completed"
    },
    "tags": []
   },
   "outputs": [],
   "source": [
    "# Set of sentences for Tokenization\n",
    "sentences = [\n",
    "    \"Lewis Hamilton is a legend!. He has won '8 Formula-1 World Championships' in a row at Mercedes\",\n",
    "    \"Sebastian Vettel is a legend!. He has won '4 Formula-1 World Championships' in a row at Red Bull\",\n",
    "    \"Lewis and Seb is really good friends\",\n",
    "    \"Roger Federer is a legend!. He has won '5 Wimbledon and 5 US Open titles' in a row\",\n",
    "    \"Rafael Nadal is a legend!. He has won '14 Roland Garros titles' an unreal feat\",\n",
    "    \"Roger and Rafa are really good friends\"\n",
    "]"
   ]
  },
  {
   "cell_type": "code",
   "execution_count": 3,
   "id": "0d261c66",
   "metadata": {
    "execution": {
     "iopub.execute_input": "2024-02-01T16:58:56.225067Z",
     "iopub.status.busy": "2024-02-01T16:58:56.224521Z",
     "iopub.status.idle": "2024-02-01T16:58:56.232238Z",
     "shell.execute_reply": "2024-02-01T16:58:56.230774Z"
    },
    "papermill": {
     "duration": 0.031826,
     "end_time": "2024-02-01T16:58:56.235829",
     "exception": false,
     "start_time": "2024-02-01T16:58:56.204003",
     "status": "completed"
    },
    "tags": []
   },
   "outputs": [
    {
     "name": "stdout",
     "output_type": "stream",
     "text": [
      "{'a': 1, 'is': 2, 'legend': 3, 'he': 4, 'has': 5, 'won': 6, 'in': 7, 'row': 8, 'and': 9, 'lewis': 10, 'formula': 11, '1': 12, 'world': 13, \"championships'\": 14, 'at': 15, 'really': 16, 'good': 17, 'friends': 18, 'roger': 19, \"titles'\": 20, 'hamilton': 21, \"'8\": 22, 'mercedes': 23, 'sebastian': 24, 'vettel': 25, \"'4\": 26, 'red': 27, 'bull': 28, 'seb': 29, 'federer': 30, \"'5\": 31, 'wimbledon': 32, '5': 33, 'us': 34, 'open': 35, 'rafael': 36, 'nadal': 37, \"'14\": 38, 'roland': 39, 'garros': 40, 'an': 41, 'unreal': 42, 'feat': 43, 'rafa': 44, 'are': 45}\n"
     ]
    }
   ],
   "source": [
    "# Fitting the Tokenizer to the Sentences\n",
    "tokenizer.fit_on_texts(sentences)\n",
    "\n",
    "# Retriving the encoded word_indexes\n",
    "word_index = tokenizer.word_index\n",
    "print(word_index)"
   ]
  },
  {
   "cell_type": "markdown",
   "id": "0492090a",
   "metadata": {
    "papermill": {
     "duration": 0.019473,
     "end_time": "2024-02-01T16:58:56.274996",
     "exception": false,
     "start_time": "2024-02-01T16:58:56.255523",
     "status": "completed"
    },
    "tags": []
   },
   "source": [
    "**Inference**\n",
    "- All words are converted to lower case\n",
    "- All punctuations except apostrophe’s are removed"
   ]
  },
  {
   "cell_type": "markdown",
   "id": "abd2e312",
   "metadata": {
    "papermill": {
     "duration": 0.018477,
     "end_time": "2024-02-01T16:58:56.313123",
     "exception": false,
     "start_time": "2024-02-01T16:58:56.294646",
     "status": "completed"
    },
    "tags": []
   },
   "source": [
    "## Converting Sentences into Sequences\n",
    "\n",
    "- Once the corpus of words has been generated by fitting the tokenizer we can convert the sentences into sequences"
   ]
  },
  {
   "cell_type": "code",
   "execution_count": 4,
   "id": "b34c68a9",
   "metadata": {
    "execution": {
     "iopub.execute_input": "2024-02-01T16:58:56.354050Z",
     "iopub.status.busy": "2024-02-01T16:58:56.353536Z",
     "iopub.status.idle": "2024-02-01T16:58:56.360202Z",
     "shell.execute_reply": "2024-02-01T16:58:56.358885Z"
    },
    "papermill": {
     "duration": 0.030692,
     "end_time": "2024-02-01T16:58:56.363610",
     "exception": false,
     "start_time": "2024-02-01T16:58:56.332918",
     "status": "completed"
    },
    "tags": []
   },
   "outputs": [
    {
     "name": "stdout",
     "output_type": "stream",
     "text": [
      "[10, 21, 2, 1, 3, 4, 5, 6, 22, 11, 12, 13, 14, 7, 1, 8, 15, 23]\n",
      "[24, 25, 2, 1, 3, 4, 5, 6, 26, 11, 12, 13, 14, 7, 1, 8, 15, 27, 28]\n",
      "[10, 9, 29, 2, 16, 17, 18]\n",
      "[19, 30, 2, 1, 3, 4, 5, 6, 31, 32, 9, 33, 34, 35, 20, 7, 1, 8]\n",
      "[36, 37, 2, 1, 3, 4, 5, 6, 38, 39, 40, 20, 41, 42, 43]\n",
      "[19, 9, 44, 45, 16, 17, 18]\n"
     ]
    }
   ],
   "source": [
    "sequences = tokenizer.texts_to_sequences(sentences)\n",
    "\n",
    "# Displaying the Sequences\n",
    "for i in sequences:\n",
    "    print(i)"
   ]
  },
  {
   "cell_type": "markdown",
   "id": "5b637cda",
   "metadata": {
    "papermill": {
     "duration": 0.019136,
     "end_time": "2024-02-01T16:58:56.401595",
     "exception": false,
     "start_time": "2024-02-01T16:58:56.382459",
     "status": "completed"
    },
    "tags": []
   },
   "source": [
    "**Inference**\n",
    "- A good encoding should be able to highlight sentences with similar meaning.\n",
    "- Similar meaning sentences --> similar words --> similar encodings --> similar sequences."
   ]
  },
  {
   "cell_type": "markdown",
   "id": "82fa9f50",
   "metadata": {
    "papermill": {
     "duration": 0.018379,
     "end_time": "2024-02-01T16:58:56.438842",
     "exception": false,
     "start_time": "2024-02-01T16:58:56.420463",
     "status": "completed"
    },
    "tags": []
   },
   "source": [
    "**OOV Token**\n",
    "- The **`OOV Token`** - **`Out of Vocabulary Token`** is used by the Tokenizer to encode words / letter not yet defined by the tokenizer in its corpus"
   ]
  },
  {
   "cell_type": "code",
   "execution_count": 5,
   "id": "03cb6f06",
   "metadata": {
    "execution": {
     "iopub.execute_input": "2024-02-01T16:58:56.576151Z",
     "iopub.status.busy": "2024-02-01T16:58:56.575628Z",
     "iopub.status.idle": "2024-02-01T16:58:56.583250Z",
     "shell.execute_reply": "2024-02-01T16:58:56.581863Z"
    },
    "papermill": {
     "duration": 0.033058,
     "end_time": "2024-02-01T16:58:56.586842",
     "exception": false,
     "start_time": "2024-02-01T16:58:56.553784",
     "status": "completed"
    },
    "tags": []
   },
   "outputs": [
    {
     "name": "stdout",
     "output_type": "stream",
     "text": [
      "Encoding without OOV Token: \n",
      "[7]\n",
      "[2, 1]\n"
     ]
    }
   ],
   "source": [
    "new_sentences = [\n",
    "    \"I had the time of my life in secondary school\",\n",
    "    \"Scotland is a beautiful place, loving everyday\"\n",
    "]\n",
    "\n",
    "# Encoding the New Sentences\n",
    "new_sequences = tokenizer.texts_to_sequences(new_sentences)\n",
    "\n",
    "print(\"Encoding without OOV Token: \")\n",
    "for i in new_sequences:\n",
    "    print(i)"
   ]
  },
  {
   "cell_type": "markdown",
   "id": "c48c61ee",
   "metadata": {
    "papermill": {
     "duration": 0.019563,
     "end_time": "2024-02-01T16:58:56.625833",
     "exception": false,
     "start_time": "2024-02-01T16:58:56.606270",
     "status": "completed"
    },
    "tags": []
   },
   "source": [
    "**Inference**\n",
    "- Since the Tokenizer hasnt learnt many of the words in the above sentences it has chosen to encode the known words and omit the rest.\n",
    "- This changes the Context of the Sentences"
   ]
  },
  {
   "cell_type": "markdown",
   "id": "119c06a0",
   "metadata": {
    "papermill": {
     "duration": 0.019017,
     "end_time": "2024-02-01T16:58:56.664561",
     "exception": false,
     "start_time": "2024-02-01T16:58:56.645544",
     "status": "completed"
    },
    "tags": []
   },
   "source": [
    "**Using the OOV Token**\n",
    "- The **`OOV Token`** can be parsed into the Tokenizer as a Parameter.\n",
    "- It should be a unique string which wont be reused."
   ]
  },
  {
   "cell_type": "code",
   "execution_count": 6,
   "id": "214deaad",
   "metadata": {
    "execution": {
     "iopub.execute_input": "2024-02-01T16:58:56.707185Z",
     "iopub.status.busy": "2024-02-01T16:58:56.706618Z",
     "iopub.status.idle": "2024-02-01T16:58:56.713849Z",
     "shell.execute_reply": "2024-02-01T16:58:56.712522Z"
    },
    "papermill": {
     "duration": 0.03315,
     "end_time": "2024-02-01T16:58:56.717561",
     "exception": false,
     "start_time": "2024-02-01T16:58:56.684411",
     "status": "completed"
    },
    "tags": []
   },
   "outputs": [
    {
     "name": "stdout",
     "output_type": "stream",
     "text": [
      "This is the word index as learnt by the Tokenizer:\n",
      " {'<OOV>': 1, 'a': 2, 'is': 3, 'legend': 4, 'he': 5, 'has': 6, 'won': 7, 'in': 8, 'row': 9, 'and': 10, 'lewis': 11, 'formula': 12, '1': 13, 'world': 14, \"championships'\": 15, 'at': 16, 'really': 17, 'good': 18, 'friends': 19, 'roger': 20, \"titles'\": 21, 'hamilton': 22, \"'8\": 23, 'mercedes': 24, 'sebastian': 25, 'vettel': 26, \"'4\": 27, 'red': 28, 'bull': 29, 'seb': 30, 'federer': 31, \"'5\": 32, 'wimbledon': 33, '5': 34, 'us': 35, 'open': 36, 'rafael': 37, 'nadal': 38, \"'14\": 39, 'roland': 40, 'garros': 41, 'an': 42, 'unreal': 43, 'feat': 44, 'rafa': 45, 'are': 46}\n"
     ]
    }
   ],
   "source": [
    "# Declaring the Tokenizer with the OOV Token\n",
    "tokenizer = Tokenizer(num_words=100, oov_token=\"<OOV>\")\n",
    "\n",
    "# Fitting the Tokenizer\n",
    "tokenizer.fit_on_texts(sentences)\n",
    "word_idx = tokenizer.word_index\n",
    "print(\"This is the word index as learnt by the Tokenizer:\\n\", word_idx)"
   ]
  },
  {
   "cell_type": "markdown",
   "id": "da4fbc76",
   "metadata": {
    "papermill": {
     "duration": 0.019264,
     "end_time": "2024-02-01T16:58:56.758108",
     "exception": false,
     "start_time": "2024-02-01T16:58:56.738844",
     "status": "completed"
    },
    "tags": []
   },
   "source": [
    "**Inference**\n",
    "- By Default the `OOV Token` is parsed into the Dictionary of Encodings"
   ]
  },
  {
   "cell_type": "code",
   "execution_count": 7,
   "id": "7c35a585",
   "metadata": {
    "execution": {
     "iopub.execute_input": "2024-02-01T16:58:56.799109Z",
     "iopub.status.busy": "2024-02-01T16:58:56.798602Z",
     "iopub.status.idle": "2024-02-01T16:58:56.806674Z",
     "shell.execute_reply": "2024-02-01T16:58:56.805182Z"
    },
    "papermill": {
     "duration": 0.032528,
     "end_time": "2024-02-01T16:58:56.809855",
     "exception": false,
     "start_time": "2024-02-01T16:58:56.777327",
     "status": "completed"
    },
    "tags": []
   },
   "outputs": [
    {
     "name": "stdout",
     "output_type": "stream",
     "text": [
      "First Sequences after Encoding:\n",
      "\n",
      "[11, 22, 3, 2, 4, 5, 6, 7, 23, 12, 13, 14, 15, 8, 2, 9, 16, 24]\n",
      "[25, 26, 3, 2, 4, 5, 6, 7, 27, 12, 13, 14, 15, 8, 2, 9, 16, 28, 29]\n",
      "[11, 10, 30, 3, 17, 18, 19]\n",
      "[20, 31, 3, 2, 4, 5, 6, 7, 32, 33, 10, 34, 35, 36, 21, 8, 2, 9]\n",
      "[37, 38, 3, 2, 4, 5, 6, 7, 39, 40, 41, 21, 42, 43, 44]\n",
      "[20, 10, 45, 46, 17, 18, 19]\n",
      "\n",
      "New Sequences after Encoding:\n",
      "\n",
      "[1, 1, 1, 1, 1, 1, 1, 8, 1, 1]\n",
      "[1, 3, 2, 1, 1, 1, 1]\n"
     ]
    }
   ],
   "source": [
    "print(\"First Sequences after Encoding:\\n\")\n",
    "sequences = tokenizer.texts_to_sequences(sentences)\n",
    "for i in sequences:\n",
    "    print(i)\n",
    "    \n",
    "print(\"\\nNew Sequences after Encoding:\\n\")\n",
    "new_sequences = tokenizer.texts_to_sequences(new_sentences)\n",
    "for i in new_sequences:\n",
    "    print(i)"
   ]
  },
  {
   "cell_type": "markdown",
   "id": "f3abe16e",
   "metadata": {
    "papermill": {
     "duration": 0.020705,
     "end_time": "2024-02-01T16:58:56.849998",
     "exception": false,
     "start_time": "2024-02-01T16:58:56.829293",
     "status": "completed"
    },
    "tags": []
   },
   "source": [
    "**Inference**\n",
    "- The new sentences to contain many `OOV Tokens` retains the length of the sentences.\n",
    "- **This indicates that we need to increase the corpus with better word coverage for the new sentences.**"
   ]
  },
  {
   "cell_type": "markdown",
   "id": "8841dced",
   "metadata": {
    "papermill": {
     "duration": 0.019854,
     "end_time": "2024-02-01T16:58:56.889307",
     "exception": false,
     "start_time": "2024-02-01T16:58:56.869453",
     "status": "completed"
    },
    "tags": []
   },
   "source": [
    "## Padding\n",
    "\n",
    "- Padding is used to convert the sentences being learnt into a standard size like the `target-size` parameter in `CNN's`\n",
    "- Sequences: Contains 4 Sentences of similar length and 2 Sentences of similar length.\n",
    "- Scope for padding"
   ]
  },
  {
   "cell_type": "code",
   "execution_count": 8,
   "id": "b3d84d32",
   "metadata": {
    "execution": {
     "iopub.execute_input": "2024-02-01T16:58:56.931414Z",
     "iopub.status.busy": "2024-02-01T16:58:56.930947Z",
     "iopub.status.idle": "2024-02-01T16:58:56.941567Z",
     "shell.execute_reply": "2024-02-01T16:58:56.940077Z"
    },
    "papermill": {
     "duration": 0.035057,
     "end_time": "2024-02-01T16:58:56.944554",
     "exception": false,
     "start_time": "2024-02-01T16:58:56.909497",
     "status": "completed"
    },
    "tags": []
   },
   "outputs": [
    {
     "name": "stdout",
     "output_type": "stream",
     "text": [
      "The default padding:\n",
      "\n",
      "[ 0 11 22  3  2  4  5  6  7 23 12 13 14 15  8  2  9 16 24]\n",
      "[25 26  3  2  4  5  6  7 27 12 13 14 15  8  2  9 16 28 29]\n",
      "[ 0  0  0  0  0  0  0  0  0  0  0  0 11 10 30  3 17 18 19]\n",
      "[ 0 20 31  3  2  4  5  6  7 32 33 10 34 35 36 21  8  2  9]\n",
      "[ 0  0  0  0 37 38  3  2  4  5  6  7 39 40 41 21 42 43 44]\n",
      "[ 0  0  0  0  0  0  0  0  0  0  0  0 20 10 45 46 17 18 19]\n"
     ]
    }
   ],
   "source": [
    "from tensorflow.keras.preprocessing.sequence import pad_sequences\n",
    "\n",
    "def_pad_seq = pad_sequences(sequences)\n",
    "print(\"The default padding:\\n\")\n",
    "for i in def_pad_seq:\n",
    "    print(i)"
   ]
  },
  {
   "cell_type": "markdown",
   "id": "6d21f883",
   "metadata": {
    "papermill": {
     "duration": 0.019392,
     "end_time": "2024-02-01T16:58:56.983797",
     "exception": false,
     "start_time": "2024-02-01T16:58:56.964405",
     "status": "completed"
    },
    "tags": []
   },
   "source": [
    "**Pre Padding**\n",
    "- Here padding of 0's is done before the beginning of sentences\n",
    "\n",
    "\n",
    "**Post Padding**\n",
    "- Here padding of 0's is done before the after the completion of sentences"
   ]
  },
  {
   "cell_type": "code",
   "execution_count": 9,
   "id": "e9cca287",
   "metadata": {
    "execution": {
     "iopub.execute_input": "2024-02-01T16:58:57.027867Z",
     "iopub.status.busy": "2024-02-01T16:58:57.027371Z",
     "iopub.status.idle": "2024-02-01T16:58:57.035644Z",
     "shell.execute_reply": "2024-02-01T16:58:57.034190Z"
    },
    "papermill": {
     "duration": 0.032406,
     "end_time": "2024-02-01T16:58:57.038168",
     "exception": false,
     "start_time": "2024-02-01T16:58:57.005762",
     "status": "completed"
    },
    "tags": []
   },
   "outputs": [
    {
     "name": "stdout",
     "output_type": "stream",
     "text": [
      "The sequences after Post Paddding:\n",
      "\n",
      "\n",
      "[11 22  3  2  4  5  6  7 23 12 13 14 15  8  2  9 16 24  0]\n",
      "[25 26  3  2  4  5  6  7 27 12 13 14 15  8  2  9 16 28 29]\n",
      "[11 10 30  3 17 18 19  0  0  0  0  0  0  0  0  0  0  0  0]\n",
      "[20 31  3  2  4  5  6  7 32 33 10 34 35 36 21  8  2  9  0]\n",
      "[37 38  3  2  4  5  6  7 39 40 41 21 42 43 44  0  0  0  0]\n",
      "[20 10 45 46 17 18 19  0  0  0  0  0  0  0  0  0  0  0  0]\n"
     ]
    }
   ],
   "source": [
    "post_pad_seq = pad_sequences(sequences, padding=\"post\")\n",
    "print(\"The sequences after Post Paddding:\\n\\n\")\n",
    "for i in post_pad_seq:\n",
    "    print(i)"
   ]
  },
  {
   "cell_type": "markdown",
   "id": "1c40e624",
   "metadata": {
    "papermill": {
     "duration": 0.019692,
     "end_time": "2024-02-01T16:58:57.078321",
     "exception": false,
     "start_time": "2024-02-01T16:58:57.058629",
     "status": "completed"
    },
    "tags": []
   },
   "source": [
    "**MaxLen**\n",
    "- If most of sentences are having mean length and very few sentences have high variance from the mean length we can standardise the lenght of each sequence being encoded."
   ]
  },
  {
   "cell_type": "code",
   "execution_count": 10,
   "id": "a2fda9dd",
   "metadata": {
    "execution": {
     "iopub.execute_input": "2024-02-01T16:58:57.125016Z",
     "iopub.status.busy": "2024-02-01T16:58:57.124524Z",
     "iopub.status.idle": "2024-02-01T16:58:57.133239Z",
     "shell.execute_reply": "2024-02-01T16:58:57.130943Z"
    },
    "papermill": {
     "duration": 0.0347,
     "end_time": "2024-02-01T16:58:57.135812",
     "exception": false,
     "start_time": "2024-02-01T16:58:57.101112",
     "status": "completed"
    },
    "tags": []
   },
   "outputs": [
    {
     "name": "stdout",
     "output_type": "stream",
     "text": [
      "The sequences after Post Padding and Max Len:\n",
      "\n",
      "[ 6  7 23 12 13 14 15  8  2  9 16 24]\n",
      "[ 7 27 12 13 14 15  8  2  9 16 28 29]\n",
      "[11 10 30  3 17 18 19  0  0  0  0  0]\n",
      "[ 6  7 32 33 10 34 35 36 21  8  2  9]\n",
      "[ 2  4  5  6  7 39 40 41 21 42 43 44]\n",
      "[20 10 45 46 17 18 19  0  0  0  0  0]\n"
     ]
    }
   ],
   "source": [
    "maxlen_seq = pad_sequences(sequences, padding=\"post\", maxlen=12)\n",
    "print(\"The sequences after Post Padding and Max Len:\\n\")\n",
    "for i in maxlen_seq:\n",
    "    print(i)"
   ]
  },
  {
   "cell_type": "markdown",
   "id": "29367199",
   "metadata": {
    "papermill": {
     "duration": 0.021628,
     "end_time": "2024-02-01T16:58:57.179025",
     "exception": false,
     "start_time": "2024-02-01T16:58:57.157397",
     "status": "completed"
    },
    "tags": []
   },
   "source": [
    "**Inference**\n",
    "- The use of the Maxlen Parameter has unified the length of the sentences but truncated the sentences from the beginning.\n",
    "- This can be changed to truncate from the end."
   ]
  },
  {
   "cell_type": "code",
   "execution_count": 11,
   "id": "d589ac3d",
   "metadata": {
    "execution": {
     "iopub.execute_input": "2024-02-01T16:58:57.221226Z",
     "iopub.status.busy": "2024-02-01T16:58:57.220692Z",
     "iopub.status.idle": "2024-02-01T16:58:57.228794Z",
     "shell.execute_reply": "2024-02-01T16:58:57.226971Z"
    },
    "papermill": {
     "duration": 0.034719,
     "end_time": "2024-02-01T16:58:57.233674",
     "exception": false,
     "start_time": "2024-02-01T16:58:57.198955",
     "status": "completed"
    },
    "tags": []
   },
   "outputs": [
    {
     "name": "stdout",
     "output_type": "stream",
     "text": [
      "The sequences after Post Padding and Max Len:\n",
      "\n",
      "[11 22  3  2  4  5  6  7 23 12 13 14]\n",
      "[25 26  3  2  4  5  6  7 27 12 13 14]\n",
      "[11 10 30  3 17 18 19  0  0  0  0  0]\n",
      "[20 31  3  2  4  5  6  7 32 33 10 34]\n",
      "[37 38  3  2  4  5  6  7 39 40 41 21]\n",
      "[20 10 45 46 17 18 19  0  0  0  0  0]\n"
     ]
    }
   ],
   "source": [
    "trunc_seq = pad_sequences(sequences, padding=\"post\", maxlen=12, truncating=\"post\")\n",
    "print(\"The sequences after Post Padding and Max Len:\\n\")\n",
    "for i in trunc_seq:\n",
    "    print(i)"
   ]
  },
  {
   "cell_type": "markdown",
   "id": "2536daf7",
   "metadata": {
    "papermill": {
     "duration": 0.023216,
     "end_time": "2024-02-01T16:58:57.280669",
     "exception": false,
     "start_time": "2024-02-01T16:58:57.257453",
     "status": "completed"
    },
    "tags": []
   },
   "source": [
    "## Cleaning Text and Stopwords"
   ]
  },
  {
   "cell_type": "markdown",
   "id": "f6cb6288",
   "metadata": {
    "papermill": {
     "duration": 0.019997,
     "end_time": "2024-02-01T16:58:57.323022",
     "exception": false,
     "start_time": "2024-02-01T16:58:57.303025",
     "status": "completed"
    },
    "tags": []
   },
   "source": [
    "**Stopwords**\n",
    "- A list of commonly used words which are filtered out to infer the meaning of the sentence"
   ]
  },
  {
   "cell_type": "code",
   "execution_count": 12,
   "id": "6599ecba",
   "metadata": {
    "execution": {
     "iopub.execute_input": "2024-02-01T16:58:57.369903Z",
     "iopub.status.busy": "2024-02-01T16:58:57.369393Z",
     "iopub.status.idle": "2024-02-01T16:58:57.382295Z",
     "shell.execute_reply": "2024-02-01T16:58:57.380979Z"
    },
    "papermill": {
     "duration": 0.039054,
     "end_time": "2024-02-01T16:58:57.385519",
     "exception": false,
     "start_time": "2024-02-01T16:58:57.346465",
     "status": "completed"
    },
    "tags": []
   },
   "outputs": [],
   "source": [
    "stopwords = [\"a\", \"about\", \"above\", \"after\", \"again\", \"against\", \"all\", \"am\", \"an\", \"and\", \"any\", \"are\", \"as\", \"at\",\n",
    "             \"be\", \"because\", \"been\", \"before\", \"being\", \"below\", \"between\", \"both\", \"but\", \"by\", \"could\", \"did\", \"do\",\n",
    "             \"does\", \"doing\", \"down\", \"during\", \"each\", \"few\", \"for\", \"from\", \"further\", \"had\", \"has\", \"have\", \"having\",\n",
    "             \"he\", \"hed\", \"hes\", \"her\", \"here\", \"heres\", \"hers\", \"herself\", \"him\", \"himself\", \"his\", \"how\",\n",
    "             \"hows\", \"i\", \"id\", \"ill\", \"im\", \"ive\", \"if\", \"in\", \"into\", \"is\", \"it\", \"its\", \"itself\",\n",
    "             \"lets\", \"me\", \"more\", \"most\", \"my\", \"myself\", \"nor\", \"of\", \"on\", \"once\", \"only\", \"or\", \"other\", \"ought\",\n",
    "             \"our\", \"ours\", \"ourselves\", \"out\", \"over\", \"own\", \"same\", \"she\", \"shed\", \"shell\", \"shes\", \"should\",\n",
    "             \"so\", \"some\", \"such\", \"than\", \"that\", \"thats\", \"the\", \"their\", \"theirs\", \"them\", \"themselves\", \"then\",\n",
    "             \"there\", \"theres\", \"these\", \"they\", \"theyd\", \"theyll\", \"theyre\", \"theyve\", \"this\", \"those\", \"through\",\n",
    "             \"to\", \"too\", \"under\", \"until\", \"up\", \"very\", \"was\", \"we\", \"wed\", \"well\", \"were\", \"weve\", \"were\",\n",
    "             \"what\", \"whats\", \"when\", \"whens\", \"where\", \"wheres\", \"which\", \"while\", \"who\", \"whos\", \"whom\", \"why\",\n",
    "             \"whys\", \"with\", \"would\", \"you\", \"youd\", \"youll\", \"youre\", \"youve\", \"your\", \"yours\", \"yourself\",\n",
    "             \"yourselves\"]"
   ]
  },
  {
   "cell_type": "code",
   "execution_count": 13,
   "id": "992d93d1",
   "metadata": {
    "execution": {
     "iopub.execute_input": "2024-02-01T16:58:57.431283Z",
     "iopub.status.busy": "2024-02-01T16:58:57.430741Z",
     "iopub.status.idle": "2024-02-01T16:58:57.440451Z",
     "shell.execute_reply": "2024-02-01T16:58:57.439090Z"
    },
    "papermill": {
     "duration": 0.037127,
     "end_time": "2024-02-01T16:58:57.443570",
     "exception": false,
     "start_time": "2024-02-01T16:58:57.406443",
     "status": "completed"
    },
    "tags": []
   },
   "outputs": [
    {
     "name": "stdout",
     "output_type": "stream",
     "text": [
      "The sentences before filtering stopwords:\n",
      "\n",
      "Lewis Hamilton is a legend!. He has won '8 Formula-1 World Championships' in a row at Mercedes\n",
      "Sebastian Vettel is a legend!. He has won '4 Formula-1 World Championships' in a row at Red Bull\n",
      "Lewis and Seb is really good friends\n",
      "Roger Federer is a legend!. He has won '5 Wimbledon and 5 US Open titles' in a row\n",
      "Rafael Nadal is a legend!. He has won '14 Roland Garros titles' an unreal feat\n",
      "Roger and Rafa are really good friends\n",
      "\n",
      "\n",
      "The sentences after filtering stopwords:\n",
      "\n",
      "Lewis Hamilton legend!. He won '8 Formula-1 World Championships' row Mercedes \n",
      "Sebastian Vettel legend!. He won '4 Formula-1 World Championships' row Red Bull \n",
      "Lewis Seb really good friends \n",
      "Roger Federer legend!. He won '5 Wimbledon 5 US Open titles' row \n",
      "Rafael Nadal legend!. He won '14 Roland Garros titles' unreal feat \n",
      "Roger Rafa really good friends \n"
     ]
    }
   ],
   "source": [
    "# Displaying all the sentences before filtering\n",
    "print(\"The sentences before filtering stopwords:\\n\")\n",
    "for sentence in sentences:\n",
    "    print(sentence)\n",
    "\n",
    "# List of the Filtered Sentences\n",
    "filtered_sentences = []\n",
    "\n",
    "# Filtering the Sentence for Stopwords\n",
    "for sentence in sentences:\n",
    "    \n",
    "    # Converting a Sentence into list of Words\n",
    "    words = sentence.split()\n",
    "    filtered_sentence = \"\"\n",
    "    \n",
    "    # Checking for the Stopwords\n",
    "    for word in words:\n",
    "        if word not in stopwords:\n",
    "            filtered_sentence = filtered_sentence + word + \" \"\n",
    "    \n",
    "    filtered_sentences.append(filtered_sentence)\n",
    "    \n",
    "print(\"\\n\\nThe sentences after filtering stopwords:\\n\")\n",
    "for sentence in filtered_sentences:\n",
    "    print(sentence)"
   ]
  },
  {
   "cell_type": "markdown",
   "id": "973ffd94",
   "metadata": {
    "papermill": {
     "duration": 0.019843,
     "end_time": "2024-02-01T16:58:57.484311",
     "exception": false,
     "start_time": "2024-02-01T16:58:57.464468",
     "status": "completed"
    },
    "tags": []
   },
   "source": [
    "**Removing Punctuation**"
   ]
  },
  {
   "cell_type": "code",
   "execution_count": 14,
   "id": "4dd6073b",
   "metadata": {
    "execution": {
     "iopub.execute_input": "2024-02-01T16:58:57.527573Z",
     "iopub.status.busy": "2024-02-01T16:58:57.527092Z",
     "iopub.status.idle": "2024-02-01T16:58:57.538000Z",
     "shell.execute_reply": "2024-02-01T16:58:57.536603Z"
    },
    "papermill": {
     "duration": 0.03708,
     "end_time": "2024-02-01T16:58:57.541495",
     "exception": false,
     "start_time": "2024-02-01T16:58:57.504415",
     "status": "completed"
    },
    "tags": []
   },
   "outputs": [
    {
     "name": "stdout",
     "output_type": "stream",
     "text": [
      "The sentences before filtering stopwords and punctuation:\n",
      "\n",
      "Lewis Hamilton is a legend!. He has won '8 Formula-1 World Championships' in a row at Mercedes\n",
      "Sebastian Vettel is a legend!. He has won '4 Formula-1 World Championships' in a row at Red Bull\n",
      "Lewis and Seb is really good friends\n",
      "Roger Federer is a legend!. He has won '5 Wimbledon and 5 US Open titles' in a row\n",
      "Rafael Nadal is a legend!. He has won '14 Roland Garros titles' an unreal feat\n",
      "Roger and Rafa are really good friends\n",
      "\n",
      "\n",
      "The sentences after filtering stopwords and punctuation:\n",
      "\n",
      "Lewis Hamilton legend He won 8 Formula1 World Championships row Mercedes \n",
      "Sebastian Vettel legend He won 4 Formula1 World Championships row Red Bull \n",
      "Lewis Seb really good friends \n",
      "Roger Federer legend He won 5 Wimbledon 5 US Open titles row \n",
      "Rafael Nadal legend He won 14 Roland Garros titles unreal feat \n",
      "Roger Rafa really good friends \n"
     ]
    }
   ],
   "source": [
    "import string\n",
    "\n",
    "print(\"The sentences before filtering stopwords and punctuation:\\n\")\n",
    "for sentence in sentences:\n",
    "    print(sentence)\n",
    "\n",
    "# Utilising the Translation Function\n",
    "'''\n",
    "The two empty strings promote equal length, they are used to identify the location for \n",
    "placing the words after the punctuation has been stripped. \n",
    "'''\n",
    "translation_table = str.maketrans(\"\", \"\", string.punctuation)\n",
    "\n",
    "filtered_sentences = []\n",
    "for sentence in sentences:\n",
    "    words = sentence.split()\n",
    "    filtered_sentence = \"\"\n",
    "    \n",
    "    # Making the Translations for each word and filtering the stopwords\n",
    "    for word in words:\n",
    "        word = word.translate(translation_table)\n",
    "        if word not in stopwords:\n",
    "            filtered_sentence = filtered_sentence + word + \" \"\n",
    "            \n",
    "    filtered_sentences.append(filtered_sentence)\n",
    "    \n",
    "print(\"\\n\\nThe sentences after filtering stopwords and punctuation:\\n\")\n",
    "for sentence in filtered_sentences:\n",
    "    print(sentence)"
   ]
  },
  {
   "cell_type": "markdown",
   "id": "5ea3c71d",
   "metadata": {
    "papermill": {
     "duration": 0.021333,
     "end_time": "2024-02-01T16:58:57.584206",
     "exception": false,
     "start_time": "2024-02-01T16:58:57.562873",
     "status": "completed"
    },
    "tags": []
   },
   "source": [
    "**Encoding the Fully Filtered Sentences**"
   ]
  },
  {
   "cell_type": "code",
   "execution_count": 15,
   "id": "2df7abfe",
   "metadata": {
    "execution": {
     "iopub.execute_input": "2024-02-01T16:58:57.627571Z",
     "iopub.status.busy": "2024-02-01T16:58:57.627064Z",
     "iopub.status.idle": "2024-02-01T16:58:57.635638Z",
     "shell.execute_reply": "2024-02-01T16:58:57.634412Z"
    },
    "papermill": {
     "duration": 0.033874,
     "end_time": "2024-02-01T16:58:57.638864",
     "exception": false,
     "start_time": "2024-02-01T16:58:57.604990",
     "status": "completed"
    },
    "tags": []
   },
   "outputs": [
    {
     "name": "stdout",
     "output_type": "stream",
     "text": [
      "The Word Index learnt by the Tokenizer:\n",
      "\n",
      " {'<OOV>': 1, 'legend': 2, 'he': 3, 'won': 4, 'row': 5, 'lewis': 6, 'formula1': 7, 'world': 8, 'championships': 9, 'really': 10, 'good': 11, 'friends': 12, 'roger': 13, '5': 14, 'titles': 15, 'hamilton': 16, '8': 17, 'mercedes': 18, 'sebastian': 19, 'vettel': 20, '4': 21, 'red': 22, 'bull': 23, 'seb': 24, 'federer': 25, 'wimbledon': 26, 'us': 27, 'open': 28, 'rafael': 29, 'nadal': 30, '14': 31, 'roland': 32, 'garros': 33, 'unreal': 34, 'feat': 35, 'rafa': 36}\n",
      "\n",
      "\n",
      "The sequences after encoding are:\n",
      "\n",
      "[6, 16, 2, 3, 4, 17, 7, 8, 9, 5, 18]\n",
      "[19, 20, 2, 3, 4, 21, 7, 8, 9, 5, 22, 23]\n",
      "[6, 24, 10, 11, 12]\n",
      "[13, 25, 2, 3, 4, 14, 26, 14, 27, 28, 15, 5]\n",
      "[29, 30, 2, 3, 4, 31, 32, 33, 15, 34, 35]\n",
      "[13, 36, 10, 11, 12]\n"
     ]
    }
   ],
   "source": [
    "# Initialisation\n",
    "tokenizer = Tokenizer(num_words=100, oov_token=\"<OOV>\")\n",
    "\n",
    "# Fitting\n",
    "tokenizer.fit_on_texts(filtered_sentences)\n",
    "print(\"The Word Index learnt by the Tokenizer:\\n\\n\", tokenizer.word_index)\n",
    "\n",
    "# Encoding\n",
    "sequences = tokenizer.texts_to_sequences(filtered_sentences)\n",
    "print(\"\\n\\nThe sequences after encoding are:\\n\")\n",
    "for seq in sequences:\n",
    "    print(seq)"
   ]
  },
  {
   "cell_type": "markdown",
   "id": "a33a5aae",
   "metadata": {
    "papermill": {
     "duration": 0.020609,
     "end_time": "2024-02-01T16:58:57.679767",
     "exception": false,
     "start_time": "2024-02-01T16:58:57.659158",
     "status": "completed"
    },
    "tags": []
   },
   "source": [
    "## Working with Real World Data Sources\n",
    "\n",
    "**IMDB Dataset**\n",
    "- Loading a dataset from TFDS with imdb movie reviews"
   ]
  },
  {
   "cell_type": "code",
   "execution_count": 16,
   "id": "4aabe6f5",
   "metadata": {
    "execution": {
     "iopub.execute_input": "2024-02-01T16:58:57.723237Z",
     "iopub.status.busy": "2024-02-01T16:58:57.722715Z",
     "iopub.status.idle": "2024-02-01T17:00:16.017337Z",
     "shell.execute_reply": "2024-02-01T17:00:16.015998Z"
    },
    "papermill": {
     "duration": 78.320222,
     "end_time": "2024-02-01T17:00:16.020333",
     "exception": false,
     "start_time": "2024-02-01T16:58:57.700111",
     "status": "completed"
    },
    "tags": []
   },
   "outputs": [
    {
     "name": "stdout",
     "output_type": "stream",
     "text": [
      "\u001b[1mDownloading and preparing dataset 80.23 MiB (download: 80.23 MiB, generated: Unknown size, total: 80.23 MiB) to /root/tensorflow_datasets/imdb_reviews/plain_text/1.0.0...\u001b[0m\n"
     ]
    },
    {
     "data": {
      "application/vnd.jupyter.widget-view+json": {
       "model_id": "9d847bd141c44b27ad9a8ca1c4fd578c",
       "version_major": 2,
       "version_minor": 0
      },
      "text/plain": [
       "Dl Completed...: 0 url [00:00, ? url/s]"
      ]
     },
     "metadata": {},
     "output_type": "display_data"
    },
    {
     "data": {
      "application/vnd.jupyter.widget-view+json": {
       "model_id": "ba39c1566f4d44859ee23da6cdca8e66",
       "version_major": 2,
       "version_minor": 0
      },
      "text/plain": [
       "Dl Size...: 0 MiB [00:00, ? MiB/s]"
      ]
     },
     "metadata": {},
     "output_type": "display_data"
    },
    {
     "data": {
      "application/vnd.jupyter.widget-view+json": {
       "model_id": "65891b8fb6a3458f8963d266282281ef",
       "version_major": 2,
       "version_minor": 0
      },
      "text/plain": [
       "Generating splits...:   0%|          | 0/3 [00:00<?, ? splits/s]"
      ]
     },
     "metadata": {},
     "output_type": "display_data"
    },
    {
     "data": {
      "application/vnd.jupyter.widget-view+json": {
       "model_id": "5d52b7287cbb4cbab9b8d8e3303a4324",
       "version_major": 2,
       "version_minor": 0
      },
      "text/plain": [
       "Generating train examples...:   0%|          | 0/25000 [00:00<?, ? examples/s]"
      ]
     },
     "metadata": {},
     "output_type": "display_data"
    },
    {
     "data": {
      "application/vnd.jupyter.widget-view+json": {
       "model_id": "75213aba6c534c8b84fbc5a1e63ced96",
       "version_major": 2,
       "version_minor": 0
      },
      "text/plain": [
       "Shuffling /root/tensorflow_datasets/imdb_reviews/plain_text/1.0.0.incomplete545XHZ/imdb_reviews-train.tfrecord…"
      ]
     },
     "metadata": {},
     "output_type": "display_data"
    },
    {
     "data": {
      "application/vnd.jupyter.widget-view+json": {
       "model_id": "828348ddd84e4f44b10ab392ca040c40",
       "version_major": 2,
       "version_minor": 0
      },
      "text/plain": [
       "Generating test examples...:   0%|          | 0/25000 [00:00<?, ? examples/s]"
      ]
     },
     "metadata": {},
     "output_type": "display_data"
    },
    {
     "data": {
      "application/vnd.jupyter.widget-view+json": {
       "model_id": "474dfb1b50d3465b81b3349e8b91b303",
       "version_major": 2,
       "version_minor": 0
      },
      "text/plain": [
       "Shuffling /root/tensorflow_datasets/imdb_reviews/plain_text/1.0.0.incomplete545XHZ/imdb_reviews-test.tfrecord*…"
      ]
     },
     "metadata": {},
     "output_type": "display_data"
    },
    {
     "data": {
      "application/vnd.jupyter.widget-view+json": {
       "model_id": "0b9a2442cbb84133841af8b06df4ed13",
       "version_major": 2,
       "version_minor": 0
      },
      "text/plain": [
       "Generating unsupervised examples...:   0%|          | 0/50000 [00:00<?, ? examples/s]"
      ]
     },
     "metadata": {},
     "output_type": "display_data"
    },
    {
     "data": {
      "application/vnd.jupyter.widget-view+json": {
       "model_id": "da541b568c004f339bf170ac8c0ba99b",
       "version_major": 2,
       "version_minor": 0
      },
      "text/plain": [
       "Shuffling /root/tensorflow_datasets/imdb_reviews/plain_text/1.0.0.incomplete545XHZ/imdb_reviews-unsupervised.t…"
      ]
     },
     "metadata": {},
     "output_type": "display_data"
    },
    {
     "name": "stdout",
     "output_type": "stream",
     "text": [
      "\u001b[1mDataset imdb_reviews downloaded and prepared to /root/tensorflow_datasets/imdb_reviews/plain_text/1.0.0. Subsequent calls will reuse this data.\u001b[0m\n",
      "<tensorflow_datasets.core.dataset_utils._IterableDataset object at 0x79bbb276c460>\n"
     ]
    }
   ],
   "source": [
    "import tensorflow_datasets as tfds\n",
    "\n",
    "# Loading the Dataset\n",
    "imdb = tfds.as_numpy(tfds.load(\"imdb_reviews\", split=\"train\"))\n",
    "print(imdb)"
   ]
  },
  {
   "cell_type": "code",
   "execution_count": 17,
   "id": "42928448",
   "metadata": {
    "execution": {
     "iopub.execute_input": "2024-02-01T17:00:16.068596Z",
     "iopub.status.busy": "2024-02-01T17:00:16.067217Z",
     "iopub.status.idle": "2024-02-01T17:00:24.376149Z",
     "shell.execute_reply": "2024-02-01T17:00:24.374622Z"
    },
    "papermill": {
     "duration": 8.336402,
     "end_time": "2024-02-01T17:00:24.379282",
     "exception": false,
     "start_time": "2024-02-01T17:00:16.042880",
     "status": "completed"
    },
    "tags": []
   },
   "outputs": [
    {
     "name": "stdout",
     "output_type": "stream",
     "text": [
      "Length:  25000\n",
      "First Item:  b\"This was an absolutely terrible movie. Don't be lured in by Christopher Walken or Michael Ironside. Both are great actors, but this must simply be their worst role in history. Even their great acting could not redeem this movie's ridiculous storyline. This movie is an early nineties US propaganda piece. The most pathetic scenes were those when the Columbian rebels were making their cases for revolutions. Maria Conchita Alonso appeared phony, and her pseudo-love affair with Walken was nothing but a pathetic emotional plug in a movie that was devoid of any real meaning. I am disappointed that there are movies like this, ruining actor's like Christopher Walken's good name. I could barely sit through it.\"\n"
     ]
    }
   ],
   "source": [
    "list_of_reviews = []\n",
    "\n",
    "# Storing all the reviews\n",
    "for item in imdb:\n",
    "    list_of_reviews.append(str(item[\"text\"]))\n",
    "    \n",
    "print(\"Length: \", len(list_of_reviews))\n",
    "print(\"First Item: \", list_of_reviews[0])"
   ]
  },
  {
   "cell_type": "code",
   "execution_count": 18,
   "id": "bf81a062",
   "metadata": {
    "execution": {
     "iopub.execute_input": "2024-02-01T17:00:24.429316Z",
     "iopub.status.busy": "2024-02-01T17:00:24.428470Z",
     "iopub.status.idle": "2024-02-01T17:00:31.426139Z",
     "shell.execute_reply": "2024-02-01T17:00:31.424950Z"
    },
    "papermill": {
     "duration": 7.025107,
     "end_time": "2024-02-01T17:00:31.429028",
     "exception": false,
     "start_time": "2024-02-01T17:00:24.403921",
     "status": "completed"
    },
    "tags": []
   },
   "outputs": [
    {
     "name": "stdout",
     "output_type": "stream",
     "text": [
      "86539\n"
     ]
    }
   ],
   "source": [
    "# Creating the Movie Tokenizer\n",
    "movie_tokenizer = Tokenizer(num_words=100000, oov_token=\"<OOV>\")\n",
    "\n",
    "# Fitting the Sentences\n",
    "movie_tokenizer.fit_on_texts(list_of_reviews)\n",
    "\n",
    "# Viewing the Word Index\n",
    "print(len(movie_tokenizer.word_index))"
   ]
  },
  {
   "cell_type": "code",
   "execution_count": 19,
   "id": "6c80c79a",
   "metadata": {
    "execution": {
     "iopub.execute_input": "2024-02-01T17:00:31.476756Z",
     "iopub.status.busy": "2024-02-01T17:00:31.476255Z",
     "iopub.status.idle": "2024-02-01T17:00:36.370171Z",
     "shell.execute_reply": "2024-02-01T17:00:36.368778Z"
    },
    "papermill": {
     "duration": 4.921815,
     "end_time": "2024-02-01T17:00:36.373454",
     "exception": false,
     "start_time": "2024-02-01T17:00:31.451639",
     "status": "completed"
    },
    "tags": []
   },
   "outputs": [
    {
     "name": "stdout",
     "output_type": "stream",
     "text": [
      "[59, 12, 14, 35, 439, 400, 18, 174, 29, 10624, 9, 33, 1378, 3401, 42, 496, 11109, 197, 25, 88, 156, 19, 12, 211, 340, 29, 70, 248, 213, 9, 486, 62, 70, 88, 116, 99, 24, 5740, 12, 3317, 657, 777, 12, 18, 7, 35, 406, 8228, 178, 2477, 426, 2, 92, 1253, 140, 72, 149, 55, 2, 30181, 7525, 72, 229, 70, 2962, 16, 20482, 2880, 20483, 18416, 1506, 4998, 3, 40, 3947, 119, 1608, 17, 3401, 14, 163, 19, 4, 1253, 927, 7986, 9, 4, 18, 13, 14, 4200, 5, 102, 148, 1237, 11, 240, 692, 13, 44, 25, 101, 39, 12, 7232, 10374, 39, 1378, 25011, 52, 409, 11, 99, 1214, 874, 145, 10]\n",
      "\n",
      "[256, 28, 78, 585, 6, 815, 2383, 317, 109, 19, 12, 7, 643, 696, 6, 4, 2249, 5, 183, 599, 68, 1483, 114, 2289, 3, 4005, 22, 2, 34225, 3, 263, 43, 4754, 4, 173, 190, 22, 12, 4126, 11, 1604, 2383, 87, 2, 20, 14, 1945, 2, 115, 950, 14, 1838, 1367, 563, 3, 365, 183, 477, 6, 602, 19, 17, 61, 1845, 5, 51, 14, 4090, 98, 42, 138, 11, 983, 11, 200, 28, 1059, 171, 5, 2, 20, 19, 11, 298, 2, 2182, 5, 10, 3, 285, 43, 477, 6, 602, 5, 94, 203, 30182, 206, 102, 148, 4450, 16, 228, 336, 11, 2510, 392, 12, 20, 32, 31, 47]\n",
      "\n",
      "[51044, 6175, 2, 27338, 4916, 4029, 9, 4, 912, 1622, 3, 1969, 1307, 3, 2384, 8836, 201, 746, 361, 15, 34, 208, 308, 6, 83, 8, 8, 19, 214, 22, 352, 4, 25012, 990, 2, 82, 5, 3608, 545, 14395, 6, 27339, 539, 4, 11110, 434, 4, 11110, 3, 6, 25013, 2, 1176, 539, 95, 34226, 8111, 10, 46, 22, 2, 1996, 16, 1153, 5, 2, 511, 8, 8, 163, 62, 2624, 7315, 13, 586, 22, 2, 2297, 507, 5, 2, 3652, 317, 2, 21730, 1835, 3445, 451, 4030, 3, 1168, 985, 6, 28, 4091, 3608, 545, 16, 21731, 2, 2297, 2430, 16, 2, 299, 1357, 1259, 8, 8, 2297, 803, 29, 2871, 16, 4, 20484, 3028, 564, 5, 746, 13909, 17, 12, 2807, 115, 42, 6, 4518, 131, 424, 9, 6176, 47]\n",
      "\n",
      "[360, 7, 2, 239, 5, 20, 16, 4, 8837, 2705, 2679, 55, 2, 367, 5, 2, 179, 58, 141, 1419, 17, 94, 203, 980, 15, 23, 18417, 86, 4, 193, 3134, 3069, 3, 18418, 16, 4, 383, 5, 640, 395, 361, 38, 5863, 3, 5741, 1859, 15, 208, 8659, 3471, 2, 115, 376, 44, 25, 61, 23184, 6, 1681, 61, 1846, 4127, 43, 4, 2289, 3, 1963, 51045, 145, 159, 784, 113, 32, 94, 120, 4, 215, 20, 9, 175, 282, 3, 30, 13, 1027, 2, 2846, 10, 2020, 47]\n",
      "\n",
      "[3049, 414, 28, 1058, 31, 2, 370, 13, 141, 2541, 9, 12, 20, 25, 677, 439, 1517, 2, 115, 54, 10853, 287, 2, 11111, 5, 2, 674, 14396, 55, 347, 25, 187, 34, 182, 6, 29, 7038, 19, 55, 61, 347, 25, 187, 34, 421, 2, 23185, 5, 4, 2436, 281, 154, 430, 3, 2, 430, 469, 4, 129, 68, 713, 75, 144, 31, 29, 37, 2071, 32, 12, 568, 27, 95, 212, 57, 2, 3184, 6, 6665, 26, 284, 119, 47]\n",
      "\n"
     ]
    }
   ],
   "source": [
    "# Converting the Sentences to Sequences\n",
    "sequences = movie_tokenizer.texts_to_sequences(list_of_reviews)\n",
    "\n",
    "for i in sequences[:5]:\n",
    "    print(i, end=\"\\n\\n\")"
   ]
  },
  {
   "cell_type": "markdown",
   "id": "c0fd7d0b",
   "metadata": {
    "papermill": {
     "duration": 0.022625,
     "end_time": "2024-02-01T17:00:36.418758",
     "exception": false,
     "start_time": "2024-02-01T17:00:36.396133",
     "status": "completed"
    },
    "tags": []
   },
   "source": [
    "**Filtering the Reviews for Stop word and Punctuations**"
   ]
  },
  {
   "cell_type": "code",
   "execution_count": 20,
   "id": "1da9d8d5",
   "metadata": {
    "execution": {
     "iopub.execute_input": "2024-02-01T17:00:36.469357Z",
     "iopub.status.busy": "2024-02-01T17:00:36.468776Z",
     "iopub.status.idle": "2024-02-01T17:01:58.644666Z",
     "shell.execute_reply": "2024-02-01T17:01:58.643255Z"
    },
    "papermill": {
     "duration": 82.206451,
     "end_time": "2024-02-01T17:01:58.648064",
     "exception": false,
     "start_time": "2024-02-01T17:00:36.441613",
     "status": "completed"
    },
    "tags": []
   },
   "outputs": [
    {
     "name": "stderr",
     "output_type": "stream",
     "text": [
      "/tmp/ipykernel_18/3740911349.py:19: MarkupResemblesLocatorWarning: The input looks more like a filename than markup. You may want to open this file and pass the filehandle into Beautiful Soup.\n",
      "  soup = BeautifulSoup(sentence)\n"
     ]
    }
   ],
   "source": [
    "from bs4 import BeautifulSoup\n",
    "\n",
    "# String Translation Table\n",
    "table = str.maketrans(\"\", \"\", string.punctuation)\n",
    "\n",
    "# List of Filtered Reviews\n",
    "filtered_reviews = []\n",
    "\n",
    "for review in imdb:\n",
    "    \n",
    "    # Decoding the Dataset to a String of Lower Cases\n",
    "    sentence = str(review[\"text\"].decode(\"UTF-8\").lower())\n",
    "    sentence = sentence.replace(\",\", \" , \")\n",
    "    sentence = sentence.replace(\".\", \" . \")\n",
    "    sentence = sentence.replace(\"-\", \" - \")\n",
    "    sentence = sentence.replace(\"/\", \" / \")\n",
    "    \n",
    "    # Removing all the HTML Tags\n",
    "    soup = BeautifulSoup(sentence)\n",
    "    sentence = soup.get_text()\n",
    "    \n",
    "    # Splitting the Sentence into words\n",
    "    words = sentence.split()\n",
    "    \n",
    "    # Removing the Stopwords\n",
    "    filtered_review = \"\"\n",
    "    for word in words:\n",
    "        word = word.translate(table)\n",
    "        \n",
    "        if word not in stopwords:\n",
    "            filtered_review = filtered_review + word + \" \"\n",
    "            \n",
    "    filtered_reviews.append(filtered_review)"
   ]
  },
  {
   "cell_type": "code",
   "execution_count": 21,
   "id": "b1c219d1",
   "metadata": {
    "execution": {
     "iopub.execute_input": "2024-02-01T17:01:58.700695Z",
     "iopub.status.busy": "2024-02-01T17:01:58.698514Z",
     "iopub.status.idle": "2024-02-01T17:01:58.708782Z",
     "shell.execute_reply": "2024-02-01T17:01:58.707006Z"
    },
    "papermill": {
     "duration": 0.040875,
     "end_time": "2024-02-01T17:01:58.712130",
     "exception": false,
     "start_time": "2024-02-01T17:01:58.671255",
     "status": "completed"
    },
    "tags": []
   },
   "outputs": [
    {
     "name": "stdout",
     "output_type": "stream",
     "text": [
      "absolutely terrible movie  dont lured christopher walken michael ironside  great actors  must simply worst role history  even great acting not redeem movies ridiculous storyline  movie early nineties us propaganda piece  pathetic scenes columbian rebels making cases revolutions  maria conchita alonso appeared phony  pseudo  love affair walken nothing pathetic emotional plug movie devoid real meaning  disappointed movies like  ruining actors like christopher walkens good name  barely sit  \n",
      "known fall asleep films  usually due combination things including  really tired  warm comfortable sette just eaten lot  however occasion fell asleep film rubbish  plot development constant  constantly slow boring  things seemed happen  no explanation causing  admit  may missed part film  watched majority everything just seemed happen accord without real concern anything else  cant recommend film  \n",
      "mann photographs alberta rocky mountains superb fashion  jimmy stewart walter brennan give enjoyable performances always seem  come hollywood  mountie telling people dawson city  yukon elect marshal yes marshal enforce law  gunfighters battling streets control town nothing even remotely resembling happened canadian side border klondike gold rush  mr  mann company appear mistaken dawson city deadwood  canadian north american wild west  canadian viewers prepared reefer madness type enjoyable howl ludicrous plot   shake head disgust  \n",
      "kind film snowy sunday afternoon rest world can go ahead business descend big arm  chair mellow couple hours  wonderful performances cher nicolas cage always gently row plot along  no rapids cross  no dangerous waters  just warm witty paddle new york life best  family film every sense one deserves praise received  \n",
      "others mentioned  women go nude film mostly absolutely gorgeous  plot ably shows hypocrisy female libido  men around want pursued  no men around  become pursuers 14 year old boy  boy becomes man really fast lucky age  gets courage pursue true love  \n"
     ]
    }
   ],
   "source": [
    "# Viewing the Filtered Sentence\n",
    "for i in filtered_reviews[:5]:\n",
    "    print(i)"
   ]
  },
  {
   "cell_type": "markdown",
   "id": "bb9a961b",
   "metadata": {
    "papermill": {
     "duration": 0.03045,
     "end_time": "2024-02-01T17:01:58.774760",
     "exception": false,
     "start_time": "2024-02-01T17:01:58.744310",
     "status": "completed"
    },
    "tags": []
   },
   "source": [
    "**Tokenizing the Sentences**"
   ]
  },
  {
   "cell_type": "code",
   "execution_count": 22,
   "id": "dd65e107",
   "metadata": {
    "execution": {
     "iopub.execute_input": "2024-02-01T17:01:58.824522Z",
     "iopub.status.busy": "2024-02-01T17:01:58.823404Z",
     "iopub.status.idle": "2024-02-01T17:02:03.590814Z",
     "shell.execute_reply": "2024-02-01T17:02:03.589367Z"
    },
    "papermill": {
     "duration": 4.794868,
     "end_time": "2024-02-01T17:02:03.593637",
     "exception": false,
     "start_time": "2024-02-01T17:01:58.798769",
     "status": "completed"
    },
    "tags": []
   },
   "outputs": [
    {
     "name": "stdout",
     "output_type": "stream",
     "text": [
      "86124\n"
     ]
    }
   ],
   "source": [
    "new_movie_tokenizer = Tokenizer(num_words=100000, oov_token=\"<OOV>\")\n",
    "new_movie_tokenizer.fit_on_texts(filtered_reviews)\n",
    "print(len(new_movie_tokenizer.word_index))"
   ]
  },
  {
   "cell_type": "code",
   "execution_count": 23,
   "id": "22633869",
   "metadata": {
    "execution": {
     "iopub.execute_input": "2024-02-01T17:02:03.644717Z",
     "iopub.status.busy": "2024-02-01T17:02:03.644216Z",
     "iopub.status.idle": "2024-02-01T17:02:06.982540Z",
     "shell.execute_reply": "2024-02-01T17:02:06.981001Z"
    },
    "papermill": {
     "duration": 3.368091,
     "end_time": "2024-02-01T17:02:06.985386",
     "exception": false,
     "start_time": "2024-02-01T17:02:03.617295",
     "status": "completed"
    },
    "tags": []
   },
   "outputs": [
    {
     "name": "stdout",
     "output_type": "stream",
     "text": [
      "[316, 284, 2, 24, 10377, 1248, 3449, 378, 10859, 22, 64, 115, 222, 146, 118, 363, 11, 22, 40, 4, 5525, 26, 525, 643, 2, 293, 7884, 84, 2326, 304, 1091, 54, 29713, 7298, 130, 2756, 17390, 2814, 20243, 18246, 1349, 4746, 3801, 42, 1447, 3449, 71, 1091, 791, 7749, 2, 4036, 58, 1080, 560, 26, 6, 6915, 64, 6, 1248, 13679, 8, 294, 1061, 739]\n",
      "\n",
      "[452, 677, 2238, 29, 510, 564, 2080, 87, 471, 13, 1322, 2113, 3829, 33602, 7, 4496, 82, 96, 3940, 1448, 2238, 3, 1779, 38, 812, 1682, 1215, 429, 250, 87, 351, 472, 9, 1687, 3913, 840, 105, 915, 80, 3, 188, 2021, 180, 7, 351, 472, 29714, 109, 58, 4282, 134, 226, 85, 276, 3]\n",
      "\n",
      "[4247, 5958, 26985, 4664, 3830, 769, 1469, 1873, 1216, 2213, 8607, 104, 614, 247, 110, 198, 117, 252, 24738, 855, 21, 3851, 422, 14181, 26986, 11131, 308, 11131, 24739, 1034, 33603, 7885, 1797, 1007, 394, 71, 11, 2456, 7097, 456, 2131, 383, 3450, 21473, 1677, 3222, 327, 4247, 1032, 846, 3914, 3851, 422, 21474, 2131, 2270, 192, 1184, 1095, 2131, 608, 2691, 17391, 2846, 431, 614, 16573, 2617, 38, 4318, 305, 5959]\n",
      "\n",
      "[141, 3, 8608, 2567, 2516, 253, 89, 15, 55, 1304, 838, 18247, 99, 2995, 2916, 18248, 266, 512, 279, 247, 6367, 5526, 1798, 110, 8423, 3306, 38, 258, 9, 22922, 1520, 9, 1683, 3661, 7, 2113, 1780, 49403, 69, 661, 37, 43, 123, 3, 81, 177, 5, 884, 2692, 1849]\n",
      "\n",
      "[275, 916, 261, 55, 2379, 3, 546, 316, 1361, 38, 10594, 166, 11132, 544, 14182, 237, 93, 88, 6809, 9, 237, 93, 302, 22923, 2327, 182, 65, 314, 314, 343, 51, 13, 582, 1892, 437, 113, 3025, 6451, 176, 42]\n",
      "\n"
     ]
    }
   ],
   "source": [
    "sequences = new_movie_tokenizer.texts_to_sequences(filtered_reviews)\n",
    "\n",
    "for seq in sequences[:5]:\n",
    "    print(seq, end=\"\\n\\n\")"
   ]
  },
  {
   "cell_type": "markdown",
   "id": "c849aebc",
   "metadata": {
    "papermill": {
     "duration": 0.023131,
     "end_time": "2024-02-01T17:02:07.031492",
     "exception": false,
     "start_time": "2024-02-01T17:02:07.008361",
     "status": "completed"
    },
    "tags": []
   },
   "source": [
    "**Using IMDB Subwords**"
   ]
  },
  {
   "cell_type": "code",
   "execution_count": 24,
   "id": "da39524e",
   "metadata": {
    "execution": {
     "iopub.execute_input": "2024-02-01T17:02:07.080922Z",
     "iopub.status.busy": "2024-02-01T17:02:07.080384Z",
     "iopub.status.idle": "2024-02-01T17:05:23.200845Z",
     "shell.execute_reply": "2024-02-01T17:05:23.199199Z"
    },
    "papermill": {
     "duration": 196.148437,
     "end_time": "2024-02-01T17:05:23.203907",
     "exception": false,
     "start_time": "2024-02-01T17:02:07.055470",
     "status": "completed"
    },
    "tags": []
   },
   "outputs": [
    {
     "name": "stdout",
     "output_type": "stream",
     "text": [
      "\u001b[1mDownloading and preparing dataset 80.23 MiB (download: 80.23 MiB, generated: Unknown size, total: 80.23 MiB) to /root/tensorflow_datasets/imdb_reviews/subwords8k/1.0.0...\u001b[0m\n"
     ]
    },
    {
     "data": {
      "application/vnd.jupyter.widget-view+json": {
       "model_id": "cd8a1af17c9d462ea3eae8495ed1c180",
       "version_major": 2,
       "version_minor": 0
      },
      "text/plain": [
       "Dl Completed...: 0 url [00:00, ? url/s]"
      ]
     },
     "metadata": {},
     "output_type": "display_data"
    },
    {
     "data": {
      "application/vnd.jupyter.widget-view+json": {
       "model_id": "834b3571de3b44dcbcee6ce650833735",
       "version_major": 2,
       "version_minor": 0
      },
      "text/plain": [
       "Dl Size...: 0 MiB [00:00, ? MiB/s]"
      ]
     },
     "metadata": {},
     "output_type": "display_data"
    },
    {
     "data": {
      "application/vnd.jupyter.widget-view+json": {
       "model_id": "685252bdb6aa496686dc768e041baa6f",
       "version_major": 2,
       "version_minor": 0
      },
      "text/plain": [
       "Generating splits...:   0%|          | 0/3 [00:00<?, ? splits/s]"
      ]
     },
     "metadata": {},
     "output_type": "display_data"
    },
    {
     "data": {
      "application/vnd.jupyter.widget-view+json": {
       "model_id": "5613eb62b42f45f7b638d42ddf15a6f8",
       "version_major": 2,
       "version_minor": 0
      },
      "text/plain": [
       "Generating train examples...:   0%|          | 0/25000 [00:00<?, ? examples/s]"
      ]
     },
     "metadata": {},
     "output_type": "display_data"
    },
    {
     "data": {
      "application/vnd.jupyter.widget-view+json": {
       "model_id": "323ff81ac9684420b563eb20679c588c",
       "version_major": 2,
       "version_minor": 0
      },
      "text/plain": [
       "Shuffling /root/tensorflow_datasets/imdb_reviews/subwords8k/1.0.0.incompleteTEXVMA/imdb_reviews-train.tfrecord…"
      ]
     },
     "metadata": {},
     "output_type": "display_data"
    },
    {
     "data": {
      "application/vnd.jupyter.widget-view+json": {
       "model_id": "ddf221cd0a4d4cedacbdba1df1924d43",
       "version_major": 2,
       "version_minor": 0
      },
      "text/plain": [
       "Generating test examples...:   0%|          | 0/25000 [00:00<?, ? examples/s]"
      ]
     },
     "metadata": {},
     "output_type": "display_data"
    },
    {
     "data": {
      "application/vnd.jupyter.widget-view+json": {
       "model_id": "0b45c7f083674b3aa528e617782a1e00",
       "version_major": 2,
       "version_minor": 0
      },
      "text/plain": [
       "Shuffling /root/tensorflow_datasets/imdb_reviews/subwords8k/1.0.0.incompleteTEXVMA/imdb_reviews-test.tfrecord*…"
      ]
     },
     "metadata": {},
     "output_type": "display_data"
    },
    {
     "data": {
      "application/vnd.jupyter.widget-view+json": {
       "model_id": "e83f09be64cf4ddeaa027b5920a8dd77",
       "version_major": 2,
       "version_minor": 0
      },
      "text/plain": [
       "Generating unsupervised examples...:   0%|          | 0/50000 [00:00<?, ? examples/s]"
      ]
     },
     "metadata": {},
     "output_type": "display_data"
    },
    {
     "data": {
      "application/vnd.jupyter.widget-view+json": {
       "model_id": "6255b3cce1f14fed87594eb32ea3aa8e",
       "version_major": 2,
       "version_minor": 0
      },
      "text/plain": [
       "Shuffling /root/tensorflow_datasets/imdb_reviews/subwords8k/1.0.0.incompleteTEXVMA/imdb_reviews-unsupervised.t…"
      ]
     },
     "metadata": {},
     "output_type": "display_data"
    },
    {
     "name": "stdout",
     "output_type": "stream",
     "text": [
      "\u001b[1mDataset imdb_reviews downloaded and prepared to /root/tensorflow_datasets/imdb_reviews/subwords8k/1.0.0. Subsequent calls will reuse this data.\u001b[0m\n",
      "tfds.core.DatasetInfo(\n",
      "    name='imdb_reviews',\n",
      "    full_name='imdb_reviews/subwords8k/1.0.0',\n",
      "    description=\"\"\"\n",
      "    Large Movie Review Dataset. This is a dataset for binary sentiment\n",
      "    classification containing substantially more data than previous benchmark\n",
      "    datasets. We provide a set of 25,000 highly polar movie reviews for training,\n",
      "    and 25,000 for testing. There is additional unlabeled data for use as well.\n",
      "    \"\"\",\n",
      "    config_description=\"\"\"\n",
      "    Uses `tfds.deprecated.text.SubwordTextEncoder` with 8k vocab size\n",
      "    \"\"\",\n",
      "    homepage='http://ai.stanford.edu/~amaas/data/sentiment/',\n",
      "    data_path=PosixGPath('/tmp/tmpvzyx_n11tfds'),\n",
      "    file_format=tfrecord,\n",
      "    download_size=80.23 MiB,\n",
      "    dataset_size=54.72 MiB,\n",
      "    features=FeaturesDict({\n",
      "        'label': ClassLabel(shape=(), dtype=int64, num_classes=2),\n",
      "        'text': Text(shape=(None,), dtype=int64, encoder=<SubwordTextEncoder vocab_size=8185>),\n",
      "    }),\n",
      "    supervised_keys=('text', 'label'),\n",
      "    disable_shuffling=False,\n",
      "    splits={\n",
      "        'test': <SplitInfo num_examples=25000, num_shards=1>,\n",
      "        'train': <SplitInfo num_examples=25000, num_shards=1>,\n",
      "        'unsupervised': <SplitInfo num_examples=50000, num_shards=1>,\n",
      "    },\n",
      "    citation=\"\"\"@InProceedings{maas-EtAl:2011:ACL-HLT2011,\n",
      "      author    = {Maas, Andrew L.  and  Daly, Raymond E.  and  Pham, Peter T.  and  Huang, Dan  and  Ng, Andrew Y.  and  Potts, Christopher},\n",
      "      title     = {Learning Word Vectors for Sentiment Analysis},\n",
      "      booktitle = {Proceedings of the 49th Annual Meeting of the Association for Computational Linguistics: Human Language Technologies},\n",
      "      month     = {June},\n",
      "      year      = {2011},\n",
      "      address   = {Portland, Oregon, USA},\n",
      "      publisher = {Association for Computational Linguistics},\n",
      "      pages     = {142--150},\n",
      "      url       = {http://www.aclweb.org/anthology/P11-1015}\n",
      "    }\"\"\",\n",
      ")\n"
     ]
    }
   ],
   "source": [
    "(train_data, test_data), info = tfds.load(\n",
    "    name=\"imdb_reviews/subwords8k\",\n",
    "    split=(tfds.Split.TRAIN, tfds.Split.TEST),\n",
    "    as_supervised=True,\n",
    "    with_info=True\n",
    ")\n",
    "\n",
    "print(info)"
   ]
  },
  {
   "cell_type": "markdown",
   "id": "88edcf68",
   "metadata": {
    "papermill": {
     "duration": 0.025023,
     "end_time": "2024-02-01T17:05:23.254155",
     "exception": false,
     "start_time": "2024-02-01T17:05:23.229132",
     "status": "completed"
    },
    "tags": []
   },
   "source": [
    "**Accessing the Encoder used to Encode the Corpus**"
   ]
  },
  {
   "cell_type": "code",
   "execution_count": 25,
   "id": "e069fdcf",
   "metadata": {
    "execution": {
     "iopub.execute_input": "2024-02-01T17:05:23.307084Z",
     "iopub.status.busy": "2024-02-01T17:05:23.306569Z",
     "iopub.status.idle": "2024-02-01T17:05:23.313099Z",
     "shell.execute_reply": "2024-02-01T17:05:23.311923Z"
    },
    "papermill": {
     "duration": 0.03616,
     "end_time": "2024-02-01T17:05:23.315749",
     "exception": false,
     "start_time": "2024-02-01T17:05:23.279589",
     "status": "completed"
    },
    "tags": []
   },
   "outputs": [
    {
     "name": "stdout",
     "output_type": "stream",
     "text": [
      "The vocab size of the Encoder is: 8185\n"
     ]
    }
   ],
   "source": [
    "encoder = info.features[\"text\"].encoder\n",
    "print(f\"The vocab size of the Encoder is: {encoder.vocab_size}\")"
   ]
  },
  {
   "cell_type": "markdown",
   "id": "3a0ac244",
   "metadata": {
    "papermill": {
     "duration": 0.024979,
     "end_time": "2024-02-01T17:05:23.366134",
     "exception": false,
     "start_time": "2024-02-01T17:05:23.341155",
     "status": "completed"
    },
    "tags": []
   },
   "source": [
    "**Encoding a string**"
   ]
  },
  {
   "cell_type": "code",
   "execution_count": 26,
   "id": "aa488198",
   "metadata": {
    "execution": {
     "iopub.execute_input": "2024-02-01T17:05:23.420887Z",
     "iopub.status.busy": "2024-02-01T17:05:23.420087Z",
     "iopub.status.idle": "2024-02-01T17:05:23.426510Z",
     "shell.execute_reply": "2024-02-01T17:05:23.425088Z"
    },
    "papermill": {
     "duration": 0.03587,
     "end_time": "2024-02-01T17:05:23.428955",
     "exception": false,
     "start_time": "2024-02-01T17:05:23.393085",
     "status": "completed"
    },
    "tags": []
   },
   "outputs": [
    {
     "name": "stdout",
     "output_type": "stream",
     "text": [
      "Encoded String is: [1625, 1160, 7, 4, 650, 606]\n"
     ]
    }
   ],
   "source": [
    "encoded_string = encoder.encode(\"Rising to a wonderful day\")\n",
    "print(\"Encoded String is: {}\".format(encoded_string))"
   ]
  },
  {
   "cell_type": "code",
   "execution_count": 27,
   "id": "9dbeb8c7",
   "metadata": {
    "execution": {
     "iopub.execute_input": "2024-02-01T17:05:23.481998Z",
     "iopub.status.busy": "2024-02-01T17:05:23.481500Z",
     "iopub.status.idle": "2024-02-01T17:05:23.489016Z",
     "shell.execute_reply": "2024-02-01T17:05:23.487943Z"
    },
    "papermill": {
     "duration": 0.037571,
     "end_time": "2024-02-01T17:05:23.492039",
     "exception": false,
     "start_time": "2024-02-01T17:05:23.454468",
     "status": "completed"
    },
    "tags": []
   },
   "outputs": [
    {
     "name": "stdout",
     "output_type": "stream",
     "text": [
      "writer\n",
      "lle\n",
      "s_\n",
      "and_\n",
      "production_\n",
      "human_\n",
      "The string as encoded using all the subwords: \n",
      "writer lle s_ and_ production_ human_ \n"
     ]
    }
   ],
   "source": [
    "decoded_string = \"\"\n",
    "for token in encoded_string:\n",
    "    word = encoder.subwords[token]\n",
    "    decoded_string = decoded_string + word + \" \"\n",
    "    print(word)\n",
    "    \n",
    "print(\"The string as encoded using all the subwords: \")\n",
    "print(decoded_string)"
   ]
  },
  {
   "cell_type": "code",
   "execution_count": 28,
   "id": "34ab4047",
   "metadata": {
    "execution": {
     "iopub.execute_input": "2024-02-01T17:05:23.545561Z",
     "iopub.status.busy": "2024-02-01T17:05:23.545057Z",
     "iopub.status.idle": "2024-02-01T17:05:23.552493Z",
     "shell.execute_reply": "2024-02-01T17:05:23.551041Z"
    },
    "papermill": {
     "duration": 0.037616,
     "end_time": "2024-02-01T17:05:23.555422",
     "exception": false,
     "start_time": "2024-02-01T17:05:23.517806",
     "status": "completed"
    },
    "tags": []
   },
   "outputs": [
    {
     "name": "stdout",
     "output_type": "stream",
     "text": [
      "Rising to a wonderful day\n"
     ]
    }
   ],
   "source": [
    "decoded_string = encoder.decode(encoded_string)\n",
    "print(decoded_string)"
   ]
  },
  {
   "cell_type": "markdown",
   "id": "4d173b9a",
   "metadata": {
    "papermill": {
     "duration": 0.027708,
     "end_time": "2024-02-01T17:05:23.611823",
     "exception": false,
     "start_time": "2024-02-01T17:05:23.584115",
     "status": "completed"
    },
    "tags": []
   },
   "source": [
    "## Handling CSV Files"
   ]
  },
  {
   "cell_type": "code",
   "execution_count": 29,
   "id": "341e8409",
   "metadata": {
    "execution": {
     "iopub.execute_input": "2024-02-01T17:05:23.670044Z",
     "iopub.status.busy": "2024-02-01T17:05:23.669532Z",
     "iopub.status.idle": "2024-02-01T17:05:25.579425Z",
     "shell.execute_reply": "2024-02-01T17:05:25.577633Z"
    },
    "papermill": {
     "duration": 1.941968,
     "end_time": "2024-02-01T17:05:25.582816",
     "exception": false,
     "start_time": "2024-02-01T17:05:23.640848",
     "status": "completed"
    },
    "tags": []
   },
   "outputs": [
    {
     "name": "stdout",
     "output_type": "stream",
     "text": [
      "--2024-02-01 17:05:24--  https://storage.googleapis.com/learning-datasets/binary-emotion.csv\r\n",
      "Resolving storage.googleapis.com (storage.googleapis.com)... 64.233.184.207, 74.125.206.207, 64.233.167.207, ...\r\n",
      "Connecting to storage.googleapis.com (storage.googleapis.com)|64.233.184.207|:443... connected.\r\n",
      "HTTP request sent, awaiting response... 200 OK\r\n",
      "Length: 2690504 (2.6M) [text/csv]\r\n",
      "Saving to: '/tmp/binary-emotion.csv'\r\n",
      "\r\n",
      "/tmp/binary-emotion 100%[===================>]   2.57M  5.12MB/s    in 0.5s    \r\n",
      "\r\n",
      "2024-02-01 17:05:25 (5.12 MB/s) - '/tmp/binary-emotion.csv' saved [2690504/2690504]\r\n",
      "\r\n"
     ]
    }
   ],
   "source": [
    "!wget --no-check-certificate --no-cache \\\n",
    "    https://storage.googleapis.com/learning-datasets/binary-emotion.csv \\\n",
    "    -O /tmp/binary-emotion.csv"
   ]
  },
  {
   "cell_type": "code",
   "execution_count": 30,
   "id": "21eecf98",
   "metadata": {
    "execution": {
     "iopub.execute_input": "2024-02-01T17:05:25.641949Z",
     "iopub.status.busy": "2024-02-01T17:05:25.640223Z",
     "iopub.status.idle": "2024-02-01T17:05:35.641632Z",
     "shell.execute_reply": "2024-02-01T17:05:35.640380Z"
    },
    "papermill": {
     "duration": 10.034265,
     "end_time": "2024-02-01T17:05:35.644624",
     "exception": false,
     "start_time": "2024-02-01T17:05:25.610359",
     "status": "completed"
    },
    "tags": []
   },
   "outputs": [
    {
     "name": "stderr",
     "output_type": "stream",
     "text": [
      "/tmp/ipykernel_18/2231834669.py:21: MarkupResemblesLocatorWarning: The input looks more like a filename than markup. You may want to open this file and pass the filehandle into Beautiful Soup.\n",
      "  soup = BeautifulSoup(sentence)\n"
     ]
    },
    {
     "name": "stdout",
     "output_type": "stream",
     "text": [
      "No of Sentences Read: 35327\n"
     ]
    }
   ],
   "source": [
    "import csv\n",
    "\n",
    "sentences = []\n",
    "labels = []\n",
    "\n",
    "with open(\"/tmp/binary-emotion.csv\", encoding=\"UTF-8\") as csvfile:\n",
    "    reader = csv.reader(csvfile, delimiter=\",\")\n",
    "    \n",
    "    # The reading the CSV - 1 row at a time\n",
    "    for row in reader:\n",
    "        labels.append(row[0])\n",
    "        sentence = row[1].lower()\n",
    "        \n",
    "        # Replacing punctuation to add spaces\n",
    "        sentence = sentence.replace(\",\", \" , \")\n",
    "        sentence = sentence.replace(\".\", \" . \")\n",
    "        sentence = sentence.replace(\"-\", \" - \")\n",
    "        sentence = sentence.replace(\"/\", \" / \")\n",
    "        \n",
    "        # Removing HTML Tags\n",
    "        soup = BeautifulSoup(sentence)\n",
    "        sentence = soup.get_text()\n",
    "        \n",
    "        # Splitting into Words and filtering the words\n",
    "        words = sentence.split()\n",
    "        filtered_sentence = \"\"\n",
    "        \n",
    "        for word in words:\n",
    "            word = word.translate(table)    \n",
    "            if word not in stopwords:\n",
    "                filtered_sentence = filtered_sentence + word + \" \"\n",
    "                \n",
    "        sentences.append(filtered_sentence)\n",
    "\n",
    "print(f\"No of Sentences Read: {len(sentences)}\")"
   ]
  },
  {
   "cell_type": "markdown",
   "id": "042c9081",
   "metadata": {
    "papermill": {
     "duration": 0.026606,
     "end_time": "2024-02-01T17:05:35.699319",
     "exception": false,
     "start_time": "2024-02-01T17:05:35.672713",
     "status": "completed"
    },
    "tags": []
   },
   "source": [
    "## Creating a Training and Test Set"
   ]
  },
  {
   "cell_type": "code",
   "execution_count": 31,
   "id": "254b3cc5",
   "metadata": {
    "execution": {
     "iopub.execute_input": "2024-02-01T17:05:35.759146Z",
     "iopub.status.busy": "2024-02-01T17:05:35.757716Z",
     "iopub.status.idle": "2024-02-01T17:05:35.765342Z",
     "shell.execute_reply": "2024-02-01T17:05:35.764092Z"
    },
    "papermill": {
     "duration": 0.039111,
     "end_time": "2024-02-01T17:05:35.768328",
     "exception": false,
     "start_time": "2024-02-01T17:05:35.729217",
     "status": "completed"
    },
    "tags": []
   },
   "outputs": [],
   "source": [
    "train_size = 27000\n",
    "\n",
    "train_sentences = sentences[:train_size]\n",
    "train_labels = labels[:train_size]\n",
    "test_sentences = sentences[train_size:]\n",
    "test_label = labels[train_size:]"
   ]
  },
  {
   "cell_type": "code",
   "execution_count": 32,
   "id": "89ee8500",
   "metadata": {
    "execution": {
     "iopub.execute_input": "2024-02-01T17:05:35.826108Z",
     "iopub.status.busy": "2024-02-01T17:05:35.825587Z",
     "iopub.status.idle": "2024-02-01T17:05:37.123704Z",
     "shell.execute_reply": "2024-02-01T17:05:37.122423Z"
    },
    "papermill": {
     "duration": 1.329906,
     "end_time": "2024-02-01T17:05:37.126682",
     "exception": false,
     "start_time": "2024-02-01T17:05:35.796776",
     "status": "completed"
    },
    "tags": []
   },
   "outputs": [],
   "source": [
    "csv_tokenizer = Tokenizer(num_words=25000, oov_token=\"<OOV>\")\n",
    "\n",
    "# Fitting the Tokenizer to the Training Sentences\n",
    "csv_tokenizer.fit_on_texts(train_sentences)\n",
    "\n",
    "# Converting Sentences to Sequences\n",
    "sequences = csv_tokenizer.texts_to_sequences(train_sentences)\n",
    "\n",
    "# Modifying the Examples\n",
    "pad_sequences = pad_sequences(\n",
    "    sequences, maxlen=10, truncating=\"post\", padding=\"post\"\n",
    ")"
   ]
  },
  {
   "cell_type": "code",
   "execution_count": 33,
   "id": "0ea081e4",
   "metadata": {
    "execution": {
     "iopub.execute_input": "2024-02-01T17:05:37.182141Z",
     "iopub.status.busy": "2024-02-01T17:05:37.181195Z",
     "iopub.status.idle": "2024-02-01T17:05:37.188967Z",
     "shell.execute_reply": "2024-02-01T17:05:37.187660Z"
    },
    "papermill": {
     "duration": 0.038488,
     "end_time": "2024-02-01T17:05:37.191645",
     "exception": false,
     "start_time": "2024-02-01T17:05:37.153157",
     "status": "completed"
    },
    "tags": []
   },
   "outputs": [
    {
     "name": "stdout",
     "output_type": "stream",
     "text": [
      "Original Training Sequence:\n",
      " [19, 3521, 47, 4641, 621, 504, 921, 419]\n",
      "Padded Training Sequence:\n",
      " [  19 3521   47 4641  621  504  921  419    0    0]\n"
     ]
    }
   ],
   "source": [
    "print(\"Original Training Sequence:\\n\", sequences[0])\n",
    "print(\"Padded Training Sequence:\\n\", pad_sequences[0])"
   ]
  },
  {
   "cell_type": "markdown",
   "id": "12ff6476",
   "metadata": {
    "papermill": {
     "duration": 0.026085,
     "end_time": "2024-02-01T17:05:37.244088",
     "exception": false,
     "start_time": "2024-02-01T17:05:37.218003",
     "status": "completed"
    },
    "tags": []
   },
   "source": [
    "## Working with JSON Files"
   ]
  },
  {
   "cell_type": "markdown",
   "id": "66423e61",
   "metadata": {
    "papermill": {
     "duration": 0.026756,
     "end_time": "2024-02-01T17:05:37.299014",
     "exception": false,
     "start_time": "2024-02-01T17:05:37.272258",
     "status": "completed"
    },
    "tags": []
   },
   "source": [
    "**Loading the Dataset**"
   ]
  },
  {
   "cell_type": "code",
   "execution_count": 34,
   "id": "ea19f7f3",
   "metadata": {
    "execution": {
     "iopub.execute_input": "2024-02-01T17:05:37.354505Z",
     "iopub.status.busy": "2024-02-01T17:05:37.354009Z",
     "iopub.status.idle": "2024-02-01T17:05:39.136602Z",
     "shell.execute_reply": "2024-02-01T17:05:39.135166Z"
    },
    "papermill": {
     "duration": 1.814212,
     "end_time": "2024-02-01T17:05:39.139979",
     "exception": false,
     "start_time": "2024-02-01T17:05:37.325767",
     "status": "completed"
    },
    "tags": []
   },
   "outputs": [
    {
     "name": "stdout",
     "output_type": "stream",
     "text": [
      "--2024-02-01 17:05:38--  https://storage.googleapis.com/learning-datasets/sarcasm.json\r\n",
      "Resolving storage.googleapis.com (storage.googleapis.com)... 64.233.184.207, 74.125.206.207, 64.233.167.207, ...\r\n",
      "Connecting to storage.googleapis.com (storage.googleapis.com)|64.233.184.207|:443... connected.\r\n",
      "HTTP request sent, awaiting response... 200 OK\r\n",
      "Length: 5643545 (5.4M) [application/json]\r\n",
      "Saving to: '/tmp/sarcasm.json'\r\n",
      "\r\n",
      "/tmp/sarcasm.json   100%[===================>]   5.38M  12.0MB/s    in 0.4s    \r\n",
      "\r\n",
      "2024-02-01 17:05:39 (12.0 MB/s) - '/tmp/sarcasm.json' saved [5643545/5643545]\r\n",
      "\r\n"
     ]
    }
   ],
   "source": [
    "!wget --no-check-certificate \\\n",
    "    https://storage.googleapis.com/learning-datasets/sarcasm.json \\\n",
    "    -O /tmp/sarcasm.json"
   ]
  },
  {
   "cell_type": "code",
   "execution_count": 35,
   "id": "b20b5ce3",
   "metadata": {
    "execution": {
     "iopub.execute_input": "2024-02-01T17:05:39.196469Z",
     "iopub.status.busy": "2024-02-01T17:05:39.195878Z",
     "iopub.status.idle": "2024-02-01T17:05:39.321710Z",
     "shell.execute_reply": "2024-02-01T17:05:39.320375Z"
    },
    "papermill": {
     "duration": 0.157499,
     "end_time": "2024-02-01T17:05:39.324727",
     "exception": false,
     "start_time": "2024-02-01T17:05:39.167228",
     "status": "completed"
    },
    "tags": []
   },
   "outputs": [
    {
     "name": "stdout",
     "output_type": "stream",
     "text": [
      "Labels:\n",
      " [0, 0, 1, 1, 0]\n",
      "\n",
      "\n",
      "Headlines:\n",
      " [\"former versace store clerk sues over secret 'black code' for minority shoppers\", \"the 'roseanne' revival catches up to our thorny political mood, for better and worse\", \"mom starting to fear son's web series closest thing she will have to grandchild\", 'boehner just wants wife to listen, not come up with alternative debt-reduction ideas', 'j.k. rowling wishes snape happy birthday in the most magical way']\n",
      "\n",
      "\n",
      "Links:\n",
      " ['https://www.huffingtonpost.com/entry/versace-black-code_us_5861fbefe4b0de3a08f600d5', 'https://www.huffingtonpost.com/entry/roseanne-revival-review_us_5ab3a497e4b054d118e04365', 'https://local.theonion.com/mom-starting-to-fear-son-s-web-series-closest-thing-she-1819576697', 'https://politics.theonion.com/boehner-just-wants-wife-to-listen-not-come-up-with-alt-1819574302', 'https://www.huffingtonpost.com/entry/jk-rowling-wishes-snape-happy-birthday_us_569117c4e4b0cad15e64fdcb']\n"
     ]
    }
   ],
   "source": [
    "import json\n",
    "\n",
    "with open(\"/tmp/sarcasm.json\", \"r\") as jsonfile:\n",
    "    loaded_file = json.load(jsonfile)\n",
    "    \n",
    "labels = []\n",
    "sentences = []\n",
    "links = []\n",
    "for item in loaded_file:\n",
    "    labels.append(item[\"is_sarcastic\"])\n",
    "    sentences.append(item[\"headline\"])\n",
    "    links.append(item[\"article_link\"])\n",
    "    \n",
    "print(\"Labels:\\n\", labels[:5])\n",
    "print(\"\\n\\nHeadlines:\\n\", sentences[:5])\n",
    "print(\"\\n\\nLinks:\\n\", links[:5])"
   ]
  },
  {
   "cell_type": "code",
   "execution_count": 36,
   "id": "02daa525",
   "metadata": {
    "execution": {
     "iopub.execute_input": "2024-02-01T17:05:39.383076Z",
     "iopub.status.busy": "2024-02-01T17:05:39.382487Z",
     "iopub.status.idle": "2024-02-01T17:05:47.442663Z",
     "shell.execute_reply": "2024-02-01T17:05:47.441206Z"
    },
    "papermill": {
     "duration": 8.093126,
     "end_time": "2024-02-01T17:05:47.445748",
     "exception": false,
     "start_time": "2024-02-01T17:05:39.352622",
     "status": "completed"
    },
    "tags": []
   },
   "outputs": [
    {
     "name": "stderr",
     "output_type": "stream",
     "text": [
      "/tmp/ipykernel_18/281107653.py:15: MarkupResemblesLocatorWarning: The input looks more like a filename than markup. You may want to open this file and pass the filehandle into Beautiful Soup.\n",
      "  soup = BeautifulSoup(sentence)\n"
     ]
    }
   ],
   "source": [
    "# Filtering the Data\n",
    "with open(\"/tmp/sarcasm.json\", \"r\") as jsonfile:\n",
    "    loaded_file = json.load(jsonfile)\n",
    "    \n",
    "labels = []\n",
    "sentences = []\n",
    "links = []\n",
    "for item in loaded_file:\n",
    "    sentence = item[\"headline\"].lower()\n",
    "    sentence = sentence.replace(\".\", \" . \")\n",
    "    sentence = sentence.replace(\"-\", \" - \")\n",
    "    sentence = sentence.replace(\"/\", \" / \")\n",
    "    sentence = sentence.replace(\",\", \" , \")\n",
    "    \n",
    "    soup = BeautifulSoup(sentence)\n",
    "    sentence = soup.get_text()\n",
    "    \n",
    "    words = sentence.split()\n",
    "    filtered_sentence = \"\"\n",
    "    for word in words:\n",
    "        word = word.translate(table)\n",
    "        if word not in stopwords:\n",
    "            filtered_sentence = filtered_sentence + word + \" \"\n",
    "            \n",
    "    labels.append(item[\"is_sarcastic\"])\n",
    "    sentences.append(filtered_sentence)\n",
    "    links.append(item[\"article_link\"])\n",
    "    "
   ]
  },
  {
   "cell_type": "code",
   "execution_count": 37,
   "id": "5ffd900d",
   "metadata": {
    "execution": {
     "iopub.execute_input": "2024-02-01T17:05:47.506588Z",
     "iopub.status.busy": "2024-02-01T17:05:47.506047Z",
     "iopub.status.idle": "2024-02-01T17:05:47.512413Z",
     "shell.execute_reply": "2024-02-01T17:05:47.511241Z"
    },
    "papermill": {
     "duration": 0.039428,
     "end_time": "2024-02-01T17:05:47.515875",
     "exception": false,
     "start_time": "2024-02-01T17:05:47.476447",
     "status": "completed"
    },
    "tags": []
   },
   "outputs": [
    {
     "name": "stdout",
     "output_type": "stream",
     "text": [
      "former versace store clerk sues secret black code minority shoppers \n",
      "roseanne revival catches thorny political mood  better worse \n",
      "mom starting fear sons web series closest thing will grandchild \n",
      "boehner just wants wife listen  not come alternative debt  reduction ideas \n",
      "j  k  rowling wishes snape happy birthday magical way \n"
     ]
    }
   ],
   "source": [
    "for sentence in sentences[:5]:\n",
    "    print(sentence)"
   ]
  },
  {
   "cell_type": "code",
   "execution_count": 38,
   "id": "8cff7d6a",
   "metadata": {
    "execution": {
     "iopub.execute_input": "2024-02-01T17:05:47.574923Z",
     "iopub.status.busy": "2024-02-01T17:05:47.574406Z",
     "iopub.status.idle": "2024-02-01T17:05:48.209086Z",
     "shell.execute_reply": "2024-02-01T17:05:48.207795Z"
    },
    "papermill": {
     "duration": 0.667777,
     "end_time": "2024-02-01T17:05:48.211778",
     "exception": false,
     "start_time": "2024-02-01T17:05:47.544001",
     "status": "completed"
    },
    "tags": []
   },
   "outputs": [
    {
     "name": "stdout",
     "output_type": "stream",
     "text": [
      "The Top 10 Words are:\n",
      "new \t 1\n",
      "trump \t 2\n",
      "man \t 3\n",
      "not \t 4\n",
      "just \t 5\n",
      "will \t 6\n",
      "one \t 7\n",
      "report \t 8\n",
      "year \t 9\n",
      "area \t 10\n"
     ]
    }
   ],
   "source": [
    "# Tokenizing the Cleaned Sentences\n",
    "sarcasm_tokenizer = Tokenizer(num_words=1e5)\n",
    "\n",
    "# Fitting to the Text\n",
    "sarcasm_tokenizer.fit_on_texts(sentences)\n",
    "word_index = sarcasm_tokenizer.word_index\n",
    "\n",
    "print(\"The Top 10 Words are:\")\n",
    "for word in list(word_index.keys())[:10]:\n",
    "    print(word, \"\\t\", word_index[word])"
   ]
  },
  {
   "cell_type": "code",
   "execution_count": 39,
   "id": "d68f3a9e",
   "metadata": {
    "execution": {
     "iopub.execute_input": "2024-02-01T17:05:48.269013Z",
     "iopub.status.busy": "2024-02-01T17:05:48.268505Z",
     "iopub.status.idle": "2024-02-01T17:05:48.775454Z",
     "shell.execute_reply": "2024-02-01T17:05:48.773872Z"
    },
    "papermill": {
     "duration": 0.538982,
     "end_time": "2024-02-01T17:05:48.778431",
     "exception": false,
     "start_time": "2024-02-01T17:05:48.239449",
     "status": "completed"
    },
    "tags": []
   },
   "outputs": [
    {
     "name": "stdout",
     "output_type": "stream",
     "text": [
      "[227, 14300, 587, 3275, 2208, 286, 42, 2010, 2497, 8209]\n",
      "[8210, 3276, 2670, 8211, 316, 2849, 172, 897]\n",
      "[77, 754, 732, 1025, 2011, 496, 4625, 137, 6, 10376]\n",
      "[1412, 5, 147, 310, 1603, 4, 234, 2850, 1305, 6810, 800]\n",
      "[696, 707, 4626, 830, 10377, 475, 476, 1184, 43]\n",
      "[10378, 276, 33]\n",
      "[6811, 269, 372, 4187, 2102, 1360]\n",
      "[388, 6, 1060, 79, 47, 86, 270]\n",
      "[166, 3547, 6812, 464, 5149, 1923, 81]\n",
      "[2012, 241, 263, 317, 23, 14301, 3809]\n"
     ]
    }
   ],
   "source": [
    "# Coverting to Sequences\n",
    "sarcasm_sequences = sarcasm_tokenizer.texts_to_sequences(sentences)\n",
    "for seq in sarcasm_sequences[:10]:\n",
    "    print(seq)"
   ]
  }
 ],
 "metadata": {
  "kaggle": {
   "accelerator": "none",
   "dataSources": [],
   "dockerImageVersionId": 30635,
   "isGpuEnabled": false,
   "isInternetEnabled": true,
   "language": "python",
   "sourceType": "notebook"
  },
  "kernelspec": {
   "display_name": "Python 3",
   "language": "python",
   "name": "python3"
  },
  "language_info": {
   "codemirror_mode": {
    "name": "ipython",
    "version": 3
   },
   "file_extension": ".py",
   "mimetype": "text/x-python",
   "name": "python",
   "nbconvert_exporter": "python",
   "pygments_lexer": "ipython3",
   "version": "3.10.12"
  },
  "papermill": {
   "default_parameters": {},
   "duration": 438.579884,
   "end_time": "2024-02-01T17:05:51.437866",
   "environment_variables": {},
   "exception": null,
   "input_path": "__notebook__.ipynb",
   "output_path": "__notebook__.ipynb",
   "parameters": {},
   "start_time": "2024-02-01T16:58:32.857982",
   "version": "2.4.0"
  },
  "widgets": {
   "application/vnd.jupyter.widget-state+json": {
    "state": {
     "029eddc9a81f48c29f133566bc0324ac": {
      "model_module": "@jupyter-widgets/controls",
      "model_module_version": "1.5.0",
      "model_name": "DescriptionStyleModel",
      "state": {
       "_model_module": "@jupyter-widgets/controls",
       "_model_module_version": "1.5.0",
       "_model_name": "DescriptionStyleModel",
       "_view_count": null,
       "_view_module": "@jupyter-widgets/base",
       "_view_module_version": "1.2.0",
       "_view_name": "StyleView",
       "description_width": ""
      }
     },
     "04710787edc844efa72dd7c82dcdbc6f": {
      "model_module": "@jupyter-widgets/controls",
      "model_module_version": "1.5.0",
      "model_name": "ProgressStyleModel",
      "state": {
       "_model_module": "@jupyter-widgets/controls",
       "_model_module_version": "1.5.0",
       "_model_name": "ProgressStyleModel",
       "_view_count": null,
       "_view_module": "@jupyter-widgets/base",
       "_view_module_version": "1.2.0",
       "_view_name": "StyleView",
       "bar_color": null,
       "description_width": ""
      }
     },
     "0663c91ad4e842bf998fee4e82b2d1e7": {
      "model_module": "@jupyter-widgets/base",
      "model_module_version": "1.2.0",
      "model_name": "LayoutModel",
      "state": {
       "_model_module": "@jupyter-widgets/base",
       "_model_module_version": "1.2.0",
       "_model_name": "LayoutModel",
       "_view_count": null,
       "_view_module": "@jupyter-widgets/base",
       "_view_module_version": "1.2.0",
       "_view_name": "LayoutView",
       "align_content": null,
       "align_items": null,
       "align_self": null,
       "border": null,
       "bottom": null,
       "display": null,
       "flex": null,
       "flex_flow": null,
       "grid_area": null,
       "grid_auto_columns": null,
       "grid_auto_flow": null,
       "grid_auto_rows": null,
       "grid_column": null,
       "grid_gap": null,
       "grid_row": null,
       "grid_template_areas": null,
       "grid_template_columns": null,
       "grid_template_rows": null,
       "height": null,
       "justify_content": null,
       "justify_items": null,
       "left": null,
       "margin": null,
       "max_height": null,
       "max_width": null,
       "min_height": null,
       "min_width": null,
       "object_fit": null,
       "object_position": null,
       "order": null,
       "overflow": null,
       "overflow_x": null,
       "overflow_y": null,
       "padding": null,
       "right": null,
       "top": null,
       "visibility": null,
       "width": "20px"
      }
     },
     "066d721cd5964ef685c50ef484e9e935": {
      "model_module": "@jupyter-widgets/controls",
      "model_module_version": "1.5.0",
      "model_name": "ProgressStyleModel",
      "state": {
       "_model_module": "@jupyter-widgets/controls",
       "_model_module_version": "1.5.0",
       "_model_name": "ProgressStyleModel",
       "_view_count": null,
       "_view_module": "@jupyter-widgets/base",
       "_view_module_version": "1.2.0",
       "_view_name": "StyleView",
       "bar_color": null,
       "description_width": ""
      }
     },
     "071a7db01b22471ea18b1b6e0bc49682": {
      "model_module": "@jupyter-widgets/base",
      "model_module_version": "1.2.0",
      "model_name": "LayoutModel",
      "state": {
       "_model_module": "@jupyter-widgets/base",
       "_model_module_version": "1.2.0",
       "_model_name": "LayoutModel",
       "_view_count": null,
       "_view_module": "@jupyter-widgets/base",
       "_view_module_version": "1.2.0",
       "_view_name": "LayoutView",
       "align_content": null,
       "align_items": null,
       "align_self": null,
       "border": null,
       "bottom": null,
       "display": null,
       "flex": null,
       "flex_flow": null,
       "grid_area": null,
       "grid_auto_columns": null,
       "grid_auto_flow": null,
       "grid_auto_rows": null,
       "grid_column": null,
       "grid_gap": null,
       "grid_row": null,
       "grid_template_areas": null,
       "grid_template_columns": null,
       "grid_template_rows": null,
       "height": null,
       "justify_content": null,
       "justify_items": null,
       "left": null,
       "margin": null,
       "max_height": null,
       "max_width": null,
       "min_height": null,
       "min_width": null,
       "object_fit": null,
       "object_position": null,
       "order": null,
       "overflow": null,
       "overflow_x": null,
       "overflow_y": null,
       "padding": null,
       "right": null,
       "top": null,
       "visibility": "hidden",
       "width": null
      }
     },
     "0a1122991e3b4f6b81ae8d69f18d21ec": {
      "model_module": "@jupyter-widgets/base",
      "model_module_version": "1.2.0",
      "model_name": "LayoutModel",
      "state": {
       "_model_module": "@jupyter-widgets/base",
       "_model_module_version": "1.2.0",
       "_model_name": "LayoutModel",
       "_view_count": null,
       "_view_module": "@jupyter-widgets/base",
       "_view_module_version": "1.2.0",
       "_view_name": "LayoutView",
       "align_content": null,
       "align_items": null,
       "align_self": null,
       "border": null,
       "bottom": null,
       "display": null,
       "flex": null,
       "flex_flow": null,
       "grid_area": null,
       "grid_auto_columns": null,
       "grid_auto_flow": null,
       "grid_auto_rows": null,
       "grid_column": null,
       "grid_gap": null,
       "grid_row": null,
       "grid_template_areas": null,
       "grid_template_columns": null,
       "grid_template_rows": null,
       "height": null,
       "justify_content": null,
       "justify_items": null,
       "left": null,
       "margin": null,
       "max_height": null,
       "max_width": null,
       "min_height": null,
       "min_width": null,
       "object_fit": null,
       "object_position": null,
       "order": null,
       "overflow": null,
       "overflow_x": null,
       "overflow_y": null,
       "padding": null,
       "right": null,
       "top": null,
       "visibility": "hidden",
       "width": null
      }
     },
     "0b45c7f083674b3aa528e617782a1e00": {
      "model_module": "@jupyter-widgets/controls",
      "model_module_version": "1.5.0",
      "model_name": "HBoxModel",
      "state": {
       "_dom_classes": [],
       "_model_module": "@jupyter-widgets/controls",
       "_model_module_version": "1.5.0",
       "_model_name": "HBoxModel",
       "_view_count": null,
       "_view_module": "@jupyter-widgets/controls",
       "_view_module_version": "1.5.0",
       "_view_name": "HBoxView",
       "box_style": "",
       "children": [
        "IPY_MODEL_84c3b706014446cba6d3214051c27a41",
        "IPY_MODEL_4658d6e85713407996fb6793adc22f52",
        "IPY_MODEL_9f81c21b913f4fe78fc488d552cb58cf"
       ],
       "layout": "IPY_MODEL_b93c34e86dc94438b6d519af5a56f80e"
      }
     },
     "0b57c6f0e91449299e72483681d3561c": {
      "model_module": "@jupyter-widgets/controls",
      "model_module_version": "1.5.0",
      "model_name": "DescriptionStyleModel",
      "state": {
       "_model_module": "@jupyter-widgets/controls",
       "_model_module_version": "1.5.0",
       "_model_name": "DescriptionStyleModel",
       "_view_count": null,
       "_view_module": "@jupyter-widgets/base",
       "_view_module_version": "1.2.0",
       "_view_name": "StyleView",
       "description_width": ""
      }
     },
     "0b8ef3de05b546099331d89e7c913b8c": {
      "model_module": "@jupyter-widgets/controls",
      "model_module_version": "1.5.0",
      "model_name": "FloatProgressModel",
      "state": {
       "_dom_classes": [],
       "_model_module": "@jupyter-widgets/controls",
       "_model_module_version": "1.5.0",
       "_model_name": "FloatProgressModel",
       "_view_count": null,
       "_view_module": "@jupyter-widgets/controls",
       "_view_module_version": "1.5.0",
       "_view_name": "ProgressView",
       "bar_style": "",
       "description": "",
       "description_tooltip": null,
       "layout": "IPY_MODEL_aa790750a8ff41069610868392d365af",
       "max": 50000.0,
       "min": 0.0,
       "orientation": "horizontal",
       "style": "IPY_MODEL_787d2e8ed252498690c123eae88de24c",
       "value": 50000.0
      }
     },
     "0b9a2442cbb84133841af8b06df4ed13": {
      "model_module": "@jupyter-widgets/controls",
      "model_module_version": "1.5.0",
      "model_name": "HBoxModel",
      "state": {
       "_dom_classes": [],
       "_model_module": "@jupyter-widgets/controls",
       "_model_module_version": "1.5.0",
       "_model_name": "HBoxModel",
       "_view_count": null,
       "_view_module": "@jupyter-widgets/controls",
       "_view_module_version": "1.5.0",
       "_view_name": "HBoxView",
       "box_style": "",
       "children": [
        "IPY_MODEL_ee298a75b73b49f29b0d7fb9440fb2e9",
        "IPY_MODEL_40ef39146de941d5b0a3b9b7199022b7",
        "IPY_MODEL_6adc11438207401e8e54e42ea0bac06c"
       ],
       "layout": "IPY_MODEL_200d984db5424f83b2f495145a438c82"
      }
     },
     "0d054600e8b14bf6942782ebd479300e": {
      "model_module": "@jupyter-widgets/controls",
      "model_module_version": "1.5.0",
      "model_name": "HTMLModel",
      "state": {
       "_dom_classes": [],
       "_model_module": "@jupyter-widgets/controls",
       "_model_module_version": "1.5.0",
       "_model_name": "HTMLModel",
       "_view_count": null,
       "_view_module": "@jupyter-widgets/controls",
       "_view_module_version": "1.5.0",
       "_view_name": "HTMLView",
       "description": "",
       "description_tooltip": null,
       "layout": "IPY_MODEL_b2d793bf4c004d07801fd6d0526af665",
       "placeholder": "​",
       "style": "IPY_MODEL_c66fb74eb61c40ca947cff33f5d2f470",
       "value": "Generating train examples...:  99%"
      }
     },
     "0eb489d6ef3e4009831387a026beed01": {
      "model_module": "@jupyter-widgets/controls",
      "model_module_version": "1.5.0",
      "model_name": "FloatProgressModel",
      "state": {
       "_dom_classes": [],
       "_model_module": "@jupyter-widgets/controls",
       "_model_module_version": "1.5.0",
       "_model_name": "FloatProgressModel",
       "_view_count": null,
       "_view_module": "@jupyter-widgets/controls",
       "_view_module_version": "1.5.0",
       "_view_name": "ProgressView",
       "bar_style": "",
       "description": "",
       "description_tooltip": null,
       "layout": "IPY_MODEL_ea3930fb04264fd4ae488ee9ae213905",
       "max": 3.0,
       "min": 0.0,
       "orientation": "horizontal",
       "style": "IPY_MODEL_aea23a351840497b81ba4ad93806679c",
       "value": 3.0
      }
     },
     "0f509bb3ef45401c986544241dddf4e1": {
      "model_module": "@jupyter-widgets/base",
      "model_module_version": "1.2.0",
      "model_name": "LayoutModel",
      "state": {
       "_model_module": "@jupyter-widgets/base",
       "_model_module_version": "1.2.0",
       "_model_name": "LayoutModel",
       "_view_count": null,
       "_view_module": "@jupyter-widgets/base",
       "_view_module_version": "1.2.0",
       "_view_name": "LayoutView",
       "align_content": null,
       "align_items": null,
       "align_self": null,
       "border": null,
       "bottom": null,
       "display": null,
       "flex": null,
       "flex_flow": null,
       "grid_area": null,
       "grid_auto_columns": null,
       "grid_auto_flow": null,
       "grid_auto_rows": null,
       "grid_column": null,
       "grid_gap": null,
       "grid_row": null,
       "grid_template_areas": null,
       "grid_template_columns": null,
       "grid_template_rows": null,
       "height": null,
       "justify_content": null,
       "justify_items": null,
       "left": null,
       "margin": null,
       "max_height": null,
       "max_width": null,
       "min_height": null,
       "min_width": null,
       "object_fit": null,
       "object_position": null,
       "order": null,
       "overflow": null,
       "overflow_x": null,
       "overflow_y": null,
       "padding": null,
       "right": null,
       "top": null,
       "visibility": "hidden",
       "width": null
      }
     },
     "10d379e5dc1742dc99e0b3cb80413aed": {
      "model_module": "@jupyter-widgets/controls",
      "model_module_version": "1.5.0",
      "model_name": "ProgressStyleModel",
      "state": {
       "_model_module": "@jupyter-widgets/controls",
       "_model_module_version": "1.5.0",
       "_model_name": "ProgressStyleModel",
       "_view_count": null,
       "_view_module": "@jupyter-widgets/base",
       "_view_module_version": "1.2.0",
       "_view_name": "StyleView",
       "bar_color": null,
       "description_width": ""
      }
     },
     "1241fe3060954b4eb3451307597a2018": {
      "model_module": "@jupyter-widgets/controls",
      "model_module_version": "1.5.0",
      "model_name": "HTMLModel",
      "state": {
       "_dom_classes": [],
       "_model_module": "@jupyter-widgets/controls",
       "_model_module_version": "1.5.0",
       "_model_name": "HTMLModel",
       "_view_count": null,
       "_view_module": "@jupyter-widgets/controls",
       "_view_module_version": "1.5.0",
       "_view_name": "HTMLView",
       "description": "",
       "description_tooltip": null,
       "layout": "IPY_MODEL_e28980da9b474bbeb6698e67e25e1cf9",
       "placeholder": "​",
       "style": "IPY_MODEL_3dc7229cee2343359a738fc5a2113490",
       "value": "Shuffling /root/tensorflow_datasets/imdb_reviews/subwords8k/1.0.0.incompleteTEXVMA/imdb_reviews-unsupervised.tfrecord*...:  82%"
      }
     },
     "12a7c101f2b44df78139d9e7eb0353cf": {
      "model_module": "@jupyter-widgets/controls",
      "model_module_version": "1.5.0",
      "model_name": "ProgressStyleModel",
      "state": {
       "_model_module": "@jupyter-widgets/controls",
       "_model_module_version": "1.5.0",
       "_model_name": "ProgressStyleModel",
       "_view_count": null,
       "_view_module": "@jupyter-widgets/base",
       "_view_module_version": "1.2.0",
       "_view_name": "StyleView",
       "bar_color": null,
       "description_width": ""
      }
     },
     "1482f370a6d4443da39e09e481652292": {
      "model_module": "@jupyter-widgets/base",
      "model_module_version": "1.2.0",
      "model_name": "LayoutModel",
      "state": {
       "_model_module": "@jupyter-widgets/base",
       "_model_module_version": "1.2.0",
       "_model_name": "LayoutModel",
       "_view_count": null,
       "_view_module": "@jupyter-widgets/base",
       "_view_module_version": "1.2.0",
       "_view_name": "LayoutView",
       "align_content": null,
       "align_items": null,
       "align_self": null,
       "border": null,
       "bottom": null,
       "display": null,
       "flex": null,
       "flex_flow": null,
       "grid_area": null,
       "grid_auto_columns": null,
       "grid_auto_flow": null,
       "grid_auto_rows": null,
       "grid_column": null,
       "grid_gap": null,
       "grid_row": null,
       "grid_template_areas": null,
       "grid_template_columns": null,
       "grid_template_rows": null,
       "height": null,
       "justify_content": null,
       "justify_items": null,
       "left": null,
       "margin": null,
       "max_height": null,
       "max_width": null,
       "min_height": null,
       "min_width": null,
       "object_fit": null,
       "object_position": null,
       "order": null,
       "overflow": null,
       "overflow_x": null,
       "overflow_y": null,
       "padding": null,
       "right": null,
       "top": null,
       "visibility": null,
       "width": null
      }
     },
     "16582a60679a476a9b5eb9262fc148de": {
      "model_module": "@jupyter-widgets/controls",
      "model_module_version": "1.5.0",
      "model_name": "FloatProgressModel",
      "state": {
       "_dom_classes": [],
       "_model_module": "@jupyter-widgets/controls",
       "_model_module_version": "1.5.0",
       "_model_name": "FloatProgressModel",
       "_view_count": null,
       "_view_module": "@jupyter-widgets/controls",
       "_view_module_version": "1.5.0",
       "_view_name": "ProgressView",
       "bar_style": "success",
       "description": "",
       "description_tooltip": null,
       "layout": "IPY_MODEL_2a1548e824954f749b304c4617e2b957",
       "max": 1.0,
       "min": 0.0,
       "orientation": "horizontal",
       "style": "IPY_MODEL_19223b6c09904b1eb86a0a6782d04dbb",
       "value": 1.0
      }
     },
     "16fc8fc4d06643f4b6cac05c5e46c960": {
      "model_module": "@jupyter-widgets/base",
      "model_module_version": "1.2.0",
      "model_name": "LayoutModel",
      "state": {
       "_model_module": "@jupyter-widgets/base",
       "_model_module_version": "1.2.0",
       "_model_name": "LayoutModel",
       "_view_count": null,
       "_view_module": "@jupyter-widgets/base",
       "_view_module_version": "1.2.0",
       "_view_name": "LayoutView",
       "align_content": null,
       "align_items": null,
       "align_self": null,
       "border": null,
       "bottom": null,
       "display": null,
       "flex": null,
       "flex_flow": null,
       "grid_area": null,
       "grid_auto_columns": null,
       "grid_auto_flow": null,
       "grid_auto_rows": null,
       "grid_column": null,
       "grid_gap": null,
       "grid_row": null,
       "grid_template_areas": null,
       "grid_template_columns": null,
       "grid_template_rows": null,
       "height": null,
       "justify_content": null,
       "justify_items": null,
       "left": null,
       "margin": null,
       "max_height": null,
       "max_width": null,
       "min_height": null,
       "min_width": null,
       "object_fit": null,
       "object_position": null,
       "order": null,
       "overflow": null,
       "overflow_x": null,
       "overflow_y": null,
       "padding": null,
       "right": null,
       "top": null,
       "visibility": null,
       "width": null
      }
     },
     "189e3bcbb6a6414a88cc09a51aadd99b": {
      "model_module": "@jupyter-widgets/controls",
      "model_module_version": "1.5.0",
      "model_name": "DescriptionStyleModel",
      "state": {
       "_model_module": "@jupyter-widgets/controls",
       "_model_module_version": "1.5.0",
       "_model_name": "DescriptionStyleModel",
       "_view_count": null,
       "_view_module": "@jupyter-widgets/base",
       "_view_module_version": "1.2.0",
       "_view_name": "StyleView",
       "description_width": ""
      }
     },
     "19223b6c09904b1eb86a0a6782d04dbb": {
      "model_module": "@jupyter-widgets/controls",
      "model_module_version": "1.5.0",
      "model_name": "ProgressStyleModel",
      "state": {
       "_model_module": "@jupyter-widgets/controls",
       "_model_module_version": "1.5.0",
       "_model_name": "ProgressStyleModel",
       "_view_count": null,
       "_view_module": "@jupyter-widgets/base",
       "_view_module_version": "1.2.0",
       "_view_name": "StyleView",
       "bar_color": null,
       "description_width": ""
      }
     },
     "19325c1149ee41718a8d1015db75e896": {
      "model_module": "@jupyter-widgets/controls",
      "model_module_version": "1.5.0",
      "model_name": "FloatProgressModel",
      "state": {
       "_dom_classes": [],
       "_model_module": "@jupyter-widgets/controls",
       "_model_module_version": "1.5.0",
       "_model_name": "FloatProgressModel",
       "_view_count": null,
       "_view_module": "@jupyter-widgets/controls",
       "_view_module_version": "1.5.0",
       "_view_name": "ProgressView",
       "bar_style": "",
       "description": "",
       "description_tooltip": null,
       "layout": "IPY_MODEL_e96b6600a8434eb1ab5ff80bb8dfe947",
       "max": 50000.0,
       "min": 0.0,
       "orientation": "horizontal",
       "style": "IPY_MODEL_898ed65304ac470a954af5d987b1ab23",
       "value": 50000.0
      }
     },
     "19ac8c039d604480abd648a5433ced77": {
      "model_module": "@jupyter-widgets/base",
      "model_module_version": "1.2.0",
      "model_name": "LayoutModel",
      "state": {
       "_model_module": "@jupyter-widgets/base",
       "_model_module_version": "1.2.0",
       "_model_name": "LayoutModel",
       "_view_count": null,
       "_view_module": "@jupyter-widgets/base",
       "_view_module_version": "1.2.0",
       "_view_name": "LayoutView",
       "align_content": null,
       "align_items": null,
       "align_self": null,
       "border": null,
       "bottom": null,
       "display": null,
       "flex": null,
       "flex_flow": null,
       "grid_area": null,
       "grid_auto_columns": null,
       "grid_auto_flow": null,
       "grid_auto_rows": null,
       "grid_column": null,
       "grid_gap": null,
       "grid_row": null,
       "grid_template_areas": null,
       "grid_template_columns": null,
       "grid_template_rows": null,
       "height": null,
       "justify_content": null,
       "justify_items": null,
       "left": null,
       "margin": null,
       "max_height": null,
       "max_width": null,
       "min_height": null,
       "min_width": null,
       "object_fit": null,
       "object_position": null,
       "order": null,
       "overflow": null,
       "overflow_x": null,
       "overflow_y": null,
       "padding": null,
       "right": null,
       "top": null,
       "visibility": null,
       "width": null
      }
     },
     "1bf9b611560c41e09c8e9e86536f0049": {
      "model_module": "@jupyter-widgets/controls",
      "model_module_version": "1.5.0",
      "model_name": "HTMLModel",
      "state": {
       "_dom_classes": [],
       "_model_module": "@jupyter-widgets/controls",
       "_model_module_version": "1.5.0",
       "_model_name": "HTMLModel",
       "_view_count": null,
       "_view_module": "@jupyter-widgets/controls",
       "_view_module_version": "1.5.0",
       "_view_name": "HTMLView",
       "description": "",
       "description_tooltip": null,
       "layout": "IPY_MODEL_ca860a622eff4abfafdeebc7d5925055",
       "placeholder": "​",
       "style": "IPY_MODEL_f96e7ccd52164bc6a02a53a89ac50546",
       "value": "Generating unsupervised examples...: 100%"
      }
     },
     "1db3d89cb13e40b592008e285725fece": {
      "model_module": "@jupyter-widgets/controls",
      "model_module_version": "1.5.0",
      "model_name": "HTMLModel",
      "state": {
       "_dom_classes": [],
       "_model_module": "@jupyter-widgets/controls",
       "_model_module_version": "1.5.0",
       "_model_name": "HTMLModel",
       "_view_count": null,
       "_view_module": "@jupyter-widgets/controls",
       "_view_module_version": "1.5.0",
       "_view_name": "HTMLView",
       "description": "",
       "description_tooltip": null,
       "layout": "IPY_MODEL_e2326f71c7f5476b9757030bbc2d5449",
       "placeholder": "​",
       "style": "IPY_MODEL_49f3419acc1c4c0ebe90f9ae102e8b69",
       "value": "Generating test examples...: 100%"
      }
     },
     "1e6b68080ab245f28062add120cddf25": {
      "model_module": "@jupyter-widgets/controls",
      "model_module_version": "1.5.0",
      "model_name": "FloatProgressModel",
      "state": {
       "_dom_classes": [],
       "_model_module": "@jupyter-widgets/controls",
       "_model_module_version": "1.5.0",
       "_model_name": "FloatProgressModel",
       "_view_count": null,
       "_view_module": "@jupyter-widgets/controls",
       "_view_module_version": "1.5.0",
       "_view_name": "ProgressView",
       "bar_style": "",
       "description": "",
       "description_tooltip": null,
       "layout": "IPY_MODEL_84526ceb5f074d338e2ca3c24711a5e4",
       "max": 25000.0,
       "min": 0.0,
       "orientation": "horizontal",
       "style": "IPY_MODEL_cfe2218645994e34adfb4c57f84eb2e9",
       "value": 25000.0
      }
     },
     "1f690ab4dea54dd4b190dbe57a9f28ca": {
      "model_module": "@jupyter-widgets/controls",
      "model_module_version": "1.5.0",
      "model_name": "DescriptionStyleModel",
      "state": {
       "_model_module": "@jupyter-widgets/controls",
       "_model_module_version": "1.5.0",
       "_model_name": "DescriptionStyleModel",
       "_view_count": null,
       "_view_module": "@jupyter-widgets/base",
       "_view_module_version": "1.2.0",
       "_view_name": "StyleView",
       "description_width": ""
      }
     },
     "200d984db5424f83b2f495145a438c82": {
      "model_module": "@jupyter-widgets/base",
      "model_module_version": "1.2.0",
      "model_name": "LayoutModel",
      "state": {
       "_model_module": "@jupyter-widgets/base",
       "_model_module_version": "1.2.0",
       "_model_name": "LayoutModel",
       "_view_count": null,
       "_view_module": "@jupyter-widgets/base",
       "_view_module_version": "1.2.0",
       "_view_name": "LayoutView",
       "align_content": null,
       "align_items": null,
       "align_self": null,
       "border": null,
       "bottom": null,
       "display": null,
       "flex": null,
       "flex_flow": null,
       "grid_area": null,
       "grid_auto_columns": null,
       "grid_auto_flow": null,
       "grid_auto_rows": null,
       "grid_column": null,
       "grid_gap": null,
       "grid_row": null,
       "grid_template_areas": null,
       "grid_template_columns": null,
       "grid_template_rows": null,
       "height": null,
       "justify_content": null,
       "justify_items": null,
       "left": null,
       "margin": null,
       "max_height": null,
       "max_width": null,
       "min_height": null,
       "min_width": null,
       "object_fit": null,
       "object_position": null,
       "order": null,
       "overflow": null,
       "overflow_x": null,
       "overflow_y": null,
       "padding": null,
       "right": null,
       "top": null,
       "visibility": "hidden",
       "width": null
      }
     },
     "200eae2c5102421d8a26f0dda5c170e0": {
      "model_module": "@jupyter-widgets/controls",
      "model_module_version": "1.5.0",
      "model_name": "DescriptionStyleModel",
      "state": {
       "_model_module": "@jupyter-widgets/controls",
       "_model_module_version": "1.5.0",
       "_model_name": "DescriptionStyleModel",
       "_view_count": null,
       "_view_module": "@jupyter-widgets/base",
       "_view_module_version": "1.2.0",
       "_view_name": "StyleView",
       "description_width": ""
      }
     },
     "22abf9740e88436a848ea68718ea75b0": {
      "model_module": "@jupyter-widgets/base",
      "model_module_version": "1.2.0",
      "model_name": "LayoutModel",
      "state": {
       "_model_module": "@jupyter-widgets/base",
       "_model_module_version": "1.2.0",
       "_model_name": "LayoutModel",
       "_view_count": null,
       "_view_module": "@jupyter-widgets/base",
       "_view_module_version": "1.2.0",
       "_view_name": "LayoutView",
       "align_content": null,
       "align_items": null,
       "align_self": null,
       "border": null,
       "bottom": null,
       "display": null,
       "flex": null,
       "flex_flow": null,
       "grid_area": null,
       "grid_auto_columns": null,
       "grid_auto_flow": null,
       "grid_auto_rows": null,
       "grid_column": null,
       "grid_gap": null,
       "grid_row": null,
       "grid_template_areas": null,
       "grid_template_columns": null,
       "grid_template_rows": null,
       "height": null,
       "justify_content": null,
       "justify_items": null,
       "left": null,
       "margin": null,
       "max_height": null,
       "max_width": null,
       "min_height": null,
       "min_width": null,
       "object_fit": null,
       "object_position": null,
       "order": null,
       "overflow": null,
       "overflow_x": null,
       "overflow_y": null,
       "padding": null,
       "right": null,
       "top": null,
       "visibility": null,
       "width": null
      }
     },
     "237ec7dfff284f429fedf20558f5de41": {
      "model_module": "@jupyter-widgets/controls",
      "model_module_version": "1.5.0",
      "model_name": "ProgressStyleModel",
      "state": {
       "_model_module": "@jupyter-widgets/controls",
       "_model_module_version": "1.5.0",
       "_model_name": "ProgressStyleModel",
       "_view_count": null,
       "_view_module": "@jupyter-widgets/base",
       "_view_module_version": "1.2.0",
       "_view_name": "StyleView",
       "bar_color": null,
       "description_width": ""
      }
     },
     "247a00411528404ab080f580fe1c9c86": {
      "model_module": "@jupyter-widgets/controls",
      "model_module_version": "1.5.0",
      "model_name": "HTMLModel",
      "state": {
       "_dom_classes": [],
       "_model_module": "@jupyter-widgets/controls",
       "_model_module_version": "1.5.0",
       "_model_name": "HTMLModel",
       "_view_count": null,
       "_view_module": "@jupyter-widgets/controls",
       "_view_module_version": "1.5.0",
       "_view_name": "HTMLView",
       "description": "",
       "description_tooltip": null,
       "layout": "IPY_MODEL_c207e517a9b84dcaac11fddd0311dbda",
       "placeholder": "​",
       "style": "IPY_MODEL_b2ada995f89d44a8815bda28624ae3a1",
       "value": "Dl Size...: 100%"
      }
     },
     "24eb1fee810d45e588f9f2a61bd5427d": {
      "model_module": "@jupyter-widgets/controls",
      "model_module_version": "1.5.0",
      "model_name": "ProgressStyleModel",
      "state": {
       "_model_module": "@jupyter-widgets/controls",
       "_model_module_version": "1.5.0",
       "_model_name": "ProgressStyleModel",
       "_view_count": null,
       "_view_module": "@jupyter-widgets/base",
       "_view_module_version": "1.2.0",
       "_view_name": "StyleView",
       "bar_color": null,
       "description_width": ""
      }
     },
     "26ee3c09919a47c98cd414ec27accd07": {
      "model_module": "@jupyter-widgets/base",
      "model_module_version": "1.2.0",
      "model_name": "LayoutModel",
      "state": {
       "_model_module": "@jupyter-widgets/base",
       "_model_module_version": "1.2.0",
       "_model_name": "LayoutModel",
       "_view_count": null,
       "_view_module": "@jupyter-widgets/base",
       "_view_module_version": "1.2.0",
       "_view_name": "LayoutView",
       "align_content": null,
       "align_items": null,
       "align_self": null,
       "border": null,
       "bottom": null,
       "display": null,
       "flex": null,
       "flex_flow": null,
       "grid_area": null,
       "grid_auto_columns": null,
       "grid_auto_flow": null,
       "grid_auto_rows": null,
       "grid_column": null,
       "grid_gap": null,
       "grid_row": null,
       "grid_template_areas": null,
       "grid_template_columns": null,
       "grid_template_rows": null,
       "height": null,
       "justify_content": null,
       "justify_items": null,
       "left": null,
       "margin": null,
       "max_height": null,
       "max_width": null,
       "min_height": null,
       "min_width": null,
       "object_fit": null,
       "object_position": null,
       "order": null,
       "overflow": null,
       "overflow_x": null,
       "overflow_y": null,
       "padding": null,
       "right": null,
       "top": null,
       "visibility": null,
       "width": null
      }
     },
     "29ed5783bb994b6397ee82ab18c6cbed": {
      "model_module": "@jupyter-widgets/controls",
      "model_module_version": "1.5.0",
      "model_name": "DescriptionStyleModel",
      "state": {
       "_model_module": "@jupyter-widgets/controls",
       "_model_module_version": "1.5.0",
       "_model_name": "DescriptionStyleModel",
       "_view_count": null,
       "_view_module": "@jupyter-widgets/base",
       "_view_module_version": "1.2.0",
       "_view_name": "StyleView",
       "description_width": ""
      }
     },
     "2a0dbe8ed3a24fecb6ad652f35c9d3fc": {
      "model_module": "@jupyter-widgets/controls",
      "model_module_version": "1.5.0",
      "model_name": "FloatProgressModel",
      "state": {
       "_dom_classes": [],
       "_model_module": "@jupyter-widgets/controls",
       "_model_module_version": "1.5.0",
       "_model_name": "FloatProgressModel",
       "_view_count": null,
       "_view_module": "@jupyter-widgets/controls",
       "_view_module_version": "1.5.0",
       "_view_name": "ProgressView",
       "bar_style": "success",
       "description": "",
       "description_tooltip": null,
       "layout": "IPY_MODEL_e43132a7fc5a45eabc8f297cb2928fe4",
       "max": 1.0,
       "min": 0.0,
       "orientation": "horizontal",
       "style": "IPY_MODEL_9c9d4ca11763414a9f0d62cfb2f62998",
       "value": 1.0
      }
     },
     "2a1548e824954f749b304c4617e2b957": {
      "model_module": "@jupyter-widgets/base",
      "model_module_version": "1.2.0",
      "model_name": "LayoutModel",
      "state": {
       "_model_module": "@jupyter-widgets/base",
       "_model_module_version": "1.2.0",
       "_model_name": "LayoutModel",
       "_view_count": null,
       "_view_module": "@jupyter-widgets/base",
       "_view_module_version": "1.2.0",
       "_view_name": "LayoutView",
       "align_content": null,
       "align_items": null,
       "align_self": null,
       "border": null,
       "bottom": null,
       "display": null,
       "flex": null,
       "flex_flow": null,
       "grid_area": null,
       "grid_auto_columns": null,
       "grid_auto_flow": null,
       "grid_auto_rows": null,
       "grid_column": null,
       "grid_gap": null,
       "grid_row": null,
       "grid_template_areas": null,
       "grid_template_columns": null,
       "grid_template_rows": null,
       "height": null,
       "justify_content": null,
       "justify_items": null,
       "left": null,
       "margin": null,
       "max_height": null,
       "max_width": null,
       "min_height": null,
       "min_width": null,
       "object_fit": null,
       "object_position": null,
       "order": null,
       "overflow": null,
       "overflow_x": null,
       "overflow_y": null,
       "padding": null,
       "right": null,
       "top": null,
       "visibility": null,
       "width": "20px"
      }
     },
     "2ca8ff677a8c4906820f460d8ed18ac0": {
      "model_module": "@jupyter-widgets/base",
      "model_module_version": "1.2.0",
      "model_name": "LayoutModel",
      "state": {
       "_model_module": "@jupyter-widgets/base",
       "_model_module_version": "1.2.0",
       "_model_name": "LayoutModel",
       "_view_count": null,
       "_view_module": "@jupyter-widgets/base",
       "_view_module_version": "1.2.0",
       "_view_name": "LayoutView",
       "align_content": null,
       "align_items": null,
       "align_self": null,
       "border": null,
       "bottom": null,
       "display": null,
       "flex": null,
       "flex_flow": null,
       "grid_area": null,
       "grid_auto_columns": null,
       "grid_auto_flow": null,
       "grid_auto_rows": null,
       "grid_column": null,
       "grid_gap": null,
       "grid_row": null,
       "grid_template_areas": null,
       "grid_template_columns": null,
       "grid_template_rows": null,
       "height": null,
       "justify_content": null,
       "justify_items": null,
       "left": null,
       "margin": null,
       "max_height": null,
       "max_width": null,
       "min_height": null,
       "min_width": null,
       "object_fit": null,
       "object_position": null,
       "order": null,
       "overflow": null,
       "overflow_x": null,
       "overflow_y": null,
       "padding": null,
       "right": null,
       "top": null,
       "visibility": null,
       "width": null
      }
     },
     "2d3eaf708c69491f948c45e3bd4e6135": {
      "model_module": "@jupyter-widgets/controls",
      "model_module_version": "1.5.0",
      "model_name": "FloatProgressModel",
      "state": {
       "_dom_classes": [],
       "_model_module": "@jupyter-widgets/controls",
       "_model_module_version": "1.5.0",
       "_model_name": "FloatProgressModel",
       "_view_count": null,
       "_view_module": "@jupyter-widgets/controls",
       "_view_module_version": "1.5.0",
       "_view_name": "ProgressView",
       "bar_style": "success",
       "description": "",
       "description_tooltip": null,
       "layout": "IPY_MODEL_0663c91ad4e842bf998fee4e82b2d1e7",
       "max": 1.0,
       "min": 0.0,
       "orientation": "horizontal",
       "style": "IPY_MODEL_ee4c2f4ed4754e9b80bc58b7912f648e",
       "value": 1.0
      }
     },
     "2db5c4859af1422ca7f3d688b2b5d34d": {
      "model_module": "@jupyter-widgets/controls",
      "model_module_version": "1.5.0",
      "model_name": "DescriptionStyleModel",
      "state": {
       "_model_module": "@jupyter-widgets/controls",
       "_model_module_version": "1.5.0",
       "_model_name": "DescriptionStyleModel",
       "_view_count": null,
       "_view_module": "@jupyter-widgets/base",
       "_view_module_version": "1.2.0",
       "_view_name": "StyleView",
       "description_width": ""
      }
     },
     "2e78db61e03542e6967157f783913431": {
      "model_module": "@jupyter-widgets/controls",
      "model_module_version": "1.5.0",
      "model_name": "DescriptionStyleModel",
      "state": {
       "_model_module": "@jupyter-widgets/controls",
       "_model_module_version": "1.5.0",
       "_model_name": "DescriptionStyleModel",
       "_view_count": null,
       "_view_module": "@jupyter-widgets/base",
       "_view_module_version": "1.2.0",
       "_view_name": "StyleView",
       "description_width": ""
      }
     },
     "2f6fab20086e45feb0f1b239fc9a7bca": {
      "model_module": "@jupyter-widgets/controls",
      "model_module_version": "1.5.0",
      "model_name": "ProgressStyleModel",
      "state": {
       "_model_module": "@jupyter-widgets/controls",
       "_model_module_version": "1.5.0",
       "_model_name": "ProgressStyleModel",
       "_view_count": null,
       "_view_module": "@jupyter-widgets/base",
       "_view_module_version": "1.2.0",
       "_view_name": "StyleView",
       "bar_color": null,
       "description_width": ""
      }
     },
     "2fe89ebaf5e34c6f8340cc40c2324f48": {
      "model_module": "@jupyter-widgets/base",
      "model_module_version": "1.2.0",
      "model_name": "LayoutModel",
      "state": {
       "_model_module": "@jupyter-widgets/base",
       "_model_module_version": "1.2.0",
       "_model_name": "LayoutModel",
       "_view_count": null,
       "_view_module": "@jupyter-widgets/base",
       "_view_module_version": "1.2.0",
       "_view_name": "LayoutView",
       "align_content": null,
       "align_items": null,
       "align_self": null,
       "border": null,
       "bottom": null,
       "display": null,
       "flex": null,
       "flex_flow": null,
       "grid_area": null,
       "grid_auto_columns": null,
       "grid_auto_flow": null,
       "grid_auto_rows": null,
       "grid_column": null,
       "grid_gap": null,
       "grid_row": null,
       "grid_template_areas": null,
       "grid_template_columns": null,
       "grid_template_rows": null,
       "height": null,
       "justify_content": null,
       "justify_items": null,
       "left": null,
       "margin": null,
       "max_height": null,
       "max_width": null,
       "min_height": null,
       "min_width": null,
       "object_fit": null,
       "object_position": null,
       "order": null,
       "overflow": null,
       "overflow_x": null,
       "overflow_y": null,
       "padding": null,
       "right": null,
       "top": null,
       "visibility": null,
       "width": null
      }
     },
     "30ed65de6d5b435dbcdb38bfaae9f66d": {
      "model_module": "@jupyter-widgets/controls",
      "model_module_version": "1.5.0",
      "model_name": "HTMLModel",
      "state": {
       "_dom_classes": [],
       "_model_module": "@jupyter-widgets/controls",
       "_model_module_version": "1.5.0",
       "_model_name": "HTMLModel",
       "_view_count": null,
       "_view_module": "@jupyter-widgets/controls",
       "_view_module_version": "1.5.0",
       "_view_name": "HTMLView",
       "description": "",
       "description_tooltip": null,
       "layout": "IPY_MODEL_ad04d454b35e4666a3fd861fa5939692",
       "placeholder": "​",
       "style": "IPY_MODEL_200eae2c5102421d8a26f0dda5c170e0",
       "value": " 24121/25000 [00:00&lt;00:00, 125693.58 examples/s]"
      }
     },
     "31f98742f36a40bab5c1c280453aba99": {
      "model_module": "@jupyter-widgets/base",
      "model_module_version": "1.2.0",
      "model_name": "LayoutModel",
      "state": {
       "_model_module": "@jupyter-widgets/base",
       "_model_module_version": "1.2.0",
       "_model_name": "LayoutModel",
       "_view_count": null,
       "_view_module": "@jupyter-widgets/base",
       "_view_module_version": "1.2.0",
       "_view_name": "LayoutView",
       "align_content": null,
       "align_items": null,
       "align_self": null,
       "border": null,
       "bottom": null,
       "display": null,
       "flex": null,
       "flex_flow": null,
       "grid_area": null,
       "grid_auto_columns": null,
       "grid_auto_flow": null,
       "grid_auto_rows": null,
       "grid_column": null,
       "grid_gap": null,
       "grid_row": null,
       "grid_template_areas": null,
       "grid_template_columns": null,
       "grid_template_rows": null,
       "height": null,
       "justify_content": null,
       "justify_items": null,
       "left": null,
       "margin": null,
       "max_height": null,
       "max_width": null,
       "min_height": null,
       "min_width": null,
       "object_fit": null,
       "object_position": null,
       "order": null,
       "overflow": null,
       "overflow_x": null,
       "overflow_y": null,
       "padding": null,
       "right": null,
       "top": null,
       "visibility": null,
       "width": null
      }
     },
     "323ff81ac9684420b563eb20679c588c": {
      "model_module": "@jupyter-widgets/controls",
      "model_module_version": "1.5.0",
      "model_name": "HBoxModel",
      "state": {
       "_dom_classes": [],
       "_model_module": "@jupyter-widgets/controls",
       "_model_module_version": "1.5.0",
       "_model_name": "HBoxModel",
       "_view_count": null,
       "_view_module": "@jupyter-widgets/controls",
       "_view_module_version": "1.5.0",
       "_view_name": "HBoxView",
       "box_style": "",
       "children": [
        "IPY_MODEL_e38c266c1feb47b4b35b5008b094b6be",
        "IPY_MODEL_4847451d9c9349dcbb7bb3c083fe55b7",
        "IPY_MODEL_9eb869765d54477792c8fd0f97a81005"
       ],
       "layout": "IPY_MODEL_dd52f0d4e2274822b1b32ef410b2983b"
      }
     },
     "327ac43070484be1882bdc6d31fec5a0": {
      "model_module": "@jupyter-widgets/controls",
      "model_module_version": "1.5.0",
      "model_name": "DescriptionStyleModel",
      "state": {
       "_model_module": "@jupyter-widgets/controls",
       "_model_module_version": "1.5.0",
       "_model_name": "DescriptionStyleModel",
       "_view_count": null,
       "_view_module": "@jupyter-widgets/base",
       "_view_module_version": "1.2.0",
       "_view_name": "StyleView",
       "description_width": ""
      }
     },
     "32b93871d5604dada2bfc0f158831cec": {
      "model_module": "@jupyter-widgets/controls",
      "model_module_version": "1.5.0",
      "model_name": "DescriptionStyleModel",
      "state": {
       "_model_module": "@jupyter-widgets/controls",
       "_model_module_version": "1.5.0",
       "_model_name": "DescriptionStyleModel",
       "_view_count": null,
       "_view_module": "@jupyter-widgets/base",
       "_view_module_version": "1.2.0",
       "_view_name": "StyleView",
       "description_width": ""
      }
     },
     "337e2afd38264f4db841adbf65978f54": {
      "model_module": "@jupyter-widgets/base",
      "model_module_version": "1.2.0",
      "model_name": "LayoutModel",
      "state": {
       "_model_module": "@jupyter-widgets/base",
       "_model_module_version": "1.2.0",
       "_model_name": "LayoutModel",
       "_view_count": null,
       "_view_module": "@jupyter-widgets/base",
       "_view_module_version": "1.2.0",
       "_view_name": "LayoutView",
       "align_content": null,
       "align_items": null,
       "align_self": null,
       "border": null,
       "bottom": null,
       "display": null,
       "flex": null,
       "flex_flow": null,
       "grid_area": null,
       "grid_auto_columns": null,
       "grid_auto_flow": null,
       "grid_auto_rows": null,
       "grid_column": null,
       "grid_gap": null,
       "grid_row": null,
       "grid_template_areas": null,
       "grid_template_columns": null,
       "grid_template_rows": null,
       "height": null,
       "justify_content": null,
       "justify_items": null,
       "left": null,
       "margin": null,
       "max_height": null,
       "max_width": null,
       "min_height": null,
       "min_width": null,
       "object_fit": null,
       "object_position": null,
       "order": null,
       "overflow": null,
       "overflow_x": null,
       "overflow_y": null,
       "padding": null,
       "right": null,
       "top": null,
       "visibility": null,
       "width": null
      }
     },
     "37d45c900ee14e718df104046ebf66cf": {
      "model_module": "@jupyter-widgets/base",
      "model_module_version": "1.2.0",
      "model_name": "LayoutModel",
      "state": {
       "_model_module": "@jupyter-widgets/base",
       "_model_module_version": "1.2.0",
       "_model_name": "LayoutModel",
       "_view_count": null,
       "_view_module": "@jupyter-widgets/base",
       "_view_module_version": "1.2.0",
       "_view_name": "LayoutView",
       "align_content": null,
       "align_items": null,
       "align_self": null,
       "border": null,
       "bottom": null,
       "display": null,
       "flex": null,
       "flex_flow": null,
       "grid_area": null,
       "grid_auto_columns": null,
       "grid_auto_flow": null,
       "grid_auto_rows": null,
       "grid_column": null,
       "grid_gap": null,
       "grid_row": null,
       "grid_template_areas": null,
       "grid_template_columns": null,
       "grid_template_rows": null,
       "height": null,
       "justify_content": null,
       "justify_items": null,
       "left": null,
       "margin": null,
       "max_height": null,
       "max_width": null,
       "min_height": null,
       "min_width": null,
       "object_fit": null,
       "object_position": null,
       "order": null,
       "overflow": null,
       "overflow_x": null,
       "overflow_y": null,
       "padding": null,
       "right": null,
       "top": null,
       "visibility": null,
       "width": null
      }
     },
     "38124f18c8e64533912a9cb03a678c19": {
      "model_module": "@jupyter-widgets/base",
      "model_module_version": "1.2.0",
      "model_name": "LayoutModel",
      "state": {
       "_model_module": "@jupyter-widgets/base",
       "_model_module_version": "1.2.0",
       "_model_name": "LayoutModel",
       "_view_count": null,
       "_view_module": "@jupyter-widgets/base",
       "_view_module_version": "1.2.0",
       "_view_name": "LayoutView",
       "align_content": null,
       "align_items": null,
       "align_self": null,
       "border": null,
       "bottom": null,
       "display": null,
       "flex": null,
       "flex_flow": null,
       "grid_area": null,
       "grid_auto_columns": null,
       "grid_auto_flow": null,
       "grid_auto_rows": null,
       "grid_column": null,
       "grid_gap": null,
       "grid_row": null,
       "grid_template_areas": null,
       "grid_template_columns": null,
       "grid_template_rows": null,
       "height": null,
       "justify_content": null,
       "justify_items": null,
       "left": null,
       "margin": null,
       "max_height": null,
       "max_width": null,
       "min_height": null,
       "min_width": null,
       "object_fit": null,
       "object_position": null,
       "order": null,
       "overflow": null,
       "overflow_x": null,
       "overflow_y": null,
       "padding": null,
       "right": null,
       "top": null,
       "visibility": "hidden",
       "width": null
      }
     },
     "3be4033b4cc0484a931e484a8d0fd018": {
      "model_module": "@jupyter-widgets/base",
      "model_module_version": "1.2.0",
      "model_name": "LayoutModel",
      "state": {
       "_model_module": "@jupyter-widgets/base",
       "_model_module_version": "1.2.0",
       "_model_name": "LayoutModel",
       "_view_count": null,
       "_view_module": "@jupyter-widgets/base",
       "_view_module_version": "1.2.0",
       "_view_name": "LayoutView",
       "align_content": null,
       "align_items": null,
       "align_self": null,
       "border": null,
       "bottom": null,
       "display": null,
       "flex": null,
       "flex_flow": null,
       "grid_area": null,
       "grid_auto_columns": null,
       "grid_auto_flow": null,
       "grid_auto_rows": null,
       "grid_column": null,
       "grid_gap": null,
       "grid_row": null,
       "grid_template_areas": null,
       "grid_template_columns": null,
       "grid_template_rows": null,
       "height": null,
       "justify_content": null,
       "justify_items": null,
       "left": null,
       "margin": null,
       "max_height": null,
       "max_width": null,
       "min_height": null,
       "min_width": null,
       "object_fit": null,
       "object_position": null,
       "order": null,
       "overflow": null,
       "overflow_x": null,
       "overflow_y": null,
       "padding": null,
       "right": null,
       "top": null,
       "visibility": null,
       "width": null
      }
     },
     "3dc7229cee2343359a738fc5a2113490": {
      "model_module": "@jupyter-widgets/controls",
      "model_module_version": "1.5.0",
      "model_name": "DescriptionStyleModel",
      "state": {
       "_model_module": "@jupyter-widgets/controls",
       "_model_module_version": "1.5.0",
       "_model_name": "DescriptionStyleModel",
       "_view_count": null,
       "_view_module": "@jupyter-widgets/base",
       "_view_module_version": "1.2.0",
       "_view_name": "StyleView",
       "description_width": ""
      }
     },
     "3e0eff47254541c8b8e52f9a35cfc78e": {
      "model_module": "@jupyter-widgets/controls",
      "model_module_version": "1.5.0",
      "model_name": "DescriptionStyleModel",
      "state": {
       "_model_module": "@jupyter-widgets/controls",
       "_model_module_version": "1.5.0",
       "_model_name": "DescriptionStyleModel",
       "_view_count": null,
       "_view_module": "@jupyter-widgets/base",
       "_view_module_version": "1.2.0",
       "_view_name": "StyleView",
       "description_width": ""
      }
     },
     "3e5bca9c1ffe47a9ad821750b1c4ab1d": {
      "model_module": "@jupyter-widgets/controls",
      "model_module_version": "1.5.0",
      "model_name": "HTMLModel",
      "state": {
       "_dom_classes": [],
       "_model_module": "@jupyter-widgets/controls",
       "_model_module_version": "1.5.0",
       "_model_name": "HTMLModel",
       "_view_count": null,
       "_view_module": "@jupyter-widgets/controls",
       "_view_module_version": "1.5.0",
       "_view_name": "HTMLView",
       "description": "",
       "description_tooltip": null,
       "layout": "IPY_MODEL_337e2afd38264f4db841adbf65978f54",
       "placeholder": "​",
       "style": "IPY_MODEL_fabeda08802d442ea51770ea11b33939",
       "value": "Generating test examples...: 100%"
      }
     },
     "3f71b4c5285c4407b4e1bf2785196ad6": {
      "model_module": "@jupyter-widgets/controls",
      "model_module_version": "1.5.0",
      "model_name": "HTMLModel",
      "state": {
       "_dom_classes": [],
       "_model_module": "@jupyter-widgets/controls",
       "_model_module_version": "1.5.0",
       "_model_name": "HTMLModel",
       "_view_count": null,
       "_view_module": "@jupyter-widgets/controls",
       "_view_module_version": "1.5.0",
       "_view_name": "HTMLView",
       "description": "",
       "description_tooltip": null,
       "layout": "IPY_MODEL_19ac8c039d604480abd648a5433ced77",
       "placeholder": "​",
       "style": "IPY_MODEL_2db5c4859af1422ca7f3d688b2b5d34d",
       "value": " 24969/25000 [00:47&lt;00:00, 592.47 examples/s]"
      }
     },
     "40ef39146de941d5b0a3b9b7199022b7": {
      "model_module": "@jupyter-widgets/controls",
      "model_module_version": "1.5.0",
      "model_name": "FloatProgressModel",
      "state": {
       "_dom_classes": [],
       "_model_module": "@jupyter-widgets/controls",
       "_model_module_version": "1.5.0",
       "_model_name": "FloatProgressModel",
       "_view_count": null,
       "_view_module": "@jupyter-widgets/controls",
       "_view_module_version": "1.5.0",
       "_view_name": "ProgressView",
       "bar_style": "",
       "description": "",
       "description_tooltip": null,
       "layout": "IPY_MODEL_a49de15a3143448eacfe39b013c49ccf",
       "max": 50000.0,
       "min": 0.0,
       "orientation": "horizontal",
       "style": "IPY_MODEL_237ec7dfff284f429fedf20558f5de41",
       "value": 50000.0
      }
     },
     "4658d6e85713407996fb6793adc22f52": {
      "model_module": "@jupyter-widgets/controls",
      "model_module_version": "1.5.0",
      "model_name": "FloatProgressModel",
      "state": {
       "_dom_classes": [],
       "_model_module": "@jupyter-widgets/controls",
       "_model_module_version": "1.5.0",
       "_model_name": "FloatProgressModel",
       "_view_count": null,
       "_view_module": "@jupyter-widgets/controls",
       "_view_module_version": "1.5.0",
       "_view_name": "ProgressView",
       "bar_style": "",
       "description": "",
       "description_tooltip": null,
       "layout": "IPY_MODEL_fb41da02ac604cb3b14b52613e5ac0f8",
       "max": 25000.0,
       "min": 0.0,
       "orientation": "horizontal",
       "style": "IPY_MODEL_a1dcc7be5b7846f3b904d162eb8f9df5",
       "value": 25000.0
      }
     },
     "4725441f8a034cd89b2a162b1256e9ee": {
      "model_module": "@jupyter-widgets/base",
      "model_module_version": "1.2.0",
      "model_name": "LayoutModel",
      "state": {
       "_model_module": "@jupyter-widgets/base",
       "_model_module_version": "1.2.0",
       "_model_name": "LayoutModel",
       "_view_count": null,
       "_view_module": "@jupyter-widgets/base",
       "_view_module_version": "1.2.0",
       "_view_name": "LayoutView",
       "align_content": null,
       "align_items": null,
       "align_self": null,
       "border": null,
       "bottom": null,
       "display": null,
       "flex": null,
       "flex_flow": null,
       "grid_area": null,
       "grid_auto_columns": null,
       "grid_auto_flow": null,
       "grid_auto_rows": null,
       "grid_column": null,
       "grid_gap": null,
       "grid_row": null,
       "grid_template_areas": null,
       "grid_template_columns": null,
       "grid_template_rows": null,
       "height": null,
       "justify_content": null,
       "justify_items": null,
       "left": null,
       "margin": null,
       "max_height": null,
       "max_width": null,
       "min_height": null,
       "min_width": null,
       "object_fit": null,
       "object_position": null,
       "order": null,
       "overflow": null,
       "overflow_x": null,
       "overflow_y": null,
       "padding": null,
       "right": null,
       "top": null,
       "visibility": null,
       "width": null
      }
     },
     "474dfb1b50d3465b81b3349e8b91b303": {
      "model_module": "@jupyter-widgets/controls",
      "model_module_version": "1.5.0",
      "model_name": "HBoxModel",
      "state": {
       "_dom_classes": [],
       "_model_module": "@jupyter-widgets/controls",
       "_model_module_version": "1.5.0",
       "_model_name": "HBoxModel",
       "_view_count": null,
       "_view_module": "@jupyter-widgets/controls",
       "_view_module_version": "1.5.0",
       "_view_name": "HBoxView",
       "box_style": "",
       "children": [
        "IPY_MODEL_b8ed697d6b60465ebe50a4af156501fd",
        "IPY_MODEL_816f1951400a4a4e90c91dc4d7354433",
        "IPY_MODEL_5d6b8c22bf4048d3b58201fb07359403"
       ],
       "layout": "IPY_MODEL_91c1f8e0faf046b593621e62ba12487f"
      }
     },
     "4847451d9c9349dcbb7bb3c083fe55b7": {
      "model_module": "@jupyter-widgets/controls",
      "model_module_version": "1.5.0",
      "model_name": "FloatProgressModel",
      "state": {
       "_dom_classes": [],
       "_model_module": "@jupyter-widgets/controls",
       "_model_module_version": "1.5.0",
       "_model_name": "FloatProgressModel",
       "_view_count": null,
       "_view_module": "@jupyter-widgets/controls",
       "_view_module_version": "1.5.0",
       "_view_name": "ProgressView",
       "bar_style": "",
       "description": "",
       "description_tooltip": null,
       "layout": "IPY_MODEL_26ee3c09919a47c98cd414ec27accd07",
       "max": 25000.0,
       "min": 0.0,
       "orientation": "horizontal",
       "style": "IPY_MODEL_2f6fab20086e45feb0f1b239fc9a7bca",
       "value": 25000.0
      }
     },
     "4857483f67f040f39f51222b54b094e4": {
      "model_module": "@jupyter-widgets/controls",
      "model_module_version": "1.5.0",
      "model_name": "DescriptionStyleModel",
      "state": {
       "_model_module": "@jupyter-widgets/controls",
       "_model_module_version": "1.5.0",
       "_model_name": "DescriptionStyleModel",
       "_view_count": null,
       "_view_module": "@jupyter-widgets/base",
       "_view_module_version": "1.2.0",
       "_view_name": "StyleView",
       "description_width": ""
      }
     },
     "49f3419acc1c4c0ebe90f9ae102e8b69": {
      "model_module": "@jupyter-widgets/controls",
      "model_module_version": "1.5.0",
      "model_name": "DescriptionStyleModel",
      "state": {
       "_model_module": "@jupyter-widgets/controls",
       "_model_module_version": "1.5.0",
       "_model_name": "DescriptionStyleModel",
       "_view_count": null,
       "_view_module": "@jupyter-widgets/base",
       "_view_module_version": "1.2.0",
       "_view_name": "StyleView",
       "description_width": ""
      }
     },
     "4a026146db5e4d968a3563c38fa03702": {
      "model_module": "@jupyter-widgets/controls",
      "model_module_version": "1.5.0",
      "model_name": "HTMLModel",
      "state": {
       "_dom_classes": [],
       "_model_module": "@jupyter-widgets/controls",
       "_model_module_version": "1.5.0",
       "_model_name": "HTMLModel",
       "_view_count": null,
       "_view_module": "@jupyter-widgets/controls",
       "_view_module_version": "1.5.0",
       "_view_name": "HTMLView",
       "description": "",
       "description_tooltip": null,
       "layout": "IPY_MODEL_16fc8fc4d06643f4b6cac05c5e46c960",
       "placeholder": "​",
       "style": "IPY_MODEL_e2d8de345c0d412b8fbe34956b777d12",
       "value": " 1/1 [00:20&lt;00:00, 20.77s/ url]"
      }
     },
     "51ad5ba182b045c8b7547b851e0324a6": {
      "model_module": "@jupyter-widgets/base",
      "model_module_version": "1.2.0",
      "model_name": "LayoutModel",
      "state": {
       "_model_module": "@jupyter-widgets/base",
       "_model_module_version": "1.2.0",
       "_model_name": "LayoutModel",
       "_view_count": null,
       "_view_module": "@jupyter-widgets/base",
       "_view_module_version": "1.2.0",
       "_view_name": "LayoutView",
       "align_content": null,
       "align_items": null,
       "align_self": null,
       "border": null,
       "bottom": null,
       "display": null,
       "flex": null,
       "flex_flow": null,
       "grid_area": null,
       "grid_auto_columns": null,
       "grid_auto_flow": null,
       "grid_auto_rows": null,
       "grid_column": null,
       "grid_gap": null,
       "grid_row": null,
       "grid_template_areas": null,
       "grid_template_columns": null,
       "grid_template_rows": null,
       "height": null,
       "justify_content": null,
       "justify_items": null,
       "left": null,
       "margin": null,
       "max_height": null,
       "max_width": null,
       "min_height": null,
       "min_width": null,
       "object_fit": null,
       "object_position": null,
       "order": null,
       "overflow": null,
       "overflow_x": null,
       "overflow_y": null,
       "padding": null,
       "right": null,
       "top": null,
       "visibility": null,
       "width": null
      }
     },
     "52df0f780598488489d9d9f597c64966": {
      "model_module": "@jupyter-widgets/base",
      "model_module_version": "1.2.0",
      "model_name": "LayoutModel",
      "state": {
       "_model_module": "@jupyter-widgets/base",
       "_model_module_version": "1.2.0",
       "_model_name": "LayoutModel",
       "_view_count": null,
       "_view_module": "@jupyter-widgets/base",
       "_view_module_version": "1.2.0",
       "_view_name": "LayoutView",
       "align_content": null,
       "align_items": null,
       "align_self": null,
       "border": null,
       "bottom": null,
       "display": null,
       "flex": null,
       "flex_flow": null,
       "grid_area": null,
       "grid_auto_columns": null,
       "grid_auto_flow": null,
       "grid_auto_rows": null,
       "grid_column": null,
       "grid_gap": null,
       "grid_row": null,
       "grid_template_areas": null,
       "grid_template_columns": null,
       "grid_template_rows": null,
       "height": null,
       "justify_content": null,
       "justify_items": null,
       "left": null,
       "margin": null,
       "max_height": null,
       "max_width": null,
       "min_height": null,
       "min_width": null,
       "object_fit": null,
       "object_position": null,
       "order": null,
       "overflow": null,
       "overflow_x": null,
       "overflow_y": null,
       "padding": null,
       "right": null,
       "top": null,
       "visibility": "hidden",
       "width": null
      }
     },
     "5388f6a0891e47fbbd00cc48694160a2": {
      "model_module": "@jupyter-widgets/controls",
      "model_module_version": "1.5.0",
      "model_name": "HTMLModel",
      "state": {
       "_dom_classes": [],
       "_model_module": "@jupyter-widgets/controls",
       "_model_module_version": "1.5.0",
       "_model_name": "HTMLModel",
       "_view_count": null,
       "_view_module": "@jupyter-widgets/controls",
       "_view_module_version": "1.5.0",
       "_view_name": "HTMLView",
       "description": "",
       "description_tooltip": null,
       "layout": "IPY_MODEL_7f9589e386314f5eb49c08ce7f888278",
       "placeholder": "​",
       "style": "IPY_MODEL_d1643df1c6344d21abf9664c43cfedb9",
       "value": " 3/3 [03:14&lt;00:00, 69.30s/ splits]"
      }
     },
     "5613eb62b42f45f7b638d42ddf15a6f8": {
      "model_module": "@jupyter-widgets/controls",
      "model_module_version": "1.5.0",
      "model_name": "HBoxModel",
      "state": {
       "_dom_classes": [],
       "_model_module": "@jupyter-widgets/controls",
       "_model_module_version": "1.5.0",
       "_model_name": "HBoxModel",
       "_view_count": null,
       "_view_module": "@jupyter-widgets/controls",
       "_view_module_version": "1.5.0",
       "_view_name": "HBoxView",
       "box_style": "",
       "children": [
        "IPY_MODEL_fd1582b3b42e4399b44893758d0cf2eb",
        "IPY_MODEL_8955143add854473a7bd697ae22b50cd",
        "IPY_MODEL_3f71b4c5285c4407b4e1bf2785196ad6"
       ],
       "layout": "IPY_MODEL_52df0f780598488489d9d9f597c64966"
      }
     },
     "5bb4c6f5b2aa4c12b9cadaacb458bf26": {
      "model_module": "@jupyter-widgets/controls",
      "model_module_version": "1.5.0",
      "model_name": "DescriptionStyleModel",
      "state": {
       "_model_module": "@jupyter-widgets/controls",
       "_model_module_version": "1.5.0",
       "_model_name": "DescriptionStyleModel",
       "_view_count": null,
       "_view_module": "@jupyter-widgets/base",
       "_view_module_version": "1.2.0",
       "_view_name": "StyleView",
       "description_width": ""
      }
     },
     "5c64e1cd20134eaf81aaf0b3258f8f5b": {
      "model_module": "@jupyter-widgets/controls",
      "model_module_version": "1.5.0",
      "model_name": "HTMLModel",
      "state": {
       "_dom_classes": [],
       "_model_module": "@jupyter-widgets/controls",
       "_model_module_version": "1.5.0",
       "_model_name": "HTMLModel",
       "_view_count": null,
       "_view_module": "@jupyter-widgets/controls",
       "_view_module_version": "1.5.0",
       "_view_name": "HTMLView",
       "description": "",
       "description_tooltip": null,
       "layout": "IPY_MODEL_8a0ed71684234d4ea626a7e93c43e8ae",
       "placeholder": "​",
       "style": "IPY_MODEL_c67e79a869504126a8f800bac5414c33",
       "value": " 3/3 [00:53&lt;00:00, 18.44s/ splits]"
      }
     },
     "5d52b7287cbb4cbab9b8d8e3303a4324": {
      "model_module": "@jupyter-widgets/controls",
      "model_module_version": "1.5.0",
      "model_name": "HBoxModel",
      "state": {
       "_dom_classes": [],
       "_model_module": "@jupyter-widgets/controls",
       "_model_module_version": "1.5.0",
       "_model_name": "HBoxModel",
       "_view_count": null,
       "_view_module": "@jupyter-widgets/controls",
       "_view_module_version": "1.5.0",
       "_view_name": "HBoxView",
       "box_style": "",
       "children": [
        "IPY_MODEL_0d054600e8b14bf6942782ebd479300e",
        "IPY_MODEL_7120aa5edeec4ba3915cec924458802f",
        "IPY_MODEL_a55f37fcea464b67994e0dfd9bb9e440"
       ],
       "layout": "IPY_MODEL_decd23f46fca4436bb50fa0d3b8779d6"
      }
     },
     "5d6b8c22bf4048d3b58201fb07359403": {
      "model_module": "@jupyter-widgets/controls",
      "model_module_version": "1.5.0",
      "model_name": "HTMLModel",
      "state": {
       "_dom_classes": [],
       "_model_module": "@jupyter-widgets/controls",
       "_model_module_version": "1.5.0",
       "_model_name": "HTMLModel",
       "_view_count": null,
       "_view_module": "@jupyter-widgets/controls",
       "_view_module_version": "1.5.0",
       "_view_name": "HTMLView",
       "description": "",
       "description_tooltip": null,
       "layout": "IPY_MODEL_e27e06670e7f47e1b11bfd5c6f92a085",
       "placeholder": "​",
       "style": "IPY_MODEL_327ac43070484be1882bdc6d31fec5a0",
       "value": " 24059/25000 [00:00&lt;00:00, 125079.72 examples/s]"
      }
     },
     "5f30f2216b2344a6bf795ce0f8b637bd": {
      "model_module": "@jupyter-widgets/base",
      "model_module_version": "1.2.0",
      "model_name": "LayoutModel",
      "state": {
       "_model_module": "@jupyter-widgets/base",
       "_model_module_version": "1.2.0",
       "_model_name": "LayoutModel",
       "_view_count": null,
       "_view_module": "@jupyter-widgets/base",
       "_view_module_version": "1.2.0",
       "_view_name": "LayoutView",
       "align_content": null,
       "align_items": null,
       "align_self": null,
       "border": null,
       "bottom": null,
       "display": null,
       "flex": null,
       "flex_flow": null,
       "grid_area": null,
       "grid_auto_columns": null,
       "grid_auto_flow": null,
       "grid_auto_rows": null,
       "grid_column": null,
       "grid_gap": null,
       "grid_row": null,
       "grid_template_areas": null,
       "grid_template_columns": null,
       "grid_template_rows": null,
       "height": null,
       "justify_content": null,
       "justify_items": null,
       "left": null,
       "margin": null,
       "max_height": null,
       "max_width": null,
       "min_height": null,
       "min_width": null,
       "object_fit": null,
       "object_position": null,
       "order": null,
       "overflow": null,
       "overflow_x": null,
       "overflow_y": null,
       "padding": null,
       "right": null,
       "top": null,
       "visibility": null,
       "width": null
      }
     },
     "6255b3cce1f14fed87594eb32ea3aa8e": {
      "model_module": "@jupyter-widgets/controls",
      "model_module_version": "1.5.0",
      "model_name": "HBoxModel",
      "state": {
       "_dom_classes": [],
       "_model_module": "@jupyter-widgets/controls",
       "_model_module_version": "1.5.0",
       "_model_name": "HBoxModel",
       "_view_count": null,
       "_view_module": "@jupyter-widgets/controls",
       "_view_module_version": "1.5.0",
       "_view_name": "HBoxView",
       "box_style": "",
       "children": [
        "IPY_MODEL_1241fe3060954b4eb3451307597a2018",
        "IPY_MODEL_a1f163cfceaa4f0c9aea9227254b2640",
        "IPY_MODEL_737418a901274bcb97b7ce030ffc70fe"
       ],
       "layout": "IPY_MODEL_0a1122991e3b4f6b81ae8d69f18d21ec"
      }
     },
     "6390219a7edb434db12704a8ae828402": {
      "model_module": "@jupyter-widgets/controls",
      "model_module_version": "1.5.0",
      "model_name": "DescriptionStyleModel",
      "state": {
       "_model_module": "@jupyter-widgets/controls",
       "_model_module_version": "1.5.0",
       "_model_name": "DescriptionStyleModel",
       "_view_count": null,
       "_view_module": "@jupyter-widgets/base",
       "_view_module_version": "1.2.0",
       "_view_name": "StyleView",
       "description_width": ""
      }
     },
     "65891b8fb6a3458f8963d266282281ef": {
      "model_module": "@jupyter-widgets/controls",
      "model_module_version": "1.5.0",
      "model_name": "HBoxModel",
      "state": {
       "_dom_classes": [],
       "_model_module": "@jupyter-widgets/controls",
       "_model_module_version": "1.5.0",
       "_model_name": "HBoxModel",
       "_view_count": null,
       "_view_module": "@jupyter-widgets/controls",
       "_view_module_version": "1.5.0",
       "_view_name": "HBoxView",
       "box_style": "",
       "children": [
        "IPY_MODEL_88d68c4e291e47b68b28d83881cb2218",
        "IPY_MODEL_0eb489d6ef3e4009831387a026beed01",
        "IPY_MODEL_5c64e1cd20134eaf81aaf0b3258f8f5b"
       ],
       "layout": "IPY_MODEL_ac90ca3597854bc68aadc95c4ef91c55"
      }
     },
     "685252bdb6aa496686dc768e041baa6f": {
      "model_module": "@jupyter-widgets/controls",
      "model_module_version": "1.5.0",
      "model_name": "HBoxModel",
      "state": {
       "_dom_classes": [],
       "_model_module": "@jupyter-widgets/controls",
       "_model_module_version": "1.5.0",
       "_model_name": "HBoxModel",
       "_view_count": null,
       "_view_module": "@jupyter-widgets/controls",
       "_view_module_version": "1.5.0",
       "_view_name": "HBoxView",
       "box_style": "",
       "children": [
        "IPY_MODEL_a0ed6e5d0268430f9dd0535286fea220",
        "IPY_MODEL_920226e921874652a202b86fc4a4bbaa",
        "IPY_MODEL_5388f6a0891e47fbbd00cc48694160a2"
       ],
       "layout": "IPY_MODEL_38124f18c8e64533912a9cb03a678c19"
      }
     },
     "689c2b616f164b2d9a100098aafe5388": {
      "model_module": "@jupyter-widgets/base",
      "model_module_version": "1.2.0",
      "model_name": "LayoutModel",
      "state": {
       "_model_module": "@jupyter-widgets/base",
       "_model_module_version": "1.2.0",
       "_model_name": "LayoutModel",
       "_view_count": null,
       "_view_module": "@jupyter-widgets/base",
       "_view_module_version": "1.2.0",
       "_view_name": "LayoutView",
       "align_content": null,
       "align_items": null,
       "align_self": null,
       "border": null,
       "bottom": null,
       "display": null,
       "flex": null,
       "flex_flow": null,
       "grid_area": null,
       "grid_auto_columns": null,
       "grid_auto_flow": null,
       "grid_auto_rows": null,
       "grid_column": null,
       "grid_gap": null,
       "grid_row": null,
       "grid_template_areas": null,
       "grid_template_columns": null,
       "grid_template_rows": null,
       "height": null,
       "justify_content": null,
       "justify_items": null,
       "left": null,
       "margin": null,
       "max_height": null,
       "max_width": null,
       "min_height": null,
       "min_width": null,
       "object_fit": null,
       "object_position": null,
       "order": null,
       "overflow": null,
       "overflow_x": null,
       "overflow_y": null,
       "padding": null,
       "right": null,
       "top": null,
       "visibility": null,
       "width": null
      }
     },
     "69352f706a564b2689cd9c02ce8391fc": {
      "model_module": "@jupyter-widgets/controls",
      "model_module_version": "1.5.0",
      "model_name": "HTMLModel",
      "state": {
       "_dom_classes": [],
       "_model_module": "@jupyter-widgets/controls",
       "_model_module_version": "1.5.0",
       "_model_name": "HTMLModel",
       "_view_count": null,
       "_view_module": "@jupyter-widgets/controls",
       "_view_module_version": "1.5.0",
       "_view_name": "HTMLView",
       "description": "",
       "description_tooltip": null,
       "layout": "IPY_MODEL_b1d2b5e329684ce38ed1fcf7f5512f6c",
       "placeholder": "​",
       "style": "IPY_MODEL_a106582872e44a2395748cb92101f0f2",
       "value": " 1/1 [00:00&lt;00:00, 13.23 url/s]"
      }
     },
     "6adc11438207401e8e54e42ea0bac06c": {
      "model_module": "@jupyter-widgets/controls",
      "model_module_version": "1.5.0",
      "model_name": "HTMLModel",
      "state": {
       "_dom_classes": [],
       "_model_module": "@jupyter-widgets/controls",
       "_model_module_version": "1.5.0",
       "_model_name": "HTMLModel",
       "_view_count": null,
       "_view_module": "@jupyter-widgets/controls",
       "_view_module_version": "1.5.0",
       "_view_name": "HTMLView",
       "description": "",
       "description_tooltip": null,
       "layout": "IPY_MODEL_22abf9740e88436a848ea68718ea75b0",
       "placeholder": "​",
       "style": "IPY_MODEL_3e0eff47254541c8b8e52f9a35cfc78e",
       "value": " 49942/50000 [00:20&lt;00:00, 3435.58 examples/s]"
      }
     },
     "6c4e69bf4953462faf845ef21b409aaf": {
      "model_module": "@jupyter-widgets/base",
      "model_module_version": "1.2.0",
      "model_name": "LayoutModel",
      "state": {
       "_model_module": "@jupyter-widgets/base",
       "_model_module_version": "1.2.0",
       "_model_name": "LayoutModel",
       "_view_count": null,
       "_view_module": "@jupyter-widgets/base",
       "_view_module_version": "1.2.0",
       "_view_name": "LayoutView",
       "align_content": null,
       "align_items": null,
       "align_self": null,
       "border": null,
       "bottom": null,
       "display": null,
       "flex": null,
       "flex_flow": null,
       "grid_area": null,
       "grid_auto_columns": null,
       "grid_auto_flow": null,
       "grid_auto_rows": null,
       "grid_column": null,
       "grid_gap": null,
       "grid_row": null,
       "grid_template_areas": null,
       "grid_template_columns": null,
       "grid_template_rows": null,
       "height": null,
       "justify_content": null,
       "justify_items": null,
       "left": null,
       "margin": null,
       "max_height": null,
       "max_width": null,
       "min_height": null,
       "min_width": null,
       "object_fit": null,
       "object_position": null,
       "order": null,
       "overflow": null,
       "overflow_x": null,
       "overflow_y": null,
       "padding": null,
       "right": null,
       "top": null,
       "visibility": null,
       "width": null
      }
     },
     "7009d09e71454303a7474416c2c98022": {
      "model_module": "@jupyter-widgets/controls",
      "model_module_version": "1.5.0",
      "model_name": "FloatProgressModel",
      "state": {
       "_dom_classes": [],
       "_model_module": "@jupyter-widgets/controls",
       "_model_module_version": "1.5.0",
       "_model_name": "FloatProgressModel",
       "_view_count": null,
       "_view_module": "@jupyter-widgets/controls",
       "_view_module_version": "1.5.0",
       "_view_name": "ProgressView",
       "bar_style": "",
       "description": "",
       "description_tooltip": null,
       "layout": "IPY_MODEL_31f98742f36a40bab5c1c280453aba99",
       "max": 25000.0,
       "min": 0.0,
       "orientation": "horizontal",
       "style": "IPY_MODEL_24eb1fee810d45e588f9f2a61bd5427d",
       "value": 25000.0
      }
     },
     "7120aa5edeec4ba3915cec924458802f": {
      "model_module": "@jupyter-widgets/controls",
      "model_module_version": "1.5.0",
      "model_name": "FloatProgressModel",
      "state": {
       "_dom_classes": [],
       "_model_module": "@jupyter-widgets/controls",
       "_model_module_version": "1.5.0",
       "_model_name": "FloatProgressModel",
       "_view_count": null,
       "_view_module": "@jupyter-widgets/controls",
       "_view_module_version": "1.5.0",
       "_view_name": "ProgressView",
       "bar_style": "",
       "description": "",
       "description_tooltip": null,
       "layout": "IPY_MODEL_d1911866e59b49b9b47ca18a09043148",
       "max": 25000.0,
       "min": 0.0,
       "orientation": "horizontal",
       "style": "IPY_MODEL_10d379e5dc1742dc99e0b3cb80413aed",
       "value": 25000.0
      }
     },
     "7300694969ce47f687a28ab842dad5d1": {
      "model_module": "@jupyter-widgets/controls",
      "model_module_version": "1.5.0",
      "model_name": "DescriptionStyleModel",
      "state": {
       "_model_module": "@jupyter-widgets/controls",
       "_model_module_version": "1.5.0",
       "_model_name": "DescriptionStyleModel",
       "_view_count": null,
       "_view_module": "@jupyter-widgets/base",
       "_view_module_version": "1.2.0",
       "_view_name": "StyleView",
       "description_width": ""
      }
     },
     "737418a901274bcb97b7ce030ffc70fe": {
      "model_module": "@jupyter-widgets/controls",
      "model_module_version": "1.5.0",
      "model_name": "HTMLModel",
      "state": {
       "_dom_classes": [],
       "_model_module": "@jupyter-widgets/controls",
       "_model_module_version": "1.5.0",
       "_model_name": "HTMLModel",
       "_view_count": null,
       "_view_module": "@jupyter-widgets/controls",
       "_view_module_version": "1.5.0",
       "_view_name": "HTMLView",
       "description": "",
       "description_tooltip": null,
       "layout": "IPY_MODEL_7b37f25057764cafb5eaf6a7eb70ddbd",
       "placeholder": "​",
       "style": "IPY_MODEL_a4018a0f966d435d96b058ce12ed6828",
       "value": " 41019/50000 [00:00&lt;00:00, 148594.03 examples/s]"
      }
     },
     "7404afde47c243359323e46928dc73bd": {
      "model_module": "@jupyter-widgets/base",
      "model_module_version": "1.2.0",
      "model_name": "LayoutModel",
      "state": {
       "_model_module": "@jupyter-widgets/base",
       "_model_module_version": "1.2.0",
       "_model_name": "LayoutModel",
       "_view_count": null,
       "_view_module": "@jupyter-widgets/base",
       "_view_module_version": "1.2.0",
       "_view_name": "LayoutView",
       "align_content": null,
       "align_items": null,
       "align_self": null,
       "border": null,
       "bottom": null,
       "display": null,
       "flex": null,
       "flex_flow": null,
       "grid_area": null,
       "grid_auto_columns": null,
       "grid_auto_flow": null,
       "grid_auto_rows": null,
       "grid_column": null,
       "grid_gap": null,
       "grid_row": null,
       "grid_template_areas": null,
       "grid_template_columns": null,
       "grid_template_rows": null,
       "height": null,
       "justify_content": null,
       "justify_items": null,
       "left": null,
       "margin": null,
       "max_height": null,
       "max_width": null,
       "min_height": null,
       "min_width": null,
       "object_fit": null,
       "object_position": null,
       "order": null,
       "overflow": null,
       "overflow_x": null,
       "overflow_y": null,
       "padding": null,
       "right": null,
       "top": null,
       "visibility": null,
       "width": "20px"
      }
     },
     "75213aba6c534c8b84fbc5a1e63ced96": {
      "model_module": "@jupyter-widgets/controls",
      "model_module_version": "1.5.0",
      "model_name": "HBoxModel",
      "state": {
       "_dom_classes": [],
       "_model_module": "@jupyter-widgets/controls",
       "_model_module_version": "1.5.0",
       "_model_name": "HBoxModel",
       "_view_count": null,
       "_view_module": "@jupyter-widgets/controls",
       "_view_module_version": "1.5.0",
       "_view_name": "HBoxView",
       "box_style": "",
       "children": [
        "IPY_MODEL_c231ff5417564d1c867f8974bc28e9fb",
        "IPY_MODEL_1e6b68080ab245f28062add120cddf25",
        "IPY_MODEL_30ed65de6d5b435dbcdb38bfaae9f66d"
       ],
       "layout": "IPY_MODEL_aaad3821bc564cb185ac65d960ba8408"
      }
     },
     "775c00c370504928bff8882df092c0da": {
      "model_module": "@jupyter-widgets/base",
      "model_module_version": "1.2.0",
      "model_name": "LayoutModel",
      "state": {
       "_model_module": "@jupyter-widgets/base",
       "_model_module_version": "1.2.0",
       "_model_name": "LayoutModel",
       "_view_count": null,
       "_view_module": "@jupyter-widgets/base",
       "_view_module_version": "1.2.0",
       "_view_name": "LayoutView",
       "align_content": null,
       "align_items": null,
       "align_self": null,
       "border": null,
       "bottom": null,
       "display": null,
       "flex": null,
       "flex_flow": null,
       "grid_area": null,
       "grid_auto_columns": null,
       "grid_auto_flow": null,
       "grid_auto_rows": null,
       "grid_column": null,
       "grid_gap": null,
       "grid_row": null,
       "grid_template_areas": null,
       "grid_template_columns": null,
       "grid_template_rows": null,
       "height": null,
       "justify_content": null,
       "justify_items": null,
       "left": null,
       "margin": null,
       "max_height": null,
       "max_width": null,
       "min_height": null,
       "min_width": null,
       "object_fit": null,
       "object_position": null,
       "order": null,
       "overflow": null,
       "overflow_x": null,
       "overflow_y": null,
       "padding": null,
       "right": null,
       "top": null,
       "visibility": "hidden",
       "width": null
      }
     },
     "784948d6818f415c850da90a44a7bd69": {
      "model_module": "@jupyter-widgets/base",
      "model_module_version": "1.2.0",
      "model_name": "LayoutModel",
      "state": {
       "_model_module": "@jupyter-widgets/base",
       "_model_module_version": "1.2.0",
       "_model_name": "LayoutModel",
       "_view_count": null,
       "_view_module": "@jupyter-widgets/base",
       "_view_module_version": "1.2.0",
       "_view_name": "LayoutView",
       "align_content": null,
       "align_items": null,
       "align_self": null,
       "border": null,
       "bottom": null,
       "display": null,
       "flex": null,
       "flex_flow": null,
       "grid_area": null,
       "grid_auto_columns": null,
       "grid_auto_flow": null,
       "grid_auto_rows": null,
       "grid_column": null,
       "grid_gap": null,
       "grid_row": null,
       "grid_template_areas": null,
       "grid_template_columns": null,
       "grid_template_rows": null,
       "height": null,
       "justify_content": null,
       "justify_items": null,
       "left": null,
       "margin": null,
       "max_height": null,
       "max_width": null,
       "min_height": null,
       "min_width": null,
       "object_fit": null,
       "object_position": null,
       "order": null,
       "overflow": null,
       "overflow_x": null,
       "overflow_y": null,
       "padding": null,
       "right": null,
       "top": null,
       "visibility": null,
       "width": null
      }
     },
     "787d2e8ed252498690c123eae88de24c": {
      "model_module": "@jupyter-widgets/controls",
      "model_module_version": "1.5.0",
      "model_name": "ProgressStyleModel",
      "state": {
       "_model_module": "@jupyter-widgets/controls",
       "_model_module_version": "1.5.0",
       "_model_name": "ProgressStyleModel",
       "_view_count": null,
       "_view_module": "@jupyter-widgets/base",
       "_view_module_version": "1.2.0",
       "_view_name": "StyleView",
       "bar_color": null,
       "description_width": ""
      }
     },
     "7b37f25057764cafb5eaf6a7eb70ddbd": {
      "model_module": "@jupyter-widgets/base",
      "model_module_version": "1.2.0",
      "model_name": "LayoutModel",
      "state": {
       "_model_module": "@jupyter-widgets/base",
       "_model_module_version": "1.2.0",
       "_model_name": "LayoutModel",
       "_view_count": null,
       "_view_module": "@jupyter-widgets/base",
       "_view_module_version": "1.2.0",
       "_view_name": "LayoutView",
       "align_content": null,
       "align_items": null,
       "align_self": null,
       "border": null,
       "bottom": null,
       "display": null,
       "flex": null,
       "flex_flow": null,
       "grid_area": null,
       "grid_auto_columns": null,
       "grid_auto_flow": null,
       "grid_auto_rows": null,
       "grid_column": null,
       "grid_gap": null,
       "grid_row": null,
       "grid_template_areas": null,
       "grid_template_columns": null,
       "grid_template_rows": null,
       "height": null,
       "justify_content": null,
       "justify_items": null,
       "left": null,
       "margin": null,
       "max_height": null,
       "max_width": null,
       "min_height": null,
       "min_width": null,
       "object_fit": null,
       "object_position": null,
       "order": null,
       "overflow": null,
       "overflow_x": null,
       "overflow_y": null,
       "padding": null,
       "right": null,
       "top": null,
       "visibility": null,
       "width": null
      }
     },
     "7f9589e386314f5eb49c08ce7f888278": {
      "model_module": "@jupyter-widgets/base",
      "model_module_version": "1.2.0",
      "model_name": "LayoutModel",
      "state": {
       "_model_module": "@jupyter-widgets/base",
       "_model_module_version": "1.2.0",
       "_model_name": "LayoutModel",
       "_view_count": null,
       "_view_module": "@jupyter-widgets/base",
       "_view_module_version": "1.2.0",
       "_view_name": "LayoutView",
       "align_content": null,
       "align_items": null,
       "align_self": null,
       "border": null,
       "bottom": null,
       "display": null,
       "flex": null,
       "flex_flow": null,
       "grid_area": null,
       "grid_auto_columns": null,
       "grid_auto_flow": null,
       "grid_auto_rows": null,
       "grid_column": null,
       "grid_gap": null,
       "grid_row": null,
       "grid_template_areas": null,
       "grid_template_columns": null,
       "grid_template_rows": null,
       "height": null,
       "justify_content": null,
       "justify_items": null,
       "left": null,
       "margin": null,
       "max_height": null,
       "max_width": null,
       "min_height": null,
       "min_width": null,
       "object_fit": null,
       "object_position": null,
       "order": null,
       "overflow": null,
       "overflow_x": null,
       "overflow_y": null,
       "padding": null,
       "right": null,
       "top": null,
       "visibility": null,
       "width": null
      }
     },
     "816f1951400a4a4e90c91dc4d7354433": {
      "model_module": "@jupyter-widgets/controls",
      "model_module_version": "1.5.0",
      "model_name": "FloatProgressModel",
      "state": {
       "_dom_classes": [],
       "_model_module": "@jupyter-widgets/controls",
       "_model_module_version": "1.5.0",
       "_model_name": "FloatProgressModel",
       "_view_count": null,
       "_view_module": "@jupyter-widgets/controls",
       "_view_module_version": "1.5.0",
       "_view_name": "ProgressView",
       "bar_style": "",
       "description": "",
       "description_tooltip": null,
       "layout": "IPY_MODEL_37d45c900ee14e718df104046ebf66cf",
       "max": 25000.0,
       "min": 0.0,
       "orientation": "horizontal",
       "style": "IPY_MODEL_e1a29487f98c4f619063a4f279a6e343",
       "value": 25000.0
      }
     },
     "828348ddd84e4f44b10ab392ca040c40": {
      "model_module": "@jupyter-widgets/controls",
      "model_module_version": "1.5.0",
      "model_name": "HBoxModel",
      "state": {
       "_dom_classes": [],
       "_model_module": "@jupyter-widgets/controls",
       "_model_module_version": "1.5.0",
       "_model_name": "HBoxModel",
       "_view_count": null,
       "_view_module": "@jupyter-widgets/controls",
       "_view_module_version": "1.5.0",
       "_view_name": "HBoxView",
       "box_style": "",
       "children": [
        "IPY_MODEL_3e5bca9c1ffe47a9ad821750b1c4ab1d",
        "IPY_MODEL_d50e992562054debbb8931cf9dae876d",
        "IPY_MODEL_ecb5464f6dce4f6096e2cf2556e22395"
       ],
       "layout": "IPY_MODEL_775c00c370504928bff8882df092c0da"
      }
     },
     "834b3571de3b44dcbcee6ce650833735": {
      "model_module": "@jupyter-widgets/controls",
      "model_module_version": "1.5.0",
      "model_name": "HBoxModel",
      "state": {
       "_dom_classes": [],
       "_model_module": "@jupyter-widgets/controls",
       "_model_module_version": "1.5.0",
       "_model_name": "HBoxModel",
       "_view_count": null,
       "_view_module": "@jupyter-widgets/controls",
       "_view_module_version": "1.5.0",
       "_view_name": "HBoxView",
       "box_style": "",
       "children": [
        "IPY_MODEL_aaba038c57d94835afbcd6083ac57c58",
        "IPY_MODEL_16582a60679a476a9b5eb9262fc148de",
        "IPY_MODEL_c2fe362c5047490890af8ca78e66d60c"
       ],
       "layout": "IPY_MODEL_fe1a717b592f433db83048b16a0c1399"
      }
     },
     "84526ceb5f074d338e2ca3c24711a5e4": {
      "model_module": "@jupyter-widgets/base",
      "model_module_version": "1.2.0",
      "model_name": "LayoutModel",
      "state": {
       "_model_module": "@jupyter-widgets/base",
       "_model_module_version": "1.2.0",
       "_model_name": "LayoutModel",
       "_view_count": null,
       "_view_module": "@jupyter-widgets/base",
       "_view_module_version": "1.2.0",
       "_view_name": "LayoutView",
       "align_content": null,
       "align_items": null,
       "align_self": null,
       "border": null,
       "bottom": null,
       "display": null,
       "flex": null,
       "flex_flow": null,
       "grid_area": null,
       "grid_auto_columns": null,
       "grid_auto_flow": null,
       "grid_auto_rows": null,
       "grid_column": null,
       "grid_gap": null,
       "grid_row": null,
       "grid_template_areas": null,
       "grid_template_columns": null,
       "grid_template_rows": null,
       "height": null,
       "justify_content": null,
       "justify_items": null,
       "left": null,
       "margin": null,
       "max_height": null,
       "max_width": null,
       "min_height": null,
       "min_width": null,
       "object_fit": null,
       "object_position": null,
       "order": null,
       "overflow": null,
       "overflow_x": null,
       "overflow_y": null,
       "padding": null,
       "right": null,
       "top": null,
       "visibility": null,
       "width": null
      }
     },
     "84c3b706014446cba6d3214051c27a41": {
      "model_module": "@jupyter-widgets/controls",
      "model_module_version": "1.5.0",
      "model_name": "HTMLModel",
      "state": {
       "_dom_classes": [],
       "_model_module": "@jupyter-widgets/controls",
       "_model_module_version": "1.5.0",
       "_model_name": "HTMLModel",
       "_view_count": null,
       "_view_module": "@jupyter-widgets/controls",
       "_view_module_version": "1.5.0",
       "_view_name": "HTMLView",
       "description": "",
       "description_tooltip": null,
       "layout": "IPY_MODEL_d20ad5ef749848ebbdc27ba670d4fcad",
       "placeholder": "​",
       "style": "IPY_MODEL_8e732be819264e4c8126a874edf26af5",
       "value": "Shuffling /root/tensorflow_datasets/imdb_reviews/subwords8k/1.0.0.incompleteTEXVMA/imdb_reviews-test.tfrecord*...:  45%"
      }
     },
     "862e21e0ddef446983c1cf8049ed55df": {
      "model_module": "@jupyter-widgets/controls",
      "model_module_version": "1.5.0",
      "model_name": "HTMLModel",
      "state": {
       "_dom_classes": [],
       "_model_module": "@jupyter-widgets/controls",
       "_model_module_version": "1.5.0",
       "_model_name": "HTMLModel",
       "_view_count": null,
       "_view_module": "@jupyter-widgets/controls",
       "_view_module_version": "1.5.0",
       "_view_name": "HTMLView",
       "description": "",
       "description_tooltip": null,
       "layout": "IPY_MODEL_c810dd15cee94210bbfbd28fe53400fb",
       "placeholder": "​",
       "style": "IPY_MODEL_0b57c6f0e91449299e72483681d3561c",
       "value": " 49972/50000 [01:29&lt;00:00, 581.03 examples/s]"
      }
     },
     "88d68c4e291e47b68b28d83881cb2218": {
      "model_module": "@jupyter-widgets/controls",
      "model_module_version": "1.5.0",
      "model_name": "HTMLModel",
      "state": {
       "_dom_classes": [],
       "_model_module": "@jupyter-widgets/controls",
       "_model_module_version": "1.5.0",
       "_model_name": "HTMLModel",
       "_view_count": null,
       "_view_module": "@jupyter-widgets/controls",
       "_view_module_version": "1.5.0",
       "_view_name": "HTMLView",
       "description": "",
       "description_tooltip": null,
       "layout": "IPY_MODEL_ab11d022a52d430d95f56c088c5e29cc",
       "placeholder": "​",
       "style": "IPY_MODEL_6390219a7edb434db12704a8ae828402",
       "value": "Generating splits...: 100%"
      }
     },
     "8955143add854473a7bd697ae22b50cd": {
      "model_module": "@jupyter-widgets/controls",
      "model_module_version": "1.5.0",
      "model_name": "FloatProgressModel",
      "state": {
       "_dom_classes": [],
       "_model_module": "@jupyter-widgets/controls",
       "_model_module_version": "1.5.0",
       "_model_name": "FloatProgressModel",
       "_view_count": null,
       "_view_module": "@jupyter-widgets/controls",
       "_view_module_version": "1.5.0",
       "_view_name": "ProgressView",
       "bar_style": "",
       "description": "",
       "description_tooltip": null,
       "layout": "IPY_MODEL_5f30f2216b2344a6bf795ce0f8b637bd",
       "max": 25000.0,
       "min": 0.0,
       "orientation": "horizontal",
       "style": "IPY_MODEL_fd371a3efe5c4ef8bbf5f716af1e5f90",
       "value": 25000.0
      }
     },
     "895dad189a3e4162966cb1c4ba432da8": {
      "model_module": "@jupyter-widgets/controls",
      "model_module_version": "1.5.0",
      "model_name": "HTMLModel",
      "state": {
       "_dom_classes": [],
       "_model_module": "@jupyter-widgets/controls",
       "_model_module_version": "1.5.0",
       "_model_name": "HTMLModel",
       "_view_count": null,
       "_view_module": "@jupyter-widgets/controls",
       "_view_module_version": "1.5.0",
       "_view_name": "HTMLView",
       "description": "",
       "description_tooltip": null,
       "layout": "IPY_MODEL_c9d9f7769a8f4763a75aadd808a70d7c",
       "placeholder": "​",
       "style": "IPY_MODEL_b65fdeacada741788ad1b599faa236af",
       "value": " 24966/25000 [00:42&lt;00:00, 605.72 examples/s]"
      }
     },
     "898ed65304ac470a954af5d987b1ab23": {
      "model_module": "@jupyter-widgets/controls",
      "model_module_version": "1.5.0",
      "model_name": "ProgressStyleModel",
      "state": {
       "_model_module": "@jupyter-widgets/controls",
       "_model_module_version": "1.5.0",
       "_model_name": "ProgressStyleModel",
       "_view_count": null,
       "_view_module": "@jupyter-widgets/base",
       "_view_module_version": "1.2.0",
       "_view_name": "StyleView",
       "bar_color": null,
       "description_width": ""
      }
     },
     "8a0ed71684234d4ea626a7e93c43e8ae": {
      "model_module": "@jupyter-widgets/base",
      "model_module_version": "1.2.0",
      "model_name": "LayoutModel",
      "state": {
       "_model_module": "@jupyter-widgets/base",
       "_model_module_version": "1.2.0",
       "_model_name": "LayoutModel",
       "_view_count": null,
       "_view_module": "@jupyter-widgets/base",
       "_view_module_version": "1.2.0",
       "_view_name": "LayoutView",
       "align_content": null,
       "align_items": null,
       "align_self": null,
       "border": null,
       "bottom": null,
       "display": null,
       "flex": null,
       "flex_flow": null,
       "grid_area": null,
       "grid_auto_columns": null,
       "grid_auto_flow": null,
       "grid_auto_rows": null,
       "grid_column": null,
       "grid_gap": null,
       "grid_row": null,
       "grid_template_areas": null,
       "grid_template_columns": null,
       "grid_template_rows": null,
       "height": null,
       "justify_content": null,
       "justify_items": null,
       "left": null,
       "margin": null,
       "max_height": null,
       "max_width": null,
       "min_height": null,
       "min_width": null,
       "object_fit": null,
       "object_position": null,
       "order": null,
       "overflow": null,
       "overflow_x": null,
       "overflow_y": null,
       "padding": null,
       "right": null,
       "top": null,
       "visibility": null,
       "width": null
      }
     },
     "8e732be819264e4c8126a874edf26af5": {
      "model_module": "@jupyter-widgets/controls",
      "model_module_version": "1.5.0",
      "model_name": "DescriptionStyleModel",
      "state": {
       "_model_module": "@jupyter-widgets/controls",
       "_model_module_version": "1.5.0",
       "_model_name": "DescriptionStyleModel",
       "_view_count": null,
       "_view_module": "@jupyter-widgets/base",
       "_view_module_version": "1.2.0",
       "_view_name": "StyleView",
       "description_width": ""
      }
     },
     "91c1f8e0faf046b593621e62ba12487f": {
      "model_module": "@jupyter-widgets/base",
      "model_module_version": "1.2.0",
      "model_name": "LayoutModel",
      "state": {
       "_model_module": "@jupyter-widgets/base",
       "_model_module_version": "1.2.0",
       "_model_name": "LayoutModel",
       "_view_count": null,
       "_view_module": "@jupyter-widgets/base",
       "_view_module_version": "1.2.0",
       "_view_name": "LayoutView",
       "align_content": null,
       "align_items": null,
       "align_self": null,
       "border": null,
       "bottom": null,
       "display": null,
       "flex": null,
       "flex_flow": null,
       "grid_area": null,
       "grid_auto_columns": null,
       "grid_auto_flow": null,
       "grid_auto_rows": null,
       "grid_column": null,
       "grid_gap": null,
       "grid_row": null,
       "grid_template_areas": null,
       "grid_template_columns": null,
       "grid_template_rows": null,
       "height": null,
       "justify_content": null,
       "justify_items": null,
       "left": null,
       "margin": null,
       "max_height": null,
       "max_width": null,
       "min_height": null,
       "min_width": null,
       "object_fit": null,
       "object_position": null,
       "order": null,
       "overflow": null,
       "overflow_x": null,
       "overflow_y": null,
       "padding": null,
       "right": null,
       "top": null,
       "visibility": "hidden",
       "width": null
      }
     },
     "920226e921874652a202b86fc4a4bbaa": {
      "model_module": "@jupyter-widgets/controls",
      "model_module_version": "1.5.0",
      "model_name": "FloatProgressModel",
      "state": {
       "_dom_classes": [],
       "_model_module": "@jupyter-widgets/controls",
       "_model_module_version": "1.5.0",
       "_model_name": "FloatProgressModel",
       "_view_count": null,
       "_view_module": "@jupyter-widgets/controls",
       "_view_module_version": "1.5.0",
       "_view_name": "ProgressView",
       "bar_style": "",
       "description": "",
       "description_tooltip": null,
       "layout": "IPY_MODEL_fe452dabfa7e4f1fb17fa5c438b69c14",
       "max": 3.0,
       "min": 0.0,
       "orientation": "horizontal",
       "style": "IPY_MODEL_04710787edc844efa72dd7c82dcdbc6f",
       "value": 3.0
      }
     },
     "92e336baff8d46bfbda360e8d6c093a8": {
      "model_module": "@jupyter-widgets/controls",
      "model_module_version": "1.5.0",
      "model_name": "DescriptionStyleModel",
      "state": {
       "_model_module": "@jupyter-widgets/controls",
       "_model_module_version": "1.5.0",
       "_model_name": "DescriptionStyleModel",
       "_view_count": null,
       "_view_module": "@jupyter-widgets/base",
       "_view_module_version": "1.2.0",
       "_view_name": "StyleView",
       "description_width": ""
      }
     },
     "9466f76a7754477ab26deb03bb5ab6fe": {
      "model_module": "@jupyter-widgets/base",
      "model_module_version": "1.2.0",
      "model_name": "LayoutModel",
      "state": {
       "_model_module": "@jupyter-widgets/base",
       "_model_module_version": "1.2.0",
       "_model_name": "LayoutModel",
       "_view_count": null,
       "_view_module": "@jupyter-widgets/base",
       "_view_module_version": "1.2.0",
       "_view_name": "LayoutView",
       "align_content": null,
       "align_items": null,
       "align_self": null,
       "border": null,
       "bottom": null,
       "display": null,
       "flex": null,
       "flex_flow": null,
       "grid_area": null,
       "grid_auto_columns": null,
       "grid_auto_flow": null,
       "grid_auto_rows": null,
       "grid_column": null,
       "grid_gap": null,
       "grid_row": null,
       "grid_template_areas": null,
       "grid_template_columns": null,
       "grid_template_rows": null,
       "height": null,
       "justify_content": null,
       "justify_items": null,
       "left": null,
       "margin": null,
       "max_height": null,
       "max_width": null,
       "min_height": null,
       "min_width": null,
       "object_fit": null,
       "object_position": null,
       "order": null,
       "overflow": null,
       "overflow_x": null,
       "overflow_y": null,
       "padding": null,
       "right": null,
       "top": null,
       "visibility": null,
       "width": null
      }
     },
     "95ddc37afda043bd9db3a9c868f82982": {
      "model_module": "@jupyter-widgets/controls",
      "model_module_version": "1.5.0",
      "model_name": "DescriptionStyleModel",
      "state": {
       "_model_module": "@jupyter-widgets/controls",
       "_model_module_version": "1.5.0",
       "_model_name": "DescriptionStyleModel",
       "_view_count": null,
       "_view_module": "@jupyter-widgets/base",
       "_view_module_version": "1.2.0",
       "_view_name": "StyleView",
       "description_width": ""
      }
     },
     "9a0d68da77954da7af0d88fedadd39b4": {
      "model_module": "@jupyter-widgets/controls",
      "model_module_version": "1.5.0",
      "model_name": "DescriptionStyleModel",
      "state": {
       "_model_module": "@jupyter-widgets/controls",
       "_model_module_version": "1.5.0",
       "_model_name": "DescriptionStyleModel",
       "_view_count": null,
       "_view_module": "@jupyter-widgets/base",
       "_view_module_version": "1.2.0",
       "_view_name": "StyleView",
       "description_width": ""
      }
     },
     "9a15ab13c25642368b9c41ef351b1d5c": {
      "model_module": "@jupyter-widgets/controls",
      "model_module_version": "1.5.0",
      "model_name": "HTMLModel",
      "state": {
       "_dom_classes": [],
       "_model_module": "@jupyter-widgets/controls",
       "_model_module_version": "1.5.0",
       "_model_name": "HTMLModel",
       "_view_count": null,
       "_view_module": "@jupyter-widgets/controls",
       "_view_module_version": "1.5.0",
       "_view_name": "HTMLView",
       "description": "",
       "description_tooltip": null,
       "layout": "IPY_MODEL_6c4e69bf4953462faf845ef21b409aaf",
       "placeholder": "​",
       "style": "IPY_MODEL_29ed5783bb994b6397ee82ab18c6cbed",
       "value": " 45055/50000 [00:00&lt;00:00, 124055.93 examples/s]"
      }
     },
     "9a56460c2efc48198e31ecc9b6e32e09": {
      "model_module": "@jupyter-widgets/base",
      "model_module_version": "1.2.0",
      "model_name": "LayoutModel",
      "state": {
       "_model_module": "@jupyter-widgets/base",
       "_model_module_version": "1.2.0",
       "_model_name": "LayoutModel",
       "_view_count": null,
       "_view_module": "@jupyter-widgets/base",
       "_view_module_version": "1.2.0",
       "_view_name": "LayoutView",
       "align_content": null,
       "align_items": null,
       "align_self": null,
       "border": null,
       "bottom": null,
       "display": null,
       "flex": null,
       "flex_flow": null,
       "grid_area": null,
       "grid_auto_columns": null,
       "grid_auto_flow": null,
       "grid_auto_rows": null,
       "grid_column": null,
       "grid_gap": null,
       "grid_row": null,
       "grid_template_areas": null,
       "grid_template_columns": null,
       "grid_template_rows": null,
       "height": null,
       "justify_content": null,
       "justify_items": null,
       "left": null,
       "margin": null,
       "max_height": null,
       "max_width": null,
       "min_height": null,
       "min_width": null,
       "object_fit": null,
       "object_position": null,
       "order": null,
       "overflow": null,
       "overflow_x": null,
       "overflow_y": null,
       "padding": null,
       "right": null,
       "top": null,
       "visibility": null,
       "width": null
      }
     },
     "9c172bb5339e455bba674e9eb4f34829": {
      "model_module": "@jupyter-widgets/base",
      "model_module_version": "1.2.0",
      "model_name": "LayoutModel",
      "state": {
       "_model_module": "@jupyter-widgets/base",
       "_model_module_version": "1.2.0",
       "_model_name": "LayoutModel",
       "_view_count": null,
       "_view_module": "@jupyter-widgets/base",
       "_view_module_version": "1.2.0",
       "_view_name": "LayoutView",
       "align_content": null,
       "align_items": null,
       "align_self": null,
       "border": null,
       "bottom": null,
       "display": null,
       "flex": null,
       "flex_flow": null,
       "grid_area": null,
       "grid_auto_columns": null,
       "grid_auto_flow": null,
       "grid_auto_rows": null,
       "grid_column": null,
       "grid_gap": null,
       "grid_row": null,
       "grid_template_areas": null,
       "grid_template_columns": null,
       "grid_template_rows": null,
       "height": null,
       "justify_content": null,
       "justify_items": null,
       "left": null,
       "margin": null,
       "max_height": null,
       "max_width": null,
       "min_height": null,
       "min_width": null,
       "object_fit": null,
       "object_position": null,
       "order": null,
       "overflow": null,
       "overflow_x": null,
       "overflow_y": null,
       "padding": null,
       "right": null,
       "top": null,
       "visibility": null,
       "width": null
      }
     },
     "9c9d4ca11763414a9f0d62cfb2f62998": {
      "model_module": "@jupyter-widgets/controls",
      "model_module_version": "1.5.0",
      "model_name": "ProgressStyleModel",
      "state": {
       "_model_module": "@jupyter-widgets/controls",
       "_model_module_version": "1.5.0",
       "_model_name": "ProgressStyleModel",
       "_view_count": null,
       "_view_module": "@jupyter-widgets/base",
       "_view_module_version": "1.2.0",
       "_view_name": "StyleView",
       "bar_color": null,
       "description_width": ""
      }
     },
     "9d847bd141c44b27ad9a8ca1c4fd578c": {
      "model_module": "@jupyter-widgets/controls",
      "model_module_version": "1.5.0",
      "model_name": "HBoxModel",
      "state": {
       "_dom_classes": [],
       "_model_module": "@jupyter-widgets/controls",
       "_model_module_version": "1.5.0",
       "_model_name": "HBoxModel",
       "_view_count": null,
       "_view_module": "@jupyter-widgets/controls",
       "_view_module_version": "1.5.0",
       "_view_name": "HBoxView",
       "box_style": "",
       "children": [
        "IPY_MODEL_f56451f4add74c60872e7764b39d03a8",
        "IPY_MODEL_2d3eaf708c69491f948c45e3bd4e6135",
        "IPY_MODEL_4a026146db5e4d968a3563c38fa03702"
       ],
       "layout": "IPY_MODEL_2ca8ff677a8c4906820f460d8ed18ac0"
      }
     },
     "9eb869765d54477792c8fd0f97a81005": {
      "model_module": "@jupyter-widgets/controls",
      "model_module_version": "1.5.0",
      "model_name": "HTMLModel",
      "state": {
       "_dom_classes": [],
       "_model_module": "@jupyter-widgets/controls",
       "_model_module_version": "1.5.0",
       "_model_name": "HTMLModel",
       "_view_count": null,
       "_view_module": "@jupyter-widgets/controls",
       "_view_module_version": "1.5.0",
       "_view_name": "HTMLView",
       "description": "",
       "description_tooltip": null,
       "layout": "IPY_MODEL_3be4033b4cc0484a931e484a8d0fd018",
       "placeholder": "​",
       "style": "IPY_MODEL_7300694969ce47f687a28ab842dad5d1",
       "value": " 12515/25000 [00:00&lt;00:00, 125121.78 examples/s]"
      }
     },
     "9f81c21b913f4fe78fc488d552cb58cf": {
      "model_module": "@jupyter-widgets/controls",
      "model_module_version": "1.5.0",
      "model_name": "HTMLModel",
      "state": {
       "_dom_classes": [],
       "_model_module": "@jupyter-widgets/controls",
       "_model_module_version": "1.5.0",
       "_model_name": "HTMLModel",
       "_view_count": null,
       "_view_module": "@jupyter-widgets/controls",
       "_view_module_version": "1.5.0",
       "_view_name": "HTMLView",
       "description": "",
       "description_tooltip": null,
       "layout": "IPY_MODEL_9466f76a7754477ab26deb03bb5ab6fe",
       "placeholder": "​",
       "style": "IPY_MODEL_9a0d68da77954da7af0d88fedadd39b4",
       "value": " 11363/25000 [00:00&lt;00:00, 113601.13 examples/s]"
      }
     },
     "a0ed6e5d0268430f9dd0535286fea220": {
      "model_module": "@jupyter-widgets/controls",
      "model_module_version": "1.5.0",
      "model_name": "HTMLModel",
      "state": {
       "_dom_classes": [],
       "_model_module": "@jupyter-widgets/controls",
       "_model_module_version": "1.5.0",
       "_model_name": "HTMLModel",
       "_view_count": null,
       "_view_module": "@jupyter-widgets/controls",
       "_view_module_version": "1.5.0",
       "_view_name": "HTMLView",
       "description": "",
       "description_tooltip": null,
       "layout": "IPY_MODEL_2fe89ebaf5e34c6f8340cc40c2324f48",
       "placeholder": "​",
       "style": "IPY_MODEL_4857483f67f040f39f51222b54b094e4",
       "value": "Generating splits...: 100%"
      }
     },
     "a106582872e44a2395748cb92101f0f2": {
      "model_module": "@jupyter-widgets/controls",
      "model_module_version": "1.5.0",
      "model_name": "DescriptionStyleModel",
      "state": {
       "_model_module": "@jupyter-widgets/controls",
       "_model_module_version": "1.5.0",
       "_model_name": "DescriptionStyleModel",
       "_view_count": null,
       "_view_module": "@jupyter-widgets/base",
       "_view_module_version": "1.2.0",
       "_view_name": "StyleView",
       "description_width": ""
      }
     },
     "a10ead3afffb4ed3b01d738432aaa1c7": {
      "model_module": "@jupyter-widgets/controls",
      "model_module_version": "1.5.0",
      "model_name": "DescriptionStyleModel",
      "state": {
       "_model_module": "@jupyter-widgets/controls",
       "_model_module_version": "1.5.0",
       "_model_name": "DescriptionStyleModel",
       "_view_count": null,
       "_view_module": "@jupyter-widgets/base",
       "_view_module_version": "1.2.0",
       "_view_name": "StyleView",
       "description_width": ""
      }
     },
     "a1dcc7be5b7846f3b904d162eb8f9df5": {
      "model_module": "@jupyter-widgets/controls",
      "model_module_version": "1.5.0",
      "model_name": "ProgressStyleModel",
      "state": {
       "_model_module": "@jupyter-widgets/controls",
       "_model_module_version": "1.5.0",
       "_model_name": "ProgressStyleModel",
       "_view_count": null,
       "_view_module": "@jupyter-widgets/base",
       "_view_module_version": "1.2.0",
       "_view_name": "StyleView",
       "bar_color": null,
       "description_width": ""
      }
     },
     "a1f163cfceaa4f0c9aea9227254b2640": {
      "model_module": "@jupyter-widgets/controls",
      "model_module_version": "1.5.0",
      "model_name": "FloatProgressModel",
      "state": {
       "_dom_classes": [],
       "_model_module": "@jupyter-widgets/controls",
       "_model_module_version": "1.5.0",
       "_model_name": "FloatProgressModel",
       "_view_count": null,
       "_view_module": "@jupyter-widgets/controls",
       "_view_module_version": "1.5.0",
       "_view_name": "ProgressView",
       "bar_style": "",
       "description": "",
       "description_tooltip": null,
       "layout": "IPY_MODEL_689c2b616f164b2d9a100098aafe5388",
       "max": 50000.0,
       "min": 0.0,
       "orientation": "horizontal",
       "style": "IPY_MODEL_e974fa17b0fa4066a49458c1e6090b91",
       "value": 50000.0
      }
     },
     "a4018a0f966d435d96b058ce12ed6828": {
      "model_module": "@jupyter-widgets/controls",
      "model_module_version": "1.5.0",
      "model_name": "DescriptionStyleModel",
      "state": {
       "_model_module": "@jupyter-widgets/controls",
       "_model_module_version": "1.5.0",
       "_model_name": "DescriptionStyleModel",
       "_view_count": null,
       "_view_module": "@jupyter-widgets/base",
       "_view_module_version": "1.2.0",
       "_view_name": "StyleView",
       "description_width": ""
      }
     },
     "a49de15a3143448eacfe39b013c49ccf": {
      "model_module": "@jupyter-widgets/base",
      "model_module_version": "1.2.0",
      "model_name": "LayoutModel",
      "state": {
       "_model_module": "@jupyter-widgets/base",
       "_model_module_version": "1.2.0",
       "_model_name": "LayoutModel",
       "_view_count": null,
       "_view_module": "@jupyter-widgets/base",
       "_view_module_version": "1.2.0",
       "_view_name": "LayoutView",
       "align_content": null,
       "align_items": null,
       "align_self": null,
       "border": null,
       "bottom": null,
       "display": null,
       "flex": null,
       "flex_flow": null,
       "grid_area": null,
       "grid_auto_columns": null,
       "grid_auto_flow": null,
       "grid_auto_rows": null,
       "grid_column": null,
       "grid_gap": null,
       "grid_row": null,
       "grid_template_areas": null,
       "grid_template_columns": null,
       "grid_template_rows": null,
       "height": null,
       "justify_content": null,
       "justify_items": null,
       "left": null,
       "margin": null,
       "max_height": null,
       "max_width": null,
       "min_height": null,
       "min_width": null,
       "object_fit": null,
       "object_position": null,
       "order": null,
       "overflow": null,
       "overflow_x": null,
       "overflow_y": null,
       "padding": null,
       "right": null,
       "top": null,
       "visibility": null,
       "width": null
      }
     },
     "a55f37fcea464b67994e0dfd9bb9e440": {
      "model_module": "@jupyter-widgets/controls",
      "model_module_version": "1.5.0",
      "model_name": "HTMLModel",
      "state": {
       "_dom_classes": [],
       "_model_module": "@jupyter-widgets/controls",
       "_model_module_version": "1.5.0",
       "_model_name": "HTMLModel",
       "_view_count": null,
       "_view_module": "@jupyter-widgets/controls",
       "_view_module_version": "1.5.0",
       "_view_name": "HTMLView",
       "description": "",
       "description_tooltip": null,
       "layout": "IPY_MODEL_1482f370a6d4443da39e09e481652292",
       "placeholder": "​",
       "style": "IPY_MODEL_5bb4c6f5b2aa4c12b9cadaacb458bf26",
       "value": " 24648/25000 [00:10&lt;00:00, 3712.42 examples/s]"
      }
     },
     "a561ae71b79f447f82ed80c81027551c": {
      "model_module": "@jupyter-widgets/controls",
      "model_module_version": "1.5.0",
      "model_name": "HTMLModel",
      "state": {
       "_dom_classes": [],
       "_model_module": "@jupyter-widgets/controls",
       "_model_module_version": "1.5.0",
       "_model_name": "HTMLModel",
       "_view_count": null,
       "_view_module": "@jupyter-widgets/controls",
       "_view_module_version": "1.5.0",
       "_view_name": "HTMLView",
       "description": "",
       "description_tooltip": null,
       "layout": "IPY_MODEL_a9152dff581c4578a1ba56118e281054",
       "placeholder": "​",
       "style": "IPY_MODEL_029eddc9a81f48c29f133566bc0324ac",
       "value": " 80/80 [00:20&lt;00:00,  6.75 MiB/s]"
      }
     },
     "a9152dff581c4578a1ba56118e281054": {
      "model_module": "@jupyter-widgets/base",
      "model_module_version": "1.2.0",
      "model_name": "LayoutModel",
      "state": {
       "_model_module": "@jupyter-widgets/base",
       "_model_module_version": "1.2.0",
       "_model_name": "LayoutModel",
       "_view_count": null,
       "_view_module": "@jupyter-widgets/base",
       "_view_module_version": "1.2.0",
       "_view_name": "LayoutView",
       "align_content": null,
       "align_items": null,
       "align_self": null,
       "border": null,
       "bottom": null,
       "display": null,
       "flex": null,
       "flex_flow": null,
       "grid_area": null,
       "grid_auto_columns": null,
       "grid_auto_flow": null,
       "grid_auto_rows": null,
       "grid_column": null,
       "grid_gap": null,
       "grid_row": null,
       "grid_template_areas": null,
       "grid_template_columns": null,
       "grid_template_rows": null,
       "height": null,
       "justify_content": null,
       "justify_items": null,
       "left": null,
       "margin": null,
       "max_height": null,
       "max_width": null,
       "min_height": null,
       "min_width": null,
       "object_fit": null,
       "object_position": null,
       "order": null,
       "overflow": null,
       "overflow_x": null,
       "overflow_y": null,
       "padding": null,
       "right": null,
       "top": null,
       "visibility": null,
       "width": null
      }
     },
     "aa790750a8ff41069610868392d365af": {
      "model_module": "@jupyter-widgets/base",
      "model_module_version": "1.2.0",
      "model_name": "LayoutModel",
      "state": {
       "_model_module": "@jupyter-widgets/base",
       "_model_module_version": "1.2.0",
       "_model_name": "LayoutModel",
       "_view_count": null,
       "_view_module": "@jupyter-widgets/base",
       "_view_module_version": "1.2.0",
       "_view_name": "LayoutView",
       "align_content": null,
       "align_items": null,
       "align_self": null,
       "border": null,
       "bottom": null,
       "display": null,
       "flex": null,
       "flex_flow": null,
       "grid_area": null,
       "grid_auto_columns": null,
       "grid_auto_flow": null,
       "grid_auto_rows": null,
       "grid_column": null,
       "grid_gap": null,
       "grid_row": null,
       "grid_template_areas": null,
       "grid_template_columns": null,
       "grid_template_rows": null,
       "height": null,
       "justify_content": null,
       "justify_items": null,
       "left": null,
       "margin": null,
       "max_height": null,
       "max_width": null,
       "min_height": null,
       "min_width": null,
       "object_fit": null,
       "object_position": null,
       "order": null,
       "overflow": null,
       "overflow_x": null,
       "overflow_y": null,
       "padding": null,
       "right": null,
       "top": null,
       "visibility": null,
       "width": null
      }
     },
     "aa981e637aed4a199f5bdd6a0c0dd1fd": {
      "model_module": "@jupyter-widgets/controls",
      "model_module_version": "1.5.0",
      "model_name": "HTMLModel",
      "state": {
       "_dom_classes": [],
       "_model_module": "@jupyter-widgets/controls",
       "_model_module_version": "1.5.0",
       "_model_name": "HTMLModel",
       "_view_count": null,
       "_view_module": "@jupyter-widgets/controls",
       "_view_module_version": "1.5.0",
       "_view_name": "HTMLView",
       "description": "",
       "description_tooltip": null,
       "layout": "IPY_MODEL_f366eed28dfe40eea9074545613cc9fb",
       "placeholder": "​",
       "style": "IPY_MODEL_95ddc37afda043bd9db3a9c868f82982",
       "value": "Shuffling /root/tensorflow_datasets/imdb_reviews/plain_text/1.0.0.incomplete545XHZ/imdb_reviews-unsupervised.tfrecord*...:  90%"
      }
     },
     "aaad3821bc564cb185ac65d960ba8408": {
      "model_module": "@jupyter-widgets/base",
      "model_module_version": "1.2.0",
      "model_name": "LayoutModel",
      "state": {
       "_model_module": "@jupyter-widgets/base",
       "_model_module_version": "1.2.0",
       "_model_name": "LayoutModel",
       "_view_count": null,
       "_view_module": "@jupyter-widgets/base",
       "_view_module_version": "1.2.0",
       "_view_name": "LayoutView",
       "align_content": null,
       "align_items": null,
       "align_self": null,
       "border": null,
       "bottom": null,
       "display": null,
       "flex": null,
       "flex_flow": null,
       "grid_area": null,
       "grid_auto_columns": null,
       "grid_auto_flow": null,
       "grid_auto_rows": null,
       "grid_column": null,
       "grid_gap": null,
       "grid_row": null,
       "grid_template_areas": null,
       "grid_template_columns": null,
       "grid_template_rows": null,
       "height": null,
       "justify_content": null,
       "justify_items": null,
       "left": null,
       "margin": null,
       "max_height": null,
       "max_width": null,
       "min_height": null,
       "min_width": null,
       "object_fit": null,
       "object_position": null,
       "order": null,
       "overflow": null,
       "overflow_x": null,
       "overflow_y": null,
       "padding": null,
       "right": null,
       "top": null,
       "visibility": "hidden",
       "width": null
      }
     },
     "aaba038c57d94835afbcd6083ac57c58": {
      "model_module": "@jupyter-widgets/controls",
      "model_module_version": "1.5.0",
      "model_name": "HTMLModel",
      "state": {
       "_dom_classes": [],
       "_model_module": "@jupyter-widgets/controls",
       "_model_module_version": "1.5.0",
       "_model_name": "HTMLModel",
       "_view_count": null,
       "_view_module": "@jupyter-widgets/controls",
       "_view_module_version": "1.5.0",
       "_view_name": "HTMLView",
       "description": "",
       "description_tooltip": null,
       "layout": "IPY_MODEL_9c172bb5339e455bba674e9eb4f34829",
       "placeholder": "​",
       "style": "IPY_MODEL_32b93871d5604dada2bfc0f158831cec",
       "value": "Dl Size...: 100%"
      }
     },
     "ab11d022a52d430d95f56c088c5e29cc": {
      "model_module": "@jupyter-widgets/base",
      "model_module_version": "1.2.0",
      "model_name": "LayoutModel",
      "state": {
       "_model_module": "@jupyter-widgets/base",
       "_model_module_version": "1.2.0",
       "_model_name": "LayoutModel",
       "_view_count": null,
       "_view_module": "@jupyter-widgets/base",
       "_view_module_version": "1.2.0",
       "_view_name": "LayoutView",
       "align_content": null,
       "align_items": null,
       "align_self": null,
       "border": null,
       "bottom": null,
       "display": null,
       "flex": null,
       "flex_flow": null,
       "grid_area": null,
       "grid_auto_columns": null,
       "grid_auto_flow": null,
       "grid_auto_rows": null,
       "grid_column": null,
       "grid_gap": null,
       "grid_row": null,
       "grid_template_areas": null,
       "grid_template_columns": null,
       "grid_template_rows": null,
       "height": null,
       "justify_content": null,
       "justify_items": null,
       "left": null,
       "margin": null,
       "max_height": null,
       "max_width": null,
       "min_height": null,
       "min_width": null,
       "object_fit": null,
       "object_position": null,
       "order": null,
       "overflow": null,
       "overflow_x": null,
       "overflow_y": null,
       "padding": null,
       "right": null,
       "top": null,
       "visibility": null,
       "width": null
      }
     },
     "ac90ca3597854bc68aadc95c4ef91c55": {
      "model_module": "@jupyter-widgets/base",
      "model_module_version": "1.2.0",
      "model_name": "LayoutModel",
      "state": {
       "_model_module": "@jupyter-widgets/base",
       "_model_module_version": "1.2.0",
       "_model_name": "LayoutModel",
       "_view_count": null,
       "_view_module": "@jupyter-widgets/base",
       "_view_module_version": "1.2.0",
       "_view_name": "LayoutView",
       "align_content": null,
       "align_items": null,
       "align_self": null,
       "border": null,
       "bottom": null,
       "display": null,
       "flex": null,
       "flex_flow": null,
       "grid_area": null,
       "grid_auto_columns": null,
       "grid_auto_flow": null,
       "grid_auto_rows": null,
       "grid_column": null,
       "grid_gap": null,
       "grid_row": null,
       "grid_template_areas": null,
       "grid_template_columns": null,
       "grid_template_rows": null,
       "height": null,
       "justify_content": null,
       "justify_items": null,
       "left": null,
       "margin": null,
       "max_height": null,
       "max_width": null,
       "min_height": null,
       "min_width": null,
       "object_fit": null,
       "object_position": null,
       "order": null,
       "overflow": null,
       "overflow_x": null,
       "overflow_y": null,
       "padding": null,
       "right": null,
       "top": null,
       "visibility": "hidden",
       "width": null
      }
     },
     "ad04d454b35e4666a3fd861fa5939692": {
      "model_module": "@jupyter-widgets/base",
      "model_module_version": "1.2.0",
      "model_name": "LayoutModel",
      "state": {
       "_model_module": "@jupyter-widgets/base",
       "_model_module_version": "1.2.0",
       "_model_name": "LayoutModel",
       "_view_count": null,
       "_view_module": "@jupyter-widgets/base",
       "_view_module_version": "1.2.0",
       "_view_name": "LayoutView",
       "align_content": null,
       "align_items": null,
       "align_self": null,
       "border": null,
       "bottom": null,
       "display": null,
       "flex": null,
       "flex_flow": null,
       "grid_area": null,
       "grid_auto_columns": null,
       "grid_auto_flow": null,
       "grid_auto_rows": null,
       "grid_column": null,
       "grid_gap": null,
       "grid_row": null,
       "grid_template_areas": null,
       "grid_template_columns": null,
       "grid_template_rows": null,
       "height": null,
       "justify_content": null,
       "justify_items": null,
       "left": null,
       "margin": null,
       "max_height": null,
       "max_width": null,
       "min_height": null,
       "min_width": null,
       "object_fit": null,
       "object_position": null,
       "order": null,
       "overflow": null,
       "overflow_x": null,
       "overflow_y": null,
       "padding": null,
       "right": null,
       "top": null,
       "visibility": null,
       "width": null
      }
     },
     "ae9fd07390cd47b7bbcca6278063236e": {
      "model_module": "@jupyter-widgets/controls",
      "model_module_version": "1.5.0",
      "model_name": "DescriptionStyleModel",
      "state": {
       "_model_module": "@jupyter-widgets/controls",
       "_model_module_version": "1.5.0",
       "_model_name": "DescriptionStyleModel",
       "_view_count": null,
       "_view_module": "@jupyter-widgets/base",
       "_view_module_version": "1.2.0",
       "_view_name": "StyleView",
       "description_width": ""
      }
     },
     "aea23a351840497b81ba4ad93806679c": {
      "model_module": "@jupyter-widgets/controls",
      "model_module_version": "1.5.0",
      "model_name": "ProgressStyleModel",
      "state": {
       "_model_module": "@jupyter-widgets/controls",
       "_model_module_version": "1.5.0",
       "_model_name": "ProgressStyleModel",
       "_view_count": null,
       "_view_module": "@jupyter-widgets/base",
       "_view_module_version": "1.2.0",
       "_view_name": "StyleView",
       "bar_color": null,
       "description_width": ""
      }
     },
     "b1d2b5e329684ce38ed1fcf7f5512f6c": {
      "model_module": "@jupyter-widgets/base",
      "model_module_version": "1.2.0",
      "model_name": "LayoutModel",
      "state": {
       "_model_module": "@jupyter-widgets/base",
       "_model_module_version": "1.2.0",
       "_model_name": "LayoutModel",
       "_view_count": null,
       "_view_module": "@jupyter-widgets/base",
       "_view_module_version": "1.2.0",
       "_view_name": "LayoutView",
       "align_content": null,
       "align_items": null,
       "align_self": null,
       "border": null,
       "bottom": null,
       "display": null,
       "flex": null,
       "flex_flow": null,
       "grid_area": null,
       "grid_auto_columns": null,
       "grid_auto_flow": null,
       "grid_auto_rows": null,
       "grid_column": null,
       "grid_gap": null,
       "grid_row": null,
       "grid_template_areas": null,
       "grid_template_columns": null,
       "grid_template_rows": null,
       "height": null,
       "justify_content": null,
       "justify_items": null,
       "left": null,
       "margin": null,
       "max_height": null,
       "max_width": null,
       "min_height": null,
       "min_width": null,
       "object_fit": null,
       "object_position": null,
       "order": null,
       "overflow": null,
       "overflow_x": null,
       "overflow_y": null,
       "padding": null,
       "right": null,
       "top": null,
       "visibility": null,
       "width": null
      }
     },
     "b2ada995f89d44a8815bda28624ae3a1": {
      "model_module": "@jupyter-widgets/controls",
      "model_module_version": "1.5.0",
      "model_name": "DescriptionStyleModel",
      "state": {
       "_model_module": "@jupyter-widgets/controls",
       "_model_module_version": "1.5.0",
       "_model_name": "DescriptionStyleModel",
       "_view_count": null,
       "_view_module": "@jupyter-widgets/base",
       "_view_module_version": "1.2.0",
       "_view_name": "StyleView",
       "description_width": ""
      }
     },
     "b2d793bf4c004d07801fd6d0526af665": {
      "model_module": "@jupyter-widgets/base",
      "model_module_version": "1.2.0",
      "model_name": "LayoutModel",
      "state": {
       "_model_module": "@jupyter-widgets/base",
       "_model_module_version": "1.2.0",
       "_model_name": "LayoutModel",
       "_view_count": null,
       "_view_module": "@jupyter-widgets/base",
       "_view_module_version": "1.2.0",
       "_view_name": "LayoutView",
       "align_content": null,
       "align_items": null,
       "align_self": null,
       "border": null,
       "bottom": null,
       "display": null,
       "flex": null,
       "flex_flow": null,
       "grid_area": null,
       "grid_auto_columns": null,
       "grid_auto_flow": null,
       "grid_auto_rows": null,
       "grid_column": null,
       "grid_gap": null,
       "grid_row": null,
       "grid_template_areas": null,
       "grid_template_columns": null,
       "grid_template_rows": null,
       "height": null,
       "justify_content": null,
       "justify_items": null,
       "left": null,
       "margin": null,
       "max_height": null,
       "max_width": null,
       "min_height": null,
       "min_width": null,
       "object_fit": null,
       "object_position": null,
       "order": null,
       "overflow": null,
       "overflow_x": null,
       "overflow_y": null,
       "padding": null,
       "right": null,
       "top": null,
       "visibility": null,
       "width": null
      }
     },
     "b2f4131dc0d2457e92518791e43241e4": {
      "model_module": "@jupyter-widgets/base",
      "model_module_version": "1.2.0",
      "model_name": "LayoutModel",
      "state": {
       "_model_module": "@jupyter-widgets/base",
       "_model_module_version": "1.2.0",
       "_model_name": "LayoutModel",
       "_view_count": null,
       "_view_module": "@jupyter-widgets/base",
       "_view_module_version": "1.2.0",
       "_view_name": "LayoutView",
       "align_content": null,
       "align_items": null,
       "align_self": null,
       "border": null,
       "bottom": null,
       "display": null,
       "flex": null,
       "flex_flow": null,
       "grid_area": null,
       "grid_auto_columns": null,
       "grid_auto_flow": null,
       "grid_auto_rows": null,
       "grid_column": null,
       "grid_gap": null,
       "grid_row": null,
       "grid_template_areas": null,
       "grid_template_columns": null,
       "grid_template_rows": null,
       "height": null,
       "justify_content": null,
       "justify_items": null,
       "left": null,
       "margin": null,
       "max_height": null,
       "max_width": null,
       "min_height": null,
       "min_width": null,
       "object_fit": null,
       "object_position": null,
       "order": null,
       "overflow": null,
       "overflow_x": null,
       "overflow_y": null,
       "padding": null,
       "right": null,
       "top": null,
       "visibility": null,
       "width": null
      }
     },
     "b65fdeacada741788ad1b599faa236af": {
      "model_module": "@jupyter-widgets/controls",
      "model_module_version": "1.5.0",
      "model_name": "DescriptionStyleModel",
      "state": {
       "_model_module": "@jupyter-widgets/controls",
       "_model_module_version": "1.5.0",
       "_model_name": "DescriptionStyleModel",
       "_view_count": null,
       "_view_module": "@jupyter-widgets/base",
       "_view_module_version": "1.2.0",
       "_view_name": "StyleView",
       "description_width": ""
      }
     },
     "b8ed697d6b60465ebe50a4af156501fd": {
      "model_module": "@jupyter-widgets/controls",
      "model_module_version": "1.5.0",
      "model_name": "HTMLModel",
      "state": {
       "_dom_classes": [],
       "_model_module": "@jupyter-widgets/controls",
       "_model_module_version": "1.5.0",
       "_model_name": "HTMLModel",
       "_view_count": null,
       "_view_module": "@jupyter-widgets/controls",
       "_view_module_version": "1.5.0",
       "_view_name": "HTMLView",
       "description": "",
       "description_tooltip": null,
       "layout": "IPY_MODEL_784948d6818f415c850da90a44a7bd69",
       "placeholder": "​",
       "style": "IPY_MODEL_1f690ab4dea54dd4b190dbe57a9f28ca",
       "value": "Shuffling /root/tensorflow_datasets/imdb_reviews/plain_text/1.0.0.incomplete545XHZ/imdb_reviews-test.tfrecord*...:  96%"
      }
     },
     "b93c34e86dc94438b6d519af5a56f80e": {
      "model_module": "@jupyter-widgets/base",
      "model_module_version": "1.2.0",
      "model_name": "LayoutModel",
      "state": {
       "_model_module": "@jupyter-widgets/base",
       "_model_module_version": "1.2.0",
       "_model_name": "LayoutModel",
       "_view_count": null,
       "_view_module": "@jupyter-widgets/base",
       "_view_module_version": "1.2.0",
       "_view_name": "LayoutView",
       "align_content": null,
       "align_items": null,
       "align_self": null,
       "border": null,
       "bottom": null,
       "display": null,
       "flex": null,
       "flex_flow": null,
       "grid_area": null,
       "grid_auto_columns": null,
       "grid_auto_flow": null,
       "grid_auto_rows": null,
       "grid_column": null,
       "grid_gap": null,
       "grid_row": null,
       "grid_template_areas": null,
       "grid_template_columns": null,
       "grid_template_rows": null,
       "height": null,
       "justify_content": null,
       "justify_items": null,
       "left": null,
       "margin": null,
       "max_height": null,
       "max_width": null,
       "min_height": null,
       "min_width": null,
       "object_fit": null,
       "object_position": null,
       "order": null,
       "overflow": null,
       "overflow_x": null,
       "overflow_y": null,
       "padding": null,
       "right": null,
       "top": null,
       "visibility": "hidden",
       "width": null
      }
     },
     "ba39c1566f4d44859ee23da6cdca8e66": {
      "model_module": "@jupyter-widgets/controls",
      "model_module_version": "1.5.0",
      "model_name": "HBoxModel",
      "state": {
       "_dom_classes": [],
       "_model_module": "@jupyter-widgets/controls",
       "_model_module_version": "1.5.0",
       "_model_name": "HBoxModel",
       "_view_count": null,
       "_view_module": "@jupyter-widgets/controls",
       "_view_module_version": "1.5.0",
       "_view_name": "HBoxView",
       "box_style": "",
       "children": [
        "IPY_MODEL_247a00411528404ab080f580fe1c9c86",
        "IPY_MODEL_f5d1fdf1139844b7a1b4142c4fbebdc2",
        "IPY_MODEL_a561ae71b79f447f82ed80c81027551c"
       ],
       "layout": "IPY_MODEL_9a56460c2efc48198e31ecc9b6e32e09"
      }
     },
     "c04bc827665b47c6af09d5ff0bf787b8": {
      "model_module": "@jupyter-widgets/base",
      "model_module_version": "1.2.0",
      "model_name": "LayoutModel",
      "state": {
       "_model_module": "@jupyter-widgets/base",
       "_model_module_version": "1.2.0",
       "_model_name": "LayoutModel",
       "_view_count": null,
       "_view_module": "@jupyter-widgets/base",
       "_view_module_version": "1.2.0",
       "_view_name": "LayoutView",
       "align_content": null,
       "align_items": null,
       "align_self": null,
       "border": null,
       "bottom": null,
       "display": null,
       "flex": null,
       "flex_flow": null,
       "grid_area": null,
       "grid_auto_columns": null,
       "grid_auto_flow": null,
       "grid_auto_rows": null,
       "grid_column": null,
       "grid_gap": null,
       "grid_row": null,
       "grid_template_areas": null,
       "grid_template_columns": null,
       "grid_template_rows": null,
       "height": null,
       "justify_content": null,
       "justify_items": null,
       "left": null,
       "margin": null,
       "max_height": null,
       "max_width": null,
       "min_height": null,
       "min_width": null,
       "object_fit": null,
       "object_position": null,
       "order": null,
       "overflow": null,
       "overflow_x": null,
       "overflow_y": null,
       "padding": null,
       "right": null,
       "top": null,
       "visibility": null,
       "width": null
      }
     },
     "c207e517a9b84dcaac11fddd0311dbda": {
      "model_module": "@jupyter-widgets/base",
      "model_module_version": "1.2.0",
      "model_name": "LayoutModel",
      "state": {
       "_model_module": "@jupyter-widgets/base",
       "_model_module_version": "1.2.0",
       "_model_name": "LayoutModel",
       "_view_count": null,
       "_view_module": "@jupyter-widgets/base",
       "_view_module_version": "1.2.0",
       "_view_name": "LayoutView",
       "align_content": null,
       "align_items": null,
       "align_self": null,
       "border": null,
       "bottom": null,
       "display": null,
       "flex": null,
       "flex_flow": null,
       "grid_area": null,
       "grid_auto_columns": null,
       "grid_auto_flow": null,
       "grid_auto_rows": null,
       "grid_column": null,
       "grid_gap": null,
       "grid_row": null,
       "grid_template_areas": null,
       "grid_template_columns": null,
       "grid_template_rows": null,
       "height": null,
       "justify_content": null,
       "justify_items": null,
       "left": null,
       "margin": null,
       "max_height": null,
       "max_width": null,
       "min_height": null,
       "min_width": null,
       "object_fit": null,
       "object_position": null,
       "order": null,
       "overflow": null,
       "overflow_x": null,
       "overflow_y": null,
       "padding": null,
       "right": null,
       "top": null,
       "visibility": null,
       "width": null
      }
     },
     "c231ff5417564d1c867f8974bc28e9fb": {
      "model_module": "@jupyter-widgets/controls",
      "model_module_version": "1.5.0",
      "model_name": "HTMLModel",
      "state": {
       "_dom_classes": [],
       "_model_module": "@jupyter-widgets/controls",
       "_model_module_version": "1.5.0",
       "_model_name": "HTMLModel",
       "_view_count": null,
       "_view_module": "@jupyter-widgets/controls",
       "_view_module_version": "1.5.0",
       "_view_name": "HTMLView",
       "description": "",
       "description_tooltip": null,
       "layout": "IPY_MODEL_4725441f8a034cd89b2a162b1256e9ee",
       "placeholder": "​",
       "style": "IPY_MODEL_189e3bcbb6a6414a88cc09a51aadd99b",
       "value": "Shuffling /root/tensorflow_datasets/imdb_reviews/plain_text/1.0.0.incomplete545XHZ/imdb_reviews-train.tfrecord*...:  96%"
      }
     },
     "c2fe362c5047490890af8ca78e66d60c": {
      "model_module": "@jupyter-widgets/controls",
      "model_module_version": "1.5.0",
      "model_name": "HTMLModel",
      "state": {
       "_dom_classes": [],
       "_model_module": "@jupyter-widgets/controls",
       "_model_module_version": "1.5.0",
       "_model_name": "HTMLModel",
       "_view_count": null,
       "_view_module": "@jupyter-widgets/controls",
       "_view_module_version": "1.5.0",
       "_view_name": "HTMLView",
       "description": "",
       "description_tooltip": null,
       "layout": "IPY_MODEL_e3a43724237f45c0a06aac01f746147d",
       "placeholder": "​",
       "style": "IPY_MODEL_ae9fd07390cd47b7bbcca6278063236e",
       "value": " 84125825/84125825 [00:00&lt;00:00, 3070898288.97 MiB/s]"
      }
     },
     "c66fb74eb61c40ca947cff33f5d2f470": {
      "model_module": "@jupyter-widgets/controls",
      "model_module_version": "1.5.0",
      "model_name": "DescriptionStyleModel",
      "state": {
       "_model_module": "@jupyter-widgets/controls",
       "_model_module_version": "1.5.0",
       "_model_name": "DescriptionStyleModel",
       "_view_count": null,
       "_view_module": "@jupyter-widgets/base",
       "_view_module_version": "1.2.0",
       "_view_name": "StyleView",
       "description_width": ""
      }
     },
     "c67e79a869504126a8f800bac5414c33": {
      "model_module": "@jupyter-widgets/controls",
      "model_module_version": "1.5.0",
      "model_name": "DescriptionStyleModel",
      "state": {
       "_model_module": "@jupyter-widgets/controls",
       "_model_module_version": "1.5.0",
       "_model_name": "DescriptionStyleModel",
       "_view_count": null,
       "_view_module": "@jupyter-widgets/base",
       "_view_module_version": "1.2.0",
       "_view_name": "StyleView",
       "description_width": ""
      }
     },
     "c7fdf3cd462f41a8b4abebf15cc513ba": {
      "model_module": "@jupyter-widgets/controls",
      "model_module_version": "1.5.0",
      "model_name": "HTMLModel",
      "state": {
       "_dom_classes": [],
       "_model_module": "@jupyter-widgets/controls",
       "_model_module_version": "1.5.0",
       "_model_name": "HTMLModel",
       "_view_count": null,
       "_view_module": "@jupyter-widgets/controls",
       "_view_module_version": "1.5.0",
       "_view_name": "HTMLView",
       "description": "",
       "description_tooltip": null,
       "layout": "IPY_MODEL_c04bc827665b47c6af09d5ff0bf787b8",
       "placeholder": "​",
       "style": "IPY_MODEL_e77f5dbd252d4103839488988428cc2d",
       "value": "Dl Completed...: 100%"
      }
     },
     "c810dd15cee94210bbfbd28fe53400fb": {
      "model_module": "@jupyter-widgets/base",
      "model_module_version": "1.2.0",
      "model_name": "LayoutModel",
      "state": {
       "_model_module": "@jupyter-widgets/base",
       "_model_module_version": "1.2.0",
       "_model_name": "LayoutModel",
       "_view_count": null,
       "_view_module": "@jupyter-widgets/base",
       "_view_module_version": "1.2.0",
       "_view_name": "LayoutView",
       "align_content": null,
       "align_items": null,
       "align_self": null,
       "border": null,
       "bottom": null,
       "display": null,
       "flex": null,
       "flex_flow": null,
       "grid_area": null,
       "grid_auto_columns": null,
       "grid_auto_flow": null,
       "grid_auto_rows": null,
       "grid_column": null,
       "grid_gap": null,
       "grid_row": null,
       "grid_template_areas": null,
       "grid_template_columns": null,
       "grid_template_rows": null,
       "height": null,
       "justify_content": null,
       "justify_items": null,
       "left": null,
       "margin": null,
       "max_height": null,
       "max_width": null,
       "min_height": null,
       "min_width": null,
       "object_fit": null,
       "object_position": null,
       "order": null,
       "overflow": null,
       "overflow_x": null,
       "overflow_y": null,
       "padding": null,
       "right": null,
       "top": null,
       "visibility": null,
       "width": null
      }
     },
     "c9d9f7769a8f4763a75aadd808a70d7c": {
      "model_module": "@jupyter-widgets/base",
      "model_module_version": "1.2.0",
      "model_name": "LayoutModel",
      "state": {
       "_model_module": "@jupyter-widgets/base",
       "_model_module_version": "1.2.0",
       "_model_name": "LayoutModel",
       "_view_count": null,
       "_view_module": "@jupyter-widgets/base",
       "_view_module_version": "1.2.0",
       "_view_name": "LayoutView",
       "align_content": null,
       "align_items": null,
       "align_self": null,
       "border": null,
       "bottom": null,
       "display": null,
       "flex": null,
       "flex_flow": null,
       "grid_area": null,
       "grid_auto_columns": null,
       "grid_auto_flow": null,
       "grid_auto_rows": null,
       "grid_column": null,
       "grid_gap": null,
       "grid_row": null,
       "grid_template_areas": null,
       "grid_template_columns": null,
       "grid_template_rows": null,
       "height": null,
       "justify_content": null,
       "justify_items": null,
       "left": null,
       "margin": null,
       "max_height": null,
       "max_width": null,
       "min_height": null,
       "min_width": null,
       "object_fit": null,
       "object_position": null,
       "order": null,
       "overflow": null,
       "overflow_x": null,
       "overflow_y": null,
       "padding": null,
       "right": null,
       "top": null,
       "visibility": null,
       "width": null
      }
     },
     "ca860a622eff4abfafdeebc7d5925055": {
      "model_module": "@jupyter-widgets/base",
      "model_module_version": "1.2.0",
      "model_name": "LayoutModel",
      "state": {
       "_model_module": "@jupyter-widgets/base",
       "_model_module_version": "1.2.0",
       "_model_name": "LayoutModel",
       "_view_count": null,
       "_view_module": "@jupyter-widgets/base",
       "_view_module_version": "1.2.0",
       "_view_name": "LayoutView",
       "align_content": null,
       "align_items": null,
       "align_self": null,
       "border": null,
       "bottom": null,
       "display": null,
       "flex": null,
       "flex_flow": null,
       "grid_area": null,
       "grid_auto_columns": null,
       "grid_auto_flow": null,
       "grid_auto_rows": null,
       "grid_column": null,
       "grid_gap": null,
       "grid_row": null,
       "grid_template_areas": null,
       "grid_template_columns": null,
       "grid_template_rows": null,
       "height": null,
       "justify_content": null,
       "justify_items": null,
       "left": null,
       "margin": null,
       "max_height": null,
       "max_width": null,
       "min_height": null,
       "min_width": null,
       "object_fit": null,
       "object_position": null,
       "order": null,
       "overflow": null,
       "overflow_x": null,
       "overflow_y": null,
       "padding": null,
       "right": null,
       "top": null,
       "visibility": null,
       "width": null
      }
     },
     "cd8a1af17c9d462ea3eae8495ed1c180": {
      "model_module": "@jupyter-widgets/controls",
      "model_module_version": "1.5.0",
      "model_name": "HBoxModel",
      "state": {
       "_dom_classes": [],
       "_model_module": "@jupyter-widgets/controls",
       "_model_module_version": "1.5.0",
       "_model_name": "HBoxModel",
       "_view_count": null,
       "_view_module": "@jupyter-widgets/controls",
       "_view_module_version": "1.5.0",
       "_view_name": "HBoxView",
       "box_style": "",
       "children": [
        "IPY_MODEL_c7fdf3cd462f41a8b4abebf15cc513ba",
        "IPY_MODEL_2a0dbe8ed3a24fecb6ad652f35c9d3fc",
        "IPY_MODEL_69352f706a564b2689cd9c02ce8391fc"
       ],
       "layout": "IPY_MODEL_ed052d10aca1452eb49d968e94846332"
      }
     },
     "cfe2218645994e34adfb4c57f84eb2e9": {
      "model_module": "@jupyter-widgets/controls",
      "model_module_version": "1.5.0",
      "model_name": "ProgressStyleModel",
      "state": {
       "_model_module": "@jupyter-widgets/controls",
       "_model_module_version": "1.5.0",
       "_model_name": "ProgressStyleModel",
       "_view_count": null,
       "_view_module": "@jupyter-widgets/base",
       "_view_module_version": "1.2.0",
       "_view_name": "StyleView",
       "bar_color": null,
       "description_width": ""
      }
     },
     "d1643df1c6344d21abf9664c43cfedb9": {
      "model_module": "@jupyter-widgets/controls",
      "model_module_version": "1.5.0",
      "model_name": "DescriptionStyleModel",
      "state": {
       "_model_module": "@jupyter-widgets/controls",
       "_model_module_version": "1.5.0",
       "_model_name": "DescriptionStyleModel",
       "_view_count": null,
       "_view_module": "@jupyter-widgets/base",
       "_view_module_version": "1.2.0",
       "_view_name": "StyleView",
       "description_width": ""
      }
     },
     "d1911866e59b49b9b47ca18a09043148": {
      "model_module": "@jupyter-widgets/base",
      "model_module_version": "1.2.0",
      "model_name": "LayoutModel",
      "state": {
       "_model_module": "@jupyter-widgets/base",
       "_model_module_version": "1.2.0",
       "_model_name": "LayoutModel",
       "_view_count": null,
       "_view_module": "@jupyter-widgets/base",
       "_view_module_version": "1.2.0",
       "_view_name": "LayoutView",
       "align_content": null,
       "align_items": null,
       "align_self": null,
       "border": null,
       "bottom": null,
       "display": null,
       "flex": null,
       "flex_flow": null,
       "grid_area": null,
       "grid_auto_columns": null,
       "grid_auto_flow": null,
       "grid_auto_rows": null,
       "grid_column": null,
       "grid_gap": null,
       "grid_row": null,
       "grid_template_areas": null,
       "grid_template_columns": null,
       "grid_template_rows": null,
       "height": null,
       "justify_content": null,
       "justify_items": null,
       "left": null,
       "margin": null,
       "max_height": null,
       "max_width": null,
       "min_height": null,
       "min_width": null,
       "object_fit": null,
       "object_position": null,
       "order": null,
       "overflow": null,
       "overflow_x": null,
       "overflow_y": null,
       "padding": null,
       "right": null,
       "top": null,
       "visibility": null,
       "width": null
      }
     },
     "d20ad5ef749848ebbdc27ba670d4fcad": {
      "model_module": "@jupyter-widgets/base",
      "model_module_version": "1.2.0",
      "model_name": "LayoutModel",
      "state": {
       "_model_module": "@jupyter-widgets/base",
       "_model_module_version": "1.2.0",
       "_model_name": "LayoutModel",
       "_view_count": null,
       "_view_module": "@jupyter-widgets/base",
       "_view_module_version": "1.2.0",
       "_view_name": "LayoutView",
       "align_content": null,
       "align_items": null,
       "align_self": null,
       "border": null,
       "bottom": null,
       "display": null,
       "flex": null,
       "flex_flow": null,
       "grid_area": null,
       "grid_auto_columns": null,
       "grid_auto_flow": null,
       "grid_auto_rows": null,
       "grid_column": null,
       "grid_gap": null,
       "grid_row": null,
       "grid_template_areas": null,
       "grid_template_columns": null,
       "grid_template_rows": null,
       "height": null,
       "justify_content": null,
       "justify_items": null,
       "left": null,
       "margin": null,
       "max_height": null,
       "max_width": null,
       "min_height": null,
       "min_width": null,
       "object_fit": null,
       "object_position": null,
       "order": null,
       "overflow": null,
       "overflow_x": null,
       "overflow_y": null,
       "padding": null,
       "right": null,
       "top": null,
       "visibility": null,
       "width": null
      }
     },
     "d50e992562054debbb8931cf9dae876d": {
      "model_module": "@jupyter-widgets/controls",
      "model_module_version": "1.5.0",
      "model_name": "FloatProgressModel",
      "state": {
       "_dom_classes": [],
       "_model_module": "@jupyter-widgets/controls",
       "_model_module_version": "1.5.0",
       "_model_name": "FloatProgressModel",
       "_view_count": null,
       "_view_module": "@jupyter-widgets/controls",
       "_view_module_version": "1.5.0",
       "_view_name": "ProgressView",
       "bar_style": "",
       "description": "",
       "description_tooltip": null,
       "layout": "IPY_MODEL_f39b51425ad14b3cb925b17b192f3e55",
       "max": 25000.0,
       "min": 0.0,
       "orientation": "horizontal",
       "style": "IPY_MODEL_066d721cd5964ef685c50ef484e9e935",
       "value": 25000.0
      }
     },
     "d848a7c3c9c74b55a4774bf1d1523f83": {
      "model_module": "@jupyter-widgets/base",
      "model_module_version": "1.2.0",
      "model_name": "LayoutModel",
      "state": {
       "_model_module": "@jupyter-widgets/base",
       "_model_module_version": "1.2.0",
       "_model_name": "LayoutModel",
       "_view_count": null,
       "_view_module": "@jupyter-widgets/base",
       "_view_module_version": "1.2.0",
       "_view_name": "LayoutView",
       "align_content": null,
       "align_items": null,
       "align_self": null,
       "border": null,
       "bottom": null,
       "display": null,
       "flex": null,
       "flex_flow": null,
       "grid_area": null,
       "grid_auto_columns": null,
       "grid_auto_flow": null,
       "grid_auto_rows": null,
       "grid_column": null,
       "grid_gap": null,
       "grid_row": null,
       "grid_template_areas": null,
       "grid_template_columns": null,
       "grid_template_rows": null,
       "height": null,
       "justify_content": null,
       "justify_items": null,
       "left": null,
       "margin": null,
       "max_height": null,
       "max_width": null,
       "min_height": null,
       "min_width": null,
       "object_fit": null,
       "object_position": null,
       "order": null,
       "overflow": null,
       "overflow_x": null,
       "overflow_y": null,
       "padding": null,
       "right": null,
       "top": null,
       "visibility": null,
       "width": null
      }
     },
     "da541b568c004f339bf170ac8c0ba99b": {
      "model_module": "@jupyter-widgets/controls",
      "model_module_version": "1.5.0",
      "model_name": "HBoxModel",
      "state": {
       "_dom_classes": [],
       "_model_module": "@jupyter-widgets/controls",
       "_model_module_version": "1.5.0",
       "_model_name": "HBoxModel",
       "_view_count": null,
       "_view_module": "@jupyter-widgets/controls",
       "_view_module_version": "1.5.0",
       "_view_name": "HBoxView",
       "box_style": "",
       "children": [
        "IPY_MODEL_aa981e637aed4a199f5bdd6a0c0dd1fd",
        "IPY_MODEL_0b8ef3de05b546099331d89e7c913b8c",
        "IPY_MODEL_9a15ab13c25642368b9c41ef351b1d5c"
       ],
       "layout": "IPY_MODEL_071a7db01b22471ea18b1b6e0bc49682"
      }
     },
     "dd52f0d4e2274822b1b32ef410b2983b": {
      "model_module": "@jupyter-widgets/base",
      "model_module_version": "1.2.0",
      "model_name": "LayoutModel",
      "state": {
       "_model_module": "@jupyter-widgets/base",
       "_model_module_version": "1.2.0",
       "_model_name": "LayoutModel",
       "_view_count": null,
       "_view_module": "@jupyter-widgets/base",
       "_view_module_version": "1.2.0",
       "_view_name": "LayoutView",
       "align_content": null,
       "align_items": null,
       "align_self": null,
       "border": null,
       "bottom": null,
       "display": null,
       "flex": null,
       "flex_flow": null,
       "grid_area": null,
       "grid_auto_columns": null,
       "grid_auto_flow": null,
       "grid_auto_rows": null,
       "grid_column": null,
       "grid_gap": null,
       "grid_row": null,
       "grid_template_areas": null,
       "grid_template_columns": null,
       "grid_template_rows": null,
       "height": null,
       "justify_content": null,
       "justify_items": null,
       "left": null,
       "margin": null,
       "max_height": null,
       "max_width": null,
       "min_height": null,
       "min_width": null,
       "object_fit": null,
       "object_position": null,
       "order": null,
       "overflow": null,
       "overflow_x": null,
       "overflow_y": null,
       "padding": null,
       "right": null,
       "top": null,
       "visibility": "hidden",
       "width": null
      }
     },
     "ddf221cd0a4d4cedacbdba1df1924d43": {
      "model_module": "@jupyter-widgets/controls",
      "model_module_version": "1.5.0",
      "model_name": "HBoxModel",
      "state": {
       "_dom_classes": [],
       "_model_module": "@jupyter-widgets/controls",
       "_model_module_version": "1.5.0",
       "_model_name": "HBoxModel",
       "_view_count": null,
       "_view_module": "@jupyter-widgets/controls",
       "_view_module_version": "1.5.0",
       "_view_name": "HBoxView",
       "box_style": "",
       "children": [
        "IPY_MODEL_1db3d89cb13e40b592008e285725fece",
        "IPY_MODEL_7009d09e71454303a7474416c2c98022",
        "IPY_MODEL_895dad189a3e4162966cb1c4ba432da8"
       ],
       "layout": "IPY_MODEL_0f509bb3ef45401c986544241dddf4e1"
      }
     },
     "decd23f46fca4436bb50fa0d3b8779d6": {
      "model_module": "@jupyter-widgets/base",
      "model_module_version": "1.2.0",
      "model_name": "LayoutModel",
      "state": {
       "_model_module": "@jupyter-widgets/base",
       "_model_module_version": "1.2.0",
       "_model_name": "LayoutModel",
       "_view_count": null,
       "_view_module": "@jupyter-widgets/base",
       "_view_module_version": "1.2.0",
       "_view_name": "LayoutView",
       "align_content": null,
       "align_items": null,
       "align_self": null,
       "border": null,
       "bottom": null,
       "display": null,
       "flex": null,
       "flex_flow": null,
       "grid_area": null,
       "grid_auto_columns": null,
       "grid_auto_flow": null,
       "grid_auto_rows": null,
       "grid_column": null,
       "grid_gap": null,
       "grid_row": null,
       "grid_template_areas": null,
       "grid_template_columns": null,
       "grid_template_rows": null,
       "height": null,
       "justify_content": null,
       "justify_items": null,
       "left": null,
       "margin": null,
       "max_height": null,
       "max_width": null,
       "min_height": null,
       "min_width": null,
       "object_fit": null,
       "object_position": null,
       "order": null,
       "overflow": null,
       "overflow_x": null,
       "overflow_y": null,
       "padding": null,
       "right": null,
       "top": null,
       "visibility": "hidden",
       "width": null
      }
     },
     "e1a29487f98c4f619063a4f279a6e343": {
      "model_module": "@jupyter-widgets/controls",
      "model_module_version": "1.5.0",
      "model_name": "ProgressStyleModel",
      "state": {
       "_model_module": "@jupyter-widgets/controls",
       "_model_module_version": "1.5.0",
       "_model_name": "ProgressStyleModel",
       "_view_count": null,
       "_view_module": "@jupyter-widgets/base",
       "_view_module_version": "1.2.0",
       "_view_name": "StyleView",
       "bar_color": null,
       "description_width": ""
      }
     },
     "e2326f71c7f5476b9757030bbc2d5449": {
      "model_module": "@jupyter-widgets/base",
      "model_module_version": "1.2.0",
      "model_name": "LayoutModel",
      "state": {
       "_model_module": "@jupyter-widgets/base",
       "_model_module_version": "1.2.0",
       "_model_name": "LayoutModel",
       "_view_count": null,
       "_view_module": "@jupyter-widgets/base",
       "_view_module_version": "1.2.0",
       "_view_name": "LayoutView",
       "align_content": null,
       "align_items": null,
       "align_self": null,
       "border": null,
       "bottom": null,
       "display": null,
       "flex": null,
       "flex_flow": null,
       "grid_area": null,
       "grid_auto_columns": null,
       "grid_auto_flow": null,
       "grid_auto_rows": null,
       "grid_column": null,
       "grid_gap": null,
       "grid_row": null,
       "grid_template_areas": null,
       "grid_template_columns": null,
       "grid_template_rows": null,
       "height": null,
       "justify_content": null,
       "justify_items": null,
       "left": null,
       "margin": null,
       "max_height": null,
       "max_width": null,
       "min_height": null,
       "min_width": null,
       "object_fit": null,
       "object_position": null,
       "order": null,
       "overflow": null,
       "overflow_x": null,
       "overflow_y": null,
       "padding": null,
       "right": null,
       "top": null,
       "visibility": null,
       "width": null
      }
     },
     "e27e06670e7f47e1b11bfd5c6f92a085": {
      "model_module": "@jupyter-widgets/base",
      "model_module_version": "1.2.0",
      "model_name": "LayoutModel",
      "state": {
       "_model_module": "@jupyter-widgets/base",
       "_model_module_version": "1.2.0",
       "_model_name": "LayoutModel",
       "_view_count": null,
       "_view_module": "@jupyter-widgets/base",
       "_view_module_version": "1.2.0",
       "_view_name": "LayoutView",
       "align_content": null,
       "align_items": null,
       "align_self": null,
       "border": null,
       "bottom": null,
       "display": null,
       "flex": null,
       "flex_flow": null,
       "grid_area": null,
       "grid_auto_columns": null,
       "grid_auto_flow": null,
       "grid_auto_rows": null,
       "grid_column": null,
       "grid_gap": null,
       "grid_row": null,
       "grid_template_areas": null,
       "grid_template_columns": null,
       "grid_template_rows": null,
       "height": null,
       "justify_content": null,
       "justify_items": null,
       "left": null,
       "margin": null,
       "max_height": null,
       "max_width": null,
       "min_height": null,
       "min_width": null,
       "object_fit": null,
       "object_position": null,
       "order": null,
       "overflow": null,
       "overflow_x": null,
       "overflow_y": null,
       "padding": null,
       "right": null,
       "top": null,
       "visibility": null,
       "width": null
      }
     },
     "e28980da9b474bbeb6698e67e25e1cf9": {
      "model_module": "@jupyter-widgets/base",
      "model_module_version": "1.2.0",
      "model_name": "LayoutModel",
      "state": {
       "_model_module": "@jupyter-widgets/base",
       "_model_module_version": "1.2.0",
       "_model_name": "LayoutModel",
       "_view_count": null,
       "_view_module": "@jupyter-widgets/base",
       "_view_module_version": "1.2.0",
       "_view_name": "LayoutView",
       "align_content": null,
       "align_items": null,
       "align_self": null,
       "border": null,
       "bottom": null,
       "display": null,
       "flex": null,
       "flex_flow": null,
       "grid_area": null,
       "grid_auto_columns": null,
       "grid_auto_flow": null,
       "grid_auto_rows": null,
       "grid_column": null,
       "grid_gap": null,
       "grid_row": null,
       "grid_template_areas": null,
       "grid_template_columns": null,
       "grid_template_rows": null,
       "height": null,
       "justify_content": null,
       "justify_items": null,
       "left": null,
       "margin": null,
       "max_height": null,
       "max_width": null,
       "min_height": null,
       "min_width": null,
       "object_fit": null,
       "object_position": null,
       "order": null,
       "overflow": null,
       "overflow_x": null,
       "overflow_y": null,
       "padding": null,
       "right": null,
       "top": null,
       "visibility": null,
       "width": null
      }
     },
     "e2d8de345c0d412b8fbe34956b777d12": {
      "model_module": "@jupyter-widgets/controls",
      "model_module_version": "1.5.0",
      "model_name": "DescriptionStyleModel",
      "state": {
       "_model_module": "@jupyter-widgets/controls",
       "_model_module_version": "1.5.0",
       "_model_name": "DescriptionStyleModel",
       "_view_count": null,
       "_view_module": "@jupyter-widgets/base",
       "_view_module_version": "1.2.0",
       "_view_name": "StyleView",
       "description_width": ""
      }
     },
     "e2f5dd3723934af8b7befa3c45139d86": {
      "model_module": "@jupyter-widgets/controls",
      "model_module_version": "1.5.0",
      "model_name": "DescriptionStyleModel",
      "state": {
       "_model_module": "@jupyter-widgets/controls",
       "_model_module_version": "1.5.0",
       "_model_name": "DescriptionStyleModel",
       "_view_count": null,
       "_view_module": "@jupyter-widgets/base",
       "_view_module_version": "1.2.0",
       "_view_name": "StyleView",
       "description_width": ""
      }
     },
     "e38c266c1feb47b4b35b5008b094b6be": {
      "model_module": "@jupyter-widgets/controls",
      "model_module_version": "1.5.0",
      "model_name": "HTMLModel",
      "state": {
       "_dom_classes": [],
       "_model_module": "@jupyter-widgets/controls",
       "_model_module_version": "1.5.0",
       "_model_name": "HTMLModel",
       "_view_count": null,
       "_view_module": "@jupyter-widgets/controls",
       "_view_module_version": "1.5.0",
       "_view_name": "HTMLView",
       "description": "",
       "description_tooltip": null,
       "layout": "IPY_MODEL_e9b44de6f2424050b1a2b3c9648f0f99",
       "placeholder": "​",
       "style": "IPY_MODEL_a10ead3afffb4ed3b01d738432aaa1c7",
       "value": "Shuffling /root/tensorflow_datasets/imdb_reviews/subwords8k/1.0.0.incompleteTEXVMA/imdb_reviews-train.tfrecord*...:  50%"
      }
     },
     "e3a43724237f45c0a06aac01f746147d": {
      "model_module": "@jupyter-widgets/base",
      "model_module_version": "1.2.0",
      "model_name": "LayoutModel",
      "state": {
       "_model_module": "@jupyter-widgets/base",
       "_model_module_version": "1.2.0",
       "_model_name": "LayoutModel",
       "_view_count": null,
       "_view_module": "@jupyter-widgets/base",
       "_view_module_version": "1.2.0",
       "_view_name": "LayoutView",
       "align_content": null,
       "align_items": null,
       "align_self": null,
       "border": null,
       "bottom": null,
       "display": null,
       "flex": null,
       "flex_flow": null,
       "grid_area": null,
       "grid_auto_columns": null,
       "grid_auto_flow": null,
       "grid_auto_rows": null,
       "grid_column": null,
       "grid_gap": null,
       "grid_row": null,
       "grid_template_areas": null,
       "grid_template_columns": null,
       "grid_template_rows": null,
       "height": null,
       "justify_content": null,
       "justify_items": null,
       "left": null,
       "margin": null,
       "max_height": null,
       "max_width": null,
       "min_height": null,
       "min_width": null,
       "object_fit": null,
       "object_position": null,
       "order": null,
       "overflow": null,
       "overflow_x": null,
       "overflow_y": null,
       "padding": null,
       "right": null,
       "top": null,
       "visibility": null,
       "width": null
      }
     },
     "e43132a7fc5a45eabc8f297cb2928fe4": {
      "model_module": "@jupyter-widgets/base",
      "model_module_version": "1.2.0",
      "model_name": "LayoutModel",
      "state": {
       "_model_module": "@jupyter-widgets/base",
       "_model_module_version": "1.2.0",
       "_model_name": "LayoutModel",
       "_view_count": null,
       "_view_module": "@jupyter-widgets/base",
       "_view_module_version": "1.2.0",
       "_view_name": "LayoutView",
       "align_content": null,
       "align_items": null,
       "align_self": null,
       "border": null,
       "bottom": null,
       "display": null,
       "flex": null,
       "flex_flow": null,
       "grid_area": null,
       "grid_auto_columns": null,
       "grid_auto_flow": null,
       "grid_auto_rows": null,
       "grid_column": null,
       "grid_gap": null,
       "grid_row": null,
       "grid_template_areas": null,
       "grid_template_columns": null,
       "grid_template_rows": null,
       "height": null,
       "justify_content": null,
       "justify_items": null,
       "left": null,
       "margin": null,
       "max_height": null,
       "max_width": null,
       "min_height": null,
       "min_width": null,
       "object_fit": null,
       "object_position": null,
       "order": null,
       "overflow": null,
       "overflow_x": null,
       "overflow_y": null,
       "padding": null,
       "right": null,
       "top": null,
       "visibility": null,
       "width": "20px"
      }
     },
     "e6493295977948a4b69c2e0d76824d8a": {
      "model_module": "@jupyter-widgets/base",
      "model_module_version": "1.2.0",
      "model_name": "LayoutModel",
      "state": {
       "_model_module": "@jupyter-widgets/base",
       "_model_module_version": "1.2.0",
       "_model_name": "LayoutModel",
       "_view_count": null,
       "_view_module": "@jupyter-widgets/base",
       "_view_module_version": "1.2.0",
       "_view_name": "LayoutView",
       "align_content": null,
       "align_items": null,
       "align_self": null,
       "border": null,
       "bottom": null,
       "display": null,
       "flex": null,
       "flex_flow": null,
       "grid_area": null,
       "grid_auto_columns": null,
       "grid_auto_flow": null,
       "grid_auto_rows": null,
       "grid_column": null,
       "grid_gap": null,
       "grid_row": null,
       "grid_template_areas": null,
       "grid_template_columns": null,
       "grid_template_rows": null,
       "height": null,
       "justify_content": null,
       "justify_items": null,
       "left": null,
       "margin": null,
       "max_height": null,
       "max_width": null,
       "min_height": null,
       "min_width": null,
       "object_fit": null,
       "object_position": null,
       "order": null,
       "overflow": null,
       "overflow_x": null,
       "overflow_y": null,
       "padding": null,
       "right": null,
       "top": null,
       "visibility": "hidden",
       "width": null
      }
     },
     "e6b3c165f2544c55952289a14ef8dee6": {
      "model_module": "@jupyter-widgets/controls",
      "model_module_version": "1.5.0",
      "model_name": "DescriptionStyleModel",
      "state": {
       "_model_module": "@jupyter-widgets/controls",
       "_model_module_version": "1.5.0",
       "_model_name": "DescriptionStyleModel",
       "_view_count": null,
       "_view_module": "@jupyter-widgets/base",
       "_view_module_version": "1.2.0",
       "_view_name": "StyleView",
       "description_width": ""
      }
     },
     "e77f5dbd252d4103839488988428cc2d": {
      "model_module": "@jupyter-widgets/controls",
      "model_module_version": "1.5.0",
      "model_name": "DescriptionStyleModel",
      "state": {
       "_model_module": "@jupyter-widgets/controls",
       "_model_module_version": "1.5.0",
       "_model_name": "DescriptionStyleModel",
       "_view_count": null,
       "_view_module": "@jupyter-widgets/base",
       "_view_module_version": "1.2.0",
       "_view_name": "StyleView",
       "description_width": ""
      }
     },
     "e83f09be64cf4ddeaa027b5920a8dd77": {
      "model_module": "@jupyter-widgets/controls",
      "model_module_version": "1.5.0",
      "model_name": "HBoxModel",
      "state": {
       "_dom_classes": [],
       "_model_module": "@jupyter-widgets/controls",
       "_model_module_version": "1.5.0",
       "_model_name": "HBoxModel",
       "_view_count": null,
       "_view_module": "@jupyter-widgets/controls",
       "_view_module_version": "1.5.0",
       "_view_name": "HBoxView",
       "box_style": "",
       "children": [
        "IPY_MODEL_1bf9b611560c41e09c8e9e86536f0049",
        "IPY_MODEL_19325c1149ee41718a8d1015db75e896",
        "IPY_MODEL_862e21e0ddef446983c1cf8049ed55df"
       ],
       "layout": "IPY_MODEL_e6493295977948a4b69c2e0d76824d8a"
      }
     },
     "e96b6600a8434eb1ab5ff80bb8dfe947": {
      "model_module": "@jupyter-widgets/base",
      "model_module_version": "1.2.0",
      "model_name": "LayoutModel",
      "state": {
       "_model_module": "@jupyter-widgets/base",
       "_model_module_version": "1.2.0",
       "_model_name": "LayoutModel",
       "_view_count": null,
       "_view_module": "@jupyter-widgets/base",
       "_view_module_version": "1.2.0",
       "_view_name": "LayoutView",
       "align_content": null,
       "align_items": null,
       "align_self": null,
       "border": null,
       "bottom": null,
       "display": null,
       "flex": null,
       "flex_flow": null,
       "grid_area": null,
       "grid_auto_columns": null,
       "grid_auto_flow": null,
       "grid_auto_rows": null,
       "grid_column": null,
       "grid_gap": null,
       "grid_row": null,
       "grid_template_areas": null,
       "grid_template_columns": null,
       "grid_template_rows": null,
       "height": null,
       "justify_content": null,
       "justify_items": null,
       "left": null,
       "margin": null,
       "max_height": null,
       "max_width": null,
       "min_height": null,
       "min_width": null,
       "object_fit": null,
       "object_position": null,
       "order": null,
       "overflow": null,
       "overflow_x": null,
       "overflow_y": null,
       "padding": null,
       "right": null,
       "top": null,
       "visibility": null,
       "width": null
      }
     },
     "e974fa17b0fa4066a49458c1e6090b91": {
      "model_module": "@jupyter-widgets/controls",
      "model_module_version": "1.5.0",
      "model_name": "ProgressStyleModel",
      "state": {
       "_model_module": "@jupyter-widgets/controls",
       "_model_module_version": "1.5.0",
       "_model_name": "ProgressStyleModel",
       "_view_count": null,
       "_view_module": "@jupyter-widgets/base",
       "_view_module_version": "1.2.0",
       "_view_name": "StyleView",
       "bar_color": null,
       "description_width": ""
      }
     },
     "e9b44de6f2424050b1a2b3c9648f0f99": {
      "model_module": "@jupyter-widgets/base",
      "model_module_version": "1.2.0",
      "model_name": "LayoutModel",
      "state": {
       "_model_module": "@jupyter-widgets/base",
       "_model_module_version": "1.2.0",
       "_model_name": "LayoutModel",
       "_view_count": null,
       "_view_module": "@jupyter-widgets/base",
       "_view_module_version": "1.2.0",
       "_view_name": "LayoutView",
       "align_content": null,
       "align_items": null,
       "align_self": null,
       "border": null,
       "bottom": null,
       "display": null,
       "flex": null,
       "flex_flow": null,
       "grid_area": null,
       "grid_auto_columns": null,
       "grid_auto_flow": null,
       "grid_auto_rows": null,
       "grid_column": null,
       "grid_gap": null,
       "grid_row": null,
       "grid_template_areas": null,
       "grid_template_columns": null,
       "grid_template_rows": null,
       "height": null,
       "justify_content": null,
       "justify_items": null,
       "left": null,
       "margin": null,
       "max_height": null,
       "max_width": null,
       "min_height": null,
       "min_width": null,
       "object_fit": null,
       "object_position": null,
       "order": null,
       "overflow": null,
       "overflow_x": null,
       "overflow_y": null,
       "padding": null,
       "right": null,
       "top": null,
       "visibility": null,
       "width": null
      }
     },
     "ea3930fb04264fd4ae488ee9ae213905": {
      "model_module": "@jupyter-widgets/base",
      "model_module_version": "1.2.0",
      "model_name": "LayoutModel",
      "state": {
       "_model_module": "@jupyter-widgets/base",
       "_model_module_version": "1.2.0",
       "_model_name": "LayoutModel",
       "_view_count": null,
       "_view_module": "@jupyter-widgets/base",
       "_view_module_version": "1.2.0",
       "_view_name": "LayoutView",
       "align_content": null,
       "align_items": null,
       "align_self": null,
       "border": null,
       "bottom": null,
       "display": null,
       "flex": null,
       "flex_flow": null,
       "grid_area": null,
       "grid_auto_columns": null,
       "grid_auto_flow": null,
       "grid_auto_rows": null,
       "grid_column": null,
       "grid_gap": null,
       "grid_row": null,
       "grid_template_areas": null,
       "grid_template_columns": null,
       "grid_template_rows": null,
       "height": null,
       "justify_content": null,
       "justify_items": null,
       "left": null,
       "margin": null,
       "max_height": null,
       "max_width": null,
       "min_height": null,
       "min_width": null,
       "object_fit": null,
       "object_position": null,
       "order": null,
       "overflow": null,
       "overflow_x": null,
       "overflow_y": null,
       "padding": null,
       "right": null,
       "top": null,
       "visibility": null,
       "width": null
      }
     },
     "ecb5464f6dce4f6096e2cf2556e22395": {
      "model_module": "@jupyter-widgets/controls",
      "model_module_version": "1.5.0",
      "model_name": "HTMLModel",
      "state": {
       "_dom_classes": [],
       "_model_module": "@jupyter-widgets/controls",
       "_model_module_version": "1.5.0",
       "_model_name": "HTMLModel",
       "_view_count": null,
       "_view_module": "@jupyter-widgets/controls",
       "_view_module_version": "1.5.0",
       "_view_name": "HTMLView",
       "description": "",
       "description_tooltip": null,
       "layout": "IPY_MODEL_ff6aa33afd3d4f428725bbacec03b593",
       "placeholder": "​",
       "style": "IPY_MODEL_2e78db61e03542e6967157f783913431",
       "value": " 24956/25000 [00:07&lt;00:00, 3761.78 examples/s]"
      }
     },
     "ed052d10aca1452eb49d968e94846332": {
      "model_module": "@jupyter-widgets/base",
      "model_module_version": "1.2.0",
      "model_name": "LayoutModel",
      "state": {
       "_model_module": "@jupyter-widgets/base",
       "_model_module_version": "1.2.0",
       "_model_name": "LayoutModel",
       "_view_count": null,
       "_view_module": "@jupyter-widgets/base",
       "_view_module_version": "1.2.0",
       "_view_name": "LayoutView",
       "align_content": null,
       "align_items": null,
       "align_self": null,
       "border": null,
       "bottom": null,
       "display": null,
       "flex": null,
       "flex_flow": null,
       "grid_area": null,
       "grid_auto_columns": null,
       "grid_auto_flow": null,
       "grid_auto_rows": null,
       "grid_column": null,
       "grid_gap": null,
       "grid_row": null,
       "grid_template_areas": null,
       "grid_template_columns": null,
       "grid_template_rows": null,
       "height": null,
       "justify_content": null,
       "justify_items": null,
       "left": null,
       "margin": null,
       "max_height": null,
       "max_width": null,
       "min_height": null,
       "min_width": null,
       "object_fit": null,
       "object_position": null,
       "order": null,
       "overflow": null,
       "overflow_x": null,
       "overflow_y": null,
       "padding": null,
       "right": null,
       "top": null,
       "visibility": null,
       "width": null
      }
     },
     "ee298a75b73b49f29b0d7fb9440fb2e9": {
      "model_module": "@jupyter-widgets/controls",
      "model_module_version": "1.5.0",
      "model_name": "HTMLModel",
      "state": {
       "_dom_classes": [],
       "_model_module": "@jupyter-widgets/controls",
       "_model_module_version": "1.5.0",
       "_model_name": "HTMLModel",
       "_view_count": null,
       "_view_module": "@jupyter-widgets/controls",
       "_view_module_version": "1.5.0",
       "_view_name": "HTMLView",
       "description": "",
       "description_tooltip": null,
       "layout": "IPY_MODEL_d848a7c3c9c74b55a4774bf1d1523f83",
       "placeholder": "​",
       "style": "IPY_MODEL_e2f5dd3723934af8b7befa3c45139d86",
       "value": "Generating unsupervised examples...: 100%"
      }
     },
     "ee4c2f4ed4754e9b80bc58b7912f648e": {
      "model_module": "@jupyter-widgets/controls",
      "model_module_version": "1.5.0",
      "model_name": "ProgressStyleModel",
      "state": {
       "_model_module": "@jupyter-widgets/controls",
       "_model_module_version": "1.5.0",
       "_model_name": "ProgressStyleModel",
       "_view_count": null,
       "_view_module": "@jupyter-widgets/base",
       "_view_module_version": "1.2.0",
       "_view_name": "StyleView",
       "bar_color": null,
       "description_width": ""
      }
     },
     "f366eed28dfe40eea9074545613cc9fb": {
      "model_module": "@jupyter-widgets/base",
      "model_module_version": "1.2.0",
      "model_name": "LayoutModel",
      "state": {
       "_model_module": "@jupyter-widgets/base",
       "_model_module_version": "1.2.0",
       "_model_name": "LayoutModel",
       "_view_count": null,
       "_view_module": "@jupyter-widgets/base",
       "_view_module_version": "1.2.0",
       "_view_name": "LayoutView",
       "align_content": null,
       "align_items": null,
       "align_self": null,
       "border": null,
       "bottom": null,
       "display": null,
       "flex": null,
       "flex_flow": null,
       "grid_area": null,
       "grid_auto_columns": null,
       "grid_auto_flow": null,
       "grid_auto_rows": null,
       "grid_column": null,
       "grid_gap": null,
       "grid_row": null,
       "grid_template_areas": null,
       "grid_template_columns": null,
       "grid_template_rows": null,
       "height": null,
       "justify_content": null,
       "justify_items": null,
       "left": null,
       "margin": null,
       "max_height": null,
       "max_width": null,
       "min_height": null,
       "min_width": null,
       "object_fit": null,
       "object_position": null,
       "order": null,
       "overflow": null,
       "overflow_x": null,
       "overflow_y": null,
       "padding": null,
       "right": null,
       "top": null,
       "visibility": null,
       "width": null
      }
     },
     "f39b51425ad14b3cb925b17b192f3e55": {
      "model_module": "@jupyter-widgets/base",
      "model_module_version": "1.2.0",
      "model_name": "LayoutModel",
      "state": {
       "_model_module": "@jupyter-widgets/base",
       "_model_module_version": "1.2.0",
       "_model_name": "LayoutModel",
       "_view_count": null,
       "_view_module": "@jupyter-widgets/base",
       "_view_module_version": "1.2.0",
       "_view_name": "LayoutView",
       "align_content": null,
       "align_items": null,
       "align_self": null,
       "border": null,
       "bottom": null,
       "display": null,
       "flex": null,
       "flex_flow": null,
       "grid_area": null,
       "grid_auto_columns": null,
       "grid_auto_flow": null,
       "grid_auto_rows": null,
       "grid_column": null,
       "grid_gap": null,
       "grid_row": null,
       "grid_template_areas": null,
       "grid_template_columns": null,
       "grid_template_rows": null,
       "height": null,
       "justify_content": null,
       "justify_items": null,
       "left": null,
       "margin": null,
       "max_height": null,
       "max_width": null,
       "min_height": null,
       "min_width": null,
       "object_fit": null,
       "object_position": null,
       "order": null,
       "overflow": null,
       "overflow_x": null,
       "overflow_y": null,
       "padding": null,
       "right": null,
       "top": null,
       "visibility": null,
       "width": null
      }
     },
     "f56451f4add74c60872e7764b39d03a8": {
      "model_module": "@jupyter-widgets/controls",
      "model_module_version": "1.5.0",
      "model_name": "HTMLModel",
      "state": {
       "_dom_classes": [],
       "_model_module": "@jupyter-widgets/controls",
       "_model_module_version": "1.5.0",
       "_model_name": "HTMLModel",
       "_view_count": null,
       "_view_module": "@jupyter-widgets/controls",
       "_view_module_version": "1.5.0",
       "_view_name": "HTMLView",
       "description": "",
       "description_tooltip": null,
       "layout": "IPY_MODEL_b2f4131dc0d2457e92518791e43241e4",
       "placeholder": "​",
       "style": "IPY_MODEL_e6b3c165f2544c55952289a14ef8dee6",
       "value": "Dl Completed...: 100%"
      }
     },
     "f5d1fdf1139844b7a1b4142c4fbebdc2": {
      "model_module": "@jupyter-widgets/controls",
      "model_module_version": "1.5.0",
      "model_name": "FloatProgressModel",
      "state": {
       "_dom_classes": [],
       "_model_module": "@jupyter-widgets/controls",
       "_model_module_version": "1.5.0",
       "_model_name": "FloatProgressModel",
       "_view_count": null,
       "_view_module": "@jupyter-widgets/controls",
       "_view_module_version": "1.5.0",
       "_view_name": "ProgressView",
       "bar_style": "success",
       "description": "",
       "description_tooltip": null,
       "layout": "IPY_MODEL_7404afde47c243359323e46928dc73bd",
       "max": 1.0,
       "min": 0.0,
       "orientation": "horizontal",
       "style": "IPY_MODEL_12a7c101f2b44df78139d9e7eb0353cf",
       "value": 1.0
      }
     },
     "f96e7ccd52164bc6a02a53a89ac50546": {
      "model_module": "@jupyter-widgets/controls",
      "model_module_version": "1.5.0",
      "model_name": "DescriptionStyleModel",
      "state": {
       "_model_module": "@jupyter-widgets/controls",
       "_model_module_version": "1.5.0",
       "_model_name": "DescriptionStyleModel",
       "_view_count": null,
       "_view_module": "@jupyter-widgets/base",
       "_view_module_version": "1.2.0",
       "_view_name": "StyleView",
       "description_width": ""
      }
     },
     "fabeda08802d442ea51770ea11b33939": {
      "model_module": "@jupyter-widgets/controls",
      "model_module_version": "1.5.0",
      "model_name": "DescriptionStyleModel",
      "state": {
       "_model_module": "@jupyter-widgets/controls",
       "_model_module_version": "1.5.0",
       "_model_name": "DescriptionStyleModel",
       "_view_count": null,
       "_view_module": "@jupyter-widgets/base",
       "_view_module_version": "1.2.0",
       "_view_name": "StyleView",
       "description_width": ""
      }
     },
     "fb41da02ac604cb3b14b52613e5ac0f8": {
      "model_module": "@jupyter-widgets/base",
      "model_module_version": "1.2.0",
      "model_name": "LayoutModel",
      "state": {
       "_model_module": "@jupyter-widgets/base",
       "_model_module_version": "1.2.0",
       "_model_name": "LayoutModel",
       "_view_count": null,
       "_view_module": "@jupyter-widgets/base",
       "_view_module_version": "1.2.0",
       "_view_name": "LayoutView",
       "align_content": null,
       "align_items": null,
       "align_self": null,
       "border": null,
       "bottom": null,
       "display": null,
       "flex": null,
       "flex_flow": null,
       "grid_area": null,
       "grid_auto_columns": null,
       "grid_auto_flow": null,
       "grid_auto_rows": null,
       "grid_column": null,
       "grid_gap": null,
       "grid_row": null,
       "grid_template_areas": null,
       "grid_template_columns": null,
       "grid_template_rows": null,
       "height": null,
       "justify_content": null,
       "justify_items": null,
       "left": null,
       "margin": null,
       "max_height": null,
       "max_width": null,
       "min_height": null,
       "min_width": null,
       "object_fit": null,
       "object_position": null,
       "order": null,
       "overflow": null,
       "overflow_x": null,
       "overflow_y": null,
       "padding": null,
       "right": null,
       "top": null,
       "visibility": null,
       "width": null
      }
     },
     "fd1582b3b42e4399b44893758d0cf2eb": {
      "model_module": "@jupyter-widgets/controls",
      "model_module_version": "1.5.0",
      "model_name": "HTMLModel",
      "state": {
       "_dom_classes": [],
       "_model_module": "@jupyter-widgets/controls",
       "_model_module_version": "1.5.0",
       "_model_name": "HTMLModel",
       "_view_count": null,
       "_view_module": "@jupyter-widgets/controls",
       "_view_module_version": "1.5.0",
       "_view_name": "HTMLView",
       "description": "",
       "description_tooltip": null,
       "layout": "IPY_MODEL_51ad5ba182b045c8b7547b851e0324a6",
       "placeholder": "​",
       "style": "IPY_MODEL_92e336baff8d46bfbda360e8d6c093a8",
       "value": "Generating train examples...: 100%"
      }
     },
     "fd371a3efe5c4ef8bbf5f716af1e5f90": {
      "model_module": "@jupyter-widgets/controls",
      "model_module_version": "1.5.0",
      "model_name": "ProgressStyleModel",
      "state": {
       "_model_module": "@jupyter-widgets/controls",
       "_model_module_version": "1.5.0",
       "_model_name": "ProgressStyleModel",
       "_view_count": null,
       "_view_module": "@jupyter-widgets/base",
       "_view_module_version": "1.2.0",
       "_view_name": "StyleView",
       "bar_color": null,
       "description_width": ""
      }
     },
     "fe1a717b592f433db83048b16a0c1399": {
      "model_module": "@jupyter-widgets/base",
      "model_module_version": "1.2.0",
      "model_name": "LayoutModel",
      "state": {
       "_model_module": "@jupyter-widgets/base",
       "_model_module_version": "1.2.0",
       "_model_name": "LayoutModel",
       "_view_count": null,
       "_view_module": "@jupyter-widgets/base",
       "_view_module_version": "1.2.0",
       "_view_name": "LayoutView",
       "align_content": null,
       "align_items": null,
       "align_self": null,
       "border": null,
       "bottom": null,
       "display": null,
       "flex": null,
       "flex_flow": null,
       "grid_area": null,
       "grid_auto_columns": null,
       "grid_auto_flow": null,
       "grid_auto_rows": null,
       "grid_column": null,
       "grid_gap": null,
       "grid_row": null,
       "grid_template_areas": null,
       "grid_template_columns": null,
       "grid_template_rows": null,
       "height": null,
       "justify_content": null,
       "justify_items": null,
       "left": null,
       "margin": null,
       "max_height": null,
       "max_width": null,
       "min_height": null,
       "min_width": null,
       "object_fit": null,
       "object_position": null,
       "order": null,
       "overflow": null,
       "overflow_x": null,
       "overflow_y": null,
       "padding": null,
       "right": null,
       "top": null,
       "visibility": null,
       "width": null
      }
     },
     "fe452dabfa7e4f1fb17fa5c438b69c14": {
      "model_module": "@jupyter-widgets/base",
      "model_module_version": "1.2.0",
      "model_name": "LayoutModel",
      "state": {
       "_model_module": "@jupyter-widgets/base",
       "_model_module_version": "1.2.0",
       "_model_name": "LayoutModel",
       "_view_count": null,
       "_view_module": "@jupyter-widgets/base",
       "_view_module_version": "1.2.0",
       "_view_name": "LayoutView",
       "align_content": null,
       "align_items": null,
       "align_self": null,
       "border": null,
       "bottom": null,
       "display": null,
       "flex": null,
       "flex_flow": null,
       "grid_area": null,
       "grid_auto_columns": null,
       "grid_auto_flow": null,
       "grid_auto_rows": null,
       "grid_column": null,
       "grid_gap": null,
       "grid_row": null,
       "grid_template_areas": null,
       "grid_template_columns": null,
       "grid_template_rows": null,
       "height": null,
       "justify_content": null,
       "justify_items": null,
       "left": null,
       "margin": null,
       "max_height": null,
       "max_width": null,
       "min_height": null,
       "min_width": null,
       "object_fit": null,
       "object_position": null,
       "order": null,
       "overflow": null,
       "overflow_x": null,
       "overflow_y": null,
       "padding": null,
       "right": null,
       "top": null,
       "visibility": null,
       "width": null
      }
     },
     "ff6aa33afd3d4f428725bbacec03b593": {
      "model_module": "@jupyter-widgets/base",
      "model_module_version": "1.2.0",
      "model_name": "LayoutModel",
      "state": {
       "_model_module": "@jupyter-widgets/base",
       "_model_module_version": "1.2.0",
       "_model_name": "LayoutModel",
       "_view_count": null,
       "_view_module": "@jupyter-widgets/base",
       "_view_module_version": "1.2.0",
       "_view_name": "LayoutView",
       "align_content": null,
       "align_items": null,
       "align_self": null,
       "border": null,
       "bottom": null,
       "display": null,
       "flex": null,
       "flex_flow": null,
       "grid_area": null,
       "grid_auto_columns": null,
       "grid_auto_flow": null,
       "grid_auto_rows": null,
       "grid_column": null,
       "grid_gap": null,
       "grid_row": null,
       "grid_template_areas": null,
       "grid_template_columns": null,
       "grid_template_rows": null,
       "height": null,
       "justify_content": null,
       "justify_items": null,
       "left": null,
       "margin": null,
       "max_height": null,
       "max_width": null,
       "min_height": null,
       "min_width": null,
       "object_fit": null,
       "object_position": null,
       "order": null,
       "overflow": null,
       "overflow_x": null,
       "overflow_y": null,
       "padding": null,
       "right": null,
       "top": null,
       "visibility": null,
       "width": null
      }
     }
    },
    "version_major": 2,
    "version_minor": 0
   }
  }
 },
 "nbformat": 4,
 "nbformat_minor": 5
}
