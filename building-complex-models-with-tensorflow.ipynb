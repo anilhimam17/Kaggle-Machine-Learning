{
 "cells": [
  {
   "cell_type": "markdown",
   "id": "7c323be2",
   "metadata": {
    "papermill": {
     "duration": 0.023189,
     "end_time": "2024-01-06T23:17:47.166590",
     "exception": false,
     "start_time": "2024-01-06T23:17:47.143401",
     "status": "completed"
    },
    "tags": []
   },
   "source": [
    "## Working with the TensorFlow Functional API"
   ]
  },
  {
   "cell_type": "code",
   "execution_count": 1,
   "id": "efb339ca",
   "metadata": {
    "execution": {
     "iopub.execute_input": "2024-01-06T23:17:47.215490Z",
     "iopub.status.busy": "2024-01-06T23:17:47.214669Z",
     "iopub.status.idle": "2024-01-06T23:18:00.526315Z",
     "shell.execute_reply": "2024-01-06T23:18:00.525069Z"
    },
    "papermill": {
     "duration": 13.340143,
     "end_time": "2024-01-06T23:18:00.529644",
     "exception": false,
     "start_time": "2024-01-06T23:17:47.189501",
     "status": "completed"
    },
    "tags": []
   },
   "outputs": [
    {
     "data": {
      "text/plain": [
       "'2.13.0'"
      ]
     },
     "execution_count": 1,
     "metadata": {},
     "output_type": "execute_result"
    }
   ],
   "source": [
    "import tensorflow as tf\n",
    "tf.__version__"
   ]
  },
  {
   "cell_type": "code",
   "execution_count": 2,
   "id": "d30a781c",
   "metadata": {
    "execution": {
     "iopub.execute_input": "2024-01-06T23:18:00.579488Z",
     "iopub.status.busy": "2024-01-06T23:18:00.577818Z",
     "iopub.status.idle": "2024-01-06T23:18:04.653985Z",
     "shell.execute_reply": "2024-01-06T23:18:04.652581Z"
    },
    "papermill": {
     "duration": 4.104073,
     "end_time": "2024-01-06T23:18:04.656928",
     "exception": false,
     "start_time": "2024-01-06T23:18:00.552855",
     "status": "completed"
    },
    "tags": []
   },
   "outputs": [],
   "source": [
    "# Importing the Dataset\n",
    "from sklearn.datasets import fetch_california_housing\n",
    "\n",
    "housing = fetch_california_housing()\n",
    "X_train_full, y_train_full = housing.data, housing.target"
   ]
  },
  {
   "cell_type": "code",
   "execution_count": 3,
   "id": "525211b8",
   "metadata": {
    "execution": {
     "iopub.execute_input": "2024-01-06T23:18:04.705507Z",
     "iopub.status.busy": "2024-01-06T23:18:04.705094Z",
     "iopub.status.idle": "2024-01-06T23:18:04.806199Z",
     "shell.execute_reply": "2024-01-06T23:18:04.805066Z"
    },
    "papermill": {
     "duration": 0.128166,
     "end_time": "2024-01-06T23:18:04.808633",
     "exception": false,
     "start_time": "2024-01-06T23:18:04.680467",
     "status": "completed"
    },
    "tags": []
   },
   "outputs": [
    {
     "name": "stdout",
     "output_type": "stream",
     "text": [
      "X train:  (11610, 8)\n",
      "y train:  (11610,)\n",
      "X valid:  (3870, 8)\n",
      "y valid:  (3870,)\n",
      "X test:  (5160, 8)\n",
      "y test:  (5160,)\n"
     ]
    }
   ],
   "source": [
    "# Creating the Validation Set\n",
    "from sklearn.model_selection import train_test_split\n",
    "\n",
    "X_train, X_test, y_train, y_test = train_test_split(X_train_full, y_train_full)\n",
    "X_train, X_valid, y_train, y_valid = train_test_split(X_train, y_train)\n",
    "\n",
    "print(\"X train: \", X_train.shape)\n",
    "print(\"y train: \", y_train.shape)\n",
    "print(\"X valid: \", X_valid.shape)\n",
    "print(\"y valid: \", y_valid.shape)\n",
    "print(\"X test: \", X_test.shape)\n",
    "print(\"y test: \", y_test.shape)"
   ]
  },
  {
   "cell_type": "markdown",
   "id": "2c1c1f48",
   "metadata": {
    "papermill": {
     "duration": 0.022982,
     "end_time": "2024-01-06T23:18:04.855055",
     "exception": false,
     "start_time": "2024-01-06T23:18:04.832073",
     "status": "completed"
    },
    "tags": []
   },
   "source": [
    "## Wide and Deep Neural Network"
   ]
  },
  {
   "cell_type": "code",
   "execution_count": 4,
   "id": "c9b3f7ce",
   "metadata": {
    "execution": {
     "iopub.execute_input": "2024-01-06T23:18:04.904007Z",
     "iopub.status.busy": "2024-01-06T23:18:04.903152Z",
     "iopub.status.idle": "2024-01-06T23:18:05.033529Z",
     "shell.execute_reply": "2024-01-06T23:18:05.032283Z"
    },
    "papermill": {
     "duration": 0.157759,
     "end_time": "2024-01-06T23:18:05.036241",
     "exception": false,
     "start_time": "2024-01-06T23:18:04.878482",
     "status": "completed"
    },
    "tags": []
   },
   "outputs": [],
   "source": [
    "tf.keras.backend.clear_session()\n",
    "tf.random.set_seed(1730)"
   ]
  },
  {
   "cell_type": "markdown",
   "id": "47944701",
   "metadata": {
    "papermill": {
     "duration": 0.022783,
     "end_time": "2024-01-06T23:18:05.082169",
     "exception": false,
     "start_time": "2024-01-06T23:18:05.059386",
     "status": "completed"
    },
    "tags": []
   },
   "source": [
    "**Configuring the Layers used by the Model**"
   ]
  },
  {
   "cell_type": "code",
   "execution_count": 5,
   "id": "0d2cb453",
   "metadata": {
    "execution": {
     "iopub.execute_input": "2024-01-06T23:18:05.130371Z",
     "iopub.status.busy": "2024-01-06T23:18:05.129651Z",
     "iopub.status.idle": "2024-01-06T23:18:05.369066Z",
     "shell.execute_reply": "2024-01-06T23:18:05.368090Z"
    },
    "papermill": {
     "duration": 0.266478,
     "end_time": "2024-01-06T23:18:05.371752",
     "exception": false,
     "start_time": "2024-01-06T23:18:05.105274",
     "status": "completed"
    },
    "tags": []
   },
   "outputs": [],
   "source": [
    "# Normalisation Layer to parse all the inputs\n",
    "norm_layer = tf.keras.layers.Normalization()\n",
    "\n",
    "# Hidden Layers\n",
    "hidden_layer_1 = tf.keras.layers.Dense(50, activation=\"relu\")\n",
    "hidden_layer_2 = tf.keras.layers.Dense(50, activation=\"relu\")\n",
    "hidden_layer_3 = tf.keras.layers.Dense(20, activation=\"relu\")\n",
    "\n",
    "# Concatenation Layer\n",
    "concat_layer = tf.keras.layers.Concatenate()\n",
    "\n",
    "# Output Layer\n",
    "output_layer = tf.keras.layers.Dense(1)"
   ]
  },
  {
   "cell_type": "markdown",
   "id": "9fbfd2f1",
   "metadata": {
    "papermill": {
     "duration": 0.023176,
     "end_time": "2024-01-06T23:18:05.474614",
     "exception": false,
     "start_time": "2024-01-06T23:18:05.451438",
     "status": "completed"
    },
    "tags": []
   },
   "source": [
    "**Constructing the Model**"
   ]
  },
  {
   "cell_type": "code",
   "execution_count": 6,
   "id": "2fa0dd96",
   "metadata": {
    "execution": {
     "iopub.execute_input": "2024-01-06T23:18:05.523407Z",
     "iopub.status.busy": "2024-01-06T23:18:05.523027Z",
     "iopub.status.idle": "2024-01-06T23:18:05.702124Z",
     "shell.execute_reply": "2024-01-06T23:18:05.700993Z"
    },
    "papermill": {
     "duration": 0.206541,
     "end_time": "2024-01-06T23:18:05.704900",
     "exception": false,
     "start_time": "2024-01-06T23:18:05.498359",
     "status": "completed"
    },
    "tags": []
   },
   "outputs": [],
   "source": [
    "# Input Layer\n",
    "input_ = tf.keras.layers.Input(shape=X_train.shape[1:])\n",
    "\n",
    "# Chaining the Rest of the Model\n",
    "norm = norm_layer(input_)\n",
    "hidden1 = hidden_layer_1(norm)\n",
    "hidden2 = hidden_layer_2(hidden1)\n",
    "hidden3 = hidden_layer_3(hidden2)\n",
    "\n",
    "# Concatenating the Input and Chained Layers\n",
    "concat = concat_layer([norm, hidden3])\n",
    "\n",
    "# Output Layer\n",
    "output = output_layer(concat)\n",
    "\n",
    "# Creating an instance of the Model\n",
    "model = tf.keras.Model(inputs=[input_], outputs=[output])"
   ]
  },
  {
   "cell_type": "code",
   "execution_count": 7,
   "id": "4278a1b8",
   "metadata": {
    "execution": {
     "iopub.execute_input": "2024-01-06T23:18:05.753680Z",
     "iopub.status.busy": "2024-01-06T23:18:05.753266Z",
     "iopub.status.idle": "2024-01-06T23:18:05.785690Z",
     "shell.execute_reply": "2024-01-06T23:18:05.784929Z"
    },
    "papermill": {
     "duration": 0.066718,
     "end_time": "2024-01-06T23:18:05.795205",
     "exception": false,
     "start_time": "2024-01-06T23:18:05.728487",
     "status": "completed"
    },
    "tags": []
   },
   "outputs": [
    {
     "name": "stdout",
     "output_type": "stream",
     "text": [
      "Model: \"model\"\n",
      "__________________________________________________________________________________________________\n",
      " Layer (type)                Output Shape                 Param #   Connected to                  \n",
      "==================================================================================================\n",
      " input_1 (InputLayer)        [(None, 8)]                  0         []                            \n",
      "                                                                                                  \n",
      " normalization (Normalizati  (None, 8)                    17        ['input_1[0][0]']             \n",
      " on)                                                                                              \n",
      "                                                                                                  \n",
      " dense (Dense)               (None, 50)                   450       ['normalization[0][0]']       \n",
      "                                                                                                  \n",
      " dense_1 (Dense)             (None, 50)                   2550      ['dense[0][0]']               \n",
      "                                                                                                  \n",
      " dense_2 (Dense)             (None, 20)                   1020      ['dense_1[0][0]']             \n",
      "                                                                                                  \n",
      " concatenate (Concatenate)   (None, 28)                   0         ['normalization[0][0]',       \n",
      "                                                                     'dense_2[0][0]']             \n",
      "                                                                                                  \n",
      " dense_3 (Dense)             (None, 1)                    29        ['concatenate[0][0]']         \n",
      "                                                                                                  \n",
      "==================================================================================================\n",
      "Total params: 4066 (15.89 KB)\n",
      "Trainable params: 4049 (15.82 KB)\n",
      "Non-trainable params: 17 (72.00 Byte)\n",
      "__________________________________________________________________________________________________\n"
     ]
    }
   ],
   "source": [
    "model.summary()"
   ]
  },
  {
   "cell_type": "code",
   "execution_count": 8,
   "id": "edfe74ad",
   "metadata": {
    "execution": {
     "iopub.execute_input": "2024-01-06T23:18:05.849838Z",
     "iopub.status.busy": "2024-01-06T23:18:05.849409Z",
     "iopub.status.idle": "2024-01-06T23:18:06.106485Z",
     "shell.execute_reply": "2024-01-06T23:18:06.105580Z"
    },
    "papermill": {
     "duration": 0.286938,
     "end_time": "2024-01-06T23:18:06.108949",
     "exception": false,
     "start_time": "2024-01-06T23:18:05.822011",
     "status": "completed"
    },
    "tags": []
   },
   "outputs": [
    {
     "data": {
      "image/jpeg": "[encoded data removed]",
      "text/plain": [
       "<IPython.core.display.Image object>"
      ]
     },
     "execution_count": 8,
     "metadata": {},
     "output_type": "execute_result"
    }
   ],
   "source": [
    "# Visualising the Model\n",
    "tf.keras.utils.plot_model(model, \"functional_model.jpg\", show_shapes=True, show_layer_names=True)"
   ]
  },
  {
   "cell_type": "markdown",
   "id": "0c106c8e",
   "metadata": {
    "papermill": {
     "duration": 0.026294,
     "end_time": "2024-01-06T23:18:06.162222",
     "exception": false,
     "start_time": "2024-01-06T23:18:06.135928",
     "status": "completed"
    },
    "tags": []
   },
   "source": [
    "**Inference**\n",
    "- While Constructing the model using Keras it is assumed that the Chaining of the layers has been done.\n",
    "- The chaining of the layers is necessary for the model to work when built using the Functional API"
   ]
  },
  {
   "cell_type": "markdown",
   "id": "30858875",
   "metadata": {
    "papermill": {
     "duration": 0.028543,
     "end_time": "2024-01-06T23:18:06.217188",
     "exception": false,
     "start_time": "2024-01-06T23:18:06.188645",
     "status": "completed"
    },
    "tags": []
   },
   "source": [
    "**Compiling the Model**"
   ]
  },
  {
   "cell_type": "code",
   "execution_count": 9,
   "id": "833643dd",
   "metadata": {
    "execution": {
     "iopub.execute_input": "2024-01-06T23:18:06.273985Z",
     "iopub.status.busy": "2024-01-06T23:18:06.273553Z",
     "iopub.status.idle": "2024-01-06T23:18:06.293053Z",
     "shell.execute_reply": "2024-01-06T23:18:06.292127Z"
    },
    "papermill": {
     "duration": 0.050269,
     "end_time": "2024-01-06T23:18:06.295528",
     "exception": false,
     "start_time": "2024-01-06T23:18:06.245259",
     "status": "completed"
    },
    "tags": []
   },
   "outputs": [],
   "source": [
    "model.compile(\n",
    "    loss=\"mse\", \n",
    "    metrics=[\"RootMeanSquaredError\"],\n",
    "    optimizer=tf.keras.optimizers.Adam(learning_rate=1e-3)\n",
    ")"
   ]
  },
  {
   "cell_type": "code",
   "execution_count": 10,
   "id": "39b19d14",
   "metadata": {
    "execution": {
     "iopub.execute_input": "2024-01-06T23:18:06.350992Z",
     "iopub.status.busy": "2024-01-06T23:18:06.350387Z",
     "iopub.status.idle": "2024-01-06T23:18:06.954737Z",
     "shell.execute_reply": "2024-01-06T23:18:06.953740Z"
    },
    "papermill": {
     "duration": 0.635099,
     "end_time": "2024-01-06T23:18:06.957477",
     "exception": false,
     "start_time": "2024-01-06T23:18:06.322378",
     "status": "completed"
    },
    "tags": []
   },
   "outputs": [],
   "source": [
    "# Scaling the Features from the Input Layer\n",
    "norm_layer.adapt(X_train)"
   ]
  },
  {
   "cell_type": "markdown",
   "id": "f9593df7",
   "metadata": {
    "papermill": {
     "duration": 0.026248,
     "end_time": "2024-01-06T23:18:07.010301",
     "exception": false,
     "start_time": "2024-01-06T23:18:06.984053",
     "status": "completed"
    },
    "tags": []
   },
   "source": [
    "**Training**"
   ]
  },
  {
   "cell_type": "code",
   "execution_count": 11,
   "id": "3aaecad6",
   "metadata": {
    "execution": {
     "iopub.execute_input": "2024-01-06T23:18:07.066157Z",
     "iopub.status.busy": "2024-01-06T23:18:07.065761Z",
     "iopub.status.idle": "2024-01-06T23:18:33.738667Z",
     "shell.execute_reply": "2024-01-06T23:18:33.737678Z"
    },
    "papermill": {
     "duration": 26.703296,
     "end_time": "2024-01-06T23:18:33.741214",
     "exception": false,
     "start_time": "2024-01-06T23:18:07.037918",
     "status": "completed"
    },
    "tags": []
   },
   "outputs": [
    {
     "name": "stdout",
     "output_type": "stream",
     "text": [
      "Epoch 1/30\n",
      "363/363 [==============================] - 2s 3ms/step - loss: 1.1137 - root_mean_squared_error: 1.0553 - val_loss: 0.4736 - val_root_mean_squared_error: 0.6882\n",
      "Epoch 2/30\n",
      "363/363 [==============================] - 1s 2ms/step - loss: 0.4252 - root_mean_squared_error: 0.6521 - val_loss: 0.3803 - val_root_mean_squared_error: 0.6167\n",
      "Epoch 3/30\n",
      "363/363 [==============================] - 1s 2ms/step - loss: 0.3884 - root_mean_squared_error: 0.6232 - val_loss: 0.3651 - val_root_mean_squared_error: 0.6042\n",
      "Epoch 4/30\n",
      "363/363 [==============================] - 1s 3ms/step - loss: 0.3636 - root_mean_squared_error: 0.6030 - val_loss: 0.3564 - val_root_mean_squared_error: 0.5970\n",
      "Epoch 5/30\n",
      "363/363 [==============================] - 1s 2ms/step - loss: 0.3600 - root_mean_squared_error: 0.6000 - val_loss: 0.3438 - val_root_mean_squared_error: 0.5863\n",
      "Epoch 6/30\n",
      "363/363 [==============================] - 1s 2ms/step - loss: 0.3473 - root_mean_squared_error: 0.5893 - val_loss: 0.3387 - val_root_mean_squared_error: 0.5820\n",
      "Epoch 7/30\n",
      "363/363 [==============================] - 1s 2ms/step - loss: 0.3303 - root_mean_squared_error: 0.5747 - val_loss: 0.3490 - val_root_mean_squared_error: 0.5908\n",
      "Epoch 8/30\n",
      "363/363 [==============================] - 1s 2ms/step - loss: 0.3277 - root_mean_squared_error: 0.5725 - val_loss: 0.3248 - val_root_mean_squared_error: 0.5699\n",
      "Epoch 9/30\n",
      "363/363 [==============================] - 1s 3ms/step - loss: 0.3149 - root_mean_squared_error: 0.5612 - val_loss: 0.3164 - val_root_mean_squared_error: 0.5625\n",
      "Epoch 10/30\n",
      "363/363 [==============================] - 1s 2ms/step - loss: 0.3102 - root_mean_squared_error: 0.5569 - val_loss: 0.3463 - val_root_mean_squared_error: 0.5885\n",
      "Epoch 11/30\n",
      "363/363 [==============================] - 1s 2ms/step - loss: 0.3138 - root_mean_squared_error: 0.5601 - val_loss: 0.3293 - val_root_mean_squared_error: 0.5739\n",
      "Epoch 12/30\n",
      "363/363 [==============================] - 1s 2ms/step - loss: 0.3017 - root_mean_squared_error: 0.5492 - val_loss: 0.3108 - val_root_mean_squared_error: 0.5575\n",
      "Epoch 13/30\n",
      "363/363 [==============================] - 1s 2ms/step - loss: 0.2952 - root_mean_squared_error: 0.5433 - val_loss: 0.3077 - val_root_mean_squared_error: 0.5547\n",
      "Epoch 14/30\n",
      "363/363 [==============================] - 1s 2ms/step - loss: 0.2947 - root_mean_squared_error: 0.5428 - val_loss: 0.3229 - val_root_mean_squared_error: 0.5682\n",
      "Epoch 15/30\n",
      "363/363 [==============================] - 1s 3ms/step - loss: 0.2963 - root_mean_squared_error: 0.5443 - val_loss: 0.3080 - val_root_mean_squared_error: 0.5550\n",
      "Epoch 16/30\n",
      "363/363 [==============================] - 1s 2ms/step - loss: 0.2888 - root_mean_squared_error: 0.5374 - val_loss: 0.2979 - val_root_mean_squared_error: 0.5458\n",
      "Epoch 17/30\n",
      "363/363 [==============================] - 1s 2ms/step - loss: 0.2865 - root_mean_squared_error: 0.5352 - val_loss: 0.2973 - val_root_mean_squared_error: 0.5452\n",
      "Epoch 18/30\n",
      "363/363 [==============================] - 1s 3ms/step - loss: 0.2819 - root_mean_squared_error: 0.5309 - val_loss: 0.3043 - val_root_mean_squared_error: 0.5516\n",
      "Epoch 19/30\n",
      "363/363 [==============================] - 1s 2ms/step - loss: 0.2854 - root_mean_squared_error: 0.5342 - val_loss: 0.3202 - val_root_mean_squared_error: 0.5659\n",
      "Epoch 20/30\n",
      "363/363 [==============================] - 1s 2ms/step - loss: 0.2778 - root_mean_squared_error: 0.5271 - val_loss: 0.2943 - val_root_mean_squared_error: 0.5425\n",
      "Epoch 21/30\n",
      "363/363 [==============================] - 1s 2ms/step - loss: 0.2754 - root_mean_squared_error: 0.5248 - val_loss: 0.2931 - val_root_mean_squared_error: 0.5414\n",
      "Epoch 22/30\n",
      "363/363 [==============================] - 1s 3ms/step - loss: 0.2829 - root_mean_squared_error: 0.5319 - val_loss: 0.3150 - val_root_mean_squared_error: 0.5612\n",
      "Epoch 23/30\n",
      "363/363 [==============================] - 1s 2ms/step - loss: 0.2802 - root_mean_squared_error: 0.5294 - val_loss: 0.2904 - val_root_mean_squared_error: 0.5389\n",
      "Epoch 24/30\n",
      "363/363 [==============================] - 1s 2ms/step - loss: 0.2737 - root_mean_squared_error: 0.5231 - val_loss: 0.2878 - val_root_mean_squared_error: 0.5365\n",
      "Epoch 25/30\n",
      "363/363 [==============================] - 1s 3ms/step - loss: 0.2698 - root_mean_squared_error: 0.5195 - val_loss: 0.2940 - val_root_mean_squared_error: 0.5422\n",
      "Epoch 26/30\n",
      "363/363 [==============================] - 1s 2ms/step - loss: 0.2726 - root_mean_squared_error: 0.5221 - val_loss: 0.2942 - val_root_mean_squared_error: 0.5424\n",
      "Epoch 27/30\n",
      "363/363 [==============================] - 1s 2ms/step - loss: 0.2698 - root_mean_squared_error: 0.5195 - val_loss: 0.2948 - val_root_mean_squared_error: 0.5430\n",
      "Epoch 28/30\n",
      "363/363 [==============================] - 1s 3ms/step - loss: 0.2649 - root_mean_squared_error: 0.5147 - val_loss: 0.2916 - val_root_mean_squared_error: 0.5400\n",
      "Epoch 29/30\n",
      "363/363 [==============================] - 1s 3ms/step - loss: 0.2668 - root_mean_squared_error: 0.5166 - val_loss: 0.2887 - val_root_mean_squared_error: 0.5373\n",
      "Epoch 30/30\n",
      "363/363 [==============================] - 1s 2ms/step - loss: 0.2653 - root_mean_squared_error: 0.5150 - val_loss: 0.2820 - val_root_mean_squared_error: 0.5310\n"
     ]
    }
   ],
   "source": [
    "history = model.fit(X_train, y_train, validation_data=(X_valid, y_valid), epochs=30)"
   ]
  },
  {
   "cell_type": "code",
   "execution_count": 12,
   "id": "9dcb4f87",
   "metadata": {
    "execution": {
     "iopub.execute_input": "2024-01-06T23:18:33.881116Z",
     "iopub.status.busy": "2024-01-06T23:18:33.880077Z",
     "iopub.status.idle": "2024-01-06T23:18:34.187002Z",
     "shell.execute_reply": "2024-01-06T23:18:34.186170Z"
    },
    "papermill": {
     "duration": 0.379127,
     "end_time": "2024-01-06T23:18:34.189108",
     "exception": false,
     "start_time": "2024-01-06T23:18:33.809981",
     "status": "completed"
    },
    "tags": []
   },
   "outputs": [
    {
     "data": {
      "image/png": "[encoded data removed]",
      "text/plain": [
       "<Figure size 800x600 with 1 Axes>"
      ]
     },
     "metadata": {},
     "output_type": "display_data"
    }
   ],
   "source": [
    "import pandas as pd\n",
    "import matplotlib.pyplot as plt\n",
    "\n",
    "pd.DataFrame(history.history).plot(\n",
    "    figsize=(8, 6),\n",
    "    xlim=[0, 29], ylim=[0, 1],\n",
    "    xlabel=\"Epochs\"\n",
    ")\n",
    "\n",
    "plt.grid()\n",
    "plt.show()"
   ]
  },
  {
   "cell_type": "markdown",
   "id": "a796b9d2",
   "metadata": {
    "papermill": {
     "duration": 0.068814,
     "end_time": "2024-01-06T23:18:34.328695",
     "exception": false,
     "start_time": "2024-01-06T23:18:34.259881",
     "status": "completed"
    },
    "tags": []
   },
   "source": [
    "**Testing**"
   ]
  },
  {
   "cell_type": "code",
   "execution_count": 13,
   "id": "c3513050",
   "metadata": {
    "execution": {
     "iopub.execute_input": "2024-01-06T23:18:34.468052Z",
     "iopub.status.busy": "2024-01-06T23:18:34.467246Z",
     "iopub.status.idle": "2024-01-06T23:18:34.777063Z",
     "shell.execute_reply": "2024-01-06T23:18:34.776122Z"
    },
    "papermill": {
     "duration": 0.382027,
     "end_time": "2024-01-06T23:18:34.779212",
     "exception": false,
     "start_time": "2024-01-06T23:18:34.397185",
     "status": "completed"
    },
    "tags": []
   },
   "outputs": [
    {
     "name": "stdout",
     "output_type": "stream",
     "text": [
      "162/162 [==============================] - 0s 1ms/step - loss: 0.2857 - root_mean_squared_error: 0.5345\n"
     ]
    },
    {
     "data": {
      "text/plain": [
       "[0.2856939733028412, 0.5345034599304199]"
      ]
     },
     "execution_count": 13,
     "metadata": {},
     "output_type": "execute_result"
    }
   ],
   "source": [
    "model.evaluate(X_test, y_test)"
   ]
  },
  {
   "cell_type": "markdown",
   "id": "dbb3ab19",
   "metadata": {
    "papermill": {
     "duration": 0.070846,
     "end_time": "2024-01-06T23:18:34.920416",
     "exception": false,
     "start_time": "2024-01-06T23:18:34.849570",
     "status": "completed"
    },
    "tags": []
   },
   "source": [
    "**Making Predictions**"
   ]
  },
  {
   "cell_type": "code",
   "execution_count": 14,
   "id": "085eced7",
   "metadata": {
    "execution": {
     "iopub.execute_input": "2024-01-06T23:18:35.062571Z",
     "iopub.status.busy": "2024-01-06T23:18:35.062156Z",
     "iopub.status.idle": "2024-01-06T23:18:35.249050Z",
     "shell.execute_reply": "2024-01-06T23:18:35.247774Z"
    },
    "papermill": {
     "duration": 0.260852,
     "end_time": "2024-01-06T23:18:35.251363",
     "exception": false,
     "start_time": "2024-01-06T23:18:34.990511",
     "status": "completed"
    },
    "tags": []
   },
   "outputs": [
    {
     "name": "stdout",
     "output_type": "stream",
     "text": [
      "1/1 [==============================] - 0s 118ms/step\n",
      "Predictions:\n",
      " [[3.8347747 ]\n",
      " [2.7439907 ]\n",
      " [0.81666106]\n",
      " [2.214903  ]\n",
      " [3.7622643 ]]\n",
      "\n",
      "Targets:\n",
      " [5.00001 2.696   0.675   4.471   3.294  ]\n"
     ]
    }
   ],
   "source": [
    "X_pred = X_test[-5:]\n",
    "y_pred = model.predict(X_pred)\n",
    "\n",
    "print(\"Predictions:\\n\", y_pred)\n",
    "print(\"\\nTargets:\\n\", y_test[-5:])"
   ]
  },
  {
   "cell_type": "markdown",
   "id": "0e597d66",
   "metadata": {
    "papermill": {
     "duration": 0.069898,
     "end_time": "2024-01-06T23:18:35.391857",
     "exception": false,
     "start_time": "2024-01-06T23:18:35.321959",
     "status": "completed"
    },
    "tags": []
   },
   "source": [
    "## Wide and Deep Model with Multiple Inputs\n",
    "\n",
    "- With the Functional API we can pass a feature or a group features through different parts / inputs of the model"
   ]
  },
  {
   "cell_type": "code",
   "execution_count": 15,
   "id": "4931c8b4",
   "metadata": {
    "execution": {
     "iopub.execute_input": "2024-01-06T23:18:35.534641Z",
     "iopub.status.busy": "2024-01-06T23:18:35.533975Z",
     "iopub.status.idle": "2024-01-06T23:18:35.547770Z",
     "shell.execute_reply": "2024-01-06T23:18:35.546944Z"
    },
    "papermill": {
     "duration": 0.087965,
     "end_time": "2024-01-06T23:18:35.550126",
     "exception": false,
     "start_time": "2024-01-06T23:18:35.462161",
     "status": "completed"
    },
    "tags": []
   },
   "outputs": [],
   "source": [
    "tf.keras.backend.clear_session()\n",
    "tf.random.set_seed(1730)"
   ]
  },
  {
   "cell_type": "markdown",
   "id": "c77237dd",
   "metadata": {
    "papermill": {
     "duration": 0.07066,
     "end_time": "2024-01-06T23:18:35.690902",
     "exception": false,
     "start_time": "2024-01-06T23:18:35.620242",
     "status": "completed"
    },
    "tags": []
   },
   "source": [
    "**Configuring the Layers used by the Model**"
   ]
  },
  {
   "cell_type": "code",
   "execution_count": 16,
   "id": "a4b413ff",
   "metadata": {
    "execution": {
     "iopub.execute_input": "2024-01-06T23:18:35.833890Z",
     "iopub.status.busy": "2024-01-06T23:18:35.833428Z",
     "iopub.status.idle": "2024-01-06T23:18:35.932354Z",
     "shell.execute_reply": "2024-01-06T23:18:35.931202Z"
    },
    "papermill": {
     "duration": 0.174027,
     "end_time": "2024-01-06T23:18:35.935045",
     "exception": false,
     "start_time": "2024-01-06T23:18:35.761018",
     "status": "completed"
    },
    "tags": []
   },
   "outputs": [],
   "source": [
    "# Splitting the Inputs\n",
    "input_wide = tf.keras.layers.Input(shape=[5])\n",
    "input_deep = tf.keras.layers.Input(shape=[6])\n",
    "\n",
    "# Normalisation Layers\n",
    "norm_layer_wide = tf.keras.layers.Normalization()\n",
    "norm_layer_deep = tf.keras.layers.Normalization()\n",
    "\n",
    "# Chaining the Inputs\n",
    "norm_wide = norm_layer_wide(input_wide)\n",
    "norm_deep = norm_layer_deep(input_deep)\n",
    "\n",
    "# Hidden Layers\n",
    "hidden1 = tf.keras.layers.Dense(50, activation=\"relu\")(norm_deep)\n",
    "hidden2 = tf.keras.layers.Dense(50, activation=\"relu\")(hidden1)\n",
    "\n",
    "# Concatenation Layer\n",
    "concat = tf.keras.layers.concatenate([norm_wide, hidden2])\n",
    "\n",
    "# Output Layer\n",
    "output = tf.keras.layers.Dense(1)(concat)"
   ]
  },
  {
   "cell_type": "markdown",
   "id": "b9fd7db7",
   "metadata": {
    "papermill": {
     "duration": 0.069747,
     "end_time": "2024-01-06T23:18:36.074767",
     "exception": false,
     "start_time": "2024-01-06T23:18:36.005020",
     "status": "completed"
    },
    "tags": []
   },
   "source": [
    "**Constructing the Model**"
   ]
  },
  {
   "cell_type": "code",
   "execution_count": 17,
   "id": "933300af",
   "metadata": {
    "execution": {
     "iopub.execute_input": "2024-01-06T23:18:36.217143Z",
     "iopub.status.busy": "2024-01-06T23:18:36.216488Z",
     "iopub.status.idle": "2024-01-06T23:18:36.257431Z",
     "shell.execute_reply": "2024-01-06T23:18:36.256121Z"
    },
    "papermill": {
     "duration": 0.115562,
     "end_time": "2024-01-06T23:18:36.260535",
     "exception": false,
     "start_time": "2024-01-06T23:18:36.144973",
     "status": "completed"
    },
    "tags": []
   },
   "outputs": [
    {
     "name": "stdout",
     "output_type": "stream",
     "text": [
      "Model: \"model\"\n",
      "__________________________________________________________________________________________________\n",
      " Layer (type)                Output Shape                 Param #   Connected to                  \n",
      "==================================================================================================\n",
      " input_2 (InputLayer)        [(None, 6)]                  0         []                            \n",
      "                                                                                                  \n",
      " normalization_1 (Normaliza  (None, 6)                    13        ['input_2[0][0]']             \n",
      " tion)                                                                                            \n",
      "                                                                                                  \n",
      " input_1 (InputLayer)        [(None, 5)]                  0         []                            \n",
      "                                                                                                  \n",
      " dense (Dense)               (None, 50)                   350       ['normalization_1[0][0]']     \n",
      "                                                                                                  \n",
      " normalization (Normalizati  (None, 5)                    11        ['input_1[0][0]']             \n",
      " on)                                                                                              \n",
      "                                                                                                  \n",
      " dense_1 (Dense)             (None, 50)                   2550      ['dense[0][0]']               \n",
      "                                                                                                  \n",
      " concatenate (Concatenate)   (None, 55)                   0         ['normalization[0][0]',       \n",
      "                                                                     'dense_1[0][0]']             \n",
      "                                                                                                  \n",
      " dense_2 (Dense)             (None, 1)                    56        ['concatenate[0][0]']         \n",
      "                                                                                                  \n",
      "==================================================================================================\n",
      "Total params: 2980 (11.65 KB)\n",
      "Trainable params: 2956 (11.55 KB)\n",
      "Non-trainable params: 24 (104.00 Byte)\n",
      "__________________________________________________________________________________________________\n"
     ]
    }
   ],
   "source": [
    "model = tf.keras.Model(inputs=[input_wide, input_deep], outputs=[output])\n",
    "model.summary()"
   ]
  },
  {
   "cell_type": "code",
   "execution_count": 18,
   "id": "b16655f8",
   "metadata": {
    "execution": {
     "iopub.execute_input": "2024-01-06T23:18:36.406860Z",
     "iopub.status.busy": "2024-01-06T23:18:36.406422Z",
     "iopub.status.idle": "2024-01-06T23:18:36.476995Z",
     "shell.execute_reply": "2024-01-06T23:18:36.476157Z"
    },
    "papermill": {
     "duration": 0.146396,
     "end_time": "2024-01-06T23:18:36.479422",
     "exception": false,
     "start_time": "2024-01-06T23:18:36.333026",
     "status": "completed"
    },
    "tags": []
   },
   "outputs": [
    {
     "data": {
      "image/jpeg": "[encoded data removed]",
      "text/plain": [
       "<IPython.core.display.Image object>"
      ]
     },
     "execution_count": 18,
     "metadata": {},
     "output_type": "execute_result"
    }
   ],
   "source": [
    "tf.keras.utils.plot_model(model, \"sep_inputs_wide_and_deep.jpg\", show_shapes=True, show_layer_names=True)"
   ]
  },
  {
   "cell_type": "code",
   "execution_count": 19,
   "id": "d4d0490e",
   "metadata": {
    "execution": {
     "iopub.execute_input": "2024-01-06T23:18:36.630947Z",
     "iopub.status.busy": "2024-01-06T23:18:36.630064Z",
     "iopub.status.idle": "2024-01-06T23:18:36.636776Z",
     "shell.execute_reply": "2024-01-06T23:18:36.635781Z"
    },
    "papermill": {
     "duration": 0.085604,
     "end_time": "2024-01-06T23:18:36.639056",
     "exception": false,
     "start_time": "2024-01-06T23:18:36.553452",
     "status": "completed"
    },
    "tags": []
   },
   "outputs": [],
   "source": [
    "# Splitting the Inputs to Train and Test the Model\n",
    "X_train_wide, X_train_deep = X_train[:, :5], X_train[:, 2:]\n",
    "X_valid_wide, X_valid_deep = X_valid[:, :5], X_valid[:, 2:]\n",
    "X_test_wide, X_test_deep = X_test[:, :5], X_test[:, 2:]\n",
    "X_pred_wide, X_pred_deep = X_test_wide[-5:], X_test_deep[-5:]"
   ]
  },
  {
   "cell_type": "markdown",
   "id": "1e8c03a8",
   "metadata": {
    "papermill": {
     "duration": 0.075832,
     "end_time": "2024-01-06T23:18:36.790115",
     "exception": false,
     "start_time": "2024-01-06T23:18:36.714283",
     "status": "completed"
    },
    "tags": []
   },
   "source": [
    "**Compiling the Model**"
   ]
  },
  {
   "cell_type": "code",
   "execution_count": 20,
   "id": "b916c651",
   "metadata": {
    "execution": {
     "iopub.execute_input": "2024-01-06T23:18:36.947960Z",
     "iopub.status.busy": "2024-01-06T23:18:36.947436Z",
     "iopub.status.idle": "2024-01-06T23:18:36.965828Z",
     "shell.execute_reply": "2024-01-06T23:18:36.964870Z"
    },
    "papermill": {
     "duration": 0.101802,
     "end_time": "2024-01-06T23:18:36.968789",
     "exception": false,
     "start_time": "2024-01-06T23:18:36.866987",
     "status": "completed"
    },
    "tags": []
   },
   "outputs": [],
   "source": [
    "model.compile(\n",
    "    loss=\"mse\",\n",
    "    metrics=[\"RootMeanSquaredError\"],\n",
    "    optimizer=tf.keras.optimizers.Adam(learning_rate=1e-3)\n",
    ")"
   ]
  },
  {
   "cell_type": "markdown",
   "id": "b7ba5b7a",
   "metadata": {
    "papermill": {
     "duration": 0.075211,
     "end_time": "2024-01-06T23:18:37.120084",
     "exception": false,
     "start_time": "2024-01-06T23:18:37.044873",
     "status": "completed"
    },
    "tags": []
   },
   "source": [
    "**Training**"
   ]
  },
  {
   "cell_type": "markdown",
   "id": "2247471a",
   "metadata": {
    "papermill": {
     "duration": 0.07623,
     "end_time": "2024-01-06T23:18:37.272023",
     "exception": false,
     "start_time": "2024-01-06T23:18:37.195793",
     "status": "completed"
    },
    "tags": []
   },
   "source": [
    "**Important**\n",
    "- Since the model is taking multiple inputs we need to pass the Training set in order for the multiple inputs"
   ]
  },
  {
   "cell_type": "code",
   "execution_count": 21,
   "id": "dafd5f63",
   "metadata": {
    "execution": {
     "iopub.execute_input": "2024-01-06T23:18:37.426143Z",
     "iopub.status.busy": "2024-01-06T23:18:37.425597Z",
     "iopub.status.idle": "2024-01-06T23:19:04.661469Z",
     "shell.execute_reply": "2024-01-06T23:19:04.659764Z"
    },
    "papermill": {
     "duration": 27.316729,
     "end_time": "2024-01-06T23:19:04.664422",
     "exception": false,
     "start_time": "2024-01-06T23:18:37.347693",
     "status": "completed"
    },
    "tags": []
   },
   "outputs": [
    {
     "name": "stdout",
     "output_type": "stream",
     "text": [
      "Epoch 1/30\n",
      "363/363 [==============================] - 2s 3ms/step - loss: 126.6198 - root_mean_squared_error: 11.2525 - val_loss: 5.1335 - val_root_mean_squared_error: 2.2657\n",
      "Epoch 2/30\n",
      "363/363 [==============================] - 1s 2ms/step - loss: 5.0207 - root_mean_squared_error: 2.2407 - val_loss: 3.4262 - val_root_mean_squared_error: 1.8510\n",
      "Epoch 3/30\n",
      "363/363 [==============================] - 1s 3ms/step - loss: 3.0319 - root_mean_squared_error: 1.7412 - val_loss: 3.2878 - val_root_mean_squared_error: 1.8132\n",
      "Epoch 4/30\n",
      "363/363 [==============================] - 1s 2ms/step - loss: 3.9293 - root_mean_squared_error: 1.9822 - val_loss: 2.3266 - val_root_mean_squared_error: 1.5253\n",
      "Epoch 5/30\n",
      "363/363 [==============================] - 1s 3ms/step - loss: 4.6094 - root_mean_squared_error: 2.1470 - val_loss: 1.2772 - val_root_mean_squared_error: 1.1301\n",
      "Epoch 6/30\n",
      "363/363 [==============================] - 1s 3ms/step - loss: 1.7201 - root_mean_squared_error: 1.3115 - val_loss: 1.1669 - val_root_mean_squared_error: 1.0802\n",
      "Epoch 7/30\n",
      "363/363 [==============================] - 1s 2ms/step - loss: 1.5683 - root_mean_squared_error: 1.2523 - val_loss: 70.2815 - val_root_mean_squared_error: 8.3834\n",
      "Epoch 8/30\n",
      "363/363 [==============================] - 1s 2ms/step - loss: 3.5439 - root_mean_squared_error: 1.8825 - val_loss: 0.9557 - val_root_mean_squared_error: 0.9776\n",
      "Epoch 9/30\n",
      "363/363 [==============================] - 1s 2ms/step - loss: 11.1671 - root_mean_squared_error: 3.3417 - val_loss: 0.8579 - val_root_mean_squared_error: 0.9262\n",
      "Epoch 10/30\n",
      "363/363 [==============================] - 1s 2ms/step - loss: 74.6218 - root_mean_squared_error: 8.6384 - val_loss: 0.9541 - val_root_mean_squared_error: 0.9768\n",
      "Epoch 11/30\n",
      "363/363 [==============================] - 1s 2ms/step - loss: 1.4274 - root_mean_squared_error: 1.1948 - val_loss: 4.8900 - val_root_mean_squared_error: 2.2113\n",
      "Epoch 12/30\n",
      "363/363 [==============================] - 1s 3ms/step - loss: 1.0467 - root_mean_squared_error: 1.0231 - val_loss: 0.6972 - val_root_mean_squared_error: 0.8350\n",
      "Epoch 13/30\n",
      "363/363 [==============================] - 1s 2ms/step - loss: 1.1140 - root_mean_squared_error: 1.0555 - val_loss: 0.9603 - val_root_mean_squared_error: 0.9800\n",
      "Epoch 14/30\n",
      "363/363 [==============================] - 1s 2ms/step - loss: 4.1881 - root_mean_squared_error: 2.0465 - val_loss: 0.8656 - val_root_mean_squared_error: 0.9304\n",
      "Epoch 15/30\n",
      "363/363 [==============================] - 1s 2ms/step - loss: 1.3313 - root_mean_squared_error: 1.1538 - val_loss: 0.6612 - val_root_mean_squared_error: 0.8131\n",
      "Epoch 16/30\n",
      "363/363 [==============================] - 1s 2ms/step - loss: 1.0932 - root_mean_squared_error: 1.0456 - val_loss: 0.8347 - val_root_mean_squared_error: 0.9136\n",
      "Epoch 17/30\n",
      "363/363 [==============================] - 1s 2ms/step - loss: 15.4121 - root_mean_squared_error: 3.9258 - val_loss: 1.4643 - val_root_mean_squared_error: 1.2101\n",
      "Epoch 18/30\n",
      "363/363 [==============================] - 1s 2ms/step - loss: 1.4674 - root_mean_squared_error: 1.2114 - val_loss: 1.0239 - val_root_mean_squared_error: 1.0119\n",
      "Epoch 19/30\n",
      "363/363 [==============================] - 1s 3ms/step - loss: 3.3778 - root_mean_squared_error: 1.8379 - val_loss: 0.6618 - val_root_mean_squared_error: 0.8135\n",
      "Epoch 20/30\n",
      "363/363 [==============================] - 1s 2ms/step - loss: 1.4959 - root_mean_squared_error: 1.2231 - val_loss: 0.6769 - val_root_mean_squared_error: 0.8227\n",
      "Epoch 21/30\n",
      "363/363 [==============================] - 1s 3ms/step - loss: 1.2317 - root_mean_squared_error: 1.1098 - val_loss: 1.1098 - val_root_mean_squared_error: 1.0535\n",
      "Epoch 22/30\n",
      "363/363 [==============================] - 1s 3ms/step - loss: 5.3367 - root_mean_squared_error: 2.3101 - val_loss: 0.8858 - val_root_mean_squared_error: 0.9412\n",
      "Epoch 23/30\n",
      "363/363 [==============================] - 1s 2ms/step - loss: 47.2418 - root_mean_squared_error: 6.8733 - val_loss: 1.0364 - val_root_mean_squared_error: 1.0180\n",
      "Epoch 24/30\n",
      "363/363 [==============================] - 1s 2ms/step - loss: 1.7100 - root_mean_squared_error: 1.3077 - val_loss: 1.0726 - val_root_mean_squared_error: 1.0357\n",
      "Epoch 25/30\n",
      "363/363 [==============================] - 1s 2ms/step - loss: 2.2558 - root_mean_squared_error: 1.5019 - val_loss: 0.6475 - val_root_mean_squared_error: 0.8047\n",
      "Epoch 26/30\n",
      "363/363 [==============================] - 1s 2ms/step - loss: 1.1466 - root_mean_squared_error: 1.0708 - val_loss: 0.6807 - val_root_mean_squared_error: 0.8250\n",
      "Epoch 27/30\n",
      "363/363 [==============================] - 1s 2ms/step - loss: 1.0134 - root_mean_squared_error: 1.0067 - val_loss: 0.7098 - val_root_mean_squared_error: 0.8425\n",
      "Epoch 28/30\n",
      "363/363 [==============================] - 1s 2ms/step - loss: 0.9302 - root_mean_squared_error: 0.9644 - val_loss: 0.7119 - val_root_mean_squared_error: 0.8438\n",
      "Epoch 29/30\n",
      "363/363 [==============================] - 1s 2ms/step - loss: 0.9557 - root_mean_squared_error: 0.9776 - val_loss: 0.6126 - val_root_mean_squared_error: 0.7827\n",
      "Epoch 30/30\n",
      "363/363 [==============================] - 1s 2ms/step - loss: 4.7768 - root_mean_squared_error: 2.1856 - val_loss: 0.6894 - val_root_mean_squared_error: 0.8303\n"
     ]
    }
   ],
   "source": [
    "history = model.fit(\n",
    "    (X_train_wide, X_train_deep), y_train,\n",
    "    validation_data=((X_valid_wide, X_valid_deep), y_valid),\n",
    "    epochs=30\n",
    ")"
   ]
  },
  {
   "cell_type": "code",
   "execution_count": 22,
   "id": "ebafcb60",
   "metadata": {
    "execution": {
     "iopub.execute_input": "2024-01-06T23:19:04.903070Z",
     "iopub.status.busy": "2024-01-06T23:19:04.902668Z",
     "iopub.status.idle": "2024-01-06T23:19:05.212296Z",
     "shell.execute_reply": "2024-01-06T23:19:05.211101Z"
    },
    "papermill": {
     "duration": 0.433737,
     "end_time": "2024-01-06T23:19:05.214822",
     "exception": false,
     "start_time": "2024-01-06T23:19:04.781085",
     "status": "completed"
    },
    "tags": []
   },
   "outputs": [
    {
     "data": {
      "image/png": "[encoded data removed]",
      "text/plain": [
       "<Figure size 800x600 with 1 Axes>"
      ]
     },
     "metadata": {},
     "output_type": "display_data"
    }
   ],
   "source": [
    "pd.DataFrame(history.history).plot(\n",
    "    figsize=(8, 6),\n",
    "    xlim=[0, 29],\n",
    "    ylim=[0, 100],\n",
    "    xlabel=\"Epochs\"\n",
    ")\n",
    "\n",
    "plt.grid()\n",
    "plt.show()"
   ]
  },
  {
   "cell_type": "markdown",
   "id": "7c6640c3",
   "metadata": {
    "papermill": {
     "duration": 0.117372,
     "end_time": "2024-01-06T23:19:05.450060",
     "exception": false,
     "start_time": "2024-01-06T23:19:05.332688",
     "status": "completed"
    },
    "tags": []
   },
   "source": [
    "**Testing**"
   ]
  },
  {
   "cell_type": "code",
   "execution_count": 23,
   "id": "c4f663fb",
   "metadata": {
    "execution": {
     "iopub.execute_input": "2024-01-06T23:19:05.686301Z",
     "iopub.status.busy": "2024-01-06T23:19:05.685902Z",
     "iopub.status.idle": "2024-01-06T23:19:06.025784Z",
     "shell.execute_reply": "2024-01-06T23:19:06.024631Z"
    },
    "papermill": {
     "duration": 0.460898,
     "end_time": "2024-01-06T23:19:06.028187",
     "exception": false,
     "start_time": "2024-01-06T23:19:05.567289",
     "status": "completed"
    },
    "tags": []
   },
   "outputs": [
    {
     "name": "stdout",
     "output_type": "stream",
     "text": [
      "162/162 [==============================] - 0s 2ms/step - loss: 0.7133 - root_mean_squared_error: 0.8445\n"
     ]
    },
    {
     "data": {
      "text/plain": [
       "[0.7132518291473389, 0.844542384147644]"
      ]
     },
     "execution_count": 23,
     "metadata": {},
     "output_type": "execute_result"
    }
   ],
   "source": [
    "model.evaluate((X_test_wide, X_test_deep), y_test)"
   ]
  },
  {
   "cell_type": "markdown",
   "id": "e53b23c3",
   "metadata": {
    "papermill": {
     "duration": 0.118986,
     "end_time": "2024-01-06T23:19:06.265614",
     "exception": false,
     "start_time": "2024-01-06T23:19:06.146628",
     "status": "completed"
    },
    "tags": []
   },
   "source": [
    "**Making Predictions**"
   ]
  },
  {
   "cell_type": "code",
   "execution_count": 24,
   "id": "6fe3bef8",
   "metadata": {
    "execution": {
     "iopub.execute_input": "2024-01-06T23:19:06.504262Z",
     "iopub.status.busy": "2024-01-06T23:19:06.503886Z",
     "iopub.status.idle": "2024-01-06T23:19:06.644552Z",
     "shell.execute_reply": "2024-01-06T23:19:06.643445Z"
    },
    "papermill": {
     "duration": 0.263148,
     "end_time": "2024-01-06T23:19:06.647204",
     "exception": false,
     "start_time": "2024-01-06T23:19:06.384056",
     "status": "completed"
    },
    "tags": []
   },
   "outputs": [
    {
     "name": "stdout",
     "output_type": "stream",
     "text": [
      "1/1 [==============================] - 0s 80ms/step\n",
      "Predictions:\n",
      " [[3.536731 ]\n",
      " [2.6205266]\n",
      " [1.4438157]\n",
      " [3.1716135]\n",
      " [3.5299914]]\n",
      "\n",
      "Targets:\n",
      " [5.00001 2.696   0.675   4.471   3.294  ]\n"
     ]
    }
   ],
   "source": [
    "y_pred = model.predict((X_pred_wide, X_pred_deep))\n",
    "\n",
    "print(\"Predictions:\\n\", y_pred)\n",
    "print(\"\\nTargets:\\n\", y_test[-5:])"
   ]
  },
  {
   "cell_type": "markdown",
   "id": "9ca52d01",
   "metadata": {
    "papermill": {
     "duration": 0.119781,
     "end_time": "2024-01-06T23:19:06.887086",
     "exception": false,
     "start_time": "2024-01-06T23:19:06.767305",
     "status": "completed"
    },
    "tags": []
   },
   "source": [
    "## Wide and Deep Model with Multiple Outputs"
   ]
  },
  {
   "cell_type": "code",
   "execution_count": 25,
   "id": "96f08edb",
   "metadata": {
    "execution": {
     "iopub.execute_input": "2024-01-06T23:19:07.127047Z",
     "iopub.status.busy": "2024-01-06T23:19:07.126632Z",
     "iopub.status.idle": "2024-01-06T23:19:07.141834Z",
     "shell.execute_reply": "2024-01-06T23:19:07.140885Z"
    },
    "papermill": {
     "duration": 0.1375,
     "end_time": "2024-01-06T23:19:07.144036",
     "exception": false,
     "start_time": "2024-01-06T23:19:07.006536",
     "status": "completed"
    },
    "tags": []
   },
   "outputs": [],
   "source": [
    "tf.keras.backend.clear_session()\n",
    "tf.random.set_seed(1730)"
   ]
  },
  {
   "cell_type": "markdown",
   "id": "f08e3a2a",
   "metadata": {
    "papermill": {
     "duration": 0.119858,
     "end_time": "2024-01-06T23:19:07.382207",
     "exception": false,
     "start_time": "2024-01-06T23:19:07.262349",
     "status": "completed"
    },
    "tags": []
   },
   "source": [
    "**Configuring the Layers of the Model**"
   ]
  },
  {
   "cell_type": "code",
   "execution_count": 26,
   "id": "0f88c4c0",
   "metadata": {
    "execution": {
     "iopub.execute_input": "2024-01-06T23:19:07.620768Z",
     "iopub.status.busy": "2024-01-06T23:19:07.620309Z",
     "iopub.status.idle": "2024-01-06T23:19:07.732651Z",
     "shell.execute_reply": "2024-01-06T23:19:07.731490Z"
    },
    "papermill": {
     "duration": 0.235067,
     "end_time": "2024-01-06T23:19:07.735374",
     "exception": false,
     "start_time": "2024-01-06T23:19:07.500307",
     "status": "completed"
    },
    "tags": []
   },
   "outputs": [],
   "source": [
    "# Input Layers\n",
    "input_wide = tf.keras.layers.Input(shape=[5])\n",
    "input_deep = tf.keras.layers.Input(shape=[6])\n",
    "\n",
    "# Normalisation Layers\n",
    "norm_wide_layer = tf.keras.layers.Normalization()\n",
    "norm_deep_layer = tf.keras.layers.Normalization()\n",
    "\n",
    "# Chaining the Input Layers\n",
    "norm_wide = norm_wide_layer(input_wide)\n",
    "norm_deep = norm_deep_layer(input_deep)\n",
    "\n",
    "# Hidden Layers\n",
    "hidden1 = tf.keras.layers.Dense(50, activation=\"relu\")(norm_deep)\n",
    "hidden2 = tf.keras.layers.Dense(50, activation=\"relu\")(hidden1)\n",
    "\n",
    "# Concatenation Layer\n",
    "concat = tf.keras.layers.concatenate([norm_wide, hidden2])\n",
    "\n",
    "# Aux Output\n",
    "aux_out = tf.keras.layers.Dense(1)(hidden2)\n",
    "\n",
    "# Output Layer\n",
    "output = tf.keras.layers.Dense(1)(concat)"
   ]
  },
  {
   "cell_type": "markdown",
   "id": "de59b603",
   "metadata": {
    "papermill": {
     "duration": 0.1202,
     "end_time": "2024-01-06T23:19:07.977131",
     "exception": false,
     "start_time": "2024-01-06T23:19:07.856931",
     "status": "completed"
    },
    "tags": []
   },
   "source": [
    "**Constructing the Model**"
   ]
  },
  {
   "cell_type": "code",
   "execution_count": 27,
   "id": "8ec973d1",
   "metadata": {
    "execution": {
     "iopub.execute_input": "2024-01-06T23:19:08.219696Z",
     "iopub.status.busy": "2024-01-06T23:19:08.219019Z",
     "iopub.status.idle": "2024-01-06T23:19:08.261841Z",
     "shell.execute_reply": "2024-01-06T23:19:08.260549Z"
    },
    "papermill": {
     "duration": 0.16754,
     "end_time": "2024-01-06T23:19:08.265686",
     "exception": false,
     "start_time": "2024-01-06T23:19:08.098146",
     "status": "completed"
    },
    "tags": []
   },
   "outputs": [
    {
     "name": "stdout",
     "output_type": "stream",
     "text": [
      "Model: \"model\"\n",
      "__________________________________________________________________________________________________\n",
      " Layer (type)                Output Shape                 Param #   Connected to                  \n",
      "==================================================================================================\n",
      " input_2 (InputLayer)        [(None, 6)]                  0         []                            \n",
      "                                                                                                  \n",
      " normalization_1 (Normaliza  (None, 6)                    13        ['input_2[0][0]']             \n",
      " tion)                                                                                            \n",
      "                                                                                                  \n",
      " input_1 (InputLayer)        [(None, 5)]                  0         []                            \n",
      "                                                                                                  \n",
      " dense (Dense)               (None, 50)                   350       ['normalization_1[0][0]']     \n",
      "                                                                                                  \n",
      " normalization (Normalizati  (None, 5)                    11        ['input_1[0][0]']             \n",
      " on)                                                                                              \n",
      "                                                                                                  \n",
      " dense_1 (Dense)             (None, 50)                   2550      ['dense[0][0]']               \n",
      "                                                                                                  \n",
      " concatenate (Concatenate)   (None, 55)                   0         ['normalization[0][0]',       \n",
      "                                                                     'dense_1[0][0]']             \n",
      "                                                                                                  \n",
      " dense_3 (Dense)             (None, 1)                    56        ['concatenate[0][0]']         \n",
      "                                                                                                  \n",
      " dense_2 (Dense)             (None, 1)                    51        ['dense_1[0][0]']             \n",
      "                                                                                                  \n",
      "==================================================================================================\n",
      "Total params: 3031 (11.85 KB)\n",
      "Trainable params: 3007 (11.75 KB)\n",
      "Non-trainable params: 24 (104.00 Byte)\n",
      "__________________________________________________________________________________________________\n"
     ]
    }
   ],
   "source": [
    "model = tf.keras.Model(inputs=[input_wide, input_deep], outputs=[output, aux_out])\n",
    "model.summary()"
   ]
  },
  {
   "cell_type": "code",
   "execution_count": 28,
   "id": "43112384",
   "metadata": {
    "execution": {
     "iopub.execute_input": "2024-01-06T23:19:08.514414Z",
     "iopub.status.busy": "2024-01-06T23:19:08.513577Z",
     "iopub.status.idle": "2024-01-06T23:19:08.576527Z",
     "shell.execute_reply": "2024-01-06T23:19:08.575445Z"
    },
    "papermill": {
     "duration": 0.191962,
     "end_time": "2024-01-06T23:19:08.579485",
     "exception": false,
     "start_time": "2024-01-06T23:19:08.387523",
     "status": "completed"
    },
    "tags": []
   },
   "outputs": [
    {
     "data": {
      "image/jpeg": "[encoded data removed]",
      "text/plain": [
       "<IPython.core.display.Image object>"
      ]
     },
     "execution_count": 28,
     "metadata": {},
     "output_type": "execute_result"
    }
   ],
   "source": [
    "tf.keras.utils.plot_model(model, \"sep_outputs_wide_and_deep.jpg\", show_shapes=True, show_layer_names=True)"
   ]
  },
  {
   "cell_type": "markdown",
   "id": "006101a1",
   "metadata": {
    "papermill": {
     "duration": 0.123633,
     "end_time": "2024-01-06T23:19:08.827219",
     "exception": false,
     "start_time": "2024-01-06T23:19:08.703586",
     "status": "completed"
    },
    "tags": []
   },
   "source": [
    "**Compiling the Model**"
   ]
  },
  {
   "cell_type": "markdown",
   "id": "ef4ef548",
   "metadata": {
    "papermill": {
     "duration": 0.123406,
     "end_time": "2024-01-06T23:19:09.074244",
     "exception": false,
     "start_time": "2024-01-06T23:19:08.950838",
     "status": "completed"
    },
    "tags": []
   },
   "source": [
    "**Important**\n",
    "- When compiling a model with multiple outputs we need to pass a **`list of loss function`** in order of the outputs to get accurate loss calculations\n",
    "- If a single loss function is passed it is used to evaluate all the outputs of the model\n",
    "- **`Loss_Weights`** parameter is used to assign a weight to the losses calculated incase of multiple output models"
   ]
  },
  {
   "cell_type": "code",
   "execution_count": 29,
   "id": "8097e424",
   "metadata": {
    "execution": {
     "iopub.execute_input": "2024-01-06T23:19:09.322979Z",
     "iopub.status.busy": "2024-01-06T23:19:09.322339Z",
     "iopub.status.idle": "2024-01-06T23:19:10.546668Z",
     "shell.execute_reply": "2024-01-06T23:19:10.545801Z"
    },
    "papermill": {
     "duration": 1.351787,
     "end_time": "2024-01-06T23:19:10.549310",
     "exception": false,
     "start_time": "2024-01-06T23:19:09.197523",
     "status": "completed"
    },
    "tags": []
   },
   "outputs": [],
   "source": [
    "model.compile(\n",
    "    loss=(\"mse\", \"mse\"),\n",
    "    loss_weights=[0.9, 0.1],\n",
    "    metrics=[\"RootMeanSquaredError\"],\n",
    "    optimizer=tf.keras.optimizers.Adam(learning_rate=1e-3)\n",
    ")\n",
    "\n",
    "norm_wide_layer.adapt(X_train_wide)\n",
    "norm_deep_layer.adapt(X_train_deep)"
   ]
  },
  {
   "cell_type": "markdown",
   "id": "c4f4cfd4",
   "metadata": {
    "papermill": {
     "duration": 0.122738,
     "end_time": "2024-01-06T23:19:10.795998",
     "exception": false,
     "start_time": "2024-01-06T23:19:10.673260",
     "status": "completed"
    },
    "tags": []
   },
   "source": [
    "**Training**"
   ]
  },
  {
   "cell_type": "markdown",
   "id": "b2ae355f",
   "metadata": {
    "papermill": {
     "duration": 0.122671,
     "end_time": "2024-01-06T23:19:11.041664",
     "exception": false,
     "start_time": "2024-01-06T23:19:10.918993",
     "status": "completed"
    },
    "tags": []
   },
   "source": [
    "**Important**\n",
    "- When training and test multiple output model we need to pass the **`target array`** to each output seperately for effective loss calculation"
   ]
  },
  {
   "cell_type": "code",
   "execution_count": 30,
   "id": "f684a415",
   "metadata": {
    "execution": {
     "iopub.execute_input": "2024-01-06T23:19:11.290056Z",
     "iopub.status.busy": "2024-01-06T23:19:11.288952Z",
     "iopub.status.idle": "2024-01-06T23:19:41.696452Z",
     "shell.execute_reply": "2024-01-06T23:19:41.694132Z"
    },
    "papermill": {
     "duration": 30.534698,
     "end_time": "2024-01-06T23:19:41.698874",
     "exception": false,
     "start_time": "2024-01-06T23:19:11.164176",
     "status": "completed"
    },
    "tags": []
   },
   "outputs": [
    {
     "name": "stdout",
     "output_type": "stream",
     "text": [
      "Epoch 1/30\n",
      "363/363 [==============================] - 2s 3ms/step - loss: 1.3038 - dense_3_loss: 1.2411 - dense_2_loss: 1.8686 - dense_3_root_mean_squared_error: 1.1140 - dense_2_root_mean_squared_error: 1.3669 - val_loss: 0.6637 - val_dense_3_loss: 0.6403 - val_dense_2_loss: 0.8742 - val_dense_3_root_mean_squared_error: 0.8002 - val_dense_2_root_mean_squared_error: 0.9350\n",
      "Epoch 2/30\n",
      "363/363 [==============================] - 1s 3ms/step - loss: 0.5444 - dense_3_loss: 0.5257 - dense_2_loss: 0.7122 - dense_3_root_mean_squared_error: 0.7251 - dense_2_root_mean_squared_error: 0.8439 - val_loss: 0.4854 - val_dense_3_loss: 0.4715 - val_dense_2_loss: 0.6110 - val_dense_3_root_mean_squared_error: 0.6866 - val_dense_2_root_mean_squared_error: 0.7817\n",
      "Epoch 3/30\n",
      "363/363 [==============================] - 1s 3ms/step - loss: 0.4628 - dense_3_loss: 0.4523 - dense_2_loss: 0.5566 - dense_3_root_mean_squared_error: 0.6726 - dense_2_root_mean_squared_error: 0.7461 - val_loss: 0.4237 - val_dense_3_loss: 0.4111 - val_dense_2_loss: 0.5368 - val_dense_3_root_mean_squared_error: 0.6412 - val_dense_2_root_mean_squared_error: 0.7327\n",
      "Epoch 4/30\n",
      "363/363 [==============================] - 1s 3ms/step - loss: 0.4104 - dense_3_loss: 0.4011 - dense_2_loss: 0.4939 - dense_3_root_mean_squared_error: 0.6333 - dense_2_root_mean_squared_error: 0.7028 - val_loss: 0.3944 - val_dense_3_loss: 0.3837 - val_dense_2_loss: 0.4902 - val_dense_3_root_mean_squared_error: 0.6194 - val_dense_2_root_mean_squared_error: 0.7001\n",
      "Epoch 5/30\n",
      "363/363 [==============================] - 1s 2ms/step - loss: 0.3964 - dense_3_loss: 0.3891 - dense_2_loss: 0.4624 - dense_3_root_mean_squared_error: 0.6237 - dense_2_root_mean_squared_error: 0.6800 - val_loss: 0.3752 - val_dense_3_loss: 0.3650 - val_dense_2_loss: 0.4674 - val_dense_3_root_mean_squared_error: 0.6041 - val_dense_2_root_mean_squared_error: 0.6837\n",
      "Epoch 6/30\n",
      "363/363 [==============================] - 1s 3ms/step - loss: 0.3764 - dense_3_loss: 0.3694 - dense_2_loss: 0.4390 - dense_3_root_mean_squared_error: 0.6078 - dense_2_root_mean_squared_error: 0.6626 - val_loss: 0.3642 - val_dense_3_loss: 0.3539 - val_dense_2_loss: 0.4567 - val_dense_3_root_mean_squared_error: 0.5949 - val_dense_2_root_mean_squared_error: 0.6758\n",
      "Epoch 7/30\n",
      "363/363 [==============================] - 1s 3ms/step - loss: 0.3602 - dense_3_loss: 0.3534 - dense_2_loss: 0.4207 - dense_3_root_mean_squared_error: 0.5945 - dense_2_root_mean_squared_error: 0.6486 - val_loss: 0.3692 - val_dense_3_loss: 0.3596 - val_dense_2_loss: 0.4553 - val_dense_3_root_mean_squared_error: 0.5997 - val_dense_2_root_mean_squared_error: 0.6748\n",
      "Epoch 8/30\n",
      "363/363 [==============================] - 1s 2ms/step - loss: 0.3616 - dense_3_loss: 0.3561 - dense_2_loss: 0.4112 - dense_3_root_mean_squared_error: 0.5967 - dense_2_root_mean_squared_error: 0.6413 - val_loss: 0.3821 - val_dense_3_loss: 0.3759 - val_dense_2_loss: 0.4372 - val_dense_3_root_mean_squared_error: 0.6131 - val_dense_2_root_mean_squared_error: 0.6612\n",
      "Epoch 9/30\n",
      "363/363 [==============================] - 1s 2ms/step - loss: 0.3432 - dense_3_loss: 0.3372 - dense_2_loss: 0.3977 - dense_3_root_mean_squared_error: 0.5807 - dense_2_root_mean_squared_error: 0.6306 - val_loss: 0.3461 - val_dense_3_loss: 0.3375 - val_dense_2_loss: 0.4229 - val_dense_3_root_mean_squared_error: 0.5810 - val_dense_2_root_mean_squared_error: 0.6503\n",
      "Epoch 10/30\n",
      "363/363 [==============================] - 1s 3ms/step - loss: 0.3411 - dense_3_loss: 0.3353 - dense_2_loss: 0.3938 - dense_3_root_mean_squared_error: 0.5790 - dense_2_root_mean_squared_error: 0.6275 - val_loss: 0.3565 - val_dense_3_loss: 0.3487 - val_dense_2_loss: 0.4270 - val_dense_3_root_mean_squared_error: 0.5905 - val_dense_2_root_mean_squared_error: 0.6534\n",
      "Epoch 11/30\n",
      "363/363 [==============================] - 1s 3ms/step - loss: 0.3479 - dense_3_loss: 0.3431 - dense_2_loss: 0.3917 - dense_3_root_mean_squared_error: 0.5857 - dense_2_root_mean_squared_error: 0.6259 - val_loss: 0.3343 - val_dense_3_loss: 0.3260 - val_dense_2_loss: 0.4085 - val_dense_3_root_mean_squared_error: 0.5710 - val_dense_2_root_mean_squared_error: 0.6392\n",
      "Epoch 12/30\n",
      "363/363 [==============================] - 1s 3ms/step - loss: 0.3342 - dense_3_loss: 0.3288 - dense_2_loss: 0.3823 - dense_3_root_mean_squared_error: 0.5734 - dense_2_root_mean_squared_error: 0.6183 - val_loss: 0.3396 - val_dense_3_loss: 0.3314 - val_dense_2_loss: 0.4137 - val_dense_3_root_mean_squared_error: 0.5757 - val_dense_2_root_mean_squared_error: 0.6432\n",
      "Epoch 13/30\n",
      "363/363 [==============================] - 1s 3ms/step - loss: 0.3277 - dense_3_loss: 0.3223 - dense_2_loss: 0.3754 - dense_3_root_mean_squared_error: 0.5678 - dense_2_root_mean_squared_error: 0.6127 - val_loss: 0.3280 - val_dense_3_loss: 0.3200 - val_dense_2_loss: 0.3997 - val_dense_3_root_mean_squared_error: 0.5657 - val_dense_2_root_mean_squared_error: 0.6322\n",
      "Epoch 14/30\n",
      "363/363 [==============================] - 1s 3ms/step - loss: 0.3261 - dense_3_loss: 0.3209 - dense_2_loss: 0.3734 - dense_3_root_mean_squared_error: 0.5665 - dense_2_root_mean_squared_error: 0.6111 - val_loss: 0.3286 - val_dense_3_loss: 0.3210 - val_dense_2_loss: 0.3974 - val_dense_3_root_mean_squared_error: 0.5665 - val_dense_2_root_mean_squared_error: 0.6304\n",
      "Epoch 15/30\n",
      "363/363 [==============================] - 1s 3ms/step - loss: 0.3279 - dense_3_loss: 0.3231 - dense_2_loss: 0.3711 - dense_3_root_mean_squared_error: 0.5684 - dense_2_root_mean_squared_error: 0.6092 - val_loss: 0.3352 - val_dense_3_loss: 0.3275 - val_dense_2_loss: 0.4047 - val_dense_3_root_mean_squared_error: 0.5722 - val_dense_2_root_mean_squared_error: 0.6362\n",
      "Epoch 16/30\n",
      "363/363 [==============================] - 1s 3ms/step - loss: 0.3236 - dense_3_loss: 0.3186 - dense_2_loss: 0.3677 - dense_3_root_mean_squared_error: 0.5645 - dense_2_root_mean_squared_error: 0.6064 - val_loss: 0.3253 - val_dense_3_loss: 0.3175 - val_dense_2_loss: 0.3949 - val_dense_3_root_mean_squared_error: 0.5635 - val_dense_2_root_mean_squared_error: 0.6284\n",
      "Epoch 17/30\n",
      "363/363 [==============================] - 1s 3ms/step - loss: 0.3181 - dense_3_loss: 0.3130 - dense_2_loss: 0.3633 - dense_3_root_mean_squared_error: 0.5595 - dense_2_root_mean_squared_error: 0.6028 - val_loss: 0.3233 - val_dense_3_loss: 0.3155 - val_dense_2_loss: 0.3934 - val_dense_3_root_mean_squared_error: 0.5617 - val_dense_2_root_mean_squared_error: 0.6272\n",
      "Epoch 18/30\n",
      "363/363 [==============================] - 1s 2ms/step - loss: 0.3152 - dense_3_loss: 0.3103 - dense_2_loss: 0.3598 - dense_3_root_mean_squared_error: 0.5570 - dense_2_root_mean_squared_error: 0.5998 - val_loss: 0.3379 - val_dense_3_loss: 0.3310 - val_dense_2_loss: 0.3994 - val_dense_3_root_mean_squared_error: 0.5753 - val_dense_2_root_mean_squared_error: 0.6320\n",
      "Epoch 19/30\n",
      "363/363 [==============================] - 1s 3ms/step - loss: 0.3188 - dense_3_loss: 0.3141 - dense_2_loss: 0.3611 - dense_3_root_mean_squared_error: 0.5604 - dense_2_root_mean_squared_error: 0.6009 - val_loss: 0.3197 - val_dense_3_loss: 0.3122 - val_dense_2_loss: 0.3874 - val_dense_3_root_mean_squared_error: 0.5587 - val_dense_2_root_mean_squared_error: 0.6224\n",
      "Epoch 20/30\n",
      "363/363 [==============================] - 1s 2ms/step - loss: 0.3136 - dense_3_loss: 0.3086 - dense_2_loss: 0.3586 - dense_3_root_mean_squared_error: 0.5555 - dense_2_root_mean_squared_error: 0.5988 - val_loss: 0.3209 - val_dense_3_loss: 0.3135 - val_dense_2_loss: 0.3875 - val_dense_3_root_mean_squared_error: 0.5599 - val_dense_2_root_mean_squared_error: 0.6225\n",
      "Epoch 21/30\n",
      "363/363 [==============================] - 1s 3ms/step - loss: 0.3119 - dense_3_loss: 0.3070 - dense_2_loss: 0.3560 - dense_3_root_mean_squared_error: 0.5541 - dense_2_root_mean_squared_error: 0.5967 - val_loss: 0.3158 - val_dense_3_loss: 0.3084 - val_dense_2_loss: 0.3825 - val_dense_3_root_mean_squared_error: 0.5554 - val_dense_2_root_mean_squared_error: 0.6185\n",
      "Epoch 22/30\n",
      "363/363 [==============================] - 1s 3ms/step - loss: 0.3185 - dense_3_loss: 0.3141 - dense_2_loss: 0.3574 - dense_3_root_mean_squared_error: 0.5605 - dense_2_root_mean_squared_error: 0.5978 - val_loss: 0.3407 - val_dense_3_loss: 0.3342 - val_dense_2_loss: 0.3991 - val_dense_3_root_mean_squared_error: 0.5781 - val_dense_2_root_mean_squared_error: 0.6318\n",
      "Epoch 23/30\n",
      "363/363 [==============================] - 1s 2ms/step - loss: 0.3125 - dense_3_loss: 0.3079 - dense_2_loss: 0.3537 - dense_3_root_mean_squared_error: 0.5549 - dense_2_root_mean_squared_error: 0.5947 - val_loss: 0.3193 - val_dense_3_loss: 0.3122 - val_dense_2_loss: 0.3831 - val_dense_3_root_mean_squared_error: 0.5588 - val_dense_2_root_mean_squared_error: 0.6189\n",
      "Epoch 24/30\n",
      "363/363 [==============================] - 1s 3ms/step - loss: 0.3084 - dense_3_loss: 0.3037 - dense_2_loss: 0.3506 - dense_3_root_mean_squared_error: 0.5511 - dense_2_root_mean_squared_error: 0.5921 - val_loss: 0.3189 - val_dense_3_loss: 0.3116 - val_dense_2_loss: 0.3846 - val_dense_3_root_mean_squared_error: 0.5582 - val_dense_2_root_mean_squared_error: 0.6202\n",
      "Epoch 25/30\n",
      "363/363 [==============================] - 1s 3ms/step - loss: 0.3077 - dense_3_loss: 0.3031 - dense_2_loss: 0.3483 - dense_3_root_mean_squared_error: 0.5506 - dense_2_root_mean_squared_error: 0.5902 - val_loss: 0.3228 - val_dense_3_loss: 0.3160 - val_dense_2_loss: 0.3838 - val_dense_3_root_mean_squared_error: 0.5622 - val_dense_2_root_mean_squared_error: 0.6195\n",
      "Epoch 26/30\n",
      "363/363 [==============================] - 1s 2ms/step - loss: 0.3064 - dense_3_loss: 0.3019 - dense_2_loss: 0.3467 - dense_3_root_mean_squared_error: 0.5495 - dense_2_root_mean_squared_error: 0.5888 - val_loss: 0.3184 - val_dense_3_loss: 0.3111 - val_dense_2_loss: 0.3841 - val_dense_3_root_mean_squared_error: 0.5578 - val_dense_2_root_mean_squared_error: 0.6198\n",
      "Epoch 27/30\n",
      "363/363 [==============================] - 1s 2ms/step - loss: 0.3063 - dense_3_loss: 0.3018 - dense_2_loss: 0.3470 - dense_3_root_mean_squared_error: 0.5494 - dense_2_root_mean_squared_error: 0.5891 - val_loss: 0.3181 - val_dense_3_loss: 0.3111 - val_dense_2_loss: 0.3803 - val_dense_3_root_mean_squared_error: 0.5578 - val_dense_2_root_mean_squared_error: 0.6167\n",
      "Epoch 28/30\n",
      "363/363 [==============================] - 1s 2ms/step - loss: 0.3023 - dense_3_loss: 0.2978 - dense_2_loss: 0.3429 - dense_3_root_mean_squared_error: 0.5457 - dense_2_root_mean_squared_error: 0.5855 - val_loss: 0.3123 - val_dense_3_loss: 0.3052 - val_dense_2_loss: 0.3761 - val_dense_3_root_mean_squared_error: 0.5524 - val_dense_2_root_mean_squared_error: 0.6133\n",
      "Epoch 29/30\n",
      "363/363 [==============================] - 1s 2ms/step - loss: 0.3027 - dense_3_loss: 0.2983 - dense_2_loss: 0.3420 - dense_3_root_mean_squared_error: 0.5462 - dense_2_root_mean_squared_error: 0.5848 - val_loss: 0.3204 - val_dense_3_loss: 0.3132 - val_dense_2_loss: 0.3852 - val_dense_3_root_mean_squared_error: 0.5596 - val_dense_2_root_mean_squared_error: 0.6207\n",
      "Epoch 30/30\n",
      "363/363 [==============================] - 1s 3ms/step - loss: 0.3025 - dense_3_loss: 0.2981 - dense_2_loss: 0.3419 - dense_3_root_mean_squared_error: 0.5460 - dense_2_root_mean_squared_error: 0.5847 - val_loss: 0.3230 - val_dense_3_loss: 0.3160 - val_dense_2_loss: 0.3860 - val_dense_3_root_mean_squared_error: 0.5621 - val_dense_2_root_mean_squared_error: 0.6213\n"
     ]
    }
   ],
   "source": [
    "history = model.fit(\n",
    "    (X_train_wide, X_train_deep), (y_train, y_train),\n",
    "    validation_data=((X_valid_wide, X_valid_deep), (y_valid, y_valid)),\n",
    "    epochs=30\n",
    ")"
   ]
  },
  {
   "cell_type": "markdown",
   "id": "37261c7d",
   "metadata": {
    "papermill": {
     "duration": 0.170727,
     "end_time": "2024-01-06T23:19:42.039357",
     "exception": false,
     "start_time": "2024-01-06T23:19:41.868630",
     "status": "completed"
    },
    "tags": []
   },
   "source": [
    "**Testing**"
   ]
  },
  {
   "cell_type": "code",
   "execution_count": 31,
   "id": "9209369c",
   "metadata": {
    "execution": {
     "iopub.execute_input": "2024-01-06T23:19:42.442402Z",
     "iopub.status.busy": "2024-01-06T23:19:42.442011Z",
     "iopub.status.idle": "2024-01-06T23:19:42.807203Z",
     "shell.execute_reply": "2024-01-06T23:19:42.806303Z"
    },
    "papermill": {
     "duration": 0.600717,
     "end_time": "2024-01-06T23:19:42.809338",
     "exception": false,
     "start_time": "2024-01-06T23:19:42.208621",
     "status": "completed"
    },
    "tags": []
   },
   "outputs": [
    {
     "name": "stdout",
     "output_type": "stream",
     "text": [
      "162/162 [==============================] - 0s 2ms/step - loss: 0.3277 - dense_3_loss: 0.3223 - dense_2_loss: 0.3769 - dense_3_root_mean_squared_error: 0.5677 - dense_2_root_mean_squared_error: 0.6139\n"
     ]
    },
    {
     "data": {
      "text/plain": [
       "[0.327725887298584,\n",
       " 0.3222622573375702,\n",
       " 0.37689945101737976,\n",
       " 0.5676814913749695,\n",
       " 0.6139213442802429]"
      ]
     },
     "execution_count": 31,
     "metadata": {},
     "output_type": "execute_result"
    }
   ],
   "source": [
    "model.evaluate((X_test_wide, X_test_deep), (y_test, y_test))"
   ]
  },
  {
   "cell_type": "code",
   "execution_count": 32,
   "id": "aa49da82",
   "metadata": {
    "execution": {
     "iopub.execute_input": "2024-01-06T23:19:43.155523Z",
     "iopub.status.busy": "2024-01-06T23:19:43.154551Z",
     "iopub.status.idle": "2024-01-06T23:19:43.304460Z",
     "shell.execute_reply": "2024-01-06T23:19:43.302956Z"
    },
    "papermill": {
     "duration": 0.32385,
     "end_time": "2024-01-06T23:19:43.306835",
     "exception": false,
     "start_time": "2024-01-06T23:19:42.982985",
     "status": "completed"
    },
    "tags": []
   },
   "outputs": [
    {
     "name": "stdout",
     "output_type": "stream",
     "text": [
      "1/1 [==============================] - 0s 86ms/step\n",
      "Predictions:\n",
      " [[3.5348554]\n",
      " [2.7535818]\n",
      " [0.7854888]\n",
      " [2.638151 ]\n",
      " [3.396076 ]]\n",
      "\n",
      "Target:\n",
      " [5.00001 2.696   0.675   4.471   3.294  ]\n"
     ]
    }
   ],
   "source": [
    "y_pred_main, y_pred_aux = model.predict((X_pred_wide, X_pred_deep))\n",
    "\n",
    "print(\"Predictions:\\n\", y_pred_main)\n",
    "print(\"\\nTarget:\\n\", y_test[-5:])"
   ]
  },
  {
   "cell_type": "markdown",
   "id": "4f96ec15",
   "metadata": {
    "papermill": {
     "duration": 0.191477,
     "end_time": "2024-01-06T23:19:43.670934",
     "exception": false,
     "start_time": "2024-01-06T23:19:43.479457",
     "status": "completed"
    },
    "tags": []
   },
   "source": [
    "**Inference**\n",
    "- In the above model we have used the Auxilary Output for the purpose of Regularization.\n",
    "- Regularization puts constraints on the model ensuring it will not overfit its weights.\n",
    "- The predictions made by this model is much closer to the original value in comparison to all the other models"
   ]
  },
  {
   "cell_type": "markdown",
   "id": "506edf42",
   "metadata": {
    "papermill": {
     "duration": 0.173263,
     "end_time": "2024-01-06T23:19:44.018208",
     "exception": false,
     "start_time": "2024-01-06T23:19:43.844945",
     "status": "completed"
    },
    "tags": []
   },
   "source": [
    "## TensorFlow Model Subclassing API for Dynamic Models"
   ]
  },
  {
   "cell_type": "markdown",
   "id": "aea11647",
   "metadata": {
    "papermill": {
     "duration": 0.171298,
     "end_time": "2024-01-06T23:19:44.364607",
     "exception": false,
     "start_time": "2024-01-06T23:19:44.193309",
     "status": "completed"
    },
    "tags": []
   },
   "source": [
    "**Important**\n",
    "- All the models built above using the `Sequential API` and `Functional API` are static models.\n",
    "- They can be saved, cloned and shared.\n",
    "- Their structure can be analysed even before any data has propagated through the network.\n",
    "- **`The models are hence a Static Graph of Layers`**\n",
    "\n",
    "\n",
    "- By using the **`Model Subclassing API`** we can build dynamic models which can support programming language logic.\n",
    "- They can involve loops, conditions, branching and other dynamic behaviour.\n",
    "- `Drawback:` A model built using the Subclassing API is hidden within the `Call()`.\n",
    "    - It cannot be saved, stored and analysed using the Keras methods"
   ]
  },
  {
   "cell_type": "markdown",
   "id": "b2d41a47",
   "metadata": {
    "papermill": {
     "duration": 0.170944,
     "end_time": "2024-01-06T23:19:44.706501",
     "exception": false,
     "start_time": "2024-01-06T23:19:44.535557",
     "status": "completed"
    },
    "tags": []
   },
   "source": [
    "**Constructing the Model**"
   ]
  },
  {
   "cell_type": "code",
   "execution_count": 33,
   "id": "0f986145",
   "metadata": {
    "execution": {
     "iopub.execute_input": "2024-01-06T23:19:45.049837Z",
     "iopub.status.busy": "2024-01-06T23:19:45.049436Z",
     "iopub.status.idle": "2024-01-06T23:19:45.060533Z",
     "shell.execute_reply": "2024-01-06T23:19:45.059240Z"
    },
    "papermill": {
     "duration": 0.186531,
     "end_time": "2024-01-06T23:19:45.063045",
     "exception": false,
     "start_time": "2024-01-06T23:19:44.876514",
     "status": "completed"
    },
    "tags": []
   },
   "outputs": [],
   "source": [
    "class WindAndDeepWithMultipleOuputs(tf.keras.Model):\n",
    "    \n",
    "    # Constructor of the Class\n",
    "    def __init__(self, units=30, activation=\"relu\", **kwargs):\n",
    "        \n",
    "        # Needed for supporting naming the model\n",
    "        super().__init__(**kwargs)\n",
    "        \n",
    "        # Normalisation Layers\n",
    "        self.norm_layer_wide = tf.keras.layers.Normalization()\n",
    "        self.norm_layer_deep = tf.keras.layers.Normalization()\n",
    "        \n",
    "        # Hidden Layers\n",
    "        self.hidden1 = tf.keras.layers.Dense(units, activation=activation)\n",
    "        self.hidden2 = tf.keras.layers.Dense(units, activation=activation)\n",
    "        \n",
    "        # Main output layer\n",
    "        self.main_output = tf.keras.layers.Dense(1)\n",
    "        \n",
    "        # Auxilary Output\n",
    "        self.aux_output = tf.keras.layers.Dense(1)\n",
    "    \n",
    "    # The computation performed using this model follow the architecture created in the Call()\n",
    "    def call(self, inputs):\n",
    "        \n",
    "        # Seperating the Inputs\n",
    "        input_wide, input_deep = inputs\n",
    "        \n",
    "        # Chaining the Model\n",
    "        norm_wide = self.norm_layer_wide(input_wide)\n",
    "        norm_deep = self.norm_layer_deep(input_deep)\n",
    "        \n",
    "        # Hidden Layers\n",
    "        hidden1 = self.hidden1(norm_deep)\n",
    "        hidden2 = self.hidden2(hidden1)\n",
    "        \n",
    "        # Concatenation Layer\n",
    "        concat = tf.keras.layers.concatenate([norm_wide, hidden2])\n",
    "        \n",
    "        # Aux Output\n",
    "        aux_out = self.aux_output(hidden2)\n",
    "        \n",
    "        # Main Output\n",
    "        output = self.main_output(concat)\n",
    "        \n",
    "        return output, aux_out"
   ]
  },
  {
   "cell_type": "code",
   "execution_count": 34,
   "id": "98610715",
   "metadata": {
    "execution": {
     "iopub.execute_input": "2024-01-06T23:19:45.408969Z",
     "iopub.status.busy": "2024-01-06T23:19:45.408544Z",
     "iopub.status.idle": "2024-01-06T23:19:45.430108Z",
     "shell.execute_reply": "2024-01-06T23:19:45.429084Z"
    },
    "papermill": {
     "duration": 0.196613,
     "end_time": "2024-01-06T23:19:45.432424",
     "exception": false,
     "start_time": "2024-01-06T23:19:45.235811",
     "status": "completed"
    },
    "tags": []
   },
   "outputs": [],
   "source": [
    "tf.random.set_seed(1730)\n",
    "tf.keras.backend.clear_session()"
   ]
  },
  {
   "cell_type": "markdown",
   "id": "ae28aac4",
   "metadata": {
    "papermill": {
     "duration": 0.168994,
     "end_time": "2024-01-06T23:19:45.770960",
     "exception": false,
     "start_time": "2024-01-06T23:19:45.601966",
     "status": "completed"
    },
    "tags": []
   },
   "source": [
    "**Initialising the Model**"
   ]
  },
  {
   "cell_type": "code",
   "execution_count": 35,
   "id": "416ceaf4",
   "metadata": {
    "execution": {
     "iopub.execute_input": "2024-01-06T23:19:46.118076Z",
     "iopub.status.busy": "2024-01-06T23:19:46.117277Z",
     "iopub.status.idle": "2024-01-06T23:19:46.138080Z",
     "shell.execute_reply": "2024-01-06T23:19:46.136900Z"
    },
    "papermill": {
     "duration": 0.199454,
     "end_time": "2024-01-06T23:19:46.140706",
     "exception": false,
     "start_time": "2024-01-06T23:19:45.941252",
     "status": "completed"
    },
    "tags": []
   },
   "outputs": [],
   "source": [
    "model = WindAndDeepWithMultipleOuputs(30, activation=\"relu\", name=\"my_cool_class_model\")"
   ]
  },
  {
   "cell_type": "markdown",
   "id": "e362c7a5",
   "metadata": {
    "papermill": {
     "duration": 0.172574,
     "end_time": "2024-01-06T23:19:46.486477",
     "exception": false,
     "start_time": "2024-01-06T23:19:46.313903",
     "status": "completed"
    },
    "tags": []
   },
   "source": [
    "**Compiling the Model**"
   ]
  },
  {
   "cell_type": "code",
   "execution_count": 36,
   "id": "2408c3b8",
   "metadata": {
    "execution": {
     "iopub.execute_input": "2024-01-06T23:19:46.836551Z",
     "iopub.status.busy": "2024-01-06T23:19:46.836154Z",
     "iopub.status.idle": "2024-01-06T23:19:46.854806Z",
     "shell.execute_reply": "2024-01-06T23:19:46.853704Z"
    },
    "papermill": {
     "duration": 0.201097,
     "end_time": "2024-01-06T23:19:46.857300",
     "exception": false,
     "start_time": "2024-01-06T23:19:46.656203",
     "status": "completed"
    },
    "tags": []
   },
   "outputs": [],
   "source": [
    "model.compile(\n",
    "    loss=(\"mse\", \"mse\"),\n",
    "    loss_weights=[0.9, 0.1],\n",
    "    metrics=[\"RootMeanSquaredError\"],\n",
    "    optimizer=tf.keras.optimizers.Adam(learning_rate=1e-3)\n",
    ")"
   ]
  },
  {
   "cell_type": "code",
   "execution_count": 37,
   "id": "6745a1d1",
   "metadata": {
    "execution": {
     "iopub.execute_input": "2024-01-06T23:19:47.251103Z",
     "iopub.status.busy": "2024-01-06T23:19:47.250302Z",
     "iopub.status.idle": "2024-01-06T23:19:48.658698Z",
     "shell.execute_reply": "2024-01-06T23:19:48.657787Z"
    },
    "papermill": {
     "duration": 1.60034,
     "end_time": "2024-01-06T23:19:48.661329",
     "exception": false,
     "start_time": "2024-01-06T23:19:47.060989",
     "status": "completed"
    },
    "tags": []
   },
   "outputs": [],
   "source": [
    "# Normalisation of the Data\n",
    "model.norm_layer_wide.adapt(X_train_wide)\n",
    "model.norm_layer_deep.adapt(X_train_deep)"
   ]
  },
  {
   "cell_type": "markdown",
   "id": "7803a696",
   "metadata": {
    "papermill": {
     "duration": 0.173848,
     "end_time": "2024-01-06T23:19:49.005862",
     "exception": false,
     "start_time": "2024-01-06T23:19:48.832014",
     "status": "completed"
    },
    "tags": []
   },
   "source": [
    "**Training**"
   ]
  },
  {
   "cell_type": "code",
   "execution_count": 38,
   "id": "850694fe",
   "metadata": {
    "execution": {
     "iopub.execute_input": "2024-01-06T23:19:49.348910Z",
     "iopub.status.busy": "2024-01-06T23:19:49.348482Z",
     "iopub.status.idle": "2024-01-06T23:20:19.669877Z",
     "shell.execute_reply": "2024-01-06T23:20:19.668741Z"
    },
    "papermill": {
     "duration": 30.507939,
     "end_time": "2024-01-06T23:20:19.684220",
     "exception": false,
     "start_time": "2024-01-06T23:19:49.176281",
     "status": "completed"
    },
    "tags": []
   },
   "outputs": [
    {
     "name": "stdout",
     "output_type": "stream",
     "text": [
      "Epoch 1/30\n",
      "363/363 [==============================] - 2s 3ms/step - loss: 1.2894 - output_1_loss: 1.2020 - output_2_loss: 2.0760 - output_1_root_mean_squared_error: 1.0964 - output_2_root_mean_squared_error: 1.4408 - val_loss: 0.6379 - val_output_1_loss: 0.5944 - val_output_2_loss: 1.0296 - val_output_1_root_mean_squared_error: 0.7710 - val_output_2_root_mean_squared_error: 1.0147\n",
      "Epoch 2/30\n",
      "363/363 [==============================] - 1s 3ms/step - loss: 0.5554 - output_1_loss: 0.5170 - output_2_loss: 0.9009 - output_1_root_mean_squared_error: 0.7190 - output_2_root_mean_squared_error: 0.9492 - val_loss: 0.4848 - val_output_1_loss: 0.4566 - val_output_2_loss: 0.7384 - val_output_1_root_mean_squared_error: 0.6757 - val_output_2_root_mean_squared_error: 0.8593\n",
      "Epoch 3/30\n",
      "363/363 [==============================] - 1s 3ms/step - loss: 0.4767 - output_1_loss: 0.4536 - output_2_loss: 0.6848 - output_1_root_mean_squared_error: 0.6735 - output_2_root_mean_squared_error: 0.8275 - val_loss: 0.4417 - val_output_1_loss: 0.4216 - val_output_2_loss: 0.6230 - val_output_1_root_mean_squared_error: 0.6493 - val_output_2_root_mean_squared_error: 0.7893\n",
      "Epoch 4/30\n",
      "363/363 [==============================] - 1s 3ms/step - loss: 0.4382 - output_1_loss: 0.4207 - output_2_loss: 0.5957 - output_1_root_mean_squared_error: 0.6486 - output_2_root_mean_squared_error: 0.7718 - val_loss: 0.4188 - val_output_1_loss: 0.4009 - val_output_2_loss: 0.5793 - val_output_1_root_mean_squared_error: 0.6332 - val_output_2_root_mean_squared_error: 0.7611\n",
      "Epoch 5/30\n",
      "363/363 [==============================] - 1s 3ms/step - loss: 0.4256 - output_1_loss: 0.4113 - output_2_loss: 0.5545 - output_1_root_mean_squared_error: 0.6413 - output_2_root_mean_squared_error: 0.7446 - val_loss: 0.4048 - val_output_1_loss: 0.3886 - val_output_2_loss: 0.5501 - val_output_1_root_mean_squared_error: 0.6234 - val_output_2_root_mean_squared_error: 0.7417\n",
      "Epoch 6/30\n",
      "363/363 [==============================] - 1s 2ms/step - loss: 0.4118 - output_1_loss: 0.3992 - output_2_loss: 0.5251 - output_1_root_mean_squared_error: 0.6318 - output_2_root_mean_squared_error: 0.7246 - val_loss: 0.4009 - val_output_1_loss: 0.3856 - val_output_2_loss: 0.5384 - val_output_1_root_mean_squared_error: 0.6210 - val_output_2_root_mean_squared_error: 0.7338\n",
      "Epoch 7/30\n",
      "363/363 [==============================] - 1s 2ms/step - loss: 0.3979 - output_1_loss: 0.3866 - output_2_loss: 0.4997 - output_1_root_mean_squared_error: 0.6218 - output_2_root_mean_squared_error: 0.7069 - val_loss: 0.3873 - val_output_1_loss: 0.3737 - val_output_2_loss: 0.5097 - val_output_1_root_mean_squared_error: 0.6113 - val_output_2_root_mean_squared_error: 0.7140\n",
      "Epoch 8/30\n",
      "363/363 [==============================] - 1s 2ms/step - loss: 0.3847 - output_1_loss: 0.3747 - output_2_loss: 0.4746 - output_1_root_mean_squared_error: 0.6121 - output_2_root_mean_squared_error: 0.6889 - val_loss: 0.3864 - val_output_1_loss: 0.3749 - val_output_2_loss: 0.4902 - val_output_1_root_mean_squared_error: 0.6123 - val_output_2_root_mean_squared_error: 0.7002\n",
      "Epoch 9/30\n",
      "363/363 [==============================] - 1s 2ms/step - loss: 0.3740 - output_1_loss: 0.3653 - output_2_loss: 0.4530 - output_1_root_mean_squared_error: 0.6044 - output_2_root_mean_squared_error: 0.6731 - val_loss: 0.3660 - val_output_1_loss: 0.3545 - val_output_2_loss: 0.4695 - val_output_1_root_mean_squared_error: 0.5954 - val_output_2_root_mean_squared_error: 0.6852\n",
      "Epoch 10/30\n",
      "363/363 [==============================] - 1s 3ms/step - loss: 0.3664 - output_1_loss: 0.3584 - output_2_loss: 0.4389 - output_1_root_mean_squared_error: 0.5987 - output_2_root_mean_squared_error: 0.6625 - val_loss: 0.3618 - val_output_1_loss: 0.3508 - val_output_2_loss: 0.4615 - val_output_1_root_mean_squared_error: 0.5923 - val_output_2_root_mean_squared_error: 0.6793\n",
      "Epoch 11/30\n",
      "363/363 [==============================] - 1s 2ms/step - loss: 0.3617 - output_1_loss: 0.3543 - output_2_loss: 0.4287 - output_1_root_mean_squared_error: 0.5952 - output_2_root_mean_squared_error: 0.6547 - val_loss: 0.3476 - val_output_1_loss: 0.3368 - val_output_2_loss: 0.4450 - val_output_1_root_mean_squared_error: 0.5803 - val_output_2_root_mean_squared_error: 0.6671\n",
      "Epoch 12/30\n",
      "363/363 [==============================] - 1s 2ms/step - loss: 0.3521 - output_1_loss: 0.3451 - output_2_loss: 0.4152 - output_1_root_mean_squared_error: 0.5874 - output_2_root_mean_squared_error: 0.6444 - val_loss: 0.3515 - val_output_1_loss: 0.3407 - val_output_2_loss: 0.4486 - val_output_1_root_mean_squared_error: 0.5837 - val_output_2_root_mean_squared_error: 0.6698\n",
      "Epoch 13/30\n",
      "363/363 [==============================] - 1s 2ms/step - loss: 0.3439 - output_1_loss: 0.3369 - output_2_loss: 0.4070 - output_1_root_mean_squared_error: 0.5804 - output_2_root_mean_squared_error: 0.6380 - val_loss: 0.3403 - val_output_1_loss: 0.3302 - val_output_2_loss: 0.4316 - val_output_1_root_mean_squared_error: 0.5746 - val_output_2_root_mean_squared_error: 0.6569\n",
      "Epoch 14/30\n",
      "363/363 [==============================] - 1s 3ms/step - loss: 0.3433 - output_1_loss: 0.3366 - output_2_loss: 0.4031 - output_1_root_mean_squared_error: 0.5802 - output_2_root_mean_squared_error: 0.6349 - val_loss: 0.3448 - val_output_1_loss: 0.3357 - val_output_2_loss: 0.4271 - val_output_1_root_mean_squared_error: 0.5794 - val_output_2_root_mean_squared_error: 0.6536\n",
      "Epoch 15/30\n",
      "363/363 [==============================] - 1s 2ms/step - loss: 0.3408 - output_1_loss: 0.3344 - output_2_loss: 0.3988 - output_1_root_mean_squared_error: 0.5783 - output_2_root_mean_squared_error: 0.6315 - val_loss: 0.3372 - val_output_1_loss: 0.3268 - val_output_2_loss: 0.4303 - val_output_1_root_mean_squared_error: 0.5717 - val_output_2_root_mean_squared_error: 0.6560\n",
      "Epoch 16/30\n",
      "363/363 [==============================] - 1s 2ms/step - loss: 0.3361 - output_1_loss: 0.3295 - output_2_loss: 0.3948 - output_1_root_mean_squared_error: 0.5741 - output_2_root_mean_squared_error: 0.6283 - val_loss: 0.3355 - val_output_1_loss: 0.3259 - val_output_2_loss: 0.4220 - val_output_1_root_mean_squared_error: 0.5709 - val_output_2_root_mean_squared_error: 0.6496\n",
      "Epoch 17/30\n",
      "363/363 [==============================] - 1s 2ms/step - loss: 0.3323 - output_1_loss: 0.3259 - output_2_loss: 0.3905 - output_1_root_mean_squared_error: 0.5709 - output_2_root_mean_squared_error: 0.6249 - val_loss: 0.3341 - val_output_1_loss: 0.3246 - val_output_2_loss: 0.4189 - val_output_1_root_mean_squared_error: 0.5698 - val_output_2_root_mean_squared_error: 0.6472\n",
      "Epoch 18/30\n",
      "363/363 [==============================] - 1s 2ms/step - loss: 0.3294 - output_1_loss: 0.3231 - output_2_loss: 0.3861 - output_1_root_mean_squared_error: 0.5684 - output_2_root_mean_squared_error: 0.6213 - val_loss: 0.3528 - val_output_1_loss: 0.3437 - val_output_2_loss: 0.4338 - val_output_1_root_mean_squared_error: 0.5863 - val_output_2_root_mean_squared_error: 0.6586\n",
      "Epoch 19/30\n",
      "363/363 [==============================] - 1s 3ms/step - loss: 0.3327 - output_1_loss: 0.3266 - output_2_loss: 0.3875 - output_1_root_mean_squared_error: 0.5715 - output_2_root_mean_squared_error: 0.6225 - val_loss: 0.3357 - val_output_1_loss: 0.3265 - val_output_2_loss: 0.4185 - val_output_1_root_mean_squared_error: 0.5714 - val_output_2_root_mean_squared_error: 0.6469\n",
      "Epoch 20/30\n",
      "363/363 [==============================] - 1s 3ms/step - loss: 0.3269 - output_1_loss: 0.3207 - output_2_loss: 0.3822 - output_1_root_mean_squared_error: 0.5663 - output_2_root_mean_squared_error: 0.6182 - val_loss: 0.3308 - val_output_1_loss: 0.3217 - val_output_2_loss: 0.4124 - val_output_1_root_mean_squared_error: 0.5672 - val_output_2_root_mean_squared_error: 0.6422\n",
      "Epoch 21/30\n",
      "363/363 [==============================] - 1s 3ms/step - loss: 0.3268 - output_1_loss: 0.3207 - output_2_loss: 0.3812 - output_1_root_mean_squared_error: 0.5663 - output_2_root_mean_squared_error: 0.6174 - val_loss: 0.3284 - val_output_1_loss: 0.3194 - val_output_2_loss: 0.4095 - val_output_1_root_mean_squared_error: 0.5651 - val_output_2_root_mean_squared_error: 0.6400\n",
      "Epoch 22/30\n",
      "363/363 [==============================] - 1s 2ms/step - loss: 0.3298 - output_1_loss: 0.3240 - output_2_loss: 0.3825 - output_1_root_mean_squared_error: 0.5692 - output_2_root_mean_squared_error: 0.6185 - val_loss: 0.3552 - val_output_1_loss: 0.3472 - val_output_2_loss: 0.4268 - val_output_1_root_mean_squared_error: 0.5893 - val_output_2_root_mean_squared_error: 0.6533\n",
      "Epoch 23/30\n",
      "363/363 [==============================] - 1s 3ms/step - loss: 0.3286 - output_1_loss: 0.3230 - output_2_loss: 0.3795 - output_1_root_mean_squared_error: 0.5683 - output_2_root_mean_squared_error: 0.6161 - val_loss: 0.3316 - val_output_1_loss: 0.3232 - val_output_2_loss: 0.4072 - val_output_1_root_mean_squared_error: 0.5685 - val_output_2_root_mean_squared_error: 0.6381\n",
      "Epoch 24/30\n",
      "363/363 [==============================] - 1s 3ms/step - loss: 0.3233 - output_1_loss: 0.3175 - output_2_loss: 0.3756 - output_1_root_mean_squared_error: 0.5634 - output_2_root_mean_squared_error: 0.6129 - val_loss: 0.3325 - val_output_1_loss: 0.3243 - val_output_2_loss: 0.4068 - val_output_1_root_mean_squared_error: 0.5694 - val_output_2_root_mean_squared_error: 0.6378\n",
      "Epoch 25/30\n",
      "363/363 [==============================] - 1s 2ms/step - loss: 0.3216 - output_1_loss: 0.3159 - output_2_loss: 0.3731 - output_1_root_mean_squared_error: 0.5621 - output_2_root_mean_squared_error: 0.6108 - val_loss: 0.3288 - val_output_1_loss: 0.3206 - val_output_2_loss: 0.4018 - val_output_1_root_mean_squared_error: 0.5663 - val_output_2_root_mean_squared_error: 0.6339\n",
      "Epoch 26/30\n",
      "363/363 [==============================] - 1s 3ms/step - loss: 0.3218 - output_1_loss: 0.3162 - output_2_loss: 0.3722 - output_1_root_mean_squared_error: 0.5623 - output_2_root_mean_squared_error: 0.6101 - val_loss: 0.3356 - val_output_1_loss: 0.3274 - val_output_2_loss: 0.4092 - val_output_1_root_mean_squared_error: 0.5722 - val_output_2_root_mean_squared_error: 0.6397\n",
      "Epoch 27/30\n",
      "363/363 [==============================] - 1s 3ms/step - loss: 0.3201 - output_1_loss: 0.3144 - output_2_loss: 0.3710 - output_1_root_mean_squared_error: 0.5607 - output_2_root_mean_squared_error: 0.6091 - val_loss: 0.3389 - val_output_1_loss: 0.3310 - val_output_2_loss: 0.4099 - val_output_1_root_mean_squared_error: 0.5753 - val_output_2_root_mean_squared_error: 0.6403\n",
      "Epoch 28/30\n",
      "363/363 [==============================] - 1s 2ms/step - loss: 0.3183 - output_1_loss: 0.3128 - output_2_loss: 0.3679 - output_1_root_mean_squared_error: 0.5593 - output_2_root_mean_squared_error: 0.6066 - val_loss: 0.3310 - val_output_1_loss: 0.3233 - val_output_2_loss: 0.4004 - val_output_1_root_mean_squared_error: 0.5686 - val_output_2_root_mean_squared_error: 0.6328\n",
      "Epoch 29/30\n",
      "363/363 [==============================] - 1s 3ms/step - loss: 0.3186 - output_1_loss: 0.3131 - output_2_loss: 0.3677 - output_1_root_mean_squared_error: 0.5596 - output_2_root_mean_squared_error: 0.6063 - val_loss: 0.3304 - val_output_1_loss: 0.3224 - val_output_2_loss: 0.4023 - val_output_1_root_mean_squared_error: 0.5678 - val_output_2_root_mean_squared_error: 0.6342\n",
      "Epoch 30/30\n",
      "363/363 [==============================] - 1s 3ms/step - loss: 0.3197 - output_1_loss: 0.3144 - output_2_loss: 0.3675 - output_1_root_mean_squared_error: 0.5607 - output_2_root_mean_squared_error: 0.6062 - val_loss: 0.3406 - val_output_1_loss: 0.3333 - val_output_2_loss: 0.4059 - val_output_1_root_mean_squared_error: 0.5773 - val_output_2_root_mean_squared_error: 0.6371\n"
     ]
    }
   ],
   "source": [
    "history = model.fit(\n",
    "    (X_train_wide, X_train_deep), (y_train, y_train),\n",
    "    validation_data=((X_valid_wide, X_valid_deep), (y_valid, y_valid)),\n",
    "    epochs=30\n",
    ")"
   ]
  },
  {
   "cell_type": "code",
   "execution_count": 39,
   "id": "b85402bc",
   "metadata": {
    "execution": {
     "iopub.execute_input": "2024-01-06T23:20:20.188307Z",
     "iopub.status.busy": "2024-01-06T23:20:20.187907Z",
     "iopub.status.idle": "2024-01-06T23:20:20.546949Z",
     "shell.execute_reply": "2024-01-06T23:20:20.545898Z"
    },
    "papermill": {
     "duration": 0.582093,
     "end_time": "2024-01-06T23:20:20.549142",
     "exception": false,
     "start_time": "2024-01-06T23:20:19.967049",
     "status": "completed"
    },
    "tags": []
   },
   "outputs": [
    {
     "name": "stdout",
     "output_type": "stream",
     "text": [
      "162/162 [==============================] - 0s 2ms/step - loss: 0.3441 - output_1_loss: 0.3383 - output_2_loss: 0.3970 - output_1_root_mean_squared_error: 0.5816 - output_2_root_mean_squared_error: 0.6301\n"
     ]
    },
    {
     "data": {
      "text/plain": [
       "[0.34413254261016846,\n",
       " 0.3382595479488373,\n",
       " 0.39698922634124756,\n",
       " 0.5816008448600769,\n",
       " 0.6300708055496216]"
      ]
     },
     "execution_count": 39,
     "metadata": {},
     "output_type": "execute_result"
    }
   ],
   "source": [
    "model.evaluate((X_test_wide, X_test_deep), (y_test, y_test))"
   ]
  },
  {
   "cell_type": "code",
   "execution_count": 40,
   "id": "ff873b50",
   "metadata": {
    "execution": {
     "iopub.execute_input": "2024-01-06T23:20:20.989120Z",
     "iopub.status.busy": "2024-01-06T23:20:20.987913Z",
     "iopub.status.idle": "2024-01-06T23:20:21.137338Z",
     "shell.execute_reply": "2024-01-06T23:20:21.136006Z"
    },
    "papermill": {
     "duration": 0.372537,
     "end_time": "2024-01-06T23:20:21.139946",
     "exception": false,
     "start_time": "2024-01-06T23:20:20.767409",
     "status": "completed"
    },
    "tags": []
   },
   "outputs": [
    {
     "name": "stdout",
     "output_type": "stream",
     "text": [
      "1/1 [==============================] - 0s 90ms/step\n",
      "Predictions:\n",
      " [[3.6486647 ]\n",
      " [2.7559137 ]\n",
      " [0.79762703]\n",
      " [2.5900774 ]\n",
      " [3.3051302 ]]\n",
      "\n",
      "Targets:\n",
      " [5.00001 2.696   0.675   4.471   3.294  ]\n"
     ]
    }
   ],
   "source": [
    "y_pred_main, y_pred_aux = model.predict((X_pred_wide, X_pred_deep))\n",
    "\n",
    "print(\"Predictions:\\n\", y_pred_main)\n",
    "print(\"\\nTargets:\\n\", y_test[-5:])"
   ]
  },
  {
   "cell_type": "markdown",
   "id": "7c0d4769",
   "metadata": {
    "papermill": {
     "duration": 0.219195,
     "end_time": "2024-01-06T23:20:21.580779",
     "exception": false,
     "start_time": "2024-01-06T23:20:21.361584",
     "status": "completed"
    },
    "tags": []
   },
   "source": [
    "## Utilising Callbacks\n",
    "\n",
    "- Callbacks allows Keras to perform additional functionality at the start and end of training\n",
    "    - At the start and end of each epoch\n",
    "    - At the start and end of each mini batch"
   ]
  },
  {
   "cell_type": "markdown",
   "id": "7f23f33d",
   "metadata": {
    "papermill": {
     "duration": 0.218602,
     "end_time": "2024-01-06T23:20:22.020588",
     "exception": false,
     "start_time": "2024-01-06T23:20:21.801986",
     "status": "completed"
    },
    "tags": []
   },
   "source": [
    "**Important**\n",
    "- The **`ModelCheckpoint Callback`** regularly makes a copy of the model parameters such as its weights.\n",
    "- By default the model parameters are saved after each epoch\n",
    "- When working with a Validation Dataset it is better to use the `save_best_only` parameter to store the model when it performs its best"
   ]
  },
  {
   "cell_type": "code",
   "execution_count": 41,
   "id": "b31ef780",
   "metadata": {
    "execution": {
     "iopub.execute_input": "2024-01-06T23:20:22.459624Z",
     "iopub.status.busy": "2024-01-06T23:20:22.458325Z",
     "iopub.status.idle": "2024-01-06T23:20:52.649172Z",
     "shell.execute_reply": "2024-01-06T23:20:52.647903Z"
    },
    "papermill": {
     "duration": 30.680735,
     "end_time": "2024-01-06T23:20:52.919369",
     "exception": false,
     "start_time": "2024-01-06T23:20:22.238634",
     "status": "completed"
    },
    "tags": []
   },
   "outputs": [
    {
     "name": "stdout",
     "output_type": "stream",
     "text": [
      "Epoch 1/30\n",
      "363/363 [==============================] - 1s 3ms/step - loss: 0.3167 - output_1_loss: 0.3114 - output_2_loss: 0.3644 - output_1_root_mean_squared_error: 0.5580 - output_2_root_mean_squared_error: 0.6037 - val_loss: 0.3319 - val_output_1_loss: 0.3239 - val_output_2_loss: 0.4039 - val_output_1_root_mean_squared_error: 0.5691 - val_output_2_root_mean_squared_error: 0.6355\n",
      "Epoch 2/30\n",
      "363/363 [==============================] - 1s 3ms/step - loss: 0.3158 - output_1_loss: 0.3104 - output_2_loss: 0.3638 - output_1_root_mean_squared_error: 0.5572 - output_2_root_mean_squared_error: 0.6031 - val_loss: 0.3341 - val_output_1_loss: 0.3267 - val_output_2_loss: 0.4011 - val_output_1_root_mean_squared_error: 0.5716 - val_output_2_root_mean_squared_error: 0.6333\n",
      "Epoch 3/30\n",
      "363/363 [==============================] - 1s 3ms/step - loss: 0.3219 - output_1_loss: 0.3167 - output_2_loss: 0.3689 - output_1_root_mean_squared_error: 0.5628 - output_2_root_mean_squared_error: 0.6074 - val_loss: 0.3234 - val_output_1_loss: 0.3157 - val_output_2_loss: 0.3921 - val_output_1_root_mean_squared_error: 0.5619 - val_output_2_root_mean_squared_error: 0.6262\n",
      "Epoch 4/30\n",
      "363/363 [==============================] - 1s 3ms/step - loss: 0.3157 - output_1_loss: 0.3103 - output_2_loss: 0.3648 - output_1_root_mean_squared_error: 0.5570 - output_2_root_mean_squared_error: 0.6040 - val_loss: 0.3223 - val_output_1_loss: 0.3146 - val_output_2_loss: 0.3918 - val_output_1_root_mean_squared_error: 0.5609 - val_output_2_root_mean_squared_error: 0.6259\n",
      "Epoch 5/30\n",
      "363/363 [==============================] - 1s 3ms/step - loss: 0.3164 - output_1_loss: 0.3109 - output_2_loss: 0.3661 - output_1_root_mean_squared_error: 0.5576 - output_2_root_mean_squared_error: 0.6051 - val_loss: 0.3208 - val_output_1_loss: 0.3134 - val_output_2_loss: 0.3873 - val_output_1_root_mean_squared_error: 0.5598 - val_output_2_root_mean_squared_error: 0.6223\n",
      "Epoch 6/30\n",
      "363/363 [==============================] - 1s 3ms/step - loss: 0.3126 - output_1_loss: 0.3074 - output_2_loss: 0.3597 - output_1_root_mean_squared_error: 0.5544 - output_2_root_mean_squared_error: 0.5998 - val_loss: 0.3244 - val_output_1_loss: 0.3168 - val_output_2_loss: 0.3928 - val_output_1_root_mean_squared_error: 0.5628 - val_output_2_root_mean_squared_error: 0.6267\n",
      "Epoch 7/30\n",
      "363/363 [==============================] - 1s 3ms/step - loss: 0.3107 - output_1_loss: 0.3054 - output_2_loss: 0.3579 - output_1_root_mean_squared_error: 0.5527 - output_2_root_mean_squared_error: 0.5982 - val_loss: 0.3234 - val_output_1_loss: 0.3160 - val_output_2_loss: 0.3903 - val_output_1_root_mean_squared_error: 0.5622 - val_output_2_root_mean_squared_error: 0.6247\n",
      "Epoch 8/30\n",
      "363/363 [==============================] - 1s 3ms/step - loss: 0.3104 - output_1_loss: 0.3052 - output_2_loss: 0.3577 - output_1_root_mean_squared_error: 0.5524 - output_2_root_mean_squared_error: 0.5981 - val_loss: 0.3334 - val_output_1_loss: 0.3262 - val_output_2_loss: 0.3981 - val_output_1_root_mean_squared_error: 0.5712 - val_output_2_root_mean_squared_error: 0.6310\n",
      "Epoch 9/30\n",
      "363/363 [==============================] - 1s 3ms/step - loss: 0.3089 - output_1_loss: 0.3039 - output_2_loss: 0.3540 - output_1_root_mean_squared_error: 0.5512 - output_2_root_mean_squared_error: 0.5950 - val_loss: 0.3218 - val_output_1_loss: 0.3146 - val_output_2_loss: 0.3866 - val_output_1_root_mean_squared_error: 0.5609 - val_output_2_root_mean_squared_error: 0.6217\n",
      "Epoch 10/30\n",
      "363/363 [==============================] - 1s 3ms/step - loss: 0.3114 - output_1_loss: 0.3063 - output_2_loss: 0.3570 - output_1_root_mean_squared_error: 0.5535 - output_2_root_mean_squared_error: 0.5975 - val_loss: 0.3291 - val_output_1_loss: 0.3216 - val_output_2_loss: 0.3960 - val_output_1_root_mean_squared_error: 0.5671 - val_output_2_root_mean_squared_error: 0.6293\n",
      "Epoch 11/30\n",
      "363/363 [==============================] - 1s 3ms/step - loss: 0.3116 - output_1_loss: 0.3065 - output_2_loss: 0.3573 - output_1_root_mean_squared_error: 0.5536 - output_2_root_mean_squared_error: 0.5978 - val_loss: 0.3192 - val_output_1_loss: 0.3119 - val_output_2_loss: 0.3853 - val_output_1_root_mean_squared_error: 0.5585 - val_output_2_root_mean_squared_error: 0.6208\n",
      "Epoch 12/30\n",
      "363/363 [==============================] - 1s 3ms/step - loss: 0.3113 - output_1_loss: 0.3063 - output_2_loss: 0.3564 - output_1_root_mean_squared_error: 0.5534 - output_2_root_mean_squared_error: 0.5970 - val_loss: 0.3231 - val_output_1_loss: 0.3161 - val_output_2_loss: 0.3864 - val_output_1_root_mean_squared_error: 0.5622 - val_output_2_root_mean_squared_error: 0.6216\n",
      "Epoch 13/30\n",
      "363/363 [==============================] - 1s 3ms/step - loss: 0.3077 - output_1_loss: 0.3027 - output_2_loss: 0.3527 - output_1_root_mean_squared_error: 0.5502 - output_2_root_mean_squared_error: 0.5939 - val_loss: 0.3165 - val_output_1_loss: 0.3094 - val_output_2_loss: 0.3801 - val_output_1_root_mean_squared_error: 0.5562 - val_output_2_root_mean_squared_error: 0.6165\n",
      "Epoch 14/30\n",
      "363/363 [==============================] - 1s 3ms/step - loss: 0.3062 - output_1_loss: 0.3012 - output_2_loss: 0.3510 - output_1_root_mean_squared_error: 0.5488 - output_2_root_mean_squared_error: 0.5924 - val_loss: 0.3167 - val_output_1_loss: 0.3099 - val_output_2_loss: 0.3782 - val_output_1_root_mean_squared_error: 0.5567 - val_output_2_root_mean_squared_error: 0.6150\n",
      "Epoch 15/30\n",
      "363/363 [==============================] - 1s 3ms/step - loss: 0.3124 - output_1_loss: 0.3077 - output_2_loss: 0.3545 - output_1_root_mean_squared_error: 0.5547 - output_2_root_mean_squared_error: 0.5954 - val_loss: 0.3178 - val_output_1_loss: 0.3099 - val_output_2_loss: 0.3880 - val_output_1_root_mean_squared_error: 0.5567 - val_output_2_root_mean_squared_error: 0.6229\n",
      "Epoch 16/30\n",
      "363/363 [==============================] - 1s 3ms/step - loss: 0.3052 - output_1_loss: 0.3002 - output_2_loss: 0.3500 - output_1_root_mean_squared_error: 0.5479 - output_2_root_mean_squared_error: 0.5916 - val_loss: 0.3156 - val_output_1_loss: 0.3086 - val_output_2_loss: 0.3793 - val_output_1_root_mean_squared_error: 0.5555 - val_output_2_root_mean_squared_error: 0.6159\n",
      "Epoch 17/30\n",
      "363/363 [==============================] - 1s 3ms/step - loss: 0.3023 - output_1_loss: 0.2973 - output_2_loss: 0.3471 - output_1_root_mean_squared_error: 0.5452 - output_2_root_mean_squared_error: 0.5892 - val_loss: 0.3142 - val_output_1_loss: 0.3072 - val_output_2_loss: 0.3779 - val_output_1_root_mean_squared_error: 0.5542 - val_output_2_root_mean_squared_error: 0.6147\n",
      "Epoch 18/30\n",
      "363/363 [==============================] - 1s 3ms/step - loss: 0.3016 - output_1_loss: 0.2966 - output_2_loss: 0.3462 - output_1_root_mean_squared_error: 0.5446 - output_2_root_mean_squared_error: 0.5884 - val_loss: 0.3262 - val_output_1_loss: 0.3196 - val_output_2_loss: 0.3853 - val_output_1_root_mean_squared_error: 0.5653 - val_output_2_root_mean_squared_error: 0.6207\n",
      "Epoch 19/30\n",
      "363/363 [==============================] - 1s 3ms/step - loss: 0.3040 - output_1_loss: 0.2992 - output_2_loss: 0.3472 - output_1_root_mean_squared_error: 0.5470 - output_2_root_mean_squared_error: 0.5893 - val_loss: 0.3141 - val_output_1_loss: 0.3072 - val_output_2_loss: 0.3765 - val_output_1_root_mean_squared_error: 0.5543 - val_output_2_root_mean_squared_error: 0.6136\n",
      "Epoch 20/30\n",
      "363/363 [==============================] - 1s 3ms/step - loss: 0.3007 - output_1_loss: 0.2959 - output_2_loss: 0.3439 - output_1_root_mean_squared_error: 0.5439 - output_2_root_mean_squared_error: 0.5864 - val_loss: 0.3149 - val_output_1_loss: 0.3080 - val_output_2_loss: 0.3773 - val_output_1_root_mean_squared_error: 0.5550 - val_output_2_root_mean_squared_error: 0.6143\n",
      "Epoch 21/30\n",
      "363/363 [==============================] - 1s 3ms/step - loss: 0.3000 - output_1_loss: 0.2951 - output_2_loss: 0.3434 - output_1_root_mean_squared_error: 0.5433 - output_2_root_mean_squared_error: 0.5860 - val_loss: 0.3122 - val_output_1_loss: 0.3052 - val_output_2_loss: 0.3746 - val_output_1_root_mean_squared_error: 0.5525 - val_output_2_root_mean_squared_error: 0.6121\n",
      "Epoch 22/30\n",
      "363/363 [==============================] - 1s 3ms/step - loss: 0.3037 - output_1_loss: 0.2990 - output_2_loss: 0.3458 - output_1_root_mean_squared_error: 0.5469 - output_2_root_mean_squared_error: 0.5880 - val_loss: 0.3286 - val_output_1_loss: 0.3227 - val_output_2_loss: 0.3819 - val_output_1_root_mean_squared_error: 0.5681 - val_output_2_root_mean_squared_error: 0.6180\n",
      "Epoch 23/30\n",
      "363/363 [==============================] - 1s 3ms/step - loss: 0.3014 - output_1_loss: 0.2968 - output_2_loss: 0.3425 - output_1_root_mean_squared_error: 0.5448 - output_2_root_mean_squared_error: 0.5853 - val_loss: 0.3166 - val_output_1_loss: 0.3101 - val_output_2_loss: 0.3752 - val_output_1_root_mean_squared_error: 0.5568 - val_output_2_root_mean_squared_error: 0.6125\n",
      "Epoch 24/30\n",
      "363/363 [==============================] - 1s 3ms/step - loss: 0.2995 - output_1_loss: 0.2949 - output_2_loss: 0.3416 - output_1_root_mean_squared_error: 0.5430 - output_2_root_mean_squared_error: 0.5845 - val_loss: 0.3150 - val_output_1_loss: 0.3084 - val_output_2_loss: 0.3738 - val_output_1_root_mean_squared_error: 0.5554 - val_output_2_root_mean_squared_error: 0.6114\n",
      "Epoch 25/30\n",
      "363/363 [==============================] - 1s 3ms/step - loss: 0.2977 - output_1_loss: 0.2930 - output_2_loss: 0.3397 - output_1_root_mean_squared_error: 0.5413 - output_2_root_mean_squared_error: 0.5829 - val_loss: 0.3127 - val_output_1_loss: 0.3063 - val_output_2_loss: 0.3705 - val_output_1_root_mean_squared_error: 0.5535 - val_output_2_root_mean_squared_error: 0.6087\n",
      "Epoch 26/30\n",
      "363/363 [==============================] - 1s 3ms/step - loss: 0.2970 - output_1_loss: 0.2924 - output_2_loss: 0.3384 - output_1_root_mean_squared_error: 0.5408 - output_2_root_mean_squared_error: 0.5818 - val_loss: 0.3185 - val_output_1_loss: 0.3120 - val_output_2_loss: 0.3767 - val_output_1_root_mean_squared_error: 0.5586 - val_output_2_root_mean_squared_error: 0.6137\n",
      "Epoch 27/30\n",
      "363/363 [==============================] - 1s 3ms/step - loss: 0.2981 - output_1_loss: 0.2934 - output_2_loss: 0.3398 - output_1_root_mean_squared_error: 0.5417 - output_2_root_mean_squared_error: 0.5830 - val_loss: 0.3198 - val_output_1_loss: 0.3133 - val_output_2_loss: 0.3785 - val_output_1_root_mean_squared_error: 0.5597 - val_output_2_root_mean_squared_error: 0.6152\n",
      "Epoch 28/30\n",
      "363/363 [==============================] - 1s 3ms/step - loss: 0.2959 - output_1_loss: 0.2913 - output_2_loss: 0.3372 - output_1_root_mean_squared_error: 0.5397 - output_2_root_mean_squared_error: 0.5807 - val_loss: 0.3135 - val_output_1_loss: 0.3075 - val_output_2_loss: 0.3678 - val_output_1_root_mean_squared_error: 0.5545 - val_output_2_root_mean_squared_error: 0.6065\n",
      "Epoch 29/30\n",
      "363/363 [==============================] - 1s 3ms/step - loss: 0.2950 - output_1_loss: 0.2905 - output_2_loss: 0.3359 - output_1_root_mean_squared_error: 0.5390 - output_2_root_mean_squared_error: 0.5796 - val_loss: 0.3136 - val_output_1_loss: 0.3072 - val_output_2_loss: 0.3719 - val_output_1_root_mean_squared_error: 0.5542 - val_output_2_root_mean_squared_error: 0.6098\n",
      "Epoch 30/30\n",
      "363/363 [==============================] - 1s 3ms/step - loss: 0.2959 - output_1_loss: 0.2913 - output_2_loss: 0.3373 - output_1_root_mean_squared_error: 0.5397 - output_2_root_mean_squared_error: 0.5808 - val_loss: 0.3235 - val_output_1_loss: 0.3177 - val_output_2_loss: 0.3765 - val_output_1_root_mean_squared_error: 0.5636 - val_output_2_root_mean_squared_error: 0.6136\n"
     ]
    }
   ],
   "source": [
    "# Initialising a Callback\n",
    "checkpoint_cb = tf.keras.callbacks.ModelCheckpoint(\"my_checkpoints\", save_weights_only=True)\n",
    "\n",
    "# Training the Model with Callbacks\n",
    "history = model.fit(\n",
    "    (X_train_wide, X_train_deep), (y_train, y_train),\n",
    "    validation_data=((X_valid_wide, X_valid_deep), (y_valid, y_valid)),\n",
    "    epochs=30, callbacks=[checkpoint_cb]\n",
    ")"
   ]
  },
  {
   "cell_type": "markdown",
   "id": "d274637d",
   "metadata": {
    "papermill": {
     "duration": 0.266975,
     "end_time": "2024-01-06T23:20:53.454006",
     "exception": false,
     "start_time": "2024-01-06T23:20:53.187031",
     "status": "completed"
    },
    "tags": []
   },
   "source": [
    "**Important**\n",
    "- The **`EarlyStopping Callback`** will stop the training process once a condition or performance measure it met\n",
    "- By default it stops if no progress is being made on the Validation Set for a number of epochs.\n",
    "- This is defined by the `Patience` Parameter"
   ]
  },
  {
   "cell_type": "code",
   "execution_count": 42,
   "id": "5bbfaa12",
   "metadata": {
    "execution": {
     "iopub.execute_input": "2024-01-06T23:20:54.015906Z",
     "iopub.status.busy": "2024-01-06T23:20:54.015369Z",
     "iopub.status.idle": "2024-01-06T23:21:04.239471Z",
     "shell.execute_reply": "2024-01-06T23:21:04.238182Z"
    },
    "papermill": {
     "duration": 10.498605,
     "end_time": "2024-01-06T23:21:04.242451",
     "exception": false,
     "start_time": "2024-01-06T23:20:53.743846",
     "status": "completed"
    },
    "tags": []
   },
   "outputs": [
    {
     "name": "stdout",
     "output_type": "stream",
     "text": [
      "Epoch 1/100\n",
      "363/363 [==============================] - 1s 3ms/step - loss: 0.2949 - output_1_loss: 0.2905 - output_2_loss: 0.3347 - output_1_root_mean_squared_error: 0.5390 - output_2_root_mean_squared_error: 0.5785 - val_loss: 0.3187 - val_output_1_loss: 0.3122 - val_output_2_loss: 0.3774 - val_output_1_root_mean_squared_error: 0.5587 - val_output_2_root_mean_squared_error: 0.6144\n",
      "Epoch 2/100\n",
      "363/363 [==============================] - 1s 3ms/step - loss: 0.2957 - output_1_loss: 0.2912 - output_2_loss: 0.3359 - output_1_root_mean_squared_error: 0.5397 - output_2_root_mean_squared_error: 0.5796 - val_loss: 0.3175 - val_output_1_loss: 0.3112 - val_output_2_loss: 0.3736 - val_output_1_root_mean_squared_error: 0.5579 - val_output_2_root_mean_squared_error: 0.6112\n",
      "Epoch 3/100\n",
      "363/363 [==============================] - 1s 3ms/step - loss: 0.2995 - output_1_loss: 0.2952 - output_2_loss: 0.3386 - output_1_root_mean_squared_error: 0.5433 - output_2_root_mean_squared_error: 0.5819 - val_loss: 0.3084 - val_output_1_loss: 0.3019 - val_output_2_loss: 0.3663 - val_output_1_root_mean_squared_error: 0.5495 - val_output_2_root_mean_squared_error: 0.6052\n",
      "Epoch 4/100\n",
      "363/363 [==============================] - 1s 3ms/step - loss: 0.2952 - output_1_loss: 0.2907 - output_2_loss: 0.3360 - output_1_root_mean_squared_error: 0.5392 - output_2_root_mean_squared_error: 0.5796 - val_loss: 0.3070 - val_output_1_loss: 0.3006 - val_output_2_loss: 0.3646 - val_output_1_root_mean_squared_error: 0.5482 - val_output_2_root_mean_squared_error: 0.6038\n",
      "Epoch 5/100\n",
      "363/363 [==============================] - 1s 3ms/step - loss: 0.2953 - output_1_loss: 0.2908 - output_2_loss: 0.3365 - output_1_root_mean_squared_error: 0.5392 - output_2_root_mean_squared_error: 0.5801 - val_loss: 0.3053 - val_output_1_loss: 0.2993 - val_output_2_loss: 0.3600 - val_output_1_root_mean_squared_error: 0.5470 - val_output_2_root_mean_squared_error: 0.6000\n",
      "Epoch 6/100\n",
      "363/363 [==============================] - 1s 3ms/step - loss: 0.2926 - output_1_loss: 0.2882 - output_2_loss: 0.3325 - output_1_root_mean_squared_error: 0.5368 - output_2_root_mean_squared_error: 0.5766 - val_loss: 0.3107 - val_output_1_loss: 0.3043 - val_output_2_loss: 0.3683 - val_output_1_root_mean_squared_error: 0.5516 - val_output_2_root_mean_squared_error: 0.6069\n",
      "Epoch 7/100\n",
      "363/363 [==============================] - 1s 3ms/step - loss: 0.2904 - output_1_loss: 0.2859 - output_2_loss: 0.3303 - output_1_root_mean_squared_error: 0.5347 - output_2_root_mean_squared_error: 0.5747 - val_loss: 0.3074 - val_output_1_loss: 0.3012 - val_output_2_loss: 0.3630 - val_output_1_root_mean_squared_error: 0.5488 - val_output_2_root_mean_squared_error: 0.6025\n",
      "Epoch 8/100\n",
      "363/363 [==============================] - 1s 3ms/step - loss: 0.2904 - output_1_loss: 0.2859 - output_2_loss: 0.3305 - output_1_root_mean_squared_error: 0.5347 - output_2_root_mean_squared_error: 0.5749 - val_loss: 0.3142 - val_output_1_loss: 0.3079 - val_output_2_loss: 0.3715 - val_output_1_root_mean_squared_error: 0.5549 - val_output_2_root_mean_squared_error: 0.6095\n",
      "Epoch 9/100\n",
      "363/363 [==============================] - 1s 3ms/step - loss: 0.2916 - output_1_loss: 0.2872 - output_2_loss: 0.3308 - output_1_root_mean_squared_error: 0.5360 - output_2_root_mean_squared_error: 0.5752 - val_loss: 0.3068 - val_output_1_loss: 0.3007 - val_output_2_loss: 0.3619 - val_output_1_root_mean_squared_error: 0.5483 - val_output_2_root_mean_squared_error: 0.6016\n",
      "Epoch 10/100\n",
      "363/363 [==============================] - 1s 3ms/step - loss: 0.2923 - output_1_loss: 0.2879 - output_2_loss: 0.3321 - output_1_root_mean_squared_error: 0.5366 - output_2_root_mean_squared_error: 0.5763 - val_loss: 0.3092 - val_output_1_loss: 0.3031 - val_output_2_loss: 0.3639 - val_output_1_root_mean_squared_error: 0.5506 - val_output_2_root_mean_squared_error: 0.6033\n"
     ]
    }
   ],
   "source": [
    "earlystop_cb = tf.keras.callbacks.EarlyStopping(\n",
    "    patience=5,\n",
    "    restore_best_weights=True\n",
    ")\n",
    "\n",
    "history = model.fit(\n",
    "    (X_train_wide, X_train_deep), (y_train, y_train),\n",
    "    validation_data=((X_valid_wide, X_valid_deep), (y_valid, y_valid)),\n",
    "    epochs=100, callbacks=[earlystop_cb]\n",
    ")"
   ]
  },
  {
   "cell_type": "markdown",
   "id": "54622dde",
   "metadata": {
    "papermill": {
     "duration": 0.39285,
     "end_time": "2024-01-06T23:21:04.932435",
     "exception": false,
     "start_time": "2024-01-06T23:21:04.539585",
     "status": "completed"
    },
    "tags": []
   },
   "source": [
    "**Customised Callbacks**\n",
    "- Like Model Subclassing API to build dynamic models we inherit the **`keras.callbacks.Callback`** class to create custom callbacks"
   ]
  },
  {
   "cell_type": "code",
   "execution_count": 43,
   "id": "a8e8500e",
   "metadata": {
    "execution": {
     "iopub.execute_input": "2024-01-06T23:21:05.523338Z",
     "iopub.status.busy": "2024-01-06T23:21:05.522867Z",
     "iopub.status.idle": "2024-01-06T23:21:31.456653Z",
     "shell.execute_reply": "2024-01-06T23:21:31.455437Z"
    },
    "papermill": {
     "duration": 26.234932,
     "end_time": "2024-01-06T23:21:31.459152",
     "exception": false,
     "start_time": "2024-01-06T23:21:05.224220",
     "status": "completed"
    },
    "tags": []
   },
   "outputs": [
    {
     "name": "stdout",
     "output_type": "stream",
     "text": [
      "Epoch: 0 \t Validation/Train: 1.08\n",
      "Epoch: 1 \t Validation/Train: 1.07\n",
      "Epoch: 2 \t Validation/Train: 1.03\n",
      "Epoch: 3 \t Validation/Train: 1.04\n",
      "Epoch: 4 \t Validation/Train: 1.04\n",
      "Epoch: 5 \t Validation/Train: 1.07\n",
      "Epoch: 6 \t Validation/Train: 1.06\n",
      "Epoch: 7 \t Validation/Train: 1.09\n",
      "Epoch: 8 \t Validation/Train: 1.06\n",
      "Epoch: 9 \t Validation/Train: 1.06\n",
      "Epoch: 10 \t Validation/Train: 1.05\n",
      "Epoch: 11 \t Validation/Train: 1.06\n",
      "Epoch: 12 \t Validation/Train: 1.06\n",
      "Epoch: 13 \t Validation/Train: 1.08\n",
      "Epoch: 14 \t Validation/Train: 1.05\n",
      "Epoch: 15 \t Validation/Train: 1.06\n",
      "Epoch: 16 \t Validation/Train: 1.06\n",
      "Epoch: 17 \t Validation/Train: 1.12\n",
      "Epoch: 18 \t Validation/Train: 1.05\n",
      "Epoch: 19 \t Validation/Train: 1.07\n"
     ]
    }
   ],
   "source": [
    "class CustomCallback(tf.keras.callbacks.Callback):\n",
    "    def on_epoch_end(self, epoch, logs):\n",
    "        ratio = logs[\"val_loss\"] / logs[\"loss\"]\n",
    "        print(f\"Epoch: {epoch} \\t Validation/Train: {ratio:.2f}\")\n",
    "        \n",
    "ratio_cb = CustomCallback()\n",
    "        \n",
    "history = model.fit(\n",
    "    (X_train_wide, X_train_deep), (y_train, y_train),\n",
    "    validation_data=((X_valid_wide, X_valid_deep), (y_valid, y_valid)),\n",
    "    epochs=20, callbacks=[ratio_cb], verbose=0\n",
    ")"
   ]
  },
  {
   "cell_type": "markdown",
   "id": "3181f374",
   "metadata": {
    "papermill": {
     "duration": 0.285221,
     "end_time": "2024-01-06T23:21:32.034534",
     "exception": false,
     "start_time": "2024-01-06T23:21:31.749313",
     "status": "completed"
    },
    "tags": []
   },
   "source": [
    "## Hyper Parameter Tuning for Neural Networks"
   ]
  },
  {
   "cell_type": "code",
   "execution_count": 44,
   "id": "855d9e5a",
   "metadata": {
    "execution": {
     "iopub.execute_input": "2024-01-06T23:21:32.606752Z",
     "iopub.status.busy": "2024-01-06T23:21:32.606046Z",
     "iopub.status.idle": "2024-01-06T23:21:37.033389Z",
     "shell.execute_reply": "2024-01-06T23:21:37.032123Z"
    },
    "papermill": {
     "duration": 4.717814,
     "end_time": "2024-01-06T23:21:37.036566",
     "exception": false,
     "start_time": "2024-01-06T23:21:32.318752",
     "status": "completed"
    },
    "tags": []
   },
   "outputs": [
    {
     "name": "stdout",
     "output_type": "stream",
     "text": [
      "Downloading data from https://storage.googleapis.com/tensorflow/tf-keras-datasets/train-labels-idx1-ubyte.gz\n",
      "29515/29515 [==============================] - 0s 1us/step\n",
      "Downloading data from https://storage.googleapis.com/tensorflow/tf-keras-datasets/train-images-idx3-ubyte.gz\n",
      "26421880/26421880 [==============================] - 2s 0us/step\n",
      "Downloading data from https://storage.googleapis.com/tensorflow/tf-keras-datasets/t10k-labels-idx1-ubyte.gz\n",
      "5148/5148 [==============================] - 0s 0us/step\n",
      "Downloading data from https://storage.googleapis.com/tensorflow/tf-keras-datasets/t10k-images-idx3-ubyte.gz\n",
      "4422102/4422102 [==============================] - 1s 0us/step\n"
     ]
    }
   ],
   "source": [
    "fashion_minst = tf.keras.datasets.fashion_mnist\n",
    "\n",
    "(X_train_full, y_train_full), (X_test_full, y_test_full) = fashion_minst.load_data()\n",
    "X_train, X_valid, y_train, y_valid = train_test_split(X_train_full, y_train_full, test_size=0.08)"
   ]
  },
  {
   "cell_type": "code",
   "execution_count": 45,
   "id": "09418432",
   "metadata": {
    "execution": {
     "iopub.execute_input": "2024-01-06T23:21:37.618947Z",
     "iopub.status.busy": "2024-01-06T23:21:37.618500Z",
     "iopub.status.idle": "2024-01-06T23:21:37.625571Z",
     "shell.execute_reply": "2024-01-06T23:21:37.624380Z"
    },
    "papermill": {
     "duration": 0.300155,
     "end_time": "2024-01-06T23:21:37.628186",
     "exception": false,
     "start_time": "2024-01-06T23:21:37.328031",
     "status": "completed"
    },
    "tags": []
   },
   "outputs": [
    {
     "name": "stdout",
     "output_type": "stream",
     "text": [
      "X train:  (55200, 28, 28)\n",
      "y train:  (55200,)\n",
      "X valid:  (4800, 28, 28)\n",
      "y valid:  (4800,)\n",
      "X test:  (5160, 8)\n",
      "y test:  (5160,)\n"
     ]
    }
   ],
   "source": [
    "print(\"X train: \", X_train.shape)\n",
    "print(\"y train: \", y_train.shape)\n",
    "print(\"X valid: \", X_valid.shape)\n",
    "print(\"y valid: \", y_valid.shape)\n",
    "print(\"X test: \", X_test.shape)\n",
    "print(\"y test: \", y_test.shape)"
   ]
  },
  {
   "cell_type": "code",
   "execution_count": 46,
   "id": "2bb5385c",
   "metadata": {
    "execution": {
     "iopub.execute_input": "2024-01-06T23:21:38.205552Z",
     "iopub.status.busy": "2024-01-06T23:21:38.205175Z",
     "iopub.status.idle": "2024-01-06T23:21:38.710734Z",
     "shell.execute_reply": "2024-01-06T23:21:38.709641Z"
    },
    "papermill": {
     "duration": 0.796546,
     "end_time": "2024-01-06T23:21:38.713701",
     "exception": false,
     "start_time": "2024-01-06T23:21:37.917155",
     "status": "completed"
    },
    "tags": []
   },
   "outputs": [],
   "source": [
    "import keras_tuner as kt\n",
    "\n",
    "def build_model(hp):\n",
    "    \n",
    "    # Providing all the parameter choices that the model can make while tuning\n",
    "    n_hidden = hp.Int(\"n_hidden\", min_value=0, max_value=10, default=2)\n",
    "    n_neurons = hp.Int(\"n_neurons\", min_value=16, max_value=256)\n",
    "    learning_rate = hp.Float(\"learning_rate\", min_value=1e-4, max_value=1e-2, sampling=\"log\")\n",
    "    optimizer = hp.Choice(\"optimizer\", values=[\"sgd\", \"rmsprop\", \"adam\"])\n",
    "    \n",
    "    # Updating the Learning for the Optimizer chosen\n",
    "    if optimizer == \"sgd\":\n",
    "        optimizer = tf.keras.optimizers.SGD(learning_rate=learning_rate)\n",
    "        \n",
    "    elif optimizer == \"rmsprop\":\n",
    "        optimizer = tf.keras.optimizers.RMSprop(learning_rate=learning_rate)\n",
    "        \n",
    "    else:\n",
    "        optimizer = tf.keras.optimizers.Adam(learning_rate=learning_rate)\n",
    "        \n",
    "    # Building a Simple Model for Tuning\n",
    "    model = tf.keras.models.Sequential()\n",
    "    \n",
    "    # Input Layer\n",
    "    model.add(tf.keras.layers.Flatten())\n",
    "    \n",
    "    # Hidden Layers\n",
    "    for i in range(n_hidden):\n",
    "        model.add(tf.keras.layers.Dense(n_neurons, activation=\"relu\"))\n",
    "        \n",
    "    # Output Layer\n",
    "    model.add(tf.keras.layers.Dense(10, activation=\"softmax\"))\n",
    "    \n",
    "    # Compiling the Model\n",
    "    model.compile(loss=\"sparse_categorical_crossentropy\", optimizer=optimizer, metrics=[\"accuracy\"])\n",
    "    \n",
    "    return model"
   ]
  },
  {
   "cell_type": "code",
   "execution_count": 47,
   "id": "797e6dc7",
   "metadata": {
    "execution": {
     "iopub.execute_input": "2024-01-06T23:21:39.370095Z",
     "iopub.status.busy": "2024-01-06T23:21:39.369589Z",
     "iopub.status.idle": "2024-01-06T23:26:45.078923Z",
     "shell.execute_reply": "2024-01-06T23:26:45.077786Z"
    },
    "papermill": {
     "duration": 306.370323,
     "end_time": "2024-01-06T23:26:45.375880",
     "exception": false,
     "start_time": "2024-01-06T23:21:39.005557",
     "status": "completed"
    },
    "tags": []
   },
   "outputs": [
    {
     "name": "stdout",
     "output_type": "stream",
     "text": [
      "Trial 5 Complete [00h 01m 23s]\n",
      "val_accuracy: 0.7093750238418579\n",
      "\n",
      "Best val_accuracy So Far: 0.8543750047683716\n",
      "Total elapsed time: 00h 05m 06s\n"
     ]
    }
   ],
   "source": [
    "random_search_tuner = kt.RandomSearch(\n",
    "    build_model, objective=\"val_accuracy\", overwrite=True, max_trials=5, seed=1730\n",
    ")\n",
    "\n",
    "random_search_tuner.search(X_train, y_train, epochs=10, validation_data=(X_valid, y_valid))"
   ]
  },
  {
   "cell_type": "markdown",
   "id": "52bc49cb",
   "metadata": {
    "papermill": {
     "duration": 0.290415,
     "end_time": "2024-01-06T23:26:46.016629",
     "exception": false,
     "start_time": "2024-01-06T23:26:45.726214",
     "status": "completed"
    },
    "tags": []
   },
   "source": [
    "**Top 3 Models**"
   ]
  },
  {
   "cell_type": "code",
   "execution_count": 48,
   "id": "52ad508b",
   "metadata": {
    "execution": {
     "iopub.execute_input": "2024-01-06T23:26:46.601830Z",
     "iopub.status.busy": "2024-01-06T23:26:46.600981Z",
     "iopub.status.idle": "2024-01-06T23:26:47.459177Z",
     "shell.execute_reply": "2024-01-06T23:26:47.458190Z"
    },
    "papermill": {
     "duration": 1.153972,
     "end_time": "2024-01-06T23:26:47.461759",
     "exception": false,
     "start_time": "2024-01-06T23:26:46.307787",
     "status": "completed"
    },
    "tags": []
   },
   "outputs": [],
   "source": [
    "top3_models = random_search_tuner.get_best_models(num_models=3)\n",
    "best_model = top3_models[0]"
   ]
  },
  {
   "cell_type": "code",
   "execution_count": 49,
   "id": "fd3df58b",
   "metadata": {
    "execution": {
     "iopub.execute_input": "2024-01-06T23:26:48.041857Z",
     "iopub.status.busy": "2024-01-06T23:26:48.041153Z",
     "iopub.status.idle": "2024-01-06T23:26:48.048429Z",
     "shell.execute_reply": "2024-01-06T23:26:48.047428Z"
    },
    "papermill": {
     "duration": 0.299156,
     "end_time": "2024-01-06T23:26:48.050802",
     "exception": false,
     "start_time": "2024-01-06T23:26:47.751646",
     "status": "completed"
    },
    "tags": []
   },
   "outputs": [
    {
     "data": {
      "text/plain": [
       "{'n_hidden': 5,\n",
       " 'n_neurons': 73,\n",
       " 'learning_rate': 0.0027752083061289255,\n",
       " 'optimizer': 'adam'}"
      ]
     },
     "execution_count": 49,
     "metadata": {},
     "output_type": "execute_result"
    }
   ],
   "source": [
    "top3_params = random_search_tuner.get_best_hyperparameters(num_trials=3)\n",
    "best_params = top3_params[0].values\n",
    "best_params"
   ]
  },
  {
   "cell_type": "markdown",
   "id": "4165a124",
   "metadata": {
    "papermill": {
     "duration": 0.287497,
     "end_time": "2024-01-06T23:26:48.625621",
     "exception": false,
     "start_time": "2024-01-06T23:26:48.338124",
     "status": "completed"
    },
    "tags": []
   },
   "source": [
    "**Training the Best Model**"
   ]
  },
  {
   "cell_type": "code",
   "execution_count": 50,
   "id": "65c40b97",
   "metadata": {
    "execution": {
     "iopub.execute_input": "2024-01-06T23:26:49.208378Z",
     "iopub.status.busy": "2024-01-06T23:26:49.207996Z",
     "iopub.status.idle": "2024-01-06T23:28:12.471296Z",
     "shell.execute_reply": "2024-01-06T23:28:12.470277Z"
    },
    "papermill": {
     "duration": 83.938862,
     "end_time": "2024-01-06T23:28:12.857580",
     "exception": false,
     "start_time": "2024-01-06T23:26:48.918718",
     "status": "completed"
    },
    "tags": []
   },
   "outputs": [
    {
     "name": "stdout",
     "output_type": "stream",
     "text": [
      "Epoch 1/10\n",
      "1725/1725 [==============================] - 6s 3ms/step - loss: 0.4252 - accuracy: 0.8517 - val_loss: 0.4341 - val_accuracy: 0.8492\n",
      "Epoch 2/10\n",
      "1725/1725 [==============================] - 5s 3ms/step - loss: 0.4134 - accuracy: 0.8539 - val_loss: 0.4995 - val_accuracy: 0.8321\n",
      "Epoch 3/10\n",
      "1725/1725 [==============================] - 5s 3ms/step - loss: 0.4147 - accuracy: 0.8562 - val_loss: 0.4399 - val_accuracy: 0.8429\n",
      "Epoch 4/10\n",
      "1725/1725 [==============================] - 5s 3ms/step - loss: 0.4133 - accuracy: 0.8552 - val_loss: 0.4316 - val_accuracy: 0.8492\n",
      "Epoch 5/10\n",
      "1725/1725 [==============================] - 5s 3ms/step - loss: 0.4142 - accuracy: 0.8536 - val_loss: 0.4434 - val_accuracy: 0.8417\n",
      "Epoch 6/10\n",
      "1725/1725 [==============================] - 5s 3ms/step - loss: 0.3979 - accuracy: 0.8606 - val_loss: 0.3997 - val_accuracy: 0.8562\n",
      "Epoch 7/10\n",
      "1725/1725 [==============================] - 5s 3ms/step - loss: 0.4005 - accuracy: 0.8581 - val_loss: 0.4820 - val_accuracy: 0.8275\n",
      "Epoch 8/10\n",
      "1725/1725 [==============================] - 5s 3ms/step - loss: 0.4061 - accuracy: 0.8567 - val_loss: 0.4373 - val_accuracy: 0.8527\n",
      "Epoch 9/10\n",
      "1725/1725 [==============================] - 5s 3ms/step - loss: 0.3961 - accuracy: 0.8603 - val_loss: 0.5146 - val_accuracy: 0.8473\n",
      "Epoch 10/10\n",
      "1725/1725 [==============================] - 5s 3ms/step - loss: 0.4210 - accuracy: 0.8547 - val_loss: 0.4705 - val_accuracy: 0.8415\n"
     ]
    },
    {
     "data": {
      "text/plain": [
       "<keras.src.callbacks.History at 0x7d7be3f80850>"
      ]
     },
     "execution_count": 50,
     "metadata": {},
     "output_type": "execute_result"
    }
   ],
   "source": [
    "best_model.fit(X_train, y_train, epochs=10, validation_data=(X_valid, y_valid))"
   ]
  },
  {
   "cell_type": "code",
   "execution_count": null,
   "id": "2484a2e3",
   "metadata": {
    "papermill": {
     "duration": 0.391814,
     "end_time": "2024-01-06T23:28:13.730990",
     "exception": false,
     "start_time": "2024-01-06T23:28:13.339176",
     "status": "completed"
    },
    "tags": []
   },
   "outputs": [],
   "source": []
  }
 ],
 "metadata": {
  "kaggle": {
   "accelerator": "none",
   "dataSources": [],
   "dockerImageVersionId": 30626,
   "isGpuEnabled": false,
   "isInternetEnabled": true,
   "language": "python",
   "sourceType": "notebook"
  },
  "kernelspec": {
   "display_name": "Python 3",
   "language": "python",
   "name": "python3"
  },
  "language_info": {
   "codemirror_mode": {
    "name": "ipython",
    "version": 3
   },
   "file_extension": ".py",
   "mimetype": "text/x-python",
   "name": "python",
   "nbconvert_exporter": "python",
   "pygments_lexer": "ipython3",
   "version": "3.10.12"
  },
  "papermill": {
   "default_parameters": {},
   "duration": 631.926246,
   "end_time": "2024-01-06T23:28:15.733876",
   "environment_variables": {},
   "exception": null,
   "input_path": "__notebook__.ipynb",
   "output_path": "__notebook__.ipynb",
   "parameters": {},
   "start_time": "2024-01-06T23:17:43.807630",
   "version": "2.4.0"
  }
 },
 "nbformat": 4,
 "nbformat_minor": 5
}
