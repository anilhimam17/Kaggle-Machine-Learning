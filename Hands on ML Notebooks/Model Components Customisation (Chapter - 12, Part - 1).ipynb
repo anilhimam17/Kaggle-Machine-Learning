{
 "cells": [
  {
   "cell_type": "markdown",
   "id": "2c14d388",
   "metadata": {
    "_cell_guid": "b1076dfc-b9ad-4769-8c92-a6c4dae69d19",
    "_uuid": "8f2839f25d086af736a60e9eeb907d3b93b6e0e5",
    "papermill": {
     "duration": 0.01948,
     "end_time": "2024-05-16T15:12:22.642399",
     "exception": false,
     "start_time": "2024-05-16T15:12:22.622919",
     "status": "completed"
    },
    "tags": []
   },
   "source": [
    "**Using TensorFlow Like NumPy**\n",
    "--"
   ]
  },
  {
   "cell_type": "code",
   "execution_count": 1,
   "id": "0e923ecc",
   "metadata": {
    "execution": {
     "iopub.execute_input": "2024-05-16T15:12:22.682646Z",
     "iopub.status.busy": "2024-05-16T15:12:22.682295Z",
     "iopub.status.idle": "2024-05-16T15:12:34.824979Z",
     "shell.execute_reply": "2024-05-16T15:12:34.823992Z"
    },
    "papermill": {
     "duration": 12.164756,
     "end_time": "2024-05-16T15:12:34.827458",
     "exception": false,
     "start_time": "2024-05-16T15:12:22.662702",
     "status": "completed"
    },
    "tags": []
   },
   "outputs": [
    {
     "name": "stderr",
     "output_type": "stream",
     "text": [
      "2024-05-16 15:12:24.451999: E external/local_xla/xla/stream_executor/cuda/cuda_dnn.cc:9261] Unable to register cuDNN factory: Attempting to register factory for plugin cuDNN when one has already been registered\n",
      "2024-05-16 15:12:24.452131: E external/local_xla/xla/stream_executor/cuda/cuda_fft.cc:607] Unable to register cuFFT factory: Attempting to register factory for plugin cuFFT when one has already been registered\n",
      "2024-05-16 15:12:24.577371: E external/local_xla/xla/stream_executor/cuda/cuda_blas.cc:1515] Unable to register cuBLAS factory: Attempting to register factory for plugin cuBLAS when one has already been registered\n"
     ]
    }
   ],
   "source": [
    "import tensorflow as tf\n",
    "import numpy as np\n",
    "import matplotlib.pyplot as plt"
   ]
  },
  {
   "cell_type": "markdown",
   "id": "f1a61a55",
   "metadata": {
    "papermill": {
     "duration": 0.018156,
     "end_time": "2024-05-16T15:12:34.864893",
     "exception": false,
     "start_time": "2024-05-16T15:12:34.846737",
     "status": "completed"
    },
    "tags": []
   },
   "source": [
    "## Tensors and Operations"
   ]
  },
  {
   "cell_type": "markdown",
   "id": "26900a1d",
   "metadata": {
    "papermill": {
     "duration": 0.018167,
     "end_time": "2024-05-16T15:12:34.907550",
     "exception": false,
     "start_time": "2024-05-16T15:12:34.889383",
     "status": "completed"
    },
    "tags": []
   },
   "source": [
    "**Constants**"
   ]
  },
  {
   "cell_type": "code",
   "execution_count": 2,
   "id": "55b86328",
   "metadata": {
    "execution": {
     "iopub.execute_input": "2024-05-16T15:12:34.946535Z",
     "iopub.status.busy": "2024-05-16T15:12:34.945524Z",
     "iopub.status.idle": "2024-05-16T15:12:34.976424Z",
     "shell.execute_reply": "2024-05-16T15:12:34.975309Z"
    },
    "papermill": {
     "duration": 0.0526,
     "end_time": "2024-05-16T15:12:34.978536",
     "exception": false,
     "start_time": "2024-05-16T15:12:34.925936",
     "status": "completed"
    },
    "tags": []
   },
   "outputs": [
    {
     "name": "stdout",
     "output_type": "stream",
     "text": [
      "Scaler\n",
      " tf.Tensor(1730, shape=(), dtype=int32)\n",
      "\n",
      "Scaler Shape:  ()\n",
      "\n",
      "Scaler Datatype:  <dtype: 'int32'>\n",
      "\n",
      "Tensor\n",
      " tf.Tensor(\n",
      "[[1 2 3]\n",
      " [4 5 6]], shape=(2, 3), dtype=int32)\n",
      "\n",
      "Tensor Shape:  (2, 3)\n",
      "\n",
      "Tensor Datatype:  <dtype: 'int32'>\n"
     ]
    }
   ],
   "source": [
    "# Constant Tensors\n",
    "first_tensor = tf.constant([\n",
    "    [1, 2, 3],\n",
    "    [4, 5, 6]\n",
    "])\n",
    "\n",
    "# Scaler Constants\n",
    "sc_constant = tf.constant(1730)\n",
    "\n",
    "print(\"Scaler\\n\", sc_constant)\n",
    "print(\"\\nScaler Shape: \", sc_constant.shape)\n",
    "print(\"\\nScaler Datatype: \", sc_constant.dtype)\n",
    "\n",
    "print(\"\\nTensor\\n\", first_tensor)\n",
    "print(\"\\nTensor Shape: \", first_tensor.shape)\n",
    "print(\"\\nTensor Datatype: \", first_tensor.dtype)"
   ]
  },
  {
   "cell_type": "code",
   "execution_count": 3,
   "id": "a30aad76",
   "metadata": {
    "execution": {
     "iopub.execute_input": "2024-05-16T15:12:35.017330Z",
     "iopub.status.busy": "2024-05-16T15:12:35.016986Z",
     "iopub.status.idle": "2024-05-16T15:12:35.024672Z",
     "shell.execute_reply": "2024-05-16T15:12:35.023808Z"
    },
    "papermill": {
     "duration": 0.029588,
     "end_time": "2024-05-16T15:12:35.026962",
     "exception": false,
     "start_time": "2024-05-16T15:12:34.997374",
     "status": "completed"
    },
    "tags": []
   },
   "outputs": [
    {
     "data": {
      "text/plain": [
       "<tf.Tensor: shape=(2, 3), dtype=int32, numpy=\n",
       "array([[1, 2, 3],\n",
       "       [4, 5, 6]], dtype=int32)>"
      ]
     },
     "execution_count": 3,
     "metadata": {},
     "output_type": "execute_result"
    }
   ],
   "source": [
    "# Raw Tensor Representation\n",
    "first_tensor"
   ]
  },
  {
   "cell_type": "markdown",
   "id": "bd73c817",
   "metadata": {
    "papermill": {
     "duration": 0.018727,
     "end_time": "2024-05-16T15:12:35.064624",
     "exception": false,
     "start_time": "2024-05-16T15:12:35.045897",
     "status": "completed"
    },
    "tags": []
   },
   "source": [
    "**Indexing**: Works similar to NumPy Arrays"
   ]
  },
  {
   "cell_type": "code",
   "execution_count": 4,
   "id": "3870ea7b",
   "metadata": {
    "execution": {
     "iopub.execute_input": "2024-05-16T15:12:35.104934Z",
     "iopub.status.busy": "2024-05-16T15:12:35.104264Z",
     "iopub.status.idle": "2024-05-16T15:12:35.121540Z",
     "shell.execute_reply": "2024-05-16T15:12:35.120236Z"
    },
    "papermill": {
     "duration": 0.038865,
     "end_time": "2024-05-16T15:12:35.123605",
     "exception": false,
     "start_time": "2024-05-16T15:12:35.084740",
     "status": "completed"
    },
    "tags": []
   },
   "outputs": [
    {
     "name": "stdout",
     "output_type": "stream",
     "text": [
      "Viewing the first column:  tf.Tensor([1 4], shape=(2,), dtype=int32)\n",
      "\n",
      "Viewing the last column:  tf.Tensor([3 6], shape=(2,), dtype=int32)\n",
      "\n",
      "Viewing the first elements of each row:  tf.Tensor(\n",
      "[[1 2]\n",
      " [4 5]], shape=(2, 2), dtype=int32)\n"
     ]
    }
   ],
   "source": [
    "print(\"Viewing the first column: \", first_tensor[:, -3])\n",
    "print(\"\\nViewing the last column: \", first_tensor[:, 2])\n",
    "print(\"\\nViewing the first elements of each row: \", first_tensor[:, :2])"
   ]
  },
  {
   "cell_type": "code",
   "execution_count": 5,
   "id": "7430a23d",
   "metadata": {
    "execution": {
     "iopub.execute_input": "2024-05-16T15:12:35.162403Z",
     "iopub.status.busy": "2024-05-16T15:12:35.162064Z",
     "iopub.status.idle": "2024-05-16T15:12:35.172356Z",
     "shell.execute_reply": "2024-05-16T15:12:35.171057Z"
    },
    "papermill": {
     "duration": 0.032143,
     "end_time": "2024-05-16T15:12:35.174391",
     "exception": false,
     "start_time": "2024-05-16T15:12:35.142248",
     "status": "completed"
    },
    "tags": []
   },
   "outputs": [
    {
     "name": "stdout",
     "output_type": "stream",
     "text": [
      "Shape of new tensor (Originally):  (3,)\n",
      "Shape of new tensor (After tf.newaxis):  tf.Tensor(\n",
      "[[10]\n",
      " [20]\n",
      " [30]], shape=(3, 1), dtype=int32)\n",
      "Shape of new tensor (After expand_dims):  tf.Tensor(\n",
      "[[10]\n",
      " [20]\n",
      " [30]], shape=(3, 1), dtype=int32)\n",
      "Shape of new tensor (After expand_dims):  tf.Tensor([[10 20 30]], shape=(1, 3), dtype=int32)\n"
     ]
    }
   ],
   "source": [
    "# New 1D Tensor\n",
    "new_tensor = tf.constant(\n",
    "    [10, 20, 30]\n",
    ")\n",
    "print(\"Shape of new tensor (Originally): \", new_tensor.shape)\n",
    "\n",
    "# Expanding the Dimensions of the Tensor\n",
    "print(\"Shape of new tensor (After tf.newaxis): \", new_tensor[:, tf.newaxis])\n",
    "\n",
    "# Expanding accross the last dimension\n",
    "print(\"Shape of new tensor (After expand_dims): \", tf.expand_dims(new_tensor, axis=1))\n",
    "\n",
    "# Expanding accross the first dimension\n",
    "print(\"Shape of new tensor (After expand_dims): \", tf.expand_dims(new_tensor, axis=0))"
   ]
  },
  {
   "cell_type": "markdown",
   "id": "eef67d8a",
   "metadata": {
    "papermill": {
     "duration": 0.018937,
     "end_time": "2024-05-16T15:12:35.212827",
     "exception": false,
     "start_time": "2024-05-16T15:12:35.193890",
     "status": "completed"
    },
    "tags": []
   },
   "source": [
    "**Broadcasting**: Works similar to NumPy Arrays"
   ]
  },
  {
   "cell_type": "code",
   "execution_count": 6,
   "id": "544ef67c",
   "metadata": {
    "execution": {
     "iopub.execute_input": "2024-05-16T15:12:35.301712Z",
     "iopub.status.busy": "2024-05-16T15:12:35.300834Z",
     "iopub.status.idle": "2024-05-16T15:12:35.311554Z",
     "shell.execute_reply": "2024-05-16T15:12:35.310591Z"
    },
    "papermill": {
     "duration": 0.033083,
     "end_time": "2024-05-16T15:12:35.313602",
     "exception": false,
     "start_time": "2024-05-16T15:12:35.280519",
     "status": "completed"
    },
    "tags": []
   },
   "outputs": [
    {
     "data": {
      "text/plain": [
       "<tf.Tensor: shape=(2, 3), dtype=int32, numpy=\n",
       "array([[11, 12, 13],\n",
       "       [14, 15, 16]], dtype=int32)>"
      ]
     },
     "execution_count": 6,
     "metadata": {},
     "output_type": "execute_result"
    }
   ],
   "source": [
    "first_tensor + 10"
   ]
  },
  {
   "cell_type": "markdown",
   "id": "f3789823",
   "metadata": {
    "papermill": {
     "duration": 0.018749,
     "end_time": "2024-05-16T15:12:35.351651",
     "exception": false,
     "start_time": "2024-05-16T15:12:35.332902",
     "status": "completed"
    },
    "tags": []
   },
   "source": [
    "**Operations (Ops)**\n",
    "\n",
    "- On adding first_tensor + 10 the compiler inherently calls the tf.add(first_tensor, 10)\n",
    "- Other supported operations -, *, /, @ (Matrix Multiplication)"
   ]
  },
  {
   "cell_type": "code",
   "execution_count": 7,
   "id": "c7f759e2",
   "metadata": {
    "execution": {
     "iopub.execute_input": "2024-05-16T15:12:35.391837Z",
     "iopub.status.busy": "2024-05-16T15:12:35.391189Z",
     "iopub.status.idle": "2024-05-16T15:12:35.414254Z",
     "shell.execute_reply": "2024-05-16T15:12:35.412987Z"
    },
    "papermill": {
     "duration": 0.045518,
     "end_time": "2024-05-16T15:12:35.416591",
     "exception": false,
     "start_time": "2024-05-16T15:12:35.371073",
     "status": "completed"
    },
    "tags": []
   },
   "outputs": [
    {
     "name": "stdout",
     "output_type": "stream",
     "text": [
      "Addition\n",
      " tf.Tensor(\n",
      "[[12 14 16]\n",
      " [18 20 22]], shape=(2, 3), dtype=int32)\n",
      "\n",
      "Subtraction\n",
      " tf.Tensor(\n",
      "[[-10 -10 -10]\n",
      " [-10 -10 -10]], shape=(2, 3), dtype=int32)\n",
      "\n",
      "Element-wise Multiplication\n",
      " tf.Tensor(\n",
      "[[11 24 39]\n",
      " [56 75 96]], shape=(2, 3), dtype=int32)\n",
      "\n",
      "Matrix Multiplication\n",
      " tf.Tensor(\n",
      "[[ 74  92]\n",
      " [182 227]], shape=(2, 2), dtype=int32)\n",
      "\n",
      "Square\n",
      " tf.Tensor(\n",
      "[[ 1  4  9]\n",
      " [16 25 36]], shape=(2, 3), dtype=int32)\n",
      "\n",
      "Transpose\n",
      " tf.Tensor(\n",
      "[[1 4]\n",
      " [2 5]\n",
      " [3 6]], shape=(3, 2), dtype=int32)\n"
     ]
    }
   ],
   "source": [
    "# Other common ops\n",
    "second_tensor = tf.constant([\n",
    "    [11, 12, 13],\n",
    "    [14, 15, 16]\n",
    "])\n",
    "\n",
    "print(\"Addition\\n\", first_tensor + second_tensor)\n",
    "print(\"\\nSubtraction\\n\", first_tensor - second_tensor)\n",
    "print(\"\\nElement-wise Multiplication\\n\", first_tensor * second_tensor)\n",
    "print(\"\\nMatrix Multiplication\\n\", first_tensor @ tf.transpose(second_tensor))\n",
    "print(\"\\nSquare\\n\", tf.square(first_tensor))\n",
    "print(\"\\nTranspose\\n\", tf.transpose(first_tensor))"
   ]
  },
  {
   "cell_type": "markdown",
   "id": "669dd06d",
   "metadata": {
    "papermill": {
     "duration": 0.019092,
     "end_time": "2024-05-16T15:12:35.455258",
     "exception": false,
     "start_time": "2024-05-16T15:12:35.436166",
     "status": "completed"
    },
    "tags": []
   },
   "source": [
    "## Tensors and NumPy\n",
    "\n",
    "- Arrays created using NumPy accept TensorFlow operations\n",
    "- Similarly Tensors created using TensorFlow accept NumPy operations\n",
    "- NumPy always applies operations using 64bit datatypes while TensorFlow applies all its operations using 32bit datatypes"
   ]
  },
  {
   "cell_type": "code",
   "execution_count": 8,
   "id": "54ddc7ba",
   "metadata": {
    "execution": {
     "iopub.execute_input": "2024-05-16T15:12:35.495567Z",
     "iopub.status.busy": "2024-05-16T15:12:35.495203Z",
     "iopub.status.idle": "2024-05-16T15:12:35.507357Z",
     "shell.execute_reply": "2024-05-16T15:12:35.506092Z"
    },
    "papermill": {
     "duration": 0.03507,
     "end_time": "2024-05-16T15:12:35.509574",
     "exception": false,
     "start_time": "2024-05-16T15:12:35.474504",
     "status": "completed"
    },
    "tags": []
   },
   "outputs": [
    {
     "name": "stdout",
     "output_type": "stream",
     "text": [
      "Squaring using tf.square on array\n",
      " tf.Tensor(\n",
      "[[ 1  4  9]\n",
      " [16 25 36]], shape=(2, 3), dtype=int64)\n",
      "\n",
      "Transposing using tf.transpose on array\n",
      " tf.Tensor(\n",
      "[[1 4]\n",
      " [2 5]\n",
      " [3 6]], shape=(3, 2), dtype=int64)\n",
      "\n",
      "Squaring using np.square on tensor\n",
      " [[ 1  4  9]\n",
      " [16 25 36]]\n",
      "\n",
      "Transposing using np.transpose on tensor\n",
      " [[1 4]\n",
      " [2 5]\n",
      " [3 6]]\n"
     ]
    }
   ],
   "source": [
    "# NumPy array\n",
    "np_arr = np.arange(1, 7).reshape(2, 3)\n",
    "\n",
    "print(\"Squaring using tf.square on array\\n\", tf.square(np_arr))\n",
    "print(\"\\nTransposing using tf.transpose on array\\n\", tf.transpose(np_arr))\n",
    "print(\"\\nSquaring using np.square on tensor\\n\", np.square(first_tensor))\n",
    "print(\"\\nTransposing using np.transpose on tensor\\n\", np.transpose(first_tensor))"
   ]
  },
  {
   "cell_type": "markdown",
   "id": "d3aff526",
   "metadata": {
    "papermill": {
     "duration": 0.019081,
     "end_time": "2024-05-16T15:12:35.548314",
     "exception": false,
     "start_time": "2024-05-16T15:12:35.529233",
     "status": "completed"
    },
    "tags": []
   },
   "source": [
    "## Type Conversions\n",
    "\n",
    "- There is strict set rules defining type conversions of tensors.\n",
    "- This is done to optimise the speed of calculations increase the efficiency as a whole.\n",
    "- Thus different datatypes cannot be operated against each other.\n",
    "- Similar datatypes with different bit representations also cannot be operated against each other.\n",
    "- The `tf.cast()` can be used to make type conversions only when necessary."
   ]
  },
  {
   "cell_type": "code",
   "execution_count": 9,
   "id": "30446735",
   "metadata": {
    "execution": {
     "iopub.execute_input": "2024-05-16T15:12:35.588978Z",
     "iopub.status.busy": "2024-05-16T15:12:35.588594Z",
     "iopub.status.idle": "2024-05-16T15:12:35.597628Z",
     "shell.execute_reply": "2024-05-16T15:12:35.596641Z"
    },
    "papermill": {
     "duration": 0.031558,
     "end_time": "2024-05-16T15:12:35.599675",
     "exception": false,
     "start_time": "2024-05-16T15:12:35.568117",
     "status": "completed"
    },
    "tags": []
   },
   "outputs": [
    {
     "name": "stdout",
     "output_type": "stream",
     "text": [
      "The Invalid Argument Exception was raised\n"
     ]
    }
   ],
   "source": [
    "try:\n",
    "    tf.constant(17) + tf.constant(30.0)\n",
    "except:\n",
    "    print(\"The Invalid Argument Exception was raised\")"
   ]
  },
  {
   "cell_type": "code",
   "execution_count": 10,
   "id": "c108abfa",
   "metadata": {
    "execution": {
     "iopub.execute_input": "2024-05-16T15:12:35.640075Z",
     "iopub.status.busy": "2024-05-16T15:12:35.639394Z",
     "iopub.status.idle": "2024-05-16T15:12:35.645157Z",
     "shell.execute_reply": "2024-05-16T15:12:35.644153Z"
    },
    "papermill": {
     "duration": 0.02822,
     "end_time": "2024-05-16T15:12:35.647405",
     "exception": false,
     "start_time": "2024-05-16T15:12:35.619185",
     "status": "completed"
    },
    "tags": []
   },
   "outputs": [
    {
     "name": "stdout",
     "output_type": "stream",
     "text": [
      "The Invalid Argument Exception was raised\n"
     ]
    }
   ],
   "source": [
    "try:\n",
    "    tf.constant(17) + tf.constant(30, dtype=tf.int64)\n",
    "except:\n",
    "    print(\"The Invalid Argument Exception was raised\")"
   ]
  },
  {
   "cell_type": "code",
   "execution_count": 11,
   "id": "39de2770",
   "metadata": {
    "execution": {
     "iopub.execute_input": "2024-05-16T15:12:35.687997Z",
     "iopub.status.busy": "2024-05-16T15:12:35.687261Z",
     "iopub.status.idle": "2024-05-16T15:12:35.695755Z",
     "shell.execute_reply": "2024-05-16T15:12:35.694639Z"
    },
    "papermill": {
     "duration": 0.031038,
     "end_time": "2024-05-16T15:12:35.697899",
     "exception": false,
     "start_time": "2024-05-16T15:12:35.666861",
     "status": "completed"
    },
    "tags": []
   },
   "outputs": [
    {
     "name": "stdout",
     "output_type": "stream",
     "text": [
      "I guess that works\n"
     ]
    }
   ],
   "source": [
    "try:\n",
    "    tf.constant(17) + tf.cast(tf.constant(30, dtype=tf.int64), dtype=tf.int32)\n",
    "except:\n",
    "    print(\"TensorFlow you must be joking now!!!\")\n",
    "finally:\n",
    "    print(\"I guess that works\")"
   ]
  },
  {
   "cell_type": "markdown",
   "id": "c21113f9",
   "metadata": {
    "papermill": {
     "duration": 0.019314,
     "end_time": "2024-05-16T15:12:35.736887",
     "exception": false,
     "start_time": "2024-05-16T15:12:35.717573",
     "status": "completed"
    },
    "tags": []
   },
   "source": [
    "## Variables\n",
    "\n",
    "- All of the above defined tensors utilise the tf.Tensor object.\n",
    "- They are by default immutable and hence cannot be modified.\n",
    "- The tf.Variable object provides the same features as the tf.Tensor object but allows modification of values.\n",
    "- It requires meeting all compatilibility rules before making changes to the values."
   ]
  },
  {
   "cell_type": "code",
   "execution_count": 12,
   "id": "12fb9150",
   "metadata": {
    "execution": {
     "iopub.execute_input": "2024-05-16T15:12:35.777311Z",
     "iopub.status.busy": "2024-05-16T15:12:35.776946Z",
     "iopub.status.idle": "2024-05-16T15:12:35.788853Z",
     "shell.execute_reply": "2024-05-16T15:12:35.787811Z"
    },
    "papermill": {
     "duration": 0.034674,
     "end_time": "2024-05-16T15:12:35.791074",
     "exception": false,
     "start_time": "2024-05-16T15:12:35.756400",
     "status": "completed"
    },
    "tags": []
   },
   "outputs": [
    {
     "data": {
      "text/plain": [
       "<tf.Variable 'Variable:0' shape=(2, 3) dtype=int32, numpy=\n",
       "array([[1, 2, 3],\n",
       "       [4, 5, 6]], dtype=int32)>"
      ]
     },
     "execution_count": 12,
     "metadata": {},
     "output_type": "execute_result"
    }
   ],
   "source": [
    "first_var = tf.Variable([\n",
    "    [1, 2, 3],\n",
    "    [4, 5, 6]\n",
    "])\n",
    "\n",
    "first_var"
   ]
  },
  {
   "cell_type": "code",
   "execution_count": 13,
   "id": "865a5172",
   "metadata": {
    "execution": {
     "iopub.execute_input": "2024-05-16T15:12:35.832778Z",
     "iopub.status.busy": "2024-05-16T15:12:35.832109Z",
     "iopub.status.idle": "2024-05-16T15:12:35.845034Z",
     "shell.execute_reply": "2024-05-16T15:12:35.843560Z"
    },
    "papermill": {
     "duration": 0.035866,
     "end_time": "2024-05-16T15:12:35.847108",
     "exception": false,
     "start_time": "2024-05-16T15:12:35.811242",
     "status": "completed"
    },
    "tags": []
   },
   "outputs": [
    {
     "name": "stdout",
     "output_type": "stream",
     "text": [
      "Multiplication Update\n",
      " <tf.Variable 'Variable:0' shape=(2, 3) dtype=int32, numpy=\n",
      "array([[10, 20, 30],\n",
      "       [40, 50, 60]], dtype=int32)>\n",
      "\n",
      "Member Update\n",
      " <tf.Variable 'Variable:0' shape=(2, 3) dtype=int32, numpy=\n",
      "array([[10, 17, 30],\n",
      "       [40, 30, 60]], dtype=int32)>\n"
     ]
    }
   ],
   "source": [
    "# Operations on the variable\n",
    "first_var.assign(first_var * 10)\n",
    "print(\"Multiplication Update\\n\", first_var)\n",
    "\n",
    "first_var[:, 1].assign([17, 30])\n",
    "print(\"\\nMember Update\\n\", first_var)"
   ]
  },
  {
   "cell_type": "code",
   "execution_count": 14,
   "id": "2fd5dd47",
   "metadata": {
    "execution": {
     "iopub.execute_input": "2024-05-16T15:12:35.888225Z",
     "iopub.status.busy": "2024-05-16T15:12:35.887366Z",
     "iopub.status.idle": "2024-05-16T15:12:35.893466Z",
     "shell.execute_reply": "2024-05-16T15:12:35.892211Z"
    },
    "papermill": {
     "duration": 0.028556,
     "end_time": "2024-05-16T15:12:35.895415",
     "exception": false,
     "start_time": "2024-05-16T15:12:35.866859",
     "status": "completed"
    },
    "tags": []
   },
   "outputs": [
    {
     "name": "stdout",
     "output_type": "stream",
     "text": [
      "tf.Tensor(\n",
      "[[ 100  289  900]\n",
      " [1600  900 3600]], shape=(2, 3), dtype=int32)\n"
     ]
    }
   ],
   "source": [
    "# If using = tensorflow again creates a new tf.Tensor object which is constant\n",
    "first_var = tf.square(first_var)\n",
    "print(first_var)"
   ]
  },
  {
   "cell_type": "markdown",
   "id": "2ede69aa",
   "metadata": {
    "papermill": {
     "duration": 0.019281,
     "end_time": "2024-05-16T15:12:35.934249",
     "exception": false,
     "start_time": "2024-05-16T15:12:35.914968",
     "status": "completed"
    },
    "tags": []
   },
   "source": [
    "## Strings\n",
    "\n",
    "- When working with Strings in TensorFlow every letter is required to be converted to bytes.\n",
    "- This is done since TensorFlow works only with numerical values."
   ]
  },
  {
   "cell_type": "code",
   "execution_count": 15,
   "id": "7d02db24",
   "metadata": {
    "execution": {
     "iopub.execute_input": "2024-05-16T15:12:35.974444Z",
     "iopub.status.busy": "2024-05-16T15:12:35.974105Z",
     "iopub.status.idle": "2024-05-16T15:12:35.982134Z",
     "shell.execute_reply": "2024-05-16T15:12:35.981134Z"
    },
    "papermill": {
     "duration": 0.030646,
     "end_time": "2024-05-16T15:12:35.984230",
     "exception": false,
     "start_time": "2024-05-16T15:12:35.953584",
     "status": "completed"
    },
    "tags": []
   },
   "outputs": [
    {
     "data": {
      "text/plain": [
       "<tf.Tensor: shape=(), dtype=string, numpy=b'Hello, World'>"
      ]
     },
     "execution_count": 15,
     "metadata": {},
     "output_type": "execute_result"
    }
   ],
   "source": [
    "tf.constant(b\"Hello, World\")"
   ]
  },
  {
   "cell_type": "code",
   "execution_count": 16,
   "id": "04c0a5f2",
   "metadata": {
    "execution": {
     "iopub.execute_input": "2024-05-16T15:12:36.025145Z",
     "iopub.status.busy": "2024-05-16T15:12:36.024361Z",
     "iopub.status.idle": "2024-05-16T15:12:36.031182Z",
     "shell.execute_reply": "2024-05-16T15:12:36.030285Z"
    },
    "papermill": {
     "duration": 0.029355,
     "end_time": "2024-05-16T15:12:36.033172",
     "exception": false,
     "start_time": "2024-05-16T15:12:36.003817",
     "status": "completed"
    },
    "tags": []
   },
   "outputs": [
    {
     "data": {
      "text/plain": [
       "<tf.Tensor: shape=(), dtype=string, numpy=b'Hello, World'>"
      ]
     },
     "execution_count": 16,
     "metadata": {},
     "output_type": "execute_result"
    }
   ],
   "source": [
    "# Auto Binary Conversion\n",
    "tf.constant(\"Hello, World\")"
   ]
  },
  {
   "cell_type": "code",
   "execution_count": 17,
   "id": "1236ee96",
   "metadata": {
    "execution": {
     "iopub.execute_input": "2024-05-16T15:12:36.074599Z",
     "iopub.status.busy": "2024-05-16T15:12:36.074286Z",
     "iopub.status.idle": "2024-05-16T15:12:36.081339Z",
     "shell.execute_reply": "2024-05-16T15:12:36.080244Z"
    },
    "papermill": {
     "duration": 0.030248,
     "end_time": "2024-05-16T15:12:36.083256",
     "exception": false,
     "start_time": "2024-05-16T15:12:36.053008",
     "status": "completed"
    },
    "tags": []
   },
   "outputs": [
    {
     "data": {
      "text/plain": [
       "<tf.Tensor: shape=(), dtype=string, numpy=b'H\\xc3\\xa9ll\\xc7\\x92, W\\xc3\\xb6r\\xc4\\xbed'>"
      ]
     },
     "execution_count": 17,
     "metadata": {},
     "output_type": "execute_result"
    }
   ],
   "source": [
    "# Conversion for special charecters\n",
    "tf.constant(\"Héllǒ, Wörľd\")"
   ]
  },
  {
   "cell_type": "code",
   "execution_count": 18,
   "id": "73521ab3",
   "metadata": {
    "execution": {
     "iopub.execute_input": "2024-05-16T15:12:36.125497Z",
     "iopub.status.busy": "2024-05-16T15:12:36.124429Z",
     "iopub.status.idle": "2024-05-16T15:12:36.132017Z",
     "shell.execute_reply": "2024-05-16T15:12:36.131041Z"
    },
    "papermill": {
     "duration": 0.030708,
     "end_time": "2024-05-16T15:12:36.134080",
     "exception": false,
     "start_time": "2024-05-16T15:12:36.103372",
     "status": "completed"
    },
    "tags": []
   },
   "outputs": [
    {
     "data": {
      "text/plain": [
       "<tf.Tensor: shape=(12,), dtype=int32, numpy=\n",
       "array([ 72, 233, 108, 108, 466,  44,  32,  87, 246, 114, 318, 100],\n",
       "      dtype=int32)>"
      ]
     },
     "execution_count": 18,
     "metadata": {},
     "output_type": "execute_result"
    }
   ],
   "source": [
    "sp_conv = tf.constant([ord(letter) for letter in \"Héllǒ, Wörľd\"])\n",
    "sp_conv"
   ]
  },
  {
   "cell_type": "markdown",
   "id": "fe4e69e3",
   "metadata": {
    "papermill": {
     "duration": 0.019711,
     "end_time": "2024-05-16T15:12:36.174097",
     "exception": false,
     "start_time": "2024-05-16T15:12:36.154386",
     "status": "completed"
    },
    "tags": []
   },
   "source": [
    "## Other Datastructures"
   ]
  },
  {
   "cell_type": "code",
   "execution_count": 19,
   "id": "c12df50e",
   "metadata": {
    "execution": {
     "iopub.execute_input": "2024-05-16T15:12:36.216352Z",
     "iopub.status.busy": "2024-05-16T15:12:36.215632Z",
     "iopub.status.idle": "2024-05-16T15:12:36.222696Z",
     "shell.execute_reply": "2024-05-16T15:12:36.221818Z"
    },
    "papermill": {
     "duration": 0.03058,
     "end_time": "2024-05-16T15:12:36.224724",
     "exception": false,
     "start_time": "2024-05-16T15:12:36.194144",
     "status": "completed"
    },
    "tags": []
   },
   "outputs": [
    {
     "data": {
      "text/plain": [
       "<tf.Tensor: shape=(3,), dtype=string, numpy=\n",
       "array([b'Hello World', b\"There's something new!!!\", b'C\\xc3\\xacao'],\n",
       "      dtype=object)>"
      ]
     },
     "execution_count": 19,
     "metadata": {},
     "output_type": "execute_result"
    }
   ],
   "source": [
    "# List of Strings\n",
    "strings = [\"Hello World\", \"There's something new!!!\", \"Cìao\"]\n",
    "string_const = tf.constant(strings)\n",
    "string_const"
   ]
  },
  {
   "cell_type": "code",
   "execution_count": 20,
   "id": "b80b870a",
   "metadata": {
    "execution": {
     "iopub.execute_input": "2024-05-16T15:12:36.266933Z",
     "iopub.status.busy": "2024-05-16T15:12:36.266544Z",
     "iopub.status.idle": "2024-05-16T15:12:36.275226Z",
     "shell.execute_reply": "2024-05-16T15:12:36.274282Z"
    },
    "papermill": {
     "duration": 0.032295,
     "end_time": "2024-05-16T15:12:36.277306",
     "exception": false,
     "start_time": "2024-05-16T15:12:36.245011",
     "status": "completed"
    },
    "tags": []
   },
   "outputs": [
    {
     "data": {
      "text/plain": [
       "<tf.Tensor: shape=(3,), dtype=int32, numpy=array([11, 24,  4], dtype=int32)>"
      ]
     },
     "execution_count": 20,
     "metadata": {},
     "output_type": "execute_result"
    }
   ],
   "source": [
    "tf.strings.length(string_const, unit=\"UTF8_CHAR\")"
   ]
  },
  {
   "cell_type": "markdown",
   "id": "ab893726",
   "metadata": {
    "papermill": {
     "duration": 0.020989,
     "end_time": "2024-05-16T15:12:36.319130",
     "exception": false,
     "start_time": "2024-05-16T15:12:36.298141",
     "status": "completed"
    },
    "tags": []
   },
   "source": [
    "**Ragged Tensors**"
   ]
  },
  {
   "cell_type": "code",
   "execution_count": 21,
   "id": "42facce3",
   "metadata": {
    "execution": {
     "iopub.execute_input": "2024-05-16T15:12:36.362361Z",
     "iopub.status.busy": "2024-05-16T15:12:36.361485Z",
     "iopub.status.idle": "2024-05-16T15:12:36.375092Z",
     "shell.execute_reply": "2024-05-16T15:12:36.374153Z"
    },
    "papermill": {
     "duration": 0.037208,
     "end_time": "2024-05-16T15:12:36.377278",
     "exception": false,
     "start_time": "2024-05-16T15:12:36.340070",
     "status": "completed"
    },
    "tags": []
   },
   "outputs": [
    {
     "data": {
      "text/plain": [
       "<tf.RaggedTensor [[72, 101, 108, 108, 111, 32, 87, 111, 114, 108, 100],\n",
       " [84, 104, 101, 114, 101, 39, 115, 32, 115, 111, 109, 101, 116, 104, 105,\n",
       "  110, 103, 32, 110, 101, 119, 33, 33, 33]                               ,\n",
       " [67, 236, 97, 111]]>"
      ]
     },
     "execution_count": 21,
     "metadata": {},
     "output_type": "execute_result"
    }
   ],
   "source": [
    "rag_ten = tf.strings.unicode_decode(string_const, \"UTF8\")\n",
    "rag_ten"
   ]
  },
  {
   "cell_type": "code",
   "execution_count": 22,
   "id": "0e80a468",
   "metadata": {
    "execution": {
     "iopub.execute_input": "2024-05-16T15:12:36.419643Z",
     "iopub.status.busy": "2024-05-16T15:12:36.419304Z",
     "iopub.status.idle": "2024-05-16T15:12:36.434919Z",
     "shell.execute_reply": "2024-05-16T15:12:36.433958Z"
    },
    "papermill": {
     "duration": 0.039272,
     "end_time": "2024-05-16T15:12:36.437014",
     "exception": false,
     "start_time": "2024-05-16T15:12:36.397742",
     "status": "completed"
    },
    "tags": []
   },
   "outputs": [
    {
     "data": {
      "text/plain": [
       "<tf.Tensor: shape=(11,), dtype=int32, numpy=array([ 72, 101, 108, 108, 111,  32,  87, 111, 114, 108, 100], dtype=int32)>"
      ]
     },
     "execution_count": 22,
     "metadata": {},
     "output_type": "execute_result"
    }
   ],
   "source": [
    "rag_ten[0]"
   ]
  },
  {
   "cell_type": "code",
   "execution_count": 23,
   "id": "07c81ce8",
   "metadata": {
    "execution": {
     "iopub.execute_input": "2024-05-16T15:12:36.480224Z",
     "iopub.status.busy": "2024-05-16T15:12:36.479397Z",
     "iopub.status.idle": "2024-05-16T15:12:36.508298Z",
     "shell.execute_reply": "2024-05-16T15:12:36.507000Z"
    },
    "papermill": {
     "duration": 0.052841,
     "end_time": "2024-05-16T15:12:36.510592",
     "exception": false,
     "start_time": "2024-05-16T15:12:36.457751",
     "status": "completed"
    },
    "tags": []
   },
   "outputs": [
    {
     "name": "stdout",
     "output_type": "stream",
     "text": [
      "Along Row\n",
      "\n",
      "<tf.RaggedTensor [[72, 101, 108, 108, 111, 32, 87, 111, 114, 108, 100],\n",
      " [84, 104, 101, 114, 101, 39, 115, 32, 115, 111, 109, 101, 116, 104, 105,\n",
      "  110, 103, 32, 110, 101, 119, 33, 33, 33]                               ,\n",
      " [67, 236, 97, 111], [1], [1, 2], [1, 2, 3]]>\n",
      "\n",
      "Along Column\n",
      "\n",
      "<tf.RaggedTensor [[72, 101, 108, 108, 111, 32, 87, 111, 114, 108, 100, 1],\n",
      " [84, 104, 101, 114, 101, 39, 115, 32, 115, 111, 109, 101, 116, 104, 105,\n",
      "  110, 103, 32, 110, 101, 119, 33, 33, 33, 1, 2]                         ,\n",
      " [67, 236, 97, 111, 1, 2, 3]]>\n"
     ]
    }
   ],
   "source": [
    "# Creating and Concatenating a Ragged Tensor\n",
    "new_ten = tf.ragged.constant([\n",
    "    [1], \n",
    "    [1, 2], \n",
    "    [1, 2, 3]\n",
    "])\n",
    "\n",
    "along_row = tf.concat([rag_ten, new_ten], axis=0)\n",
    "along_col = tf.concat([rag_ten, new_ten], axis=1)\n",
    "\n",
    "print(\"Along Row\\n\")\n",
    "print(along_row)\n",
    "print(\"\\nAlong Column\\n\")\n",
    "print(along_col)"
   ]
  },
  {
   "cell_type": "code",
   "execution_count": 24,
   "id": "73d7183d",
   "metadata": {
    "execution": {
     "iopub.execute_input": "2024-05-16T15:12:36.555381Z",
     "iopub.status.busy": "2024-05-16T15:12:36.554992Z",
     "iopub.status.idle": "2024-05-16T15:12:36.567623Z",
     "shell.execute_reply": "2024-05-16T15:12:36.566267Z"
    },
    "papermill": {
     "duration": 0.037143,
     "end_time": "2024-05-16T15:12:36.569703",
     "exception": false,
     "start_time": "2024-05-16T15:12:36.532560",
     "status": "completed"
    },
    "tags": []
   },
   "outputs": [
    {
     "name": "stdout",
     "output_type": "stream",
     "text": [
      "Along Row\n",
      "\n",
      "tf.Tensor(\n",
      "[[ 72 101 108 108 111  32  87 111 114 108 100   0   0   0   0   0   0   0\n",
      "    0   0   0   0   0   0]\n",
      " [ 84 104 101 114 101  39 115  32 115 111 109 101 116 104 105 110 103  32\n",
      "  110 101 119  33  33  33]\n",
      " [ 67 236  97 111   0   0   0   0   0   0   0   0   0   0   0   0   0   0\n",
      "    0   0   0   0   0   0]\n",
      " [  1   0   0   0   0   0   0   0   0   0   0   0   0   0   0   0   0   0\n",
      "    0   0   0   0   0   0]\n",
      " [  1   2   0   0   0   0   0   0   0   0   0   0   0   0   0   0   0   0\n",
      "    0   0   0   0   0   0]\n",
      " [  1   2   3   0   0   0   0   0   0   0   0   0   0   0   0   0   0   0\n",
      "    0   0   0   0   0   0]], shape=(6, 24), dtype=int32)\n",
      "\n",
      "Along Column\n",
      "\n",
      "tf.Tensor(\n",
      "[[ 72 101 108 108 111  32  87 111 114 108 100   1   0   0   0   0   0   0\n",
      "    0   0   0   0   0   0   0   0]\n",
      " [ 84 104 101 114 101  39 115  32 115 111 109 101 116 104 105 110 103  32\n",
      "  110 101 119  33  33  33   1   2]\n",
      " [ 67 236  97 111   1   2   3   0   0   0   0   0   0   0   0   0   0   0\n",
      "    0   0   0   0   0   0   0   0]], shape=(3, 26), dtype=int32)\n"
     ]
    }
   ],
   "source": [
    "# Converting Ragged Tensors to TensorFlow Tensors\n",
    "along_row = along_row.to_tensor()\n",
    "along_col = along_col.to_tensor()\n",
    "\n",
    "print(\"Along Row\\n\")\n",
    "print(along_row)\n",
    "print(\"\\nAlong Column\\n\")\n",
    "print(along_col)"
   ]
  },
  {
   "cell_type": "markdown",
   "id": "b25d0944",
   "metadata": {
    "papermill": {
     "duration": 0.020504,
     "end_time": "2024-05-16T15:12:36.611663",
     "exception": false,
     "start_time": "2024-05-16T15:12:36.591159",
     "status": "completed"
    },
    "tags": []
   },
   "source": [
    "**Sparse Tensors**"
   ]
  },
  {
   "cell_type": "code",
   "execution_count": 25,
   "id": "3f37fec8",
   "metadata": {
    "execution": {
     "iopub.execute_input": "2024-05-16T15:12:36.655115Z",
     "iopub.status.busy": "2024-05-16T15:12:36.654726Z",
     "iopub.status.idle": "2024-05-16T15:12:36.661508Z",
     "shell.execute_reply": "2024-05-16T15:12:36.660443Z"
    },
    "papermill": {
     "duration": 0.03158,
     "end_time": "2024-05-16T15:12:36.663983",
     "exception": false,
     "start_time": "2024-05-16T15:12:36.632403",
     "status": "completed"
    },
    "tags": []
   },
   "outputs": [
    {
     "name": "stdout",
     "output_type": "stream",
     "text": [
      "SparseTensor(indices=tf.Tensor(\n",
      "[[1 2 3]\n",
      " [1 2 0]\n",
      " [1 0 0]], shape=(3, 3), dtype=int64), values=tf.Tensor([10 20 30], shape=(3,), dtype=int32), dense_shape=tf.Tensor([2 3 4], shape=(3,), dtype=int64))\n"
     ]
    }
   ],
   "source": [
    "sparse_ten = tf.SparseTensor(\n",
    "    indices=[[1, 2, 3], [1, 2, 0], [1, 0, 0]],\n",
    "    values=[10, 20, 30],\n",
    "    dense_shape=[2, 3, 4],\n",
    ")\n",
    "\n",
    "print(sparse_ten)"
   ]
  },
  {
   "cell_type": "markdown",
   "id": "ca224179",
   "metadata": {
    "papermill": {
     "duration": 0.02042,
     "end_time": "2024-05-16T15:12:36.705044",
     "exception": false,
     "start_time": "2024-05-16T15:12:36.684624",
     "status": "completed"
    },
    "tags": []
   },
   "source": [
    "**Working on Custom Loss Functions**\n",
    "--"
   ]
  },
  {
   "cell_type": "markdown",
   "id": "0b50d27d",
   "metadata": {
    "papermill": {
     "duration": 0.020361,
     "end_time": "2024-05-16T15:12:36.746067",
     "exception": false,
     "start_time": "2024-05-16T15:12:36.725706",
     "status": "completed"
    },
    "tags": []
   },
   "source": [
    "**Custom Huber Loss Function**"
   ]
  },
  {
   "cell_type": "code",
   "execution_count": 26,
   "id": "c6d73919",
   "metadata": {
    "execution": {
     "iopub.execute_input": "2024-05-16T15:12:36.788821Z",
     "iopub.status.busy": "2024-05-16T15:12:36.788437Z",
     "iopub.status.idle": "2024-05-16T15:12:36.794602Z",
     "shell.execute_reply": "2024-05-16T15:12:36.793594Z"
    },
    "papermill": {
     "duration": 0.030003,
     "end_time": "2024-05-16T15:12:36.796682",
     "exception": false,
     "start_time": "2024-05-16T15:12:36.766679",
     "status": "completed"
    },
    "tags": []
   },
   "outputs": [],
   "source": [
    "def huber_fn(y_true, y_pred):\n",
    "    \"\"\"\n",
    "    Args:\n",
    "    - y_true: Target values of the Training Set\n",
    "    - y_pred: Predicted values on the Training Set\n",
    "    \n",
    "    Returns:\n",
    "    - loss: Huber Loss for each batch of training\n",
    "    \"\"\"\n",
    "    \n",
    "    error = y_true - y_pred\n",
    "    is_small_error = tf.abs(error) < 1\n",
    "    squared_loss = tf.square(error) / 2\n",
    "    linear_loss = tf.abs(error) - 0.5\n",
    "    \n",
    "    # Returns an array of shape [no_of_true values for condition, no_of_rows]\n",
    "    return tf.where(is_small_error, squared_loss, linear_loss)"
   ]
  },
  {
   "cell_type": "markdown",
   "id": "942d41c7",
   "metadata": {
    "papermill": {
     "duration": 0.020919,
     "end_time": "2024-05-16T15:12:36.839074",
     "exception": false,
     "start_time": "2024-05-16T15:12:36.818155",
     "status": "completed"
    },
    "tags": []
   },
   "source": [
    "**Viewing the Huber Loss**"
   ]
  },
  {
   "cell_type": "code",
   "execution_count": 27,
   "id": "b7aabf83",
   "metadata": {
    "execution": {
     "iopub.execute_input": "2024-05-16T15:12:36.882219Z",
     "iopub.status.busy": "2024-05-16T15:12:36.881855Z",
     "iopub.status.idle": "2024-05-16T15:12:37.301910Z",
     "shell.execute_reply": "2024-05-16T15:12:37.300858Z"
    },
    "papermill": {
     "duration": 0.444283,
     "end_time": "2024-05-16T15:12:37.304194",
     "exception": false,
     "start_time": "2024-05-16T15:12:36.859911",
     "status": "completed"
    },
    "tags": []
   },
   "outputs": [
    {
     "data": {
      "image/png": "[encoded data removed]",
      "text/plain": [
       "<Figure size 800x350 with 1 Axes>"
      ]
     },
     "metadata": {},
     "output_type": "display_data"
    }
   ],
   "source": [
    "# Simulated Predictions\n",
    "z = np.linspace(-4, 4, 200)\n",
    "z_center = np.linspace(-1, 1, 200)\n",
    "\n",
    "# Plot Layout\n",
    "plt.figure(figsize=(8, 3.5))\n",
    "\n",
    "# Plotting the Loss\n",
    "plt.plot(z, huber_fn(0, z), \"b-\", linewidth=2, label=\"huber($z$)\")\n",
    "plt.plot(z, z ** 2 / 2, \"r:\", linewidth=1)\n",
    "plt.plot(z_center, z_center ** 2 / 2, \"r\", linewidth=2)\n",
    "\n",
    "# Intercepts\n",
    "plt.plot([-1, -1], [0, huber_fn(0., -1.)], \"k--\")\n",
    "plt.plot([1, 1], [0, huber_fn(0., 1.)], \"k--\")\n",
    "\n",
    "# Annotation\n",
    "plt.gca().axhline(y=0, color='k')\n",
    "plt.gca().axvline(x=0, color='k')\n",
    "plt.text(2.1, 3.5, r\"$\\frac{1}{2}z^2$\", color=\"r\", fontsize=15)\n",
    "plt.text(3.0, 2.2, r\"$|z| - \\frac{1}{2}$\", color=\"b\", fontsize=15)\n",
    "plt.axis([-4, 4, 0, 4])\n",
    "plt.grid(True)\n",
    "plt.xlabel(\"$z$\")\n",
    "plt.legend(fontsize=14)\n",
    "plt.title(\"Huber loss\", fontsize=14)\n",
    "plt.show()"
   ]
  },
  {
   "cell_type": "markdown",
   "id": "1e84192d",
   "metadata": {
    "papermill": {
     "duration": 0.021312,
     "end_time": "2024-05-16T15:12:37.348237",
     "exception": false,
     "start_time": "2024-05-16T15:12:37.326925",
     "status": "completed"
    },
    "tags": []
   },
   "source": [
    "**Creating a Model to work using the Custom Loss Function**"
   ]
  },
  {
   "cell_type": "code",
   "execution_count": 28,
   "id": "6763a273",
   "metadata": {
    "execution": {
     "iopub.execute_input": "2024-05-16T15:12:37.392703Z",
     "iopub.status.busy": "2024-05-16T15:12:37.392353Z",
     "iopub.status.idle": "2024-05-16T15:12:57.689652Z",
     "shell.execute_reply": "2024-05-16T15:12:57.688613Z"
    },
    "papermill": {
     "duration": 20.322225,
     "end_time": "2024-05-16T15:12:57.692129",
     "exception": false,
     "start_time": "2024-05-16T15:12:37.369904",
     "status": "completed"
    },
    "tags": []
   },
   "outputs": [
    {
     "name": "stderr",
     "output_type": "stream",
     "text": [
      "/opt/conda/lib/python3.10/site-packages/keras/src/layers/core/dense.py:86: UserWarning: Do not pass an `input_shape`/`input_dim` argument to a layer. When using Sequential models, prefer using an `Input(shape)` object as the first layer in the model instead.\n",
      "  super().__init__(activity_regularizer=activity_regularizer, **kwargs)\n"
     ]
    },
    {
     "name": "stdout",
     "output_type": "stream",
     "text": [
      "Epoch 1/20\n",
      "\u001b[1m363/363\u001b[0m \u001b[32m━━━━━━━━━━━━━━━━━━━━\u001b[0m\u001b[37m\u001b[0m \u001b[1m2s\u001b[0m 2ms/step - loss: 0.5781 - mae: 0.9476 - val_loss: 0.2926 - val_mae: 0.6064\n",
      "Epoch 2/20\n",
      "\u001b[1m363/363\u001b[0m \u001b[32m━━━━━━━━━━━━━━━━━━━━\u001b[0m\u001b[37m\u001b[0m \u001b[1m1s\u001b[0m 2ms/step - loss: 0.2699 - mae: 0.5721 - val_loss: 0.2348 - val_mae: 0.5337\n",
      "Epoch 3/20\n",
      "\u001b[1m363/363\u001b[0m \u001b[32m━━━━━━━━━━━━━━━━━━━━\u001b[0m\u001b[37m\u001b[0m \u001b[1m1s\u001b[0m 2ms/step - loss: 0.2221 - mae: 0.5130 - val_loss: 0.2062 - val_mae: 0.4969\n",
      "Epoch 4/20\n",
      "\u001b[1m363/363\u001b[0m \u001b[32m━━━━━━━━━━━━━━━━━━━━\u001b[0m\u001b[37m\u001b[0m \u001b[1m1s\u001b[0m 1ms/step - loss: 0.1985 - mae: 0.4766 - val_loss: 0.1912 - val_mae: 0.4739\n",
      "Epoch 5/20\n",
      "\u001b[1m363/363\u001b[0m \u001b[32m━━━━━━━━━━━━━━━━━━━━\u001b[0m\u001b[37m\u001b[0m \u001b[1m1s\u001b[0m 1ms/step - loss: 0.1887 - mae: 0.4644 - val_loss: 0.1841 - val_mae: 0.4596\n",
      "Epoch 6/20\n",
      "\u001b[1m363/363\u001b[0m \u001b[32m━━━━━━━━━━━━━━━━━━━━\u001b[0m\u001b[37m\u001b[0m \u001b[1m1s\u001b[0m 2ms/step - loss: 0.1856 - mae: 0.4578 - val_loss: 0.1789 - val_mae: 0.4557\n",
      "Epoch 7/20\n",
      "\u001b[1m363/363\u001b[0m \u001b[32m━━━━━━━━━━━━━━━━━━━━\u001b[0m\u001b[37m\u001b[0m \u001b[1m1s\u001b[0m 2ms/step - loss: 0.1804 - mae: 0.4543 - val_loss: 0.1765 - val_mae: 0.4534\n",
      "Epoch 8/20\n",
      "\u001b[1m363/363\u001b[0m \u001b[32m━━━━━━━━━━━━━━━━━━━━\u001b[0m\u001b[37m\u001b[0m \u001b[1m1s\u001b[0m 1ms/step - loss: 0.1770 - mae: 0.4498 - val_loss: 0.1772 - val_mae: 0.4559\n",
      "Epoch 9/20\n",
      "\u001b[1m363/363\u001b[0m \u001b[32m━━━━━━━━━━━━━━━━━━━━\u001b[0m\u001b[37m\u001b[0m \u001b[1m1s\u001b[0m 1ms/step - loss: 0.1743 - mae: 0.4462 - val_loss: 0.1742 - val_mae: 0.4502\n",
      "Epoch 10/20\n",
      "\u001b[1m363/363\u001b[0m \u001b[32m━━━━━━━━━━━━━━━━━━━━\u001b[0m\u001b[37m\u001b[0m \u001b[1m1s\u001b[0m 2ms/step - loss: 0.1644 - mae: 0.4340 - val_loss: 0.1729 - val_mae: 0.4483\n",
      "Epoch 11/20\n",
      "\u001b[1m363/363\u001b[0m \u001b[32m━━━━━━━━━━━━━━━━━━━━\u001b[0m\u001b[37m\u001b[0m \u001b[1m1s\u001b[0m 2ms/step - loss: 0.1697 - mae: 0.4377 - val_loss: 0.1700 - val_mae: 0.4449\n",
      "Epoch 12/20\n",
      "\u001b[1m363/363\u001b[0m \u001b[32m━━━━━━━━━━━━━━━━━━━━\u001b[0m\u001b[37m\u001b[0m \u001b[1m1s\u001b[0m 2ms/step - loss: 0.1650 - mae: 0.4342 - val_loss: 0.1694 - val_mae: 0.4436\n",
      "Epoch 13/20\n",
      "\u001b[1m363/363\u001b[0m \u001b[32m━━━━━━━━━━━━━━━━━━━━\u001b[0m\u001b[37m\u001b[0m \u001b[1m1s\u001b[0m 2ms/step - loss: 0.1619 - mae: 0.4282 - val_loss: 0.1719 - val_mae: 0.4509\n",
      "Epoch 14/20\n",
      "\u001b[1m363/363\u001b[0m \u001b[32m━━━━━━━━━━━━━━━━━━━━\u001b[0m\u001b[37m\u001b[0m \u001b[1m1s\u001b[0m 2ms/step - loss: 0.1638 - mae: 0.4305 - val_loss: 0.1684 - val_mae: 0.4449\n",
      "Epoch 15/20\n",
      "\u001b[1m363/363\u001b[0m \u001b[32m━━━━━━━━━━━━━━━━━━━━\u001b[0m\u001b[37m\u001b[0m \u001b[1m1s\u001b[0m 2ms/step - loss: 0.1583 - mae: 0.4222 - val_loss: 0.1686 - val_mae: 0.4460\n",
      "Epoch 16/20\n",
      "\u001b[1m363/363\u001b[0m \u001b[32m━━━━━━━━━━━━━━━━━━━━\u001b[0m\u001b[37m\u001b[0m \u001b[1m1s\u001b[0m 2ms/step - loss: 0.1647 - mae: 0.4307 - val_loss: 0.1661 - val_mae: 0.4409\n",
      "Epoch 17/20\n",
      "\u001b[1m363/363\u001b[0m \u001b[32m━━━━━━━━━━━━━━━━━━━━\u001b[0m\u001b[37m\u001b[0m \u001b[1m1s\u001b[0m 2ms/step - loss: 0.1643 - mae: 0.4284 - val_loss: 0.1648 - val_mae: 0.4360\n",
      "Epoch 18/20\n",
      "\u001b[1m363/363\u001b[0m \u001b[32m━━━━━━━━━━━━━━━━━━━━\u001b[0m\u001b[37m\u001b[0m \u001b[1m1s\u001b[0m 1ms/step - loss: 0.1551 - mae: 0.4181 - val_loss: 0.1704 - val_mae: 0.4487\n",
      "Epoch 19/20\n",
      "\u001b[1m363/363\u001b[0m \u001b[32m━━━━━━━━━━━━━━━━━━━━\u001b[0m\u001b[37m\u001b[0m \u001b[1m1s\u001b[0m 1ms/step - loss: 0.1593 - mae: 0.4230 - val_loss: 0.1678 - val_mae: 0.4468\n",
      "Epoch 20/20\n",
      "\u001b[1m363/363\u001b[0m \u001b[32m━━━━━━━━━━━━━━━━━━━━\u001b[0m\u001b[37m\u001b[0m \u001b[1m1s\u001b[0m 2ms/step - loss: 0.1540 - mae: 0.4145 - val_loss: 0.1664 - val_mae: 0.4426\n"
     ]
    }
   ],
   "source": [
    "from sklearn.datasets import fetch_california_housing\n",
    "from sklearn.preprocessing import StandardScaler\n",
    "from sklearn.model_selection import train_test_split\n",
    "\n",
    "# Loading the Dataset\n",
    "housing_data = fetch_california_housing()\n",
    "X_train, X_test, y_train, y_test = train_test_split(housing_data.data, housing_data.target.reshape(-1, 1), random_state=17)\n",
    "X_train, X_valid, y_train, y_valid = train_test_split(X_train, y_train, random_state=17)\n",
    "\n",
    "# Scaling the Features\n",
    "std_scaler = StandardScaler()\n",
    "X_train = std_scaler.fit_transform(X_train)\n",
    "X_valid = std_scaler.fit_transform(X_valid)\n",
    "X_test = std_scaler.fit_transform(X_test)\n",
    "\n",
    "# Building the Model\n",
    "model = tf.keras.models.Sequential([\n",
    "    tf.keras.layers.Dense(30, activation=\"relu\", kernel_initializer=\"he_normal\", input_shape=X_train.shape[1:]),\n",
    "    tf.keras.layers.Dense(1, activation=\"linear\")\n",
    "])\n",
    "\n",
    "# Compiling the model\n",
    "model.compile(\n",
    "    loss=huber_fn,\n",
    "    optimizer=\"adam\",\n",
    "    metrics=[\"mae\"]\n",
    ")\n",
    "\n",
    "# Training the Model\n",
    "custom_loss_history = model.fit(\n",
    "    X_train, y_train, validation_data=(X_valid, y_valid), epochs=20\n",
    ")"
   ]
  },
  {
   "cell_type": "markdown",
   "id": "4fe362c6",
   "metadata": {
    "papermill": {
     "duration": 0.036279,
     "end_time": "2024-05-16T15:12:57.764757",
     "exception": false,
     "start_time": "2024-05-16T15:12:57.728478",
     "status": "completed"
    },
    "tags": []
   },
   "source": [
    "**Saving models with Custom Objects**\n",
    "--"
   ]
  },
  {
   "cell_type": "code",
   "execution_count": 29,
   "id": "7f938791",
   "metadata": {
    "execution": {
     "iopub.execute_input": "2024-05-16T15:12:57.838222Z",
     "iopub.status.busy": "2024-05-16T15:12:57.837270Z",
     "iopub.status.idle": "2024-05-16T15:12:57.871267Z",
     "shell.execute_reply": "2024-05-16T15:12:57.870315Z"
    },
    "papermill": {
     "duration": 0.073131,
     "end_time": "2024-05-16T15:12:57.873702",
     "exception": false,
     "start_time": "2024-05-16T15:12:57.800571",
     "status": "completed"
    },
    "tags": []
   },
   "outputs": [],
   "source": [
    "model.save(\"my_custom_huber_loss_model.keras\")"
   ]
  },
  {
   "cell_type": "code",
   "execution_count": 30,
   "id": "a16c4f37",
   "metadata": {
    "execution": {
     "iopub.execute_input": "2024-05-16T15:12:57.947565Z",
     "iopub.status.busy": "2024-05-16T15:12:57.946649Z",
     "iopub.status.idle": "2024-05-16T15:12:58.007369Z",
     "shell.execute_reply": "2024-05-16T15:12:58.006499Z"
    },
    "papermill": {
     "duration": 0.099911,
     "end_time": "2024-05-16T15:12:58.009905",
     "exception": false,
     "start_time": "2024-05-16T15:12:57.909994",
     "status": "completed"
    },
    "tags": []
   },
   "outputs": [],
   "source": [
    "# Loading a Saved Model\n",
    "reloaded_model = tf.keras.models.load_model(\n",
    "    \"my_custom_huber_loss_model.keras\",\n",
    "    custom_objects={\"huber_fn\": huber_fn}\n",
    ")"
   ]
  },
  {
   "cell_type": "code",
   "execution_count": 31,
   "id": "44466169",
   "metadata": {
    "execution": {
     "iopub.execute_input": "2024-05-16T15:12:58.083083Z",
     "iopub.status.busy": "2024-05-16T15:12:58.082694Z",
     "iopub.status.idle": "2024-05-16T15:13:10.435676Z",
     "shell.execute_reply": "2024-05-16T15:13:10.434647Z"
    },
    "papermill": {
     "duration": 12.391915,
     "end_time": "2024-05-16T15:13:10.437862",
     "exception": false,
     "start_time": "2024-05-16T15:12:58.045947",
     "status": "completed"
    },
    "tags": []
   },
   "outputs": [
    {
     "name": "stdout",
     "output_type": "stream",
     "text": [
      "Epoch 1/20\n",
      "\u001b[1m363/363\u001b[0m \u001b[32m━━━━━━━━━━━━━━━━━━━━\u001b[0m\u001b[37m\u001b[0m \u001b[1m1s\u001b[0m 2ms/step - loss: 0.1596 - mae: 0.4225 - val_loss: 0.1629 - val_mae: 0.4369\n",
      "Epoch 2/20\n",
      "\u001b[1m363/363\u001b[0m \u001b[32m━━━━━━━━━━━━━━━━━━━━\u001b[0m\u001b[37m\u001b[0m \u001b[1m1s\u001b[0m 2ms/step - loss: 0.1519 - mae: 0.4108 - val_loss: 0.1591 - val_mae: 0.4278\n",
      "Epoch 3/20\n",
      "\u001b[1m363/363\u001b[0m \u001b[32m━━━━━━━━━━━━━━━━━━━━\u001b[0m\u001b[37m\u001b[0m \u001b[1m1s\u001b[0m 2ms/step - loss: 0.1573 - mae: 0.4179 - val_loss: 0.1635 - val_mae: 0.4415\n",
      "Epoch 4/20\n",
      "\u001b[1m363/363\u001b[0m \u001b[32m━━━━━━━━━━━━━━━━━━━━\u001b[0m\u001b[37m\u001b[0m \u001b[1m1s\u001b[0m 2ms/step - loss: 0.1514 - mae: 0.4090 - val_loss: 0.1557 - val_mae: 0.4198\n",
      "Epoch 5/20\n",
      "\u001b[1m363/363\u001b[0m \u001b[32m━━━━━━━━━━━━━━━━━━━━\u001b[0m\u001b[37m\u001b[0m \u001b[1m1s\u001b[0m 2ms/step - loss: 0.1539 - mae: 0.4123 - val_loss: 0.1595 - val_mae: 0.4306\n",
      "Epoch 6/20\n",
      "\u001b[1m363/363\u001b[0m \u001b[32m━━━━━━━━━━━━━━━━━━━━\u001b[0m\u001b[37m\u001b[0m \u001b[1m1s\u001b[0m 2ms/step - loss: 0.1522 - mae: 0.4104 - val_loss: 0.1603 - val_mae: 0.4335\n",
      "Epoch 7/20\n",
      "\u001b[1m363/363\u001b[0m \u001b[32m━━━━━━━━━━━━━━━━━━━━\u001b[0m\u001b[37m\u001b[0m \u001b[1m1s\u001b[0m 2ms/step - loss: 0.1533 - mae: 0.4110 - val_loss: 0.1586 - val_mae: 0.4312\n",
      "Epoch 8/20\n",
      "\u001b[1m363/363\u001b[0m \u001b[32m━━━━━━━━━━━━━━━━━━━━\u001b[0m\u001b[37m\u001b[0m \u001b[1m1s\u001b[0m 1ms/step - loss: 0.1509 - mae: 0.4084 - val_loss: 0.1592 - val_mae: 0.4314\n",
      "Epoch 9/20\n",
      "\u001b[1m363/363\u001b[0m \u001b[32m━━━━━━━━━━━━━━━━━━━━\u001b[0m\u001b[37m\u001b[0m \u001b[1m1s\u001b[0m 2ms/step - loss: 0.1477 - mae: 0.4032 - val_loss: 0.1600 - val_mae: 0.4323\n",
      "Epoch 10/20\n",
      "\u001b[1m363/363\u001b[0m \u001b[32m━━━━━━━━━━━━━━━━━━━━\u001b[0m\u001b[37m\u001b[0m \u001b[1m1s\u001b[0m 1ms/step - loss: 0.1453 - mae: 0.4020 - val_loss: 0.1577 - val_mae: 0.4261\n",
      "Epoch 11/20\n",
      "\u001b[1m363/363\u001b[0m \u001b[32m━━━━━━━━━━━━━━━━━━━━\u001b[0m\u001b[37m\u001b[0m \u001b[1m1s\u001b[0m 1ms/step - loss: 0.1493 - mae: 0.4055 - val_loss: 0.1590 - val_mae: 0.4279\n",
      "Epoch 12/20\n",
      "\u001b[1m363/363\u001b[0m \u001b[32m━━━━━━━━━━━━━━━━━━━━\u001b[0m\u001b[37m\u001b[0m \u001b[1m1s\u001b[0m 2ms/step - loss: 0.1495 - mae: 0.4054 - val_loss: 0.1545 - val_mae: 0.4214\n",
      "Epoch 13/20\n",
      "\u001b[1m363/363\u001b[0m \u001b[32m━━━━━━━━━━━━━━━━━━━━\u001b[0m\u001b[37m\u001b[0m \u001b[1m1s\u001b[0m 2ms/step - loss: 0.1502 - mae: 0.4039 - val_loss: 0.1616 - val_mae: 0.4384\n",
      "Epoch 14/20\n",
      "\u001b[1m363/363\u001b[0m \u001b[32m━━━━━━━━━━━━━━━━━━━━\u001b[0m\u001b[37m\u001b[0m \u001b[1m1s\u001b[0m 2ms/step - loss: 0.1493 - mae: 0.4051 - val_loss: 0.1596 - val_mae: 0.4344\n",
      "Epoch 15/20\n",
      "\u001b[1m363/363\u001b[0m \u001b[32m━━━━━━━━━━━━━━━━━━━━\u001b[0m\u001b[37m\u001b[0m \u001b[1m1s\u001b[0m 2ms/step - loss: 0.1495 - mae: 0.4062 - val_loss: 0.1583 - val_mae: 0.4314\n",
      "Epoch 16/20\n",
      "\u001b[1m363/363\u001b[0m \u001b[32m━━━━━━━━━━━━━━━━━━━━\u001b[0m\u001b[37m\u001b[0m \u001b[1m1s\u001b[0m 2ms/step - loss: 0.1513 - mae: 0.4075 - val_loss: 0.1618 - val_mae: 0.4371\n",
      "Epoch 17/20\n",
      "\u001b[1m363/363\u001b[0m \u001b[32m━━━━━━━━━━━━━━━━━━━━\u001b[0m\u001b[37m\u001b[0m \u001b[1m1s\u001b[0m 2ms/step - loss: 0.1506 - mae: 0.4051 - val_loss: 0.1597 - val_mae: 0.4336\n",
      "Epoch 18/20\n",
      "\u001b[1m363/363\u001b[0m \u001b[32m━━━━━━━━━━━━━━━━━━━━\u001b[0m\u001b[37m\u001b[0m \u001b[1m1s\u001b[0m 1ms/step - loss: 0.1411 - mae: 0.3952 - val_loss: 0.1536 - val_mae: 0.4209\n",
      "Epoch 19/20\n",
      "\u001b[1m363/363\u001b[0m \u001b[32m━━━━━━━━━━━━━━━━━━━━\u001b[0m\u001b[37m\u001b[0m \u001b[1m1s\u001b[0m 2ms/step - loss: 0.1443 - mae: 0.3983 - val_loss: 0.1618 - val_mae: 0.4394\n",
      "Epoch 20/20\n",
      "\u001b[1m363/363\u001b[0m \u001b[32m━━━━━━━━━━━━━━━━━━━━\u001b[0m\u001b[37m\u001b[0m \u001b[1m1s\u001b[0m 2ms/step - loss: 0.1432 - mae: 0.3954 - val_loss: 0.1569 - val_mae: 0.4276\n"
     ]
    },
    {
     "data": {
      "text/plain": [
       "<keras.src.callbacks.history.History at 0x7a1d62f28c70>"
      ]
     },
     "execution_count": 31,
     "metadata": {},
     "output_type": "execute_result"
    }
   ],
   "source": [
    "reloaded_model.fit(\n",
    "    X_train, y_train, validation_data=(X_valid, y_valid), epochs=20\n",
    ")"
   ]
  },
  {
   "cell_type": "markdown",
   "id": "135ce077",
   "metadata": {
    "papermill": {
     "duration": 0.049891,
     "end_time": "2024-05-16T15:13:10.537446",
     "exception": false,
     "start_time": "2024-05-16T15:13:10.487555",
     "status": "completed"
    },
    "tags": []
   },
   "source": [
    "**Inference**\n",
    "- When saving a model that utilises custom objects while training it retrains from the last update of the parameters."
   ]
  },
  {
   "cell_type": "markdown",
   "id": "858de346",
   "metadata": {
    "papermill": {
     "duration": 0.050502,
     "end_time": "2024-05-16T15:13:10.638847",
     "exception": false,
     "start_time": "2024-05-16T15:13:10.588345",
     "status": "completed"
    },
    "tags": []
   },
   "source": [
    "**Creating a wrapper function to measure loss for custom threasholds**"
   ]
  },
  {
   "cell_type": "code",
   "execution_count": 32,
   "id": "37d1c24a",
   "metadata": {
    "execution": {
     "iopub.execute_input": "2024-05-16T15:13:10.739260Z",
     "iopub.status.busy": "2024-05-16T15:13:10.738462Z",
     "iopub.status.idle": "2024-05-16T15:13:24.101377Z",
     "shell.execute_reply": "2024-05-16T15:13:24.100192Z"
    },
    "papermill": {
     "duration": 13.415306,
     "end_time": "2024-05-16T15:13:24.103583",
     "exception": false,
     "start_time": "2024-05-16T15:13:10.688277",
     "status": "completed"
    },
    "tags": []
   },
   "outputs": [
    {
     "name": "stdout",
     "output_type": "stream",
     "text": [
      "Epoch 1/20\n",
      "\u001b[1m363/363\u001b[0m \u001b[32m━━━━━━━━━━━━━━━━━━━━\u001b[0m\u001b[37m\u001b[0m \u001b[1m1s\u001b[0m 2ms/step - loss: 0.1692 - mae: 0.4047 - val_loss: 0.1844 - val_mae: 0.4490\n",
      "Epoch 2/20\n",
      "\u001b[1m363/363\u001b[0m \u001b[32m━━━━━━━━━━━━━━━━━━━━\u001b[0m\u001b[37m\u001b[0m \u001b[1m1s\u001b[0m 2ms/step - loss: 0.1577 - mae: 0.3967 - val_loss: 0.1817 - val_mae: 0.4332\n",
      "Epoch 3/20\n",
      "\u001b[1m363/363\u001b[0m \u001b[32m━━━━━━━━━━━━━━━━━━━━\u001b[0m\u001b[37m\u001b[0m \u001b[1m1s\u001b[0m 2ms/step - loss: 0.1727 - mae: 0.4055 - val_loss: 0.1863 - val_mae: 0.4547\n",
      "Epoch 4/20\n",
      "\u001b[1m363/363\u001b[0m \u001b[32m━━━━━━━━━━━━━━━━━━━━\u001b[0m\u001b[37m\u001b[0m \u001b[1m1s\u001b[0m 2ms/step - loss: 0.1569 - mae: 0.3950 - val_loss: 0.1852 - val_mae: 0.4446\n",
      "Epoch 5/20\n",
      "\u001b[1m363/363\u001b[0m \u001b[32m━━━━━━━━━━━━━━━━━━━━\u001b[0m\u001b[37m\u001b[0m \u001b[1m1s\u001b[0m 2ms/step - loss: 0.1606 - mae: 0.3982 - val_loss: 0.1831 - val_mae: 0.4402\n",
      "Epoch 6/20\n",
      "\u001b[1m363/363\u001b[0m \u001b[32m━━━━━━━━━━━━━━━━━━━━\u001b[0m\u001b[37m\u001b[0m \u001b[1m1s\u001b[0m 2ms/step - loss: 0.1565 - mae: 0.3941 - val_loss: 0.1833 - val_mae: 0.4428\n",
      "Epoch 7/20\n",
      "\u001b[1m363/363\u001b[0m \u001b[32m━━━━━━━━━━━━━━━━━━━━\u001b[0m\u001b[37m\u001b[0m \u001b[1m1s\u001b[0m 2ms/step - loss: 0.1636 - mae: 0.4005 - val_loss: 0.1788 - val_mae: 0.4316\n",
      "Epoch 8/20\n",
      "\u001b[1m363/363\u001b[0m \u001b[32m━━━━━━━━━━━━━━━━━━━━\u001b[0m\u001b[37m\u001b[0m \u001b[1m1s\u001b[0m 2ms/step - loss: 0.1602 - mae: 0.3971 - val_loss: 0.1749 - val_mae: 0.4269\n",
      "Epoch 9/20\n",
      "\u001b[1m363/363\u001b[0m \u001b[32m━━━━━━━━━━━━━━━━━━━━\u001b[0m\u001b[37m\u001b[0m \u001b[1m1s\u001b[0m 2ms/step - loss: 0.1578 - mae: 0.3910 - val_loss: 0.1746 - val_mae: 0.4280\n",
      "Epoch 10/20\n",
      "\u001b[1m363/363\u001b[0m \u001b[32m━━━━━━━━━━━━━━━━━━━━\u001b[0m\u001b[37m\u001b[0m \u001b[1m1s\u001b[0m 2ms/step - loss: 0.1609 - mae: 0.3969 - val_loss: 0.1828 - val_mae: 0.4441\n",
      "Epoch 11/20\n",
      "\u001b[1m363/363\u001b[0m \u001b[32m━━━━━━━━━━━━━━━━━━━━\u001b[0m\u001b[37m\u001b[0m \u001b[1m1s\u001b[0m 2ms/step - loss: 0.1604 - mae: 0.3984 - val_loss: 0.1836 - val_mae: 0.4414\n",
      "Epoch 12/20\n",
      "\u001b[1m363/363\u001b[0m \u001b[32m━━━━━━━━━━━━━━━━━━━━\u001b[0m\u001b[37m\u001b[0m \u001b[1m1s\u001b[0m 2ms/step - loss: 0.1598 - mae: 0.3973 - val_loss: 0.1820 - val_mae: 0.4442\n",
      "Epoch 13/20\n",
      "\u001b[1m363/363\u001b[0m \u001b[32m━━━━━━━━━━━━━━━━━━━━\u001b[0m\u001b[37m\u001b[0m \u001b[1m1s\u001b[0m 1ms/step - loss: 0.1645 - mae: 0.4014 - val_loss: 0.1770 - val_mae: 0.4345\n",
      "Epoch 14/20\n",
      "\u001b[1m363/363\u001b[0m \u001b[32m━━━━━━━━━━━━━━━━━━━━\u001b[0m\u001b[37m\u001b[0m \u001b[1m1s\u001b[0m 2ms/step - loss: 0.1612 - mae: 0.3982 - val_loss: 0.1826 - val_mae: 0.4439\n",
      "Epoch 15/20\n",
      "\u001b[1m363/363\u001b[0m \u001b[32m━━━━━━━━━━━━━━━━━━━━\u001b[0m\u001b[37m\u001b[0m \u001b[1m1s\u001b[0m 2ms/step - loss: 0.1567 - mae: 0.3923 - val_loss: 0.1766 - val_mae: 0.4307\n",
      "Epoch 16/20\n",
      "\u001b[1m363/363\u001b[0m \u001b[32m━━━━━━━━━━━━━━━━━━━━\u001b[0m\u001b[37m\u001b[0m \u001b[1m1s\u001b[0m 2ms/step - loss: 0.1533 - mae: 0.3890 - val_loss: 0.1861 - val_mae: 0.4491\n",
      "Epoch 17/20\n",
      "\u001b[1m363/363\u001b[0m \u001b[32m━━━━━━━━━━━━━━━━━━━━\u001b[0m\u001b[37m\u001b[0m \u001b[1m1s\u001b[0m 2ms/step - loss: 0.1521 - mae: 0.3886 - val_loss: 0.1766 - val_mae: 0.4337\n",
      "Epoch 18/20\n",
      "\u001b[1m363/363\u001b[0m \u001b[32m━━━━━━━━━━━━━━━━━━━━\u001b[0m\u001b[37m\u001b[0m \u001b[1m1s\u001b[0m 2ms/step - loss: 0.1513 - mae: 0.3859 - val_loss: 0.1836 - val_mae: 0.4357\n",
      "Epoch 19/20\n",
      "\u001b[1m363/363\u001b[0m \u001b[32m━━━━━━━━━━━━━━━━━━━━\u001b[0m\u001b[37m\u001b[0m \u001b[1m1s\u001b[0m 2ms/step - loss: 0.1616 - mae: 0.3926 - val_loss: 0.1789 - val_mae: 0.4297\n",
      "Epoch 20/20\n",
      "\u001b[1m363/363\u001b[0m \u001b[32m━━━━━━━━━━━━━━━━━━━━\u001b[0m\u001b[37m\u001b[0m \u001b[1m1s\u001b[0m 2ms/step - loss: 0.1588 - mae: 0.3942 - val_loss: 0.1831 - val_mae: 0.4381\n"
     ]
    },
    {
     "data": {
      "text/plain": [
       "<keras.src.callbacks.history.History at 0x7a1d62f28c10>"
      ]
     },
     "execution_count": 32,
     "metadata": {},
     "output_type": "execute_result"
    }
   ],
   "source": [
    "# Custom loss function with a Wrapper for custom threasholds\n",
    "def create_huber(threashold=1.0):\n",
    "    def huber_fn(y_true, y_pred):\n",
    "        error = y_true - y_pred\n",
    "        loss_is_small = tf.abs(error) < threashold\n",
    "        linear_loss = threashold * tf.abs(error) - threashold ** 2 / 2\n",
    "        squared_loss = tf.square(error) / 2\n",
    "        return tf.where(loss_is_small, squared_loss, linear_loss)\n",
    "    return huber_fn\n",
    "\n",
    "# Compiling the Model\n",
    "reloaded_model.compile(\n",
    "    loss=create_huber(3.0), \n",
    "    optimizer=\"adam\",\n",
    "    metrics=[\"mae\"]\n",
    ")\n",
    "\n",
    "# Training the Model\n",
    "reloaded_model.fit(\n",
    "    X_train, y_train, validation_data=(X_valid, y_valid), epochs=20\n",
    ")"
   ]
  },
  {
   "cell_type": "code",
   "execution_count": 33,
   "id": "092385e1",
   "metadata": {
    "execution": {
     "iopub.execute_input": "2024-05-16T15:13:24.233428Z",
     "iopub.status.busy": "2024-05-16T15:13:24.233064Z",
     "iopub.status.idle": "2024-05-16T15:13:24.253022Z",
     "shell.execute_reply": "2024-05-16T15:13:24.251684Z"
    },
    "papermill": {
     "duration": 0.087334,
     "end_time": "2024-05-16T15:13:24.255457",
     "exception": false,
     "start_time": "2024-05-16T15:13:24.168123",
     "status": "completed"
    },
    "tags": []
   },
   "outputs": [],
   "source": [
    "# Saving the Newer Model\n",
    "reloaded_model.save(\"my_reloaded_model.keras\")"
   ]
  },
  {
   "cell_type": "markdown",
   "id": "e1312bf6",
   "metadata": {
    "papermill": {
     "duration": 0.064155,
     "end_time": "2024-05-16T15:13:24.386409",
     "exception": false,
     "start_time": "2024-05-16T15:13:24.322254",
     "status": "completed"
    },
    "tags": []
   },
   "source": [
    "**Inference**\n",
    "- While saving using a custom object with parameters for the threashold, the threashold used during training isnt saved.\n",
    "- Thus on reloading the model we need to re-parse the threashold value while compiling and training the model.\n",
    "\n",
    "**Important**\n",
    "- When saving a model, the original loss function used by the model is the namespace used by the model to save its loss data.\n",
    "- Thus since the loss function used during the first saving iteration was huber_fn an object of the huber_fn is created while saving.\n",
    "- Therefore new loss functions can be parsed or same loss function can be reparsed into the model when reloading the model for training."
   ]
  },
  {
   "cell_type": "code",
   "execution_count": 34,
   "id": "bf269636",
   "metadata": {
    "execution": {
     "iopub.execute_input": "2024-05-16T15:13:24.516991Z",
     "iopub.status.busy": "2024-05-16T15:13:24.516479Z",
     "iopub.status.idle": "2024-05-16T15:13:24.562982Z",
     "shell.execute_reply": "2024-05-16T15:13:24.562149Z"
    },
    "papermill": {
     "duration": 0.113412,
     "end_time": "2024-05-16T15:13:24.565297",
     "exception": false,
     "start_time": "2024-05-16T15:13:24.451885",
     "status": "completed"
    },
    "tags": []
   },
   "outputs": [],
   "source": [
    "reloaded_reloaded_model = tf.keras.models.load_model(\n",
    "    filepath=\"my_reloaded_model.keras\",\n",
    "    custom_objects={\"huber_fn\": create_huber(3.0)}\n",
    ")"
   ]
  },
  {
   "cell_type": "code",
   "execution_count": 35,
   "id": "04c579a1",
   "metadata": {
    "execution": {
     "iopub.execute_input": "2024-05-16T15:13:24.694391Z",
     "iopub.status.busy": "2024-05-16T15:13:24.694035Z",
     "iopub.status.idle": "2024-05-16T15:13:37.138115Z",
     "shell.execute_reply": "2024-05-16T15:13:37.137097Z"
    },
    "papermill": {
     "duration": 12.510865,
     "end_time": "2024-05-16T15:13:37.140221",
     "exception": false,
     "start_time": "2024-05-16T15:13:24.629356",
     "status": "completed"
    },
    "tags": []
   },
   "outputs": [
    {
     "name": "stdout",
     "output_type": "stream",
     "text": [
      "Epoch 1/20\n",
      "\u001b[1m363/363\u001b[0m \u001b[32m━━━━━━━━━━━━━━━━━━━━\u001b[0m\u001b[37m\u001b[0m \u001b[1m1s\u001b[0m 2ms/step - loss: 0.1605 - mae: 0.3955 - val_loss: 0.1842 - val_mae: 0.4376\n",
      "Epoch 2/20\n",
      "\u001b[1m363/363\u001b[0m \u001b[32m━━━━━━━━━━━━━━━━━━━━\u001b[0m\u001b[37m\u001b[0m \u001b[1m1s\u001b[0m 2ms/step - loss: 0.1532 - mae: 0.3905 - val_loss: 0.1788 - val_mae: 0.4343\n",
      "Epoch 3/20\n",
      "\u001b[1m363/363\u001b[0m \u001b[32m━━━━━━━━━━━━━━━━━━━━\u001b[0m\u001b[37m\u001b[0m \u001b[1m1s\u001b[0m 2ms/step - loss: 0.1614 - mae: 0.3946 - val_loss: 0.1810 - val_mae: 0.4403\n",
      "Epoch 4/20\n",
      "\u001b[1m363/363\u001b[0m \u001b[32m━━━━━━━━━━━━━━━━━━━━\u001b[0m\u001b[37m\u001b[0m \u001b[1m1s\u001b[0m 2ms/step - loss: 0.1544 - mae: 0.3927 - val_loss: 0.1786 - val_mae: 0.4369\n",
      "Epoch 5/20\n",
      "\u001b[1m363/363\u001b[0m \u001b[32m━━━━━━━━━━━━━━━━━━━━\u001b[0m\u001b[37m\u001b[0m \u001b[1m1s\u001b[0m 2ms/step - loss: 0.1590 - mae: 0.3911 - val_loss: 0.1737 - val_mae: 0.4275\n",
      "Epoch 6/20\n",
      "\u001b[1m363/363\u001b[0m \u001b[32m━━━━━━━━━━━━━━━━━━━━\u001b[0m\u001b[37m\u001b[0m \u001b[1m1s\u001b[0m 2ms/step - loss: 0.1547 - mae: 0.3871 - val_loss: 0.1766 - val_mae: 0.4282\n",
      "Epoch 7/20\n",
      "\u001b[1m363/363\u001b[0m \u001b[32m━━━━━━━━━━━━━━━━━━━━\u001b[0m\u001b[37m\u001b[0m \u001b[1m1s\u001b[0m 2ms/step - loss: 0.1550 - mae: 0.3927 - val_loss: 0.1718 - val_mae: 0.4245\n",
      "Epoch 8/20\n",
      "\u001b[1m363/363\u001b[0m \u001b[32m━━━━━━━━━━━━━━━━━━━━\u001b[0m\u001b[37m\u001b[0m \u001b[1m1s\u001b[0m 2ms/step - loss: 0.1511 - mae: 0.3834 - val_loss: 0.1831 - val_mae: 0.4384\n",
      "Epoch 9/20\n",
      "\u001b[1m363/363\u001b[0m \u001b[32m━━━━━━━━━━━━━━━━━━━━\u001b[0m\u001b[37m\u001b[0m \u001b[1m1s\u001b[0m 2ms/step - loss: 0.1528 - mae: 0.3844 - val_loss: 0.1785 - val_mae: 0.4273\n",
      "Epoch 10/20\n",
      "\u001b[1m363/363\u001b[0m \u001b[32m━━━━━━━━━━━━━━━━━━━━\u001b[0m\u001b[37m\u001b[0m \u001b[1m1s\u001b[0m 2ms/step - loss: 0.1573 - mae: 0.3882 - val_loss: 0.1788 - val_mae: 0.4313\n",
      "Epoch 11/20\n",
      "\u001b[1m363/363\u001b[0m \u001b[32m━━━━━━━━━━━━━━━━━━━━\u001b[0m\u001b[37m\u001b[0m \u001b[1m1s\u001b[0m 2ms/step - loss: 0.1632 - mae: 0.3942 - val_loss: 0.1773 - val_mae: 0.4249\n",
      "Epoch 12/20\n",
      "\u001b[1m363/363\u001b[0m \u001b[32m━━━━━━━━━━━━━━━━━━━━\u001b[0m\u001b[37m\u001b[0m \u001b[1m1s\u001b[0m 2ms/step - loss: 0.1565 - mae: 0.3907 - val_loss: 0.1821 - val_mae: 0.4375\n",
      "Epoch 13/20\n",
      "\u001b[1m363/363\u001b[0m \u001b[32m━━━━━━━━━━━━━━━━━━━━\u001b[0m\u001b[37m\u001b[0m \u001b[1m1s\u001b[0m 2ms/step - loss: 0.1580 - mae: 0.3903 - val_loss: 0.1836 - val_mae: 0.4457\n",
      "Epoch 14/20\n",
      "\u001b[1m363/363\u001b[0m \u001b[32m━━━━━━━━━━━━━━━━━━━━\u001b[0m\u001b[37m\u001b[0m \u001b[1m1s\u001b[0m 2ms/step - loss: 0.1528 - mae: 0.3891 - val_loss: 0.1798 - val_mae: 0.4372\n",
      "Epoch 15/20\n",
      "\u001b[1m363/363\u001b[0m \u001b[32m━━━━━━━━━━━━━━━━━━━━\u001b[0m\u001b[37m\u001b[0m \u001b[1m1s\u001b[0m 2ms/step - loss: 0.1530 - mae: 0.3902 - val_loss: 0.1746 - val_mae: 0.4256\n",
      "Epoch 16/20\n",
      "\u001b[1m363/363\u001b[0m \u001b[32m━━━━━━━━━━━━━━━━━━━━\u001b[0m\u001b[37m\u001b[0m \u001b[1m1s\u001b[0m 2ms/step - loss: 0.1534 - mae: 0.3884 - val_loss: 0.1771 - val_mae: 0.4326\n",
      "Epoch 17/20\n",
      "\u001b[1m363/363\u001b[0m \u001b[32m━━━━━━━━━━━━━━━━━━━━\u001b[0m\u001b[37m\u001b[0m \u001b[1m1s\u001b[0m 2ms/step - loss: 0.1549 - mae: 0.3892 - val_loss: 0.1771 - val_mae: 0.4273\n",
      "Epoch 18/20\n",
      "\u001b[1m363/363\u001b[0m \u001b[32m━━━━━━━━━━━━━━━━━━━━\u001b[0m\u001b[37m\u001b[0m \u001b[1m1s\u001b[0m 2ms/step - loss: 0.1579 - mae: 0.3914 - val_loss: 0.1753 - val_mae: 0.4290\n",
      "Epoch 19/20\n",
      "\u001b[1m363/363\u001b[0m \u001b[32m━━━━━━━━━━━━━━━━━━━━\u001b[0m\u001b[37m\u001b[0m \u001b[1m1s\u001b[0m 2ms/step - loss: 0.1506 - mae: 0.3830 - val_loss: 0.1729 - val_mae: 0.4207\n",
      "Epoch 20/20\n",
      "\u001b[1m363/363\u001b[0m \u001b[32m━━━━━━━━━━━━━━━━━━━━\u001b[0m\u001b[37m\u001b[0m \u001b[1m1s\u001b[0m 2ms/step - loss: 0.1526 - mae: 0.3823 - val_loss: 0.1858 - val_mae: 0.4358\n"
     ]
    },
    {
     "data": {
      "text/plain": [
       "<keras.src.callbacks.history.History at 0x7a1d62c30c10>"
      ]
     },
     "execution_count": 35,
     "metadata": {},
     "output_type": "execute_result"
    }
   ],
   "source": [
    "reloaded_reloaded_model.fit(\n",
    "    X_train, y_train, validation_data=(X_valid, y_valid), epochs=20\n",
    ")"
   ]
  },
  {
   "cell_type": "markdown",
   "id": "5e154eee",
   "metadata": {
    "papermill": {
     "duration": 0.076953,
     "end_time": "2024-05-16T15:13:37.295836",
     "exception": false,
     "start_time": "2024-05-16T15:13:37.218883",
     "status": "completed"
    },
    "tags": []
   },
   "source": [
    "**Creating a Custom Loss Class**\n",
    "--\n",
    "\n",
    "- Custom Loss class can be created to overwrite the original output configuration used while storing a model.\n",
    "- A custom loss class allows for providing a custom configuration object."
   ]
  },
  {
   "cell_type": "code",
   "execution_count": 36,
   "id": "e70b509d",
   "metadata": {
    "execution": {
     "iopub.execute_input": "2024-05-16T15:13:37.456870Z",
     "iopub.status.busy": "2024-05-16T15:13:37.455871Z",
     "iopub.status.idle": "2024-05-16T15:13:37.463526Z",
     "shell.execute_reply": "2024-05-16T15:13:37.462395Z"
    },
    "papermill": {
     "duration": 0.088521,
     "end_time": "2024-05-16T15:13:37.465594",
     "exception": false,
     "start_time": "2024-05-16T15:13:37.377073",
     "status": "completed"
    },
    "tags": []
   },
   "outputs": [],
   "source": [
    "class MyHuberLoss(tf.keras.losses.Loss):\n",
    "    def __init__(self, threashold=1.0, **kwargs):\n",
    "        self.threashold = threashold\n",
    "        super().__init__(**kwargs)\n",
    "        \n",
    "    def call(self, y_true, y_pred):\n",
    "        error = y_true - y_pred\n",
    "        loss_is_small = tf.abs(error) < self.threashold\n",
    "        linear_loss = self.threashold * tf.abs(error) - self.threashold ** 2 / 2\n",
    "        squared_loss = tf.square(error) / 2\n",
    "        return tf.where(loss_is_small, squared_loss, linear_loss)\n",
    "    \n",
    "    def get_config(self):\n",
    "        base_config = super().get_config()\n",
    "        return {**base_config, \"threashold\": self.threashold}"
   ]
  },
  {
   "cell_type": "code",
   "execution_count": 37,
   "id": "00d0fd9c",
   "metadata": {
    "execution": {
     "iopub.execute_input": "2024-05-16T15:13:37.624148Z",
     "iopub.status.busy": "2024-05-16T15:13:37.623240Z",
     "iopub.status.idle": "2024-05-16T15:13:50.319409Z",
     "shell.execute_reply": "2024-05-16T15:13:50.318424Z"
    },
    "papermill": {
     "duration": 12.777826,
     "end_time": "2024-05-16T15:13:50.321518",
     "exception": false,
     "start_time": "2024-05-16T15:13:37.543692",
     "status": "completed"
    },
    "tags": []
   },
   "outputs": [
    {
     "name": "stdout",
     "output_type": "stream",
     "text": [
      "Epoch 1/20\n",
      "\u001b[1m363/363\u001b[0m \u001b[32m━━━━━━━━━━━━━━━━━━━━\u001b[0m\u001b[37m\u001b[0m \u001b[1m1s\u001b[0m 2ms/step - loss: 1.9801 - mae: 1.6960 - val_loss: 0.3976 - val_mae: 0.6694\n",
      "Epoch 2/20\n",
      "\u001b[1m363/363\u001b[0m \u001b[32m━━━━━━━━━━━━━━━━━━━━\u001b[0m\u001b[37m\u001b[0m \u001b[1m1s\u001b[0m 2ms/step - loss: 0.3663 - mae: 0.6346 - val_loss: 0.2986 - val_mae: 0.5810\n",
      "Epoch 3/20\n",
      "\u001b[1m363/363\u001b[0m \u001b[32m━━━━━━━━━━━━━━━━━━━━\u001b[0m\u001b[37m\u001b[0m \u001b[1m1s\u001b[0m 2ms/step - loss: 0.2824 - mae: 0.5405 - val_loss: 0.2392 - val_mae: 0.5077\n",
      "Epoch 4/20\n",
      "\u001b[1m363/363\u001b[0m \u001b[32m━━━━━━━━━━━━━━━━━━━━\u001b[0m\u001b[37m\u001b[0m \u001b[1m1s\u001b[0m 2ms/step - loss: 0.2360 - mae: 0.4975 - val_loss: 0.2200 - val_mae: 0.4895\n",
      "Epoch 5/20\n",
      "\u001b[1m363/363\u001b[0m \u001b[32m━━━━━━━━━━━━━━━━━━━━\u001b[0m\u001b[37m\u001b[0m \u001b[1m1s\u001b[0m 2ms/step - loss: 0.2184 - mae: 0.4784 - val_loss: 0.2085 - val_mae: 0.4685\n",
      "Epoch 6/20\n",
      "\u001b[1m363/363\u001b[0m \u001b[32m━━━━━━━━━━━━━━━━━━━━\u001b[0m\u001b[37m\u001b[0m \u001b[1m1s\u001b[0m 2ms/step - loss: 0.2080 - mae: 0.4656 - val_loss: 0.2105 - val_mae: 0.4857\n",
      "Epoch 7/20\n",
      "\u001b[1m363/363\u001b[0m \u001b[32m━━━━━━━━━━━━━━━━━━━━\u001b[0m\u001b[37m\u001b[0m \u001b[1m1s\u001b[0m 2ms/step - loss: 0.1956 - mae: 0.4560 - val_loss: 0.2021 - val_mae: 0.4685\n",
      "Epoch 8/20\n",
      "\u001b[1m363/363\u001b[0m \u001b[32m━━━━━━━━━━━━━━━━━━━━\u001b[0m\u001b[37m\u001b[0m \u001b[1m1s\u001b[0m 2ms/step - loss: 0.1884 - mae: 0.4445 - val_loss: 0.1954 - val_mae: 0.4604\n",
      "Epoch 9/20\n",
      "\u001b[1m363/363\u001b[0m \u001b[32m━━━━━━━━━━━━━━━━━━━━\u001b[0m\u001b[37m\u001b[0m \u001b[1m1s\u001b[0m 2ms/step - loss: 0.1988 - mae: 0.4556 - val_loss: 0.2045 - val_mae: 0.4765\n",
      "Epoch 10/20\n",
      "\u001b[1m363/363\u001b[0m \u001b[32m━━━━━━━━━━━━━━━━━━━━\u001b[0m\u001b[37m\u001b[0m \u001b[1m1s\u001b[0m 2ms/step - loss: 0.1889 - mae: 0.4379 - val_loss: 0.1943 - val_mae: 0.4645\n",
      "Epoch 11/20\n",
      "\u001b[1m363/363\u001b[0m \u001b[32m━━━━━━━━━━━━━━━━━━━━\u001b[0m\u001b[37m\u001b[0m \u001b[1m1s\u001b[0m 2ms/step - loss: 0.1876 - mae: 0.4430 - val_loss: 0.1975 - val_mae: 0.4637\n",
      "Epoch 12/20\n",
      "\u001b[1m363/363\u001b[0m \u001b[32m━━━━━━━━━━━━━━━━━━━━\u001b[0m\u001b[37m\u001b[0m \u001b[1m1s\u001b[0m 2ms/step - loss: 0.1769 - mae: 0.4314 - val_loss: 0.1933 - val_mae: 0.4594\n",
      "Epoch 13/20\n",
      "\u001b[1m363/363\u001b[0m \u001b[32m━━━━━━━━━━━━━━━━━━━━\u001b[0m\u001b[37m\u001b[0m \u001b[1m1s\u001b[0m 2ms/step - loss: 0.1816 - mae: 0.4350 - val_loss: 0.1879 - val_mae: 0.4500\n",
      "Epoch 14/20\n",
      "\u001b[1m363/363\u001b[0m \u001b[32m━━━━━━━━━━━━━━━━━━━━\u001b[0m\u001b[37m\u001b[0m \u001b[1m1s\u001b[0m 2ms/step - loss: 0.1797 - mae: 0.4269 - val_loss: 0.1932 - val_mae: 0.4584\n",
      "Epoch 15/20\n",
      "\u001b[1m363/363\u001b[0m \u001b[32m━━━━━━━━━━━━━━━━━━━━\u001b[0m\u001b[37m\u001b[0m \u001b[1m1s\u001b[0m 2ms/step - loss: 0.1695 - mae: 0.4180 - val_loss: 0.1860 - val_mae: 0.4480\n",
      "Epoch 16/20\n",
      "\u001b[1m363/363\u001b[0m \u001b[32m━━━━━━━━━━━━━━━━━━━━\u001b[0m\u001b[37m\u001b[0m \u001b[1m1s\u001b[0m 2ms/step - loss: 0.1814 - mae: 0.4280 - val_loss: 0.1908 - val_mae: 0.4510\n",
      "Epoch 17/20\n",
      "\u001b[1m363/363\u001b[0m \u001b[32m━━━━━━━━━━━━━━━━━━━━\u001b[0m\u001b[37m\u001b[0m \u001b[1m1s\u001b[0m 2ms/step - loss: 0.1778 - mae: 0.4245 - val_loss: 0.1809 - val_mae: 0.4374\n",
      "Epoch 18/20\n",
      "\u001b[1m363/363\u001b[0m \u001b[32m━━━━━━━━━━━━━━━━━━━━\u001b[0m\u001b[37m\u001b[0m \u001b[1m1s\u001b[0m 2ms/step - loss: 0.1698 - mae: 0.4166 - val_loss: 0.1837 - val_mae: 0.4415\n",
      "Epoch 19/20\n",
      "\u001b[1m363/363\u001b[0m \u001b[32m━━━━━━━━━━━━━━━━━━━━\u001b[0m\u001b[37m\u001b[0m \u001b[1m1s\u001b[0m 2ms/step - loss: 0.1763 - mae: 0.4225 - val_loss: 0.1894 - val_mae: 0.4519\n",
      "Epoch 20/20\n",
      "\u001b[1m363/363\u001b[0m \u001b[32m━━━━━━━━━━━━━━━━━━━━\u001b[0m\u001b[37m\u001b[0m \u001b[1m1s\u001b[0m 2ms/step - loss: 0.1763 - mae: 0.4203 - val_loss: 0.1817 - val_mae: 0.4375\n"
     ]
    },
    {
     "data": {
      "text/plain": [
       "<keras.src.callbacks.history.History at 0x7a1d62b76740>"
      ]
     },
     "execution_count": 37,
     "metadata": {},
     "output_type": "execute_result"
    }
   ],
   "source": [
    "# Building the new model\n",
    "new_model = tf.keras.models.Sequential([\n",
    "    tf.keras.layers.Dense(30, activation=\"relu\", input_shape=X_train.shape[1:], kernel_initializer=\"he_normal\"),\n",
    "    tf.keras.layers.Dense(1)\n",
    "])\n",
    "\n",
    "# Compiling the new model\n",
    "new_model.compile(\n",
    "    loss=MyHuberLoss(2.0),\n",
    "    metrics=[\"mae\"],\n",
    "    optimizer=\"adam\"\n",
    ")\n",
    "\n",
    "# Training the model\n",
    "new_model.fit(\n",
    "    X_train, y_train, validation_data=(X_valid, y_valid), epochs=20\n",
    ")"
   ]
  },
  {
   "cell_type": "markdown",
   "id": "b4acc608",
   "metadata": {
    "papermill": {
     "duration": 0.09234,
     "end_time": "2024-05-16T15:13:50.508041",
     "exception": false,
     "start_time": "2024-05-16T15:13:50.415701",
     "status": "completed"
    },
    "tags": []
   },
   "source": [
    "**Saving the Model utilising the custom loss class**"
   ]
  },
  {
   "cell_type": "code",
   "execution_count": 38,
   "id": "3f4d6404",
   "metadata": {
    "execution": {
     "iopub.execute_input": "2024-05-16T15:13:50.693716Z",
     "iopub.status.busy": "2024-05-16T15:13:50.693377Z",
     "iopub.status.idle": "2024-05-16T15:13:50.712823Z",
     "shell.execute_reply": "2024-05-16T15:13:50.711850Z"
    },
    "papermill": {
     "duration": 0.115038,
     "end_time": "2024-05-16T15:13:50.715135",
     "exception": false,
     "start_time": "2024-05-16T15:13:50.600097",
     "status": "completed"
    },
    "tags": []
   },
   "outputs": [],
   "source": [
    "new_model.save(\"my_custom_loss_class_model.keras\")"
   ]
  },
  {
   "cell_type": "code",
   "execution_count": 39,
   "id": "0267d407",
   "metadata": {
    "execution": {
     "iopub.execute_input": "2024-05-16T15:13:50.899330Z",
     "iopub.status.busy": "2024-05-16T15:13:50.898379Z",
     "iopub.status.idle": "2024-05-16T15:13:50.954633Z",
     "shell.execute_reply": "2024-05-16T15:13:50.953711Z"
    },
    "papermill": {
     "duration": 0.150752,
     "end_time": "2024-05-16T15:13:50.957051",
     "exception": false,
     "start_time": "2024-05-16T15:13:50.806299",
     "status": "completed"
    },
    "tags": []
   },
   "outputs": [],
   "source": [
    "new_model_reloaded = tf.keras.models.load_model(\n",
    "    \"my_custom_loss_class_model.keras\",\n",
    "    custom_objects={\"MyHuberLoss\": MyHuberLoss}\n",
    ")"
   ]
  },
  {
   "cell_type": "code",
   "execution_count": 40,
   "id": "b6afe931",
   "metadata": {
    "execution": {
     "iopub.execute_input": "2024-05-16T15:13:51.142891Z",
     "iopub.status.busy": "2024-05-16T15:13:51.142251Z",
     "iopub.status.idle": "2024-05-16T15:13:57.727953Z",
     "shell.execute_reply": "2024-05-16T15:13:57.726993Z"
    },
    "papermill": {
     "duration": 6.681883,
     "end_time": "2024-05-16T15:13:57.730422",
     "exception": false,
     "start_time": "2024-05-16T15:13:51.048539",
     "status": "completed"
    },
    "tags": []
   },
   "outputs": [
    {
     "name": "stdout",
     "output_type": "stream",
     "text": [
      "Epoch 1/10\n",
      "\u001b[1m363/363\u001b[0m \u001b[32m━━━━━━━━━━━━━━━━━━━━\u001b[0m\u001b[37m\u001b[0m \u001b[1m1s\u001b[0m 2ms/step - loss: 0.1662 - mae: 0.4131 - val_loss: 0.1845 - val_mae: 0.4416\n",
      "Epoch 2/10\n",
      "\u001b[1m363/363\u001b[0m \u001b[32m━━━━━━━━━━━━━━━━━━━━\u001b[0m\u001b[37m\u001b[0m \u001b[1m1s\u001b[0m 2ms/step - loss: 0.1688 - mae: 0.4128 - val_loss: 0.1810 - val_mae: 0.4344\n",
      "Epoch 3/10\n",
      "\u001b[1m363/363\u001b[0m \u001b[32m━━━━━━━━━━━━━━━━━━━━\u001b[0m\u001b[37m\u001b[0m \u001b[1m1s\u001b[0m 2ms/step - loss: 0.1682 - mae: 0.4124 - val_loss: 0.1802 - val_mae: 0.4331\n",
      "Epoch 4/10\n",
      "\u001b[1m363/363\u001b[0m \u001b[32m━━━━━━━━━━━━━━━━━━━━\u001b[0m\u001b[37m\u001b[0m \u001b[1m1s\u001b[0m 2ms/step - loss: 0.1610 - mae: 0.4020 - val_loss: 0.1832 - val_mae: 0.4405\n",
      "Epoch 5/10\n",
      "\u001b[1m363/363\u001b[0m \u001b[32m━━━━━━━━━━━━━━━━━━━━\u001b[0m\u001b[37m\u001b[0m \u001b[1m1s\u001b[0m 2ms/step - loss: 0.1644 - mae: 0.4062 - val_loss: 0.1838 - val_mae: 0.4413\n",
      "Epoch 6/10\n",
      "\u001b[1m363/363\u001b[0m \u001b[32m━━━━━━━━━━━━━━━━━━━━\u001b[0m\u001b[37m\u001b[0m \u001b[1m1s\u001b[0m 2ms/step - loss: 0.1644 - mae: 0.4113 - val_loss: 0.1837 - val_mae: 0.4388\n",
      "Epoch 7/10\n",
      "\u001b[1m363/363\u001b[0m \u001b[32m━━━━━━━━━━━━━━━━━━━━\u001b[0m\u001b[37m\u001b[0m \u001b[1m1s\u001b[0m 2ms/step - loss: 0.1595 - mae: 0.3992 - val_loss: 0.1887 - val_mae: 0.4498\n",
      "Epoch 8/10\n",
      "\u001b[1m363/363\u001b[0m \u001b[32m━━━━━━━━━━━━━━━━━━━━\u001b[0m\u001b[37m\u001b[0m \u001b[1m1s\u001b[0m 2ms/step - loss: 0.1571 - mae: 0.4014 - val_loss: 0.1868 - val_mae: 0.4455\n",
      "Epoch 9/10\n",
      "\u001b[1m363/363\u001b[0m \u001b[32m━━━━━━━━━━━━━━━━━━━━\u001b[0m\u001b[37m\u001b[0m \u001b[1m1s\u001b[0m 1ms/step - loss: 0.1598 - mae: 0.4026 - val_loss: 0.1833 - val_mae: 0.4324\n",
      "Epoch 10/10\n",
      "\u001b[1m363/363\u001b[0m \u001b[32m━━━━━━━━━━━━━━━━━━━━\u001b[0m\u001b[37m\u001b[0m \u001b[1m1s\u001b[0m 2ms/step - loss: 0.1584 - mae: 0.4025 - val_loss: 0.1807 - val_mae: 0.4366\n"
     ]
    },
    {
     "data": {
      "text/plain": [
       "<keras.src.callbacks.history.History at 0x7a1d629669b0>"
      ]
     },
     "execution_count": 40,
     "metadata": {},
     "output_type": "execute_result"
    }
   ],
   "source": [
    "new_model_reloaded.fit(\n",
    "    X_train, y_train, validation_data=(X_valid, y_valid), epochs=10\n",
    ")"
   ]
  },
  {
   "cell_type": "markdown",
   "id": "a75a9982",
   "metadata": {
    "papermill": {
     "duration": 0.101198,
     "end_time": "2024-05-16T15:13:57.933527",
     "exception": false,
     "start_time": "2024-05-16T15:13:57.832329",
     "status": "completed"
    },
    "tags": []
   },
   "source": [
    "**Inference**\n",
    "- Here the Threashold of the model is retained while saving.\n",
    "- This is because the loss custom loss class store the threashold as a part of the configuration of the loss class"
   ]
  },
  {
   "cell_type": "code",
   "execution_count": 41,
   "id": "78e90545",
   "metadata": {
    "execution": {
     "iopub.execute_input": "2024-05-16T15:13:58.139954Z",
     "iopub.status.busy": "2024-05-16T15:13:58.139562Z",
     "iopub.status.idle": "2024-05-16T15:13:58.145636Z",
     "shell.execute_reply": "2024-05-16T15:13:58.144712Z"
    },
    "papermill": {
     "duration": 0.112184,
     "end_time": "2024-05-16T15:13:58.147705",
     "exception": false,
     "start_time": "2024-05-16T15:13:58.035521",
     "status": "completed"
    },
    "tags": []
   },
   "outputs": [
    {
     "data": {
      "text/plain": [
       "2.0"
      ]
     },
     "execution_count": 41,
     "metadata": {},
     "output_type": "execute_result"
    }
   ],
   "source": [
    "new_model_reloaded.loss.threashold"
   ]
  },
  {
   "cell_type": "markdown",
   "id": "c15acb56",
   "metadata": {
    "papermill": {
     "duration": 0.100966,
     "end_time": "2024-05-16T15:13:58.351324",
     "exception": false,
     "start_time": "2024-05-16T15:13:58.250358",
     "status": "completed"
    },
    "tags": []
   },
   "source": [
    "**Custom Activation Functions, Initializers, Regularizers and Constraints**\n",
    "--"
   ]
  },
  {
   "cell_type": "code",
   "execution_count": 42,
   "id": "36b2a695",
   "metadata": {
    "execution": {
     "iopub.execute_input": "2024-05-16T15:13:58.553575Z",
     "iopub.status.busy": "2024-05-16T15:13:58.553189Z",
     "iopub.status.idle": "2024-05-16T15:13:58.560709Z",
     "shell.execute_reply": "2024-05-16T15:13:58.559623Z"
    },
    "papermill": {
     "duration": 0.110669,
     "end_time": "2024-05-16T15:13:58.562982",
     "exception": false,
     "start_time": "2024-05-16T15:13:58.452313",
     "status": "completed"
    },
    "tags": []
   },
   "outputs": [],
   "source": [
    "# Custom Activation Function\n",
    "def softplus(z):\n",
    "    return tf.math.log(1.0 + tf.exp(z))\n",
    "\n",
    "# Custom Initialisation Function\n",
    "def gloriot_initilisation(shape, dtype=tf.float32):\n",
    "    std = tf.sqrt(2. / (shape[0] + shape[1]))\n",
    "    return tf.random.normal(shape, stddev=std, dtype=dtype)\n",
    "\n",
    "# Custom Regularisation\n",
    "class L1Regularisation(tf.keras.regularizers.Regularizer):\n",
    "    def __init__(self, factor):\n",
    "        self.factor = factor\n",
    "    \n",
    "    def __call__(self, weights):\n",
    "        return tf.reduce_sum(tf.abs(weights * self.factor))\n",
    "    \n",
    "    def get_config(self):\n",
    "        return {\"factor\": self.factor}"
   ]
  },
  {
   "cell_type": "code",
   "execution_count": 43,
   "id": "f4ce1246",
   "metadata": {
    "execution": {
     "iopub.execute_input": "2024-05-16T15:13:58.816567Z",
     "iopub.status.busy": "2024-05-16T15:13:58.815855Z",
     "iopub.status.idle": "2024-05-16T15:14:03.085323Z",
     "shell.execute_reply": "2024-05-16T15:14:03.084275Z"
    },
    "papermill": {
     "duration": 4.372651,
     "end_time": "2024-05-16T15:14:03.087622",
     "exception": false,
     "start_time": "2024-05-16T15:13:58.714971",
     "status": "completed"
    },
    "tags": []
   },
   "outputs": [
    {
     "name": "stdout",
     "output_type": "stream",
     "text": [
      "Epoch 1/5\n",
      "\u001b[1m363/363\u001b[0m \u001b[32m━━━━━━━━━━━━━━━━━━━━\u001b[0m\u001b[37m\u001b[0m \u001b[1m2s\u001b[0m 2ms/step - loss: 0.7710 - mae: 0.8997 - val_loss: 0.3576 - val_mae: 0.5601\n",
      "Epoch 2/5\n",
      "\u001b[1m363/363\u001b[0m \u001b[32m━━━━━━━━━━━━━━━━━━━━\u001b[0m\u001b[37m\u001b[0m \u001b[1m1s\u001b[0m 2ms/step - loss: 0.3503 - mae: 0.5456 - val_loss: 0.3051 - val_mae: 0.5071\n",
      "Epoch 3/5\n",
      "\u001b[1m363/363\u001b[0m \u001b[32m━━━━━━━━━━━━━━━━━━━━\u001b[0m\u001b[37m\u001b[0m \u001b[1m1s\u001b[0m 2ms/step - loss: 0.2992 - mae: 0.4945 - val_loss: 0.2761 - val_mae: 0.4802\n",
      "Epoch 4/5\n",
      "\u001b[1m363/363\u001b[0m \u001b[32m━━━━━━━━━━━━━━━━━━━━\u001b[0m\u001b[37m\u001b[0m \u001b[1m1s\u001b[0m 2ms/step - loss: 0.2767 - mae: 0.4784 - val_loss: 0.2599 - val_mae: 0.4633\n",
      "Epoch 5/5\n",
      "\u001b[1m363/363\u001b[0m \u001b[32m━━━━━━━━━━━━━━━━━━━━\u001b[0m\u001b[37m\u001b[0m \u001b[1m1s\u001b[0m 2ms/step - loss: 0.2680 - mae: 0.4667 - val_loss: 0.2507 - val_mae: 0.4535\n"
     ]
    }
   ],
   "source": [
    "tf.keras.backend.clear_session()\n",
    "\n",
    "# Building a Model that utilises the custom functions\n",
    "new_model = tf.keras.models.Sequential([\n",
    "    tf.keras.layers.Dense(30, activation=\"relu\", kernel_initializer=\"he_normal\", input_shape=X_train.shape[1:]),\n",
    "    tf.keras.layers.Dense(\n",
    "        units=1, \n",
    "        activation=softplus,\n",
    "        kernel_initializer=gloriot_initilisation,\n",
    "        kernel_regularizer=L1Regularisation(0.01),\n",
    "    )\n",
    "])\n",
    "\n",
    "# Compiling the model\n",
    "new_model.compile(\n",
    "    loss=MyHuberLoss(2.0),\n",
    "    metrics=[\"mae\"],\n",
    "    optimizer=\"adam\"\n",
    ")\n",
    "\n",
    "# Training the model\n",
    "new_model.fit(\n",
    "    X_train, y_train, validation_data=(X_valid, y_valid), epochs=5\n",
    ")\n",
    "\n",
    "# Saving the model\n",
    "new_model.save(\"custom_activation_initialisation_regularisation_model.keras\")"
   ]
  },
  {
   "cell_type": "code",
   "execution_count": 44,
   "id": "be0a5a9a",
   "metadata": {
    "execution": {
     "iopub.execute_input": "2024-05-16T15:14:03.302169Z",
     "iopub.status.busy": "2024-05-16T15:14:03.301213Z",
     "iopub.status.idle": "2024-05-16T15:14:12.986666Z",
     "shell.execute_reply": "2024-05-16T15:14:12.985672Z"
    },
    "papermill": {
     "duration": 9.79477,
     "end_time": "2024-05-16T15:14:12.989014",
     "exception": false,
     "start_time": "2024-05-16T15:14:03.194244",
     "status": "completed"
    },
    "tags": []
   },
   "outputs": [
    {
     "name": "stdout",
     "output_type": "stream",
     "text": [
      "Epoch 1/15\n",
      "\u001b[1m363/363\u001b[0m \u001b[32m━━━━━━━━━━━━━━━━━━━━\u001b[0m\u001b[37m\u001b[0m \u001b[1m1s\u001b[0m 2ms/step - loss: 0.2553 - mae: 0.4524 - val_loss: 0.2512 - val_mae: 0.4659\n",
      "Epoch 2/15\n",
      "\u001b[1m363/363\u001b[0m \u001b[32m━━━━━━━━━━━━━━━━━━━━\u001b[0m\u001b[37m\u001b[0m \u001b[1m1s\u001b[0m 2ms/step - loss: 0.2429 - mae: 0.4472 - val_loss: 0.2461 - val_mae: 0.4624\n",
      "Epoch 3/15\n",
      "\u001b[1m363/363\u001b[0m \u001b[32m━━━━━━━━━━━━━━━━━━━━\u001b[0m\u001b[37m\u001b[0m \u001b[1m1s\u001b[0m 2ms/step - loss: 0.2372 - mae: 0.4400 - val_loss: 0.2415 - val_mae: 0.4593\n",
      "Epoch 4/15\n",
      "\u001b[1m363/363\u001b[0m \u001b[32m━━━━━━━━━━━━━━━━━━━━\u001b[0m\u001b[37m\u001b[0m \u001b[1m1s\u001b[0m 2ms/step - loss: 0.2383 - mae: 0.4437 - val_loss: 0.2434 - val_mae: 0.4668\n",
      "Epoch 5/15\n",
      "\u001b[1m363/363\u001b[0m \u001b[32m━━━━━━━━━━━━━━━━━━━━\u001b[0m\u001b[37m\u001b[0m \u001b[1m1s\u001b[0m 2ms/step - loss: 0.2374 - mae: 0.4476 - val_loss: 0.2349 - val_mae: 0.4592\n",
      "Epoch 6/15\n",
      "\u001b[1m363/363\u001b[0m \u001b[32m━━━━━━━━━━━━━━━━━━━━\u001b[0m\u001b[37m\u001b[0m \u001b[1m1s\u001b[0m 2ms/step - loss: 0.2287 - mae: 0.4380 - val_loss: 0.2329 - val_mae: 0.4592\n",
      "Epoch 7/15\n",
      "\u001b[1m363/363\u001b[0m \u001b[32m━━━━━━━━━━━━━━━━━━━━\u001b[0m\u001b[37m\u001b[0m \u001b[1m1s\u001b[0m 2ms/step - loss: 0.2292 - mae: 0.4427 - val_loss: 0.2310 - val_mae: 0.4585\n",
      "Epoch 8/15\n",
      "\u001b[1m363/363\u001b[0m \u001b[32m━━━━━━━━━━━━━━━━━━━━\u001b[0m\u001b[37m\u001b[0m \u001b[1m1s\u001b[0m 2ms/step - loss: 0.2256 - mae: 0.4408 - val_loss: 0.2286 - val_mae: 0.4564\n",
      "Epoch 9/15\n",
      "\u001b[1m363/363\u001b[0m \u001b[32m━━━━━━━━━━━━━━━━━━━━\u001b[0m\u001b[37m\u001b[0m \u001b[1m1s\u001b[0m 2ms/step - loss: 0.2204 - mae: 0.4331 - val_loss: 0.2266 - val_mae: 0.4550\n",
      "Epoch 10/15\n",
      "\u001b[1m363/363\u001b[0m \u001b[32m━━━━━━━━━━━━━━━━━━━━\u001b[0m\u001b[37m\u001b[0m \u001b[1m1s\u001b[0m 2ms/step - loss: 0.2203 - mae: 0.4349 - val_loss: 0.2296 - val_mae: 0.4631\n",
      "Epoch 11/15\n",
      "\u001b[1m363/363\u001b[0m \u001b[32m━━━━━━━━━━━━━━━━━━━━\u001b[0m\u001b[37m\u001b[0m \u001b[1m1s\u001b[0m 2ms/step - loss: 0.2187 - mae: 0.4372 - val_loss: 0.2245 - val_mae: 0.4549\n",
      "Epoch 12/15\n",
      "\u001b[1m363/363\u001b[0m \u001b[32m━━━━━━━━━━━━━━━━━━━━\u001b[0m\u001b[37m\u001b[0m \u001b[1m1s\u001b[0m 2ms/step - loss: 0.2173 - mae: 0.4351 - val_loss: 0.2250 - val_mae: 0.4554\n",
      "Epoch 13/15\n",
      "\u001b[1m363/363\u001b[0m \u001b[32m━━━━━━━━━━━━━━━━━━━━\u001b[0m\u001b[37m\u001b[0m \u001b[1m1s\u001b[0m 2ms/step - loss: 0.2187 - mae: 0.4383 - val_loss: 0.2237 - val_mae: 0.4554\n",
      "Epoch 14/15\n",
      "\u001b[1m363/363\u001b[0m \u001b[32m━━━━━━━━━━━━━━━━━━━━\u001b[0m\u001b[37m\u001b[0m \u001b[1m1s\u001b[0m 2ms/step - loss: 0.2201 - mae: 0.4407 - val_loss: 0.2234 - val_mae: 0.4554\n",
      "Epoch 15/15\n",
      "\u001b[1m363/363\u001b[0m \u001b[32m━━━━━━━━━━━━━━━━━━━━\u001b[0m\u001b[37m\u001b[0m \u001b[1m1s\u001b[0m 2ms/step - loss: 0.2229 - mae: 0.4429 - val_loss: 0.2254 - val_mae: 0.4600\n"
     ]
    },
    {
     "data": {
      "text/plain": [
       "<keras.src.callbacks.history.History at 0x7a1d4cdb4c40>"
      ]
     },
     "execution_count": 44,
     "metadata": {},
     "output_type": "execute_result"
    }
   ],
   "source": [
    "# Reloading the model and providing all the parameters and objects required by the model\n",
    "new_model_reloaded = tf.keras.models.load_model(\n",
    "    filepath=\"custom_activation_initialisation_regularisation_model.keras\",\n",
    "    custom_objects={\n",
    "        \"MyHuberLoss\": MyHuberLoss,\n",
    "        \"L1Regularisation\": L1Regularisation,\n",
    "        \"softplus\": softplus,\n",
    "        \"gloriot_initilisation\": gloriot_initilisation\n",
    "    }\n",
    ")\n",
    "\n",
    "# Training the model\n",
    "new_model_reloaded.fit(\n",
    "    X_train, y_train, validation_data=(X_valid, y_valid), epochs=15\n",
    ")"
   ]
  },
  {
   "cell_type": "markdown",
   "id": "2f7e049f",
   "metadata": {
    "papermill": {
     "duration": 0.114078,
     "end_time": "2024-05-16T15:14:13.219139",
     "exception": false,
     "start_time": "2024-05-16T15:14:13.105061",
     "status": "completed"
    },
    "tags": []
   },
   "source": [
    "**Important**\n",
    "- Similar to the difference in control between the custom loss function and the custom loss class we can implement objects of other hyperparameters for added functionality.\n",
    "- **`keras.regularizers.Regularizer`**, **`keras.constraints.Constraint`**, **`keras.initializers.Initializer`**, **`keras.layers.Layer`** can all be utilised to create custom objects with additional control and hyperparameters retention abilities when retrieving a saved model.\n",
    "- When working with **`Losses, Layers and Models`** the **`call()`** needs to be defined in the class.\n",
    "- When working with **`Initializers, Constraints and Regularizers`** the **`__call__()`** needs to be defined in the class."
   ]
  },
  {
   "cell_type": "markdown",
   "id": "7ddf7915",
   "metadata": {
    "papermill": {
     "duration": 0.113459,
     "end_time": "2024-05-16T15:14:13.445352",
     "exception": false,
     "start_time": "2024-05-16T15:14:13.331893",
     "status": "completed"
    },
    "tags": []
   },
   "source": [
    "**Working with Custom Metrics**\n",
    "--"
   ]
  },
  {
   "cell_type": "markdown",
   "id": "9fa22265",
   "metadata": {
    "papermill": {
     "duration": 0.115594,
     "end_time": "2024-05-16T15:14:13.675911",
     "exception": false,
     "start_time": "2024-05-16T15:14:13.560317",
     "status": "completed"
    },
    "tags": []
   },
   "source": [
    "**Important (Difference between Loss and Metrics)**\n",
    "- Loss doesnt need to be human understandable, needs to be differentiable everywhere and gradients must not be 0.\n",
    "- Metrics should be understandable to humans, they need not be differentiable or have derivatives everywhere.\n",
    "- The sole purpose of metrics is to provide a high level understanding of the performance of the model to perform diagnostics.\n",
    "- HuberLoss used above can be utilised perfectly as a metric and a loss function."
   ]
  },
  {
   "cell_type": "code",
   "execution_count": 45,
   "id": "395914b6",
   "metadata": {
    "execution": {
     "iopub.execute_input": "2024-05-16T15:14:13.904423Z",
     "iopub.status.busy": "2024-05-16T15:14:13.904060Z",
     "iopub.status.idle": "2024-05-16T15:14:27.441114Z",
     "shell.execute_reply": "2024-05-16T15:14:27.439982Z"
    },
    "papermill": {
     "duration": 13.65399,
     "end_time": "2024-05-16T15:14:27.443345",
     "exception": false,
     "start_time": "2024-05-16T15:14:13.789355",
     "status": "completed"
    },
    "tags": []
   },
   "outputs": [
    {
     "name": "stdout",
     "output_type": "stream",
     "text": [
      "Epoch 1/20\n",
      "\u001b[1m363/363\u001b[0m \u001b[32m━━━━━━━━━━━━━━━━━━━━\u001b[0m\u001b[37m\u001b[0m \u001b[1m2s\u001b[0m 2ms/step - loss: 1.5716 - my_huber_loss_1: 1.5716 - val_loss: 0.3796 - val_my_huber_loss_1: 0.3796\n",
      "Epoch 2/20\n",
      "\u001b[1m363/363\u001b[0m \u001b[32m━━━━━━━━━━━━━━━━━━━━\u001b[0m\u001b[37m\u001b[0m \u001b[1m1s\u001b[0m 2ms/step - loss: 0.3582 - my_huber_loss_1: 0.3582 - val_loss: 0.3001 - val_my_huber_loss_1: 0.3001\n",
      "Epoch 3/20\n",
      "\u001b[1m363/363\u001b[0m \u001b[32m━━━━━━━━━━━━━━━━━━━━\u001b[0m\u001b[37m\u001b[0m \u001b[1m1s\u001b[0m 2ms/step - loss: 0.3007 - my_huber_loss_1: 0.3007 - val_loss: 0.2529 - val_my_huber_loss_1: 0.2529\n",
      "Epoch 4/20\n",
      "\u001b[1m363/363\u001b[0m \u001b[32m━━━━━━━━━━━━━━━━━━━━\u001b[0m\u001b[37m\u001b[0m \u001b[1m1s\u001b[0m 2ms/step - loss: 0.2380 - my_huber_loss_1: 0.2380 - val_loss: 0.2288 - val_my_huber_loss_1: 0.2288\n",
      "Epoch 5/20\n",
      "\u001b[1m363/363\u001b[0m \u001b[32m━━━━━━━━━━━━━━━━━━━━\u001b[0m\u001b[37m\u001b[0m \u001b[1m1s\u001b[0m 2ms/step - loss: 0.2303 - my_huber_loss_1: 0.2303 - val_loss: 0.2168 - val_my_huber_loss_1: 0.2168\n",
      "Epoch 6/20\n",
      "\u001b[1m363/363\u001b[0m \u001b[32m━━━━━━━━━━━━━━━━━━━━\u001b[0m\u001b[37m\u001b[0m \u001b[1m1s\u001b[0m 2ms/step - loss: 0.2075 - my_huber_loss_1: 0.2075 - val_loss: 0.2192 - val_my_huber_loss_1: 0.2192\n",
      "Epoch 7/20\n",
      "\u001b[1m363/363\u001b[0m \u001b[32m━━━━━━━━━━━━━━━━━━━━\u001b[0m\u001b[37m\u001b[0m \u001b[1m1s\u001b[0m 2ms/step - loss: 0.1979 - my_huber_loss_1: 0.1979 - val_loss: 0.2148 - val_my_huber_loss_1: 0.2148\n",
      "Epoch 8/20\n",
      "\u001b[1m363/363\u001b[0m \u001b[32m━━━━━━━━━━━━━━━━━━━━\u001b[0m\u001b[37m\u001b[0m \u001b[1m1s\u001b[0m 2ms/step - loss: 0.1963 - my_huber_loss_1: 0.1963 - val_loss: 0.2188 - val_my_huber_loss_1: 0.2187\n",
      "Epoch 9/20\n",
      "\u001b[1m363/363\u001b[0m \u001b[32m━━━━━━━━━━━━━━━━━━━━\u001b[0m\u001b[37m\u001b[0m \u001b[1m1s\u001b[0m 2ms/step - loss: 0.2011 - my_huber_loss_1: 0.2011 - val_loss: 0.2062 - val_my_huber_loss_1: 0.2061\n",
      "Epoch 10/20\n",
      "\u001b[1m363/363\u001b[0m \u001b[32m━━━━━━━━━━━━━━━━━━━━\u001b[0m\u001b[37m\u001b[0m \u001b[1m1s\u001b[0m 2ms/step - loss: 0.1911 - my_huber_loss_1: 0.1911 - val_loss: 0.2021 - val_my_huber_loss_1: 0.2021\n",
      "Epoch 11/20\n",
      "\u001b[1m363/363\u001b[0m \u001b[32m━━━━━━━━━━━━━━━━━━━━\u001b[0m\u001b[37m\u001b[0m \u001b[1m1s\u001b[0m 2ms/step - loss: 0.1948 - my_huber_loss_1: 0.1948 - val_loss: 0.2068 - val_my_huber_loss_1: 0.2067\n",
      "Epoch 12/20\n",
      "\u001b[1m363/363\u001b[0m \u001b[32m━━━━━━━━━━━━━━━━━━━━\u001b[0m\u001b[37m\u001b[0m \u001b[1m1s\u001b[0m 2ms/step - loss: 0.1933 - my_huber_loss_1: 0.1933 - val_loss: 0.2006 - val_my_huber_loss_1: 0.2005\n",
      "Epoch 13/20\n",
      "\u001b[1m363/363\u001b[0m \u001b[32m━━━━━━━━━━━━━━━━━━━━\u001b[0m\u001b[37m\u001b[0m \u001b[1m1s\u001b[0m 2ms/step - loss: 0.1932 - my_huber_loss_1: 0.1932 - val_loss: 0.1995 - val_my_huber_loss_1: 0.1995\n",
      "Epoch 14/20\n",
      "\u001b[1m363/363\u001b[0m \u001b[32m━━━━━━━━━━━━━━━━━━━━\u001b[0m\u001b[37m\u001b[0m \u001b[1m1s\u001b[0m 2ms/step - loss: 0.1819 - my_huber_loss_1: 0.1819 - val_loss: 0.1995 - val_my_huber_loss_1: 0.1994\n",
      "Epoch 15/20\n",
      "\u001b[1m363/363\u001b[0m \u001b[32m━━━━━━━━━━━━━━━━━━━━\u001b[0m\u001b[37m\u001b[0m \u001b[1m1s\u001b[0m 2ms/step - loss: 0.1854 - my_huber_loss_1: 0.1854 - val_loss: 0.2006 - val_my_huber_loss_1: 0.2006\n",
      "Epoch 16/20\n",
      "\u001b[1m363/363\u001b[0m \u001b[32m━━━━━━━━━━━━━━━━━━━━\u001b[0m\u001b[37m\u001b[0m \u001b[1m1s\u001b[0m 2ms/step - loss: 0.1913 - my_huber_loss_1: 0.1913 - val_loss: 0.1958 - val_my_huber_loss_1: 0.1957\n",
      "Epoch 17/20\n",
      "\u001b[1m363/363\u001b[0m \u001b[32m━━━━━━━━━━━━━━━━━━━━\u001b[0m\u001b[37m\u001b[0m \u001b[1m1s\u001b[0m 2ms/step - loss: 0.1848 - my_huber_loss_1: 0.1848 - val_loss: 0.2008 - val_my_huber_loss_1: 0.2007\n",
      "Epoch 18/20\n",
      "\u001b[1m363/363\u001b[0m \u001b[32m━━━━━━━━━━━━━━━━━━━━\u001b[0m\u001b[37m\u001b[0m \u001b[1m1s\u001b[0m 1ms/step - loss: 0.1834 - my_huber_loss_1: 0.1834 - val_loss: 0.1968 - val_my_huber_loss_1: 0.1967\n",
      "Epoch 19/20\n",
      "\u001b[1m363/363\u001b[0m \u001b[32m━━━━━━━━━━━━━━━━━━━━\u001b[0m\u001b[37m\u001b[0m \u001b[1m1s\u001b[0m 1ms/step - loss: 0.1901 - my_huber_loss_1: 0.1901 - val_loss: 0.1910 - val_my_huber_loss_1: 0.1909\n",
      "Epoch 20/20\n",
      "\u001b[1m363/363\u001b[0m \u001b[32m━━━━━━━━━━━━━━━━━━━━\u001b[0m\u001b[37m\u001b[0m \u001b[1m1s\u001b[0m 2ms/step - loss: 0.1775 - my_huber_loss_1: 0.1775 - val_loss: 0.1977 - val_my_huber_loss_1: 0.1977\n"
     ]
    },
    {
     "data": {
      "text/plain": [
       "<keras.src.callbacks.history.History at 0x7a1d62fcb580>"
      ]
     },
     "execution_count": 45,
     "metadata": {},
     "output_type": "execute_result"
    }
   ],
   "source": [
    "tf.keras.backend.clear_session()\n",
    "\n",
    "# New Model\n",
    "model = tf.keras.models.Sequential([\n",
    "    tf.keras.layers.Dense(30, activation=\"relu\", kernel_initializer=\"he_normal\", input_shape=X_train.shape[1:]),\n",
    "    tf.keras.layers.Dense(1)\n",
    "])\n",
    "\n",
    "# Compiling the model using HuberLoss as a Metric and as a Loss function\n",
    "model.compile(\n",
    "    loss=MyHuberLoss(2.0),\n",
    "    metrics=[MyHuberLoss(2.0)],\n",
    "    optimizer=\"adam\"\n",
    ")\n",
    "\n",
    "# Training the model\n",
    "model.fit(\n",
    "    X_train, y_train, validation_data=(X_valid, y_valid), epochs=20\n",
    ")"
   ]
  },
  {
   "cell_type": "markdown",
   "id": "8edf9f5f",
   "metadata": {
    "papermill": {
     "duration": 0.127222,
     "end_time": "2024-05-16T15:14:27.702559",
     "exception": false,
     "start_time": "2024-05-16T15:14:27.575337",
     "status": "completed"
    },
    "tags": []
   },
   "source": [
    "## Streaming Metrics and The Keras Precision Score class for Classfiers\n",
    "\n",
    "**Streaming Metric**\n",
    "- A streaming metric is one that can be dynamically updated as and when the values are parsed to the precision object."
   ]
  },
  {
   "cell_type": "code",
   "execution_count": 46,
   "id": "ad1e2c13",
   "metadata": {
    "execution": {
     "iopub.execute_input": "2024-05-16T15:14:27.957343Z",
     "iopub.status.busy": "2024-05-16T15:14:27.956604Z",
     "iopub.status.idle": "2024-05-16T15:14:28.011187Z",
     "shell.execute_reply": "2024-05-16T15:14:28.010073Z"
    },
    "papermill": {
     "duration": 0.184087,
     "end_time": "2024-05-16T15:14:28.013629",
     "exception": false,
     "start_time": "2024-05-16T15:14:27.829542",
     "status": "completed"
    },
    "tags": []
   },
   "outputs": [
    {
     "name": "stdout",
     "output_type": "stream",
     "text": [
      "Result after first parse\n",
      " tf.Tensor(0.8, shape=(), dtype=float32)\n",
      "Result after second parse\n",
      " tf.Tensor(0.5, shape=(), dtype=float32)\n"
     ]
    }
   ],
   "source": [
    "# Creating the precision object\n",
    "myPrecisionObject = tf.keras.metrics.Precision()\n",
    "\n",
    "# Called a function that takes Labels, Predictions\n",
    "sample1 = myPrecisionObject([0, 1, 1, 1, 0, 1, 0, 1], [1, 1, 0, 1, 0, 1, 0, 1])\n",
    "print(\"Result after first parse\\n\", sample1)\n",
    "\n",
    "sample2 = myPrecisionObject([0, 1, 0, 0, 1, 0, 1, 1], [1, 0, 1, 1, 0, 0, 0, 0])\n",
    "print(\"Result after second parse\\n\", sample2)"
   ]
  },
  {
   "cell_type": "code",
   "execution_count": 47,
   "id": "a4bf07f6",
   "metadata": {
    "execution": {
     "iopub.execute_input": "2024-05-16T15:14:28.269712Z",
     "iopub.status.busy": "2024-05-16T15:14:28.268706Z",
     "iopub.status.idle": "2024-05-16T15:14:28.276093Z",
     "shell.execute_reply": "2024-05-16T15:14:28.275132Z"
    },
    "papermill": {
     "duration": 0.137853,
     "end_time": "2024-05-16T15:14:28.278027",
     "exception": false,
     "start_time": "2024-05-16T15:14:28.140174",
     "status": "completed"
    },
    "tags": []
   },
   "outputs": [
    {
     "name": "stdout",
     "output_type": "stream",
     "text": [
      "Final Precision Score:  tf.Tensor(0.5, shape=(), dtype=float32)\n"
     ]
    }
   ],
   "source": [
    "print(\"Final Precision Score: \", myPrecisionObject.result())"
   ]
  },
  {
   "cell_type": "markdown",
   "id": "29e04c42",
   "metadata": {
    "papermill": {
     "duration": 0.127522,
     "end_time": "2024-05-16T15:14:28.531695",
     "exception": false,
     "start_time": "2024-05-16T15:14:28.404173",
     "status": "completed"
    },
    "tags": []
   },
   "source": [
    "**Inference**\n",
    "- Due to the dynamic updates to the scores from the streamline metric we can see that the precision score has changed after each pass.\n",
    "- First Pass Precision: 80%\n",
    "- Second Pass Precision: 50%\n",
    "- Final Score: 50%"
   ]
  },
  {
   "cell_type": "code",
   "execution_count": 48,
   "id": "1285446d",
   "metadata": {
    "execution": {
     "iopub.execute_input": "2024-05-16T15:14:28.787709Z",
     "iopub.status.busy": "2024-05-16T15:14:28.786826Z",
     "iopub.status.idle": "2024-05-16T15:14:28.792028Z",
     "shell.execute_reply": "2024-05-16T15:14:28.791129Z"
    },
    "papermill": {
     "duration": 0.135195,
     "end_time": "2024-05-16T15:14:28.794288",
     "exception": false,
     "start_time": "2024-05-16T15:14:28.659093",
     "status": "completed"
    },
    "tags": []
   },
   "outputs": [
    {
     "name": "stdout",
     "output_type": "stream",
     "text": [
      "[<KerasVariable shape=(1,), dtype=float32, path=precision/true_positives>, <KerasVariable shape=(1,), dtype=float32, path=precision/false_positives>]\n"
     ]
    }
   ],
   "source": [
    "# Viewing the Variables used for Precision Tracking\n",
    "print(myPrecisionObject.variables)\n",
    "\n",
    "# The Precision Variables can also be reset\n",
    "# myPrecisionObject.reset_states()"
   ]
  },
  {
   "cell_type": "markdown",
   "id": "7baa5054",
   "metadata": {
    "papermill": {
     "duration": 0.126589,
     "end_time": "2024-05-16T15:14:29.096492",
     "exception": false,
     "start_time": "2024-05-16T15:14:28.969903",
     "status": "completed"
    },
    "tags": []
   },
   "source": [
    "**Additional Functionality**\n",
    "- Once again additional functionality / customisation is accommodated to build custom precision objects by creating a subclass of the Keras API similar to the approach taken in creating custom loss classes.\n",
    "- Here the **`tf.keras.metrics.Metric`** class is utilised."
   ]
  },
  {
   "cell_type": "code",
   "execution_count": 49,
   "id": "f258c0fd",
   "metadata": {
    "execution": {
     "iopub.execute_input": "2024-05-16T15:14:29.354007Z",
     "iopub.status.busy": "2024-05-16T15:14:29.353327Z",
     "iopub.status.idle": "2024-05-16T15:14:29.361398Z",
     "shell.execute_reply": "2024-05-16T15:14:29.360327Z"
    },
    "papermill": {
     "duration": 0.138935,
     "end_time": "2024-05-16T15:14:29.363496",
     "exception": false,
     "start_time": "2024-05-16T15:14:29.224561",
     "status": "completed"
    },
    "tags": []
   },
   "outputs": [],
   "source": [
    "class MyHuberMetric(tf.keras.metrics.Metric):\n",
    "    def __init__(self, threashold=1.0, **kwargs):\n",
    "        super().__init__(**kwargs)\n",
    "        self.threashold = threashold\n",
    "        self.huber_fn = create_huber(threashold)\n",
    "        self.total = self.add_weight(name=\"total\", initializer=\"zeros\")\n",
    "        self.count = self.add_weight(name=\"count\", initializer=\"zeros\")\n",
    "        \n",
    "    def update_state(self, y_true, y_pred, sample_weight=None):\n",
    "        metric = self.huber_fn(y_true, y_pred)\n",
    "        self.total.assign_add(tf.reduce_sum(metric))\n",
    "        self.count.assign_add(tf.cast(tf.size(y_true), tf.float32))\n",
    "        \n",
    "    def result(self):\n",
    "        return self.total / self.count\n",
    "    \n",
    "    def get_config(self):\n",
    "        base_config = super().get_config()\n",
    "        return {**base_config, \"threashold\": self.threashold}"
   ]
  },
  {
   "cell_type": "markdown",
   "id": "fdfb8cf2",
   "metadata": {
    "papermill": {
     "duration": 0.132846,
     "end_time": "2024-05-16T15:14:29.629107",
     "exception": false,
     "start_time": "2024-05-16T15:14:29.496261",
     "status": "completed"
    },
    "tags": []
   },
   "source": [
    "**Working with the Custom Subclass**"
   ]
  },
  {
   "cell_type": "code",
   "execution_count": 50,
   "id": "7558d739",
   "metadata": {
    "execution": {
     "iopub.execute_input": "2024-05-16T15:14:29.884723Z",
     "iopub.status.busy": "2024-05-16T15:14:29.883877Z",
     "iopub.status.idle": "2024-05-16T15:14:29.903808Z",
     "shell.execute_reply": "2024-05-16T15:14:29.902815Z"
    },
    "papermill": {
     "duration": 0.14968,
     "end_time": "2024-05-16T15:14:29.905960",
     "exception": false,
     "start_time": "2024-05-16T15:14:29.756280",
     "status": "completed"
    },
    "tags": []
   },
   "outputs": [
    {
     "name": "stdout",
     "output_type": "stream",
     "text": [
      "Huber Metric Score:  tf.Tensor(14.0, shape=(), dtype=float32)\n",
      "Huber Metric Score:  tf.Tensor(7.0, shape=(), dtype=float32)\n",
      "Huber Metric Result:  tf.Tensor(7.0, shape=(), dtype=float32)\n"
     ]
    }
   ],
   "source": [
    "# Creating an Instance of the Class\n",
    "metric = MyHuberMetric(2.0)\n",
    "\n",
    "metric_score1 = metric(tf.constant([[2.]]), tf.constant([[10.]]))\n",
    "print(\"Huber Metric Score: \", metric_score1)\n",
    "\n",
    "metric_score2 = metric(tf.constant([[0.], [5.]]), tf.constant([[1.], [9.25]]))\n",
    "print(\"Huber Metric Score: \", metric_score2)\n",
    "\n",
    "# Result\n",
    "print(\"Huber Metric Result: \", metric.result())"
   ]
  },
  {
   "cell_type": "code",
   "execution_count": 51,
   "id": "875b6bea",
   "metadata": {
    "execution": {
     "iopub.execute_input": "2024-05-16T15:14:30.177378Z",
     "iopub.status.busy": "2024-05-16T15:14:30.176651Z",
     "iopub.status.idle": "2024-05-16T15:14:42.482377Z",
     "shell.execute_reply": "2024-05-16T15:14:42.481421Z"
    },
    "papermill": {
     "duration": 12.449647,
     "end_time": "2024-05-16T15:14:42.484403",
     "exception": false,
     "start_time": "2024-05-16T15:14:30.034756",
     "status": "completed"
    },
    "tags": []
   },
   "outputs": [
    {
     "name": "stdout",
     "output_type": "stream",
     "text": [
      "Epoch 1/20\n",
      "\u001b[1m363/363\u001b[0m \u001b[32m━━━━━━━━━━━━━━━━━━━━\u001b[0m\u001b[37m\u001b[0m \u001b[1m1s\u001b[0m 2ms/step - loss: 1.5760 - my_huber_metric_1: 1.5760 - val_loss: 0.4338 - val_my_huber_metric_1: 0.4338\n",
      "Epoch 2/20\n",
      "\u001b[1m363/363\u001b[0m \u001b[32m━━━━━━━━━━━━━━━━━━━━\u001b[0m\u001b[37m\u001b[0m \u001b[1m1s\u001b[0m 1ms/step - loss: 0.4192 - my_huber_metric_1: 0.4192 - val_loss: 0.3040 - val_my_huber_metric_1: 0.3040\n",
      "Epoch 3/20\n",
      "\u001b[1m363/363\u001b[0m \u001b[32m━━━━━━━━━━━━━━━━━━━━\u001b[0m\u001b[37m\u001b[0m \u001b[1m1s\u001b[0m 1ms/step - loss: 0.2900 - my_huber_metric_1: 0.2900 - val_loss: 0.2425 - val_my_huber_metric_1: 0.2425\n",
      "Epoch 4/20\n",
      "\u001b[1m363/363\u001b[0m \u001b[32m━━━━━━━━━━━━━━━━━━━━\u001b[0m\u001b[37m\u001b[0m \u001b[1m1s\u001b[0m 1ms/step - loss: 0.2419 - my_huber_metric_1: 0.2419 - val_loss: 0.2291 - val_my_huber_metric_1: 0.2291\n",
      "Epoch 5/20\n",
      "\u001b[1m363/363\u001b[0m \u001b[32m━━━━━━━━━━━━━━━━━━━━\u001b[0m\u001b[37m\u001b[0m \u001b[1m1s\u001b[0m 2ms/step - loss: 0.2198 - my_huber_metric_1: 0.2198 - val_loss: 0.2091 - val_my_huber_metric_1: 0.2091\n",
      "Epoch 6/20\n",
      "\u001b[1m363/363\u001b[0m \u001b[32m━━━━━━━━━━━━━━━━━━━━\u001b[0m\u001b[37m\u001b[0m \u001b[1m1s\u001b[0m 2ms/step - loss: 0.2211 - my_huber_metric_1: 0.2211 - val_loss: 0.2101 - val_my_huber_metric_1: 0.2101\n",
      "Epoch 7/20\n",
      "\u001b[1m363/363\u001b[0m \u001b[32m━━━━━━━━━━━━━━━━━━━━\u001b[0m\u001b[37m\u001b[0m \u001b[1m1s\u001b[0m 2ms/step - loss: 0.2060 - my_huber_metric_1: 0.2060 - val_loss: 0.2065 - val_my_huber_metric_1: 0.2065\n",
      "Epoch 8/20\n",
      "\u001b[1m363/363\u001b[0m \u001b[32m━━━━━━━━━━━━━━━━━━━━\u001b[0m\u001b[37m\u001b[0m \u001b[1m1s\u001b[0m 2ms/step - loss: 0.2047 - my_huber_metric_1: 0.2047 - val_loss: 0.2010 - val_my_huber_metric_1: 0.2010\n",
      "Epoch 9/20\n",
      "\u001b[1m363/363\u001b[0m \u001b[32m━━━━━━━━━━━━━━━━━━━━\u001b[0m\u001b[37m\u001b[0m \u001b[1m1s\u001b[0m 1ms/step - loss: 0.2045 - my_huber_metric_1: 0.2045 - val_loss: 0.2021 - val_my_huber_metric_1: 0.2021\n",
      "Epoch 10/20\n",
      "\u001b[1m363/363\u001b[0m \u001b[32m━━━━━━━━━━━━━━━━━━━━\u001b[0m\u001b[37m\u001b[0m \u001b[1m1s\u001b[0m 1ms/step - loss: 0.2019 - my_huber_metric_1: 0.2019 - val_loss: 0.1982 - val_my_huber_metric_1: 0.1982\n",
      "Epoch 11/20\n",
      "\u001b[1m363/363\u001b[0m \u001b[32m━━━━━━━━━━━━━━━━━━━━\u001b[0m\u001b[37m\u001b[0m \u001b[1m1s\u001b[0m 1ms/step - loss: 0.2029 - my_huber_metric_1: 0.2029 - val_loss: 0.1964 - val_my_huber_metric_1: 0.1964\n",
      "Epoch 12/20\n",
      "\u001b[1m363/363\u001b[0m \u001b[32m━━━━━━━━━━━━━━━━━━━━\u001b[0m\u001b[37m\u001b[0m \u001b[1m1s\u001b[0m 1ms/step - loss: 0.1915 - my_huber_metric_1: 0.1915 - val_loss: 0.2007 - val_my_huber_metric_1: 0.2007\n",
      "Epoch 13/20\n",
      "\u001b[1m363/363\u001b[0m \u001b[32m━━━━━━━━━━━━━━━━━━━━\u001b[0m\u001b[37m\u001b[0m \u001b[1m1s\u001b[0m 1ms/step - loss: 0.1841 - my_huber_metric_1: 0.1841 - val_loss: 0.1956 - val_my_huber_metric_1: 0.1956\n",
      "Epoch 14/20\n",
      "\u001b[1m363/363\u001b[0m \u001b[32m━━━━━━━━━━━━━━━━━━━━\u001b[0m\u001b[37m\u001b[0m \u001b[1m1s\u001b[0m 1ms/step - loss: 0.1918 - my_huber_metric_1: 0.1918 - val_loss: 0.1995 - val_my_huber_metric_1: 0.1995\n",
      "Epoch 15/20\n",
      "\u001b[1m363/363\u001b[0m \u001b[32m━━━━━━━━━━━━━━━━━━━━\u001b[0m\u001b[37m\u001b[0m \u001b[1m1s\u001b[0m 2ms/step - loss: 0.1899 - my_huber_metric_1: 0.1899 - val_loss: 0.1972 - val_my_huber_metric_1: 0.1972\n",
      "Epoch 16/20\n",
      "\u001b[1m363/363\u001b[0m \u001b[32m━━━━━━━━━━━━━━━━━━━━\u001b[0m\u001b[37m\u001b[0m \u001b[1m1s\u001b[0m 2ms/step - loss: 0.1869 - my_huber_metric_1: 0.1869 - val_loss: 0.1968 - val_my_huber_metric_1: 0.1968\n",
      "Epoch 17/20\n",
      "\u001b[1m363/363\u001b[0m \u001b[32m━━━━━━━━━━━━━━━━━━━━\u001b[0m\u001b[37m\u001b[0m \u001b[1m1s\u001b[0m 1ms/step - loss: 0.1852 - my_huber_metric_1: 0.1852 - val_loss: 0.1895 - val_my_huber_metric_1: 0.1895\n",
      "Epoch 18/20\n",
      "\u001b[1m363/363\u001b[0m \u001b[32m━━━━━━━━━━━━━━━━━━━━\u001b[0m\u001b[37m\u001b[0m \u001b[1m1s\u001b[0m 1ms/step - loss: 0.1808 - my_huber_metric_1: 0.1808 - val_loss: 0.1914 - val_my_huber_metric_1: 0.1914\n",
      "Epoch 19/20\n",
      "\u001b[1m363/363\u001b[0m \u001b[32m━━━━━━━━━━━━━━━━━━━━\u001b[0m\u001b[37m\u001b[0m \u001b[1m1s\u001b[0m 2ms/step - loss: 0.1784 - my_huber_metric_1: 0.1784 - val_loss: 0.1895 - val_my_huber_metric_1: 0.1895\n",
      "Epoch 20/20\n",
      "\u001b[1m363/363\u001b[0m \u001b[32m━━━━━━━━━━━━━━━━━━━━\u001b[0m\u001b[37m\u001b[0m \u001b[1m1s\u001b[0m 1ms/step - loss: 0.1787 - my_huber_metric_1: 0.1787 - val_loss: 0.1865 - val_my_huber_metric_1: 0.1865\n"
     ]
    },
    {
     "data": {
      "text/plain": [
       "<keras.src.callbacks.history.History at 0x7a1d4d66b730>"
      ]
     },
     "execution_count": 51,
     "metadata": {},
     "output_type": "execute_result"
    }
   ],
   "source": [
    "# Building a Model to utilise the custom metric\n",
    "custom_metric_model = tf.keras.models.Sequential([\n",
    "    tf.keras.layers.Dense(30, activation=\"relu\", kernel_initializer=\"he_normal\", input_shape=X_train.shape[1:]),\n",
    "    tf.keras.layers.Dense(1)\n",
    "])\n",
    "\n",
    "# Compiling the Model\n",
    "custom_metric_model.compile(\n",
    "    loss=MyHuberLoss(2.0),\n",
    "    metrics=[MyHuberMetric(2.0)],\n",
    "    optimizer=\"adam\"\n",
    ")\n",
    "\n",
    "# Training the Model\n",
    "custom_metric_model.fit(\n",
    "    X_train, y_train, validation_data=(X_valid, y_valid), epochs=20\n",
    ")"
   ]
  },
  {
   "cell_type": "code",
   "execution_count": 52,
   "id": "c24ffce9",
   "metadata": {
    "execution": {
     "iopub.execute_input": "2024-05-16T15:14:42.774969Z",
     "iopub.status.busy": "2024-05-16T15:14:42.773880Z",
     "iopub.status.idle": "2024-05-16T15:14:49.062585Z",
     "shell.execute_reply": "2024-05-16T15:14:49.061503Z"
    },
    "papermill": {
     "duration": 6.436282,
     "end_time": "2024-05-16T15:14:49.064925",
     "exception": false,
     "start_time": "2024-05-16T15:14:42.628643",
     "status": "completed"
    },
    "tags": []
   },
   "outputs": [
    {
     "name": "stdout",
     "output_type": "stream",
     "text": [
      "Epoch 1/10\n",
      "\u001b[1m363/363\u001b[0m \u001b[32m━━━━━━━━━━━━━━━━━━━━\u001b[0m\u001b[37m\u001b[0m \u001b[1m1s\u001b[0m 2ms/step - loss: 0.1736 - my_huber_metric_1: 0.1736 - val_loss: 0.1861 - val_my_huber_metric_1: 0.1861\n",
      "Epoch 2/10\n",
      "\u001b[1m363/363\u001b[0m \u001b[32m━━━━━━━━━━━━━━━━━━━━\u001b[0m\u001b[37m\u001b[0m \u001b[1m1s\u001b[0m 1ms/step - loss: 0.1773 - my_huber_metric_1: 0.1773 - val_loss: 0.1887 - val_my_huber_metric_1: 0.1887\n",
      "Epoch 3/10\n",
      "\u001b[1m363/363\u001b[0m \u001b[32m━━━━━━━━━━━━━━━━━━━━\u001b[0m\u001b[37m\u001b[0m \u001b[1m1s\u001b[0m 2ms/step - loss: 0.1768 - my_huber_metric_1: 0.1768 - val_loss: 0.1886 - val_my_huber_metric_1: 0.1886\n",
      "Epoch 4/10\n",
      "\u001b[1m363/363\u001b[0m \u001b[32m━━━━━━━━━━━━━━━━━━━━\u001b[0m\u001b[37m\u001b[0m \u001b[1m1s\u001b[0m 2ms/step - loss: 0.1790 - my_huber_metric_1: 0.1790 - val_loss: 0.1848 - val_my_huber_metric_1: 0.1848\n",
      "Epoch 5/10\n",
      "\u001b[1m363/363\u001b[0m \u001b[32m━━━━━━━━━━━━━━━━━━━━\u001b[0m\u001b[37m\u001b[0m \u001b[1m1s\u001b[0m 2ms/step - loss: 0.1654 - my_huber_metric_1: 0.1654 - val_loss: 0.1884 - val_my_huber_metric_1: 0.1884\n",
      "Epoch 6/10\n",
      "\u001b[1m363/363\u001b[0m \u001b[32m━━━━━━━━━━━━━━━━━━━━\u001b[0m\u001b[37m\u001b[0m \u001b[1m1s\u001b[0m 1ms/step - loss: 0.1667 - my_huber_metric_1: 0.1667 - val_loss: 0.1815 - val_my_huber_metric_1: 0.1815\n",
      "Epoch 7/10\n",
      "\u001b[1m363/363\u001b[0m \u001b[32m━━━━━━━━━━━━━━━━━━━━\u001b[0m\u001b[37m\u001b[0m \u001b[1m1s\u001b[0m 1ms/step - loss: 0.1684 - my_huber_metric_1: 0.1684 - val_loss: 0.1919 - val_my_huber_metric_1: 0.1919\n",
      "Epoch 8/10\n",
      "\u001b[1m363/363\u001b[0m \u001b[32m━━━━━━━━━━━━━━━━━━━━\u001b[0m\u001b[37m\u001b[0m \u001b[1m1s\u001b[0m 2ms/step - loss: 0.1635 - my_huber_metric_1: 0.1635 - val_loss: 0.1860 - val_my_huber_metric_1: 0.1860\n",
      "Epoch 9/10\n",
      "\u001b[1m363/363\u001b[0m \u001b[32m━━━━━━━━━━━━━━━━━━━━\u001b[0m\u001b[37m\u001b[0m \u001b[1m1s\u001b[0m 1ms/step - loss: 0.1759 - my_huber_metric_1: 0.1759 - val_loss: 0.1824 - val_my_huber_metric_1: 0.1824\n",
      "Epoch 10/10\n",
      "\u001b[1m363/363\u001b[0m \u001b[32m━━━━━━━━━━━━━━━━━━━━\u001b[0m\u001b[37m\u001b[0m \u001b[1m1s\u001b[0m 2ms/step - loss: 0.1575 - my_huber_metric_1: 0.1575 - val_loss: 0.1917 - val_my_huber_metric_1: 0.1917\n"
     ]
    },
    {
     "data": {
      "text/plain": [
       "<keras.src.callbacks.history.History at 0x7a1d4dbc2680>"
      ]
     },
     "execution_count": 52,
     "metadata": {},
     "output_type": "execute_result"
    }
   ],
   "source": [
    "# Saving the Model and Reloading it\n",
    "custom_metric_model.save(\"My_Custom_Metric_Model.keras\")\n",
    "\n",
    "reloaded_custom_metric_model = tf.keras.models.load_model(\n",
    "    filepath=\"My_Custom_Metric_Model.keras\",\n",
    "    custom_objects={\n",
    "        \"MyHuberLoss\": MyHuberLoss,\n",
    "        \"MyHuberMetric\": MyHuberMetric,\n",
    "    }\n",
    ")\n",
    "\n",
    "reloaded_custom_metric_model.fit(\n",
    "    X_train, y_train, validation_data=(X_valid, y_valid), epochs=10\n",
    ")"
   ]
  },
  {
   "cell_type": "markdown",
   "id": "b00e3ac3",
   "metadata": {
    "papermill": {
     "duration": 0.150213,
     "end_time": "2024-05-16T15:14:49.365243",
     "exception": false,
     "start_time": "2024-05-16T15:14:49.215030",
     "status": "completed"
    },
    "tags": []
   },
   "source": [
    "**Designing Custom Layers**\n",
    "--\n",
    "\n",
    "- Custom Layers can be designed to carry parameters or be initialised without parameters.\n",
    "\n",
    "**Layers without parameters**\n",
    "- Custom Layers which do not carry parameters can be initialised using **`tf.keras.layers.Lambda()`**.\n",
    "- The following lambda layer can be used in all of the Keras API's.\n",
    "\n",
    "**Layers with parameters**\n",
    "- Custom layers which carry parameters should be initialised as instances of a custom object which is a subclass of the **`tf.keras.layers.Layer`** class\n",
    "- This process is again inline with the definition of custom loss class, initializers, regularizers and ..."
   ]
  },
  {
   "cell_type": "code",
   "execution_count": 53,
   "id": "30795717",
   "metadata": {
    "execution": {
     "iopub.execute_input": "2024-05-16T15:14:49.673852Z",
     "iopub.status.busy": "2024-05-16T15:14:49.672978Z",
     "iopub.status.idle": "2024-05-16T15:14:49.679429Z",
     "shell.execute_reply": "2024-05-16T15:14:49.678281Z"
    },
    "papermill": {
     "duration": 0.164615,
     "end_time": "2024-05-16T15:14:49.681633",
     "exception": false,
     "start_time": "2024-05-16T15:14:49.517018",
     "status": "completed"
    },
    "tags": []
   },
   "outputs": [],
   "source": [
    "# Defining a Layer without parameters\n",
    "exponential_layer = tf.keras.layers.Lambda(lambda x: tf.exp(x))\n",
    "# exponential_layer([-1, 0, 1])"
   ]
  },
  {
   "cell_type": "code",
   "execution_count": 54,
   "id": "166ca3d8",
   "metadata": {
    "execution": {
     "iopub.execute_input": "2024-05-16T15:14:49.988912Z",
     "iopub.status.busy": "2024-05-16T15:14:49.988161Z",
     "iopub.status.idle": "2024-05-16T15:15:02.451239Z",
     "shell.execute_reply": "2024-05-16T15:15:02.450172Z"
    },
    "papermill": {
     "duration": 12.61904,
     "end_time": "2024-05-16T15:15:02.453403",
     "exception": false,
     "start_time": "2024-05-16T15:14:49.834363",
     "status": "completed"
    },
    "tags": []
   },
   "outputs": [
    {
     "name": "stdout",
     "output_type": "stream",
     "text": [
      "Epoch 1/20\n",
      "\u001b[1m363/363\u001b[0m \u001b[32m━━━━━━━━━━━━━━━━━━━━\u001b[0m\u001b[37m\u001b[0m \u001b[1m1s\u001b[0m 2ms/step - loss: 2.9409 - val_loss: 1.4977\n",
      "Epoch 2/20\n",
      "\u001b[1m363/363\u001b[0m \u001b[32m━━━━━━━━━━━━━━━━━━━━\u001b[0m\u001b[37m\u001b[0m \u001b[1m1s\u001b[0m 1ms/step - loss: 1.2920 - val_loss: 1.1126\n",
      "Epoch 3/20\n",
      "\u001b[1m363/363\u001b[0m \u001b[32m━━━━━━━━━━━━━━━━━━━━\u001b[0m\u001b[37m\u001b[0m \u001b[1m1s\u001b[0m 2ms/step - loss: 0.9284 - val_loss: 0.8730\n",
      "Epoch 4/20\n",
      "\u001b[1m363/363\u001b[0m \u001b[32m━━━━━━━━━━━━━━━━━━━━\u001b[0m\u001b[37m\u001b[0m \u001b[1m1s\u001b[0m 1ms/step - loss: 0.7270 - val_loss: 0.6786\n",
      "Epoch 5/20\n",
      "\u001b[1m363/363\u001b[0m \u001b[32m━━━━━━━━━━━━━━━━━━━━\u001b[0m\u001b[37m\u001b[0m \u001b[1m1s\u001b[0m 1ms/step - loss: 0.6078 - val_loss: 0.5948\n",
      "Epoch 6/20\n",
      "\u001b[1m363/363\u001b[0m \u001b[32m━━━━━━━━━━━━━━━━━━━━\u001b[0m\u001b[37m\u001b[0m \u001b[1m1s\u001b[0m 1ms/step - loss: 0.4978 - val_loss: 0.5572\n",
      "Epoch 7/20\n",
      "\u001b[1m363/363\u001b[0m \u001b[32m━━━━━━━━━━━━━━━━━━━━\u001b[0m\u001b[37m\u001b[0m \u001b[1m1s\u001b[0m 1ms/step - loss: 0.4589 - val_loss: 0.4969\n",
      "Epoch 8/20\n",
      "\u001b[1m363/363\u001b[0m \u001b[32m━━━━━━━━━━━━━━━━━━━━\u001b[0m\u001b[37m\u001b[0m \u001b[1m1s\u001b[0m 1ms/step - loss: 0.4440 - val_loss: 0.5105\n",
      "Epoch 9/20\n",
      "\u001b[1m363/363\u001b[0m \u001b[32m━━━━━━━━━━━━━━━━━━━━\u001b[0m\u001b[37m\u001b[0m \u001b[1m1s\u001b[0m 1ms/step - loss: 0.4250 - val_loss: 0.4933\n",
      "Epoch 10/20\n",
      "\u001b[1m363/363\u001b[0m \u001b[32m━━━━━━━━━━━━━━━━━━━━\u001b[0m\u001b[37m\u001b[0m \u001b[1m1s\u001b[0m 1ms/step - loss: 0.4159 - val_loss: 0.5294\n",
      "Epoch 11/20\n",
      "\u001b[1m363/363\u001b[0m \u001b[32m━━━━━━━━━━━━━━━━━━━━\u001b[0m\u001b[37m\u001b[0m \u001b[1m1s\u001b[0m 1ms/step - loss: 0.4207 - val_loss: 0.5013\n",
      "Epoch 12/20\n",
      "\u001b[1m363/363\u001b[0m \u001b[32m━━━━━━━━━━━━━━━━━━━━\u001b[0m\u001b[37m\u001b[0m \u001b[1m1s\u001b[0m 1ms/step - loss: 0.4171 - val_loss: 0.4782\n",
      "Epoch 13/20\n",
      "\u001b[1m363/363\u001b[0m \u001b[32m━━━━━━━━━━━━━━━━━━━━\u001b[0m\u001b[37m\u001b[0m \u001b[1m1s\u001b[0m 1ms/step - loss: 0.4029 - val_loss: 0.4949\n",
      "Epoch 14/20\n",
      "\u001b[1m363/363\u001b[0m \u001b[32m━━━━━━━━━━━━━━━━━━━━\u001b[0m\u001b[37m\u001b[0m \u001b[1m1s\u001b[0m 1ms/step - loss: 0.3793 - val_loss: 0.4515\n",
      "Epoch 15/20\n",
      "\u001b[1m363/363\u001b[0m \u001b[32m━━━━━━━━━━━━━━━━━━━━\u001b[0m\u001b[37m\u001b[0m \u001b[1m1s\u001b[0m 1ms/step - loss: 0.3906 - val_loss: 0.4599\n",
      "Epoch 16/20\n",
      "\u001b[1m363/363\u001b[0m \u001b[32m━━━━━━━━━━━━━━━━━━━━\u001b[0m\u001b[37m\u001b[0m \u001b[1m1s\u001b[0m 1ms/step - loss: 0.3953 - val_loss: 0.4719\n",
      "Epoch 17/20\n",
      "\u001b[1m363/363\u001b[0m \u001b[32m━━━━━━━━━━━━━━━━━━━━\u001b[0m\u001b[37m\u001b[0m \u001b[1m1s\u001b[0m 1ms/step - loss: 0.3829 - val_loss: 0.4442\n",
      "Epoch 18/20\n",
      "\u001b[1m363/363\u001b[0m \u001b[32m━━━━━━━━━━━━━━━━━━━━\u001b[0m\u001b[37m\u001b[0m \u001b[1m1s\u001b[0m 1ms/step - loss: 0.3774 - val_loss: 0.4452\n",
      "Epoch 19/20\n",
      "\u001b[1m363/363\u001b[0m \u001b[32m━━━━━━━━━━━━━━━━━━━━\u001b[0m\u001b[37m\u001b[0m \u001b[1m1s\u001b[0m 1ms/step - loss: 0.3787 - val_loss: 0.4573\n",
      "Epoch 20/20\n",
      "\u001b[1m363/363\u001b[0m \u001b[32m━━━━━━━━━━━━━━━━━━━━\u001b[0m\u001b[37m\u001b[0m \u001b[1m1s\u001b[0m 1ms/step - loss: 0.3795 - val_loss: 0.4164\n"
     ]
    },
    {
     "data": {
      "text/plain": [
       "<keras.src.callbacks.history.History at 0x7a1d4dca4f40>"
      ]
     },
     "execution_count": 54,
     "metadata": {},
     "output_type": "execute_result"
    }
   ],
   "source": [
    "# Using the custom defined exponential layer in a model\n",
    "exp_model = tf.keras.models.Sequential([\n",
    "    tf.keras.layers.Dense(30, activation=\"relu\", kernel_initializer=\"he_normal\", input_shape=X_train.shape[1:]),\n",
    "    tf.keras.layers.Dense(1),\n",
    "    exponential_layer\n",
    "])\n",
    "\n",
    "# Compiling the Model\n",
    "exp_model.compile(\n",
    "    loss=\"mse\",\n",
    "    optimizer=\"adam\"\n",
    ")\n",
    "\n",
    "# Training the model\n",
    "exp_model.fit(\n",
    "    X_train, y_train, validation_data=(X_valid, y_valid), epochs=20\n",
    ")"
   ]
  },
  {
   "cell_type": "code",
   "execution_count": 55,
   "id": "fa74f285",
   "metadata": {
    "execution": {
     "iopub.execute_input": "2024-05-16T15:15:02.830621Z",
     "iopub.status.busy": "2024-05-16T15:15:02.829962Z",
     "iopub.status.idle": "2024-05-16T15:15:02.838176Z",
     "shell.execute_reply": "2024-05-16T15:15:02.837239Z"
    },
    "papermill": {
     "duration": 0.225871,
     "end_time": "2024-05-16T15:15:02.840280",
     "exception": false,
     "start_time": "2024-05-16T15:15:02.614409",
     "status": "completed"
    },
    "tags": []
   },
   "outputs": [],
   "source": [
    "# Creating layers with Parameters using subclass of the Keras Layers API\n",
    "class MyDense(tf.keras.layers.Layer):\n",
    "    def __init__(self, units, activation=None, **kwargs):\n",
    "        \n",
    "        # Inheriting all the parent properties from the API\n",
    "        super().__init__(**kwargs)\n",
    "        \n",
    "        # Defining the other instance variables\n",
    "        self.units = units\n",
    "        self.activation = tf.keras.activations.get(activation)\n",
    "        \n",
    "    def build(self, batch_input_shape):\n",
    "        \n",
    "        # Defining the size and initialising the weight matrix\n",
    "        self.kernel = self.add_weight(\n",
    "            name=\"kernel\", shape=[batch_input_shape[-1], self.units], initializer=\"he_normal\"\n",
    "        )\n",
    "        \n",
    "        # Defining the size and initializing the bias matrix\n",
    "        self.bias = self.add_weight(\n",
    "            name=\"bias\", shape=[self.units], initializer=\"zeros\"\n",
    "        )\n",
    "        \n",
    "    def call(self, X):\n",
    "        \n",
    "        # Computing the values for the layer based on the recieved input\n",
    "        return self.activation(X @ self.kernel + self.bias)\n",
    "    \n",
    "    def get_config(self):\n",
    "        \n",
    "        # Stores the updated configuration of the layer with its units and activation\n",
    "        base_config = super().get_config()\n",
    "        return {**base_config, \"units\": self.units, \"activation\": tf.keras.activations.serialize(self.activation)}"
   ]
  },
  {
   "cell_type": "markdown",
   "id": "475e381d",
   "metadata": {
    "papermill": {
     "duration": 0.159084,
     "end_time": "2024-05-16T15:15:03.161913",
     "exception": false,
     "start_time": "2024-05-16T15:15:03.002829",
     "status": "completed"
    },
    "tags": []
   },
   "source": [
    "**Important**\n",
    "- **kwargs**: Takes care of all the other necessary instance variables required by the layer such as `input_shape`, `trainable`, `name`, ...\n",
    "- **build()**: Is only called by the class when the layer is being created for the first time. It ensures all the layer sizes are inaccordance to the outflux from the previous layer and the outflux of the current layer.\n",
    "- **call()**: Performs the necessary operation to complete forward propagation for the current layer."
   ]
  },
  {
   "cell_type": "code",
   "execution_count": 56,
   "id": "87b397ec",
   "metadata": {
    "execution": {
     "iopub.execute_input": "2024-05-16T15:15:03.489229Z",
     "iopub.status.busy": "2024-05-16T15:15:03.488852Z",
     "iopub.status.idle": "2024-05-16T15:15:15.609448Z",
     "shell.execute_reply": "2024-05-16T15:15:15.608317Z"
    },
    "papermill": {
     "duration": 12.288028,
     "end_time": "2024-05-16T15:15:15.611610",
     "exception": false,
     "start_time": "2024-05-16T15:15:03.323582",
     "status": "completed"
    },
    "tags": []
   },
   "outputs": [
    {
     "name": "stdout",
     "output_type": "stream",
     "text": [
      "Epoch 1/20\n"
     ]
    },
    {
     "name": "stderr",
     "output_type": "stream",
     "text": [
      "/tmp/ipykernel_18/2696998629.py:6: UserWarning: Do not pass an `input_shape`/`input_dim` argument to a layer. When using Sequential models, prefer using an `Input(shape)` object as the first layer in the model instead.\n",
      "  super().__init__(**kwargs)\n"
     ]
    },
    {
     "name": "stdout",
     "output_type": "stream",
     "text": [
      "\u001b[1m363/363\u001b[0m \u001b[32m━━━━━━━━━━━━━━━━━━━━\u001b[0m\u001b[37m\u001b[0m \u001b[1m2s\u001b[0m 2ms/step - loss: 2.3217 - val_loss: 0.7967\n",
      "Epoch 2/20\n",
      "\u001b[1m363/363\u001b[0m \u001b[32m━━━━━━━━━━━━━━━━━━━━\u001b[0m\u001b[37m\u001b[0m \u001b[1m1s\u001b[0m 1ms/step - loss: 0.6968 - val_loss: 0.6490\n",
      "Epoch 3/20\n",
      "\u001b[1m363/363\u001b[0m \u001b[32m━━━━━━━━━━━━━━━━━━━━\u001b[0m\u001b[37m\u001b[0m \u001b[1m1s\u001b[0m 1ms/step - loss: 0.5913 - val_loss: 0.5579\n",
      "Epoch 4/20\n",
      "\u001b[1m363/363\u001b[0m \u001b[32m━━━━━━━━━━━━━━━━━━━━\u001b[0m\u001b[37m\u001b[0m \u001b[1m1s\u001b[0m 1ms/step - loss: 0.5269 - val_loss: 0.5091\n",
      "Epoch 5/20\n",
      "\u001b[1m363/363\u001b[0m \u001b[32m━━━━━━━━━━━━━━━━━━━━\u001b[0m\u001b[37m\u001b[0m \u001b[1m1s\u001b[0m 1ms/step - loss: 0.4765 - val_loss: 0.4693\n",
      "Epoch 6/20\n",
      "\u001b[1m363/363\u001b[0m \u001b[32m━━━━━━━━━━━━━━━━━━━━\u001b[0m\u001b[37m\u001b[0m \u001b[1m1s\u001b[0m 1ms/step - loss: 0.4331 - val_loss: 0.4498\n",
      "Epoch 7/20\n",
      "\u001b[1m363/363\u001b[0m \u001b[32m━━━━━━━━━━━━━━━━━━━━\u001b[0m\u001b[37m\u001b[0m \u001b[1m1s\u001b[0m 1ms/step - loss: 0.4137 - val_loss: 0.4340\n",
      "Epoch 8/20\n",
      "\u001b[1m363/363\u001b[0m \u001b[32m━━━━━━━━━━━━━━━━━━━━\u001b[0m\u001b[37m\u001b[0m \u001b[1m1s\u001b[0m 1ms/step - loss: 0.4105 - val_loss: 0.4263\n",
      "Epoch 9/20\n",
      "\u001b[1m363/363\u001b[0m \u001b[32m━━━━━━━━━━━━━━━━━━━━\u001b[0m\u001b[37m\u001b[0m \u001b[1m1s\u001b[0m 1ms/step - loss: 0.4097 - val_loss: 0.4195\n",
      "Epoch 10/20\n",
      "\u001b[1m363/363\u001b[0m \u001b[32m━━━━━━━━━━━━━━━━━━━━\u001b[0m\u001b[37m\u001b[0m \u001b[1m1s\u001b[0m 1ms/step - loss: 0.3901 - val_loss: 0.4336\n",
      "Epoch 11/20\n",
      "\u001b[1m363/363\u001b[0m \u001b[32m━━━━━━━━━━━━━━━━━━━━\u001b[0m\u001b[37m\u001b[0m \u001b[1m1s\u001b[0m 2ms/step - loss: 0.4083 - val_loss: 0.4257\n",
      "Epoch 12/20\n",
      "\u001b[1m363/363\u001b[0m \u001b[32m━━━━━━━━━━━━━━━━━━━━\u001b[0m\u001b[37m\u001b[0m \u001b[1m1s\u001b[0m 1ms/step - loss: 0.4154 - val_loss: 0.4189\n",
      "Epoch 13/20\n",
      "\u001b[1m363/363\u001b[0m \u001b[32m━━━━━━━━━━━━━━━━━━━━\u001b[0m\u001b[37m\u001b[0m \u001b[1m1s\u001b[0m 1ms/step - loss: 0.3840 - val_loss: 0.4104\n",
      "Epoch 14/20\n",
      "\u001b[1m363/363\u001b[0m \u001b[32m━━━━━━━━━━━━━━━━━━━━\u001b[0m\u001b[37m\u001b[0m \u001b[1m1s\u001b[0m 1ms/step - loss: 0.3901 - val_loss: 0.4159\n",
      "Epoch 15/20\n",
      "\u001b[1m363/363\u001b[0m \u001b[32m━━━━━━━━━━━━━━━━━━━━\u001b[0m\u001b[37m\u001b[0m \u001b[1m1s\u001b[0m 1ms/step - loss: 0.3783 - val_loss: 0.4159\n",
      "Epoch 16/20\n",
      "\u001b[1m363/363\u001b[0m \u001b[32m━━━━━━━━━━━━━━━━━━━━\u001b[0m\u001b[37m\u001b[0m \u001b[1m1s\u001b[0m 1ms/step - loss: 0.3806 - val_loss: 0.4151\n",
      "Epoch 17/20\n",
      "\u001b[1m363/363\u001b[0m \u001b[32m━━━━━━━━━━━━━━━━━━━━\u001b[0m\u001b[37m\u001b[0m \u001b[1m1s\u001b[0m 1ms/step - loss: 0.3787 - val_loss: 0.4184\n",
      "Epoch 18/20\n",
      "\u001b[1m363/363\u001b[0m \u001b[32m━━━━━━━━━━━━━━━━━━━━\u001b[0m\u001b[37m\u001b[0m \u001b[1m1s\u001b[0m 1ms/step - loss: 0.3777 - val_loss: 0.4068\n",
      "Epoch 19/20\n",
      "\u001b[1m363/363\u001b[0m \u001b[32m━━━━━━━━━━━━━━━━━━━━\u001b[0m\u001b[37m\u001b[0m \u001b[1m1s\u001b[0m 1ms/step - loss: 0.3687 - val_loss: 0.3968\n",
      "Epoch 20/20\n",
      "\u001b[1m363/363\u001b[0m \u001b[32m━━━━━━━━━━━━━━━━━━━━\u001b[0m\u001b[37m\u001b[0m \u001b[1m1s\u001b[0m 1ms/step - loss: 0.3677 - val_loss: 0.4015\n"
     ]
    },
    {
     "data": {
      "text/plain": [
       "<keras.src.callbacks.history.History at 0x7a1d4da38cd0>"
      ]
     },
     "execution_count": 56,
     "metadata": {},
     "output_type": "execute_result"
    }
   ],
   "source": [
    "# Using the Subclass from above to build a model\n",
    "custom_layer_model = tf.keras.models.Sequential([\n",
    "    MyDense(30, activation=\"relu\", input_shape=X_train.shape[1:]),\n",
    "    MyDense(1)\n",
    "])\n",
    "\n",
    "# Compiling the model\n",
    "custom_layer_model.compile(\n",
    "    loss=\"mse\",\n",
    "    optimizer=\"nadam\"\n",
    ")\n",
    "\n",
    "# Training the model\n",
    "custom_layer_model.fit(\n",
    "    X_train, y_train, validation_data=(X_valid, y_valid), epochs=20\n",
    ")"
   ]
  },
  {
   "cell_type": "code",
   "execution_count": 57,
   "id": "a0cc3d42",
   "metadata": {
    "execution": {
     "iopub.execute_input": "2024-05-16T15:15:15.965903Z",
     "iopub.status.busy": "2024-05-16T15:15:15.965096Z",
     "iopub.status.idle": "2024-05-16T15:15:22.130113Z",
     "shell.execute_reply": "2024-05-16T15:15:22.129068Z"
    },
    "papermill": {
     "duration": 6.342677,
     "end_time": "2024-05-16T15:15:22.132241",
     "exception": false,
     "start_time": "2024-05-16T15:15:15.789564",
     "status": "completed"
    },
    "tags": []
   },
   "outputs": [
    {
     "name": "stdout",
     "output_type": "stream",
     "text": [
      "Epoch 1/10\n",
      "\u001b[1m363/363\u001b[0m \u001b[32m━━━━━━━━━━━━━━━━━━━━\u001b[0m\u001b[37m\u001b[0m \u001b[1m1s\u001b[0m 2ms/step - loss: 0.3764 - val_loss: 0.4079\n",
      "Epoch 2/10\n",
      "\u001b[1m363/363\u001b[0m \u001b[32m━━━━━━━━━━━━━━━━━━━━\u001b[0m\u001b[37m\u001b[0m \u001b[1m1s\u001b[0m 1ms/step - loss: 0.3791 - val_loss: 0.3993\n",
      "Epoch 3/10\n",
      "\u001b[1m363/363\u001b[0m \u001b[32m━━━━━━━━━━━━━━━━━━━━\u001b[0m\u001b[37m\u001b[0m \u001b[1m1s\u001b[0m 1ms/step - loss: 0.3586 - val_loss: 0.3887\n",
      "Epoch 4/10\n",
      "\u001b[1m363/363\u001b[0m \u001b[32m━━━━━━━━━━━━━━━━━━━━\u001b[0m\u001b[37m\u001b[0m \u001b[1m1s\u001b[0m 1ms/step - loss: 0.3568 - val_loss: 0.4097\n",
      "Epoch 5/10\n",
      "\u001b[1m363/363\u001b[0m \u001b[32m━━━━━━━━━━━━━━━━━━━━\u001b[0m\u001b[37m\u001b[0m \u001b[1m1s\u001b[0m 1ms/step - loss: 0.3515 - val_loss: 0.4069\n",
      "Epoch 6/10\n",
      "\u001b[1m363/363\u001b[0m \u001b[32m━━━━━━━━━━━━━━━━━━━━\u001b[0m\u001b[37m\u001b[0m \u001b[1m1s\u001b[0m 1ms/step - loss: 0.3624 - val_loss: 0.4112\n",
      "Epoch 7/10\n",
      "\u001b[1m363/363\u001b[0m \u001b[32m━━━━━━━━━━━━━━━━━━━━\u001b[0m\u001b[37m\u001b[0m \u001b[1m1s\u001b[0m 2ms/step - loss: 0.3486 - val_loss: 0.4039\n",
      "Epoch 8/10\n",
      "\u001b[1m363/363\u001b[0m \u001b[32m━━━━━━━━━━━━━━━━━━━━\u001b[0m\u001b[37m\u001b[0m \u001b[1m1s\u001b[0m 1ms/step - loss: 0.3413 - val_loss: 0.4048\n",
      "Epoch 9/10\n",
      "\u001b[1m363/363\u001b[0m \u001b[32m━━━━━━━━━━━━━━━━━━━━\u001b[0m\u001b[37m\u001b[0m \u001b[1m1s\u001b[0m 1ms/step - loss: 0.3576 - val_loss: 0.3917\n",
      "Epoch 10/10\n",
      "\u001b[1m363/363\u001b[0m \u001b[32m━━━━━━━━━━━━━━━━━━━━\u001b[0m\u001b[37m\u001b[0m \u001b[1m1s\u001b[0m 1ms/step - loss: 0.3512 - val_loss: 0.3920\n"
     ]
    },
    {
     "data": {
      "text/plain": [
       "<keras.src.callbacks.history.History at 0x7a1d4d839630>"
      ]
     },
     "execution_count": 57,
     "metadata": {},
     "output_type": "execute_result"
    }
   ],
   "source": [
    "# Saving the model and reloading the configuration of the model\n",
    "custom_layer_model.save(\"my_custom_layer_model.keras\")\n",
    "\n",
    "reloaded_custom_layer_model = tf.keras.models.load_model(\n",
    "    filepath=\"my_custom_layer_model.keras\",\n",
    "    custom_objects={\n",
    "        \"MyDense\": MyDense\n",
    "    }\n",
    ")\n",
    "\n",
    "reloaded_custom_layer_model.fit(\n",
    "    X_train, y_train, validation_data=(X_valid, y_valid), epochs=10\n",
    ")"
   ]
  },
  {
   "cell_type": "markdown",
   "id": "9d3280cb",
   "metadata": {
    "papermill": {
     "duration": 0.179057,
     "end_time": "2024-05-16T15:15:22.491863",
     "exception": false,
     "start_time": "2024-05-16T15:15:22.312806",
     "status": "completed"
    },
    "tags": []
   },
   "source": [
    "**Important**\n",
    "- Thus the saved model has retained the hyperparameters of each layer.\n",
    "- It has also retained the configuration of each activation function used in the layers of the model."
   ]
  },
  {
   "cell_type": "markdown",
   "id": "a81f5e6b",
   "metadata": {
    "papermill": {
     "duration": 0.185952,
     "end_time": "2024-05-16T15:15:22.861686",
     "exception": false,
     "start_time": "2024-05-16T15:15:22.675734",
     "status": "completed"
    },
    "tags": []
   },
   "source": [
    "**Custom Layers with Multiple Inputs**\n",
    "\n",
    "- When working with a layer that takes multiple inputs we can no longer utilise the Keras Sequential API.\n",
    "- The below layer can be thus used in the Keras Functional and Model Subclassing API's to build a deep learning model."
   ]
  },
  {
   "cell_type": "code",
   "execution_count": 58,
   "id": "83a0506e",
   "metadata": {
    "execution": {
     "iopub.execute_input": "2024-05-16T15:15:23.233709Z",
     "iopub.status.busy": "2024-05-16T15:15:23.233324Z",
     "iopub.status.idle": "2024-05-16T15:15:23.239284Z",
     "shell.execute_reply": "2024-05-16T15:15:23.238247Z"
    },
    "papermill": {
     "duration": 0.194623,
     "end_time": "2024-05-16T15:15:23.241343",
     "exception": false,
     "start_time": "2024-05-16T15:15:23.046720",
     "status": "completed"
    },
    "tags": []
   },
   "outputs": [],
   "source": [
    "class MultiInputLayer(tf.keras.layers.Layer):\n",
    "    \n",
    "    # Since the layer takes multiple inputs, the call method expects a tuple of all the necessary inputs\n",
    "    def call(self, X):\n",
    "        \n",
    "        # Expecting two inputs\n",
    "        X1, X2 = X\n",
    "        print(\"Shape of Input - 1: \", X1.shape)\n",
    "        print(\"Shape of Input - 2: \", X2.shape)\n",
    "        \n",
    "        # Output from the given layer\n",
    "        return X1 + X2, X1 * X2, X1 ** 2 - X1"
   ]
  },
  {
   "cell_type": "code",
   "execution_count": 59,
   "id": "04fdae1c",
   "metadata": {
    "execution": {
     "iopub.execute_input": "2024-05-16T15:15:23.676687Z",
     "iopub.status.busy": "2024-05-16T15:15:23.676303Z",
     "iopub.status.idle": "2024-05-16T15:15:23.704517Z",
     "shell.execute_reply": "2024-05-16T15:15:23.703354Z"
    },
    "papermill": {
     "duration": 0.22758,
     "end_time": "2024-05-16T15:15:23.706635",
     "exception": false,
     "start_time": "2024-05-16T15:15:23.479055",
     "status": "completed"
    },
    "tags": []
   },
   "outputs": [
    {
     "name": "stdout",
     "output_type": "stream",
     "text": [
      "Shape of Input - 1:  (None, 3)\n",
      "Shape of Input - 2:  (None, 3)\n"
     ]
    },
    {
     "data": {
      "text/plain": [
       "(<KerasTensor shape=(None, 3), dtype=float32, sparse=False, name=keras_tensor_23>,\n",
       " <KerasTensor shape=(None, 3), dtype=float32, sparse=False, name=keras_tensor_24>,\n",
       " <KerasTensor shape=(None, 3), dtype=float32, sparse=False, name=keras_tensor_25>)"
      ]
     },
     "execution_count": 59,
     "metadata": {},
     "output_type": "execute_result"
    }
   ],
   "source": [
    "# Building a model\n",
    "input_1 = tf.keras.layers.Input(shape=[3])\n",
    "input_2 = tf.keras.layers.Input(shape=[3])\n",
    "\n",
    "# Chaining the Inputs to the Custom Layer\n",
    "MultiInputLayer()((input_1, input_2))"
   ]
  },
  {
   "cell_type": "code",
   "execution_count": 60,
   "id": "e894ea46",
   "metadata": {
    "execution": {
     "iopub.execute_input": "2024-05-16T15:15:24.090893Z",
     "iopub.status.busy": "2024-05-16T15:15:24.090491Z",
     "iopub.status.idle": "2024-05-16T15:15:24.125026Z",
     "shell.execute_reply": "2024-05-16T15:15:24.124018Z"
    },
    "papermill": {
     "duration": 0.22322,
     "end_time": "2024-05-16T15:15:24.127078",
     "exception": false,
     "start_time": "2024-05-16T15:15:23.903858",
     "status": "completed"
    },
    "tags": []
   },
   "outputs": [
    {
     "name": "stdout",
     "output_type": "stream",
     "text": [
      "Shape of Input - 1:  (None, 3)\n",
      "Shape of Input - 2:  (None, 3)\n",
      "\n"
     ]
    },
    {
     "data": {
      "text/html": [
       "<pre style=\"white-space:pre;overflow-x:auto;line-height:normal;font-family:Menlo,'DejaVu Sans Mono',consolas,'Courier New',monospace\"><span style=\"font-weight: bold\">Model: \"functional_9\"</span>\n",
       "</pre>\n"
      ],
      "text/plain": [
       "\u001b[1mModel: \"functional_9\"\u001b[0m\n"
      ]
     },
     "metadata": {},
     "output_type": "display_data"
    },
    {
     "data": {
      "text/html": [
       "<pre style=\"white-space:pre;overflow-x:auto;line-height:normal;font-family:Menlo,'DejaVu Sans Mono',consolas,'Courier New',monospace\">┏━━━━━━━━━━━━━━━━━━━━━┳━━━━━━━━━━━━━━━━━━━┳━━━━━━━━━━━━┳━━━━━━━━━━━━━━━━━━━┓\n",
       "┃<span style=\"font-weight: bold\"> Layer (type)        </span>┃<span style=\"font-weight: bold\"> Output Shape      </span>┃<span style=\"font-weight: bold\">    Param # </span>┃<span style=\"font-weight: bold\"> Connected to      </span>┃\n",
       "┡━━━━━━━━━━━━━━━━━━━━━╇━━━━━━━━━━━━━━━━━━━╇━━━━━━━━━━━━╇━━━━━━━━━━━━━━━━━━━┩\n",
       "│ input_layer_4       │ (<span style=\"color: #00d7ff; text-decoration-color: #00d7ff\">None</span>, <span style=\"color: #00af00; text-decoration-color: #00af00\">3</span>)         │          <span style=\"color: #00af00; text-decoration-color: #00af00\">0</span> │ -                 │\n",
       "│ (<span style=\"color: #0087ff; text-decoration-color: #0087ff\">InputLayer</span>)        │                   │            │                   │\n",
       "├─────────────────────┼───────────────────┼────────────┼───────────────────┤\n",
       "│ input_layer_5       │ (<span style=\"color: #00d7ff; text-decoration-color: #00d7ff\">None</span>, <span style=\"color: #00af00; text-decoration-color: #00af00\">3</span>)         │          <span style=\"color: #00af00; text-decoration-color: #00af00\">0</span> │ -                 │\n",
       "│ (<span style=\"color: #0087ff; text-decoration-color: #0087ff\">InputLayer</span>)        │                   │            │                   │\n",
       "├─────────────────────┼───────────────────┼────────────┼───────────────────┤\n",
       "│ multi_input_layer_1 │ [(<span style=\"color: #00d7ff; text-decoration-color: #00d7ff\">None</span>, <span style=\"color: #00af00; text-decoration-color: #00af00\">3</span>),       │          <span style=\"color: #00af00; text-decoration-color: #00af00\">0</span> │ input_layer_4[<span style=\"color: #00af00; text-decoration-color: #00af00\">0</span>]… │\n",
       "│ (<span style=\"color: #0087ff; text-decoration-color: #0087ff\">MultiInputLayer</span>)   │ (<span style=\"color: #00d7ff; text-decoration-color: #00d7ff\">None</span>, <span style=\"color: #00af00; text-decoration-color: #00af00\">3</span>), (<span style=\"color: #00d7ff; text-decoration-color: #00d7ff\">None</span>, │            │ input_layer_5[<span style=\"color: #00af00; text-decoration-color: #00af00\">0</span>]… │\n",
       "│                     │ <span style=\"color: #00af00; text-decoration-color: #00af00\">3</span>)]               │            │                   │\n",
       "└─────────────────────┴───────────────────┴────────────┴───────────────────┘\n",
       "</pre>\n"
      ],
      "text/plain": [
       "┏━━━━━━━━━━━━━━━━━━━━━┳━━━━━━━━━━━━━━━━━━━┳━━━━━━━━━━━━┳━━━━━━━━━━━━━━━━━━━┓\n",
       "┃\u001b[1m \u001b[0m\u001b[1mLayer (type)       \u001b[0m\u001b[1m \u001b[0m┃\u001b[1m \u001b[0m\u001b[1mOutput Shape     \u001b[0m\u001b[1m \u001b[0m┃\u001b[1m \u001b[0m\u001b[1m   Param #\u001b[0m\u001b[1m \u001b[0m┃\u001b[1m \u001b[0m\u001b[1mConnected to     \u001b[0m\u001b[1m \u001b[0m┃\n",
       "┡━━━━━━━━━━━━━━━━━━━━━╇━━━━━━━━━━━━━━━━━━━╇━━━━━━━━━━━━╇━━━━━━━━━━━━━━━━━━━┩\n",
       "│ input_layer_4       │ (\u001b[38;5;45mNone\u001b[0m, \u001b[38;5;34m3\u001b[0m)         │          \u001b[38;5;34m0\u001b[0m │ -                 │\n",
       "│ (\u001b[38;5;33mInputLayer\u001b[0m)        │                   │            │                   │\n",
       "├─────────────────────┼───────────────────┼────────────┼───────────────────┤\n",
       "│ input_layer_5       │ (\u001b[38;5;45mNone\u001b[0m, \u001b[38;5;34m3\u001b[0m)         │          \u001b[38;5;34m0\u001b[0m │ -                 │\n",
       "│ (\u001b[38;5;33mInputLayer\u001b[0m)        │                   │            │                   │\n",
       "├─────────────────────┼───────────────────┼────────────┼───────────────────┤\n",
       "│ multi_input_layer_1 │ [(\u001b[38;5;45mNone\u001b[0m, \u001b[38;5;34m3\u001b[0m),       │          \u001b[38;5;34m0\u001b[0m │ input_layer_4[\u001b[38;5;34m0\u001b[0m]… │\n",
       "│ (\u001b[38;5;33mMultiInputLayer\u001b[0m)   │ (\u001b[38;5;45mNone\u001b[0m, \u001b[38;5;34m3\u001b[0m), (\u001b[38;5;45mNone\u001b[0m, │            │ input_layer_5[\u001b[38;5;34m0\u001b[0m]… │\n",
       "│                     │ \u001b[38;5;34m3\u001b[0m)]               │            │                   │\n",
       "└─────────────────────┴───────────────────┴────────────┴───────────────────┘\n"
      ]
     },
     "metadata": {},
     "output_type": "display_data"
    },
    {
     "data": {
      "text/html": [
       "<pre style=\"white-space:pre;overflow-x:auto;line-height:normal;font-family:Menlo,'DejaVu Sans Mono',consolas,'Courier New',monospace\"><span style=\"font-weight: bold\"> Total params: </span><span style=\"color: #00af00; text-decoration-color: #00af00\">0</span> (0.00 B)\n",
       "</pre>\n"
      ],
      "text/plain": [
       "\u001b[1m Total params: \u001b[0m\u001b[38;5;34m0\u001b[0m (0.00 B)\n"
      ]
     },
     "metadata": {},
     "output_type": "display_data"
    },
    {
     "data": {
      "text/html": [
       "<pre style=\"white-space:pre;overflow-x:auto;line-height:normal;font-family:Menlo,'DejaVu Sans Mono',consolas,'Courier New',monospace\"><span style=\"font-weight: bold\"> Trainable params: </span><span style=\"color: #00af00; text-decoration-color: #00af00\">0</span> (0.00 B)\n",
       "</pre>\n"
      ],
      "text/plain": [
       "\u001b[1m Trainable params: \u001b[0m\u001b[38;5;34m0\u001b[0m (0.00 B)\n"
      ]
     },
     "metadata": {},
     "output_type": "display_data"
    },
    {
     "data": {
      "text/html": [
       "<pre style=\"white-space:pre;overflow-x:auto;line-height:normal;font-family:Menlo,'DejaVu Sans Mono',consolas,'Courier New',monospace\"><span style=\"font-weight: bold\"> Non-trainable params: </span><span style=\"color: #00af00; text-decoration-color: #00af00\">0</span> (0.00 B)\n",
       "</pre>\n"
      ],
      "text/plain": [
       "\u001b[1m Non-trainable params: \u001b[0m\u001b[38;5;34m0\u001b[0m (0.00 B)\n"
      ]
     },
     "metadata": {},
     "output_type": "display_data"
    }
   ],
   "source": [
    "output_layer = MultiInputLayer()((input_1, input_2))\n",
    "\n",
    "# Multiple Input Model\n",
    "multi_input_model = tf.keras.models.Model(inputs=[input_1, input_2], outputs=output_layer)\n",
    "print()\n",
    "multi_input_model.summary()"
   ]
  },
  {
   "cell_type": "markdown",
   "id": "e53144df",
   "metadata": {
    "papermill": {
     "duration": 0.185243,
     "end_time": "2024-05-16T15:15:24.494833",
     "exception": false,
     "start_time": "2024-05-16T15:15:24.309590",
     "status": "completed"
    },
    "tags": []
   },
   "source": [
    "**Important**\n",
    "- If the model provides asymmetric input sizes then a custom `compute_output_shape()` must be defined to provide keras an idea of the output shape from the custom layer"
   ]
  },
  {
   "cell_type": "code",
   "execution_count": 61,
   "id": "61150d01",
   "metadata": {
    "execution": {
     "iopub.execute_input": "2024-05-16T15:15:24.863984Z",
     "iopub.status.busy": "2024-05-16T15:15:24.863592Z",
     "iopub.status.idle": "2024-05-16T15:15:24.876184Z",
     "shell.execute_reply": "2024-05-16T15:15:24.875162Z"
    },
    "papermill": {
     "duration": 0.199191,
     "end_time": "2024-05-16T15:15:24.878125",
     "exception": false,
     "start_time": "2024-05-16T15:15:24.678934",
     "status": "completed"
    },
    "tags": []
   },
   "outputs": [
    {
     "name": "stdout",
     "output_type": "stream",
     "text": [
      "Shape of Input - 1:  (3,)\n",
      "Shape of Input - 2:  (3,)\n"
     ]
    },
    {
     "data": {
      "text/plain": [
       "(<tf.Tensor: shape=(3,), dtype=float32, numpy=array([5., 7., 9.], dtype=float32)>,\n",
       " <tf.Tensor: shape=(3,), dtype=float32, numpy=array([ 4., 10., 18.], dtype=float32)>,\n",
       " <tf.Tensor: shape=(3,), dtype=float32, numpy=array([0., 2., 6.], dtype=float32)>)"
      ]
     },
     "execution_count": 61,
     "metadata": {},
     "output_type": "execute_result"
    }
   ],
   "source": [
    "# Using the Multiple Input Model\n",
    "X1, X2 = np.array([1, 2, 3]), np.array([4, 5, 6])\n",
    "MultiInputLayer()((X1, X2))"
   ]
  },
  {
   "cell_type": "markdown",
   "id": "a8b5ac45",
   "metadata": {
    "papermill": {
     "duration": 0.182165,
     "end_time": "2024-05-16T15:15:25.241086",
     "exception": false,
     "start_time": "2024-05-16T15:15:25.058921",
     "status": "completed"
    },
    "tags": []
   },
   "source": [
    "**Creating a Custom Layer with Different Behaviours**\n",
    "\n",
    "- A custom layer can also inhibit training specific and testing specific behaviour.\n",
    "- This is done by adding additional arguments to the call() and utilising the arguments in the call()."
   ]
  },
  {
   "cell_type": "code",
   "execution_count": 62,
   "id": "dc4132e8",
   "metadata": {
    "execution": {
     "iopub.execute_input": "2024-05-16T15:15:25.612902Z",
     "iopub.status.busy": "2024-05-16T15:15:25.611866Z",
     "iopub.status.idle": "2024-05-16T15:15:25.618843Z",
     "shell.execute_reply": "2024-05-16T15:15:25.617860Z"
    },
    "papermill": {
     "duration": 0.194751,
     "end_time": "2024-05-16T15:15:25.620816",
     "exception": false,
     "start_time": "2024-05-16T15:15:25.426065",
     "status": "completed"
    },
    "tags": []
   },
   "outputs": [],
   "source": [
    "class GaussianNoiseLayer(tf.keras.layers.Layer):\n",
    "    def __init__(self, stddev, **kwargs):\n",
    "        super().__init__(**kwargs)\n",
    "        self.stddev = stddev\n",
    "        \n",
    "    def call(self, X, training=None):\n",
    "        \n",
    "        # Adds additional Gaussian Noise to the data if the layer was used during training\n",
    "        if training:\n",
    "            noise = tf.random.normal(tf.shape(X), stddev=self.stddev)\n",
    "            return X + noise\n",
    "        \n",
    "        # Returns the original values of the layer if it wasnt called during training\n",
    "        return X"
   ]
  },
  {
   "cell_type": "code",
   "execution_count": 63,
   "id": "d48d7572",
   "metadata": {
    "execution": {
     "iopub.execute_input": "2024-05-16T15:15:26.034523Z",
     "iopub.status.busy": "2024-05-16T15:15:26.033587Z",
     "iopub.status.idle": "2024-05-16T15:15:37.826775Z",
     "shell.execute_reply": "2024-05-16T15:15:37.825814Z"
    },
    "papermill": {
     "duration": 11.977169,
     "end_time": "2024-05-16T15:15:37.828836",
     "exception": false,
     "start_time": "2024-05-16T15:15:25.851667",
     "status": "completed"
    },
    "tags": []
   },
   "outputs": [
    {
     "name": "stdout",
     "output_type": "stream",
     "text": [
      "Epoch 1/20\n"
     ]
    },
    {
     "name": "stderr",
     "output_type": "stream",
     "text": [
      "/tmp/ipykernel_18/3529310901.py:3: UserWarning: Do not pass an `input_shape`/`input_dim` argument to a layer. When using Sequential models, prefer using an `Input(shape)` object as the first layer in the model instead.\n",
      "  super().__init__(**kwargs)\n"
     ]
    },
    {
     "name": "stdout",
     "output_type": "stream",
     "text": [
      "\u001b[1m363/363\u001b[0m \u001b[32m━━━━━━━━━━━━━━━━━━━━\u001b[0m\u001b[37m\u001b[0m \u001b[1m1s\u001b[0m 2ms/step - loss: 4.7232 - val_loss: 2.0127\n",
      "Epoch 2/20\n",
      "\u001b[1m363/363\u001b[0m \u001b[32m━━━━━━━━━━━━━━━━━━━━\u001b[0m\u001b[37m\u001b[0m \u001b[1m1s\u001b[0m 1ms/step - loss: 1.7347 - val_loss: 1.6159\n",
      "Epoch 3/20\n",
      "\u001b[1m363/363\u001b[0m \u001b[32m━━━━━━━━━━━━━━━━━━━━\u001b[0m\u001b[37m\u001b[0m \u001b[1m1s\u001b[0m 1ms/step - loss: 1.3509 - val_loss: 1.3166\n",
      "Epoch 4/20\n",
      "\u001b[1m363/363\u001b[0m \u001b[32m━━━━━━━━━━━━━━━━━━━━\u001b[0m\u001b[37m\u001b[0m \u001b[1m1s\u001b[0m 1ms/step - loss: 1.3279 - val_loss: 1.0894\n",
      "Epoch 5/20\n",
      "\u001b[1m363/363\u001b[0m \u001b[32m━━━━━━━━━━━━━━━━━━━━\u001b[0m\u001b[37m\u001b[0m \u001b[1m1s\u001b[0m 1ms/step - loss: 1.2650 - val_loss: 0.9606\n",
      "Epoch 6/20\n",
      "\u001b[1m363/363\u001b[0m \u001b[32m━━━━━━━━━━━━━━━━━━━━\u001b[0m\u001b[37m\u001b[0m \u001b[1m1s\u001b[0m 2ms/step - loss: 1.0566 - val_loss: 0.8753\n",
      "Epoch 7/20\n",
      "\u001b[1m363/363\u001b[0m \u001b[32m━━━━━━━━━━━━━━━━━━━━\u001b[0m\u001b[37m\u001b[0m \u001b[1m1s\u001b[0m 1ms/step - loss: 1.2741 - val_loss: 0.8013\n",
      "Epoch 8/20\n",
      "\u001b[1m363/363\u001b[0m \u001b[32m━━━━━━━━━━━━━━━━━━━━\u001b[0m\u001b[37m\u001b[0m \u001b[1m1s\u001b[0m 1ms/step - loss: 1.0922 - val_loss: 0.7782\n",
      "Epoch 9/20\n",
      "\u001b[1m363/363\u001b[0m \u001b[32m━━━━━━━━━━━━━━━━━━━━\u001b[0m\u001b[37m\u001b[0m \u001b[1m1s\u001b[0m 1ms/step - loss: 1.0402 - val_loss: 0.7478\n",
      "Epoch 10/20\n",
      "\u001b[1m363/363\u001b[0m \u001b[32m━━━━━━━━━━━━━━━━━━━━\u001b[0m\u001b[37m\u001b[0m \u001b[1m1s\u001b[0m 1ms/step - loss: 0.9735 - val_loss: 0.7459\n",
      "Epoch 11/20\n",
      "\u001b[1m363/363\u001b[0m \u001b[32m━━━━━━━━━━━━━━━━━━━━\u001b[0m\u001b[37m\u001b[0m \u001b[1m1s\u001b[0m 1ms/step - loss: 1.0225 - val_loss: 0.7463\n",
      "Epoch 12/20\n",
      "\u001b[1m363/363\u001b[0m \u001b[32m━━━━━━━━━━━━━━━━━━━━\u001b[0m\u001b[37m\u001b[0m \u001b[1m1s\u001b[0m 1ms/step - loss: 0.9741 - val_loss: 0.7395\n",
      "Epoch 13/20\n",
      "\u001b[1m363/363\u001b[0m \u001b[32m━━━━━━━━━━━━━━━━━━━━\u001b[0m\u001b[37m\u001b[0m \u001b[1m1s\u001b[0m 1ms/step - loss: 1.0083 - val_loss: 0.7092\n",
      "Epoch 14/20\n",
      "\u001b[1m363/363\u001b[0m \u001b[32m━━━━━━━━━━━━━━━━━━━━\u001b[0m\u001b[37m\u001b[0m \u001b[1m1s\u001b[0m 1ms/step - loss: 0.9944 - val_loss: 0.7297\n",
      "Epoch 15/20\n",
      "\u001b[1m363/363\u001b[0m \u001b[32m━━━━━━━━━━━━━━━━━━━━\u001b[0m\u001b[37m\u001b[0m \u001b[1m1s\u001b[0m 1ms/step - loss: 0.9932 - val_loss: 0.7349\n",
      "Epoch 16/20\n",
      "\u001b[1m363/363\u001b[0m \u001b[32m━━━━━━━━━━━━━━━━━━━━\u001b[0m\u001b[37m\u001b[0m \u001b[1m1s\u001b[0m 1ms/step - loss: 0.9949 - val_loss: 0.7851\n",
      "Epoch 17/20\n",
      "\u001b[1m363/363\u001b[0m \u001b[32m━━━━━━━━━━━━━━━━━━━━\u001b[0m\u001b[37m\u001b[0m \u001b[1m1s\u001b[0m 1ms/step - loss: 1.0003 - val_loss: 0.7447\n",
      "Epoch 18/20\n",
      "\u001b[1m363/363\u001b[0m \u001b[32m━━━━━━━━━━━━━━━━━━━━\u001b[0m\u001b[37m\u001b[0m \u001b[1m1s\u001b[0m 1ms/step - loss: 0.9610 - val_loss: 0.7102\n",
      "Epoch 19/20\n",
      "\u001b[1m363/363\u001b[0m \u001b[32m━━━━━━━━━━━━━━━━━━━━\u001b[0m\u001b[37m\u001b[0m \u001b[1m1s\u001b[0m 1ms/step - loss: 0.9845 - val_loss: 0.7513\n",
      "Epoch 20/20\n",
      "\u001b[1m363/363\u001b[0m \u001b[32m━━━━━━━━━━━━━━━━━━━━\u001b[0m\u001b[37m\u001b[0m \u001b[1m1s\u001b[0m 1ms/step - loss: 0.9874 - val_loss: 0.7219\n"
     ]
    },
    {
     "data": {
      "text/plain": [
       "<keras.src.callbacks.history.History at 0x7a1d4d735f90>"
      ]
     },
     "execution_count": 63,
     "metadata": {},
     "output_type": "execute_result"
    }
   ],
   "source": [
    "# Building a model to use the Gaussian Layer\n",
    "gaussian_model = tf.keras.models.Sequential([\n",
    "    GaussianNoiseLayer(stddev=1.0, input_shape=X_train.shape[1:]),\n",
    "    MyDense(30, activation=\"relu\"),\n",
    "    MyDense(1)\n",
    "])\n",
    "\n",
    "# Compiling the model\n",
    "gaussian_model.compile(\n",
    "    loss=\"mse\",\n",
    "    optimizer=\"adam\"\n",
    ")\n",
    "\n",
    "# Training the model\n",
    "gaussian_model.fit(\n",
    "    X_train, y_train, validation_data=(X_valid, y_valid), epochs=20\n",
    ")"
   ]
  },
  {
   "cell_type": "code",
   "execution_count": 64,
   "id": "f0e1f71f",
   "metadata": {
    "execution": {
     "iopub.execute_input": "2024-05-16T15:15:38.231983Z",
     "iopub.status.busy": "2024-05-16T15:15:38.231264Z",
     "iopub.status.idle": "2024-05-16T15:15:38.450989Z",
     "shell.execute_reply": "2024-05-16T15:15:38.450010Z"
    },
    "papermill": {
     "duration": 0.422928,
     "end_time": "2024-05-16T15:15:38.453062",
     "exception": false,
     "start_time": "2024-05-16T15:15:38.030134",
     "status": "completed"
    },
    "tags": []
   },
   "outputs": [
    {
     "name": "stdout",
     "output_type": "stream",
     "text": [
      "\u001b[1m162/162\u001b[0m \u001b[32m━━━━━━━━━━━━━━━━━━━━\u001b[0m\u001b[37m\u001b[0m \u001b[1m0s\u001b[0m 898us/step - loss: 0.7097\n"
     ]
    },
    {
     "data": {
      "text/plain": [
       "0.7246128916740417"
      ]
     },
     "execution_count": 64,
     "metadata": {},
     "output_type": "execute_result"
    }
   ],
   "source": [
    "# Evaluating the Model\n",
    "gaussian_model.evaluate(X_test, y_test)"
   ]
  },
  {
   "cell_type": "markdown",
   "id": "6eb151f0",
   "metadata": {
    "papermill": {
     "duration": 0.196287,
     "end_time": "2024-05-16T15:15:38.846366",
     "exception": false,
     "start_time": "2024-05-16T15:15:38.650079",
     "status": "completed"
    },
    "tags": []
   },
   "source": [
    "**Fin ✨**\n",
    "--\n",
    "\n",
    "## I had a lot of fun creating this notebook and diving deeper into the TensorFlow framework and the Keras API.\n",
    "## Hope you had just as much fun reading alongside ✌️"
   ]
  },
  {
   "cell_type": "code",
   "execution_count": null,
   "id": "b8cf67b9",
   "metadata": {
    "papermill": {
     "duration": 0.194173,
     "end_time": "2024-05-16T15:15:39.236091",
     "exception": false,
     "start_time": "2024-05-16T15:15:39.041918",
     "status": "completed"
    },
    "tags": []
   },
   "outputs": [],
   "source": []
  }
 ],
 "metadata": {
  "kaggle": {
   "accelerator": "none",
   "dataSources": [],
   "dockerImageVersionId": 30698,
   "isGpuEnabled": false,
   "isInternetEnabled": true,
   "language": "python",
   "sourceType": "notebook"
  },
  "kernelspec": {
   "display_name": "Python 3",
   "language": "python",
   "name": "python3"
  },
  "language_info": {
   "codemirror_mode": {
    "name": "ipython",
    "version": 3
   },
   "file_extension": ".py",
   "mimetype": "text/x-python",
   "name": "python",
   "nbconvert_exporter": "python",
   "pygments_lexer": "ipython3",
   "version": "3.10.13"
  },
  "papermill": {
   "default_parameters": {},
   "duration": 202.270594,
   "end_time": "2024-05-16T15:15:42.348279",
   "environment_variables": {},
   "exception": null,
   "input_path": "__notebook__.ipynb",
   "output_path": "__notebook__.ipynb",
   "parameters": {},
   "start_time": "2024-05-16T15:12:20.077685",
   "version": "2.5.0"
  }
 },
 "nbformat": 4,
 "nbformat_minor": 5
}
