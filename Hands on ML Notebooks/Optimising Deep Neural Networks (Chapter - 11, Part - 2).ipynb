{
 "cells": [
  {
   "cell_type": "markdown",
   "id": "8c82fd2d",
   "metadata": {
    "papermill": {
     "duration": 0.019602,
     "end_time": "2024-04-27T19:18:27.839884",
     "exception": false,
     "start_time": "2024-04-27T19:18:27.820282",
     "status": "completed"
    },
    "tags": []
   },
   "source": [
    "**Necessary Imports**\n",
    "--"
   ]
  },
  {
   "cell_type": "code",
   "execution_count": 1,
   "id": "fd0f86a0",
   "metadata": {
    "execution": {
     "iopub.execute_input": "2024-04-27T19:18:27.881024Z",
     "iopub.status.busy": "2024-04-27T19:18:27.880684Z",
     "iopub.status.idle": "2024-04-27T19:18:39.800882Z",
     "shell.execute_reply": "2024-04-27T19:18:39.800081Z"
    },
    "papermill": {
     "duration": 11.943874,
     "end_time": "2024-04-27T19:18:39.803220",
     "exception": false,
     "start_time": "2024-04-27T19:18:27.859346",
     "status": "completed"
    },
    "tags": []
   },
   "outputs": [
    {
     "name": "stderr",
     "output_type": "stream",
     "text": [
      "2024-04-27 19:18:29.505262: E external/local_xla/xla/stream_executor/cuda/cuda_dnn.cc:9261] Unable to register cuDNN factory: Attempting to register factory for plugin cuDNN when one has already been registered\n",
      "2024-04-27 19:18:29.505359: E external/local_xla/xla/stream_executor/cuda/cuda_fft.cc:607] Unable to register cuFFT factory: Attempting to register factory for plugin cuFFT when one has already been registered\n",
      "2024-04-27 19:18:29.622195: E external/local_xla/xla/stream_executor/cuda/cuda_blas.cc:1515] Unable to register cuBLAS factory: Attempting to register factory for plugin cuBLAS when one has already been registered\n"
     ]
    }
   ],
   "source": [
    "import tensorflow as tf\n",
    "import numpy as np\n",
    "import matplotlib.pyplot as plt"
   ]
  },
  {
   "cell_type": "markdown",
   "id": "50c132c9",
   "metadata": {
    "papermill": {
     "duration": 0.018725,
     "end_time": "2024-04-27T19:18:39.841419",
     "exception": false,
     "start_time": "2024-04-27T19:18:39.822694",
     "status": "completed"
    },
    "tags": []
   },
   "source": [
    "**Loading the Dataset**"
   ]
  },
  {
   "cell_type": "code",
   "execution_count": 2,
   "id": "b6afa466",
   "metadata": {
    "execution": {
     "iopub.execute_input": "2024-04-27T19:18:39.881057Z",
     "iopub.status.busy": "2024-04-27T19:18:39.880145Z",
     "iopub.status.idle": "2024-04-27T19:18:42.787376Z",
     "shell.execute_reply": "2024-04-27T19:18:42.786551Z"
    },
    "papermill": {
     "duration": 2.929309,
     "end_time": "2024-04-27T19:18:42.789643",
     "exception": false,
     "start_time": "2024-04-27T19:18:39.860334",
     "status": "completed"
    },
    "tags": []
   },
   "outputs": [
    {
     "name": "stdout",
     "output_type": "stream",
     "text": [
      "Downloading data from https://storage.googleapis.com/tensorflow/tf-keras-datasets/train-labels-idx1-ubyte.gz\n",
      "\u001b[1m29515/29515\u001b[0m \u001b[32m━━━━━━━━━━━━━━━━━━━━\u001b[0m\u001b[37m\u001b[0m \u001b[1m0s\u001b[0m 0us/step\n",
      "Downloading data from https://storage.googleapis.com/tensorflow/tf-keras-datasets/train-images-idx3-ubyte.gz\n",
      "\u001b[1m26421880/26421880\u001b[0m \u001b[32m━━━━━━━━━━━━━━━━━━━━\u001b[0m\u001b[37m\u001b[0m \u001b[1m1s\u001b[0m 0us/step\n",
      "Downloading data from https://storage.googleapis.com/tensorflow/tf-keras-datasets/t10k-labels-idx1-ubyte.gz\n",
      "\u001b[1m5148/5148\u001b[0m \u001b[32m━━━━━━━━━━━━━━━━━━━━\u001b[0m\u001b[37m\u001b[0m \u001b[1m0s\u001b[0m 0us/step\n",
      "Downloading data from https://storage.googleapis.com/tensorflow/tf-keras-datasets/t10k-images-idx3-ubyte.gz\n",
      "\u001b[1m4422102/4422102\u001b[0m \u001b[32m━━━━━━━━━━━━━━━━━━━━\u001b[0m\u001b[37m\u001b[0m \u001b[1m1s\u001b[0m 0us/step\n"
     ]
    }
   ],
   "source": [
    "fashion_mnist = tf.keras.datasets.fashion_mnist\n",
    "(X_train_full, y_train_full), (X_test, y_test) = fashion_mnist.load_data()\n",
    "\n",
    "# Splitting the Training and Validation Sets\n",
    "X_train, y_train = X_train_full[:-5000], y_train_full[:-5000]\n",
    "X_valid, y_valid = X_train_full[-5000:], y_train_full[-5000:]"
   ]
  },
  {
   "cell_type": "code",
   "execution_count": 3,
   "id": "fa281185",
   "metadata": {
    "execution": {
     "iopub.execute_input": "2024-04-27T19:18:42.836668Z",
     "iopub.status.busy": "2024-04-27T19:18:42.835916Z",
     "iopub.status.idle": "2024-04-27T19:18:42.840499Z",
     "shell.execute_reply": "2024-04-27T19:18:42.839540Z"
    },
    "papermill": {
     "duration": 0.029786,
     "end_time": "2024-04-27T19:18:42.842373",
     "exception": false,
     "start_time": "2024-04-27T19:18:42.812587",
     "status": "completed"
    },
    "tags": []
   },
   "outputs": [],
   "source": [
    "class_names = [\"T-shirt/top\", \"Trouser\", \"Pullover\", \"Dress\", \"Coat\", \"Sandal\", \"Shirt\", \"Sneaker\", \"Bag\", \"Ankle boot\"]"
   ]
  },
  {
   "cell_type": "markdown",
   "id": "343177cc",
   "metadata": {
    "papermill": {
     "duration": 0.022131,
     "end_time": "2024-04-27T19:18:42.887086",
     "exception": false,
     "start_time": "2024-04-27T19:18:42.864955",
     "status": "completed"
    },
    "tags": []
   },
   "source": [
    "**Optimizers for Deep Learning**\n",
    "--"
   ]
  },
  {
   "cell_type": "markdown",
   "id": "18732842",
   "metadata": {
    "papermill": {
     "duration": 0.021887,
     "end_time": "2024-04-27T19:18:42.931228",
     "exception": false,
     "start_time": "2024-04-27T19:18:42.909341",
     "status": "completed"
    },
    "tags": []
   },
   "source": [
    "## Helper Function to build the Model Architecture\n"
   ]
  },
  {
   "cell_type": "code",
   "execution_count": 4,
   "id": "980596f2",
   "metadata": {
    "execution": {
     "iopub.execute_input": "2024-04-27T19:18:42.977726Z",
     "iopub.status.busy": "2024-04-27T19:18:42.977052Z",
     "iopub.status.idle": "2024-04-27T19:18:42.986021Z",
     "shell.execute_reply": "2024-04-27T19:18:42.985076Z"
    },
    "papermill": {
     "duration": 0.034656,
     "end_time": "2024-04-27T19:18:42.988159",
     "exception": false,
     "start_time": "2024-04-27T19:18:42.953503",
     "status": "completed"
    },
    "tags": []
   },
   "outputs": [],
   "source": [
    "def build_model(seed=1730):\n",
    "    \n",
    "    # Applying the Unique Random State\n",
    "    tf.random.set_seed(seed)\n",
    "    \n",
    "    # Returning the Model Architecture\n",
    "    return tf.keras.models.Sequential([\n",
    "        \n",
    "        # Input Layers\n",
    "        tf.keras.layers.Flatten(input_shape=[28, 28]),\n",
    "        \n",
    "        # Normalisation Layer\n",
    "        tf.keras.layers.BatchNormalization(),\n",
    "        \n",
    "        # Deep Layers\n",
    "        tf.keras.layers.Dense(100, activation=\"relu\", kernel_initializer=\"he_normal\"),\n",
    "        tf.keras.layers.BatchNormalization(),\n",
    "        \n",
    "        tf.keras.layers.Dense(100, activation=\"relu\", kernel_initializer=\"he_normal\"),\n",
    "        tf.keras.layers.BatchNormalization(),\n",
    "        \n",
    "        tf.keras.layers.Dense(100, activation=\"relu\", kernel_initializer=\"he_normal\"),\n",
    "        tf.keras.layers.BatchNormalization(),\n",
    "        \n",
    "        tf.keras.layers.Dense(100, activation=\"relu\", kernel_initializer=\"he_normal\"),\n",
    "        tf.keras.layers.BatchNormalization(),\n",
    "        \n",
    "        tf.keras.layers.Dense(10, activation=\"softmax\")\n",
    "    ])"
   ]
  },
  {
   "cell_type": "markdown",
   "id": "9832b768",
   "metadata": {
    "papermill": {
     "duration": 0.022692,
     "end_time": "2024-04-27T19:18:43.034527",
     "exception": false,
     "start_time": "2024-04-27T19:18:43.011835",
     "status": "completed"
    },
    "tags": []
   },
   "source": [
    "## Helper Function to compile and train the model"
   ]
  },
  {
   "cell_type": "code",
   "execution_count": 5,
   "id": "a867ba06",
   "metadata": {
    "execution": {
     "iopub.execute_input": "2024-04-27T19:18:43.080830Z",
     "iopub.status.busy": "2024-04-27T19:18:43.080173Z",
     "iopub.status.idle": "2024-04-27T19:18:43.085517Z",
     "shell.execute_reply": "2024-04-27T19:18:43.084599Z"
    },
    "papermill": {
     "duration": 0.030458,
     "end_time": "2024-04-27T19:18:43.087356",
     "exception": false,
     "start_time": "2024-04-27T19:18:43.056898",
     "status": "completed"
    },
    "tags": []
   },
   "outputs": [],
   "source": [
    "def compile_and_train_model(optimizer):\n",
    "    \n",
    "    # Using the above helper function to build the model first\n",
    "    model = build_model()\n",
    "    \n",
    "    # Compiling the model using the optimiser parameter\n",
    "    model.compile(\n",
    "        loss=\"sparse_categorical_crossentropy\",\n",
    "        metrics=[\"accuracy\"],\n",
    "        optimizer=optimizer\n",
    "    )\n",
    "    \n",
    "    # Returning the Trained Model and the History Object\n",
    "    return model.fit(\n",
    "        X_train, y_train, validation_data=(X_valid, y_valid), epochs=20\n",
    "    )"
   ]
  },
  {
   "cell_type": "markdown",
   "id": "e414131f",
   "metadata": {
    "papermill": {
     "duration": 0.022626,
     "end_time": "2024-04-27T19:18:43.132333",
     "exception": false,
     "start_time": "2024-04-27T19:18:43.109707",
     "status": "completed"
    },
    "tags": []
   },
   "source": [
    "**Testing the Functions**"
   ]
  },
  {
   "cell_type": "code",
   "execution_count": 6,
   "id": "7f7cd731",
   "metadata": {
    "execution": {
     "iopub.execute_input": "2024-04-27T19:18:43.180227Z",
     "iopub.status.busy": "2024-04-27T19:18:43.179869Z",
     "iopub.status.idle": "2024-04-27T19:19:56.503279Z",
     "shell.execute_reply": "2024-04-27T19:19:56.502443Z"
    },
    "papermill": {
     "duration": 73.350236,
     "end_time": "2024-04-27T19:19:56.505706",
     "exception": false,
     "start_time": "2024-04-27T19:18:43.155470",
     "status": "completed"
    },
    "tags": []
   },
   "outputs": [
    {
     "name": "stderr",
     "output_type": "stream",
     "text": [
      "/opt/conda/lib/python3.10/site-packages/keras/src/layers/reshaping/flatten.py:37: UserWarning: Do not pass an `input_shape`/`input_dim` argument to a layer. When using Sequential models, prefer using an `Input(shape)` object as the first layer in the model instead.\n",
      "  super().__init__(**kwargs)\n"
     ]
    },
    {
     "name": "stdout",
     "output_type": "stream",
     "text": [
      "Epoch 1/20\n",
      "\u001b[1m  83/1719\u001b[0m \u001b[37m━━━━━━━━━━━━━━━━━━━━\u001b[0m \u001b[1m3s\u001b[0m 2ms/step - accuracy: 0.1267 - loss: 2.8002"
     ]
    },
    {
     "name": "stderr",
     "output_type": "stream",
     "text": [
      "WARNING: All log messages before absl::InitializeLog() is called are written to STDERR\n",
      "I0000 00:00:1714245526.777628      69 device_compiler.h:186] Compiled cluster using XLA!  This line is logged at most once for the lifetime of the process.\n"
     ]
    },
    {
     "name": "stdout",
     "output_type": "stream",
     "text": [
      "\u001b[1m1719/1719\u001b[0m \u001b[32m━━━━━━━━━━━━━━━━━━━━\u001b[0m\u001b[37m\u001b[0m \u001b[1m8s\u001b[0m 3ms/step - accuracy: 0.4854 - loss: 1.5579 - val_accuracy: 0.7550 - val_loss: 0.7077\n",
      "Epoch 2/20\n",
      "\u001b[1m1719/1719\u001b[0m \u001b[32m━━━━━━━━━━━━━━━━━━━━\u001b[0m\u001b[37m\u001b[0m \u001b[1m3s\u001b[0m 2ms/step - accuracy: 0.7484 - loss: 0.7410 - val_accuracy: 0.7960 - val_loss: 0.5913\n",
      "Epoch 3/20\n",
      "\u001b[1m1719/1719\u001b[0m \u001b[32m━━━━━━━━━━━━━━━━━━━━\u001b[0m\u001b[37m\u001b[0m \u001b[1m3s\u001b[0m 2ms/step - accuracy: 0.7808 - loss: 0.6313 - val_accuracy: 0.8104 - val_loss: 0.5381\n",
      "Epoch 4/20\n",
      "\u001b[1m1719/1719\u001b[0m \u001b[32m━━━━━━━━━━━━━━━━━━━━\u001b[0m\u001b[37m\u001b[0m \u001b[1m3s\u001b[0m 2ms/step - accuracy: 0.7982 - loss: 0.5754 - val_accuracy: 0.8200 - val_loss: 0.5061\n",
      "Epoch 5/20\n",
      "\u001b[1m1719/1719\u001b[0m \u001b[32m━━━━━━━━━━━━━━━━━━━━\u001b[0m\u001b[37m\u001b[0m \u001b[1m3s\u001b[0m 2ms/step - accuracy: 0.8103 - loss: 0.5384 - val_accuracy: 0.8264 - val_loss: 0.4836\n",
      "Epoch 6/20\n",
      "\u001b[1m1719/1719\u001b[0m \u001b[32m━━━━━━━━━━━━━━━━━━━━\u001b[0m\u001b[37m\u001b[0m \u001b[1m3s\u001b[0m 2ms/step - accuracy: 0.8197 - loss: 0.5108 - val_accuracy: 0.8310 - val_loss: 0.4669\n",
      "Epoch 7/20\n",
      "\u001b[1m1719/1719\u001b[0m \u001b[32m━━━━━━━━━━━━━━━━━━━━\u001b[0m\u001b[37m\u001b[0m \u001b[1m5s\u001b[0m 2ms/step - accuracy: 0.8270 - loss: 0.4889 - val_accuracy: 0.8338 - val_loss: 0.4536\n",
      "Epoch 8/20\n",
      "\u001b[1m1719/1719\u001b[0m \u001b[32m━━━━━━━━━━━━━━━━━━━━\u001b[0m\u001b[37m\u001b[0m \u001b[1m3s\u001b[0m 2ms/step - accuracy: 0.8345 - loss: 0.4706 - val_accuracy: 0.8372 - val_loss: 0.4431\n",
      "Epoch 9/20\n",
      "\u001b[1m1719/1719\u001b[0m \u001b[32m━━━━━━━━━━━━━━━━━━━━\u001b[0m\u001b[37m\u001b[0m \u001b[1m3s\u001b[0m 2ms/step - accuracy: 0.8401 - loss: 0.4550 - val_accuracy: 0.8416 - val_loss: 0.4342\n",
      "Epoch 10/20\n",
      "\u001b[1m1719/1719\u001b[0m \u001b[32m━━━━━━━━━━━━━━━━━━━━\u001b[0m\u001b[37m\u001b[0m \u001b[1m3s\u001b[0m 2ms/step - accuracy: 0.8453 - loss: 0.4413 - val_accuracy: 0.8442 - val_loss: 0.4270\n",
      "Epoch 11/20\n",
      "\u001b[1m1719/1719\u001b[0m \u001b[32m━━━━━━━━━━━━━━━━━━━━\u001b[0m\u001b[37m\u001b[0m \u001b[1m3s\u001b[0m 2ms/step - accuracy: 0.8487 - loss: 0.4289 - val_accuracy: 0.8464 - val_loss: 0.4213\n",
      "Epoch 12/20\n",
      "\u001b[1m1719/1719\u001b[0m \u001b[32m━━━━━━━━━━━━━━━━━━━━\u001b[0m\u001b[37m\u001b[0m \u001b[1m3s\u001b[0m 2ms/step - accuracy: 0.8523 - loss: 0.4176 - val_accuracy: 0.8476 - val_loss: 0.4164\n",
      "Epoch 13/20\n",
      "\u001b[1m1719/1719\u001b[0m \u001b[32m━━━━━━━━━━━━━━━━━━━━\u001b[0m\u001b[37m\u001b[0m \u001b[1m3s\u001b[0m 2ms/step - accuracy: 0.8564 - loss: 0.4073 - val_accuracy: 0.8492 - val_loss: 0.4122\n",
      "Epoch 14/20\n",
      "\u001b[1m1719/1719\u001b[0m \u001b[32m━━━━━━━━━━━━━━━━━━━━\u001b[0m\u001b[37m\u001b[0m \u001b[1m3s\u001b[0m 2ms/step - accuracy: 0.8598 - loss: 0.3978 - val_accuracy: 0.8510 - val_loss: 0.4084\n",
      "Epoch 15/20\n",
      "\u001b[1m1719/1719\u001b[0m \u001b[32m━━━━━━━━━━━━━━━━━━━━\u001b[0m\u001b[37m\u001b[0m \u001b[1m4s\u001b[0m 2ms/step - accuracy: 0.8625 - loss: 0.3889 - val_accuracy: 0.8514 - val_loss: 0.4053\n",
      "Epoch 16/20\n",
      "\u001b[1m1719/1719\u001b[0m \u001b[32m━━━━━━━━━━━━━━━━━━━━\u001b[0m\u001b[37m\u001b[0m \u001b[1m3s\u001b[0m 2ms/step - accuracy: 0.8657 - loss: 0.3806 - val_accuracy: 0.8540 - val_loss: 0.4023\n",
      "Epoch 17/20\n",
      "\u001b[1m1719/1719\u001b[0m \u001b[32m━━━━━━━━━━━━━━━━━━━━\u001b[0m\u001b[37m\u001b[0m \u001b[1m3s\u001b[0m 2ms/step - accuracy: 0.8685 - loss: 0.3729 - val_accuracy: 0.8552 - val_loss: 0.4000\n",
      "Epoch 18/20\n",
      "\u001b[1m1719/1719\u001b[0m \u001b[32m━━━━━━━━━━━━━━━━━━━━\u001b[0m\u001b[37m\u001b[0m \u001b[1m3s\u001b[0m 2ms/step - accuracy: 0.8719 - loss: 0.3655 - val_accuracy: 0.8560 - val_loss: 0.3980\n",
      "Epoch 19/20\n",
      "\u001b[1m1719/1719\u001b[0m \u001b[32m━━━━━━━━━━━━━━━━━━━━\u001b[0m\u001b[37m\u001b[0m \u001b[1m3s\u001b[0m 2ms/step - accuracy: 0.8743 - loss: 0.3586 - val_accuracy: 0.8576 - val_loss: 0.3962\n",
      "Epoch 20/20\n",
      "\u001b[1m1719/1719\u001b[0m \u001b[32m━━━━━━━━━━━━━━━━━━━━\u001b[0m\u001b[37m\u001b[0m \u001b[1m3s\u001b[0m 2ms/step - accuracy: 0.8767 - loss: 0.3519 - val_accuracy: 0.8574 - val_loss: 0.3946\n"
     ]
    }
   ],
   "source": [
    "optimizer = tf.keras.optimizers.SGD(learning_rate=1e-3)\n",
    "history_sgd = compile_and_train_model(optimizer)"
   ]
  },
  {
   "cell_type": "markdown",
   "id": "54d078ee",
   "metadata": {
    "papermill": {
     "duration": 0.123996,
     "end_time": "2024-04-27T19:19:56.754143",
     "exception": false,
     "start_time": "2024-04-27T19:19:56.630147",
     "status": "completed"
    },
    "tags": []
   },
   "source": [
    "**The Gradient Descent Algorithm**\n",
    "--\n",
    "\n",
    "- Update Equations\n",
    "$$w \\, = \\, w \\, - \\, \\alpha \\, dw$$\n",
    "$$b \\, = \\, b \\, - \\, \\alpha \\, db$$\n",
    "- Where $\\alpha$ is the learning rate\n",
    "- The following updates were carried untill the difference between loss functions calculated during backpropagation were smaller than a preset small value $\\epsilon$\n",
    "\n",
    "### Problems with Gradient Descent\n",
    "- Though gradient descent was one of the first algorithms used for backpropagation in neural networks it wasnt optimal.\n",
    "    - It was inefficient in propagating through Local Minima and Plateaus during the training of a deep learning model.\n",
    "    - It was also very sensitive to changes made to the learning rate hyperparameter ($\\alpha$ or $\\eta$).\n",
    "    - Thus for larger values of learning rate the model would risk converging while for smaller values of learning rate the model took very slow incremental steps to achieve convergance.\n",
    "    \n",
    "**Thus alternate optimization algorithms were developed to address the pitfalls of Gradient Descent while being more efficient through the backpropagation process**\n"
   ]
  },
  {
   "cell_type": "markdown",
   "id": "41e6ef1e",
   "metadata": {
    "papermill": {
     "duration": 0.123974,
     "end_time": "2024-04-27T19:19:57.000158",
     "exception": false,
     "start_time": "2024-04-27T19:19:56.876184",
     "status": "completed"
    },
    "tags": []
   },
   "source": [
    "**Escaping Local Minima Using Exponentially Weighted Averages**\n",
    "--\n",
    "\n",
    "- Exponentially Weighted Averages were considered while training in advanced (modern) optimization techniques such as:\n",
    "    - RMSprop\n",
    "    - Adam\n",
    "    - AdaGrad\n",
    "    - Nadam\n",
    "\n",
    "**Working with Exponentially Weighted Averages**\n",
    "--\n",
    "\n",
    "- **`General Formula`**:\n",
    "$$V_t \\; = \\; \\beta \\; V_{t-1} \\; + \\; (1 \\; - \\; \\beta) X_t $$\n",
    "\n",
    "- Here:\n",
    "    - $V_t$ is the exponential moving average calculated for the **`current iteration / observation.`**\n",
    "    - $V_{t-1}$ is the exponential moving average calculated for the **`previous iteration / observation.`**\n",
    "    - $\\beta$ is the **`momentum hyperparameter`** used to create the weighted average between the present and the past.\n",
    "    - $X_t$ is the value of the **`current observation`** before being adjusted by the exponential moving average.\n",
    "\n",
    "\n",
    "- On using Exponentially Weighted Averages for a **`large set of observations / no of iterations`** we can approximate the value of a any obeservation $V_t$ as follow:\n",
    "$$V_t \\; = \\; (1 \\; - \\; \\beta) \\; X_t $$\n",
    "\n",
    "- Where $(1 \\; - \\; \\beta)$ can be substituted for as follows for **`smaller values of`** $\\beta$:\n",
    "$$(1 - \\beta) \\; \\approx \\; \\left(\\frac{1}{1 \\; + \\; \\beta}\\right)$$\n",
    "\n",
    "**Important**\n",
    "- Setting a correct value for $\\beta$ is pivotal for the optimal working of an exponential moving average.\n",
    "- **`Higher values`** of $\\beta$ create a moving average that is **`less susceptible`** to changes in trends of observations.\n",
    "- On contrast **`Lower values`** of $\\beta$ create a moving average that is **`more dynamic and responsive`** to change in trends of observations.\n",
    "- Thus the value of $\\beta$ creates the balance between weightage given for past and present observations while calculating a moving average.\n",
    "- Lastly $\\beta$ **`decays exponentially overtime`** due to the chain of multiplication operations:\n",
    "- Assuming $\\beta$ is 0.9:\n",
    "$$V_{10} \\; = \\; 0.1X_{10} \\; + \\; (0.1)(0.9)X_9 \\; + \\; (0.1)(0.9)^2X_8 \\; + \\; (0.1)(0.9)^3X_7 \\; + \\; 0.9^4(0.1X_6 \\; + \\; 0.9 \\; V_5) \\; + \\; ...$$\n",
    "- This retains the intuition that previous observations are still being used in calculation of new observations however the **`window is shifting / moving more towards newer observations`**.\n",
    "\n",
    "- Ex:\n",
    "    - When $\\beta$ is $0.9$ using the above approximation:\n",
    "    $$V_t \\; = \\; 10 \\; * \\; X_t \\; + \\; \\beta \\; V_{t-1}$$\n",
    "    - Thus intuitively the moving average of the last 10 observations is being considered while calculating the moving average for the current obeservation.\n",
    "    \n",
    "    - When $\\beta$ is $0.5$ using the above approximation:\n",
    "    $$V_t \\; = \\; 2 \\; * \\; X_t \\; + \\; \\beta \\; V_{t-1}$$\n",
    "    - Thus intuitively the moving average of the last 2 observations is being considered while calculating the moving average for the current obeservation.\n",
    "    "
   ]
  },
  {
   "cell_type": "markdown",
   "id": "b4e022ce",
   "metadata": {
    "papermill": {
     "duration": 0.119766,
     "end_time": "2024-04-27T19:19:57.243172",
     "exception": false,
     "start_time": "2024-04-27T19:19:57.123406",
     "status": "completed"
    },
    "tags": []
   },
   "source": [
    "**Working with Momentum Optimization**\n",
    "--\n",
    "\n",
    "- The Momentum Optimization Algorithm took a step ahead from Gradient Descent.\n",
    "- It incorporated the previously calulated gradients to ensure the model doesnt get stuck at any Local Minima.\n",
    "- It also incorporated Exponentially Weighted Averages during the optimization process for better appoximations of the model.\n",
    "\n",
    "## Update Equations when Backpropagating using Gradient Descent with Momentum\n",
    "\n",
    "$$Vdw \\; = \\; \\beta \\; Vdw \\; + \\; (1 \\; - \\; \\beta) \\; dw$$\n",
    "$$Vdb \\; = \\; \\beta \\; Vdb \\; + \\; (1 \\; - \\; \\beta) \\; db$$\n",
    "\n",
    "- Notation:\n",
    "    - Vdw is the gradient from the previous epochs of training.\n",
    "    - dw is the gradient from the current epoch of training.\n",
    "    - $\\beta$ is the momentum hyperparameter\n",
    "\n",
    "\n",
    "- Each of the above equations follow the same idea as the Exponential Weighted Averages above given by:\n",
    "$$V_t \\; = \\; \\beta \\; V_{t-1} \\; + \\; (1 \\; - \\; \\beta) \\; X_t$$\n",
    "\n",
    "- The calulated values of Vdw and Vdb at the final epoch of training are then substituted into:\n",
    "$$w \\; = \\; w \\; - \\; \\alpha Vdw$$\n",
    "$$b \\; = \\; b \\; - \\; \\alpha Vdb$$\n",
    "\n",
    "**Important**\n",
    "- Since the model now considers the previous values of gradients while training it can take much larger steps during training while escaping plateaus and local minima's."
   ]
  },
  {
   "cell_type": "code",
   "execution_count": 7,
   "id": "d45bcb05",
   "metadata": {
    "execution": {
     "iopub.execute_input": "2024-04-27T19:19:57.492045Z",
     "iopub.status.busy": "2024-04-27T19:19:57.491136Z",
     "iopub.status.idle": "2024-04-27T19:21:17.392967Z",
     "shell.execute_reply": "2024-04-27T19:21:17.392167Z"
    },
    "papermill": {
     "duration": 80.026672,
     "end_time": "2024-04-27T19:21:17.395030",
     "exception": false,
     "start_time": "2024-04-27T19:19:57.368358",
     "status": "completed"
    },
    "tags": []
   },
   "outputs": [
    {
     "name": "stdout",
     "output_type": "stream",
     "text": [
      "Epoch 1/20\n",
      "\u001b[1m1719/1719\u001b[0m \u001b[32m━━━━━━━━━━━━━━━━━━━━\u001b[0m\u001b[37m\u001b[0m \u001b[1m8s\u001b[0m 3ms/step - accuracy: 0.7066 - loss: 0.8827 - val_accuracy: 0.8438 - val_loss: 0.4303\n",
      "Epoch 2/20\n",
      "\u001b[1m1719/1719\u001b[0m \u001b[32m━━━━━━━━━━━━━━━━━━━━\u001b[0m\u001b[37m\u001b[0m \u001b[1m4s\u001b[0m 2ms/step - accuracy: 0.8363 - loss: 0.4546 - val_accuracy: 0.8540 - val_loss: 0.3995\n",
      "Epoch 3/20\n",
      "\u001b[1m1719/1719\u001b[0m \u001b[32m━━━━━━━━━━━━━━━━━━━━\u001b[0m\u001b[37m\u001b[0m \u001b[1m4s\u001b[0m 2ms/step - accuracy: 0.8599 - loss: 0.3901 - val_accuracy: 0.8600 - val_loss: 0.3874\n",
      "Epoch 4/20\n",
      "\u001b[1m1719/1719\u001b[0m \u001b[32m━━━━━━━━━━━━━━━━━━━━\u001b[0m\u001b[37m\u001b[0m \u001b[1m4s\u001b[0m 2ms/step - accuracy: 0.8756 - loss: 0.3477 - val_accuracy: 0.8608 - val_loss: 0.3813\n",
      "Epoch 5/20\n",
      "\u001b[1m1719/1719\u001b[0m \u001b[32m━━━━━━━━━━━━━━━━━━━━\u001b[0m\u001b[37m\u001b[0m \u001b[1m4s\u001b[0m 2ms/step - accuracy: 0.8888 - loss: 0.3157 - val_accuracy: 0.8640 - val_loss: 0.3798\n",
      "Epoch 6/20\n",
      "\u001b[1m1719/1719\u001b[0m \u001b[32m━━━━━━━━━━━━━━━━━━━━\u001b[0m\u001b[37m\u001b[0m \u001b[1m4s\u001b[0m 2ms/step - accuracy: 0.8996 - loss: 0.2882 - val_accuracy: 0.8632 - val_loss: 0.3805\n",
      "Epoch 7/20\n",
      "\u001b[1m1719/1719\u001b[0m \u001b[32m━━━━━━━━━━━━━━━━━━━━\u001b[0m\u001b[37m\u001b[0m \u001b[1m4s\u001b[0m 2ms/step - accuracy: 0.9083 - loss: 0.2637 - val_accuracy: 0.8630 - val_loss: 0.3830\n",
      "Epoch 8/20\n",
      "\u001b[1m1719/1719\u001b[0m \u001b[32m━━━━━━━━━━━━━━━━━━━━\u001b[0m\u001b[37m\u001b[0m \u001b[1m4s\u001b[0m 2ms/step - accuracy: 0.9167 - loss: 0.2411 - val_accuracy: 0.8598 - val_loss: 0.3879\n",
      "Epoch 9/20\n",
      "\u001b[1m1719/1719\u001b[0m \u001b[32m━━━━━━━━━━━━━━━━━━━━\u001b[0m\u001b[37m\u001b[0m \u001b[1m4s\u001b[0m 2ms/step - accuracy: 0.9250 - loss: 0.2201 - val_accuracy: 0.8606 - val_loss: 0.3956\n",
      "Epoch 10/20\n",
      "\u001b[1m1719/1719\u001b[0m \u001b[32m━━━━━━━━━━━━━━━━━━━━\u001b[0m\u001b[37m\u001b[0m \u001b[1m4s\u001b[0m 2ms/step - accuracy: 0.9324 - loss: 0.2009 - val_accuracy: 0.8618 - val_loss: 0.4036\n",
      "Epoch 11/20\n",
      "\u001b[1m1719/1719\u001b[0m \u001b[32m━━━━━━━━━━━━━━━━━━━━\u001b[0m\u001b[37m\u001b[0m \u001b[1m4s\u001b[0m 2ms/step - accuracy: 0.9407 - loss: 0.1832 - val_accuracy: 0.8650 - val_loss: 0.4124\n",
      "Epoch 12/20\n",
      "\u001b[1m1719/1719\u001b[0m \u001b[32m━━━━━━━━━━━━━━━━━━━━\u001b[0m\u001b[37m\u001b[0m \u001b[1m4s\u001b[0m 2ms/step - accuracy: 0.9475 - loss: 0.1651 - val_accuracy: 0.8662 - val_loss: 0.4267\n",
      "Epoch 13/20\n",
      "\u001b[1m1719/1719\u001b[0m \u001b[32m━━━━━━━━━━━━━━━━━━━━\u001b[0m\u001b[37m\u001b[0m \u001b[1m4s\u001b[0m 2ms/step - accuracy: 0.9533 - loss: 0.1482 - val_accuracy: 0.8646 - val_loss: 0.4425\n",
      "Epoch 14/20\n",
      "\u001b[1m1719/1719\u001b[0m \u001b[32m━━━━━━━━━━━━━━━━━━━━\u001b[0m\u001b[37m\u001b[0m \u001b[1m4s\u001b[0m 2ms/step - accuracy: 0.9607 - loss: 0.1318 - val_accuracy: 0.8656 - val_loss: 0.4599\n",
      "Epoch 15/20\n",
      "\u001b[1m1719/1719\u001b[0m \u001b[32m━━━━━━━━━━━━━━━━━━━━\u001b[0m\u001b[37m\u001b[0m \u001b[1m4s\u001b[0m 2ms/step - accuracy: 0.9664 - loss: 0.1170 - val_accuracy: 0.8626 - val_loss: 0.4779\n",
      "Epoch 16/20\n",
      "\u001b[1m1719/1719\u001b[0m \u001b[32m━━━━━━━━━━━━━━━━━━━━\u001b[0m\u001b[37m\u001b[0m \u001b[1m4s\u001b[0m 2ms/step - accuracy: 0.9713 - loss: 0.1029 - val_accuracy: 0.8602 - val_loss: 0.5012\n",
      "Epoch 17/20\n",
      "\u001b[1m1719/1719\u001b[0m \u001b[32m━━━━━━━━━━━━━━━━━━━━\u001b[0m\u001b[37m\u001b[0m \u001b[1m4s\u001b[0m 2ms/step - accuracy: 0.9761 - loss: 0.0906 - val_accuracy: 0.8592 - val_loss: 0.5224\n",
      "Epoch 18/20\n",
      "\u001b[1m1719/1719\u001b[0m \u001b[32m━━━━━━━━━━━━━━━━━━━━\u001b[0m\u001b[37m\u001b[0m \u001b[1m4s\u001b[0m 2ms/step - accuracy: 0.9810 - loss: 0.0791 - val_accuracy: 0.8592 - val_loss: 0.5469\n",
      "Epoch 19/20\n",
      "\u001b[1m1719/1719\u001b[0m \u001b[32m━━━━━━━━━━━━━━━━━━━━\u001b[0m\u001b[37m\u001b[0m \u001b[1m4s\u001b[0m 2ms/step - accuracy: 0.9849 - loss: 0.0698 - val_accuracy: 0.8642 - val_loss: 0.5622\n",
      "Epoch 20/20\n",
      "\u001b[1m1719/1719\u001b[0m \u001b[32m━━━━━━━━━━━━━━━━━━━━\u001b[0m\u001b[37m\u001b[0m \u001b[1m4s\u001b[0m 2ms/step - accuracy: 0.9865 - loss: 0.0617 - val_accuracy: 0.8604 - val_loss: 0.6000\n"
     ]
    }
   ],
   "source": [
    "# Momentum Optimization can applied as follows in Keras\n",
    "optimizer = tf.keras.optimizers.SGD(\n",
    "    learning_rate=1e-3, \n",
    "    momentum=0.9\n",
    ")\n",
    "\n",
    "history_momentum = compile_and_train_model(\n",
    "    optimizer\n",
    ")"
   ]
  },
  {
   "cell_type": "markdown",
   "id": "4dd3d0dc",
   "metadata": {
    "papermill": {
     "duration": 0.233119,
     "end_time": "2024-04-27T19:21:17.867303",
     "exception": false,
     "start_time": "2024-04-27T19:21:17.634184",
     "status": "completed"
    },
    "tags": []
   },
   "source": [
    "**Utilising the Nesterov Accelerated Gradient**\n",
    "--\n",
    "\n",
    "- The Nesterov Momentum Optimisation method or the Nesterov Accelerated Gradient applies a significant mathematical manipulation to the above Momentum Algorithm.\n",
    "- It applies the momentum step before taking the gradient for the current epoch.\n",
    "\n",
    "$$m \\; \\leftarrow \\; \\beta m \\; - \\; \\alpha \\; \\nabla_w \\; J(W \\; + \\; \\beta m) $$\n",
    "\n",
    "- The updated paramter matrix with the momentum gradient is then used to accelerated the training process\n",
    "$$W \\; \\leftarrow \\; W \\; + \\; m$$\n",
    "\n",
    "- Where:\n",
    "    - m: Previous Weights (parameters)\n",
    "    - $\\alpha$: Learning Rate\n",
    "    - $\\beta$: Momentum\n",
    "    - J: Cost Function\n",
    "    - W: Actual Weights before update for the current iteration\n",
    "\n",
    "\n",
    "- The Nesterov techniques moves the location of the cost function J from its initial position W to a global optimum pointing in that direction using W + $\\beta w$.\n",
    "- The following small update provides a significant performance gains when training for longer epochs on comparison with regular optimisation algorithms."
   ]
  },
  {
   "cell_type": "code",
   "execution_count": 8,
   "id": "6a1e8d35",
   "metadata": {
    "execution": {
     "iopub.execute_input": "2024-04-27T19:21:18.344055Z",
     "iopub.status.busy": "2024-04-27T19:21:18.342922Z",
     "iopub.status.idle": "2024-04-27T19:22:37.588083Z",
     "shell.execute_reply": "2024-04-27T19:22:37.587092Z"
    },
    "papermill": {
     "duration": 79.486018,
     "end_time": "2024-04-27T19:22:37.590493",
     "exception": false,
     "start_time": "2024-04-27T19:21:18.104475",
     "status": "completed"
    },
    "tags": []
   },
   "outputs": [
    {
     "name": "stdout",
     "output_type": "stream",
     "text": [
      "Epoch 1/20\n",
      "\u001b[1m1719/1719\u001b[0m \u001b[32m━━━━━━━━━━━━━━━━━━━━\u001b[0m\u001b[37m\u001b[0m \u001b[1m8s\u001b[0m 3ms/step - accuracy: 0.7093 - loss: 0.8655 - val_accuracy: 0.8432 - val_loss: 0.4202\n",
      "Epoch 2/20\n",
      "\u001b[1m1719/1719\u001b[0m \u001b[32m━━━━━━━━━━━━━━━━━━━━\u001b[0m\u001b[37m\u001b[0m \u001b[1m4s\u001b[0m 2ms/step - accuracy: 0.8390 - loss: 0.4509 - val_accuracy: 0.8566 - val_loss: 0.3868\n",
      "Epoch 3/20\n",
      "\u001b[1m1719/1719\u001b[0m \u001b[32m━━━━━━━━━━━━━━━━━━━━\u001b[0m\u001b[37m\u001b[0m \u001b[1m4s\u001b[0m 2ms/step - accuracy: 0.8606 - loss: 0.3872 - val_accuracy: 0.8580 - val_loss: 0.3762\n",
      "Epoch 4/20\n",
      "\u001b[1m1719/1719\u001b[0m \u001b[32m━━━━━━━━━━━━━━━━━━━━\u001b[0m\u001b[37m\u001b[0m \u001b[1m4s\u001b[0m 2ms/step - accuracy: 0.8754 - loss: 0.3466 - val_accuracy: 0.8618 - val_loss: 0.3727\n",
      "Epoch 5/20\n",
      "\u001b[1m1719/1719\u001b[0m \u001b[32m━━━━━━━━━━━━━━━━━━━━\u001b[0m\u001b[37m\u001b[0m \u001b[1m4s\u001b[0m 2ms/step - accuracy: 0.8872 - loss: 0.3145 - val_accuracy: 0.8634 - val_loss: 0.3759\n",
      "Epoch 6/20\n",
      "\u001b[1m1719/1719\u001b[0m \u001b[32m━━━━━━━━━━━━━━━━━━━━\u001b[0m\u001b[37m\u001b[0m \u001b[1m4s\u001b[0m 2ms/step - accuracy: 0.8993 - loss: 0.2873 - val_accuracy: 0.8656 - val_loss: 0.3803\n",
      "Epoch 7/20\n",
      "\u001b[1m1719/1719\u001b[0m \u001b[32m━━━━━━━━━━━━━━━━━━━━\u001b[0m\u001b[37m\u001b[0m \u001b[1m4s\u001b[0m 2ms/step - accuracy: 0.9082 - loss: 0.2632 - val_accuracy: 0.8662 - val_loss: 0.3857\n",
      "Epoch 8/20\n",
      "\u001b[1m1719/1719\u001b[0m \u001b[32m━━━━━━━━━━━━━━━━━━━━\u001b[0m\u001b[37m\u001b[0m \u001b[1m4s\u001b[0m 2ms/step - accuracy: 0.9156 - loss: 0.2411 - val_accuracy: 0.8642 - val_loss: 0.3930\n",
      "Epoch 9/20\n",
      "\u001b[1m1719/1719\u001b[0m \u001b[32m━━━━━━━━━━━━━━━━━━━━\u001b[0m\u001b[37m\u001b[0m \u001b[1m4s\u001b[0m 2ms/step - accuracy: 0.9246 - loss: 0.2206 - val_accuracy: 0.8642 - val_loss: 0.4039\n",
      "Epoch 10/20\n",
      "\u001b[1m1719/1719\u001b[0m \u001b[32m━━━━━━━━━━━━━━━━━━━━\u001b[0m\u001b[37m\u001b[0m \u001b[1m4s\u001b[0m 2ms/step - accuracy: 0.9325 - loss: 0.2012 - val_accuracy: 0.8642 - val_loss: 0.4195\n",
      "Epoch 11/20\n",
      "\u001b[1m1719/1719\u001b[0m \u001b[32m━━━━━━━━━━━━━━━━━━━━\u001b[0m\u001b[37m\u001b[0m \u001b[1m4s\u001b[0m 2ms/step - accuracy: 0.9401 - loss: 0.1834 - val_accuracy: 0.8632 - val_loss: 0.4343\n",
      "Epoch 12/20\n",
      "\u001b[1m1719/1719\u001b[0m \u001b[32m━━━━━━━━━━━━━━━━━━━━\u001b[0m\u001b[37m\u001b[0m \u001b[1m4s\u001b[0m 2ms/step - accuracy: 0.9460 - loss: 0.1664 - val_accuracy: 0.8630 - val_loss: 0.4483\n",
      "Epoch 13/20\n",
      "\u001b[1m1719/1719\u001b[0m \u001b[32m━━━━━━━━━━━━━━━━━━━━\u001b[0m\u001b[37m\u001b[0m \u001b[1m4s\u001b[0m 2ms/step - accuracy: 0.9525 - loss: 0.1500 - val_accuracy: 0.8606 - val_loss: 0.4651\n",
      "Epoch 14/20\n",
      "\u001b[1m1719/1719\u001b[0m \u001b[32m━━━━━━━━━━━━━━━━━━━━\u001b[0m\u001b[37m\u001b[0m \u001b[1m4s\u001b[0m 2ms/step - accuracy: 0.9589 - loss: 0.1342 - val_accuracy: 0.8630 - val_loss: 0.4788\n",
      "Epoch 15/20\n",
      "\u001b[1m1719/1719\u001b[0m \u001b[32m━━━━━━━━━━━━━━━━━━━━\u001b[0m\u001b[37m\u001b[0m \u001b[1m4s\u001b[0m 2ms/step - accuracy: 0.9642 - loss: 0.1200 - val_accuracy: 0.8610 - val_loss: 0.4966\n",
      "Epoch 16/20\n",
      "\u001b[1m1719/1719\u001b[0m \u001b[32m━━━━━━━━━━━━━━━━━━━━\u001b[0m\u001b[37m\u001b[0m \u001b[1m4s\u001b[0m 2ms/step - accuracy: 0.9698 - loss: 0.1069 - val_accuracy: 0.8632 - val_loss: 0.5091\n",
      "Epoch 17/20\n",
      "\u001b[1m1719/1719\u001b[0m \u001b[32m━━━━━━━━━━━━━━━━━━━━\u001b[0m\u001b[37m\u001b[0m \u001b[1m4s\u001b[0m 2ms/step - accuracy: 0.9758 - loss: 0.0931 - val_accuracy: 0.8624 - val_loss: 0.5279\n",
      "Epoch 18/20\n",
      "\u001b[1m1719/1719\u001b[0m \u001b[32m━━━━━━━━━━━━━━━━━━━━\u001b[0m\u001b[37m\u001b[0m \u001b[1m4s\u001b[0m 2ms/step - accuracy: 0.9796 - loss: 0.0822 - val_accuracy: 0.8622 - val_loss: 0.5462\n",
      "Epoch 19/20\n",
      "\u001b[1m1719/1719\u001b[0m \u001b[32m━━━━━━━━━━━━━━━━━━━━\u001b[0m\u001b[37m\u001b[0m \u001b[1m4s\u001b[0m 2ms/step - accuracy: 0.9827 - loss: 0.0720 - val_accuracy: 0.8610 - val_loss: 0.5710\n",
      "Epoch 20/20\n",
      "\u001b[1m1719/1719\u001b[0m \u001b[32m━━━━━━━━━━━━━━━━━━━━\u001b[0m\u001b[37m\u001b[0m \u001b[1m4s\u001b[0m 2ms/step - accuracy: 0.9875 - loss: 0.0615 - val_accuracy: 0.8632 - val_loss: 0.5930\n"
     ]
    }
   ],
   "source": [
    "optimizer = tf.keras.optimizers.SGD(\n",
    "    learning_rate=1e-3,\n",
    "    momentum=0.9,\n",
    "    nesterov=True\n",
    ")\n",
    "\n",
    "history_nesterov = compile_and_train_model(optimizer)"
   ]
  },
  {
   "cell_type": "markdown",
   "id": "7d84045d",
   "metadata": {
    "papermill": {
     "duration": 0.348172,
     "end_time": "2024-04-27T19:22:38.291453",
     "exception": false,
     "start_time": "2024-04-27T19:22:37.943281",
     "status": "completed"
    },
    "tags": []
   },
   "source": [
    "**Root Mean Squared Propagation Algorithm (RMS Prop)**\n",
    "--\n",
    "\n",
    "- The RMS Prop Algorithm takes a step forward from the **`Gradient Descent with Momentum Algorithm`** by further addressing its issues.\n",
    "- The Momentum algorithm utilised **`all the previously calculated gradients`** while calculating the updated values of the parameters this made the algorithm **`prone to being slow`** on longer training sessions.\n",
    "- The **`RMS Prop Algorithm applied an exponential decay`** on the momentum step to increase the speed of calculation by only considering a controlled number of recently calculated gradients.\n",
    "\n",
    "## Update Equations for the RMS Propagation\n",
    "\n",
    "$$Sdw \\; = \\; \\beta \\; Sdw \\; + \\; (1 \\; - \\; \\beta) \\; dw^2$$\n",
    "$$Sdb \\; = \\; \\beta \\; Sdb \\; + \\; (1 \\; - \\; \\beta) \\; db^2$$\n",
    "\n",
    "- Notation:\n",
    "    - Sdw: is the gradient from previous epochs of training\n",
    "    - $\\beta$: is the momentum hyperparameter enforcing the exponential decay (decay rate)\n",
    "    - dw: is the gradient from the current epoch of training\n",
    "    - $dw^2$: is taken element-wise for each element in the matrix\n",
    "    - Sdb and db are used to make similar references as Sdw and dw\n",
    "    \n",
    "\n",
    "- While the above equations calculate the Squared Exponentially Weighted Moving Average they draw inspiration from the idea of Exponentially Weighted Moving Averages:\n",
    "$$V_t \\; = \\; \\beta \\; V_{t-1} \\; + \\; (1 \\; - \\; \\beta) \\; X_t$$\n",
    "\n",
    "- The calculated values of Sdw and Sdb are then used to update the parameter matrices for the given epoch of training as follows:\n",
    "$$w \\; = \\; w \\; - \\; \\alpha \\; \\frac{dw}{\\sqrt{Sdw \\; + \\; \\epsilon}}$$\n",
    "$$b \\; = \\; b \\; - \\; \\alpha \\; \\frac{db}{\\sqrt{Sdb \\; + \\; \\epsilon}}$$\n",
    "\n",
    "- Here: $\\epsilon$ is a small value used to prevent Zero Division\n",
    "    \n",
    "**Important**\n",
    "- The values of $dw^2$ generally tend to decrease overtime since they are initialised as floating point numbers.\n",
    "- Thus overtime the update equation of Sdw would make Horizontal Progress (X-Axis, along dw) due to smaller values of $dw^2$.\n",
    "- The values of $db^2$ generally tend to increase overtime since they are initialised as integers.\n",
    "- Thus overtime the update equation of Sdb would make Vertical Progress (Y-Axis, along db) due to smaller values of Sdb."
   ]
  },
  {
   "cell_type": "code",
   "execution_count": 9,
   "id": "25d95311",
   "metadata": {
    "execution": {
     "iopub.execute_input": "2024-04-27T19:22:38.997008Z",
     "iopub.status.busy": "2024-04-27T19:22:38.996365Z",
     "iopub.status.idle": "2024-04-27T19:24:00.401451Z",
     "shell.execute_reply": "2024-04-27T19:24:00.400642Z"
    },
    "papermill": {
     "duration": 81.758077,
     "end_time": "2024-04-27T19:24:00.403525",
     "exception": false,
     "start_time": "2024-04-27T19:22:38.645448",
     "status": "completed"
    },
    "tags": []
   },
   "outputs": [
    {
     "name": "stdout",
     "output_type": "stream",
     "text": [
      "Epoch 1/20\n",
      "\u001b[1m1719/1719\u001b[0m \u001b[32m━━━━━━━━━━━━━━━━━━━━\u001b[0m\u001b[37m\u001b[0m \u001b[1m9s\u001b[0m 3ms/step - accuracy: 0.7720 - loss: 0.6524 - val_accuracy: 0.8564 - val_loss: 0.3824\n",
      "Epoch 2/20\n",
      "\u001b[1m1719/1719\u001b[0m \u001b[32m━━━━━━━━━━━━━━━━━━━━\u001b[0m\u001b[37m\u001b[0m \u001b[1m4s\u001b[0m 2ms/step - accuracy: 0.8557 - loss: 0.4026 - val_accuracy: 0.8696 - val_loss: 0.3587\n",
      "Epoch 3/20\n",
      "\u001b[1m1719/1719\u001b[0m \u001b[32m━━━━━━━━━━━━━━━━━━━━\u001b[0m\u001b[37m\u001b[0m \u001b[1m4s\u001b[0m 2ms/step - accuracy: 0.8775 - loss: 0.3410 - val_accuracy: 0.8772 - val_loss: 0.3439\n",
      "Epoch 4/20\n",
      "\u001b[1m1719/1719\u001b[0m \u001b[32m━━━━━━━━━━━━━━━━━━━━\u001b[0m\u001b[37m\u001b[0m \u001b[1m4s\u001b[0m 2ms/step - accuracy: 0.8927 - loss: 0.2997 - val_accuracy: 0.8762 - val_loss: 0.3495\n",
      "Epoch 5/20\n",
      "\u001b[1m1719/1719\u001b[0m \u001b[32m━━━━━━━━━━━━━━━━━━━━\u001b[0m\u001b[37m\u001b[0m \u001b[1m4s\u001b[0m 2ms/step - accuracy: 0.9039 - loss: 0.2689 - val_accuracy: 0.8820 - val_loss: 0.3516\n",
      "Epoch 6/20\n",
      "\u001b[1m1719/1719\u001b[0m \u001b[32m━━━━━━━━━━━━━━━━━━━━\u001b[0m\u001b[37m\u001b[0m \u001b[1m4s\u001b[0m 2ms/step - accuracy: 0.9127 - loss: 0.2429 - val_accuracy: 0.8806 - val_loss: 0.3558\n",
      "Epoch 7/20\n",
      "\u001b[1m1719/1719\u001b[0m \u001b[32m━━━━━━━━━━━━━━━━━━━━\u001b[0m\u001b[37m\u001b[0m \u001b[1m4s\u001b[0m 2ms/step - accuracy: 0.9200 - loss: 0.2233 - val_accuracy: 0.8776 - val_loss: 0.3864\n",
      "Epoch 8/20\n",
      "\u001b[1m1719/1719\u001b[0m \u001b[32m━━━━━━━━━━━━━━━━━━━━\u001b[0m\u001b[37m\u001b[0m \u001b[1m4s\u001b[0m 2ms/step - accuracy: 0.9285 - loss: 0.2018 - val_accuracy: 0.8800 - val_loss: 0.3873\n",
      "Epoch 9/20\n",
      "\u001b[1m1719/1719\u001b[0m \u001b[32m━━━━━━━━━━━━━━━━━━━━\u001b[0m\u001b[37m\u001b[0m \u001b[1m4s\u001b[0m 2ms/step - accuracy: 0.9350 - loss: 0.1810 - val_accuracy: 0.8782 - val_loss: 0.4251\n",
      "Epoch 10/20\n",
      "\u001b[1m1719/1719\u001b[0m \u001b[32m━━━━━━━━━━━━━━━━━━━━\u001b[0m\u001b[37m\u001b[0m \u001b[1m4s\u001b[0m 2ms/step - accuracy: 0.9406 - loss: 0.1673 - val_accuracy: 0.8786 - val_loss: 0.4490\n",
      "Epoch 11/20\n",
      "\u001b[1m1719/1719\u001b[0m \u001b[32m━━━━━━━━━━━━━━━━━━━━\u001b[0m\u001b[37m\u001b[0m \u001b[1m4s\u001b[0m 2ms/step - accuracy: 0.9441 - loss: 0.1566 - val_accuracy: 0.8746 - val_loss: 0.4693\n",
      "Epoch 12/20\n",
      "\u001b[1m1719/1719\u001b[0m \u001b[32m━━━━━━━━━━━━━━━━━━━━\u001b[0m\u001b[37m\u001b[0m \u001b[1m4s\u001b[0m 2ms/step - accuracy: 0.9504 - loss: 0.1415 - val_accuracy: 0.8774 - val_loss: 0.4797\n",
      "Epoch 13/20\n",
      "\u001b[1m1719/1719\u001b[0m \u001b[32m━━━━━━━━━━━━━━━━━━━━\u001b[0m\u001b[37m\u001b[0m \u001b[1m4s\u001b[0m 2ms/step - accuracy: 0.9549 - loss: 0.1268 - val_accuracy: 0.8744 - val_loss: 0.5275\n",
      "Epoch 14/20\n",
      "\u001b[1m1719/1719\u001b[0m \u001b[32m━━━━━━━━━━━━━━━━━━━━\u001b[0m\u001b[37m\u001b[0m \u001b[1m4s\u001b[0m 2ms/step - accuracy: 0.9589 - loss: 0.1184 - val_accuracy: 0.8716 - val_loss: 0.5613\n",
      "Epoch 15/20\n",
      "\u001b[1m1719/1719\u001b[0m \u001b[32m━━━━━━━━━━━━━━━━━━━━\u001b[0m\u001b[37m\u001b[0m \u001b[1m4s\u001b[0m 2ms/step - accuracy: 0.9585 - loss: 0.1146 - val_accuracy: 0.8772 - val_loss: 0.5915\n",
      "Epoch 16/20\n",
      "\u001b[1m1719/1719\u001b[0m \u001b[32m━━━━━━━━━━━━━━━━━━━━\u001b[0m\u001b[37m\u001b[0m \u001b[1m4s\u001b[0m 2ms/step - accuracy: 0.9631 - loss: 0.1036 - val_accuracy: 0.8710 - val_loss: 0.5919\n",
      "Epoch 17/20\n",
      "\u001b[1m1719/1719\u001b[0m \u001b[32m━━━━━━━━━━━━━━━━━━━━\u001b[0m\u001b[37m\u001b[0m \u001b[1m4s\u001b[0m 2ms/step - accuracy: 0.9642 - loss: 0.1021 - val_accuracy: 0.8744 - val_loss: 0.6231\n",
      "Epoch 18/20\n",
      "\u001b[1m1719/1719\u001b[0m \u001b[32m━━━━━━━━━━━━━━━━━━━━\u001b[0m\u001b[37m\u001b[0m \u001b[1m4s\u001b[0m 2ms/step - accuracy: 0.9683 - loss: 0.0904 - val_accuracy: 0.8730 - val_loss: 0.6453\n",
      "Epoch 19/20\n",
      "\u001b[1m1719/1719\u001b[0m \u001b[32m━━━━━━━━━━━━━━━━━━━━\u001b[0m\u001b[37m\u001b[0m \u001b[1m4s\u001b[0m 2ms/step - accuracy: 0.9697 - loss: 0.0851 - val_accuracy: 0.8786 - val_loss: 0.6481\n",
      "Epoch 20/20\n",
      "\u001b[1m1719/1719\u001b[0m \u001b[32m━━━━━━━━━━━━━━━━━━━━\u001b[0m\u001b[37m\u001b[0m \u001b[1m4s\u001b[0m 2ms/step - accuracy: 0.9689 - loss: 0.0849 - val_accuracy: 0.8772 - val_loss: 0.6873\n"
     ]
    }
   ],
   "source": [
    "# Here Rho corresponds to beta the Momentum Parameter\n",
    "optimizer = tf.keras.optimizers.RMSprop(\n",
    "    learning_rate=1e-3,\n",
    "    rho=0.9\n",
    ")\n",
    "\n",
    "history_rms = compile_and_train_model(optimizer)"
   ]
  },
  {
   "cell_type": "markdown",
   "id": "74730498",
   "metadata": {
    "papermill": {
     "duration": 0.497873,
     "end_time": "2024-04-27T19:24:01.420236",
     "exception": false,
     "start_time": "2024-04-27T19:24:00.922363",
     "status": "completed"
    },
    "tags": []
   },
   "source": [
    "**Adaptive Moment Estimation Algorithm (Adam Optimization)**\n",
    "--\n",
    "\n",
    "- It combines the ideas of Momentum Optimization and RMS Prop Optimization algorithms.\n",
    "- It utilises the idea of `Momentum Optimization` to make estimations of the **`First Moment: Mean`**\n",
    "- It then utilises the idea of `RMS Prop` to make estimations of the **`Second Moment: Variance (Uncentered)`**\n",
    "\n",
    "## Update Equations of the Adam Optimization Algorithm\n",
    "- **Momentum Weighted Average**\n",
    "$$Vdw \\; = \\; \\beta_1 \\; Vdw \\; + \\; (1 \\; - \\; \\beta_1) \\; dw$$\n",
    "$$Vdb \\; = \\; \\beta_1 \\; Vdb \\; + \\; (1 \\; - \\; \\beta_1) \\; db$$\n",
    "\n",
    "- **RMS Prop Weighted Average**\n",
    "$$Sdw \\; = \\; \\beta_2 \\; Sdw \\; + \\; (1 \\; - \\; \\beta_2) \\; dw^2$$\n",
    "$$Sdb \\; = \\; \\beta_2 \\; Sdb \\; + \\; (1 \\; - \\; \\beta_2) \\; db^2$$\n",
    "\n",
    "- *Here $\\beta_1 \\; and \\; \\beta_2$ are hyperparameters for Momentum and RMS Prop respectively*\n",
    "- Since each of the above gradients is initialised to 0, during the initial epochs of the training process the `estimates of First and Second Moments are biased towards 0`.\n",
    "- Thus they are hence corrected by the following updates:\n",
    "- **First Moment Correction**\n",
    "$$\\widehat{V_{dw}} \\; = \\; \\frac{Vdw}{1 \\; - \\; \\beta_1^t}$$\n",
    "$$\\widehat{V_{db}} \\; = \\; \\frac{Vdb}{1 \\; - \\; \\beta_1^t}$$\n",
    "\n",
    "- **Second Moment Correction**\n",
    "$$\\widehat{S_{dw}} \\; = \\; \\frac{Sdw}{1 \\; - \\; \\beta_2^t}$$\n",
    "$$\\widehat{S_{db}} \\; = \\; \\frac{Sdb}{1 \\; - \\; \\beta_2^t}$$\n",
    "\n",
    "- The above mentioned corrections approximate to the original values with increasing values of t. Here t is the number of training epochs.\n",
    "- The Corrected Values of the estimations are then substituted to update the parameter matrix as follows:\n",
    "$$w \\; = \\; w \\; - \\; \\alpha \\; \\frac{\\widehat{V_{dw}}}{\\sqrt{\\widehat{S_{dw}} \\; + \\; \\epsilon}}$$\n",
    "$$b \\; = \\; b \\; - \\; \\alpha \\; \\frac{\\widehat{V_{db}}}{\\sqrt{\\widehat{S_{db}} \\; + \\; \\epsilon}}$$\n"
   ]
  },
  {
   "cell_type": "code",
   "execution_count": 10,
   "id": "f5f12550",
   "metadata": {
    "execution": {
     "iopub.execute_input": "2024-04-27T19:24:02.367430Z",
     "iopub.status.busy": "2024-04-27T19:24:02.367054Z",
     "iopub.status.idle": "2024-04-27T19:25:29.879354Z",
     "shell.execute_reply": "2024-04-27T19:25:29.878524Z"
    },
    "papermill": {
     "duration": 87.988383,
     "end_time": "2024-04-27T19:25:29.881609",
     "exception": false,
     "start_time": "2024-04-27T19:24:01.893226",
     "status": "completed"
    },
    "tags": []
   },
   "outputs": [
    {
     "name": "stdout",
     "output_type": "stream",
     "text": [
      "Epoch 1/20\n",
      "\u001b[1m1719/1719\u001b[0m \u001b[32m━━━━━━━━━━━━━━━━━━━━\u001b[0m\u001b[37m\u001b[0m \u001b[1m10s\u001b[0m 3ms/step - accuracy: 0.7648 - loss: 0.6711 - val_accuracy: 0.8588 - val_loss: 0.3899\n",
      "Epoch 2/20\n",
      "\u001b[1m1719/1719\u001b[0m \u001b[32m━━━━━━━━━━━━━━━━━━━━\u001b[0m\u001b[37m\u001b[0m \u001b[1m4s\u001b[0m 2ms/step - accuracy: 0.8559 - loss: 0.4003 - val_accuracy: 0.8686 - val_loss: 0.3656\n",
      "Epoch 3/20\n",
      "\u001b[1m1719/1719\u001b[0m \u001b[32m━━━━━━━━━━━━━━━━━━━━\u001b[0m\u001b[37m\u001b[0m \u001b[1m4s\u001b[0m 2ms/step - accuracy: 0.8746 - loss: 0.3496 - val_accuracy: 0.8708 - val_loss: 0.3642\n",
      "Epoch 4/20\n",
      "\u001b[1m1719/1719\u001b[0m \u001b[32m━━━━━━━━━━━━━━━━━━━━\u001b[0m\u001b[37m\u001b[0m \u001b[1m4s\u001b[0m 2ms/step - accuracy: 0.8875 - loss: 0.3109 - val_accuracy: 0.8706 - val_loss: 0.3743\n",
      "Epoch 5/20\n",
      "\u001b[1m1719/1719\u001b[0m \u001b[32m━━━━━━━━━━━━━━━━━━━━\u001b[0m\u001b[37m\u001b[0m \u001b[1m4s\u001b[0m 2ms/step - accuracy: 0.8995 - loss: 0.2769 - val_accuracy: 0.8678 - val_loss: 0.3879\n",
      "Epoch 6/20\n",
      "\u001b[1m1719/1719\u001b[0m \u001b[32m━━━━━━━━━━━━━━━━━━━━\u001b[0m\u001b[37m\u001b[0m \u001b[1m4s\u001b[0m 2ms/step - accuracy: 0.9088 - loss: 0.2490 - val_accuracy: 0.8672 - val_loss: 0.4024\n",
      "Epoch 7/20\n",
      "\u001b[1m1719/1719\u001b[0m \u001b[32m━━━━━━━━━━━━━━━━━━━━\u001b[0m\u001b[37m\u001b[0m \u001b[1m4s\u001b[0m 2ms/step - accuracy: 0.9176 - loss: 0.2264 - val_accuracy: 0.8712 - val_loss: 0.3930\n",
      "Epoch 8/20\n",
      "\u001b[1m1719/1719\u001b[0m \u001b[32m━━━━━━━━━━━━━━━━━━━━\u001b[0m\u001b[37m\u001b[0m \u001b[1m4s\u001b[0m 2ms/step - accuracy: 0.9214 - loss: 0.2072 - val_accuracy: 0.8686 - val_loss: 0.4370\n",
      "Epoch 9/20\n",
      "\u001b[1m1719/1719\u001b[0m \u001b[32m━━━━━━━━━━━━━━━━━━━━\u001b[0m\u001b[37m\u001b[0m \u001b[1m4s\u001b[0m 2ms/step - accuracy: 0.9314 - loss: 0.1868 - val_accuracy: 0.8730 - val_loss: 0.4248\n",
      "Epoch 10/20\n",
      "\u001b[1m1719/1719\u001b[0m \u001b[32m━━━━━━━━━━━━━━━━━━━━\u001b[0m\u001b[37m\u001b[0m \u001b[1m4s\u001b[0m 2ms/step - accuracy: 0.9366 - loss: 0.1718 - val_accuracy: 0.8694 - val_loss: 0.4480\n",
      "Epoch 11/20\n",
      "\u001b[1m1719/1719\u001b[0m \u001b[32m━━━━━━━━━━━━━━━━━━━━\u001b[0m\u001b[37m\u001b[0m \u001b[1m4s\u001b[0m 2ms/step - accuracy: 0.9433 - loss: 0.1543 - val_accuracy: 0.8696 - val_loss: 0.4588\n",
      "Epoch 12/20\n",
      "\u001b[1m1719/1719\u001b[0m \u001b[32m━━━━━━━━━━━━━━━━━━━━\u001b[0m\u001b[37m\u001b[0m \u001b[1m4s\u001b[0m 2ms/step - accuracy: 0.9483 - loss: 0.1385 - val_accuracy: 0.8624 - val_loss: 0.4967\n",
      "Epoch 13/20\n",
      "\u001b[1m1719/1719\u001b[0m \u001b[32m━━━━━━━━━━━━━━━━━━━━\u001b[0m\u001b[37m\u001b[0m \u001b[1m5s\u001b[0m 2ms/step - accuracy: 0.9512 - loss: 0.1315 - val_accuracy: 0.8646 - val_loss: 0.5190\n",
      "Epoch 14/20\n",
      "\u001b[1m1719/1719\u001b[0m \u001b[32m━━━━━━━━━━━━━━━━━━━━\u001b[0m\u001b[37m\u001b[0m \u001b[1m4s\u001b[0m 2ms/step - accuracy: 0.9550 - loss: 0.1200 - val_accuracy: 0.8698 - val_loss: 0.5239\n",
      "Epoch 15/20\n",
      "\u001b[1m1719/1719\u001b[0m \u001b[32m━━━━━━━━━━━━━━━━━━━━\u001b[0m\u001b[37m\u001b[0m \u001b[1m4s\u001b[0m 2ms/step - accuracy: 0.9590 - loss: 0.1083 - val_accuracy: 0.8722 - val_loss: 0.5205\n",
      "Epoch 16/20\n",
      "\u001b[1m1719/1719\u001b[0m \u001b[32m━━━━━━━━━━━━━━━━━━━━\u001b[0m\u001b[37m\u001b[0m \u001b[1m4s\u001b[0m 2ms/step - accuracy: 0.9619 - loss: 0.1019 - val_accuracy: 0.8692 - val_loss: 0.5673\n",
      "Epoch 17/20\n",
      "\u001b[1m1719/1719\u001b[0m \u001b[32m━━━━━━━━━━━━━━━━━━━━\u001b[0m\u001b[37m\u001b[0m \u001b[1m4s\u001b[0m 2ms/step - accuracy: 0.9637 - loss: 0.0936 - val_accuracy: 0.8710 - val_loss: 0.5817\n",
      "Epoch 18/20\n",
      "\u001b[1m1719/1719\u001b[0m \u001b[32m━━━━━━━━━━━━━━━━━━━━\u001b[0m\u001b[37m\u001b[0m \u001b[1m4s\u001b[0m 2ms/step - accuracy: 0.9677 - loss: 0.0875 - val_accuracy: 0.8692 - val_loss: 0.6409\n",
      "Epoch 19/20\n",
      "\u001b[1m1719/1719\u001b[0m \u001b[32m━━━━━━━━━━━━━━━━━━━━\u001b[0m\u001b[37m\u001b[0m \u001b[1m4s\u001b[0m 2ms/step - accuracy: 0.9682 - loss: 0.0824 - val_accuracy: 0.8740 - val_loss: 0.6070\n",
      "Epoch 20/20\n",
      "\u001b[1m1719/1719\u001b[0m \u001b[32m━━━━━━━━━━━━━━━━━━━━\u001b[0m\u001b[37m\u001b[0m \u001b[1m4s\u001b[0m 2ms/step - accuracy: 0.9710 - loss: 0.0742 - val_accuracy: 0.8742 - val_loss: 0.6286\n"
     ]
    }
   ],
   "source": [
    "optimizer = tf.keras.optimizers.Adam(\n",
    "    learning_rate=1e-3,\n",
    "    beta_1=0.9,\n",
    "    beta_2=0.999\n",
    ")\n",
    "\n",
    "history_adam = compile_and_train_model(optimizer)"
   ]
  },
  {
   "cell_type": "markdown",
   "id": "1aad7ffc",
   "metadata": {
    "papermill": {
     "duration": 0.646239,
     "end_time": "2024-04-27T19:25:31.123727",
     "exception": false,
     "start_time": "2024-04-27T19:25:30.477488",
     "status": "completed"
    },
    "tags": []
   },
   "source": [
    "**Variants of the Adam Optimisation Algorithm**\n",
    "--\n",
    "\n",
    "- **AdaMax**: The AdaMax algorithm makes small modifications to the RMS Prop Average Calculation\n",
    "$$S \\; \\leftarrow \\; max(\\beta_2 \\; S, \\; \\nabla_W \\; J(W))$$"
   ]
  },
  {
   "cell_type": "code",
   "execution_count": 11,
   "id": "9de9f854",
   "metadata": {
    "execution": {
     "iopub.execute_input": "2024-04-27T19:25:32.356771Z",
     "iopub.status.busy": "2024-04-27T19:25:32.356402Z",
     "iopub.status.idle": "2024-04-27T19:26:59.908016Z",
     "shell.execute_reply": "2024-04-27T19:26:59.907252Z"
    },
    "papermill": {
     "duration": 88.187666,
     "end_time": "2024-04-27T19:26:59.910171",
     "exception": false,
     "start_time": "2024-04-27T19:25:31.722505",
     "status": "completed"
    },
    "tags": []
   },
   "outputs": [
    {
     "name": "stdout",
     "output_type": "stream",
     "text": [
      "Epoch 1/20\n",
      "\u001b[1m1719/1719\u001b[0m \u001b[32m━━━━━━━━━━━━━━━━━━━━\u001b[0m\u001b[37m\u001b[0m \u001b[1m10s\u001b[0m 3ms/step - accuracy: 0.7273 - loss: 0.8086 - val_accuracy: 0.8484 - val_loss: 0.4093\n",
      "Epoch 2/20\n",
      "\u001b[1m1719/1719\u001b[0m \u001b[32m━━━━━━━━━━━━━━━━━━━━\u001b[0m\u001b[37m\u001b[0m \u001b[1m4s\u001b[0m 2ms/step - accuracy: 0.8444 - loss: 0.4302 - val_accuracy: 0.8610 - val_loss: 0.3755\n",
      "Epoch 3/20\n",
      "\u001b[1m1719/1719\u001b[0m \u001b[32m━━━━━━━━━━━━━━━━━━━━\u001b[0m\u001b[37m\u001b[0m \u001b[1m4s\u001b[0m 2ms/step - accuracy: 0.8733 - loss: 0.3537 - val_accuracy: 0.8658 - val_loss: 0.3615\n",
      "Epoch 4/20\n",
      "\u001b[1m1719/1719\u001b[0m \u001b[32m━━━━━━━━━━━━━━━━━━━━\u001b[0m\u001b[37m\u001b[0m \u001b[1m4s\u001b[0m 2ms/step - accuracy: 0.8897 - loss: 0.3067 - val_accuracy: 0.8684 - val_loss: 0.3592\n",
      "Epoch 5/20\n",
      "\u001b[1m1719/1719\u001b[0m \u001b[32m━━━━━━━━━━━━━━━━━━━━\u001b[0m\u001b[37m\u001b[0m \u001b[1m4s\u001b[0m 2ms/step - accuracy: 0.9039 - loss: 0.2692 - val_accuracy: 0.8702 - val_loss: 0.3644\n",
      "Epoch 6/20\n",
      "\u001b[1m1719/1719\u001b[0m \u001b[32m━━━━━━━━━━━━━━━━━━━━\u001b[0m\u001b[37m\u001b[0m \u001b[1m4s\u001b[0m 2ms/step - accuracy: 0.9170 - loss: 0.2370 - val_accuracy: 0.8690 - val_loss: 0.3782\n",
      "Epoch 7/20\n",
      "\u001b[1m1719/1719\u001b[0m \u001b[32m━━━━━━━━━━━━━━━━━━━━\u001b[0m\u001b[37m\u001b[0m \u001b[1m4s\u001b[0m 2ms/step - accuracy: 0.9270 - loss: 0.2092 - val_accuracy: 0.8752 - val_loss: 0.3868\n",
      "Epoch 8/20\n",
      "\u001b[1m1719/1719\u001b[0m \u001b[32m━━━━━━━━━━━━━━━━━━━━\u001b[0m\u001b[37m\u001b[0m \u001b[1m4s\u001b[0m 2ms/step - accuracy: 0.9371 - loss: 0.1842 - val_accuracy: 0.8730 - val_loss: 0.4004\n",
      "Epoch 9/20\n",
      "\u001b[1m1719/1719\u001b[0m \u001b[32m━━━━━━━━━━━━━━━━━━━━\u001b[0m\u001b[37m\u001b[0m \u001b[1m4s\u001b[0m 2ms/step - accuracy: 0.9462 - loss: 0.1615 - val_accuracy: 0.8720 - val_loss: 0.4199\n",
      "Epoch 10/20\n",
      "\u001b[1m1719/1719\u001b[0m \u001b[32m━━━━━━━━━━━━━━━━━━━━\u001b[0m\u001b[37m\u001b[0m \u001b[1m4s\u001b[0m 2ms/step - accuracy: 0.9540 - loss: 0.1406 - val_accuracy: 0.8684 - val_loss: 0.4546\n",
      "Epoch 11/20\n",
      "\u001b[1m1719/1719\u001b[0m \u001b[32m━━━━━━━━━━━━━━━━━━━━\u001b[0m\u001b[37m\u001b[0m \u001b[1m4s\u001b[0m 2ms/step - accuracy: 0.9601 - loss: 0.1222 - val_accuracy: 0.8650 - val_loss: 0.4867\n",
      "Epoch 12/20\n",
      "\u001b[1m1719/1719\u001b[0m \u001b[32m━━━━━━━━━━━━━━━━━━━━\u001b[0m\u001b[37m\u001b[0m \u001b[1m4s\u001b[0m 2ms/step - accuracy: 0.9670 - loss: 0.1065 - val_accuracy: 0.8690 - val_loss: 0.5101\n",
      "Epoch 13/20\n",
      "\u001b[1m1719/1719\u001b[0m \u001b[32m━━━━━━━━━━━━━━━━━━━━\u001b[0m\u001b[37m\u001b[0m \u001b[1m4s\u001b[0m 2ms/step - accuracy: 0.9718 - loss: 0.0914 - val_accuracy: 0.8670 - val_loss: 0.5423\n",
      "Epoch 14/20\n",
      "\u001b[1m1719/1719\u001b[0m \u001b[32m━━━━━━━━━━━━━━━━━━━━\u001b[0m\u001b[37m\u001b[0m \u001b[1m4s\u001b[0m 2ms/step - accuracy: 0.9776 - loss: 0.0790 - val_accuracy: 0.8672 - val_loss: 0.5624\n",
      "Epoch 15/20\n",
      "\u001b[1m1719/1719\u001b[0m \u001b[32m━━━━━━━━━━━━━━━━━━━━\u001b[0m\u001b[37m\u001b[0m \u001b[1m4s\u001b[0m 2ms/step - accuracy: 0.9797 - loss: 0.0682 - val_accuracy: 0.8692 - val_loss: 0.5924\n",
      "Epoch 16/20\n",
      "\u001b[1m1719/1719\u001b[0m \u001b[32m━━━━━━━━━━━━━━━━━━━━\u001b[0m\u001b[37m\u001b[0m \u001b[1m4s\u001b[0m 2ms/step - accuracy: 0.9837 - loss: 0.0585 - val_accuracy: 0.8720 - val_loss: 0.6175\n",
      "Epoch 17/20\n",
      "\u001b[1m1719/1719\u001b[0m \u001b[32m━━━━━━━━━━━━━━━━━━━━\u001b[0m\u001b[37m\u001b[0m \u001b[1m4s\u001b[0m 2ms/step - accuracy: 0.9864 - loss: 0.0503 - val_accuracy: 0.8686 - val_loss: 0.6279\n",
      "Epoch 18/20\n",
      "\u001b[1m1719/1719\u001b[0m \u001b[32m━━━━━━━━━━━━━━━━━━━━\u001b[0m\u001b[37m\u001b[0m \u001b[1m4s\u001b[0m 2ms/step - accuracy: 0.9877 - loss: 0.0447 - val_accuracy: 0.8732 - val_loss: 0.6717\n",
      "Epoch 19/20\n",
      "\u001b[1m1719/1719\u001b[0m \u001b[32m━━━━━━━━━━━━━━━━━━━━\u001b[0m\u001b[37m\u001b[0m \u001b[1m4s\u001b[0m 2ms/step - accuracy: 0.9902 - loss: 0.0368 - val_accuracy: 0.8712 - val_loss: 0.6813\n",
      "Epoch 20/20\n",
      "\u001b[1m1719/1719\u001b[0m \u001b[32m━━━━━━━━━━━━━━━━━━━━\u001b[0m\u001b[37m\u001b[0m \u001b[1m4s\u001b[0m 2ms/step - accuracy: 0.9911 - loss: 0.0338 - val_accuracy: 0.8688 - val_loss: 0.7414\n"
     ]
    }
   ],
   "source": [
    "optimizer = tf.keras.optimizers.Adamax(\n",
    "    learning_rate=1e-3,\n",
    "    beta_1=0.9,\n",
    "    beta_2=0.999\n",
    ")\n",
    "\n",
    "history_adamax = compile_and_train_model(optimizer)"
   ]
  },
  {
   "cell_type": "markdown",
   "id": "3e7bab01",
   "metadata": {
    "papermill": {
     "duration": 0.767477,
     "end_time": "2024-04-27T19:27:01.400729",
     "exception": false,
     "start_time": "2024-04-27T19:27:00.633252",
     "status": "completed"
    },
    "tags": []
   },
   "source": [
    "- **Nadam**: The Nadam Algorithm Applies the Nesterov Gradient Manipulation while calculating the Gradients before applying the gradients in the First Moment and Second Moment Calculation\n",
    "$$g_t \\; = \\; \\beta_1 \\; g_{t-1} \\; + \\; (1 \\; - \\; \\beta_1) \\; g_t$$\n",
    "\n",
    "- Where $g_t$ is any gradient dw or db"
   ]
  },
  {
   "cell_type": "code",
   "execution_count": 12,
   "id": "32510b45",
   "metadata": {
    "execution": {
     "iopub.execute_input": "2024-04-27T19:27:02.892214Z",
     "iopub.status.busy": "2024-04-27T19:27:02.891449Z",
     "iopub.status.idle": "2024-04-27T19:28:33.543557Z",
     "shell.execute_reply": "2024-04-27T19:28:33.542730Z"
    },
    "papermill": {
     "duration": 91.419135,
     "end_time": "2024-04-27T19:28:33.545568",
     "exception": false,
     "start_time": "2024-04-27T19:27:02.126433",
     "status": "completed"
    },
    "tags": []
   },
   "outputs": [
    {
     "name": "stdout",
     "output_type": "stream",
     "text": [
      "Epoch 1/20\n",
      "\u001b[1m1719/1719\u001b[0m \u001b[32m━━━━━━━━━━━━━━━━━━━━\u001b[0m\u001b[37m\u001b[0m \u001b[1m11s\u001b[0m 4ms/step - accuracy: 0.7580 - loss: 0.6991 - val_accuracy: 0.8580 - val_loss: 0.3823\n",
      "Epoch 2/20\n",
      "\u001b[1m1719/1719\u001b[0m \u001b[32m━━━━━━━━━━━━━━━━━━━━\u001b[0m\u001b[37m\u001b[0m \u001b[1m4s\u001b[0m 2ms/step - accuracy: 0.8560 - loss: 0.3974 - val_accuracy: 0.8670 - val_loss: 0.3659\n",
      "Epoch 3/20\n",
      "\u001b[1m1719/1719\u001b[0m \u001b[32m━━━━━━━━━━━━━━━━━━━━\u001b[0m\u001b[37m\u001b[0m \u001b[1m4s\u001b[0m 2ms/step - accuracy: 0.8756 - loss: 0.3440 - val_accuracy: 0.8682 - val_loss: 0.3722\n",
      "Epoch 4/20\n",
      "\u001b[1m1719/1719\u001b[0m \u001b[32m━━━━━━━━━━━━━━━━━━━━\u001b[0m\u001b[37m\u001b[0m \u001b[1m4s\u001b[0m 2ms/step - accuracy: 0.8881 - loss: 0.3061 - val_accuracy: 0.8676 - val_loss: 0.3644\n",
      "Epoch 5/20\n",
      "\u001b[1m1719/1719\u001b[0m \u001b[32m━━━━━━━━━━━━━━━━━━━━\u001b[0m\u001b[37m\u001b[0m \u001b[1m4s\u001b[0m 2ms/step - accuracy: 0.8991 - loss: 0.2731 - val_accuracy: 0.8670 - val_loss: 0.3763\n",
      "Epoch 6/20\n",
      "\u001b[1m1719/1719\u001b[0m \u001b[32m━━━━━━━━━━━━━━━━━━━━\u001b[0m\u001b[37m\u001b[0m \u001b[1m4s\u001b[0m 3ms/step - accuracy: 0.9101 - loss: 0.2468 - val_accuracy: 0.8680 - val_loss: 0.3733\n",
      "Epoch 7/20\n",
      "\u001b[1m1719/1719\u001b[0m \u001b[32m━━━━━━━━━━━━━━━━━━━━\u001b[0m\u001b[37m\u001b[0m \u001b[1m4s\u001b[0m 2ms/step - accuracy: 0.9187 - loss: 0.2213 - val_accuracy: 0.8722 - val_loss: 0.3878\n",
      "Epoch 8/20\n",
      "\u001b[1m1719/1719\u001b[0m \u001b[32m━━━━━━━━━━━━━━━━━━━━\u001b[0m\u001b[37m\u001b[0m \u001b[1m4s\u001b[0m 2ms/step - accuracy: 0.9252 - loss: 0.2010 - val_accuracy: 0.8690 - val_loss: 0.4021\n",
      "Epoch 9/20\n",
      "\u001b[1m1719/1719\u001b[0m \u001b[32m━━━━━━━━━━━━━━━━━━━━\u001b[0m\u001b[37m\u001b[0m \u001b[1m4s\u001b[0m 2ms/step - accuracy: 0.9310 - loss: 0.1851 - val_accuracy: 0.8688 - val_loss: 0.4226\n",
      "Epoch 10/20\n",
      "\u001b[1m1719/1719\u001b[0m \u001b[32m━━━━━━━━━━━━━━━━━━━━\u001b[0m\u001b[37m\u001b[0m \u001b[1m4s\u001b[0m 2ms/step - accuracy: 0.9381 - loss: 0.1652 - val_accuracy: 0.8696 - val_loss: 0.4513\n",
      "Epoch 11/20\n",
      "\u001b[1m1719/1719\u001b[0m \u001b[32m━━━━━━━━━━━━━━━━━━━━\u001b[0m\u001b[37m\u001b[0m \u001b[1m4s\u001b[0m 2ms/step - accuracy: 0.9433 - loss: 0.1505 - val_accuracy: 0.8676 - val_loss: 0.4971\n",
      "Epoch 12/20\n",
      "\u001b[1m1719/1719\u001b[0m \u001b[32m━━━━━━━━━━━━━━━━━━━━\u001b[0m\u001b[37m\u001b[0m \u001b[1m4s\u001b[0m 2ms/step - accuracy: 0.9486 - loss: 0.1384 - val_accuracy: 0.8766 - val_loss: 0.4707\n",
      "Epoch 13/20\n",
      "\u001b[1m1719/1719\u001b[0m \u001b[32m━━━━━━━━━━━━━━━━━━━━\u001b[0m\u001b[37m\u001b[0m \u001b[1m5s\u001b[0m 2ms/step - accuracy: 0.9520 - loss: 0.1292 - val_accuracy: 0.8724 - val_loss: 0.5112\n",
      "Epoch 14/20\n",
      "\u001b[1m1719/1719\u001b[0m \u001b[32m━━━━━━━━━━━━━━━━━━━━\u001b[0m\u001b[37m\u001b[0m \u001b[1m4s\u001b[0m 2ms/step - accuracy: 0.9544 - loss: 0.1218 - val_accuracy: 0.8766 - val_loss: 0.5106\n",
      "Epoch 15/20\n",
      "\u001b[1m1719/1719\u001b[0m \u001b[32m━━━━━━━━━━━━━━━━━━━━\u001b[0m\u001b[37m\u001b[0m \u001b[1m4s\u001b[0m 2ms/step - accuracy: 0.9612 - loss: 0.1074 - val_accuracy: 0.8710 - val_loss: 0.5494\n",
      "Epoch 16/20\n",
      "\u001b[1m1719/1719\u001b[0m \u001b[32m━━━━━━━━━━━━━━━━━━━━\u001b[0m\u001b[37m\u001b[0m \u001b[1m4s\u001b[0m 2ms/step - accuracy: 0.9640 - loss: 0.1020 - val_accuracy: 0.8764 - val_loss: 0.5377\n",
      "Epoch 17/20\n",
      "\u001b[1m1719/1719\u001b[0m \u001b[32m━━━━━━━━━━━━━━━━━━━━\u001b[0m\u001b[37m\u001b[0m \u001b[1m4s\u001b[0m 2ms/step - accuracy: 0.9659 - loss: 0.0926 - val_accuracy: 0.8726 - val_loss: 0.5732\n",
      "Epoch 18/20\n",
      "\u001b[1m1719/1719\u001b[0m \u001b[32m━━━━━━━━━━━━━━━━━━━━\u001b[0m\u001b[37m\u001b[0m \u001b[1m4s\u001b[0m 2ms/step - accuracy: 0.9681 - loss: 0.0893 - val_accuracy: 0.8708 - val_loss: 0.5880\n",
      "Epoch 19/20\n",
      "\u001b[1m1719/1719\u001b[0m \u001b[32m━━━━━━━━━━━━━━━━━━━━\u001b[0m\u001b[37m\u001b[0m \u001b[1m4s\u001b[0m 2ms/step - accuracy: 0.9685 - loss: 0.0837 - val_accuracy: 0.8782 - val_loss: 0.6200\n",
      "Epoch 20/20\n",
      "\u001b[1m1719/1719\u001b[0m \u001b[32m━━━━━━━━━━━━━━━━━━━━\u001b[0m\u001b[37m\u001b[0m \u001b[1m4s\u001b[0m 2ms/step - accuracy: 0.9693 - loss: 0.0847 - val_accuracy: 0.8760 - val_loss: 0.6333\n"
     ]
    }
   ],
   "source": [
    "optimizer = tf.keras.optimizers.Nadam(\n",
    "    learning_rate=1e-3,\n",
    "    beta_1=0.9,\n",
    "    beta_2=0.999\n",
    ")\n",
    "\n",
    "history_nadam = compile_and_train_model(optimizer)"
   ]
  },
  {
   "cell_type": "markdown",
   "id": "5595e062",
   "metadata": {
    "papermill": {
     "duration": 0.86417,
     "end_time": "2024-04-27T19:28:35.315295",
     "exception": false,
     "start_time": "2024-04-27T19:28:34.451125",
     "status": "completed"
    },
    "tags": []
   },
   "source": [
    "**AdamW**: The AdamW Algorithm decouples the Time-Delayed Gradient Decay from the Time-Delay Weight Decay in the Adam Algorithm by providing an additional update to the parameters.\n",
    "$$w \\; = \\; w \\; - \\; \\alpha \\; (\\nabla J(w) \\; + \\; \\lambda \\; w)$$"
   ]
  },
  {
   "cell_type": "code",
   "execution_count": 13,
   "id": "e30d2c71",
   "metadata": {
    "execution": {
     "iopub.execute_input": "2024-04-27T19:28:37.079514Z",
     "iopub.status.busy": "2024-04-27T19:28:37.078637Z",
     "iopub.status.idle": "2024-04-27T19:30:05.664970Z",
     "shell.execute_reply": "2024-04-27T19:30:05.664166Z"
    },
    "papermill": {
     "duration": 89.451995,
     "end_time": "2024-04-27T19:30:05.667157",
     "exception": false,
     "start_time": "2024-04-27T19:28:36.215162",
     "status": "completed"
    },
    "tags": []
   },
   "outputs": [
    {
     "name": "stdout",
     "output_type": "stream",
     "text": [
      "Epoch 1/20\n",
      "\u001b[1m1719/1719\u001b[0m \u001b[32m━━━━━━━━━━━━━━━━━━━━\u001b[0m\u001b[37m\u001b[0m \u001b[1m11s\u001b[0m 4ms/step - accuracy: 0.7620 - loss: 0.6842 - val_accuracy: 0.8598 - val_loss: 0.3936\n",
      "Epoch 2/20\n",
      "\u001b[1m1719/1719\u001b[0m \u001b[32m━━━━━━━━━━━━━━━━━━━━\u001b[0m\u001b[37m\u001b[0m \u001b[1m4s\u001b[0m 2ms/step - accuracy: 0.8543 - loss: 0.4022 - val_accuracy: 0.8668 - val_loss: 0.3718\n",
      "Epoch 3/20\n",
      "\u001b[1m1719/1719\u001b[0m \u001b[32m━━━━━━━━━━━━━━━━━━━━\u001b[0m\u001b[37m\u001b[0m \u001b[1m4s\u001b[0m 2ms/step - accuracy: 0.8751 - loss: 0.3446 - val_accuracy: 0.8704 - val_loss: 0.3626\n",
      "Epoch 4/20\n",
      "\u001b[1m1719/1719\u001b[0m \u001b[32m━━━━━━━━━━━━━━━━━━━━\u001b[0m\u001b[37m\u001b[0m \u001b[1m4s\u001b[0m 2ms/step - accuracy: 0.8884 - loss: 0.3042 - val_accuracy: 0.8684 - val_loss: 0.3567\n",
      "Epoch 5/20\n",
      "\u001b[1m1719/1719\u001b[0m \u001b[32m━━━━━━━━━━━━━━━━━━━━\u001b[0m\u001b[37m\u001b[0m \u001b[1m4s\u001b[0m 2ms/step - accuracy: 0.9009 - loss: 0.2726 - val_accuracy: 0.8678 - val_loss: 0.3664\n",
      "Epoch 6/20\n",
      "\u001b[1m1719/1719\u001b[0m \u001b[32m━━━━━━━━━━━━━━━━━━━━\u001b[0m\u001b[37m\u001b[0m \u001b[1m4s\u001b[0m 2ms/step - accuracy: 0.9095 - loss: 0.2451 - val_accuracy: 0.8672 - val_loss: 0.3854\n",
      "Epoch 7/20\n",
      "\u001b[1m1719/1719\u001b[0m \u001b[32m━━━━━━━━━━━━━━━━━━━━\u001b[0m\u001b[37m\u001b[0m \u001b[1m4s\u001b[0m 2ms/step - accuracy: 0.9147 - loss: 0.2272 - val_accuracy: 0.8704 - val_loss: 0.3876\n",
      "Epoch 8/20\n",
      "\u001b[1m1719/1719\u001b[0m \u001b[32m━━━━━━━━━━━━━━━━━━━━\u001b[0m\u001b[37m\u001b[0m \u001b[1m4s\u001b[0m 2ms/step - accuracy: 0.9236 - loss: 0.2044 - val_accuracy: 0.8696 - val_loss: 0.4085\n",
      "Epoch 9/20\n",
      "\u001b[1m1719/1719\u001b[0m \u001b[32m━━━━━━━━━━━━━━━━━━━━\u001b[0m\u001b[37m\u001b[0m \u001b[1m4s\u001b[0m 2ms/step - accuracy: 0.9304 - loss: 0.1872 - val_accuracy: 0.8756 - val_loss: 0.3984\n",
      "Epoch 10/20\n",
      "\u001b[1m1719/1719\u001b[0m \u001b[32m━━━━━━━━━━━━━━━━━━━━\u001b[0m\u001b[37m\u001b[0m \u001b[1m4s\u001b[0m 2ms/step - accuracy: 0.9368 - loss: 0.1692 - val_accuracy: 0.8764 - val_loss: 0.4182\n",
      "Epoch 11/20\n",
      "\u001b[1m1719/1719\u001b[0m \u001b[32m━━━━━━━━━━━━━━━━━━━━\u001b[0m\u001b[37m\u001b[0m \u001b[1m4s\u001b[0m 2ms/step - accuracy: 0.9454 - loss: 0.1501 - val_accuracy: 0.8746 - val_loss: 0.4396\n",
      "Epoch 12/20\n",
      "\u001b[1m1719/1719\u001b[0m \u001b[32m━━━━━━━━━━━━━━━━━━━━\u001b[0m\u001b[37m\u001b[0m \u001b[1m4s\u001b[0m 2ms/step - accuracy: 0.9440 - loss: 0.1435 - val_accuracy: 0.8718 - val_loss: 0.4705\n",
      "Epoch 13/20\n",
      "\u001b[1m1719/1719\u001b[0m \u001b[32m━━━━━━━━━━━━━━━━━━━━\u001b[0m\u001b[37m\u001b[0m \u001b[1m4s\u001b[0m 2ms/step - accuracy: 0.9526 - loss: 0.1294 - val_accuracy: 0.8722 - val_loss: 0.4801\n",
      "Epoch 14/20\n",
      "\u001b[1m1719/1719\u001b[0m \u001b[32m━━━━━━━━━━━━━━━━━━━━\u001b[0m\u001b[37m\u001b[0m \u001b[1m4s\u001b[0m 2ms/step - accuracy: 0.9548 - loss: 0.1202 - val_accuracy: 0.8738 - val_loss: 0.4917\n",
      "Epoch 15/20\n",
      "\u001b[1m1719/1719\u001b[0m \u001b[32m━━━━━━━━━━━━━━━━━━━━\u001b[0m\u001b[37m\u001b[0m \u001b[1m4s\u001b[0m 2ms/step - accuracy: 0.9572 - loss: 0.1108 - val_accuracy: 0.8708 - val_loss: 0.5379\n",
      "Epoch 16/20\n",
      "\u001b[1m1719/1719\u001b[0m \u001b[32m━━━━━━━━━━━━━━━━━━━━\u001b[0m\u001b[37m\u001b[0m \u001b[1m4s\u001b[0m 2ms/step - accuracy: 0.9593 - loss: 0.1072 - val_accuracy: 0.8774 - val_loss: 0.5204\n",
      "Epoch 17/20\n",
      "\u001b[1m1719/1719\u001b[0m \u001b[32m━━━━━━━━━━━━━━━━━━━━\u001b[0m\u001b[37m\u001b[0m \u001b[1m4s\u001b[0m 2ms/step - accuracy: 0.9647 - loss: 0.0924 - val_accuracy: 0.8696 - val_loss: 0.5998\n",
      "Epoch 18/20\n",
      "\u001b[1m1719/1719\u001b[0m \u001b[32m━━━━━━━━━━━━━━━━━━━━\u001b[0m\u001b[37m\u001b[0m \u001b[1m4s\u001b[0m 2ms/step - accuracy: 0.9654 - loss: 0.0932 - val_accuracy: 0.8726 - val_loss: 0.6071\n",
      "Epoch 19/20\n",
      "\u001b[1m1719/1719\u001b[0m \u001b[32m━━━━━━━━━━━━━━━━━━━━\u001b[0m\u001b[37m\u001b[0m \u001b[1m4s\u001b[0m 2ms/step - accuracy: 0.9690 - loss: 0.0808 - val_accuracy: 0.8700 - val_loss: 0.5994\n",
      "Epoch 20/20\n",
      "\u001b[1m1719/1719\u001b[0m \u001b[32m━━━━━━━━━━━━━━━━━━━━\u001b[0m\u001b[37m\u001b[0m \u001b[1m4s\u001b[0m 2ms/step - accuracy: 0.9692 - loss: 0.0809 - val_accuracy: 0.8746 - val_loss: 0.6163\n"
     ]
    }
   ],
   "source": [
    "optimizer = tf.keras.optimizers.AdamW(\n",
    "    learning_rate=1e-3,\n",
    "    beta_1=0.9,\n",
    "    beta_2=0.999,\n",
    "    weight_decay=1e-5\n",
    ")\n",
    "\n",
    "history_adamw = compile_and_train_model(optimizer)"
   ]
  },
  {
   "cell_type": "markdown",
   "id": "ebccf0c8",
   "metadata": {
    "papermill": {
     "duration": 0.991625,
     "end_time": "2024-04-27T19:30:07.689192",
     "exception": false,
     "start_time": "2024-04-27T19:30:06.697567",
     "status": "completed"
    },
    "tags": []
   },
   "source": [
    "**Visualising the Learning Curves of all the Optimization Algorithms**\n",
    "--"
   ]
  },
  {
   "cell_type": "code",
   "execution_count": 14,
   "id": "29b953c3",
   "metadata": {
    "execution": {
     "iopub.execute_input": "2024-04-27T19:30:09.690111Z",
     "iopub.status.busy": "2024-04-27T19:30:09.689699Z",
     "iopub.status.idle": "2024-04-27T19:30:11.157708Z",
     "shell.execute_reply": "2024-04-27T19:30:11.156775Z"
    },
    "papermill": {
     "duration": 2.496171,
     "end_time": "2024-04-27T19:30:11.159971",
     "exception": false,
     "start_time": "2024-04-27T19:30:08.663800",
     "status": "completed"
    },
    "tags": []
   },
   "outputs": [
    {
     "data": {
      "image/png": "[encoded data removed]",
      "text/plain": [
       "<Figure size 1000x800 with 1 Axes>"
      ]
     },
     "metadata": {},
     "output_type": "display_data"
    },
    {
     "data": {
      "image/png": "[encoded data removed]",
      "text/plain": [
       "<Figure size 1000x800 with 1 Axes>"
      ]
     },
     "metadata": {},
     "output_type": "display_data"
    },
    {
     "data": {
      "image/png": "[encoded data removed]",
      "text/plain": [
       "<Figure size 1000x800 with 1 Axes>"
      ]
     },
     "metadata": {},
     "output_type": "display_data"
    },
    {
     "data": {
      "image/png": "[encoded data removed]",
      "text/plain": [
       "<Figure size 1000x800 with 1 Axes>"
      ]
     },
     "metadata": {},
     "output_type": "display_data"
    }
   ],
   "source": [
    "for metric in (\"accuracy\", \"val_accuracy\", \"loss\", \"val_loss\"):\n",
    "    plt.figure(figsize=(10, 8))\n",
    "    optimizers = \"SGD Momentum Nesterov RMSprop Adam Adamax Nadam AdamW\"\n",
    "    optimizer_history = (history_sgd, history_momentum, history_nesterov, history_rms, history_adam, \n",
    "                         history_adamax, history_nadam, history_adamw)\n",
    "    \n",
    "    for optimizer, history in zip(optimizers.split(), optimizer_history):\n",
    "        plt.plot(history.history[metric], label=f\"{optimizer}\", linewidth=2)\n",
    "    \n",
    "    plt.grid()\n",
    "    plt.xlabel(\"Epochs\")\n",
    "    plt.ylabel(f\"{metric}\")\n",
    "    plt.legend(loc=\"lower left\")\n",
    "    plt.show()"
   ]
  },
  {
   "cell_type": "markdown",
   "id": "203a3460",
   "metadata": {
    "papermill": {
     "duration": 1.061475,
     "end_time": "2024-04-27T19:30:13.300692",
     "exception": false,
     "start_time": "2024-04-27T19:30:12.239217",
     "status": "completed"
    },
    "tags": []
   },
   "source": [
    "**Learning Rate Scheduling for Optimization of Deep Neural Networks**\n",
    "--"
   ]
  },
  {
   "cell_type": "markdown",
   "id": "89bdec8b",
   "metadata": {
    "papermill": {
     "duration": 0.997775,
     "end_time": "2024-04-27T19:30:15.363689",
     "exception": false,
     "start_time": "2024-04-27T19:30:14.365914",
     "status": "completed"
    },
    "tags": []
   },
   "source": [
    "## Utilising Power Scheduling\n",
    "\n",
    "- The power scheduling approach to learning rate tuning paved the way for the usage of Exponential Decay in the learning rate scheduling.\n",
    "- Power scheduling could be implemented as follows\n",
    "$$\\alpha \\; = \\; \\frac{\\alpha_0}{1 \\; + \\; Decay \\, Rate \\; * \\; Steps}$$\n",
    "\n",
    "$$Steps \\; = \\; \\frac{Training \\; Set \\; Size}{Batch \\; Size}$$\n",
    "\n",
    "- Here:\n",
    "    - $\\alpha_0$ is the initial learning rate set before the training process\n",
    "    - Decay Rate is set to 1 by default\n",
    "    \n",
    "    \n",
    "- Alternate Version of the Formula\n",
    "$$\\alpha \\; = \\; \\frac{\\alpha_0}{1 \\; + \\; Decay \\, Rate \\; * \\; \\frac{Steps}{Decay \\, Steps}}$$\n",
    "\n",
    "- Where: Decay Steps is used to further decrease the learning rate in a linearly."
   ]
  },
  {
   "cell_type": "code",
   "execution_count": 15,
   "id": "5332e9c2",
   "metadata": {
    "execution": {
     "iopub.execute_input": "2024-04-27T19:30:17.383240Z",
     "iopub.status.busy": "2024-04-27T19:30:17.382842Z",
     "iopub.status.idle": "2024-04-27T19:31:30.754725Z",
     "shell.execute_reply": "2024-04-27T19:31:30.753711Z"
    },
    "papermill": {
     "duration": 74.407008,
     "end_time": "2024-04-27T19:31:30.757020",
     "exception": false,
     "start_time": "2024-04-27T19:30:16.350012",
     "status": "completed"
    },
    "tags": []
   },
   "outputs": [
    {
     "name": "stdout",
     "output_type": "stream",
     "text": [
      "Epoch 1/20\n",
      "\u001b[1m1719/1719\u001b[0m \u001b[32m━━━━━━━━━━━━━━━━━━━━\u001b[0m\u001b[37m\u001b[0m \u001b[1m7s\u001b[0m 3ms/step - accuracy: 0.7160 - loss: 0.8416 - val_accuracy: 0.8464 - val_loss: 0.4118\n",
      "Epoch 2/20\n",
      "\u001b[1m1719/1719\u001b[0m \u001b[32m━━━━━━━━━━━━━━━━━━━━\u001b[0m\u001b[37m\u001b[0m \u001b[1m3s\u001b[0m 2ms/step - accuracy: 0.8396 - loss: 0.4485 - val_accuracy: 0.8588 - val_loss: 0.3760\n",
      "Epoch 3/20\n",
      "\u001b[1m1719/1719\u001b[0m \u001b[32m━━━━━━━━━━━━━━━━━━━━\u001b[0m\u001b[37m\u001b[0m \u001b[1m3s\u001b[0m 2ms/step - accuracy: 0.8621 - loss: 0.3838 - val_accuracy: 0.8648 - val_loss: 0.3626\n",
      "Epoch 4/20\n",
      "\u001b[1m1719/1719\u001b[0m \u001b[32m━━━━━━━━━━━━━━━━━━━━\u001b[0m\u001b[37m\u001b[0m \u001b[1m4s\u001b[0m 2ms/step - accuracy: 0.8776 - loss: 0.3438 - val_accuracy: 0.8708 - val_loss: 0.3544\n",
      "Epoch 5/20\n",
      "\u001b[1m1719/1719\u001b[0m \u001b[32m━━━━━━━━━━━━━━━━━━━━\u001b[0m\u001b[37m\u001b[0m \u001b[1m4s\u001b[0m 2ms/step - accuracy: 0.8889 - loss: 0.3131 - val_accuracy: 0.8730 - val_loss: 0.3521\n",
      "Epoch 6/20\n",
      "\u001b[1m1719/1719\u001b[0m \u001b[32m━━━━━━━━━━━━━━━━━━━━\u001b[0m\u001b[37m\u001b[0m \u001b[1m4s\u001b[0m 2ms/step - accuracy: 0.8987 - loss: 0.2870 - val_accuracy: 0.8732 - val_loss: 0.3515\n",
      "Epoch 7/20\n",
      "\u001b[1m1719/1719\u001b[0m \u001b[32m━━━━━━━━━━━━━━━━━━━━\u001b[0m\u001b[37m\u001b[0m \u001b[1m4s\u001b[0m 2ms/step - accuracy: 0.9080 - loss: 0.2642 - val_accuracy: 0.8718 - val_loss: 0.3561\n",
      "Epoch 8/20\n",
      "\u001b[1m1719/1719\u001b[0m \u001b[32m━━━━━━━━━━━━━━━━━━━━\u001b[0m\u001b[37m\u001b[0m \u001b[1m4s\u001b[0m 2ms/step - accuracy: 0.9154 - loss: 0.2430 - val_accuracy: 0.8736 - val_loss: 0.3640\n",
      "Epoch 9/20\n",
      "\u001b[1m1719/1719\u001b[0m \u001b[32m━━━━━━━━━━━━━━━━━━━━\u001b[0m\u001b[37m\u001b[0m \u001b[1m3s\u001b[0m 2ms/step - accuracy: 0.9242 - loss: 0.2229 - val_accuracy: 0.8748 - val_loss: 0.3724\n",
      "Epoch 10/20\n",
      "\u001b[1m1719/1719\u001b[0m \u001b[32m━━━━━━━━━━━━━━━━━━━━\u001b[0m\u001b[37m\u001b[0m \u001b[1m4s\u001b[0m 2ms/step - accuracy: 0.9299 - loss: 0.2053 - val_accuracy: 0.8748 - val_loss: 0.3824\n",
      "Epoch 11/20\n",
      "\u001b[1m1719/1719\u001b[0m \u001b[32m━━━━━━━━━━━━━━━━━━━━\u001b[0m\u001b[37m\u001b[0m \u001b[1m3s\u001b[0m 2ms/step - accuracy: 0.9377 - loss: 0.1876 - val_accuracy: 0.8758 - val_loss: 0.3905\n",
      "Epoch 12/20\n",
      "\u001b[1m1719/1719\u001b[0m \u001b[32m━━━━━━━━━━━━━━━━━━━━\u001b[0m\u001b[37m\u001b[0m \u001b[1m3s\u001b[0m 2ms/step - accuracy: 0.9452 - loss: 0.1711 - val_accuracy: 0.8760 - val_loss: 0.4010\n",
      "Epoch 13/20\n",
      "\u001b[1m1719/1719\u001b[0m \u001b[32m━━━━━━━━━━━━━━━━━━━━\u001b[0m\u001b[37m\u001b[0m \u001b[1m3s\u001b[0m 2ms/step - accuracy: 0.9513 - loss: 0.1558 - val_accuracy: 0.8746 - val_loss: 0.4143\n",
      "Epoch 14/20\n",
      "\u001b[1m1719/1719\u001b[0m \u001b[32m━━━━━━━━━━━━━━━━━━━━\u001b[0m\u001b[37m\u001b[0m \u001b[1m3s\u001b[0m 2ms/step - accuracy: 0.9570 - loss: 0.1408 - val_accuracy: 0.8718 - val_loss: 0.4249\n",
      "Epoch 15/20\n",
      "\u001b[1m1719/1719\u001b[0m \u001b[32m━━━━━━━━━━━━━━━━━━━━\u001b[0m\u001b[37m\u001b[0m \u001b[1m3s\u001b[0m 2ms/step - accuracy: 0.9623 - loss: 0.1271 - val_accuracy: 0.8722 - val_loss: 0.4419\n",
      "Epoch 16/20\n",
      "\u001b[1m1719/1719\u001b[0m \u001b[32m━━━━━━━━━━━━━━━━━━━━\u001b[0m\u001b[37m\u001b[0m \u001b[1m4s\u001b[0m 2ms/step - accuracy: 0.9679 - loss: 0.1139 - val_accuracy: 0.8728 - val_loss: 0.4547\n",
      "Epoch 17/20\n",
      "\u001b[1m1719/1719\u001b[0m \u001b[32m━━━━━━━━━━━━━━━━━━━━\u001b[0m\u001b[37m\u001b[0m \u001b[1m4s\u001b[0m 2ms/step - accuracy: 0.9727 - loss: 0.1011 - val_accuracy: 0.8738 - val_loss: 0.4685\n",
      "Epoch 18/20\n",
      "\u001b[1m1719/1719\u001b[0m \u001b[32m━━━━━━━━━━━━━━━━━━━━\u001b[0m\u001b[37m\u001b[0m \u001b[1m3s\u001b[0m 2ms/step - accuracy: 0.9775 - loss: 0.0898 - val_accuracy: 0.8724 - val_loss: 0.4878\n",
      "Epoch 19/20\n",
      "\u001b[1m1719/1719\u001b[0m \u001b[32m━━━━━━━━━━━━━━━━━━━━\u001b[0m\u001b[37m\u001b[0m \u001b[1m3s\u001b[0m 2ms/step - accuracy: 0.9813 - loss: 0.0785 - val_accuracy: 0.8732 - val_loss: 0.5036\n",
      "Epoch 20/20\n",
      "\u001b[1m1719/1719\u001b[0m \u001b[32m━━━━━━━━━━━━━━━━━━━━\u001b[0m\u001b[37m\u001b[0m \u001b[1m3s\u001b[0m 2ms/step - accuracy: 0.9854 - loss: 0.0685 - val_accuracy: 0.8724 - val_loss: 0.5183\n"
     ]
    }
   ],
   "source": [
    "# Stair Case parameter applies floor(Steps / Decay Steps)\n",
    "lr_power_schedule = tf.keras.optimizers.schedules.InverseTimeDecay(\n",
    "    initial_learning_rate=1e-2,\n",
    "    decay_steps=10e4,\n",
    "    decay_rate=1,\n",
    "    staircase=False\n",
    ")\n",
    "\n",
    "# Applying the Schedule to the Learning Rate\n",
    "optimizer = tf.keras.optimizers.SGD(\n",
    "    learning_rate=lr_power_schedule\n",
    ")\n",
    "\n",
    "# Training the Model\n",
    "history_power_scheduling = compile_and_train_model(optimizer)"
   ]
  },
  {
   "cell_type": "markdown",
   "id": "396b97d7",
   "metadata": {
    "papermill": {
     "duration": 1.098297,
     "end_time": "2024-04-27T19:31:33.013482",
     "exception": false,
     "start_time": "2024-04-27T19:31:31.915185",
     "status": "completed"
    },
    "tags": []
   },
   "source": [
    "## Viewing the Power Scheduling of Learning Rate with and without the Staircase"
   ]
  },
  {
   "cell_type": "code",
   "execution_count": 16,
   "id": "e8bb345e",
   "metadata": {
    "execution": {
     "iopub.execute_input": "2024-04-27T19:31:35.290688Z",
     "iopub.status.busy": "2024-04-27T19:31:35.289750Z",
     "iopub.status.idle": "2024-04-27T19:31:36.699195Z",
     "shell.execute_reply": "2024-04-27T19:31:36.698213Z"
    },
    "papermill": {
     "duration": 2.513557,
     "end_time": "2024-04-27T19:31:36.701644",
     "exception": false,
     "start_time": "2024-04-27T19:31:34.188087",
     "status": "completed"
    },
    "tags": []
   },
   "outputs": [
    {
     "data": {
      "image/png": "[encoded data removed]",
      "text/plain": [
       "<Figure size 640x480 with 1 Axes>"
      ]
     },
     "metadata": {},
     "output_type": "display_data"
    }
   ],
   "source": [
    "# Initial Parameters\n",
    "initial_learning_rate = 1e-2\n",
    "decay_rate = 1.0\n",
    "decay_steps = 10e4\n",
    "\n",
    "# X - Axis of the Graph\n",
    "steps = np.arange(10e5)\n",
    "\n",
    "# Values of the Learning Rate\n",
    "lr = initial_learning_rate / (1 + decay_rate * (steps / decay_steps))\n",
    "lr_with_steps = initial_learning_rate / (1 + decay_rate * np.floor(steps / decay_steps))\n",
    "\n",
    "# Plotting the Chart\n",
    "plt.plot(steps, lr, \"-\", label=\"Staircase = False\")\n",
    "plt.plot(steps, lr_with_steps, \"-\", label=\"staircase = True\")\n",
    "\n",
    "# Plot Anatomy\n",
    "plt.xlabel(\"Iterations / Steps\")\n",
    "plt.ylabel(\"Learning Rate\")\n",
    "plt.title(\"Learning Rate Scheduling\")\n",
    "plt.legend()\n",
    "plt.show()"
   ]
  },
  {
   "cell_type": "markdown",
   "id": "138e57ed",
   "metadata": {
    "papermill": {
     "duration": 1.09062,
     "end_time": "2024-04-27T19:31:38.954995",
     "exception": false,
     "start_time": "2024-04-27T19:31:37.864375",
     "status": "completed"
    },
    "tags": []
   },
   "source": [
    "## Exponential Scheduling\n",
    "\n",
    "- When using an Exponential Learning Rate Scheduling the learning rate drops exponentially by a factor of x for every s -> steps / iterations\n",
    "$$\\alpha \\; = \\; \\alpha_0 \\; Decay \\, Rate^{\\frac{Steps}{Decay \\, Steps}}$$\n",
    "\n",
    "- Here: Decay Rate is usually a value less than 1\n",
    "$$\\alpha \\; = \\; \\alpha_0 \\; 0.95^{\\frac{Steps}{Decay \\, Steps}}$$"
   ]
  },
  {
   "cell_type": "code",
   "execution_count": 17,
   "id": "66d60237",
   "metadata": {
    "execution": {
     "iopub.execute_input": "2024-04-27T19:31:41.198099Z",
     "iopub.status.busy": "2024-04-27T19:31:41.197702Z",
     "iopub.status.idle": "2024-04-27T19:32:53.111673Z",
     "shell.execute_reply": "2024-04-27T19:32:53.110743Z"
    },
    "papermill": {
     "duration": 73.066195,
     "end_time": "2024-04-27T19:32:53.113788",
     "exception": false,
     "start_time": "2024-04-27T19:31:40.047593",
     "status": "completed"
    },
    "tags": []
   },
   "outputs": [
    {
     "name": "stdout",
     "output_type": "stream",
     "text": [
      "Epoch 1/20\n",
      "\u001b[1m1719/1719\u001b[0m \u001b[32m━━━━━━━━━━━━━━━━━━━━\u001b[0m\u001b[37m\u001b[0m \u001b[1m7s\u001b[0m 3ms/step - accuracy: 0.7203 - loss: 0.8271 - val_accuracy: 0.8406 - val_loss: 0.4138\n",
      "Epoch 2/20\n",
      "\u001b[1m1719/1719\u001b[0m \u001b[32m━━━━━━━━━━━━━━━━━━━━\u001b[0m\u001b[37m\u001b[0m \u001b[1m3s\u001b[0m 2ms/step - accuracy: 0.8370 - loss: 0.4538 - val_accuracy: 0.8574 - val_loss: 0.3819\n",
      "Epoch 3/20\n",
      "\u001b[1m1719/1719\u001b[0m \u001b[32m━━━━━━━━━━━━━━━━━━━━\u001b[0m\u001b[37m\u001b[0m \u001b[1m3s\u001b[0m 2ms/step - accuracy: 0.8612 - loss: 0.3878 - val_accuracy: 0.8628 - val_loss: 0.3685\n",
      "Epoch 4/20\n",
      "\u001b[1m1719/1719\u001b[0m \u001b[32m━━━━━━━━━━━━━━━━━━━━\u001b[0m\u001b[37m\u001b[0m \u001b[1m3s\u001b[0m 2ms/step - accuracy: 0.8752 - loss: 0.3474 - val_accuracy: 0.8654 - val_loss: 0.3626\n",
      "Epoch 5/20\n",
      "\u001b[1m1719/1719\u001b[0m \u001b[32m━━━━━━━━━━━━━━━━━━━━\u001b[0m\u001b[37m\u001b[0m \u001b[1m3s\u001b[0m 2ms/step - accuracy: 0.8866 - loss: 0.3173 - val_accuracy: 0.8672 - val_loss: 0.3602\n",
      "Epoch 6/20\n",
      "\u001b[1m1719/1719\u001b[0m \u001b[32m━━━━━━━━━━━━━━━━━━━━\u001b[0m\u001b[37m\u001b[0m \u001b[1m3s\u001b[0m 2ms/step - accuracy: 0.8973 - loss: 0.2913 - val_accuracy: 0.8690 - val_loss: 0.3620\n",
      "Epoch 7/20\n",
      "\u001b[1m1719/1719\u001b[0m \u001b[32m━━━━━━━━━━━━━━━━━━━━\u001b[0m\u001b[37m\u001b[0m \u001b[1m3s\u001b[0m 2ms/step - accuracy: 0.9063 - loss: 0.2693 - val_accuracy: 0.8708 - val_loss: 0.3675\n",
      "Epoch 8/20\n",
      "\u001b[1m1719/1719\u001b[0m \u001b[32m━━━━━━━━━━━━━━━━━━━━\u001b[0m\u001b[37m\u001b[0m \u001b[1m3s\u001b[0m 2ms/step - accuracy: 0.9144 - loss: 0.2488 - val_accuracy: 0.8686 - val_loss: 0.3721\n",
      "Epoch 9/20\n",
      "\u001b[1m1719/1719\u001b[0m \u001b[32m━━━━━━━━━━━━━━━━━━━━\u001b[0m\u001b[37m\u001b[0m \u001b[1m3s\u001b[0m 2ms/step - accuracy: 0.9210 - loss: 0.2308 - val_accuracy: 0.8692 - val_loss: 0.3793\n",
      "Epoch 10/20\n",
      "\u001b[1m1719/1719\u001b[0m \u001b[32m━━━━━━━━━━━━━━━━━━━━\u001b[0m\u001b[37m\u001b[0m \u001b[1m3s\u001b[0m 2ms/step - accuracy: 0.9285 - loss: 0.2138 - val_accuracy: 0.8704 - val_loss: 0.3856\n",
      "Epoch 11/20\n",
      "\u001b[1m1719/1719\u001b[0m \u001b[32m━━━━━━━━━━━━━━━━━━━━\u001b[0m\u001b[37m\u001b[0m \u001b[1m3s\u001b[0m 2ms/step - accuracy: 0.9350 - loss: 0.1973 - val_accuracy: 0.8694 - val_loss: 0.3944\n",
      "Epoch 12/20\n",
      "\u001b[1m1719/1719\u001b[0m \u001b[32m━━━━━━━━━━━━━━━━━━━━\u001b[0m\u001b[37m\u001b[0m \u001b[1m3s\u001b[0m 2ms/step - accuracy: 0.9406 - loss: 0.1828 - val_accuracy: 0.8680 - val_loss: 0.4045\n",
      "Epoch 13/20\n",
      "\u001b[1m1719/1719\u001b[0m \u001b[32m━━━━━━━━━━━━━━━━━━━━\u001b[0m\u001b[37m\u001b[0m \u001b[1m3s\u001b[0m 2ms/step - accuracy: 0.9466 - loss: 0.1689 - val_accuracy: 0.8674 - val_loss: 0.4140\n",
      "Epoch 14/20\n",
      "\u001b[1m1719/1719\u001b[0m \u001b[32m━━━━━━━━━━━━━━━━━━━━\u001b[0m\u001b[37m\u001b[0m \u001b[1m3s\u001b[0m 2ms/step - accuracy: 0.9517 - loss: 0.1560 - val_accuracy: 0.8670 - val_loss: 0.4231\n",
      "Epoch 15/20\n",
      "\u001b[1m1719/1719\u001b[0m \u001b[32m━━━━━━━━━━━━━━━━━━━━\u001b[0m\u001b[37m\u001b[0m \u001b[1m3s\u001b[0m 2ms/step - accuracy: 0.9573 - loss: 0.1439 - val_accuracy: 0.8658 - val_loss: 0.4348\n",
      "Epoch 16/20\n",
      "\u001b[1m1719/1719\u001b[0m \u001b[32m━━━━━━━━━━━━━━━━━━━━\u001b[0m\u001b[37m\u001b[0m \u001b[1m3s\u001b[0m 2ms/step - accuracy: 0.9617 - loss: 0.1326 - val_accuracy: 0.8656 - val_loss: 0.4465\n",
      "Epoch 17/20\n",
      "\u001b[1m1719/1719\u001b[0m \u001b[32m━━━━━━━━━━━━━━━━━━━━\u001b[0m\u001b[37m\u001b[0m \u001b[1m3s\u001b[0m 2ms/step - accuracy: 0.9660 - loss: 0.1222 - val_accuracy: 0.8662 - val_loss: 0.4599\n",
      "Epoch 18/20\n",
      "\u001b[1m1719/1719\u001b[0m \u001b[32m━━━━━━━━━━━━━━━━━━━━\u001b[0m\u001b[37m\u001b[0m \u001b[1m4s\u001b[0m 2ms/step - accuracy: 0.9697 - loss: 0.1124 - val_accuracy: 0.8646 - val_loss: 0.4712\n",
      "Epoch 19/20\n",
      "\u001b[1m1719/1719\u001b[0m \u001b[32m━━━━━━━━━━━━━━━━━━━━\u001b[0m\u001b[37m\u001b[0m \u001b[1m3s\u001b[0m 2ms/step - accuracy: 0.9731 - loss: 0.1034 - val_accuracy: 0.8662 - val_loss: 0.4825\n",
      "Epoch 20/20\n",
      "\u001b[1m1719/1719\u001b[0m \u001b[32m━━━━━━━━━━━━━━━━━━━━\u001b[0m\u001b[37m\u001b[0m \u001b[1m3s\u001b[0m 2ms/step - accuracy: 0.9761 - loss: 0.0950 - val_accuracy: 0.8660 - val_loss: 0.4941\n"
     ]
    }
   ],
   "source": [
    "lr_exponential_schedule = tf.keras.optimizers.schedules.ExponentialDecay(\n",
    "    initial_learning_rate=1e-2,\n",
    "    decay_steps=10e4,\n",
    "    decay_rate=0.1,\n",
    "    staircase=False\n",
    ")\n",
    "\n",
    "optimizer = tf.keras.optimizers.SGD(\n",
    "    learning_rate=lr_exponential_schedule\n",
    ")\n",
    "\n",
    "history_exponential_scheduling = compile_and_train_model(optimizer)"
   ]
  },
  {
   "cell_type": "markdown",
   "id": "f989feb1",
   "metadata": {
    "papermill": {
     "duration": 1.26839,
     "end_time": "2024-04-27T19:32:55.655566",
     "exception": false,
     "start_time": "2024-04-27T19:32:54.387176",
     "status": "completed"
    },
    "tags": []
   },
   "source": [
    "## Viewing the Exponential Scheduling of Learning Rate with and without the Staircase"
   ]
  },
  {
   "cell_type": "code",
   "execution_count": 18,
   "id": "50a5e125",
   "metadata": {
    "execution": {
     "iopub.execute_input": "2024-04-27T19:32:58.110916Z",
     "iopub.status.busy": "2024-04-27T19:32:58.110227Z",
     "iopub.status.idle": "2024-04-27T19:32:59.506225Z",
     "shell.execute_reply": "2024-04-27T19:32:59.505232Z"
    },
    "papermill": {
     "duration": 2.651067,
     "end_time": "2024-04-27T19:32:59.508170",
     "exception": false,
     "start_time": "2024-04-27T19:32:56.857103",
     "status": "completed"
    },
    "tags": []
   },
   "outputs": [
    {
     "data": {
      "image/png": "[encoded data removed]",
      "text/plain": [
       "<Figure size 640x480 with 1 Axes>"
      ]
     },
     "metadata": {},
     "output_type": "display_data"
    }
   ],
   "source": [
    "# Modified Value of Decay Rate for Exponential Scheduling\n",
    "decay_rate = 0.1\n",
    "\n",
    "# Calculating the Values of the Learning Rate\n",
    "lr = initial_learning_rate * decay_rate ** (steps / decay_steps)\n",
    "lr_with_steps = initial_learning_rate * decay_rate ** np.floor(steps / decay_steps)\n",
    "\n",
    "# Plotting the Graphs\n",
    "plt.plot(steps, lr, \"-\", label=\"Staircase = False\")\n",
    "plt.plot(steps, lr_with_steps, \"-\", label=\"Staircase = True\")\n",
    "\n",
    "# Plot Anatomy\n",
    "plt.xlabel(\"Steps / Iterations\")\n",
    "plt.ylabel(\"Learning Rate\")\n",
    "plt.title(\"Exponential Scheduling\")\n",
    "plt.legend()\n",
    "plt.show()"
   ]
  },
  {
   "cell_type": "markdown",
   "id": "d8527d76",
   "metadata": {
    "papermill": {
     "duration": 1.244747,
     "end_time": "2024-04-27T19:33:01.949450",
     "exception": false,
     "start_time": "2024-04-27T19:33:00.704703",
     "status": "completed"
    },
    "tags": []
   },
   "source": [
    "## Utilising the Keras Callback and the LearningRateScheduler\n",
    "\n",
    "- The Keras Callback and LearningRateSchedulers can be used to create custom scheduling functions.\n",
    "- This can be used to create custom scheduling on the basis of each step and on the end of each epoch."
   ]
  },
  {
   "cell_type": "code",
   "execution_count": 19,
   "id": "ec4128a0",
   "metadata": {
    "execution": {
     "iopub.execute_input": "2024-04-27T19:33:04.403866Z",
     "iopub.status.busy": "2024-04-27T19:33:04.402966Z",
     "iopub.status.idle": "2024-04-27T19:33:04.408290Z",
     "shell.execute_reply": "2024-04-27T19:33:04.407410Z"
    },
    "papermill": {
     "duration": 1.216949,
     "end_time": "2024-04-27T19:33:04.410181",
     "exception": false,
     "start_time": "2024-04-27T19:33:03.193232",
     "status": "completed"
    },
    "tags": []
   },
   "outputs": [],
   "source": [
    "def exponential_decay(initial_learning_rate, steps):\n",
    "    def exponential_decay_fn(epoch):\n",
    "        return initial_learning_rate * 0.1 ** (epoch / steps)\n",
    "    return exponential_decay_fn\n",
    "\n",
    "exponential_decay_fn = exponential_decay(1e-2, 20)"
   ]
  },
  {
   "cell_type": "markdown",
   "id": "9d2a5714",
   "metadata": {
    "papermill": {
     "duration": 1.262727,
     "end_time": "2024-04-27T19:33:06.942394",
     "exception": false,
     "start_time": "2024-04-27T19:33:05.679667",
     "status": "completed"
    },
    "tags": []
   },
   "source": [
    "**Learning Rate Scheduler Approach**"
   ]
  },
  {
   "cell_type": "code",
   "execution_count": 20,
   "id": "e640f29c",
   "metadata": {
    "execution": {
     "iopub.execute_input": "2024-04-27T19:33:09.406821Z",
     "iopub.status.busy": "2024-04-27T19:33:09.405905Z",
     "iopub.status.idle": "2024-04-27T19:34:21.714119Z",
     "shell.execute_reply": "2024-04-27T19:34:21.713090Z"
    },
    "papermill": {
     "duration": 73.571419,
     "end_time": "2024-04-27T19:34:21.716145",
     "exception": false,
     "start_time": "2024-04-27T19:33:08.144726",
     "status": "completed"
    },
    "tags": []
   },
   "outputs": [
    {
     "name": "stdout",
     "output_type": "stream",
     "text": [
      "Epoch 1/20\n",
      "\u001b[1m1719/1719\u001b[0m \u001b[32m━━━━━━━━━━━━━━━━━━━━\u001b[0m\u001b[37m\u001b[0m \u001b[1m7s\u001b[0m 3ms/step - accuracy: 0.7078 - loss: 0.8632 - val_accuracy: 0.8444 - val_loss: 0.4228 - learning_rate: 0.0100\n",
      "Epoch 2/20\n",
      "\u001b[1m1719/1719\u001b[0m \u001b[32m━━━━━━━━━━━━━━━━━━━━\u001b[0m\u001b[37m\u001b[0m \u001b[1m3s\u001b[0m 2ms/step - accuracy: 0.8385 - loss: 0.4554 - val_accuracy: 0.8556 - val_loss: 0.3861 - learning_rate: 0.0089\n",
      "Epoch 3/20\n",
      "\u001b[1m1719/1719\u001b[0m \u001b[32m━━━━━━━━━━━━━━━━━━━━\u001b[0m\u001b[37m\u001b[0m \u001b[1m4s\u001b[0m 2ms/step - accuracy: 0.8603 - loss: 0.3940 - val_accuracy: 0.8632 - val_loss: 0.3707 - learning_rate: 0.0079\n",
      "Epoch 4/20\n",
      "\u001b[1m1719/1719\u001b[0m \u001b[32m━━━━━━━━━━━━━━━━━━━━\u001b[0m\u001b[37m\u001b[0m \u001b[1m4s\u001b[0m 2ms/step - accuracy: 0.8735 - loss: 0.3561 - val_accuracy: 0.8626 - val_loss: 0.3641 - learning_rate: 0.0071\n",
      "Epoch 5/20\n",
      "\u001b[1m1719/1719\u001b[0m \u001b[32m━━━━━━━━━━━━━━━━━━━━\u001b[0m\u001b[37m\u001b[0m \u001b[1m3s\u001b[0m 2ms/step - accuracy: 0.8838 - loss: 0.3274 - val_accuracy: 0.8660 - val_loss: 0.3605 - learning_rate: 0.0063\n",
      "Epoch 6/20\n",
      "\u001b[1m1719/1719\u001b[0m \u001b[32m━━━━━━━━━━━━━━━━━━━━\u001b[0m\u001b[37m\u001b[0m \u001b[1m3s\u001b[0m 2ms/step - accuracy: 0.8923 - loss: 0.3043 - val_accuracy: 0.8666 - val_loss: 0.3615 - learning_rate: 0.0056\n",
      "Epoch 7/20\n",
      "\u001b[1m1719/1719\u001b[0m \u001b[32m━━━━━━━━━━━━━━━━━━━━\u001b[0m\u001b[37m\u001b[0m \u001b[1m3s\u001b[0m 2ms/step - accuracy: 0.9004 - loss: 0.2851 - val_accuracy: 0.8694 - val_loss: 0.3616 - learning_rate: 0.0050\n",
      "Epoch 8/20\n",
      "\u001b[1m1719/1719\u001b[0m \u001b[32m━━━━━━━━━━━━━━━━━━━━\u001b[0m\u001b[37m\u001b[0m \u001b[1m4s\u001b[0m 2ms/step - accuracy: 0.9064 - loss: 0.2687 - val_accuracy: 0.8722 - val_loss: 0.3631 - learning_rate: 0.0045\n",
      "Epoch 9/20\n",
      "\u001b[1m1719/1719\u001b[0m \u001b[32m━━━━━━━━━━━━━━━━━━━━\u001b[0m\u001b[37m\u001b[0m \u001b[1m3s\u001b[0m 2ms/step - accuracy: 0.9118 - loss: 0.2547 - val_accuracy: 0.8712 - val_loss: 0.3636 - learning_rate: 0.0040\n",
      "Epoch 10/20\n",
      "\u001b[1m1719/1719\u001b[0m \u001b[32m━━━━━━━━━━━━━━━━━━━━\u001b[0m\u001b[37m\u001b[0m \u001b[1m3s\u001b[0m 2ms/step - accuracy: 0.9166 - loss: 0.2424 - val_accuracy: 0.8714 - val_loss: 0.3656 - learning_rate: 0.0035\n",
      "Epoch 11/20\n",
      "\u001b[1m1719/1719\u001b[0m \u001b[32m━━━━━━━━━━━━━━━━━━━━\u001b[0m\u001b[37m\u001b[0m \u001b[1m3s\u001b[0m 2ms/step - accuracy: 0.9210 - loss: 0.2313 - val_accuracy: 0.8718 - val_loss: 0.3678 - learning_rate: 0.0032\n",
      "Epoch 12/20\n",
      "\u001b[1m1719/1719\u001b[0m \u001b[32m━━━━━━━━━━━━━━━━━━━━\u001b[0m\u001b[37m\u001b[0m \u001b[1m4s\u001b[0m 2ms/step - accuracy: 0.9250 - loss: 0.2216 - val_accuracy: 0.8714 - val_loss: 0.3701 - learning_rate: 0.0028\n",
      "Epoch 13/20\n",
      "\u001b[1m1719/1719\u001b[0m \u001b[32m━━━━━━━━━━━━━━━━━━━━\u001b[0m\u001b[37m\u001b[0m \u001b[1m3s\u001b[0m 2ms/step - accuracy: 0.9286 - loss: 0.2130 - val_accuracy: 0.8710 - val_loss: 0.3718 - learning_rate: 0.0025\n",
      "Epoch 14/20\n",
      "\u001b[1m1719/1719\u001b[0m \u001b[32m━━━━━━━━━━━━━━━━━━━━\u001b[0m\u001b[37m\u001b[0m \u001b[1m3s\u001b[0m 2ms/step - accuracy: 0.9316 - loss: 0.2052 - val_accuracy: 0.8706 - val_loss: 0.3742 - learning_rate: 0.0022\n",
      "Epoch 15/20\n",
      "\u001b[1m1719/1719\u001b[0m \u001b[32m━━━━━━━━━━━━━━━━━━━━\u001b[0m\u001b[37m\u001b[0m \u001b[1m3s\u001b[0m 2ms/step - accuracy: 0.9346 - loss: 0.1986 - val_accuracy: 0.8714 - val_loss: 0.3764 - learning_rate: 0.0020\n",
      "Epoch 16/20\n",
      "\u001b[1m1719/1719\u001b[0m \u001b[32m━━━━━━━━━━━━━━━━━━━━\u001b[0m\u001b[37m\u001b[0m \u001b[1m3s\u001b[0m 2ms/step - accuracy: 0.9370 - loss: 0.1927 - val_accuracy: 0.8708 - val_loss: 0.3784 - learning_rate: 0.0018\n",
      "Epoch 17/20\n",
      "\u001b[1m1719/1719\u001b[0m \u001b[32m━━━━━━━━━━━━━━━━━━━━\u001b[0m\u001b[37m\u001b[0m \u001b[1m3s\u001b[0m 2ms/step - accuracy: 0.9390 - loss: 0.1873 - val_accuracy: 0.8698 - val_loss: 0.3802 - learning_rate: 0.0016\n",
      "Epoch 18/20\n",
      "\u001b[1m1719/1719\u001b[0m \u001b[32m━━━━━━━━━━━━━━━━━━━━\u001b[0m\u001b[37m\u001b[0m \u001b[1m4s\u001b[0m 2ms/step - accuracy: 0.9413 - loss: 0.1826 - val_accuracy: 0.8694 - val_loss: 0.3819 - learning_rate: 0.0014\n",
      "Epoch 19/20\n",
      "\u001b[1m1719/1719\u001b[0m \u001b[32m━━━━━━━━━━━━━━━━━━━━\u001b[0m\u001b[37m\u001b[0m \u001b[1m3s\u001b[0m 2ms/step - accuracy: 0.9431 - loss: 0.1784 - val_accuracy: 0.8690 - val_loss: 0.3833 - learning_rate: 0.0013\n",
      "Epoch 20/20\n",
      "\u001b[1m1719/1719\u001b[0m \u001b[32m━━━━━━━━━━━━━━━━━━━━\u001b[0m\u001b[37m\u001b[0m \u001b[1m3s\u001b[0m 2ms/step - accuracy: 0.9454 - loss: 0.1746 - val_accuracy: 0.8686 - val_loss: 0.3848 - learning_rate: 0.0011\n"
     ]
    },
    {
     "data": {
      "text/plain": [
       "<keras.src.callbacks.history.History at 0x7915787e9a50>"
      ]
     },
     "execution_count": 20,
     "metadata": {},
     "output_type": "execute_result"
    }
   ],
   "source": [
    "# Random State for the Model\n",
    "tf.random.set_seed(1730)\n",
    "\n",
    "# Buidling the Model\n",
    "model = build_model()\n",
    "\n",
    "# Compiling the Model\n",
    "model.compile(\n",
    "    loss=\"sparse_categorical_crossentropy\",\n",
    "    metrics=[\"accuracy\"],\n",
    "    optimizer=\"sgd\"\n",
    ")\n",
    "\n",
    "# Applying the Scheduler\n",
    "lr_scheduler = tf.keras.callbacks.LearningRateScheduler(exponential_decay_fn)\n",
    "\n",
    "# Training the Model\n",
    "model.fit(\n",
    "    X_train, y_train,\n",
    "    validation_data=(X_valid, y_valid),\n",
    "    callbacks=[lr_scheduler],\n",
    "    epochs=20\n",
    ")"
   ]
  },
  {
   "cell_type": "markdown",
   "id": "ea3ed929",
   "metadata": {
    "papermill": {
     "duration": 1.333063,
     "end_time": "2024-04-27T19:34:24.446675",
     "exception": false,
     "start_time": "2024-04-27T19:34:23.113612",
     "status": "completed"
    },
    "tags": []
   },
   "source": [
    "## Piecewise Constant Scheduling\n",
    "\n",
    "- In piecewise constant scheduling we utilise a number of preset learning rate for a fixed number of epochs during training\n",
    "- Thus, it works as follows:\n",
    "    - $\\alpha_0$ for $n_1$ no of epochs\n",
    "    - $\\alpha_1$ for $n_2$ no of epochs\n",
    "    - $\\alpha_2$ for $n_3$ no of epochs\n",
    "    - And so on ...\n",
    "    \n",
    "    \n",
    "- Although alot of tuning needs to be done to finalise on the number of epochs and learning rates for the each epoch for good outputs using this approach"
   ]
  },
  {
   "cell_type": "code",
   "execution_count": 21,
   "id": "488b42ac",
   "metadata": {
    "execution": {
     "iopub.execute_input": "2024-04-27T19:34:27.241021Z",
     "iopub.status.busy": "2024-04-27T19:34:27.240222Z",
     "iopub.status.idle": "2024-04-27T19:35:41.534757Z",
     "shell.execute_reply": "2024-04-27T19:35:41.533922Z"
    },
    "papermill": {
     "duration": 75.669718,
     "end_time": "2024-04-27T19:35:41.536912",
     "exception": false,
     "start_time": "2024-04-27T19:34:25.867194",
     "status": "completed"
    },
    "tags": []
   },
   "outputs": [
    {
     "name": "stdout",
     "output_type": "stream",
     "text": [
      "Epoch 1/20\n",
      "\u001b[1m1719/1719\u001b[0m \u001b[32m━━━━━━━━━━━━━━━━━━━━\u001b[0m\u001b[37m\u001b[0m \u001b[1m7s\u001b[0m 3ms/step - accuracy: 0.7691 - loss: 0.6646 - val_accuracy: 0.8584 - val_loss: 0.3739\n",
      "Epoch 2/20\n",
      "\u001b[1m1719/1719\u001b[0m \u001b[32m━━━━━━━━━━━━━━━━━━━━\u001b[0m\u001b[37m\u001b[0m \u001b[1m3s\u001b[0m 2ms/step - accuracy: 0.8560 - loss: 0.3941 - val_accuracy: 0.8708 - val_loss: 0.3478\n",
      "Epoch 3/20\n",
      "\u001b[1m1719/1719\u001b[0m \u001b[32m━━━━━━━━━━━━━━━━━━━━\u001b[0m\u001b[37m\u001b[0m \u001b[1m3s\u001b[0m 2ms/step - accuracy: 0.8774 - loss: 0.3331 - val_accuracy: 0.8712 - val_loss: 0.3491\n",
      "Epoch 4/20\n",
      "\u001b[1m1719/1719\u001b[0m \u001b[32m━━━━━━━━━━━━━━━━━━━━\u001b[0m\u001b[37m\u001b[0m \u001b[1m3s\u001b[0m 2ms/step - accuracy: 0.8936 - loss: 0.2930 - val_accuracy: 0.8702 - val_loss: 0.3562\n",
      "Epoch 5/20\n",
      "\u001b[1m1719/1719\u001b[0m \u001b[32m━━━━━━━━━━━━━━━━━━━━\u001b[0m\u001b[37m\u001b[0m \u001b[1m3s\u001b[0m 2ms/step - accuracy: 0.9070 - loss: 0.2593 - val_accuracy: 0.8792 - val_loss: 0.3601\n",
      "Epoch 6/20\n",
      "\u001b[1m1719/1719\u001b[0m \u001b[32m━━━━━━━━━━━━━━━━━━━━\u001b[0m\u001b[37m\u001b[0m \u001b[1m3s\u001b[0m 2ms/step - accuracy: 0.9170 - loss: 0.2324 - val_accuracy: 0.8740 - val_loss: 0.3812\n",
      "Epoch 7/20\n",
      "\u001b[1m1719/1719\u001b[0m \u001b[32m━━━━━━━━━━━━━━━━━━━━\u001b[0m\u001b[37m\u001b[0m \u001b[1m3s\u001b[0m 2ms/step - accuracy: 0.9246 - loss: 0.2089 - val_accuracy: 0.8718 - val_loss: 0.4026\n",
      "Epoch 8/20\n",
      "\u001b[1m1719/1719\u001b[0m \u001b[32m━━━━━━━━━━━━━━━━━━━━\u001b[0m\u001b[37m\u001b[0m \u001b[1m4s\u001b[0m 2ms/step - accuracy: 0.9313 - loss: 0.1901 - val_accuracy: 0.8696 - val_loss: 0.4099\n",
      "Epoch 9/20\n",
      "\u001b[1m1719/1719\u001b[0m \u001b[32m━━━━━━━━━━━━━━━━━━━━\u001b[0m\u001b[37m\u001b[0m \u001b[1m5s\u001b[0m 2ms/step - accuracy: 0.9380 - loss: 0.1745 - val_accuracy: 0.8664 - val_loss: 0.4330\n",
      "Epoch 10/20\n",
      "\u001b[1m1719/1719\u001b[0m \u001b[32m━━━━━━━━━━━━━━━━━━━━\u001b[0m\u001b[37m\u001b[0m \u001b[1m3s\u001b[0m 2ms/step - accuracy: 0.9419 - loss: 0.1614 - val_accuracy: 0.8698 - val_loss: 0.4582\n",
      "Epoch 11/20\n",
      "\u001b[1m1719/1719\u001b[0m \u001b[32m━━━━━━━━━━━━━━━━━━━━\u001b[0m\u001b[37m\u001b[0m \u001b[1m3s\u001b[0m 2ms/step - accuracy: 0.9455 - loss: 0.1497 - val_accuracy: 0.8666 - val_loss: 0.4894\n",
      "Epoch 12/20\n",
      "\u001b[1m1719/1719\u001b[0m \u001b[32m━━━━━━━━━━━━━━━━━━━━\u001b[0m\u001b[37m\u001b[0m \u001b[1m3s\u001b[0m 2ms/step - accuracy: 0.9507 - loss: 0.1374 - val_accuracy: 0.8658 - val_loss: 0.4890\n",
      "Epoch 13/20\n",
      "\u001b[1m1719/1719\u001b[0m \u001b[32m━━━━━━━━━━━━━━━━━━━━\u001b[0m\u001b[37m\u001b[0m \u001b[1m3s\u001b[0m 2ms/step - accuracy: 0.9548 - loss: 0.1272 - val_accuracy: 0.8678 - val_loss: 0.5179\n",
      "Epoch 14/20\n",
      "\u001b[1m1719/1719\u001b[0m \u001b[32m━━━━━━━━━━━━━━━━━━━━\u001b[0m\u001b[37m\u001b[0m \u001b[1m3s\u001b[0m 2ms/step - accuracy: 0.9591 - loss: 0.1161 - val_accuracy: 0.8708 - val_loss: 0.5299\n",
      "Epoch 15/20\n",
      "\u001b[1m1719/1719\u001b[0m \u001b[32m━━━━━━━━━━━━━━━━━━━━\u001b[0m\u001b[37m\u001b[0m \u001b[1m3s\u001b[0m 2ms/step - accuracy: 0.9603 - loss: 0.1110 - val_accuracy: 0.8676 - val_loss: 0.5572\n",
      "Epoch 16/20\n",
      "\u001b[1m1719/1719\u001b[0m \u001b[32m━━━━━━━━━━━━━━━━━━━━\u001b[0m\u001b[37m\u001b[0m \u001b[1m3s\u001b[0m 2ms/step - accuracy: 0.9608 - loss: 0.1066 - val_accuracy: 0.8724 - val_loss: 0.5621\n",
      "Epoch 17/20\n",
      "\u001b[1m1719/1719\u001b[0m \u001b[32m━━━━━━━━━━━━━━━━━━━━\u001b[0m\u001b[37m\u001b[0m \u001b[1m4s\u001b[0m 2ms/step - accuracy: 0.9664 - loss: 0.0950 - val_accuracy: 0.8676 - val_loss: 0.6002\n",
      "Epoch 18/20\n",
      "\u001b[1m1719/1719\u001b[0m \u001b[32m━━━━━━━━━━━━━━━━━━━━\u001b[0m\u001b[37m\u001b[0m \u001b[1m3s\u001b[0m 2ms/step - accuracy: 0.9669 - loss: 0.0888 - val_accuracy: 0.8774 - val_loss: 0.5351\n",
      "Epoch 19/20\n",
      "\u001b[1m1719/1719\u001b[0m \u001b[32m━━━━━━━━━━━━━━━━━━━━\u001b[0m\u001b[37m\u001b[0m \u001b[1m3s\u001b[0m 2ms/step - accuracy: 0.9819 - loss: 0.0536 - val_accuracy: 0.8782 - val_loss: 0.5489\n",
      "Epoch 20/20\n",
      "\u001b[1m1719/1719\u001b[0m \u001b[32m━━━━━━━━━━━━━━━━━━━━\u001b[0m\u001b[37m\u001b[0m \u001b[1m3s\u001b[0m 2ms/step - accuracy: 0.9900 - loss: 0.0380 - val_accuracy: 0.8774 - val_loss: 0.5676\n"
     ]
    }
   ],
   "source": [
    "# Creating the Piecewise Schdule\n",
    "lr_piecewise_schedule = tf.keras.optimizers.schedules.PiecewiseConstantDecay(\n",
    "    boundaries=[30e3, 50e3, 80e3],\n",
    "    values=[5e-2, 1e-2, 5e-3, 1e-3]\n",
    ")\n",
    "\n",
    "# Applying the Learning Rate Schedule to the Model\n",
    "optimizer = tf.keras.optimizers.SGD(\n",
    "    learning_rate=lr_piecewise_schedule\n",
    ")\n",
    "\n",
    "# Training the Model\n",
    "history_piecewise_scheduling = compile_and_train_model(optimizer)"
   ]
  },
  {
   "cell_type": "markdown",
   "id": "91ffebbe",
   "metadata": {
    "papermill": {
     "duration": 1.493996,
     "end_time": "2024-04-27T19:35:44.513370",
     "exception": false,
     "start_time": "2024-04-27T19:35:43.019374",
     "status": "completed"
    },
    "tags": []
   },
   "source": [
    "## Visualing Piecewise Scheduling of Learning Rate"
   ]
  },
  {
   "cell_type": "code",
   "execution_count": 22,
   "id": "2267f822",
   "metadata": {
    "execution": {
     "iopub.execute_input": "2024-04-27T19:35:47.391420Z",
     "iopub.status.busy": "2024-04-27T19:35:47.391084Z",
     "iopub.status.idle": "2024-04-27T19:35:47.730045Z",
     "shell.execute_reply": "2024-04-27T19:35:47.729087Z"
    },
    "papermill": {
     "duration": 1.81798,
     "end_time": "2024-04-27T19:35:47.732090",
     "exception": false,
     "start_time": "2024-04-27T19:35:45.914110",
     "status": "completed"
    },
    "tags": []
   },
   "outputs": [
    {
     "data": {
      "image/png": "[encoded data removed]",
      "text/plain": [
       "<Figure size 640x480 with 1 Axes>"
      ]
     },
     "metadata": {},
     "output_type": "display_data"
    }
   ],
   "source": [
    "# Parameters of Piecewise Scheduling\n",
    "boundaries = [30e3, 50e3, 80e3]\n",
    "values = [5e-2, 1e-2, 5e-3, 1e-3]\n",
    "\n",
    "# Steps for X - Axis\n",
    "steps = np.arange(100e3)\n",
    "\n",
    "# Learning Rate Array\n",
    "lrs = np.full(len(steps), values[0])\n",
    "\n",
    "# print(lrs.shape)\n",
    "# print(lrs[:10])\n",
    "# for i, j in zip(boundaries, values[1:]):\n",
    "#     print(i, j)\n",
    "#     print(lrs[int(i)])\n",
    "\n",
    "for boundary, value in zip(boundaries, values[1:]):\n",
    "    # Updating the values of Learning Rate after a certain boundary\n",
    "    lrs[int(boundary):] = value\n",
    "    \n",
    "plt.plot(steps, lrs, \"-\", label=\"Piecewise Learning Rate\")\n",
    "plt.title(\"Piecewise Constant Learning Rate Scheduling\")\n",
    "plt.xlabel(\"Iterations / Steps\")\n",
    "plt.ylabel(\"Learning Rate\")\n",
    "plt.grid()\n",
    "plt.legend()\n",
    "plt.show()"
   ]
  },
  {
   "cell_type": "markdown",
   "id": "7a6680d8",
   "metadata": {
    "papermill": {
     "duration": 1.509997,
     "end_time": "2024-04-27T19:35:50.677966",
     "exception": false,
     "start_time": "2024-04-27T19:35:49.167969",
     "status": "completed"
    },
    "tags": []
   },
   "source": [
    "**Applying Piecewise Constant Learning Rate Scheduling using the Keras LearningRateScheduler Approach**"
   ]
  },
  {
   "cell_type": "code",
   "execution_count": 23,
   "id": "9cbf3572",
   "metadata": {
    "execution": {
     "iopub.execute_input": "2024-04-27T19:35:53.720405Z",
     "iopub.status.busy": "2024-04-27T19:35:53.719663Z",
     "iopub.status.idle": "2024-04-27T19:35:53.725898Z",
     "shell.execute_reply": "2024-04-27T19:35:53.725013Z"
    },
    "papermill": {
     "duration": 1.536184,
     "end_time": "2024-04-27T19:35:53.727790",
     "exception": false,
     "start_time": "2024-04-27T19:35:52.191606",
     "status": "completed"
    },
    "tags": []
   },
   "outputs": [],
   "source": [
    "def piecewise_constant(boundaries, values):\n",
    "    \n",
    "    # Converting the List to Numpy Arrays\n",
    "    boundaries = np.array([0] + boundaries)\n",
    "    values = np.array(values)\n",
    "    \n",
    "    def piecewise_const_fn(epoch):\n",
    "        return values[(boundaries > epoch).argmax() - 1]\n",
    "    \n",
    "    # Returning the Configured Function for Learning Rate Scheduling\n",
    "    return piecewise_const_fn\n",
    "\n",
    "# Creating the Function to be used by the Scheduler\n",
    "piecewise_const_fn = piecewise_constant(\n",
    "    [5, 10, 15], \n",
    "    [5e-2, 1e-2, 5e-3, 1e-3]\n",
    ")"
   ]
  },
  {
   "cell_type": "code",
   "execution_count": 24,
   "id": "fdd53276",
   "metadata": {
    "execution": {
     "iopub.execute_input": "2024-04-27T19:35:56.649360Z",
     "iopub.status.busy": "2024-04-27T19:35:56.648988Z",
     "iopub.status.idle": "2024-04-27T19:35:56.656840Z",
     "shell.execute_reply": "2024-04-27T19:35:56.655684Z"
    },
    "papermill": {
     "duration": 1.517046,
     "end_time": "2024-04-27T19:35:56.658908",
     "exception": false,
     "start_time": "2024-04-27T19:35:55.141862",
     "status": "completed"
    },
    "tags": []
   },
   "outputs": [
    {
     "name": "stdout",
     "output_type": "stream",
     "text": [
      "[ 0  5 10 15]\n",
      "0.05\n",
      "0.01\n",
      "0.005\n",
      "0.001\n"
     ]
    }
   ],
   "source": [
    "boundaries = np.array([0, 5, 10, 15])\n",
    "print(boundaries)\n",
    "\n",
    "for i in [3, 7, 13, 20]:\n",
    "    print(values[(boundaries > i).argmax() - 1])"
   ]
  },
  {
   "cell_type": "code",
   "execution_count": 25,
   "id": "0451fcfa",
   "metadata": {
    "execution": {
     "iopub.execute_input": "2024-04-27T19:35:59.582931Z",
     "iopub.status.busy": "2024-04-27T19:35:59.582592Z",
     "iopub.status.idle": "2024-04-27T19:37:33.142022Z",
     "shell.execute_reply": "2024-04-27T19:37:33.141093Z"
    },
    "papermill": {
     "duration": 94.970056,
     "end_time": "2024-04-27T19:37:33.144381",
     "exception": false,
     "start_time": "2024-04-27T19:35:58.174325",
     "status": "completed"
    },
    "tags": []
   },
   "outputs": [
    {
     "name": "stdout",
     "output_type": "stream",
     "text": [
      "Epoch 1/25\n",
      "\u001b[1m1719/1719\u001b[0m \u001b[32m━━━━━━━━━━━━━━━━━━━━\u001b[0m\u001b[37m\u001b[0m \u001b[1m7s\u001b[0m 3ms/step - accuracy: 0.7681 - loss: 0.6623 - val_accuracy: 0.8598 - val_loss: 0.3833 - learning_rate: 0.0500\n",
      "Epoch 2/25\n",
      "\u001b[1m1719/1719\u001b[0m \u001b[32m━━━━━━━━━━━━━━━━━━━━\u001b[0m\u001b[37m\u001b[0m \u001b[1m3s\u001b[0m 2ms/step - accuracy: 0.8554 - loss: 0.3967 - val_accuracy: 0.8676 - val_loss: 0.3555 - learning_rate: 0.0500\n",
      "Epoch 3/25\n",
      "\u001b[1m1719/1719\u001b[0m \u001b[32m━━━━━━━━━━━━━━━━━━━━\u001b[0m\u001b[37m\u001b[0m \u001b[1m3s\u001b[0m 2ms/step - accuracy: 0.8787 - loss: 0.3352 - val_accuracy: 0.8702 - val_loss: 0.3444 - learning_rate: 0.0500\n",
      "Epoch 4/25\n",
      "\u001b[1m1719/1719\u001b[0m \u001b[32m━━━━━━━━━━━━━━━━━━━━\u001b[0m\u001b[37m\u001b[0m \u001b[1m3s\u001b[0m 2ms/step - accuracy: 0.8925 - loss: 0.2944 - val_accuracy: 0.8708 - val_loss: 0.3528 - learning_rate: 0.0500\n",
      "Epoch 5/25\n",
      "\u001b[1m1719/1719\u001b[0m \u001b[32m━━━━━━━━━━━━━━━━━━━━\u001b[0m\u001b[37m\u001b[0m \u001b[1m3s\u001b[0m 2ms/step - accuracy: 0.9052 - loss: 0.2606 - val_accuracy: 0.8752 - val_loss: 0.3591 - learning_rate: 0.0500\n",
      "Epoch 6/25\n",
      "\u001b[1m1719/1719\u001b[0m \u001b[32m━━━━━━━━━━━━━━━━━━━━\u001b[0m\u001b[37m\u001b[0m \u001b[1m3s\u001b[0m 2ms/step - accuracy: 0.9199 - loss: 0.2209 - val_accuracy: 0.8826 - val_loss: 0.3484 - learning_rate: 0.0100\n",
      "Epoch 7/25\n",
      "\u001b[1m1719/1719\u001b[0m \u001b[32m━━━━━━━━━━━━━━━━━━━━\u001b[0m\u001b[37m\u001b[0m \u001b[1m3s\u001b[0m 2ms/step - accuracy: 0.9316 - loss: 0.1926 - val_accuracy: 0.8826 - val_loss: 0.3554 - learning_rate: 0.0100\n",
      "Epoch 8/25\n",
      "\u001b[1m1719/1719\u001b[0m \u001b[32m━━━━━━━━━━━━━━━━━━━━\u001b[0m\u001b[37m\u001b[0m \u001b[1m3s\u001b[0m 2ms/step - accuracy: 0.9390 - loss: 0.1764 - val_accuracy: 0.8802 - val_loss: 0.3655 - learning_rate: 0.0100\n",
      "Epoch 9/25\n",
      "\u001b[1m1719/1719\u001b[0m \u001b[32m━━━━━━━━━━━━━━━━━━━━\u001b[0m\u001b[37m\u001b[0m \u001b[1m5s\u001b[0m 2ms/step - accuracy: 0.9442 - loss: 0.1627 - val_accuracy: 0.8794 - val_loss: 0.3769 - learning_rate: 0.0100\n",
      "Epoch 10/25\n",
      "\u001b[1m1719/1719\u001b[0m \u001b[32m━━━━━━━━━━━━━━━━━━━━\u001b[0m\u001b[37m\u001b[0m \u001b[1m3s\u001b[0m 2ms/step - accuracy: 0.9489 - loss: 0.1502 - val_accuracy: 0.8796 - val_loss: 0.3885 - learning_rate: 0.0100\n",
      "Epoch 11/25\n",
      "\u001b[1m1719/1719\u001b[0m \u001b[32m━━━━━━━━━━━━━━━━━━━━\u001b[0m\u001b[37m\u001b[0m \u001b[1m4s\u001b[0m 2ms/step - accuracy: 0.9537 - loss: 0.1382 - val_accuracy: 0.8788 - val_loss: 0.3892 - learning_rate: 0.0050\n",
      "Epoch 12/25\n",
      "\u001b[1m1719/1719\u001b[0m \u001b[32m━━━━━━━━━━━━━━━━━━━━\u001b[0m\u001b[37m\u001b[0m \u001b[1m4s\u001b[0m 2ms/step - accuracy: 0.9577 - loss: 0.1296 - val_accuracy: 0.8788 - val_loss: 0.3951 - learning_rate: 0.0050\n",
      "Epoch 13/25\n",
      "\u001b[1m1719/1719\u001b[0m \u001b[32m━━━━━━━━━━━━━━━━━━━━\u001b[0m\u001b[37m\u001b[0m \u001b[1m3s\u001b[0m 2ms/step - accuracy: 0.9609 - loss: 0.1226 - val_accuracy: 0.8778 - val_loss: 0.4016 - learning_rate: 0.0050\n",
      "Epoch 14/25\n",
      "\u001b[1m1719/1719\u001b[0m \u001b[32m━━━━━━━━━━━━━━━━━━━━\u001b[0m\u001b[37m\u001b[0m \u001b[1m3s\u001b[0m 2ms/step - accuracy: 0.9637 - loss: 0.1161 - val_accuracy: 0.8768 - val_loss: 0.4093 - learning_rate: 0.0050\n",
      "Epoch 15/25\n",
      "\u001b[1m1719/1719\u001b[0m \u001b[32m━━━━━━━━━━━━━━━━━━━━\u001b[0m\u001b[37m\u001b[0m \u001b[1m4s\u001b[0m 2ms/step - accuracy: 0.9662 - loss: 0.1100 - val_accuracy: 0.8762 - val_loss: 0.4159 - learning_rate: 0.0050\n",
      "Epoch 16/25\n",
      "\u001b[1m1719/1719\u001b[0m \u001b[32m━━━━━━━━━━━━━━━━━━━━\u001b[0m\u001b[37m\u001b[0m \u001b[1m4s\u001b[0m 2ms/step - accuracy: 0.9657 - loss: 0.1081 - val_accuracy: 0.8778 - val_loss: 0.4117 - learning_rate: 0.0010\n",
      "Epoch 17/25\n",
      "\u001b[1m1719/1719\u001b[0m \u001b[32m━━━━━━━━━━━━━━━━━━━━\u001b[0m\u001b[37m\u001b[0m \u001b[1m4s\u001b[0m 2ms/step - accuracy: 0.9688 - loss: 0.1032 - val_accuracy: 0.8788 - val_loss: 0.4126 - learning_rate: 0.0010\n",
      "Epoch 18/25\n",
      "\u001b[1m1719/1719\u001b[0m \u001b[32m━━━━━━━━━━━━━━━━━━━━\u001b[0m\u001b[37m\u001b[0m \u001b[1m4s\u001b[0m 2ms/step - accuracy: 0.9698 - loss: 0.1011 - val_accuracy: 0.8790 - val_loss: 0.4142 - learning_rate: 0.0010\n",
      "Epoch 19/25\n",
      "\u001b[1m1719/1719\u001b[0m \u001b[32m━━━━━━━━━━━━━━━━━━━━\u001b[0m\u001b[37m\u001b[0m \u001b[1m4s\u001b[0m 2ms/step - accuracy: 0.9708 - loss: 0.0992 - val_accuracy: 0.8782 - val_loss: 0.4159 - learning_rate: 0.0010\n",
      "Epoch 20/25\n",
      "\u001b[1m1719/1719\u001b[0m \u001b[32m━━━━━━━━━━━━━━━━━━━━\u001b[0m\u001b[37m\u001b[0m \u001b[1m3s\u001b[0m 2ms/step - accuracy: 0.9716 - loss: 0.0976 - val_accuracy: 0.8782 - val_loss: 0.4175 - learning_rate: 0.0010\n",
      "Epoch 21/25\n",
      "\u001b[1m1719/1719\u001b[0m \u001b[32m━━━━━━━━━━━━━━━━━━━━\u001b[0m\u001b[37m\u001b[0m \u001b[1m3s\u001b[0m 2ms/step - accuracy: 0.9722 - loss: 0.0961 - val_accuracy: 0.8776 - val_loss: 0.4191 - learning_rate: 0.0010\n",
      "Epoch 22/25\n",
      "\u001b[1m1719/1719\u001b[0m \u001b[32m━━━━━━━━━━━━━━━━━━━━\u001b[0m\u001b[37m\u001b[0m \u001b[1m4s\u001b[0m 2ms/step - accuracy: 0.9727 - loss: 0.0946 - val_accuracy: 0.8774 - val_loss: 0.4209 - learning_rate: 0.0010\n",
      "Epoch 23/25\n",
      "\u001b[1m1719/1719\u001b[0m \u001b[32m━━━━━━━━━━━━━━━━━━━━\u001b[0m\u001b[37m\u001b[0m \u001b[1m4s\u001b[0m 2ms/step - accuracy: 0.9736 - loss: 0.0931 - val_accuracy: 0.8778 - val_loss: 0.4226 - learning_rate: 0.0010\n",
      "Epoch 24/25\n",
      "\u001b[1m1719/1719\u001b[0m \u001b[32m━━━━━━━━━━━━━━━━━━━━\u001b[0m\u001b[37m\u001b[0m \u001b[1m3s\u001b[0m 2ms/step - accuracy: 0.9741 - loss: 0.0918 - val_accuracy: 0.8780 - val_loss: 0.4244 - learning_rate: 0.0010\n",
      "Epoch 25/25\n",
      "\u001b[1m1719/1719\u001b[0m \u001b[32m━━━━━━━━━━━━━━━━━━━━\u001b[0m\u001b[37m\u001b[0m \u001b[1m4s\u001b[0m 2ms/step - accuracy: 0.9744 - loss: 0.0904 - val_accuracy: 0.8780 - val_loss: 0.4261 - learning_rate: 0.0010\n"
     ]
    }
   ],
   "source": [
    "n_epochs = 25 \n",
    "\n",
    "# Applying the Schedule to Keras Callback\n",
    "lr_piecewise_schedule = tf.keras.callbacks.LearningRateScheduler(piecewise_const_fn)\n",
    "\n",
    "# Building the Model\n",
    "model = build_model()\n",
    "model.compile(\n",
    "    loss=\"sparse_categorical_crossentropy\",\n",
    "    metrics=[\"accuracy\"],\n",
    "    optimizer=tf.keras.optimizers.SGD(learning_rate=1e-2)\n",
    ")\n",
    "\n",
    "# Training the Model\n",
    "history_piecewise_scheduling_epoch = model.fit(\n",
    "    X_train, y_train,\n",
    "    validation_data=(X_valid, y_valid),\n",
    "    epochs=n_epochs,\n",
    "    callbacks=[lr_piecewise_schedule]\n",
    ")"
   ]
  },
  {
   "cell_type": "markdown",
   "id": "d77a1e98",
   "metadata": {
    "papermill": {
     "duration": 1.684997,
     "end_time": "2024-04-27T19:37:36.399433",
     "exception": false,
     "start_time": "2024-04-27T19:37:34.714436",
     "status": "completed"
    },
    "tags": []
   },
   "source": [
    "## Performance Learning Rate Scheduling\n",
    "\n",
    "- Performance Learning Rate Scheduling works by decay the learning rate by monitoring the values of Validation Loss during the Training Process.\n",
    "- It thus measures the values of validation loss for every N epochs / steps\n",
    "- After the N epochs / steps it reduces the learning rate by a factor $\\lambda$"
   ]
  },
  {
   "cell_type": "code",
   "execution_count": 26,
   "id": "67a43cd6",
   "metadata": {
    "execution": {
     "iopub.execute_input": "2024-04-27T19:37:39.636577Z",
     "iopub.status.busy": "2024-04-27T19:37:39.636231Z",
     "iopub.status.idle": "2024-04-27T19:39:10.015186Z",
     "shell.execute_reply": "2024-04-27T19:39:10.014107Z"
    },
    "papermill": {
     "duration": 91.99765,
     "end_time": "2024-04-27T19:39:10.018222",
     "exception": false,
     "start_time": "2024-04-27T19:37:38.020572",
     "status": "completed"
    },
    "tags": []
   },
   "outputs": [
    {
     "name": "stdout",
     "output_type": "stream",
     "text": [
      "Epoch 1/25\n",
      "\u001b[1m1719/1719\u001b[0m \u001b[32m━━━━━━━━━━━━━━━━━━━━\u001b[0m\u001b[37m\u001b[0m \u001b[1m7s\u001b[0m 3ms/step - accuracy: 0.7151 - loss: 0.8465 - val_accuracy: 0.8440 - val_loss: 0.4232 - learning_rate: 0.0100\n",
      "Epoch 2/25\n",
      "\u001b[1m1719/1719\u001b[0m \u001b[32m━━━━━━━━━━━━━━━━━━━━\u001b[0m\u001b[37m\u001b[0m \u001b[1m3s\u001b[0m 2ms/step - accuracy: 0.8416 - loss: 0.4491 - val_accuracy: 0.8588 - val_loss: 0.3861 - learning_rate: 0.0100\n",
      "Epoch 3/25\n",
      "\u001b[1m1719/1719\u001b[0m \u001b[32m━━━━━━━━━━━━━━━━━━━━\u001b[0m\u001b[37m\u001b[0m \u001b[1m3s\u001b[0m 2ms/step - accuracy: 0.8633 - loss: 0.3834 - val_accuracy: 0.8640 - val_loss: 0.3751 - learning_rate: 0.0100\n",
      "Epoch 4/25\n",
      "\u001b[1m1719/1719\u001b[0m \u001b[32m━━━━━━━━━━━━━━━━━━━━\u001b[0m\u001b[37m\u001b[0m \u001b[1m3s\u001b[0m 2ms/step - accuracy: 0.8791 - loss: 0.3424 - val_accuracy: 0.8676 - val_loss: 0.3680 - learning_rate: 0.0100\n",
      "Epoch 5/25\n",
      "\u001b[1m1719/1719\u001b[0m \u001b[32m━━━━━━━━━━━━━━━━━━━━\u001b[0m\u001b[37m\u001b[0m \u001b[1m3s\u001b[0m 2ms/step - accuracy: 0.8899 - loss: 0.3113 - val_accuracy: 0.8662 - val_loss: 0.3682 - learning_rate: 0.0100\n",
      "Epoch 6/25\n",
      "\u001b[1m1719/1719\u001b[0m \u001b[32m━━━━━━━━━━━━━━━━━━━━\u001b[0m\u001b[37m\u001b[0m \u001b[1m3s\u001b[0m 2ms/step - accuracy: 0.9015 - loss: 0.2846 - val_accuracy: 0.8706 - val_loss: 0.3703 - learning_rate: 0.0100\n",
      "Epoch 7/25\n",
      "\u001b[1m1719/1719\u001b[0m \u001b[32m━━━━━━━━━━━━━━━━━━━━\u001b[0m\u001b[37m\u001b[0m \u001b[1m4s\u001b[0m 2ms/step - accuracy: 0.9104 - loss: 0.2603 - val_accuracy: 0.8708 - val_loss: 0.3747 - learning_rate: 0.0100\n",
      "Epoch 8/25\n",
      "\u001b[1m1719/1719\u001b[0m \u001b[32m━━━━━━━━━━━━━━━━━━━━\u001b[0m\u001b[37m\u001b[0m \u001b[1m4s\u001b[0m 2ms/step - accuracy: 0.9196 - loss: 0.2380 - val_accuracy: 0.8716 - val_loss: 0.3854 - learning_rate: 0.0100\n",
      "Epoch 9/25\n",
      "\u001b[1m1719/1719\u001b[0m \u001b[32m━━━━━━━━━━━━━━━━━━━━\u001b[0m\u001b[37m\u001b[0m \u001b[1m4s\u001b[0m 2ms/step - accuracy: 0.9279 - loss: 0.2167 - val_accuracy: 0.8692 - val_loss: 0.3986 - learning_rate: 0.0100\n",
      "Epoch 10/25\n",
      "\u001b[1m1719/1719\u001b[0m \u001b[32m━━━━━━━━━━━━━━━━━━━━\u001b[0m\u001b[37m\u001b[0m \u001b[1m3s\u001b[0m 2ms/step - accuracy: 0.9386 - loss: 0.1904 - val_accuracy: 0.8692 - val_loss: 0.3992 - learning_rate: 0.0050\n",
      "Epoch 11/25\n",
      "\u001b[1m1719/1719\u001b[0m \u001b[32m━━━━━━━━━━━━━━━━━━━━\u001b[0m\u001b[37m\u001b[0m \u001b[1m4s\u001b[0m 2ms/step - accuracy: 0.9450 - loss: 0.1739 - val_accuracy: 0.8698 - val_loss: 0.4095 - learning_rate: 0.0050\n",
      "Epoch 12/25\n",
      "\u001b[1m1719/1719\u001b[0m \u001b[32m━━━━━━━━━━━━━━━━━━━━\u001b[0m\u001b[37m\u001b[0m \u001b[1m4s\u001b[0m 2ms/step - accuracy: 0.9499 - loss: 0.1614 - val_accuracy: 0.8696 - val_loss: 0.4194 - learning_rate: 0.0050\n",
      "Epoch 13/25\n",
      "\u001b[1m1719/1719\u001b[0m \u001b[32m━━━━━━━━━━━━━━━━━━━━\u001b[0m\u001b[37m\u001b[0m \u001b[1m4s\u001b[0m 2ms/step - accuracy: 0.9548 - loss: 0.1502 - val_accuracy: 0.8688 - val_loss: 0.4295 - learning_rate: 0.0050\n",
      "Epoch 14/25\n",
      "\u001b[1m1719/1719\u001b[0m \u001b[32m━━━━━━━━━━━━━━━━━━━━\u001b[0m\u001b[37m\u001b[0m \u001b[1m3s\u001b[0m 2ms/step - accuracy: 0.9587 - loss: 0.1393 - val_accuracy: 0.8692 - val_loss: 0.4390 - learning_rate: 0.0050\n",
      "Epoch 15/25\n",
      "\u001b[1m1719/1719\u001b[0m \u001b[32m━━━━━━━━━━━━━━━━━━━━\u001b[0m\u001b[37m\u001b[0m \u001b[1m4s\u001b[0m 2ms/step - accuracy: 0.9626 - loss: 0.1293 - val_accuracy: 0.8694 - val_loss: 0.4430 - learning_rate: 0.0025\n",
      "Epoch 16/25\n",
      "\u001b[1m1719/1719\u001b[0m \u001b[32m━━━━━━━━━━━━━━━━━━━━\u001b[0m\u001b[37m\u001b[0m \u001b[1m4s\u001b[0m 2ms/step - accuracy: 0.9657 - loss: 0.1216 - val_accuracy: 0.8690 - val_loss: 0.4494 - learning_rate: 0.0025\n",
      "Epoch 17/25\n",
      "\u001b[1m1719/1719\u001b[0m \u001b[32m━━━━━━━━━━━━━━━━━━━━\u001b[0m\u001b[37m\u001b[0m \u001b[1m4s\u001b[0m 2ms/step - accuracy: 0.9688 - loss: 0.1154 - val_accuracy: 0.8682 - val_loss: 0.4554 - learning_rate: 0.0025\n",
      "Epoch 18/25\n",
      "\u001b[1m1719/1719\u001b[0m \u001b[32m━━━━━━━━━━━━━━━━━━━━\u001b[0m\u001b[37m\u001b[0m \u001b[1m4s\u001b[0m 2ms/step - accuracy: 0.9709 - loss: 0.1095 - val_accuracy: 0.8676 - val_loss: 0.4611 - learning_rate: 0.0025\n",
      "Epoch 19/25\n",
      "\u001b[1m1719/1719\u001b[0m \u001b[32m━━━━━━━━━━━━━━━━━━━━\u001b[0m\u001b[37m\u001b[0m \u001b[1m3s\u001b[0m 2ms/step - accuracy: 0.9732 - loss: 0.1042 - val_accuracy: 0.8668 - val_loss: 0.4675 - learning_rate: 0.0025\n",
      "Epoch 20/25\n",
      "\u001b[1m1719/1719\u001b[0m \u001b[32m━━━━━━━━━━━━━━━━━━━━\u001b[0m\u001b[37m\u001b[0m \u001b[1m3s\u001b[0m 2ms/step - accuracy: 0.9747 - loss: 0.1011 - val_accuracy: 0.8682 - val_loss: 0.4644 - learning_rate: 0.0012\n",
      "Epoch 21/25\n",
      "\u001b[1m1719/1719\u001b[0m \u001b[32m━━━━━━━━━━━━━━━━━━━━\u001b[0m\u001b[37m\u001b[0m \u001b[1m3s\u001b[0m 2ms/step - accuracy: 0.9758 - loss: 0.0970 - val_accuracy: 0.8688 - val_loss: 0.4672 - learning_rate: 0.0012\n",
      "Epoch 22/25\n",
      "\u001b[1m1719/1719\u001b[0m \u001b[32m━━━━━━━━━━━━━━━━━━━━\u001b[0m\u001b[37m\u001b[0m \u001b[1m3s\u001b[0m 2ms/step - accuracy: 0.9773 - loss: 0.0939 - val_accuracy: 0.8686 - val_loss: 0.4706 - learning_rate: 0.0012\n",
      "Epoch 23/25\n",
      "\u001b[1m1719/1719\u001b[0m \u001b[32m━━━━━━━━━━━━━━━━━━━━\u001b[0m\u001b[37m\u001b[0m \u001b[1m3s\u001b[0m 2ms/step - accuracy: 0.9787 - loss: 0.0909 - val_accuracy: 0.8684 - val_loss: 0.4735 - learning_rate: 0.0012\n",
      "Epoch 24/25\n",
      "\u001b[1m1719/1719\u001b[0m \u001b[32m━━━━━━━━━━━━━━━━━━━━\u001b[0m\u001b[37m\u001b[0m \u001b[1m3s\u001b[0m 2ms/step - accuracy: 0.9799 - loss: 0.0881 - val_accuracy: 0.8682 - val_loss: 0.4766 - learning_rate: 0.0012\n",
      "Epoch 25/25\n",
      "\u001b[1m1719/1719\u001b[0m \u001b[32m━━━━━━━━━━━━━━━━━━━━\u001b[0m\u001b[37m\u001b[0m \u001b[1m3s\u001b[0m 2ms/step - accuracy: 0.9794 - loss: 0.0878 - val_accuracy: 0.8696 - val_loss: 0.4757 - learning_rate: 6.2500e-04\n"
     ]
    }
   ],
   "source": [
    "# Building the Model\n",
    "model = build_model()\n",
    "model.compile(\n",
    "    loss=\"sparse_categorical_crossentropy\",\n",
    "    metrics=[\"accuracy\"],\n",
    "    optimizer=tf.keras.optimizers.SGD(learning_rate=1e-2)\n",
    ")\n",
    "\n",
    "# Creating the Learning Rate Schedule\n",
    "lr_performance_schedule = tf.keras.callbacks.ReduceLROnPlateau(\n",
    "    factor=0.5,\n",
    "    patience=5\n",
    ")\n",
    "\n",
    "# Traning the Model\n",
    "history_performance_schedule = model.fit(\n",
    "    X_train, y_train,\n",
    "    validation_data=(X_valid, y_valid),\n",
    "    epochs=n_epochs,\n",
    "    callbacks=[lr_performance_schedule]\n",
    ")"
   ]
  },
  {
   "cell_type": "markdown",
   "id": "3bfe8d53",
   "metadata": {
    "papermill": {
     "duration": 1.816847,
     "end_time": "2024-04-27T19:39:13.645029",
     "exception": false,
     "start_time": "2024-04-27T19:39:11.828182",
     "status": "completed"
    },
    "tags": []
   },
   "source": [
    "## Visualising Performance Learning Rate Scheduling"
   ]
  },
  {
   "cell_type": "code",
   "execution_count": 27,
   "id": "ed43cca4",
   "metadata": {
    "execution": {
     "iopub.execute_input": "2024-04-27T19:39:17.170212Z",
     "iopub.status.busy": "2024-04-27T19:39:17.169268Z",
     "iopub.status.idle": "2024-04-27T19:39:17.473018Z",
     "shell.execute_reply": "2024-04-27T19:39:17.471989Z"
    },
    "papermill": {
     "duration": 2.05711,
     "end_time": "2024-04-27T19:39:17.475130",
     "exception": false,
     "start_time": "2024-04-27T19:39:15.418020",
     "status": "completed"
    },
    "tags": []
   },
   "outputs": [
    {
     "data": {
      "image/png": "[encoded data removed]",
      "text/plain": [
       "<Figure size 640x480 with 2 Axes>"
      ]
     },
     "metadata": {},
     "output_type": "display_data"
    }
   ],
   "source": [
    "# Plotting the Trends in the Learning Rate\n",
    "plt.plot(range(n_epochs), history_performance_schedule.history[\"learning_rate\"], \"bo-\")\n",
    "plt.xlabel(\"Epochs\")\n",
    "plt.ylabel(\"Learning Rate\", color=\"b\")\n",
    "plt.tick_params(\"y\", colors=\"b\")\n",
    "\n",
    "# Plotting the Trends in the Validation Loss\n",
    "alt_axes = plt.gca().twinx()\n",
    "alt_axes.plot(range(n_epochs), history_performance_schedule.history[\"val_loss\"], \"g^-\")\n",
    "alt_axes.set_ylabel(\"Validation Loss\", color=\"g\")\n",
    "alt_axes.tick_params(\"y\", colors=\"g\")\n",
    "\n",
    "plt.title(\"Performance Learning Rate Scheduling\")\n",
    "plt.show()"
   ]
  },
  {
   "cell_type": "code",
   "execution_count": 28,
   "id": "7bf39b50",
   "metadata": {
    "execution": {
     "iopub.execute_input": "2024-04-27T19:39:20.914111Z",
     "iopub.status.busy": "2024-04-27T19:39:20.913117Z",
     "iopub.status.idle": "2024-04-27T19:39:20.919963Z",
     "shell.execute_reply": "2024-04-27T19:39:20.919079Z"
    },
    "papermill": {
     "duration": 1.766515,
     "end_time": "2024-04-27T19:39:20.921926",
     "exception": false,
     "start_time": "2024-04-27T19:39:19.155411",
     "status": "completed"
    },
    "tags": []
   },
   "outputs": [
    {
     "data": {
      "text/plain": [
       "dict_keys(['accuracy', 'loss', 'val_accuracy', 'val_loss', 'learning_rate'])"
      ]
     },
     "execution_count": 28,
     "metadata": {},
     "output_type": "execute_result"
    }
   ],
   "source": [
    "history_performance_schedule.history.keys()"
   ]
  },
  {
   "cell_type": "markdown",
   "id": "4c49b67e",
   "metadata": {
    "papermill": {
     "duration": 1.737126,
     "end_time": "2024-04-27T19:39:24.418151",
     "exception": false,
     "start_time": "2024-04-27T19:39:22.681025",
     "status": "completed"
    },
    "tags": []
   },
   "source": [
    "**Avoiding Overfitting Through Regularization**\n",
    "--\n",
    "\n",
    "## L1 Regularization\n",
    "\n",
    "$$l_1 \\; = \\; \\sum_{i \\; = \\; 1}^m \\; | \\; x^{<i>} \\; |$$\n",
    "- It is more robust to outliers.\n",
    "- It isnt easily differentiable.\n",
    "- It promotes sparsity.\n",
    "\n",
    "## L2 Regularization\n",
    "\n",
    "$$l_2 \\; = \\; \\sqrt{\\sum_{i \\; = \\; 1}^m \\; | \\; {x^{<i>}}^2 \\; |}$$\n",
    "- It is more sensitive to outliers.\n",
    "- It is easily differentiable."
   ]
  },
  {
   "cell_type": "code",
   "execution_count": 29,
   "id": "120df5c6",
   "metadata": {
    "execution": {
     "iopub.execute_input": "2024-04-27T19:39:27.929371Z",
     "iopub.status.busy": "2024-04-27T19:39:27.928684Z",
     "iopub.status.idle": "2024-04-27T19:39:27.937297Z",
     "shell.execute_reply": "2024-04-27T19:39:27.936444Z"
    },
    "papermill": {
     "duration": 1.785383,
     "end_time": "2024-04-27T19:39:27.939876",
     "exception": false,
     "start_time": "2024-04-27T19:39:26.154493",
     "status": "completed"
    },
    "tags": []
   },
   "outputs": [
    {
     "name": "stdout",
     "output_type": "stream",
     "text": [
      "<Dense name=dense_70, built=False>\n",
      "<Dense name=dense_71, built=False>\n"
     ]
    }
   ],
   "source": [
    "dense1 = tf.keras.layers.Dense(\n",
    "    units=100, \n",
    "    activation=\"relu\",\n",
    "    kernel_initializer=\"he_normal\",\n",
    "    kernel_regularizer=tf.keras.regularizers.l1(0.01)\n",
    ")\n",
    "\n",
    "dense2 = tf.keras.layers.Dense(\n",
    "    units=100, \n",
    "    activation=\"relu\",\n",
    "    kernel_initializer=\"he_normal\",\n",
    "    kernel_regularizer=tf.keras.regularizers.l2(0.01)\n",
    ")\n",
    "\n",
    "print(dense1)\n",
    "print(dense2)"
   ]
  },
  {
   "cell_type": "markdown",
   "id": "3d06ef08",
   "metadata": {
    "papermill": {
     "duration": 1.763677,
     "end_time": "2024-04-27T19:39:31.444312",
     "exception": false,
     "start_time": "2024-04-27T19:39:29.680635",
     "status": "completed"
    },
    "tags": []
   },
   "source": [
    "**Alternate Approach to Reduce Code Repetition**"
   ]
  },
  {
   "cell_type": "code",
   "execution_count": 30,
   "id": "e6f607c2",
   "metadata": {
    "execution": {
     "iopub.execute_input": "2024-04-27T19:39:35.001105Z",
     "iopub.status.busy": "2024-04-27T19:39:35.000255Z",
     "iopub.status.idle": "2024-04-27T19:40:52.681954Z",
     "shell.execute_reply": "2024-04-27T19:40:52.681169Z"
    },
    "papermill": {
     "duration": 79.478203,
     "end_time": "2024-04-27T19:40:52.684023",
     "exception": false,
     "start_time": "2024-04-27T19:39:33.205820",
     "status": "completed"
    },
    "tags": []
   },
   "outputs": [
    {
     "name": "stdout",
     "output_type": "stream",
     "text": [
      "Epoch 1/25\n",
      "\u001b[1m1719/1719\u001b[0m \u001b[32m━━━━━━━━━━━━━━━━━━━━\u001b[0m\u001b[37m\u001b[0m \u001b[1m6s\u001b[0m 3ms/step - accuracy: 0.7815 - loss: 5.6502 - val_accuracy: 0.8286 - val_loss: 1.2371 - learning_rate: 0.0500\n",
      "Epoch 2/25\n",
      "\u001b[1m1719/1719\u001b[0m \u001b[32m━━━━━━━━━━━━━━━━━━━━\u001b[0m\u001b[37m\u001b[0m \u001b[1m3s\u001b[0m 2ms/step - accuracy: 0.8130 - loss: 1.0688 - val_accuracy: 0.8240 - val_loss: 0.7797 - learning_rate: 0.0500\n",
      "Epoch 3/25\n",
      "\u001b[1m1719/1719\u001b[0m \u001b[32m━━━━━━━━━━━━━━━━━━━━\u001b[0m\u001b[37m\u001b[0m \u001b[1m3s\u001b[0m 2ms/step - accuracy: 0.8164 - loss: 0.7288 - val_accuracy: 0.8124 - val_loss: 0.6915 - learning_rate: 0.0500\n",
      "Epoch 4/25\n",
      "\u001b[1m1719/1719\u001b[0m \u001b[32m━━━━━━━━━━━━━━━━━━━━\u001b[0m\u001b[37m\u001b[0m \u001b[1m3s\u001b[0m 2ms/step - accuracy: 0.8203 - loss: 0.6656 - val_accuracy: 0.8072 - val_loss: 0.6727 - learning_rate: 0.0500\n",
      "Epoch 5/25\n",
      "\u001b[1m1719/1719\u001b[0m \u001b[32m━━━━━━━━━━━━━━━━━━━━\u001b[0m\u001b[37m\u001b[0m \u001b[1m3s\u001b[0m 2ms/step - accuracy: 0.8133 - loss: 0.6586 - val_accuracy: 0.8270 - val_loss: 0.6726 - learning_rate: 0.0500\n",
      "Epoch 6/25\n",
      "\u001b[1m1719/1719\u001b[0m \u001b[32m━━━━━━━━━━━━━━━━━━━━\u001b[0m\u001b[37m\u001b[0m \u001b[1m3s\u001b[0m 2ms/step - accuracy: 0.8457 - loss: 0.5968 - val_accuracy: 0.8516 - val_loss: 0.5352 - learning_rate: 0.0100\n",
      "Epoch 7/25\n",
      "\u001b[1m1719/1719\u001b[0m \u001b[32m━━━━━━━━━━━━━━━━━━━━\u001b[0m\u001b[37m\u001b[0m \u001b[1m3s\u001b[0m 2ms/step - accuracy: 0.8512 - loss: 0.5390 - val_accuracy: 0.8480 - val_loss: 0.5266 - learning_rate: 0.0100\n",
      "Epoch 8/25\n",
      "\u001b[1m1719/1719\u001b[0m \u001b[32m━━━━━━━━━━━━━━━━━━━━\u001b[0m\u001b[37m\u001b[0m \u001b[1m3s\u001b[0m 2ms/step - accuracy: 0.8522 - loss: 0.5203 - val_accuracy: 0.8446 - val_loss: 0.5328 - learning_rate: 0.0100\n",
      "Epoch 9/25\n",
      "\u001b[1m1719/1719\u001b[0m \u001b[32m━━━━━━━━━━━━━━━━━━━━\u001b[0m\u001b[37m\u001b[0m \u001b[1m3s\u001b[0m 2ms/step - accuracy: 0.8526 - loss: 0.5110 - val_accuracy: 0.8446 - val_loss: 0.5445 - learning_rate: 0.0100\n",
      "Epoch 10/25\n",
      "\u001b[1m1719/1719\u001b[0m \u001b[32m━━━━━━━━━━━━━━━━━━━━\u001b[0m\u001b[37m\u001b[0m \u001b[1m3s\u001b[0m 2ms/step - accuracy: 0.8542 - loss: 0.5055 - val_accuracy: 0.8376 - val_loss: 0.5553 - learning_rate: 0.0100\n",
      "Epoch 11/25\n",
      "\u001b[1m1719/1719\u001b[0m \u001b[32m━━━━━━━━━━━━━━━━━━━━\u001b[0m\u001b[37m\u001b[0m \u001b[1m3s\u001b[0m 2ms/step - accuracy: 0.8625 - loss: 0.4810 - val_accuracy: 0.8586 - val_loss: 0.4833 - learning_rate: 0.0050\n",
      "Epoch 12/25\n",
      "\u001b[1m1719/1719\u001b[0m \u001b[32m━━━━━━━━━━━━━━━━━━━━\u001b[0m\u001b[37m\u001b[0m \u001b[1m3s\u001b[0m 2ms/step - accuracy: 0.8651 - loss: 0.4728 - val_accuracy: 0.8554 - val_loss: 0.4872 - learning_rate: 0.0050\n",
      "Epoch 13/25\n",
      "\u001b[1m1719/1719\u001b[0m \u001b[32m━━━━━━━━━━━━━━━━━━━━\u001b[0m\u001b[37m\u001b[0m \u001b[1m3s\u001b[0m 2ms/step - accuracy: 0.8662 - loss: 0.4708 - val_accuracy: 0.8564 - val_loss: 0.4919 - learning_rate: 0.0050\n",
      "Epoch 14/25\n",
      "\u001b[1m1719/1719\u001b[0m \u001b[32m━━━━━━━━━━━━━━━━━━━━\u001b[0m\u001b[37m\u001b[0m \u001b[1m3s\u001b[0m 2ms/step - accuracy: 0.8659 - loss: 0.4697 - val_accuracy: 0.8554 - val_loss: 0.4933 - learning_rate: 0.0050\n",
      "Epoch 15/25\n",
      "\u001b[1m1719/1719\u001b[0m \u001b[32m━━━━━━━━━━━━━━━━━━━━\u001b[0m\u001b[37m\u001b[0m \u001b[1m3s\u001b[0m 2ms/step - accuracy: 0.8658 - loss: 0.4688 - val_accuracy: 0.8560 - val_loss: 0.4892 - learning_rate: 0.0050\n",
      "Epoch 16/25\n",
      "\u001b[1m1719/1719\u001b[0m \u001b[32m━━━━━━━━━━━━━━━━━━━━\u001b[0m\u001b[37m\u001b[0m \u001b[1m3s\u001b[0m 2ms/step - accuracy: 0.8743 - loss: 0.4450 - val_accuracy: 0.8658 - val_loss: 0.4474 - learning_rate: 0.0010\n",
      "Epoch 17/25\n",
      "\u001b[1m1719/1719\u001b[0m \u001b[32m━━━━━━━━━━━━━━━━━━━━\u001b[0m\u001b[37m\u001b[0m \u001b[1m3s\u001b[0m 2ms/step - accuracy: 0.8778 - loss: 0.4355 - val_accuracy: 0.8648 - val_loss: 0.4470 - learning_rate: 0.0010\n",
      "Epoch 18/25\n",
      "\u001b[1m1719/1719\u001b[0m \u001b[32m━━━━━━━━━━━━━━━━━━━━\u001b[0m\u001b[37m\u001b[0m \u001b[1m3s\u001b[0m 2ms/step - accuracy: 0.8793 - loss: 0.4314 - val_accuracy: 0.8662 - val_loss: 0.4467 - learning_rate: 0.0010\n",
      "Epoch 19/25\n",
      "\u001b[1m1719/1719\u001b[0m \u001b[32m━━━━━━━━━━━━━━━━━━━━\u001b[0m\u001b[37m\u001b[0m \u001b[1m3s\u001b[0m 2ms/step - accuracy: 0.8798 - loss: 0.4285 - val_accuracy: 0.8654 - val_loss: 0.4460 - learning_rate: 0.0010\n",
      "Epoch 20/25\n",
      "\u001b[1m1719/1719\u001b[0m \u001b[32m━━━━━━━━━━━━━━━━━━━━\u001b[0m\u001b[37m\u001b[0m \u001b[1m3s\u001b[0m 2ms/step - accuracy: 0.8798 - loss: 0.4262 - val_accuracy: 0.8640 - val_loss: 0.4475 - learning_rate: 0.0010\n",
      "Epoch 21/25\n",
      "\u001b[1m1719/1719\u001b[0m \u001b[32m━━━━━━━━━━━━━━━━━━━━\u001b[0m\u001b[37m\u001b[0m \u001b[1m3s\u001b[0m 2ms/step - accuracy: 0.8802 - loss: 0.4241 - val_accuracy: 0.8632 - val_loss: 0.4481 - learning_rate: 0.0010\n",
      "Epoch 22/25\n",
      "\u001b[1m1719/1719\u001b[0m \u001b[32m━━━━━━━━━━━━━━━━━━━━\u001b[0m\u001b[37m\u001b[0m \u001b[1m3s\u001b[0m 2ms/step - accuracy: 0.8810 - loss: 0.4229 - val_accuracy: 0.8630 - val_loss: 0.4468 - learning_rate: 0.0010\n",
      "Epoch 23/25\n",
      "\u001b[1m1719/1719\u001b[0m \u001b[32m━━━━━━━━━━━━━━━━━━━━\u001b[0m\u001b[37m\u001b[0m \u001b[1m3s\u001b[0m 2ms/step - accuracy: 0.8811 - loss: 0.4214 - val_accuracy: 0.8638 - val_loss: 0.4470 - learning_rate: 0.0010\n",
      "Epoch 24/25\n",
      "\u001b[1m1719/1719\u001b[0m \u001b[32m━━━━━━━━━━━━━━━━━━━━\u001b[0m\u001b[37m\u001b[0m \u001b[1m3s\u001b[0m 2ms/step - accuracy: 0.8806 - loss: 0.4203 - val_accuracy: 0.8638 - val_loss: 0.4473 - learning_rate: 0.0010\n",
      "Epoch 25/25\n",
      "\u001b[1m1719/1719\u001b[0m \u001b[32m━━━━━━━━━━━━━━━━━━━━\u001b[0m\u001b[37m\u001b[0m \u001b[1m3s\u001b[0m 2ms/step - accuracy: 0.8810 - loss: 0.4199 - val_accuracy: 0.8630 - val_loss: 0.4502 - learning_rate: 0.0010\n"
     ]
    }
   ],
   "source": [
    "from functools import partial\n",
    "\n",
    "# Creating a custom wrapper to add only differentiable parameters\n",
    "RegularizedDense = partial(\n",
    "    tf.keras.layers.Dense, \n",
    "    activation=\"relu\",\n",
    "    kernel_initializer=\"he_normal\",\n",
    "    kernel_regularizer=tf.keras.regularizers.l2(0.01)\n",
    ")\n",
    "\n",
    "# Building the Model\n",
    "model = tf.keras.models.Sequential([\n",
    "    tf.keras.layers.Flatten(input_shape=[28, 28]),\n",
    "    RegularizedDense(100),\n",
    "    tf.keras.layers.BatchNormalization(),\n",
    "    RegularizedDense(100),\n",
    "    tf.keras.layers.BatchNormalization(),\n",
    "    RegularizedDense(10, activation=\"softmax\")\n",
    "])\n",
    "\n",
    "# Compiling the Model\n",
    "model.compile(\n",
    "    loss=\"sparse_categorical_crossentropy\",\n",
    "    metrics=[\"accuracy\"],\n",
    "    optimizer=tf.keras.optimizers.SGD(learning_rate=1e-2)\n",
    ")\n",
    "\n",
    "# Training the Model\n",
    "history_alternate_model = model.fit(\n",
    "    X_train, y_train,\n",
    "    validation_data=(X_valid, y_valid),\n",
    "    epochs=n_epochs,\n",
    "    callbacks=[lr_piecewise_schedule]\n",
    ")"
   ]
  },
  {
   "cell_type": "markdown",
   "id": "e12ad82a",
   "metadata": {
    "papermill": {
     "duration": 1.845355,
     "end_time": "2024-04-27T19:40:56.441208",
     "exception": false,
     "start_time": "2024-04-27T19:40:54.595853",
     "status": "completed"
    },
    "tags": []
   },
   "source": [
    "## Dropout Regularization\n",
    "\n",
    "- During Dropout Regularisation the units in the layers of a neural network are tested against drop rate probability `P`.\n",
    "- All the units that are kept by the drop rate probability continue the training process for the current step (Iteration).\n",
    "- Thus for each iteration of training a new neural network is (mostly likely) trained, while the weights and parameters are carried forward from the previous iterations.\n",
    "- This approach to training neural networks is the epitome of creating high cohesion, low coupling models.\n",
    "- Although, due to the sudden drop in units during training the model takes longer to achieve convergence.\n",
    "\n",
    "**Important**\n",
    "- If the model is overfitting to a training set we increase the drop rate\n",
    "- If the model is underfitting to a training set we decrease the drop rate\n",
    "- Since this approach regularizes the network by firing alternate neurons to reach a desired output each units weights increase by 2x.\n",
    "- Thus we have to correct the values of the weights by multiply it by the Probability `1 - P` to achieve desired performance.\n",
    "\n",
    "**Extra**\n",
    "- To utilise dropout regularization in SELU Activated Neural Networks we need to used the **`Alpha Dropout Layer`**"
   ]
  },
  {
   "cell_type": "code",
   "execution_count": 31,
   "id": "019176b4",
   "metadata": {
    "execution": {
     "iopub.execute_input": "2024-04-27T19:41:00.206198Z",
     "iopub.status.busy": "2024-04-27T19:41:00.205829Z",
     "iopub.status.idle": "2024-04-27T19:42:43.191602Z",
     "shell.execute_reply": "2024-04-27T19:42:43.190655Z"
    },
    "papermill": {
     "duration": 104.883343,
     "end_time": "2024-04-27T19:42:43.194084",
     "exception": false,
     "start_time": "2024-04-27T19:40:58.310741",
     "status": "completed"
    },
    "tags": []
   },
   "outputs": [
    {
     "name": "stdout",
     "output_type": "stream",
     "text": [
      "Epoch 1/25\n",
      "\u001b[1m1719/1719\u001b[0m \u001b[32m━━━━━━━━━━━━━━━━━━━━\u001b[0m\u001b[37m\u001b[0m \u001b[1m17s\u001b[0m 6ms/step - accuracy: 0.6796 - loss: 3.9862 - val_accuracy: 0.8092 - val_loss: 0.8966\n",
      "Epoch 2/25\n",
      "\u001b[1m1719/1719\u001b[0m \u001b[32m━━━━━━━━━━━━━━━━━━━━\u001b[0m\u001b[37m\u001b[0m \u001b[1m3s\u001b[0m 2ms/step - accuracy: 0.7859 - loss: 0.9662 - val_accuracy: 0.8162 - val_loss: 0.8285\n",
      "Epoch 3/25\n",
      "\u001b[1m1719/1719\u001b[0m \u001b[32m━━━━━━━━━━━━━━━━━━━━\u001b[0m\u001b[37m\u001b[0m \u001b[1m4s\u001b[0m 2ms/step - accuracy: 0.7878 - loss: 0.9354 - val_accuracy: 0.8168 - val_loss: 0.8093\n",
      "Epoch 4/25\n",
      "\u001b[1m1719/1719\u001b[0m \u001b[32m━━━━━━━━━━━━━━━━━━━━\u001b[0m\u001b[37m\u001b[0m \u001b[1m3s\u001b[0m 2ms/step - accuracy: 0.7901 - loss: 0.9183 - val_accuracy: 0.8088 - val_loss: 0.8166\n",
      "Epoch 5/25\n",
      "\u001b[1m1719/1719\u001b[0m \u001b[32m━━━━━━━━━━━━━━━━━━━━\u001b[0m\u001b[37m\u001b[0m \u001b[1m4s\u001b[0m 2ms/step - accuracy: 0.7885 - loss: 0.9042 - val_accuracy: 0.8154 - val_loss: 0.7992\n",
      "Epoch 6/25\n",
      "\u001b[1m1719/1719\u001b[0m \u001b[32m━━━━━━━━━━━━━━━━━━━━\u001b[0m\u001b[37m\u001b[0m \u001b[1m5s\u001b[0m 2ms/step - accuracy: 0.7907 - loss: 0.8935 - val_accuracy: 0.8186 - val_loss: 0.7793\n",
      "Epoch 7/25\n",
      "\u001b[1m1719/1719\u001b[0m \u001b[32m━━━━━━━━━━━━━━━━━━━━\u001b[0m\u001b[37m\u001b[0m \u001b[1m3s\u001b[0m 2ms/step - accuracy: 0.7953 - loss: 0.8841 - val_accuracy: 0.8130 - val_loss: 0.7846\n",
      "Epoch 8/25\n",
      "\u001b[1m1719/1719\u001b[0m \u001b[32m━━━━━━━━━━━━━━━━━━━━\u001b[0m\u001b[37m\u001b[0m \u001b[1m3s\u001b[0m 2ms/step - accuracy: 0.7926 - loss: 0.8784 - val_accuracy: 0.8290 - val_loss: 0.7546\n",
      "Epoch 9/25\n",
      "\u001b[1m1719/1719\u001b[0m \u001b[32m━━━━━━━━━━━━━━━━━━━━\u001b[0m\u001b[37m\u001b[0m \u001b[1m3s\u001b[0m 2ms/step - accuracy: 0.7927 - loss: 0.8713 - val_accuracy: 0.8152 - val_loss: 0.7806\n",
      "Epoch 10/25\n",
      "\u001b[1m1719/1719\u001b[0m \u001b[32m━━━━━━━━━━━━━━━━━━━━\u001b[0m\u001b[37m\u001b[0m \u001b[1m4s\u001b[0m 2ms/step - accuracy: 0.7970 - loss: 0.8631 - val_accuracy: 0.8214 - val_loss: 0.7528\n",
      "Epoch 11/25\n",
      "\u001b[1m1719/1719\u001b[0m \u001b[32m━━━━━━━━━━━━━━━━━━━━\u001b[0m\u001b[37m\u001b[0m \u001b[1m3s\u001b[0m 2ms/step - accuracy: 0.7968 - loss: 0.8576 - val_accuracy: 0.8202 - val_loss: 0.7592\n",
      "Epoch 12/25\n",
      "\u001b[1m1719/1719\u001b[0m \u001b[32m━━━━━━━━━━━━━━━━━━━━\u001b[0m\u001b[37m\u001b[0m \u001b[1m3s\u001b[0m 2ms/step - accuracy: 0.7979 - loss: 0.8493 - val_accuracy: 0.8238 - val_loss: 0.7463\n",
      "Epoch 13/25\n",
      "\u001b[1m1719/1719\u001b[0m \u001b[32m━━━━━━━━━━━━━━━━━━━━\u001b[0m\u001b[37m\u001b[0m \u001b[1m4s\u001b[0m 2ms/step - accuracy: 0.7982 - loss: 0.8475 - val_accuracy: 0.8274 - val_loss: 0.7405\n",
      "Epoch 14/25\n",
      "\u001b[1m1719/1719\u001b[0m \u001b[32m━━━━━━━━━━━━━━━━━━━━\u001b[0m\u001b[37m\u001b[0m \u001b[1m4s\u001b[0m 2ms/step - accuracy: 0.8003 - loss: 0.8435 - val_accuracy: 0.8314 - val_loss: 0.7299\n",
      "Epoch 15/25\n",
      "\u001b[1m1719/1719\u001b[0m \u001b[32m━━━━━━━━━━━━━━━━━━━━\u001b[0m\u001b[37m\u001b[0m \u001b[1m3s\u001b[0m 2ms/step - accuracy: 0.7965 - loss: 0.8388 - val_accuracy: 0.8282 - val_loss: 0.7308\n",
      "Epoch 16/25\n",
      "\u001b[1m1719/1719\u001b[0m \u001b[32m━━━━━━━━━━━━━━━━━━━━\u001b[0m\u001b[37m\u001b[0m \u001b[1m3s\u001b[0m 2ms/step - accuracy: 0.7996 - loss: 0.8339 - val_accuracy: 0.8248 - val_loss: 0.7339\n",
      "Epoch 17/25\n",
      "\u001b[1m1719/1719\u001b[0m \u001b[32m━━━━━━━━━━━━━━━━━━━━\u001b[0m\u001b[37m\u001b[0m \u001b[1m3s\u001b[0m 2ms/step - accuracy: 0.7996 - loss: 0.8357 - val_accuracy: 0.8258 - val_loss: 0.7347\n",
      "Epoch 18/25\n",
      "\u001b[1m1719/1719\u001b[0m \u001b[32m━━━━━━━━━━━━━━━━━━━━\u001b[0m\u001b[37m\u001b[0m \u001b[1m3s\u001b[0m 2ms/step - accuracy: 0.8019 - loss: 0.8296 - val_accuracy: 0.8258 - val_loss: 0.7259\n",
      "Epoch 19/25\n",
      "\u001b[1m1719/1719\u001b[0m \u001b[32m━━━━━━━━━━━━━━━━━━━━\u001b[0m\u001b[37m\u001b[0m \u001b[1m4s\u001b[0m 2ms/step - accuracy: 0.7987 - loss: 0.8269 - val_accuracy: 0.8242 - val_loss: 0.7294\n",
      "Epoch 20/25\n",
      "\u001b[1m1719/1719\u001b[0m \u001b[32m━━━━━━━━━━━━━━━━━━━━\u001b[0m\u001b[37m\u001b[0m \u001b[1m4s\u001b[0m 2ms/step - accuracy: 0.7963 - loss: 0.8295 - val_accuracy: 0.8316 - val_loss: 0.7189\n",
      "Epoch 21/25\n",
      "\u001b[1m1719/1719\u001b[0m \u001b[32m━━━━━━━━━━━━━━━━━━━━\u001b[0m\u001b[37m\u001b[0m \u001b[1m3s\u001b[0m 2ms/step - accuracy: 0.8012 - loss: 0.8240 - val_accuracy: 0.8278 - val_loss: 0.7270\n",
      "Epoch 22/25\n",
      "\u001b[1m1719/1719\u001b[0m \u001b[32m━━━━━━━━━━━━━━━━━━━━\u001b[0m\u001b[37m\u001b[0m \u001b[1m3s\u001b[0m 2ms/step - accuracy: 0.7994 - loss: 0.8218 - val_accuracy: 0.8276 - val_loss: 0.7315\n",
      "Epoch 23/25\n",
      "\u001b[1m1719/1719\u001b[0m \u001b[32m━━━━━━━━━━━━━━━━━━━━\u001b[0m\u001b[37m\u001b[0m \u001b[1m4s\u001b[0m 2ms/step - accuracy: 0.8016 - loss: 0.8229 - val_accuracy: 0.8340 - val_loss: 0.7140\n",
      "Epoch 24/25\n",
      "\u001b[1m1719/1719\u001b[0m \u001b[32m━━━━━━━━━━━━━━━━━━━━\u001b[0m\u001b[37m\u001b[0m \u001b[1m4s\u001b[0m 2ms/step - accuracy: 0.7990 - loss: 0.8201 - val_accuracy: 0.8254 - val_loss: 0.7272\n",
      "Epoch 25/25\n",
      "\u001b[1m1719/1719\u001b[0m \u001b[32m━━━━━━━━━━━━━━━━━━━━\u001b[0m\u001b[37m\u001b[0m \u001b[1m3s\u001b[0m 2ms/step - accuracy: 0.7998 - loss: 0.8188 - val_accuracy: 0.8204 - val_loss: 0.7521\n"
     ]
    }
   ],
   "source": [
    "# Building the Model\n",
    "model = tf.keras.models.Sequential([\n",
    "    tf.keras.layers.Flatten(input_shape=[28, 28]),\n",
    "    tf.keras.layers.BatchNormalization(),\n",
    "    tf.keras.layers.Dropout(rate=0.2),\n",
    "    RegularizedDense(100),\n",
    "    tf.keras.layers.Dropout(rate=0.2),\n",
    "    RegularizedDense(100),\n",
    "    tf.keras.layers.Dropout(rate=0.2),\n",
    "    RegularizedDense(100),\n",
    "    tf.keras.layers.Dropout(rate=0.2),\n",
    "    RegularizedDense(10, activation=\"softmax\")\n",
    "])\n",
    "\n",
    "# Compiling the Model\n",
    "model.compile(\n",
    "    loss=\"sparse_categorical_crossentropy\",\n",
    "    metrics=[\"accuracy\"],\n",
    "    optimizer=tf.keras.optimizers.Adam()\n",
    ")\n",
    "\n",
    "# Training the Model\n",
    "history_dropout = model.fit(\n",
    "    X_train, y_train,\n",
    "    validation_data=(X_valid, y_valid),\n",
    "    epochs=n_epochs,\n",
    ")"
   ]
  },
  {
   "cell_type": "code",
   "execution_count": 32,
   "id": "9a6a5295",
   "metadata": {
    "execution": {
     "iopub.execute_input": "2024-04-27T19:42:47.225685Z",
     "iopub.status.busy": "2024-04-27T19:42:47.225304Z",
     "iopub.status.idle": "2024-04-27T19:42:50.249509Z",
     "shell.execute_reply": "2024-04-27T19:42:50.248622Z"
    },
    "papermill": {
     "duration": 5.030397,
     "end_time": "2024-04-27T19:42:50.251461",
     "exception": false,
     "start_time": "2024-04-27T19:42:45.221064",
     "status": "completed"
    },
    "tags": []
   },
   "outputs": [
    {
     "name": "stdout",
     "output_type": "stream",
     "text": [
      "\u001b[1m1719/1719\u001b[0m \u001b[32m━━━━━━━━━━━━━━━━━━━━\u001b[0m\u001b[37m\u001b[0m \u001b[1m3s\u001b[0m 2ms/step - accuracy: 0.8241 - loss: 0.7513\n"
     ]
    },
    {
     "data": {
      "text/plain": [
       "[0.7530434727668762, 0.8223817944526672]"
      ]
     },
     "execution_count": 32,
     "metadata": {},
     "output_type": "execute_result"
    }
   ],
   "source": [
    "# Model Performance on the Training Set after removing Dropout\n",
    "model.evaluate(X_train, y_train)"
   ]
  },
  {
   "cell_type": "code",
   "execution_count": 33,
   "id": "08b28352",
   "metadata": {
    "execution": {
     "iopub.execute_input": "2024-04-27T19:42:54.353127Z",
     "iopub.status.busy": "2024-04-27T19:42:54.352687Z",
     "iopub.status.idle": "2024-04-27T19:42:55.383917Z",
     "shell.execute_reply": "2024-04-27T19:42:55.383065Z"
    },
    "papermill": {
     "duration": 3.062833,
     "end_time": "2024-04-27T19:42:55.385843",
     "exception": false,
     "start_time": "2024-04-27T19:42:52.323010",
     "status": "completed"
    },
    "tags": []
   },
   "outputs": [
    {
     "name": "stdout",
     "output_type": "stream",
     "text": [
      "\u001b[1m313/313\u001b[0m \u001b[32m━━━━━━━━━━━━━━━━━━━━\u001b[0m\u001b[37m\u001b[0m \u001b[1m1s\u001b[0m 3ms/step - accuracy: 0.8142 - loss: 0.7789\n"
     ]
    },
    {
     "data": {
      "text/plain": [
       "[0.7869631052017212, 0.8098999857902527]"
      ]
     },
     "execution_count": 33,
     "metadata": {},
     "output_type": "execute_result"
    }
   ],
   "source": [
    "# Model Performance on the Test Set after Training\n",
    "model.evaluate(X_test, y_test)"
   ]
  },
  {
   "cell_type": "code",
   "execution_count": 34,
   "id": "97c85682",
   "metadata": {
    "execution": {
     "iopub.execute_input": "2024-04-27T19:42:59.437791Z",
     "iopub.status.busy": "2024-04-27T19:42:59.436917Z",
     "iopub.status.idle": "2024-04-27T19:42:59.443926Z",
     "shell.execute_reply": "2024-04-27T19:42:59.443070Z"
    },
    "papermill": {
     "duration": 2.03091,
     "end_time": "2024-04-27T19:42:59.446730",
     "exception": false,
     "start_time": "2024-04-27T19:42:57.415820",
     "status": "completed"
    },
    "tags": []
   },
   "outputs": [
    {
     "name": "stdout",
     "output_type": "stream",
     "text": [
      "[[ 1  2  3  4  5  6  7  8  9 10]\n",
      " [11 12 13 14 15 16 17 18 19 20]]\n",
      "(10,)\n",
      "(2,)\n"
     ]
    }
   ],
   "source": [
    "ls = []\n",
    "for i in range(21):\n",
    "    if i % 10 == 0 and i != 0:\n",
    "        ls.append(np.arange(i - 9, i + 1))\n",
    "        \n",
    "ls = np.array(ls)\n",
    "print(ls)\n",
    "\n",
    "print(ls.mean(axis=0).shape)\n",
    "print(ls.mean(axis=1).shape)"
   ]
  },
  {
   "cell_type": "markdown",
   "id": "2603bcd1",
   "metadata": {
    "papermill": {
     "duration": 2.034979,
     "end_time": "2024-04-27T19:43:03.545047",
     "exception": false,
     "start_time": "2024-04-27T19:43:01.510068",
     "status": "completed"
    },
    "tags": []
   },
   "source": [
    "## Working with Monte-Carlo Dropout\n",
    "\n",
    "- For MC Dropout we take a sample of predictions from the Neural Network for the Test Cases using the training configuration of the neural network with the dropout layers.\n",
    "- The samples are then stacked together and taken a mean for along the first axis.\n",
    "- This provides an array equalivalent to a single prediction while having considered n samples."
   ]
  },
  {
   "cell_type": "code",
   "execution_count": 35,
   "id": "4bd11959",
   "metadata": {
    "execution": {
     "iopub.execute_input": "2024-04-27T19:43:07.517830Z",
     "iopub.status.busy": "2024-04-27T19:43:07.517014Z",
     "iopub.status.idle": "2024-04-27T19:43:15.673059Z",
     "shell.execute_reply": "2024-04-27T19:43:15.672265Z"
    },
    "papermill": {
     "duration": 10.102462,
     "end_time": "2024-04-27T19:43:15.675320",
     "exception": false,
     "start_time": "2024-04-27T19:43:05.572858",
     "status": "completed"
    },
    "tags": []
   },
   "outputs": [],
   "source": [
    "# Taking Samples of the Test Set\n",
    "y_probas = np.stack(\n",
    "    [model(X_test, training=True) for sample in range(100)]\n",
    ")\n",
    "\n",
    "# Taking a mean of all the samples along the first axis\n",
    "y_proba = y_probas.mean(axis=0)"
   ]
  },
  {
   "cell_type": "code",
   "execution_count": 36,
   "id": "3b637498",
   "metadata": {
    "execution": {
     "iopub.execute_input": "2024-04-27T19:43:19.675595Z",
     "iopub.status.busy": "2024-04-27T19:43:19.675240Z",
     "iopub.status.idle": "2024-04-27T19:43:20.011169Z",
     "shell.execute_reply": "2024-04-27T19:43:20.010028Z"
    },
    "papermill": {
     "duration": 2.352617,
     "end_time": "2024-04-27T19:43:20.013178",
     "exception": false,
     "start_time": "2024-04-27T19:43:17.660561",
     "status": "completed"
    },
    "tags": []
   },
   "outputs": [
    {
     "name": "stdout",
     "output_type": "stream",
     "text": [
      "\u001b[1m1/1\u001b[0m \u001b[32m━━━━━━━━━━━━━━━━━━━━\u001b[0m\u001b[37m\u001b[0m \u001b[1m0s\u001b[0m 286ms/step\n"
     ]
    },
    {
     "data": {
      "text/plain": [
       "array([[0.   , 0.   , 0.   , 0.001, 0.   , 0.199, 0.   , 0.047, 0.004,\n",
       "        0.748]], dtype=float32)"
      ]
     },
     "execution_count": 36,
     "metadata": {},
     "output_type": "execute_result"
    }
   ],
   "source": [
    "# Making a Prediction\n",
    "model.predict(X_test[:1]).round(3)"
   ]
  },
  {
   "cell_type": "code",
   "execution_count": 37,
   "id": "aea89900",
   "metadata": {
    "execution": {
     "iopub.execute_input": "2024-04-27T19:43:24.132932Z",
     "iopub.status.busy": "2024-04-27T19:43:24.132569Z",
     "iopub.status.idle": "2024-04-27T19:43:24.138907Z",
     "shell.execute_reply": "2024-04-27T19:43:24.138019Z"
    },
    "papermill": {
     "duration": 2.129603,
     "end_time": "2024-04-27T19:43:24.141145",
     "exception": false,
     "start_time": "2024-04-27T19:43:22.011542",
     "status": "completed"
    },
    "tags": []
   },
   "outputs": [
    {
     "data": {
      "text/plain": [
       "array([0.   , 0.   , 0.   , 0.002, 0.   , 0.262, 0.   , 0.062, 0.007,\n",
       "       0.665], dtype=float32)"
      ]
     },
     "execution_count": 37,
     "metadata": {},
     "output_type": "execute_result"
    }
   ],
   "source": [
    "# Comparing the Predictions for the Instance made using Dropout\n",
    "y_proba[0].round(3)"
   ]
  },
  {
   "cell_type": "code",
   "execution_count": 38,
   "id": "b17b0c9c",
   "metadata": {
    "execution": {
     "iopub.execute_input": "2024-04-27T19:43:28.177046Z",
     "iopub.status.busy": "2024-04-27T19:43:28.176308Z",
     "iopub.status.idle": "2024-04-27T19:43:28.183765Z",
     "shell.execute_reply": "2024-04-27T19:43:28.182825Z"
    },
    "papermill": {
     "duration": 2.034297,
     "end_time": "2024-04-27T19:43:28.185587",
     "exception": false,
     "start_time": "2024-04-27T19:43:26.151290",
     "status": "completed"
    },
    "tags": []
   },
   "outputs": [
    {
     "data": {
      "text/plain": [
       "array([[[0.  , 0.  , 0.  , 0.  , 0.  , 0.38, 0.  , 0.17, 0.03, 0.42]],\n",
       "\n",
       "       [[0.  , 0.  , 0.  , 0.  , 0.  , 0.23, 0.  , 0.04, 0.  , 0.73]],\n",
       "\n",
       "       [[0.  , 0.  , 0.  , 0.  , 0.  , 0.42, 0.  , 0.1 , 0.  , 0.48]],\n",
       "\n",
       "       [[0.  , 0.  , 0.  , 0.  , 0.  , 0.24, 0.  , 0.03, 0.  , 0.73]],\n",
       "\n",
       "       [[0.  , 0.  , 0.  , 0.  , 0.  , 0.46, 0.  , 0.02, 0.  , 0.52]],\n",
       "\n",
       "       [[0.  , 0.  , 0.  , 0.  , 0.  , 0.26, 0.  , 0.07, 0.  , 0.66]],\n",
       "\n",
       "       [[0.  , 0.  , 0.  , 0.  , 0.  , 0.23, 0.  , 0.07, 0.02, 0.67]],\n",
       "\n",
       "       [[0.  , 0.  , 0.  , 0.  , 0.  , 0.19, 0.  , 0.08, 0.01, 0.72]],\n",
       "\n",
       "       [[0.  , 0.  , 0.  , 0.  , 0.  , 0.28, 0.  , 0.03, 0.  , 0.68]],\n",
       "\n",
       "       [[0.  , 0.  , 0.  , 0.  , 0.  , 0.36, 0.  , 0.02, 0.  , 0.61]]],\n",
       "      dtype=float32)"
      ]
     },
     "execution_count": 38,
     "metadata": {},
     "output_type": "execute_result"
    }
   ],
   "source": [
    "# Comparing the Predictions made by the model over different samples for the same instance\n",
    "y_probas[:10, :1].round(2)"
   ]
  },
  {
   "cell_type": "code",
   "execution_count": 39,
   "id": "943ce285",
   "metadata": {
    "execution": {
     "iopub.execute_input": "2024-04-27T19:43:32.217307Z",
     "iopub.status.busy": "2024-04-27T19:43:32.216506Z",
     "iopub.status.idle": "2024-04-27T19:43:32.247635Z",
     "shell.execute_reply": "2024-04-27T19:43:32.246836Z"
    },
    "papermill": {
     "duration": 2.060282,
     "end_time": "2024-04-27T19:43:32.249912",
     "exception": false,
     "start_time": "2024-04-27T19:43:30.189630",
     "status": "completed"
    },
    "tags": []
   },
   "outputs": [
    {
     "data": {
      "text/plain": [
       "array([0.001, 0.   , 0.   , 0.004, 0.001, 0.185, 0.001, 0.042, 0.011,\n",
       "       0.199], dtype=float32)"
      ]
     },
     "execution_count": 39,
     "metadata": {},
     "output_type": "execute_result"
    }
   ],
   "source": [
    "# Checking the Standard Deviation over different samples for the same instance\n",
    "y_std = y_probas.std(axis=0)\n",
    "y_std[0].round(3)"
   ]
  },
  {
   "cell_type": "code",
   "execution_count": 40,
   "id": "f7cd1912",
   "metadata": {
    "execution": {
     "iopub.execute_input": "2024-04-27T19:43:36.300840Z",
     "iopub.status.busy": "2024-04-27T19:43:36.299873Z",
     "iopub.status.idle": "2024-04-27T19:43:36.305277Z",
     "shell.execute_reply": "2024-04-27T19:43:36.304387Z"
    },
    "papermill": {
     "duration": 2.02689,
     "end_time": "2024-04-27T19:43:36.307580",
     "exception": false,
     "start_time": "2024-04-27T19:43:34.280690",
     "status": "completed"
    },
    "tags": []
   },
   "outputs": [
    {
     "name": "stdout",
     "output_type": "stream",
     "text": [
      "Class Predicted:  Ankle boot\n",
      "Target Class:  Ankle boot\n"
     ]
    }
   ],
   "source": [
    "# Checking the Target\n",
    "y_pred_instance = y_proba[0].argmax()\n",
    "print(\"Class Predicted: \", class_names[y_pred_instance])\n",
    "print(\"Target Class: \", class_names[y_test[0]])"
   ]
  },
  {
   "cell_type": "code",
   "execution_count": 41,
   "id": "ead58fd3",
   "metadata": {
    "execution": {
     "iopub.execute_input": "2024-04-27T19:43:40.310924Z",
     "iopub.status.busy": "2024-04-27T19:43:40.310171Z",
     "iopub.status.idle": "2024-04-27T19:43:40.316045Z",
     "shell.execute_reply": "2024-04-27T19:43:40.315196Z"
    },
    "papermill": {
     "duration": 2.009524,
     "end_time": "2024-04-27T19:43:40.318103",
     "exception": false,
     "start_time": "2024-04-27T19:43:38.308579",
     "status": "completed"
    },
    "tags": []
   },
   "outputs": [
    {
     "name": "stdout",
     "output_type": "stream",
     "text": [
      "Model Accuracy:  0.8105\n"
     ]
    }
   ],
   "source": [
    "# Calculating the Performance\n",
    "# Here the Aggregation is done Column-Wise for every row get the Maximum Value class for each instance\n",
    "y_pred = y_proba.argmax(axis=1)\n",
    "accuracy = (y_pred == y_test).sum() / len(y_test)\n",
    "print(\"Model Accuracy: \", accuracy)"
   ]
  },
  {
   "cell_type": "markdown",
   "id": "169c4d23",
   "metadata": {
    "execution": {
     "iopub.execute_input": "2024-04-27T17:28:47.404398Z",
     "iopub.status.busy": "2024-04-27T17:28:47.403614Z",
     "iopub.status.idle": "2024-04-27T17:28:47.422387Z",
     "shell.execute_reply": "2024-04-27T17:28:47.421450Z",
     "shell.execute_reply.started": "2024-04-27T17:28:47.404368Z"
    },
    "papermill": {
     "duration": 2.018305,
     "end_time": "2024-04-27T19:43:44.331349",
     "exception": false,
     "start_time": "2024-04-27T19:43:42.313044",
     "status": "completed"
    },
    "tags": []
   },
   "source": [
    "**Inference**\n",
    "- After 100 Monte-Carlo simulations the model has a improvement of about 1% in accuracy\n",
    "- The number of Monte-Carlo simulations is also a hyperparameter while training the model"
   ]
  },
  {
   "cell_type": "markdown",
   "id": "7c8f206b",
   "metadata": {
    "papermill": {
     "duration": 2.011405,
     "end_time": "2024-04-27T19:43:48.290188",
     "exception": false,
     "start_time": "2024-04-27T19:43:46.278783",
     "status": "completed"
    },
    "tags": []
   },
   "source": [
    "## Utilising the MC Dropout Class\n",
    "\n",
    "- This class is created to utilise the keras dropout layers while overriding the call() to suit the needs of Monte Carlo Dropout.\n",
    "- Instances of this class can be directly included as layers in the model."
   ]
  },
  {
   "cell_type": "code",
   "execution_count": 42,
   "id": "c65d8c83",
   "metadata": {
    "execution": {
     "iopub.execute_input": "2024-04-27T19:43:52.313508Z",
     "iopub.status.busy": "2024-04-27T19:43:52.313143Z",
     "iopub.status.idle": "2024-04-27T19:43:52.339444Z",
     "shell.execute_reply": "2024-04-27T19:43:52.338513Z"
    },
    "papermill": {
     "duration": 2.046617,
     "end_time": "2024-04-27T19:43:52.341322",
     "exception": false,
     "start_time": "2024-04-27T19:43:50.294705",
     "status": "completed"
    },
    "tags": []
   },
   "outputs": [
    {
     "data": {
      "text/html": [
       "<pre style=\"white-space:pre;overflow-x:auto;line-height:normal;font-family:Menlo,'DejaVu Sans Mono',consolas,'Courier New',monospace\"><span style=\"font-weight: bold\">Model: \"sequential_15\"</span>\n",
       "</pre>\n"
      ],
      "text/plain": [
       "\u001b[1mModel: \"sequential_15\"\u001b[0m\n"
      ]
     },
     "metadata": {},
     "output_type": "display_data"
    },
    {
     "data": {
      "text/html": [
       "<pre style=\"white-space:pre;overflow-x:auto;line-height:normal;font-family:Menlo,'DejaVu Sans Mono',consolas,'Courier New',monospace\">┏━━━━━━━━━━━━━━━━━━━━━━━━━━━━━━━━━┳━━━━━━━━━━━━━━━━━━━━━━━━┳━━━━━━━━━━━━━━━┓\n",
       "┃<span style=\"font-weight: bold\"> Layer (type)                    </span>┃<span style=\"font-weight: bold\"> Output Shape           </span>┃<span style=\"font-weight: bold\">       Param # </span>┃\n",
       "┡━━━━━━━━━━━━━━━━━━━━━━━━━━━━━━━━━╇━━━━━━━━━━━━━━━━━━━━━━━━╇━━━━━━━━━━━━━━━┩\n",
       "│ flatten_15 (<span style=\"color: #0087ff; text-decoration-color: #0087ff\">Flatten</span>)            │ (<span style=\"color: #00d7ff; text-decoration-color: #00d7ff\">None</span>, <span style=\"color: #00af00; text-decoration-color: #00af00\">784</span>)            │             <span style=\"color: #00af00; text-decoration-color: #00af00\">0</span> │\n",
       "├─────────────────────────────────┼────────────────────────┼───────────────┤\n",
       "│ batch_normalization_72          │ (<span style=\"color: #00d7ff; text-decoration-color: #00d7ff\">None</span>, <span style=\"color: #00af00; text-decoration-color: #00af00\">784</span>)            │         <span style=\"color: #00af00; text-decoration-color: #00af00\">3,136</span> │\n",
       "│ (<span style=\"color: #0087ff; text-decoration-color: #0087ff\">BatchNormalization</span>)            │                        │               │\n",
       "├─────────────────────────────────┼────────────────────────┼───────────────┤\n",
       "│ dropout (<span style=\"color: #0087ff; text-decoration-color: #0087ff\">Dropout</span>)               │ (<span style=\"color: #00d7ff; text-decoration-color: #00d7ff\">None</span>, <span style=\"color: #00af00; text-decoration-color: #00af00\">784</span>)            │             <span style=\"color: #00af00; text-decoration-color: #00af00\">0</span> │\n",
       "├─────────────────────────────────┼────────────────────────┼───────────────┤\n",
       "│ dense_75 (<span style=\"color: #0087ff; text-decoration-color: #0087ff\">Dense</span>)                │ (<span style=\"color: #00d7ff; text-decoration-color: #00d7ff\">None</span>, <span style=\"color: #00af00; text-decoration-color: #00af00\">100</span>)            │        <span style=\"color: #00af00; text-decoration-color: #00af00\">78,500</span> │\n",
       "├─────────────────────────────────┼────────────────────────┼───────────────┤\n",
       "│ dropout_1 (<span style=\"color: #0087ff; text-decoration-color: #0087ff\">Dropout</span>)             │ (<span style=\"color: #00d7ff; text-decoration-color: #00d7ff\">None</span>, <span style=\"color: #00af00; text-decoration-color: #00af00\">100</span>)            │             <span style=\"color: #00af00; text-decoration-color: #00af00\">0</span> │\n",
       "├─────────────────────────────────┼────────────────────────┼───────────────┤\n",
       "│ dense_76 (<span style=\"color: #0087ff; text-decoration-color: #0087ff\">Dense</span>)                │ (<span style=\"color: #00d7ff; text-decoration-color: #00d7ff\">None</span>, <span style=\"color: #00af00; text-decoration-color: #00af00\">100</span>)            │        <span style=\"color: #00af00; text-decoration-color: #00af00\">10,100</span> │\n",
       "├─────────────────────────────────┼────────────────────────┼───────────────┤\n",
       "│ dropout_2 (<span style=\"color: #0087ff; text-decoration-color: #0087ff\">Dropout</span>)             │ (<span style=\"color: #00d7ff; text-decoration-color: #00d7ff\">None</span>, <span style=\"color: #00af00; text-decoration-color: #00af00\">100</span>)            │             <span style=\"color: #00af00; text-decoration-color: #00af00\">0</span> │\n",
       "├─────────────────────────────────┼────────────────────────┼───────────────┤\n",
       "│ dense_77 (<span style=\"color: #0087ff; text-decoration-color: #0087ff\">Dense</span>)                │ (<span style=\"color: #00d7ff; text-decoration-color: #00d7ff\">None</span>, <span style=\"color: #00af00; text-decoration-color: #00af00\">100</span>)            │        <span style=\"color: #00af00; text-decoration-color: #00af00\">10,100</span> │\n",
       "├─────────────────────────────────┼────────────────────────┼───────────────┤\n",
       "│ dropout_3 (<span style=\"color: #0087ff; text-decoration-color: #0087ff\">Dropout</span>)             │ (<span style=\"color: #00d7ff; text-decoration-color: #00d7ff\">None</span>, <span style=\"color: #00af00; text-decoration-color: #00af00\">100</span>)            │             <span style=\"color: #00af00; text-decoration-color: #00af00\">0</span> │\n",
       "├─────────────────────────────────┼────────────────────────┼───────────────┤\n",
       "│ dense_78 (<span style=\"color: #0087ff; text-decoration-color: #0087ff\">Dense</span>)                │ (<span style=\"color: #00d7ff; text-decoration-color: #00d7ff\">None</span>, <span style=\"color: #00af00; text-decoration-color: #00af00\">10</span>)             │         <span style=\"color: #00af00; text-decoration-color: #00af00\">1,010</span> │\n",
       "└─────────────────────────────────┴────────────────────────┴───────────────┘\n",
       "</pre>\n"
      ],
      "text/plain": [
       "┏━━━━━━━━━━━━━━━━━━━━━━━━━━━━━━━━━┳━━━━━━━━━━━━━━━━━━━━━━━━┳━━━━━━━━━━━━━━━┓\n",
       "┃\u001b[1m \u001b[0m\u001b[1mLayer (type)                   \u001b[0m\u001b[1m \u001b[0m┃\u001b[1m \u001b[0m\u001b[1mOutput Shape          \u001b[0m\u001b[1m \u001b[0m┃\u001b[1m \u001b[0m\u001b[1m      Param #\u001b[0m\u001b[1m \u001b[0m┃\n",
       "┡━━━━━━━━━━━━━━━━━━━━━━━━━━━━━━━━━╇━━━━━━━━━━━━━━━━━━━━━━━━╇━━━━━━━━━━━━━━━┩\n",
       "│ flatten_15 (\u001b[38;5;33mFlatten\u001b[0m)            │ (\u001b[38;5;45mNone\u001b[0m, \u001b[38;5;34m784\u001b[0m)            │             \u001b[38;5;34m0\u001b[0m │\n",
       "├─────────────────────────────────┼────────────────────────┼───────────────┤\n",
       "│ batch_normalization_72          │ (\u001b[38;5;45mNone\u001b[0m, \u001b[38;5;34m784\u001b[0m)            │         \u001b[38;5;34m3,136\u001b[0m │\n",
       "│ (\u001b[38;5;33mBatchNormalization\u001b[0m)            │                        │               │\n",
       "├─────────────────────────────────┼────────────────────────┼───────────────┤\n",
       "│ dropout (\u001b[38;5;33mDropout\u001b[0m)               │ (\u001b[38;5;45mNone\u001b[0m, \u001b[38;5;34m784\u001b[0m)            │             \u001b[38;5;34m0\u001b[0m │\n",
       "├─────────────────────────────────┼────────────────────────┼───────────────┤\n",
       "│ dense_75 (\u001b[38;5;33mDense\u001b[0m)                │ (\u001b[38;5;45mNone\u001b[0m, \u001b[38;5;34m100\u001b[0m)            │        \u001b[38;5;34m78,500\u001b[0m │\n",
       "├─────────────────────────────────┼────────────────────────┼───────────────┤\n",
       "│ dropout_1 (\u001b[38;5;33mDropout\u001b[0m)             │ (\u001b[38;5;45mNone\u001b[0m, \u001b[38;5;34m100\u001b[0m)            │             \u001b[38;5;34m0\u001b[0m │\n",
       "├─────────────────────────────────┼────────────────────────┼───────────────┤\n",
       "│ dense_76 (\u001b[38;5;33mDense\u001b[0m)                │ (\u001b[38;5;45mNone\u001b[0m, \u001b[38;5;34m100\u001b[0m)            │        \u001b[38;5;34m10,100\u001b[0m │\n",
       "├─────────────────────────────────┼────────────────────────┼───────────────┤\n",
       "│ dropout_2 (\u001b[38;5;33mDropout\u001b[0m)             │ (\u001b[38;5;45mNone\u001b[0m, \u001b[38;5;34m100\u001b[0m)            │             \u001b[38;5;34m0\u001b[0m │\n",
       "├─────────────────────────────────┼────────────────────────┼───────────────┤\n",
       "│ dense_77 (\u001b[38;5;33mDense\u001b[0m)                │ (\u001b[38;5;45mNone\u001b[0m, \u001b[38;5;34m100\u001b[0m)            │        \u001b[38;5;34m10,100\u001b[0m │\n",
       "├─────────────────────────────────┼────────────────────────┼───────────────┤\n",
       "│ dropout_3 (\u001b[38;5;33mDropout\u001b[0m)             │ (\u001b[38;5;45mNone\u001b[0m, \u001b[38;5;34m100\u001b[0m)            │             \u001b[38;5;34m0\u001b[0m │\n",
       "├─────────────────────────────────┼────────────────────────┼───────────────┤\n",
       "│ dense_78 (\u001b[38;5;33mDense\u001b[0m)                │ (\u001b[38;5;45mNone\u001b[0m, \u001b[38;5;34m10\u001b[0m)             │         \u001b[38;5;34m1,010\u001b[0m │\n",
       "└─────────────────────────────────┴────────────────────────┴───────────────┘\n"
      ]
     },
     "metadata": {},
     "output_type": "display_data"
    },
    {
     "data": {
      "text/html": [
       "<pre style=\"white-space:pre;overflow-x:auto;line-height:normal;font-family:Menlo,'DejaVu Sans Mono',consolas,'Courier New',monospace\"><span style=\"font-weight: bold\"> Total params: </span><span style=\"color: #00af00; text-decoration-color: #00af00\">305,404</span> (1.17 MB)\n",
       "</pre>\n"
      ],
      "text/plain": [
       "\u001b[1m Total params: \u001b[0m\u001b[38;5;34m305,404\u001b[0m (1.17 MB)\n"
      ]
     },
     "metadata": {},
     "output_type": "display_data"
    },
    {
     "data": {
      "text/html": [
       "<pre style=\"white-space:pre;overflow-x:auto;line-height:normal;font-family:Menlo,'DejaVu Sans Mono',consolas,'Courier New',monospace\"><span style=\"font-weight: bold\"> Trainable params: </span><span style=\"color: #00af00; text-decoration-color: #00af00\">101,278</span> (395.62 KB)\n",
       "</pre>\n"
      ],
      "text/plain": [
       "\u001b[1m Trainable params: \u001b[0m\u001b[38;5;34m101,278\u001b[0m (395.62 KB)\n"
      ]
     },
     "metadata": {},
     "output_type": "display_data"
    },
    {
     "data": {
      "text/html": [
       "<pre style=\"white-space:pre;overflow-x:auto;line-height:normal;font-family:Menlo,'DejaVu Sans Mono',consolas,'Courier New',monospace\"><span style=\"font-weight: bold\"> Non-trainable params: </span><span style=\"color: #00af00; text-decoration-color: #00af00\">1,568</span> (6.12 KB)\n",
       "</pre>\n"
      ],
      "text/plain": [
       "\u001b[1m Non-trainable params: \u001b[0m\u001b[38;5;34m1,568\u001b[0m (6.12 KB)\n"
      ]
     },
     "metadata": {},
     "output_type": "display_data"
    },
    {
     "data": {
      "text/html": [
       "<pre style=\"white-space:pre;overflow-x:auto;line-height:normal;font-family:Menlo,'DejaVu Sans Mono',consolas,'Courier New',monospace\"><span style=\"font-weight: bold\"> Optimizer params: </span><span style=\"color: #00af00; text-decoration-color: #00af00\">202,558</span> (791.25 KB)\n",
       "</pre>\n"
      ],
      "text/plain": [
       "\u001b[1m Optimizer params: \u001b[0m\u001b[38;5;34m202,558\u001b[0m (791.25 KB)\n"
      ]
     },
     "metadata": {},
     "output_type": "display_data"
    }
   ],
   "source": [
    "# Dropout Model Architecture\n",
    "model.summary()"
   ]
  },
  {
   "cell_type": "code",
   "execution_count": 43,
   "id": "a288ed48",
   "metadata": {
    "execution": {
     "iopub.execute_input": "2024-04-27T19:43:56.408339Z",
     "iopub.status.busy": "2024-04-27T19:43:56.407606Z",
     "iopub.status.idle": "2024-04-27T19:43:56.461866Z",
     "shell.execute_reply": "2024-04-27T19:43:56.461002Z"
    },
    "papermill": {
     "duration": 2.092123,
     "end_time": "2024-04-27T19:43:56.463737",
     "exception": false,
     "start_time": "2024-04-27T19:43:54.371614",
     "status": "completed"
    },
    "tags": []
   },
   "outputs": [
    {
     "data": {
      "text/html": [
       "<pre style=\"white-space:pre;overflow-x:auto;line-height:normal;font-family:Menlo,'DejaVu Sans Mono',consolas,'Courier New',monospace\"><span style=\"font-weight: bold\">Model: \"sequential_16\"</span>\n",
       "</pre>\n"
      ],
      "text/plain": [
       "\u001b[1mModel: \"sequential_16\"\u001b[0m\n"
      ]
     },
     "metadata": {},
     "output_type": "display_data"
    },
    {
     "data": {
      "text/html": [
       "<pre style=\"white-space:pre;overflow-x:auto;line-height:normal;font-family:Menlo,'DejaVu Sans Mono',consolas,'Courier New',monospace\">┏━━━━━━━━━━━━━━━━━━━━━━━━━━━━━━━━━┳━━━━━━━━━━━━━━━━━━━━━━━━┳━━━━━━━━━━━━━━━┓\n",
       "┃<span style=\"font-weight: bold\"> Layer (type)                    </span>┃<span style=\"font-weight: bold\"> Output Shape           </span>┃<span style=\"font-weight: bold\">       Param # </span>┃\n",
       "┡━━━━━━━━━━━━━━━━━━━━━━━━━━━━━━━━━╇━━━━━━━━━━━━━━━━━━━━━━━━╇━━━━━━━━━━━━━━━┩\n",
       "│ flatten_15 (<span style=\"color: #0087ff; text-decoration-color: #0087ff\">Flatten</span>)            │ (<span style=\"color: #00d7ff; text-decoration-color: #00d7ff\">None</span>, <span style=\"color: #00af00; text-decoration-color: #00af00\">784</span>)            │             <span style=\"color: #00af00; text-decoration-color: #00af00\">0</span> │\n",
       "├─────────────────────────────────┼────────────────────────┼───────────────┤\n",
       "│ batch_normalization_72          │ (<span style=\"color: #00d7ff; text-decoration-color: #00d7ff\">None</span>, <span style=\"color: #00af00; text-decoration-color: #00af00\">784</span>)            │         <span style=\"color: #00af00; text-decoration-color: #00af00\">3,136</span> │\n",
       "│ (<span style=\"color: #0087ff; text-decoration-color: #0087ff\">BatchNormalization</span>)            │                        │               │\n",
       "├─────────────────────────────────┼────────────────────────┼───────────────┤\n",
       "│ mc_dropout (<span style=\"color: #0087ff; text-decoration-color: #0087ff\">MCDropout</span>)          │ (<span style=\"color: #00d7ff; text-decoration-color: #00d7ff\">None</span>, <span style=\"color: #00af00; text-decoration-color: #00af00\">784</span>)            │             <span style=\"color: #00af00; text-decoration-color: #00af00\">0</span> │\n",
       "├─────────────────────────────────┼────────────────────────┼───────────────┤\n",
       "│ dense_75 (<span style=\"color: #0087ff; text-decoration-color: #0087ff\">Dense</span>)                │ (<span style=\"color: #00d7ff; text-decoration-color: #00d7ff\">None</span>, <span style=\"color: #00af00; text-decoration-color: #00af00\">100</span>)            │        <span style=\"color: #00af00; text-decoration-color: #00af00\">78,500</span> │\n",
       "├─────────────────────────────────┼────────────────────────┼───────────────┤\n",
       "│ mc_dropout_1 (<span style=\"color: #0087ff; text-decoration-color: #0087ff\">MCDropout</span>)        │ (<span style=\"color: #00d7ff; text-decoration-color: #00d7ff\">None</span>, <span style=\"color: #00af00; text-decoration-color: #00af00\">100</span>)            │             <span style=\"color: #00af00; text-decoration-color: #00af00\">0</span> │\n",
       "├─────────────────────────────────┼────────────────────────┼───────────────┤\n",
       "│ dense_76 (<span style=\"color: #0087ff; text-decoration-color: #0087ff\">Dense</span>)                │ (<span style=\"color: #00d7ff; text-decoration-color: #00d7ff\">None</span>, <span style=\"color: #00af00; text-decoration-color: #00af00\">100</span>)            │        <span style=\"color: #00af00; text-decoration-color: #00af00\">10,100</span> │\n",
       "├─────────────────────────────────┼────────────────────────┼───────────────┤\n",
       "│ mc_dropout_2 (<span style=\"color: #0087ff; text-decoration-color: #0087ff\">MCDropout</span>)        │ (<span style=\"color: #00d7ff; text-decoration-color: #00d7ff\">None</span>, <span style=\"color: #00af00; text-decoration-color: #00af00\">100</span>)            │             <span style=\"color: #00af00; text-decoration-color: #00af00\">0</span> │\n",
       "├─────────────────────────────────┼────────────────────────┼───────────────┤\n",
       "│ dense_77 (<span style=\"color: #0087ff; text-decoration-color: #0087ff\">Dense</span>)                │ (<span style=\"color: #00d7ff; text-decoration-color: #00d7ff\">None</span>, <span style=\"color: #00af00; text-decoration-color: #00af00\">100</span>)            │        <span style=\"color: #00af00; text-decoration-color: #00af00\">10,100</span> │\n",
       "├─────────────────────────────────┼────────────────────────┼───────────────┤\n",
       "│ mc_dropout_3 (<span style=\"color: #0087ff; text-decoration-color: #0087ff\">MCDropout</span>)        │ (<span style=\"color: #00d7ff; text-decoration-color: #00d7ff\">None</span>, <span style=\"color: #00af00; text-decoration-color: #00af00\">100</span>)            │             <span style=\"color: #00af00; text-decoration-color: #00af00\">0</span> │\n",
       "├─────────────────────────────────┼────────────────────────┼───────────────┤\n",
       "│ dense_78 (<span style=\"color: #0087ff; text-decoration-color: #0087ff\">Dense</span>)                │ (<span style=\"color: #00d7ff; text-decoration-color: #00d7ff\">None</span>, <span style=\"color: #00af00; text-decoration-color: #00af00\">10</span>)             │         <span style=\"color: #00af00; text-decoration-color: #00af00\">1,010</span> │\n",
       "└─────────────────────────────────┴────────────────────────┴───────────────┘\n",
       "</pre>\n"
      ],
      "text/plain": [
       "┏━━━━━━━━━━━━━━━━━━━━━━━━━━━━━━━━━┳━━━━━━━━━━━━━━━━━━━━━━━━┳━━━━━━━━━━━━━━━┓\n",
       "┃\u001b[1m \u001b[0m\u001b[1mLayer (type)                   \u001b[0m\u001b[1m \u001b[0m┃\u001b[1m \u001b[0m\u001b[1mOutput Shape          \u001b[0m\u001b[1m \u001b[0m┃\u001b[1m \u001b[0m\u001b[1m      Param #\u001b[0m\u001b[1m \u001b[0m┃\n",
       "┡━━━━━━━━━━━━━━━━━━━━━━━━━━━━━━━━━╇━━━━━━━━━━━━━━━━━━━━━━━━╇━━━━━━━━━━━━━━━┩\n",
       "│ flatten_15 (\u001b[38;5;33mFlatten\u001b[0m)            │ (\u001b[38;5;45mNone\u001b[0m, \u001b[38;5;34m784\u001b[0m)            │             \u001b[38;5;34m0\u001b[0m │\n",
       "├─────────────────────────────────┼────────────────────────┼───────────────┤\n",
       "│ batch_normalization_72          │ (\u001b[38;5;45mNone\u001b[0m, \u001b[38;5;34m784\u001b[0m)            │         \u001b[38;5;34m3,136\u001b[0m │\n",
       "│ (\u001b[38;5;33mBatchNormalization\u001b[0m)            │                        │               │\n",
       "├─────────────────────────────────┼────────────────────────┼───────────────┤\n",
       "│ mc_dropout (\u001b[38;5;33mMCDropout\u001b[0m)          │ (\u001b[38;5;45mNone\u001b[0m, \u001b[38;5;34m784\u001b[0m)            │             \u001b[38;5;34m0\u001b[0m │\n",
       "├─────────────────────────────────┼────────────────────────┼───────────────┤\n",
       "│ dense_75 (\u001b[38;5;33mDense\u001b[0m)                │ (\u001b[38;5;45mNone\u001b[0m, \u001b[38;5;34m100\u001b[0m)            │        \u001b[38;5;34m78,500\u001b[0m │\n",
       "├─────────────────────────────────┼────────────────────────┼───────────────┤\n",
       "│ mc_dropout_1 (\u001b[38;5;33mMCDropout\u001b[0m)        │ (\u001b[38;5;45mNone\u001b[0m, \u001b[38;5;34m100\u001b[0m)            │             \u001b[38;5;34m0\u001b[0m │\n",
       "├─────────────────────────────────┼────────────────────────┼───────────────┤\n",
       "│ dense_76 (\u001b[38;5;33mDense\u001b[0m)                │ (\u001b[38;5;45mNone\u001b[0m, \u001b[38;5;34m100\u001b[0m)            │        \u001b[38;5;34m10,100\u001b[0m │\n",
       "├─────────────────────────────────┼────────────────────────┼───────────────┤\n",
       "│ mc_dropout_2 (\u001b[38;5;33mMCDropout\u001b[0m)        │ (\u001b[38;5;45mNone\u001b[0m, \u001b[38;5;34m100\u001b[0m)            │             \u001b[38;5;34m0\u001b[0m │\n",
       "├─────────────────────────────────┼────────────────────────┼───────────────┤\n",
       "│ dense_77 (\u001b[38;5;33mDense\u001b[0m)                │ (\u001b[38;5;45mNone\u001b[0m, \u001b[38;5;34m100\u001b[0m)            │        \u001b[38;5;34m10,100\u001b[0m │\n",
       "├─────────────────────────────────┼────────────────────────┼───────────────┤\n",
       "│ mc_dropout_3 (\u001b[38;5;33mMCDropout\u001b[0m)        │ (\u001b[38;5;45mNone\u001b[0m, \u001b[38;5;34m100\u001b[0m)            │             \u001b[38;5;34m0\u001b[0m │\n",
       "├─────────────────────────────────┼────────────────────────┼───────────────┤\n",
       "│ dense_78 (\u001b[38;5;33mDense\u001b[0m)                │ (\u001b[38;5;45mNone\u001b[0m, \u001b[38;5;34m10\u001b[0m)             │         \u001b[38;5;34m1,010\u001b[0m │\n",
       "└─────────────────────────────────┴────────────────────────┴───────────────┘\n"
      ]
     },
     "metadata": {},
     "output_type": "display_data"
    },
    {
     "data": {
      "text/html": [
       "<pre style=\"white-space:pre;overflow-x:auto;line-height:normal;font-family:Menlo,'DejaVu Sans Mono',consolas,'Courier New',monospace\"><span style=\"font-weight: bold\"> Total params: </span><span style=\"color: #00af00; text-decoration-color: #00af00\">102,846</span> (401.74 KB)\n",
       "</pre>\n"
      ],
      "text/plain": [
       "\u001b[1m Total params: \u001b[0m\u001b[38;5;34m102,846\u001b[0m (401.74 KB)\n"
      ]
     },
     "metadata": {},
     "output_type": "display_data"
    },
    {
     "data": {
      "text/html": [
       "<pre style=\"white-space:pre;overflow-x:auto;line-height:normal;font-family:Menlo,'DejaVu Sans Mono',consolas,'Courier New',monospace\"><span style=\"font-weight: bold\"> Trainable params: </span><span style=\"color: #00af00; text-decoration-color: #00af00\">101,278</span> (395.62 KB)\n",
       "</pre>\n"
      ],
      "text/plain": [
       "\u001b[1m Trainable params: \u001b[0m\u001b[38;5;34m101,278\u001b[0m (395.62 KB)\n"
      ]
     },
     "metadata": {},
     "output_type": "display_data"
    },
    {
     "data": {
      "text/html": [
       "<pre style=\"white-space:pre;overflow-x:auto;line-height:normal;font-family:Menlo,'DejaVu Sans Mono',consolas,'Courier New',monospace\"><span style=\"font-weight: bold\"> Non-trainable params: </span><span style=\"color: #00af00; text-decoration-color: #00af00\">1,568</span> (6.12 KB)\n",
       "</pre>\n"
      ],
      "text/plain": [
       "\u001b[1m Non-trainable params: \u001b[0m\u001b[38;5;34m1,568\u001b[0m (6.12 KB)\n"
      ]
     },
     "metadata": {},
     "output_type": "display_data"
    }
   ],
   "source": [
    "class MCDropout(tf.keras.layers.Dropout):\n",
    "    def call(self, inputs, training=None):\n",
    "        return super().call(inputs, training=True)\n",
    "\n",
    "# Building the Model with Monte-Carlo Dropout Layers\n",
    "dropout_model = tf.keras.models.Sequential([\n",
    "    MCDropout(layer.rate) if isinstance(layer, tf.keras.layers.Dropout) else layer for layer in model.layers \n",
    "])\n",
    "\n",
    "# Applying the Weights from the Dropout Regularized model\n",
    "dropout_model.set_weights(model.get_weights())\n",
    "\n",
    "# Model Summary\n",
    "dropout_model.summary()"
   ]
  },
  {
   "cell_type": "code",
   "execution_count": 44,
   "id": "e191d0ea",
   "metadata": {
    "execution": {
     "iopub.execute_input": "2024-04-27T19:44:00.475732Z",
     "iopub.status.busy": "2024-04-27T19:44:00.475364Z",
     "iopub.status.idle": "2024-04-27T19:44:00.480729Z",
     "shell.execute_reply": "2024-04-27T19:44:00.479832Z"
    },
    "papermill": {
     "duration": 2.010731,
     "end_time": "2024-04-27T19:44:00.482924",
     "exception": false,
     "start_time": "2024-04-27T19:43:58.472193",
     "status": "completed"
    },
    "tags": []
   },
   "outputs": [
    {
     "name": "stdout",
     "output_type": "stream",
     "text": [
      "<Flatten name=flatten_15, built=True>\n",
      "<BatchNormalization name=batch_normalization_72, built=True>\n",
      "0.2\n",
      "<Dense name=dense_75, built=True>\n",
      "0.2\n",
      "<Dense name=dense_76, built=True>\n",
      "0.2\n",
      "<Dense name=dense_77, built=True>\n",
      "0.2\n",
      "<Dense name=dense_78, built=True>\n"
     ]
    }
   ],
   "source": [
    "# Checking for Layers which are Dropout Layers to retrieve the Drop Rate\n",
    "for layer in model.layers:\n",
    "    print(layer.rate if isinstance(layer, tf.keras.layers.Dropout) else layer)"
   ]
  },
  {
   "cell_type": "code",
   "execution_count": 45,
   "id": "fb1627dc",
   "metadata": {
    "execution": {
     "iopub.execute_input": "2024-04-27T19:44:04.590562Z",
     "iopub.status.busy": "2024-04-27T19:44:04.589837Z",
     "iopub.status.idle": "2024-04-27T19:44:14.487750Z",
     "shell.execute_reply": "2024-04-27T19:44:14.486793Z"
    },
    "papermill": {
     "duration": 11.958962,
     "end_time": "2024-04-27T19:44:14.489710",
     "exception": false,
     "start_time": "2024-04-27T19:44:02.530748",
     "status": "completed"
    },
    "tags": []
   },
   "outputs": [
    {
     "name": "stdout",
     "output_type": "stream",
     "text": [
      "\u001b[1m1/1\u001b[0m \u001b[32m━━━━━━━━━━━━━━━━━━━━\u001b[0m\u001b[37m\u001b[0m \u001b[1m4s\u001b[0m 4s/step\n",
      "\u001b[1m1/1\u001b[0m \u001b[32m━━━━━━━━━━━━━━━━━━━━\u001b[0m\u001b[37m\u001b[0m \u001b[1m0s\u001b[0m 17ms/step\n",
      "\u001b[1m1/1\u001b[0m \u001b[32m━━━━━━━━━━━━━━━━━━━━\u001b[0m\u001b[37m\u001b[0m \u001b[1m0s\u001b[0m 17ms/step\n",
      "\u001b[1m1/1\u001b[0m \u001b[32m━━━━━━━━━━━━━━━━━━━━\u001b[0m\u001b[37m\u001b[0m \u001b[1m0s\u001b[0m 16ms/step\n",
      "\u001b[1m1/1\u001b[0m \u001b[32m━━━━━━━━━━━━━━━━━━━━\u001b[0m\u001b[37m\u001b[0m \u001b[1m0s\u001b[0m 15ms/step\n",
      "\u001b[1m1/1\u001b[0m \u001b[32m━━━━━━━━━━━━━━━━━━━━\u001b[0m\u001b[37m\u001b[0m \u001b[1m0s\u001b[0m 15ms/step\n",
      "\u001b[1m1/1\u001b[0m \u001b[32m━━━━━━━━━━━━━━━━━━━━\u001b[0m\u001b[37m\u001b[0m \u001b[1m0s\u001b[0m 16ms/step\n",
      "\u001b[1m1/1\u001b[0m \u001b[32m━━━━━━━━━━━━━━━━━━━━\u001b[0m\u001b[37m\u001b[0m \u001b[1m0s\u001b[0m 16ms/step\n",
      "\u001b[1m1/1\u001b[0m \u001b[32m━━━━━━━━━━━━━━━━━━━━\u001b[0m\u001b[37m\u001b[0m \u001b[1m0s\u001b[0m 16ms/step\n",
      "\u001b[1m1/1\u001b[0m \u001b[32m━━━━━━━━━━━━━━━━━━━━\u001b[0m\u001b[37m\u001b[0m \u001b[1m0s\u001b[0m 16ms/step\n",
      "\u001b[1m1/1\u001b[0m \u001b[32m━━━━━━━━━━━━━━━━━━━━\u001b[0m\u001b[37m\u001b[0m \u001b[1m0s\u001b[0m 15ms/step\n",
      "\u001b[1m1/1\u001b[0m \u001b[32m━━━━━━━━━━━━━━━━━━━━\u001b[0m\u001b[37m\u001b[0m \u001b[1m0s\u001b[0m 15ms/step\n",
      "\u001b[1m1/1\u001b[0m \u001b[32m━━━━━━━━━━━━━━━━━━━━\u001b[0m\u001b[37m\u001b[0m \u001b[1m0s\u001b[0m 16ms/step\n",
      "\u001b[1m1/1\u001b[0m \u001b[32m━━━━━━━━━━━━━━━━━━━━\u001b[0m\u001b[37m\u001b[0m \u001b[1m0s\u001b[0m 16ms/step\n",
      "\u001b[1m1/1\u001b[0m \u001b[32m━━━━━━━━━━━━━━━━━━━━\u001b[0m\u001b[37m\u001b[0m \u001b[1m0s\u001b[0m 16ms/step\n",
      "\u001b[1m1/1\u001b[0m \u001b[32m━━━━━━━━━━━━━━━━━━━━\u001b[0m\u001b[37m\u001b[0m \u001b[1m0s\u001b[0m 16ms/step\n",
      "\u001b[1m1/1\u001b[0m \u001b[32m━━━━━━━━━━━━━━━━━━━━\u001b[0m\u001b[37m\u001b[0m \u001b[1m0s\u001b[0m 16ms/step\n",
      "\u001b[1m1/1\u001b[0m \u001b[32m━━━━━━━━━━━━━━━━━━━━\u001b[0m\u001b[37m\u001b[0m \u001b[1m0s\u001b[0m 16ms/step\n",
      "\u001b[1m1/1\u001b[0m \u001b[32m━━━━━━━━━━━━━━━━━━━━\u001b[0m\u001b[37m\u001b[0m \u001b[1m0s\u001b[0m 16ms/step\n",
      "\u001b[1m1/1\u001b[0m \u001b[32m━━━━━━━━━━━━━━━━━━━━\u001b[0m\u001b[37m\u001b[0m \u001b[1m0s\u001b[0m 16ms/step\n",
      "\u001b[1m1/1\u001b[0m \u001b[32m━━━━━━━━━━━━━━━━━━━━\u001b[0m\u001b[37m\u001b[0m \u001b[1m0s\u001b[0m 15ms/step\n",
      "\u001b[1m1/1\u001b[0m \u001b[32m━━━━━━━━━━━━━━━━━━━━\u001b[0m\u001b[37m\u001b[0m \u001b[1m0s\u001b[0m 16ms/step\n",
      "\u001b[1m1/1\u001b[0m \u001b[32m━━━━━━━━━━━━━━━━━━━━\u001b[0m\u001b[37m\u001b[0m \u001b[1m0s\u001b[0m 16ms/step\n",
      "\u001b[1m1/1\u001b[0m \u001b[32m━━━━━━━━━━━━━━━━━━━━\u001b[0m\u001b[37m\u001b[0m \u001b[1m0s\u001b[0m 16ms/step\n",
      "\u001b[1m1/1\u001b[0m \u001b[32m━━━━━━━━━━━━━━━━━━━━\u001b[0m\u001b[37m\u001b[0m \u001b[1m0s\u001b[0m 16ms/step\n",
      "\u001b[1m1/1\u001b[0m \u001b[32m━━━━━━━━━━━━━━━━━━━━\u001b[0m\u001b[37m\u001b[0m \u001b[1m0s\u001b[0m 16ms/step\n",
      "\u001b[1m1/1\u001b[0m \u001b[32m━━━━━━━━━━━━━━━━━━━━\u001b[0m\u001b[37m\u001b[0m \u001b[1m0s\u001b[0m 17ms/step\n",
      "\u001b[1m1/1\u001b[0m \u001b[32m━━━━━━━━━━━━━━━━━━━━\u001b[0m\u001b[37m\u001b[0m \u001b[1m0s\u001b[0m 17ms/step\n",
      "\u001b[1m1/1\u001b[0m \u001b[32m━━━━━━━━━━━━━━━━━━━━\u001b[0m\u001b[37m\u001b[0m \u001b[1m0s\u001b[0m 16ms/step\n",
      "\u001b[1m1/1\u001b[0m \u001b[32m━━━━━━━━━━━━━━━━━━━━\u001b[0m\u001b[37m\u001b[0m \u001b[1m0s\u001b[0m 15ms/step\n",
      "\u001b[1m1/1\u001b[0m \u001b[32m━━━━━━━━━━━━━━━━━━━━\u001b[0m\u001b[37m\u001b[0m \u001b[1m0s\u001b[0m 16ms/step\n",
      "\u001b[1m1/1\u001b[0m \u001b[32m━━━━━━━━━━━━━━━━━━━━\u001b[0m\u001b[37m\u001b[0m \u001b[1m0s\u001b[0m 16ms/step\n",
      "\u001b[1m1/1\u001b[0m \u001b[32m━━━━━━━━━━━━━━━━━━━━\u001b[0m\u001b[37m\u001b[0m \u001b[1m0s\u001b[0m 16ms/step\n",
      "\u001b[1m1/1\u001b[0m \u001b[32m━━━━━━━━━━━━━━━━━━━━\u001b[0m\u001b[37m\u001b[0m \u001b[1m0s\u001b[0m 18ms/step\n",
      "\u001b[1m1/1\u001b[0m \u001b[32m━━━━━━━━━━━━━━━━━━━━\u001b[0m\u001b[37m\u001b[0m \u001b[1m0s\u001b[0m 16ms/step\n",
      "\u001b[1m1/1\u001b[0m \u001b[32m━━━━━━━━━━━━━━━━━━━━\u001b[0m\u001b[37m\u001b[0m \u001b[1m0s\u001b[0m 17ms/step\n",
      "\u001b[1m1/1\u001b[0m \u001b[32m━━━━━━━━━━━━━━━━━━━━\u001b[0m\u001b[37m\u001b[0m \u001b[1m0s\u001b[0m 16ms/step\n",
      "\u001b[1m1/1\u001b[0m \u001b[32m━━━━━━━━━━━━━━━━━━━━\u001b[0m\u001b[37m\u001b[0m \u001b[1m0s\u001b[0m 17ms/step\n",
      "\u001b[1m1/1\u001b[0m \u001b[32m━━━━━━━━━━━━━━━━━━━━\u001b[0m\u001b[37m\u001b[0m \u001b[1m0s\u001b[0m 17ms/step\n",
      "\u001b[1m1/1\u001b[0m \u001b[32m━━━━━━━━━━━━━━━━━━━━\u001b[0m\u001b[37m\u001b[0m \u001b[1m0s\u001b[0m 16ms/step\n",
      "\u001b[1m1/1\u001b[0m \u001b[32m━━━━━━━━━━━━━━━━━━━━\u001b[0m\u001b[37m\u001b[0m \u001b[1m0s\u001b[0m 15ms/step\n",
      "\u001b[1m1/1\u001b[0m \u001b[32m━━━━━━━━━━━━━━━━━━━━\u001b[0m\u001b[37m\u001b[0m \u001b[1m0s\u001b[0m 16ms/step\n",
      "\u001b[1m1/1\u001b[0m \u001b[32m━━━━━━━━━━━━━━━━━━━━\u001b[0m\u001b[37m\u001b[0m \u001b[1m0s\u001b[0m 15ms/step\n",
      "\u001b[1m1/1\u001b[0m \u001b[32m━━━━━━━━━━━━━━━━━━━━\u001b[0m\u001b[37m\u001b[0m \u001b[1m0s\u001b[0m 17ms/step\n",
      "\u001b[1m1/1\u001b[0m \u001b[32m━━━━━━━━━━━━━━━━━━━━\u001b[0m\u001b[37m\u001b[0m \u001b[1m0s\u001b[0m 16ms/step\n",
      "\u001b[1m1/1\u001b[0m \u001b[32m━━━━━━━━━━━━━━━━━━━━\u001b[0m\u001b[37m\u001b[0m \u001b[1m0s\u001b[0m 17ms/step\n",
      "\u001b[1m1/1\u001b[0m \u001b[32m━━━━━━━━━━━━━━━━━━━━\u001b[0m\u001b[37m\u001b[0m \u001b[1m0s\u001b[0m 17ms/step\n",
      "\u001b[1m1/1\u001b[0m \u001b[32m━━━━━━━━━━━━━━━━━━━━\u001b[0m\u001b[37m\u001b[0m \u001b[1m0s\u001b[0m 17ms/step\n",
      "\u001b[1m1/1\u001b[0m \u001b[32m━━━━━━━━━━━━━━━━━━━━\u001b[0m\u001b[37m\u001b[0m \u001b[1m0s\u001b[0m 17ms/step\n",
      "\u001b[1m1/1\u001b[0m \u001b[32m━━━━━━━━━━━━━━━━━━━━\u001b[0m\u001b[37m\u001b[0m \u001b[1m0s\u001b[0m 16ms/step\n",
      "\u001b[1m1/1\u001b[0m \u001b[32m━━━━━━━━━━━━━━━━━━━━\u001b[0m\u001b[37m\u001b[0m \u001b[1m0s\u001b[0m 16ms/step\n",
      "\u001b[1m1/1\u001b[0m \u001b[32m━━━━━━━━━━━━━━━━━━━━\u001b[0m\u001b[37m\u001b[0m \u001b[1m0s\u001b[0m 15ms/step\n",
      "\u001b[1m1/1\u001b[0m \u001b[32m━━━━━━━━━━━━━━━━━━━━\u001b[0m\u001b[37m\u001b[0m \u001b[1m0s\u001b[0m 15ms/step\n",
      "\u001b[1m1/1\u001b[0m \u001b[32m━━━━━━━━━━━━━━━━━━━━\u001b[0m\u001b[37m\u001b[0m \u001b[1m0s\u001b[0m 16ms/step\n",
      "\u001b[1m1/1\u001b[0m \u001b[32m━━━━━━━━━━━━━━━━━━━━\u001b[0m\u001b[37m\u001b[0m \u001b[1m0s\u001b[0m 16ms/step\n",
      "\u001b[1m1/1\u001b[0m \u001b[32m━━━━━━━━━━━━━━━━━━━━\u001b[0m\u001b[37m\u001b[0m \u001b[1m0s\u001b[0m 15ms/step\n",
      "\u001b[1m1/1\u001b[0m \u001b[32m━━━━━━━━━━━━━━━━━━━━\u001b[0m\u001b[37m\u001b[0m \u001b[1m0s\u001b[0m 16ms/step\n",
      "\u001b[1m1/1\u001b[0m \u001b[32m━━━━━━━━━━━━━━━━━━━━\u001b[0m\u001b[37m\u001b[0m \u001b[1m0s\u001b[0m 17ms/step\n",
      "\u001b[1m1/1\u001b[0m \u001b[32m━━━━━━━━━━━━━━━━━━━━\u001b[0m\u001b[37m\u001b[0m \u001b[1m0s\u001b[0m 18ms/step\n",
      "\u001b[1m1/1\u001b[0m \u001b[32m━━━━━━━━━━━━━━━━━━━━\u001b[0m\u001b[37m\u001b[0m \u001b[1m0s\u001b[0m 17ms/step\n",
      "\u001b[1m1/1\u001b[0m \u001b[32m━━━━━━━━━━━━━━━━━━━━\u001b[0m\u001b[37m\u001b[0m \u001b[1m0s\u001b[0m 16ms/step\n",
      "\u001b[1m1/1\u001b[0m \u001b[32m━━━━━━━━━━━━━━━━━━━━\u001b[0m\u001b[37m\u001b[0m \u001b[1m0s\u001b[0m 17ms/step\n",
      "\u001b[1m1/1\u001b[0m \u001b[32m━━━━━━━━━━━━━━━━━━━━\u001b[0m\u001b[37m\u001b[0m \u001b[1m0s\u001b[0m 16ms/step\n",
      "\u001b[1m1/1\u001b[0m \u001b[32m━━━━━━━━━━━━━━━━━━━━\u001b[0m\u001b[37m\u001b[0m \u001b[1m0s\u001b[0m 16ms/step\n",
      "\u001b[1m1/1\u001b[0m \u001b[32m━━━━━━━━━━━━━━━━━━━━\u001b[0m\u001b[37m\u001b[0m \u001b[1m0s\u001b[0m 16ms/step\n",
      "\u001b[1m1/1\u001b[0m \u001b[32m━━━━━━━━━━━━━━━━━━━━\u001b[0m\u001b[37m\u001b[0m \u001b[1m0s\u001b[0m 16ms/step\n",
      "\u001b[1m1/1\u001b[0m \u001b[32m━━━━━━━━━━━━━━━━━━━━\u001b[0m\u001b[37m\u001b[0m \u001b[1m0s\u001b[0m 15ms/step\n",
      "\u001b[1m1/1\u001b[0m \u001b[32m━━━━━━━━━━━━━━━━━━━━\u001b[0m\u001b[37m\u001b[0m \u001b[1m0s\u001b[0m 16ms/step\n",
      "\u001b[1m1/1\u001b[0m \u001b[32m━━━━━━━━━━━━━━━━━━━━\u001b[0m\u001b[37m\u001b[0m \u001b[1m0s\u001b[0m 16ms/step\n",
      "\u001b[1m1/1\u001b[0m \u001b[32m━━━━━━━━━━━━━━━━━━━━\u001b[0m\u001b[37m\u001b[0m \u001b[1m0s\u001b[0m 16ms/step\n",
      "\u001b[1m1/1\u001b[0m \u001b[32m━━━━━━━━━━━━━━━━━━━━\u001b[0m\u001b[37m\u001b[0m \u001b[1m0s\u001b[0m 16ms/step\n",
      "\u001b[1m1/1\u001b[0m \u001b[32m━━━━━━━━━━━━━━━━━━━━\u001b[0m\u001b[37m\u001b[0m \u001b[1m0s\u001b[0m 16ms/step\n",
      "\u001b[1m1/1\u001b[0m \u001b[32m━━━━━━━━━━━━━━━━━━━━\u001b[0m\u001b[37m\u001b[0m \u001b[1m0s\u001b[0m 16ms/step\n",
      "\u001b[1m1/1\u001b[0m \u001b[32m━━━━━━━━━━━━━━━━━━━━\u001b[0m\u001b[37m\u001b[0m \u001b[1m0s\u001b[0m 16ms/step\n",
      "\u001b[1m1/1\u001b[0m \u001b[32m━━━━━━━━━━━━━━━━━━━━\u001b[0m\u001b[37m\u001b[0m \u001b[1m0s\u001b[0m 16ms/step\n",
      "\u001b[1m1/1\u001b[0m \u001b[32m━━━━━━━━━━━━━━━━━━━━\u001b[0m\u001b[37m\u001b[0m \u001b[1m0s\u001b[0m 15ms/step\n",
      "\u001b[1m1/1\u001b[0m \u001b[32m━━━━━━━━━━━━━━━━━━━━\u001b[0m\u001b[37m\u001b[0m \u001b[1m0s\u001b[0m 16ms/step\n",
      "\u001b[1m1/1\u001b[0m \u001b[32m━━━━━━━━━━━━━━━━━━━━\u001b[0m\u001b[37m\u001b[0m \u001b[1m0s\u001b[0m 17ms/step\n",
      "\u001b[1m1/1\u001b[0m \u001b[32m━━━━━━━━━━━━━━━━━━━━\u001b[0m\u001b[37m\u001b[0m \u001b[1m0s\u001b[0m 17ms/step\n",
      "\u001b[1m1/1\u001b[0m \u001b[32m━━━━━━━━━━━━━━━━━━━━\u001b[0m\u001b[37m\u001b[0m \u001b[1m0s\u001b[0m 18ms/step\n",
      "\u001b[1m1/1\u001b[0m \u001b[32m━━━━━━━━━━━━━━━━━━━━\u001b[0m\u001b[37m\u001b[0m \u001b[1m0s\u001b[0m 15ms/step\n",
      "\u001b[1m1/1\u001b[0m \u001b[32m━━━━━━━━━━━━━━━━━━━━\u001b[0m\u001b[37m\u001b[0m \u001b[1m0s\u001b[0m 24ms/step\n",
      "\u001b[1m1/1\u001b[0m \u001b[32m━━━━━━━━━━━━━━━━━━━━\u001b[0m\u001b[37m\u001b[0m \u001b[1m0s\u001b[0m 17ms/step\n",
      "\u001b[1m1/1\u001b[0m \u001b[32m━━━━━━━━━━━━━━━━━━━━\u001b[0m\u001b[37m\u001b[0m \u001b[1m0s\u001b[0m 16ms/step\n",
      "\u001b[1m1/1\u001b[0m \u001b[32m━━━━━━━━━━━━━━━━━━━━\u001b[0m\u001b[37m\u001b[0m \u001b[1m0s\u001b[0m 16ms/step\n",
      "\u001b[1m1/1\u001b[0m \u001b[32m━━━━━━━━━━━━━━━━━━━━\u001b[0m\u001b[37m\u001b[0m \u001b[1m0s\u001b[0m 16ms/step\n",
      "\u001b[1m1/1\u001b[0m \u001b[32m━━━━━━━━━━━━━━━━━━━━\u001b[0m\u001b[37m\u001b[0m \u001b[1m0s\u001b[0m 16ms/step\n",
      "\u001b[1m1/1\u001b[0m \u001b[32m━━━━━━━━━━━━━━━━━━━━\u001b[0m\u001b[37m\u001b[0m \u001b[1m0s\u001b[0m 16ms/step\n",
      "\u001b[1m1/1\u001b[0m \u001b[32m━━━━━━━━━━━━━━━━━━━━\u001b[0m\u001b[37m\u001b[0m \u001b[1m0s\u001b[0m 15ms/step\n",
      "\u001b[1m1/1\u001b[0m \u001b[32m━━━━━━━━━━━━━━━━━━━━\u001b[0m\u001b[37m\u001b[0m \u001b[1m0s\u001b[0m 16ms/step\n",
      "\u001b[1m1/1\u001b[0m \u001b[32m━━━━━━━━━━━━━━━━━━━━\u001b[0m\u001b[37m\u001b[0m \u001b[1m0s\u001b[0m 15ms/step\n",
      "\u001b[1m1/1\u001b[0m \u001b[32m━━━━━━━━━━━━━━━━━━━━\u001b[0m\u001b[37m\u001b[0m \u001b[1m0s\u001b[0m 17ms/step\n",
      "\u001b[1m1/1\u001b[0m \u001b[32m━━━━━━━━━━━━━━━━━━━━\u001b[0m\u001b[37m\u001b[0m \u001b[1m0s\u001b[0m 16ms/step\n",
      "\u001b[1m1/1\u001b[0m \u001b[32m━━━━━━━━━━━━━━━━━━━━\u001b[0m\u001b[37m\u001b[0m \u001b[1m0s\u001b[0m 17ms/step\n",
      "\u001b[1m1/1\u001b[0m \u001b[32m━━━━━━━━━━━━━━━━━━━━\u001b[0m\u001b[37m\u001b[0m \u001b[1m0s\u001b[0m 17ms/step\n",
      "\u001b[1m1/1\u001b[0m \u001b[32m━━━━━━━━━━━━━━━━━━━━\u001b[0m\u001b[37m\u001b[0m \u001b[1m0s\u001b[0m 17ms/step\n",
      "\u001b[1m1/1\u001b[0m \u001b[32m━━━━━━━━━━━━━━━━━━━━\u001b[0m\u001b[37m\u001b[0m \u001b[1m0s\u001b[0m 17ms/step\n",
      "\u001b[1m1/1\u001b[0m \u001b[32m━━━━━━━━━━━━━━━━━━━━\u001b[0m\u001b[37m\u001b[0m \u001b[1m0s\u001b[0m 16ms/step\n",
      "\u001b[1m1/1\u001b[0m \u001b[32m━━━━━━━━━━━━━━━━━━━━\u001b[0m\u001b[37m\u001b[0m \u001b[1m0s\u001b[0m 16ms/step\n",
      "\u001b[1m1/1\u001b[0m \u001b[32m━━━━━━━━━━━━━━━━━━━━\u001b[0m\u001b[37m\u001b[0m \u001b[1m0s\u001b[0m 16ms/step\n",
      "Class-wise predictions\n",
      " [[0.   0.   0.   0.   0.   0.25 0.   0.06 0.01 0.69]]\n"
     ]
    }
   ],
   "source": [
    "# Sampling without Training\n",
    "y_probas = np.mean([\n",
    "    dropout_model.predict(X_test[:1]) for sample in range(100)\n",
    "], axis=0).round(2)\n",
    "\n",
    "print(\"Class-wise predictions\\n\", y_probas)"
   ]
  },
  {
   "cell_type": "code",
   "execution_count": 46,
   "id": "ced457d6",
   "metadata": {
    "execution": {
     "iopub.execute_input": "2024-04-27T19:44:18.471492Z",
     "iopub.status.busy": "2024-04-27T19:44:18.470639Z",
     "iopub.status.idle": "2024-04-27T19:44:18.476122Z",
     "shell.execute_reply": "2024-04-27T19:44:18.475203Z"
    },
    "papermill": {
     "duration": 2.028666,
     "end_time": "2024-04-27T19:44:18.478485",
     "exception": false,
     "start_time": "2024-04-27T19:44:16.449819",
     "status": "completed"
    },
    "tags": []
   },
   "outputs": [
    {
     "name": "stdout",
     "output_type": "stream",
     "text": [
      "Predicted Class:  Ankle boot\n",
      "Target Class:  Ankle boot\n"
     ]
    }
   ],
   "source": [
    "# Verifying the Predictions\n",
    "y_pred = y_probas.argmax()\n",
    "print(\"Predicted Class: \", class_names[y_pred])\n",
    "print(\"Target Class: \", class_names[y_test[0]])"
   ]
  },
  {
   "cell_type": "markdown",
   "id": "34122e65",
   "metadata": {
    "papermill": {
     "duration": 2.011666,
     "end_time": "2024-04-27T19:44:22.498795",
     "exception": false,
     "start_time": "2024-04-27T19:44:20.487129",
     "status": "completed"
    },
    "tags": []
   },
   "source": [
    "## Max Norm Regularization\n",
    "\n",
    "- Is a regularization technique that rescales any / all weights in the layers of a neural network to be within / less than a preset value r.\n",
    "- Weights of the Neural Network always satisfy the constraint:\n",
    "$$|| \\; w \\; ||_2 \\; \\leq \\; r$$\n",
    "\n",
    "- Here:\n",
    "    - || . || is the $l_2$ norm\n",
    "    - r is the regularization hyperparameter\n",
    "    \n",
    "**Important**\n",
    "- Max-Norm loss doesnt contribute to the overall loss function to be evaluated during backpropagation\n",
    "- At each step of training when the forementioned constraint isnt met the weights are rescaled to meet the constraint"
   ]
  },
  {
   "cell_type": "code",
   "execution_count": 47,
   "id": "c32b7027",
   "metadata": {
    "execution": {
     "iopub.execute_input": "2024-04-27T19:44:26.652567Z",
     "iopub.status.busy": "2024-04-27T19:44:26.652211Z",
     "iopub.status.idle": "2024-04-27T19:44:26.659192Z",
     "shell.execute_reply": "2024-04-27T19:44:26.658323Z"
    },
    "papermill": {
     "duration": 2.080669,
     "end_time": "2024-04-27T19:44:26.661409",
     "exception": false,
     "start_time": "2024-04-27T19:44:24.580740",
     "status": "completed"
    },
    "tags": []
   },
   "outputs": [
    {
     "name": "stdout",
     "output_type": "stream",
     "text": [
      "<Dense name=dense_79, built=False>\n"
     ]
    }
   ],
   "source": [
    "# Applying Max-Norm in Keras\n",
    "max_norm_layer = tf.keras.layers.Dense(\n",
    "    units=100,\n",
    "    activation=\"elu\",\n",
    "    kernel_initializer=\"he_normal\",\n",
    "    kernel_constraint=tf.keras.constraints.max_norm(1.)\n",
    ")\n",
    "\n",
    "print(max_norm_layer)"
   ]
  },
  {
   "cell_type": "code",
   "execution_count": 48,
   "id": "e28ba6e6",
   "metadata": {
    "execution": {
     "iopub.execute_input": "2024-04-27T19:44:30.698238Z",
     "iopub.status.busy": "2024-04-27T19:44:30.697846Z",
     "iopub.status.idle": "2024-04-27T19:46:10.799292Z",
     "shell.execute_reply": "2024-04-27T19:46:10.798329Z"
    },
    "papermill": {
     "duration": 102.122839,
     "end_time": "2024-04-27T19:46:10.801631",
     "exception": false,
     "start_time": "2024-04-27T19:44:28.678792",
     "status": "completed"
    },
    "tags": []
   },
   "outputs": [
    {
     "name": "stdout",
     "output_type": "stream",
     "text": [
      "Epoch 1/25\n",
      "\u001b[1m1719/1719\u001b[0m \u001b[32m━━━━━━━━━━━━━━━━━━━━\u001b[0m\u001b[37m\u001b[0m \u001b[1m11s\u001b[0m 5ms/step - accuracy: 0.7904 - loss: 0.5849 - val_accuracy: 0.8556 - val_loss: 0.3866\n",
      "Epoch 2/25\n",
      "\u001b[1m1719/1719\u001b[0m \u001b[32m━━━━━━━━━━━━━━━━━━━━\u001b[0m\u001b[37m\u001b[0m \u001b[1m4s\u001b[0m 2ms/step - accuracy: 0.8533 - loss: 0.3932 - val_accuracy: 0.8628 - val_loss: 0.3769\n",
      "Epoch 3/25\n",
      "\u001b[1m1719/1719\u001b[0m \u001b[32m━━━━━━━━━━━━━━━━━━━━\u001b[0m\u001b[37m\u001b[0m \u001b[1m4s\u001b[0m 2ms/step - accuracy: 0.8647 - loss: 0.3609 - val_accuracy: 0.8628 - val_loss: 0.3848\n",
      "Epoch 4/25\n",
      "\u001b[1m1719/1719\u001b[0m \u001b[32m━━━━━━━━━━━━━━━━━━━━\u001b[0m\u001b[37m\u001b[0m \u001b[1m4s\u001b[0m 2ms/step - accuracy: 0.8709 - loss: 0.3462 - val_accuracy: 0.8654 - val_loss: 0.3842\n",
      "Epoch 5/25\n",
      "\u001b[1m1719/1719\u001b[0m \u001b[32m━━━━━━━━━━━━━━━━━━━━\u001b[0m\u001b[37m\u001b[0m \u001b[1m4s\u001b[0m 2ms/step - accuracy: 0.8729 - loss: 0.3388 - val_accuracy: 0.8664 - val_loss: 0.3644\n",
      "Epoch 6/25\n",
      "\u001b[1m1719/1719\u001b[0m \u001b[32m━━━━━━━━━━━━━━━━━━━━\u001b[0m\u001b[37m\u001b[0m \u001b[1m4s\u001b[0m 2ms/step - accuracy: 0.8739 - loss: 0.3293 - val_accuracy: 0.8636 - val_loss: 0.3874\n",
      "Epoch 7/25\n",
      "\u001b[1m1719/1719\u001b[0m \u001b[32m━━━━━━━━━━━━━━━━━━━━\u001b[0m\u001b[37m\u001b[0m \u001b[1m4s\u001b[0m 2ms/step - accuracy: 0.8779 - loss: 0.3237 - val_accuracy: 0.8640 - val_loss: 0.3939\n",
      "Epoch 8/25\n",
      "\u001b[1m1719/1719\u001b[0m \u001b[32m━━━━━━━━━━━━━━━━━━━━\u001b[0m\u001b[37m\u001b[0m \u001b[1m4s\u001b[0m 2ms/step - accuracy: 0.8800 - loss: 0.3181 - val_accuracy: 0.8658 - val_loss: 0.3883\n",
      "Epoch 9/25\n",
      "\u001b[1m1719/1719\u001b[0m \u001b[32m━━━━━━━━━━━━━━━━━━━━\u001b[0m\u001b[37m\u001b[0m \u001b[1m4s\u001b[0m 2ms/step - accuracy: 0.8789 - loss: 0.3183 - val_accuracy: 0.8636 - val_loss: 0.3722\n",
      "Epoch 10/25\n",
      "\u001b[1m1719/1719\u001b[0m \u001b[32m━━━━━━━━━━━━━━━━━━━━\u001b[0m\u001b[37m\u001b[0m \u001b[1m4s\u001b[0m 2ms/step - accuracy: 0.8829 - loss: 0.3085 - val_accuracy: 0.8702 - val_loss: 0.3654\n",
      "Epoch 11/25\n",
      "\u001b[1m1719/1719\u001b[0m \u001b[32m━━━━━━━━━━━━━━━━━━━━\u001b[0m\u001b[37m\u001b[0m \u001b[1m4s\u001b[0m 2ms/step - accuracy: 0.8828 - loss: 0.3067 - val_accuracy: 0.8678 - val_loss: 0.3756\n",
      "Epoch 12/25\n",
      "\u001b[1m1719/1719\u001b[0m \u001b[32m━━━━━━━━━━━━━━━━━━━━\u001b[0m\u001b[37m\u001b[0m \u001b[1m4s\u001b[0m 2ms/step - accuracy: 0.8835 - loss: 0.3062 - val_accuracy: 0.8682 - val_loss: 0.3837\n",
      "Epoch 13/25\n",
      "\u001b[1m1719/1719\u001b[0m \u001b[32m━━━━━━━━━━━━━━━━━━━━\u001b[0m\u001b[37m\u001b[0m \u001b[1m4s\u001b[0m 2ms/step - accuracy: 0.8836 - loss: 0.3027 - val_accuracy: 0.8686 - val_loss: 0.3771\n",
      "Epoch 14/25\n",
      "\u001b[1m1719/1719\u001b[0m \u001b[32m━━━━━━━━━━━━━━━━━━━━\u001b[0m\u001b[37m\u001b[0m \u001b[1m4s\u001b[0m 2ms/step - accuracy: 0.8838 - loss: 0.3045 - val_accuracy: 0.8594 - val_loss: 0.3895\n",
      "Epoch 15/25\n",
      "\u001b[1m1719/1719\u001b[0m \u001b[32m━━━━━━━━━━━━━━━━━━━━\u001b[0m\u001b[37m\u001b[0m \u001b[1m4s\u001b[0m 2ms/step - accuracy: 0.8873 - loss: 0.2965 - val_accuracy: 0.8664 - val_loss: 0.3741\n",
      "Epoch 16/25\n",
      "\u001b[1m1719/1719\u001b[0m \u001b[32m━━━━━━━━━━━━━━━━━━━━\u001b[0m\u001b[37m\u001b[0m \u001b[1m4s\u001b[0m 2ms/step - accuracy: 0.8891 - loss: 0.2938 - val_accuracy: 0.8668 - val_loss: 0.3720\n",
      "Epoch 17/25\n",
      "\u001b[1m1719/1719\u001b[0m \u001b[32m━━━━━━━━━━━━━━━━━━━━\u001b[0m\u001b[37m\u001b[0m \u001b[1m4s\u001b[0m 2ms/step - accuracy: 0.8873 - loss: 0.2955 - val_accuracy: 0.8634 - val_loss: 0.3909\n",
      "Epoch 18/25\n",
      "\u001b[1m1719/1719\u001b[0m \u001b[32m━━━━━━━━━━━━━━━━━━━━\u001b[0m\u001b[37m\u001b[0m \u001b[1m4s\u001b[0m 2ms/step - accuracy: 0.8870 - loss: 0.2994 - val_accuracy: 0.8642 - val_loss: 0.3917\n",
      "Epoch 19/25\n",
      "\u001b[1m1719/1719\u001b[0m \u001b[32m━━━━━━━━━━━━━━━━━━━━\u001b[0m\u001b[37m\u001b[0m \u001b[1m5s\u001b[0m 2ms/step - accuracy: 0.8868 - loss: 0.2920 - val_accuracy: 0.8602 - val_loss: 0.4037\n",
      "Epoch 20/25\n",
      "\u001b[1m1719/1719\u001b[0m \u001b[32m━━━━━━━━━━━━━━━━━━━━\u001b[0m\u001b[37m\u001b[0m \u001b[1m4s\u001b[0m 2ms/step - accuracy: 0.8872 - loss: 0.2953 - val_accuracy: 0.8674 - val_loss: 0.3795\n",
      "Epoch 21/25\n",
      "\u001b[1m1719/1719\u001b[0m \u001b[32m━━━━━━━━━━━━━━━━━━━━\u001b[0m\u001b[37m\u001b[0m \u001b[1m4s\u001b[0m 2ms/step - accuracy: 0.8872 - loss: 0.2938 - val_accuracy: 0.8632 - val_loss: 0.3869\n",
      "Epoch 22/25\n",
      "\u001b[1m1719/1719\u001b[0m \u001b[32m━━━━━━━━━━━━━━━━━━━━\u001b[0m\u001b[37m\u001b[0m \u001b[1m4s\u001b[0m 2ms/step - accuracy: 0.8911 - loss: 0.2876 - val_accuracy: 0.8630 - val_loss: 0.4033\n",
      "Epoch 23/25\n",
      "\u001b[1m1719/1719\u001b[0m \u001b[32m━━━━━━━━━━━━━━━━━━━━\u001b[0m\u001b[37m\u001b[0m \u001b[1m4s\u001b[0m 2ms/step - accuracy: 0.8927 - loss: 0.2866 - val_accuracy: 0.8654 - val_loss: 0.3890\n",
      "Epoch 24/25\n",
      "\u001b[1m1719/1719\u001b[0m \u001b[32m━━━━━━━━━━━━━━━━━━━━\u001b[0m\u001b[37m\u001b[0m \u001b[1m4s\u001b[0m 2ms/step - accuracy: 0.8901 - loss: 0.2899 - val_accuracy: 0.8660 - val_loss: 0.3762\n",
      "Epoch 25/25\n",
      "\u001b[1m1719/1719\u001b[0m \u001b[32m━━━━━━━━━━━━━━━━━━━━\u001b[0m\u001b[37m\u001b[0m \u001b[1m4s\u001b[0m 2ms/step - accuracy: 0.8920 - loss: 0.2847 - val_accuracy: 0.8682 - val_loss: 0.4012\n"
     ]
    }
   ],
   "source": [
    "# Creating an instance of the Partial Object\n",
    "MaxNormDenseLayer = partial(\n",
    "    tf.keras.layers.Dense,\n",
    "    activation=\"elu\",\n",
    "    kernel_initializer=\"he_normal\",\n",
    "    kernel_constraint=tf.keras.constraints.max_norm(1.)\n",
    ")\n",
    "\n",
    "# Building the Model\n",
    "final_model = tf.keras.models.Sequential([\n",
    "    tf.keras.layers.Flatten(input_shape=[28, 28]),\n",
    "    tf.keras.layers.BatchNormalization(),\n",
    "    MaxNormDenseLayer(500),\n",
    "    MaxNormDenseLayer(300),\n",
    "    MaxNormDenseLayer(100),\n",
    "    tf.keras.layers.Dense(10, activation=\"softmax\")\n",
    "])\n",
    "\n",
    "final_model.compile(\n",
    "    loss=\"sparse_categorical_crossentropy\",\n",
    "    metrics=[\"accuracy\"],\n",
    "    optimizer=tf.keras.optimizers.Adam()\n",
    ")\n",
    "\n",
    "# Training the Model\n",
    "final_history = final_model.fit(\n",
    "    X_train, y_train,\n",
    "    validation_data=(X_valid, y_valid),\n",
    "    epochs=n_epochs\n",
    ")"
   ]
  },
  {
   "cell_type": "markdown",
   "id": "65a95197",
   "metadata": {
    "papermill": {
     "duration": 2.30225,
     "end_time": "2024-04-27T19:46:15.206455",
     "exception": false,
     "start_time": "2024-04-27T19:46:12.904205",
     "status": "completed"
    },
    "tags": []
   },
   "source": [
    "**Fin ✨**\n",
    "--\n",
    "\n",
    "## I had a lot of fun working on this notebook 📕\n",
    "## Hope you had just as much fun reading through it and found it insightful 🙃\n",
    "## Cheers for the read 🙂!!"
   ]
  },
  {
   "cell_type": "code",
   "execution_count": null,
   "id": "09feaa25",
   "metadata": {
    "papermill": {
     "duration": 2.180977,
     "end_time": "2024-04-27T19:46:19.477389",
     "exception": false,
     "start_time": "2024-04-27T19:46:17.296412",
     "status": "completed"
    },
    "tags": []
   },
   "outputs": [],
   "source": []
  }
 ],
 "metadata": {
  "kaggle": {
   "accelerator": "gpu",
   "dataSources": [],
   "dockerImageVersionId": 30684,
   "isGpuEnabled": true,
   "isInternetEnabled": true,
   "language": "python",
   "sourceType": "notebook"
  },
  "kernelspec": {
   "display_name": "Python 3",
   "language": "python",
   "name": "python3"
  },
  "language_info": {
   "codemirror_mode": {
    "name": "ipython",
    "version": 3
   },
   "file_extension": ".py",
   "mimetype": "text/x-python",
   "name": "python",
   "nbconvert_exporter": "python",
   "pygments_lexer": "ipython3",
   "version": "3.10.13"
  },
  "papermill": {
   "default_parameters": {},
   "duration": 1679.702471,
   "end_time": "2024-04-27T19:46:24.809417",
   "environment_variables": {},
   "exception": null,
   "input_path": "__notebook__.ipynb",
   "output_path": "__notebook__.ipynb",
   "parameters": {},
   "start_time": "2024-04-27T19:18:25.106946",
   "version": "2.5.0"
  }
 },
 "nbformat": 4,
 "nbformat_minor": 5
}
