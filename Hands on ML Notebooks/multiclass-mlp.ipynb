{
 "metadata": {
  "kernelspec": {
   "language": "python",
   "display_name": "Python 3",
   "name": "python3"
  },
  "language_info": {
   "name": "python",
   "version": "3.10.12",
   "mimetype": "text/x-python",
   "codemirror_mode": {
    "name": "ipython",
    "version": 3
   },
   "pygments_lexer": "ipython3",
   "nbconvert_exporter": "python",
   "file_extension": ".py"
  },
  "kaggle": {
   "accelerator": "gpu",
   "dataSources": [],
   "dockerImageVersionId": 30636,
   "isInternetEnabled": true,
   "language": "python",
   "sourceType": "notebook",
   "isGpuEnabled": true
  }
 },
 "nbformat_minor": 4,
 "nbformat": 4,
 "cells": [
  {
   "cell_type": "code",
   "source": "import tensorflow as tf\nimport numpy as np\nimport zipfile\nimport urllib\nimport os",
   "metadata": {
    "execution": {
     "iopub.status.busy": "2024-01-23T10:08:41.021519Z",
     "iopub.execute_input": "2024-01-23T10:08:41.022450Z",
     "iopub.status.idle": "2024-01-23T10:08:53.598489Z",
     "shell.execute_reply.started": "2024-01-23T10:08:41.022406Z",
     "shell.execute_reply": "2024-01-23T10:08:53.597541Z"
    },
    "trusted": true
   },
   "execution_count": 1,
   "outputs": [
    {
     "name": "stderr",
     "text": "/opt/conda/lib/python3.10/site-packages/scipy/__init__.py:146: UserWarning: A NumPy version >=1.16.5 and <1.23.0 is required for this version of SciPy (detected version 1.24.3\n  warnings.warn(f\"A NumPy version >={np_minversion} and <{np_maxversion}\"\n",
     "output_type": "stream"
    }
   ]
  },
  {
   "cell_type": "code",
   "source": "# Downloading the Zip\ntrain_link = \"https://storage.googleapis.com/learning-datasets/rps.zip\"\ntrain_file = \"rps.zip\"\nurllib.request.urlretrieve(train_link, train_file)\n\n# Extracting the Zip\ntrain_dir = \"Rock-Paper-Scissor/Training\"\nzip_ref_train = zipfile.ZipFile(train_file, \"r\")\nzip_ref_train.extractall(train_dir)\nzip_ref_train.close()",
   "metadata": {
    "execution": {
     "iopub.status.busy": "2024-01-23T10:08:53.600722Z",
     "iopub.execute_input": "2024-01-23T10:08:53.601603Z",
     "iopub.status.idle": "2024-01-23T10:08:55.859637Z",
     "shell.execute_reply.started": "2024-01-23T10:08:53.601559Z",
     "shell.execute_reply": "2024-01-23T10:08:55.858601Z"
    },
    "trusted": true
   },
   "execution_count": 2,
   "outputs": []
  },
  {
   "cell_type": "code",
   "source": "# Downloading the Zip\ntest_link = \"https://storage.googleapis.com/learning-datasets/rps-test-set.zip\"\ntest_file = \"rps-test-set.zip\"\nurllib.request.urlretrieve(test_link, test_file)\n\n# Extracting the Zip\ntest_dir = \"Rock-Paper-Scissor/Testing\"\nzip_ref_test = zipfile.ZipFile(test_file, \"r\")\nzip_ref_test.extractall(test_dir)\nzip_ref_test.close()",
   "metadata": {
    "execution": {
     "iopub.status.busy": "2024-01-23T10:08:55.860715Z",
     "iopub.execute_input": "2024-01-23T10:08:55.860999Z",
     "iopub.status.idle": "2024-01-23T10:08:56.434795Z",
     "shell.execute_reply.started": "2024-01-23T10:08:55.860973Z",
     "shell.execute_reply": "2024-01-23T10:08:56.433952Z"
    },
    "trusted": true
   },
   "execution_count": 3,
   "outputs": []
  },
  {
   "cell_type": "code",
   "source": "from tensorflow.keras.preprocessing.image import ImageDataGenerator\n\ntrain_datagen = ImageDataGenerator(\n    rescale=1/255,\n    rotation_range=40,\n    width_shift_range=0.2,\n    height_shift_range=0.2,\n    shear_range=0.2,\n    zoom_range=0.2,\n    horizontal_flip=True,\n    fill_mode=\"nearest\"\n)\n\ntest_datagen = ImageDataGenerator(\n    rescale=1/255\n)",
   "metadata": {
    "execution": {
     "iopub.status.busy": "2024-01-23T10:09:01.101696Z",
     "iopub.execute_input": "2024-01-23T10:09:01.102097Z",
     "iopub.status.idle": "2024-01-23T10:09:01.214091Z",
     "shell.execute_reply.started": "2024-01-23T10:09:01.102063Z",
     "shell.execute_reply": "2024-01-23T10:09:01.213113Z"
    },
    "trusted": true
   },
   "execution_count": 4,
   "outputs": []
  },
  {
   "cell_type": "code",
   "source": "train_gen = train_datagen.flow_from_directory(\n    \"/kaggle/working/Rock-Paper-Scissor/Training/rps/\",\n    class_mode=\"categorical\",\n    target_size=(150, 150),\n)",
   "metadata": {
    "execution": {
     "iopub.status.busy": "2024-01-23T10:09:07.052351Z",
     "iopub.execute_input": "2024-01-23T10:09:07.052727Z",
     "iopub.status.idle": "2024-01-23T10:09:07.145758Z",
     "shell.execute_reply.started": "2024-01-23T10:09:07.052699Z",
     "shell.execute_reply": "2024-01-23T10:09:07.144873Z"
    },
    "trusted": true
   },
   "execution_count": 5,
   "outputs": [
    {
     "name": "stdout",
     "text": "Found 2520 images belonging to 3 classes.\n",
     "output_type": "stream"
    }
   ]
  },
  {
   "cell_type": "code",
   "source": "test_gen = test_datagen.flow_from_directory(\n    \"/kaggle/working/Rock-Paper-Scissor/Testing/rps-test-set/\",\n    class_mode=\"categorical\",\n    target_size=(150, 150),\n)",
   "metadata": {
    "execution": {
     "iopub.status.busy": "2024-01-23T10:09:09.296892Z",
     "iopub.execute_input": "2024-01-23T10:09:09.297245Z",
     "iopub.status.idle": "2024-01-23T10:09:09.316826Z",
     "shell.execute_reply.started": "2024-01-23T10:09:09.297218Z",
     "shell.execute_reply": "2024-01-23T10:09:09.316018Z"
    },
    "trusted": true
   },
   "execution_count": 6,
   "outputs": [
    {
     "name": "stdout",
     "text": "Found 372 images belonging to 3 classes.\n",
     "output_type": "stream"
    }
   ]
  },
  {
   "cell_type": "code",
   "source": "tf.keras.backend.clear_session()",
   "metadata": {
    "execution": {
     "iopub.status.busy": "2024-01-23T10:09:12.275869Z",
     "iopub.execute_input": "2024-01-23T10:09:12.276684Z",
     "iopub.status.idle": "2024-01-23T10:09:12.293351Z",
     "shell.execute_reply.started": "2024-01-23T10:09:12.276653Z",
     "shell.execute_reply": "2024-01-23T10:09:12.292491Z"
    },
    "trusted": true
   },
   "execution_count": 7,
   "outputs": []
  },
  {
   "cell_type": "code",
   "source": "model = tf.keras.models.Sequential([\n    tf.keras.layers.Conv2D(64, (3,3), activation='relu', input_shape=(150, 150, 3)),\n    tf.keras.layers.MaxPooling2D(2, 2),\n    # The second convolution\n    tf.keras.layers.Conv2D(64, (3,3), activation='relu'),\n    tf.keras.layers.MaxPooling2D(2,2),\n    # The third convolution\n    tf.keras.layers.Conv2D(128, (3,3), activation='relu'),\n    tf.keras.layers.MaxPooling2D(2,2),\n    # The fourth convolution\n    tf.keras.layers.Conv2D(128, (3,3), activation='relu'),\n    tf.keras.layers.MaxPooling2D(2,2),\n    # Flatten the results to feed into a DNN\n    tf.keras.layers.Flatten(),\n    tf.keras.layers.Dropout(0.5),\n    # 512 neuron hidden layer\n    tf.keras.layers.Dense(512, activation='relu'),\n    tf.keras.layers.Dense(3, activation='softmax')\n])\n\nmodel.compile(\n    loss=\"categorical_crossentropy\",\n    metrics=[\"accuracy\"],\n    optimizer=\"rmsprop\"\n)",
   "metadata": {
    "execution": {
     "iopub.status.busy": "2024-01-23T10:09:13.450488Z",
     "iopub.execute_input": "2024-01-23T10:09:13.450912Z",
     "iopub.status.idle": "2024-01-23T10:09:14.559742Z",
     "shell.execute_reply.started": "2024-01-23T10:09:13.450873Z",
     "shell.execute_reply": "2024-01-23T10:09:14.558910Z"
    },
    "trusted": true
   },
   "execution_count": 8,
   "outputs": []
  },
  {
   "cell_type": "code",
   "source": "model.summary()",
   "metadata": {
    "execution": {
     "iopub.status.busy": "2024-01-23T10:09:16.329955Z",
     "iopub.execute_input": "2024-01-23T10:09:16.330351Z",
     "iopub.status.idle": "2024-01-23T10:09:16.370264Z",
     "shell.execute_reply.started": "2024-01-23T10:09:16.330318Z",
     "shell.execute_reply": "2024-01-23T10:09:16.369403Z"
    },
    "trusted": true
   },
   "execution_count": 9,
   "outputs": [
    {
     "name": "stdout",
     "text": "Model: \"sequential\"\n_________________________________________________________________\n Layer (type)                Output Shape              Param #   \n=================================================================\n conv2d (Conv2D)             (None, 148, 148, 64)      1792      \n                                                                 \n max_pooling2d (MaxPooling2  (None, 74, 74, 64)        0         \n D)                                                              \n                                                                 \n conv2d_1 (Conv2D)           (None, 72, 72, 64)        36928     \n                                                                 \n max_pooling2d_1 (MaxPoolin  (None, 36, 36, 64)        0         \n g2D)                                                            \n                                                                 \n conv2d_2 (Conv2D)           (None, 34, 34, 128)       73856     \n                                                                 \n max_pooling2d_2 (MaxPoolin  (None, 17, 17, 128)       0         \n g2D)                                                            \n                                                                 \n conv2d_3 (Conv2D)           (None, 15, 15, 128)       147584    \n                                                                 \n max_pooling2d_3 (MaxPoolin  (None, 7, 7, 128)         0         \n g2D)                                                            \n                                                                 \n flatten (Flatten)           (None, 6272)              0         \n                                                                 \n dropout (Dropout)           (None, 6272)              0         \n                                                                 \n dense (Dense)               (None, 512)               3211776   \n                                                                 \n dense_1 (Dense)             (None, 3)                 1539      \n                                                                 \n=================================================================\nTotal params: 3473475 (13.25 MB)\nTrainable params: 3473475 (13.25 MB)\nNon-trainable params: 0 (0.00 Byte)\n_________________________________________________________________\n",
     "output_type": "stream"
    }
   ]
  },
  {
   "cell_type": "code",
   "source": "history = model.fit(\n    train_gen, \n    validation_data=test_gen,\n    epochs=20,\n    verbose=1\n)",
   "metadata": {
    "execution": {
     "iopub.status.busy": "2024-01-23T10:09:16.690840Z",
     "iopub.execute_input": "2024-01-23T10:09:16.691722Z",
     "iopub.status.idle": "2024-01-23T10:17:02.666439Z",
     "shell.execute_reply.started": "2024-01-23T10:09:16.691687Z",
     "shell.execute_reply": "2024-01-23T10:17:02.665169Z"
    },
    "trusted": true
   },
   "execution_count": 10,
   "outputs": [
    {
     "name": "stdout",
     "text": "Epoch 1/20\n79/79 [==============================] - 27s 289ms/step - loss: 1.1644 - accuracy: 0.3448 - val_loss: 1.1852 - val_accuracy: 0.3360\nEpoch 2/20\n79/79 [==============================] - 23s 292ms/step - loss: 1.0580 - accuracy: 0.4798 - val_loss: 3.6201 - val_accuracy: 0.6667\nEpoch 3/20\n79/79 [==============================] - 23s 290ms/step - loss: 0.9808 - accuracy: 0.6361 - val_loss: 0.4246 - val_accuracy: 0.8280\nEpoch 4/20\n79/79 [==============================] - 23s 292ms/step - loss: 0.6040 - accuracy: 0.7425 - val_loss: 0.4309 - val_accuracy: 0.9247\nEpoch 5/20\n79/79 [==============================] - 23s 293ms/step - loss: 0.4709 - accuracy: 0.8282 - val_loss: 0.3448 - val_accuracy: 0.8575\nEpoch 6/20\n79/79 [==============================] - 23s 296ms/step - loss: 0.2925 - accuracy: 0.8881 - val_loss: 0.1532 - val_accuracy: 0.9328\nEpoch 7/20\n79/79 [==============================] - 23s 291ms/step - loss: 0.2519 - accuracy: 0.9115 - val_loss: 0.6150 - val_accuracy: 0.7930\nEpoch 8/20\n79/79 [==============================] - 23s 291ms/step - loss: 0.2643 - accuracy: 0.9183 - val_loss: 0.1288 - val_accuracy: 0.9328\nEpoch 9/20\n79/79 [==============================] - 23s 290ms/step - loss: 0.2487 - accuracy: 0.9290 - val_loss: 0.2116 - val_accuracy: 0.9247\nEpoch 10/20\n79/79 [==============================] - 23s 297ms/step - loss: 0.2117 - accuracy: 0.9357 - val_loss: 0.0946 - val_accuracy: 0.9570\nEpoch 11/20\n79/79 [==============================] - 23s 294ms/step - loss: 0.1768 - accuracy: 0.9440 - val_loss: 0.2381 - val_accuracy: 0.8952\nEpoch 12/20\n79/79 [==============================] - 23s 295ms/step - loss: 0.1971 - accuracy: 0.9373 - val_loss: 0.1781 - val_accuracy: 0.9274\nEpoch 13/20\n79/79 [==============================] - 23s 291ms/step - loss: 0.1706 - accuracy: 0.9417 - val_loss: 0.1874 - val_accuracy: 0.9274\nEpoch 14/20\n79/79 [==============================] - 23s 290ms/step - loss: 0.1399 - accuracy: 0.9528 - val_loss: 0.0851 - val_accuracy: 0.9543\nEpoch 15/20\n79/79 [==============================] - 23s 289ms/step - loss: 0.1430 - accuracy: 0.9583 - val_loss: 0.1007 - val_accuracy: 0.9597\nEpoch 16/20\n79/79 [==============================] - 23s 290ms/step - loss: 0.1385 - accuracy: 0.9639 - val_loss: 0.1248 - val_accuracy: 0.9785\nEpoch 17/20\n79/79 [==============================] - 23s 291ms/step - loss: 0.1535 - accuracy: 0.9567 - val_loss: 0.1616 - val_accuracy: 0.9651\nEpoch 18/20\n79/79 [==============================] - 23s 292ms/step - loss: 0.1520 - accuracy: 0.9532 - val_loss: 0.2026 - val_accuracy: 0.9328\nEpoch 19/20\n79/79 [==============================] - 23s 290ms/step - loss: 0.1514 - accuracy: 0.9567 - val_loss: 0.0539 - val_accuracy: 0.9866\nEpoch 20/20\n79/79 [==============================] - 23s 288ms/step - loss: 0.1576 - accuracy: 0.9579 - val_loss: 0.7740 - val_accuracy: 0.9543\n",
     "output_type": "stream"
    }
   ]
  },
  {
   "cell_type": "code",
   "source": "",
   "metadata": {},
   "execution_count": null,
   "outputs": []
  }
 ]
}
