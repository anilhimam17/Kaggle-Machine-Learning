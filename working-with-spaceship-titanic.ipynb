{
 "cells": [
  {
   "cell_type": "markdown",
   "id": "4820a95a",
   "metadata": {
    "papermill": {
     "duration": 0.022967,
     "end_time": "2023-09-01T06:52:21.345840",
     "exception": false,
     "start_time": "2023-09-01T06:52:21.322873",
     "status": "completed"
    },
    "tags": []
   },
   "source": [
    "## Necessary Imports"
   ]
  },
  {
   "cell_type": "code",
   "execution_count": 1,
   "id": "c4125561",
   "metadata": {
    "execution": {
     "iopub.execute_input": "2023-09-01T06:52:21.393573Z",
     "iopub.status.busy": "2023-09-01T06:52:21.393026Z",
     "iopub.status.idle": "2023-09-01T06:52:32.020388Z",
     "shell.execute_reply": "2023-09-01T06:52:32.019148Z"
    },
    "papermill": {
     "duration": 10.65488,
     "end_time": "2023-09-01T06:52:32.023331",
     "exception": false,
     "start_time": "2023-09-01T06:52:21.368451",
     "status": "completed"
    },
    "tags": []
   },
   "outputs": [
    {
     "name": "stderr",
     "output_type": "stream",
     "text": [
      "/opt/conda/lib/python3.10/site-packages/scipy/__init__.py:146: UserWarning: A NumPy version >=1.16.5 and <1.23.0 is required for this version of SciPy (detected version 1.23.5\n",
      "  warnings.warn(f\"A NumPy version >={np_minversion} and <{np_maxversion}\"\n",
      "/opt/conda/lib/python3.10/site-packages/tensorflow_io/python/ops/__init__.py:98: UserWarning: unable to load libtensorflow_io_plugins.so: unable to open file: libtensorflow_io_plugins.so, from paths: ['/opt/conda/lib/python3.10/site-packages/tensorflow_io/python/ops/libtensorflow_io_plugins.so']\n",
      "caused by: ['/opt/conda/lib/python3.10/site-packages/tensorflow_io/python/ops/libtensorflow_io_plugins.so: undefined symbol: _ZN3tsl6StatusC1EN10tensorflow5error4CodeESt17basic_string_viewIcSt11char_traitsIcEENS_14SourceLocationE']\n",
      "  warnings.warn(f\"unable to load libtensorflow_io_plugins.so: {e}\")\n",
      "/opt/conda/lib/python3.10/site-packages/tensorflow_io/python/ops/__init__.py:104: UserWarning: file system plugins are not loaded: unable to open file: libtensorflow_io.so, from paths: ['/opt/conda/lib/python3.10/site-packages/tensorflow_io/python/ops/libtensorflow_io.so']\n",
      "caused by: ['/opt/conda/lib/python3.10/site-packages/tensorflow_io/python/ops/libtensorflow_io.so: undefined symbol: _ZTVN10tensorflow13GcsFileSystemE']\n",
      "  warnings.warn(f\"file system plugins are not loaded: {e}\")\n"
     ]
    }
   ],
   "source": [
    "# Data Analytics and Visualisation Imports\n",
    "import joblib\n",
    "import numpy as np\n",
    "import pandas as pd\n",
    "import seaborn as sns\n",
    "import matplotlib.pyplot as plt\n",
    "%matplotlib inline\n",
    "\n",
    "# Scikit-Learn Essentials\n",
    "from sklearn.pipeline import Pipeline\n",
    "from sklearn.impute import SimpleImputer\n",
    "from sklearn.compose import ColumnTransformer\n",
    "from sklearn.metrics import mean_squared_error\n",
    "from sklearn.tree import DecisionTreeClassifier\n",
    "from sklearn.linear_model import LogisticRegression\n",
    "from sklearn.ensemble import RandomForestClassifier\n",
    "from sklearn.preprocessing import OneHotEncoder, StandardScaler\n",
    "from sklearn.model_selection import train_test_split, GridSearchCV, cross_val_score\n",
    "\n",
    "# Tensorflow\n",
    "import tensorflow as tf"
   ]
  },
  {
   "cell_type": "markdown",
   "id": "d846c55b",
   "metadata": {
    "papermill": {
     "duration": 0.022688,
     "end_time": "2023-09-01T06:52:32.069016",
     "exception": false,
     "start_time": "2023-09-01T06:52:32.046328",
     "status": "completed"
    },
    "tags": []
   },
   "source": [
    "## Loading the Dataset"
   ]
  },
  {
   "cell_type": "code",
   "execution_count": 2,
   "id": "7733d6f8",
   "metadata": {
    "execution": {
     "iopub.execute_input": "2023-09-01T06:52:32.117157Z",
     "iopub.status.busy": "2023-09-01T06:52:32.116349Z",
     "iopub.status.idle": "2023-09-01T06:52:32.210455Z",
     "shell.execute_reply": "2023-09-01T06:52:32.209375Z"
    },
    "papermill": {
     "duration": 0.121168,
     "end_time": "2023-09-01T06:52:32.213180",
     "exception": false,
     "start_time": "2023-09-01T06:52:32.092012",
     "status": "completed"
    },
    "tags": []
   },
   "outputs": [
    {
     "data": {
      "text/html": [
       "<div>\n",
       "<style scoped>\n",
       "    .dataframe tbody tr th:only-of-type {\n",
       "        vertical-align: middle;\n",
       "    }\n",
       "\n",
       "    .dataframe tbody tr th {\n",
       "        vertical-align: top;\n",
       "    }\n",
       "\n",
       "    .dataframe thead th {\n",
       "        text-align: right;\n",
       "    }\n",
       "</style>\n",
       "<table border=\"1\" class=\"dataframe\">\n",
       "  <thead>\n",
       "    <tr style=\"text-align: right;\">\n",
       "      <th></th>\n",
       "      <th>PassengerId</th>\n",
       "      <th>HomePlanet</th>\n",
       "      <th>CryoSleep</th>\n",
       "      <th>Cabin</th>\n",
       "      <th>Destination</th>\n",
       "      <th>Age</th>\n",
       "      <th>VIP</th>\n",
       "      <th>RoomService</th>\n",
       "      <th>FoodCourt</th>\n",
       "      <th>ShoppingMall</th>\n",
       "      <th>Spa</th>\n",
       "      <th>VRDeck</th>\n",
       "      <th>Name</th>\n",
       "      <th>Transported</th>\n",
       "    </tr>\n",
       "  </thead>\n",
       "  <tbody>\n",
       "    <tr>\n",
       "      <th>0</th>\n",
       "      <td>0001_01</td>\n",
       "      <td>Europa</td>\n",
       "      <td>False</td>\n",
       "      <td>B/0/P</td>\n",
       "      <td>TRAPPIST-1e</td>\n",
       "      <td>39.0</td>\n",
       "      <td>False</td>\n",
       "      <td>0.0</td>\n",
       "      <td>0.0</td>\n",
       "      <td>0.0</td>\n",
       "      <td>0.0</td>\n",
       "      <td>0.0</td>\n",
       "      <td>Maham Ofracculy</td>\n",
       "      <td>False</td>\n",
       "    </tr>\n",
       "    <tr>\n",
       "      <th>1</th>\n",
       "      <td>0002_01</td>\n",
       "      <td>Earth</td>\n",
       "      <td>False</td>\n",
       "      <td>F/0/S</td>\n",
       "      <td>TRAPPIST-1e</td>\n",
       "      <td>24.0</td>\n",
       "      <td>False</td>\n",
       "      <td>109.0</td>\n",
       "      <td>9.0</td>\n",
       "      <td>25.0</td>\n",
       "      <td>549.0</td>\n",
       "      <td>44.0</td>\n",
       "      <td>Juanna Vines</td>\n",
       "      <td>True</td>\n",
       "    </tr>\n",
       "    <tr>\n",
       "      <th>2</th>\n",
       "      <td>0003_01</td>\n",
       "      <td>Europa</td>\n",
       "      <td>False</td>\n",
       "      <td>A/0/S</td>\n",
       "      <td>TRAPPIST-1e</td>\n",
       "      <td>58.0</td>\n",
       "      <td>True</td>\n",
       "      <td>43.0</td>\n",
       "      <td>3576.0</td>\n",
       "      <td>0.0</td>\n",
       "      <td>6715.0</td>\n",
       "      <td>49.0</td>\n",
       "      <td>Altark Susent</td>\n",
       "      <td>False</td>\n",
       "    </tr>\n",
       "    <tr>\n",
       "      <th>3</th>\n",
       "      <td>0003_02</td>\n",
       "      <td>Europa</td>\n",
       "      <td>False</td>\n",
       "      <td>A/0/S</td>\n",
       "      <td>TRAPPIST-1e</td>\n",
       "      <td>33.0</td>\n",
       "      <td>False</td>\n",
       "      <td>0.0</td>\n",
       "      <td>1283.0</td>\n",
       "      <td>371.0</td>\n",
       "      <td>3329.0</td>\n",
       "      <td>193.0</td>\n",
       "      <td>Solam Susent</td>\n",
       "      <td>False</td>\n",
       "    </tr>\n",
       "    <tr>\n",
       "      <th>4</th>\n",
       "      <td>0004_01</td>\n",
       "      <td>Earth</td>\n",
       "      <td>False</td>\n",
       "      <td>F/1/S</td>\n",
       "      <td>TRAPPIST-1e</td>\n",
       "      <td>16.0</td>\n",
       "      <td>False</td>\n",
       "      <td>303.0</td>\n",
       "      <td>70.0</td>\n",
       "      <td>151.0</td>\n",
       "      <td>565.0</td>\n",
       "      <td>2.0</td>\n",
       "      <td>Willy Santantines</td>\n",
       "      <td>True</td>\n",
       "    </tr>\n",
       "  </tbody>\n",
       "</table>\n",
       "</div>"
      ],
      "text/plain": [
       "  PassengerId HomePlanet CryoSleep  Cabin  Destination   Age    VIP  \\\n",
       "0     0001_01     Europa     False  B/0/P  TRAPPIST-1e  39.0  False   \n",
       "1     0002_01      Earth     False  F/0/S  TRAPPIST-1e  24.0  False   \n",
       "2     0003_01     Europa     False  A/0/S  TRAPPIST-1e  58.0   True   \n",
       "3     0003_02     Europa     False  A/0/S  TRAPPIST-1e  33.0  False   \n",
       "4     0004_01      Earth     False  F/1/S  TRAPPIST-1e  16.0  False   \n",
       "\n",
       "   RoomService  FoodCourt  ShoppingMall     Spa  VRDeck               Name  \\\n",
       "0          0.0        0.0           0.0     0.0     0.0    Maham Ofracculy   \n",
       "1        109.0        9.0          25.0   549.0    44.0       Juanna Vines   \n",
       "2         43.0     3576.0           0.0  6715.0    49.0      Altark Susent   \n",
       "3          0.0     1283.0         371.0  3329.0   193.0       Solam Susent   \n",
       "4        303.0       70.0         151.0   565.0     2.0  Willy Santantines   \n",
       "\n",
       "   Transported  \n",
       "0        False  \n",
       "1         True  \n",
       "2        False  \n",
       "3        False  \n",
       "4         True  "
      ]
     },
     "execution_count": 2,
     "metadata": {},
     "output_type": "execute_result"
    }
   ],
   "source": [
    "spaceship = pd.read_csv(\"../input/spaceship-titanic/train.csv\")\n",
    "spaceship.head()"
   ]
  },
  {
   "cell_type": "markdown",
   "id": "96af4026",
   "metadata": {
    "papermill": {
     "duration": 0.022881,
     "end_time": "2023-09-01T06:52:32.258675",
     "exception": false,
     "start_time": "2023-09-01T06:52:32.235794",
     "status": "completed"
    },
    "tags": []
   },
   "source": [
    "**`Important`**\n",
    "\n",
    "- I am doing the feature engineering early to checkout the correlation of the newly created attributes with the target attribute "
   ]
  },
  {
   "cell_type": "markdown",
   "id": "d095ebf9",
   "metadata": {
    "papermill": {
     "duration": 0.022425,
     "end_time": "2023-09-01T06:52:32.304228",
     "exception": false,
     "start_time": "2023-09-01T06:52:32.281803",
     "status": "completed"
    },
    "tags": []
   },
   "source": [
    "**`Adding a new attributes`**"
   ]
  },
  {
   "cell_type": "code",
   "execution_count": 3,
   "id": "3b4a24c0",
   "metadata": {
    "execution": {
     "iopub.execute_input": "2023-09-01T06:52:32.351201Z",
     "iopub.status.busy": "2023-09-01T06:52:32.350798Z",
     "iopub.status.idle": "2023-09-01T06:52:32.383528Z",
     "shell.execute_reply": "2023-09-01T06:52:32.382419Z"
    },
    "papermill": {
     "duration": 0.059213,
     "end_time": "2023-09-01T06:52:32.386057",
     "exception": false,
     "start_time": "2023-09-01T06:52:32.326844",
     "status": "completed"
    },
    "tags": []
   },
   "outputs": [
    {
     "data": {
      "text/html": [
       "<div>\n",
       "<style scoped>\n",
       "    .dataframe tbody tr th:only-of-type {\n",
       "        vertical-align: middle;\n",
       "    }\n",
       "\n",
       "    .dataframe tbody tr th {\n",
       "        vertical-align: top;\n",
       "    }\n",
       "\n",
       "    .dataframe thead th {\n",
       "        text-align: right;\n",
       "    }\n",
       "</style>\n",
       "<table border=\"1\" class=\"dataframe\">\n",
       "  <thead>\n",
       "    <tr style=\"text-align: right;\">\n",
       "      <th></th>\n",
       "      <th>PassengerId</th>\n",
       "      <th>HomePlanet</th>\n",
       "      <th>CryoSleep</th>\n",
       "      <th>Cabin</th>\n",
       "      <th>Destination</th>\n",
       "      <th>Age</th>\n",
       "      <th>VIP</th>\n",
       "      <th>RoomService</th>\n",
       "      <th>FoodCourt</th>\n",
       "      <th>ShoppingMall</th>\n",
       "      <th>Spa</th>\n",
       "      <th>VRDeck</th>\n",
       "      <th>Name</th>\n",
       "      <th>Transported</th>\n",
       "      <th>TotalExp</th>\n",
       "      <th>PersonalExp</th>\n",
       "      <th>AddExp</th>\n",
       "    </tr>\n",
       "  </thead>\n",
       "  <tbody>\n",
       "    <tr>\n",
       "      <th>0</th>\n",
       "      <td>0001_01</td>\n",
       "      <td>Europa</td>\n",
       "      <td>False</td>\n",
       "      <td>B/0/P</td>\n",
       "      <td>TRAPPIST-1e</td>\n",
       "      <td>39.0</td>\n",
       "      <td>False</td>\n",
       "      <td>0.0</td>\n",
       "      <td>0.0</td>\n",
       "      <td>0.0</td>\n",
       "      <td>0.0</td>\n",
       "      <td>0.0</td>\n",
       "      <td>Maham Ofracculy</td>\n",
       "      <td>False</td>\n",
       "      <td>0.0</td>\n",
       "      <td>0.0</td>\n",
       "      <td>0.0</td>\n",
       "    </tr>\n",
       "    <tr>\n",
       "      <th>1</th>\n",
       "      <td>0002_01</td>\n",
       "      <td>Earth</td>\n",
       "      <td>False</td>\n",
       "      <td>F/0/S</td>\n",
       "      <td>TRAPPIST-1e</td>\n",
       "      <td>24.0</td>\n",
       "      <td>False</td>\n",
       "      <td>109.0</td>\n",
       "      <td>9.0</td>\n",
       "      <td>25.0</td>\n",
       "      <td>549.0</td>\n",
       "      <td>44.0</td>\n",
       "      <td>Juanna Vines</td>\n",
       "      <td>True</td>\n",
       "      <td>736.0</td>\n",
       "      <td>118.0</td>\n",
       "      <td>618.0</td>\n",
       "    </tr>\n",
       "    <tr>\n",
       "      <th>2</th>\n",
       "      <td>0003_01</td>\n",
       "      <td>Europa</td>\n",
       "      <td>False</td>\n",
       "      <td>A/0/S</td>\n",
       "      <td>TRAPPIST-1e</td>\n",
       "      <td>58.0</td>\n",
       "      <td>True</td>\n",
       "      <td>43.0</td>\n",
       "      <td>3576.0</td>\n",
       "      <td>0.0</td>\n",
       "      <td>6715.0</td>\n",
       "      <td>49.0</td>\n",
       "      <td>Altark Susent</td>\n",
       "      <td>False</td>\n",
       "      <td>10383.0</td>\n",
       "      <td>3619.0</td>\n",
       "      <td>6764.0</td>\n",
       "    </tr>\n",
       "    <tr>\n",
       "      <th>3</th>\n",
       "      <td>0003_02</td>\n",
       "      <td>Europa</td>\n",
       "      <td>False</td>\n",
       "      <td>A/0/S</td>\n",
       "      <td>TRAPPIST-1e</td>\n",
       "      <td>33.0</td>\n",
       "      <td>False</td>\n",
       "      <td>0.0</td>\n",
       "      <td>1283.0</td>\n",
       "      <td>371.0</td>\n",
       "      <td>3329.0</td>\n",
       "      <td>193.0</td>\n",
       "      <td>Solam Susent</td>\n",
       "      <td>False</td>\n",
       "      <td>5176.0</td>\n",
       "      <td>1283.0</td>\n",
       "      <td>3893.0</td>\n",
       "    </tr>\n",
       "    <tr>\n",
       "      <th>4</th>\n",
       "      <td>0004_01</td>\n",
       "      <td>Earth</td>\n",
       "      <td>False</td>\n",
       "      <td>F/1/S</td>\n",
       "      <td>TRAPPIST-1e</td>\n",
       "      <td>16.0</td>\n",
       "      <td>False</td>\n",
       "      <td>303.0</td>\n",
       "      <td>70.0</td>\n",
       "      <td>151.0</td>\n",
       "      <td>565.0</td>\n",
       "      <td>2.0</td>\n",
       "      <td>Willy Santantines</td>\n",
       "      <td>True</td>\n",
       "      <td>1091.0</td>\n",
       "      <td>373.0</td>\n",
       "      <td>718.0</td>\n",
       "    </tr>\n",
       "  </tbody>\n",
       "</table>\n",
       "</div>"
      ],
      "text/plain": [
       "  PassengerId HomePlanet CryoSleep  Cabin  Destination   Age    VIP  \\\n",
       "0     0001_01     Europa     False  B/0/P  TRAPPIST-1e  39.0  False   \n",
       "1     0002_01      Earth     False  F/0/S  TRAPPIST-1e  24.0  False   \n",
       "2     0003_01     Europa     False  A/0/S  TRAPPIST-1e  58.0   True   \n",
       "3     0003_02     Europa     False  A/0/S  TRAPPIST-1e  33.0  False   \n",
       "4     0004_01      Earth     False  F/1/S  TRAPPIST-1e  16.0  False   \n",
       "\n",
       "   RoomService  FoodCourt  ShoppingMall     Spa  VRDeck               Name  \\\n",
       "0          0.0        0.0           0.0     0.0     0.0    Maham Ofracculy   \n",
       "1        109.0        9.0          25.0   549.0    44.0       Juanna Vines   \n",
       "2         43.0     3576.0           0.0  6715.0    49.0      Altark Susent   \n",
       "3          0.0     1283.0         371.0  3329.0   193.0       Solam Susent   \n",
       "4        303.0       70.0         151.0   565.0     2.0  Willy Santantines   \n",
       "\n",
       "   Transported  TotalExp  PersonalExp  AddExp  \n",
       "0        False       0.0          0.0     0.0  \n",
       "1         True     736.0        118.0   618.0  \n",
       "2        False   10383.0       3619.0  6764.0  \n",
       "3        False    5176.0       1283.0  3893.0  \n",
       "4         True    1091.0        373.0   718.0  "
      ]
     },
     "execution_count": 3,
     "metadata": {},
     "output_type": "execute_result"
    }
   ],
   "source": [
    "spaceship[\"TotalExp\"] = spaceship[\"RoomService\"] + spaceship[\"FoodCourt\"] + spaceship[\"ShoppingMall\"] + spaceship[\"Spa\"] + spaceship[\"VRDeck\"]\n",
    "spaceship[\"PersonalExp\"] = spaceship[\"RoomService\"] + spaceship[\"FoodCourt\"]\n",
    "spaceship[\"AddExp\"] = spaceship[\"ShoppingMall\"] + spaceship[\"Spa\"] + spaceship[\"VRDeck\"]\n",
    "spaceship.head()"
   ]
  },
  {
   "cell_type": "markdown",
   "id": "c5d71ad7",
   "metadata": {
    "papermill": {
     "duration": 0.023196,
     "end_time": "2023-09-01T06:52:32.432783",
     "exception": false,
     "start_time": "2023-09-01T06:52:32.409587",
     "status": "completed"
    },
    "tags": []
   },
   "source": [
    "## Understanding the Dataset"
   ]
  },
  {
   "cell_type": "code",
   "execution_count": 4,
   "id": "94d42247",
   "metadata": {
    "execution": {
     "iopub.execute_input": "2023-09-01T06:52:32.485042Z",
     "iopub.status.busy": "2023-09-01T06:52:32.484645Z",
     "iopub.status.idle": "2023-09-01T06:52:32.530861Z",
     "shell.execute_reply": "2023-09-01T06:52:32.529711Z"
    },
    "papermill": {
     "duration": 0.073481,
     "end_time": "2023-09-01T06:52:32.533525",
     "exception": false,
     "start_time": "2023-09-01T06:52:32.460044",
     "status": "completed"
    },
    "tags": []
   },
   "outputs": [
    {
     "name": "stdout",
     "output_type": "stream",
     "text": [
      "<class 'pandas.core.frame.DataFrame'>\n",
      "RangeIndex: 8693 entries, 0 to 8692\n",
      "Data columns (total 17 columns):\n",
      " #   Column        Non-Null Count  Dtype  \n",
      "---  ------        --------------  -----  \n",
      " 0   PassengerId   8693 non-null   object \n",
      " 1   HomePlanet    8492 non-null   object \n",
      " 2   CryoSleep     8476 non-null   object \n",
      " 3   Cabin         8494 non-null   object \n",
      " 4   Destination   8511 non-null   object \n",
      " 5   Age           8514 non-null   float64\n",
      " 6   VIP           8490 non-null   object \n",
      " 7   RoomService   8512 non-null   float64\n",
      " 8   FoodCourt     8510 non-null   float64\n",
      " 9   ShoppingMall  8485 non-null   float64\n",
      " 10  Spa           8510 non-null   float64\n",
      " 11  VRDeck        8505 non-null   float64\n",
      " 12  Name          8493 non-null   object \n",
      " 13  Transported   8693 non-null   bool   \n",
      " 14  TotalExp      7785 non-null   float64\n",
      " 15  PersonalExp   8331 non-null   float64\n",
      " 16  AddExp        8125 non-null   float64\n",
      "dtypes: bool(1), float64(9), object(7)\n",
      "memory usage: 1.1+ MB\n"
     ]
    }
   ],
   "source": [
    "# Information about the dataset\n",
    "spaceship.info()"
   ]
  },
  {
   "cell_type": "code",
   "execution_count": 5,
   "id": "ee66b014",
   "metadata": {
    "execution": {
     "iopub.execute_input": "2023-09-01T06:52:32.582468Z",
     "iopub.status.busy": "2023-09-01T06:52:32.582070Z",
     "iopub.status.idle": "2023-09-01T06:52:32.629652Z",
     "shell.execute_reply": "2023-09-01T06:52:32.628798Z"
    },
    "papermill": {
     "duration": 0.07487,
     "end_time": "2023-09-01T06:52:32.632006",
     "exception": false,
     "start_time": "2023-09-01T06:52:32.557136",
     "status": "completed"
    },
    "tags": []
   },
   "outputs": [
    {
     "data": {
      "text/html": [
       "<div>\n",
       "<style scoped>\n",
       "    .dataframe tbody tr th:only-of-type {\n",
       "        vertical-align: middle;\n",
       "    }\n",
       "\n",
       "    .dataframe tbody tr th {\n",
       "        vertical-align: top;\n",
       "    }\n",
       "\n",
       "    .dataframe thead th {\n",
       "        text-align: right;\n",
       "    }\n",
       "</style>\n",
       "<table border=\"1\" class=\"dataframe\">\n",
       "  <thead>\n",
       "    <tr style=\"text-align: right;\">\n",
       "      <th></th>\n",
       "      <th>Age</th>\n",
       "      <th>RoomService</th>\n",
       "      <th>FoodCourt</th>\n",
       "      <th>ShoppingMall</th>\n",
       "      <th>Spa</th>\n",
       "      <th>VRDeck</th>\n",
       "      <th>TotalExp</th>\n",
       "      <th>PersonalExp</th>\n",
       "      <th>AddExp</th>\n",
       "    </tr>\n",
       "  </thead>\n",
       "  <tbody>\n",
       "    <tr>\n",
       "      <th>count</th>\n",
       "      <td>8514.000000</td>\n",
       "      <td>8512.000000</td>\n",
       "      <td>8510.000000</td>\n",
       "      <td>8485.000000</td>\n",
       "      <td>8510.000000</td>\n",
       "      <td>8505.000000</td>\n",
       "      <td>7785.000000</td>\n",
       "      <td>8331.000000</td>\n",
       "      <td>8125.000000</td>\n",
       "    </tr>\n",
       "    <tr>\n",
       "      <th>mean</th>\n",
       "      <td>28.827930</td>\n",
       "      <td>224.687617</td>\n",
       "      <td>458.077203</td>\n",
       "      <td>173.729169</td>\n",
       "      <td>311.138778</td>\n",
       "      <td>304.854791</td>\n",
       "      <td>1484.601541</td>\n",
       "      <td>684.178490</td>\n",
       "      <td>790.508431</td>\n",
       "    </tr>\n",
       "    <tr>\n",
       "      <th>std</th>\n",
       "      <td>14.489021</td>\n",
       "      <td>666.717663</td>\n",
       "      <td>1611.489240</td>\n",
       "      <td>604.696458</td>\n",
       "      <td>1136.705535</td>\n",
       "      <td>1145.717189</td>\n",
       "      <td>2845.288241</td>\n",
       "      <td>1729.372416</td>\n",
       "      <td>1830.832005</td>\n",
       "    </tr>\n",
       "    <tr>\n",
       "      <th>min</th>\n",
       "      <td>0.000000</td>\n",
       "      <td>0.000000</td>\n",
       "      <td>0.000000</td>\n",
       "      <td>0.000000</td>\n",
       "      <td>0.000000</td>\n",
       "      <td>0.000000</td>\n",
       "      <td>0.000000</td>\n",
       "      <td>0.000000</td>\n",
       "      <td>0.000000</td>\n",
       "    </tr>\n",
       "    <tr>\n",
       "      <th>25%</th>\n",
       "      <td>19.000000</td>\n",
       "      <td>0.000000</td>\n",
       "      <td>0.000000</td>\n",
       "      <td>0.000000</td>\n",
       "      <td>0.000000</td>\n",
       "      <td>0.000000</td>\n",
       "      <td>0.000000</td>\n",
       "      <td>0.000000</td>\n",
       "      <td>0.000000</td>\n",
       "    </tr>\n",
       "    <tr>\n",
       "      <th>50%</th>\n",
       "      <td>27.000000</td>\n",
       "      <td>0.000000</td>\n",
       "      <td>0.000000</td>\n",
       "      <td>0.000000</td>\n",
       "      <td>0.000000</td>\n",
       "      <td>0.000000</td>\n",
       "      <td>736.000000</td>\n",
       "      <td>4.000000</td>\n",
       "      <td>53.000000</td>\n",
       "    </tr>\n",
       "    <tr>\n",
       "      <th>75%</th>\n",
       "      <td>38.000000</td>\n",
       "      <td>47.000000</td>\n",
       "      <td>76.000000</td>\n",
       "      <td>27.000000</td>\n",
       "      <td>59.000000</td>\n",
       "      <td>46.000000</td>\n",
       "      <td>1486.000000</td>\n",
       "      <td>701.000000</td>\n",
       "      <td>798.000000</td>\n",
       "    </tr>\n",
       "    <tr>\n",
       "      <th>max</th>\n",
       "      <td>79.000000</td>\n",
       "      <td>14327.000000</td>\n",
       "      <td>29813.000000</td>\n",
       "      <td>23492.000000</td>\n",
       "      <td>22408.000000</td>\n",
       "      <td>24133.000000</td>\n",
       "      <td>35987.000000</td>\n",
       "      <td>29813.000000</td>\n",
       "      <td>28600.000000</td>\n",
       "    </tr>\n",
       "  </tbody>\n",
       "</table>\n",
       "</div>"
      ],
      "text/plain": [
       "               Age   RoomService     FoodCourt  ShoppingMall           Spa  \\\n",
       "count  8514.000000   8512.000000   8510.000000   8485.000000   8510.000000   \n",
       "mean     28.827930    224.687617    458.077203    173.729169    311.138778   \n",
       "std      14.489021    666.717663   1611.489240    604.696458   1136.705535   \n",
       "min       0.000000      0.000000      0.000000      0.000000      0.000000   \n",
       "25%      19.000000      0.000000      0.000000      0.000000      0.000000   \n",
       "50%      27.000000      0.000000      0.000000      0.000000      0.000000   \n",
       "75%      38.000000     47.000000     76.000000     27.000000     59.000000   \n",
       "max      79.000000  14327.000000  29813.000000  23492.000000  22408.000000   \n",
       "\n",
       "             VRDeck      TotalExp   PersonalExp        AddExp  \n",
       "count   8505.000000   7785.000000   8331.000000   8125.000000  \n",
       "mean     304.854791   1484.601541    684.178490    790.508431  \n",
       "std     1145.717189   2845.288241   1729.372416   1830.832005  \n",
       "min        0.000000      0.000000      0.000000      0.000000  \n",
       "25%        0.000000      0.000000      0.000000      0.000000  \n",
       "50%        0.000000    736.000000      4.000000     53.000000  \n",
       "75%       46.000000   1486.000000    701.000000    798.000000  \n",
       "max    24133.000000  35987.000000  29813.000000  28600.000000  "
      ]
     },
     "execution_count": 5,
     "metadata": {},
     "output_type": "execute_result"
    }
   ],
   "source": [
    "# Statistical Parameters of the Dataset\n",
    "spaceship.describe()"
   ]
  },
  {
   "cell_type": "markdown",
   "id": "0e0b8d5d",
   "metadata": {
    "papermill": {
     "duration": 0.023531,
     "end_time": "2023-09-01T06:52:32.679605",
     "exception": false,
     "start_time": "2023-09-01T06:52:32.656074",
     "status": "completed"
    },
    "tags": []
   },
   "source": [
    "**`Viewing the Distribution of the Dataset`**"
   ]
  },
  {
   "cell_type": "code",
   "execution_count": 6,
   "id": "a1acb631",
   "metadata": {
    "execution": {
     "iopub.execute_input": "2023-09-01T06:52:32.729222Z",
     "iopub.status.busy": "2023-09-01T06:52:32.728494Z",
     "iopub.status.idle": "2023-09-01T06:52:36.147736Z",
     "shell.execute_reply": "2023-09-01T06:52:36.146862Z"
    },
    "papermill": {
     "duration": 3.447093,
     "end_time": "2023-09-01T06:52:36.150480",
     "exception": false,
     "start_time": "2023-09-01T06:52:32.703387",
     "status": "completed"
    },
    "tags": []
   },
   "outputs": [
    {
     "data": {
      "text/plain": [
       "array([[<Axes: title={'center': 'Age'}>,\n",
       "        <Axes: title={'center': 'RoomService'}>,\n",
       "        <Axes: title={'center': 'FoodCourt'}>],\n",
       "       [<Axes: title={'center': 'ShoppingMall'}>,\n",
       "        <Axes: title={'center': 'Spa'}>,\n",
       "        <Axes: title={'center': 'VRDeck'}>],\n",
       "       [<Axes: title={'center': 'TotalExp'}>,\n",
       "        <Axes: title={'center': 'PersonalExp'}>,\n",
       "        <Axes: title={'center': 'AddExp'}>]], dtype=object)"
      ]
     },
     "execution_count": 6,
     "metadata": {},
     "output_type": "execute_result"
    },
    {
     "data": {
      "image/png": "[encoded data removed]",
      "text/plain": [
       "<Figure size 2000x1500 with 9 Axes>"
      ]
     },
     "metadata": {},
     "output_type": "display_data"
    }
   ],
   "source": [
    "spaceship.hist(figsize=(20, 15), bins=50)"
   ]
  },
  {
   "cell_type": "markdown",
   "id": "2e749c0f",
   "metadata": {
    "papermill": {
     "duration": 0.025945,
     "end_time": "2023-09-01T06:52:36.202661",
     "exception": false,
     "start_time": "2023-09-01T06:52:36.176716",
     "status": "completed"
    },
    "tags": []
   },
   "source": [
    "**`Calculating the Correlation Coefficient`**"
   ]
  },
  {
   "cell_type": "code",
   "execution_count": 7,
   "id": "f0bde917",
   "metadata": {
    "execution": {
     "iopub.execute_input": "2023-09-01T06:52:36.257588Z",
     "iopub.status.busy": "2023-09-01T06:52:36.256836Z",
     "iopub.status.idle": "2023-09-01T06:52:36.274565Z",
     "shell.execute_reply": "2023-09-01T06:52:36.273486Z"
    },
    "papermill": {
     "duration": 0.048321,
     "end_time": "2023-09-01T06:52:36.276942",
     "exception": false,
     "start_time": "2023-09-01T06:52:36.228621",
     "status": "completed"
    },
    "tags": []
   },
   "outputs": [
    {
     "data": {
      "text/plain": [
       "Transported     1.000000\n",
       "FoodCourt       0.046566\n",
       "ShoppingMall    0.010141\n",
       "PersonalExp    -0.049521\n",
       "Age            -0.075026\n",
       "TotalExp       -0.197671\n",
       "VRDeck         -0.207075\n",
       "Spa            -0.221131\n",
       "RoomService    -0.244611\n",
       "AddExp         -0.262029\n",
       "Name: Transported, dtype: float64"
      ]
     },
     "execution_count": 7,
     "metadata": {},
     "output_type": "execute_result"
    }
   ],
   "source": [
    "corr_matrix = spaceship[[\"Age\", \"RoomService\", \"Spa\", \"ShoppingMall\", \"PersonalExp\",\n",
    "                         \"FoodCourt\", \"VRDeck\", \"TotalExp\", \"AddExp\", \"Transported\"]].corr()\n",
    "corr_matrix[\"Transported\"].sort_values(ascending=False)"
   ]
  },
  {
   "cell_type": "markdown",
   "id": "10ca358b",
   "metadata": {
    "papermill": {
     "duration": 0.025338,
     "end_time": "2023-09-01T06:52:36.328288",
     "exception": false,
     "start_time": "2023-09-01T06:52:36.302950",
     "status": "completed"
    },
    "tags": []
   },
   "source": [
    "**`Inference`**\n",
    "\n",
    "- `Food Court` has a `High Positive Correlation` with the target attribute.\n",
    "    - ⬆️ Food Court bill = ⬆️ chance of successful Transport\n",
    "    \n",
    "\n",
    "- `Shopping Mall` has a `Small Positive Correlation` with the target attribute.\n",
    "    - ⬆️ Shopping Mall bill = ⬆️ chance of successful Transport\n",
    "    \n",
    "    \n",
    "- `Age` has a `Small Negative Correlation` hence an inverse relationship with the target attribute.\n",
    "    - ⬇️ Age (Middle Aged) = ⬆️ chance of successful Transport\n",
    "    \n",
    "\n",
    "- `Total Expense` has a `Large Negative Correlation` hence an inverse relationship with the target attribute.\n",
    "    - ⬇️ Total Expense = ⬆️ chance of successful Transport\n",
    "    \n",
    "    \n",
    "- `Room Service` has a `Large Negative Correlation` hence an inverse relationship with the target attribute.\n",
    "    - ⬇️ Room Service charge = ⬆️ chance of successful Transport\n",
    "    \n",
    "    \n",
    "- `Additional Expense (AddExp)` has a `Large Negative Correlation` hence an inverse relationship with the target attribute.\n",
    "    - ⬇️ Additional Expense = ⬆️ chance of successful Transport"
   ]
  },
  {
   "cell_type": "markdown",
   "id": "4282be8c",
   "metadata": {
    "papermill": {
     "duration": 0.025589,
     "end_time": "2023-09-01T06:52:36.380734",
     "exception": false,
     "start_time": "2023-09-01T06:52:36.355145",
     "status": "completed"
    },
    "tags": []
   },
   "source": [
    "## Visualising the Correlations using Data Visualisation"
   ]
  },
  {
   "cell_type": "code",
   "execution_count": 8,
   "id": "e9bb4113",
   "metadata": {
    "execution": {
     "iopub.execute_input": "2023-09-01T06:52:36.435691Z",
     "iopub.status.busy": "2023-09-01T06:52:36.434961Z",
     "iopub.status.idle": "2023-09-01T06:52:36.460639Z",
     "shell.execute_reply": "2023-09-01T06:52:36.459499Z"
    },
    "papermill": {
     "duration": 0.056241,
     "end_time": "2023-09-01T06:52:36.463181",
     "exception": false,
     "start_time": "2023-09-01T06:52:36.406940",
     "status": "completed"
    },
    "tags": []
   },
   "outputs": [
    {
     "data": {
      "text/html": [
       "<div>\n",
       "<style scoped>\n",
       "    .dataframe tbody tr th:only-of-type {\n",
       "        vertical-align: middle;\n",
       "    }\n",
       "\n",
       "    .dataframe tbody tr th {\n",
       "        vertical-align: top;\n",
       "    }\n",
       "\n",
       "    .dataframe thead th {\n",
       "        text-align: right;\n",
       "    }\n",
       "</style>\n",
       "<table border=\"1\" class=\"dataframe\">\n",
       "  <thead>\n",
       "    <tr style=\"text-align: right;\">\n",
       "      <th></th>\n",
       "      <th>PassengerId</th>\n",
       "      <th>HomePlanet</th>\n",
       "      <th>CryoSleep</th>\n",
       "      <th>Cabin</th>\n",
       "      <th>Destination</th>\n",
       "      <th>Age</th>\n",
       "      <th>VIP</th>\n",
       "      <th>RoomService</th>\n",
       "      <th>FoodCourt</th>\n",
       "      <th>ShoppingMall</th>\n",
       "      <th>Spa</th>\n",
       "      <th>VRDeck</th>\n",
       "      <th>Name</th>\n",
       "      <th>Transported</th>\n",
       "      <th>TotalExp</th>\n",
       "      <th>PersonalExp</th>\n",
       "      <th>AddExp</th>\n",
       "    </tr>\n",
       "  </thead>\n",
       "  <tbody>\n",
       "    <tr>\n",
       "      <th>0</th>\n",
       "      <td>0001_01</td>\n",
       "      <td>Europa</td>\n",
       "      <td>False</td>\n",
       "      <td>B/0/P</td>\n",
       "      <td>TRAPPIST-1e</td>\n",
       "      <td>39.0</td>\n",
       "      <td>False</td>\n",
       "      <td>0.0</td>\n",
       "      <td>0.0</td>\n",
       "      <td>0.0</td>\n",
       "      <td>0.0</td>\n",
       "      <td>0.0</td>\n",
       "      <td>Maham Ofracculy</td>\n",
       "      <td>False</td>\n",
       "      <td>0.0</td>\n",
       "      <td>0.0</td>\n",
       "      <td>0.0</td>\n",
       "    </tr>\n",
       "    <tr>\n",
       "      <th>1</th>\n",
       "      <td>0002_01</td>\n",
       "      <td>Earth</td>\n",
       "      <td>False</td>\n",
       "      <td>F/0/S</td>\n",
       "      <td>TRAPPIST-1e</td>\n",
       "      <td>24.0</td>\n",
       "      <td>False</td>\n",
       "      <td>109.0</td>\n",
       "      <td>9.0</td>\n",
       "      <td>25.0</td>\n",
       "      <td>549.0</td>\n",
       "      <td>44.0</td>\n",
       "      <td>Juanna Vines</td>\n",
       "      <td>True</td>\n",
       "      <td>736.0</td>\n",
       "      <td>118.0</td>\n",
       "      <td>618.0</td>\n",
       "    </tr>\n",
       "    <tr>\n",
       "      <th>2</th>\n",
       "      <td>0003_01</td>\n",
       "      <td>Europa</td>\n",
       "      <td>False</td>\n",
       "      <td>A/0/S</td>\n",
       "      <td>TRAPPIST-1e</td>\n",
       "      <td>58.0</td>\n",
       "      <td>True</td>\n",
       "      <td>43.0</td>\n",
       "      <td>3576.0</td>\n",
       "      <td>0.0</td>\n",
       "      <td>6715.0</td>\n",
       "      <td>49.0</td>\n",
       "      <td>Altark Susent</td>\n",
       "      <td>False</td>\n",
       "      <td>10383.0</td>\n",
       "      <td>3619.0</td>\n",
       "      <td>6764.0</td>\n",
       "    </tr>\n",
       "    <tr>\n",
       "      <th>3</th>\n",
       "      <td>0003_02</td>\n",
       "      <td>Europa</td>\n",
       "      <td>False</td>\n",
       "      <td>A/0/S</td>\n",
       "      <td>TRAPPIST-1e</td>\n",
       "      <td>33.0</td>\n",
       "      <td>False</td>\n",
       "      <td>0.0</td>\n",
       "      <td>1283.0</td>\n",
       "      <td>371.0</td>\n",
       "      <td>3329.0</td>\n",
       "      <td>193.0</td>\n",
       "      <td>Solam Susent</td>\n",
       "      <td>False</td>\n",
       "      <td>5176.0</td>\n",
       "      <td>1283.0</td>\n",
       "      <td>3893.0</td>\n",
       "    </tr>\n",
       "    <tr>\n",
       "      <th>4</th>\n",
       "      <td>0004_01</td>\n",
       "      <td>Earth</td>\n",
       "      <td>False</td>\n",
       "      <td>F/1/S</td>\n",
       "      <td>TRAPPIST-1e</td>\n",
       "      <td>16.0</td>\n",
       "      <td>False</td>\n",
       "      <td>303.0</td>\n",
       "      <td>70.0</td>\n",
       "      <td>151.0</td>\n",
       "      <td>565.0</td>\n",
       "      <td>2.0</td>\n",
       "      <td>Willy Santantines</td>\n",
       "      <td>True</td>\n",
       "      <td>1091.0</td>\n",
       "      <td>373.0</td>\n",
       "      <td>718.0</td>\n",
       "    </tr>\n",
       "  </tbody>\n",
       "</table>\n",
       "</div>"
      ],
      "text/plain": [
       "  PassengerId HomePlanet CryoSleep  Cabin  Destination   Age    VIP  \\\n",
       "0     0001_01     Europa     False  B/0/P  TRAPPIST-1e  39.0  False   \n",
       "1     0002_01      Earth     False  F/0/S  TRAPPIST-1e  24.0  False   \n",
       "2     0003_01     Europa     False  A/0/S  TRAPPIST-1e  58.0   True   \n",
       "3     0003_02     Europa     False  A/0/S  TRAPPIST-1e  33.0  False   \n",
       "4     0004_01      Earth     False  F/1/S  TRAPPIST-1e  16.0  False   \n",
       "\n",
       "   RoomService  FoodCourt  ShoppingMall     Spa  VRDeck               Name  \\\n",
       "0          0.0        0.0           0.0     0.0     0.0    Maham Ofracculy   \n",
       "1        109.0        9.0          25.0   549.0    44.0       Juanna Vines   \n",
       "2         43.0     3576.0           0.0  6715.0    49.0      Altark Susent   \n",
       "3          0.0     1283.0         371.0  3329.0   193.0       Solam Susent   \n",
       "4        303.0       70.0         151.0   565.0     2.0  Willy Santantines   \n",
       "\n",
       "   Transported  TotalExp  PersonalExp  AddExp  \n",
       "0        False       0.0          0.0     0.0  \n",
       "1         True     736.0        118.0   618.0  \n",
       "2        False   10383.0       3619.0  6764.0  \n",
       "3        False    5176.0       1283.0  3893.0  \n",
       "4         True    1091.0        373.0   718.0  "
      ]
     },
     "execution_count": 8,
     "metadata": {},
     "output_type": "execute_result"
    }
   ],
   "source": [
    "spaceship.head()"
   ]
  },
  {
   "cell_type": "code",
   "execution_count": 9,
   "id": "78df210f",
   "metadata": {
    "execution": {
     "iopub.execute_input": "2023-09-01T06:52:36.518068Z",
     "iopub.status.busy": "2023-09-01T06:52:36.517629Z",
     "iopub.status.idle": "2023-09-01T06:52:36.822127Z",
     "shell.execute_reply": "2023-09-01T06:52:36.820942Z"
    },
    "papermill": {
     "duration": 0.334338,
     "end_time": "2023-09-01T06:52:36.824471",
     "exception": false,
     "start_time": "2023-09-01T06:52:36.490133",
     "status": "completed"
    },
    "tags": []
   },
   "outputs": [
    {
     "data": {
      "text/plain": [
       "<Axes: xlabel='HomePlanet', ylabel='count'>"
      ]
     },
     "execution_count": 9,
     "metadata": {},
     "output_type": "execute_result"
    },
    {
     "data": {
      "image/png": "[encoded data removed]",
      "text/plain": [
       "<Figure size 640x480 with 1 Axes>"
      ]
     },
     "metadata": {},
     "output_type": "display_data"
    }
   ],
   "source": [
    "sns.countplot(spaceship, x=\"HomePlanet\", hue=\"Transported\")"
   ]
  },
  {
   "cell_type": "markdown",
   "id": "35e2c78d",
   "metadata": {
    "papermill": {
     "duration": 0.026309,
     "end_time": "2023-09-01T06:52:36.876968",
     "exception": false,
     "start_time": "2023-09-01T06:52:36.850659",
     "status": "completed"
    },
    "tags": []
   },
   "source": [
    "**`Inference`**\n",
    "\n",
    "- Most people who chose the transport service are from Earth but majority of the passengers couldnt be transported to their destination.\n",
    "- Most `successful transportation` was from `Europa` as the majority reached their destination."
   ]
  },
  {
   "cell_type": "code",
   "execution_count": 10,
   "id": "9d2d78d0",
   "metadata": {
    "execution": {
     "iopub.execute_input": "2023-09-01T06:52:36.931683Z",
     "iopub.status.busy": "2023-09-01T06:52:36.931210Z",
     "iopub.status.idle": "2023-09-01T06:52:37.247222Z",
     "shell.execute_reply": "2023-09-01T06:52:37.246027Z"
    },
    "papermill": {
     "duration": 0.345847,
     "end_time": "2023-09-01T06:52:37.249734",
     "exception": false,
     "start_time": "2023-09-01T06:52:36.903887",
     "status": "completed"
    },
    "tags": []
   },
   "outputs": [
    {
     "data": {
      "text/plain": [
       "<Axes: xlabel='Destination', ylabel='count'>"
      ]
     },
     "execution_count": 10,
     "metadata": {},
     "output_type": "execute_result"
    },
    {
     "data": {
      "image/png": "[encoded data removed]",
      "text/plain": [
       "<Figure size 640x480 with 1 Axes>"
      ]
     },
     "metadata": {},
     "output_type": "display_data"
    }
   ],
   "source": [
    "sns.countplot(spaceship, x=\"Destination\", hue=\"Transported\")"
   ]
  },
  {
   "cell_type": "markdown",
   "id": "d9fa3330",
   "metadata": {
    "papermill": {
     "duration": 0.027427,
     "end_time": "2023-09-01T06:52:37.305920",
     "exception": false,
     "start_time": "2023-09-01T06:52:37.278493",
     "status": "completed"
    },
    "tags": []
   },
   "source": [
    "**`Inference`**\n",
    "\n",
    "- Most successfull transport destination was `55 Cancri e`\n",
    "- Most of the passengers were transported to `Trappist - 1e`"
   ]
  },
  {
   "cell_type": "code",
   "execution_count": 11,
   "id": "78df8ffb",
   "metadata": {
    "execution": {
     "iopub.execute_input": "2023-09-01T06:52:37.362689Z",
     "iopub.status.busy": "2023-09-01T06:52:37.362284Z",
     "iopub.status.idle": "2023-09-01T06:52:45.122828Z",
     "shell.execute_reply": "2023-09-01T06:52:45.121706Z"
    },
    "papermill": {
     "duration": 7.791853,
     "end_time": "2023-09-01T06:52:45.125300",
     "exception": false,
     "start_time": "2023-09-01T06:52:37.333447",
     "status": "completed"
    },
    "tags": []
   },
   "outputs": [
    {
     "data": {
      "text/plain": [
       "<Axes: xlabel='FoodCourt', ylabel='AddExp'>"
      ]
     },
     "execution_count": 11,
     "metadata": {},
     "output_type": "execute_result"
    },
    {
     "data": {
      "image/png": "[encoded data removed]",
      "text/plain": [
       "<Figure size 640x480 with 1 Axes>"
      ]
     },
     "metadata": {},
     "output_type": "display_data"
    }
   ],
   "source": [
    "sns.kdeplot(spaceship, x=\"FoodCourt\", y=\"AddExp\", hue=\"Transported\")"
   ]
  },
  {
   "cell_type": "markdown",
   "id": "58f327fa",
   "metadata": {
    "papermill": {
     "duration": 0.028277,
     "end_time": "2023-09-01T06:52:45.181545",
     "exception": false,
     "start_time": "2023-09-01T06:52:45.153268",
     "status": "completed"
    },
    "tags": []
   },
   "source": [
    "**`Inference`**\n",
    "\n",
    "- Most of the passenger who were transported successfully have High Food Court bill `Linear Relation`\n",
    "- Most of the passenger who werent transported have High Additional Expense bill `Inverse Relation`\n",
    "- **`Inline with the Correlation`**"
   ]
  },
  {
   "cell_type": "code",
   "execution_count": 12,
   "id": "9848194b",
   "metadata": {
    "execution": {
     "iopub.execute_input": "2023-09-01T06:52:45.240788Z",
     "iopub.status.busy": "2023-09-01T06:52:45.240042Z",
     "iopub.status.idle": "2023-09-01T06:52:45.557916Z",
     "shell.execute_reply": "2023-09-01T06:52:45.556809Z"
    },
    "papermill": {
     "duration": 0.350033,
     "end_time": "2023-09-01T06:52:45.560136",
     "exception": false,
     "start_time": "2023-09-01T06:52:45.210103",
     "status": "completed"
    },
    "tags": []
   },
   "outputs": [
    {
     "data": {
      "text/plain": [
       "<Axes: xlabel='VIP', ylabel='count'>"
      ]
     },
     "execution_count": 12,
     "metadata": {},
     "output_type": "execute_result"
    },
    {
     "data": {
      "image/png": "[encoded data removed]",
      "text/plain": [
       "<Figure size 640x480 with 1 Axes>"
      ]
     },
     "metadata": {},
     "output_type": "display_data"
    }
   ],
   "source": [
    "sns.countplot(spaceship, x=\"VIP\", hue=\"Transported\")"
   ]
  },
  {
   "cell_type": "markdown",
   "id": "0d12db8d",
   "metadata": {
    "papermill": {
     "duration": 0.02895,
     "end_time": "2023-09-01T06:52:45.618324",
     "exception": false,
     "start_time": "2023-09-01T06:52:45.589374",
     "status": "completed"
    },
    "tags": []
   },
   "source": [
    "**`Inference`**\n",
    "\n",
    "- VIP's are only a small percent of the traveller onboard.\n",
    "- Most `VIP's werent transported` to their destination."
   ]
  },
  {
   "cell_type": "code",
   "execution_count": 13,
   "id": "037e1d9f",
   "metadata": {
    "execution": {
     "iopub.execute_input": "2023-09-01T06:52:45.678865Z",
     "iopub.status.busy": "2023-09-01T06:52:45.677908Z",
     "iopub.status.idle": "2023-09-01T06:52:51.132331Z",
     "shell.execute_reply": "2023-09-01T06:52:51.131107Z"
    },
    "papermill": {
     "duration": 5.487151,
     "end_time": "2023-09-01T06:52:51.134848",
     "exception": false,
     "start_time": "2023-09-01T06:52:45.647697",
     "status": "completed"
    },
    "tags": []
   },
   "outputs": [
    {
     "data": {
      "text/plain": [
       "<Axes: xlabel='Age', ylabel='TotalExp'>"
      ]
     },
     "execution_count": 13,
     "metadata": {},
     "output_type": "execute_result"
    },
    {
     "data": {
      "image/png": "[encoded data removed]",
      "text/plain": [
       "<Figure size 640x480 with 1 Axes>"
      ]
     },
     "metadata": {},
     "output_type": "display_data"
    }
   ],
   "source": [
    "sns.lineplot(spaceship, x=\"Age\", y=\"TotalExp\", hue=\"Transported\")"
   ]
  },
  {
   "cell_type": "markdown",
   "id": "70714df0",
   "metadata": {
    "papermill": {
     "duration": 0.030208,
     "end_time": "2023-09-01T06:52:51.195597",
     "exception": false,
     "start_time": "2023-09-01T06:52:51.165389",
     "status": "completed"
    },
    "tags": []
   },
   "source": [
    "**`Inference`**\n",
    "\n",
    "- Most of the passenger who were transported have `low Total Expense`\n",
    "- Most of the passenger who were transported have `spent less` than their `compatriots in the same age group`\n",
    "- **`Inline with the Correaltion`**"
   ]
  },
  {
   "cell_type": "markdown",
   "id": "10aee89e",
   "metadata": {
    "papermill": {
     "duration": 0.029896,
     "end_time": "2023-09-01T06:52:51.255915",
     "exception": false,
     "start_time": "2023-09-01T06:52:51.226019",
     "status": "completed"
    },
    "tags": []
   },
   "source": [
    "**`Important`**\n",
    "\n",
    "- There are insights that can be derived from the dataset.\n",
    "- I have limited myself to the correlation coefficient calculations."
   ]
  },
  {
   "cell_type": "markdown",
   "id": "2655c5fe",
   "metadata": {
    "papermill": {
     "duration": 0.030233,
     "end_time": "2023-09-01T06:52:51.316251",
     "exception": false,
     "start_time": "2023-09-01T06:52:51.286018",
     "status": "completed"
    },
    "tags": []
   },
   "source": [
    "## Data Cleaning"
   ]
  },
  {
   "cell_type": "code",
   "execution_count": 14,
   "id": "a6df3e5d",
   "metadata": {
    "execution": {
     "iopub.execute_input": "2023-09-01T06:52:51.380064Z",
     "iopub.status.busy": "2023-09-01T06:52:51.379418Z",
     "iopub.status.idle": "2023-09-01T06:52:51.408633Z",
     "shell.execute_reply": "2023-09-01T06:52:51.407532Z"
    },
    "papermill": {
     "duration": 0.064119,
     "end_time": "2023-09-01T06:52:51.411071",
     "exception": false,
     "start_time": "2023-09-01T06:52:51.346952",
     "status": "completed"
    },
    "tags": []
   },
   "outputs": [
    {
     "data": {
      "text/plain": [
       "PassengerId       0\n",
       "HomePlanet      201\n",
       "CryoSleep       217\n",
       "Cabin           199\n",
       "Destination     182\n",
       "Age             179\n",
       "VIP             203\n",
       "RoomService     181\n",
       "FoodCourt       183\n",
       "ShoppingMall    208\n",
       "Spa             183\n",
       "VRDeck          188\n",
       "Name            200\n",
       "Transported       0\n",
       "TotalExp        908\n",
       "PersonalExp     362\n",
       "AddExp          568\n",
       "dtype: int64"
      ]
     },
     "execution_count": 14,
     "metadata": {},
     "output_type": "execute_result"
    }
   ],
   "source": [
    "# Checking for Unfilled Values\n",
    "spaceship.isnull().sum()"
   ]
  },
  {
   "cell_type": "code",
   "execution_count": 15,
   "id": "d4788089",
   "metadata": {
    "execution": {
     "iopub.execute_input": "2023-09-01T06:52:51.474474Z",
     "iopub.status.busy": "2023-09-01T06:52:51.474018Z",
     "iopub.status.idle": "2023-09-01T06:52:51.500745Z",
     "shell.execute_reply": "2023-09-01T06:52:51.499384Z"
    },
    "papermill": {
     "duration": 0.061073,
     "end_time": "2023-09-01T06:52:51.503009",
     "exception": false,
     "start_time": "2023-09-01T06:52:51.441936",
     "status": "completed"
    },
    "tags": []
   },
   "outputs": [
    {
     "data": {
      "text/html": [
       "<div>\n",
       "<style scoped>\n",
       "    .dataframe tbody tr th:only-of-type {\n",
       "        vertical-align: middle;\n",
       "    }\n",
       "\n",
       "    .dataframe tbody tr th {\n",
       "        vertical-align: top;\n",
       "    }\n",
       "\n",
       "    .dataframe thead th {\n",
       "        text-align: right;\n",
       "    }\n",
       "</style>\n",
       "<table border=\"1\" class=\"dataframe\">\n",
       "  <thead>\n",
       "    <tr style=\"text-align: right;\">\n",
       "      <th></th>\n",
       "      <th>HomePlanet</th>\n",
       "      <th>CryoSleep</th>\n",
       "      <th>Destination</th>\n",
       "      <th>Age</th>\n",
       "      <th>VIP</th>\n",
       "      <th>RoomService</th>\n",
       "      <th>FoodCourt</th>\n",
       "      <th>ShoppingMall</th>\n",
       "      <th>Spa</th>\n",
       "      <th>VRDeck</th>\n",
       "      <th>Transported</th>\n",
       "      <th>PersonalExp</th>\n",
       "      <th>AddExp</th>\n",
       "    </tr>\n",
       "  </thead>\n",
       "  <tbody>\n",
       "    <tr>\n",
       "      <th>0</th>\n",
       "      <td>Europa</td>\n",
       "      <td>False</td>\n",
       "      <td>TRAPPIST-1e</td>\n",
       "      <td>39.0</td>\n",
       "      <td>False</td>\n",
       "      <td>0.0</td>\n",
       "      <td>0.0</td>\n",
       "      <td>0.0</td>\n",
       "      <td>0.0</td>\n",
       "      <td>0.0</td>\n",
       "      <td>False</td>\n",
       "      <td>0.0</td>\n",
       "      <td>0.0</td>\n",
       "    </tr>\n",
       "    <tr>\n",
       "      <th>1</th>\n",
       "      <td>Earth</td>\n",
       "      <td>False</td>\n",
       "      <td>TRAPPIST-1e</td>\n",
       "      <td>24.0</td>\n",
       "      <td>False</td>\n",
       "      <td>109.0</td>\n",
       "      <td>9.0</td>\n",
       "      <td>25.0</td>\n",
       "      <td>549.0</td>\n",
       "      <td>44.0</td>\n",
       "      <td>True</td>\n",
       "      <td>118.0</td>\n",
       "      <td>618.0</td>\n",
       "    </tr>\n",
       "    <tr>\n",
       "      <th>2</th>\n",
       "      <td>Europa</td>\n",
       "      <td>False</td>\n",
       "      <td>TRAPPIST-1e</td>\n",
       "      <td>58.0</td>\n",
       "      <td>True</td>\n",
       "      <td>43.0</td>\n",
       "      <td>3576.0</td>\n",
       "      <td>0.0</td>\n",
       "      <td>6715.0</td>\n",
       "      <td>49.0</td>\n",
       "      <td>False</td>\n",
       "      <td>3619.0</td>\n",
       "      <td>6764.0</td>\n",
       "    </tr>\n",
       "    <tr>\n",
       "      <th>3</th>\n",
       "      <td>Europa</td>\n",
       "      <td>False</td>\n",
       "      <td>TRAPPIST-1e</td>\n",
       "      <td>33.0</td>\n",
       "      <td>False</td>\n",
       "      <td>0.0</td>\n",
       "      <td>1283.0</td>\n",
       "      <td>371.0</td>\n",
       "      <td>3329.0</td>\n",
       "      <td>193.0</td>\n",
       "      <td>False</td>\n",
       "      <td>1283.0</td>\n",
       "      <td>3893.0</td>\n",
       "    </tr>\n",
       "    <tr>\n",
       "      <th>4</th>\n",
       "      <td>Earth</td>\n",
       "      <td>False</td>\n",
       "      <td>TRAPPIST-1e</td>\n",
       "      <td>16.0</td>\n",
       "      <td>False</td>\n",
       "      <td>303.0</td>\n",
       "      <td>70.0</td>\n",
       "      <td>151.0</td>\n",
       "      <td>565.0</td>\n",
       "      <td>2.0</td>\n",
       "      <td>True</td>\n",
       "      <td>373.0</td>\n",
       "      <td>718.0</td>\n",
       "    </tr>\n",
       "  </tbody>\n",
       "</table>\n",
       "</div>"
      ],
      "text/plain": [
       "  HomePlanet CryoSleep  Destination   Age    VIP  RoomService  FoodCourt  \\\n",
       "0     Europa     False  TRAPPIST-1e  39.0  False          0.0        0.0   \n",
       "1      Earth     False  TRAPPIST-1e  24.0  False        109.0        9.0   \n",
       "2     Europa     False  TRAPPIST-1e  58.0   True         43.0     3576.0   \n",
       "3     Europa     False  TRAPPIST-1e  33.0  False          0.0     1283.0   \n",
       "4      Earth     False  TRAPPIST-1e  16.0  False        303.0       70.0   \n",
       "\n",
       "   ShoppingMall     Spa  VRDeck  Transported  PersonalExp  AddExp  \n",
       "0           0.0     0.0     0.0        False          0.0     0.0  \n",
       "1          25.0   549.0    44.0         True        118.0   618.0  \n",
       "2           0.0  6715.0    49.0        False       3619.0  6764.0  \n",
       "3         371.0  3329.0   193.0        False       1283.0  3893.0  \n",
       "4         151.0   565.0     2.0         True        373.0   718.0  "
      ]
     },
     "execution_count": 15,
     "metadata": {},
     "output_type": "execute_result"
    }
   ],
   "source": [
    "# Removing unnecessary columns\n",
    "spaceship.drop([\"PassengerId\", \"Cabin\", \"Name\", \"TotalExp\"], axis=1, inplace=True)\n",
    "spaceship.head()"
   ]
  },
  {
   "cell_type": "code",
   "execution_count": 16,
   "id": "5995d50e",
   "metadata": {
    "execution": {
     "iopub.execute_input": "2023-09-01T06:52:51.567590Z",
     "iopub.status.busy": "2023-09-01T06:52:51.567179Z",
     "iopub.status.idle": "2023-09-01T06:52:51.576098Z",
     "shell.execute_reply": "2023-09-01T06:52:51.574915Z"
    },
    "papermill": {
     "duration": 0.043442,
     "end_time": "2023-09-01T06:52:51.578245",
     "exception": false,
     "start_time": "2023-09-01T06:52:51.534803",
     "status": "completed"
    },
    "tags": []
   },
   "outputs": [
    {
     "data": {
      "text/plain": [
       "0    False\n",
       "1     True\n",
       "2    False\n",
       "3    False\n",
       "4     True\n",
       "Name: Transported, dtype: bool"
      ]
     },
     "execution_count": 16,
     "metadata": {},
     "output_type": "execute_result"
    }
   ],
   "source": [
    "# Seperating the Targets\n",
    "spaceship_labels = spaceship[\"Transported\"]\n",
    "spaceship_labels[:5]"
   ]
  },
  {
   "cell_type": "code",
   "execution_count": 17,
   "id": "01a080a0",
   "metadata": {
    "execution": {
     "iopub.execute_input": "2023-09-01T06:52:51.642601Z",
     "iopub.status.busy": "2023-09-01T06:52:51.642175Z",
     "iopub.status.idle": "2023-09-01T06:52:51.650606Z",
     "shell.execute_reply": "2023-09-01T06:52:51.649497Z"
    },
    "papermill": {
     "duration": 0.043165,
     "end_time": "2023-09-01T06:52:51.652732",
     "exception": false,
     "start_time": "2023-09-01T06:52:51.609567",
     "status": "completed"
    },
    "tags": []
   },
   "outputs": [],
   "source": [
    "# Splitting the Categorical and Numerical attributes\n",
    "cat_attr = [\"HomePlanet\", \"CryoSleep\", \"Destination\", \"VIP\"]\n",
    "num_attr = [\"Age\", \"RoomService\", \"FoodCourt\", \"ShoppingMall\", \"Spa\", \"VRDeck\", \"AddExp\", \"PersonalExp\"]\n",
    "spaceship_cat = spaceship[cat_attr]\n",
    "spaceship_num = spaceship[num_attr]"
   ]
  },
  {
   "cell_type": "markdown",
   "id": "43ca9bd2",
   "metadata": {
    "papermill": {
     "duration": 0.030308,
     "end_time": "2023-09-01T06:52:51.714004",
     "exception": false,
     "start_time": "2023-09-01T06:52:51.683696",
     "status": "completed"
    },
    "tags": []
   },
   "source": [
    "## Working with the Numerical Attributes"
   ]
  },
  {
   "cell_type": "markdown",
   "id": "f1b34c29",
   "metadata": {
    "papermill": {
     "duration": 0.030402,
     "end_time": "2023-09-01T06:52:51.774689",
     "exception": false,
     "start_time": "2023-09-01T06:52:51.744287",
     "status": "completed"
    },
    "tags": []
   },
   "source": [
    "**`Imputing the Missing Values in the Numerical Attributes`**"
   ]
  },
  {
   "cell_type": "code",
   "execution_count": 18,
   "id": "78397ec7",
   "metadata": {
    "execution": {
     "iopub.execute_input": "2023-09-01T06:52:51.838127Z",
     "iopub.status.busy": "2023-09-01T06:52:51.837699Z",
     "iopub.status.idle": "2023-09-01T06:52:51.857480Z",
     "shell.execute_reply": "2023-09-01T06:52:51.856198Z"
    },
    "papermill": {
     "duration": 0.054444,
     "end_time": "2023-09-01T06:52:51.860064",
     "exception": false,
     "start_time": "2023-09-01T06:52:51.805620",
     "status": "completed"
    },
    "tags": []
   },
   "outputs": [
    {
     "name": "stdout",
     "output_type": "stream",
     "text": [
      "<class 'pandas.core.frame.DataFrame'>\n",
      "RangeIndex: 8693 entries, 0 to 8692\n",
      "Data columns (total 8 columns):\n",
      " #   Column        Non-Null Count  Dtype  \n",
      "---  ------        --------------  -----  \n",
      " 0   Age           8693 non-null   float64\n",
      " 1   RoomService   8693 non-null   float64\n",
      " 2   FoodCourt     8693 non-null   float64\n",
      " 3   ShoppingMall  8693 non-null   float64\n",
      " 4   Spa           8693 non-null   float64\n",
      " 5   VRDeck        8693 non-null   float64\n",
      " 6   AddExp        8693 non-null   float64\n",
      " 7   PersonalExp   8693 non-null   float64\n",
      "dtypes: float64(8)\n",
      "memory usage: 543.4 KB\n"
     ]
    }
   ],
   "source": [
    "# Initialising the Imputer\n",
    "mean_imputer = SimpleImputer(strategy=\"mean\")\n",
    "\n",
    "# Training and Transforming the Numerical Columns\n",
    "num_imputed = mean_imputer.fit_transform(spaceship_num)\n",
    "\n",
    "# Recreating the Dataframe\n",
    "spaceship_num_imputed = pd.DataFrame(num_imputed, index=spaceship_num.index, columns=spaceship_num.columns)\n",
    "spaceship_num_imputed.info()"
   ]
  },
  {
   "cell_type": "markdown",
   "id": "0023e292",
   "metadata": {
    "papermill": {
     "duration": 0.031387,
     "end_time": "2023-09-01T06:52:51.923002",
     "exception": false,
     "start_time": "2023-09-01T06:52:51.891615",
     "status": "completed"
    },
    "tags": []
   },
   "source": [
    "**`Scaling the Values to be within a Standard Range`**"
   ]
  },
  {
   "cell_type": "code",
   "execution_count": 19,
   "id": "f818c22b",
   "metadata": {
    "execution": {
     "iopub.execute_input": "2023-09-01T06:52:51.987527Z",
     "iopub.status.busy": "2023-09-01T06:52:51.987128Z",
     "iopub.status.idle": "2023-09-01T06:52:52.036762Z",
     "shell.execute_reply": "2023-09-01T06:52:52.035553Z"
    },
    "papermill": {
     "duration": 0.084789,
     "end_time": "2023-09-01T06:52:52.039211",
     "exception": false,
     "start_time": "2023-09-01T06:52:51.954422",
     "status": "completed"
    },
    "tags": []
   },
   "outputs": [
    {
     "data": {
      "text/html": [
       "<div>\n",
       "<style scoped>\n",
       "    .dataframe tbody tr th:only-of-type {\n",
       "        vertical-align: middle;\n",
       "    }\n",
       "\n",
       "    .dataframe tbody tr th {\n",
       "        vertical-align: top;\n",
       "    }\n",
       "\n",
       "    .dataframe thead th {\n",
       "        text-align: right;\n",
       "    }\n",
       "</style>\n",
       "<table border=\"1\" class=\"dataframe\">\n",
       "  <thead>\n",
       "    <tr style=\"text-align: right;\">\n",
       "      <th></th>\n",
       "      <th>Age</th>\n",
       "      <th>RoomService</th>\n",
       "      <th>FoodCourt</th>\n",
       "      <th>ShoppingMall</th>\n",
       "      <th>Spa</th>\n",
       "      <th>VRDeck</th>\n",
       "      <th>AddExp</th>\n",
       "      <th>PersonalExp</th>\n",
       "    </tr>\n",
       "  </thead>\n",
       "  <tbody>\n",
       "    <tr>\n",
       "      <th>count</th>\n",
       "      <td>8.693000e+03</td>\n",
       "      <td>8.693000e+03</td>\n",
       "      <td>8.693000e+03</td>\n",
       "      <td>8.693000e+03</td>\n",
       "      <td>8.693000e+03</td>\n",
       "      <td>8.693000e+03</td>\n",
       "      <td>8.693000e+03</td>\n",
       "      <td>8.693000e+03</td>\n",
       "    </tr>\n",
       "    <tr>\n",
       "      <th>mean</th>\n",
       "      <td>-1.761440e-16</td>\n",
       "      <td>5.987260e-17</td>\n",
       "      <td>7.356361e-17</td>\n",
       "      <td>7.724179e-17</td>\n",
       "      <td>-5.803351e-17</td>\n",
       "      <td>-6.436816e-17</td>\n",
       "      <td>-2.104737e-17</td>\n",
       "      <td>-1.675616e-17</td>\n",
       "    </tr>\n",
       "    <tr>\n",
       "      <th>std</th>\n",
       "      <td>1.000058e+00</td>\n",
       "      <td>1.000058e+00</td>\n",
       "      <td>1.000058e+00</td>\n",
       "      <td>1.000058e+00</td>\n",
       "      <td>1.000058e+00</td>\n",
       "      <td>1.000058e+00</td>\n",
       "      <td>1.000058e+00</td>\n",
       "      <td>1.000058e+00</td>\n",
       "    </tr>\n",
       "    <tr>\n",
       "      <th>min</th>\n",
       "      <td>-2.010564e+00</td>\n",
       "      <td>-3.405899e-01</td>\n",
       "      <td>-2.873140e-01</td>\n",
       "      <td>-2.908170e-01</td>\n",
       "      <td>-2.766634e-01</td>\n",
       "      <td>-2.690226e-01</td>\n",
       "      <td>-4.466403e-01</td>\n",
       "      <td>-4.041506e-01</td>\n",
       "    </tr>\n",
       "    <tr>\n",
       "      <th>25%</th>\n",
       "      <td>-6.156918e-01</td>\n",
       "      <td>-3.405899e-01</td>\n",
       "      <td>-2.873140e-01</td>\n",
       "      <td>-2.908170e-01</td>\n",
       "      <td>-2.766634e-01</td>\n",
       "      <td>-2.690226e-01</td>\n",
       "      <td>-4.466403e-01</td>\n",
       "      <td>-4.041506e-01</td>\n",
       "    </tr>\n",
       "    <tr>\n",
       "      <th>50%</th>\n",
       "      <td>-1.274865e-01</td>\n",
       "      <td>-3.405899e-01</td>\n",
       "      <td>-2.873140e-01</td>\n",
       "      <td>-2.908170e-01</td>\n",
       "      <td>-2.766634e-01</td>\n",
       "      <td>-2.690226e-01</td>\n",
       "      <td>-3.681048e-01</td>\n",
       "      <td>-3.970621e-01</td>\n",
       "    </tr>\n",
       "    <tr>\n",
       "      <th>75%</th>\n",
       "      <td>5.699497e-01</td>\n",
       "      <td>-2.223546e-01</td>\n",
       "      <td>-2.133024e-01</td>\n",
       "      <td>-2.154885e-01</td>\n",
       "      <td>-1.975250e-01</td>\n",
       "      <td>-2.063679e-01</td>\n",
       "      <td>0.000000e+00</td>\n",
       "      <td>0.000000e+00</td>\n",
       "    </tr>\n",
       "    <tr>\n",
       "      <th>max</th>\n",
       "      <td>3.499182e+00</td>\n",
       "      <td>2.137681e+01</td>\n",
       "      <td>1.841192e+01</td>\n",
       "      <td>3.903403e+01</td>\n",
       "      <td>1.964845e+01</td>\n",
       "      <td>2.102742e+01</td>\n",
       "      <td>1.571247e+01</td>\n",
       "      <td>1.720667e+01</td>\n",
       "    </tr>\n",
       "  </tbody>\n",
       "</table>\n",
       "</div>"
      ],
      "text/plain": [
       "                Age   RoomService     FoodCourt  ShoppingMall           Spa  \\\n",
       "count  8.693000e+03  8.693000e+03  8.693000e+03  8.693000e+03  8.693000e+03   \n",
       "mean  -1.761440e-16  5.987260e-17  7.356361e-17  7.724179e-17 -5.803351e-17   \n",
       "std    1.000058e+00  1.000058e+00  1.000058e+00  1.000058e+00  1.000058e+00   \n",
       "min   -2.010564e+00 -3.405899e-01 -2.873140e-01 -2.908170e-01 -2.766634e-01   \n",
       "25%   -6.156918e-01 -3.405899e-01 -2.873140e-01 -2.908170e-01 -2.766634e-01   \n",
       "50%   -1.274865e-01 -3.405899e-01 -2.873140e-01 -2.908170e-01 -2.766634e-01   \n",
       "75%    5.699497e-01 -2.223546e-01 -2.133024e-01 -2.154885e-01 -1.975250e-01   \n",
       "max    3.499182e+00  2.137681e+01  1.841192e+01  3.903403e+01  1.964845e+01   \n",
       "\n",
       "             VRDeck        AddExp   PersonalExp  \n",
       "count  8.693000e+03  8.693000e+03  8.693000e+03  \n",
       "mean  -6.436816e-17 -2.104737e-17 -1.675616e-17  \n",
       "std    1.000058e+00  1.000058e+00  1.000058e+00  \n",
       "min   -2.690226e-01 -4.466403e-01 -4.041506e-01  \n",
       "25%   -2.690226e-01 -4.466403e-01 -4.041506e-01  \n",
       "50%   -2.690226e-01 -3.681048e-01 -3.970621e-01  \n",
       "75%   -2.063679e-01  0.000000e+00  0.000000e+00  \n",
       "max    2.102742e+01  1.571247e+01  1.720667e+01  "
      ]
     },
     "execution_count": 19,
     "metadata": {},
     "output_type": "execute_result"
    }
   ],
   "source": [
    "# Initialising the Scaler\n",
    "scaler = StandardScaler()\n",
    "\n",
    "# Training and Scaling the Numerical Columns\n",
    "num_scaled = scaler.fit_transform(spaceship_num_imputed)\n",
    "\n",
    "# Recreating the DataFrame\n",
    "spaceship_num_scaled = pd.DataFrame(num_scaled, index=spaceship_num.index, columns=spaceship_num.columns)\n",
    "spaceship_num_scaled.describe()"
   ]
  },
  {
   "cell_type": "code",
   "execution_count": 20,
   "id": "2aa515cd",
   "metadata": {
    "execution": {
     "iopub.execute_input": "2023-09-01T06:52:52.106057Z",
     "iopub.status.busy": "2023-09-01T06:52:52.104924Z",
     "iopub.status.idle": "2023-09-01T06:52:52.121181Z",
     "shell.execute_reply": "2023-09-01T06:52:52.120051Z"
    },
    "papermill": {
     "duration": 0.052427,
     "end_time": "2023-09-01T06:52:52.123573",
     "exception": false,
     "start_time": "2023-09-01T06:52:52.071146",
     "status": "completed"
    },
    "tags": []
   },
   "outputs": [
    {
     "data": {
      "text/html": [
       "<div>\n",
       "<style scoped>\n",
       "    .dataframe tbody tr th:only-of-type {\n",
       "        vertical-align: middle;\n",
       "    }\n",
       "\n",
       "    .dataframe tbody tr th {\n",
       "        vertical-align: top;\n",
       "    }\n",
       "\n",
       "    .dataframe thead th {\n",
       "        text-align: right;\n",
       "    }\n",
       "</style>\n",
       "<table border=\"1\" class=\"dataframe\">\n",
       "  <thead>\n",
       "    <tr style=\"text-align: right;\">\n",
       "      <th></th>\n",
       "      <th>Age</th>\n",
       "      <th>RoomService</th>\n",
       "      <th>FoodCourt</th>\n",
       "      <th>ShoppingMall</th>\n",
       "      <th>Spa</th>\n",
       "      <th>VRDeck</th>\n",
       "      <th>AddExp</th>\n",
       "      <th>PersonalExp</th>\n",
       "    </tr>\n",
       "  </thead>\n",
       "  <tbody>\n",
       "    <tr>\n",
       "      <th>0</th>\n",
       "      <td>0.709437</td>\n",
       "      <td>-0.340590</td>\n",
       "      <td>-0.287314</td>\n",
       "      <td>-0.290817</td>\n",
       "      <td>-0.276663</td>\n",
       "      <td>-0.269023</td>\n",
       "      <td>-0.446640</td>\n",
       "      <td>-0.404151</td>\n",
       "    </tr>\n",
       "    <tr>\n",
       "      <th>1</th>\n",
       "      <td>-0.336717</td>\n",
       "      <td>-0.175364</td>\n",
       "      <td>-0.281669</td>\n",
       "      <td>-0.248968</td>\n",
       "      <td>0.211505</td>\n",
       "      <td>-0.230194</td>\n",
       "      <td>-0.097468</td>\n",
       "      <td>-0.334447</td>\n",
       "    </tr>\n",
       "    <tr>\n",
       "      <th>2</th>\n",
       "      <td>2.034566</td>\n",
       "      <td>-0.275409</td>\n",
       "      <td>1.955616</td>\n",
       "      <td>-0.290817</td>\n",
       "      <td>5.694289</td>\n",
       "      <td>-0.225782</td>\n",
       "      <td>3.375046</td>\n",
       "      <td>1.733626</td>\n",
       "    </tr>\n",
       "    <tr>\n",
       "      <th>3</th>\n",
       "      <td>0.290975</td>\n",
       "      <td>-0.340590</td>\n",
       "      <td>0.517406</td>\n",
       "      <td>0.330225</td>\n",
       "      <td>2.683471</td>\n",
       "      <td>-0.098708</td>\n",
       "      <td>1.752920</td>\n",
       "      <td>0.353729</td>\n",
       "    </tr>\n",
       "    <tr>\n",
       "      <th>4</th>\n",
       "      <td>-0.894666</td>\n",
       "      <td>0.118709</td>\n",
       "      <td>-0.243409</td>\n",
       "      <td>-0.038048</td>\n",
       "      <td>0.225732</td>\n",
       "      <td>-0.267258</td>\n",
       "      <td>-0.040968</td>\n",
       "      <td>-0.183816</td>\n",
       "    </tr>\n",
       "  </tbody>\n",
       "</table>\n",
       "</div>"
      ],
      "text/plain": [
       "        Age  RoomService  FoodCourt  ShoppingMall       Spa    VRDeck  \\\n",
       "0  0.709437    -0.340590  -0.287314     -0.290817 -0.276663 -0.269023   \n",
       "1 -0.336717    -0.175364  -0.281669     -0.248968  0.211505 -0.230194   \n",
       "2  2.034566    -0.275409   1.955616     -0.290817  5.694289 -0.225782   \n",
       "3  0.290975    -0.340590   0.517406      0.330225  2.683471 -0.098708   \n",
       "4 -0.894666     0.118709  -0.243409     -0.038048  0.225732 -0.267258   \n",
       "\n",
       "     AddExp  PersonalExp  \n",
       "0 -0.446640    -0.404151  \n",
       "1 -0.097468    -0.334447  \n",
       "2  3.375046     1.733626  \n",
       "3  1.752920     0.353729  \n",
       "4 -0.040968    -0.183816  "
      ]
     },
     "execution_count": 20,
     "metadata": {},
     "output_type": "execute_result"
    }
   ],
   "source": [
    "spaceship_num_scaled.head()"
   ]
  },
  {
   "cell_type": "markdown",
   "id": "238a830d",
   "metadata": {
    "papermill": {
     "duration": 0.031632,
     "end_time": "2023-09-01T06:52:52.186167",
     "exception": false,
     "start_time": "2023-09-01T06:52:52.154535",
     "status": "completed"
    },
    "tags": []
   },
   "source": [
    "## Building a Pipeline to Automate the Transformations on the Numerical Attributes"
   ]
  },
  {
   "cell_type": "code",
   "execution_count": 21,
   "id": "1a7dc35b",
   "metadata": {
    "execution": {
     "iopub.execute_input": "2023-09-01T06:52:52.251531Z",
     "iopub.status.busy": "2023-09-01T06:52:52.250853Z",
     "iopub.status.idle": "2023-09-01T06:52:52.266548Z",
     "shell.execute_reply": "2023-09-01T06:52:52.265477Z"
    },
    "papermill": {
     "duration": 0.051119,
     "end_time": "2023-09-01T06:52:52.269063",
     "exception": false,
     "start_time": "2023-09-01T06:52:52.217944",
     "status": "completed"
    },
    "tags": []
   },
   "outputs": [
    {
     "data": {
      "text/plain": [
       "array([[ 0.70943692, -0.34058987, -0.28731404, -0.29081703, -0.27666342,\n",
       "        -0.26902263, -0.44664029, -0.4041506 ],\n",
       "       [-0.33671733, -0.1753636 , -0.28166908, -0.24896783,  0.2115053 ,\n",
       "        -0.23019432, -0.09746792, -0.3344469 ],\n",
       "       [ 2.03456565, -0.27540886,  1.95561575, -0.29081703,  5.69428913,\n",
       "        -0.22578201,  3.37504557,  1.73362637],\n",
       "       [ 0.29097522, -0.34058987,  0.51740602,  0.33022501,  2.68347076,\n",
       "        -0.09870755,  1.7529196 ,  0.35372944],\n",
       "       [-0.89466627,  0.11870883, -0.24340881, -0.0380479 ,  0.22573244,\n",
       "        -0.2672577 , -0.04096754, -0.18381603]])"
      ]
     },
     "execution_count": 21,
     "metadata": {},
     "output_type": "execute_result"
    }
   ],
   "source": [
    "num_pipeline = Pipeline([\n",
    "    (\"mean_imputer\", SimpleImputer(strategy=\"mean\")),\n",
    "    (\"std_scaler\", StandardScaler())\n",
    "])\n",
    "\n",
    "# Transforming the Data at once using the Pipeline\n",
    "spaceship_num_tr = num_pipeline.fit_transform(spaceship_num)\n",
    "spaceship_num_tr[:5]"
   ]
  },
  {
   "cell_type": "code",
   "execution_count": 22,
   "id": "80dfacf0",
   "metadata": {
    "execution": {
     "iopub.execute_input": "2023-09-01T06:52:52.334726Z",
     "iopub.status.busy": "2023-09-01T06:52:52.334279Z",
     "iopub.status.idle": "2023-09-01T06:52:52.340351Z",
     "shell.execute_reply": "2023-09-01T06:52:52.339597Z"
    },
    "papermill": {
     "duration": 0.041686,
     "end_time": "2023-09-01T06:52:52.342496",
     "exception": false,
     "start_time": "2023-09-01T06:52:52.300810",
     "status": "completed"
    },
    "tags": []
   },
   "outputs": [
    {
     "data": {
      "text/plain": [
       "(8693, 8)"
      ]
     },
     "execution_count": 22,
     "metadata": {},
     "output_type": "execute_result"
    }
   ],
   "source": [
    "spaceship_num_tr.shape"
   ]
  },
  {
   "cell_type": "markdown",
   "id": "973143ee",
   "metadata": {
    "papermill": {
     "duration": 0.032206,
     "end_time": "2023-09-01T06:52:52.406383",
     "exception": false,
     "start_time": "2023-09-01T06:52:52.374177",
     "status": "completed"
    },
    "tags": []
   },
   "source": [
    "## Working with the Categorical Attributes"
   ]
  },
  {
   "cell_type": "markdown",
   "id": "7725dc4e",
   "metadata": {
    "papermill": {
     "duration": 0.0313,
     "end_time": "2023-09-01T06:52:52.469955",
     "exception": false,
     "start_time": "2023-09-01T06:52:52.438655",
     "status": "completed"
    },
    "tags": []
   },
   "source": [
    "**`Imputing the Missing Values in the Categorical Attributes`**"
   ]
  },
  {
   "cell_type": "code",
   "execution_count": 23,
   "id": "0df13a10",
   "metadata": {
    "execution": {
     "iopub.execute_input": "2023-09-01T06:52:52.536598Z",
     "iopub.status.busy": "2023-09-01T06:52:52.535616Z",
     "iopub.status.idle": "2023-09-01T06:52:52.569689Z",
     "shell.execute_reply": "2023-09-01T06:52:52.568284Z"
    },
    "papermill": {
     "duration": 0.070564,
     "end_time": "2023-09-01T06:52:52.572278",
     "exception": false,
     "start_time": "2023-09-01T06:52:52.501714",
     "status": "completed"
    },
    "tags": []
   },
   "outputs": [
    {
     "name": "stdout",
     "output_type": "stream",
     "text": [
      "<class 'pandas.core.frame.DataFrame'>\n",
      "RangeIndex: 8693 entries, 0 to 8692\n",
      "Data columns (total 4 columns):\n",
      " #   Column       Non-Null Count  Dtype \n",
      "---  ------       --------------  ----- \n",
      " 0   HomePlanet   8693 non-null   object\n",
      " 1   CryoSleep    8693 non-null   object\n",
      " 2   Destination  8693 non-null   object\n",
      " 3   VIP          8693 non-null   object\n",
      "dtypes: object(4)\n",
      "memory usage: 271.8+ KB\n"
     ]
    }
   ],
   "source": [
    "# Initialising the Imputer\n",
    "mode_imputer = SimpleImputer(strategy=\"most_frequent\")\n",
    "\n",
    "# Training and Transforming the Categorical Columns\n",
    "cat_imputed = mode_imputer.fit_transform(spaceship_cat)\n",
    "\n",
    "# Recreating the DataFrame\n",
    "spaceship_cat_imputed = pd.DataFrame(cat_imputed, index=spaceship_cat.index, columns=spaceship_cat.columns)\n",
    "spaceship_cat_imputed.info()"
   ]
  },
  {
   "cell_type": "markdown",
   "id": "c0550f32",
   "metadata": {
    "papermill": {
     "duration": 0.032463,
     "end_time": "2023-09-01T06:52:52.636992",
     "exception": false,
     "start_time": "2023-09-01T06:52:52.604529",
     "status": "completed"
    },
    "tags": []
   },
   "source": [
    "**`Encoding the Categorical Values`**"
   ]
  },
  {
   "cell_type": "code",
   "execution_count": 24,
   "id": "c75f2eda",
   "metadata": {
    "execution": {
     "iopub.execute_input": "2023-09-01T06:52:52.703275Z",
     "iopub.status.busy": "2023-09-01T06:52:52.702072Z",
     "iopub.status.idle": "2023-09-01T06:52:52.726468Z",
     "shell.execute_reply": "2023-09-01T06:52:52.725310Z"
    },
    "papermill": {
     "duration": 0.060433,
     "end_time": "2023-09-01T06:52:52.728964",
     "exception": false,
     "start_time": "2023-09-01T06:52:52.668531",
     "status": "completed"
    },
    "tags": []
   },
   "outputs": [
    {
     "data": {
      "text/plain": [
       "(8693, 10)"
      ]
     },
     "execution_count": 24,
     "metadata": {},
     "output_type": "execute_result"
    }
   ],
   "source": [
    "# Initialising the Encoder\n",
    "onehot_encoder = OneHotEncoder()\n",
    "\n",
    "# Training and Encoding the values using the Encoder\n",
    "spaceship_cat_encoded = onehot_encoder.fit_transform(spaceship_cat_imputed)\n",
    "spaceship_cat_encoded.shape"
   ]
  },
  {
   "cell_type": "code",
   "execution_count": 25,
   "id": "672f6734",
   "metadata": {
    "execution": {
     "iopub.execute_input": "2023-09-01T06:52:52.795483Z",
     "iopub.status.busy": "2023-09-01T06:52:52.795097Z",
     "iopub.status.idle": "2023-09-01T06:52:52.801768Z",
     "shell.execute_reply": "2023-09-01T06:52:52.800704Z"
    },
    "papermill": {
     "duration": 0.042999,
     "end_time": "2023-09-01T06:52:52.804271",
     "exception": false,
     "start_time": "2023-09-01T06:52:52.761272",
     "status": "completed"
    },
    "tags": []
   },
   "outputs": [
    {
     "data": {
      "text/plain": [
       "[array(['Earth', 'Europa', 'Mars'], dtype=object),\n",
       " array([False, True], dtype=object),\n",
       " array(['55 Cancri e', 'PSO J318.5-22', 'TRAPPIST-1e'], dtype=object),\n",
       " array([False, True], dtype=object)]"
      ]
     },
     "execution_count": 25,
     "metadata": {},
     "output_type": "execute_result"
    }
   ],
   "source": [
    "# Viewing the Categories used by the Encoder\n",
    "onehot_encoder.categories_"
   ]
  },
  {
   "cell_type": "code",
   "execution_count": 26,
   "id": "8f03ae3d",
   "metadata": {
    "execution": {
     "iopub.execute_input": "2023-09-01T06:52:52.871105Z",
     "iopub.status.busy": "2023-09-01T06:52:52.870046Z",
     "iopub.status.idle": "2023-09-01T06:52:52.881056Z",
     "shell.execute_reply": "2023-09-01T06:52:52.879975Z"
    },
    "papermill": {
     "duration": 0.046743,
     "end_time": "2023-09-01T06:52:52.883174",
     "exception": false,
     "start_time": "2023-09-01T06:52:52.836431",
     "status": "completed"
    },
    "tags": []
   },
   "outputs": [
    {
     "data": {
      "text/plain": [
       "array([[0., 1., 0., 1., 0., 0., 0., 1., 1., 0.],\n",
       "       [1., 0., 0., 1., 0., 0., 0., 1., 1., 0.],\n",
       "       [0., 1., 0., 1., 0., 0., 0., 1., 0., 1.],\n",
       "       [0., 1., 0., 1., 0., 0., 0., 1., 1., 0.],\n",
       "       [1., 0., 0., 1., 0., 0., 0., 1., 1., 0.]])"
      ]
     },
     "execution_count": 26,
     "metadata": {},
     "output_type": "execute_result"
    }
   ],
   "source": [
    "# Converting the Sparse Matrix to a Numpy Array\n",
    "spaceship_cat_encoded = spaceship_cat_encoded.toarray()\n",
    "spaceship_cat_encoded[:5]"
   ]
  },
  {
   "cell_type": "markdown",
   "id": "276d6be9",
   "metadata": {
    "papermill": {
     "duration": 0.031763,
     "end_time": "2023-09-01T06:52:52.946745",
     "exception": false,
     "start_time": "2023-09-01T06:52:52.914982",
     "status": "completed"
    },
    "tags": []
   },
   "source": [
    "## Building a Pipeline to Automate the Transformations on the Categorical Attributes"
   ]
  },
  {
   "cell_type": "code",
   "execution_count": 27,
   "id": "6392d1d6",
   "metadata": {
    "execution": {
     "iopub.execute_input": "2023-09-01T06:52:53.013845Z",
     "iopub.status.busy": "2023-09-01T06:52:53.012762Z",
     "iopub.status.idle": "2023-09-01T06:52:53.048363Z",
     "shell.execute_reply": "2023-09-01T06:52:53.047154Z"
    },
    "papermill": {
     "duration": 0.071744,
     "end_time": "2023-09-01T06:52:53.051080",
     "exception": false,
     "start_time": "2023-09-01T06:52:52.979336",
     "status": "completed"
    },
    "tags": []
   },
   "outputs": [
    {
     "data": {
      "text/plain": [
       "array([[0., 1., 0., 1., 0., 0., 0., 1., 1., 0.],\n",
       "       [1., 0., 0., 1., 0., 0., 0., 1., 1., 0.],\n",
       "       [0., 1., 0., 1., 0., 0., 0., 1., 0., 1.],\n",
       "       [0., 1., 0., 1., 0., 0., 0., 1., 1., 0.],\n",
       "       [1., 0., 0., 1., 0., 0., 0., 1., 1., 0.]])"
      ]
     },
     "execution_count": 27,
     "metadata": {},
     "output_type": "execute_result"
    }
   ],
   "source": [
    "cat_pipeline = Pipeline([\n",
    "    (\"mode_imputer\", SimpleImputer(strategy=\"most_frequent\")),\n",
    "    (\"onehot_encoder\", OneHotEncoder())\n",
    "])\n",
    "\n",
    "# Transforming the Data using the Pipeline\n",
    "spaceship_cat_tr = cat_pipeline.fit_transform(spaceship_cat)\n",
    "spaceship_cat_tr = spaceship_cat_tr.toarray()\n",
    "spaceship_cat_tr[:5]"
   ]
  },
  {
   "cell_type": "markdown",
   "id": "928b976d",
   "metadata": {
    "papermill": {
     "duration": 0.033105,
     "end_time": "2023-09-01T06:52:53.117038",
     "exception": false,
     "start_time": "2023-09-01T06:52:53.083933",
     "status": "completed"
    },
    "tags": []
   },
   "source": [
    "## Building a Pipeline to automate Transformations on all the Columns"
   ]
  },
  {
   "cell_type": "code",
   "execution_count": 28,
   "id": "35879f60",
   "metadata": {
    "execution": {
     "iopub.execute_input": "2023-09-01T06:52:53.185778Z",
     "iopub.status.busy": "2023-09-01T06:52:53.184967Z",
     "iopub.status.idle": "2023-09-01T06:52:53.230845Z",
     "shell.execute_reply": "2023-09-01T06:52:53.229710Z"
    },
    "papermill": {
     "duration": 0.083382,
     "end_time": "2023-09-01T06:52:53.233603",
     "exception": false,
     "start_time": "2023-09-01T06:52:53.150221",
     "status": "completed"
    },
    "tags": []
   },
   "outputs": [
    {
     "data": {
      "text/plain": [
       "(8693, 18)"
      ]
     },
     "execution_count": 28,
     "metadata": {},
     "output_type": "execute_result"
    }
   ],
   "source": [
    "full_pipeline = ColumnTransformer([\n",
    "    (\"num\", num_pipeline, num_attr),\n",
    "    (\"cat\", cat_pipeline, cat_attr)\n",
    "])\n",
    "\n",
    "# Using the Pipeline to Perform all the required Transformations on the Data\n",
    "spaceship_prepared = full_pipeline.fit_transform(spaceship)\n",
    "spaceship_prepared.shape"
   ]
  },
  {
   "cell_type": "code",
   "execution_count": 29,
   "id": "c832c114",
   "metadata": {
    "execution": {
     "iopub.execute_input": "2023-09-01T06:52:53.302806Z",
     "iopub.status.busy": "2023-09-01T06:52:53.301974Z",
     "iopub.status.idle": "2023-09-01T06:52:53.310103Z",
     "shell.execute_reply": "2023-09-01T06:52:53.309129Z"
    },
    "papermill": {
     "duration": 0.045548,
     "end_time": "2023-09-01T06:52:53.312348",
     "exception": false,
     "start_time": "2023-09-01T06:52:53.266800",
     "status": "completed"
    },
    "tags": []
   },
   "outputs": [
    {
     "data": {
      "text/plain": [
       "array([[ 0.70943692, -0.34058987, -0.28731404, -0.29081703, -0.27666342,\n",
       "        -0.26902263, -0.44664029, -0.4041506 ,  0.        ,  1.        ,\n",
       "         0.        ,  1.        ,  0.        ,  0.        ,  0.        ,\n",
       "         1.        ,  1.        ,  0.        ],\n",
       "       [-0.33671733, -0.1753636 , -0.28166908, -0.24896783,  0.2115053 ,\n",
       "        -0.23019432, -0.09746792, -0.3344469 ,  1.        ,  0.        ,\n",
       "         0.        ,  1.        ,  0.        ,  0.        ,  0.        ,\n",
       "         1.        ,  1.        ,  0.        ],\n",
       "       [ 2.03456565, -0.27540886,  1.95561575, -0.29081703,  5.69428913,\n",
       "        -0.22578201,  3.37504557,  1.73362637,  0.        ,  1.        ,\n",
       "         0.        ,  1.        ,  0.        ,  0.        ,  0.        ,\n",
       "         1.        ,  0.        ,  1.        ],\n",
       "       [ 0.29097522, -0.34058987,  0.51740602,  0.33022501,  2.68347076,\n",
       "        -0.09870755,  1.7529196 ,  0.35372944,  0.        ,  1.        ,\n",
       "         0.        ,  1.        ,  0.        ,  0.        ,  0.        ,\n",
       "         1.        ,  1.        ,  0.        ],\n",
       "       [-0.89466627,  0.11870883, -0.24340881, -0.0380479 ,  0.22573244,\n",
       "        -0.2672577 , -0.04096754, -0.18381603,  1.        ,  0.        ,\n",
       "         0.        ,  1.        ,  0.        ,  0.        ,  0.        ,\n",
       "         1.        ,  1.        ,  0.        ]])"
      ]
     },
     "execution_count": 29,
     "metadata": {},
     "output_type": "execute_result"
    }
   ],
   "source": [
    "spaceship_prepared[:5]"
   ]
  },
  {
   "cell_type": "markdown",
   "id": "7681d92f",
   "metadata": {
    "papermill": {
     "duration": 0.032941,
     "end_time": "2023-09-01T06:52:53.378394",
     "exception": false,
     "start_time": "2023-09-01T06:52:53.345453",
     "status": "completed"
    },
    "tags": []
   },
   "source": [
    "## Converting the Target Attribute to Binary Values"
   ]
  },
  {
   "cell_type": "code",
   "execution_count": 30,
   "id": "06abeabc",
   "metadata": {
    "execution": {
     "iopub.execute_input": "2023-09-01T06:52:53.448595Z",
     "iopub.status.busy": "2023-09-01T06:52:53.447813Z",
     "iopub.status.idle": "2023-09-01T06:52:53.463779Z",
     "shell.execute_reply": "2023-09-01T06:52:53.462833Z"
    },
    "papermill": {
     "duration": 0.053686,
     "end_time": "2023-09-01T06:52:53.466433",
     "exception": false,
     "start_time": "2023-09-01T06:52:53.412747",
     "status": "completed"
    },
    "tags": []
   },
   "outputs": [
    {
     "data": {
      "text/plain": [
       "0    0\n",
       "1    1\n",
       "2    0\n",
       "3    0\n",
       "4    1\n",
       "Name: Transported, dtype: int64"
      ]
     },
     "execution_count": 30,
     "metadata": {},
     "output_type": "execute_result"
    }
   ],
   "source": [
    "def target_transform(data):\n",
    "    if data:\n",
    "        return 1\n",
    "    return 0\n",
    "\n",
    "spaceship_labels = spaceship_labels.apply(target_transform)\n",
    "spaceship_labels[:5]"
   ]
  },
  {
   "cell_type": "markdown",
   "id": "3c94a927",
   "metadata": {
    "papermill": {
     "duration": 0.032798,
     "end_time": "2023-09-01T06:52:53.532979",
     "exception": false,
     "start_time": "2023-09-01T06:52:53.500181",
     "status": "completed"
    },
    "tags": []
   },
   "source": [
    "## Splitting the Training and Testing Sets"
   ]
  },
  {
   "cell_type": "code",
   "execution_count": 31,
   "id": "08d9cc7a",
   "metadata": {
    "execution": {
     "iopub.execute_input": "2023-09-01T06:52:53.603326Z",
     "iopub.status.busy": "2023-09-01T06:52:53.602302Z",
     "iopub.status.idle": "2023-09-01T06:52:53.611963Z",
     "shell.execute_reply": "2023-09-01T06:52:53.610613Z"
    },
    "papermill": {
     "duration": 0.047808,
     "end_time": "2023-09-01T06:52:53.614500",
     "exception": false,
     "start_time": "2023-09-01T06:52:53.566692",
     "status": "completed"
    },
    "tags": []
   },
   "outputs": [
    {
     "name": "stdout",
     "output_type": "stream",
     "text": [
      "Shape of X_train: (7649, 18)\n",
      "Shape of y_train: (7649,)\n",
      "Shape of X_test: (1044, 18)\n",
      "Shape of y_test: (1044,)\n"
     ]
    }
   ],
   "source": [
    "X_train, X_valid, y_train, y_valid = train_test_split(spaceship_prepared, spaceship_labels, test_size=0.12, random_state=17)\n",
    "print(f\"Shape of X_train: {X_train.shape}\")\n",
    "print(f\"Shape of y_train: {y_train.shape}\")\n",
    "print(f\"Shape of X_test: {X_valid.shape}\")\n",
    "print(f\"Shape of y_test: {y_valid.shape}\")"
   ]
  },
  {
   "cell_type": "markdown",
   "id": "bd2f632a",
   "metadata": {
    "papermill": {
     "duration": 0.03344,
     "end_time": "2023-09-01T06:52:53.682134",
     "exception": false,
     "start_time": "2023-09-01T06:52:53.648694",
     "status": "completed"
    },
    "tags": []
   },
   "source": [
    "## Model Selection"
   ]
  },
  {
   "cell_type": "markdown",
   "id": "a8d81800",
   "metadata": {
    "papermill": {
     "duration": 0.032372,
     "end_time": "2023-09-01T06:52:53.747067",
     "exception": false,
     "start_time": "2023-09-01T06:52:53.714695",
     "status": "completed"
    },
    "tags": []
   },
   "source": [
    "**`Using Cross Validation Score`**\n",
    "- We test the models using Cross Validation Score.\n",
    "- This method splits the Training sets into smaller sets for Training and Validation\n",
    "\n",
    "**`Using Mean Squared Error`**\n",
    "- We test the model after fitting it to the training set\n",
    "- The loss score is calulated using the mean_squared_error"
   ]
  },
  {
   "cell_type": "markdown",
   "id": "a65e386c",
   "metadata": {
    "execution": {
     "iopub.execute_input": "2023-08-31T05:53:38.541590Z",
     "iopub.status.busy": "2023-08-31T05:53:38.541181Z",
     "iopub.status.idle": "2023-08-31T05:53:38.549181Z",
     "shell.execute_reply": "2023-08-31T05:53:38.547826Z",
     "shell.execute_reply.started": "2023-08-31T05:53:38.541558Z"
    },
    "papermill": {
     "duration": 0.032818,
     "end_time": "2023-09-01T06:52:53.812977",
     "exception": false,
     "start_time": "2023-09-01T06:52:53.780159",
     "status": "completed"
    },
    "tags": []
   },
   "source": [
    "**`Applying Logistic Regression`**"
   ]
  },
  {
   "cell_type": "code",
   "execution_count": 32,
   "id": "9ba212b2",
   "metadata": {
    "execution": {
     "iopub.execute_input": "2023-09-01T06:52:53.881757Z",
     "iopub.status.busy": "2023-09-01T06:52:53.880974Z",
     "iopub.status.idle": "2023-09-01T06:52:54.579335Z",
     "shell.execute_reply": "2023-09-01T06:52:54.577839Z"
    },
    "papermill": {
     "duration": 0.73773,
     "end_time": "2023-09-01T06:52:54.584203",
     "exception": false,
     "start_time": "2023-09-01T06:52:53.846473",
     "status": "completed"
    },
    "tags": []
   },
   "outputs": [
    {
     "name": "stdout",
     "output_type": "stream",
     "text": [
      "Logistic Regression Loss Scores:\n",
      "[0.45485883 0.47464445 0.46977618 0.45638294 0.46512431 0.47004639\n",
      " 0.4737044  0.45385448 0.42369409 0.47853824]\n",
      "\n",
      "Logistic Regression Mean: 0.4620624310085182\n",
      "\n",
      "Logistic Regression Standard Deviation: 0.01523667913226434\n"
     ]
    }
   ],
   "source": [
    "# Initialising the Logistic Regression Model\n",
    "log_reg = LogisticRegression()\n",
    "\n",
    "# Training the Model and Making Predictions on the Validation set\n",
    "log_scores = cross_val_score(log_reg, spaceship_prepared, spaceship_labels, cv=10, \n",
    "                                 scoring=\"neg_mean_squared_error\")\n",
    "\n",
    "# Viewing the Scores\n",
    "log_rmse = np.sqrt(-log_scores)\n",
    "print(f\"Logistic Regression Loss Scores:\\n{log_rmse}\")\n",
    "print(f\"\\nLogistic Regression Mean: {log_rmse.mean()}\")\n",
    "print(f\"\\nLogistic Regression Standard Deviation: {log_rmse.std()}\")"
   ]
  },
  {
   "cell_type": "markdown",
   "id": "f176b109",
   "metadata": {
    "papermill": {
     "duration": 0.050567,
     "end_time": "2023-09-01T06:52:54.706316",
     "exception": false,
     "start_time": "2023-09-01T06:52:54.655749",
     "status": "completed"
    },
    "tags": []
   },
   "source": [
    "**`Applying Decision Trees`**"
   ]
  },
  {
   "cell_type": "code",
   "execution_count": 33,
   "id": "03e384e4",
   "metadata": {
    "execution": {
     "iopub.execute_input": "2023-09-01T06:52:54.775069Z",
     "iopub.status.busy": "2023-09-01T06:52:54.774695Z",
     "iopub.status.idle": "2023-09-01T06:52:54.834835Z",
     "shell.execute_reply": "2023-09-01T06:52:54.833709Z"
    },
    "papermill": {
     "duration": 0.09779,
     "end_time": "2023-09-01T06:52:54.837333",
     "exception": false,
     "start_time": "2023-09-01T06:52:54.739543",
     "status": "completed"
    },
    "tags": []
   },
   "outputs": [
    {
     "name": "stdout",
     "output_type": "stream",
     "text": [
      "Decision Tree Classifier Loss: 0.5141671091113803\n"
     ]
    }
   ],
   "source": [
    "# Initialising the Decision Tree Model\n",
    "tree_cls = DecisionTreeClassifier()\n",
    "\n",
    "# Training the Model\n",
    "tree_cls.fit(X_train, y_train)\n",
    "\n",
    "# Making Predictions\n",
    "tree_predictions = tree_cls.predict(X_valid)\n",
    "tree_mse = mean_squared_error(y_valid, tree_predictions)\n",
    "print(f\"Decision Tree Classifier Loss: {np.sqrt(tree_mse)}\")"
   ]
  },
  {
   "cell_type": "markdown",
   "id": "c6636afd",
   "metadata": {
    "papermill": {
     "duration": 0.033105,
     "end_time": "2023-09-01T06:52:54.903938",
     "exception": false,
     "start_time": "2023-09-01T06:52:54.870833",
     "status": "completed"
    },
    "tags": []
   },
   "source": [
    "**`Appling Random Forest`**"
   ]
  },
  {
   "cell_type": "code",
   "execution_count": 34,
   "id": "3d801944",
   "metadata": {
    "execution": {
     "iopub.execute_input": "2023-09-01T06:52:54.973513Z",
     "iopub.status.busy": "2023-09-01T06:52:54.973122Z",
     "iopub.status.idle": "2023-09-01T06:53:08.027839Z",
     "shell.execute_reply": "2023-09-01T06:53:08.026130Z"
    },
    "papermill": {
     "duration": 13.093184,
     "end_time": "2023-09-01T06:53:08.030945",
     "exception": false,
     "start_time": "2023-09-01T06:52:54.937761",
     "status": "completed"
    },
    "tags": []
   },
   "outputs": [
    {
     "name": "stdout",
     "output_type": "stream",
     "text": [
      "Random Forest Classifier Loss Score:\n",
      "[0.44334154 0.49130368 0.47343208 0.47733437 0.47733437 0.46264363\n",
      " 0.4663597  0.45003516 0.45512046 0.47004639]\n",
      "\n",
      "Random Forest Classifier Mean: 0.46669513918528394\n",
      "\n",
      "Random Forest Classifier Standard Deviation: 0.013645621684215502\n"
     ]
    }
   ],
   "source": [
    "# Initialising the Random Forest Model\n",
    "forest_cls = RandomForestClassifier()\n",
    "\n",
    "# Training and Validating the Model\n",
    "forest_score = cross_val_score(forest_cls, spaceship_prepared, spaceship_labels, cv=10,\n",
    "                              scoring=\"neg_mean_squared_error\")\n",
    "\n",
    "# Viewing the Score\n",
    "forest_rmse = np.sqrt(-forest_score)\n",
    "print(f\"Random Forest Classifier Loss Score:\\n{forest_rmse}\")\n",
    "print(f\"\\nRandom Forest Classifier Mean: {forest_rmse.mean()}\")\n",
    "print(f\"\\nRandom Forest Classifier Standard Deviation: {forest_rmse.std()}\")"
   ]
  },
  {
   "cell_type": "markdown",
   "id": "d90cbac0",
   "metadata": {
    "papermill": {
     "duration": 0.034126,
     "end_time": "2023-09-01T06:53:08.106003",
     "exception": false,
     "start_time": "2023-09-01T06:53:08.071877",
     "status": "completed"
    },
    "tags": []
   },
   "source": [
    "## Fine Tuning the Model"
   ]
  },
  {
   "cell_type": "markdown",
   "id": "2cc0beca",
   "metadata": {
    "papermill": {
     "duration": 0.034338,
     "end_time": "2023-09-01T06:53:08.174323",
     "exception": false,
     "start_time": "2023-09-01T06:53:08.139985",
     "status": "completed"
    },
    "tags": []
   },
   "source": [
    "- GridSearchCV can be used to automate the fine tuning process.\n",
    "- It finds the best estimator given a set of parameters and hyperparameters to be used on the model\n",
    "\n",
    "**`Please remove the comments incase you want to use GridSearchCV to find the best estimator`**"
   ]
  },
  {
   "cell_type": "code",
   "execution_count": 35,
   "id": "3d48989d",
   "metadata": {
    "execution": {
     "iopub.execute_input": "2023-09-01T06:53:08.244484Z",
     "iopub.status.busy": "2023-09-01T06:53:08.243323Z",
     "iopub.status.idle": "2023-09-01T06:53:08.250477Z",
     "shell.execute_reply": "2023-09-01T06:53:08.249510Z"
    },
    "papermill": {
     "duration": 0.04439,
     "end_time": "2023-09-01T06:53:08.252715",
     "exception": false,
     "start_time": "2023-09-01T06:53:08.208325",
     "status": "completed"
    },
    "tags": []
   },
   "outputs": [],
   "source": [
    "# A list of Dictionaries containing all the possible param combinations to train\n",
    "param_grid = [\n",
    "    {\n",
    "        \"n_estimators\":[1000, 1500], \n",
    "        \"max_features\": [8, 12],\n",
    "    }\n",
    "]\n",
    "\n",
    "# Initialising the Model\n",
    "forest_cls = RandomForestClassifier()\n",
    "\n",
    "# Using Grid Search to Train the model\n",
    "grid_search = GridSearchCV(forest_cls, param_grid, cv=5, return_train_score=True,\n",
    "                          scoring=\"neg_mean_squared_error\")\n",
    "\n",
    "# Training using Grid Search\n",
    "# grid_search.fit(spaceship_prepared, spaceship_labels)"
   ]
  },
  {
   "cell_type": "code",
   "execution_count": 36,
   "id": "298a3440",
   "metadata": {
    "execution": {
     "iopub.execute_input": "2023-09-01T06:53:08.325470Z",
     "iopub.status.busy": "2023-09-01T06:53:08.324776Z",
     "iopub.status.idle": "2023-09-01T06:53:08.328557Z",
     "shell.execute_reply": "2023-09-01T06:53:08.327815Z"
    },
    "papermill": {
     "duration": 0.043297,
     "end_time": "2023-09-01T06:53:08.330866",
     "exception": false,
     "start_time": "2023-09-01T06:53:08.287569",
     "status": "completed"
    },
    "tags": []
   },
   "outputs": [],
   "source": [
    "# print(f\"Best Params by Grid Search: {grid_search.best_params_}\")"
   ]
  },
  {
   "cell_type": "code",
   "execution_count": 37,
   "id": "91887b5c",
   "metadata": {
    "execution": {
     "iopub.execute_input": "2023-09-01T06:53:08.401437Z",
     "iopub.status.busy": "2023-09-01T06:53:08.401059Z",
     "iopub.status.idle": "2023-09-01T06:53:08.405583Z",
     "shell.execute_reply": "2023-09-01T06:53:08.404356Z"
    },
    "papermill": {
     "duration": 0.042639,
     "end_time": "2023-09-01T06:53:08.407913",
     "exception": false,
     "start_time": "2023-09-01T06:53:08.365274",
     "status": "completed"
    },
    "tags": []
   },
   "outputs": [],
   "source": [
    "# print(f\"Best Estimator and its Hyperparams by Grid Search:\\n{grid_search.best_estimator_}\")"
   ]
  },
  {
   "cell_type": "code",
   "execution_count": 38,
   "id": "3f4d6fcf",
   "metadata": {
    "execution": {
     "iopub.execute_input": "2023-09-01T06:53:08.478907Z",
     "iopub.status.busy": "2023-09-01T06:53:08.478072Z",
     "iopub.status.idle": "2023-09-01T06:53:08.483256Z",
     "shell.execute_reply": "2023-09-01T06:53:08.482461Z"
    },
    "papermill": {
     "duration": 0.042778,
     "end_time": "2023-09-01T06:53:08.485473",
     "exception": false,
     "start_time": "2023-09-01T06:53:08.442695",
     "status": "completed"
    },
    "tags": []
   },
   "outputs": [],
   "source": [
    "# Loading the Best Estimator from GridSearchCV\n",
    "# final_model = grid_search.best_estimator_\n",
    "\n",
    "# Making Predictions\n",
    "# predictions = final_model.predict(X_valid)\n",
    "\n",
    "# Calculating the Loss\n",
    "# final_mse = mean_squared_error(y_valid, predictions)\n",
    "# print(\"Final Loss after GridSearchCV: \", np.sqrt(final_mse))"
   ]
  },
  {
   "cell_type": "markdown",
   "id": "a32cf242",
   "metadata": {
    "papermill": {
     "duration": 0.033371,
     "end_time": "2023-09-01T06:53:08.552974",
     "exception": false,
     "start_time": "2023-09-01T06:53:08.519603",
     "status": "completed"
    },
    "tags": []
   },
   "source": [
    "**`Important`**\n",
    "\n",
    "- The best estimator found using GridSearchCV has a loss of 0.23"
   ]
  },
  {
   "cell_type": "markdown",
   "id": "2847f6c4",
   "metadata": {
    "papermill": {
     "duration": 0.034077,
     "end_time": "2023-09-01T06:53:08.620913",
     "exception": false,
     "start_time": "2023-09-01T06:53:08.586836",
     "status": "completed"
    },
    "tags": []
   },
   "source": [
    "## Trying a Deep Learning Model"
   ]
  },
  {
   "cell_type": "code",
   "execution_count": 39,
   "id": "ed4f177c",
   "metadata": {
    "execution": {
     "iopub.execute_input": "2023-09-01T06:53:08.691349Z",
     "iopub.status.busy": "2023-09-01T06:53:08.690508Z",
     "iopub.status.idle": "2023-09-01T06:53:08.915148Z",
     "shell.execute_reply": "2023-09-01T06:53:08.914203Z"
    },
    "papermill": {
     "duration": 0.26304,
     "end_time": "2023-09-01T06:53:08.917829",
     "exception": false,
     "start_time": "2023-09-01T06:53:08.654789",
     "status": "completed"
    },
    "tags": []
   },
   "outputs": [],
   "source": [
    "model = tf.keras.Sequential([\n",
    "    tf.keras.layers.Dense(64, activation=\"relu\", input_shape=X_train.shape[1:]),\n",
    "    tf.keras.layers.Dense(128, activation=\"relu\", kernel_regularizer=tf.keras.regularizers.L2()),\n",
    "    tf.keras.layers.Dense(128, activation=\"relu\", kernel_regularizer=tf.keras.regularizers.L2()),\n",
    "    tf.keras.layers.Dense(1)\n",
    "])\n",
    "\n",
    "model.compile(\n",
    "    loss=tf.keras.losses.BinaryCrossentropy(from_logits=True),\n",
    "    optimizer=tf.keras.optimizers.Adam(learning_rate=0.01),\n",
    "    metrics=[\"accuracy\"]\n",
    ")"
   ]
  },
  {
   "cell_type": "code",
   "execution_count": 40,
   "id": "b932f48a",
   "metadata": {
    "execution": {
     "iopub.execute_input": "2023-09-01T06:53:08.987786Z",
     "iopub.status.busy": "2023-09-01T06:53:08.987145Z",
     "iopub.status.idle": "2023-09-01T06:53:37.250559Z",
     "shell.execute_reply": "2023-09-01T06:53:37.249515Z"
    },
    "papermill": {
     "duration": 28.301471,
     "end_time": "2023-09-01T06:53:37.253212",
     "exception": false,
     "start_time": "2023-09-01T06:53:08.951741",
     "status": "completed"
    },
    "tags": []
   },
   "outputs": [
    {
     "name": "stdout",
     "output_type": "stream",
     "text": [
      "Epoch 1/50\n",
      "240/240 [==============================] - 2s 3ms/step - loss: 0.5579 - accuracy: 0.7526 - val_loss: 0.4727 - val_accuracy: 0.7289\n",
      "Epoch 2/50\n",
      "240/240 [==============================] - 1s 2ms/step - loss: 0.4756 - accuracy: 0.7621 - val_loss: 0.4767 - val_accuracy: 0.7040\n",
      "Epoch 3/50\n",
      "240/240 [==============================] - 1s 2ms/step - loss: 0.4649 - accuracy: 0.7594 - val_loss: 0.4584 - val_accuracy: 0.7883\n",
      "Epoch 4/50\n",
      "240/240 [==============================] - 1s 2ms/step - loss: 0.4623 - accuracy: 0.7622 - val_loss: 0.4577 - val_accuracy: 0.7452\n",
      "Epoch 5/50\n",
      "240/240 [==============================] - 1s 2ms/step - loss: 0.4519 - accuracy: 0.7668 - val_loss: 0.4409 - val_accuracy: 0.7538\n",
      "Epoch 6/50\n",
      "240/240 [==============================] - 1s 2ms/step - loss: 0.4530 - accuracy: 0.7655 - val_loss: 0.4486 - val_accuracy: 0.7519\n",
      "Epoch 7/50\n",
      "240/240 [==============================] - 1s 2ms/step - loss: 0.4646 - accuracy: 0.7627 - val_loss: 0.4297 - val_accuracy: 0.7864\n",
      "Epoch 8/50\n",
      "240/240 [==============================] - 1s 2ms/step - loss: 0.4493 - accuracy: 0.7745 - val_loss: 0.4321 - val_accuracy: 0.7548\n",
      "Epoch 9/50\n",
      "240/240 [==============================] - 1s 2ms/step - loss: 0.4450 - accuracy: 0.7660 - val_loss: 0.4381 - val_accuracy: 0.8132\n",
      "Epoch 10/50\n",
      "240/240 [==============================] - 1s 2ms/step - loss: 0.4480 - accuracy: 0.7679 - val_loss: 0.4217 - val_accuracy: 0.7989\n",
      "Epoch 11/50\n",
      "240/240 [==============================] - 1s 2ms/step - loss: 0.4468 - accuracy: 0.7696 - val_loss: 0.4410 - val_accuracy: 0.7931\n",
      "Epoch 12/50\n",
      "240/240 [==============================] - 1s 2ms/step - loss: 0.4453 - accuracy: 0.7678 - val_loss: 0.4355 - val_accuracy: 0.7251\n",
      "Epoch 13/50\n",
      "240/240 [==============================] - 1s 2ms/step - loss: 0.4430 - accuracy: 0.7651 - val_loss: 0.4435 - val_accuracy: 0.8027\n",
      "Epoch 14/50\n",
      "240/240 [==============================] - 1s 2ms/step - loss: 0.4477 - accuracy: 0.7630 - val_loss: 0.4451 - val_accuracy: 0.7672\n",
      "Epoch 15/50\n",
      "240/240 [==============================] - 1s 2ms/step - loss: 0.4408 - accuracy: 0.7679 - val_loss: 0.4275 - val_accuracy: 0.8056\n",
      "Epoch 16/50\n",
      "240/240 [==============================] - 1s 2ms/step - loss: 0.4417 - accuracy: 0.7668 - val_loss: 0.4252 - val_accuracy: 0.7548\n",
      "Epoch 17/50\n",
      "240/240 [==============================] - 1s 2ms/step - loss: 0.4417 - accuracy: 0.7677 - val_loss: 0.4415 - val_accuracy: 0.7481\n",
      "Epoch 18/50\n",
      "240/240 [==============================] - 1s 2ms/step - loss: 0.4460 - accuracy: 0.7636 - val_loss: 0.4354 - val_accuracy: 0.7462\n",
      "Epoch 19/50\n",
      "240/240 [==============================] - 1s 2ms/step - loss: 0.4459 - accuracy: 0.7685 - val_loss: 0.4301 - val_accuracy: 0.7826\n",
      "Epoch 20/50\n",
      "240/240 [==============================] - 1s 2ms/step - loss: 0.4388 - accuracy: 0.7719 - val_loss: 0.4538 - val_accuracy: 0.7021\n",
      "Epoch 21/50\n",
      "240/240 [==============================] - 1s 2ms/step - loss: 0.4474 - accuracy: 0.7699 - val_loss: 0.4269 - val_accuracy: 0.7989\n",
      "Epoch 22/50\n",
      "240/240 [==============================] - 1s 2ms/step - loss: 0.4383 - accuracy: 0.7736 - val_loss: 0.4430 - val_accuracy: 0.7308\n",
      "Epoch 23/50\n",
      "240/240 [==============================] - 1s 2ms/step - loss: 0.4390 - accuracy: 0.7669 - val_loss: 0.4290 - val_accuracy: 0.8123\n",
      "Epoch 24/50\n",
      "240/240 [==============================] - 1s 2ms/step - loss: 0.4386 - accuracy: 0.7716 - val_loss: 0.4278 - val_accuracy: 0.7548\n",
      "Epoch 25/50\n",
      "240/240 [==============================] - 1s 2ms/step - loss: 0.4412 - accuracy: 0.7779 - val_loss: 0.4286 - val_accuracy: 0.7979\n",
      "Epoch 26/50\n",
      "240/240 [==============================] - 1s 2ms/step - loss: 0.4370 - accuracy: 0.7727 - val_loss: 0.4388 - val_accuracy: 0.7625\n",
      "Epoch 27/50\n",
      "240/240 [==============================] - 1s 2ms/step - loss: 0.4390 - accuracy: 0.7665 - val_loss: 0.4313 - val_accuracy: 0.7471\n",
      "Epoch 28/50\n",
      "240/240 [==============================] - 1s 2ms/step - loss: 0.4379 - accuracy: 0.7691 - val_loss: 0.4276 - val_accuracy: 0.7969\n",
      "Epoch 29/50\n",
      "240/240 [==============================] - 1s 2ms/step - loss: 0.4385 - accuracy: 0.7691 - val_loss: 0.4194 - val_accuracy: 0.8027\n",
      "Epoch 30/50\n",
      "240/240 [==============================] - 1s 2ms/step - loss: 0.4345 - accuracy: 0.7732 - val_loss: 0.4290 - val_accuracy: 0.8151\n",
      "Epoch 31/50\n",
      "240/240 [==============================] - 1s 2ms/step - loss: 0.4358 - accuracy: 0.7771 - val_loss: 0.4283 - val_accuracy: 0.8027\n",
      "Epoch 32/50\n",
      "240/240 [==============================] - 1s 2ms/step - loss: 0.4342 - accuracy: 0.7762 - val_loss: 0.4310 - val_accuracy: 0.7989\n",
      "Epoch 33/50\n",
      "240/240 [==============================] - 1s 2ms/step - loss: 0.4356 - accuracy: 0.7746 - val_loss: 0.4254 - val_accuracy: 0.7979\n",
      "Epoch 34/50\n",
      "240/240 [==============================] - 1s 2ms/step - loss: 0.4340 - accuracy: 0.7738 - val_loss: 0.4248 - val_accuracy: 0.8056\n",
      "Epoch 35/50\n",
      "240/240 [==============================] - 1s 2ms/step - loss: 0.4358 - accuracy: 0.7743 - val_loss: 0.4236 - val_accuracy: 0.8008\n",
      "Epoch 36/50\n",
      "240/240 [==============================] - 1s 2ms/step - loss: 0.4378 - accuracy: 0.7784 - val_loss: 0.4259 - val_accuracy: 0.7529\n",
      "Epoch 37/50\n",
      "240/240 [==============================] - 1s 2ms/step - loss: 0.4348 - accuracy: 0.7700 - val_loss: 0.4264 - val_accuracy: 0.8075\n",
      "Epoch 38/50\n",
      "240/240 [==============================] - 1s 2ms/step - loss: 0.4363 - accuracy: 0.7753 - val_loss: 0.4277 - val_accuracy: 0.8046\n",
      "Epoch 39/50\n",
      "240/240 [==============================] - 1s 2ms/step - loss: 0.4345 - accuracy: 0.7742 - val_loss: 0.4347 - val_accuracy: 0.7328\n",
      "Epoch 40/50\n",
      "240/240 [==============================] - 1s 2ms/step - loss: 0.4350 - accuracy: 0.7681 - val_loss: 0.4280 - val_accuracy: 0.7711\n",
      "Epoch 41/50\n",
      "240/240 [==============================] - 1s 2ms/step - loss: 0.4353 - accuracy: 0.7706 - val_loss: 0.4249 - val_accuracy: 0.7586\n",
      "Epoch 42/50\n",
      "240/240 [==============================] - 1s 2ms/step - loss: 0.4329 - accuracy: 0.7780 - val_loss: 0.4314 - val_accuracy: 0.8113\n",
      "Epoch 43/50\n",
      "240/240 [==============================] - 1s 2ms/step - loss: 0.4380 - accuracy: 0.7753 - val_loss: 0.4295 - val_accuracy: 0.7529\n",
      "Epoch 44/50\n",
      "240/240 [==============================] - 1s 2ms/step - loss: 0.4340 - accuracy: 0.7757 - val_loss: 0.4392 - val_accuracy: 0.7471\n",
      "Epoch 45/50\n",
      "240/240 [==============================] - 1s 2ms/step - loss: 0.4357 - accuracy: 0.7708 - val_loss: 0.4239 - val_accuracy: 0.7902\n",
      "Epoch 46/50\n",
      "240/240 [==============================] - 1s 2ms/step - loss: 0.4327 - accuracy: 0.7745 - val_loss: 0.4250 - val_accuracy: 0.7529\n",
      "Epoch 47/50\n",
      "240/240 [==============================] - 1s 2ms/step - loss: 0.4334 - accuracy: 0.7666 - val_loss: 0.4430 - val_accuracy: 0.7653\n",
      "Epoch 48/50\n",
      "240/240 [==============================] - 1s 2ms/step - loss: 0.4325 - accuracy: 0.7727 - val_loss: 0.4372 - val_accuracy: 0.8065\n",
      "Epoch 49/50\n",
      "240/240 [==============================] - 1s 2ms/step - loss: 0.4320 - accuracy: 0.7736 - val_loss: 0.4283 - val_accuracy: 0.7557\n",
      "Epoch 50/50\n",
      "240/240 [==============================] - 1s 2ms/step - loss: 0.4333 - accuracy: 0.7719 - val_loss: 0.4293 - val_accuracy: 0.7950\n"
     ]
    }
   ],
   "source": [
    "history = model.fit(X_train, y_train, epochs=50, validation_data=(X_valid, y_valid))"
   ]
  },
  {
   "cell_type": "code",
   "execution_count": 41,
   "id": "f6656f98",
   "metadata": {
    "execution": {
     "iopub.execute_input": "2023-09-01T06:53:37.429857Z",
     "iopub.status.busy": "2023-09-01T06:53:37.428486Z",
     "iopub.status.idle": "2023-09-01T06:53:37.807813Z",
     "shell.execute_reply": "2023-09-01T06:53:37.806563Z"
    },
    "papermill": {
     "duration": 0.468678,
     "end_time": "2023-09-01T06:53:37.810403",
     "exception": false,
     "start_time": "2023-09-01T06:53:37.341725",
     "status": "completed"
    },
    "tags": []
   },
   "outputs": [
    {
     "data": {
      "text/plain": [
       "<Axes: >"
      ]
     },
     "execution_count": 41,
     "metadata": {},
     "output_type": "execute_result"
    },
    {
     "data": {
      "image/png": "[encoded data removed]",
      "text/plain": [
       "<Figure size 640x480 with 1 Axes>"
      ]
     },
     "metadata": {},
     "output_type": "display_data"
    }
   ],
   "source": [
    "pd.DataFrame(history.history).plot()"
   ]
  },
  {
   "cell_type": "code",
   "execution_count": 42,
   "id": "3c2fa0ec",
   "metadata": {
    "execution": {
     "iopub.execute_input": "2023-09-01T06:53:37.991309Z",
     "iopub.status.busy": "2023-09-01T06:53:37.990914Z",
     "iopub.status.idle": "2023-09-01T06:53:38.066878Z",
     "shell.execute_reply": "2023-09-01T06:53:38.065691Z"
    },
    "papermill": {
     "duration": 0.171436,
     "end_time": "2023-09-01T06:53:38.069448",
     "exception": false,
     "start_time": "2023-09-01T06:53:37.898012",
     "status": "completed"
    },
    "tags": []
   },
   "outputs": [
    {
     "data": {
      "text/plain": [
       "['DeepSpaceship.pkl']"
      ]
     },
     "execution_count": 42,
     "metadata": {},
     "output_type": "execute_result"
    }
   ],
   "source": [
    "# Saving the Final Model\n",
    "# joblib.dump(final_model, \"SpaceshipClassifier.pkl\")\n",
    "joblib.dump(model, \"DeepSpaceship.pkl\")"
   ]
  },
  {
   "cell_type": "markdown",
   "id": "079e2b52",
   "metadata": {
    "papermill": {
     "duration": 0.085703,
     "end_time": "2023-09-01T06:53:38.242754",
     "exception": false,
     "start_time": "2023-09-01T06:53:38.157051",
     "status": "completed"
    },
    "tags": []
   },
   "source": [
    "## That brings me to the end of this Notebook.\n",
    "\n",
    "- **Please share your valuable feedback in the comments**\n",
    "- **I am open to Suggestions and Constructive Comments**\n",
    "\n",
    "🙂🙃"
   ]
  }
 ],
 "kernelspec": {
  "display_name": "Python 3",
  "language": "python",
  "name": "python3"
 },
 "language_info": {
  "codemirror_mode": {
   "name": "ipython",
   "version": 3
  },
  "file_extension": ".py",
  "mimetype": "text/x-python",
  "name": "python",
  "nbconvert_exporter": "python",
  "pygments_lexer": "ipython3",
  "version": "3.6.4"
 },
 "metadata": {
  "kernelspec": {
   "display_name": "Python 3",
   "language": "python",
   "name": "python3"
  },
  "language_info": {
   "codemirror_mode": {
    "name": "ipython",
    "version": 3
   },
   "file_extension": ".py",
   "mimetype": "text/x-python",
   "name": "python",
   "nbconvert_exporter": "python",
   "pygments_lexer": "ipython3",
   "version": "3.10.12"
  },
  "papermill": {
   "default_parameters": {},
   "duration": 91.850443,
   "end_time": "2023-09-01T06:53:41.447686",
   "environment_variables": {},
   "exception": null,
   "input_path": "__notebook__.ipynb",
   "output_path": "__notebook__.ipynb",
   "parameters": {},
   "start_time": "2023-09-01T06:52:09.597243",
   "version": "2.4.0"
  }
 },
 "nbformat": 4,
 "nbformat_minor": 5
}
