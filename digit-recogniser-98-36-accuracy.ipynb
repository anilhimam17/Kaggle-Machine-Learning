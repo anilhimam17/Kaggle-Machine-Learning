{
 "cells": [
  {
   "cell_type": "markdown",
   "id": "4e883241",
   "metadata": {
    "papermill": {
     "duration": 0.011762,
     "end_time": "2023-08-17T07:17:03.498625",
     "exception": false,
     "start_time": "2023-08-17T07:17:03.486863",
     "status": "completed"
    },
    "tags": []
   },
   "source": [
    "# Handwritten Digits Recognition using Tensorflow\n",
    "\n",
    "- Hey everyone, this is my first complete machine learning project where I have worked on solving the problem on recognising `Handwritten Digits`.\n",
    "\n",
    "- Like many of you this is my first step to understanding this branch of computer science and hopefully mastering it soon.\n",
    "\n",
    "- Through this project I have taken the `first step towards my school dream` of building machine learning models.\n",
    "\n",
    "- I am open to constructive criticism and suggestions in developing my model even further if any 🙂."
   ]
  },
  {
   "cell_type": "markdown",
   "id": "92b6f487",
   "metadata": {
    "papermill": {
     "duration": 0.009808,
     "end_time": "2023-08-17T07:17:03.518493",
     "exception": false,
     "start_time": "2023-08-17T07:17:03.508685",
     "status": "completed"
    },
    "tags": []
   },
   "source": [
    "## Necessary Imports"
   ]
  },
  {
   "cell_type": "code",
   "execution_count": 1,
   "id": "40ac7620",
   "metadata": {
    "execution": {
     "iopub.execute_input": "2023-08-17T07:17:03.540970Z",
     "iopub.status.busy": "2023-08-17T07:17:03.540178Z",
     "iopub.status.idle": "2023-08-17T07:17:11.642716Z",
     "shell.execute_reply": "2023-08-17T07:17:11.641476Z"
    },
    "papermill": {
     "duration": 8.11727,
     "end_time": "2023-08-17T07:17:11.645831",
     "exception": false,
     "start_time": "2023-08-17T07:17:03.528561",
     "status": "completed"
    },
    "tags": []
   },
   "outputs": [],
   "source": [
    "import tensorflow as tf\n",
    "import matplotlib.pyplot as plt\n",
    "import pandas as pd\n",
    "import numpy as np"
   ]
  },
  {
   "cell_type": "markdown",
   "id": "4643a4aa",
   "metadata": {
    "papermill": {
     "duration": 0.010214,
     "end_time": "2023-08-17T07:17:11.666353",
     "exception": false,
     "start_time": "2023-08-17T07:17:11.656139",
     "status": "completed"
    },
    "tags": []
   },
   "source": [
    "## Importing the training dataset with handwritten digits"
   ]
  },
  {
   "cell_type": "code",
   "execution_count": 2,
   "id": "8fded2aa",
   "metadata": {
    "execution": {
     "iopub.execute_input": "2023-08-17T07:17:11.688356Z",
     "iopub.status.busy": "2023-08-17T07:17:11.687674Z",
     "iopub.status.idle": "2023-08-17T07:17:15.064665Z",
     "shell.execute_reply": "2023-08-17T07:17:15.063484Z"
    },
    "papermill": {
     "duration": 3.392115,
     "end_time": "2023-08-17T07:17:15.068155",
     "exception": false,
     "start_time": "2023-08-17T07:17:11.676040",
     "status": "completed"
    },
    "tags": []
   },
   "outputs": [],
   "source": [
    "digits = pd.read_csv(\"../input/digit-recognizer/train.csv\")"
   ]
  },
  {
   "cell_type": "markdown",
   "id": "8a2fb52e",
   "metadata": {
    "papermill": {
     "duration": 0.009811,
     "end_time": "2023-08-17T07:17:15.088083",
     "exception": false,
     "start_time": "2023-08-17T07:17:15.078272",
     "status": "completed"
    },
    "tags": []
   },
   "source": [
    "## Exploring the dataset"
   ]
  },
  {
   "cell_type": "code",
   "execution_count": 3,
   "id": "abb58329",
   "metadata": {
    "execution": {
     "iopub.execute_input": "2023-08-17T07:17:15.109098Z",
     "iopub.status.busy": "2023-08-17T07:17:15.108775Z",
     "iopub.status.idle": "2023-08-17T07:17:15.167468Z",
     "shell.execute_reply": "2023-08-17T07:17:15.166185Z"
    },
    "papermill": {
     "duration": 0.073643,
     "end_time": "2023-08-17T07:17:15.171544",
     "exception": false,
     "start_time": "2023-08-17T07:17:15.097901",
     "status": "completed"
    },
    "tags": []
   },
   "outputs": [
    {
     "name": "stdout",
     "output_type": "stream",
     "text": [
      "<class 'pandas.core.frame.DataFrame'>\n",
      "RangeIndex: 42000 entries, 0 to 41999\n",
      "Columns: 785 entries, label to pixel783\n",
      "dtypes: int64(785)\n",
      "memory usage: 251.5 MB\n"
     ]
    }
   ],
   "source": [
    "digits.info()"
   ]
  },
  {
   "cell_type": "markdown",
   "id": "dc3e352c",
   "metadata": {
    "papermill": {
     "duration": 0.010575,
     "end_time": "2023-08-17T07:17:15.192981",
     "exception": false,
     "start_time": "2023-08-17T07:17:15.182406",
     "status": "completed"
    },
    "tags": []
   },
   "source": [
    "## Seperating the Pixel Data from the Labels"
   ]
  },
  {
   "cell_type": "code",
   "execution_count": 4,
   "id": "19652238",
   "metadata": {
    "execution": {
     "iopub.execute_input": "2023-08-17T07:17:15.214503Z",
     "iopub.status.busy": "2023-08-17T07:17:15.214147Z",
     "iopub.status.idle": "2023-08-17T07:17:15.319929Z",
     "shell.execute_reply": "2023-08-17T07:17:15.318718Z"
    },
    "papermill": {
     "duration": 0.11954,
     "end_time": "2023-08-17T07:17:15.322721",
     "exception": false,
     "start_time": "2023-08-17T07:17:15.203181",
     "status": "completed"
    },
    "tags": []
   },
   "outputs": [
    {
     "data": {
      "text/html": [
       "<div>\n",
       "<style scoped>\n",
       "    .dataframe tbody tr th:only-of-type {\n",
       "        vertical-align: middle;\n",
       "    }\n",
       "\n",
       "    .dataframe tbody tr th {\n",
       "        vertical-align: top;\n",
       "    }\n",
       "\n",
       "    .dataframe thead th {\n",
       "        text-align: right;\n",
       "    }\n",
       "</style>\n",
       "<table border=\"1\" class=\"dataframe\">\n",
       "  <thead>\n",
       "    <tr style=\"text-align: right;\">\n",
       "      <th></th>\n",
       "      <th>pixel0</th>\n",
       "      <th>pixel1</th>\n",
       "      <th>pixel2</th>\n",
       "      <th>pixel3</th>\n",
       "      <th>pixel4</th>\n",
       "      <th>pixel5</th>\n",
       "      <th>pixel6</th>\n",
       "      <th>pixel7</th>\n",
       "      <th>pixel8</th>\n",
       "      <th>pixel9</th>\n",
       "      <th>...</th>\n",
       "      <th>pixel774</th>\n",
       "      <th>pixel775</th>\n",
       "      <th>pixel776</th>\n",
       "      <th>pixel777</th>\n",
       "      <th>pixel778</th>\n",
       "      <th>pixel779</th>\n",
       "      <th>pixel780</th>\n",
       "      <th>pixel781</th>\n",
       "      <th>pixel782</th>\n",
       "      <th>pixel783</th>\n",
       "    </tr>\n",
       "  </thead>\n",
       "  <tbody>\n",
       "    <tr>\n",
       "      <th>0</th>\n",
       "      <td>0</td>\n",
       "      <td>0</td>\n",
       "      <td>0</td>\n",
       "      <td>0</td>\n",
       "      <td>0</td>\n",
       "      <td>0</td>\n",
       "      <td>0</td>\n",
       "      <td>0</td>\n",
       "      <td>0</td>\n",
       "      <td>0</td>\n",
       "      <td>...</td>\n",
       "      <td>0</td>\n",
       "      <td>0</td>\n",
       "      <td>0</td>\n",
       "      <td>0</td>\n",
       "      <td>0</td>\n",
       "      <td>0</td>\n",
       "      <td>0</td>\n",
       "      <td>0</td>\n",
       "      <td>0</td>\n",
       "      <td>0</td>\n",
       "    </tr>\n",
       "    <tr>\n",
       "      <th>1</th>\n",
       "      <td>0</td>\n",
       "      <td>0</td>\n",
       "      <td>0</td>\n",
       "      <td>0</td>\n",
       "      <td>0</td>\n",
       "      <td>0</td>\n",
       "      <td>0</td>\n",
       "      <td>0</td>\n",
       "      <td>0</td>\n",
       "      <td>0</td>\n",
       "      <td>...</td>\n",
       "      <td>0</td>\n",
       "      <td>0</td>\n",
       "      <td>0</td>\n",
       "      <td>0</td>\n",
       "      <td>0</td>\n",
       "      <td>0</td>\n",
       "      <td>0</td>\n",
       "      <td>0</td>\n",
       "      <td>0</td>\n",
       "      <td>0</td>\n",
       "    </tr>\n",
       "    <tr>\n",
       "      <th>2</th>\n",
       "      <td>0</td>\n",
       "      <td>0</td>\n",
       "      <td>0</td>\n",
       "      <td>0</td>\n",
       "      <td>0</td>\n",
       "      <td>0</td>\n",
       "      <td>0</td>\n",
       "      <td>0</td>\n",
       "      <td>0</td>\n",
       "      <td>0</td>\n",
       "      <td>...</td>\n",
       "      <td>0</td>\n",
       "      <td>0</td>\n",
       "      <td>0</td>\n",
       "      <td>0</td>\n",
       "      <td>0</td>\n",
       "      <td>0</td>\n",
       "      <td>0</td>\n",
       "      <td>0</td>\n",
       "      <td>0</td>\n",
       "      <td>0</td>\n",
       "    </tr>\n",
       "    <tr>\n",
       "      <th>3</th>\n",
       "      <td>0</td>\n",
       "      <td>0</td>\n",
       "      <td>0</td>\n",
       "      <td>0</td>\n",
       "      <td>0</td>\n",
       "      <td>0</td>\n",
       "      <td>0</td>\n",
       "      <td>0</td>\n",
       "      <td>0</td>\n",
       "      <td>0</td>\n",
       "      <td>...</td>\n",
       "      <td>0</td>\n",
       "      <td>0</td>\n",
       "      <td>0</td>\n",
       "      <td>0</td>\n",
       "      <td>0</td>\n",
       "      <td>0</td>\n",
       "      <td>0</td>\n",
       "      <td>0</td>\n",
       "      <td>0</td>\n",
       "      <td>0</td>\n",
       "    </tr>\n",
       "    <tr>\n",
       "      <th>4</th>\n",
       "      <td>0</td>\n",
       "      <td>0</td>\n",
       "      <td>0</td>\n",
       "      <td>0</td>\n",
       "      <td>0</td>\n",
       "      <td>0</td>\n",
       "      <td>0</td>\n",
       "      <td>0</td>\n",
       "      <td>0</td>\n",
       "      <td>0</td>\n",
       "      <td>...</td>\n",
       "      <td>0</td>\n",
       "      <td>0</td>\n",
       "      <td>0</td>\n",
       "      <td>0</td>\n",
       "      <td>0</td>\n",
       "      <td>0</td>\n",
       "      <td>0</td>\n",
       "      <td>0</td>\n",
       "      <td>0</td>\n",
       "      <td>0</td>\n",
       "    </tr>\n",
       "  </tbody>\n",
       "</table>\n",
       "<p>5 rows × 784 columns</p>\n",
       "</div>"
      ],
      "text/plain": [
       "   pixel0  pixel1  pixel2  pixel3  pixel4  pixel5  pixel6  pixel7  pixel8  \\\n",
       "0       0       0       0       0       0       0       0       0       0   \n",
       "1       0       0       0       0       0       0       0       0       0   \n",
       "2       0       0       0       0       0       0       0       0       0   \n",
       "3       0       0       0       0       0       0       0       0       0   \n",
       "4       0       0       0       0       0       0       0       0       0   \n",
       "\n",
       "   pixel9  ...  pixel774  pixel775  pixel776  pixel777  pixel778  pixel779  \\\n",
       "0       0  ...         0         0         0         0         0         0   \n",
       "1       0  ...         0         0         0         0         0         0   \n",
       "2       0  ...         0         0         0         0         0         0   \n",
       "3       0  ...         0         0         0         0         0         0   \n",
       "4       0  ...         0         0         0         0         0         0   \n",
       "\n",
       "   pixel780  pixel781  pixel782  pixel783  \n",
       "0         0         0         0         0  \n",
       "1         0         0         0         0  \n",
       "2         0         0         0         0  \n",
       "3         0         0         0         0  \n",
       "4         0         0         0         0  \n",
       "\n",
       "[5 rows x 784 columns]"
      ]
     },
     "execution_count": 4,
     "metadata": {},
     "output_type": "execute_result"
    }
   ],
   "source": [
    "labels = digits[\"label\"]\n",
    "labels.head()\n",
    "\n",
    "digits = digits.drop(\"label\", axis = 1)\n",
    "digits.head()"
   ]
  },
  {
   "cell_type": "markdown",
   "id": "38f1bf2c",
   "metadata": {
    "papermill": {
     "duration": 0.010722,
     "end_time": "2023-08-17T07:17:15.344066",
     "exception": false,
     "start_time": "2023-08-17T07:17:15.333344",
     "status": "completed"
    },
    "tags": []
   },
   "source": [
    "## Splitting the training and validation data"
   ]
  },
  {
   "cell_type": "code",
   "execution_count": 5,
   "id": "ecf0fa30",
   "metadata": {
    "execution": {
     "iopub.execute_input": "2023-08-17T07:17:15.366555Z",
     "iopub.status.busy": "2023-08-17T07:17:15.365464Z",
     "iopub.status.idle": "2023-08-17T07:17:15.376092Z",
     "shell.execute_reply": "2023-08-17T07:17:15.374793Z"
    },
    "papermill": {
     "duration": 0.02527,
     "end_time": "2023-08-17T07:17:15.379389",
     "exception": false,
     "start_time": "2023-08-17T07:17:15.354119",
     "status": "completed"
    },
    "tags": []
   },
   "outputs": [
    {
     "data": {
      "text/plain": [
       "'from sklearn.model_selection import train_test_split\\n\\n# Splitting the Training and Testing Sets\\nX_train_full, X_test, y_train_full, y_test = train_test_split(digits, labels, test_size=0.1, random_state=17)\\n\\n# Splitting the Training and Validation Sets\\nX_train, X_valid, y_train, y_valid = train_test_split(X_train_full, y_train_full, test_size=0.1, random_state=17)'"
      ]
     },
     "execution_count": 5,
     "metadata": {},
     "output_type": "execute_result"
    }
   ],
   "source": [
    "X_train, y_train = digits.iloc[:38000], labels.iloc[:38000]\n",
    "X_valid, y_valid = digits.iloc[38000:40000], labels.iloc[38000:40000]\n",
    "X_test, y_test = digits.iloc[40000:], labels[40000:]\n",
    "'''from sklearn.model_selection import train_test_split\n",
    "\n",
    "# Splitting the Training and Testing Sets\n",
    "X_train_full, X_test, y_train_full, y_test = train_test_split(digits, labels, test_size=0.1, random_state=17)\n",
    "\n",
    "# Splitting the Training and Validation Sets\n",
    "X_train, X_valid, y_train, y_valid = train_test_split(X_train_full, y_train_full, test_size=0.1, random_state=17)'''"
   ]
  },
  {
   "cell_type": "code",
   "execution_count": 6,
   "id": "77cc38ea",
   "metadata": {
    "execution": {
     "iopub.execute_input": "2023-08-17T07:17:15.401468Z",
     "iopub.status.busy": "2023-08-17T07:17:15.401162Z",
     "iopub.status.idle": "2023-08-17T07:17:15.410202Z",
     "shell.execute_reply": "2023-08-17T07:17:15.409150Z"
    },
    "papermill": {
     "duration": 0.023246,
     "end_time": "2023-08-17T07:17:15.413000",
     "exception": false,
     "start_time": "2023-08-17T07:17:15.389754",
     "status": "completed"
    },
    "tags": []
   },
   "outputs": [
    {
     "name": "stdout",
     "output_type": "stream",
     "text": [
      "Training Set:  (38000, 784)\n",
      "Validation Set:  (2000, 784)\n",
      "Test Set:  (2000, 784)\n"
     ]
    }
   ],
   "source": [
    "# Converting the DataFrame to Numpy Arrays\n",
    "X_train = X_train.to_numpy()\n",
    "X_valid = X_valid.to_numpy()\n",
    "X_test = X_test.to_numpy()\n",
    "\n",
    "print(\"Training Set: \", X_train.shape)\n",
    "print(\"Validation Set: \", X_valid.shape)\n",
    "print(\"Test Set: \", X_test.shape)"
   ]
  },
  {
   "cell_type": "code",
   "execution_count": 7,
   "id": "ebc3c944",
   "metadata": {
    "execution": {
     "iopub.execute_input": "2023-08-17T07:17:15.435566Z",
     "iopub.status.busy": "2023-08-17T07:17:15.435243Z",
     "iopub.status.idle": "2023-08-17T07:17:15.441341Z",
     "shell.execute_reply": "2023-08-17T07:17:15.440324Z"
    },
    "papermill": {
     "duration": 0.019791,
     "end_time": "2023-08-17T07:17:15.443548",
     "exception": false,
     "start_time": "2023-08-17T07:17:15.423757",
     "status": "completed"
    },
    "tags": []
   },
   "outputs": [],
   "source": [
    "# Reshaping the numpy arrays\n",
    "X_train = X_train.reshape(X_train.shape[0], 28, 28)\n",
    "X_valid = X_valid.reshape(X_valid.shape[0], 28, 28)\n",
    "X_test = X_test.reshape(X_test.shape[0], 28, 28)"
   ]
  },
  {
   "cell_type": "markdown",
   "id": "daff5461",
   "metadata": {
    "papermill": {
     "duration": 0.010755,
     "end_time": "2023-08-17T07:17:15.464905",
     "exception": false,
     "start_time": "2023-08-17T07:17:15.454150",
     "status": "completed"
    },
    "tags": []
   },
   "source": [
    "## Viewing the Digits"
   ]
  },
  {
   "cell_type": "code",
   "execution_count": 8,
   "id": "914ee77d",
   "metadata": {
    "execution": {
     "iopub.execute_input": "2023-08-17T07:17:15.487631Z",
     "iopub.status.busy": "2023-08-17T07:17:15.487326Z",
     "iopub.status.idle": "2023-08-17T07:17:15.751119Z",
     "shell.execute_reply": "2023-08-17T07:17:15.750060Z"
    },
    "papermill": {
     "duration": 0.278095,
     "end_time": "2023-08-17T07:17:15.753565",
     "exception": false,
     "start_time": "2023-08-17T07:17:15.475470",
     "status": "completed"
    },
    "tags": []
   },
   "outputs": [
    {
     "name": "stdout",
     "output_type": "stream",
     "text": [
      "4\n"
     ]
    },
    {
     "data": {
      "text/plain": [
       "<matplotlib.image.AxesImage at 0x7af8eacdd110>"
      ]
     },
     "execution_count": 8,
     "metadata": {},
     "output_type": "execute_result"
    },
    {
     "data": {
      "image/png": "[encoded data removed]",
      "text/plain": [
       "<Figure size 640x480 with 1 Axes>"
      ]
     },
     "metadata": {},
     "output_type": "display_data"
    }
   ],
   "source": [
    "# Index Value to Visualise using Matplotlib\n",
    "index = 700\n",
    "\n",
    "print(y_train[index])\n",
    "plt.imshow(X_train[index])"
   ]
  },
  {
   "cell_type": "markdown",
   "id": "a771059e",
   "metadata": {
    "papermill": {
     "duration": 0.010719,
     "end_time": "2023-08-17T07:17:15.775570",
     "exception": false,
     "start_time": "2023-08-17T07:17:15.764851",
     "status": "completed"
    },
    "tags": []
   },
   "source": [
    "## Normalising the Pixel Values"
   ]
  },
  {
   "cell_type": "code",
   "execution_count": 9,
   "id": "7fc461a0",
   "metadata": {
    "execution": {
     "iopub.execute_input": "2023-08-17T07:17:15.799318Z",
     "iopub.status.busy": "2023-08-17T07:17:15.798978Z",
     "iopub.status.idle": "2023-08-17T07:17:15.902289Z",
     "shell.execute_reply": "2023-08-17T07:17:15.901074Z"
    },
    "papermill": {
     "duration": 0.119039,
     "end_time": "2023-08-17T07:17:15.905605",
     "exception": false,
     "start_time": "2023-08-17T07:17:15.786566",
     "status": "completed"
    },
    "tags": []
   },
   "outputs": [],
   "source": [
    "X_train = X_train / 255.0\n",
    "X_valid = X_valid / 255.0"
   ]
  },
  {
   "cell_type": "markdown",
   "id": "180d1c88",
   "metadata": {
    "papermill": {
     "duration": 0.010694,
     "end_time": "2023-08-17T07:17:15.927877",
     "exception": false,
     "start_time": "2023-08-17T07:17:15.917183",
     "status": "completed"
    },
    "tags": []
   },
   "source": [
    "## Designing the Model"
   ]
  },
  {
   "cell_type": "code",
   "execution_count": 10,
   "id": "7c1cda14",
   "metadata": {
    "execution": {
     "iopub.execute_input": "2023-08-17T07:17:15.951714Z",
     "iopub.status.busy": "2023-08-17T07:17:15.950741Z",
     "iopub.status.idle": "2023-08-17T07:17:18.575062Z",
     "shell.execute_reply": "2023-08-17T07:17:18.573977Z"
    },
    "papermill": {
     "duration": 2.639613,
     "end_time": "2023-08-17T07:17:18.578378",
     "exception": false,
     "start_time": "2023-08-17T07:17:15.938765",
     "status": "completed"
    },
    "tags": []
   },
   "outputs": [],
   "source": [
    "model = tf.keras.Sequential([\n",
    "    \n",
    "    # Convolutional Layer\n",
    "    tf.keras.layers.Conv2D(32, kernel_size=(3, 3), activation=\"relu\", input_shape=(28, 28, 1)),\n",
    "    tf.keras.layers.MaxPool2D(2, 2),\n",
    "    tf.keras.layers.Conv2D(64, kernel_size=(3, 3), activation=\"relu\"),\n",
    "    tf.keras.layers.MaxPool2D(2, 2),\n",
    "    tf.keras.layers.Conv2D(128, kernel_size=(3, 3), activation=\"relu\"),\n",
    "    \n",
    "    # Flatten Layer\n",
    "    tf.keras.layers.Flatten(),\n",
    "    \n",
    "    # Hidden Layer\n",
    "    tf.keras.layers.Dense(units=256, activation=\"relu\", kernel_regularizer=tf.keras.regularizers.L2(0.01)),\n",
    "    tf.keras.layers.Dense(units=256, activation=\"relu\", kernel_regularizer=tf.keras.regularizers.L2(0.01)),\n",
    "    tf.keras.layers.Dense(units=256, activation=\"relu\", kernel_regularizer=tf.keras.regularizers.L2(0.01)),\n",
    "    \n",
    "    # Output Layer\n",
    "    tf.keras.layers.Dense(units=10, activation=\"linear\")\n",
    "])\n",
    "\n",
    "model.compile(optimizer = tf.keras.optimizers.Adam(learning_rate=0.001), \n",
    "              loss = tf.keras.losses.SparseCategoricalCrossentropy(from_logits = True), \n",
    "              metrics = [\"accuracy\"])"
   ]
  },
  {
   "cell_type": "code",
   "execution_count": 11,
   "id": "56a673eb",
   "metadata": {
    "execution": {
     "iopub.execute_input": "2023-08-17T07:17:18.602186Z",
     "iopub.status.busy": "2023-08-17T07:17:18.601866Z",
     "iopub.status.idle": "2023-08-17T07:17:18.633967Z",
     "shell.execute_reply": "2023-08-17T07:17:18.633153Z"
    },
    "papermill": {
     "duration": 0.065865,
     "end_time": "2023-08-17T07:17:18.655798",
     "exception": false,
     "start_time": "2023-08-17T07:17:18.589933",
     "status": "completed"
    },
    "tags": []
   },
   "outputs": [
    {
     "name": "stdout",
     "output_type": "stream",
     "text": [
      "Model: \"sequential\"\n",
      "_________________________________________________________________\n",
      " Layer (type)                Output Shape              Param #   \n",
      "=================================================================\n",
      " conv2d (Conv2D)             (None, 26, 26, 32)        320       \n",
      "                                                                 \n",
      " max_pooling2d (MaxPooling2D  (None, 13, 13, 32)       0         \n",
      " )                                                               \n",
      "                                                                 \n",
      " conv2d_1 (Conv2D)           (None, 11, 11, 64)        18496     \n",
      "                                                                 \n",
      " max_pooling2d_1 (MaxPooling  (None, 5, 5, 64)         0         \n",
      " 2D)                                                             \n",
      "                                                                 \n",
      " conv2d_2 (Conv2D)           (None, 3, 3, 128)         73856     \n",
      "                                                                 \n",
      " flatten (Flatten)           (None, 1152)              0         \n",
      "                                                                 \n",
      " dense (Dense)               (None, 256)               295168    \n",
      "                                                                 \n",
      " dense_1 (Dense)             (None, 256)               65792     \n",
      "                                                                 \n",
      " dense_2 (Dense)             (None, 256)               65792     \n",
      "                                                                 \n",
      " dense_3 (Dense)             (None, 10)                2570      \n",
      "                                                                 \n",
      "=================================================================\n",
      "Total params: 521,994\n",
      "Trainable params: 521,994\n",
      "Non-trainable params: 0\n",
      "_________________________________________________________________\n"
     ]
    }
   ],
   "source": [
    "model.summary()"
   ]
  },
  {
   "cell_type": "markdown",
   "id": "4a5f66af",
   "metadata": {
    "papermill": {
     "duration": 0.016306,
     "end_time": "2023-08-17T07:17:18.686278",
     "exception": false,
     "start_time": "2023-08-17T07:17:18.669972",
     "status": "completed"
    },
    "tags": []
   },
   "source": [
    "## Training the model"
   ]
  },
  {
   "cell_type": "code",
   "execution_count": 12,
   "id": "0a518d81",
   "metadata": {
    "execution": {
     "iopub.execute_input": "2023-08-17T07:17:18.714494Z",
     "iopub.status.busy": "2023-08-17T07:17:18.714185Z",
     "iopub.status.idle": "2023-08-17T07:19:54.792154Z",
     "shell.execute_reply": "2023-08-17T07:19:54.790870Z"
    },
    "papermill": {
     "duration": 156.094897,
     "end_time": "2023-08-17T07:19:54.794933",
     "exception": false,
     "start_time": "2023-08-17T07:17:18.700036",
     "status": "completed"
    },
    "tags": []
   },
   "outputs": [
    {
     "name": "stdout",
     "output_type": "stream",
     "text": [
      "Epoch 1/25\n",
      "1188/1188 [==============================] - 15s 5ms/step - loss: 0.8857 - accuracy: 0.9237 - val_loss: 0.2531 - val_accuracy: 0.9605\n",
      "Epoch 2/25\n",
      "1188/1188 [==============================] - 6s 5ms/step - loss: 0.2140 - accuracy: 0.9686 - val_loss: 0.1642 - val_accuracy: 0.9770\n",
      "Epoch 3/25\n",
      "1188/1188 [==============================] - 6s 5ms/step - loss: 0.1632 - accuracy: 0.9769 - val_loss: 0.1246 - val_accuracy: 0.9825\n",
      "Epoch 4/25\n",
      "1188/1188 [==============================] - 6s 5ms/step - loss: 0.1379 - accuracy: 0.9806 - val_loss: 0.1338 - val_accuracy: 0.9785\n",
      "Epoch 5/25\n",
      "1188/1188 [==============================] - 6s 5ms/step - loss: 0.1237 - accuracy: 0.9823 - val_loss: 0.1153 - val_accuracy: 0.9795\n",
      "Epoch 6/25\n",
      "1188/1188 [==============================] - 6s 5ms/step - loss: 0.1063 - accuracy: 0.9846 - val_loss: 0.1023 - val_accuracy: 0.9835\n",
      "Epoch 7/25\n",
      "1188/1188 [==============================] - 6s 5ms/step - loss: 0.1042 - accuracy: 0.9847 - val_loss: 0.0982 - val_accuracy: 0.9860\n",
      "Epoch 8/25\n",
      "1188/1188 [==============================] - 6s 5ms/step - loss: 0.0903 - accuracy: 0.9872 - val_loss: 0.0914 - val_accuracy: 0.9840\n",
      "Epoch 9/25\n",
      "1188/1188 [==============================] - 6s 5ms/step - loss: 0.0855 - accuracy: 0.9873 - val_loss: 0.0971 - val_accuracy: 0.9845\n",
      "Epoch 10/25\n",
      "1188/1188 [==============================] - 6s 5ms/step - loss: 0.0808 - accuracy: 0.9889 - val_loss: 0.0849 - val_accuracy: 0.9905\n",
      "Epoch 11/25\n",
      "1188/1188 [==============================] - 6s 5ms/step - loss: 0.0758 - accuracy: 0.9896 - val_loss: 0.0888 - val_accuracy: 0.9840\n",
      "Epoch 12/25\n",
      "1188/1188 [==============================] - 6s 5ms/step - loss: 0.0736 - accuracy: 0.9900 - val_loss: 0.0675 - val_accuracy: 0.9930\n",
      "Epoch 13/25\n",
      "1188/1188 [==============================] - 6s 5ms/step - loss: 0.0696 - accuracy: 0.9904 - val_loss: 0.0672 - val_accuracy: 0.9905\n",
      "Epoch 14/25\n",
      "1188/1188 [==============================] - 6s 5ms/step - loss: 0.0649 - accuracy: 0.9914 - val_loss: 0.0770 - val_accuracy: 0.9895\n",
      "Epoch 15/25\n",
      "1188/1188 [==============================] - 6s 5ms/step - loss: 0.0639 - accuracy: 0.9917 - val_loss: 0.0772 - val_accuracy: 0.9880\n",
      "Epoch 16/25\n",
      "1188/1188 [==============================] - 6s 5ms/step - loss: 0.0616 - accuracy: 0.9921 - val_loss: 0.0756 - val_accuracy: 0.9875\n",
      "Epoch 17/25\n",
      "1188/1188 [==============================] - 6s 5ms/step - loss: 0.0595 - accuracy: 0.9927 - val_loss: 0.0958 - val_accuracy: 0.9825\n",
      "Epoch 18/25\n",
      "1188/1188 [==============================] - 6s 5ms/step - loss: 0.0617 - accuracy: 0.9920 - val_loss: 0.0742 - val_accuracy: 0.9880\n",
      "Epoch 19/25\n",
      "1188/1188 [==============================] - 6s 5ms/step - loss: 0.0573 - accuracy: 0.9931 - val_loss: 0.0677 - val_accuracy: 0.9900\n",
      "Epoch 20/25\n",
      "1188/1188 [==============================] - 6s 5ms/step - loss: 0.0561 - accuracy: 0.9929 - val_loss: 0.0664 - val_accuracy: 0.9885\n",
      "Epoch 21/25\n",
      "1188/1188 [==============================] - 6s 5ms/step - loss: 0.0540 - accuracy: 0.9937 - val_loss: 0.0642 - val_accuracy: 0.9910\n",
      "Epoch 22/25\n",
      "1188/1188 [==============================] - 6s 5ms/step - loss: 0.0548 - accuracy: 0.9934 - val_loss: 0.0826 - val_accuracy: 0.9875\n",
      "Epoch 23/25\n",
      "1188/1188 [==============================] - 6s 5ms/step - loss: 0.0533 - accuracy: 0.9939 - val_loss: 0.0560 - val_accuracy: 0.9910\n",
      "Epoch 24/25\n",
      "1188/1188 [==============================] - 6s 5ms/step - loss: 0.0499 - accuracy: 0.9943 - val_loss: 0.0738 - val_accuracy: 0.9900\n",
      "Epoch 25/25\n",
      "1188/1188 [==============================] - 6s 5ms/step - loss: 0.0533 - accuracy: 0.9938 - val_loss: 0.0695 - val_accuracy: 0.9890\n"
     ]
    }
   ],
   "source": [
    "history = model.fit(X_train, y_train, epochs=25, validation_data=(X_valid, y_valid))"
   ]
  },
  {
   "cell_type": "markdown",
   "id": "c462d7ab",
   "metadata": {
    "papermill": {
     "duration": 0.23323,
     "end_time": "2023-08-17T07:19:55.260572",
     "exception": false,
     "start_time": "2023-08-17T07:19:55.027342",
     "status": "completed"
    },
    "tags": []
   },
   "source": [
    "## Checking the preformance of the model on the Training Set and Validation Set"
   ]
  },
  {
   "cell_type": "code",
   "execution_count": 13,
   "id": "9087eeda",
   "metadata": {
    "execution": {
     "iopub.execute_input": "2023-08-17T07:19:55.786952Z",
     "iopub.status.busy": "2023-08-17T07:19:55.785833Z",
     "iopub.status.idle": "2023-08-17T07:19:56.082319Z",
     "shell.execute_reply": "2023-08-17T07:19:56.081265Z"
    },
    "papermill": {
     "duration": 0.533597,
     "end_time": "2023-08-17T07:19:56.084772",
     "exception": false,
     "start_time": "2023-08-17T07:19:55.551175",
     "status": "completed"
    },
    "tags": []
   },
   "outputs": [
    {
     "data": {
      "image/png": "[encoded data removed]",
      "text/plain": [
       "<Figure size 1200x800 with 1 Axes>"
      ]
     },
     "metadata": {},
     "output_type": "display_data"
    }
   ],
   "source": [
    "pd.DataFrame(history.history).plot(figsize=(12, 8))\n",
    "plt.show()"
   ]
  },
  {
   "cell_type": "markdown",
   "id": "d49d45db",
   "metadata": {
    "papermill": {
     "duration": 0.236507,
     "end_time": "2023-08-17T07:19:56.558960",
     "exception": false,
     "start_time": "2023-08-17T07:19:56.322453",
     "status": "completed"
    },
    "tags": []
   },
   "source": [
    "## Checking Performance on the Seperated Test Set"
   ]
  },
  {
   "cell_type": "code",
   "execution_count": 14,
   "id": "70976113",
   "metadata": {
    "execution": {
     "iopub.execute_input": "2023-08-17T07:19:57.032271Z",
     "iopub.status.busy": "2023-08-17T07:19:57.031532Z",
     "iopub.status.idle": "2023-08-17T07:19:57.418872Z",
     "shell.execute_reply": "2023-08-17T07:19:57.417687Z"
    },
    "papermill": {
     "duration": 0.627855,
     "end_time": "2023-08-17T07:19:57.421499",
     "exception": false,
     "start_time": "2023-08-17T07:19:56.793644",
     "status": "completed"
    },
    "tags": []
   },
   "outputs": [
    {
     "name": "stdout",
     "output_type": "stream",
     "text": [
      "63/63 [==============================] - 0s 3ms/step - loss: 0.0939 - accuracy: 0.9875\n"
     ]
    },
    {
     "data": {
      "text/plain": [
       "[0.09388371556997299, 0.987500011920929]"
      ]
     },
     "execution_count": 14,
     "metadata": {},
     "output_type": "execute_result"
    }
   ],
   "source": [
    "X_test = X_test / 255.0\n",
    "model.evaluate(X_test, y_test)"
   ]
  },
  {
   "cell_type": "markdown",
   "id": "86c3dca9",
   "metadata": {
    "papermill": {
     "duration": 0.237171,
     "end_time": "2023-08-17T07:19:57.901227",
     "exception": false,
     "start_time": "2023-08-17T07:19:57.664056",
     "status": "completed"
    },
    "tags": []
   },
   "source": [
    "## Importing the Testing CSV and Making the Predictions"
   ]
  },
  {
   "cell_type": "code",
   "execution_count": 15,
   "id": "8ccda832",
   "metadata": {
    "execution": {
     "iopub.execute_input": "2023-08-17T07:19:58.372415Z",
     "iopub.status.busy": "2023-08-17T07:19:58.371482Z",
     "iopub.status.idle": "2023-08-17T07:20:00.670463Z",
     "shell.execute_reply": "2023-08-17T07:20:00.668727Z"
    },
    "papermill": {
     "duration": 2.537371,
     "end_time": "2023-08-17T07:20:00.673103",
     "exception": false,
     "start_time": "2023-08-17T07:19:58.135732",
     "status": "completed"
    },
    "tags": []
   },
   "outputs": [
    {
     "name": "stdout",
     "output_type": "stream",
     "text": [
      "<class 'pandas.core.frame.DataFrame'>\n",
      "RangeIndex: 28000 entries, 0 to 27999\n",
      "Columns: 784 entries, pixel0 to pixel783\n",
      "dtypes: int64(784)\n",
      "memory usage: 167.5 MB\n"
     ]
    }
   ],
   "source": [
    "test_digit = pd.read_csv(\"../input/digit-recognizer/test.csv\")\n",
    "test_digit.info()"
   ]
  },
  {
   "cell_type": "code",
   "execution_count": 16,
   "id": "b08a7c9f",
   "metadata": {
    "execution": {
     "iopub.execute_input": "2023-08-17T07:20:01.201517Z",
     "iopub.status.busy": "2023-08-17T07:20:01.201120Z",
     "iopub.status.idle": "2023-08-17T07:20:01.207782Z",
     "shell.execute_reply": "2023-08-17T07:20:01.206553Z"
    },
    "papermill": {
     "duration": 0.250319,
     "end_time": "2023-08-17T07:20:01.211916",
     "exception": false,
     "start_time": "2023-08-17T07:20:00.961597",
     "status": "completed"
    },
    "tags": []
   },
   "outputs": [
    {
     "name": "stdout",
     "output_type": "stream",
     "text": [
      "Test Set Shape:  (28000, 28, 28)\n"
     ]
    }
   ],
   "source": [
    "# Converting the Test Set to Numpy Array\n",
    "test_set = test_digit.to_numpy()\n",
    "test_set = test_set.reshape(28000, 28, 28)\n",
    "print(\"Test Set Shape: \", test_set.shape)"
   ]
  },
  {
   "cell_type": "code",
   "execution_count": 17,
   "id": "787ea54b",
   "metadata": {
    "execution": {
     "iopub.execute_input": "2023-08-17T07:20:01.694954Z",
     "iopub.status.busy": "2023-08-17T07:20:01.693901Z",
     "iopub.status.idle": "2023-08-17T07:20:04.628974Z",
     "shell.execute_reply": "2023-08-17T07:20:04.627571Z"
    },
    "papermill": {
     "duration": 3.179379,
     "end_time": "2023-08-17T07:20:04.631932",
     "exception": false,
     "start_time": "2023-08-17T07:20:01.452553",
     "status": "completed"
    },
    "tags": []
   },
   "outputs": [
    {
     "name": "stdout",
     "output_type": "stream",
     "text": [
      "875/875 [==============================] - 2s 2ms/step\n"
     ]
    }
   ],
   "source": [
    "# Making the Predictions\n",
    "prediction = model.predict(test_set)"
   ]
  },
  {
   "cell_type": "markdown",
   "id": "020c529e",
   "metadata": {
    "papermill": {
     "duration": 0.237326,
     "end_time": "2023-08-17T07:20:05.108296",
     "exception": false,
     "start_time": "2023-08-17T07:20:04.870970",
     "status": "completed"
    },
    "tags": []
   },
   "source": [
    "## Creating a list of the predictions"
   ]
  },
  {
   "cell_type": "code",
   "execution_count": 18,
   "id": "b74dc6a2",
   "metadata": {
    "execution": {
     "iopub.execute_input": "2023-08-17T07:20:05.594439Z",
     "iopub.status.busy": "2023-08-17T07:20:05.594053Z",
     "iopub.status.idle": "2023-08-17T07:20:05.669532Z",
     "shell.execute_reply": "2023-08-17T07:20:05.667722Z"
    },
    "papermill": {
     "duration": 0.327704,
     "end_time": "2023-08-17T07:20:05.672451",
     "exception": false,
     "start_time": "2023-08-17T07:20:05.344747",
     "status": "completed"
    },
    "tags": []
   },
   "outputs": [
    {
     "name": "stdout",
     "output_type": "stream",
     "text": [
      "2\n",
      "0\n",
      "9\n",
      "9\n",
      "3\n"
     ]
    }
   ],
   "source": [
    "class_predictions = list(map(np.argmax, prediction))\n",
    "for i in range(5):\n",
    "    print(class_predictions[i])"
   ]
  },
  {
   "cell_type": "markdown",
   "id": "8e5f27a1",
   "metadata": {
    "papermill": {
     "duration": 0.246582,
     "end_time": "2023-08-17T07:20:06.169111",
     "exception": false,
     "start_time": "2023-08-17T07:20:05.922529",
     "status": "completed"
    },
    "tags": []
   },
   "source": [
    "## Testing the predictions"
   ]
  },
  {
   "cell_type": "code",
   "execution_count": 19,
   "id": "1b06d3bc",
   "metadata": {
    "execution": {
     "iopub.execute_input": "2023-08-17T07:20:06.654588Z",
     "iopub.status.busy": "2023-08-17T07:20:06.654176Z",
     "iopub.status.idle": "2023-08-17T07:20:06.886676Z",
     "shell.execute_reply": "2023-08-17T07:20:06.885622Z"
    },
    "papermill": {
     "duration": 0.478107,
     "end_time": "2023-08-17T07:20:06.889195",
     "exception": false,
     "start_time": "2023-08-17T07:20:06.411088",
     "status": "completed"
    },
    "tags": []
   },
   "outputs": [
    {
     "name": "stdout",
     "output_type": "stream",
     "text": [
      "Label Predicted:  6\n"
     ]
    },
    {
     "data": {
      "text/plain": [
       "<matplotlib.image.AxesImage at 0x7af8a02ad790>"
      ]
     },
     "execution_count": 19,
     "metadata": {},
     "output_type": "execute_result"
    },
    {
     "data": {
      "image/png": "[encoded data removed]",
      "text/plain": [
       "<Figure size 640x480 with 1 Axes>"
      ]
     },
     "metadata": {},
     "output_type": "display_data"
    }
   ],
   "source": [
    "# Checking the test set predictions\n",
    "index = 1900\n",
    "\n",
    "print(f\"Label Predicted: \", class_predictions[index])\n",
    "plt.imshow(test_set[index])"
   ]
  },
  {
   "cell_type": "markdown",
   "id": "3a5e584c",
   "metadata": {
    "papermill": {
     "duration": 0.240882,
     "end_time": "2023-08-17T07:20:07.408255",
     "exception": false,
     "start_time": "2023-08-17T07:20:07.167373",
     "status": "completed"
    },
    "tags": []
   },
   "source": [
    "## Creating a csv of the predictions"
   ]
  },
  {
   "cell_type": "code",
   "execution_count": 20,
   "id": "653a36dd",
   "metadata": {
    "execution": {
     "iopub.execute_input": "2023-08-17T07:20:07.894694Z",
     "iopub.status.busy": "2023-08-17T07:20:07.894288Z",
     "iopub.status.idle": "2023-08-17T07:20:07.906768Z",
     "shell.execute_reply": "2023-08-17T07:20:07.905668Z"
    },
    "papermill": {
     "duration": 0.257327,
     "end_time": "2023-08-17T07:20:07.909677",
     "exception": false,
     "start_time": "2023-08-17T07:20:07.652350",
     "status": "completed"
    },
    "tags": []
   },
   "outputs": [
    {
     "name": "stdout",
     "output_type": "stream",
     "text": [
      "(1, 2)\n",
      "(2, 0)\n",
      "(3, 9)\n",
      "(4, 9)\n",
      "(5, 3)\n"
     ]
    }
   ],
   "source": [
    "class_predictions = list(zip([i for i in range(1, 28001)], class_predictions))\n",
    "for i in range(5):\n",
    "    print(class_predictions[i])"
   ]
  },
  {
   "cell_type": "code",
   "execution_count": 21,
   "id": "cb96663d",
   "metadata": {
    "execution": {
     "iopub.execute_input": "2023-08-17T07:20:08.385475Z",
     "iopub.status.busy": "2023-08-17T07:20:08.385079Z",
     "iopub.status.idle": "2023-08-17T07:20:08.426806Z",
     "shell.execute_reply": "2023-08-17T07:20:08.425607Z"
    },
    "papermill": {
     "duration": 0.283307,
     "end_time": "2023-08-17T07:20:08.429561",
     "exception": false,
     "start_time": "2023-08-17T07:20:08.146254",
     "status": "completed"
    },
    "tags": []
   },
   "outputs": [
    {
     "data": {
      "text/html": [
       "<div>\n",
       "<style scoped>\n",
       "    .dataframe tbody tr th:only-of-type {\n",
       "        vertical-align: middle;\n",
       "    }\n",
       "\n",
       "    .dataframe tbody tr th {\n",
       "        vertical-align: top;\n",
       "    }\n",
       "\n",
       "    .dataframe thead th {\n",
       "        text-align: right;\n",
       "    }\n",
       "</style>\n",
       "<table border=\"1\" class=\"dataframe\">\n",
       "  <thead>\n",
       "    <tr style=\"text-align: right;\">\n",
       "      <th></th>\n",
       "      <th>ImageId</th>\n",
       "      <th>Label</th>\n",
       "    </tr>\n",
       "  </thead>\n",
       "  <tbody>\n",
       "    <tr>\n",
       "      <th>0</th>\n",
       "      <td>1</td>\n",
       "      <td>2</td>\n",
       "    </tr>\n",
       "    <tr>\n",
       "      <th>1</th>\n",
       "      <td>2</td>\n",
       "      <td>0</td>\n",
       "    </tr>\n",
       "    <tr>\n",
       "      <th>2</th>\n",
       "      <td>3</td>\n",
       "      <td>9</td>\n",
       "    </tr>\n",
       "    <tr>\n",
       "      <th>3</th>\n",
       "      <td>4</td>\n",
       "      <td>9</td>\n",
       "    </tr>\n",
       "    <tr>\n",
       "      <th>4</th>\n",
       "      <td>5</td>\n",
       "      <td>3</td>\n",
       "    </tr>\n",
       "  </tbody>\n",
       "</table>\n",
       "</div>"
      ],
      "text/plain": [
       "   ImageId  Label\n",
       "0        1      2\n",
       "1        2      0\n",
       "2        3      9\n",
       "3        4      9\n",
       "4        5      3"
      ]
     },
     "execution_count": 21,
     "metadata": {},
     "output_type": "execute_result"
    }
   ],
   "source": [
    "pred_df = pd.DataFrame(class_predictions, columns = [\"ImageId\", \"Label\"])\n",
    "pred_df.head()"
   ]
  },
  {
   "cell_type": "markdown",
   "id": "b2a913d4",
   "metadata": {
    "papermill": {
     "duration": 0.2811,
     "end_time": "2023-08-17T07:20:08.961117",
     "exception": false,
     "start_time": "2023-08-17T07:20:08.680017",
     "status": "completed"
    },
    "tags": []
   },
   "source": [
    "## Converting the data to a CSV"
   ]
  },
  {
   "cell_type": "code",
   "execution_count": 22,
   "id": "5257fca9",
   "metadata": {
    "execution": {
     "iopub.execute_input": "2023-08-17T07:20:09.436824Z",
     "iopub.status.busy": "2023-08-17T07:20:09.436428Z",
     "iopub.status.idle": "2023-08-17T07:20:09.486659Z",
     "shell.execute_reply": "2023-08-17T07:20:09.485427Z"
    },
    "papermill": {
     "duration": 0.293647,
     "end_time": "2023-08-17T07:20:09.489382",
     "exception": false,
     "start_time": "2023-08-17T07:20:09.195735",
     "status": "completed"
    },
    "tags": []
   },
   "outputs": [],
   "source": [
    "pred_df.to_csv(\"PREDICTION.csv\", index = False)"
   ]
  },
  {
   "cell_type": "code",
   "execution_count": null,
   "id": "10098d47",
   "metadata": {
    "papermill": {
     "duration": 0.280313,
     "end_time": "2023-08-17T07:20:10.010193",
     "exception": false,
     "start_time": "2023-08-17T07:20:09.729880",
     "status": "completed"
    },
    "tags": []
   },
   "outputs": [],
   "source": []
  }
 ],
 "metadata": {
  "kernelspec": {
   "display_name": "Python 3",
   "language": "python",
   "name": "python3"
  },
  "language_info": {
   "codemirror_mode": {
    "name": "ipython",
    "version": 3
   },
   "file_extension": ".py",
   "mimetype": "text/x-python",
   "name": "python",
   "nbconvert_exporter": "python",
   "pygments_lexer": "ipython3",
   "version": "3.7.12"
  },
  "papermill": {
   "default_parameters": {},
   "duration": 201.267077,
   "end_time": "2023-08-17T07:20:13.809791",
   "environment_variables": {},
   "exception": null,
   "input_path": "__notebook__.ipynb",
   "output_path": "__notebook__.ipynb",
   "parameters": {},
   "start_time": "2023-08-17T07:16:52.542714",
   "version": "2.4.0"
  }
 },
 "nbformat": 4,
 "nbformat_minor": 5
}
