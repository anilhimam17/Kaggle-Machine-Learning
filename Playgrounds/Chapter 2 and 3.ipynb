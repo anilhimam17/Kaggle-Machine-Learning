{
 "cells": [
  {
   "metadata": {
    "ExecuteTime": {
     "end_time": "2024-06-14T23:59:20.033217Z",
     "start_time": "2024-06-14T23:59:20.030602Z"
    }
   },
   "cell_type": "code",
   "source": [
    "import matplotlib.pyplot as plt\n",
    "import numpy as np"
   ],
   "id": "301c96aad43da859",
   "outputs": [],
   "execution_count": 45
  },
  {
   "metadata": {},
   "cell_type": "markdown",
   "source": "## Working with Classification Problems",
   "id": "fbe47f7a122c69a5"
  },
  {
   "metadata": {
    "ExecuteTime": {
     "end_time": "2024-06-14T15:09:22.910757Z",
     "start_time": "2024-06-14T15:09:19.559494Z"
    }
   },
   "cell_type": "code",
   "source": [
    "from sklearn.datasets import fetch_openml\n",
    "\n",
    "mnist = fetch_openml(\"mnist_784\")\n",
    "mnist.keys()"
   ],
   "id": "6c4b6ef2c6b284d1",
   "outputs": [
    {
     "data": {
      "text/plain": [
       "dict_keys(['data', 'target', 'frame', 'categories', 'feature_names', 'target_names', 'DESCR', 'details', 'url'])"
      ]
     },
     "execution_count": 2,
     "metadata": {},
     "output_type": "execute_result"
    }
   ],
   "execution_count": 2
  },
  {
   "metadata": {
    "ExecuteTime": {
     "end_time": "2024-06-14T15:09:22.913915Z",
     "start_time": "2024-06-14T15:09:22.911793Z"
    }
   },
   "cell_type": "code",
   "source": [
    "print(mnist[\"data\"].shape)\n",
    "print(mnist[\"target\"].shape)"
   ],
   "id": "42bf27b546a9f8e6",
   "outputs": [
    {
     "name": "stdout",
     "output_type": "stream",
     "text": [
      "(70000, 784)\n",
      "(70000,)\n"
     ]
    }
   ],
   "execution_count": 3
  },
  {
   "metadata": {},
   "cell_type": "markdown",
   "source": "## Viewing an Image",
   "id": "36406cf8900cd66f"
  },
  {
   "metadata": {
    "ExecuteTime": {
     "end_time": "2024-06-14T15:09:23.016026Z",
     "start_time": "2024-06-14T15:09:22.914698Z"
    }
   },
   "cell_type": "code",
   "source": [
    "def plot_image(idx):\n",
    "    # Accessing and Converting the Image\n",
    "    img_array = mnist[\"data\"].iloc[idx].to_numpy()\n",
    "    img_array = img_array.reshape(28, 28)\n",
    "    \n",
    "    # Plotting the Image\n",
    "    plt.figure(figsize=(8, 8))\n",
    "    plt.title(f\"Image of {mnist['target'].iloc[idx]}\")\n",
    "    plt.imshow(img_array, cmap=\"binary\")\n",
    "    \n",
    "plot_image(50)"
   ],
   "id": "35e27c7aa688bf43",
   "outputs": [
    {
     "data": {
      "text/plain": [
       "<Figure size 800x800 with 1 Axes>"
      ],
      "image/png": "[encoded data removed]"
     },
     "metadata": {},
     "output_type": "display_data"
    }
   ],
   "execution_count": 4
  },
  {
   "metadata": {},
   "cell_type": "markdown",
   "source": "## Seperating the Train and Test Sets",
   "id": "77b9fb11bcfd175b"
  },
  {
   "metadata": {
    "ExecuteTime": {
     "end_time": "2024-06-14T15:09:28.178521Z",
     "start_time": "2024-06-14T15:09:27.945739Z"
    }
   },
   "cell_type": "code",
   "source": [
    "from sklearn.model_selection import train_test_split\n",
    "\n",
    "X_train, X_test, y_train, y_test = train_test_split(mnist[\"data\"], mnist[\"target\"], test_size=0.12, shuffle=True, random_state=17)\n",
    "\n",
    "print(\"X_train: \", X_train.shape)\n",
    "print(\"y_train: \", y_train.shape)\n",
    "print(\"X_test: \", X_test.shape)\n",
    "print(\"y_test: \", y_test.shape)"
   ],
   "id": "b95cdb1439002336",
   "outputs": [
    {
     "name": "stdout",
     "output_type": "stream",
     "text": [
      "X_train:  (61600, 784)\n",
      "y_train:  (61600,)\n",
      "X_test:  (8400, 784)\n",
      "y_test:  (8400,)\n"
     ]
    }
   ],
   "execution_count": 5
  },
  {
   "metadata": {
    "ExecuteTime": {
     "end_time": "2024-06-14T15:10:15.801424Z",
     "start_time": "2024-06-14T15:10:15.797723Z"
    }
   },
   "cell_type": "code",
   "source": [
    "# Segregating all the 7's\n",
    "y_train_7 = (y_train == 7)\n",
    "print(y_train_7.head())\n",
    "print(y_train_7.shape)"
   ],
   "id": "75fd187fb36e2a5f",
   "outputs": [
    {
     "name": "stdout",
     "output_type": "stream",
     "text": [
      "35274    False\n",
      "58149    False\n",
      "58695    False\n",
      "59538    False\n",
      "3034     False\n",
      "Name: class, dtype: bool\n",
      "(61600,)\n"
     ]
    }
   ],
   "execution_count": 6
  },
  {
   "metadata": {
    "ExecuteTime": {
     "end_time": "2024-06-14T15:10:17.075306Z",
     "start_time": "2024-06-14T15:10:17.071711Z"
    }
   },
   "cell_type": "code",
   "source": [
    "y_test_7 = (y_test == 7)\n",
    "print(y_test_7.head())\n",
    "print(y_test_7.shape)"
   ],
   "id": "7d35397035be37c9",
   "outputs": [
    {
     "name": "stdout",
     "output_type": "stream",
     "text": [
      "3938     False\n",
      "14210    False\n",
      "28158    False\n",
      "55574    False\n",
      "61527    False\n",
      "Name: class, dtype: bool\n",
      "(8400,)\n"
     ]
    }
   ],
   "execution_count": 7
  },
  {
   "metadata": {
    "ExecuteTime": {
     "end_time": "2024-06-14T15:10:18.593600Z",
     "start_time": "2024-06-14T15:10:17.996275Z"
    }
   },
   "cell_type": "code",
   "source": [
    "from sklearn.ensemble import RandomForestClassifier\n",
    "\n",
    "# Initialisation\n",
    "rfc = RandomForestClassifier(n_jobs=-1, random_state=17)\n",
    "\n",
    "# Training\n",
    "rfc.fit(X_train, y_train_7)"
   ],
   "id": "c408f7ec671d41a9",
   "outputs": [
    {
     "data": {
      "text/plain": [
       "RandomForestClassifier(n_jobs=-1, random_state=17)"
      ],
      "text/html": [
       "<style>#sk-container-id-1 {\n",
       "  /* Definition of color scheme common for light and dark mode */\n",
       "  --sklearn-color-text: black;\n",
       "  --sklearn-color-line: gray;\n",
       "  /* Definition of color scheme for unfitted estimators */\n",
       "  --sklearn-color-unfitted-level-0: #fff5e6;\n",
       "  --sklearn-color-unfitted-level-1: #f6e4d2;\n",
       "  --sklearn-color-unfitted-level-2: #ffe0b3;\n",
       "  --sklearn-color-unfitted-level-3: chocolate;\n",
       "  /* Definition of color scheme for fitted estimators */\n",
       "  --sklearn-color-fitted-level-0: #f0f8ff;\n",
       "  --sklearn-color-fitted-level-1: #d4ebff;\n",
       "  --sklearn-color-fitted-level-2: #b3dbfd;\n",
       "  --sklearn-color-fitted-level-3: cornflowerblue;\n",
       "\n",
       "  /* Specific color for light theme */\n",
       "  --sklearn-color-text-on-default-background: var(--sg-text-color, var(--theme-code-foreground, var(--jp-content-font-color1, black)));\n",
       "  --sklearn-color-background: var(--sg-background-color, var(--theme-background, var(--jp-layout-color0, white)));\n",
       "  --sklearn-color-border-box: var(--sg-text-color, var(--theme-code-foreground, var(--jp-content-font-color1, black)));\n",
       "  --sklearn-color-icon: #696969;\n",
       "\n",
       "  @media (prefers-color-scheme: dark) {\n",
       "    /* Redefinition of color scheme for dark theme */\n",
       "    --sklearn-color-text-on-default-background: var(--sg-text-color, var(--theme-code-foreground, var(--jp-content-font-color1, white)));\n",
       "    --sklearn-color-background: var(--sg-background-color, var(--theme-background, var(--jp-layout-color0, #111)));\n",
       "    --sklearn-color-border-box: var(--sg-text-color, var(--theme-code-foreground, var(--jp-content-font-color1, white)));\n",
       "    --sklearn-color-icon: #878787;\n",
       "  }\n",
       "}\n",
       "\n",
       "#sk-container-id-1 {\n",
       "  color: var(--sklearn-color-text);\n",
       "}\n",
       "\n",
       "#sk-container-id-1 pre {\n",
       "  padding: 0;\n",
       "}\n",
       "\n",
       "#sk-container-id-1 input.sk-hidden--visually {\n",
       "  border: 0;\n",
       "  clip: rect(1px 1px 1px 1px);\n",
       "  clip: rect(1px, 1px, 1px, 1px);\n",
       "  height: 1px;\n",
       "  margin: -1px;\n",
       "  overflow: hidden;\n",
       "  padding: 0;\n",
       "  position: absolute;\n",
       "  width: 1px;\n",
       "}\n",
       "\n",
       "#sk-container-id-1 div.sk-dashed-wrapped {\n",
       "  border: 1px dashed var(--sklearn-color-line);\n",
       "  margin: 0 0.4em 0.5em 0.4em;\n",
       "  box-sizing: border-box;\n",
       "  padding-bottom: 0.4em;\n",
       "  background-color: var(--sklearn-color-background);\n",
       "}\n",
       "\n",
       "#sk-container-id-1 div.sk-container {\n",
       "  /* jupyter's `normalize.less` sets `[hidden] { display: none; }`\n",
       "     but bootstrap.min.css set `[hidden] { display: none !important; }`\n",
       "     so we also need the `!important` here to be able to override the\n",
       "     default hidden behavior on the sphinx rendered scikit-learn.org.\n",
       "     See: https://github.com/scikit-learn/scikit-learn/issues/21755 */\n",
       "  display: inline-block !important;\n",
       "  position: relative;\n",
       "}\n",
       "\n",
       "#sk-container-id-1 div.sk-text-repr-fallback {\n",
       "  display: none;\n",
       "}\n",
       "\n",
       "div.sk-parallel-item,\n",
       "div.sk-serial,\n",
       "div.sk-item {\n",
       "  /* draw centered vertical line to link estimators */\n",
       "  background-image: linear-gradient(var(--sklearn-color-text-on-default-background), var(--sklearn-color-text-on-default-background));\n",
       "  background-size: 2px 100%;\n",
       "  background-repeat: no-repeat;\n",
       "  background-position: center center;\n",
       "}\n",
       "\n",
       "/* Parallel-specific style estimator block */\n",
       "\n",
       "#sk-container-id-1 div.sk-parallel-item::after {\n",
       "  content: \"\";\n",
       "  width: 100%;\n",
       "  border-bottom: 2px solid var(--sklearn-color-text-on-default-background);\n",
       "  flex-grow: 1;\n",
       "}\n",
       "\n",
       "#sk-container-id-1 div.sk-parallel {\n",
       "  display: flex;\n",
       "  align-items: stretch;\n",
       "  justify-content: center;\n",
       "  background-color: var(--sklearn-color-background);\n",
       "  position: relative;\n",
       "}\n",
       "\n",
       "#sk-container-id-1 div.sk-parallel-item {\n",
       "  display: flex;\n",
       "  flex-direction: column;\n",
       "}\n",
       "\n",
       "#sk-container-id-1 div.sk-parallel-item:first-child::after {\n",
       "  align-self: flex-end;\n",
       "  width: 50%;\n",
       "}\n",
       "\n",
       "#sk-container-id-1 div.sk-parallel-item:last-child::after {\n",
       "  align-self: flex-start;\n",
       "  width: 50%;\n",
       "}\n",
       "\n",
       "#sk-container-id-1 div.sk-parallel-item:only-child::after {\n",
       "  width: 0;\n",
       "}\n",
       "\n",
       "/* Serial-specific style estimator block */\n",
       "\n",
       "#sk-container-id-1 div.sk-serial {\n",
       "  display: flex;\n",
       "  flex-direction: column;\n",
       "  align-items: center;\n",
       "  background-color: var(--sklearn-color-background);\n",
       "  padding-right: 1em;\n",
       "  padding-left: 1em;\n",
       "}\n",
       "\n",
       "\n",
       "/* Toggleable style: style used for estimator/Pipeline/ColumnTransformer box that is\n",
       "clickable and can be expanded/collapsed.\n",
       "- Pipeline and ColumnTransformer use this feature and define the default style\n",
       "- Estimators will overwrite some part of the style using the `sk-estimator` class\n",
       "*/\n",
       "\n",
       "/* Pipeline and ColumnTransformer style (default) */\n",
       "\n",
       "#sk-container-id-1 div.sk-toggleable {\n",
       "  /* Default theme specific background. It is overwritten whether we have a\n",
       "  specific estimator or a Pipeline/ColumnTransformer */\n",
       "  background-color: var(--sklearn-color-background);\n",
       "}\n",
       "\n",
       "/* Toggleable label */\n",
       "#sk-container-id-1 label.sk-toggleable__label {\n",
       "  cursor: pointer;\n",
       "  display: block;\n",
       "  width: 100%;\n",
       "  margin-bottom: 0;\n",
       "  padding: 0.5em;\n",
       "  box-sizing: border-box;\n",
       "  text-align: center;\n",
       "}\n",
       "\n",
       "#sk-container-id-1 label.sk-toggleable__label-arrow:before {\n",
       "  /* Arrow on the left of the label */\n",
       "  content: \"▸\";\n",
       "  float: left;\n",
       "  margin-right: 0.25em;\n",
       "  color: var(--sklearn-color-icon);\n",
       "}\n",
       "\n",
       "#sk-container-id-1 label.sk-toggleable__label-arrow:hover:before {\n",
       "  color: var(--sklearn-color-text);\n",
       "}\n",
       "\n",
       "/* Toggleable content - dropdown */\n",
       "\n",
       "#sk-container-id-1 div.sk-toggleable__content {\n",
       "  max-height: 0;\n",
       "  max-width: 0;\n",
       "  overflow: hidden;\n",
       "  text-align: left;\n",
       "  /* unfitted */\n",
       "  background-color: var(--sklearn-color-unfitted-level-0);\n",
       "}\n",
       "\n",
       "#sk-container-id-1 div.sk-toggleable__content.fitted {\n",
       "  /* fitted */\n",
       "  background-color: var(--sklearn-color-fitted-level-0);\n",
       "}\n",
       "\n",
       "#sk-container-id-1 div.sk-toggleable__content pre {\n",
       "  margin: 0.2em;\n",
       "  border-radius: 0.25em;\n",
       "  color: var(--sklearn-color-text);\n",
       "  /* unfitted */\n",
       "  background-color: var(--sklearn-color-unfitted-level-0);\n",
       "}\n",
       "\n",
       "#sk-container-id-1 div.sk-toggleable__content.fitted pre {\n",
       "  /* unfitted */\n",
       "  background-color: var(--sklearn-color-fitted-level-0);\n",
       "}\n",
       "\n",
       "#sk-container-id-1 input.sk-toggleable__control:checked~div.sk-toggleable__content {\n",
       "  /* Expand drop-down */\n",
       "  max-height: 200px;\n",
       "  max-width: 100%;\n",
       "  overflow: auto;\n",
       "}\n",
       "\n",
       "#sk-container-id-1 input.sk-toggleable__control:checked~label.sk-toggleable__label-arrow:before {\n",
       "  content: \"▾\";\n",
       "}\n",
       "\n",
       "/* Pipeline/ColumnTransformer-specific style */\n",
       "\n",
       "#sk-container-id-1 div.sk-label input.sk-toggleable__control:checked~label.sk-toggleable__label {\n",
       "  color: var(--sklearn-color-text);\n",
       "  background-color: var(--sklearn-color-unfitted-level-2);\n",
       "}\n",
       "\n",
       "#sk-container-id-1 div.sk-label.fitted input.sk-toggleable__control:checked~label.sk-toggleable__label {\n",
       "  background-color: var(--sklearn-color-fitted-level-2);\n",
       "}\n",
       "\n",
       "/* Estimator-specific style */\n",
       "\n",
       "/* Colorize estimator box */\n",
       "#sk-container-id-1 div.sk-estimator input.sk-toggleable__control:checked~label.sk-toggleable__label {\n",
       "  /* unfitted */\n",
       "  background-color: var(--sklearn-color-unfitted-level-2);\n",
       "}\n",
       "\n",
       "#sk-container-id-1 div.sk-estimator.fitted input.sk-toggleable__control:checked~label.sk-toggleable__label {\n",
       "  /* fitted */\n",
       "  background-color: var(--sklearn-color-fitted-level-2);\n",
       "}\n",
       "\n",
       "#sk-container-id-1 div.sk-label label.sk-toggleable__label,\n",
       "#sk-container-id-1 div.sk-label label {\n",
       "  /* The background is the default theme color */\n",
       "  color: var(--sklearn-color-text-on-default-background);\n",
       "}\n",
       "\n",
       "/* On hover, darken the color of the background */\n",
       "#sk-container-id-1 div.sk-label:hover label.sk-toggleable__label {\n",
       "  color: var(--sklearn-color-text);\n",
       "  background-color: var(--sklearn-color-unfitted-level-2);\n",
       "}\n",
       "\n",
       "/* Label box, darken color on hover, fitted */\n",
       "#sk-container-id-1 div.sk-label.fitted:hover label.sk-toggleable__label.fitted {\n",
       "  color: var(--sklearn-color-text);\n",
       "  background-color: var(--sklearn-color-fitted-level-2);\n",
       "}\n",
       "\n",
       "/* Estimator label */\n",
       "\n",
       "#sk-container-id-1 div.sk-label label {\n",
       "  font-family: monospace;\n",
       "  font-weight: bold;\n",
       "  display: inline-block;\n",
       "  line-height: 1.2em;\n",
       "}\n",
       "\n",
       "#sk-container-id-1 div.sk-label-container {\n",
       "  text-align: center;\n",
       "}\n",
       "\n",
       "/* Estimator-specific */\n",
       "#sk-container-id-1 div.sk-estimator {\n",
       "  font-family: monospace;\n",
       "  border: 1px dotted var(--sklearn-color-border-box);\n",
       "  border-radius: 0.25em;\n",
       "  box-sizing: border-box;\n",
       "  margin-bottom: 0.5em;\n",
       "  /* unfitted */\n",
       "  background-color: var(--sklearn-color-unfitted-level-0);\n",
       "}\n",
       "\n",
       "#sk-container-id-1 div.sk-estimator.fitted {\n",
       "  /* fitted */\n",
       "  background-color: var(--sklearn-color-fitted-level-0);\n",
       "}\n",
       "\n",
       "/* on hover */\n",
       "#sk-container-id-1 div.sk-estimator:hover {\n",
       "  /* unfitted */\n",
       "  background-color: var(--sklearn-color-unfitted-level-2);\n",
       "}\n",
       "\n",
       "#sk-container-id-1 div.sk-estimator.fitted:hover {\n",
       "  /* fitted */\n",
       "  background-color: var(--sklearn-color-fitted-level-2);\n",
       "}\n",
       "\n",
       "/* Specification for estimator info (e.g. \"i\" and \"?\") */\n",
       "\n",
       "/* Common style for \"i\" and \"?\" */\n",
       "\n",
       ".sk-estimator-doc-link,\n",
       "a:link.sk-estimator-doc-link,\n",
       "a:visited.sk-estimator-doc-link {\n",
       "  float: right;\n",
       "  font-size: smaller;\n",
       "  line-height: 1em;\n",
       "  font-family: monospace;\n",
       "  background-color: var(--sklearn-color-background);\n",
       "  border-radius: 1em;\n",
       "  height: 1em;\n",
       "  width: 1em;\n",
       "  text-decoration: none !important;\n",
       "  margin-left: 1ex;\n",
       "  /* unfitted */\n",
       "  border: var(--sklearn-color-unfitted-level-1) 1pt solid;\n",
       "  color: var(--sklearn-color-unfitted-level-1);\n",
       "}\n",
       "\n",
       ".sk-estimator-doc-link.fitted,\n",
       "a:link.sk-estimator-doc-link.fitted,\n",
       "a:visited.sk-estimator-doc-link.fitted {\n",
       "  /* fitted */\n",
       "  border: var(--sklearn-color-fitted-level-1) 1pt solid;\n",
       "  color: var(--sklearn-color-fitted-level-1);\n",
       "}\n",
       "\n",
       "/* On hover */\n",
       "div.sk-estimator:hover .sk-estimator-doc-link:hover,\n",
       ".sk-estimator-doc-link:hover,\n",
       "div.sk-label-container:hover .sk-estimator-doc-link:hover,\n",
       ".sk-estimator-doc-link:hover {\n",
       "  /* unfitted */\n",
       "  background-color: var(--sklearn-color-unfitted-level-3);\n",
       "  color: var(--sklearn-color-background);\n",
       "  text-decoration: none;\n",
       "}\n",
       "\n",
       "div.sk-estimator.fitted:hover .sk-estimator-doc-link.fitted:hover,\n",
       ".sk-estimator-doc-link.fitted:hover,\n",
       "div.sk-label-container:hover .sk-estimator-doc-link.fitted:hover,\n",
       ".sk-estimator-doc-link.fitted:hover {\n",
       "  /* fitted */\n",
       "  background-color: var(--sklearn-color-fitted-level-3);\n",
       "  color: var(--sklearn-color-background);\n",
       "  text-decoration: none;\n",
       "}\n",
       "\n",
       "/* Span, style for the box shown on hovering the info icon */\n",
       ".sk-estimator-doc-link span {\n",
       "  display: none;\n",
       "  z-index: 9999;\n",
       "  position: relative;\n",
       "  font-weight: normal;\n",
       "  right: .2ex;\n",
       "  padding: .5ex;\n",
       "  margin: .5ex;\n",
       "  width: min-content;\n",
       "  min-width: 20ex;\n",
       "  max-width: 50ex;\n",
       "  color: var(--sklearn-color-text);\n",
       "  box-shadow: 2pt 2pt 4pt #999;\n",
       "  /* unfitted */\n",
       "  background: var(--sklearn-color-unfitted-level-0);\n",
       "  border: .5pt solid var(--sklearn-color-unfitted-level-3);\n",
       "}\n",
       "\n",
       ".sk-estimator-doc-link.fitted span {\n",
       "  /* fitted */\n",
       "  background: var(--sklearn-color-fitted-level-0);\n",
       "  border: var(--sklearn-color-fitted-level-3);\n",
       "}\n",
       "\n",
       ".sk-estimator-doc-link:hover span {\n",
       "  display: block;\n",
       "}\n",
       "\n",
       "/* \"?\"-specific style due to the `<a>` HTML tag */\n",
       "\n",
       "#sk-container-id-1 a.estimator_doc_link {\n",
       "  float: right;\n",
       "  font-size: 1rem;\n",
       "  line-height: 1em;\n",
       "  font-family: monospace;\n",
       "  background-color: var(--sklearn-color-background);\n",
       "  border-radius: 1rem;\n",
       "  height: 1rem;\n",
       "  width: 1rem;\n",
       "  text-decoration: none;\n",
       "  /* unfitted */\n",
       "  color: var(--sklearn-color-unfitted-level-1);\n",
       "  border: var(--sklearn-color-unfitted-level-1) 1pt solid;\n",
       "}\n",
       "\n",
       "#sk-container-id-1 a.estimator_doc_link.fitted {\n",
       "  /* fitted */\n",
       "  border: var(--sklearn-color-fitted-level-1) 1pt solid;\n",
       "  color: var(--sklearn-color-fitted-level-1);\n",
       "}\n",
       "\n",
       "/* On hover */\n",
       "#sk-container-id-1 a.estimator_doc_link:hover {\n",
       "  /* unfitted */\n",
       "  background-color: var(--sklearn-color-unfitted-level-3);\n",
       "  color: var(--sklearn-color-background);\n",
       "  text-decoration: none;\n",
       "}\n",
       "\n",
       "#sk-container-id-1 a.estimator_doc_link.fitted:hover {\n",
       "  /* fitted */\n",
       "  background-color: var(--sklearn-color-fitted-level-3);\n",
       "}\n",
       "</style><div id=\"sk-container-id-1\" class=\"sk-top-container\"><div class=\"sk-text-repr-fallback\"><pre>RandomForestClassifier(n_jobs=-1, random_state=17)</pre><b>In a Jupyter environment, please rerun this cell to show the HTML representation or trust the notebook. <br />On GitHub, the HTML representation is unable to render, please try loading this page with nbviewer.org.</b></div><div class=\"sk-container\" hidden><div class=\"sk-item\"><div class=\"sk-estimator fitted sk-toggleable\"><input class=\"sk-toggleable__control sk-hidden--visually\" id=\"sk-estimator-id-1\" type=\"checkbox\" checked><label for=\"sk-estimator-id-1\" class=\"sk-toggleable__label fitted sk-toggleable__label-arrow fitted\">&nbsp;&nbsp;RandomForestClassifier<a class=\"sk-estimator-doc-link fitted\" rel=\"noreferrer\" target=\"_blank\" href=\"https://scikit-learn.org/1.5/modules/generated/sklearn.ensemble.RandomForestClassifier.html\">?<span>Documentation for RandomForestClassifier</span></a><span class=\"sk-estimator-doc-link fitted\">i<span>Fitted</span></span></label><div class=\"sk-toggleable__content fitted\"><pre>RandomForestClassifier(n_jobs=-1, random_state=17)</pre></div> </div></div></div></div>"
      ]
     },
     "execution_count": 8,
     "metadata": {},
     "output_type": "execute_result"
    }
   ],
   "execution_count": 8
  },
  {
   "metadata": {
    "ExecuteTime": {
     "end_time": "2024-06-14T15:10:20.566738Z",
     "start_time": "2024-06-14T15:10:19.221561Z"
    }
   },
   "cell_type": "code",
   "source": [
    "from sklearn.model_selection import cross_val_score\n",
    "\n",
    "score = cross_val_score(\n",
    "    estimator=rfc,\n",
    "    X=X_test,\n",
    "    y=y_test_7,\n",
    "    scoring=\"accuracy\",\n",
    "    n_jobs=-1\n",
    ")\n",
    "\n",
    "print(score)"
   ],
   "id": "2686e8794bdf73f6",
   "outputs": [
    {
     "name": "stdout",
     "output_type": "stream",
     "text": [
      "[1. 1. 1. 1. 1.]\n"
     ]
    }
   ],
   "execution_count": 9
  },
  {
   "metadata": {
    "ExecuteTime": {
     "end_time": "2024-06-14T15:10:23.599955Z",
     "start_time": "2024-06-14T15:10:21.647294Z"
    }
   },
   "cell_type": "code",
   "source": [
    "# Implementing Cross-Validation Score\n",
    "from sklearn.model_selection import StratifiedKFold\n",
    "from sklearn.base import clone\n",
    "\n",
    "# Initialising the KFolds\n",
    "folds = StratifiedKFold(shuffle=True, random_state=17)\n",
    "\n",
    "# Carrying out CV_Scoring\n",
    "print(\"\\nBeginning Cross Validation Score:\")\n",
    "i = 1\n",
    "for train_idx, test_idx in folds.split(X_train, y_train_7):\n",
    "    rfc_clone = clone(RandomForestClassifier())\n",
    "    \n",
    "    # Training fold\n",
    "    X_train_fold, y_train_7_fold = X_train.iloc[train_idx], y_train_7.iloc[train_idx]\n",
    "    \n",
    "    # Testing fold\n",
    "    X_test_fold, y_test_7_fold = X_train.iloc[test_idx], y_train_7.iloc[test_idx]\n",
    "    \n",
    "    # Training\n",
    "    rfc_clone.fit(X_train_fold, y_train_7_fold)\n",
    "    \n",
    "    # Testing\n",
    "    predictions = rfc_clone.predict(X_test_fold)\n",
    "    correctness = sum(y_test_7_fold == predictions)\n",
    "    print(f\"Score for {i}th Cross Validation Split is: {correctness / len(predictions)}\")\n",
    "    \n",
    "    i += 1"
   ],
   "id": "121a4abf9ccb1954",
   "outputs": [
    {
     "name": "stdout",
     "output_type": "stream",
     "text": [
      "\n",
      "Beginning Cross Validation Score:\n",
      "Score for 1th Cross Validation Split is: 1.0\n",
      "Score for 2th Cross Validation Split is: 1.0\n",
      "Score for 3th Cross Validation Split is: 1.0\n",
      "Score for 4th Cross Validation Split is: 1.0\n",
      "Score for 5th Cross Validation Split is: 1.0\n"
     ]
    }
   ],
   "execution_count": 10
  },
  {
   "metadata": {},
   "cell_type": "markdown",
   "source": "## Confusion Matrix",
   "id": "10b6484030c4191f"
  },
  {
   "metadata": {
    "ExecuteTime": {
     "end_time": "2024-06-14T15:10:26.263375Z",
     "start_time": "2024-06-14T15:10:25.122472Z"
    }
   },
   "cell_type": "code",
   "source": [
    "from sklearn.metrics import confusion_matrix\n",
    "from sklearn.model_selection import cross_val_predict\n",
    "\n",
    "# Testing\n",
    "rfc = RandomForestClassifier()\n",
    "rfc.fit(X_train, y_train_7)\n",
    "\n",
    "predictions = cross_val_predict(rfc, X_test, y_test_7, cv=5, n_jobs=-1)\n",
    "confusion_matrix(y_test_7, predictions, labels=[True, False])"
   ],
   "id": "91727922cd8722a3",
   "outputs": [
    {
     "data": {
      "text/plain": [
       "array([[   0,    0],\n",
       "       [   0, 8400]])"
      ]
     },
     "execution_count": 11,
     "metadata": {},
     "output_type": "execute_result"
    }
   ],
   "execution_count": 11
  },
  {
   "metadata": {
    "ExecuteTime": {
     "end_time": "2024-06-14T15:10:26.763232Z",
     "start_time": "2024-06-14T15:10:26.264520Z"
    }
   },
   "cell_type": "code",
   "source": [
    "from sklearn.linear_model import SGDClassifier\n",
    "\n",
    "sgd_clf = SGDClassifier()\n",
    "sgd_clf.fit(X_train, y_train_7)\n",
    "\n",
    "predictions = cross_val_predict(sgd_clf, X_test, y_test_7, n_jobs=-1)\n",
    "confusion_matrix(y_test_7, predictions)"
   ],
   "id": "c760fca5b9819b49",
   "outputs": [
    {
     "ename": "ValueError",
     "evalue": "The number of classes has to be greater than one; got 1 class",
     "output_type": "error",
     "traceback": [
      "\u001B[0;31m---------------------------------------------------------------------------\u001B[0m",
      "\u001B[0;31mValueError\u001B[0m                                Traceback (most recent call last)",
      "Cell \u001B[0;32mIn[12], line 4\u001B[0m\n\u001B[1;32m      1\u001B[0m \u001B[38;5;28;01mfrom\u001B[39;00m \u001B[38;5;21;01msklearn\u001B[39;00m\u001B[38;5;21;01m.\u001B[39;00m\u001B[38;5;21;01mlinear_model\u001B[39;00m \u001B[38;5;28;01mimport\u001B[39;00m SGDClassifier\n\u001B[1;32m      3\u001B[0m sgd_clf \u001B[38;5;241m=\u001B[39m SGDClassifier()\n\u001B[0;32m----> 4\u001B[0m \u001B[43msgd_clf\u001B[49m\u001B[38;5;241;43m.\u001B[39;49m\u001B[43mfit\u001B[49m\u001B[43m(\u001B[49m\u001B[43mX_train\u001B[49m\u001B[43m,\u001B[49m\u001B[43m \u001B[49m\u001B[43my_train_7\u001B[49m\u001B[43m)\u001B[49m\n\u001B[1;32m      6\u001B[0m predictions \u001B[38;5;241m=\u001B[39m cross_val_predict(sgd_clf, X_test, y_test_7, n_jobs\u001B[38;5;241m=\u001B[39m\u001B[38;5;241m-\u001B[39m\u001B[38;5;241m1\u001B[39m)\n\u001B[1;32m      7\u001B[0m confusion_matrix(y_test_7, predictions)\n",
      "File \u001B[0;32m~/miniforge3/lib/python3.10/site-packages/sklearn/base.py:1473\u001B[0m, in \u001B[0;36m_fit_context.<locals>.decorator.<locals>.wrapper\u001B[0;34m(estimator, *args, **kwargs)\u001B[0m\n\u001B[1;32m   1466\u001B[0m     estimator\u001B[38;5;241m.\u001B[39m_validate_params()\n\u001B[1;32m   1468\u001B[0m \u001B[38;5;28;01mwith\u001B[39;00m config_context(\n\u001B[1;32m   1469\u001B[0m     skip_parameter_validation\u001B[38;5;241m=\u001B[39m(\n\u001B[1;32m   1470\u001B[0m         prefer_skip_nested_validation \u001B[38;5;129;01mor\u001B[39;00m global_skip_validation\n\u001B[1;32m   1471\u001B[0m     )\n\u001B[1;32m   1472\u001B[0m ):\n\u001B[0;32m-> 1473\u001B[0m     \u001B[38;5;28;01mreturn\u001B[39;00m \u001B[43mfit_method\u001B[49m\u001B[43m(\u001B[49m\u001B[43mestimator\u001B[49m\u001B[43m,\u001B[49m\u001B[43m \u001B[49m\u001B[38;5;241;43m*\u001B[39;49m\u001B[43margs\u001B[49m\u001B[43m,\u001B[49m\u001B[43m \u001B[49m\u001B[38;5;241;43m*\u001B[39;49m\u001B[38;5;241;43m*\u001B[39;49m\u001B[43mkwargs\u001B[49m\u001B[43m)\u001B[49m\n",
      "File \u001B[0;32m~/miniforge3/lib/python3.10/site-packages/sklearn/linear_model/_stochastic_gradient.py:938\u001B[0m, in \u001B[0;36mBaseSGDClassifier.fit\u001B[0;34m(self, X, y, coef_init, intercept_init, sample_weight)\u001B[0m\n\u001B[1;32m    909\u001B[0m \u001B[38;5;250m\u001B[39m\u001B[38;5;124;03m\"\"\"Fit linear model with Stochastic Gradient Descent.\u001B[39;00m\n\u001B[1;32m    910\u001B[0m \n\u001B[1;32m    911\u001B[0m \u001B[38;5;124;03mParameters\u001B[39;00m\n\u001B[0;32m   (...)\u001B[0m\n\u001B[1;32m    934\u001B[0m \u001B[38;5;124;03m    Returns an instance of self.\u001B[39;00m\n\u001B[1;32m    935\u001B[0m \u001B[38;5;124;03m\"\"\"\u001B[39;00m\n\u001B[1;32m    936\u001B[0m \u001B[38;5;28mself\u001B[39m\u001B[38;5;241m.\u001B[39m_more_validate_params()\n\u001B[0;32m--> 938\u001B[0m \u001B[38;5;28;01mreturn\u001B[39;00m \u001B[38;5;28;43mself\u001B[39;49m\u001B[38;5;241;43m.\u001B[39;49m\u001B[43m_fit\u001B[49m\u001B[43m(\u001B[49m\n\u001B[1;32m    939\u001B[0m \u001B[43m    \u001B[49m\u001B[43mX\u001B[49m\u001B[43m,\u001B[49m\n\u001B[1;32m    940\u001B[0m \u001B[43m    \u001B[49m\u001B[43my\u001B[49m\u001B[43m,\u001B[49m\n\u001B[1;32m    941\u001B[0m \u001B[43m    \u001B[49m\u001B[43malpha\u001B[49m\u001B[38;5;241;43m=\u001B[39;49m\u001B[38;5;28;43mself\u001B[39;49m\u001B[38;5;241;43m.\u001B[39;49m\u001B[43malpha\u001B[49m\u001B[43m,\u001B[49m\n\u001B[1;32m    942\u001B[0m \u001B[43m    \u001B[49m\u001B[43mC\u001B[49m\u001B[38;5;241;43m=\u001B[39;49m\u001B[38;5;241;43m1.0\u001B[39;49m\u001B[43m,\u001B[49m\n\u001B[1;32m    943\u001B[0m \u001B[43m    \u001B[49m\u001B[43mloss\u001B[49m\u001B[38;5;241;43m=\u001B[39;49m\u001B[38;5;28;43mself\u001B[39;49m\u001B[38;5;241;43m.\u001B[39;49m\u001B[43mloss\u001B[49m\u001B[43m,\u001B[49m\n\u001B[1;32m    944\u001B[0m \u001B[43m    \u001B[49m\u001B[43mlearning_rate\u001B[49m\u001B[38;5;241;43m=\u001B[39;49m\u001B[38;5;28;43mself\u001B[39;49m\u001B[38;5;241;43m.\u001B[39;49m\u001B[43mlearning_rate\u001B[49m\u001B[43m,\u001B[49m\n\u001B[1;32m    945\u001B[0m \u001B[43m    \u001B[49m\u001B[43mcoef_init\u001B[49m\u001B[38;5;241;43m=\u001B[39;49m\u001B[43mcoef_init\u001B[49m\u001B[43m,\u001B[49m\n\u001B[1;32m    946\u001B[0m \u001B[43m    \u001B[49m\u001B[43mintercept_init\u001B[49m\u001B[38;5;241;43m=\u001B[39;49m\u001B[43mintercept_init\u001B[49m\u001B[43m,\u001B[49m\n\u001B[1;32m    947\u001B[0m \u001B[43m    \u001B[49m\u001B[43msample_weight\u001B[49m\u001B[38;5;241;43m=\u001B[39;49m\u001B[43msample_weight\u001B[49m\u001B[43m,\u001B[49m\n\u001B[1;32m    948\u001B[0m \u001B[43m\u001B[49m\u001B[43m)\u001B[49m\n",
      "File \u001B[0;32m~/miniforge3/lib/python3.10/site-packages/sklearn/linear_model/_stochastic_gradient.py:725\u001B[0m, in \u001B[0;36mBaseSGDClassifier._fit\u001B[0;34m(self, X, y, alpha, C, loss, learning_rate, coef_init, intercept_init, sample_weight)\u001B[0m\n\u001B[1;32m    722\u001B[0m \u001B[38;5;66;03m# Clear iteration count for multiple call to fit.\u001B[39;00m\n\u001B[1;32m    723\u001B[0m \u001B[38;5;28mself\u001B[39m\u001B[38;5;241m.\u001B[39mt_ \u001B[38;5;241m=\u001B[39m \u001B[38;5;241m1.0\u001B[39m\n\u001B[0;32m--> 725\u001B[0m \u001B[38;5;28;43mself\u001B[39;49m\u001B[38;5;241;43m.\u001B[39;49m\u001B[43m_partial_fit\u001B[49m\u001B[43m(\u001B[49m\n\u001B[1;32m    726\u001B[0m \u001B[43m    \u001B[49m\u001B[43mX\u001B[49m\u001B[43m,\u001B[49m\n\u001B[1;32m    727\u001B[0m \u001B[43m    \u001B[49m\u001B[43my\u001B[49m\u001B[43m,\u001B[49m\n\u001B[1;32m    728\u001B[0m \u001B[43m    \u001B[49m\u001B[43malpha\u001B[49m\u001B[43m,\u001B[49m\n\u001B[1;32m    729\u001B[0m \u001B[43m    \u001B[49m\u001B[43mC\u001B[49m\u001B[43m,\u001B[49m\n\u001B[1;32m    730\u001B[0m \u001B[43m    \u001B[49m\u001B[43mloss\u001B[49m\u001B[43m,\u001B[49m\n\u001B[1;32m    731\u001B[0m \u001B[43m    \u001B[49m\u001B[43mlearning_rate\u001B[49m\u001B[43m,\u001B[49m\n\u001B[1;32m    732\u001B[0m \u001B[43m    \u001B[49m\u001B[38;5;28;43mself\u001B[39;49m\u001B[38;5;241;43m.\u001B[39;49m\u001B[43mmax_iter\u001B[49m\u001B[43m,\u001B[49m\n\u001B[1;32m    733\u001B[0m \u001B[43m    \u001B[49m\u001B[43mclasses\u001B[49m\u001B[43m,\u001B[49m\n\u001B[1;32m    734\u001B[0m \u001B[43m    \u001B[49m\u001B[43msample_weight\u001B[49m\u001B[43m,\u001B[49m\n\u001B[1;32m    735\u001B[0m \u001B[43m    \u001B[49m\u001B[43mcoef_init\u001B[49m\u001B[43m,\u001B[49m\n\u001B[1;32m    736\u001B[0m \u001B[43m    \u001B[49m\u001B[43mintercept_init\u001B[49m\u001B[43m,\u001B[49m\n\u001B[1;32m    737\u001B[0m \u001B[43m\u001B[49m\u001B[43m)\u001B[49m\n\u001B[1;32m    739\u001B[0m \u001B[38;5;28;01mif\u001B[39;00m (\n\u001B[1;32m    740\u001B[0m     \u001B[38;5;28mself\u001B[39m\u001B[38;5;241m.\u001B[39mtol \u001B[38;5;129;01mis\u001B[39;00m \u001B[38;5;129;01mnot\u001B[39;00m \u001B[38;5;28;01mNone\u001B[39;00m\n\u001B[1;32m    741\u001B[0m     \u001B[38;5;129;01mand\u001B[39;00m \u001B[38;5;28mself\u001B[39m\u001B[38;5;241m.\u001B[39mtol \u001B[38;5;241m>\u001B[39m \u001B[38;5;241m-\u001B[39mnp\u001B[38;5;241m.\u001B[39minf\n\u001B[1;32m    742\u001B[0m     \u001B[38;5;129;01mand\u001B[39;00m \u001B[38;5;28mself\u001B[39m\u001B[38;5;241m.\u001B[39mn_iter_ \u001B[38;5;241m==\u001B[39m \u001B[38;5;28mself\u001B[39m\u001B[38;5;241m.\u001B[39mmax_iter\n\u001B[1;32m    743\u001B[0m ):\n\u001B[1;32m    744\u001B[0m     warnings\u001B[38;5;241m.\u001B[39mwarn(\n\u001B[1;32m    745\u001B[0m         (\n\u001B[1;32m    746\u001B[0m             \u001B[38;5;124m\"\u001B[39m\u001B[38;5;124mMaximum number of iteration reached before \u001B[39m\u001B[38;5;124m\"\u001B[39m\n\u001B[0;32m   (...)\u001B[0m\n\u001B[1;32m    750\u001B[0m         ConvergenceWarning,\n\u001B[1;32m    751\u001B[0m     )\n",
      "File \u001B[0;32m~/miniforge3/lib/python3.10/site-packages/sklearn/linear_model/_stochastic_gradient.py:669\u001B[0m, in \u001B[0;36mBaseSGDClassifier._partial_fit\u001B[0;34m(self, X, y, alpha, C, loss, learning_rate, max_iter, classes, sample_weight, coef_init, intercept_init)\u001B[0m\n\u001B[1;32m    659\u001B[0m     \u001B[38;5;28mself\u001B[39m\u001B[38;5;241m.\u001B[39m_fit_binary(\n\u001B[1;32m    660\u001B[0m         X,\n\u001B[1;32m    661\u001B[0m         y,\n\u001B[0;32m   (...)\u001B[0m\n\u001B[1;32m    666\u001B[0m         max_iter\u001B[38;5;241m=\u001B[39mmax_iter,\n\u001B[1;32m    667\u001B[0m     )\n\u001B[1;32m    668\u001B[0m \u001B[38;5;28;01melse\u001B[39;00m:\n\u001B[0;32m--> 669\u001B[0m     \u001B[38;5;28;01mraise\u001B[39;00m \u001B[38;5;167;01mValueError\u001B[39;00m(\n\u001B[1;32m    670\u001B[0m         \u001B[38;5;124m\"\u001B[39m\u001B[38;5;124mThe number of classes has to be greater than one; got \u001B[39m\u001B[38;5;132;01m%d\u001B[39;00m\u001B[38;5;124m class\u001B[39m\u001B[38;5;124m\"\u001B[39m\n\u001B[1;32m    671\u001B[0m         \u001B[38;5;241m%\u001B[39m n_classes\n\u001B[1;32m    672\u001B[0m     )\n\u001B[1;32m    674\u001B[0m \u001B[38;5;28;01mreturn\u001B[39;00m \u001B[38;5;28mself\u001B[39m\n",
      "\u001B[0;31mValueError\u001B[0m: The number of classes has to be greater than one; got 1 class"
     ]
    }
   ],
   "execution_count": 12
  },
  {
   "metadata": {},
   "cell_type": "code",
   "source": [
    "y_train = y_train.astype(int)\n",
    "y_train.head()"
   ],
   "id": "35bac4bd8c1db38f",
   "outputs": [],
   "execution_count": null
  },
  {
   "metadata": {},
   "cell_type": "code",
   "source": [
    "y_train_7 = (y_train == 7)\n",
    "y_train_7 = y_train_7.astype(int)\n",
    "y_train_7.head()"
   ],
   "id": "b5d8c8b3816607df",
   "outputs": [],
   "execution_count": null
  },
  {
   "metadata": {},
   "cell_type": "code",
   "source": "y_train_7.tail()",
   "id": "94d625310da5293",
   "outputs": [],
   "execution_count": null
  },
  {
   "metadata": {
    "ExecuteTime": {
     "end_time": "2024-06-14T15:10:27.159711Z",
     "start_time": "2024-06-14T15:10:27.030223Z"
    }
   },
   "cell_type": "code",
   "source": [
    "X_train, X_test, y_train_7, y_test_7 = train_test_split(\n",
    "    X_train, y_train_7\n",
    ")\n",
    "\n",
    "print(\"X_train: \", X_train.shape)\n",
    "print(\"y_train: \", y_train.shape)\n",
    "print(\"X_test: \", X_test.shape)\n",
    "print(\"y_test: \", y_test.shape)"
   ],
   "id": "d05f603176a71ec9",
   "outputs": [
    {
     "name": "stdout",
     "output_type": "stream",
     "text": [
      "X_train:  (46200, 784)\n",
      "y_train:  (61600,)\n",
      "X_test:  (15400, 784)\n",
      "y_test:  (8400,)\n"
     ]
    }
   ],
   "execution_count": 13
  },
  {
   "metadata": {
    "ExecuteTime": {
     "end_time": "2024-06-14T15:10:27.602634Z",
     "start_time": "2024-06-14T15:10:27.379304Z"
    }
   },
   "cell_type": "code",
   "source": [
    "sgd_clf = SGDClassifier()\n",
    "sgd_clf.fit(X_train, y_train_7)\n",
    "\n",
    "predictions = cross_val_predict(sgd_clf, X_test, y_test_7, n_jobs=-1)\n",
    "confusion_matrix(y_test_7, predictions)"
   ],
   "id": "efa9500ed627586f",
   "outputs": [
    {
     "ename": "ValueError",
     "evalue": "The number of classes has to be greater than one; got 1 class",
     "output_type": "error",
     "traceback": [
      "\u001B[0;31m---------------------------------------------------------------------------\u001B[0m",
      "\u001B[0;31mValueError\u001B[0m                                Traceback (most recent call last)",
      "Cell \u001B[0;32mIn[14], line 2\u001B[0m\n\u001B[1;32m      1\u001B[0m sgd_clf \u001B[38;5;241m=\u001B[39m SGDClassifier()\n\u001B[0;32m----> 2\u001B[0m \u001B[43msgd_clf\u001B[49m\u001B[38;5;241;43m.\u001B[39;49m\u001B[43mfit\u001B[49m\u001B[43m(\u001B[49m\u001B[43mX_train\u001B[49m\u001B[43m,\u001B[49m\u001B[43m \u001B[49m\u001B[43my_train_7\u001B[49m\u001B[43m)\u001B[49m\n\u001B[1;32m      4\u001B[0m predictions \u001B[38;5;241m=\u001B[39m cross_val_predict(sgd_clf, X_test, y_test_7, n_jobs\u001B[38;5;241m=\u001B[39m\u001B[38;5;241m-\u001B[39m\u001B[38;5;241m1\u001B[39m)\n\u001B[1;32m      5\u001B[0m confusion_matrix(y_test_7, predictions)\n",
      "File \u001B[0;32m~/miniforge3/lib/python3.10/site-packages/sklearn/base.py:1473\u001B[0m, in \u001B[0;36m_fit_context.<locals>.decorator.<locals>.wrapper\u001B[0;34m(estimator, *args, **kwargs)\u001B[0m\n\u001B[1;32m   1466\u001B[0m     estimator\u001B[38;5;241m.\u001B[39m_validate_params()\n\u001B[1;32m   1468\u001B[0m \u001B[38;5;28;01mwith\u001B[39;00m config_context(\n\u001B[1;32m   1469\u001B[0m     skip_parameter_validation\u001B[38;5;241m=\u001B[39m(\n\u001B[1;32m   1470\u001B[0m         prefer_skip_nested_validation \u001B[38;5;129;01mor\u001B[39;00m global_skip_validation\n\u001B[1;32m   1471\u001B[0m     )\n\u001B[1;32m   1472\u001B[0m ):\n\u001B[0;32m-> 1473\u001B[0m     \u001B[38;5;28;01mreturn\u001B[39;00m \u001B[43mfit_method\u001B[49m\u001B[43m(\u001B[49m\u001B[43mestimator\u001B[49m\u001B[43m,\u001B[49m\u001B[43m \u001B[49m\u001B[38;5;241;43m*\u001B[39;49m\u001B[43margs\u001B[49m\u001B[43m,\u001B[49m\u001B[43m \u001B[49m\u001B[38;5;241;43m*\u001B[39;49m\u001B[38;5;241;43m*\u001B[39;49m\u001B[43mkwargs\u001B[49m\u001B[43m)\u001B[49m\n",
      "File \u001B[0;32m~/miniforge3/lib/python3.10/site-packages/sklearn/linear_model/_stochastic_gradient.py:938\u001B[0m, in \u001B[0;36mBaseSGDClassifier.fit\u001B[0;34m(self, X, y, coef_init, intercept_init, sample_weight)\u001B[0m\n\u001B[1;32m    909\u001B[0m \u001B[38;5;250m\u001B[39m\u001B[38;5;124;03m\"\"\"Fit linear model with Stochastic Gradient Descent.\u001B[39;00m\n\u001B[1;32m    910\u001B[0m \n\u001B[1;32m    911\u001B[0m \u001B[38;5;124;03mParameters\u001B[39;00m\n\u001B[0;32m   (...)\u001B[0m\n\u001B[1;32m    934\u001B[0m \u001B[38;5;124;03m    Returns an instance of self.\u001B[39;00m\n\u001B[1;32m    935\u001B[0m \u001B[38;5;124;03m\"\"\"\u001B[39;00m\n\u001B[1;32m    936\u001B[0m \u001B[38;5;28mself\u001B[39m\u001B[38;5;241m.\u001B[39m_more_validate_params()\n\u001B[0;32m--> 938\u001B[0m \u001B[38;5;28;01mreturn\u001B[39;00m \u001B[38;5;28;43mself\u001B[39;49m\u001B[38;5;241;43m.\u001B[39;49m\u001B[43m_fit\u001B[49m\u001B[43m(\u001B[49m\n\u001B[1;32m    939\u001B[0m \u001B[43m    \u001B[49m\u001B[43mX\u001B[49m\u001B[43m,\u001B[49m\n\u001B[1;32m    940\u001B[0m \u001B[43m    \u001B[49m\u001B[43my\u001B[49m\u001B[43m,\u001B[49m\n\u001B[1;32m    941\u001B[0m \u001B[43m    \u001B[49m\u001B[43malpha\u001B[49m\u001B[38;5;241;43m=\u001B[39;49m\u001B[38;5;28;43mself\u001B[39;49m\u001B[38;5;241;43m.\u001B[39;49m\u001B[43malpha\u001B[49m\u001B[43m,\u001B[49m\n\u001B[1;32m    942\u001B[0m \u001B[43m    \u001B[49m\u001B[43mC\u001B[49m\u001B[38;5;241;43m=\u001B[39;49m\u001B[38;5;241;43m1.0\u001B[39;49m\u001B[43m,\u001B[49m\n\u001B[1;32m    943\u001B[0m \u001B[43m    \u001B[49m\u001B[43mloss\u001B[49m\u001B[38;5;241;43m=\u001B[39;49m\u001B[38;5;28;43mself\u001B[39;49m\u001B[38;5;241;43m.\u001B[39;49m\u001B[43mloss\u001B[49m\u001B[43m,\u001B[49m\n\u001B[1;32m    944\u001B[0m \u001B[43m    \u001B[49m\u001B[43mlearning_rate\u001B[49m\u001B[38;5;241;43m=\u001B[39;49m\u001B[38;5;28;43mself\u001B[39;49m\u001B[38;5;241;43m.\u001B[39;49m\u001B[43mlearning_rate\u001B[49m\u001B[43m,\u001B[49m\n\u001B[1;32m    945\u001B[0m \u001B[43m    \u001B[49m\u001B[43mcoef_init\u001B[49m\u001B[38;5;241;43m=\u001B[39;49m\u001B[43mcoef_init\u001B[49m\u001B[43m,\u001B[49m\n\u001B[1;32m    946\u001B[0m \u001B[43m    \u001B[49m\u001B[43mintercept_init\u001B[49m\u001B[38;5;241;43m=\u001B[39;49m\u001B[43mintercept_init\u001B[49m\u001B[43m,\u001B[49m\n\u001B[1;32m    947\u001B[0m \u001B[43m    \u001B[49m\u001B[43msample_weight\u001B[49m\u001B[38;5;241;43m=\u001B[39;49m\u001B[43msample_weight\u001B[49m\u001B[43m,\u001B[49m\n\u001B[1;32m    948\u001B[0m \u001B[43m\u001B[49m\u001B[43m)\u001B[49m\n",
      "File \u001B[0;32m~/miniforge3/lib/python3.10/site-packages/sklearn/linear_model/_stochastic_gradient.py:725\u001B[0m, in \u001B[0;36mBaseSGDClassifier._fit\u001B[0;34m(self, X, y, alpha, C, loss, learning_rate, coef_init, intercept_init, sample_weight)\u001B[0m\n\u001B[1;32m    722\u001B[0m \u001B[38;5;66;03m# Clear iteration count for multiple call to fit.\u001B[39;00m\n\u001B[1;32m    723\u001B[0m \u001B[38;5;28mself\u001B[39m\u001B[38;5;241m.\u001B[39mt_ \u001B[38;5;241m=\u001B[39m \u001B[38;5;241m1.0\u001B[39m\n\u001B[0;32m--> 725\u001B[0m \u001B[38;5;28;43mself\u001B[39;49m\u001B[38;5;241;43m.\u001B[39;49m\u001B[43m_partial_fit\u001B[49m\u001B[43m(\u001B[49m\n\u001B[1;32m    726\u001B[0m \u001B[43m    \u001B[49m\u001B[43mX\u001B[49m\u001B[43m,\u001B[49m\n\u001B[1;32m    727\u001B[0m \u001B[43m    \u001B[49m\u001B[43my\u001B[49m\u001B[43m,\u001B[49m\n\u001B[1;32m    728\u001B[0m \u001B[43m    \u001B[49m\u001B[43malpha\u001B[49m\u001B[43m,\u001B[49m\n\u001B[1;32m    729\u001B[0m \u001B[43m    \u001B[49m\u001B[43mC\u001B[49m\u001B[43m,\u001B[49m\n\u001B[1;32m    730\u001B[0m \u001B[43m    \u001B[49m\u001B[43mloss\u001B[49m\u001B[43m,\u001B[49m\n\u001B[1;32m    731\u001B[0m \u001B[43m    \u001B[49m\u001B[43mlearning_rate\u001B[49m\u001B[43m,\u001B[49m\n\u001B[1;32m    732\u001B[0m \u001B[43m    \u001B[49m\u001B[38;5;28;43mself\u001B[39;49m\u001B[38;5;241;43m.\u001B[39;49m\u001B[43mmax_iter\u001B[49m\u001B[43m,\u001B[49m\n\u001B[1;32m    733\u001B[0m \u001B[43m    \u001B[49m\u001B[43mclasses\u001B[49m\u001B[43m,\u001B[49m\n\u001B[1;32m    734\u001B[0m \u001B[43m    \u001B[49m\u001B[43msample_weight\u001B[49m\u001B[43m,\u001B[49m\n\u001B[1;32m    735\u001B[0m \u001B[43m    \u001B[49m\u001B[43mcoef_init\u001B[49m\u001B[43m,\u001B[49m\n\u001B[1;32m    736\u001B[0m \u001B[43m    \u001B[49m\u001B[43mintercept_init\u001B[49m\u001B[43m,\u001B[49m\n\u001B[1;32m    737\u001B[0m \u001B[43m\u001B[49m\u001B[43m)\u001B[49m\n\u001B[1;32m    739\u001B[0m \u001B[38;5;28;01mif\u001B[39;00m (\n\u001B[1;32m    740\u001B[0m     \u001B[38;5;28mself\u001B[39m\u001B[38;5;241m.\u001B[39mtol \u001B[38;5;129;01mis\u001B[39;00m \u001B[38;5;129;01mnot\u001B[39;00m \u001B[38;5;28;01mNone\u001B[39;00m\n\u001B[1;32m    741\u001B[0m     \u001B[38;5;129;01mand\u001B[39;00m \u001B[38;5;28mself\u001B[39m\u001B[38;5;241m.\u001B[39mtol \u001B[38;5;241m>\u001B[39m \u001B[38;5;241m-\u001B[39mnp\u001B[38;5;241m.\u001B[39minf\n\u001B[1;32m    742\u001B[0m     \u001B[38;5;129;01mand\u001B[39;00m \u001B[38;5;28mself\u001B[39m\u001B[38;5;241m.\u001B[39mn_iter_ \u001B[38;5;241m==\u001B[39m \u001B[38;5;28mself\u001B[39m\u001B[38;5;241m.\u001B[39mmax_iter\n\u001B[1;32m    743\u001B[0m ):\n\u001B[1;32m    744\u001B[0m     warnings\u001B[38;5;241m.\u001B[39mwarn(\n\u001B[1;32m    745\u001B[0m         (\n\u001B[1;32m    746\u001B[0m             \u001B[38;5;124m\"\u001B[39m\u001B[38;5;124mMaximum number of iteration reached before \u001B[39m\u001B[38;5;124m\"\u001B[39m\n\u001B[0;32m   (...)\u001B[0m\n\u001B[1;32m    750\u001B[0m         ConvergenceWarning,\n\u001B[1;32m    751\u001B[0m     )\n",
      "File \u001B[0;32m~/miniforge3/lib/python3.10/site-packages/sklearn/linear_model/_stochastic_gradient.py:669\u001B[0m, in \u001B[0;36mBaseSGDClassifier._partial_fit\u001B[0;34m(self, X, y, alpha, C, loss, learning_rate, max_iter, classes, sample_weight, coef_init, intercept_init)\u001B[0m\n\u001B[1;32m    659\u001B[0m     \u001B[38;5;28mself\u001B[39m\u001B[38;5;241m.\u001B[39m_fit_binary(\n\u001B[1;32m    660\u001B[0m         X,\n\u001B[1;32m    661\u001B[0m         y,\n\u001B[0;32m   (...)\u001B[0m\n\u001B[1;32m    666\u001B[0m         max_iter\u001B[38;5;241m=\u001B[39mmax_iter,\n\u001B[1;32m    667\u001B[0m     )\n\u001B[1;32m    668\u001B[0m \u001B[38;5;28;01melse\u001B[39;00m:\n\u001B[0;32m--> 669\u001B[0m     \u001B[38;5;28;01mraise\u001B[39;00m \u001B[38;5;167;01mValueError\u001B[39;00m(\n\u001B[1;32m    670\u001B[0m         \u001B[38;5;124m\"\u001B[39m\u001B[38;5;124mThe number of classes has to be greater than one; got \u001B[39m\u001B[38;5;132;01m%d\u001B[39;00m\u001B[38;5;124m class\u001B[39m\u001B[38;5;124m\"\u001B[39m\n\u001B[1;32m    671\u001B[0m         \u001B[38;5;241m%\u001B[39m n_classes\n\u001B[1;32m    672\u001B[0m     )\n\u001B[1;32m    674\u001B[0m \u001B[38;5;28;01mreturn\u001B[39;00m \u001B[38;5;28mself\u001B[39m\n",
      "\u001B[0;31mValueError\u001B[0m: The number of classes has to be greater than one; got 1 class"
     ]
    }
   ],
   "execution_count": 14
  },
  {
   "metadata": {
    "ExecuteTime": {
     "end_time": "2024-06-14T15:10:27.888148Z",
     "start_time": "2024-06-14T15:10:27.886469Z"
    }
   },
   "cell_type": "code",
   "source": "",
   "id": "c27b3b9c71b692ce",
   "outputs": [],
   "execution_count": 14
  },
  {
   "metadata": {
    "ExecuteTime": {
     "end_time": "2024-06-14T15:10:28.630322Z",
     "start_time": "2024-06-14T15:10:28.628402Z"
    }
   },
   "cell_type": "code",
   "source": "",
   "id": "91369bc4c9d83c33",
   "outputs": [],
   "execution_count": 14
  },
  {
   "metadata": {
    "ExecuteTime": {
     "end_time": "2024-06-14T15:10:30.677882Z",
     "start_time": "2024-06-14T15:10:30.435910Z"
    }
   },
   "cell_type": "code",
   "source": [
    "X_train, X_test, y_train, y_test = train_test_split(mnist[\"data\"], mnist[\"target\"], random_state=17, test_size=0.12)\n",
    "\n",
    "print(X_train.shape)\n",
    "print(y_train.shape)\n",
    "print(X_test.shape)\n",
    "print(y_test.shape)"
   ],
   "id": "2f2905f76cd44aab",
   "outputs": [
    {
     "name": "stdout",
     "output_type": "stream",
     "text": [
      "(61600, 784)\n",
      "(61600,)\n",
      "(8400, 784)\n",
      "(8400,)\n"
     ]
    }
   ],
   "execution_count": 15
  },
  {
   "metadata": {
    "ExecuteTime": {
     "end_time": "2024-06-14T15:10:35.083845Z",
     "start_time": "2024-06-14T15:10:35.072547Z"
    }
   },
   "cell_type": "code",
   "source": [
    "# Converting the Datatypes\n",
    "y_train = y_train.astype(int)\n",
    "y_train.info()"
   ],
   "id": "757dab9360a2f4f0",
   "outputs": [
    {
     "name": "stdout",
     "output_type": "stream",
     "text": [
      "<class 'pandas.core.series.Series'>\n",
      "Index: 61600 entries, 35274 to 64753\n",
      "Series name: class\n",
      "Non-Null Count  Dtype\n",
      "--------------  -----\n",
      "61600 non-null  int64\n",
      "dtypes: int64(1)\n",
      "memory usage: 962.5 KB\n"
     ]
    }
   ],
   "execution_count": 16
  },
  {
   "metadata": {
    "ExecuteTime": {
     "end_time": "2024-06-14T15:10:36.272209Z",
     "start_time": "2024-06-14T15:10:36.265817Z"
    }
   },
   "cell_type": "code",
   "source": [
    "# Creating the binary targets\n",
    "y_train_5 = (y_train == 5)\n",
    "y_train_5.info()"
   ],
   "id": "8f67af12092ba121",
   "outputs": [
    {
     "name": "stdout",
     "output_type": "stream",
     "text": [
      "<class 'pandas.core.series.Series'>\n",
      "Index: 61600 entries, 35274 to 64753\n",
      "Series name: class\n",
      "Non-Null Count  Dtype\n",
      "--------------  -----\n",
      "61600 non-null  bool \n",
      "dtypes: bool(1)\n",
      "memory usage: 541.4 KB\n"
     ]
    }
   ],
   "execution_count": 17
  },
  {
   "metadata": {
    "ExecuteTime": {
     "end_time": "2024-06-14T15:10:40.483976Z",
     "start_time": "2024-06-14T15:10:40.476960Z"
    }
   },
   "cell_type": "code",
   "source": [
    "# Converting the boolean\n",
    "y_train_5 = y_train_5.astype(int)\n",
    "y_train_5.info()"
   ],
   "id": "c658044448db7a53",
   "outputs": [
    {
     "name": "stdout",
     "output_type": "stream",
     "text": [
      "<class 'pandas.core.series.Series'>\n",
      "Index: 61600 entries, 35274 to 64753\n",
      "Series name: class\n",
      "Non-Null Count  Dtype\n",
      "--------------  -----\n",
      "61600 non-null  int64\n",
      "dtypes: int64(1)\n",
      "memory usage: 962.5 KB\n"
     ]
    }
   ],
   "execution_count": 18
  },
  {
   "metadata": {
    "ExecuteTime": {
     "end_time": "2024-06-14T15:10:41.051164Z",
     "start_time": "2024-06-14T15:10:41.047533Z"
    }
   },
   "cell_type": "code",
   "source": "y_train_5.head()",
   "id": "2f0161d38973505b",
   "outputs": [
    {
     "data": {
      "text/plain": [
       "35274    1\n",
       "58149    0\n",
       "58695    0\n",
       "59538    1\n",
       "3034     0\n",
       "Name: class, dtype: int64"
      ]
     },
     "execution_count": 19,
     "metadata": {},
     "output_type": "execute_result"
    }
   ],
   "execution_count": 19
  },
  {
   "metadata": {
    "ExecuteTime": {
     "end_time": "2024-06-14T15:10:42.555556Z",
     "start_time": "2024-06-14T15:10:42.551824Z"
    }
   },
   "cell_type": "code",
   "source": "y_train_5.shape",
   "id": "ed96049bc0222c61",
   "outputs": [
    {
     "data": {
      "text/plain": [
       "(61600,)"
      ]
     },
     "execution_count": 20,
     "metadata": {},
     "output_type": "execute_result"
    }
   ],
   "execution_count": 20
  },
  {
   "metadata": {
    "ExecuteTime": {
     "end_time": "2024-06-14T15:10:43.030257Z",
     "start_time": "2024-06-14T15:10:43.026969Z"
    }
   },
   "cell_type": "code",
   "source": "X_train.shape",
   "id": "1a914513862ef9fd",
   "outputs": [
    {
     "data": {
      "text/plain": [
       "(61600, 784)"
      ]
     },
     "execution_count": 21,
     "metadata": {},
     "output_type": "execute_result"
    }
   ],
   "execution_count": 21
  },
  {
   "metadata": {
    "ExecuteTime": {
     "end_time": "2024-06-14T15:10:44.133292Z",
     "start_time": "2024-06-14T15:10:43.896184Z"
    }
   },
   "cell_type": "code",
   "source": [
    "X_train_5, X_test_5, y_train_5, y_test_5 = train_test_split(\n",
    "    X_train, y_train_5\n",
    ")"
   ],
   "id": "c044adf725db9715",
   "outputs": [],
   "execution_count": 22
  },
  {
   "metadata": {
    "ExecuteTime": {
     "end_time": "2024-06-14T15:10:46.410028Z",
     "start_time": "2024-06-14T15:10:46.405655Z"
    }
   },
   "cell_type": "code",
   "source": [
    "print(X_train_5.shape)\n",
    "print(y_train_5.shape)\n",
    "print(X_test_5.shape)\n",
    "print(y_test_5.shape)"
   ],
   "id": "dbc6aaca1391730b",
   "outputs": [
    {
     "name": "stdout",
     "output_type": "stream",
     "text": [
      "(46200, 784)\n",
      "(46200,)\n",
      "(15400, 784)\n",
      "(15400,)\n"
     ]
    }
   ],
   "execution_count": 23
  },
  {
   "metadata": {
    "ExecuteTime": {
     "end_time": "2024-06-14T15:10:57.432885Z",
     "start_time": "2024-06-14T15:10:48.796742Z"
    }
   },
   "cell_type": "code",
   "source": [
    "sgd_clf = SGDClassifier(n_jobs=-1)\n",
    "scores_5 = cross_val_score(sgd_clf, X_train_5, y_train_5, scoring=\"accuracy\", n_jobs=-1)\n",
    "print(scores_5)"
   ],
   "id": "b95fc71c60562e3a",
   "outputs": [
    {
     "name": "stdout",
     "output_type": "stream",
     "text": [
      "[0.95735931 0.96547619 0.96536797 0.94112554 0.96850649]\n"
     ]
    }
   ],
   "execution_count": 24
  },
  {
   "metadata": {
    "ExecuteTime": {
     "end_time": "2024-06-14T15:11:07.856432Z",
     "start_time": "2024-06-14T15:10:57.434884Z"
    }
   },
   "cell_type": "code",
   "source": [
    "rfc = RandomForestClassifier(n_jobs=-1)\n",
    "scores_5 = cross_val_score(rfc, X_train_5, y_train_5, scoring=\"accuracy\", n_jobs=-1)\n",
    "print(scores_5)"
   ],
   "id": "dd60a5b2ae01ea21",
   "outputs": [
    {
     "name": "stdout",
     "output_type": "stream",
     "text": [
      "[0.98809524 0.98841991 0.98636364 0.98647186 0.98636364]\n"
     ]
    }
   ],
   "execution_count": 25
  },
  {
   "metadata": {
    "ExecuteTime": {
     "end_time": "2024-06-14T15:11:13.691772Z",
     "start_time": "2024-06-14T15:11:07.857648Z"
    }
   },
   "cell_type": "code",
   "source": [
    "predictions_sgd = cross_val_predict(sgd_clf, X_test_5, y_test_5)\n",
    "n_correct = sum(y_test_5 == predictions_sgd)\n",
    "print(n_correct / len(predictions_sgd))"
   ],
   "id": "90d1a7d13a5bc5f7",
   "outputs": [
    {
     "name": "stdout",
     "output_type": "stream",
     "text": [
      "0.9544805194805195\n"
     ]
    }
   ],
   "execution_count": 26
  },
  {
   "metadata": {
    "ExecuteTime": {
     "end_time": "2024-06-14T15:11:20.309122Z",
     "start_time": "2024-06-14T15:11:20.302065Z"
    }
   },
   "cell_type": "code",
   "source": "confusion_matrix(y_test_5, predictions_sgd)",
   "id": "ec2471615f576603",
   "outputs": [
    {
     "data": {
      "text/plain": [
       "array([[13639,   367],\n",
       "       [  334,  1060]])"
      ]
     },
     "execution_count": 27,
     "metadata": {},
     "output_type": "execute_result"
    }
   ],
   "execution_count": 27
  },
  {
   "metadata": {
    "ExecuteTime": {
     "end_time": "2024-06-14T15:11:25.700502Z",
     "start_time": "2024-06-14T15:11:22.477027Z"
    }
   },
   "cell_type": "code",
   "source": [
    "predictions_rfc = cross_val_predict(rfc, X_test_5, y_test_5, n_jobs=-1)\n",
    "n_correct = sum(predictions_rfc == y_test_5)\n",
    "print(n_correct / len(predictions_rfc))"
   ],
   "id": "f70c215be71fffec",
   "outputs": [
    {
     "name": "stdout",
     "output_type": "stream",
     "text": [
      "0.9803246753246754\n"
     ]
    }
   ],
   "execution_count": 28
  },
  {
   "metadata": {
    "ExecuteTime": {
     "end_time": "2024-06-14T15:11:28.543490Z",
     "start_time": "2024-06-14T15:11:28.536847Z"
    }
   },
   "cell_type": "code",
   "source": "confusion_matrix(y_test_5, predictions_rfc)",
   "id": "e0a1c98d10c403ef",
   "outputs": [
    {
     "data": {
      "text/plain": [
       "array([[13989,    17],\n",
       "       [  286,  1108]])"
      ]
     },
     "execution_count": 29,
     "metadata": {},
     "output_type": "execute_result"
    }
   ],
   "execution_count": 29
  },
  {
   "metadata": {
    "ExecuteTime": {
     "end_time": "2024-06-14T15:11:33.761327Z",
     "start_time": "2024-06-14T15:11:33.732437Z"
    }
   },
   "cell_type": "code",
   "source": [
    "# Precision Score\n",
    "from sklearn.metrics import precision_score, recall_score, f1_score\n",
    "\n",
    "for _ in [predictions_rfc, predictions_sgd]:\n",
    "    print(\"\\nAccuracy of Positive Prediction: \", precision_score(y_test_5, _))\n",
    "    print(\"Accuracy of Correct Prediction: \", recall_score(y_test_5, _))\n",
    "    print(\"Harmonic Mean: \", f1_score(y_test_5, _))"
   ],
   "id": "2bf2f62fe9cbb2d",
   "outputs": [
    {
     "name": "stdout",
     "output_type": "stream",
     "text": [
      "\n",
      "Accuracy of Positive Prediction:  0.9848888888888889\n",
      "Accuracy of Correct Prediction:  0.7948350071736011\n",
      "Harmonic Mean:  0.8797141722905915\n",
      "\n",
      "Accuracy of Positive Prediction:  0.7428170988086895\n",
      "Accuracy of Correct Prediction:  0.7604017216642754\n",
      "Harmonic Mean:  0.7515065579581709\n"
     ]
    }
   ],
   "execution_count": 30
  },
  {
   "metadata": {
    "ExecuteTime": {
     "end_time": "2024-06-14T16:43:57.589766Z",
     "start_time": "2024-06-14T16:43:45.997278Z"
    }
   },
   "cell_type": "code",
   "source": [
    "from sklearn.metrics import precision_recall_curve\n",
    "\n",
    "# Preset Custom Value of Threashold\n",
    "threashold = 3000\n",
    "\n",
    "fig = plt.figure(figsize=(12, 10))\n",
    "for object, name in [(SGDClassifier(), \"sgd\")]:\n",
    "    object.fit(X_train_5, y_train_5)\n",
    "    score = cross_val_predict(object, X_test_5, y_test_5, method=\"decision_function\", n_jobs=-1) \n",
    "    precisions, recalls, threasholds = precision_recall_curve(y_test_5, score)\n",
    "    \n",
    "    # Calculating the Intercept\n",
    "    intercept = (threasholds >= threashold).argmax()\n",
    "    \n",
    "    # Adding the Axes\n",
    "    axes = fig.add_axes([0.1, 0.1, 0.8, 0.6])\n",
    "    \n",
    "    # Plotting the Graph\n",
    "    axes.plot(threasholds, precisions[:-1], \"b--\", label=\"Precision\")\n",
    "    axes.plot(threasholds, recalls[:-1], \"g-\", label=\"Recall\")\n",
    "    axes.vlines(threashold, 0, 1, \"k\", \"dotted\", label=\"Custom Threashold\")\n",
    "    axes.plot(threasholds[intercept], precisions[intercept], \"bo\")\n",
    "    axes.plot(threasholds[intercept], recalls[intercept], \"go\")\n",
    "    \n",
    "    # Anatomy\n",
    "    plt.axis([-5e4, 5e4, 0, 1])\n",
    "    plt.grid()\n",
    "    plt.legend(loc=\"center right\")"
   ],
   "id": "a2251eebc56b01cb",
   "outputs": [
    {
     "data": {
      "text/plain": [
       "<Figure size 1200x1000 with 1 Axes>"
      ],
      "image/png": "[encoded data removed]"
     },
     "metadata": {},
     "output_type": "display_data"
    }
   ],
   "execution_count": 43
  },
  {
   "metadata": {},
   "cell_type": "markdown",
   "source": "",
   "id": "d3a04137197f4955"
  },
  {
   "metadata": {
    "ExecuteTime": {
     "end_time": "2024-06-14T16:09:19.625622Z",
     "start_time": "2024-06-14T16:09:19.545753Z"
    }
   },
   "cell_type": "code",
   "source": [
    "plt.figure(figsize=(8, 6))\n",
    "\n",
    "plt.plot(recalls, precisions, \"b--\", label=\"Precision V Recall\")\n",
    "plt.plot([0, recalls[intercept]], [precisions[intercept], precisions[intercept]], \"k:\")\n",
    "plt.plot([recalls[intercept], recalls[intercept]], [0, precisions[intercept]], \"k:\")\n",
    "plt.plot(recalls[intercept], precisions[intercept], \"ko\")\n",
    "\n",
    "plt.xlabel(\"Recall\")\n",
    "plt.ylabel(\"Precision\")\n",
    "plt.title(\"Precision V Recall Curve\")\n",
    "plt.grid()\n",
    "plt.legend()\n",
    "plt.show()\n"
   ],
   "id": "84be41fee1e616ee",
   "outputs": [
    {
     "data": {
      "text/plain": [
       "<Figure size 800x600 with 1 Axes>"
      ],
      "image/png": "[encoded data removed]"
     },
     "metadata": {},
     "output_type": "display_data"
    }
   ],
   "execution_count": 42
  },
  {
   "metadata": {
    "ExecuteTime": {
     "end_time": "2024-06-15T00:12:10.297751Z",
     "start_time": "2024-06-15T00:12:10.283394Z"
    }
   },
   "cell_type": "code",
   "source": [
    "threashold_at_90_percent = threasholds[np.argmax(precisions >= 0.90)]\n",
    "print(\"The Threashold for 90% precision is: \", threashold_at_90_percent)\n",
    "\n",
    "y_pred = (score >= threashold_at_90_percent)\n",
    "print(\"New Precision: \", precision_score(y_test_5, y_pred))\n",
    "print(\"New Recall: \", recall_score(y_test_5, y_pred))"
   ],
   "id": "7a59ad4668ff576d",
   "outputs": [
    {
     "ename": "IndexError",
     "evalue": "index 14515 is out of bounds for axis 0 with size 3",
     "output_type": "error",
     "traceback": [
      "\u001B[0;31m---------------------------------------------------------------------------\u001B[0m",
      "\u001B[0;31mIndexError\u001B[0m                                Traceback (most recent call last)",
      "Cell \u001B[0;32mIn[53], line 1\u001B[0m\n\u001B[0;32m----> 1\u001B[0m threashold_at_90_percent \u001B[38;5;241m=\u001B[39m \u001B[43mthreasholds\u001B[49m\u001B[43m[\u001B[49m\u001B[43mnp\u001B[49m\u001B[38;5;241;43m.\u001B[39;49m\u001B[43margmax\u001B[49m\u001B[43m(\u001B[49m\u001B[43mprecisions\u001B[49m\u001B[43m \u001B[49m\u001B[38;5;241;43m>\u001B[39;49m\u001B[38;5;241;43m=\u001B[39;49m\u001B[43m \u001B[49m\u001B[38;5;241;43m0.90\u001B[39;49m\u001B[43m)\u001B[49m\u001B[43m]\u001B[49m\n\u001B[1;32m      2\u001B[0m \u001B[38;5;28mprint\u001B[39m(\u001B[38;5;124m\"\u001B[39m\u001B[38;5;124mThe Threashold for 90\u001B[39m\u001B[38;5;124m%\u001B[39m\u001B[38;5;124m precision is: \u001B[39m\u001B[38;5;124m\"\u001B[39m, threashold_at_90_percent)\n\u001B[1;32m      4\u001B[0m y_pred \u001B[38;5;241m=\u001B[39m (score \u001B[38;5;241m>\u001B[39m\u001B[38;5;241m=\u001B[39m threashold_at_90_percent)\n",
      "\u001B[0;31mIndexError\u001B[0m: index 14515 is out of bounds for axis 0 with size 3"
     ]
    }
   ],
   "execution_count": 53
  },
  {
   "metadata": {
    "ExecuteTime": {
     "end_time": "2024-06-15T00:11:06.460619Z",
     "start_time": "2024-06-15T00:11:06.387214Z"
    }
   },
   "cell_type": "code",
   "source": [
    "from sklearn.metrics import roc_curve\n",
    "\n",
    "fpr, tpr, threasholds = roc_curve(y_test_5, predictions_rfc)\n",
    "\n",
    "# Finding the ROC threashold for 90% precision\n",
    "roc_threashold = (threasholds <= threashold_at_90_percent).argmax()\n",
    "tpr_90, fpr_90 = tpr[roc_threashold], fpr[roc_threashold]\n",
    "\n",
    "# Graph\n",
    "plt.figure(figsize=(8, 6))\n",
    "plt.plot(fpr, tpr, \"b--\", linewidth=3, label=\"ROC\")\n",
    "plt.plot(fpr_90, tpr_90, \"ko\", label=\"Precision Intercept\")\n",
    "plt.plot([0, fpr[roc_threashold]], [tpr[roc_threashold], tpr[roc_threashold]], \"k:\")\n",
    "plt.plot([fpr[roc_threashold], fpr[roc_threashold]], [0, tpr[roc_threashold]], \"k:\")\n",
    "\n",
    "plt.title(\"ROC Curve\")\n",
    "plt.xlabel(\"FPR\")\n",
    "plt.ylabel(\"TPR\")\n",
    "plt.grid()\n",
    "plt.show()"
   ],
   "id": "f107d3ed44924b73",
   "outputs": [
    {
     "data": {
      "text/plain": [
       "<Figure size 800x600 with 1 Axes>"
      ],
      "image/png": "[encoded data removed]"
     },
     "metadata": {},
     "output_type": "display_data"
    }
   ],
   "execution_count": 50
  },
  {
   "metadata": {},
   "cell_type": "code",
   "outputs": [],
   "execution_count": null,
   "source": "",
   "id": "e01769564d9b4aa4"
  }
 ],
 "metadata": {
  "kernelspec": {
   "display_name": "Python 3",
   "language": "python",
   "name": "python3"
  },
  "language_info": {
   "codemirror_mode": {
    "name": "ipython",
    "version": 2
   },
   "file_extension": ".py",
   "mimetype": "text/x-python",
   "name": "python",
   "nbconvert_exporter": "python",
   "pygments_lexer": "ipython2",
   "version": "2.7.6"
  }
 },
 "nbformat": 4,
 "nbformat_minor": 5
}
