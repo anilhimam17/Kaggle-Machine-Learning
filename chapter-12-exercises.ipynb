{
 "cells": [
  {
   "cell_type": "markdown",
   "id": "95ec66da",
   "metadata": {
    "papermill": {
     "duration": 0.005296,
     "end_time": "2024-07-08T08:11:06.323506",
     "exception": false,
     "start_time": "2024-07-08T08:11:06.318210",
     "status": "completed"
    },
    "tags": []
   },
   "source": [
    "## Playground 🤟🏼"
   ]
  },
  {
   "cell_type": "code",
   "execution_count": 1,
   "id": "abcda1b9",
   "metadata": {
    "execution": {
     "iopub.execute_input": "2024-07-08T08:11:06.334466Z",
     "iopub.status.busy": "2024-07-08T08:11:06.334172Z",
     "iopub.status.idle": "2024-07-08T08:11:18.584458Z",
     "shell.execute_reply": "2024-07-08T08:11:18.583474Z"
    },
    "papermill": {
     "duration": 12.258456,
     "end_time": "2024-07-08T08:11:18.586914",
     "exception": false,
     "start_time": "2024-07-08T08:11:06.328458",
     "status": "completed"
    },
    "tags": []
   },
   "outputs": [
    {
     "name": "stderr",
     "output_type": "stream",
     "text": [
      "2024-07-08 08:11:08.066221: E external/local_xla/xla/stream_executor/cuda/cuda_dnn.cc:9261] Unable to register cuDNN factory: Attempting to register factory for plugin cuDNN when one has already been registered\n",
      "2024-07-08 08:11:08.066322: E external/local_xla/xla/stream_executor/cuda/cuda_fft.cc:607] Unable to register cuFFT factory: Attempting to register factory for plugin cuFFT when one has already been registered\n",
      "2024-07-08 08:11:08.197819: E external/local_xla/xla/stream_executor/cuda/cuda_blas.cc:1515] Unable to register cuBLAS factory: Attempting to register factory for plugin cuBLAS when one has already been registered\n"
     ]
    }
   ],
   "source": [
    "import tensorflow as tf\n",
    "import numpy as np\n",
    "import pandas as pd\n",
    "import matplotlib.pyplot as plt"
   ]
  },
  {
   "cell_type": "code",
   "execution_count": 2,
   "id": "31cefe85",
   "metadata": {
    "execution": {
     "iopub.execute_input": "2024-07-08T08:11:18.598677Z",
     "iopub.status.busy": "2024-07-08T08:11:18.598186Z",
     "iopub.status.idle": "2024-07-08T08:11:20.188626Z",
     "shell.execute_reply": "2024-07-08T08:11:20.187500Z"
    },
    "papermill": {
     "duration": 1.598805,
     "end_time": "2024-07-08T08:11:20.190822",
     "exception": false,
     "start_time": "2024-07-08T08:11:18.592017",
     "status": "completed"
    },
    "tags": []
   },
   "outputs": [
    {
     "name": "stdout",
     "output_type": "stream",
     "text": [
      "Downloading data from https://storage.googleapis.com/tensorflow/tf-keras-datasets/mnist.npz\n",
      "\u001b[1m11490434/11490434\u001b[0m \u001b[32m━━━━━━━━━━━━━━━━━━━━\u001b[0m\u001b[37m\u001b[0m \u001b[1m1s\u001b[0m 0us/step\n",
      "(60000, 28, 28)\n",
      "(60000,)\n",
      "(10000, 28, 28)\n",
      "(10000,)\n"
     ]
    }
   ],
   "source": [
    "# Loading the Dataset\n",
    "mnist = tf.keras.datasets.mnist.load_data()\n",
    "(X_train, y_train), (X_test, y_test) = mnist\n",
    "for sets in [X_train, y_train, X_test, y_test]:\n",
    "    print(sets.shape)"
   ]
  },
  {
   "cell_type": "code",
   "execution_count": 3,
   "id": "8bf2bfa1",
   "metadata": {
    "execution": {
     "iopub.execute_input": "2024-07-08T08:11:20.205789Z",
     "iopub.status.busy": "2024-07-08T08:11:20.205482Z",
     "iopub.status.idle": "2024-07-08T08:11:20.211202Z",
     "shell.execute_reply": "2024-07-08T08:11:20.210228Z"
    },
    "papermill": {
     "duration": 0.015953,
     "end_time": "2024-07-08T08:11:20.213510",
     "exception": false,
     "start_time": "2024-07-08T08:11:20.197557",
     "status": "completed"
    },
    "tags": []
   },
   "outputs": [
    {
     "name": "stdout",
     "output_type": "stream",
     "text": [
      "(52000, 28, 28)\n",
      "(52000,)\n",
      "(8000, 28, 28)\n",
      "(8000,)\n",
      "(10000, 28, 28)\n",
      "(10000,)\n"
     ]
    }
   ],
   "source": [
    "# Creating the Validation Set\n",
    "X_train, X_valid = X_train[:-8000], X_train[-8000:]\n",
    "y_train, y_valid = y_train[:-8000], y_train[-8000:]\n",
    "\n",
    "for sets in [X_train, y_train, X_valid, y_valid, X_test, y_test]:\n",
    "    print(sets.shape)"
   ]
  },
  {
   "cell_type": "code",
   "execution_count": 4,
   "id": "c49555a6",
   "metadata": {
    "execution": {
     "iopub.execute_input": "2024-07-08T08:11:20.228236Z",
     "iopub.status.busy": "2024-07-08T08:11:20.227950Z",
     "iopub.status.idle": "2024-07-08T08:11:20.234361Z",
     "shell.execute_reply": "2024-07-08T08:11:20.233527Z"
    },
    "papermill": {
     "duration": 0.015974,
     "end_time": "2024-07-08T08:11:20.236308",
     "exception": false,
     "start_time": "2024-07-08T08:11:20.220334",
     "status": "completed"
    },
    "tags": []
   },
   "outputs": [],
   "source": [
    "class SparseCategoricalCrossentropy(tf.keras.losses.Loss):\n",
    "    def __init__(self, from_logits=False, reduction=\"sum_over_batch_size\",\n",
    "                name=\"sparse_categoricial_crossentropy\"):\n",
    "        super().__init__(reduction=reduction, name=name)\n",
    "        self.from_logits = from_logits\n",
    "        \n",
    "    def call(self, y_true, y_pred):\n",
    "        y_true = tf.cast(y_true, tf.int64)\n",
    "        loss = tf.keras.losses.sparse_categorical_crossentropy(y_true, y_pred, from_logits=self.from_logits)\n",
    "        return loss\n",
    "    \n",
    "    def get_config(self):\n",
    "        base_config = super().get_config()\n",
    "        return {**base_config, \"from_logits\": self.from_logits}"
   ]
  },
  {
   "cell_type": "code",
   "execution_count": 5,
   "id": "5c5f1ed9",
   "metadata": {
    "execution": {
     "iopub.execute_input": "2024-07-08T08:11:20.250436Z",
     "iopub.status.busy": "2024-07-08T08:11:20.250175Z",
     "iopub.status.idle": "2024-07-08T08:11:21.186465Z",
     "shell.execute_reply": "2024-07-08T08:11:21.185366Z"
    },
    "papermill": {
     "duration": 0.952563,
     "end_time": "2024-07-08T08:11:21.195427",
     "exception": false,
     "start_time": "2024-07-08T08:11:20.242864",
     "status": "completed"
    },
    "tags": []
   },
   "outputs": [
    {
     "name": "stderr",
     "output_type": "stream",
     "text": [
      "/opt/conda/lib/python3.10/site-packages/keras/src/layers/convolutional/base_conv.py:107: UserWarning: Do not pass an `input_shape`/`input_dim` argument to a layer. When using Sequential models, prefer using an `Input(shape)` object as the first layer in the model instead.\n",
      "  super().__init__(activity_regularizer=activity_regularizer, **kwargs)\n"
     ]
    },
    {
     "data": {
      "text/html": [
       "<pre style=\"white-space:pre;overflow-x:auto;line-height:normal;font-family:Menlo,'DejaVu Sans Mono',consolas,'Courier New',monospace\"><span style=\"font-weight: bold\">Model: \"sequential\"</span>\n",
       "</pre>\n"
      ],
      "text/plain": [
       "\u001b[1mModel: \"sequential\"\u001b[0m\n"
      ]
     },
     "metadata": {},
     "output_type": "display_data"
    },
    {
     "data": {
      "text/html": [
       "<pre style=\"white-space:pre;overflow-x:auto;line-height:normal;font-family:Menlo,'DejaVu Sans Mono',consolas,'Courier New',monospace\">┏━━━━━━━━━━━━━━━━━━━━━━━━━━━━━━━━━┳━━━━━━━━━━━━━━━━━━━━━━━━┳━━━━━━━━━━━━━━━┓\n",
       "┃<span style=\"font-weight: bold\"> Layer (type)                    </span>┃<span style=\"font-weight: bold\"> Output Shape           </span>┃<span style=\"font-weight: bold\">       Param # </span>┃\n",
       "┡━━━━━━━━━━━━━━━━━━━━━━━━━━━━━━━━━╇━━━━━━━━━━━━━━━━━━━━━━━━╇━━━━━━━━━━━━━━━┩\n",
       "│ conv2d (<span style=\"color: #0087ff; text-decoration-color: #0087ff\">Conv2D</span>)                 │ (<span style=\"color: #00d7ff; text-decoration-color: #00d7ff\">None</span>, <span style=\"color: #00af00; text-decoration-color: #00af00\">26</span>, <span style=\"color: #00af00; text-decoration-color: #00af00\">26</span>, <span style=\"color: #00af00; text-decoration-color: #00af00\">32</span>)     │           <span style=\"color: #00af00; text-decoration-color: #00af00\">320</span> │\n",
       "├─────────────────────────────────┼────────────────────────┼───────────────┤\n",
       "│ conv2d_1 (<span style=\"color: #0087ff; text-decoration-color: #0087ff\">Conv2D</span>)               │ (<span style=\"color: #00d7ff; text-decoration-color: #00d7ff\">None</span>, <span style=\"color: #00af00; text-decoration-color: #00af00\">24</span>, <span style=\"color: #00af00; text-decoration-color: #00af00\">24</span>, <span style=\"color: #00af00; text-decoration-color: #00af00\">32</span>)     │         <span style=\"color: #00af00; text-decoration-color: #00af00\">9,248</span> │\n",
       "├─────────────────────────────────┼────────────────────────┼───────────────┤\n",
       "│ max_pooling2d (<span style=\"color: #0087ff; text-decoration-color: #0087ff\">MaxPooling2D</span>)    │ (<span style=\"color: #00d7ff; text-decoration-color: #00d7ff\">None</span>, <span style=\"color: #00af00; text-decoration-color: #00af00\">12</span>, <span style=\"color: #00af00; text-decoration-color: #00af00\">12</span>, <span style=\"color: #00af00; text-decoration-color: #00af00\">32</span>)     │             <span style=\"color: #00af00; text-decoration-color: #00af00\">0</span> │\n",
       "├─────────────────────────────────┼────────────────────────┼───────────────┤\n",
       "│ conv2d_2 (<span style=\"color: #0087ff; text-decoration-color: #0087ff\">Conv2D</span>)               │ (<span style=\"color: #00d7ff; text-decoration-color: #00d7ff\">None</span>, <span style=\"color: #00af00; text-decoration-color: #00af00\">10</span>, <span style=\"color: #00af00; text-decoration-color: #00af00\">10</span>, <span style=\"color: #00af00; text-decoration-color: #00af00\">64</span>)     │        <span style=\"color: #00af00; text-decoration-color: #00af00\">18,496</span> │\n",
       "├─────────────────────────────────┼────────────────────────┼───────────────┤\n",
       "│ conv2d_3 (<span style=\"color: #0087ff; text-decoration-color: #0087ff\">Conv2D</span>)               │ (<span style=\"color: #00d7ff; text-decoration-color: #00d7ff\">None</span>, <span style=\"color: #00af00; text-decoration-color: #00af00\">8</span>, <span style=\"color: #00af00; text-decoration-color: #00af00\">8</span>, <span style=\"color: #00af00; text-decoration-color: #00af00\">64</span>)       │        <span style=\"color: #00af00; text-decoration-color: #00af00\">36,928</span> │\n",
       "├─────────────────────────────────┼────────────────────────┼───────────────┤\n",
       "│ flatten (<span style=\"color: #0087ff; text-decoration-color: #0087ff\">Flatten</span>)               │ (<span style=\"color: #00d7ff; text-decoration-color: #00d7ff\">None</span>, <span style=\"color: #00af00; text-decoration-color: #00af00\">4096</span>)           │             <span style=\"color: #00af00; text-decoration-color: #00af00\">0</span> │\n",
       "├─────────────────────────────────┼────────────────────────┼───────────────┤\n",
       "│ dense (<span style=\"color: #0087ff; text-decoration-color: #0087ff\">Dense</span>)                   │ (<span style=\"color: #00d7ff; text-decoration-color: #00d7ff\">None</span>, <span style=\"color: #00af00; text-decoration-color: #00af00\">512</span>)            │     <span style=\"color: #00af00; text-decoration-color: #00af00\">2,097,664</span> │\n",
       "├─────────────────────────────────┼────────────────────────┼───────────────┤\n",
       "│ dense_1 (<span style=\"color: #0087ff; text-decoration-color: #0087ff\">Dense</span>)                 │ (<span style=\"color: #00d7ff; text-decoration-color: #00d7ff\">None</span>, <span style=\"color: #00af00; text-decoration-color: #00af00\">512</span>)            │       <span style=\"color: #00af00; text-decoration-color: #00af00\">262,656</span> │\n",
       "├─────────────────────────────────┼────────────────────────┼───────────────┤\n",
       "│ dense_2 (<span style=\"color: #0087ff; text-decoration-color: #0087ff\">Dense</span>)                 │ (<span style=\"color: #00d7ff; text-decoration-color: #00d7ff\">None</span>, <span style=\"color: #00af00; text-decoration-color: #00af00\">256</span>)            │       <span style=\"color: #00af00; text-decoration-color: #00af00\">131,328</span> │\n",
       "├─────────────────────────────────┼────────────────────────┼───────────────┤\n",
       "│ dense_3 (<span style=\"color: #0087ff; text-decoration-color: #0087ff\">Dense</span>)                 │ (<span style=\"color: #00d7ff; text-decoration-color: #00d7ff\">None</span>, <span style=\"color: #00af00; text-decoration-color: #00af00\">10</span>)             │         <span style=\"color: #00af00; text-decoration-color: #00af00\">2,570</span> │\n",
       "└─────────────────────────────────┴────────────────────────┴───────────────┘\n",
       "</pre>\n"
      ],
      "text/plain": [
       "┏━━━━━━━━━━━━━━━━━━━━━━━━━━━━━━━━━┳━━━━━━━━━━━━━━━━━━━━━━━━┳━━━━━━━━━━━━━━━┓\n",
       "┃\u001b[1m \u001b[0m\u001b[1mLayer (type)                   \u001b[0m\u001b[1m \u001b[0m┃\u001b[1m \u001b[0m\u001b[1mOutput Shape          \u001b[0m\u001b[1m \u001b[0m┃\u001b[1m \u001b[0m\u001b[1m      Param #\u001b[0m\u001b[1m \u001b[0m┃\n",
       "┡━━━━━━━━━━━━━━━━━━━━━━━━━━━━━━━━━╇━━━━━━━━━━━━━━━━━━━━━━━━╇━━━━━━━━━━━━━━━┩\n",
       "│ conv2d (\u001b[38;5;33mConv2D\u001b[0m)                 │ (\u001b[38;5;45mNone\u001b[0m, \u001b[38;5;34m26\u001b[0m, \u001b[38;5;34m26\u001b[0m, \u001b[38;5;34m32\u001b[0m)     │           \u001b[38;5;34m320\u001b[0m │\n",
       "├─────────────────────────────────┼────────────────────────┼───────────────┤\n",
       "│ conv2d_1 (\u001b[38;5;33mConv2D\u001b[0m)               │ (\u001b[38;5;45mNone\u001b[0m, \u001b[38;5;34m24\u001b[0m, \u001b[38;5;34m24\u001b[0m, \u001b[38;5;34m32\u001b[0m)     │         \u001b[38;5;34m9,248\u001b[0m │\n",
       "├─────────────────────────────────┼────────────────────────┼───────────────┤\n",
       "│ max_pooling2d (\u001b[38;5;33mMaxPooling2D\u001b[0m)    │ (\u001b[38;5;45mNone\u001b[0m, \u001b[38;5;34m12\u001b[0m, \u001b[38;5;34m12\u001b[0m, \u001b[38;5;34m32\u001b[0m)     │             \u001b[38;5;34m0\u001b[0m │\n",
       "├─────────────────────────────────┼────────────────────────┼───────────────┤\n",
       "│ conv2d_2 (\u001b[38;5;33mConv2D\u001b[0m)               │ (\u001b[38;5;45mNone\u001b[0m, \u001b[38;5;34m10\u001b[0m, \u001b[38;5;34m10\u001b[0m, \u001b[38;5;34m64\u001b[0m)     │        \u001b[38;5;34m18,496\u001b[0m │\n",
       "├─────────────────────────────────┼────────────────────────┼───────────────┤\n",
       "│ conv2d_3 (\u001b[38;5;33mConv2D\u001b[0m)               │ (\u001b[38;5;45mNone\u001b[0m, \u001b[38;5;34m8\u001b[0m, \u001b[38;5;34m8\u001b[0m, \u001b[38;5;34m64\u001b[0m)       │        \u001b[38;5;34m36,928\u001b[0m │\n",
       "├─────────────────────────────────┼────────────────────────┼───────────────┤\n",
       "│ flatten (\u001b[38;5;33mFlatten\u001b[0m)               │ (\u001b[38;5;45mNone\u001b[0m, \u001b[38;5;34m4096\u001b[0m)           │             \u001b[38;5;34m0\u001b[0m │\n",
       "├─────────────────────────────────┼────────────────────────┼───────────────┤\n",
       "│ dense (\u001b[38;5;33mDense\u001b[0m)                   │ (\u001b[38;5;45mNone\u001b[0m, \u001b[38;5;34m512\u001b[0m)            │     \u001b[38;5;34m2,097,664\u001b[0m │\n",
       "├─────────────────────────────────┼────────────────────────┼───────────────┤\n",
       "│ dense_1 (\u001b[38;5;33mDense\u001b[0m)                 │ (\u001b[38;5;45mNone\u001b[0m, \u001b[38;5;34m512\u001b[0m)            │       \u001b[38;5;34m262,656\u001b[0m │\n",
       "├─────────────────────────────────┼────────────────────────┼───────────────┤\n",
       "│ dense_2 (\u001b[38;5;33mDense\u001b[0m)                 │ (\u001b[38;5;45mNone\u001b[0m, \u001b[38;5;34m256\u001b[0m)            │       \u001b[38;5;34m131,328\u001b[0m │\n",
       "├─────────────────────────────────┼────────────────────────┼───────────────┤\n",
       "│ dense_3 (\u001b[38;5;33mDense\u001b[0m)                 │ (\u001b[38;5;45mNone\u001b[0m, \u001b[38;5;34m10\u001b[0m)             │         \u001b[38;5;34m2,570\u001b[0m │\n",
       "└─────────────────────────────────┴────────────────────────┴───────────────┘\n"
      ]
     },
     "metadata": {},
     "output_type": "display_data"
    },
    {
     "data": {
      "text/html": [
       "<pre style=\"white-space:pre;overflow-x:auto;line-height:normal;font-family:Menlo,'DejaVu Sans Mono',consolas,'Courier New',monospace\"><span style=\"font-weight: bold\"> Total params: </span><span style=\"color: #00af00; text-decoration-color: #00af00\">2,559,210</span> (9.76 MB)\n",
       "</pre>\n"
      ],
      "text/plain": [
       "\u001b[1m Total params: \u001b[0m\u001b[38;5;34m2,559,210\u001b[0m (9.76 MB)\n"
      ]
     },
     "metadata": {},
     "output_type": "display_data"
    },
    {
     "data": {
      "text/html": [
       "<pre style=\"white-space:pre;overflow-x:auto;line-height:normal;font-family:Menlo,'DejaVu Sans Mono',consolas,'Courier New',monospace\"><span style=\"font-weight: bold\"> Trainable params: </span><span style=\"color: #00af00; text-decoration-color: #00af00\">2,559,210</span> (9.76 MB)\n",
       "</pre>\n"
      ],
      "text/plain": [
       "\u001b[1m Trainable params: \u001b[0m\u001b[38;5;34m2,559,210\u001b[0m (9.76 MB)\n"
      ]
     },
     "metadata": {},
     "output_type": "display_data"
    },
    {
     "data": {
      "text/html": [
       "<pre style=\"white-space:pre;overflow-x:auto;line-height:normal;font-family:Menlo,'DejaVu Sans Mono',consolas,'Courier New',monospace\"><span style=\"font-weight: bold\"> Non-trainable params: </span><span style=\"color: #00af00; text-decoration-color: #00af00\">0</span> (0.00 B)\n",
       "</pre>\n"
      ],
      "text/plain": [
       "\u001b[1m Non-trainable params: \u001b[0m\u001b[38;5;34m0\u001b[0m (0.00 B)\n"
      ]
     },
     "metadata": {},
     "output_type": "display_data"
    }
   ],
   "source": [
    "tf.keras.backend.clear_session()\n",
    "\n",
    "simple_loss_model = tf.keras.models.Sequential([\n",
    "    tf.keras.layers.Conv2D(32, (3, 3), input_shape=[28, 28, 1], activation=\"elu\"),\n",
    "    tf.keras.layers.Conv2D(32, (3, 3), activation=\"elu\"),\n",
    "    tf.keras.layers.MaxPool2D(2, 2),\n",
    "    \n",
    "    tf.keras.layers.Conv2D(64, (3, 3), activation=\"elu\"),\n",
    "    tf.keras.layers.Conv2D(64, (3, 3), activation=\"elu\"),\n",
    "    tf.keras.layers.Flatten(),\n",
    "    \n",
    "    tf.keras.layers.Dense(512, activation=\"elu\", kernel_initializer=\"he_normal\"),\n",
    "    tf.keras.layers.Dense(512, activation=\"elu\", kernel_initializer=\"he_normal\"),\n",
    "    tf.keras.layers.Dense(256, activation=\"elu\", kernel_initializer=\"he_normal\"),\n",
    "    tf.keras.layers.Dense(10, activation=\"softmax\")\n",
    "])\n",
    "\n",
    "simple_loss_model.summary()"
   ]
  },
  {
   "cell_type": "code",
   "execution_count": 6,
   "id": "99cd49e1",
   "metadata": {
    "execution": {
     "iopub.execute_input": "2024-07-08T08:11:21.212473Z",
     "iopub.status.busy": "2024-07-08T08:11:21.212199Z",
     "iopub.status.idle": "2024-07-08T08:11:21.224222Z",
     "shell.execute_reply": "2024-07-08T08:11:21.223510Z"
    },
    "papermill": {
     "duration": 0.02224,
     "end_time": "2024-07-08T08:11:21.226101",
     "exception": false,
     "start_time": "2024-07-08T08:11:21.203861",
     "status": "completed"
    },
    "tags": []
   },
   "outputs": [],
   "source": [
    "exponential_sch = tf.keras.optimizers.schedules.ExponentialDecay(\n",
    "    initial_learning_rate=1e-2,\n",
    "    decay_steps=10e2,\n",
    "    decay_rate=0.1,\n",
    "    staircase=False\n",
    ")\n",
    "\n",
    "# Using the custom loss function for compilation\n",
    "simple_loss_model.compile(\n",
    "    loss=SparseCategoricalCrossentropy(),\n",
    "    metrics=[\"accuracy\"],\n",
    "    optimizer=tf.keras.optimizers.Nadam(learning_rate=exponential_sch)\n",
    ")"
   ]
  },
  {
   "cell_type": "code",
   "execution_count": 7,
   "id": "09a81760",
   "metadata": {
    "execution": {
     "iopub.execute_input": "2024-07-08T08:11:21.242331Z",
     "iopub.status.busy": "2024-07-08T08:11:21.242039Z",
     "iopub.status.idle": "2024-07-08T08:11:21.754426Z",
     "shell.execute_reply": "2024-07-08T08:11:21.753588Z"
    },
    "papermill": {
     "duration": 0.523111,
     "end_time": "2024-07-08T08:11:21.756835",
     "exception": false,
     "start_time": "2024-07-08T08:11:21.233724",
     "status": "completed"
    },
    "tags": []
   },
   "outputs": [],
   "source": [
    "# Normalising and Standardising the Images\n",
    "X_train_mean = X_train.mean()\n",
    "X_train_std = X_train.std()\n",
    "\n",
    "for sets in [X_train, X_valid, X_test]:\n",
    "    sets = (sets - X_train_mean) / X_train_std\n",
    "    sets = sets / 255"
   ]
  },
  {
   "cell_type": "code",
   "execution_count": 8,
   "id": "ff0a3427",
   "metadata": {
    "execution": {
     "iopub.execute_input": "2024-07-08T08:11:21.773569Z",
     "iopub.status.busy": "2024-07-08T08:11:21.773267Z",
     "iopub.status.idle": "2024-07-08T08:12:16.591538Z",
     "shell.execute_reply": "2024-07-08T08:12:16.590575Z"
    },
    "papermill": {
     "duration": 54.82864,
     "end_time": "2024-07-08T08:12:16.593506",
     "exception": false,
     "start_time": "2024-07-08T08:11:21.764866",
     "status": "completed"
    },
    "tags": []
   },
   "outputs": [
    {
     "name": "stdout",
     "output_type": "stream",
     "text": [
      "Epoch 1/30\n"
     ]
    },
    {
     "name": "stderr",
     "output_type": "stream",
     "text": [
      "2024-07-08 08:11:25.679136: E external/local_xla/xla/service/gpu/buffer_comparator.cc:1137] Difference at 0: 2.35363, expected 1.53764\n",
      "2024-07-08 08:11:25.679181: E external/local_xla/xla/service/gpu/buffer_comparator.cc:1137] Difference at 1: 1.82107, expected 1.00508\n",
      "2024-07-08 08:11:25.679194: E external/local_xla/xla/service/gpu/buffer_comparator.cc:1137] Difference at 2: 1.81936, expected 1.00338\n",
      "2024-07-08 08:11:25.679208: E external/local_xla/xla/service/gpu/buffer_comparator.cc:1137] Difference at 3: 2.23827, expected 1.42229\n",
      "2024-07-08 08:11:25.679219: E external/local_xla/xla/service/gpu/buffer_comparator.cc:1137] Difference at 4: 3.05481, expected 2.23883\n",
      "2024-07-08 08:11:25.679230: E external/local_xla/xla/service/gpu/buffer_comparator.cc:1137] Difference at 5: 2.58554, expected 1.76955\n",
      "2024-07-08 08:11:25.679240: E external/local_xla/xla/service/gpu/buffer_comparator.cc:1137] Difference at 6: 3.00002, expected 2.18403\n",
      "2024-07-08 08:11:25.679251: E external/local_xla/xla/service/gpu/buffer_comparator.cc:1137] Difference at 7: 2.82235, expected 2.00636\n",
      "2024-07-08 08:11:25.679261: E external/local_xla/xla/service/gpu/buffer_comparator.cc:1137] Difference at 8: 3.10502, expected 2.28904\n",
      "2024-07-08 08:11:25.679271: E external/local_xla/xla/service/gpu/buffer_comparator.cc:1137] Difference at 9: 2.73743, expected 1.92145\n",
      "2024-07-08 08:11:25.679290: E external/local_xla/xla/service/gpu/conv_algorithm_picker.cc:705] Results mismatch between different convolution algorithms. This is likely a bug/unexpected loss of precision in cudnn.\n",
      "(f32[32,32,26,26]{3,2,1,0}, u8[0]{0}) custom-call(f32[32,1,28,28]{3,2,1,0}, f32[32,1,3,3]{3,2,1,0}, f32[32]{0}), window={size=3x3}, dim_labels=bf01_oi01->bf01, custom_call_target=\"__cudnn$convBiasActivationForward\", backend_config={\"conv_result_scale\":1,\"activation_mode\":\"kNone\",\"side_input_scale\":0,\"leakyrelu_alpha\":0} for eng20{k2=2,k4=1,k5=1,k6=0,k7=0} vs eng15{k5=1,k6=0,k7=1,k10=1}\n",
      "2024-07-08 08:11:25.679301: E external/local_xla/xla/service/gpu/conv_algorithm_picker.cc:270] Device: Tesla P100-PCIE-16GB\n",
      "2024-07-08 08:11:25.679310: E external/local_xla/xla/service/gpu/conv_algorithm_picker.cc:271] Platform: Compute Capability 6.0\n",
      "2024-07-08 08:11:25.679321: E external/local_xla/xla/service/gpu/conv_algorithm_picker.cc:272] Driver: 12040 (550.90.7)\n",
      "2024-07-08 08:11:25.679332: E external/local_xla/xla/service/gpu/conv_algorithm_picker.cc:273] Runtime: <undefined>\n",
      "2024-07-08 08:11:25.679349: E external/local_xla/xla/service/gpu/conv_algorithm_picker.cc:280] cudnn version: 8.9.0\n",
      "2024-07-08 08:11:25.755980: E external/local_xla/xla/service/gpu/buffer_comparator.cc:1137] Difference at 0: 2.35363, expected 1.53764\n",
      "2024-07-08 08:11:25.756031: E external/local_xla/xla/service/gpu/buffer_comparator.cc:1137] Difference at 1: 1.82107, expected 1.00508\n",
      "2024-07-08 08:11:25.756047: E external/local_xla/xla/service/gpu/buffer_comparator.cc:1137] Difference at 2: 1.81936, expected 1.00338\n",
      "2024-07-08 08:11:25.756061: E external/local_xla/xla/service/gpu/buffer_comparator.cc:1137] Difference at 3: 2.23827, expected 1.42229\n",
      "2024-07-08 08:11:25.756071: E external/local_xla/xla/service/gpu/buffer_comparator.cc:1137] Difference at 4: 3.05481, expected 2.23883\n",
      "2024-07-08 08:11:25.756081: E external/local_xla/xla/service/gpu/buffer_comparator.cc:1137] Difference at 5: 2.58554, expected 1.76955\n",
      "2024-07-08 08:11:25.756092: E external/local_xla/xla/service/gpu/buffer_comparator.cc:1137] Difference at 6: 3.00002, expected 2.18403\n",
      "2024-07-08 08:11:25.756102: E external/local_xla/xla/service/gpu/buffer_comparator.cc:1137] Difference at 7: 2.82235, expected 2.00636\n",
      "2024-07-08 08:11:25.756127: E external/local_xla/xla/service/gpu/buffer_comparator.cc:1137] Difference at 8: 3.10502, expected 2.28904\n",
      "2024-07-08 08:11:25.756140: E external/local_xla/xla/service/gpu/buffer_comparator.cc:1137] Difference at 9: 2.73743, expected 1.92145\n",
      "2024-07-08 08:11:25.756163: E external/local_xla/xla/service/gpu/conv_algorithm_picker.cc:705] Results mismatch between different convolution algorithms. This is likely a bug/unexpected loss of precision in cudnn.\n",
      "(f32[32,32,26,26]{3,2,1,0}, u8[0]{0}) custom-call(f32[32,1,28,28]{3,2,1,0}, f32[32,1,3,3]{3,2,1,0}, f32[32]{0}), window={size=3x3}, dim_labels=bf01_oi01->bf01, custom_call_target=\"__cudnn$convBiasActivationForward\", backend_config={\"conv_result_scale\":1,\"activation_mode\":\"kNone\",\"side_input_scale\":0,\"leakyrelu_alpha\":0} for eng20{k2=2,k4=1,k5=1,k6=0,k7=0} vs eng15{k5=1,k6=0,k7=1,k10=1}\n",
      "2024-07-08 08:11:25.756176: E external/local_xla/xla/service/gpu/conv_algorithm_picker.cc:270] Device: Tesla P100-PCIE-16GB\n",
      "2024-07-08 08:11:25.756189: E external/local_xla/xla/service/gpu/conv_algorithm_picker.cc:271] Platform: Compute Capability 6.0\n",
      "2024-07-08 08:11:25.756200: E external/local_xla/xla/service/gpu/conv_algorithm_picker.cc:272] Driver: 12040 (550.90.7)\n",
      "2024-07-08 08:11:25.756211: E external/local_xla/xla/service/gpu/conv_algorithm_picker.cc:273] Runtime: <undefined>\n",
      "2024-07-08 08:11:25.756228: E external/local_xla/xla/service/gpu/conv_algorithm_picker.cc:280] cudnn version: 8.9.0\n"
     ]
    },
    {
     "name": "stdout",
     "output_type": "stream",
     "text": [
      "\u001b[1m  51/1625\u001b[0m \u001b[37m━━━━━━━━━━━━━━━━━━━━\u001b[0m \u001b[1m4s\u001b[0m 3ms/step - accuracy: 0.1766 - loss: 313.0068"
     ]
    },
    {
     "name": "stderr",
     "output_type": "stream",
     "text": [
      "WARNING: All log messages before absl::InitializeLog() is called are written to STDERR\n",
      "I0000 00:00:1720426288.325243      68 device_compiler.h:186] Compiled cluster using XLA!  This line is logged at most once for the lifetime of the process.\n",
      "W0000 00:00:1720426288.347696      68 graph_launch.cc:671] Fallback to op-by-op mode because memset node breaks graph update\n"
     ]
    },
    {
     "name": "stdout",
     "output_type": "stream",
     "text": [
      "\u001b[1m1616/1625\u001b[0m \u001b[32m━━━━━━━━━━━━━━━━━━━\u001b[0m\u001b[37m━\u001b[0m \u001b[1m0s\u001b[0m 3ms/step - accuracy: 0.8357 - loss: 26.0968"
     ]
    },
    {
     "name": "stderr",
     "output_type": "stream",
     "text": [
      "W0000 00:00:1720426293.900050      66 graph_launch.cc:671] Fallback to op-by-op mode because memset node breaks graph update\n"
     ]
    },
    {
     "name": "stdout",
     "output_type": "stream",
     "text": [
      "\u001b[1m1625/1625\u001b[0m \u001b[32m━━━━━━━━━━━━━━━━━━━━\u001b[0m\u001b[37m\u001b[0m \u001b[1m12s\u001b[0m 4ms/step - accuracy: 0.8363 - loss: 25.9657 - val_accuracy: 0.9787 - val_loss: 0.0672\n",
      "Epoch 2/30\n",
      "\u001b[1m1625/1625\u001b[0m \u001b[32m━━━━━━━━━━━━━━━━━━━━\u001b[0m\u001b[37m\u001b[0m \u001b[1m5s\u001b[0m 3ms/step - accuracy: 0.9827 - loss: 0.0560 - val_accuracy: 0.9812 - val_loss: 0.0633\n",
      "Epoch 3/30\n",
      "\u001b[1m1625/1625\u001b[0m \u001b[32m━━━━━━━━━━━━━━━━━━━━\u001b[0m\u001b[37m\u001b[0m \u001b[1m5s\u001b[0m 3ms/step - accuracy: 0.9836 - loss: 0.0514 - val_accuracy: 0.9816 - val_loss: 0.0631\n",
      "Epoch 4/30\n",
      "\u001b[1m1625/1625\u001b[0m \u001b[32m━━━━━━━━━━━━━━━━━━━━\u001b[0m\u001b[37m\u001b[0m \u001b[1m5s\u001b[0m 3ms/step - accuracy: 0.9835 - loss: 0.0524 - val_accuracy: 0.9818 - val_loss: 0.0631\n",
      "Epoch 5/30\n",
      "\u001b[1m1625/1625\u001b[0m \u001b[32m━━━━━━━━━━━━━━━━━━━━\u001b[0m\u001b[37m\u001b[0m \u001b[1m5s\u001b[0m 3ms/step - accuracy: 0.9843 - loss: 0.0513 - val_accuracy: 0.9818 - val_loss: 0.0631\n",
      "Epoch 6/30\n",
      "\u001b[1m1625/1625\u001b[0m \u001b[32m━━━━━━━━━━━━━━━━━━━━\u001b[0m\u001b[37m\u001b[0m \u001b[1m5s\u001b[0m 3ms/step - accuracy: 0.9843 - loss: 0.0517 - val_accuracy: 0.9818 - val_loss: 0.0631\n",
      "Epoch 7/30\n",
      "\u001b[1m1625/1625\u001b[0m \u001b[32m━━━━━━━━━━━━━━━━━━━━\u001b[0m\u001b[37m\u001b[0m \u001b[1m5s\u001b[0m 3ms/step - accuracy: 0.9841 - loss: 0.0509 - val_accuracy: 0.9818 - val_loss: 0.0631\n",
      "Epoch 8/30\n",
      "\u001b[1m1625/1625\u001b[0m \u001b[32m━━━━━━━━━━━━━━━━━━━━\u001b[0m\u001b[37m\u001b[0m \u001b[1m5s\u001b[0m 3ms/step - accuracy: 0.9839 - loss: 0.0505 - val_accuracy: 0.9818 - val_loss: 0.0631\n",
      "Epoch 9/30\n",
      "\u001b[1m1625/1625\u001b[0m \u001b[32m━━━━━━━━━━━━━━━━━━━━\u001b[0m\u001b[37m\u001b[0m \u001b[1m5s\u001b[0m 3ms/step - accuracy: 0.9847 - loss: 0.0496 - val_accuracy: 0.9818 - val_loss: 0.0631\n"
     ]
    },
    {
     "data": {
      "text/plain": [
       "<keras.src.callbacks.history.History at 0x7f5b304e77f0>"
      ]
     },
     "execution_count": 8,
     "metadata": {},
     "output_type": "execute_result"
    }
   ],
   "source": [
    "# Early Stopping\n",
    "earlystop_cb = tf.keras.callbacks.EarlyStopping(\n",
    "    patience=7, restore_best_weights=True, mode=\"min\", monitor=\"val_loss\", min_delta=1e-3\n",
    ")\n",
    "\n",
    "# Training using the Custom Loss\n",
    "simple_loss_model.fit(\n",
    "    X_train, y_train, validation_data=(X_valid, y_valid), epochs=30, callbacks=[earlystop_cb]\n",
    ")"
   ]
  },
  {
   "cell_type": "code",
   "execution_count": 9,
   "id": "1f9c30f9",
   "metadata": {
    "execution": {
     "iopub.execute_input": "2024-07-08T08:12:16.747247Z",
     "iopub.status.busy": "2024-07-08T08:12:16.746894Z",
     "iopub.status.idle": "2024-07-08T08:13:13.657814Z",
     "shell.execute_reply": "2024-07-08T08:13:13.656887Z"
    },
    "papermill": {
     "duration": 56.989634,
     "end_time": "2024-07-08T08:13:13.659859",
     "exception": false,
     "start_time": "2024-07-08T08:12:16.670225",
     "status": "completed"
    },
    "tags": []
   },
   "outputs": [
    {
     "name": "stdout",
     "output_type": "stream",
     "text": [
      "Epoch 1/10\n",
      "\u001b[1m  51/1625\u001b[0m \u001b[37m━━━━━━━━━━━━━━━━━━━━\u001b[0m \u001b[1m4s\u001b[0m 3ms/step - accuracy: 0.9888 - loss: 0.0392"
     ]
    },
    {
     "name": "stderr",
     "output_type": "stream",
     "text": [
      "W0000 00:00:1720426340.542886      68 graph_launch.cc:671] Fallback to op-by-op mode because memset node breaks graph update\n"
     ]
    },
    {
     "name": "stdout",
     "output_type": "stream",
     "text": [
      "\u001b[1m1622/1625\u001b[0m \u001b[32m━━━━━━━━━━━━━━━━━━━\u001b[0m\u001b[37m━\u001b[0m \u001b[1m0s\u001b[0m 3ms/step - accuracy: 0.9846 - loss: 0.0500"
     ]
    },
    {
     "name": "stderr",
     "output_type": "stream",
     "text": [
      "W0000 00:00:1720426345.887915      67 graph_launch.cc:671] Fallback to op-by-op mode because memset node breaks graph update\n"
     ]
    },
    {
     "name": "stdout",
     "output_type": "stream",
     "text": [
      "\u001b[1m1625/1625\u001b[0m \u001b[32m━━━━━━━━━━━━━━━━━━━━\u001b[0m\u001b[37m\u001b[0m \u001b[1m9s\u001b[0m 4ms/step - accuracy: 0.9846 - loss: 0.0501 - val_accuracy: 0.9812 - val_loss: 0.0633\n",
      "Epoch 2/10\n",
      "\u001b[1m1625/1625\u001b[0m \u001b[32m━━━━━━━━━━━━━━━━━━━━\u001b[0m\u001b[37m\u001b[0m \u001b[1m5s\u001b[0m 3ms/step - accuracy: 0.9839 - loss: 0.0506 - val_accuracy: 0.9812 - val_loss: 0.0633\n",
      "Epoch 3/10\n",
      "\u001b[1m1625/1625\u001b[0m \u001b[32m━━━━━━━━━━━━━━━━━━━━\u001b[0m\u001b[37m\u001b[0m \u001b[1m5s\u001b[0m 3ms/step - accuracy: 0.9835 - loss: 0.0529 - val_accuracy: 0.9812 - val_loss: 0.0633\n",
      "Epoch 4/10\n",
      "\u001b[1m1625/1625\u001b[0m \u001b[32m━━━━━━━━━━━━━━━━━━━━\u001b[0m\u001b[37m\u001b[0m \u001b[1m5s\u001b[0m 3ms/step - accuracy: 0.9840 - loss: 0.0523 - val_accuracy: 0.9812 - val_loss: 0.0633\n",
      "Epoch 5/10\n",
      "\u001b[1m1625/1625\u001b[0m \u001b[32m━━━━━━━━━━━━━━━━━━━━\u001b[0m\u001b[37m\u001b[0m \u001b[1m5s\u001b[0m 3ms/step - accuracy: 0.9841 - loss: 0.0523 - val_accuracy: 0.9812 - val_loss: 0.0633\n",
      "Epoch 6/10\n",
      "\u001b[1m1625/1625\u001b[0m \u001b[32m━━━━━━━━━━━━━━━━━━━━\u001b[0m\u001b[37m\u001b[0m \u001b[1m5s\u001b[0m 3ms/step - accuracy: 0.9842 - loss: 0.0501 - val_accuracy: 0.9812 - val_loss: 0.0633\n",
      "Epoch 7/10\n",
      "\u001b[1m1625/1625\u001b[0m \u001b[32m━━━━━━━━━━━━━━━━━━━━\u001b[0m\u001b[37m\u001b[0m \u001b[1m5s\u001b[0m 3ms/step - accuracy: 0.9846 - loss: 0.0501 - val_accuracy: 0.9812 - val_loss: 0.0633\n",
      "Epoch 8/10\n",
      "\u001b[1m1625/1625\u001b[0m \u001b[32m━━━━━━━━━━━━━━━━━━━━\u001b[0m\u001b[37m\u001b[0m \u001b[1m5s\u001b[0m 3ms/step - accuracy: 0.9841 - loss: 0.0504 - val_accuracy: 0.9812 - val_loss: 0.0633\n",
      "Epoch 9/10\n",
      "\u001b[1m1625/1625\u001b[0m \u001b[32m━━━━━━━━━━━━━━━━━━━━\u001b[0m\u001b[37m\u001b[0m \u001b[1m5s\u001b[0m 3ms/step - accuracy: 0.9841 - loss: 0.0506 - val_accuracy: 0.9812 - val_loss: 0.0633\n",
      "Epoch 10/10\n",
      "\u001b[1m1625/1625\u001b[0m \u001b[32m━━━━━━━━━━━━━━━━━━━━\u001b[0m\u001b[37m\u001b[0m \u001b[1m5s\u001b[0m 3ms/step - accuracy: 0.9831 - loss: 0.0523 - val_accuracy: 0.9812 - val_loss: 0.0633\n"
     ]
    },
    {
     "data": {
      "text/plain": [
       "<keras.src.callbacks.history.History at 0x7f5b2041b8b0>"
      ]
     },
     "execution_count": 9,
     "metadata": {},
     "output_type": "execute_result"
    }
   ],
   "source": [
    "simple_loss_model.save(\"my_simple_model.keras\")\n",
    "\n",
    "reloaded_model = tf.keras.models.load_model(\n",
    "    \"my_simple_model.keras\",\n",
    "    custom_objects={\n",
    "        \"SparseCategoricalCrossentropy\": SparseCategoricalCrossentropy()\n",
    "    }\n",
    ")\n",
    "\n",
    "reloaded_model.fit(\n",
    "    X_train, y_train, validation_data=(X_valid, y_valid), epochs=10\n",
    ")"
   ]
  },
  {
   "cell_type": "code",
   "execution_count": 10,
   "id": "205d8514",
   "metadata": {
    "execution": {
     "iopub.execute_input": "2024-07-08T08:13:14.016512Z",
     "iopub.status.busy": "2024-07-08T08:13:14.016145Z",
     "iopub.status.idle": "2024-07-08T08:13:14.649206Z",
     "shell.execute_reply": "2024-07-08T08:13:14.648123Z"
    },
    "papermill": {
     "duration": 0.835434,
     "end_time": "2024-07-08T08:13:14.651351",
     "exception": false,
     "start_time": "2024-07-08T08:13:13.815917",
     "status": "completed"
    },
    "tags": []
   },
   "outputs": [
    {
     "name": "stdout",
     "output_type": "stream",
     "text": [
      "tf.Tensor(1.0, shape=(), dtype=float32)\n",
      "tf.Tensor(0.6666667, shape=(), dtype=float32)\n"
     ]
    }
   ],
   "source": [
    "# Applying Streamlining Metrics\n",
    "precision = tf.keras.metrics.Precision()\n",
    "recall = tf.keras.metrics.Recall()\n",
    "\n",
    "print(precision([1, 0, 1, 1], [1, 0, 1, 0]))\n",
    "print(recall([1, 0, 1, 1], [1, 0, 1, 0]))"
   ]
  },
  {
   "cell_type": "code",
   "execution_count": 11,
   "id": "72a870c6",
   "metadata": {
    "execution": {
     "iopub.execute_input": "2024-07-08T08:13:14.964738Z",
     "iopub.status.busy": "2024-07-08T08:13:14.964387Z",
     "iopub.status.idle": "2024-07-08T08:13:14.972590Z",
     "shell.execute_reply": "2024-07-08T08:13:14.971840Z"
    },
    "papermill": {
     "duration": 0.16671,
     "end_time": "2024-07-08T08:13:14.974638",
     "exception": false,
     "start_time": "2024-07-08T08:13:14.807928",
     "status": "completed"
    },
    "tags": []
   },
   "outputs": [],
   "source": [
    "# Building a Custom Layer\n",
    "class MyDense(tf.keras.layers.Layer):\n",
    "    def __init__(self, name, units, activation=\"relu\", **kwargs):\n",
    "        super().__init__(name=name, **kwargs)\n",
    "        self.units = units\n",
    "        self.activation = tf.keras.activations.get(activation)\n",
    "        \n",
    "    def build(self, batch_input_shape):\n",
    "        self.kernel = self.add_weight(\n",
    "            name=\"kernel\", initializer=\"he_normal\", shape=[batch_input_shape[-1], self.units]\n",
    "        )\n",
    "        \n",
    "        self.bias = self.add_weight(\n",
    "            name=\"bias\", initializer=\"zeros\", shape=[self.units]\n",
    "        )\n",
    "        \n",
    "    def call(self, X):\n",
    "        return self.activation(X @ self.kernel + self.bias)\n",
    "    \n",
    "    def get_config(self):\n",
    "        base_config = super().get_config()\n",
    "        return {**base_config, \"units\": self.units, \"activation\": tf.keras.activations.serialize(self.activation)}"
   ]
  },
  {
   "cell_type": "code",
   "execution_count": 12,
   "id": "949e5aab",
   "metadata": {
    "execution": {
     "iopub.execute_input": "2024-07-08T08:13:15.287122Z",
     "iopub.status.busy": "2024-07-08T08:13:15.286766Z",
     "iopub.status.idle": "2024-07-08T08:13:15.367858Z",
     "shell.execute_reply": "2024-07-08T08:13:15.367002Z"
    },
    "papermill": {
     "duration": 0.239734,
     "end_time": "2024-07-08T08:13:15.369800",
     "exception": false,
     "start_time": "2024-07-08T08:13:15.130066",
     "status": "completed"
    },
    "tags": []
   },
   "outputs": [
    {
     "data": {
      "text/html": [
       "<pre style=\"white-space:pre;overflow-x:auto;line-height:normal;font-family:Menlo,'DejaVu Sans Mono',consolas,'Courier New',monospace\"><span style=\"font-weight: bold\">Model: \"sequential_1\"</span>\n",
       "</pre>\n"
      ],
      "text/plain": [
       "\u001b[1mModel: \"sequential_1\"\u001b[0m\n"
      ]
     },
     "metadata": {},
     "output_type": "display_data"
    },
    {
     "data": {
      "text/html": [
       "<pre style=\"white-space:pre;overflow-x:auto;line-height:normal;font-family:Menlo,'DejaVu Sans Mono',consolas,'Courier New',monospace\">┏━━━━━━━━━━━━━━━━━━━━━━━━━━━━━━━━━┳━━━━━━━━━━━━━━━━━━━━━━━━┳━━━━━━━━━━━━━━━┓\n",
       "┃<span style=\"font-weight: bold\"> Layer (type)                    </span>┃<span style=\"font-weight: bold\"> Output Shape           </span>┃<span style=\"font-weight: bold\">       Param # </span>┃\n",
       "┡━━━━━━━━━━━━━━━━━━━━━━━━━━━━━━━━━╇━━━━━━━━━━━━━━━━━━━━━━━━╇━━━━━━━━━━━━━━━┩\n",
       "│ conv2d_4 (<span style=\"color: #0087ff; text-decoration-color: #0087ff\">Conv2D</span>)               │ (<span style=\"color: #00d7ff; text-decoration-color: #00d7ff\">None</span>, <span style=\"color: #00af00; text-decoration-color: #00af00\">26</span>, <span style=\"color: #00af00; text-decoration-color: #00af00\">26</span>, <span style=\"color: #00af00; text-decoration-color: #00af00\">32</span>)     │           <span style=\"color: #00af00; text-decoration-color: #00af00\">320</span> │\n",
       "├─────────────────────────────────┼────────────────────────┼───────────────┤\n",
       "│ conv2d_5 (<span style=\"color: #0087ff; text-decoration-color: #0087ff\">Conv2D</span>)               │ (<span style=\"color: #00d7ff; text-decoration-color: #00d7ff\">None</span>, <span style=\"color: #00af00; text-decoration-color: #00af00\">24</span>, <span style=\"color: #00af00; text-decoration-color: #00af00\">24</span>, <span style=\"color: #00af00; text-decoration-color: #00af00\">32</span>)     │         <span style=\"color: #00af00; text-decoration-color: #00af00\">9,248</span> │\n",
       "├─────────────────────────────────┼────────────────────────┼───────────────┤\n",
       "│ max_pooling2d_1 (<span style=\"color: #0087ff; text-decoration-color: #0087ff\">MaxPooling2D</span>)  │ (<span style=\"color: #00d7ff; text-decoration-color: #00d7ff\">None</span>, <span style=\"color: #00af00; text-decoration-color: #00af00\">12</span>, <span style=\"color: #00af00; text-decoration-color: #00af00\">12</span>, <span style=\"color: #00af00; text-decoration-color: #00af00\">32</span>)     │             <span style=\"color: #00af00; text-decoration-color: #00af00\">0</span> │\n",
       "├─────────────────────────────────┼────────────────────────┼───────────────┤\n",
       "│ flatten_1 (<span style=\"color: #0087ff; text-decoration-color: #0087ff\">Flatten</span>)             │ (<span style=\"color: #00d7ff; text-decoration-color: #00d7ff\">None</span>, <span style=\"color: #00af00; text-decoration-color: #00af00\">4608</span>)           │             <span style=\"color: #00af00; text-decoration-color: #00af00\">0</span> │\n",
       "├─────────────────────────────────┼────────────────────────┼───────────────┤\n",
       "│ Layer1 (<span style=\"color: #0087ff; text-decoration-color: #0087ff\">MyDense</span>)                │ (<span style=\"color: #00d7ff; text-decoration-color: #00d7ff\">None</span>, <span style=\"color: #00af00; text-decoration-color: #00af00\">512</span>)            │     <span style=\"color: #00af00; text-decoration-color: #00af00\">2,359,808</span> │\n",
       "├─────────────────────────────────┼────────────────────────┼───────────────┤\n",
       "│ Layer2 (<span style=\"color: #0087ff; text-decoration-color: #0087ff\">MyDense</span>)                │ (<span style=\"color: #00d7ff; text-decoration-color: #00d7ff\">None</span>, <span style=\"color: #00af00; text-decoration-color: #00af00\">512</span>)            │       <span style=\"color: #00af00; text-decoration-color: #00af00\">262,656</span> │\n",
       "├─────────────────────────────────┼────────────────────────┼───────────────┤\n",
       "│ Layer3 (<span style=\"color: #0087ff; text-decoration-color: #0087ff\">MyDense</span>)                │ (<span style=\"color: #00d7ff; text-decoration-color: #00d7ff\">None</span>, <span style=\"color: #00af00; text-decoration-color: #00af00\">512</span>)            │       <span style=\"color: #00af00; text-decoration-color: #00af00\">262,656</span> │\n",
       "├─────────────────────────────────┼────────────────────────┼───────────────┤\n",
       "│ dense_4 (<span style=\"color: #0087ff; text-decoration-color: #0087ff\">Dense</span>)                 │ (<span style=\"color: #00d7ff; text-decoration-color: #00d7ff\">None</span>, <span style=\"color: #00af00; text-decoration-color: #00af00\">10</span>)             │         <span style=\"color: #00af00; text-decoration-color: #00af00\">5,130</span> │\n",
       "└─────────────────────────────────┴────────────────────────┴───────────────┘\n",
       "</pre>\n"
      ],
      "text/plain": [
       "┏━━━━━━━━━━━━━━━━━━━━━━━━━━━━━━━━━┳━━━━━━━━━━━━━━━━━━━━━━━━┳━━━━━━━━━━━━━━━┓\n",
       "┃\u001b[1m \u001b[0m\u001b[1mLayer (type)                   \u001b[0m\u001b[1m \u001b[0m┃\u001b[1m \u001b[0m\u001b[1mOutput Shape          \u001b[0m\u001b[1m \u001b[0m┃\u001b[1m \u001b[0m\u001b[1m      Param #\u001b[0m\u001b[1m \u001b[0m┃\n",
       "┡━━━━━━━━━━━━━━━━━━━━━━━━━━━━━━━━━╇━━━━━━━━━━━━━━━━━━━━━━━━╇━━━━━━━━━━━━━━━┩\n",
       "│ conv2d_4 (\u001b[38;5;33mConv2D\u001b[0m)               │ (\u001b[38;5;45mNone\u001b[0m, \u001b[38;5;34m26\u001b[0m, \u001b[38;5;34m26\u001b[0m, \u001b[38;5;34m32\u001b[0m)     │           \u001b[38;5;34m320\u001b[0m │\n",
       "├─────────────────────────────────┼────────────────────────┼───────────────┤\n",
       "│ conv2d_5 (\u001b[38;5;33mConv2D\u001b[0m)               │ (\u001b[38;5;45mNone\u001b[0m, \u001b[38;5;34m24\u001b[0m, \u001b[38;5;34m24\u001b[0m, \u001b[38;5;34m32\u001b[0m)     │         \u001b[38;5;34m9,248\u001b[0m │\n",
       "├─────────────────────────────────┼────────────────────────┼───────────────┤\n",
       "│ max_pooling2d_1 (\u001b[38;5;33mMaxPooling2D\u001b[0m)  │ (\u001b[38;5;45mNone\u001b[0m, \u001b[38;5;34m12\u001b[0m, \u001b[38;5;34m12\u001b[0m, \u001b[38;5;34m32\u001b[0m)     │             \u001b[38;5;34m0\u001b[0m │\n",
       "├─────────────────────────────────┼────────────────────────┼───────────────┤\n",
       "│ flatten_1 (\u001b[38;5;33mFlatten\u001b[0m)             │ (\u001b[38;5;45mNone\u001b[0m, \u001b[38;5;34m4608\u001b[0m)           │             \u001b[38;5;34m0\u001b[0m │\n",
       "├─────────────────────────────────┼────────────────────────┼───────────────┤\n",
       "│ Layer1 (\u001b[38;5;33mMyDense\u001b[0m)                │ (\u001b[38;5;45mNone\u001b[0m, \u001b[38;5;34m512\u001b[0m)            │     \u001b[38;5;34m2,359,808\u001b[0m │\n",
       "├─────────────────────────────────┼────────────────────────┼───────────────┤\n",
       "│ Layer2 (\u001b[38;5;33mMyDense\u001b[0m)                │ (\u001b[38;5;45mNone\u001b[0m, \u001b[38;5;34m512\u001b[0m)            │       \u001b[38;5;34m262,656\u001b[0m │\n",
       "├─────────────────────────────────┼────────────────────────┼───────────────┤\n",
       "│ Layer3 (\u001b[38;5;33mMyDense\u001b[0m)                │ (\u001b[38;5;45mNone\u001b[0m, \u001b[38;5;34m512\u001b[0m)            │       \u001b[38;5;34m262,656\u001b[0m │\n",
       "├─────────────────────────────────┼────────────────────────┼───────────────┤\n",
       "│ dense_4 (\u001b[38;5;33mDense\u001b[0m)                 │ (\u001b[38;5;45mNone\u001b[0m, \u001b[38;5;34m10\u001b[0m)             │         \u001b[38;5;34m5,130\u001b[0m │\n",
       "└─────────────────────────────────┴────────────────────────┴───────────────┘\n"
      ]
     },
     "metadata": {},
     "output_type": "display_data"
    },
    {
     "data": {
      "text/html": [
       "<pre style=\"white-space:pre;overflow-x:auto;line-height:normal;font-family:Menlo,'DejaVu Sans Mono',consolas,'Courier New',monospace\"><span style=\"font-weight: bold\"> Total params: </span><span style=\"color: #00af00; text-decoration-color: #00af00\">2,899,818</span> (11.06 MB)\n",
       "</pre>\n"
      ],
      "text/plain": [
       "\u001b[1m Total params: \u001b[0m\u001b[38;5;34m2,899,818\u001b[0m (11.06 MB)\n"
      ]
     },
     "metadata": {},
     "output_type": "display_data"
    },
    {
     "data": {
      "text/html": [
       "<pre style=\"white-space:pre;overflow-x:auto;line-height:normal;font-family:Menlo,'DejaVu Sans Mono',consolas,'Courier New',monospace\"><span style=\"font-weight: bold\"> Trainable params: </span><span style=\"color: #00af00; text-decoration-color: #00af00\">2,899,818</span> (11.06 MB)\n",
       "</pre>\n"
      ],
      "text/plain": [
       "\u001b[1m Trainable params: \u001b[0m\u001b[38;5;34m2,899,818\u001b[0m (11.06 MB)\n"
      ]
     },
     "metadata": {},
     "output_type": "display_data"
    },
    {
     "data": {
      "text/html": [
       "<pre style=\"white-space:pre;overflow-x:auto;line-height:normal;font-family:Menlo,'DejaVu Sans Mono',consolas,'Courier New',monospace\"><span style=\"font-weight: bold\"> Non-trainable params: </span><span style=\"color: #00af00; text-decoration-color: #00af00\">0</span> (0.00 B)\n",
       "</pre>\n"
      ],
      "text/plain": [
       "\u001b[1m Non-trainable params: \u001b[0m\u001b[38;5;34m0\u001b[0m (0.00 B)\n"
      ]
     },
     "metadata": {},
     "output_type": "display_data"
    }
   ],
   "source": [
    "new_model = tf.keras.models.Sequential([\n",
    "    tf.keras.layers.Conv2D(32, (3, 3), activation=\"elu\", input_shape=[28, 28, 1]),\n",
    "    tf.keras.layers.Conv2D(32, (3, 3), activation=\"elu\"),\n",
    "    tf.keras.layers.MaxPool2D(2, 2),\n",
    "    tf.keras.layers.Flatten(),\n",
    "    MyDense(\"Layer1\", 512, \"elu\"),\n",
    "    MyDense(\"Layer2\", 512, \"elu\"),\n",
    "    MyDense(\"Layer3\", 512, \"elu\"),\n",
    "    tf.keras.layers.Dense(10, activation=\"softmax\")\n",
    "])\n",
    "\n",
    "new_model.summary()"
   ]
  },
  {
   "cell_type": "code",
   "execution_count": 13,
   "id": "642c2903",
   "metadata": {
    "execution": {
     "iopub.execute_input": "2024-07-08T08:13:15.687840Z",
     "iopub.status.busy": "2024-07-08T08:13:15.687485Z",
     "iopub.status.idle": "2024-07-08T08:15:37.401050Z",
     "shell.execute_reply": "2024-07-08T08:15:37.400017Z"
    },
    "papermill": {
     "duration": 141.874613,
     "end_time": "2024-07-08T08:15:37.403235",
     "exception": false,
     "start_time": "2024-07-08T08:13:15.528622",
     "status": "completed"
    },
    "tags": []
   },
   "outputs": [
    {
     "name": "stdout",
     "output_type": "stream",
     "text": [
      "Epoch 1/30\n"
     ]
    },
    {
     "name": "stderr",
     "output_type": "stream",
     "text": [
      "/opt/conda/lib/python3.10/site-packages/keras/src/backend/tensorflow/nn.py:602: UserWarning: \"`sparse_categorical_crossentropy` received `from_logits=True`, but the `output` argument was produced by a Softmax activation and thus does not represent logits. Was this intended?\n",
      "  output, from_logits = _get_logits(\n"
     ]
    },
    {
     "name": "stdout",
     "output_type": "stream",
     "text": [
      "\u001b[1m1625/1625\u001b[0m \u001b[32m━━━━━━━━━━━━━━━━━━━━\u001b[0m\u001b[37m\u001b[0m \u001b[1m8s\u001b[0m 3ms/step - accuracy: 0.8755 - loss: 9.6732 - val_accuracy: 0.9818 - val_loss: 0.0710\n",
      "Epoch 2/30\n",
      "\u001b[1m1625/1625\u001b[0m \u001b[32m━━━━━━━━━━━━━━━━━━━━\u001b[0m\u001b[37m\u001b[0m \u001b[1m5s\u001b[0m 3ms/step - accuracy: 0.9862 - loss: 0.0442 - val_accuracy: 0.9821 - val_loss: 0.0659\n",
      "Epoch 3/30\n",
      "\u001b[1m1625/1625\u001b[0m \u001b[32m━━━━━━━━━━━━━━━━━━━━\u001b[0m\u001b[37m\u001b[0m \u001b[1m5s\u001b[0m 3ms/step - accuracy: 0.9897 - loss: 0.0368 - val_accuracy: 0.9822 - val_loss: 0.0657\n",
      "Epoch 4/30\n",
      "\u001b[1m1625/1625\u001b[0m \u001b[32m━━━━━━━━━━━━━━━━━━━━\u001b[0m\u001b[37m\u001b[0m \u001b[1m5s\u001b[0m 3ms/step - accuracy: 0.9896 - loss: 0.0355 - val_accuracy: 0.9824 - val_loss: 0.0657\n",
      "Epoch 5/30\n",
      "\u001b[1m1625/1625\u001b[0m \u001b[32m━━━━━━━━━━━━━━━━━━━━\u001b[0m\u001b[37m\u001b[0m \u001b[1m5s\u001b[0m 3ms/step - accuracy: 0.9896 - loss: 0.0349 - val_accuracy: 0.9824 - val_loss: 0.0657\n",
      "Epoch 6/30\n",
      "\u001b[1m1625/1625\u001b[0m \u001b[32m━━━━━━━━━━━━━━━━━━━━\u001b[0m\u001b[37m\u001b[0m \u001b[1m5s\u001b[0m 3ms/step - accuracy: 0.9895 - loss: 0.0355 - val_accuracy: 0.9824 - val_loss: 0.0657\n",
      "Epoch 7/30\n",
      "\u001b[1m1625/1625\u001b[0m \u001b[32m━━━━━━━━━━━━━━━━━━━━\u001b[0m\u001b[37m\u001b[0m \u001b[1m5s\u001b[0m 3ms/step - accuracy: 0.9896 - loss: 0.0358 - val_accuracy: 0.9824 - val_loss: 0.0657\n",
      "Epoch 8/30\n",
      "\u001b[1m1625/1625\u001b[0m \u001b[32m━━━━━━━━━━━━━━━━━━━━\u001b[0m\u001b[37m\u001b[0m \u001b[1m5s\u001b[0m 3ms/step - accuracy: 0.9897 - loss: 0.0356 - val_accuracy: 0.9824 - val_loss: 0.0657\n",
      "Epoch 9/30\n",
      "\u001b[1m1625/1625\u001b[0m \u001b[32m━━━━━━━━━━━━━━━━━━━━\u001b[0m\u001b[37m\u001b[0m \u001b[1m5s\u001b[0m 3ms/step - accuracy: 0.9894 - loss: 0.0381 - val_accuracy: 0.9824 - val_loss: 0.0657\n",
      "Epoch 10/30\n",
      "\u001b[1m1625/1625\u001b[0m \u001b[32m━━━━━━━━━━━━━━━━━━━━\u001b[0m\u001b[37m\u001b[0m \u001b[1m5s\u001b[0m 3ms/step - accuracy: 0.9893 - loss: 0.0367 - val_accuracy: 0.9824 - val_loss: 0.0657\n",
      "Epoch 11/30\n",
      "\u001b[1m1625/1625\u001b[0m \u001b[32m━━━━━━━━━━━━━━━━━━━━\u001b[0m\u001b[37m\u001b[0m \u001b[1m5s\u001b[0m 3ms/step - accuracy: 0.9892 - loss: 0.0365 - val_accuracy: 0.9824 - val_loss: 0.0657\n",
      "Epoch 12/30\n",
      "\u001b[1m1625/1625\u001b[0m \u001b[32m━━━━━━━━━━━━━━━━━━━━\u001b[0m\u001b[37m\u001b[0m \u001b[1m5s\u001b[0m 3ms/step - accuracy: 0.9892 - loss: 0.0376 - val_accuracy: 0.9824 - val_loss: 0.0657\n",
      "Epoch 13/30\n",
      "\u001b[1m1625/1625\u001b[0m \u001b[32m━━━━━━━━━━━━━━━━━━━━\u001b[0m\u001b[37m\u001b[0m \u001b[1m5s\u001b[0m 3ms/step - accuracy: 0.9896 - loss: 0.0361 - val_accuracy: 0.9824 - val_loss: 0.0657\n",
      "Epoch 14/30\n",
      "\u001b[1m1625/1625\u001b[0m \u001b[32m━━━━━━━━━━━━━━━━━━━━\u001b[0m\u001b[37m\u001b[0m \u001b[1m5s\u001b[0m 3ms/step - accuracy: 0.9897 - loss: 0.0353 - val_accuracy: 0.9824 - val_loss: 0.0657\n",
      "Epoch 15/30\n",
      "\u001b[1m1625/1625\u001b[0m \u001b[32m━━━━━━━━━━━━━━━━━━━━\u001b[0m\u001b[37m\u001b[0m \u001b[1m5s\u001b[0m 3ms/step - accuracy: 0.9891 - loss: 0.0366 - val_accuracy: 0.9824 - val_loss: 0.0657\n",
      "Epoch 16/30\n",
      "\u001b[1m1625/1625\u001b[0m \u001b[32m━━━━━━━━━━━━━━━━━━━━\u001b[0m\u001b[37m\u001b[0m \u001b[1m5s\u001b[0m 3ms/step - accuracy: 0.9889 - loss: 0.0362 - val_accuracy: 0.9824 - val_loss: 0.0657\n",
      "Epoch 17/30\n",
      "\u001b[1m1625/1625\u001b[0m \u001b[32m━━━━━━━━━━━━━━━━━━━━\u001b[0m\u001b[37m\u001b[0m \u001b[1m5s\u001b[0m 3ms/step - accuracy: 0.9892 - loss: 0.0356 - val_accuracy: 0.9824 - val_loss: 0.0657\n",
      "Epoch 18/30\n",
      "\u001b[1m1625/1625\u001b[0m \u001b[32m━━━━━━━━━━━━━━━━━━━━\u001b[0m\u001b[37m\u001b[0m \u001b[1m5s\u001b[0m 3ms/step - accuracy: 0.9889 - loss: 0.0369 - val_accuracy: 0.9824 - val_loss: 0.0657\n",
      "Epoch 19/30\n",
      "\u001b[1m1625/1625\u001b[0m \u001b[32m━━━━━━━━━━━━━━━━━━━━\u001b[0m\u001b[37m\u001b[0m \u001b[1m5s\u001b[0m 3ms/step - accuracy: 0.9900 - loss: 0.0350 - val_accuracy: 0.9824 - val_loss: 0.0657\n",
      "Epoch 20/30\n",
      "\u001b[1m1625/1625\u001b[0m \u001b[32m━━━━━━━━━━━━━━━━━━━━\u001b[0m\u001b[37m\u001b[0m \u001b[1m5s\u001b[0m 3ms/step - accuracy: 0.9892 - loss: 0.0372 - val_accuracy: 0.9824 - val_loss: 0.0657\n",
      "Epoch 21/30\n",
      "\u001b[1m1625/1625\u001b[0m \u001b[32m━━━━━━━━━━━━━━━━━━━━\u001b[0m\u001b[37m\u001b[0m \u001b[1m5s\u001b[0m 3ms/step - accuracy: 0.9887 - loss: 0.0370 - val_accuracy: 0.9824 - val_loss: 0.0657\n",
      "Epoch 22/30\n",
      "\u001b[1m1625/1625\u001b[0m \u001b[32m━━━━━━━━━━━━━━━━━━━━\u001b[0m\u001b[37m\u001b[0m \u001b[1m5s\u001b[0m 3ms/step - accuracy: 0.9893 - loss: 0.0372 - val_accuracy: 0.9824 - val_loss: 0.0657\n",
      "Epoch 23/30\n",
      "\u001b[1m1625/1625\u001b[0m \u001b[32m━━━━━━━━━━━━━━━━━━━━\u001b[0m\u001b[37m\u001b[0m \u001b[1m5s\u001b[0m 3ms/step - accuracy: 0.9899 - loss: 0.0355 - val_accuracy: 0.9824 - val_loss: 0.0657\n",
      "Epoch 24/30\n",
      "\u001b[1m1625/1625\u001b[0m \u001b[32m━━━━━━━━━━━━━━━━━━━━\u001b[0m\u001b[37m\u001b[0m \u001b[1m5s\u001b[0m 3ms/step - accuracy: 0.9894 - loss: 0.0365 - val_accuracy: 0.9824 - val_loss: 0.0657\n",
      "Epoch 25/30\n",
      "\u001b[1m1625/1625\u001b[0m \u001b[32m━━━━━━━━━━━━━━━━━━━━\u001b[0m\u001b[37m\u001b[0m \u001b[1m5s\u001b[0m 3ms/step - accuracy: 0.9892 - loss: 0.0367 - val_accuracy: 0.9824 - val_loss: 0.0657\n",
      "Epoch 26/30\n",
      "\u001b[1m1625/1625\u001b[0m \u001b[32m━━━━━━━━━━━━━━━━━━━━\u001b[0m\u001b[37m\u001b[0m \u001b[1m5s\u001b[0m 3ms/step - accuracy: 0.9899 - loss: 0.0359 - val_accuracy: 0.9824 - val_loss: 0.0657\n",
      "Epoch 27/30\n",
      "\u001b[1m1625/1625\u001b[0m \u001b[32m━━━━━━━━━━━━━━━━━━━━\u001b[0m\u001b[37m\u001b[0m \u001b[1m5s\u001b[0m 3ms/step - accuracy: 0.9898 - loss: 0.0373 - val_accuracy: 0.9824 - val_loss: 0.0657\n",
      "Epoch 28/30\n",
      "\u001b[1m1625/1625\u001b[0m \u001b[32m━━━━━━━━━━━━━━━━━━━━\u001b[0m\u001b[37m\u001b[0m \u001b[1m5s\u001b[0m 3ms/step - accuracy: 0.9891 - loss: 0.0359 - val_accuracy: 0.9824 - val_loss: 0.0657\n",
      "Epoch 29/30\n",
      "\u001b[1m1625/1625\u001b[0m \u001b[32m━━━━━━━━━━━━━━━━━━━━\u001b[0m\u001b[37m\u001b[0m \u001b[1m5s\u001b[0m 3ms/step - accuracy: 0.9890 - loss: 0.0374 - val_accuracy: 0.9824 - val_loss: 0.0657\n",
      "Epoch 30/30\n",
      "\u001b[1m1625/1625\u001b[0m \u001b[32m━━━━━━━━━━━━━━━━━━━━\u001b[0m\u001b[37m\u001b[0m \u001b[1m5s\u001b[0m 3ms/step - accuracy: 0.9896 - loss: 0.0348 - val_accuracy: 0.9824 - val_loss: 0.0657\n"
     ]
    },
    {
     "data": {
      "text/plain": [
       "<keras.src.callbacks.history.History at 0x7f5aec6e99f0>"
      ]
     },
     "execution_count": 13,
     "metadata": {},
     "output_type": "execute_result"
    }
   ],
   "source": [
    "new_model.compile(\n",
    "    loss=SparseCategoricalCrossentropy(from_logits=True),\n",
    "    optimizer=tf.keras.optimizers.Nadam(learning_rate=exponential_sch),\n",
    "    metrics=[\"accuracy\"]\n",
    ")\n",
    "\n",
    "new_model.fit(\n",
    "    X_train, y_train, validation_data=(X_valid, y_valid), epochs=30\n",
    ")"
   ]
  },
  {
   "cell_type": "code",
   "execution_count": 14,
   "id": "88e108f2",
   "metadata": {
    "execution": {
     "iopub.execute_input": "2024-07-08T08:15:38.189823Z",
     "iopub.status.busy": "2024-07-08T08:15:38.189051Z",
     "iopub.status.idle": "2024-07-08T08:16:28.210636Z",
     "shell.execute_reply": "2024-07-08T08:16:28.209713Z"
    },
    "papermill": {
     "duration": 50.439495,
     "end_time": "2024-07-08T08:16:28.212668",
     "exception": false,
     "start_time": "2024-07-08T08:15:37.773173",
     "status": "completed"
    },
    "tags": []
   },
   "outputs": [
    {
     "name": "stdout",
     "output_type": "stream",
     "text": [
      "Epoch 1/10\n",
      "\u001b[1m1625/1625\u001b[0m \u001b[32m━━━━━━━━━━━━━━━━━━━━\u001b[0m\u001b[37m\u001b[0m \u001b[1m8s\u001b[0m 3ms/step - accuracy: 0.9897 - loss: 0.0356 - val_accuracy: 0.9824 - val_loss: 0.0657\n",
      "Epoch 2/10\n",
      "\u001b[1m1625/1625\u001b[0m \u001b[32m━━━━━━━━━━━━━━━━━━━━\u001b[0m\u001b[37m\u001b[0m \u001b[1m5s\u001b[0m 3ms/step - accuracy: 0.9897 - loss: 0.0346 - val_accuracy: 0.9824 - val_loss: 0.0657\n",
      "Epoch 3/10\n",
      "\u001b[1m1625/1625\u001b[0m \u001b[32m━━━━━━━━━━━━━━━━━━━━\u001b[0m\u001b[37m\u001b[0m \u001b[1m5s\u001b[0m 3ms/step - accuracy: 0.9898 - loss: 0.0353 - val_accuracy: 0.9824 - val_loss: 0.0657\n",
      "Epoch 4/10\n",
      "\u001b[1m1625/1625\u001b[0m \u001b[32m━━━━━━━━━━━━━━━━━━━━\u001b[0m\u001b[37m\u001b[0m \u001b[1m5s\u001b[0m 3ms/step - accuracy: 0.9891 - loss: 0.0372 - val_accuracy: 0.9824 - val_loss: 0.0657\n",
      "Epoch 5/10\n",
      "\u001b[1m1625/1625\u001b[0m \u001b[32m━━━━━━━━━━━━━━━━━━━━\u001b[0m\u001b[37m\u001b[0m \u001b[1m5s\u001b[0m 3ms/step - accuracy: 0.9906 - loss: 0.0345 - val_accuracy: 0.9824 - val_loss: 0.0657\n",
      "Epoch 6/10\n",
      "\u001b[1m1625/1625\u001b[0m \u001b[32m━━━━━━━━━━━━━━━━━━━━\u001b[0m\u001b[37m\u001b[0m \u001b[1m5s\u001b[0m 3ms/step - accuracy: 0.9889 - loss: 0.0358 - val_accuracy: 0.9824 - val_loss: 0.0657\n",
      "Epoch 7/10\n",
      "\u001b[1m1625/1625\u001b[0m \u001b[32m━━━━━━━━━━━━━━━━━━━━\u001b[0m\u001b[37m\u001b[0m \u001b[1m5s\u001b[0m 3ms/step - accuracy: 0.9902 - loss: 0.0356 - val_accuracy: 0.9824 - val_loss: 0.0657\n",
      "Epoch 8/10\n",
      "\u001b[1m1625/1625\u001b[0m \u001b[32m━━━━━━━━━━━━━━━━━━━━\u001b[0m\u001b[37m\u001b[0m \u001b[1m5s\u001b[0m 3ms/step - accuracy: 0.9887 - loss: 0.0368 - val_accuracy: 0.9824 - val_loss: 0.0657\n",
      "Epoch 9/10\n",
      "\u001b[1m1625/1625\u001b[0m \u001b[32m━━━━━━━━━━━━━━━━━━━━\u001b[0m\u001b[37m\u001b[0m \u001b[1m5s\u001b[0m 3ms/step - accuracy: 0.9900 - loss: 0.0351 - val_accuracy: 0.9824 - val_loss: 0.0657\n",
      "Epoch 10/10\n",
      "\u001b[1m1625/1625\u001b[0m \u001b[32m━━━━━━━━━━━━━━━━━━━━\u001b[0m\u001b[37m\u001b[0m \u001b[1m5s\u001b[0m 3ms/step - accuracy: 0.9892 - loss: 0.0362 - val_accuracy: 0.9824 - val_loss: 0.0657\n"
     ]
    },
    {
     "data": {
      "text/plain": [
       "<keras.src.callbacks.history.History at 0x7f5aec227040>"
      ]
     },
     "execution_count": 14,
     "metadata": {},
     "output_type": "execute_result"
    }
   ],
   "source": [
    "new_model.save(\"new_saved_model.keras\")\n",
    "\n",
    "new_reload = tf.keras.models.load_model(\n",
    "    \"new_saved_model.keras\",\n",
    "    custom_objects={\n",
    "        \"MyDense\": MyDense,\n",
    "        \"SparseCategoricalCrossentropy\": SparseCategoricalCrossentropy\n",
    "    }\n",
    ")\n",
    "\n",
    "new_reload.fit(\n",
    "    X_train, y_train, validation_data=(X_valid, y_valid), epochs=10\n",
    ")"
   ]
  },
  {
   "cell_type": "code",
   "execution_count": null,
   "id": "f905cfa0",
   "metadata": {
    "papermill": {
     "duration": 0.42805,
     "end_time": "2024-07-08T08:16:29.071965",
     "exception": false,
     "start_time": "2024-07-08T08:16:28.643915",
     "status": "completed"
    },
    "tags": []
   },
   "outputs": [],
   "source": []
  }
 ],
 "metadata": {
  "kaggle": {
   "accelerator": "gpu",
   "dataSources": [],
   "dockerImageVersionId": 30733,
   "isGpuEnabled": true,
   "isInternetEnabled": true,
   "language": "python",
   "sourceType": "notebook"
  },
  "kernelspec": {
   "display_name": "Python 3",
   "language": "python",
   "name": "python3"
  },
  "language_info": {
   "codemirror_mode": {
    "name": "ipython",
    "version": 3
   },
   "file_extension": ".py",
   "mimetype": "text/x-python",
   "name": "python",
   "nbconvert_exporter": "python",
   "pygments_lexer": "ipython3",
   "version": "3.10.13"
  },
  "papermill": {
   "default_parameters": {},
   "duration": 328.294545,
   "end_time": "2024-07-08T08:16:31.964739",
   "environment_variables": {},
   "exception": null,
   "input_path": "__notebook__.ipynb",
   "output_path": "__notebook__.ipynb",
   "parameters": {},
   "start_time": "2024-07-08T08:11:03.670194",
   "version": "2.5.0"
  }
 },
 "nbformat": 4,
 "nbformat_minor": 5
}
