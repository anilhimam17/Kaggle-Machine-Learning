{
 "cells": [
  {
   "cell_type": "markdown",
   "id": "f29d3e36",
   "metadata": {
    "papermill": {
     "duration": 0.008927,
     "end_time": "2024-07-09T10:26:43.680592",
     "exception": false,
     "start_time": "2024-07-09T10:26:43.671665",
     "status": "completed"
    },
    "tags": []
   },
   "source": [
    "## Playground 🤟🏼"
   ]
  },
  {
   "cell_type": "code",
   "execution_count": 1,
   "id": "a52a1f89",
   "metadata": {
    "execution": {
     "iopub.execute_input": "2024-07-09T10:26:43.703751Z",
     "iopub.status.busy": "2024-07-09T10:26:43.702922Z",
     "iopub.status.idle": "2024-07-09T10:26:55.900724Z",
     "shell.execute_reply": "2024-07-09T10:26:55.899906Z"
    },
    "papermill": {
     "duration": 12.213425,
     "end_time": "2024-07-09T10:26:55.903098",
     "exception": false,
     "start_time": "2024-07-09T10:26:43.689673",
     "status": "completed"
    },
    "tags": []
   },
   "outputs": [
    {
     "name": "stderr",
     "output_type": "stream",
     "text": [
      "2024-07-09 10:26:45.424965: E external/local_xla/xla/stream_executor/cuda/cuda_dnn.cc:9261] Unable to register cuDNN factory: Attempting to register factory for plugin cuDNN when one has already been registered\n",
      "2024-07-09 10:26:45.425080: E external/local_xla/xla/stream_executor/cuda/cuda_fft.cc:607] Unable to register cuFFT factory: Attempting to register factory for plugin cuFFT when one has already been registered\n",
      "2024-07-09 10:26:45.551027: E external/local_xla/xla/stream_executor/cuda/cuda_blas.cc:1515] Unable to register cuBLAS factory: Attempting to register factory for plugin cuBLAS when one has already been registered\n"
     ]
    }
   ],
   "source": [
    "import tensorflow as tf\n",
    "import numpy as np\n",
    "import pandas as pd\n",
    "import matplotlib.pyplot as plt"
   ]
  },
  {
   "cell_type": "code",
   "execution_count": 2,
   "id": "f3c710b6",
   "metadata": {
    "execution": {
     "iopub.execute_input": "2024-07-09T10:26:55.922371Z",
     "iopub.status.busy": "2024-07-09T10:26:55.921327Z",
     "iopub.status.idle": "2024-07-09T10:26:57.325579Z",
     "shell.execute_reply": "2024-07-09T10:26:57.324362Z"
    },
    "papermill": {
     "duration": 1.416146,
     "end_time": "2024-07-09T10:26:57.328060",
     "exception": false,
     "start_time": "2024-07-09T10:26:55.911914",
     "status": "completed"
    },
    "tags": []
   },
   "outputs": [
    {
     "name": "stdout",
     "output_type": "stream",
     "text": [
      "Downloading data from https://storage.googleapis.com/tensorflow/tf-keras-datasets/mnist.npz\n",
      "\u001b[1m11490434/11490434\u001b[0m \u001b[32m━━━━━━━━━━━━━━━━━━━━\u001b[0m\u001b[37m\u001b[0m \u001b[1m1s\u001b[0m 0us/step\n",
      "(60000, 28, 28)\n",
      "(60000,)\n",
      "(10000, 28, 28)\n",
      "(10000,)\n"
     ]
    }
   ],
   "source": [
    "# Loading the Dataset\n",
    "mnist = tf.keras.datasets.mnist.load_data()\n",
    "(X_train, y_train), (X_test, y_test) = mnist\n",
    "for sets in [X_train, y_train, X_test, y_test]:\n",
    "    print(sets.shape)"
   ]
  },
  {
   "cell_type": "code",
   "execution_count": 3,
   "id": "879153b0",
   "metadata": {
    "execution": {
     "iopub.execute_input": "2024-07-09T10:26:57.349921Z",
     "iopub.status.busy": "2024-07-09T10:26:57.349360Z",
     "iopub.status.idle": "2024-07-09T10:26:57.355085Z",
     "shell.execute_reply": "2024-07-09T10:26:57.354162Z"
    },
    "papermill": {
     "duration": 0.018727,
     "end_time": "2024-07-09T10:26:57.357065",
     "exception": false,
     "start_time": "2024-07-09T10:26:57.338338",
     "status": "completed"
    },
    "tags": []
   },
   "outputs": [
    {
     "name": "stdout",
     "output_type": "stream",
     "text": [
      "(52000, 28, 28)\n",
      "(52000,)\n",
      "(8000, 28, 28)\n",
      "(8000,)\n",
      "(10000, 28, 28)\n",
      "(10000,)\n"
     ]
    }
   ],
   "source": [
    "# Creating the Validation Set\n",
    "X_train, X_valid = X_train[:-8000], X_train[-8000:]\n",
    "y_train, y_valid = y_train[:-8000], y_train[-8000:]\n",
    "\n",
    "for sets in [X_train, y_train, X_valid, y_valid, X_test, y_test]:\n",
    "    print(sets.shape)"
   ]
  },
  {
   "cell_type": "code",
   "execution_count": 4,
   "id": "4aaf4e91",
   "metadata": {
    "execution": {
     "iopub.execute_input": "2024-07-09T10:26:57.378662Z",
     "iopub.status.busy": "2024-07-09T10:26:57.377966Z",
     "iopub.status.idle": "2024-07-09T10:26:57.384500Z",
     "shell.execute_reply": "2024-07-09T10:26:57.383727Z"
    },
    "papermill": {
     "duration": 0.019253,
     "end_time": "2024-07-09T10:26:57.386398",
     "exception": false,
     "start_time": "2024-07-09T10:26:57.367145",
     "status": "completed"
    },
    "tags": []
   },
   "outputs": [],
   "source": [
    "class SparseCategoricalCrossentropy(tf.keras.losses.Loss):\n",
    "    def __init__(self, from_logits=False, reduction=\"sum_over_batch_size\",\n",
    "                name=\"sparse_categoricial_crossentropy\"):\n",
    "        super().__init__(reduction=reduction, name=name)\n",
    "        self.from_logits = from_logits\n",
    "        \n",
    "    def call(self, y_true, y_pred):\n",
    "        y_true = tf.cast(y_true, tf.int64)\n",
    "        loss = tf.keras.losses.sparse_categorical_crossentropy(y_true, y_pred, from_logits=self.from_logits)\n",
    "        return loss\n",
    "    \n",
    "    def get_config(self):\n",
    "        base_config = super().get_config()\n",
    "        return {**base_config, \"from_logits\": self.from_logits}"
   ]
  },
  {
   "cell_type": "code",
   "execution_count": 5,
   "id": "0bff27a0",
   "metadata": {
    "execution": {
     "iopub.execute_input": "2024-07-09T10:26:57.407593Z",
     "iopub.status.busy": "2024-07-09T10:26:57.406864Z",
     "iopub.status.idle": "2024-07-09T10:26:58.384405Z",
     "shell.execute_reply": "2024-07-09T10:26:58.383565Z"
    },
    "papermill": {
     "duration": 0.990215,
     "end_time": "2024-07-09T10:26:58.386506",
     "exception": false,
     "start_time": "2024-07-09T10:26:57.396291",
     "status": "completed"
    },
    "tags": []
   },
   "outputs": [
    {
     "name": "stderr",
     "output_type": "stream",
     "text": [
      "/opt/conda/lib/python3.10/site-packages/keras/src/layers/convolutional/base_conv.py:107: UserWarning: Do not pass an `input_shape`/`input_dim` argument to a layer. When using Sequential models, prefer using an `Input(shape)` object as the first layer in the model instead.\n",
      "  super().__init__(activity_regularizer=activity_regularizer, **kwargs)\n"
     ]
    },
    {
     "data": {
      "text/html": [
       "<pre style=\"white-space:pre;overflow-x:auto;line-height:normal;font-family:Menlo,'DejaVu Sans Mono',consolas,'Courier New',monospace\"><span style=\"font-weight: bold\">Model: \"sequential\"</span>\n",
       "</pre>\n"
      ],
      "text/plain": [
       "\u001b[1mModel: \"sequential\"\u001b[0m\n"
      ]
     },
     "metadata": {},
     "output_type": "display_data"
    },
    {
     "data": {
      "text/html": [
       "<pre style=\"white-space:pre;overflow-x:auto;line-height:normal;font-family:Menlo,'DejaVu Sans Mono',consolas,'Courier New',monospace\">┏━━━━━━━━━━━━━━━━━━━━━━━━━━━━━━━━━┳━━━━━━━━━━━━━━━━━━━━━━━━┳━━━━━━━━━━━━━━━┓\n",
       "┃<span style=\"font-weight: bold\"> Layer (type)                    </span>┃<span style=\"font-weight: bold\"> Output Shape           </span>┃<span style=\"font-weight: bold\">       Param # </span>┃\n",
       "┡━━━━━━━━━━━━━━━━━━━━━━━━━━━━━━━━━╇━━━━━━━━━━━━━━━━━━━━━━━━╇━━━━━━━━━━━━━━━┩\n",
       "│ conv2d (<span style=\"color: #0087ff; text-decoration-color: #0087ff\">Conv2D</span>)                 │ (<span style=\"color: #00d7ff; text-decoration-color: #00d7ff\">None</span>, <span style=\"color: #00af00; text-decoration-color: #00af00\">26</span>, <span style=\"color: #00af00; text-decoration-color: #00af00\">26</span>, <span style=\"color: #00af00; text-decoration-color: #00af00\">32</span>)     │           <span style=\"color: #00af00; text-decoration-color: #00af00\">320</span> │\n",
       "├─────────────────────────────────┼────────────────────────┼───────────────┤\n",
       "│ conv2d_1 (<span style=\"color: #0087ff; text-decoration-color: #0087ff\">Conv2D</span>)               │ (<span style=\"color: #00d7ff; text-decoration-color: #00d7ff\">None</span>, <span style=\"color: #00af00; text-decoration-color: #00af00\">24</span>, <span style=\"color: #00af00; text-decoration-color: #00af00\">24</span>, <span style=\"color: #00af00; text-decoration-color: #00af00\">32</span>)     │         <span style=\"color: #00af00; text-decoration-color: #00af00\">9,248</span> │\n",
       "├─────────────────────────────────┼────────────────────────┼───────────────┤\n",
       "│ max_pooling2d (<span style=\"color: #0087ff; text-decoration-color: #0087ff\">MaxPooling2D</span>)    │ (<span style=\"color: #00d7ff; text-decoration-color: #00d7ff\">None</span>, <span style=\"color: #00af00; text-decoration-color: #00af00\">12</span>, <span style=\"color: #00af00; text-decoration-color: #00af00\">12</span>, <span style=\"color: #00af00; text-decoration-color: #00af00\">32</span>)     │             <span style=\"color: #00af00; text-decoration-color: #00af00\">0</span> │\n",
       "├─────────────────────────────────┼────────────────────────┼───────────────┤\n",
       "│ conv2d_2 (<span style=\"color: #0087ff; text-decoration-color: #0087ff\">Conv2D</span>)               │ (<span style=\"color: #00d7ff; text-decoration-color: #00d7ff\">None</span>, <span style=\"color: #00af00; text-decoration-color: #00af00\">10</span>, <span style=\"color: #00af00; text-decoration-color: #00af00\">10</span>, <span style=\"color: #00af00; text-decoration-color: #00af00\">64</span>)     │        <span style=\"color: #00af00; text-decoration-color: #00af00\">18,496</span> │\n",
       "├─────────────────────────────────┼────────────────────────┼───────────────┤\n",
       "│ conv2d_3 (<span style=\"color: #0087ff; text-decoration-color: #0087ff\">Conv2D</span>)               │ (<span style=\"color: #00d7ff; text-decoration-color: #00d7ff\">None</span>, <span style=\"color: #00af00; text-decoration-color: #00af00\">8</span>, <span style=\"color: #00af00; text-decoration-color: #00af00\">8</span>, <span style=\"color: #00af00; text-decoration-color: #00af00\">64</span>)       │        <span style=\"color: #00af00; text-decoration-color: #00af00\">36,928</span> │\n",
       "├─────────────────────────────────┼────────────────────────┼───────────────┤\n",
       "│ flatten (<span style=\"color: #0087ff; text-decoration-color: #0087ff\">Flatten</span>)               │ (<span style=\"color: #00d7ff; text-decoration-color: #00d7ff\">None</span>, <span style=\"color: #00af00; text-decoration-color: #00af00\">4096</span>)           │             <span style=\"color: #00af00; text-decoration-color: #00af00\">0</span> │\n",
       "├─────────────────────────────────┼────────────────────────┼───────────────┤\n",
       "│ dense (<span style=\"color: #0087ff; text-decoration-color: #0087ff\">Dense</span>)                   │ (<span style=\"color: #00d7ff; text-decoration-color: #00d7ff\">None</span>, <span style=\"color: #00af00; text-decoration-color: #00af00\">512</span>)            │     <span style=\"color: #00af00; text-decoration-color: #00af00\">2,097,664</span> │\n",
       "├─────────────────────────────────┼────────────────────────┼───────────────┤\n",
       "│ dense_1 (<span style=\"color: #0087ff; text-decoration-color: #0087ff\">Dense</span>)                 │ (<span style=\"color: #00d7ff; text-decoration-color: #00d7ff\">None</span>, <span style=\"color: #00af00; text-decoration-color: #00af00\">512</span>)            │       <span style=\"color: #00af00; text-decoration-color: #00af00\">262,656</span> │\n",
       "├─────────────────────────────────┼────────────────────────┼───────────────┤\n",
       "│ dense_2 (<span style=\"color: #0087ff; text-decoration-color: #0087ff\">Dense</span>)                 │ (<span style=\"color: #00d7ff; text-decoration-color: #00d7ff\">None</span>, <span style=\"color: #00af00; text-decoration-color: #00af00\">256</span>)            │       <span style=\"color: #00af00; text-decoration-color: #00af00\">131,328</span> │\n",
       "├─────────────────────────────────┼────────────────────────┼───────────────┤\n",
       "│ dense_3 (<span style=\"color: #0087ff; text-decoration-color: #0087ff\">Dense</span>)                 │ (<span style=\"color: #00d7ff; text-decoration-color: #00d7ff\">None</span>, <span style=\"color: #00af00; text-decoration-color: #00af00\">10</span>)             │         <span style=\"color: #00af00; text-decoration-color: #00af00\">2,570</span> │\n",
       "└─────────────────────────────────┴────────────────────────┴───────────────┘\n",
       "</pre>\n"
      ],
      "text/plain": [
       "┏━━━━━━━━━━━━━━━━━━━━━━━━━━━━━━━━━┳━━━━━━━━━━━━━━━━━━━━━━━━┳━━━━━━━━━━━━━━━┓\n",
       "┃\u001b[1m \u001b[0m\u001b[1mLayer (type)                   \u001b[0m\u001b[1m \u001b[0m┃\u001b[1m \u001b[0m\u001b[1mOutput Shape          \u001b[0m\u001b[1m \u001b[0m┃\u001b[1m \u001b[0m\u001b[1m      Param #\u001b[0m\u001b[1m \u001b[0m┃\n",
       "┡━━━━━━━━━━━━━━━━━━━━━━━━━━━━━━━━━╇━━━━━━━━━━━━━━━━━━━━━━━━╇━━━━━━━━━━━━━━━┩\n",
       "│ conv2d (\u001b[38;5;33mConv2D\u001b[0m)                 │ (\u001b[38;5;45mNone\u001b[0m, \u001b[38;5;34m26\u001b[0m, \u001b[38;5;34m26\u001b[0m, \u001b[38;5;34m32\u001b[0m)     │           \u001b[38;5;34m320\u001b[0m │\n",
       "├─────────────────────────────────┼────────────────────────┼───────────────┤\n",
       "│ conv2d_1 (\u001b[38;5;33mConv2D\u001b[0m)               │ (\u001b[38;5;45mNone\u001b[0m, \u001b[38;5;34m24\u001b[0m, \u001b[38;5;34m24\u001b[0m, \u001b[38;5;34m32\u001b[0m)     │         \u001b[38;5;34m9,248\u001b[0m │\n",
       "├─────────────────────────────────┼────────────────────────┼───────────────┤\n",
       "│ max_pooling2d (\u001b[38;5;33mMaxPooling2D\u001b[0m)    │ (\u001b[38;5;45mNone\u001b[0m, \u001b[38;5;34m12\u001b[0m, \u001b[38;5;34m12\u001b[0m, \u001b[38;5;34m32\u001b[0m)     │             \u001b[38;5;34m0\u001b[0m │\n",
       "├─────────────────────────────────┼────────────────────────┼───────────────┤\n",
       "│ conv2d_2 (\u001b[38;5;33mConv2D\u001b[0m)               │ (\u001b[38;5;45mNone\u001b[0m, \u001b[38;5;34m10\u001b[0m, \u001b[38;5;34m10\u001b[0m, \u001b[38;5;34m64\u001b[0m)     │        \u001b[38;5;34m18,496\u001b[0m │\n",
       "├─────────────────────────────────┼────────────────────────┼───────────────┤\n",
       "│ conv2d_3 (\u001b[38;5;33mConv2D\u001b[0m)               │ (\u001b[38;5;45mNone\u001b[0m, \u001b[38;5;34m8\u001b[0m, \u001b[38;5;34m8\u001b[0m, \u001b[38;5;34m64\u001b[0m)       │        \u001b[38;5;34m36,928\u001b[0m │\n",
       "├─────────────────────────────────┼────────────────────────┼───────────────┤\n",
       "│ flatten (\u001b[38;5;33mFlatten\u001b[0m)               │ (\u001b[38;5;45mNone\u001b[0m, \u001b[38;5;34m4096\u001b[0m)           │             \u001b[38;5;34m0\u001b[0m │\n",
       "├─────────────────────────────────┼────────────────────────┼───────────────┤\n",
       "│ dense (\u001b[38;5;33mDense\u001b[0m)                   │ (\u001b[38;5;45mNone\u001b[0m, \u001b[38;5;34m512\u001b[0m)            │     \u001b[38;5;34m2,097,664\u001b[0m │\n",
       "├─────────────────────────────────┼────────────────────────┼───────────────┤\n",
       "│ dense_1 (\u001b[38;5;33mDense\u001b[0m)                 │ (\u001b[38;5;45mNone\u001b[0m, \u001b[38;5;34m512\u001b[0m)            │       \u001b[38;5;34m262,656\u001b[0m │\n",
       "├─────────────────────────────────┼────────────────────────┼───────────────┤\n",
       "│ dense_2 (\u001b[38;5;33mDense\u001b[0m)                 │ (\u001b[38;5;45mNone\u001b[0m, \u001b[38;5;34m256\u001b[0m)            │       \u001b[38;5;34m131,328\u001b[0m │\n",
       "├─────────────────────────────────┼────────────────────────┼───────────────┤\n",
       "│ dense_3 (\u001b[38;5;33mDense\u001b[0m)                 │ (\u001b[38;5;45mNone\u001b[0m, \u001b[38;5;34m10\u001b[0m)             │         \u001b[38;5;34m2,570\u001b[0m │\n",
       "└─────────────────────────────────┴────────────────────────┴───────────────┘\n"
      ]
     },
     "metadata": {},
     "output_type": "display_data"
    },
    {
     "data": {
      "text/html": [
       "<pre style=\"white-space:pre;overflow-x:auto;line-height:normal;font-family:Menlo,'DejaVu Sans Mono',consolas,'Courier New',monospace\"><span style=\"font-weight: bold\"> Total params: </span><span style=\"color: #00af00; text-decoration-color: #00af00\">2,559,210</span> (9.76 MB)\n",
       "</pre>\n"
      ],
      "text/plain": [
       "\u001b[1m Total params: \u001b[0m\u001b[38;5;34m2,559,210\u001b[0m (9.76 MB)\n"
      ]
     },
     "metadata": {},
     "output_type": "display_data"
    },
    {
     "data": {
      "text/html": [
       "<pre style=\"white-space:pre;overflow-x:auto;line-height:normal;font-family:Menlo,'DejaVu Sans Mono',consolas,'Courier New',monospace\"><span style=\"font-weight: bold\"> Trainable params: </span><span style=\"color: #00af00; text-decoration-color: #00af00\">2,559,210</span> (9.76 MB)\n",
       "</pre>\n"
      ],
      "text/plain": [
       "\u001b[1m Trainable params: \u001b[0m\u001b[38;5;34m2,559,210\u001b[0m (9.76 MB)\n"
      ]
     },
     "metadata": {},
     "output_type": "display_data"
    },
    {
     "data": {
      "text/html": [
       "<pre style=\"white-space:pre;overflow-x:auto;line-height:normal;font-family:Menlo,'DejaVu Sans Mono',consolas,'Courier New',monospace\"><span style=\"font-weight: bold\"> Non-trainable params: </span><span style=\"color: #00af00; text-decoration-color: #00af00\">0</span> (0.00 B)\n",
       "</pre>\n"
      ],
      "text/plain": [
       "\u001b[1m Non-trainable params: \u001b[0m\u001b[38;5;34m0\u001b[0m (0.00 B)\n"
      ]
     },
     "metadata": {},
     "output_type": "display_data"
    }
   ],
   "source": [
    "tf.keras.backend.clear_session()\n",
    "\n",
    "simple_loss_model = tf.keras.models.Sequential([\n",
    "    tf.keras.layers.Conv2D(32, (3, 3), input_shape=[28, 28, 1], activation=\"elu\"),\n",
    "    tf.keras.layers.Conv2D(32, (3, 3), activation=\"elu\"),\n",
    "    tf.keras.layers.MaxPool2D(2, 2),\n",
    "    \n",
    "    tf.keras.layers.Conv2D(64, (3, 3), activation=\"elu\"),\n",
    "    tf.keras.layers.Conv2D(64, (3, 3), activation=\"elu\"),\n",
    "    tf.keras.layers.Flatten(),\n",
    "    \n",
    "    tf.keras.layers.Dense(512, activation=\"elu\", kernel_initializer=\"he_normal\"),\n",
    "    tf.keras.layers.Dense(512, activation=\"elu\", kernel_initializer=\"he_normal\"),\n",
    "    tf.keras.layers.Dense(256, activation=\"elu\", kernel_initializer=\"he_normal\"),\n",
    "    tf.keras.layers.Dense(10, activation=\"softmax\")\n",
    "])\n",
    "\n",
    "simple_loss_model.summary()"
   ]
  },
  {
   "cell_type": "code",
   "execution_count": 6,
   "id": "c877eb54",
   "metadata": {
    "execution": {
     "iopub.execute_input": "2024-07-09T10:26:58.410585Z",
     "iopub.status.busy": "2024-07-09T10:26:58.410293Z",
     "iopub.status.idle": "2024-07-09T10:26:58.422515Z",
     "shell.execute_reply": "2024-07-09T10:26:58.421836Z"
    },
    "papermill": {
     "duration": 0.025931,
     "end_time": "2024-07-09T10:26:58.424430",
     "exception": false,
     "start_time": "2024-07-09T10:26:58.398499",
     "status": "completed"
    },
    "tags": []
   },
   "outputs": [],
   "source": [
    "exponential_sch = tf.keras.optimizers.schedules.ExponentialDecay(\n",
    "    initial_learning_rate=1e-2,\n",
    "    decay_steps=10e2,\n",
    "    decay_rate=0.1,\n",
    "    staircase=False\n",
    ")\n",
    "\n",
    "# Using the custom loss function for compilation\n",
    "simple_loss_model.compile(\n",
    "    loss=SparseCategoricalCrossentropy(),\n",
    "    metrics=[\"accuracy\"],\n",
    "    optimizer=tf.keras.optimizers.Nadam(learning_rate=exponential_sch)\n",
    ")"
   ]
  },
  {
   "cell_type": "code",
   "execution_count": 7,
   "id": "c67fead3",
   "metadata": {
    "execution": {
     "iopub.execute_input": "2024-07-09T10:26:58.447320Z",
     "iopub.status.busy": "2024-07-09T10:26:58.446802Z",
     "iopub.status.idle": "2024-07-09T10:26:58.966960Z",
     "shell.execute_reply": "2024-07-09T10:26:58.965953Z"
    },
    "papermill": {
     "duration": 0.534195,
     "end_time": "2024-07-09T10:26:58.969416",
     "exception": false,
     "start_time": "2024-07-09T10:26:58.435221",
     "status": "completed"
    },
    "tags": []
   },
   "outputs": [],
   "source": [
    "# Normalising and Standardising the Images\n",
    "X_train_mean = X_train.mean()\n",
    "X_train_std = X_train.std()\n",
    "\n",
    "for sets in [X_train, X_valid, X_test]:\n",
    "    sets = (sets - X_train_mean) / X_train_std\n",
    "    sets = sets / 255"
   ]
  },
  {
   "cell_type": "code",
   "execution_count": 8,
   "id": "87d0c31f",
   "metadata": {
    "execution": {
     "iopub.execute_input": "2024-07-09T10:26:58.993359Z",
     "iopub.status.busy": "2024-07-09T10:26:58.992643Z",
     "iopub.status.idle": "2024-07-09T10:27:53.674798Z",
     "shell.execute_reply": "2024-07-09T10:27:53.673858Z"
    },
    "papermill": {
     "duration": 54.696204,
     "end_time": "2024-07-09T10:27:53.676872",
     "exception": false,
     "start_time": "2024-07-09T10:26:58.980668",
     "status": "completed"
    },
    "tags": []
   },
   "outputs": [
    {
     "name": "stdout",
     "output_type": "stream",
     "text": [
      "Epoch 1/30\n"
     ]
    },
    {
     "name": "stderr",
     "output_type": "stream",
     "text": [
      "2024-07-09 10:27:02.700192: E external/local_xla/xla/service/gpu/buffer_comparator.cc:1137] Difference at 0: 2.35363, expected 1.53764\n",
      "2024-07-09 10:27:02.700237: E external/local_xla/xla/service/gpu/buffer_comparator.cc:1137] Difference at 1: 1.82107, expected 1.00508\n",
      "2024-07-09 10:27:02.700251: E external/local_xla/xla/service/gpu/buffer_comparator.cc:1137] Difference at 2: 1.81936, expected 1.00338\n",
      "2024-07-09 10:27:02.700265: E external/local_xla/xla/service/gpu/buffer_comparator.cc:1137] Difference at 3: 2.23827, expected 1.42229\n",
      "2024-07-09 10:27:02.700276: E external/local_xla/xla/service/gpu/buffer_comparator.cc:1137] Difference at 4: 3.05481, expected 2.23883\n",
      "2024-07-09 10:27:02.700286: E external/local_xla/xla/service/gpu/buffer_comparator.cc:1137] Difference at 5: 2.58554, expected 1.76955\n",
      "2024-07-09 10:27:02.700296: E external/local_xla/xla/service/gpu/buffer_comparator.cc:1137] Difference at 6: 3.00002, expected 2.18403\n",
      "2024-07-09 10:27:02.700307: E external/local_xla/xla/service/gpu/buffer_comparator.cc:1137] Difference at 7: 2.82235, expected 2.00636\n",
      "2024-07-09 10:27:02.700317: E external/local_xla/xla/service/gpu/buffer_comparator.cc:1137] Difference at 8: 3.10502, expected 2.28904\n",
      "2024-07-09 10:27:02.700327: E external/local_xla/xla/service/gpu/buffer_comparator.cc:1137] Difference at 9: 2.73743, expected 1.92145\n",
      "2024-07-09 10:27:02.700345: E external/local_xla/xla/service/gpu/conv_algorithm_picker.cc:705] Results mismatch between different convolution algorithms. This is likely a bug/unexpected loss of precision in cudnn.\n",
      "(f32[32,32,26,26]{3,2,1,0}, u8[0]{0}) custom-call(f32[32,1,28,28]{3,2,1,0}, f32[32,1,3,3]{3,2,1,0}, f32[32]{0}), window={size=3x3}, dim_labels=bf01_oi01->bf01, custom_call_target=\"__cudnn$convBiasActivationForward\", backend_config={\"conv_result_scale\":1,\"activation_mode\":\"kNone\",\"side_input_scale\":0,\"leakyrelu_alpha\":0} for eng20{k2=2,k4=1,k5=1,k6=0,k7=0} vs eng15{k5=1,k6=0,k7=1,k10=1}\n",
      "2024-07-09 10:27:02.700355: E external/local_xla/xla/service/gpu/conv_algorithm_picker.cc:270] Device: Tesla P100-PCIE-16GB\n",
      "2024-07-09 10:27:02.700365: E external/local_xla/xla/service/gpu/conv_algorithm_picker.cc:271] Platform: Compute Capability 6.0\n",
      "2024-07-09 10:27:02.700373: E external/local_xla/xla/service/gpu/conv_algorithm_picker.cc:272] Driver: 12040 (550.90.7)\n",
      "2024-07-09 10:27:02.700384: E external/local_xla/xla/service/gpu/conv_algorithm_picker.cc:273] Runtime: <undefined>\n",
      "2024-07-09 10:27:02.700398: E external/local_xla/xla/service/gpu/conv_algorithm_picker.cc:280] cudnn version: 8.9.0\n",
      "2024-07-09 10:27:02.766617: E external/local_xla/xla/service/gpu/buffer_comparator.cc:1137] Difference at 0: 2.35363, expected 1.53764\n",
      "2024-07-09 10:27:02.766666: E external/local_xla/xla/service/gpu/buffer_comparator.cc:1137] Difference at 1: 1.82107, expected 1.00508\n",
      "2024-07-09 10:27:02.766679: E external/local_xla/xla/service/gpu/buffer_comparator.cc:1137] Difference at 2: 1.81936, expected 1.00338\n",
      "2024-07-09 10:27:02.766692: E external/local_xla/xla/service/gpu/buffer_comparator.cc:1137] Difference at 3: 2.23827, expected 1.42229\n",
      "2024-07-09 10:27:02.766704: E external/local_xla/xla/service/gpu/buffer_comparator.cc:1137] Difference at 4: 3.05481, expected 2.23883\n",
      "2024-07-09 10:27:02.766715: E external/local_xla/xla/service/gpu/buffer_comparator.cc:1137] Difference at 5: 2.58554, expected 1.76955\n",
      "2024-07-09 10:27:02.766725: E external/local_xla/xla/service/gpu/buffer_comparator.cc:1137] Difference at 6: 3.00002, expected 2.18403\n",
      "2024-07-09 10:27:02.766735: E external/local_xla/xla/service/gpu/buffer_comparator.cc:1137] Difference at 7: 2.82235, expected 2.00636\n",
      "2024-07-09 10:27:02.766746: E external/local_xla/xla/service/gpu/buffer_comparator.cc:1137] Difference at 8: 3.10502, expected 2.28904\n",
      "2024-07-09 10:27:02.766756: E external/local_xla/xla/service/gpu/buffer_comparator.cc:1137] Difference at 9: 2.73743, expected 1.92145\n",
      "2024-07-09 10:27:02.766779: E external/local_xla/xla/service/gpu/conv_algorithm_picker.cc:705] Results mismatch between different convolution algorithms. This is likely a bug/unexpected loss of precision in cudnn.\n",
      "(f32[32,32,26,26]{3,2,1,0}, u8[0]{0}) custom-call(f32[32,1,28,28]{3,2,1,0}, f32[32,1,3,3]{3,2,1,0}, f32[32]{0}), window={size=3x3}, dim_labels=bf01_oi01->bf01, custom_call_target=\"__cudnn$convBiasActivationForward\", backend_config={\"conv_result_scale\":1,\"activation_mode\":\"kNone\",\"side_input_scale\":0,\"leakyrelu_alpha\":0} for eng20{k2=2,k4=1,k5=1,k6=0,k7=0} vs eng15{k5=1,k6=0,k7=1,k10=1}\n",
      "2024-07-09 10:27:02.766793: E external/local_xla/xla/service/gpu/conv_algorithm_picker.cc:270] Device: Tesla P100-PCIE-16GB\n",
      "2024-07-09 10:27:02.766805: E external/local_xla/xla/service/gpu/conv_algorithm_picker.cc:271] Platform: Compute Capability 6.0\n",
      "2024-07-09 10:27:02.766816: E external/local_xla/xla/service/gpu/conv_algorithm_picker.cc:272] Driver: 12040 (550.90.7)\n",
      "2024-07-09 10:27:02.766828: E external/local_xla/xla/service/gpu/conv_algorithm_picker.cc:273] Runtime: <undefined>\n",
      "2024-07-09 10:27:02.766845: E external/local_xla/xla/service/gpu/conv_algorithm_picker.cc:280] cudnn version: 8.9.0\n"
     ]
    },
    {
     "name": "stdout",
     "output_type": "stream",
     "text": [
      "\u001b[1m  50/1625\u001b[0m \u001b[37m━━━━━━━━━━━━━━━━━━━━\u001b[0m \u001b[1m4s\u001b[0m 3ms/step - accuracy: 0.2119 - loss: 296.6289"
     ]
    },
    {
     "name": "stderr",
     "output_type": "stream",
     "text": [
      "WARNING: All log messages before absl::InitializeLog() is called are written to STDERR\n",
      "I0000 00:00:1720520825.334958      68 device_compiler.h:186] Compiled cluster using XLA!  This line is logged at most once for the lifetime of the process.\n",
      "W0000 00:00:1720520825.357249      68 graph_launch.cc:671] Fallback to op-by-op mode because memset node breaks graph update\n"
     ]
    },
    {
     "name": "stdout",
     "output_type": "stream",
     "text": [
      "\u001b[1m1614/1625\u001b[0m \u001b[32m━━━━━━━━━━━━━━━━━━━\u001b[0m\u001b[37m━\u001b[0m \u001b[1m0s\u001b[0m 3ms/step - accuracy: 0.8401 - loss: 21.2639"
     ]
    },
    {
     "name": "stderr",
     "output_type": "stream",
     "text": [
      "W0000 00:00:1720520830.863072      66 graph_launch.cc:671] Fallback to op-by-op mode because memset node breaks graph update\n"
     ]
    },
    {
     "name": "stdout",
     "output_type": "stream",
     "text": [
      "\u001b[1m1625/1625\u001b[0m \u001b[32m━━━━━━━━━━━━━━━━━━━━\u001b[0m\u001b[37m\u001b[0m \u001b[1m12s\u001b[0m 4ms/step - accuracy: 0.8408 - loss: 21.1333 - val_accuracy: 0.9765 - val_loss: 0.0731\n",
      "Epoch 2/30\n",
      "\u001b[1m1625/1625\u001b[0m \u001b[32m━━━━━━━━━━━━━━━━━━━━\u001b[0m\u001b[37m\u001b[0m \u001b[1m5s\u001b[0m 3ms/step - accuracy: 0.9806 - loss: 0.0616 - val_accuracy: 0.9799 - val_loss: 0.0662\n",
      "Epoch 3/30\n",
      "\u001b[1m1625/1625\u001b[0m \u001b[32m━━━━━━━━━━━━━━━━━━━━\u001b[0m\u001b[37m\u001b[0m \u001b[1m5s\u001b[0m 3ms/step - accuracy: 0.9830 - loss: 0.0541 - val_accuracy: 0.9799 - val_loss: 0.0657\n",
      "Epoch 4/30\n",
      "\u001b[1m1625/1625\u001b[0m \u001b[32m━━━━━━━━━━━━━━━━━━━━\u001b[0m\u001b[37m\u001b[0m \u001b[1m5s\u001b[0m 3ms/step - accuracy: 0.9827 - loss: 0.0542 - val_accuracy: 0.9799 - val_loss: 0.0657\n",
      "Epoch 5/30\n",
      "\u001b[1m1625/1625\u001b[0m \u001b[32m━━━━━━━━━━━━━━━━━━━━\u001b[0m\u001b[37m\u001b[0m \u001b[1m5s\u001b[0m 3ms/step - accuracy: 0.9829 - loss: 0.0525 - val_accuracy: 0.9799 - val_loss: 0.0657\n",
      "Epoch 6/30\n",
      "\u001b[1m1625/1625\u001b[0m \u001b[32m━━━━━━━━━━━━━━━━━━━━\u001b[0m\u001b[37m\u001b[0m \u001b[1m5s\u001b[0m 3ms/step - accuracy: 0.9829 - loss: 0.0539 - val_accuracy: 0.9799 - val_loss: 0.0657\n",
      "Epoch 7/30\n",
      "\u001b[1m1625/1625\u001b[0m \u001b[32m━━━━━━━━━━━━━━━━━━━━\u001b[0m\u001b[37m\u001b[0m \u001b[1m5s\u001b[0m 3ms/step - accuracy: 0.9819 - loss: 0.0540 - val_accuracy: 0.9799 - val_loss: 0.0657\n",
      "Epoch 8/30\n",
      "\u001b[1m1625/1625\u001b[0m \u001b[32m━━━━━━━━━━━━━━━━━━━━\u001b[0m\u001b[37m\u001b[0m \u001b[1m5s\u001b[0m 3ms/step - accuracy: 0.9826 - loss: 0.0546 - val_accuracy: 0.9799 - val_loss: 0.0657\n",
      "Epoch 9/30\n",
      "\u001b[1m1625/1625\u001b[0m \u001b[32m━━━━━━━━━━━━━━━━━━━━\u001b[0m\u001b[37m\u001b[0m \u001b[1m5s\u001b[0m 3ms/step - accuracy: 0.9825 - loss: 0.0538 - val_accuracy: 0.9799 - val_loss: 0.0657\n"
     ]
    },
    {
     "data": {
      "text/plain": [
       "<keras.src.callbacks.history.History at 0x79cd487838b0>"
      ]
     },
     "execution_count": 8,
     "metadata": {},
     "output_type": "execute_result"
    }
   ],
   "source": [
    "# Early Stopping\n",
    "earlystop_cb = tf.keras.callbacks.EarlyStopping(\n",
    "    patience=7, restore_best_weights=True, mode=\"min\", monitor=\"val_loss\", min_delta=1e-3\n",
    ")\n",
    "\n",
    "# Training using the Custom Loss\n",
    "simple_loss_model.fit(\n",
    "    X_train, y_train, validation_data=(X_valid, y_valid), epochs=30, callbacks=[earlystop_cb]\n",
    ")"
   ]
  },
  {
   "cell_type": "code",
   "execution_count": 9,
   "id": "c31123a2",
   "metadata": {
    "execution": {
     "iopub.execute_input": "2024-07-09T10:27:53.846228Z",
     "iopub.status.busy": "2024-07-09T10:27:53.845860Z",
     "iopub.status.idle": "2024-07-09T10:28:51.649039Z",
     "shell.execute_reply": "2024-07-09T10:28:51.648060Z"
    },
    "papermill": {
     "duration": 57.890995,
     "end_time": "2024-07-09T10:28:51.651029",
     "exception": false,
     "start_time": "2024-07-09T10:27:53.760034",
     "status": "completed"
    },
    "tags": []
   },
   "outputs": [
    {
     "name": "stdout",
     "output_type": "stream",
     "text": [
      "Epoch 1/10\n",
      "\u001b[1m  50/1625\u001b[0m \u001b[37m━━━━━━━━━━━━━━━━━━━━\u001b[0m \u001b[1m4s\u001b[0m 3ms/step - accuracy: 0.9830 - loss: 0.0606"
     ]
    },
    {
     "name": "stderr",
     "output_type": "stream",
     "text": [
      "W0000 00:00:1720520877.726705      69 graph_launch.cc:671] Fallback to op-by-op mode because memset node breaks graph update\n"
     ]
    },
    {
     "name": "stdout",
     "output_type": "stream",
     "text": [
      "\u001b[1m1615/1625\u001b[0m \u001b[32m━━━━━━━━━━━━━━━━━━━\u001b[0m\u001b[37m━\u001b[0m \u001b[1m0s\u001b[0m 3ms/step - accuracy: 0.9815 - loss: 0.0576"
     ]
    },
    {
     "name": "stderr",
     "output_type": "stream",
     "text": [
      "W0000 00:00:1720520883.100679      67 graph_launch.cc:671] Fallback to op-by-op mode because memset node breaks graph update\n"
     ]
    },
    {
     "name": "stdout",
     "output_type": "stream",
     "text": [
      "\u001b[1m1625/1625\u001b[0m \u001b[32m━━━━━━━━━━━━━━━━━━━━\u001b[0m\u001b[37m\u001b[0m \u001b[1m9s\u001b[0m 4ms/step - accuracy: 0.9815 - loss: 0.0576 - val_accuracy: 0.9799 - val_loss: 0.0662\n",
      "Epoch 2/10\n",
      "\u001b[1m1625/1625\u001b[0m \u001b[32m━━━━━━━━━━━━━━━━━━━━\u001b[0m\u001b[37m\u001b[0m \u001b[1m5s\u001b[0m 3ms/step - accuracy: 0.9814 - loss: 0.0582 - val_accuracy: 0.9799 - val_loss: 0.0662\n",
      "Epoch 3/10\n",
      "\u001b[1m1625/1625\u001b[0m \u001b[32m━━━━━━━━━━━━━━━━━━━━\u001b[0m\u001b[37m\u001b[0m \u001b[1m5s\u001b[0m 3ms/step - accuracy: 0.9812 - loss: 0.0596 - val_accuracy: 0.9799 - val_loss: 0.0662\n",
      "Epoch 4/10\n",
      "\u001b[1m1625/1625\u001b[0m \u001b[32m━━━━━━━━━━━━━━━━━━━━\u001b[0m\u001b[37m\u001b[0m \u001b[1m5s\u001b[0m 3ms/step - accuracy: 0.9820 - loss: 0.0564 - val_accuracy: 0.9799 - val_loss: 0.0662\n",
      "Epoch 5/10\n",
      "\u001b[1m1625/1625\u001b[0m \u001b[32m━━━━━━━━━━━━━━━━━━━━\u001b[0m\u001b[37m\u001b[0m \u001b[1m5s\u001b[0m 3ms/step - accuracy: 0.9823 - loss: 0.0548 - val_accuracy: 0.9799 - val_loss: 0.0662\n",
      "Epoch 6/10\n",
      "\u001b[1m1625/1625\u001b[0m \u001b[32m━━━━━━━━━━━━━━━━━━━━\u001b[0m\u001b[37m\u001b[0m \u001b[1m5s\u001b[0m 3ms/step - accuracy: 0.9815 - loss: 0.0580 - val_accuracy: 0.9799 - val_loss: 0.0662\n",
      "Epoch 7/10\n",
      "\u001b[1m1625/1625\u001b[0m \u001b[32m━━━━━━━━━━━━━━━━━━━━\u001b[0m\u001b[37m\u001b[0m \u001b[1m6s\u001b[0m 3ms/step - accuracy: 0.9822 - loss: 0.0560 - val_accuracy: 0.9799 - val_loss: 0.0662\n",
      "Epoch 8/10\n",
      "\u001b[1m1625/1625\u001b[0m \u001b[32m━━━━━━━━━━━━━━━━━━━━\u001b[0m\u001b[37m\u001b[0m \u001b[1m5s\u001b[0m 3ms/step - accuracy: 0.9819 - loss: 0.0546 - val_accuracy: 0.9799 - val_loss: 0.0662\n",
      "Epoch 9/10\n",
      "\u001b[1m1625/1625\u001b[0m \u001b[32m━━━━━━━━━━━━━━━━━━━━\u001b[0m\u001b[37m\u001b[0m \u001b[1m5s\u001b[0m 3ms/step - accuracy: 0.9822 - loss: 0.0554 - val_accuracy: 0.9799 - val_loss: 0.0662\n",
      "Epoch 10/10\n",
      "\u001b[1m1625/1625\u001b[0m \u001b[32m━━━━━━━━━━━━━━━━━━━━\u001b[0m\u001b[37m\u001b[0m \u001b[1m5s\u001b[0m 3ms/step - accuracy: 0.9819 - loss: 0.0553 - val_accuracy: 0.9799 - val_loss: 0.0662\n"
     ]
    },
    {
     "data": {
      "text/plain": [
       "<keras.src.callbacks.history.History at 0x79cd3036bbb0>"
      ]
     },
     "execution_count": 9,
     "metadata": {},
     "output_type": "execute_result"
    }
   ],
   "source": [
    "simple_loss_model.save(\"my_simple_model.keras\")\n",
    "\n",
    "reloaded_model = tf.keras.models.load_model(\n",
    "    \"my_simple_model.keras\",\n",
    "    custom_objects={\n",
    "        \"SparseCategoricalCrossentropy\": SparseCategoricalCrossentropy()\n",
    "    }\n",
    ")\n",
    "\n",
    "reloaded_model.fit(\n",
    "    X_train, y_train, validation_data=(X_valid, y_valid), epochs=10\n",
    ")"
   ]
  },
  {
   "cell_type": "code",
   "execution_count": 10,
   "id": "162d3516",
   "metadata": {
    "execution": {
     "iopub.execute_input": "2024-07-09T10:28:52.038727Z",
     "iopub.status.busy": "2024-07-09T10:28:52.038363Z",
     "iopub.status.idle": "2024-07-09T10:28:52.665212Z",
     "shell.execute_reply": "2024-07-09T10:28:52.664277Z"
    },
    "papermill": {
     "duration": 0.797021,
     "end_time": "2024-07-09T10:28:52.667421",
     "exception": false,
     "start_time": "2024-07-09T10:28:51.870400",
     "status": "completed"
    },
    "tags": []
   },
   "outputs": [
    {
     "name": "stdout",
     "output_type": "stream",
     "text": [
      "tf.Tensor(1.0, shape=(), dtype=float32)\n",
      "tf.Tensor(0.6666667, shape=(), dtype=float32)\n"
     ]
    }
   ],
   "source": [
    "# Applying Streamlining Metrics\n",
    "precision = tf.keras.metrics.Precision()\n",
    "recall = tf.keras.metrics.Recall()\n",
    "\n",
    "print(precision([1, 0, 1, 1], [1, 0, 1, 0]))\n",
    "print(recall([1, 0, 1, 1], [1, 0, 1, 0]))"
   ]
  },
  {
   "cell_type": "code",
   "execution_count": 11,
   "id": "dcf4a896",
   "metadata": {
    "execution": {
     "iopub.execute_input": "2024-07-09T10:28:52.990087Z",
     "iopub.status.busy": "2024-07-09T10:28:52.989739Z",
     "iopub.status.idle": "2024-07-09T10:28:52.998060Z",
     "shell.execute_reply": "2024-07-09T10:28:52.997240Z"
    },
    "papermill": {
     "duration": 0.170774,
     "end_time": "2024-07-09T10:28:52.999860",
     "exception": false,
     "start_time": "2024-07-09T10:28:52.829086",
     "status": "completed"
    },
    "tags": []
   },
   "outputs": [],
   "source": [
    "# Building a Custom Layer\n",
    "class MyDense(tf.keras.layers.Layer):\n",
    "    def __init__(self, name, units, activation=\"relu\", **kwargs):\n",
    "        super().__init__(name=name, **kwargs)\n",
    "        self.units = units\n",
    "        self.activation = tf.keras.activations.get(activation)\n",
    "        \n",
    "    def build(self, batch_input_shape):\n",
    "        self.kernel = self.add_weight(\n",
    "            name=\"kernel\", initializer=\"he_normal\", shape=[batch_input_shape[-1], self.units]\n",
    "        )\n",
    "        \n",
    "        self.bias = self.add_weight(\n",
    "            name=\"bias\", initializer=\"zeros\", shape=[self.units]\n",
    "        )\n",
    "        \n",
    "    def call(self, X):\n",
    "        return self.activation(X @ self.kernel + self.bias)\n",
    "    \n",
    "    def get_config(self):\n",
    "        base_config = super().get_config()\n",
    "        return {**base_config, \"units\": self.units, \"activation\": tf.keras.activations.serialize(self.activation)}"
   ]
  },
  {
   "cell_type": "code",
   "execution_count": 12,
   "id": "bb5e6582",
   "metadata": {
    "execution": {
     "iopub.execute_input": "2024-07-09T10:28:53.325681Z",
     "iopub.status.busy": "2024-07-09T10:28:53.324883Z",
     "iopub.status.idle": "2024-07-09T10:28:53.405782Z",
     "shell.execute_reply": "2024-07-09T10:28:53.404919Z"
    },
    "papermill": {
     "duration": 0.244115,
     "end_time": "2024-07-09T10:28:53.407744",
     "exception": false,
     "start_time": "2024-07-09T10:28:53.163629",
     "status": "completed"
    },
    "tags": []
   },
   "outputs": [
    {
     "data": {
      "text/html": [
       "<pre style=\"white-space:pre;overflow-x:auto;line-height:normal;font-family:Menlo,'DejaVu Sans Mono',consolas,'Courier New',monospace\"><span style=\"font-weight: bold\">Model: \"sequential_1\"</span>\n",
       "</pre>\n"
      ],
      "text/plain": [
       "\u001b[1mModel: \"sequential_1\"\u001b[0m\n"
      ]
     },
     "metadata": {},
     "output_type": "display_data"
    },
    {
     "data": {
      "text/html": [
       "<pre style=\"white-space:pre;overflow-x:auto;line-height:normal;font-family:Menlo,'DejaVu Sans Mono',consolas,'Courier New',monospace\">┏━━━━━━━━━━━━━━━━━━━━━━━━━━━━━━━━━┳━━━━━━━━━━━━━━━━━━━━━━━━┳━━━━━━━━━━━━━━━┓\n",
       "┃<span style=\"font-weight: bold\"> Layer (type)                    </span>┃<span style=\"font-weight: bold\"> Output Shape           </span>┃<span style=\"font-weight: bold\">       Param # </span>┃\n",
       "┡━━━━━━━━━━━━━━━━━━━━━━━━━━━━━━━━━╇━━━━━━━━━━━━━━━━━━━━━━━━╇━━━━━━━━━━━━━━━┩\n",
       "│ conv2d_4 (<span style=\"color: #0087ff; text-decoration-color: #0087ff\">Conv2D</span>)               │ (<span style=\"color: #00d7ff; text-decoration-color: #00d7ff\">None</span>, <span style=\"color: #00af00; text-decoration-color: #00af00\">26</span>, <span style=\"color: #00af00; text-decoration-color: #00af00\">26</span>, <span style=\"color: #00af00; text-decoration-color: #00af00\">32</span>)     │           <span style=\"color: #00af00; text-decoration-color: #00af00\">320</span> │\n",
       "├─────────────────────────────────┼────────────────────────┼───────────────┤\n",
       "│ conv2d_5 (<span style=\"color: #0087ff; text-decoration-color: #0087ff\">Conv2D</span>)               │ (<span style=\"color: #00d7ff; text-decoration-color: #00d7ff\">None</span>, <span style=\"color: #00af00; text-decoration-color: #00af00\">24</span>, <span style=\"color: #00af00; text-decoration-color: #00af00\">24</span>, <span style=\"color: #00af00; text-decoration-color: #00af00\">32</span>)     │         <span style=\"color: #00af00; text-decoration-color: #00af00\">9,248</span> │\n",
       "├─────────────────────────────────┼────────────────────────┼───────────────┤\n",
       "│ max_pooling2d_1 (<span style=\"color: #0087ff; text-decoration-color: #0087ff\">MaxPooling2D</span>)  │ (<span style=\"color: #00d7ff; text-decoration-color: #00d7ff\">None</span>, <span style=\"color: #00af00; text-decoration-color: #00af00\">12</span>, <span style=\"color: #00af00; text-decoration-color: #00af00\">12</span>, <span style=\"color: #00af00; text-decoration-color: #00af00\">32</span>)     │             <span style=\"color: #00af00; text-decoration-color: #00af00\">0</span> │\n",
       "├─────────────────────────────────┼────────────────────────┼───────────────┤\n",
       "│ flatten_1 (<span style=\"color: #0087ff; text-decoration-color: #0087ff\">Flatten</span>)             │ (<span style=\"color: #00d7ff; text-decoration-color: #00d7ff\">None</span>, <span style=\"color: #00af00; text-decoration-color: #00af00\">4608</span>)           │             <span style=\"color: #00af00; text-decoration-color: #00af00\">0</span> │\n",
       "├─────────────────────────────────┼────────────────────────┼───────────────┤\n",
       "│ Layer1 (<span style=\"color: #0087ff; text-decoration-color: #0087ff\">MyDense</span>)                │ (<span style=\"color: #00d7ff; text-decoration-color: #00d7ff\">None</span>, <span style=\"color: #00af00; text-decoration-color: #00af00\">512</span>)            │     <span style=\"color: #00af00; text-decoration-color: #00af00\">2,359,808</span> │\n",
       "├─────────────────────────────────┼────────────────────────┼───────────────┤\n",
       "│ Layer2 (<span style=\"color: #0087ff; text-decoration-color: #0087ff\">MyDense</span>)                │ (<span style=\"color: #00d7ff; text-decoration-color: #00d7ff\">None</span>, <span style=\"color: #00af00; text-decoration-color: #00af00\">512</span>)            │       <span style=\"color: #00af00; text-decoration-color: #00af00\">262,656</span> │\n",
       "├─────────────────────────────────┼────────────────────────┼───────────────┤\n",
       "│ Layer3 (<span style=\"color: #0087ff; text-decoration-color: #0087ff\">MyDense</span>)                │ (<span style=\"color: #00d7ff; text-decoration-color: #00d7ff\">None</span>, <span style=\"color: #00af00; text-decoration-color: #00af00\">512</span>)            │       <span style=\"color: #00af00; text-decoration-color: #00af00\">262,656</span> │\n",
       "├─────────────────────────────────┼────────────────────────┼───────────────┤\n",
       "│ dense_4 (<span style=\"color: #0087ff; text-decoration-color: #0087ff\">Dense</span>)                 │ (<span style=\"color: #00d7ff; text-decoration-color: #00d7ff\">None</span>, <span style=\"color: #00af00; text-decoration-color: #00af00\">10</span>)             │         <span style=\"color: #00af00; text-decoration-color: #00af00\">5,130</span> │\n",
       "└─────────────────────────────────┴────────────────────────┴───────────────┘\n",
       "</pre>\n"
      ],
      "text/plain": [
       "┏━━━━━━━━━━━━━━━━━━━━━━━━━━━━━━━━━┳━━━━━━━━━━━━━━━━━━━━━━━━┳━━━━━━━━━━━━━━━┓\n",
       "┃\u001b[1m \u001b[0m\u001b[1mLayer (type)                   \u001b[0m\u001b[1m \u001b[0m┃\u001b[1m \u001b[0m\u001b[1mOutput Shape          \u001b[0m\u001b[1m \u001b[0m┃\u001b[1m \u001b[0m\u001b[1m      Param #\u001b[0m\u001b[1m \u001b[0m┃\n",
       "┡━━━━━━━━━━━━━━━━━━━━━━━━━━━━━━━━━╇━━━━━━━━━━━━━━━━━━━━━━━━╇━━━━━━━━━━━━━━━┩\n",
       "│ conv2d_4 (\u001b[38;5;33mConv2D\u001b[0m)               │ (\u001b[38;5;45mNone\u001b[0m, \u001b[38;5;34m26\u001b[0m, \u001b[38;5;34m26\u001b[0m, \u001b[38;5;34m32\u001b[0m)     │           \u001b[38;5;34m320\u001b[0m │\n",
       "├─────────────────────────────────┼────────────────────────┼───────────────┤\n",
       "│ conv2d_5 (\u001b[38;5;33mConv2D\u001b[0m)               │ (\u001b[38;5;45mNone\u001b[0m, \u001b[38;5;34m24\u001b[0m, \u001b[38;5;34m24\u001b[0m, \u001b[38;5;34m32\u001b[0m)     │         \u001b[38;5;34m9,248\u001b[0m │\n",
       "├─────────────────────────────────┼────────────────────────┼───────────────┤\n",
       "│ max_pooling2d_1 (\u001b[38;5;33mMaxPooling2D\u001b[0m)  │ (\u001b[38;5;45mNone\u001b[0m, \u001b[38;5;34m12\u001b[0m, \u001b[38;5;34m12\u001b[0m, \u001b[38;5;34m32\u001b[0m)     │             \u001b[38;5;34m0\u001b[0m │\n",
       "├─────────────────────────────────┼────────────────────────┼───────────────┤\n",
       "│ flatten_1 (\u001b[38;5;33mFlatten\u001b[0m)             │ (\u001b[38;5;45mNone\u001b[0m, \u001b[38;5;34m4608\u001b[0m)           │             \u001b[38;5;34m0\u001b[0m │\n",
       "├─────────────────────────────────┼────────────────────────┼───────────────┤\n",
       "│ Layer1 (\u001b[38;5;33mMyDense\u001b[0m)                │ (\u001b[38;5;45mNone\u001b[0m, \u001b[38;5;34m512\u001b[0m)            │     \u001b[38;5;34m2,359,808\u001b[0m │\n",
       "├─────────────────────────────────┼────────────────────────┼───────────────┤\n",
       "│ Layer2 (\u001b[38;5;33mMyDense\u001b[0m)                │ (\u001b[38;5;45mNone\u001b[0m, \u001b[38;5;34m512\u001b[0m)            │       \u001b[38;5;34m262,656\u001b[0m │\n",
       "├─────────────────────────────────┼────────────────────────┼───────────────┤\n",
       "│ Layer3 (\u001b[38;5;33mMyDense\u001b[0m)                │ (\u001b[38;5;45mNone\u001b[0m, \u001b[38;5;34m512\u001b[0m)            │       \u001b[38;5;34m262,656\u001b[0m │\n",
       "├─────────────────────────────────┼────────────────────────┼───────────────┤\n",
       "│ dense_4 (\u001b[38;5;33mDense\u001b[0m)                 │ (\u001b[38;5;45mNone\u001b[0m, \u001b[38;5;34m10\u001b[0m)             │         \u001b[38;5;34m5,130\u001b[0m │\n",
       "└─────────────────────────────────┴────────────────────────┴───────────────┘\n"
      ]
     },
     "metadata": {},
     "output_type": "display_data"
    },
    {
     "data": {
      "text/html": [
       "<pre style=\"white-space:pre;overflow-x:auto;line-height:normal;font-family:Menlo,'DejaVu Sans Mono',consolas,'Courier New',monospace\"><span style=\"font-weight: bold\"> Total params: </span><span style=\"color: #00af00; text-decoration-color: #00af00\">2,899,818</span> (11.06 MB)\n",
       "</pre>\n"
      ],
      "text/plain": [
       "\u001b[1m Total params: \u001b[0m\u001b[38;5;34m2,899,818\u001b[0m (11.06 MB)\n"
      ]
     },
     "metadata": {},
     "output_type": "display_data"
    },
    {
     "data": {
      "text/html": [
       "<pre style=\"white-space:pre;overflow-x:auto;line-height:normal;font-family:Menlo,'DejaVu Sans Mono',consolas,'Courier New',monospace\"><span style=\"font-weight: bold\"> Trainable params: </span><span style=\"color: #00af00; text-decoration-color: #00af00\">2,899,818</span> (11.06 MB)\n",
       "</pre>\n"
      ],
      "text/plain": [
       "\u001b[1m Trainable params: \u001b[0m\u001b[38;5;34m2,899,818\u001b[0m (11.06 MB)\n"
      ]
     },
     "metadata": {},
     "output_type": "display_data"
    },
    {
     "data": {
      "text/html": [
       "<pre style=\"white-space:pre;overflow-x:auto;line-height:normal;font-family:Menlo,'DejaVu Sans Mono',consolas,'Courier New',monospace\"><span style=\"font-weight: bold\"> Non-trainable params: </span><span style=\"color: #00af00; text-decoration-color: #00af00\">0</span> (0.00 B)\n",
       "</pre>\n"
      ],
      "text/plain": [
       "\u001b[1m Non-trainable params: \u001b[0m\u001b[38;5;34m0\u001b[0m (0.00 B)\n"
      ]
     },
     "metadata": {},
     "output_type": "display_data"
    }
   ],
   "source": [
    "new_model = tf.keras.models.Sequential([\n",
    "    tf.keras.layers.Conv2D(32, (3, 3), activation=\"elu\", input_shape=[28, 28, 1]),\n",
    "    tf.keras.layers.Conv2D(32, (3, 3), activation=\"elu\"),\n",
    "    tf.keras.layers.MaxPool2D(2, 2),\n",
    "    tf.keras.layers.Flatten(),\n",
    "    MyDense(\"Layer1\", 512, \"elu\"),\n",
    "    MyDense(\"Layer2\", 512, \"elu\"),\n",
    "    MyDense(\"Layer3\", 512, \"elu\"),\n",
    "    tf.keras.layers.Dense(10, activation=\"softmax\")\n",
    "])\n",
    "\n",
    "new_model.summary()"
   ]
  },
  {
   "cell_type": "code",
   "execution_count": 13,
   "id": "0ff5bdc6",
   "metadata": {
    "execution": {
     "iopub.execute_input": "2024-07-09T10:28:53.730664Z",
     "iopub.status.busy": "2024-07-09T10:28:53.730312Z",
     "iopub.status.idle": "2024-07-09T10:31:17.154936Z",
     "shell.execute_reply": "2024-07-09T10:31:17.154060Z"
    },
    "papermill": {
     "duration": 143.588714,
     "end_time": "2024-07-09T10:31:17.157079",
     "exception": false,
     "start_time": "2024-07-09T10:28:53.568365",
     "status": "completed"
    },
    "tags": []
   },
   "outputs": [
    {
     "name": "stdout",
     "output_type": "stream",
     "text": [
      "Epoch 1/30\n"
     ]
    },
    {
     "name": "stderr",
     "output_type": "stream",
     "text": [
      "/opt/conda/lib/python3.10/site-packages/keras/src/backend/tensorflow/nn.py:602: UserWarning: \"`sparse_categorical_crossentropy` received `from_logits=True`, but the `output` argument was produced by a Softmax activation and thus does not represent logits. Was this intended?\n",
      "  output, from_logits = _get_logits(\n"
     ]
    },
    {
     "name": "stdout",
     "output_type": "stream",
     "text": [
      "\u001b[1m1625/1625\u001b[0m \u001b[32m━━━━━━━━━━━━━━━━━━━━\u001b[0m\u001b[37m\u001b[0m \u001b[1m8s\u001b[0m 3ms/step - accuracy: 0.8705 - loss: 11.4877 - val_accuracy: 0.9776 - val_loss: 0.0715\n",
      "Epoch 2/30\n",
      "\u001b[1m1625/1625\u001b[0m \u001b[32m━━━━━━━━━━━━━━━━━━━━\u001b[0m\u001b[37m\u001b[0m \u001b[1m5s\u001b[0m 3ms/step - accuracy: 0.9854 - loss: 0.0462 - val_accuracy: 0.9797 - val_loss: 0.0665\n",
      "Epoch 3/30\n",
      "\u001b[1m1625/1625\u001b[0m \u001b[32m━━━━━━━━━━━━━━━━━━━━\u001b[0m\u001b[37m\u001b[0m \u001b[1m5s\u001b[0m 3ms/step - accuracy: 0.9886 - loss: 0.0364 - val_accuracy: 0.9800 - val_loss: 0.0663\n",
      "Epoch 4/30\n",
      "\u001b[1m1625/1625\u001b[0m \u001b[32m━━━━━━━━━━━━━━━━━━━━\u001b[0m\u001b[37m\u001b[0m \u001b[1m5s\u001b[0m 3ms/step - accuracy: 0.9891 - loss: 0.0357 - val_accuracy: 0.9800 - val_loss: 0.0663\n",
      "Epoch 5/30\n",
      "\u001b[1m1625/1625\u001b[0m \u001b[32m━━━━━━━━━━━━━━━━━━━━\u001b[0m\u001b[37m\u001b[0m \u001b[1m5s\u001b[0m 3ms/step - accuracy: 0.9880 - loss: 0.0389 - val_accuracy: 0.9800 - val_loss: 0.0663\n",
      "Epoch 6/30\n",
      "\u001b[1m1625/1625\u001b[0m \u001b[32m━━━━━━━━━━━━━━━━━━━━\u001b[0m\u001b[37m\u001b[0m \u001b[1m5s\u001b[0m 3ms/step - accuracy: 0.9892 - loss: 0.0358 - val_accuracy: 0.9800 - val_loss: 0.0663\n",
      "Epoch 7/30\n",
      "\u001b[1m1625/1625\u001b[0m \u001b[32m━━━━━━━━━━━━━━━━━━━━\u001b[0m\u001b[37m\u001b[0m \u001b[1m5s\u001b[0m 3ms/step - accuracy: 0.9880 - loss: 0.0380 - val_accuracy: 0.9800 - val_loss: 0.0663\n",
      "Epoch 8/30\n",
      "\u001b[1m1625/1625\u001b[0m \u001b[32m━━━━━━━━━━━━━━━━━━━━\u001b[0m\u001b[37m\u001b[0m \u001b[1m5s\u001b[0m 3ms/step - accuracy: 0.9885 - loss: 0.0373 - val_accuracy: 0.9800 - val_loss: 0.0663\n",
      "Epoch 9/30\n",
      "\u001b[1m1625/1625\u001b[0m \u001b[32m━━━━━━━━━━━━━━━━━━━━\u001b[0m\u001b[37m\u001b[0m \u001b[1m5s\u001b[0m 3ms/step - accuracy: 0.9886 - loss: 0.0370 - val_accuracy: 0.9800 - val_loss: 0.0663\n",
      "Epoch 10/30\n",
      "\u001b[1m1625/1625\u001b[0m \u001b[32m━━━━━━━━━━━━━━━━━━━━\u001b[0m\u001b[37m\u001b[0m \u001b[1m5s\u001b[0m 3ms/step - accuracy: 0.9884 - loss: 0.0375 - val_accuracy: 0.9800 - val_loss: 0.0663\n",
      "Epoch 11/30\n",
      "\u001b[1m1625/1625\u001b[0m \u001b[32m━━━━━━━━━━━━━━━━━━━━\u001b[0m\u001b[37m\u001b[0m \u001b[1m5s\u001b[0m 3ms/step - accuracy: 0.9891 - loss: 0.0360 - val_accuracy: 0.9800 - val_loss: 0.0663\n",
      "Epoch 12/30\n",
      "\u001b[1m1625/1625\u001b[0m \u001b[32m━━━━━━━━━━━━━━━━━━━━\u001b[0m\u001b[37m\u001b[0m \u001b[1m5s\u001b[0m 3ms/step - accuracy: 0.9887 - loss: 0.0363 - val_accuracy: 0.9800 - val_loss: 0.0663\n",
      "Epoch 13/30\n",
      "\u001b[1m1625/1625\u001b[0m \u001b[32m━━━━━━━━━━━━━━━━━━━━\u001b[0m\u001b[37m\u001b[0m \u001b[1m5s\u001b[0m 3ms/step - accuracy: 0.9887 - loss: 0.0352 - val_accuracy: 0.9800 - val_loss: 0.0663\n",
      "Epoch 14/30\n",
      "\u001b[1m1625/1625\u001b[0m \u001b[32m━━━━━━━━━━━━━━━━━━━━\u001b[0m\u001b[37m\u001b[0m \u001b[1m5s\u001b[0m 3ms/step - accuracy: 0.9886 - loss: 0.0357 - val_accuracy: 0.9800 - val_loss: 0.0663\n",
      "Epoch 15/30\n",
      "\u001b[1m1625/1625\u001b[0m \u001b[32m━━━━━━━━━━━━━━━━━━━━\u001b[0m\u001b[37m\u001b[0m \u001b[1m5s\u001b[0m 3ms/step - accuracy: 0.9878 - loss: 0.0392 - val_accuracy: 0.9800 - val_loss: 0.0663\n",
      "Epoch 16/30\n",
      "\u001b[1m1625/1625\u001b[0m \u001b[32m━━━━━━━━━━━━━━━━━━━━\u001b[0m\u001b[37m\u001b[0m \u001b[1m5s\u001b[0m 3ms/step - accuracy: 0.9889 - loss: 0.0385 - val_accuracy: 0.9800 - val_loss: 0.0663\n",
      "Epoch 17/30\n",
      "\u001b[1m1625/1625\u001b[0m \u001b[32m━━━━━━━━━━━━━━━━━━━━\u001b[0m\u001b[37m\u001b[0m \u001b[1m5s\u001b[0m 3ms/step - accuracy: 0.9886 - loss: 0.0357 - val_accuracy: 0.9800 - val_loss: 0.0663\n",
      "Epoch 18/30\n",
      "\u001b[1m1625/1625\u001b[0m \u001b[32m━━━━━━━━━━━━━━━━━━━━\u001b[0m\u001b[37m\u001b[0m \u001b[1m5s\u001b[0m 3ms/step - accuracy: 0.9881 - loss: 0.0377 - val_accuracy: 0.9800 - val_loss: 0.0663\n",
      "Epoch 19/30\n",
      "\u001b[1m1625/1625\u001b[0m \u001b[32m━━━━━━━━━━━━━━━━━━━━\u001b[0m\u001b[37m\u001b[0m \u001b[1m5s\u001b[0m 3ms/step - accuracy: 0.9885 - loss: 0.0366 - val_accuracy: 0.9800 - val_loss: 0.0663\n",
      "Epoch 20/30\n",
      "\u001b[1m1625/1625\u001b[0m \u001b[32m━━━━━━━━━━━━━━━━━━━━\u001b[0m\u001b[37m\u001b[0m \u001b[1m5s\u001b[0m 3ms/step - accuracy: 0.9888 - loss: 0.0370 - val_accuracy: 0.9800 - val_loss: 0.0663\n",
      "Epoch 21/30\n",
      "\u001b[1m1625/1625\u001b[0m \u001b[32m━━━━━━━━━━━━━━━━━━━━\u001b[0m\u001b[37m\u001b[0m \u001b[1m5s\u001b[0m 3ms/step - accuracy: 0.9886 - loss: 0.0365 - val_accuracy: 0.9800 - val_loss: 0.0663\n",
      "Epoch 22/30\n",
      "\u001b[1m1625/1625\u001b[0m \u001b[32m━━━━━━━━━━━━━━━━━━━━\u001b[0m\u001b[37m\u001b[0m \u001b[1m5s\u001b[0m 3ms/step - accuracy: 0.9891 - loss: 0.0349 - val_accuracy: 0.9800 - val_loss: 0.0663\n",
      "Epoch 23/30\n",
      "\u001b[1m1625/1625\u001b[0m \u001b[32m━━━━━━━━━━━━━━━━━━━━\u001b[0m\u001b[37m\u001b[0m \u001b[1m5s\u001b[0m 3ms/step - accuracy: 0.9881 - loss: 0.0382 - val_accuracy: 0.9800 - val_loss: 0.0663\n",
      "Epoch 24/30\n",
      "\u001b[1m1625/1625\u001b[0m \u001b[32m━━━━━━━━━━━━━━━━━━━━\u001b[0m\u001b[37m\u001b[0m \u001b[1m5s\u001b[0m 3ms/step - accuracy: 0.9878 - loss: 0.0394 - val_accuracy: 0.9800 - val_loss: 0.0663\n",
      "Epoch 25/30\n",
      "\u001b[1m1625/1625\u001b[0m \u001b[32m━━━━━━━━━━━━━━━━━━━━\u001b[0m\u001b[37m\u001b[0m \u001b[1m5s\u001b[0m 3ms/step - accuracy: 0.9883 - loss: 0.0375 - val_accuracy: 0.9800 - val_loss: 0.0663\n",
      "Epoch 26/30\n",
      "\u001b[1m1625/1625\u001b[0m \u001b[32m━━━━━━━━━━━━━━━━━━━━\u001b[0m\u001b[37m\u001b[0m \u001b[1m5s\u001b[0m 3ms/step - accuracy: 0.9881 - loss: 0.0372 - val_accuracy: 0.9800 - val_loss: 0.0663\n",
      "Epoch 27/30\n",
      "\u001b[1m1625/1625\u001b[0m \u001b[32m━━━━━━━━━━━━━━━━━━━━\u001b[0m\u001b[37m\u001b[0m \u001b[1m5s\u001b[0m 3ms/step - accuracy: 0.9880 - loss: 0.0372 - val_accuracy: 0.9800 - val_loss: 0.0663\n",
      "Epoch 28/30\n",
      "\u001b[1m1625/1625\u001b[0m \u001b[32m━━━━━━━━━━━━━━━━━━━━\u001b[0m\u001b[37m\u001b[0m \u001b[1m5s\u001b[0m 3ms/step - accuracy: 0.9880 - loss: 0.0374 - val_accuracy: 0.9800 - val_loss: 0.0663\n",
      "Epoch 29/30\n",
      "\u001b[1m1625/1625\u001b[0m \u001b[32m━━━━━━━━━━━━━━━━━━━━\u001b[0m\u001b[37m\u001b[0m \u001b[1m5s\u001b[0m 3ms/step - accuracy: 0.9883 - loss: 0.0363 - val_accuracy: 0.9800 - val_loss: 0.0663\n",
      "Epoch 30/30\n",
      "\u001b[1m1625/1625\u001b[0m \u001b[32m━━━━━━━━━━━━━━━━━━━━\u001b[0m\u001b[37m\u001b[0m \u001b[1m5s\u001b[0m 3ms/step - accuracy: 0.9885 - loss: 0.0368 - val_accuracy: 0.9800 - val_loss: 0.0663\n"
     ]
    },
    {
     "data": {
      "text/plain": [
       "<keras.src.callbacks.history.History at 0x79cd040f1d20>"
      ]
     },
     "execution_count": 13,
     "metadata": {},
     "output_type": "execute_result"
    }
   ],
   "source": [
    "new_model.compile(\n",
    "    loss=SparseCategoricalCrossentropy(from_logits=True),\n",
    "    optimizer=tf.keras.optimizers.Nadam(learning_rate=exponential_sch),\n",
    "    metrics=[\"accuracy\"]\n",
    ")\n",
    "\n",
    "new_model.fit(\n",
    "    X_train, y_train, validation_data=(X_valid, y_valid), epochs=30\n",
    ")"
   ]
  },
  {
   "cell_type": "code",
   "execution_count": 14,
   "id": "0d02492c",
   "metadata": {
    "execution": {
     "iopub.execute_input": "2024-07-09T10:31:17.944760Z",
     "iopub.status.busy": "2024-07-09T10:31:17.944420Z",
     "iopub.status.idle": "2024-07-09T10:32:07.858549Z",
     "shell.execute_reply": "2024-07-09T10:32:07.857612Z"
    },
    "papermill": {
     "duration": 50.334629,
     "end_time": "2024-07-09T10:32:07.860540",
     "exception": false,
     "start_time": "2024-07-09T10:31:17.525911",
     "status": "completed"
    },
    "tags": []
   },
   "outputs": [
    {
     "name": "stdout",
     "output_type": "stream",
     "text": [
      "Epoch 1/10\n",
      "\u001b[1m1625/1625\u001b[0m \u001b[32m━━━━━━━━━━━━━━━━━━━━\u001b[0m\u001b[37m\u001b[0m \u001b[1m8s\u001b[0m 3ms/step - accuracy: 0.9883 - loss: 0.0356 - val_accuracy: 0.9800 - val_loss: 0.0663\n",
      "Epoch 2/10\n",
      "\u001b[1m1625/1625\u001b[0m \u001b[32m━━━━━━━━━━━━━━━━━━━━\u001b[0m\u001b[37m\u001b[0m \u001b[1m5s\u001b[0m 3ms/step - accuracy: 0.9879 - loss: 0.0384 - val_accuracy: 0.9800 - val_loss: 0.0663\n",
      "Epoch 3/10\n",
      "\u001b[1m1625/1625\u001b[0m \u001b[32m━━━━━━━━━━━━━━━━━━━━\u001b[0m\u001b[37m\u001b[0m \u001b[1m5s\u001b[0m 3ms/step - accuracy: 0.9881 - loss: 0.0377 - val_accuracy: 0.9800 - val_loss: 0.0663\n",
      "Epoch 4/10\n",
      "\u001b[1m1625/1625\u001b[0m \u001b[32m━━━━━━━━━━━━━━━━━━━━\u001b[0m\u001b[37m\u001b[0m \u001b[1m5s\u001b[0m 3ms/step - accuracy: 0.9884 - loss: 0.0366 - val_accuracy: 0.9800 - val_loss: 0.0663\n",
      "Epoch 5/10\n",
      "\u001b[1m1625/1625\u001b[0m \u001b[32m━━━━━━━━━━━━━━━━━━━━\u001b[0m\u001b[37m\u001b[0m \u001b[1m5s\u001b[0m 3ms/step - accuracy: 0.9879 - loss: 0.0376 - val_accuracy: 0.9800 - val_loss: 0.0663\n",
      "Epoch 6/10\n",
      "\u001b[1m1625/1625\u001b[0m \u001b[32m━━━━━━━━━━━━━━━━━━━━\u001b[0m\u001b[37m\u001b[0m \u001b[1m5s\u001b[0m 3ms/step - accuracy: 0.9889 - loss: 0.0366 - val_accuracy: 0.9800 - val_loss: 0.0663\n",
      "Epoch 7/10\n",
      "\u001b[1m1625/1625\u001b[0m \u001b[32m━━━━━━━━━━━━━━━━━━━━\u001b[0m\u001b[37m\u001b[0m \u001b[1m5s\u001b[0m 3ms/step - accuracy: 0.9883 - loss: 0.0370 - val_accuracy: 0.9800 - val_loss: 0.0663\n",
      "Epoch 8/10\n",
      "\u001b[1m1625/1625\u001b[0m \u001b[32m━━━━━━━━━━━━━━━━━━━━\u001b[0m\u001b[37m\u001b[0m \u001b[1m5s\u001b[0m 3ms/step - accuracy: 0.9886 - loss: 0.0367 - val_accuracy: 0.9800 - val_loss: 0.0663\n",
      "Epoch 9/10\n",
      "\u001b[1m1625/1625\u001b[0m \u001b[32m━━━━━━━━━━━━━━━━━━━━\u001b[0m\u001b[37m\u001b[0m \u001b[1m5s\u001b[0m 3ms/step - accuracy: 0.9890 - loss: 0.0359 - val_accuracy: 0.9800 - val_loss: 0.0663\n",
      "Epoch 10/10\n",
      "\u001b[1m1625/1625\u001b[0m \u001b[32m━━━━━━━━━━━━━━━━━━━━\u001b[0m\u001b[37m\u001b[0m \u001b[1m5s\u001b[0m 3ms/step - accuracy: 0.9881 - loss: 0.0370 - val_accuracy: 0.9800 - val_loss: 0.0663\n"
     ]
    },
    {
     "data": {
      "text/plain": [
       "<keras.src.callbacks.history.History at 0x79ccc3f93310>"
      ]
     },
     "execution_count": 14,
     "metadata": {},
     "output_type": "execute_result"
    }
   ],
   "source": [
    "new_model.save(\"new_saved_model.keras\")\n",
    "\n",
    "new_reload = tf.keras.models.load_model(\n",
    "    \"new_saved_model.keras\",\n",
    "    custom_objects={\n",
    "        \"MyDense\": MyDense,\n",
    "        \"SparseCategoricalCrossentropy\": SparseCategoricalCrossentropy\n",
    "    }\n",
    ")\n",
    "\n",
    "new_reload.fit(\n",
    "    X_train, y_train, validation_data=(X_valid, y_valid), epochs=10\n",
    ")"
   ]
  },
  {
   "cell_type": "markdown",
   "id": "7e2a6edc",
   "metadata": {
    "papermill": {
     "duration": 0.459867,
     "end_time": "2024-07-09T10:32:08.759373",
     "exception": false,
     "start_time": "2024-07-09T10:32:08.299506",
     "status": "completed"
    },
    "tags": []
   },
   "source": [
    "## Exercises 🦾"
   ]
  },
  {
   "cell_type": "markdown",
   "id": "bd68426e",
   "metadata": {
    "papermill": {
     "duration": 0.436864,
     "end_time": "2024-07-09T10:32:09.631829",
     "exception": false,
     "start_time": "2024-07-09T10:32:09.194965",
     "status": "completed"
    },
    "tags": []
   },
   "source": [
    "## 1. - How would you describe TensorFlow in a short sentence? What are its main features? Can you name other popular deep learning libraries?"
   ]
  },
  {
   "cell_type": "markdown",
   "id": "4f1627f1",
   "metadata": {
    "papermill": {
     "duration": 0.439745,
     "end_time": "2024-07-09T10:32:10.551334",
     "exception": false,
     "start_time": "2024-07-09T10:32:10.111589",
     "status": "completed"
    },
    "tags": []
   },
   "source": [
    "> - TensorFlow is an Opensource scientific computation and machine learning library.\n",
    "> - It is particularly well suited for building large scale machine learning systems.\n",
    "> - It also supports GPU computations for distributed computing and construction of the computation graph while also providing several optimization features as well.\n",
    "> - Other popular libraries include Pytorch, MXNet, Microsoft Cognitive Toolkit, Caffe and Chainer."
   ]
  },
  {
   "cell_type": "markdown",
   "id": "5879800b",
   "metadata": {
    "papermill": {
     "duration": 0.435967,
     "end_time": "2024-07-09T10:32:11.425390",
     "exception": false,
     "start_time": "2024-07-09T10:32:10.989423",
     "status": "completed"
    },
    "tags": []
   },
   "source": [
    "## 2. Is TensorFlow a drop-in replacement for NumPy? What are the main differences between the two?"
   ]
  },
  {
   "cell_type": "markdown",
   "id": "2ded149d",
   "metadata": {
    "papermill": {
     "duration": 0.483297,
     "end_time": "2024-07-09T10:32:12.347606",
     "exception": false,
     "start_time": "2024-07-09T10:32:11.864309",
     "status": "completed"
    },
    "tags": []
   },
   "source": [
    "> - TensorFlow can mostly be considered a drop in replacement for numpy since it provides all its functionalities with additional features and datastructure rules to enhance efficiency.\n",
    "> - Some of the common functions used in TensorFlow and Numpy have differences in Names, Behaviours, Operation.\n",
    "> - TensorFlow operations work on 32bit representations of numeric datatypes. Numpy utilises 64bit representation for its numeric datatypes."
   ]
  },
  {
   "cell_type": "markdown",
   "id": "b1b71c52",
   "metadata": {
    "papermill": {
     "duration": 0.43505,
     "end_time": "2024-07-09T10:32:13.216909",
     "exception": false,
     "start_time": "2024-07-09T10:32:12.781859",
     "status": "completed"
    },
    "tags": []
   },
   "source": [
    "## 3. Do you get the same result with tf.range(10) and tf.constant(np. arange(10))?"
   ]
  },
  {
   "cell_type": "code",
   "execution_count": 15,
   "id": "beaabb02",
   "metadata": {
    "execution": {
     "iopub.execute_input": "2024-07-09T10:32:14.135839Z",
     "iopub.status.busy": "2024-07-09T10:32:14.134935Z",
     "iopub.status.idle": "2024-07-09T10:32:14.142357Z",
     "shell.execute_reply": "2024-07-09T10:32:14.141508Z"
    },
    "papermill": {
     "duration": 0.493788,
     "end_time": "2024-07-09T10:32:14.144289",
     "exception": false,
     "start_time": "2024-07-09T10:32:13.650501",
     "status": "completed"
    },
    "tags": []
   },
   "outputs": [
    {
     "data": {
      "text/plain": [
       "<tf.Tensor: shape=(10,), dtype=int64, numpy=array([0, 1, 2, 3, 4, 5, 6, 7, 8, 9])>"
      ]
     },
     "execution_count": 15,
     "metadata": {},
     "output_type": "execute_result"
    }
   ],
   "source": [
    "tf.constant(np.arange(10))"
   ]
  },
  {
   "cell_type": "code",
   "execution_count": 16,
   "id": "568c4a67",
   "metadata": {
    "execution": {
     "iopub.execute_input": "2024-07-09T10:32:15.020664Z",
     "iopub.status.busy": "2024-07-09T10:32:15.020303Z",
     "iopub.status.idle": "2024-07-09T10:32:15.027302Z",
     "shell.execute_reply": "2024-07-09T10:32:15.026425Z"
    },
    "papermill": {
     "duration": 0.446492,
     "end_time": "2024-07-09T10:32:15.029414",
     "exception": false,
     "start_time": "2024-07-09T10:32:14.582922",
     "status": "completed"
    },
    "tags": []
   },
   "outputs": [
    {
     "data": {
      "text/plain": [
       "<tf.Tensor: shape=(10,), dtype=int32, numpy=array([0, 1, 2, 3, 4, 5, 6, 7, 8, 9], dtype=int32)>"
      ]
     },
     "execution_count": 16,
     "metadata": {},
     "output_type": "execute_result"
    }
   ],
   "source": [
    "tf.range(10)"
   ]
  },
  {
   "cell_type": "markdown",
   "id": "8d59c51b",
   "metadata": {
    "papermill": {
     "duration": 0.437201,
     "end_time": "2024-07-09T10:32:15.906876",
     "exception": false,
     "start_time": "2024-07-09T10:32:15.469675",
     "status": "completed"
    },
    "tags": []
   },
   "source": [
    "> - Both the function calls retrieve the same output as TensorFlow Tensors.\n",
    "> - TensorFlow function call however returns as 32bit representation of the array.\n",
    "> - Numpy provides a 64 bit representation of the array."
   ]
  },
  {
   "cell_type": "markdown",
   "id": "9ce08ea9",
   "metadata": {
    "papermill": {
     "duration": 0.486029,
     "end_time": "2024-07-09T10:32:16.835410",
     "exception": false,
     "start_time": "2024-07-09T10:32:16.349381",
     "status": "completed"
    },
    "tags": []
   },
   "source": [
    "## 4. Can you name six other data structures available in TensorFlow, beyond regular tensors?"
   ]
  },
  {
   "cell_type": "markdown",
   "id": "d9c36420",
   "metadata": {
    "papermill": {
     "duration": 0.435182,
     "end_time": "2024-07-09T10:32:17.710419",
     "exception": false,
     "start_time": "2024-07-09T10:32:17.275237",
     "status": "completed"
    },
    "tags": []
   },
   "source": [
    "> - Ragged Tensors\n",
    "> - Sparse Tensors\n",
    "> - Tensor Arrays\n",
    "> - Queues \n",
    "> - String Tensors\n",
    "> - Sets"
   ]
  },
  {
   "cell_type": "markdown",
   "id": "acb823d7",
   "metadata": {
    "papermill": {
     "duration": 0.43995,
     "end_time": "2024-07-09T10:32:18.584986",
     "exception": false,
     "start_time": "2024-07-09T10:32:18.145036",
     "status": "completed"
    },
    "tags": []
   },
   "source": [
    "## 5. You can define a custom loss function by writing a function or by subclassing the tf.keras.losses.Loss class. When would you use each option?"
   ]
  },
  {
   "cell_type": "markdown",
   "id": "e72ccfe2",
   "metadata": {
    "papermill": {
     "duration": 0.438095,
     "end_time": "2024-07-09T10:32:19.519270",
     "exception": false,
     "start_time": "2024-07-09T10:32:19.081175",
     "status": "completed"
    },
    "tags": []
   },
   "source": [
    "> **Normal Loss Function**\n",
    "> A normal loss function can be written as a python object when the loss function doesnt have to account for any hyperparameters or save states of hyperparameter configurations\n",
    ">\n",
    "> **Custom Loss Class**\n",
    "> A custom loss class must be written when a the loss function being used needs to store states and save configurations for long term usage."
   ]
  },
  {
   "cell_type": "markdown",
   "id": "20dc90d4",
   "metadata": {
    "papermill": {
     "duration": 0.435567,
     "end_time": "2024-07-09T10:32:20.388406",
     "exception": false,
     "start_time": "2024-07-09T10:32:19.952839",
     "status": "completed"
    },
    "tags": []
   },
   "source": [
    "## 6. Similarly, you can define a custom metric in a function or as a subclass of tf.keras.metrics.Metric. When would you use each option?"
   ]
  },
  {
   "cell_type": "markdown",
   "id": "62cfe1bc",
   "metadata": {
    "papermill": {
     "duration": 0.43446,
     "end_time": "2024-07-09T10:32:21.301054",
     "exception": false,
     "start_time": "2024-07-09T10:32:20.866594",
     "status": "completed"
    },
    "tags": []
   },
   "source": [
    "> - Much like custom loss functions, most metrics can be defined as regular Python functions. \n",
    "> - If you want your custom metric to support some hyperparameters (or any other state), then you should subclass the keras.metrics.Metric class. \n",
    "\n",
    "> **Important**\n",
    "> - Moreover, if computing the metric over a whole epoch is not equivalent to computing the mean metric over all batches in that epoch (e.g., as for the precision and recall metrics), then you should subclass the keras.metrics.\n",
    "\n",
    "> - Metric class and implement the __init__(), update_state(), and result() methods to keep track of a running metric during each epoch. \n",
    "> - You should also implement the reset_states() method unless all it needs to do is reset all variables to 0.0. \n",
    "> - If you want the state to be saved along with the model, then you should implement the get_config() method as well."
   ]
  },
  {
   "cell_type": "markdown",
   "id": "3a185c65",
   "metadata": {
    "papermill": {
     "duration": 0.435033,
     "end_time": "2024-07-09T10:32:22.169658",
     "exception": false,
     "start_time": "2024-07-09T10:32:21.734625",
     "status": "completed"
    },
    "tags": []
   },
   "source": [
    "## 7. When should you create a custom layer versus a custom model?"
   ]
  },
  {
   "cell_type": "markdown",
   "id": "15690b6f",
   "metadata": {
    "papermill": {
     "duration": 0.434953,
     "end_time": "2024-07-09T10:32:23.040822",
     "exception": false,
     "start_time": "2024-07-09T10:32:22.605869",
     "status": "completed"
    },
    "tags": []
   },
   "source": [
    "> - When combining a set of layers together we need to utilise the custom layer approach using the tf.keras.layers.Layer\n",
    "> - When combining layers with the intent of a model the custom model approach should be utilised using the tf.keras.model.Model"
   ]
  },
  {
   "cell_type": "markdown",
   "id": "be0d5c71",
   "metadata": {
    "papermill": {
     "duration": 0.434193,
     "end_time": "2024-07-09T10:32:23.955765",
     "exception": false,
     "start_time": "2024-07-09T10:32:23.521572",
     "status": "completed"
    },
    "tags": []
   },
   "source": [
    "## 8. What are some use cases that require writing your own custom training loop?"
   ]
  },
  {
   "cell_type": "markdown",
   "id": "d8f774cf",
   "metadata": {
    "papermill": {
     "duration": 0.43756,
     "end_time": "2024-07-09T10:32:24.827670",
     "exception": false,
     "start_time": "2024-07-09T10:32:24.390110",
     "status": "completed"
    },
    "tags": []
   },
   "source": [
    "> - While writing a custom training loop is prone to more errors it is also the most customisation that can be achieved during training\n",
    "> - A custom training must be written if:\n",
    "    - Different optimizers are being used by different parts of the model.\n",
    "    - Different optimizers are being used in different times while training the model.\n",
    "    - Additional losses need to be applied to the model while training.\n",
    "    - Additional transformations are need to be applied during training."
   ]
  },
  {
   "cell_type": "markdown",
   "id": "4b2bf73b",
   "metadata": {
    "papermill": {
     "duration": 0.475098,
     "end_time": "2024-07-09T10:32:25.738717",
     "exception": false,
     "start_time": "2024-07-09T10:32:25.263619",
     "status": "completed"
    },
    "tags": []
   },
   "source": [
    "## 9. Can custom Keras components contain arbitrary Python code, or must they be convertible to TF functions?"
   ]
  },
  {
   "cell_type": "markdown",
   "id": "4923e217",
   "metadata": {
    "papermill": {
     "duration": 0.448149,
     "end_time": "2024-07-09T10:32:26.620762",
     "exception": false,
     "start_time": "2024-07-09T10:32:26.172613",
     "status": "completed"
    },
    "tags": []
   },
   "source": [
    "> - While custom keras components are written using python code all the operations taking place in the components should be performed using TensorFlow Operations to increase the efficiency of the functions"
   ]
  },
  {
   "cell_type": "code",
   "execution_count": null,
   "id": "fe617ec5",
   "metadata": {
    "papermill": {
     "duration": 0.475314,
     "end_time": "2024-07-09T10:32:27.528882",
     "exception": false,
     "start_time": "2024-07-09T10:32:27.053568",
     "status": "completed"
    },
    "tags": []
   },
   "outputs": [],
   "source": []
  }
 ],
 "metadata": {
  "kaggle": {
   "accelerator": "gpu",
   "dataSources": [],
   "dockerImageVersionId": 30733,
   "isGpuEnabled": true,
   "isInternetEnabled": true,
   "language": "python",
   "sourceType": "notebook"
  },
  "kernelspec": {
   "display_name": "Python 3",
   "language": "python",
   "name": "python3"
  },
  "language_info": {
   "codemirror_mode": {
    "name": "ipython",
    "version": 3
   },
   "file_extension": ".py",
   "mimetype": "text/x-python",
   "name": "python",
   "nbconvert_exporter": "python",
   "pygments_lexer": "ipython3",
   "version": "3.10.13"
  },
  "papermill": {
   "default_parameters": {},
   "duration": 349.760474,
   "end_time": "2024-07-09T10:32:30.555352",
   "environment_variables": {},
   "exception": null,
   "input_path": "__notebook__.ipynb",
   "output_path": "__notebook__.ipynb",
   "parameters": {},
   "start_time": "2024-07-09T10:26:40.794878",
   "version": "2.5.0"
  }
 },
 "nbformat": 4,
 "nbformat_minor": 5
}
