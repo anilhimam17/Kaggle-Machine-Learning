{
 "cells": [
  {
   "metadata": {},
   "cell_type": "markdown",
   "source": [
    "**Creating a MNIST Classifier with Accuracy >= 97%**\n",
    "--"
   ],
   "id": "f117102a33f23e2f"
  },
  {
   "cell_type": "code",
   "id": "initial_id",
   "metadata": {
    "collapsed": true,
    "ExecuteTime": {
     "end_time": "2024-06-15T19:06:08.440439Z",
     "start_time": "2024-06-15T19:06:05.804180Z"
    }
   },
   "source": [
    "from sklearn.datasets import fetch_openml\n",
    "\n",
    "mnist = fetch_openml(\"mnist_784\")\n",
    "mnist.keys()"
   ],
   "outputs": [
    {
     "data": {
      "text/plain": [
       "dict_keys(['data', 'target', 'frame', 'categories', 'feature_names', 'target_names', 'DESCR', 'details', 'url'])"
      ]
     },
     "execution_count": 3,
     "metadata": {},
     "output_type": "execute_result"
    }
   ],
   "execution_count": 3
  },
  {
   "metadata": {
    "ExecuteTime": {
     "end_time": "2024-06-15T19:08:23.790884Z",
     "start_time": "2024-06-15T19:08:23.787534Z"
    }
   },
   "cell_type": "code",
   "source": [
    "print(type(mnist.data))\n",
    "print(type(mnist.target))"
   ],
   "id": "18c6190ad667f163",
   "outputs": [
    {
     "name": "stdout",
     "output_type": "stream",
     "text": [
      "<class 'pandas.core.frame.DataFrame'>\n",
      "<class 'pandas.core.series.Series'>\n"
     ]
    }
   ],
   "execution_count": 5
  },
  {
   "metadata": {
    "ExecuteTime": {
     "end_time": "2024-06-15T19:09:58.453288Z",
     "start_time": "2024-06-15T19:09:58.135203Z"
    }
   },
   "cell_type": "code",
   "source": [
    "from sklearn.model_selection import train_test_split\n",
    "\n",
    "X_train, X_test, y_train, y_test = train_test_split(mnist.data, mnist.target, test_size=0.12, shuffle=True)\n",
    "print(X_train.shape)\n",
    "print(y_train.shape)\n",
    "print(X_test.shape)\n",
    "print(y_test.shape)"
   ],
   "id": "2ea0929cbb6dbc15",
   "outputs": [
    {
     "name": "stdout",
     "output_type": "stream",
     "text": [
      "(61600, 784)\n",
      "(61600,)\n",
      "(8400, 784)\n",
      "(8400,)\n"
     ]
    }
   ],
   "execution_count": 6
  },
  {
   "metadata": {},
   "cell_type": "markdown",
   "source": "## Applying the Machine Learning Approach",
   "id": "c1ab3f958658c750"
  },
  {
   "metadata": {
    "ExecuteTime": {
     "end_time": "2024-06-15T19:13:36.099269Z",
     "start_time": "2024-06-15T19:13:36.004525Z"
    }
   },
   "cell_type": "code",
   "source": [
    "from sklearn.ensemble import RandomForestClassifier\n",
    "from sklearn.neighbors import KNeighborsClassifier\n",
    "from sklearn.model_selection import cross_val_score, cross_val_predict, GridSearchCV\n",
    "\n",
    "# Initialisation\n",
    "rfc = RandomForestClassifier(n_jobs=-1)\n",
    "knc = KNeighborsClassifier(n_jobs=-1)"
   ],
   "id": "82f13a9d46e7ccbb",
   "outputs": [],
   "execution_count": 7
  },
  {
   "metadata": {
    "ExecuteTime": {
     "end_time": "2024-06-15T19:21:10.881364Z",
     "start_time": "2024-06-15T19:19:29.945444Z"
    }
   },
   "cell_type": "code",
   "source": [
    "# Training the Classifiers\n",
    "for clf in [rfc, knc]:\n",
    "    scores = cross_val_score(clf, X_train, y_train, scoring=\"f1_weighted\", cv=5, n_jobs=-1)\n",
    "    print(clf, scores)"
   ],
   "id": "93a8dfd2bba0707a",
   "outputs": [
    {
     "name": "stdout",
     "output_type": "stream",
     "text": [
      "[0.96834563 0.96500038 0.96660799 0.97027458 0.97002774]\n",
      "[0.9702297  0.96753665 0.96894529 0.96911711 0.9719463 ]\n"
     ]
    }
   ],
   "execution_count": 8
  },
  {
   "metadata": {
    "ExecuteTime": {
     "end_time": "2024-06-15T19:25:06.265463Z",
     "start_time": "2024-06-15T19:25:06.262741Z"
    }
   },
   "cell_type": "code",
   "source": [
    "print(\"Tunable Parameters\\n\", rfc.estimator_params)\n",
    "print(\"\\nParameters after Training\\n\", rfc.get_params())"
   ],
   "id": "3f1f1a1f42c85de1",
   "outputs": [
    {
     "name": "stdout",
     "output_type": "stream",
     "text": [
      "Tunable Parameters\n",
      " ('criterion', 'max_depth', 'min_samples_split', 'min_samples_leaf', 'min_weight_fraction_leaf', 'max_features', 'max_leaf_nodes', 'min_impurity_decrease', 'random_state', 'ccp_alpha', 'monotonic_cst')\n",
      "\n",
      "Parameters after Training\n",
      " {'bootstrap': True, 'ccp_alpha': 0.0, 'class_weight': None, 'criterion': 'gini', 'max_depth': None, 'max_features': 'sqrt', 'max_leaf_nodes': None, 'max_samples': None, 'min_impurity_decrease': 0.0, 'min_samples_leaf': 1, 'min_samples_split': 2, 'min_weight_fraction_leaf': 0.0, 'monotonic_cst': None, 'n_estimators': 100, 'n_jobs': -1, 'oob_score': False, 'random_state': None, 'verbose': 0, 'warm_start': False}\n"
     ]
    }
   ],
   "execution_count": 14
  },
  {
   "metadata": {
    "jupyter": {
     "is_executing": true
    },
    "ExecuteTime": {
     "start_time": "2024-06-15T19:37:28.907050Z"
    }
   },
   "cell_type": "code",
   "source": [
    "from sklearn.base import clone\n",
    "\n",
    "# Tuning the Random Forest Classifier\n",
    "param_grid = {\n",
    "    \"bootstrap\": [False, True],\n",
    "    \"max_depth\": [10, 100, 500, 1000],\n",
    "    \"n_estimators\": [10, 100, 500, 1000],\n",
    "    \"n_jobs\": [-1]\n",
    "}\n",
    "\n",
    "# Declaring the GridSearch Object\n",
    "grid_rfc = GridSearchCV(\n",
    "    estimator=clone(rfc), param_grid=param_grid, scoring=\"f1_weighted\", n_jobs=-1, cv=5, refit=True\n",
    ")\n",
    "\n",
    "# Training the GridSearch Object\n",
    "grid_rfc.fit(X_train, y_train)\n",
    "\n",
    "print(\"Best Estimator\\n\", grid_rfc.best_estimator_)\n",
    "print(\"\\nBest Parameters\\n\", grid_rfc.best_params_)"
   ],
   "id": "2f378db84d99085e",
   "outputs": [],
   "execution_count": null
  },
  {
   "metadata": {},
   "cell_type": "code",
   "outputs": [],
   "execution_count": null,
   "source": "",
   "id": "46f0d4a650282081"
  },
  {
   "metadata": {},
   "cell_type": "code",
   "outputs": [],
   "execution_count": null,
   "source": "",
   "id": "7127c2604151dc0f"
  }
 ],
 "metadata": {
  "kernelspec": {
   "display_name": "Python 3",
   "language": "python",
   "name": "python3"
  },
  "language_info": {
   "codemirror_mode": {
    "name": "ipython",
    "version": 2
   },
   "file_extension": ".py",
   "mimetype": "text/x-python",
   "name": "python",
   "nbconvert_exporter": "python",
   "pygments_lexer": "ipython2",
   "version": "2.7.6"
  }
 },
 "nbformat": 4,
 "nbformat_minor": 5
}
