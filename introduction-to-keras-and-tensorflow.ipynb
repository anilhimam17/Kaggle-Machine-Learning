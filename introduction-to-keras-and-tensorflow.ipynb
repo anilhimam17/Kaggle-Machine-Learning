{
 "cells": [
  {
   "cell_type": "markdown",
   "id": "56055bd3",
   "metadata": {
    "papermill": {
     "duration": 0.010081,
     "end_time": "2024-01-05T22:57:15.522113",
     "exception": false,
     "start_time": "2024-01-05T22:57:15.512032",
     "status": "completed"
    },
    "tags": []
   },
   "source": [
    "## Building an **`Image Classifier`** using the **`TensorFlow Sequential API`**"
   ]
  },
  {
   "cell_type": "code",
   "execution_count": 1,
   "id": "6ba3b85b",
   "metadata": {
    "execution": {
     "iopub.execute_input": "2024-01-05T22:57:15.543045Z",
     "iopub.status.busy": "2024-01-05T22:57:15.542635Z",
     "iopub.status.idle": "2024-01-05T22:57:28.526667Z",
     "shell.execute_reply": "2024-01-05T22:57:28.526004Z"
    },
    "papermill": {
     "duration": 12.996656,
     "end_time": "2024-01-05T22:57:28.528596",
     "exception": false,
     "start_time": "2024-01-05T22:57:15.531940",
     "status": "completed"
    },
    "tags": []
   },
   "outputs": [
    {
     "name": "stdout",
     "output_type": "stream",
     "text": [
      "2.13.0\n"
     ]
    }
   ],
   "source": [
    "import tensorflow as tf\n",
    "print(tf.__version__)"
   ]
  },
  {
   "cell_type": "markdown",
   "id": "b5bf1524",
   "metadata": {
    "papermill": {
     "duration": 0.009476,
     "end_time": "2024-01-05T22:57:28.548779",
     "exception": false,
     "start_time": "2024-01-05T22:57:28.539303",
     "status": "completed"
    },
    "tags": []
   },
   "source": [
    "## Loading the Dataset using Keras"
   ]
  },
  {
   "cell_type": "code",
   "execution_count": 2,
   "id": "f950e215",
   "metadata": {
    "execution": {
     "iopub.execute_input": "2024-01-05T22:57:28.571325Z",
     "iopub.status.busy": "2024-01-05T22:57:28.570364Z",
     "iopub.status.idle": "2024-01-05T22:57:31.634871Z",
     "shell.execute_reply": "2024-01-05T22:57:31.633781Z"
    },
    "papermill": {
     "duration": 3.078182,
     "end_time": "2024-01-05T22:57:31.637282",
     "exception": false,
     "start_time": "2024-01-05T22:57:28.559100",
     "status": "completed"
    },
    "tags": []
   },
   "outputs": [
    {
     "name": "stdout",
     "output_type": "stream",
     "text": [
      "Downloading data from https://storage.googleapis.com/tensorflow/tf-keras-datasets/train-labels-idx1-ubyte.gz\n",
      "29515/29515 [==============================] - 0s 0us/step\n",
      "Downloading data from https://storage.googleapis.com/tensorflow/tf-keras-datasets/train-images-idx3-ubyte.gz\n",
      "26421880/26421880 [==============================] - 1s 0us/step\n",
      "Downloading data from https://storage.googleapis.com/tensorflow/tf-keras-datasets/t10k-labels-idx1-ubyte.gz\n",
      "5148/5148 [==============================] - 0s 0us/step\n",
      "Downloading data from https://storage.googleapis.com/tensorflow/tf-keras-datasets/t10k-images-idx3-ubyte.gz\n",
      "4422102/4422102 [==============================] - 1s 0us/step\n"
     ]
    }
   ],
   "source": [
    "fashion_mnist = tf.keras.datasets.fashion_mnist\n",
    "(X_train_full, y_train_full), (X_test, y_test) = fashion_mnist.load_data()"
   ]
  },
  {
   "cell_type": "code",
   "execution_count": 3,
   "id": "f4389e8c",
   "metadata": {
    "execution": {
     "iopub.execute_input": "2024-01-05T22:57:31.667016Z",
     "iopub.status.busy": "2024-01-05T22:57:31.666627Z",
     "iopub.status.idle": "2024-01-05T22:57:31.672738Z",
     "shell.execute_reply": "2024-01-05T22:57:31.671395Z"
    },
    "papermill": {
     "duration": 0.02227,
     "end_time": "2024-01-05T22:57:31.674799",
     "exception": false,
     "start_time": "2024-01-05T22:57:31.652529",
     "status": "completed"
    },
    "tags": []
   },
   "outputs": [
    {
     "name": "stdout",
     "output_type": "stream",
     "text": [
      "X train shape:  (60000, 28, 28)\n",
      "y train shape:  (60000,)\n",
      "X test shape:  (10000, 28, 28)\n",
      "y test shape:  (10000,)\n"
     ]
    }
   ],
   "source": [
    "print(\"X train shape: \", X_train_full.shape)\n",
    "print(\"y train shape: \", y_train_full.shape)\n",
    "print(\"X test shape: \", X_test.shape)\n",
    "print(\"y test shape: \", y_test.shape)"
   ]
  },
  {
   "cell_type": "markdown",
   "id": "667da3ec",
   "metadata": {
    "papermill": {
     "duration": 0.011769,
     "end_time": "2024-01-05T22:57:31.699268",
     "exception": false,
     "start_time": "2024-01-05T22:57:31.687499",
     "status": "completed"
    },
    "tags": []
   },
   "source": [
    "**Important**\n",
    "- Unlike the MNIST Dataset provided by Scikit-Learn this dataset has a different representation for its images.\n",
    "- The data corresponding to each instance of the dataset is already ordered in the shape of a matrix of size 28 x 28."
   ]
  },
  {
   "cell_type": "code",
   "execution_count": 4,
   "id": "2651fcd7",
   "metadata": {
    "execution": {
     "iopub.execute_input": "2024-01-05T22:57:31.725688Z",
     "iopub.status.busy": "2024-01-05T22:57:31.725298Z",
     "iopub.status.idle": "2024-01-05T22:57:31.731453Z",
     "shell.execute_reply": "2024-01-05T22:57:31.730099Z"
    },
    "papermill": {
     "duration": 0.021846,
     "end_time": "2024-01-05T22:57:31.733346",
     "exception": false,
     "start_time": "2024-01-05T22:57:31.711500",
     "status": "completed"
    },
    "tags": []
   },
   "outputs": [
    {
     "name": "stdout",
     "output_type": "stream",
     "text": [
      "Datatype used:  uint8\n",
      "Datatype used:  uint8\n"
     ]
    }
   ],
   "source": [
    "print(\"Datatype used: \", X_train_full.dtype)\n",
    "print(\"Datatype used: \", y_train_full.dtype)"
   ]
  },
  {
   "cell_type": "markdown",
   "id": "5a26e8e2",
   "metadata": {
    "papermill": {
     "duration": 0.011877,
     "end_time": "2024-01-05T22:57:31.757817",
     "exception": false,
     "start_time": "2024-01-05T22:57:31.745940",
     "status": "completed"
    },
    "tags": []
   },
   "source": [
    "**Important**\n",
    "- Unlike the MNIST Dataset provided by Scikit-Learn where the target were strings this dataset has all its targets as integers."
   ]
  },
  {
   "cell_type": "code",
   "execution_count": 5,
   "id": "443e182b",
   "metadata": {
    "execution": {
     "iopub.execute_input": "2024-01-05T22:57:31.783716Z",
     "iopub.status.busy": "2024-01-05T22:57:31.783366Z",
     "iopub.status.idle": "2024-01-05T22:57:31.851772Z",
     "shell.execute_reply": "2024-01-05T22:57:31.850419Z"
    },
    "papermill": {
     "duration": 0.084334,
     "end_time": "2024-01-05T22:57:31.854326",
     "exception": false,
     "start_time": "2024-01-05T22:57:31.769992",
     "status": "completed"
    },
    "tags": []
   },
   "outputs": [],
   "source": [
    "# Creating a Validation Set and Scaling the Inputs\n",
    "X_train, X_valid = X_train_full[:-5000] / 255, X_train_full[-5000:] / 255\n",
    "y_train, y_valid = y_train_full[:-5000], y_train_full[-5000:]"
   ]
  },
  {
   "cell_type": "code",
   "execution_count": 6,
   "id": "447e8b81",
   "metadata": {
    "execution": {
     "iopub.execute_input": "2024-01-05T22:57:31.880292Z",
     "iopub.status.busy": "2024-01-05T22:57:31.879926Z",
     "iopub.status.idle": "2024-01-05T22:57:31.886172Z",
     "shell.execute_reply": "2024-01-05T22:57:31.884921Z"
    },
    "papermill": {
     "duration": 0.021567,
     "end_time": "2024-01-05T22:57:31.888249",
     "exception": false,
     "start_time": "2024-01-05T22:57:31.866682",
     "status": "completed"
    },
    "tags": []
   },
   "outputs": [
    {
     "name": "stdout",
     "output_type": "stream",
     "text": [
      "X train shape:  (55000, 28, 28)\n",
      "y train shape:  (55000,)\n",
      "X valid shape:  (5000, 28, 28)\n",
      "y valid shape:  (5000,)\n",
      "X test shape:  (10000, 28, 28)\n",
      "y test shape:  (10000,)\n"
     ]
    }
   ],
   "source": [
    "print(\"X train shape: \", X_train.shape)\n",
    "print(\"y train shape: \", y_train.shape)\n",
    "print(\"X valid shape: \", X_valid.shape)\n",
    "print(\"y valid shape: \", y_valid.shape)\n",
    "print(\"X test shape: \", X_test.shape)\n",
    "print(\"y test shape: \", y_test.shape)"
   ]
  },
  {
   "cell_type": "markdown",
   "id": "7b448354",
   "metadata": {
    "execution": {
     "iopub.execute_input": "2024-01-05T14:43:26.218085Z",
     "iopub.status.busy": "2024-01-05T14:43:26.217626Z",
     "iopub.status.idle": "2024-01-05T14:43:26.227185Z",
     "shell.execute_reply": "2024-01-05T14:43:26.225857Z",
     "shell.execute_reply.started": "2024-01-05T14:43:26.218049Z"
    },
    "papermill": {
     "duration": 0.01176,
     "end_time": "2024-01-05T22:57:31.913046",
     "exception": false,
     "start_time": "2024-01-05T22:57:31.901286",
     "status": "completed"
    },
    "tags": []
   },
   "source": [
    "**Target Classes in Fashion Mnist**"
   ]
  },
  {
   "cell_type": "code",
   "execution_count": 7,
   "id": "f0ae5342",
   "metadata": {
    "execution": {
     "iopub.execute_input": "2024-01-05T22:57:32.001263Z",
     "iopub.status.busy": "2024-01-05T22:57:32.000873Z",
     "iopub.status.idle": "2024-01-05T22:57:32.005514Z",
     "shell.execute_reply": "2024-01-05T22:57:32.004644Z"
    },
    "papermill": {
     "duration": 0.082746,
     "end_time": "2024-01-05T22:57:32.008016",
     "exception": false,
     "start_time": "2024-01-05T22:57:31.925270",
     "status": "completed"
    },
    "tags": []
   },
   "outputs": [],
   "source": [
    "target_classes = [\"T-shirt/Top\", \"Trouser\", \"Pullover\", \"Dress\", \"Coat\", \"Sandal\", \"Shirt\", \"Sneaker\", \"Bag\", \"Ankle Boot\"]"
   ]
  },
  {
   "cell_type": "markdown",
   "id": "4dcedac6",
   "metadata": {
    "papermill": {
     "duration": 0.012671,
     "end_time": "2024-01-05T22:57:32.034252",
     "exception": false,
     "start_time": "2024-01-05T22:57:32.021581",
     "status": "completed"
    },
    "tags": []
   },
   "source": [
    "## Viewing the Images"
   ]
  },
  {
   "cell_type": "code",
   "execution_count": 8,
   "id": "d75253b8",
   "metadata": {
    "execution": {
     "iopub.execute_input": "2024-01-05T22:57:32.060731Z",
     "iopub.status.busy": "2024-01-05T22:57:32.060369Z",
     "iopub.status.idle": "2024-01-05T22:57:32.214178Z",
     "shell.execute_reply": "2024-01-05T22:57:32.213370Z"
    },
    "papermill": {
     "duration": 0.169359,
     "end_time": "2024-01-05T22:57:32.216285",
     "exception": false,
     "start_time": "2024-01-05T22:57:32.046926",
     "status": "completed"
    },
    "tags": []
   },
   "outputs": [
    {
     "data": {
      "image/png": "[encoded data removed]",
      "text/plain": [
       "<Figure size 640x480 with 1 Axes>"
      ]
     },
     "metadata": {},
     "output_type": "display_data"
    }
   ],
   "source": [
    "import matplotlib.pyplot as plt\n",
    "\n",
    "# Index of the Image\n",
    "index = 6\n",
    "\n",
    "plt.title(f\"This is the Image of a {target_classes[y_train[index]]}\")\n",
    "plt.imshow(X_train[index, :, :], cmap=\"binary\")\n",
    "plt.axis(\"off\")\n",
    "plt.show()"
   ]
  },
  {
   "cell_type": "code",
   "execution_count": 9,
   "id": "1996167f",
   "metadata": {
    "execution": {
     "iopub.execute_input": "2024-01-05T22:57:32.246177Z",
     "iopub.status.busy": "2024-01-05T22:57:32.245055Z",
     "iopub.status.idle": "2024-01-05T22:57:34.288477Z",
     "shell.execute_reply": "2024-01-05T22:57:34.286724Z"
    },
    "papermill": {
     "duration": 2.060721,
     "end_time": "2024-01-05T22:57:34.291014",
     "exception": false,
     "start_time": "2024-01-05T22:57:32.230293",
     "status": "completed"
    },
    "tags": []
   },
   "outputs": [
    {
     "data": {
      "image/png": "[encoded data removed]",
      "text/plain": [
       "<Figure size 1200x480 with 40 Axes>"
      ]
     },
     "metadata": {},
     "output_type": "display_data"
    },
    {
     "data": {
      "text/plain": [
       "<Figure size 640x480 with 0 Axes>"
      ]
     },
     "metadata": {},
     "output_type": "display_data"
    }
   ],
   "source": [
    "n_rows, n_cols = 4, 10\n",
    "\n",
    "# Adjusting the Plot Layout\n",
    "plt.figure(figsize=(n_cols * 1.2, n_rows * 1.2))\n",
    "\n",
    "# Plotting the Images\n",
    "for row in range(n_rows):\n",
    "    for col in range(n_cols):\n",
    "        index = n_cols * row + col\n",
    "        plt.subplot(n_rows, n_cols, index + 1)\n",
    "        plt.imshow(X_train[index], cmap=\"binary\", interpolation=\"nearest\")\n",
    "        plt.title(target_classes[y_train[index]])\n",
    "        plt.axis(\"off\")\n",
    "\n",
    "plt.subplots_adjust(wspace=0.2, hspace=0.5)\n",
    "plt.show()\n",
    "plt.savefig(\"Fashion_MNIST.jpg\")"
   ]
  },
  {
   "cell_type": "markdown",
   "id": "13521fce",
   "metadata": {
    "papermill": {
     "duration": 0.013664,
     "end_time": "2024-01-05T22:57:34.318901",
     "exception": false,
     "start_time": "2024-01-05T22:57:34.305237",
     "status": "completed"
    },
    "tags": []
   },
   "source": [
    "## Building the Model (Classification)"
   ]
  },
  {
   "cell_type": "code",
   "execution_count": 10,
   "id": "e8ba37d6",
   "metadata": {
    "execution": {
     "iopub.execute_input": "2024-01-05T22:57:34.349251Z",
     "iopub.status.busy": "2024-01-05T22:57:34.348827Z",
     "iopub.status.idle": "2024-01-05T22:57:34.549792Z",
     "shell.execute_reply": "2024-01-05T22:57:34.548922Z"
    },
    "papermill": {
     "duration": 0.219421,
     "end_time": "2024-01-05T22:57:34.552196",
     "exception": false,
     "start_time": "2024-01-05T22:57:34.332775",
     "status": "completed"
    },
    "tags": []
   },
   "outputs": [
    {
     "name": "stdout",
     "output_type": "stream",
     "text": [
      "Model: \"sequential\"\n",
      "_________________________________________________________________\n",
      " Layer (type)                Output Shape              Param #   \n",
      "=================================================================\n",
      " flatten (Flatten)           (None, 784)               0         \n",
      "                                                                 \n",
      " dense (Dense)               (None, 300)               235500    \n",
      "                                                                 \n",
      " dense_1 (Dense)             (None, 100)               30100     \n",
      "                                                                 \n",
      " dense_2 (Dense)             (None, 10)                1010      \n",
      "                                                                 \n",
      "=================================================================\n",
      "Total params: 266610 (1.02 MB)\n",
      "Trainable params: 266610 (1.02 MB)\n",
      "Non-trainable params: 0 (0.00 Byte)\n",
      "_________________________________________________________________\n"
     ]
    }
   ],
   "source": [
    "# Random State to Replicate Outputs\n",
    "tf.keras.backend.clear_session()\n",
    "tf.random.set_seed(1730)\n",
    "\n",
    "# Building the model\n",
    "model = tf.keras.models.Sequential([\n",
    "    tf.keras.layers.Flatten(input_shape=(28, 28)),\n",
    "    tf.keras.layers.Dense(300, activation=\"relu\"),\n",
    "    tf.keras.layers.Dense(100, activation=\"relu\"),\n",
    "    tf.keras.layers.Dense(10, activation=\"softmax\")\n",
    "])\n",
    "\n",
    "model.summary()"
   ]
  },
  {
   "cell_type": "code",
   "execution_count": 11,
   "id": "ccb123f3",
   "metadata": {
    "execution": {
     "iopub.execute_input": "2024-01-05T22:57:34.584704Z",
     "iopub.status.busy": "2024-01-05T22:57:34.584249Z",
     "iopub.status.idle": "2024-01-05T22:57:34.830513Z",
     "shell.execute_reply": "2024-01-05T22:57:34.829715Z"
    },
    "papermill": {
     "duration": 0.265575,
     "end_time": "2024-01-05T22:57:34.832637",
     "exception": false,
     "start_time": "2024-01-05T22:57:34.567062",
     "status": "completed"
    },
    "tags": []
   },
   "outputs": [
    {
     "data": {
      "image/jpeg": "[encoded data removed]",
      "text/plain": [
       "<IPython.core.display.Image object>"
      ]
     },
     "execution_count": 11,
     "metadata": {},
     "output_type": "execute_result"
    }
   ],
   "source": [
    "# Another way to view the model architecture\n",
    "tf.keras.utils.plot_model(model, \"fashion_model.jpg\", show_shapes=True)"
   ]
  },
  {
   "cell_type": "code",
   "execution_count": 12,
   "id": "1d39af31",
   "metadata": {
    "execution": {
     "iopub.execute_input": "2024-01-05T22:57:34.866937Z",
     "iopub.status.busy": "2024-01-05T22:57:34.866536Z",
     "iopub.status.idle": "2024-01-05T22:57:34.872011Z",
     "shell.execute_reply": "2024-01-05T22:57:34.871176Z"
    },
    "papermill": {
     "duration": 0.024925,
     "end_time": "2024-01-05T22:57:34.874241",
     "exception": false,
     "start_time": "2024-01-05T22:57:34.849316",
     "status": "completed"
    },
    "tags": []
   },
   "outputs": [
    {
     "data": {
      "text/plain": [
       "[<keras.src.layers.reshaping.flatten.Flatten at 0x7cb7a29e9f30>,\n",
       " <keras.src.layers.core.dense.Dense at 0x7cb7763fb520>,\n",
       " <keras.src.layers.core.dense.Dense at 0x7cb778479a50>,\n",
       " <keras.src.layers.core.dense.Dense at 0x7cb778479840>]"
      ]
     },
     "execution_count": 12,
     "metadata": {},
     "output_type": "execute_result"
    }
   ],
   "source": [
    "# Accessing the Layers of the Model\n",
    "model.layers"
   ]
  },
  {
   "cell_type": "code",
   "execution_count": 13,
   "id": "9cbf0d75",
   "metadata": {
    "execution": {
     "iopub.execute_input": "2024-01-05T22:57:34.906481Z",
     "iopub.status.busy": "2024-01-05T22:57:34.906100Z",
     "iopub.status.idle": "2024-01-05T22:57:34.912475Z",
     "shell.execute_reply": "2024-01-05T22:57:34.911588Z"
    },
    "papermill": {
     "duration": 0.024458,
     "end_time": "2024-01-05T22:57:34.914119",
     "exception": false,
     "start_time": "2024-01-05T22:57:34.889661",
     "status": "completed"
    },
    "tags": []
   },
   "outputs": [
    {
     "data": {
      "text/plain": [
       "True"
      ]
     },
     "execution_count": 13,
     "metadata": {},
     "output_type": "execute_result"
    }
   ],
   "source": [
    "hidden1 = model.layers[1]\n",
    "model.get_layer(\"dense\") is hidden1"
   ]
  },
  {
   "cell_type": "markdown",
   "id": "fd33fa55",
   "metadata": {
    "papermill": {
     "duration": 0.015733,
     "end_time": "2024-01-05T22:57:34.945349",
     "exception": false,
     "start_time": "2024-01-05T22:57:34.929616",
     "status": "completed"
    },
    "tags": []
   },
   "source": [
    "**Important**\n",
    "- Each layer of the Model can also be accessed by its name when given during the initialisation of the model"
   ]
  },
  {
   "cell_type": "code",
   "execution_count": 14,
   "id": "eccb0fc1",
   "metadata": {
    "execution": {
     "iopub.execute_input": "2024-01-05T22:57:34.978456Z",
     "iopub.status.busy": "2024-01-05T22:57:34.977536Z",
     "iopub.status.idle": "2024-01-05T22:57:34.990915Z",
     "shell.execute_reply": "2024-01-05T22:57:34.989948Z"
    },
    "papermill": {
     "duration": 0.03167,
     "end_time": "2024-01-05T22:57:34.992692",
     "exception": false,
     "start_time": "2024-01-05T22:57:34.961022",
     "status": "completed"
    },
    "tags": []
   },
   "outputs": [
    {
     "name": "stdout",
     "output_type": "stream",
     "text": [
      "Weight Matrix:  (784, 300)\n",
      "[[-0.07172722 -0.00541679 -0.06540449 ... -0.02433901  0.04671221\n",
      "  -0.03923509]\n",
      " [ 0.00770811 -0.04780442 -0.01089814 ...  0.03832671 -0.01270061\n",
      "   0.06725813]\n",
      " [ 0.04909256 -0.06496549 -0.05571415 ... -0.04907075  0.03956856\n",
      "   0.0398147 ]\n",
      " ...\n",
      " [-0.07387729 -0.06516286 -0.04272519 ...  0.02073438  0.0555519\n",
      "  -0.06326601]\n",
      " [ 0.06860749 -0.02371123  0.07339713 ...  0.02287421  0.01569646\n",
      "  -0.03233082]\n",
      " [-0.00434742 -0.05882725 -0.07346267 ... -0.01820303  0.07374355\n",
      "   0.00950222]]\n",
      "\n",
      "Bias Vector:  (300,)\n",
      "[0. 0. 0. 0. 0. 0. 0. 0. 0. 0. 0. 0. 0. 0. 0. 0. 0. 0. 0. 0. 0. 0. 0. 0.\n",
      " 0. 0. 0. 0. 0. 0. 0. 0. 0. 0. 0. 0. 0. 0. 0. 0. 0. 0. 0. 0. 0. 0. 0. 0.\n",
      " 0. 0. 0. 0. 0. 0. 0. 0. 0. 0. 0. 0. 0. 0. 0. 0. 0. 0. 0. 0. 0. 0. 0. 0.\n",
      " 0. 0. 0. 0. 0. 0. 0. 0. 0. 0. 0. 0. 0. 0. 0. 0. 0. 0. 0. 0. 0. 0. 0. 0.\n",
      " 0. 0. 0. 0. 0. 0. 0. 0. 0. 0. 0. 0. 0. 0. 0. 0. 0. 0. 0. 0. 0. 0. 0. 0.\n",
      " 0. 0. 0. 0. 0. 0. 0. 0. 0. 0. 0. 0. 0. 0. 0. 0. 0. 0. 0. 0. 0. 0. 0. 0.\n",
      " 0. 0. 0. 0. 0. 0. 0. 0. 0. 0. 0. 0. 0. 0. 0. 0. 0. 0. 0. 0. 0. 0. 0. 0.\n",
      " 0. 0. 0. 0. 0. 0. 0. 0. 0. 0. 0. 0. 0. 0. 0. 0. 0. 0. 0. 0. 0. 0. 0. 0.\n",
      " 0. 0. 0. 0. 0. 0. 0. 0. 0. 0. 0. 0. 0. 0. 0. 0. 0. 0. 0. 0. 0. 0. 0. 0.\n",
      " 0. 0. 0. 0. 0. 0. 0. 0. 0. 0. 0. 0. 0. 0. 0. 0. 0. 0. 0. 0. 0. 0. 0. 0.\n",
      " 0. 0. 0. 0. 0. 0. 0. 0. 0. 0. 0. 0. 0. 0. 0. 0. 0. 0. 0. 0. 0. 0. 0. 0.\n",
      " 0. 0. 0. 0. 0. 0. 0. 0. 0. 0. 0. 0. 0. 0. 0. 0. 0. 0. 0. 0. 0. 0. 0. 0.\n",
      " 0. 0. 0. 0. 0. 0. 0. 0. 0. 0. 0. 0.]\n"
     ]
    }
   ],
   "source": [
    "# Accessing the Weights and Biases\n",
    "weights, biases = hidden1.get_weights()\n",
    "\n",
    "print(\"Weight Matrix: \", weights.shape)\n",
    "print(weights)\n",
    "print(\"\\nBias Vector: \", biases.shape)\n",
    "print(biases)"
   ]
  },
  {
   "cell_type": "markdown",
   "id": "da8d5503",
   "metadata": {
    "papermill": {
     "duration": 0.017352,
     "end_time": "2024-01-05T22:57:35.025636",
     "exception": false,
     "start_time": "2024-01-05T22:57:35.008284",
     "status": "completed"
    },
    "tags": []
   },
   "source": [
    "**Important**\n",
    "- Weight Matrix is Randomly Initialised to break the problem of Symmetry in the intial stages of learning.\n",
    "- The initialisation method used for generation of Weight Matrix and Bias Matrix can be modified by changing the parameters of `Kernel Initialiser` and `Bias Initialiser`."
   ]
  },
  {
   "cell_type": "markdown",
   "id": "b1505885",
   "metadata": {
    "papermill": {
     "duration": 0.01567,
     "end_time": "2024-01-05T22:57:35.057563",
     "exception": false,
     "start_time": "2024-01-05T22:57:35.041893",
     "status": "completed"
    },
    "tags": []
   },
   "source": [
    "## Compiling the Model (Classification)"
   ]
  },
  {
   "cell_type": "code",
   "execution_count": 15,
   "id": "88e60c4a",
   "metadata": {
    "execution": {
     "iopub.execute_input": "2024-01-05T22:57:35.091705Z",
     "iopub.status.busy": "2024-01-05T22:57:35.091157Z",
     "iopub.status.idle": "2024-01-05T22:57:35.108824Z",
     "shell.execute_reply": "2024-01-05T22:57:35.106858Z"
    },
    "papermill": {
     "duration": 0.038065,
     "end_time": "2024-01-05T22:57:35.111595",
     "exception": false,
     "start_time": "2024-01-05T22:57:35.073530",
     "status": "completed"
    },
    "tags": []
   },
   "outputs": [],
   "source": [
    "model.compile(\n",
    "    loss=\"sparse_categorical_crossentropy\",\n",
    "    metrics=[\"accuracy\"],\n",
    "    optimizer=\"sgd\"\n",
    ")"
   ]
  },
  {
   "cell_type": "markdown",
   "id": "1742c8b8",
   "metadata": {
    "papermill": {
     "duration": 0.015637,
     "end_time": "2024-01-05T22:57:35.143876",
     "exception": false,
     "start_time": "2024-01-05T22:57:35.128239",
     "status": "completed"
    },
    "tags": []
   },
   "source": [
    "## Training"
   ]
  },
  {
   "cell_type": "code",
   "execution_count": 16,
   "id": "cb5b955b",
   "metadata": {
    "execution": {
     "iopub.execute_input": "2024-01-05T22:57:35.178037Z",
     "iopub.status.busy": "2024-01-05T22:57:35.177099Z",
     "iopub.status.idle": "2024-01-05T23:00:52.971482Z",
     "shell.execute_reply": "2024-01-05T23:00:52.970328Z"
    },
    "papermill": {
     "duration": 197.814612,
     "end_time": "2024-01-05T23:00:52.973769",
     "exception": false,
     "start_time": "2024-01-05T22:57:35.159157",
     "status": "completed"
    },
    "tags": []
   },
   "outputs": [
    {
     "name": "stdout",
     "output_type": "stream",
     "text": [
      "Epoch 1/30\n",
      "1719/1719 [==============================] - 7s 4ms/step - loss: 0.7165 - accuracy: 0.7707 - val_loss: 0.5064 - val_accuracy: 0.8290\n",
      "Epoch 2/30\n",
      "1719/1719 [==============================] - 6s 4ms/step - loss: 0.4886 - accuracy: 0.8315 - val_loss: 0.4740 - val_accuracy: 0.8336\n",
      "Epoch 3/30\n",
      "1719/1719 [==============================] - 6s 4ms/step - loss: 0.4442 - accuracy: 0.8459 - val_loss: 0.4581 - val_accuracy: 0.8410\n",
      "Epoch 4/30\n",
      "1719/1719 [==============================] - 6s 4ms/step - loss: 0.4158 - accuracy: 0.8552 - val_loss: 0.4041 - val_accuracy: 0.8574\n",
      "Epoch 5/30\n",
      "1719/1719 [==============================] - 6s 4ms/step - loss: 0.3971 - accuracy: 0.8613 - val_loss: 0.3946 - val_accuracy: 0.8616\n",
      "Epoch 6/30\n",
      "1719/1719 [==============================] - 7s 4ms/step - loss: 0.3796 - accuracy: 0.8675 - val_loss: 0.3747 - val_accuracy: 0.8674\n",
      "Epoch 7/30\n",
      "1719/1719 [==============================] - 6s 4ms/step - loss: 0.3667 - accuracy: 0.8716 - val_loss: 0.3925 - val_accuracy: 0.8588\n",
      "Epoch 8/30\n",
      "1719/1719 [==============================] - 6s 4ms/step - loss: 0.3542 - accuracy: 0.8755 - val_loss: 0.3691 - val_accuracy: 0.8730\n",
      "Epoch 9/30\n",
      "1719/1719 [==============================] - 6s 4ms/step - loss: 0.3437 - accuracy: 0.8787 - val_loss: 0.4022 - val_accuracy: 0.8534\n",
      "Epoch 10/30\n",
      "1719/1719 [==============================] - 6s 4ms/step - loss: 0.3341 - accuracy: 0.8820 - val_loss: 0.3683 - val_accuracy: 0.8702\n",
      "Epoch 11/30\n",
      "1719/1719 [==============================] - 6s 4ms/step - loss: 0.3254 - accuracy: 0.8858 - val_loss: 0.3517 - val_accuracy: 0.8754\n",
      "Epoch 12/30\n",
      "1719/1719 [==============================] - 6s 4ms/step - loss: 0.3170 - accuracy: 0.8874 - val_loss: 0.3324 - val_accuracy: 0.8798\n",
      "Epoch 13/30\n",
      "1719/1719 [==============================] - 6s 4ms/step - loss: 0.3100 - accuracy: 0.8896 - val_loss: 0.3330 - val_accuracy: 0.8796\n",
      "Epoch 14/30\n",
      "1719/1719 [==============================] - 6s 4ms/step - loss: 0.3021 - accuracy: 0.8929 - val_loss: 0.3437 - val_accuracy: 0.8756\n",
      "Epoch 15/30\n",
      "1719/1719 [==============================] - 6s 4ms/step - loss: 0.2953 - accuracy: 0.8950 - val_loss: 0.3331 - val_accuracy: 0.8818\n",
      "Epoch 16/30\n",
      "1719/1719 [==============================] - 6s 4ms/step - loss: 0.2889 - accuracy: 0.8964 - val_loss: 0.3213 - val_accuracy: 0.8826\n",
      "Epoch 17/30\n",
      "1719/1719 [==============================] - 6s 4ms/step - loss: 0.2830 - accuracy: 0.8991 - val_loss: 0.3210 - val_accuracy: 0.8838\n",
      "Epoch 18/30\n",
      "1719/1719 [==============================] - 7s 4ms/step - loss: 0.2769 - accuracy: 0.9009 - val_loss: 0.3323 - val_accuracy: 0.8814\n",
      "Epoch 19/30\n",
      "1719/1719 [==============================] - 7s 4ms/step - loss: 0.2717 - accuracy: 0.9028 - val_loss: 0.3221 - val_accuracy: 0.8828\n",
      "Epoch 20/30\n",
      "1719/1719 [==============================] - 6s 4ms/step - loss: 0.2673 - accuracy: 0.9041 - val_loss: 0.3233 - val_accuracy: 0.8854\n",
      "Epoch 21/30\n",
      "1719/1719 [==============================] - 7s 4ms/step - loss: 0.2615 - accuracy: 0.9059 - val_loss: 0.3217 - val_accuracy: 0.8826\n",
      "Epoch 22/30\n",
      "1719/1719 [==============================] - 6s 4ms/step - loss: 0.2572 - accuracy: 0.9064 - val_loss: 0.3292 - val_accuracy: 0.8826\n",
      "Epoch 23/30\n",
      "1719/1719 [==============================] - 7s 4ms/step - loss: 0.2515 - accuracy: 0.9094 - val_loss: 0.3182 - val_accuracy: 0.8842\n",
      "Epoch 24/30\n",
      "1719/1719 [==============================] - 7s 4ms/step - loss: 0.2471 - accuracy: 0.9110 - val_loss: 0.3212 - val_accuracy: 0.8872\n",
      "Epoch 25/30\n",
      "1719/1719 [==============================] - 7s 4ms/step - loss: 0.2424 - accuracy: 0.9120 - val_loss: 0.3149 - val_accuracy: 0.8846\n",
      "Epoch 26/30\n",
      "1719/1719 [==============================] - 7s 4ms/step - loss: 0.2387 - accuracy: 0.9144 - val_loss: 0.3216 - val_accuracy: 0.8858\n",
      "Epoch 27/30\n",
      "1719/1719 [==============================] - 7s 4ms/step - loss: 0.2344 - accuracy: 0.9163 - val_loss: 0.3275 - val_accuracy: 0.8796\n",
      "Epoch 28/30\n",
      "1719/1719 [==============================] - 7s 4ms/step - loss: 0.2302 - accuracy: 0.9174 - val_loss: 0.3069 - val_accuracy: 0.8888\n",
      "Epoch 29/30\n",
      "1719/1719 [==============================] - 8s 4ms/step - loss: 0.2272 - accuracy: 0.9179 - val_loss: 0.3226 - val_accuracy: 0.8870\n",
      "Epoch 30/30\n",
      "1719/1719 [==============================] - 7s 4ms/step - loss: 0.2236 - accuracy: 0.9196 - val_loss: 0.3493 - val_accuracy: 0.8740\n"
     ]
    }
   ],
   "source": [
    "history = model.fit(X_train, y_train, epochs=30, validation_data=(X_valid, y_valid))"
   ]
  },
  {
   "cell_type": "markdown",
   "id": "c678b05b",
   "metadata": {
    "papermill": {
     "duration": 0.24314,
     "end_time": "2024-01-05T23:00:53.453274",
     "exception": false,
     "start_time": "2024-01-05T23:00:53.210134",
     "status": "completed"
    },
    "tags": []
   },
   "source": [
    "**Viewing the Learning Curve**"
   ]
  },
  {
   "cell_type": "code",
   "execution_count": 17,
   "id": "c90c3f01",
   "metadata": {
    "execution": {
     "iopub.execute_input": "2024-01-05T23:00:54.014340Z",
     "iopub.status.busy": "2024-01-05T23:00:54.013451Z",
     "iopub.status.idle": "2024-01-05T23:00:54.270322Z",
     "shell.execute_reply": "2024-01-05T23:00:54.269300Z"
    },
    "papermill": {
     "duration": 0.568695,
     "end_time": "2024-01-05T23:00:54.272214",
     "exception": false,
     "start_time": "2024-01-05T23:00:53.703519",
     "status": "completed"
    },
    "tags": []
   },
   "outputs": [
    {
     "data": {
      "image/png": "[encoded data removed]",
      "text/plain": [
       "<Figure size 800x600 with 1 Axes>"
      ]
     },
     "metadata": {},
     "output_type": "display_data"
    }
   ],
   "source": [
    "import pandas as pd\n",
    "\n",
    "pd.DataFrame(history.history).plot(\n",
    "    figsize=(8, 6), ylim=[0, 1], xlim=[0, 29], grid=True, xlabel=\"Epochs\"\n",
    ")\n",
    "\n",
    "plt.show()"
   ]
  },
  {
   "cell_type": "markdown",
   "id": "5b43943b",
   "metadata": {
    "papermill": {
     "duration": 0.239595,
     "end_time": "2024-01-05T23:00:54.749613",
     "exception": false,
     "start_time": "2024-01-05T23:00:54.510018",
     "status": "completed"
    },
    "tags": []
   },
   "source": [
    "**Inference**\n",
    "- The Validation and Training curves are following similar trends without much deviation.\n",
    "- Thus the model isnt overfitting but there is scope for improved performance."
   ]
  },
  {
   "cell_type": "markdown",
   "id": "607da277",
   "metadata": {
    "papermill": {
     "duration": 0.238236,
     "end_time": "2024-01-05T23:00:55.233034",
     "exception": false,
     "start_time": "2024-01-05T23:00:54.994798",
     "status": "completed"
    },
    "tags": []
   },
   "source": [
    "## Testing"
   ]
  },
  {
   "cell_type": "code",
   "execution_count": 18,
   "id": "ca6fe746",
   "metadata": {
    "execution": {
     "iopub.execute_input": "2024-01-05T23:00:55.723098Z",
     "iopub.status.busy": "2024-01-05T23:00:55.722448Z",
     "iopub.status.idle": "2024-01-05T23:00:55.739138Z",
     "shell.execute_reply": "2024-01-05T23:00:55.737646Z"
    },
    "papermill": {
     "duration": 0.266078,
     "end_time": "2024-01-05T23:00:55.741825",
     "exception": false,
     "start_time": "2024-01-05T23:00:55.475747",
     "status": "completed"
    },
    "tags": []
   },
   "outputs": [],
   "source": [
    "# Scaling the Test Inputs\n",
    "X_test = X_test / 255"
   ]
  },
  {
   "cell_type": "code",
   "execution_count": 19,
   "id": "1678b49d",
   "metadata": {
    "execution": {
     "iopub.execute_input": "2024-01-05T23:00:56.280719Z",
     "iopub.status.busy": "2024-01-05T23:00:56.280354Z",
     "iopub.status.idle": "2024-01-05T23:00:57.644312Z",
     "shell.execute_reply": "2024-01-05T23:00:57.643210Z"
    },
    "papermill": {
     "duration": 1.606148,
     "end_time": "2024-01-05T23:00:57.646801",
     "exception": false,
     "start_time": "2024-01-05T23:00:56.040653",
     "status": "completed"
    },
    "tags": []
   },
   "outputs": [
    {
     "name": "stdout",
     "output_type": "stream",
     "text": [
      "313/313 [==============================] - 1s 3ms/step - loss: 0.3607 - accuracy: 0.8691\n"
     ]
    },
    {
     "data": {
      "text/plain": [
       "[0.36068716645240784, 0.8690999746322632]"
      ]
     },
     "execution_count": 19,
     "metadata": {},
     "output_type": "execute_result"
    }
   ],
   "source": [
    "model.evaluate(X_test, y_test)"
   ]
  },
  {
   "cell_type": "markdown",
   "id": "77a27acb",
   "metadata": {
    "papermill": {
     "duration": 0.252668,
     "end_time": "2024-01-05T23:00:58.138066",
     "exception": false,
     "start_time": "2024-01-05T23:00:57.885398",
     "status": "completed"
    },
    "tags": []
   },
   "source": [
    "## Making Predictions (Classification)"
   ]
  },
  {
   "cell_type": "code",
   "execution_count": 20,
   "id": "a36f2000",
   "metadata": {
    "execution": {
     "iopub.execute_input": "2024-01-05T23:00:58.633710Z",
     "iopub.status.busy": "2024-01-05T23:00:58.633318Z",
     "iopub.status.idle": "2024-01-05T23:00:58.778820Z",
     "shell.execute_reply": "2024-01-05T23:00:58.777538Z"
    },
    "papermill": {
     "duration": 0.392732,
     "end_time": "2024-01-05T23:00:58.780954",
     "exception": false,
     "start_time": "2024-01-05T23:00:58.388222",
     "status": "completed"
    },
    "tags": []
   },
   "outputs": [
    {
     "name": "stdout",
     "output_type": "stream",
     "text": [
      "1/1 [==============================] - 0s 89ms/step\n"
     ]
    },
    {
     "data": {
      "text/plain": [
       "array([[0.  , 0.  , 0.  , 0.  , 0.  , 0.  , 0.  , 0.01, 0.  , 0.99],\n",
       "       [0.  , 0.  , 1.  , 0.  , 0.  , 0.  , 0.  , 0.  , 0.  , 0.  ],\n",
       "       [0.  , 1.  , 0.  , 0.  , 0.  , 0.  , 0.  , 0.  , 0.  , 0.  ],\n",
       "       [0.  , 1.  , 0.  , 0.  , 0.  , 0.  , 0.  , 0.  , 0.  , 0.  ],\n",
       "       [0.04, 0.  , 0.02, 0.  , 0.  , 0.  , 0.94, 0.  , 0.  , 0.  ]],\n",
       "      dtype=float32)"
      ]
     },
     "execution_count": 20,
     "metadata": {},
     "output_type": "execute_result"
    }
   ],
   "source": [
    "# Making predictions on the first five cases of the Test Set\n",
    "X_pred = X_test[:5]\n",
    "\n",
    "# Acquiring the Probabilites after passing through Softmax\n",
    "y_prob = model.predict(X_pred)\n",
    "y_prob.round(2)"
   ]
  },
  {
   "cell_type": "code",
   "execution_count": 21,
   "id": "63355824",
   "metadata": {
    "execution": {
     "iopub.execute_input": "2024-01-05T23:00:59.327141Z",
     "iopub.status.busy": "2024-01-05T23:00:59.326735Z",
     "iopub.status.idle": "2024-01-05T23:00:59.334484Z",
     "shell.execute_reply": "2024-01-05T23:00:59.332999Z"
    },
    "papermill": {
     "duration": 0.314016,
     "end_time": "2024-01-05T23:00:59.336672",
     "exception": false,
     "start_time": "2024-01-05T23:00:59.022656",
     "status": "completed"
    },
    "tags": []
   },
   "outputs": [
    {
     "data": {
      "text/plain": [
       "array([9, 2, 1, 1, 6])"
      ]
     },
     "execution_count": 21,
     "metadata": {},
     "output_type": "execute_result"
    }
   ],
   "source": [
    "import numpy as np\n",
    "\n",
    "# Converting the Probabilities to Classes\n",
    "y_pred = np.argmax(y_prob, axis=1)\n",
    "y_pred"
   ]
  },
  {
   "cell_type": "code",
   "execution_count": 22,
   "id": "f798ea62",
   "metadata": {
    "execution": {
     "iopub.execute_input": "2024-01-05T23:00:59.820124Z",
     "iopub.status.busy": "2024-01-05T23:00:59.819714Z",
     "iopub.status.idle": "2024-01-05T23:01:00.141462Z",
     "shell.execute_reply": "2024-01-05T23:01:00.139950Z"
    },
    "papermill": {
     "duration": 0.562239,
     "end_time": "2024-01-05T23:01:00.144467",
     "exception": false,
     "start_time": "2024-01-05T23:00:59.582228",
     "status": "completed"
    },
    "tags": []
   },
   "outputs": [
    {
     "data": {
      "image/png": "[encoded data removed]",
      "text/plain": [
       "<Figure size 720x240 with 5 Axes>"
      ]
     },
     "metadata": {},
     "output_type": "display_data"
    },
    {
     "data": {
      "text/plain": [
       "<Figure size 640x480 with 0 Axes>"
      ]
     },
     "metadata": {},
     "output_type": "display_data"
    }
   ],
   "source": [
    "# Adjusting the Plot\n",
    "plt.figure(figsize=(7.2, 2.4))\n",
    "\n",
    "for i in range(5):\n",
    "    plt.subplot(1, 5, i + 1)\n",
    "    plt.imshow(X_test[i], cmap=\"binary\", interpolation=\"nearest\")\n",
    "    plt.title(target_classes[y_pred[i]])\n",
    "    plt.axis(\"off\")\n",
    "\n",
    "plt.subplots_adjust(wspace=0.2, hspace=0.5)\n",
    "plt.show()\n",
    "plt.savefig(\"Predictions\")"
   ]
  },
  {
   "cell_type": "markdown",
   "id": "a63104df",
   "metadata": {
    "papermill": {
     "duration": 0.242371,
     "end_time": "2024-01-05T23:01:00.631086",
     "exception": false,
     "start_time": "2024-01-05T23:01:00.388715",
     "status": "completed"
    },
    "tags": []
   },
   "source": [
    "**Inference**\n",
    "- Atleast it got the first 5 predictions rt 😌\n",
    "- Scope for improving performance by hyper parameter tuning and implementing CNNs"
   ]
  },
  {
   "cell_type": "markdown",
   "id": "883feb2f",
   "metadata": {
    "papermill": {
     "duration": 0.236319,
     "end_time": "2024-01-05T23:01:01.105198",
     "exception": false,
     "start_time": "2024-01-05T23:01:00.868879",
     "status": "completed"
    },
    "tags": []
   },
   "source": [
    "## Building a **`House Price Prediction (Regression)`** using the **`TensorFlow Sequential API`**"
   ]
  },
  {
   "cell_type": "markdown",
   "id": "2bfc0813",
   "metadata": {
    "papermill": {
     "duration": 0.244057,
     "end_time": "2024-01-05T23:01:01.655034",
     "exception": false,
     "start_time": "2024-01-05T23:01:01.410977",
     "status": "completed"
    },
    "tags": []
   },
   "source": [
    "## Loading the Dataset"
   ]
  },
  {
   "cell_type": "code",
   "execution_count": 23,
   "id": "38597fd1",
   "metadata": {
    "execution": {
     "iopub.execute_input": "2024-01-05T23:01:02.132776Z",
     "iopub.status.busy": "2024-01-05T23:01:02.132028Z",
     "iopub.status.idle": "2024-01-05T23:01:03.729854Z",
     "shell.execute_reply": "2024-01-05T23:01:03.728546Z"
    },
    "papermill": {
     "duration": 1.838295,
     "end_time": "2024-01-05T23:01:03.732233",
     "exception": false,
     "start_time": "2024-01-05T23:01:01.893938",
     "status": "completed"
    },
    "tags": []
   },
   "outputs": [],
   "source": [
    "from sklearn.datasets import fetch_california_housing\n",
    "from sklearn.model_selection import train_test_split\n",
    "from sklearn.preprocessing import StandardScaler"
   ]
  },
  {
   "cell_type": "code",
   "execution_count": 24,
   "id": "ede38929",
   "metadata": {
    "execution": {
     "iopub.execute_input": "2024-01-05T23:01:04.238916Z",
     "iopub.status.busy": "2024-01-05T23:01:04.237922Z",
     "iopub.status.idle": "2024-01-05T23:01:04.725435Z",
     "shell.execute_reply": "2024-01-05T23:01:04.724273Z"
    },
    "papermill": {
     "duration": 0.743503,
     "end_time": "2024-01-05T23:01:04.728113",
     "exception": false,
     "start_time": "2024-01-05T23:01:03.984610",
     "status": "completed"
    },
    "tags": []
   },
   "outputs": [],
   "source": [
    "housing = fetch_california_housing()\n",
    "\n",
    "# Splitting the Dataset\n",
    "X_train_full, X_test, y_train_full, y_test = train_test_split(housing.data, housing.target)\n",
    "\n",
    "# Creating the Validation Set\n",
    "X_train, X_valid, y_train, y_valid = train_test_split(X_train_full, y_train_full)"
   ]
  },
  {
   "cell_type": "code",
   "execution_count": 25,
   "id": "4e9d2067",
   "metadata": {
    "execution": {
     "iopub.execute_input": "2024-01-05T23:01:05.267737Z",
     "iopub.status.busy": "2024-01-05T23:01:05.267365Z",
     "iopub.status.idle": "2024-01-05T23:01:05.273181Z",
     "shell.execute_reply": "2024-01-05T23:01:05.271829Z"
    },
    "papermill": {
     "duration": 0.308767,
     "end_time": "2024-01-05T23:01:05.275519",
     "exception": false,
     "start_time": "2024-01-05T23:01:04.966752",
     "status": "completed"
    },
    "tags": []
   },
   "outputs": [
    {
     "name": "stdout",
     "output_type": "stream",
     "text": [
      "X train shape:  (11610, 8)\n",
      "y train shape:  (11610,)\n",
      "X valid shape:  (3870, 8)\n",
      "y valid shape:  (3870,)\n",
      "X test shape:  (5160, 8)\n",
      "y test shape:  (5160,)\n"
     ]
    }
   ],
   "source": [
    "print(\"X train shape: \", X_train.shape)\n",
    "print(\"y train shape: \", y_train.shape)\n",
    "print(\"X valid shape: \", X_valid.shape)\n",
    "print(\"y valid shape: \", y_valid.shape)\n",
    "print(\"X test shape: \", X_test.shape)\n",
    "print(\"y test shape: \", y_test.shape)"
   ]
  },
  {
   "cell_type": "code",
   "execution_count": 26,
   "id": "39c87278",
   "metadata": {
    "execution": {
     "iopub.execute_input": "2024-01-05T23:01:05.757611Z",
     "iopub.status.busy": "2024-01-05T23:01:05.756591Z",
     "iopub.status.idle": "2024-01-05T23:01:05.766803Z",
     "shell.execute_reply": "2024-01-05T23:01:05.766145Z"
    },
    "papermill": {
     "duration": 0.252319,
     "end_time": "2024-01-05T23:01:05.769133",
     "exception": false,
     "start_time": "2024-01-05T23:01:05.516814",
     "status": "completed"
    },
    "tags": []
   },
   "outputs": [],
   "source": [
    "# Scaling the Features\n",
    "scaler = StandardScaler()\n",
    "X_train = scaler.fit_transform(X_train)\n",
    "X_valid = scaler.fit_transform(X_valid)\n",
    "X_test = scaler.fit_transform(X_test)"
   ]
  },
  {
   "cell_type": "markdown",
   "id": "b94c2511",
   "metadata": {
    "papermill": {
     "duration": 0.23976,
     "end_time": "2024-01-05T23:01:06.246743",
     "exception": false,
     "start_time": "2024-01-05T23:01:06.006983",
     "status": "completed"
    },
    "tags": []
   },
   "source": [
    "## Building the Model (Regression)"
   ]
  },
  {
   "cell_type": "code",
   "execution_count": 27,
   "id": "75a5532e",
   "metadata": {
    "execution": {
     "iopub.execute_input": "2024-01-05T23:01:06.740918Z",
     "iopub.status.busy": "2024-01-05T23:01:06.740233Z",
     "iopub.status.idle": "2024-01-05T23:01:06.828410Z",
     "shell.execute_reply": "2024-01-05T23:01:06.826708Z"
    },
    "papermill": {
     "duration": 0.336258,
     "end_time": "2024-01-05T23:01:06.830343",
     "exception": false,
     "start_time": "2024-01-05T23:01:06.494085",
     "status": "completed"
    },
    "tags": []
   },
   "outputs": [
    {
     "name": "stdout",
     "output_type": "stream",
     "text": [
      "Model: \"sequential_1\"\n",
      "_________________________________________________________________\n",
      " Layer (type)                Output Shape              Param #   \n",
      "=================================================================\n",
      " dense_3 (Dense)             (None, 50)                450       \n",
      "                                                                 \n",
      " dense_4 (Dense)             (None, 50)                2550      \n",
      "                                                                 \n",
      " dense_5 (Dense)             (None, 1)                 51        \n",
      "                                                                 \n",
      "=================================================================\n",
      "Total params: 3051 (11.92 KB)\n",
      "Trainable params: 3051 (11.92 KB)\n",
      "Non-trainable params: 0 (0.00 Byte)\n",
      "_________________________________________________________________\n"
     ]
    }
   ],
   "source": [
    "tf.random.set_seed(1730)\n",
    "\n",
    "model = tf.keras.models.Sequential([\n",
    "    tf.keras.layers.Dense(50, activation=\"relu\", input_shape=X_train.shape[1:]),\n",
    "    tf.keras.layers.Dense(50, activation=\"relu\"),\n",
    "    tf.keras.layers.Dense(1)\n",
    "])\n",
    "\n",
    "model.summary()"
   ]
  },
  {
   "cell_type": "markdown",
   "id": "e03b83eb",
   "metadata": {
    "papermill": {
     "duration": 0.245186,
     "end_time": "2024-01-05T23:01:07.371604",
     "exception": false,
     "start_time": "2024-01-05T23:01:07.126418",
     "status": "completed"
    },
    "tags": []
   },
   "source": [
    "## Compiling the Model (Regression)"
   ]
  },
  {
   "cell_type": "code",
   "execution_count": 28,
   "id": "c3c2a78a",
   "metadata": {
    "execution": {
     "iopub.execute_input": "2024-01-05T23:01:07.877119Z",
     "iopub.status.busy": "2024-01-05T23:01:07.876505Z",
     "iopub.status.idle": "2024-01-05T23:01:07.894884Z",
     "shell.execute_reply": "2024-01-05T23:01:07.893531Z"
    },
    "papermill": {
     "duration": 0.269159,
     "end_time": "2024-01-05T23:01:07.897868",
     "exception": false,
     "start_time": "2024-01-05T23:01:07.628709",
     "status": "completed"
    },
    "tags": []
   },
   "outputs": [],
   "source": [
    "model.compile(\n",
    "    loss=\"mse\",\n",
    "    optimizer=\"adam\",\n",
    "    metrics=[\"RootMeanSquaredError\"]\n",
    ")"
   ]
  },
  {
   "cell_type": "code",
   "execution_count": 29,
   "id": "ea55cb28",
   "metadata": {
    "execution": {
     "iopub.execute_input": "2024-01-05T23:01:08.389557Z",
     "iopub.status.busy": "2024-01-05T23:01:08.389120Z",
     "iopub.status.idle": "2024-01-05T23:01:49.984036Z",
     "shell.execute_reply": "2024-01-05T23:01:49.981930Z"
    },
    "papermill": {
     "duration": 41.841523,
     "end_time": "2024-01-05T23:01:49.987273",
     "exception": false,
     "start_time": "2024-01-05T23:01:08.145750",
     "status": "completed"
    },
    "tags": []
   },
   "outputs": [
    {
     "name": "stdout",
     "output_type": "stream",
     "text": [
      "Epoch 1/30\n",
      "363/363 [==============================] - 2s 3ms/step - loss: 0.9204 - root_mean_squared_error: 0.9594 - val_loss: 0.4308 - val_root_mean_squared_error: 0.6563\n",
      "Epoch 2/30\n",
      "363/363 [==============================] - 1s 3ms/step - loss: 0.4230 - root_mean_squared_error: 0.6504 - val_loss: 0.4238 - val_root_mean_squared_error: 0.6510\n",
      "Epoch 3/30\n",
      "363/363 [==============================] - 1s 3ms/step - loss: 0.3913 - root_mean_squared_error: 0.6255 - val_loss: 0.5239 - val_root_mean_squared_error: 0.7238\n",
      "Epoch 4/30\n",
      "363/363 [==============================] - 1s 3ms/step - loss: 0.3766 - root_mean_squared_error: 0.6137 - val_loss: 0.5475 - val_root_mean_squared_error: 0.7400\n",
      "Epoch 5/30\n",
      "363/363 [==============================] - 1s 3ms/step - loss: 0.3637 - root_mean_squared_error: 0.6031 - val_loss: 0.5750 - val_root_mean_squared_error: 0.7583\n",
      "Epoch 6/30\n",
      "363/363 [==============================] - 1s 3ms/step - loss: 0.3489 - root_mean_squared_error: 0.5907 - val_loss: 0.5993 - val_root_mean_squared_error: 0.7742\n",
      "Epoch 7/30\n",
      "363/363 [==============================] - 1s 3ms/step - loss: 0.3402 - root_mean_squared_error: 0.5833 - val_loss: 0.6858 - val_root_mean_squared_error: 0.8281\n",
      "Epoch 8/30\n",
      "363/363 [==============================] - 1s 3ms/step - loss: 0.3419 - root_mean_squared_error: 0.5847 - val_loss: 0.6658 - val_root_mean_squared_error: 0.8160\n",
      "Epoch 9/30\n",
      "363/363 [==============================] - 1s 3ms/step - loss: 0.3280 - root_mean_squared_error: 0.5727 - val_loss: 0.7878 - val_root_mean_squared_error: 0.8876\n",
      "Epoch 10/30\n",
      "363/363 [==============================] - 1s 3ms/step - loss: 0.3251 - root_mean_squared_error: 0.5702 - val_loss: 0.8081 - val_root_mean_squared_error: 0.8989\n",
      "Epoch 11/30\n",
      "363/363 [==============================] - 1s 3ms/step - loss: 0.3176 - root_mean_squared_error: 0.5635 - val_loss: 0.7700 - val_root_mean_squared_error: 0.8775\n",
      "Epoch 12/30\n",
      "363/363 [==============================] - 1s 3ms/step - loss: 0.3251 - root_mean_squared_error: 0.5701 - val_loss: 0.8664 - val_root_mean_squared_error: 0.9308\n",
      "Epoch 13/30\n",
      "363/363 [==============================] - 1s 3ms/step - loss: 0.3104 - root_mean_squared_error: 0.5572 - val_loss: 0.8992 - val_root_mean_squared_error: 0.9483\n",
      "Epoch 14/30\n",
      "363/363 [==============================] - 1s 3ms/step - loss: 0.3057 - root_mean_squared_error: 0.5529 - val_loss: 0.9769 - val_root_mean_squared_error: 0.9884\n",
      "Epoch 15/30\n",
      "363/363 [==============================] - 1s 3ms/step - loss: 0.3031 - root_mean_squared_error: 0.5505 - val_loss: 1.1488 - val_root_mean_squared_error: 1.0718\n",
      "Epoch 16/30\n",
      "363/363 [==============================] - 1s 3ms/step - loss: 0.3037 - root_mean_squared_error: 0.5511 - val_loss: 1.2296 - val_root_mean_squared_error: 1.1089\n",
      "Epoch 17/30\n",
      "363/363 [==============================] - 1s 3ms/step - loss: 0.3039 - root_mean_squared_error: 0.5513 - val_loss: 1.1965 - val_root_mean_squared_error: 1.0939\n",
      "Epoch 18/30\n",
      "363/363 [==============================] - 1s 3ms/step - loss: 0.2964 - root_mean_squared_error: 0.5444 - val_loss: 1.0523 - val_root_mean_squared_error: 1.0258\n",
      "Epoch 19/30\n",
      "363/363 [==============================] - 1s 3ms/step - loss: 0.3001 - root_mean_squared_error: 0.5478 - val_loss: 1.3320 - val_root_mean_squared_error: 1.1541\n",
      "Epoch 20/30\n",
      "363/363 [==============================] - 1s 3ms/step - loss: 0.3030 - root_mean_squared_error: 0.5505 - val_loss: 1.3503 - val_root_mean_squared_error: 1.1620\n",
      "Epoch 21/30\n",
      "363/363 [==============================] - 1s 3ms/step - loss: 0.2902 - root_mean_squared_error: 0.5387 - val_loss: 1.1709 - val_root_mean_squared_error: 1.0821\n",
      "Epoch 22/30\n",
      "363/363 [==============================] - 1s 3ms/step - loss: 0.2863 - root_mean_squared_error: 0.5350 - val_loss: 1.3865 - val_root_mean_squared_error: 1.1775\n",
      "Epoch 23/30\n",
      "363/363 [==============================] - 1s 3ms/step - loss: 0.2871 - root_mean_squared_error: 0.5358 - val_loss: 1.5588 - val_root_mean_squared_error: 1.2485\n",
      "Epoch 24/30\n",
      "363/363 [==============================] - 1s 3ms/step - loss: 0.2851 - root_mean_squared_error: 0.5339 - val_loss: 1.3996 - val_root_mean_squared_error: 1.1830\n",
      "Epoch 25/30\n",
      "363/363 [==============================] - 1s 3ms/step - loss: 0.2877 - root_mean_squared_error: 0.5364 - val_loss: 1.3884 - val_root_mean_squared_error: 1.1783\n",
      "Epoch 26/30\n",
      "363/363 [==============================] - 1s 3ms/step - loss: 0.2867 - root_mean_squared_error: 0.5354 - val_loss: 1.7702 - val_root_mean_squared_error: 1.3305\n",
      "Epoch 27/30\n",
      "363/363 [==============================] - 1s 3ms/step - loss: 0.2781 - root_mean_squared_error: 0.5273 - val_loss: 1.5193 - val_root_mean_squared_error: 1.2326\n",
      "Epoch 28/30\n",
      "363/363 [==============================] - 1s 3ms/step - loss: 0.2781 - root_mean_squared_error: 0.5273 - val_loss: 1.6985 - val_root_mean_squared_error: 1.3033\n",
      "Epoch 29/30\n",
      "363/363 [==============================] - 1s 3ms/step - loss: 0.2812 - root_mean_squared_error: 0.5302 - val_loss: 1.6535 - val_root_mean_squared_error: 1.2859\n",
      "Epoch 30/30\n",
      "363/363 [==============================] - 1s 3ms/step - loss: 0.2765 - root_mean_squared_error: 0.5258 - val_loss: 1.3759 - val_root_mean_squared_error: 1.1730\n"
     ]
    }
   ],
   "source": [
    "history = model.fit(X_train, y_train, validation_data=(X_valid, y_valid), epochs=30)"
   ]
  },
  {
   "cell_type": "markdown",
   "id": "b8e1b8f2",
   "metadata": {
    "papermill": {
     "duration": 0.272985,
     "end_time": "2024-01-05T23:01:50.532020",
     "exception": false,
     "start_time": "2024-01-05T23:01:50.259035",
     "status": "completed"
    },
    "tags": []
   },
   "source": [
    "## Making Predictions (Regression)"
   ]
  },
  {
   "cell_type": "code",
   "execution_count": 30,
   "id": "a132c8aa",
   "metadata": {
    "execution": {
     "iopub.execute_input": "2024-01-05T23:01:51.080393Z",
     "iopub.status.busy": "2024-01-05T23:01:51.079994Z",
     "iopub.status.idle": "2024-01-05T23:01:51.365458Z",
     "shell.execute_reply": "2024-01-05T23:01:51.364228Z"
    },
    "papermill": {
     "duration": 0.562449,
     "end_time": "2024-01-05T23:01:51.367535",
     "exception": false,
     "start_time": "2024-01-05T23:01:50.805086",
     "status": "completed"
    },
    "tags": []
   },
   "outputs": [
    {
     "name": "stdout",
     "output_type": "stream",
     "text": [
      "162/162 [==============================] - 0s 1ms/step - loss: 0.3931 - root_mean_squared_error: 0.6270\n"
     ]
    },
    {
     "data": {
      "text/plain": [
       "[0.39312127232551575, 0.6269938349723816]"
      ]
     },
     "execution_count": 30,
     "metadata": {},
     "output_type": "execute_result"
    }
   ],
   "source": [
    "model.evaluate(X_test, y_test)"
   ]
  },
  {
   "cell_type": "code",
   "execution_count": 31,
   "id": "d446d536",
   "metadata": {
    "execution": {
     "iopub.execute_input": "2024-01-05T23:01:51.917145Z",
     "iopub.status.busy": "2024-01-05T23:01:51.915632Z",
     "iopub.status.idle": "2024-01-05T23:01:52.027300Z",
     "shell.execute_reply": "2024-01-05T23:01:52.025687Z"
    },
    "papermill": {
     "duration": 0.387744,
     "end_time": "2024-01-05T23:01:52.029554",
     "exception": false,
     "start_time": "2024-01-05T23:01:51.641810",
     "status": "completed"
    },
    "tags": []
   },
   "outputs": [
    {
     "name": "stdout",
     "output_type": "stream",
     "text": [
      "1/1 [==============================] - 0s 53ms/step\n",
      "\n",
      "Predictions:\n",
      " [[4.066341 ]\n",
      " [1.9812613]\n",
      " [1.8310211]\n",
      " [2.3200588]\n",
      " [2.124248 ]]\n",
      "\n",
      "Targets:\n",
      " [3.216 1.295 2.865 2.741 2.594]\n"
     ]
    }
   ],
   "source": [
    "X_pred = X_test[:5]\n",
    "y_pred = model.predict(X_pred)\n",
    "print(\"\\nPredictions:\\n\", y_pred)\n",
    "print(\"\\nTargets:\\n\", y_test[:5])"
   ]
  },
  {
   "cell_type": "markdown",
   "id": "d9649ef6",
   "metadata": {
    "papermill": {
     "duration": 0.287353,
     "end_time": "2024-01-05T23:01:52.660637",
     "exception": false,
     "start_time": "2024-01-05T23:01:52.373284",
     "status": "completed"
    },
    "tags": []
   },
   "source": [
    "**Inference**\n",
    "- Seems pretty close 😌\n",
    "- Can yeild better results with hyperparameter tuning "
   ]
  },
  {
   "cell_type": "code",
   "execution_count": 32,
   "id": "a7438dd3",
   "metadata": {
    "execution": {
     "iopub.execute_input": "2024-01-05T23:01:53.203901Z",
     "iopub.status.busy": "2024-01-05T23:01:53.203310Z",
     "iopub.status.idle": "2024-01-05T23:01:53.424254Z",
     "shell.execute_reply": "2024-01-05T23:01:53.423227Z"
    },
    "papermill": {
     "duration": 0.495626,
     "end_time": "2024-01-05T23:01:53.426257",
     "exception": false,
     "start_time": "2024-01-05T23:01:52.930631",
     "status": "completed"
    },
    "tags": []
   },
   "outputs": [
    {
     "data": {
      "image/png": "[encoded data removed]",
      "text/plain": [
       "<Figure size 800x600 with 1 Axes>"
      ]
     },
     "metadata": {},
     "output_type": "display_data"
    }
   ],
   "source": [
    "pd.DataFrame(history.history).plot(\n",
    "    figsize=(8, 6), xlim=[0, 29], ylim=[0, 1], grid=True, xlabel=\"Epochs\"\n",
    ")\n",
    "\n",
    "plt.show()"
   ]
  }
 ],
 "metadata": {
  "kaggle": {
   "accelerator": "none",
   "dataSources": [],
   "dockerImageVersionId": 30626,
   "isGpuEnabled": false,
   "isInternetEnabled": true,
   "language": "python",
   "sourceType": "notebook"
  },
  "kernelspec": {
   "display_name": "Python 3",
   "language": "python",
   "name": "python3"
  },
  "language_info": {
   "codemirror_mode": {
    "name": "ipython",
    "version": 3
   },
   "file_extension": ".py",
   "mimetype": "text/x-python",
   "name": "python",
   "nbconvert_exporter": "python",
   "pygments_lexer": "ipython3",
   "version": "3.10.12"
  },
  "papermill": {
   "default_parameters": {},
   "duration": 283.542848,
   "end_time": "2024-01-05T23:01:56.304822",
   "environment_variables": {},
   "exception": null,
   "input_path": "__notebook__.ipynb",
   "output_path": "__notebook__.ipynb",
   "parameters": {},
   "start_time": "2024-01-05T22:57:12.761974",
   "version": "2.4.0"
  }
 },
 "nbformat": 4,
 "nbformat_minor": 5
}
